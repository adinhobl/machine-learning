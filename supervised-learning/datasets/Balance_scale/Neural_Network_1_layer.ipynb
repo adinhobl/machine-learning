{
 "cells": [
  {
   "cell_type": "markdown",
   "metadata": {},
   "source": [
    "# Imports"
   ]
  },
  {
   "cell_type": "code",
   "execution_count": 1,
   "metadata": {},
   "outputs": [],
   "source": [
    "using DataFrames\n",
    "using CSV\n",
    "using MLJ\n",
    "using Flux\n",
    "using Plots\n",
    "using StatsBase\n",
    "using MLJ: confusion_matrix\n",
    "\n",
    "include(\"../../lib.jl\")\n",
    "\n",
    "ENV[\"LINES\"]=30;"
   ]
  },
  {
   "cell_type": "code",
   "execution_count": 2,
   "metadata": {},
   "outputs": [
    {
     "ename": "LoadError",
     "evalue": "IOError: mkdir: file already exists (EEXIST)",
     "output_type": "error",
     "traceback": [
      "IOError: mkdir: file already exists (EEXIST)",
      "",
      "Stacktrace:",
      " [1] uv_error at ./libuv.jl:97 [inlined]",
      " [2] mkdir(::String; mode::UInt16) at ./file.jl:177",
      " [3] mkdir(::String) at ./file.jl:170",
      " [4] top-level scope at In[2]:1",
      " [5] include_string(::Function, ::Module, ::String, ::String) at ./loading.jl:1091"
     ]
    }
   ],
   "source": [
    "mkdir(\"./Figures\")"
   ]
  },
  {
   "cell_type": "markdown",
   "metadata": {},
   "source": [
    "# Datasets"
   ]
  },
  {
   "cell_type": "code",
   "execution_count": 3,
   "metadata": {
    "scrolled": true
   },
   "outputs": [
    {
     "data": {
      "text/html": [
       "<table class=\"data-frame\"><thead><tr><th></th><th>Class_Name</th><th>Left_Weight</th><th>Left_Distance</th><th>Right_Weight</th><th>Right_Distance</th></tr><tr><th></th><th>String</th><th>Int64</th><th>Int64</th><th>Int64</th><th>Int64</th></tr></thead><tbody><p>625 rows × 5 columns</p><tr><th>1</th><td>B</td><td>1</td><td>1</td><td>1</td><td>1</td></tr><tr><th>2</th><td>R</td><td>1</td><td>1</td><td>1</td><td>2</td></tr><tr><th>3</th><td>R</td><td>1</td><td>1</td><td>1</td><td>3</td></tr><tr><th>4</th><td>R</td><td>1</td><td>1</td><td>1</td><td>4</td></tr><tr><th>5</th><td>R</td><td>1</td><td>1</td><td>1</td><td>5</td></tr><tr><th>6</th><td>R</td><td>1</td><td>1</td><td>2</td><td>1</td></tr><tr><th>7</th><td>R</td><td>1</td><td>1</td><td>2</td><td>2</td></tr><tr><th>8</th><td>R</td><td>1</td><td>1</td><td>2</td><td>3</td></tr><tr><th>9</th><td>R</td><td>1</td><td>1</td><td>2</td><td>4</td></tr><tr><th>10</th><td>R</td><td>1</td><td>1</td><td>2</td><td>5</td></tr><tr><th>11</th><td>R</td><td>1</td><td>1</td><td>3</td><td>1</td></tr><tr><th>12</th><td>R</td><td>1</td><td>1</td><td>3</td><td>2</td></tr><tr><th>13</th><td>R</td><td>1</td><td>1</td><td>3</td><td>3</td></tr><tr><th>14</th><td>R</td><td>1</td><td>1</td><td>3</td><td>4</td></tr><tr><th>15</th><td>R</td><td>1</td><td>1</td><td>3</td><td>5</td></tr><tr><th>16</th><td>R</td><td>1</td><td>1</td><td>4</td><td>1</td></tr><tr><th>17</th><td>R</td><td>1</td><td>1</td><td>4</td><td>2</td></tr><tr><th>18</th><td>R</td><td>1</td><td>1</td><td>4</td><td>3</td></tr><tr><th>19</th><td>R</td><td>1</td><td>1</td><td>4</td><td>4</td></tr><tr><th>20</th><td>R</td><td>1</td><td>1</td><td>4</td><td>5</td></tr><tr><th>21</th><td>R</td><td>1</td><td>1</td><td>5</td><td>1</td></tr><tr><th>22</th><td>R</td><td>1</td><td>1</td><td>5</td><td>2</td></tr><tr><th>23</th><td>R</td><td>1</td><td>1</td><td>5</td><td>3</td></tr><tr><th>24</th><td>R</td><td>1</td><td>1</td><td>5</td><td>4</td></tr><tr><th>25</th><td>R</td><td>1</td><td>1</td><td>5</td><td>5</td></tr><tr><th>26</th><td>L</td><td>1</td><td>2</td><td>1</td><td>1</td></tr><tr><th>27</th><td>B</td><td>1</td><td>2</td><td>1</td><td>2</td></tr><tr><th>28</th><td>R</td><td>1</td><td>2</td><td>1</td><td>3</td></tr><tr><th>29</th><td>R</td><td>1</td><td>2</td><td>1</td><td>4</td></tr><tr><th>30</th><td>R</td><td>1</td><td>2</td><td>1</td><td>5</td></tr><tr><th>&vellip;</th><td>&vellip;</td><td>&vellip;</td><td>&vellip;</td><td>&vellip;</td><td>&vellip;</td></tr></tbody></table>"
      ],
      "text/latex": [
       "\\begin{tabular}{r|ccccc}\n",
       "\t& Class\\_Name & Left\\_Weight & Left\\_Distance & Right\\_Weight & Right\\_Distance\\\\\n",
       "\t\\hline\n",
       "\t& String & Int64 & Int64 & Int64 & Int64\\\\\n",
       "\t\\hline\n",
       "\t1 & B & 1 & 1 & 1 & 1 \\\\\n",
       "\t2 & R & 1 & 1 & 1 & 2 \\\\\n",
       "\t3 & R & 1 & 1 & 1 & 3 \\\\\n",
       "\t4 & R & 1 & 1 & 1 & 4 \\\\\n",
       "\t5 & R & 1 & 1 & 1 & 5 \\\\\n",
       "\t6 & R & 1 & 1 & 2 & 1 \\\\\n",
       "\t7 & R & 1 & 1 & 2 & 2 \\\\\n",
       "\t8 & R & 1 & 1 & 2 & 3 \\\\\n",
       "\t9 & R & 1 & 1 & 2 & 4 \\\\\n",
       "\t10 & R & 1 & 1 & 2 & 5 \\\\\n",
       "\t11 & R & 1 & 1 & 3 & 1 \\\\\n",
       "\t12 & R & 1 & 1 & 3 & 2 \\\\\n",
       "\t13 & R & 1 & 1 & 3 & 3 \\\\\n",
       "\t14 & R & 1 & 1 & 3 & 4 \\\\\n",
       "\t15 & R & 1 & 1 & 3 & 5 \\\\\n",
       "\t16 & R & 1 & 1 & 4 & 1 \\\\\n",
       "\t17 & R & 1 & 1 & 4 & 2 \\\\\n",
       "\t18 & R & 1 & 1 & 4 & 3 \\\\\n",
       "\t19 & R & 1 & 1 & 4 & 4 \\\\\n",
       "\t20 & R & 1 & 1 & 4 & 5 \\\\\n",
       "\t21 & R & 1 & 1 & 5 & 1 \\\\\n",
       "\t22 & R & 1 & 1 & 5 & 2 \\\\\n",
       "\t23 & R & 1 & 1 & 5 & 3 \\\\\n",
       "\t24 & R & 1 & 1 & 5 & 4 \\\\\n",
       "\t25 & R & 1 & 1 & 5 & 5 \\\\\n",
       "\t26 & L & 1 & 2 & 1 & 1 \\\\\n",
       "\t27 & B & 1 & 2 & 1 & 2 \\\\\n",
       "\t28 & R & 1 & 2 & 1 & 3 \\\\\n",
       "\t29 & R & 1 & 2 & 1 & 4 \\\\\n",
       "\t30 & R & 1 & 2 & 1 & 5 \\\\\n",
       "\t$\\dots$ & $\\dots$ & $\\dots$ & $\\dots$ & $\\dots$ & $\\dots$ \\\\\n",
       "\\end{tabular}\n"
      ],
      "text/plain": [
       "625×5 DataFrame. Omitted printing of 1 columns\n",
       "│ Row │ Class_Name │ Left_Weight │ Left_Distance │ Right_Weight │\n",
       "│     │ \u001b[90mString\u001b[39m     │ \u001b[90mInt64\u001b[39m       │ \u001b[90mInt64\u001b[39m         │ \u001b[90mInt64\u001b[39m        │\n",
       "├─────┼────────────┼─────────────┼───────────────┼──────────────┤\n",
       "│ 1   │ B          │ 1           │ 1             │ 1            │\n",
       "│ 2   │ R          │ 1           │ 1             │ 1            │\n",
       "│ 3   │ R          │ 1           │ 1             │ 1            │\n",
       "│ 4   │ R          │ 1           │ 1             │ 1            │\n",
       "│ 5   │ R          │ 1           │ 1             │ 1            │\n",
       "│ 6   │ R          │ 1           │ 1             │ 2            │\n",
       "│ 7   │ R          │ 1           │ 1             │ 2            │\n",
       "│ 8   │ R          │ 1           │ 1             │ 2            │\n",
       "│ 9   │ R          │ 1           │ 1             │ 2            │\n",
       "│ 10  │ R          │ 1           │ 1             │ 2            │\n",
       "⋮\n",
       "│ 615 │ L          │ 5           │ 5             │ 3            │\n",
       "│ 616 │ L          │ 5           │ 5             │ 4            │\n",
       "│ 617 │ L          │ 5           │ 5             │ 4            │\n",
       "│ 618 │ L          │ 5           │ 5             │ 4            │\n",
       "│ 619 │ L          │ 5           │ 5             │ 4            │\n",
       "│ 620 │ L          │ 5           │ 5             │ 4            │\n",
       "│ 621 │ L          │ 5           │ 5             │ 5            │\n",
       "│ 622 │ L          │ 5           │ 5             │ 5            │\n",
       "│ 623 │ L          │ 5           │ 5             │ 5            │\n",
       "│ 624 │ L          │ 5           │ 5             │ 5            │\n",
       "│ 625 │ B          │ 5           │ 5             │ 5            │"
      ]
     },
     "execution_count": 3,
     "metadata": {},
     "output_type": "execute_result"
    }
   ],
   "source": [
    "data = CSV.read(\"data.csv\")"
   ]
  },
  {
   "cell_type": "code",
   "execution_count": 4,
   "metadata": {
    "scrolled": true
   },
   "outputs": [
    {
     "data": {
      "text/html": [
       "<table class=\"data-frame\"><thead><tr><th></th><th>variable</th><th>mean</th><th>min</th><th>median</th><th>max</th><th>nunique</th><th>nmissing</th><th>eltype</th></tr><tr><th></th><th>Symbol</th><th>Union…</th><th>Any</th><th>Union…</th><th>Any</th><th>Union…</th><th>Nothing</th><th>DataType</th></tr></thead><tbody><p>5 rows × 8 columns</p><tr><th>1</th><td>Class_Name</td><td></td><td>B</td><td></td><td>R</td><td>3</td><td></td><td>String</td></tr><tr><th>2</th><td>Left_Weight</td><td>3.0</td><td>1</td><td>3.0</td><td>5</td><td></td><td></td><td>Int64</td></tr><tr><th>3</th><td>Left_Distance</td><td>3.0</td><td>1</td><td>3.0</td><td>5</td><td></td><td></td><td>Int64</td></tr><tr><th>4</th><td>Right_Weight</td><td>3.0</td><td>1</td><td>3.0</td><td>5</td><td></td><td></td><td>Int64</td></tr><tr><th>5</th><td>Right_Distance</td><td>3.0</td><td>1</td><td>3.0</td><td>5</td><td></td><td></td><td>Int64</td></tr></tbody></table>"
      ],
      "text/latex": [
       "\\begin{tabular}{r|cccccccc}\n",
       "\t& variable & mean & min & median & max & nunique & nmissing & eltype\\\\\n",
       "\t\\hline\n",
       "\t& Symbol & Union… & Any & Union… & Any & Union… & Nothing & DataType\\\\\n",
       "\t\\hline\n",
       "\t1 & Class\\_Name &  & B &  & R & 3 &  & String \\\\\n",
       "\t2 & Left\\_Weight & 3.0 & 1 & 3.0 & 5 &  &  & Int64 \\\\\n",
       "\t3 & Left\\_Distance & 3.0 & 1 & 3.0 & 5 &  &  & Int64 \\\\\n",
       "\t4 & Right\\_Weight & 3.0 & 1 & 3.0 & 5 &  &  & Int64 \\\\\n",
       "\t5 & Right\\_Distance & 3.0 & 1 & 3.0 & 5 &  &  & Int64 \\\\\n",
       "\\end{tabular}\n"
      ],
      "text/plain": [
       "5×8 DataFrame. Omitted printing of 1 columns\n",
       "│ Row │ variable       │ mean   │ min │ median │ max │ nunique │ nmissing │\n",
       "│     │ \u001b[90mSymbol\u001b[39m         │ \u001b[90mUnion…\u001b[39m │ \u001b[90mAny\u001b[39m │ \u001b[90mUnion…\u001b[39m │ \u001b[90mAny\u001b[39m │ \u001b[90mUnion…\u001b[39m  │ \u001b[90mNothing\u001b[39m  │\n",
       "├─────┼────────────────┼────────┼─────┼────────┼─────┼─────────┼──────────┤\n",
       "│ 1   │ Class_Name     │        │ B   │        │ R   │ 3       │          │\n",
       "│ 2   │ Left_Weight    │ 3.0    │ 1   │ 3.0    │ 5   │         │          │\n",
       "│ 3   │ Left_Distance  │ 3.0    │ 1   │ 3.0    │ 5   │         │          │\n",
       "│ 4   │ Right_Weight   │ 3.0    │ 1   │ 3.0    │ 5   │         │          │\n",
       "│ 5   │ Right_Distance │ 3.0    │ 1   │ 3.0    │ 5   │         │          │"
      ]
     },
     "execution_count": 4,
     "metadata": {},
     "output_type": "execute_result"
    }
   ],
   "source": [
    "describe(data)"
   ]
  },
  {
   "cell_type": "markdown",
   "metadata": {},
   "source": [
    "Look at class labels to see if dataset is imbalanced"
   ]
  },
  {
   "cell_type": "code",
   "execution_count": 5,
   "metadata": {},
   "outputs": [
    {
     "data": {
      "text/plain": [
       "Dict{String,Int64} with 3 entries:\n",
       "  \"B\" => 49\n",
       "  \"L\" => 288\n",
       "  \"R\" => 288"
      ]
     },
     "execution_count": 5,
     "metadata": {},
     "output_type": "execute_result"
    }
   ],
   "source": [
    "label_counts = countmap(data[:Class_Name])"
   ]
  },
  {
   "cell_type": "code",
   "execution_count": 6,
   "metadata": {},
   "outputs": [
    {
     "data": {
      "text/plain": [
       "3-element Array{Float64,1}:\n",
       " 0.0784\n",
       " 0.4608\n",
       " 0.4608"
      ]
     },
     "execution_count": 6,
     "metadata": {},
     "output_type": "execute_result"
    }
   ],
   "source": [
    "collect(label_counts[i] / size(data)[1] for i in keys(label_counts))"
   ]
  },
  {
   "cell_type": "markdown",
   "metadata": {},
   "source": [
    "Get data ready for training"
   ]
  },
  {
   "cell_type": "code",
   "execution_count": 7,
   "metadata": {
    "scrolled": true
   },
   "outputs": [
    {
     "data": {
      "text/plain": [
       "┌\u001b[0m────────────────\u001b[0m┬\u001b[0m─────────────────────────────────\u001b[0m┬\u001b[0m───────────────\u001b[0m┐\u001b[0m\n",
       "│\u001b[0m\u001b[22m _.names        \u001b[0m│\u001b[0m\u001b[22m _.types                         \u001b[0m│\u001b[0m\u001b[22m _.scitypes    \u001b[0m│\u001b[0m\n",
       "├\u001b[0m────────────────\u001b[0m┼\u001b[0m─────────────────────────────────\u001b[0m┼\u001b[0m───────────────\u001b[0m┤\u001b[0m\n",
       "│\u001b[0m Class_Name     \u001b[0m│\u001b[0m CategoricalValue{String,UInt32} \u001b[0m│\u001b[0m Multiclass{3} \u001b[0m│\u001b[0m\n",
       "│\u001b[0m Left_Weight    \u001b[0m│\u001b[0m Float64                         \u001b[0m│\u001b[0m Continuous    \u001b[0m│\u001b[0m\n",
       "│\u001b[0m Left_Distance  \u001b[0m│\u001b[0m Float64                         \u001b[0m│\u001b[0m Continuous    \u001b[0m│\u001b[0m\n",
       "│\u001b[0m Right_Weight   \u001b[0m│\u001b[0m Float64                         \u001b[0m│\u001b[0m Continuous    \u001b[0m│\u001b[0m\n",
       "│\u001b[0m Right_Distance \u001b[0m│\u001b[0m Float64                         \u001b[0m│\u001b[0m Continuous    \u001b[0m│\u001b[0m\n",
       "└\u001b[0m────────────────\u001b[0m┴\u001b[0m─────────────────────────────────\u001b[0m┴\u001b[0m───────────────\u001b[0m┘\u001b[0m\n",
       "_.nrows = 625\n"
      ]
     },
     "execution_count": 7,
     "metadata": {},
     "output_type": "execute_result"
    }
   ],
   "source": [
    "coerce!(data, :Class_Name=>Multiclass,\n",
    "              :Left_Weight=>Continuous,\n",
    "              :Right_Weight=>Continuous,\n",
    "              :Left_Distance=>Continuous,\n",
    "              :Right_Distance=>Continuous)\n",
    "schema(data)"
   ]
  },
  {
   "cell_type": "code",
   "execution_count": 8,
   "metadata": {
    "scrolled": true
   },
   "outputs": [
    {
     "data": {
      "text/plain": [
       "(CategoricalValue{String,UInt32}[\"B\", \"R\", \"R\", \"R\", \"R\", \"R\", \"R\", \"R\", \"R\", \"R\"  …  \"L\", \"L\", \"L\", \"L\", \"L\", \"L\", \"L\", \"L\", \"L\", \"B\"], 625×4 DataFrame\n",
       "│ Row │ Left_Weight │ Left_Distance │ Right_Weight │ Right_Distance │\n",
       "│     │ \u001b[90mFloat64\u001b[39m     │ \u001b[90mFloat64\u001b[39m       │ \u001b[90mFloat64\u001b[39m      │ \u001b[90mFloat64\u001b[39m        │\n",
       "├─────┼─────────────┼───────────────┼──────────────┼────────────────┤\n",
       "│ 1   │ 1.0         │ 1.0           │ 1.0          │ 1.0            │\n",
       "│ 2   │ 1.0         │ 1.0           │ 1.0          │ 2.0            │\n",
       "│ 3   │ 1.0         │ 1.0           │ 1.0          │ 3.0            │\n",
       "│ 4   │ 1.0         │ 1.0           │ 1.0          │ 4.0            │\n",
       "│ 5   │ 1.0         │ 1.0           │ 1.0          │ 5.0            │\n",
       "│ 6   │ 1.0         │ 1.0           │ 2.0          │ 1.0            │\n",
       "│ 7   │ 1.0         │ 1.0           │ 2.0          │ 2.0            │\n",
       "│ 8   │ 1.0         │ 1.0           │ 2.0          │ 3.0            │\n",
       "│ 9   │ 1.0         │ 1.0           │ 2.0          │ 4.0            │\n",
       "│ 10  │ 1.0         │ 1.0           │ 2.0          │ 5.0            │\n",
       "⋮\n",
       "│ 615 │ 5.0         │ 5.0           │ 3.0          │ 5.0            │\n",
       "│ 616 │ 5.0         │ 5.0           │ 4.0          │ 1.0            │\n",
       "│ 617 │ 5.0         │ 5.0           │ 4.0          │ 2.0            │\n",
       "│ 618 │ 5.0         │ 5.0           │ 4.0          │ 3.0            │\n",
       "│ 619 │ 5.0         │ 5.0           │ 4.0          │ 4.0            │\n",
       "│ 620 │ 5.0         │ 5.0           │ 4.0          │ 5.0            │\n",
       "│ 621 │ 5.0         │ 5.0           │ 5.0          │ 1.0            │\n",
       "│ 622 │ 5.0         │ 5.0           │ 5.0          │ 2.0            │\n",
       "│ 623 │ 5.0         │ 5.0           │ 5.0          │ 3.0            │\n",
       "│ 624 │ 5.0         │ 5.0           │ 5.0          │ 4.0            │\n",
       "│ 625 │ 5.0         │ 5.0           │ 5.0          │ 5.0            │)"
      ]
     },
     "execution_count": 8,
     "metadata": {},
     "output_type": "execute_result"
    }
   ],
   "source": [
    "y, X = unpack(data, ==(:Class_Name), colname->true)"
   ]
  },
  {
   "cell_type": "markdown",
   "metadata": {},
   "source": [
    "Partition train and test data accoring to class labels"
   ]
  },
  {
   "cell_type": "code",
   "execution_count": 9,
   "metadata": {},
   "outputs": [
    {
     "data": {
      "text/plain": [
       "([595, 102, 55, 568, 425, 389, 146, 63, 372, 250  …  195, 500, 571, 533, 112, 396, 297, 106, 303, 261], [444, 144, 546, 43, 19, 173, 365, 423, 27, 218  …  293, 614, 90, 471, 13, 134, 296, 79, 395, 415])"
      ]
     },
     "execution_count": 9,
     "metadata": {},
     "output_type": "execute_result"
    }
   ],
   "source": [
    "# data to use when trying to fit a single validation set\n",
    "train, test = partition(eachindex(y), 0.7, shuffle=true, rng=123, stratify=values(data[:Class_Name])) # gives 70:30 split"
   ]
  },
  {
   "cell_type": "code",
   "execution_count": 10,
   "metadata": {
    "scrolled": false
   },
   "outputs": [
    {
     "data": {
      "text/plain": [
       "3-element Array{Float64,1}:\n",
       " 0.0776255707762557\n",
       " 0.4611872146118721\n",
       " 0.4611872146118721"
      ]
     },
     "execution_count": 10,
     "metadata": {},
     "output_type": "execute_result"
    }
   ],
   "source": [
    "train_counts = countmap(data[train,:Class_Name])\n",
    "collect(train_counts[i] / size(train)[1] for i in keys(train_counts))"
   ]
  },
  {
   "cell_type": "code",
   "execution_count": 11,
   "metadata": {
    "scrolled": false
   },
   "outputs": [
    {
     "data": {
      "text/plain": [
       "3-element Array{Float64,1}:\n",
       " 0.08021390374331551\n",
       " 0.45989304812834225\n",
       " 0.45989304812834225"
      ]
     },
     "execution_count": 11,
     "metadata": {},
     "output_type": "execute_result"
    }
   ],
   "source": [
    "test_counts = countmap(data[test,:Class_Name])\n",
    "collect(test_counts[i] / size(test)[1] for i in keys(test_counts))"
   ]
  },
  {
   "cell_type": "markdown",
   "metadata": {},
   "source": [
    "# Five Learning Algorithms\n",
    "\n",
    "* Decision trees with some form of pruning\n",
    "* Neural networks\n",
    "* Boosting\n",
    "* Support Vector Machines\n",
    "* k-nearest neighbors\n",
    "\n",
    "\n",
    "##### Testing\n",
    "* Implement the algorithms\n",
    "* Design two *interesting* classification problems. For the purposes of this assignment, a classification problem is just a set of training examples and a set of test examples."
   ]
  },
  {
   "cell_type": "code",
   "execution_count": 12,
   "metadata": {
    "scrolled": true
   },
   "outputs": [
    {
     "data": {
      "text/plain": [
       "42-element Array{NamedTuple{(:name, :package_name, :is_supervised, :docstring, :hyperparameter_ranges, :hyperparameter_types, :hyperparameters, :implemented_methods, :is_pure_julia, :is_wrapper, :load_path, :package_license, :package_url, :package_uuid, :prediction_type, :supports_online, :supports_weights, :input_scitype, :target_scitype, :output_scitype),T} where T<:Tuple,1}:\n",
       " (name = AdaBoostClassifier, package_name = ScikitLearn, ... )\n",
       " (name = AdaBoostStumpClassifier, package_name = DecisionTree, ... )\n",
       " (name = BaggingClassifier, package_name = ScikitLearn, ... )\n",
       " (name = BayesianLDA, package_name = MultivariateStats, ... )\n",
       " (name = BayesianLDA, package_name = ScikitLearn, ... )\n",
       " (name = BayesianQDA, package_name = ScikitLearn, ... )\n",
       " (name = BayesianSubspaceLDA, package_name = MultivariateStats, ... )\n",
       " (name = ConstantClassifier, package_name = MLJModels, ... )\n",
       " (name = DecisionTreeClassifier, package_name = DecisionTree, ... )\n",
       " (name = DeterministicConstantClassifier, package_name = MLJModels, ... )\n",
       " (name = DummyClassifier, package_name = ScikitLearn, ... )\n",
       " (name = EvoTreeClassifier, package_name = EvoTrees, ... )\n",
       " (name = ExtraTreesClassifier, package_name = ScikitLearn, ... )\n",
       " ⋮\n",
       " (name = ProbabilisticSGDClassifier, package_name = ScikitLearn, ... )\n",
       " (name = RandomForestClassifier, package_name = DecisionTree, ... )\n",
       " (name = RandomForestClassifier, package_name = ScikitLearn, ... )\n",
       " (name = RidgeCVClassifier, package_name = ScikitLearn, ... )\n",
       " (name = RidgeClassifier, package_name = ScikitLearn, ... )\n",
       " (name = SGDClassifier, package_name = ScikitLearn, ... )\n",
       " (name = SVC, package_name = LIBSVM, ... )\n",
       " (name = SVMClassifier, package_name = ScikitLearn, ... )\n",
       " (name = SVMLinearClassifier, package_name = ScikitLearn, ... )\n",
       " (name = SVMNuClassifier, package_name = ScikitLearn, ... )\n",
       " (name = SubspaceLDA, package_name = MultivariateStats, ... )\n",
       " (name = XGBoostClassifier, package_name = XGBoost, ... )"
      ]
     },
     "execution_count": 12,
     "metadata": {},
     "output_type": "execute_result"
    }
   ],
   "source": [
    "models(matching(X,y))"
   ]
  },
  {
   "cell_type": "code",
   "execution_count": 13,
   "metadata": {},
   "outputs": [
    {
     "name": "stdout",
     "output_type": "stream",
     "text": [
      "import MLJFlux "
     ]
    },
    {
     "name": "stderr",
     "output_type": "stream",
     "text": [
      "┌ Info: Loading into module \"Main\": \n",
      "└ @ MLJModels /home/andrew/.julia/packages/MLJModels/mUBFt/src/loading.jl:70\n"
     ]
    },
    {
     "name": "stdout",
     "output_type": "stream",
     "text": [
      "✔\n",
      "import MLJFlux ✔\n"
     ]
    },
    {
     "data": {
      "text/plain": [
       "NeuralNetworkClassifier(\n",
       "    builder = Short(\n",
       "            n_hidden = 0,\n",
       "            dropout = 0.5,\n",
       "            σ = NNlib.σ),\n",
       "    finaliser = NNlib.softmax,\n",
       "    optimiser = ADAM(0.001, (0.9, 0.999), IdDict{Any,Any}()),\n",
       "    loss = Flux.crossentropy,\n",
       "    epochs = 10,\n",
       "    batch_size = 1,\n",
       "    lambda = 0.0,\n",
       "    alpha = 0.0,\n",
       "    optimiser_changes_trigger_retraining = false)\u001b[34m @411\u001b[39m"
      ]
     },
     "execution_count": 13,
     "metadata": {},
     "output_type": "execute_result"
    }
   ],
   "source": [
    "@load NeuralNetworkClassifier verbosity=2"
   ]
  },
  {
   "cell_type": "markdown",
   "metadata": {},
   "source": [
    "## Neural networks\n",
    "* Use favorite kind of network and training algorithm. \n",
    "* You may use networks of nodes with as many layers as you like and any activation function you see fit.\n",
    "\n",
    "1. https://github.com/alan-turing-institute/MLJFlux.jl/blob/master/examples/boston.ipynb\n",
    "1. https://github.com/alan-turing-institute/MLJFlux.jl\n",
    "1. https://alan-turing-institute.github.io/MLJ.jl/dev/transformers/"
   ]
  },
  {
   "cell_type": "code",
   "execution_count": 14,
   "metadata": {},
   "outputs": [],
   "source": [
    "# Define a custom network\n",
    "mutable struct CustomNN <:MLJFlux.Builder\n",
    "    n1 ::Int\n",
    "end"
   ]
  },
  {
   "cell_type": "code",
   "execution_count": 15,
   "metadata": {},
   "outputs": [],
   "source": [
    "function MLJFlux.build(nn::CustomNN, n_in, n_out)\n",
    "    return Chain(\n",
    "        Flux.Dense(n_in, nn.n1, σ),\n",
    "        Flux.Dense(nn.n1, n_out, σ)\n",
    "    )\n",
    "end"
   ]
  },
  {
   "cell_type": "code",
   "execution_count": 16,
   "metadata": {},
   "outputs": [
    {
     "data": {
      "text/plain": [
       "80"
      ]
     },
     "execution_count": 16,
     "metadata": {},
     "output_type": "execute_result"
    }
   ],
   "source": [
    "layer1 = 80"
   ]
  },
  {
   "cell_type": "code",
   "execution_count": 17,
   "metadata": {},
   "outputs": [],
   "source": [
    "batch_sz = 32;"
   ]
  },
  {
   "cell_type": "code",
   "execution_count": 18,
   "metadata": {},
   "outputs": [],
   "source": [
    "max_epochs = 3000;"
   ]
  },
  {
   "cell_type": "markdown",
   "metadata": {},
   "source": [
    "### No-preprocessing"
   ]
  },
  {
   "cell_type": "code",
   "execution_count": 19,
   "metadata": {},
   "outputs": [
    {
     "data": {
      "text/plain": [
       "NeuralNetworkClassifier(\n",
       "    builder = CustomNN(\n",
       "            n1 = 80),\n",
       "    finaliser = NNlib.softmax,\n",
       "    optimiser = ADAM(0.001, (0.9, 0.999), IdDict{Any,Any}()),\n",
       "    loss = Flux.crossentropy,\n",
       "    epochs = 10,\n",
       "    batch_size = 1,\n",
       "    lambda = 0.0,\n",
       "    alpha = 0.0,\n",
       "    optimiser_changes_trigger_retraining = false)\u001b[34m @500\u001b[39m"
      ]
     },
     "execution_count": 19,
     "metadata": {},
     "output_type": "execute_result"
    }
   ],
   "source": [
    "nn = NeuralNetworkClassifier(builder=CustomNN(layer1))"
   ]
  },
  {
   "cell_type": "code",
   "execution_count": 20,
   "metadata": {},
   "outputs": [
    {
     "data": {
      "text/plain": [
       "\u001b[34mMachine{NeuralNetworkClassifier{CustomNN,…}} @862\u001b[39m trained 0 times.\n",
       "  args: \n",
       "    1:\t\u001b[34mSource @983\u001b[39m ⏎ `Table{AbstractArray{Continuous,1}}`\n",
       "    2:\t\u001b[34mSource @110\u001b[39m ⏎ `AbstractArray{Multiclass{3},1}`\n"
      ]
     },
     "execution_count": 20,
     "metadata": {},
     "output_type": "execute_result"
    }
   ],
   "source": [
    "Net = machine(nn, X, y)"
   ]
  },
  {
   "cell_type": "code",
   "execution_count": 21,
   "metadata": {},
   "outputs": [
    {
     "data": {
      "text/plain": [
       "0.1"
      ]
     },
     "execution_count": 21,
     "metadata": {},
     "output_type": "execute_result"
    }
   ],
   "source": [
    "nn.optimiser.eta = 0.001\n",
    "nn.epochs = 60\n",
    "nn.batch_size = batch_sz\n",
    "nn.lambda = 0.1"
   ]
  },
  {
   "cell_type": "code",
   "execution_count": 22,
   "metadata": {
    "scrolled": true
   },
   "outputs": [
    {
     "name": "stderr",
     "output_type": "stream",
     "text": [
      "┌ Info: Training \u001b[34mMachine{NeuralNetworkClassifier{CustomNN,…}} @862\u001b[39m.\n",
      "└ @ MLJBase /home/andrew/.julia/packages/MLJBase/uKzAz/src/machines.jl:319\n",
      "┌ Info: Loss is 1.04\n",
      "└ @ MLJFlux /home/andrew/.julia/packages/MLJFlux/rYILg/src/core.jl:95\n",
      "┌ Info: Loss is 0.9919\n",
      "└ @ MLJFlux /home/andrew/.julia/packages/MLJFlux/rYILg/src/core.jl:95\n",
      "┌ Info: Loss is 0.967\n",
      "└ @ MLJFlux /home/andrew/.julia/packages/MLJFlux/rYILg/src/core.jl:95\n",
      "┌ Info: Loss is 0.9534\n",
      "└ @ MLJFlux /home/andrew/.julia/packages/MLJFlux/rYILg/src/core.jl:95\n",
      "┌ Info: Loss is 0.9451\n",
      "└ @ MLJFlux /home/andrew/.julia/packages/MLJFlux/rYILg/src/core.jl:95\n",
      "┌ Info: Loss is 0.9392\n",
      "└ @ MLJFlux /home/andrew/.julia/packages/MLJFlux/rYILg/src/core.jl:95\n",
      "┌ Info: Loss is 0.934\n",
      "└ @ MLJFlux /home/andrew/.julia/packages/MLJFlux/rYILg/src/core.jl:95\n",
      "┌ Info: Loss is 0.9288\n",
      "└ @ MLJFlux /home/andrew/.julia/packages/MLJFlux/rYILg/src/core.jl:95\n",
      "┌ Info: Loss is 0.9229\n",
      "└ @ MLJFlux /home/andrew/.julia/packages/MLJFlux/rYILg/src/core.jl:95\n",
      "┌ Info: Loss is 0.916\n",
      "└ @ MLJFlux /home/andrew/.julia/packages/MLJFlux/rYILg/src/core.jl:95\n",
      "┌ Info: Loss is 0.9077\n",
      "└ @ MLJFlux /home/andrew/.julia/packages/MLJFlux/rYILg/src/core.jl:95\n",
      "┌ Info: Loss is 0.8981\n",
      "└ @ MLJFlux /home/andrew/.julia/packages/MLJFlux/rYILg/src/core.jl:95\n",
      "┌ Info: Loss is 0.8876\n",
      "└ @ MLJFlux /home/andrew/.julia/packages/MLJFlux/rYILg/src/core.jl:95\n",
      "┌ Info: Loss is 0.8765\n",
      "└ @ MLJFlux /home/andrew/.julia/packages/MLJFlux/rYILg/src/core.jl:95\n",
      "┌ Info: Loss is 0.865\n",
      "└ @ MLJFlux /home/andrew/.julia/packages/MLJFlux/rYILg/src/core.jl:95\n",
      "┌ Info: Loss is 0.8535\n",
      "└ @ MLJFlux /home/andrew/.julia/packages/MLJFlux/rYILg/src/core.jl:95\n",
      "┌ Info: Loss is 0.8422\n",
      "└ @ MLJFlux /home/andrew/.julia/packages/MLJFlux/rYILg/src/core.jl:95\n",
      "┌ Info: Loss is 0.8312\n",
      "└ @ MLJFlux /home/andrew/.julia/packages/MLJFlux/rYILg/src/core.jl:95\n",
      "┌ Info: Loss is 0.8207\n",
      "└ @ MLJFlux /home/andrew/.julia/packages/MLJFlux/rYILg/src/core.jl:95\n",
      "┌ Info: Loss is 0.8107\n",
      "└ @ MLJFlux /home/andrew/.julia/packages/MLJFlux/rYILg/src/core.jl:95\n",
      "┌ Info: Loss is 0.8014\n",
      "└ @ MLJFlux /home/andrew/.julia/packages/MLJFlux/rYILg/src/core.jl:95\n",
      "┌ Info: Loss is 0.7928\n",
      "└ @ MLJFlux /home/andrew/.julia/packages/MLJFlux/rYILg/src/core.jl:95\n",
      "┌ Info: Loss is 0.7848\n",
      "└ @ MLJFlux /home/andrew/.julia/packages/MLJFlux/rYILg/src/core.jl:95\n",
      "┌ Info: Loss is 0.7775\n",
      "└ @ MLJFlux /home/andrew/.julia/packages/MLJFlux/rYILg/src/core.jl:95\n",
      "┌ Info: Loss is 0.7707\n",
      "└ @ MLJFlux /home/andrew/.julia/packages/MLJFlux/rYILg/src/core.jl:95\n",
      "┌ Info: Loss is 0.7645\n",
      "└ @ MLJFlux /home/andrew/.julia/packages/MLJFlux/rYILg/src/core.jl:95\n",
      "┌ Info: Loss is 0.7588\n",
      "└ @ MLJFlux /home/andrew/.julia/packages/MLJFlux/rYILg/src/core.jl:95\n",
      "┌ Info: Loss is 0.7535\n",
      "└ @ MLJFlux /home/andrew/.julia/packages/MLJFlux/rYILg/src/core.jl:95\n",
      "┌ Info: Loss is 0.7487\n",
      "└ @ MLJFlux /home/andrew/.julia/packages/MLJFlux/rYILg/src/core.jl:95\n",
      "┌ Info: Loss is 0.7443\n",
      "└ @ MLJFlux /home/andrew/.julia/packages/MLJFlux/rYILg/src/core.jl:95\n",
      "┌ Info: Loss is 0.7402\n",
      "└ @ MLJFlux /home/andrew/.julia/packages/MLJFlux/rYILg/src/core.jl:95\n",
      "┌ Info: Loss is 0.7364\n",
      "└ @ MLJFlux /home/andrew/.julia/packages/MLJFlux/rYILg/src/core.jl:95\n",
      "┌ Info: Loss is 0.7329\n",
      "└ @ MLJFlux /home/andrew/.julia/packages/MLJFlux/rYILg/src/core.jl:95\n",
      "┌ Info: Loss is 0.7296\n",
      "└ @ MLJFlux /home/andrew/.julia/packages/MLJFlux/rYILg/src/core.jl:95\n",
      "┌ Info: Loss is 0.7266\n",
      "└ @ MLJFlux /home/andrew/.julia/packages/MLJFlux/rYILg/src/core.jl:95\n",
      "┌ Info: Loss is 0.7238\n",
      "└ @ MLJFlux /home/andrew/.julia/packages/MLJFlux/rYILg/src/core.jl:95\n",
      "┌ Info: Loss is 0.7212\n",
      "└ @ MLJFlux /home/andrew/.julia/packages/MLJFlux/rYILg/src/core.jl:95\n",
      "┌ Info: Loss is 0.7187\n",
      "└ @ MLJFlux /home/andrew/.julia/packages/MLJFlux/rYILg/src/core.jl:95\n",
      "┌ Info: Loss is 0.7164\n",
      "└ @ MLJFlux /home/andrew/.julia/packages/MLJFlux/rYILg/src/core.jl:95\n",
      "┌ Info: Loss is 0.7143\n",
      "└ @ MLJFlux /home/andrew/.julia/packages/MLJFlux/rYILg/src/core.jl:95\n",
      "┌ Info: Loss is 0.7123\n",
      "└ @ MLJFlux /home/andrew/.julia/packages/MLJFlux/rYILg/src/core.jl:95\n",
      "┌ Info: Loss is 0.7104\n",
      "└ @ MLJFlux /home/andrew/.julia/packages/MLJFlux/rYILg/src/core.jl:95\n",
      "┌ Info: Loss is 0.7086\n",
      "└ @ MLJFlux /home/andrew/.julia/packages/MLJFlux/rYILg/src/core.jl:95\n",
      "┌ Info: Loss is 0.7069\n",
      "└ @ MLJFlux /home/andrew/.julia/packages/MLJFlux/rYILg/src/core.jl:95\n",
      "┌ Info: Loss is 0.7053\n",
      "└ @ MLJFlux /home/andrew/.julia/packages/MLJFlux/rYILg/src/core.jl:95\n",
      "┌ Info: Loss is 0.7038\n",
      "└ @ MLJFlux /home/andrew/.julia/packages/MLJFlux/rYILg/src/core.jl:95\n",
      "┌ Info: Loss is 0.7024\n",
      "└ @ MLJFlux /home/andrew/.julia/packages/MLJFlux/rYILg/src/core.jl:95\n",
      "┌ Info: Loss is 0.701\n",
      "└ @ MLJFlux /home/andrew/.julia/packages/MLJFlux/rYILg/src/core.jl:95\n",
      "┌ Info: Loss is 0.6997\n",
      "└ @ MLJFlux /home/andrew/.julia/packages/MLJFlux/rYILg/src/core.jl:95\n",
      "┌ Info: Loss is 0.6985\n",
      "└ @ MLJFlux /home/andrew/.julia/packages/MLJFlux/rYILg/src/core.jl:95\n",
      "┌ Info: Loss is 0.6973\n",
      "└ @ MLJFlux /home/andrew/.julia/packages/MLJFlux/rYILg/src/core.jl:95\n",
      "┌ Info: Loss is 0.6962\n",
      "└ @ MLJFlux /home/andrew/.julia/packages/MLJFlux/rYILg/src/core.jl:95\n",
      "┌ Info: Loss is 0.6952\n",
      "└ @ MLJFlux /home/andrew/.julia/packages/MLJFlux/rYILg/src/core.jl:95\n",
      "┌ Info: Loss is 0.6942\n",
      "└ @ MLJFlux /home/andrew/.julia/packages/MLJFlux/rYILg/src/core.jl:95\n",
      "┌ Info: Loss is 0.6932\n",
      "└ @ MLJFlux /home/andrew/.julia/packages/MLJFlux/rYILg/src/core.jl:95\n",
      "┌ Info: Loss is 0.6923\n",
      "└ @ MLJFlux /home/andrew/.julia/packages/MLJFlux/rYILg/src/core.jl:95\n",
      "┌ Info: Loss is 0.6914\n",
      "└ @ MLJFlux /home/andrew/.julia/packages/MLJFlux/rYILg/src/core.jl:95\n",
      "┌ Info: Loss is 0.6905\n",
      "└ @ MLJFlux /home/andrew/.julia/packages/MLJFlux/rYILg/src/core.jl:95\n",
      "┌ Info: Loss is 0.6897\n",
      "└ @ MLJFlux /home/andrew/.julia/packages/MLJFlux/rYILg/src/core.jl:95\n",
      "┌ Info: Loss is 0.6889\n",
      "└ @ MLJFlux /home/andrew/.julia/packages/MLJFlux/rYILg/src/core.jl:95\n"
     ]
    },
    {
     "data": {
      "text/plain": [
       "\u001b[34mMachine{NeuralNetworkClassifier{CustomNN,…}} @862\u001b[39m trained 1 time.\n",
       "  args: \n",
       "    1:\t\u001b[34mSource @983\u001b[39m ⏎ `Table{AbstractArray{Continuous,1}}`\n",
       "    2:\t\u001b[34mSource @110\u001b[39m ⏎ `AbstractArray{Multiclass{3},1}`\n"
      ]
     },
     "execution_count": 22,
     "metadata": {},
     "output_type": "execute_result"
    }
   ],
   "source": [
    "fit!(Net, rows=train, verbosity=2)"
   ]
  },
  {
   "cell_type": "code",
   "execution_count": 23,
   "metadata": {},
   "outputs": [
    {
     "data": {
      "text/plain": [
       "100"
      ]
     },
     "execution_count": 23,
     "metadata": {},
     "output_type": "execute_result"
    }
   ],
   "source": [
    "nn.optimiser.eta = nn.optimiser.eta / 3\n",
    "nn.epochs = nn.epochs + 40"
   ]
  },
  {
   "cell_type": "code",
   "execution_count": 24,
   "metadata": {
    "scrolled": true
   },
   "outputs": [
    {
     "name": "stderr",
     "output_type": "stream",
     "text": [
      "┌ Info: Updating \u001b[34mMachine{NeuralNetworkClassifier{CustomNN,…}} @862\u001b[39m.\n",
      "└ @ MLJBase /home/andrew/.julia/packages/MLJBase/uKzAz/src/machines.jl:320\n",
      "┌ Info: Loss is 0.6887\n",
      "└ @ MLJFlux /home/andrew/.julia/packages/MLJFlux/rYILg/src/core.jl:95\n",
      "┌ Info: Loss is 0.6882\n",
      "└ @ MLJFlux /home/andrew/.julia/packages/MLJFlux/rYILg/src/core.jl:95\n",
      "┌ Info: Loss is 0.6878\n",
      "└ @ MLJFlux /home/andrew/.julia/packages/MLJFlux/rYILg/src/core.jl:95\n",
      "┌ Info: Loss is 0.6874\n",
      "└ @ MLJFlux /home/andrew/.julia/packages/MLJFlux/rYILg/src/core.jl:95\n",
      "┌ Info: Loss is 0.6871\n",
      "└ @ MLJFlux /home/andrew/.julia/packages/MLJFlux/rYILg/src/core.jl:95\n",
      "┌ Info: Loss is 0.6867\n",
      "└ @ MLJFlux /home/andrew/.julia/packages/MLJFlux/rYILg/src/core.jl:95\n",
      "┌ Info: Loss is 0.6864\n",
      "└ @ MLJFlux /home/andrew/.julia/packages/MLJFlux/rYILg/src/core.jl:95\n",
      "┌ Info: Loss is 0.6861\n",
      "└ @ MLJFlux /home/andrew/.julia/packages/MLJFlux/rYILg/src/core.jl:95\n",
      "┌ Info: Loss is 0.6857\n",
      "└ @ MLJFlux /home/andrew/.julia/packages/MLJFlux/rYILg/src/core.jl:95\n",
      "┌ Info: Loss is 0.6854\n",
      "└ @ MLJFlux /home/andrew/.julia/packages/MLJFlux/rYILg/src/core.jl:95\n",
      "┌ Info: Loss is 0.6851\n",
      "└ @ MLJFlux /home/andrew/.julia/packages/MLJFlux/rYILg/src/core.jl:95\n",
      "┌ Info: Loss is 0.6848\n",
      "└ @ MLJFlux /home/andrew/.julia/packages/MLJFlux/rYILg/src/core.jl:95\n",
      "┌ Info: Loss is 0.6845\n",
      "└ @ MLJFlux /home/andrew/.julia/packages/MLJFlux/rYILg/src/core.jl:95\n",
      "┌ Info: Loss is 0.6842\n",
      "└ @ MLJFlux /home/andrew/.julia/packages/MLJFlux/rYILg/src/core.jl:95\n",
      "┌ Info: Loss is 0.6839\n",
      "└ @ MLJFlux /home/andrew/.julia/packages/MLJFlux/rYILg/src/core.jl:95\n",
      "┌ Info: Loss is 0.6837\n",
      "└ @ MLJFlux /home/andrew/.julia/packages/MLJFlux/rYILg/src/core.jl:95\n",
      "┌ Info: Loss is 0.6834\n",
      "└ @ MLJFlux /home/andrew/.julia/packages/MLJFlux/rYILg/src/core.jl:95\n",
      "┌ Info: Loss is 0.6831\n",
      "└ @ MLJFlux /home/andrew/.julia/packages/MLJFlux/rYILg/src/core.jl:95\n",
      "┌ Info: Loss is 0.6828\n",
      "└ @ MLJFlux /home/andrew/.julia/packages/MLJFlux/rYILg/src/core.jl:95\n",
      "┌ Info: Loss is 0.6826\n",
      "└ @ MLJFlux /home/andrew/.julia/packages/MLJFlux/rYILg/src/core.jl:95\n",
      "┌ Info: Loss is 0.6823\n",
      "└ @ MLJFlux /home/andrew/.julia/packages/MLJFlux/rYILg/src/core.jl:95\n",
      "┌ Info: Loss is 0.6821\n",
      "└ @ MLJFlux /home/andrew/.julia/packages/MLJFlux/rYILg/src/core.jl:95\n",
      "┌ Info: Loss is 0.6818\n",
      "└ @ MLJFlux /home/andrew/.julia/packages/MLJFlux/rYILg/src/core.jl:95\n",
      "┌ Info: Loss is 0.6816\n",
      "└ @ MLJFlux /home/andrew/.julia/packages/MLJFlux/rYILg/src/core.jl:95\n",
      "┌ Info: Loss is 0.6813\n",
      "└ @ MLJFlux /home/andrew/.julia/packages/MLJFlux/rYILg/src/core.jl:95\n",
      "┌ Info: Loss is 0.6811\n",
      "└ @ MLJFlux /home/andrew/.julia/packages/MLJFlux/rYILg/src/core.jl:95\n",
      "┌ Info: Loss is 0.6809\n",
      "└ @ MLJFlux /home/andrew/.julia/packages/MLJFlux/rYILg/src/core.jl:95\n",
      "┌ Info: Loss is 0.6806\n",
      "└ @ MLJFlux /home/andrew/.julia/packages/MLJFlux/rYILg/src/core.jl:95\n",
      "┌ Info: Loss is 0.6804\n",
      "└ @ MLJFlux /home/andrew/.julia/packages/MLJFlux/rYILg/src/core.jl:95\n",
      "┌ Info: Loss is 0.6802\n",
      "└ @ MLJFlux /home/andrew/.julia/packages/MLJFlux/rYILg/src/core.jl:95\n",
      "┌ Info: Loss is 0.68\n",
      "└ @ MLJFlux /home/andrew/.julia/packages/MLJFlux/rYILg/src/core.jl:95\n",
      "┌ Info: Loss is 0.6797\n",
      "└ @ MLJFlux /home/andrew/.julia/packages/MLJFlux/rYILg/src/core.jl:95\n",
      "┌ Info: Loss is 0.6795\n",
      "└ @ MLJFlux /home/andrew/.julia/packages/MLJFlux/rYILg/src/core.jl:95\n",
      "┌ Info: Loss is 0.6793\n",
      "└ @ MLJFlux /home/andrew/.julia/packages/MLJFlux/rYILg/src/core.jl:95\n",
      "┌ Info: Loss is 0.6791\n",
      "└ @ MLJFlux /home/andrew/.julia/packages/MLJFlux/rYILg/src/core.jl:95\n",
      "┌ Info: Loss is 0.6789\n",
      "└ @ MLJFlux /home/andrew/.julia/packages/MLJFlux/rYILg/src/core.jl:95\n",
      "┌ Info: Loss is 0.6787\n",
      "└ @ MLJFlux /home/andrew/.julia/packages/MLJFlux/rYILg/src/core.jl:95\n",
      "┌ Info: Loss is 0.6785\n",
      "└ @ MLJFlux /home/andrew/.julia/packages/MLJFlux/rYILg/src/core.jl:95\n",
      "┌ Info: Loss is 0.6783\n",
      "└ @ MLJFlux /home/andrew/.julia/packages/MLJFlux/rYILg/src/core.jl:95\n",
      "┌ Info: Loss is 0.6781\n",
      "└ @ MLJFlux /home/andrew/.julia/packages/MLJFlux/rYILg/src/core.jl:95\n"
     ]
    },
    {
     "data": {
      "text/plain": [
       "\u001b[34mMachine{NeuralNetworkClassifier{CustomNN,…}} @862\u001b[39m trained 2 times.\n",
       "  args: \n",
       "    1:\t\u001b[34mSource @983\u001b[39m ⏎ `Table{AbstractArray{Continuous,1}}`\n",
       "    2:\t\u001b[34mSource @110\u001b[39m ⏎ `AbstractArray{Multiclass{3},1}`\n"
      ]
     },
     "execution_count": 24,
     "metadata": {},
     "output_type": "execute_result"
    }
   ],
   "source": [
    "fit!(Net, rows=train, verbosity=2)"
   ]
  },
  {
   "cell_type": "code",
   "execution_count": 25,
   "metadata": {},
   "outputs": [
    {
     "name": "stderr",
     "output_type": "stream",
     "text": [
      "\u001b[33mEvaluating over 6 folds: 100%[=========================] Time: 0:00:06\u001b[39m\n"
     ]
    },
    {
     "data": {
      "text/plain": [
       "┌\u001b[0m───────────────\u001b[0m┬\u001b[0m───────────────\u001b[0m┬\u001b[0m──────────────────────────────────────────────────\u001b[0m┐\u001b[0m\n",
       "│\u001b[0m\u001b[22m _.measure     \u001b[0m│\u001b[0m\u001b[22m _.measurement \u001b[0m│\u001b[0m\u001b[22m _.per_fold                                       \u001b[0m│\u001b[0m\n",
       "├\u001b[0m───────────────\u001b[0m┼\u001b[0m───────────────\u001b[0m┼\u001b[0m──────────────────────────────────────────────────\u001b[0m┤\u001b[0m\n",
       "│\u001b[0m cross_entropy \u001b[0m│\u001b[0m 0.718         \u001b[0m│\u001b[0m Float32[0.758, 0.718, 0.715, 0.691, 0.73, 0.696] \u001b[0m│\u001b[0m\n",
       "│\u001b[0m acc           \u001b[0m│\u001b[0m 0.872         \u001b[0m│\u001b[0m [0.81, 0.885, 0.885, 0.913, 0.856, 0.885]        \u001b[0m│\u001b[0m\n",
       "└\u001b[0m───────────────\u001b[0m┴\u001b[0m───────────────\u001b[0m┴\u001b[0m──────────────────────────────────────────────────\u001b[0m┘\u001b[0m\n",
       "_.per_observation = [[[0.562, 0.711, ..., 0.697], [0.626, 0.709, ..., 0.555], [0.748, 0.618, ..., 0.578], [0.609, 0.721, ..., 0.706], [0.732, 0.558, ..., 1.48], [0.605, 0.72, ..., 0.992]], missing]\n",
       "_.fitted_params_per_fold = [ … ]\n",
       "_.report_per_fold = [ … ]\n"
      ]
     },
     "execution_count": 25,
     "metadata": {},
     "output_type": "execute_result"
    }
   ],
   "source": [
    "nn_acc = evaluate!(Net, resampling=CV(shuffle=true), measure=[cross_entropy, acc], verbosity=1)"
   ]
  },
  {
   "cell_type": "code",
   "execution_count": 26,
   "metadata": {},
   "outputs": [
    {
     "data": {
      "text/plain": [
       "(chain = Chain(Chain(Dense(4, 80, σ), Dense(80, 3, σ)), softmax),)"
      ]
     },
     "execution_count": 26,
     "metadata": {},
     "output_type": "execute_result"
    }
   ],
   "source": [
    "fitted_params(Net)"
   ]
  },
  {
   "cell_type": "code",
   "execution_count": 27,
   "metadata": {
    "scrolled": true
   },
   "outputs": [
    {
     "data": {
      "text/plain": [
       "(training_losses = Any[1.0804945f0, 1.0548455f0, 1.0316869f0, 1.0116435f0, 0.99555475f0, 0.98349255f0, 0.9747008f0, 0.9681988f0, 0.9631934f0, 0.9591464f0  …  0.7286847f0, 0.72776365f0, 0.7268638f0, 0.7259846f0, 0.7251253f0, 0.72428507f0, 0.72346354f0, 0.72266f0, 0.7218739f0, 0.72110444f0],)"
      ]
     },
     "execution_count": 27,
     "metadata": {},
     "output_type": "execute_result"
    }
   ],
   "source": [
    "report(Net)"
   ]
  },
  {
   "cell_type": "markdown",
   "metadata": {},
   "source": [
    "### Learning Curve"
   ]
  },
  {
   "cell_type": "code",
   "execution_count": 28,
   "metadata": {},
   "outputs": [
    {
     "name": "stderr",
     "output_type": "stream",
     "text": [
      "┌ Info: Training \u001b[34mMachine{NeuralNetworkClassifier{CustomNN,…}} @862\u001b[39m.\n",
      "└ @ MLJBase /home/andrew/.julia/packages/MLJBase/uKzAz/src/machines.jl:319\n",
      "\u001b[33mOptimising neural net:100%[=========================] Time: 0:00:09\u001b[39m\n"
     ]
    },
    {
     "data": {
      "text/plain": [
       "\u001b[34mMachine{NeuralNetworkClassifier{CustomNN,…}} @862\u001b[39m trained 9 times.\n",
       "  args: \n",
       "    1:\t\u001b[34mSource @983\u001b[39m ⏎ `Table{AbstractArray{Continuous,1}}`\n",
       "    2:\t\u001b[34mSource @110\u001b[39m ⏎ `AbstractArray{Multiclass{3},1}`\n"
      ]
     },
     "execution_count": 28,
     "metadata": {},
     "output_type": "execute_result"
    }
   ],
   "source": [
    "Net.model.epochs = max_epochs\n",
    "fit!(Net, rows=train, verbosity=1, force=true)"
   ]
  },
  {
   "cell_type": "code",
   "execution_count": 29,
   "metadata": {},
   "outputs": [
    {
     "data": {
      "text/plain": [
       "┌\u001b[0m───────────────\u001b[0m┬\u001b[0m───────────────\u001b[0m┬\u001b[0m────────────────\u001b[0m┐\u001b[0m\n",
       "│\u001b[0m\u001b[22m _.measure     \u001b[0m│\u001b[0m\u001b[22m _.measurement \u001b[0m│\u001b[0m\u001b[22m _.per_fold     \u001b[0m│\u001b[0m\n",
       "├\u001b[0m───────────────\u001b[0m┼\u001b[0m───────────────\u001b[0m┼\u001b[0m────────────────\u001b[0m┤\u001b[0m\n",
       "│\u001b[0m cross_entropy \u001b[0m│\u001b[0m 0.617         \u001b[0m│\u001b[0m Float32[0.617] \u001b[0m│\u001b[0m\n",
       "│\u001b[0m acc           \u001b[0m│\u001b[0m 0.914         \u001b[0m│\u001b[0m [0.914]        \u001b[0m│\u001b[0m\n",
       "└\u001b[0m───────────────\u001b[0m┴\u001b[0m───────────────\u001b[0m┴\u001b[0m────────────────\u001b[0m┘\u001b[0m\n",
       "_.per_observation = [[[1.25, 0.561, ..., 1.28]], missing]\n",
       "_.fitted_params_per_fold = [ … ]\n",
       "_.report_per_fold = [ … ]\n"
      ]
     },
     "execution_count": 29,
     "metadata": {},
     "output_type": "execute_result"
    }
   ],
   "source": [
    "nn_acc = evaluate!(Net, resampling=Holdout(), measure=[cross_entropy, acc], verbosity=1)"
   ]
  },
  {
   "cell_type": "code",
   "execution_count": 30,
   "metadata": {
    "scrolled": true
   },
   "outputs": [
    {
     "data": {
      "text/plain": [
       "MLJBase.NumericRange(Int64, :epochs, ... )"
      ]
     },
     "execution_count": 30,
     "metadata": {},
     "output_type": "execute_result"
    }
   ],
   "source": [
    "vals = collect(0:5:max_epochs)\n",
    "r = range(nn, :epochs, lower=1, upper=max_epochs, scale=:log10)"
   ]
  },
  {
   "cell_type": "code",
   "execution_count": 31,
   "metadata": {},
   "outputs": [
    {
     "name": "stderr",
     "output_type": "stream",
     "text": [
      "┌ Info: Training \u001b[34mMachine{ProbabilisticTunedModel{Grid,…}} @384\u001b[39m.\n",
      "└ @ MLJBase /home/andrew/.julia/packages/MLJBase/uKzAz/src/machines.jl:319\n",
      "┌ Info: Attempting to evaluate 28 models.\n",
      "└ @ MLJTuning /home/andrew/.julia/packages/MLJTuning/Bbgvk/src/tuned_models.jl:494\n",
      "\u001b[33mEvaluating over 28 metamodels: 100%[=========================] Time: 0:00:09\u001b[39m\n"
     ]
    },
    {
     "data": {
      "text/plain": [
       "(parameter_name = \"epochs\",\n",
       " parameter_scale = :log10,\n",
       " parameter_values = [1, 2, 3, 4, 5, 7, 9, 12, 16, 21  …  250, 330, 434, 572, 754, 994, 1310, 1727, 2276, 3000],\n",
       " measurements = [1.0450003147125244, 1.0478273630142212, 1.0534253120422363, 1.0615839958190918, 1.0719302892684937, 1.0858654975891113, 1.1018987894058228, 1.1147055625915527, 1.113755226135254, 1.094984769821167  …  0.6780390739440918, 0.6678590178489685, 0.661782443523407, 0.657189667224884, 0.6536226868629456, 0.6516215205192566, 0.6505971550941467, 0.6464105844497681, 0.6312357187271118, 0.6163867115974426],)"
      ]
     },
     "execution_count": 31,
     "metadata": {},
     "output_type": "execute_result"
    }
   ],
   "source": [
    "curve = MLJ.learning_curve(Net, \n",
    "                        range=r, \n",
    "                        resampling=Holdout(fraction_train=0.7), \n",
    "#                         resampling=CV(nfolds=4), \n",
    "                        measure=cross_entropy, \n",
    "                        acceleration=CPUProcesses()\n",
    ")"
   ]
  },
  {
   "cell_type": "code",
   "execution_count": 32,
   "metadata": {},
   "outputs": [
    {
     "data": {
      "image/svg+xml": [
       "<?xml version=\"1.0\" encoding=\"utf-8\"?>\n",
       "<svg xmlns=\"http://www.w3.org/2000/svg\" xmlns:xlink=\"http://www.w3.org/1999/xlink\" width=\"600\" height=\"400\" viewBox=\"0 0 2400 1600\">\n",
       "<defs>\n",
       "  <clipPath id=\"clip460\">\n",
       "    <rect x=\"0\" y=\"0\" width=\"2400\" height=\"1600\"/>\n",
       "  </clipPath>\n",
       "</defs>\n",
       "<path clip-path=\"url(#clip460)\" d=\"\n",
       "M0 1600 L2400 1600 L2400 0 L0 0  Z\n",
       "  \" fill=\"#ffffff\" fill-rule=\"evenodd\" fill-opacity=\"1\"/>\n",
       "<defs>\n",
       "  <clipPath id=\"clip461\">\n",
       "    <rect x=\"480\" y=\"0\" width=\"1681\" height=\"1600\"/>\n",
       "  </clipPath>\n",
       "</defs>\n",
       "<path clip-path=\"url(#clip460)\" d=\"\n",
       "M211.278 1423.18 L2352.76 1423.18 L2352.76 47.2441 L211.278 47.2441  Z\n",
       "  \" fill=\"#ffffff\" fill-rule=\"evenodd\" fill-opacity=\"1\"/>\n",
       "<defs>\n",
       "  <clipPath id=\"clip462\">\n",
       "    <rect x=\"211\" y=\"47\" width=\"2142\" height=\"1377\"/>\n",
       "  </clipPath>\n",
       "</defs>\n",
       "<polyline clip-path=\"url(#clip462)\" style=\"stroke:#000000; stroke-width:2; stroke-opacity:0.1; fill:none\" points=\"\n",
       "  271.213,1423.18 271.213,47.2441 \n",
       "  \"/>\n",
       "<polyline clip-path=\"url(#clip462)\" style=\"stroke:#000000; stroke-width:2; stroke-opacity:0.1; fill:none\" points=\"\n",
       "  944.858,1423.18 944.858,47.2441 \n",
       "  \"/>\n",
       "<polyline clip-path=\"url(#clip462)\" style=\"stroke:#000000; stroke-width:2; stroke-opacity:0.1; fill:none\" points=\"\n",
       "  1618.5,1423.18 1618.5,47.2441 \n",
       "  \"/>\n",
       "<polyline clip-path=\"url(#clip462)\" style=\"stroke:#000000; stroke-width:2; stroke-opacity:0.1; fill:none\" points=\"\n",
       "  2292.15,1423.18 2292.15,47.2441 \n",
       "  \"/>\n",
       "<polyline clip-path=\"url(#clip462)\" style=\"stroke:#000000; stroke-width:2; stroke-opacity:0.1; fill:none\" points=\"\n",
       "  211.278,1413.5 2352.76,1413.5 \n",
       "  \"/>\n",
       "<polyline clip-path=\"url(#clip462)\" style=\"stroke:#000000; stroke-width:2; stroke-opacity:0.1; fill:none\" points=\"\n",
       "  211.278,1155.62 2352.76,1155.62 \n",
       "  \"/>\n",
       "<polyline clip-path=\"url(#clip462)\" style=\"stroke:#000000; stroke-width:2; stroke-opacity:0.1; fill:none\" points=\"\n",
       "  211.278,897.745 2352.76,897.745 \n",
       "  \"/>\n",
       "<polyline clip-path=\"url(#clip462)\" style=\"stroke:#000000; stroke-width:2; stroke-opacity:0.1; fill:none\" points=\"\n",
       "  211.278,639.866 2352.76,639.866 \n",
       "  \"/>\n",
       "<polyline clip-path=\"url(#clip462)\" style=\"stroke:#000000; stroke-width:2; stroke-opacity:0.1; fill:none\" points=\"\n",
       "  211.278,381.987 2352.76,381.987 \n",
       "  \"/>\n",
       "<polyline clip-path=\"url(#clip462)\" style=\"stroke:#000000; stroke-width:2; stroke-opacity:0.1; fill:none\" points=\"\n",
       "  211.278,124.108 2352.76,124.108 \n",
       "  \"/>\n",
       "<polyline clip-path=\"url(#clip460)\" style=\"stroke:#000000; stroke-width:4; stroke-opacity:1; fill:none\" points=\"\n",
       "  211.278,1423.18 2352.76,1423.18 \n",
       "  \"/>\n",
       "<polyline clip-path=\"url(#clip460)\" style=\"stroke:#000000; stroke-width:4; stroke-opacity:1; fill:none\" points=\"\n",
       "  211.278,1423.18 211.278,47.2441 \n",
       "  \"/>\n",
       "<polyline clip-path=\"url(#clip460)\" style=\"stroke:#000000; stroke-width:4; stroke-opacity:1; fill:none\" points=\"\n",
       "  271.213,1423.18 271.213,1406.67 \n",
       "  \"/>\n",
       "<polyline clip-path=\"url(#clip460)\" style=\"stroke:#000000; stroke-width:4; stroke-opacity:1; fill:none\" points=\"\n",
       "  944.858,1423.18 944.858,1406.67 \n",
       "  \"/>\n",
       "<polyline clip-path=\"url(#clip460)\" style=\"stroke:#000000; stroke-width:4; stroke-opacity:1; fill:none\" points=\"\n",
       "  1618.5,1423.18 1618.5,1406.67 \n",
       "  \"/>\n",
       "<polyline clip-path=\"url(#clip460)\" style=\"stroke:#000000; stroke-width:4; stroke-opacity:1; fill:none\" points=\"\n",
       "  2292.15,1423.18 2292.15,1406.67 \n",
       "  \"/>\n",
       "<polyline clip-path=\"url(#clip460)\" style=\"stroke:#000000; stroke-width:4; stroke-opacity:1; fill:none\" points=\"\n",
       "  211.278,1413.5 236.976,1413.5 \n",
       "  \"/>\n",
       "<polyline clip-path=\"url(#clip460)\" style=\"stroke:#000000; stroke-width:4; stroke-opacity:1; fill:none\" points=\"\n",
       "  211.278,1155.62 236.976,1155.62 \n",
       "  \"/>\n",
       "<polyline clip-path=\"url(#clip460)\" style=\"stroke:#000000; stroke-width:4; stroke-opacity:1; fill:none\" points=\"\n",
       "  211.278,897.745 236.976,897.745 \n",
       "  \"/>\n",
       "<polyline clip-path=\"url(#clip460)\" style=\"stroke:#000000; stroke-width:4; stroke-opacity:1; fill:none\" points=\"\n",
       "  211.278,639.866 236.976,639.866 \n",
       "  \"/>\n",
       "<polyline clip-path=\"url(#clip460)\" style=\"stroke:#000000; stroke-width:4; stroke-opacity:1; fill:none\" points=\"\n",
       "  211.278,381.987 236.976,381.987 \n",
       "  \"/>\n",
       "<polyline clip-path=\"url(#clip460)\" style=\"stroke:#000000; stroke-width:4; stroke-opacity:1; fill:none\" points=\"\n",
       "  211.278,124.108 236.976,124.108 \n",
       "  \"/>\n",
       "<path clip-path=\"url(#clip460)\" d=\"M 0 0 M271.213 1445.17 Q267.601 1445.17 265.773 1448.74 Q263.967 1452.28 263.967 1459.41 Q263.967 1466.51 265.773 1470.08 Q267.601 1473.62 271.213 1473.62 Q274.847 1473.62 276.652 1470.08 Q278.481 1466.51 278.481 1459.41 Q278.481 1452.28 276.652 1448.74 Q274.847 1445.17 271.213 1445.17 M271.213 1441.47 Q277.023 1441.47 280.078 1446.07 Q283.157 1450.66 283.157 1459.41 Q283.157 1468.13 280.078 1472.74 Q277.023 1477.32 271.213 1477.32 Q265.402 1477.32 262.324 1472.74 Q259.268 1468.13 259.268 1459.41 Q259.268 1450.66 262.324 1446.07 Q265.402 1441.47 271.213 1441.47 Z\" fill=\"#000000\" fill-rule=\"evenodd\" fill-opacity=\"1\" /><path clip-path=\"url(#clip460)\" d=\"M 0 0 M894.719 1472.72 L902.358 1472.72 L902.358 1446.35 L894.048 1448.02 L894.048 1443.76 L902.312 1442.09 L906.988 1442.09 L906.988 1472.72 L914.626 1472.72 L914.626 1476.65 L894.719 1476.65 L894.719 1472.72 Z\" fill=\"#000000\" fill-rule=\"evenodd\" fill-opacity=\"1\" /><path clip-path=\"url(#clip460)\" d=\"M 0 0 M929.696 1445.17 Q926.085 1445.17 924.256 1448.74 Q922.45 1452.28 922.45 1459.41 Q922.45 1466.51 924.256 1470.08 Q926.085 1473.62 929.696 1473.62 Q933.33 1473.62 935.136 1470.08 Q936.964 1466.51 936.964 1459.41 Q936.964 1452.28 935.136 1448.74 Q933.33 1445.17 929.696 1445.17 M929.696 1441.47 Q935.506 1441.47 938.561 1446.07 Q941.64 1450.66 941.64 1459.41 Q941.64 1468.13 938.561 1472.74 Q935.506 1477.32 929.696 1477.32 Q923.886 1477.32 920.807 1472.74 Q917.751 1468.13 917.751 1459.41 Q917.751 1450.66 920.807 1446.07 Q923.886 1441.47 929.696 1441.47 Z\" fill=\"#000000\" fill-rule=\"evenodd\" fill-opacity=\"1\" /><path clip-path=\"url(#clip460)\" d=\"M 0 0 M956.71 1445.17 Q953.098 1445.17 951.27 1448.74 Q949.464 1452.28 949.464 1459.41 Q949.464 1466.51 951.27 1470.08 Q953.098 1473.62 956.71 1473.62 Q960.344 1473.62 962.149 1470.08 Q963.978 1466.51 963.978 1459.41 Q963.978 1452.28 962.149 1448.74 Q960.344 1445.17 956.71 1445.17 M956.71 1441.47 Q962.52 1441.47 965.575 1446.07 Q968.654 1450.66 968.654 1459.41 Q968.654 1468.13 965.575 1472.74 Q962.52 1477.32 956.71 1477.32 Q950.899 1477.32 947.821 1472.74 Q944.765 1468.13 944.765 1459.41 Q944.765 1450.66 947.821 1446.07 Q950.899 1441.47 956.71 1441.47 Z\" fill=\"#000000\" fill-rule=\"evenodd\" fill-opacity=\"1\" /><path clip-path=\"url(#clip460)\" d=\"M 0 0 M983.723 1445.17 Q980.112 1445.17 978.283 1448.74 Q976.478 1452.28 976.478 1459.41 Q976.478 1466.51 978.283 1470.08 Q980.112 1473.62 983.723 1473.62 Q987.357 1473.62 989.163 1470.08 Q990.992 1466.51 990.992 1459.41 Q990.992 1452.28 989.163 1448.74 Q987.357 1445.17 983.723 1445.17 M983.723 1441.47 Q989.533 1441.47 992.589 1446.07 Q995.668 1450.66 995.668 1459.41 Q995.668 1468.13 992.589 1472.74 Q989.533 1477.32 983.723 1477.32 Q977.913 1477.32 974.834 1472.74 Q971.779 1468.13 971.779 1459.41 Q971.779 1450.66 974.834 1446.07 Q977.913 1441.47 983.723 1441.47 Z\" fill=\"#000000\" fill-rule=\"evenodd\" fill-opacity=\"1\" /><path clip-path=\"url(#clip460)\" d=\"M 0 0 M1572.64 1472.72 L1588.95 1472.72 L1588.95 1476.65 L1567.01 1476.65 L1567.01 1472.72 Q1569.67 1469.96 1574.26 1465.33 Q1578.86 1460.68 1580.04 1459.34 Q1582.29 1456.81 1583.17 1455.08 Q1584.07 1453.32 1584.07 1451.63 Q1584.07 1448.87 1582.13 1447.14 Q1580.2 1445.4 1577.1 1445.4 Q1574.9 1445.4 1572.45 1446.17 Q1570.02 1446.93 1567.24 1448.48 L1567.24 1443.76 Q1570.07 1442.62 1572.52 1442.05 Q1574.97 1441.47 1577.01 1441.47 Q1582.38 1441.47 1585.57 1444.15 Q1588.77 1446.84 1588.77 1451.33 Q1588.77 1453.46 1587.96 1455.38 Q1587.17 1457.28 1585.07 1459.87 Q1584.49 1460.54 1581.39 1463.76 Q1578.28 1466.95 1572.64 1472.72 Z\" fill=\"#000000\" fill-rule=\"evenodd\" fill-opacity=\"1\" /><path clip-path=\"url(#clip460)\" d=\"M 0 0 M1604.02 1445.17 Q1600.41 1445.17 1598.58 1448.74 Q1596.78 1452.28 1596.78 1459.41 Q1596.78 1466.51 1598.58 1470.08 Q1600.41 1473.62 1604.02 1473.62 Q1607.66 1473.62 1609.46 1470.08 Q1611.29 1466.51 1611.29 1459.41 Q1611.29 1452.28 1609.46 1448.74 Q1607.66 1445.17 1604.02 1445.17 M1604.02 1441.47 Q1609.83 1441.47 1612.89 1446.07 Q1615.97 1450.66 1615.97 1459.41 Q1615.97 1468.13 1612.89 1472.74 Q1609.83 1477.32 1604.02 1477.32 Q1598.21 1477.32 1595.13 1472.74 Q1592.08 1468.13 1592.08 1459.41 Q1592.08 1450.66 1595.13 1446.07 Q1598.21 1441.47 1604.02 1441.47 Z\" fill=\"#000000\" fill-rule=\"evenodd\" fill-opacity=\"1\" /><path clip-path=\"url(#clip460)\" d=\"M 0 0 M1631.04 1445.17 Q1627.43 1445.17 1625.6 1448.74 Q1623.79 1452.28 1623.79 1459.41 Q1623.79 1466.51 1625.6 1470.08 Q1627.43 1473.62 1631.04 1473.62 Q1634.67 1473.62 1636.48 1470.08 Q1638.31 1466.51 1638.31 1459.41 Q1638.31 1452.28 1636.48 1448.74 Q1634.67 1445.17 1631.04 1445.17 M1631.04 1441.47 Q1636.85 1441.47 1639.9 1446.07 Q1642.98 1450.66 1642.98 1459.41 Q1642.98 1468.13 1639.9 1472.74 Q1636.85 1477.32 1631.04 1477.32 Q1625.23 1477.32 1622.15 1472.74 Q1619.09 1468.13 1619.09 1459.41 Q1619.09 1450.66 1622.15 1446.07 Q1625.23 1441.47 1631.04 1441.47 Z\" fill=\"#000000\" fill-rule=\"evenodd\" fill-opacity=\"1\" /><path clip-path=\"url(#clip460)\" d=\"M 0 0 M1658.05 1445.17 Q1654.44 1445.17 1652.61 1448.74 Q1650.81 1452.28 1650.81 1459.41 Q1650.81 1466.51 1652.61 1470.08 Q1654.44 1473.62 1658.05 1473.62 Q1661.69 1473.62 1663.49 1470.08 Q1665.32 1466.51 1665.32 1459.41 Q1665.32 1452.28 1663.49 1448.74 Q1661.69 1445.17 1658.05 1445.17 M1658.05 1441.47 Q1663.86 1441.47 1666.92 1446.07 Q1670 1450.66 1670 1459.41 Q1670 1468.13 1666.92 1472.74 Q1663.86 1477.32 1658.05 1477.32 Q1652.24 1477.32 1649.16 1472.74 Q1646.11 1468.13 1646.11 1459.41 Q1646.11 1450.66 1649.16 1446.07 Q1652.24 1441.47 1658.05 1441.47 Z\" fill=\"#000000\" fill-rule=\"evenodd\" fill-opacity=\"1\" /><path clip-path=\"url(#clip460)\" d=\"M 0 0 M2255.88 1458.02 Q2259.23 1458.74 2261.11 1461 Q2263 1463.27 2263 1466.61 Q2263 1471.72 2259.49 1474.52 Q2255.97 1477.32 2249.49 1477.32 Q2247.31 1477.32 2245 1476.88 Q2242.7 1476.47 2240.25 1475.61 L2240.25 1471.1 Q2242.19 1472.23 2244.51 1472.81 Q2246.82 1473.39 2249.35 1473.39 Q2253.75 1473.39 2256.04 1471.65 Q2258.35 1469.92 2258.35 1466.61 Q2258.35 1463.55 2256.2 1461.84 Q2254.07 1460.1 2250.25 1460.1 L2246.22 1460.1 L2246.22 1456.26 L2250.44 1456.26 Q2253.88 1456.26 2255.71 1454.89 Q2257.54 1453.5 2257.54 1450.91 Q2257.54 1448.25 2255.64 1446.84 Q2253.77 1445.4 2250.25 1445.4 Q2248.33 1445.4 2246.13 1445.82 Q2243.93 1446.24 2241.29 1447.11 L2241.29 1442.95 Q2243.95 1442.21 2246.27 1441.84 Q2248.61 1441.47 2250.67 1441.47 Q2255.99 1441.47 2259.09 1443.9 Q2262.19 1446.3 2262.19 1450.43 Q2262.19 1453.3 2260.55 1455.29 Q2258.91 1457.25 2255.88 1458.02 Z\" fill=\"#000000\" fill-rule=\"evenodd\" fill-opacity=\"1\" /><path clip-path=\"url(#clip460)\" d=\"M 0 0 M2278.07 1445.17 Q2274.46 1445.17 2272.63 1448.74 Q2270.83 1452.28 2270.83 1459.41 Q2270.83 1466.51 2272.63 1470.08 Q2274.46 1473.62 2278.07 1473.62 Q2281.71 1473.62 2283.51 1470.08 Q2285.34 1466.51 2285.34 1459.41 Q2285.34 1452.28 2283.51 1448.74 Q2281.71 1445.17 2278.07 1445.17 M2278.07 1441.47 Q2283.88 1441.47 2286.94 1446.07 Q2290.02 1450.66 2290.02 1459.41 Q2290.02 1468.13 2286.94 1472.74 Q2283.88 1477.32 2278.07 1477.32 Q2272.26 1477.32 2269.19 1472.74 Q2266.13 1468.13 2266.13 1459.41 Q2266.13 1450.66 2269.19 1446.07 Q2272.26 1441.47 2278.07 1441.47 Z\" fill=\"#000000\" fill-rule=\"evenodd\" fill-opacity=\"1\" /><path clip-path=\"url(#clip460)\" d=\"M 0 0 M2305.09 1445.17 Q2301.48 1445.17 2299.65 1448.74 Q2297.84 1452.28 2297.84 1459.41 Q2297.84 1466.51 2299.65 1470.08 Q2301.48 1473.62 2305.09 1473.62 Q2308.72 1473.62 2310.53 1470.08 Q2312.36 1466.51 2312.36 1459.41 Q2312.36 1452.28 2310.53 1448.74 Q2308.72 1445.17 2305.09 1445.17 M2305.09 1441.47 Q2310.9 1441.47 2313.95 1446.07 Q2317.03 1450.66 2317.03 1459.41 Q2317.03 1468.13 2313.95 1472.74 Q2310.9 1477.32 2305.09 1477.32 Q2299.28 1477.32 2296.2 1472.74 Q2293.14 1468.13 2293.14 1459.41 Q2293.14 1450.66 2296.2 1446.07 Q2299.28 1441.47 2305.09 1441.47 Z\" fill=\"#000000\" fill-rule=\"evenodd\" fill-opacity=\"1\" /><path clip-path=\"url(#clip460)\" d=\"M 0 0 M2332.1 1445.17 Q2328.49 1445.17 2326.66 1448.74 Q2324.86 1452.28 2324.86 1459.41 Q2324.86 1466.51 2326.66 1470.08 Q2328.49 1473.62 2332.1 1473.62 Q2335.74 1473.62 2337.54 1470.08 Q2339.37 1466.51 2339.37 1459.41 Q2339.37 1452.28 2337.54 1448.74 Q2335.74 1445.17 2332.1 1445.17 M2332.1 1441.47 Q2337.91 1441.47 2340.97 1446.07 Q2344.05 1450.66 2344.05 1459.41 Q2344.05 1468.13 2340.97 1472.74 Q2337.91 1477.32 2332.1 1477.32 Q2326.29 1477.32 2323.21 1472.74 Q2320.16 1468.13 2320.16 1459.41 Q2320.16 1450.66 2323.21 1446.07 Q2326.29 1441.47 2332.1 1441.47 Z\" fill=\"#000000\" fill-rule=\"evenodd\" fill-opacity=\"1\" /><path clip-path=\"url(#clip460)\" d=\"M 0 0 M138.205 1399.3 Q134.593 1399.3 132.765 1402.87 Q130.959 1406.41 130.959 1413.54 Q130.959 1420.64 132.765 1424.21 Q134.593 1427.75 138.205 1427.75 Q141.839 1427.75 143.644 1424.21 Q145.473 1420.64 145.473 1413.54 Q145.473 1406.41 143.644 1402.87 Q141.839 1399.3 138.205 1399.3 M138.205 1395.6 Q144.015 1395.6 147.07 1400.21 Q150.149 1404.79 150.149 1413.54 Q150.149 1422.27 147.07 1426.87 Q144.015 1431.45 138.205 1431.45 Q132.394 1431.45 129.316 1426.87 Q126.26 1422.27 126.26 1413.54 Q126.26 1404.79 129.316 1400.21 Q132.394 1395.6 138.205 1395.6 Z\" fill=\"#000000\" fill-rule=\"evenodd\" fill-opacity=\"1\" /><path clip-path=\"url(#clip460)\" d=\"M 0 0 M155.218 1424.9 L160.103 1424.9 L160.103 1430.78 L155.218 1430.78 L155.218 1424.9 Z\" fill=\"#000000\" fill-rule=\"evenodd\" fill-opacity=\"1\" /><path clip-path=\"url(#clip460)\" d=\"M 0 0 M175.751 1411.64 Q172.603 1411.64 170.751 1413.79 Q168.922 1415.95 168.922 1419.7 Q168.922 1423.42 170.751 1425.6 Q172.603 1427.75 175.751 1427.75 Q178.899 1427.75 180.727 1425.6 Q182.579 1423.42 182.579 1419.7 Q182.579 1415.95 180.727 1413.79 Q178.899 1411.64 175.751 1411.64 M185.033 1396.99 L185.033 1401.25 Q183.274 1400.41 181.468 1399.97 Q179.686 1399.53 177.927 1399.53 Q173.297 1399.53 170.843 1402.66 Q168.413 1405.78 168.065 1412.1 Q169.431 1410.09 171.491 1409.02 Q173.552 1407.94 176.028 1407.94 Q181.237 1407.94 184.246 1411.11 Q187.278 1414.26 187.278 1419.7 Q187.278 1425.02 184.13 1428.24 Q180.982 1431.45 175.751 1431.45 Q169.755 1431.45 166.584 1426.87 Q163.413 1422.27 163.413 1413.54 Q163.413 1405.34 167.302 1400.48 Q171.19 1395.6 177.741 1395.6 Q179.501 1395.6 181.283 1395.95 Q183.089 1396.29 185.033 1396.99 Z\" fill=\"#000000\" fill-rule=\"evenodd\" fill-opacity=\"1\" /><path clip-path=\"url(#clip460)\" d=\"M 0 0 M139.269 1141.42 Q135.658 1141.42 133.83 1144.99 Q132.024 1148.53 132.024 1155.66 Q132.024 1162.77 133.83 1166.33 Q135.658 1169.87 139.269 1169.87 Q142.904 1169.87 144.709 1166.33 Q146.538 1162.77 146.538 1155.66 Q146.538 1148.53 144.709 1144.99 Q142.904 1141.42 139.269 1141.42 M139.269 1137.72 Q145.08 1137.72 148.135 1142.33 Q151.214 1146.91 151.214 1155.66 Q151.214 1164.39 148.135 1168.99 Q145.08 1173.58 139.269 1173.58 Q133.459 1173.58 130.381 1168.99 Q127.325 1164.39 127.325 1155.66 Q127.325 1146.91 130.381 1142.33 Q133.459 1137.72 139.269 1137.72 Z\" fill=\"#000000\" fill-rule=\"evenodd\" fill-opacity=\"1\" /><path clip-path=\"url(#clip460)\" d=\"M 0 0 M156.283 1167.02 L161.167 1167.02 L161.167 1172.9 L156.283 1172.9 L156.283 1167.02 Z\" fill=\"#000000\" fill-rule=\"evenodd\" fill-opacity=\"1\" /><path clip-path=\"url(#clip460)\" d=\"M 0 0 M165.056 1138.34 L187.278 1138.34 L187.278 1140.34 L174.732 1172.9 L169.848 1172.9 L181.653 1142.28 L165.056 1142.28 L165.056 1138.34 Z\" fill=\"#000000\" fill-rule=\"evenodd\" fill-opacity=\"1\" /><path clip-path=\"url(#clip460)\" d=\"M 0 0 M138.459 883.544 Q134.848 883.544 133.019 887.109 Q131.214 890.651 131.214 897.78 Q131.214 904.887 133.019 908.451 Q134.848 911.993 138.459 911.993 Q142.093 911.993 143.899 908.451 Q145.728 904.887 145.728 897.78 Q145.728 890.651 143.899 887.109 Q142.093 883.544 138.459 883.544 M138.459 879.84 Q144.269 879.84 147.325 884.447 Q150.404 889.03 150.404 897.78 Q150.404 906.507 147.325 911.113 Q144.269 915.697 138.459 915.697 Q132.649 915.697 129.57 911.113 Q126.515 906.507 126.515 897.78 Q126.515 889.03 129.57 884.447 Q132.649 879.84 138.459 879.84 Z\" fill=\"#000000\" fill-rule=\"evenodd\" fill-opacity=\"1\" /><path clip-path=\"url(#clip460)\" d=\"M 0 0 M155.473 909.146 L160.357 909.146 L160.357 915.025 L155.473 915.025 L155.473 909.146 Z\" fill=\"#000000\" fill-rule=\"evenodd\" fill-opacity=\"1\" /><path clip-path=\"url(#clip460)\" d=\"M 0 0 M175.427 898.613 Q172.093 898.613 170.172 900.396 Q168.274 902.178 168.274 905.303 Q168.274 908.428 170.172 910.211 Q172.093 911.993 175.427 911.993 Q178.76 911.993 180.681 910.211 Q182.602 908.405 182.602 905.303 Q182.602 902.178 180.681 900.396 Q178.783 898.613 175.427 898.613 M170.751 896.623 Q167.741 895.882 166.052 893.822 Q164.385 891.762 164.385 888.799 Q164.385 884.655 167.325 882.248 Q170.288 879.84 175.427 879.84 Q180.589 879.84 183.528 882.248 Q186.468 884.655 186.468 888.799 Q186.468 891.762 184.778 893.822 Q183.112 895.882 180.126 896.623 Q183.505 897.41 185.38 899.701 Q187.278 901.993 187.278 905.303 Q187.278 910.326 184.2 913.012 Q181.144 915.697 175.427 915.697 Q169.709 915.697 166.63 913.012 Q163.575 910.326 163.575 905.303 Q163.575 901.993 165.473 899.701 Q167.371 897.41 170.751 896.623 M169.038 889.239 Q169.038 891.924 170.704 893.428 Q172.394 894.933 175.427 894.933 Q178.436 894.933 180.126 893.428 Q181.839 891.924 181.839 889.239 Q181.839 886.553 180.126 885.049 Q178.436 883.544 175.427 883.544 Q172.394 883.544 170.704 885.049 Q169.038 886.553 169.038 889.239 Z\" fill=\"#000000\" fill-rule=\"evenodd\" fill-opacity=\"1\" /><path clip-path=\"url(#clip460)\" d=\"M 0 0 M138.552 625.665 Q134.941 625.665 133.112 629.23 Q131.306 632.771 131.306 639.901 Q131.306 647.008 133.112 650.572 Q134.941 654.114 138.552 654.114 Q142.186 654.114 143.992 650.572 Q145.82 647.008 145.82 639.901 Q145.82 632.771 143.992 629.23 Q142.186 625.665 138.552 625.665 M138.552 621.961 Q144.362 621.961 147.417 626.568 Q150.496 631.151 150.496 639.901 Q150.496 648.628 147.417 653.234 Q144.362 657.818 138.552 657.818 Q132.742 657.818 129.663 653.234 Q126.607 648.628 126.607 639.901 Q126.607 631.151 129.663 626.568 Q132.742 621.961 138.552 621.961 Z\" fill=\"#000000\" fill-rule=\"evenodd\" fill-opacity=\"1\" /><path clip-path=\"url(#clip460)\" d=\"M 0 0 M155.566 651.267 L160.45 651.267 L160.45 657.146 L155.566 657.146 L155.566 651.267 Z\" fill=\"#000000\" fill-rule=\"evenodd\" fill-opacity=\"1\" /><path clip-path=\"url(#clip460)\" d=\"M 0 0 M165.658 656.429 L165.658 652.17 Q167.417 653.003 169.223 653.443 Q171.028 653.882 172.765 653.882 Q177.394 653.882 179.825 650.781 Q182.278 647.656 182.626 641.313 Q181.283 643.304 179.223 644.369 Q177.163 645.433 174.663 645.433 Q169.478 645.433 166.445 642.308 Q163.436 639.16 163.436 633.721 Q163.436 628.397 166.584 625.179 Q169.732 621.961 174.964 621.961 Q180.959 621.961 184.107 626.568 Q187.278 631.151 187.278 639.901 Q187.278 648.072 183.389 652.957 Q179.524 657.818 172.973 657.818 Q171.214 657.818 169.408 657.47 Q167.603 657.123 165.658 656.429 M174.964 641.776 Q178.112 641.776 179.94 639.623 Q181.792 637.471 181.792 633.721 Q181.792 629.994 179.94 627.841 Q178.112 625.665 174.964 625.665 Q171.815 625.665 169.964 627.841 Q168.135 629.994 168.135 633.721 Q168.135 637.471 169.964 639.623 Q171.815 641.776 174.964 641.776 Z\" fill=\"#000000\" fill-rule=\"evenodd\" fill-opacity=\"1\" /><path clip-path=\"url(#clip460)\" d=\"M 0 0 M130.404 395.332 L138.043 395.332 L138.043 368.967 L129.732 370.633 L129.732 366.374 L137.996 364.707 L142.672 364.707 L142.672 395.332 L150.311 395.332 L150.311 399.267 L130.404 399.267 L130.404 395.332 Z\" fill=\"#000000\" fill-rule=\"evenodd\" fill-opacity=\"1\" /><path clip-path=\"url(#clip460)\" d=\"M 0 0 M155.38 393.388 L160.265 393.388 L160.265 399.267 L155.38 399.267 L155.38 393.388 Z\" fill=\"#000000\" fill-rule=\"evenodd\" fill-opacity=\"1\" /><path clip-path=\"url(#clip460)\" d=\"M 0 0 M175.334 367.786 Q171.723 367.786 169.894 371.351 Q168.089 374.892 168.089 382.022 Q168.089 389.128 169.894 392.693 Q171.723 396.235 175.334 396.235 Q178.968 396.235 180.774 392.693 Q182.602 389.128 182.602 382.022 Q182.602 374.892 180.774 371.351 Q178.968 367.786 175.334 367.786 M175.334 364.082 Q181.144 364.082 184.2 368.689 Q187.278 373.272 187.278 382.022 Q187.278 390.749 184.2 395.355 Q181.144 399.939 175.334 399.939 Q169.524 399.939 166.445 395.355 Q163.39 390.749 163.39 382.022 Q163.39 373.272 166.445 368.689 Q169.524 364.082 175.334 364.082 Z\" fill=\"#000000\" fill-rule=\"evenodd\" fill-opacity=\"1\" /><path clip-path=\"url(#clip460)\" d=\"M 0 0 M131.63 137.453 L139.269 137.453 L139.269 111.087 L130.959 112.754 L130.959 108.495 L139.223 106.828 L143.899 106.828 L143.899 137.453 L151.538 137.453 L151.538 141.388 L131.63 141.388 L131.63 137.453 Z\" fill=\"#000000\" fill-rule=\"evenodd\" fill-opacity=\"1\" /><path clip-path=\"url(#clip460)\" d=\"M 0 0 M156.607 135.509 L161.491 135.509 L161.491 141.388 L156.607 141.388 L156.607 135.509 Z\" fill=\"#000000\" fill-rule=\"evenodd\" fill-opacity=\"1\" /><path clip-path=\"url(#clip460)\" d=\"M 0 0 M167.371 137.453 L175.01 137.453 L175.01 111.087 L166.7 112.754 L166.7 108.495 L174.964 106.828 L179.64 106.828 L179.64 137.453 L187.278 137.453 L187.278 141.388 L167.371 141.388 L167.371 137.453 Z\" fill=\"#000000\" fill-rule=\"evenodd\" fill-opacity=\"1\" /><path clip-path=\"url(#clip460)\" d=\"M 0 0 M1212.3 1536.76 L1212.3 1539.62 L1185.37 1539.62 Q1185.75 1545.67 1189 1548.85 Q1192.28 1552 1198.1 1552 Q1201.48 1552 1204.63 1551.17 Q1207.81 1550.35 1210.93 1548.69 L1210.93 1554.23 Q1207.78 1555.57 1204.47 1556.27 Q1201.16 1556.97 1197.75 1556.97 Q1189.22 1556.97 1184.22 1552 Q1179.26 1547.04 1179.26 1538.57 Q1179.26 1529.82 1183.97 1524.69 Q1188.71 1519.54 1196.73 1519.54 Q1203.93 1519.54 1208.1 1524.18 Q1212.3 1528.8 1212.3 1536.76 M1206.44 1535.04 Q1206.38 1530.23 1203.73 1527.37 Q1201.12 1524.5 1196.8 1524.5 Q1191.89 1524.5 1188.93 1527.27 Q1186.01 1530.04 1185.56 1535.07 L1206.44 1535.04 Z\" fill=\"#000000\" fill-rule=\"evenodd\" fill-opacity=\"1\" /><path clip-path=\"url(#clip460)\" d=\"M 0 0 M1224.11 1550.7 L1224.11 1569.6 L1218.22 1569.6 L1218.22 1520.4 L1224.11 1520.4 L1224.11 1525.81 Q1225.95 1522.62 1228.75 1521.1 Q1231.58 1519.54 1235.5 1519.54 Q1241.99 1519.54 1246.03 1524.69 Q1250.11 1529.85 1250.11 1538.25 Q1250.11 1546.65 1246.03 1551.81 Q1241.99 1556.97 1235.5 1556.97 Q1231.58 1556.97 1228.75 1555.44 Q1225.95 1553.88 1224.11 1550.7 M1244.03 1538.25 Q1244.03 1531.79 1241.36 1528.13 Q1238.71 1524.44 1234.07 1524.44 Q1229.42 1524.44 1226.75 1528.13 Q1224.11 1531.79 1224.11 1538.25 Q1224.11 1544.71 1226.75 1548.4 Q1229.42 1552.07 1234.07 1552.07 Q1238.71 1552.07 1241.36 1548.4 Q1244.03 1544.71 1244.03 1538.25 Z\" fill=\"#000000\" fill-rule=\"evenodd\" fill-opacity=\"1\" /><path clip-path=\"url(#clip460)\" d=\"M 0 0 M1270.07 1524.5 Q1265.35 1524.5 1262.62 1528.19 Q1259.88 1531.85 1259.88 1538.25 Q1259.88 1544.65 1262.59 1548.34 Q1265.32 1552 1270.07 1552 Q1274.74 1552 1277.48 1548.31 Q1280.22 1544.62 1280.22 1538.25 Q1280.22 1531.92 1277.48 1528.23 Q1274.74 1524.5 1270.07 1524.5 M1270.07 1519.54 Q1277.7 1519.54 1282.06 1524.5 Q1286.43 1529.47 1286.43 1538.25 Q1286.43 1547 1282.06 1552 Q1277.7 1556.97 1270.07 1556.97 Q1262.39 1556.97 1258.03 1552 Q1253.71 1547 1253.71 1538.25 Q1253.71 1529.47 1258.03 1524.5 Q1262.39 1519.54 1270.07 1519.54 Z\" fill=\"#000000\" fill-rule=\"evenodd\" fill-opacity=\"1\" /><path clip-path=\"url(#clip460)\" d=\"M 0 0 M1318.22 1521.76 L1318.22 1527.24 Q1315.74 1525.87 1313.23 1525.2 Q1310.74 1524.5 1308.2 1524.5 Q1302.5 1524.5 1299.35 1528.13 Q1296.2 1531.73 1296.2 1538.25 Q1296.2 1544.78 1299.35 1548.4 Q1302.5 1552 1308.2 1552 Q1310.74 1552 1313.23 1551.33 Q1315.74 1550.63 1318.22 1549.26 L1318.22 1554.68 Q1315.77 1555.82 1313.13 1556.39 Q1310.52 1556.97 1307.56 1556.97 Q1299.51 1556.97 1294.76 1551.91 Q1290.02 1546.85 1290.02 1538.25 Q1290.02 1529.53 1294.8 1524.53 Q1299.6 1519.54 1307.94 1519.54 Q1310.65 1519.54 1313.23 1520.11 Q1315.8 1520.65 1318.22 1521.76 Z\" fill=\"#000000\" fill-rule=\"evenodd\" fill-opacity=\"1\" /><path clip-path=\"url(#clip460)\" d=\"M 0 0 M1354 1534.53 L1354 1556.04 L1348.14 1556.04 L1348.14 1534.72 Q1348.14 1529.66 1346.17 1527.14 Q1344.19 1524.63 1340.25 1524.63 Q1335.5 1524.63 1332.77 1527.65 Q1330.03 1530.68 1330.03 1535.9 L1330.03 1556.04 L1324.14 1556.04 L1324.14 1506.52 L1330.03 1506.52 L1330.03 1525.93 Q1332.13 1522.72 1334.96 1521.13 Q1337.83 1519.54 1341.55 1519.54 Q1347.7 1519.54 1350.85 1523.36 Q1354 1527.14 1354 1534.53 Z\" fill=\"#000000\" fill-rule=\"evenodd\" fill-opacity=\"1\" /><path clip-path=\"url(#clip460)\" d=\"M 0 0 M1382.87 1521.45 L1382.87 1526.98 Q1380.38 1525.71 1377.71 1525.07 Q1375.04 1524.44 1372.17 1524.44 Q1367.81 1524.44 1365.61 1525.77 Q1363.45 1527.11 1363.45 1529.79 Q1363.45 1531.82 1365.01 1533 Q1366.57 1534.15 1371.28 1535.2 L1373.29 1535.64 Q1379.52 1536.98 1382.13 1539.43 Q1384.78 1541.85 1384.78 1546.21 Q1384.78 1551.17 1380.83 1554.07 Q1376.91 1556.97 1370.04 1556.97 Q1367.17 1556.97 1364.06 1556.39 Q1360.97 1555.85 1357.53 1554.74 L1357.53 1548.69 Q1360.78 1550.38 1363.93 1551.24 Q1367.08 1552.07 1370.17 1552.07 Q1374.3 1552.07 1376.53 1550.66 Q1378.76 1549.23 1378.76 1546.65 Q1378.76 1544.27 1377.14 1542.99 Q1375.55 1541.72 1370.1 1540.54 L1368.07 1540.07 Q1362.62 1538.92 1360.2 1536.56 Q1357.78 1534.18 1357.78 1530.04 Q1357.78 1525.01 1361.35 1522.27 Q1364.91 1519.54 1371.47 1519.54 Q1374.72 1519.54 1377.58 1520.01 Q1380.45 1520.49 1382.87 1521.45 Z\" fill=\"#000000\" fill-rule=\"evenodd\" fill-opacity=\"1\" /><path clip-path=\"url(#clip460)\" d=\"M 0 0 M44.1444 904.492 L50.9239 904.492 Q47.9002 907.739 46.4043 911.431 Q44.9083 915.091 44.9083 919.229 Q44.9083 927.377 49.9054 931.705 Q54.8707 936.034 64.2919 936.034 Q73.6813 936.034 78.6784 931.705 Q83.6436 927.377 83.6436 919.229 Q83.6436 915.091 82.1477 911.431 Q80.6518 907.739 77.6281 904.492 L84.3439 904.492 Q86.6355 907.866 87.7814 911.653 Q88.9272 915.409 88.9272 919.611 Q88.9272 930.4 82.3387 936.607 Q75.7183 942.814 64.2919 942.814 Q52.8336 942.814 46.2451 936.607 Q39.6248 930.4 39.6248 919.611 Q39.6248 915.346 40.7706 911.59 Q41.8846 907.802 44.1444 904.492 Z\" fill=\"#000000\" fill-rule=\"evenodd\" fill-opacity=\"1\" /><path clip-path=\"url(#clip460)\" d=\"M 0 0 M57.8307 877.692 Q57.2578 878.679 57.0032 879.857 Q56.7167 881.003 56.7167 882.403 Q56.7167 887.368 59.9632 890.042 Q63.1779 892.684 69.2253 892.684 L88.0042 892.684 L88.0042 898.572 L52.3562 898.572 L52.3562 892.684 L57.8944 892.684 Q54.6479 890.838 53.0883 887.878 Q51.4968 884.917 51.4968 880.684 Q51.4968 880.08 51.5923 879.347 Q51.656 878.615 51.8151 877.724 L57.8307 877.692 Z\" fill=\"#000000\" fill-rule=\"evenodd\" fill-opacity=\"1\" /><path clip-path=\"url(#clip460)\" d=\"M 0 0 M56.4621 859.168 Q56.4621 863.879 60.1542 866.616 Q63.8145 869.353 70.212 869.353 Q76.6095 869.353 80.3017 866.648 Q83.9619 863.911 83.9619 859.168 Q83.9619 854.489 80.2698 851.752 Q76.5777 849.015 70.212 849.015 Q63.8781 849.015 60.186 851.752 Q56.4621 854.489 56.4621 859.168 M51.4968 859.168 Q51.4968 851.529 56.4621 847.169 Q61.4273 842.808 70.212 842.808 Q78.9649 842.808 83.9619 847.169 Q88.9272 851.529 88.9272 859.168 Q88.9272 866.839 83.9619 871.199 Q78.9649 875.528 70.212 875.528 Q61.4273 875.528 56.4621 871.199 Q51.4968 866.839 51.4968 859.168 Z\" fill=\"#000000\" fill-rule=\"evenodd\" fill-opacity=\"1\" /><path clip-path=\"url(#clip460)\" d=\"M 0 0 M53.4065 813.94 L58.9447 813.94 Q57.6716 816.422 57.035 819.096 Q56.3984 821.77 56.3984 824.634 Q56.3984 828.995 57.7352 831.191 Q59.072 833.355 61.7456 833.355 Q63.7826 833.355 64.9603 831.796 Q66.1061 830.236 67.1565 825.525 L67.6021 823.52 Q68.9389 817.282 71.3897 814.672 Q73.8086 812.03 78.1691 812.03 Q83.1344 812.03 86.0308 815.977 Q88.9272 819.892 88.9272 826.767 Q88.9272 829.631 88.3543 832.751 Q87.8132 835.838 86.6992 839.275 L80.6518 839.275 Q82.3387 836.029 83.198 832.878 Q84.0256 829.727 84.0256 826.639 Q84.0256 822.502 82.6251 820.274 Q81.1929 818.046 78.6147 818.046 Q76.2276 818.046 74.9545 819.669 Q73.6813 821.26 72.5037 826.703 L72.0262 828.74 Q70.8804 834.183 68.5251 836.602 Q66.138 839.021 62.0002 839.021 Q56.9713 839.021 54.2341 835.456 Q51.4968 831.891 51.4968 825.334 Q51.4968 822.088 51.9743 819.223 Q52.4517 816.359 53.4065 813.94 Z\" fill=\"#000000\" fill-rule=\"evenodd\" fill-opacity=\"1\" /><path clip-path=\"url(#clip460)\" d=\"M 0 0 M53.4065 783.162 L58.9447 783.162 Q57.6716 785.644 57.035 788.318 Q56.3984 790.991 56.3984 793.856 Q56.3984 798.217 57.7352 800.413 Q59.072 802.577 61.7456 802.577 Q63.7826 802.577 64.9603 801.017 Q66.1061 799.458 67.1565 794.747 L67.6021 792.742 Q68.9389 786.504 71.3897 783.894 Q73.8086 781.252 78.1691 781.252 Q83.1344 781.252 86.0308 785.199 Q88.9272 789.114 88.9272 795.989 Q88.9272 798.853 88.3543 801.972 Q87.8132 805.06 86.6992 808.497 L80.6518 808.497 Q82.3387 805.251 83.198 802.1 Q84.0256 798.949 84.0256 795.861 Q84.0256 791.724 82.6251 789.496 Q81.1929 787.268 78.6147 787.268 Q76.2276 787.268 74.9545 788.891 Q73.6813 790.482 72.5037 795.925 L72.0262 797.962 Q70.8804 803.405 68.5251 805.824 Q66.138 808.243 62.0002 808.243 Q56.9713 808.243 54.2341 804.678 Q51.4968 801.113 51.4968 794.556 Q51.4968 791.31 51.9743 788.445 Q52.4517 785.581 53.4065 783.162 Z\" fill=\"#000000\" fill-rule=\"evenodd\" fill-opacity=\"1\" /><path clip-path=\"url(#clip460)\" d=\"M 0 0 M40.4842 754.134 L40.4842 724.088 L45.895 724.088 L45.895 747.705 L59.9632 747.705 L59.9632 725.075 L65.3741 725.075 L65.3741 747.705 L82.5933 747.705 L82.5933 723.515 L88.0042 723.515 L88.0042 754.134 L40.4842 754.134 Z\" fill=\"#000000\" fill-rule=\"evenodd\" fill-opacity=\"1\" /><path clip-path=\"url(#clip460)\" d=\"M 0 0 M66.4881 687.74 L88.0042 687.74 L88.0042 693.596 L66.679 693.596 Q61.6183 693.596 59.1038 695.57 Q56.5894 697.543 56.5894 701.49 Q56.5894 706.232 59.6131 708.969 Q62.6368 711.707 67.8567 711.707 L88.0042 711.707 L88.0042 717.595 L52.3562 717.595 L52.3562 711.707 L57.8944 711.707 Q54.6797 709.606 53.0883 706.773 Q51.4968 703.909 51.4968 700.185 Q51.4968 694.042 55.3163 690.891 Q59.1038 687.74 66.4881 687.74 Z\" fill=\"#000000\" fill-rule=\"evenodd\" fill-opacity=\"1\" /><path clip-path=\"url(#clip460)\" d=\"M 0 0 M42.2347 675.804 L52.3562 675.804 L52.3562 663.741 L56.9077 663.741 L56.9077 675.804 L76.2594 675.804 Q80.6199 675.804 81.8613 674.626 Q83.1026 673.417 83.1026 669.757 L83.1026 663.741 L88.0042 663.741 L88.0042 669.757 Q88.0042 676.536 85.4897 679.114 Q82.9434 681.692 76.2594 681.692 L56.9077 681.692 L56.9077 685.989 L52.3562 685.989 L52.3562 681.692 L42.2347 681.692 L42.2347 675.804 Z\" fill=\"#000000\" fill-rule=\"evenodd\" fill-opacity=\"1\" /><path clip-path=\"url(#clip460)\" d=\"M 0 0 M57.8307 636.941 Q57.2578 637.928 57.0032 639.106 Q56.7167 640.252 56.7167 641.652 Q56.7167 646.617 59.9632 649.291 Q63.1779 651.933 69.2253 651.933 L88.0042 651.933 L88.0042 657.821 L52.3562 657.821 L52.3562 651.933 L57.8944 651.933 Q54.6479 650.087 53.0883 647.127 Q51.4968 644.166 51.4968 639.933 Q51.4968 639.329 51.5923 638.596 Q51.656 637.864 51.8151 636.973 L57.8307 636.941 Z\" fill=\"#000000\" fill-rule=\"evenodd\" fill-opacity=\"1\" /><path clip-path=\"url(#clip460)\" d=\"M 0 0 M56.4621 618.417 Q56.4621 623.128 60.1542 625.865 Q63.8145 628.602 70.212 628.602 Q76.6095 628.602 80.3017 625.897 Q83.9619 623.16 83.9619 618.417 Q83.9619 613.738 80.2698 611.001 Q76.5777 608.264 70.212 608.264 Q63.8781 608.264 60.186 611.001 Q56.4621 613.738 56.4621 618.417 M51.4968 618.417 Q51.4968 610.778 56.4621 606.418 Q61.4273 602.057 70.212 602.057 Q78.9649 602.057 83.9619 606.418 Q88.9272 610.778 88.9272 618.417 Q88.9272 626.088 83.9619 630.448 Q78.9649 634.777 70.212 634.777 Q61.4273 634.777 56.4621 630.448 Q51.4968 626.088 51.4968 618.417 Z\" fill=\"#000000\" fill-rule=\"evenodd\" fill-opacity=\"1\" /><path clip-path=\"url(#clip460)\" d=\"M 0 0 M82.657 590.249 L101.563 590.249 L101.563 596.137 L52.3562 596.137 L52.3562 590.249 L57.7671 590.249 Q54.5842 588.403 53.0564 585.602 Q51.4968 582.769 51.4968 578.854 Q51.4968 572.361 56.6531 568.319 Q61.8093 564.245 70.212 564.245 Q78.6147 564.245 83.771 568.319 Q88.9272 572.361 88.9272 578.854 Q88.9272 582.769 87.3994 585.602 Q85.8398 588.403 82.657 590.249 M70.212 570.324 Q63.7508 570.324 60.0905 572.998 Q56.3984 575.64 56.3984 580.287 Q56.3984 584.934 60.0905 587.607 Q63.7508 590.249 70.212 590.249 Q76.6732 590.249 80.3653 587.607 Q84.0256 584.934 84.0256 580.287 Q84.0256 575.64 80.3653 572.998 Q76.6732 570.324 70.212 570.324 Z\" fill=\"#000000\" fill-rule=\"evenodd\" fill-opacity=\"1\" /><path clip-path=\"url(#clip460)\" d=\"M 0 0 M91.3143 543.27 Q97.68 545.753 99.6216 548.108 Q101.563 550.463 101.563 554.41 L101.563 559.089 L96.6615 559.089 L96.6615 555.651 Q96.6615 553.232 95.5157 551.896 Q94.3699 550.559 90.1048 548.935 L87.4312 547.885 L52.3562 562.303 L52.3562 556.097 L80.238 544.957 L52.3562 533.817 L52.3562 527.61 L91.3143 543.27 Z\" fill=\"#000000\" fill-rule=\"evenodd\" fill-opacity=\"1\" /><polyline clip-path=\"url(#clip462)\" style=\"stroke:#009af9; stroke-width:8; stroke-opacity:1; fill:none\" points=\"\n",
       "  271.886,315.289 272.56,357.355 273.233,390.93 273.907,417.504 274.581,438.759 275.254,456.099 275.928,470.559 276.602,482.867 277.275,493.529 277.949,502.903 \n",
       "  278.623,511.247 279.296,518.753 279.97,525.565 280.644,531.799 281.317,537.544 281.991,542.874 282.665,547.851 283.338,552.527 284.012,556.944 284.685,561.14 \n",
       "  285.359,565.147 286.033,568.992 286.706,572.698 287.38,576.286 288.054,579.773 288.727,583.174 289.401,586.501 290.075,589.767 290.748,592.98 291.422,596.149 \n",
       "  292.096,599.281 292.769,602.382 293.443,605.456 294.116,608.508 294.79,611.543 295.464,614.562 296.137,617.569 296.811,620.566 297.485,623.556 298.158,626.539 \n",
       "  298.832,629.518 299.506,632.494 300.179,635.466 300.853,638.439 301.527,641.41 302.2,644.383 302.874,647.357 303.548,650.333 304.221,653.31 304.895,656.293 \n",
       "  305.568,659.28 306.242,662.272 306.916,665.27 307.589,668.275 308.263,671.288 308.937,674.31 309.61,677.343 310.284,680.389 310.958,683.449 311.631,686.526 \n",
       "  312.305,689.621 312.979,692.738 313.652,695.881 314.326,699.052 314.999,702.259 315.673,705.504 316.347,708.795 317.02,712.139 317.694,715.545 318.368,719.022 \n",
       "  319.041,722.582 319.715,726.239 320.389,730.005 321.062,733.899 321.736,737.938 322.41,742.14 323.083,746.526 323.757,751.113 324.431,755.918 325.104,760.951 \n",
       "  325.778,766.218 326.451,771.714 327.125,777.423 327.799,783.322 328.472,789.377 329.146,795.55 329.82,801.803 330.493,808.1 331.167,814.414 331.841,820.719 \n",
       "  332.514,826.998 333.188,833.237 333.862,839.425 334.535,845.551 335.209,851.609 335.882,857.592 336.556,863.495 337.23,869.312 337.903,875.041 338.577,880.678 \n",
       "  339.251,886.222 339.924,891.672 340.598,897.026 341.272,902.283 341.945,907.446 342.619,912.512 343.293,917.483 343.966,922.36 344.64,927.143 345.314,931.835 \n",
       "  345.987,936.436 346.661,940.947 347.334,945.37 348.008,949.708 348.682,953.96 349.355,958.13 350.029,962.218 350.703,966.226 351.376,970.156 352.05,974.009 \n",
       "  352.724,977.788 353.397,981.494 354.071,985.127 354.745,988.692 355.418,992.188 356.092,995.616 356.765,998.98 357.439,1002.28 358.113,1005.52 358.786,1008.69 \n",
       "  359.46,1011.81 360.134,1014.87 360.807,1017.87 361.481,1020.82 362.155,1023.71 362.828,1026.55 363.502,1029.34 364.176,1032.08 364.849,1034.77 365.523,1037.41 \n",
       "  366.197,1040 366.87,1042.55 367.544,1045.05 368.217,1047.51 368.891,1049.93 369.565,1052.3 370.238,1054.64 370.912,1056.93 371.586,1059.18 372.259,1061.4 \n",
       "  372.933,1063.58 373.607,1065.72 374.28,1067.83 374.954,1069.9 375.628,1071.94 376.301,1073.94 376.975,1075.91 377.648,1077.85 378.322,1079.76 378.996,1081.64 \n",
       "  379.669,1083.49 380.343,1085.31 381.017,1087.1 381.69,1088.86 382.364,1090.59 383.038,1092.3 383.711,1093.98 384.385,1095.64 385.059,1097.27 385.732,1098.87 \n",
       "  386.406,1100.46 387.08,1102.01 387.753,1103.55 388.427,1105.06 389.1,1106.55 389.774,1108.02 390.448,1109.46 391.121,1110.89 391.795,1112.3 392.469,1113.68 \n",
       "  393.142,1115.05 393.816,1116.39 394.49,1117.72 395.163,1119.03 395.837,1120.32 396.511,1121.59 397.184,1122.85 397.858,1124.08 398.531,1125.3 399.205,1126.51 \n",
       "  399.879,1127.7 400.552,1128.87 401.226,1130.02 401.9,1131.17 402.573,1132.29 403.247,1133.4 403.921,1134.5 404.594,1135.58 405.268,1136.65 405.942,1137.71 \n",
       "  406.615,1138.75 407.289,1139.78 407.963,1140.79 408.636,1141.79 409.31,1142.78 409.983,1143.76 410.657,1144.73 411.331,1145.68 412.004,1146.62 412.678,1147.55 \n",
       "  413.352,1148.47 414.025,1149.38 414.699,1150.27 415.373,1151.16 416.046,1152.04 416.72,1152.9 417.394,1153.76 418.067,1154.6 418.741,1155.44 419.414,1156.26 \n",
       "  420.088,1157.08 420.762,1157.88 421.435,1158.68 422.109,1159.47 422.783,1160.25 423.456,1161.02 424.13,1161.78 424.804,1162.53 425.477,1163.28 426.151,1164.02 \n",
       "  426.825,1164.74 427.498,1165.47 428.172,1166.18 428.846,1166.88 429.519,1167.58 430.193,1168.27 430.866,1168.95 431.54,1169.63 432.214,1170.3 432.887,1170.96 \n",
       "  433.561,1171.61 434.235,1172.26 434.908,1172.9 435.582,1173.54 436.256,1174.16 436.929,1174.78 437.603,1175.4 438.277,1176.01 438.95,1176.61 439.624,1177.21 \n",
       "  440.297,1177.8 440.971,1178.38 441.645,1178.96 442.318,1179.53 442.992,1180.1 443.666,1180.66 444.339,1181.22 445.013,1181.77 445.687,1182.32 446.36,1182.86 \n",
       "  447.034,1183.39 447.708,1183.92 448.381,1184.45 449.055,1184.97 449.729,1185.48 450.402,1185.99 451.076,1186.5 451.749,1187 452.423,1187.5 453.097,1187.99 \n",
       "  453.77,1188.47 454.444,1188.96 455.118,1189.44 455.791,1189.91 456.465,1190.38 457.139,1190.84 457.812,1191.31 458.486,1191.76 459.16,1192.22 459.833,1192.67 \n",
       "  460.507,1193.11 461.18,1193.55 461.854,1193.99 462.528,1194.42 463.201,1194.85 463.875,1195.28 464.549,1195.7 465.222,1196.12 465.896,1196.54 466.57,1196.95 \n",
       "  467.243,1197.36 467.917,1197.76 468.591,1198.17 469.264,1198.56 469.938,1198.96 470.612,1199.35 471.285,1199.74 471.959,1200.13 472.632,1200.51 473.306,1200.89 \n",
       "  473.98,1201.26 474.653,1201.64 475.327,1202.01 476.001,1202.37 476.674,1202.74 477.348,1203.1 478.022,1203.46 478.695,1203.81 479.369,1204.17 480.043,1204.52 \n",
       "  480.716,1204.86 481.39,1205.21 482.063,1205.55 482.737,1205.89 483.411,1206.23 484.084,1206.56 484.758,1206.89 485.432,1207.22 486.105,1207.55 486.779,1207.87 \n",
       "  487.453,1208.19 488.126,1208.51 488.8,1208.83 489.474,1209.14 490.147,1209.46 490.821,1209.77 491.495,1210.07 492.168,1210.38 492.842,1210.68 493.515,1210.98 \n",
       "  494.189,1211.28 494.863,1211.58 495.536,1211.87 496.21,1212.17 496.884,1212.46 497.557,1212.75 498.231,1213.03 498.905,1213.32 499.578,1213.6 500.252,1213.88 \n",
       "  500.926,1214.16 501.599,1214.44 502.273,1214.71 502.946,1214.98 503.62,1215.25 504.294,1215.52 504.967,1215.79 505.641,1216.06 506.315,1216.32 506.988,1216.58 \n",
       "  507.662,1216.84 508.336,1217.1 509.009,1217.36 509.683,1217.61 510.357,1217.87 511.03,1218.12 511.704,1218.37 512.378,1218.62 513.051,1218.86 513.725,1219.11 \n",
       "  514.398,1219.35 515.072,1219.59 515.746,1219.83 516.419,1220.07 517.093,1220.31 517.767,1220.55 518.44,1220.78 519.114,1221.02 519.788,1221.25 520.461,1221.48 \n",
       "  521.135,1221.71 521.809,1221.93 522.482,1222.16 523.156,1222.38 523.829,1222.61 524.503,1222.83 525.177,1223.05 525.85,1223.27 526.524,1223.49 527.198,1223.7 \n",
       "  527.871,1223.92 528.545,1224.13 529.219,1224.34 529.892,1224.56 530.566,1224.77 531.24,1224.97 531.913,1225.18 532.587,1225.39 533.261,1225.59 533.934,1225.8 \n",
       "  534.608,1226 535.281,1226.2 535.955,1226.4 536.629,1226.6 537.302,1226.8 537.976,1227 538.65,1227.19 539.323,1227.39 539.997,1227.58 540.671,1227.78 \n",
       "  541.344,1227.97 542.018,1228.16 542.692,1228.35 543.365,1228.54 544.039,1228.72 544.712,1228.91 545.386,1229.1 546.06,1229.28 546.733,1229.46 547.407,1229.65 \n",
       "  548.081,1229.83 548.754,1230.01 549.428,1230.19 550.102,1230.37 550.775,1230.54 551.449,1230.72 552.123,1230.9 552.796,1231.07 553.47,1231.24 554.144,1231.42 \n",
       "  554.817,1231.59 555.491,1231.76 556.164,1231.93 556.838,1232.1 557.512,1232.27 558.185,1232.44 558.859,1232.6 559.533,1232.77 560.206,1232.93 560.88,1233.1 \n",
       "  561.554,1233.26 562.227,1233.42 562.901,1233.59 563.575,1233.75 564.248,1233.91 564.922,1234.07 565.595,1234.22 566.269,1234.38 566.943,1234.54 567.616,1234.69 \n",
       "  568.29,1234.85 568.964,1235 569.637,1235.16 570.311,1235.31 570.985,1235.46 571.658,1235.62 572.332,1235.77 573.006,1235.92 573.679,1236.07 574.353,1236.21 \n",
       "  575.027,1236.36 575.7,1236.51 576.374,1236.66 577.047,1236.8 577.721,1236.95 578.395,1237.09 579.068,1237.24 579.742,1237.38 580.416,1237.52 581.089,1237.66 \n",
       "  581.763,1237.8 582.437,1237.94 583.11,1238.08 583.784,1238.22 584.458,1238.36 585.131,1238.5 585.805,1238.64 586.478,1238.77 587.152,1238.91 587.826,1239.05 \n",
       "  588.499,1239.18 589.173,1239.32 589.847,1239.45 590.52,1239.58 591.194,1239.71 591.868,1239.85 592.541,1239.98 593.215,1240.11 593.889,1240.24 594.562,1240.37 \n",
       "  595.236,1240.5 595.91,1240.63 596.583,1240.75 597.257,1240.88 597.93,1241.01 598.604,1241.13 599.278,1241.26 599.951,1241.38 600.625,1241.51 601.299,1241.63 \n",
       "  601.972,1241.76 602.646,1241.88 603.32,1242 603.993,1242.12 604.667,1242.24 605.341,1242.37 606.014,1242.49 606.688,1242.61 607.361,1242.72 608.035,1242.84 \n",
       "  608.709,1242.96 609.382,1243.08 610.056,1243.2 610.73,1243.31 611.403,1243.43 612.077,1243.55 612.751,1243.66 613.424,1243.78 614.098,1243.89 614.772,1244.01 \n",
       "  615.445,1244.12 616.119,1244.23 616.793,1244.35 617.466,1244.46 618.14,1244.57 618.813,1244.68 619.487,1244.79 620.161,1244.9 620.834,1245.01 621.508,1245.12 \n",
       "  622.182,1245.23 622.855,1245.34 623.529,1245.45 624.203,1245.56 624.876,1245.66 625.55,1245.77 626.224,1245.88 626.897,1245.98 627.571,1246.09 628.244,1246.19 \n",
       "  628.918,1246.3 629.592,1246.4 630.265,1246.51 630.939,1246.61 631.613,1246.71 632.286,1246.82 632.96,1246.92 633.634,1247.02 634.307,1247.12 634.981,1247.22 \n",
       "  635.655,1247.33 636.328,1247.43 637.002,1247.53 637.676,1247.63 638.349,1247.73 639.023,1247.82 639.696,1247.92 640.37,1248.02 641.044,1248.12 641.717,1248.22 \n",
       "  642.391,1248.31 643.065,1248.41 643.738,1248.51 644.412,1248.6 645.086,1248.7 645.759,1248.8 646.433,1248.89 647.107,1248.99 647.78,1249.08 648.454,1249.17 \n",
       "  649.127,1249.27 649.801,1249.36 650.475,1249.45 651.148,1249.55 651.822,1249.64 652.496,1249.73 653.169,1249.82 653.843,1249.92 654.517,1250.01 655.19,1250.1 \n",
       "  655.864,1250.19 656.538,1250.28 657.211,1250.37 657.885,1250.46 658.559,1250.55 659.232,1250.64 659.906,1250.72 660.579,1250.81 661.253,1250.9 661.927,1250.99 \n",
       "  662.6,1251.08 663.274,1251.16 663.948,1251.25 664.621,1251.34 665.295,1251.42 665.969,1251.51 666.642,1251.59 667.316,1251.68 667.99,1251.76 668.663,1251.85 \n",
       "  669.337,1251.93 670.01,1252.02 670.684,1252.1 671.358,1252.19 672.031,1252.27 672.705,1252.35 673.379,1252.43 674.052,1252.52 674.726,1252.6 675.4,1252.68 \n",
       "  676.073,1252.76 676.747,1252.84 677.421,1252.93 678.094,1253.01 678.768,1253.09 679.442,1253.17 680.115,1253.25 680.789,1253.33 681.462,1253.41 682.136,1253.49 \n",
       "  682.81,1253.57 683.483,1253.65 684.157,1253.72 684.831,1253.8 685.504,1253.88 686.178,1253.96 686.852,1254.04 687.525,1254.11 688.199,1254.19 688.873,1254.27 \n",
       "  689.546,1254.34 690.22,1254.42 690.893,1254.5 691.567,1254.57 692.241,1254.65 692.914,1254.72 693.588,1254.8 694.262,1254.87 694.935,1254.95 695.609,1255.02 \n",
       "  696.283,1255.1 696.956,1255.17 697.63,1255.25 698.304,1255.32 698.977,1255.39 699.651,1255.47 700.325,1255.54 700.998,1255.61 701.672,1255.68 702.345,1255.76 \n",
       "  703.019,1255.83 703.693,1255.9 704.366,1255.97 705.04,1256.04 705.714,1256.11 706.387,1256.19 707.061,1256.26 707.735,1256.33 708.408,1256.4 709.082,1256.47 \n",
       "  709.756,1256.54 710.429,1256.61 711.103,1256.68 711.776,1256.75 712.45,1256.81 713.124,1256.88 713.797,1256.95 714.471,1257.02 715.145,1257.09 715.818,1257.16 \n",
       "  716.492,1257.23 717.166,1257.29 717.839,1257.36 718.513,1257.43 719.187,1257.5 719.86,1257.56 720.534,1257.63 721.208,1257.7 721.881,1257.76 722.555,1257.83 \n",
       "  723.228,1257.89 723.902,1257.96 724.576,1258.03 725.249,1258.09 725.923,1258.16 726.597,1258.22 727.27,1258.29 727.944,1258.35 728.618,1258.42 729.291,1258.48 \n",
       "  729.965,1258.55 730.639,1258.61 731.312,1258.67 731.986,1258.74 732.659,1258.8 733.333,1258.86 734.007,1258.93 734.68,1258.99 735.354,1259.05 736.028,1259.12 \n",
       "  736.701,1259.18 737.375,1259.24 738.049,1259.3 738.722,1259.36 739.396,1259.43 740.07,1259.49 740.743,1259.55 741.417,1259.61 742.091,1259.67 742.764,1259.73 \n",
       "  743.438,1259.79 744.111,1259.86 744.785,1259.92 745.459,1259.98 746.132,1260.04 746.806,1260.1 747.48,1260.16 748.153,1260.22 748.827,1260.28 749.501,1260.34 \n",
       "  750.174,1260.39 750.848,1260.45 751.522,1260.51 752.195,1260.57 752.869,1260.63 753.542,1260.69 754.216,1260.75 754.89,1260.81 755.563,1260.86 756.237,1260.92 \n",
       "  756.911,1260.98 757.584,1261.04 758.258,1261.1 758.932,1261.15 759.605,1261.21 760.279,1261.27 760.953,1261.32 761.626,1261.38 762.3,1261.44 762.974,1261.49 \n",
       "  763.647,1261.55 764.321,1261.61 764.994,1261.66 765.668,1261.72 766.342,1261.78 767.015,1261.83 767.689,1261.89 768.363,1261.94 769.036,1262 769.71,1262.05 \n",
       "  770.384,1262.11 771.057,1262.16 771.731,1262.22 772.405,1262.27 773.078,1262.33 773.752,1262.38 774.425,1262.44 775.099,1262.49 775.773,1262.55 776.446,1262.6 \n",
       "  777.12,1262.65 777.794,1262.71 778.467,1262.76 779.141,1262.81 779.815,1262.87 780.488,1262.92 781.162,1262.97 781.836,1263.03 782.509,1263.08 783.183,1263.13 \n",
       "  783.857,1263.18 784.53,1263.24 785.204,1263.29 785.877,1263.34 786.551,1263.39 787.225,1263.45 787.898,1263.5 788.572,1263.55 789.246,1263.6 789.919,1263.65 \n",
       "  790.593,1263.71 791.267,1263.76 791.94,1263.81 792.614,1263.86 793.288,1263.91 793.961,1263.96 794.635,1264.01 795.308,1264.06 795.982,1264.11 796.656,1264.16 \n",
       "  797.329,1264.21 798.003,1264.26 798.677,1264.31 799.35,1264.37 800.024,1264.42 800.698,1264.47 801.371,1264.51 802.045,1264.56 802.719,1264.61 803.392,1264.66 \n",
       "  804.066,1264.71 804.74,1264.76 805.413,1264.81 806.087,1264.86 806.76,1264.91 807.434,1264.96 808.108,1265.01 808.781,1265.06 809.455,1265.1 810.129,1265.15 \n",
       "  810.802,1265.2 811.476,1265.25 812.15,1265.3 812.823,1265.35 813.497,1265.39 814.171,1265.44 814.844,1265.49 815.518,1265.54 816.191,1265.59 816.865,1265.63 \n",
       "  817.539,1265.68 818.212,1265.73 818.886,1265.78 819.56,1265.82 820.233,1265.87 820.907,1265.92 821.581,1265.96 822.254,1266.01 822.928,1266.06 823.602,1266.1 \n",
       "  824.275,1266.15 824.949,1266.2 825.623,1266.24 826.296,1266.29 826.97,1266.34 827.643,1266.38 828.317,1266.43 828.991,1266.47 829.664,1266.52 830.338,1266.57 \n",
       "  831.012,1266.61 831.685,1266.66 832.359,1266.7 833.033,1266.75 833.706,1266.79 834.38,1266.84 835.054,1266.89 835.727,1266.93 836.401,1266.98 837.074,1267.02 \n",
       "  837.748,1267.07 838.422,1267.11 839.095,1267.16 839.769,1267.2 840.443,1267.25 841.116,1267.29 841.79,1267.33 842.464,1267.38 843.137,1267.42 843.811,1267.47 \n",
       "  844.485,1267.51 845.158,1267.56 845.832,1267.6 846.506,1267.64 847.179,1267.69 847.853,1267.73 848.526,1267.78 849.2,1267.82 849.874,1267.86 850.547,1267.91 \n",
       "  851.221,1267.95 851.895,1267.99 852.568,1268.04 853.242,1268.08 853.916,1268.12 854.589,1268.17 855.263,1268.21 855.937,1268.25 856.61,1268.3 857.284,1268.34 \n",
       "  857.957,1268.38 858.631,1268.43 859.305,1268.47 859.978,1268.51 860.652,1268.55 861.326,1268.6 861.999,1268.64 862.673,1268.68 863.347,1268.72 864.02,1268.77 \n",
       "  864.694,1268.81 865.368,1268.85 866.041,1268.89 866.715,1268.93 867.389,1268.98 868.062,1269.02 868.736,1269.06 869.409,1269.1 870.083,1269.14 870.757,1269.19 \n",
       "  871.43,1269.23 872.104,1269.27 872.778,1269.31 873.451,1269.35 874.125,1269.39 874.799,1269.44 875.472,1269.48 876.146,1269.52 876.82,1269.56 877.493,1269.6 \n",
       "  878.167,1269.64 878.84,1269.68 879.514,1269.72 880.188,1269.76 880.861,1269.81 881.535,1269.85 882.209,1269.89 882.882,1269.93 883.556,1269.97 884.23,1270.01 \n",
       "  884.903,1270.05 885.577,1270.09 886.251,1270.13 886.924,1270.17 887.598,1270.21 888.272,1270.25 888.945,1270.29 889.619,1270.33 890.292,1270.37 890.966,1270.41 \n",
       "  891.64,1270.45 892.313,1270.49 892.987,1270.53 893.661,1270.57 894.334,1270.61 895.008,1270.65 895.682,1270.69 896.355,1270.73 897.029,1270.77 897.703,1270.81 \n",
       "  898.376,1270.85 899.05,1270.89 899.723,1270.93 900.397,1270.97 901.071,1271.01 901.744,1271.05 902.418,1271.09 903.092,1271.13 903.765,1271.17 904.439,1271.21 \n",
       "  905.113,1271.25 905.786,1271.29 906.46,1271.33 907.134,1271.37 907.807,1271.41 908.481,1271.45 909.155,1271.48 909.828,1271.52 910.502,1271.56 911.175,1271.6 \n",
       "  911.849,1271.64 912.523,1271.68 913.196,1271.72 913.87,1271.76 914.544,1271.8 915.217,1271.84 915.891,1271.87 916.565,1271.91 917.238,1271.95 917.912,1271.99 \n",
       "  918.586,1272.03 919.259,1272.07 919.933,1272.11 920.606,1272.15 921.28,1272.18 921.954,1272.22 922.627,1272.26 923.301,1272.3 923.975,1272.34 924.648,1272.38 \n",
       "  925.322,1272.41 925.996,1272.45 926.669,1272.49 927.343,1272.53 928.017,1272.57 928.69,1272.61 929.364,1272.64 930.038,1272.68 930.711,1272.72 931.385,1272.76 \n",
       "  932.058,1272.8 932.732,1272.83 933.406,1272.87 934.079,1272.91 934.753,1272.95 935.427,1272.99 936.1,1273.02 936.774,1273.06 937.448,1273.1 938.121,1273.14 \n",
       "  938.795,1273.18 939.469,1273.21 940.142,1273.25 940.816,1273.29 941.489,1273.33 942.163,1273.37 942.837,1273.4 943.51,1273.44 944.184,1273.48 944.858,1273.52 \n",
       "  945.531,1273.55 946.205,1273.59 946.879,1273.63 947.552,1273.67 948.226,1273.7 948.9,1273.74 949.573,1273.78 950.247,1273.82 950.921,1273.85 951.594,1273.89 \n",
       "  952.268,1273.93 952.941,1273.97 953.615,1274 954.289,1274.04 954.962,1274.08 955.636,1274.12 956.31,1274.15 956.983,1274.19 957.657,1274.23 958.331,1274.27 \n",
       "  959.004,1274.3 959.678,1274.34 960.352,1274.38 961.025,1274.42 961.699,1274.45 962.372,1274.49 963.046,1274.53 963.72,1274.56 964.393,1274.6 965.067,1274.64 \n",
       "  965.741,1274.68 966.414,1274.71 967.088,1274.75 967.762,1274.79 968.435,1274.82 969.109,1274.86 969.783,1274.9 970.456,1274.94 971.13,1274.97 971.804,1275.01 \n",
       "  972.477,1275.05 973.151,1275.08 973.824,1275.12 974.498,1275.16 975.172,1275.2 975.845,1275.23 976.519,1275.27 977.193,1275.31 977.866,1275.34 978.54,1275.38 \n",
       "  979.214,1275.42 979.887,1275.45 980.561,1275.49 981.235,1275.53 981.908,1275.57 982.582,1275.6 983.255,1275.64 983.929,1275.68 984.603,1275.71 985.276,1275.75 \n",
       "  985.95,1275.79 986.624,1275.82 987.297,1275.86 987.971,1275.9 988.645,1275.94 989.318,1275.97 989.992,1276.01 990.666,1276.05 991.339,1276.08 992.013,1276.12 \n",
       "  992.687,1276.16 993.36,1276.19 994.034,1276.23 994.707,1276.27 995.381,1276.3 996.055,1276.34 996.728,1276.38 997.402,1276.42 998.076,1276.45 998.749,1276.49 \n",
       "  999.423,1276.53 1000.1,1276.56 1000.77,1276.6 1001.44,1276.64 1002.12,1276.67 1002.79,1276.71 1003.46,1276.75 1004.14,1276.78 1004.81,1276.82 1005.49,1276.86 \n",
       "  1006.16,1276.9 1006.83,1276.93 1007.51,1276.97 1008.18,1277.01 1008.85,1277.04 1009.53,1277.08 1010.2,1277.12 1010.87,1277.15 1011.55,1277.19 1012.22,1277.23 \n",
       "  1012.9,1277.26 1013.57,1277.3 1014.24,1277.34 1014.92,1277.38 1015.59,1277.41 1016.26,1277.45 1016.94,1277.49 1017.61,1277.52 1018.29,1277.56 1018.96,1277.6 \n",
       "  1019.63,1277.64 1020.31,1277.67 1020.98,1277.71 1021.65,1277.75 1022.33,1277.78 1023,1277.82 1023.67,1277.86 1024.35,1277.89 1025.02,1277.93 1025.7,1277.97 \n",
       "  1026.37,1278.01 1027.04,1278.04 1027.72,1278.08 1028.39,1278.12 1029.06,1278.15 1029.74,1278.19 1030.41,1278.23 1031.08,1278.27 1031.76,1278.3 1032.43,1278.34 \n",
       "  1033.11,1278.38 1033.78,1278.41 1034.45,1278.45 1035.13,1278.49 1035.8,1278.53 1036.47,1278.56 1037.15,1278.6 1037.82,1278.64 1038.49,1278.68 1039.17,1278.71 \n",
       "  1039.84,1278.75 1040.52,1278.79 1041.19,1278.83 1041.86,1278.86 1042.54,1278.9 1043.21,1278.94 1043.88,1278.97 1044.56,1279.01 1045.23,1279.05 1045.9,1279.09 \n",
       "  1046.58,1279.12 1047.25,1279.16 1047.93,1279.2 1048.6,1279.24 1049.27,1279.27 1049.95,1279.31 1050.62,1279.35 1051.29,1279.39 1051.97,1279.42 1052.64,1279.46 \n",
       "  1053.31,1279.5 1053.99,1279.54 1054.66,1279.58 1055.34,1279.61 1056.01,1279.65 1056.68,1279.69 1057.36,1279.73 1058.03,1279.76 1058.7,1279.8 1059.38,1279.84 \n",
       "  1060.05,1279.88 1060.72,1279.92 1061.4,1279.95 1062.07,1279.99 1062.75,1280.03 1063.42,1280.07 1064.09,1280.1 1064.77,1280.14 1065.44,1280.18 1066.11,1280.22 \n",
       "  1066.79,1280.26 1067.46,1280.29 1068.13,1280.33 1068.81,1280.37 1069.48,1280.41 1070.16,1280.45 1070.83,1280.48 1071.5,1280.52 1072.18,1280.56 1072.85,1280.6 \n",
       "  1073.52,1280.64 1074.2,1280.68 1074.87,1280.71 1075.54,1280.75 1076.22,1280.79 1076.89,1280.83 1077.57,1280.87 1078.24,1280.91 1078.91,1280.94 1079.59,1280.98 \n",
       "  1080.26,1281.02 1080.93,1281.06 1081.61,1281.1 1082.28,1281.14 1082.95,1281.17 1083.63,1281.21 1084.3,1281.25 1084.98,1281.29 1085.65,1281.33 1086.32,1281.37 \n",
       "  1087,1281.41 1087.67,1281.45 1088.34,1281.48 1089.02,1281.52 1089.69,1281.56 1090.37,1281.6 1091.04,1281.64 1091.71,1281.68 1092.39,1281.72 1093.06,1281.76 \n",
       "  1093.73,1281.79 1094.41,1281.83 1095.08,1281.87 1095.75,1281.91 1096.43,1281.95 1097.1,1281.99 1097.78,1282.03 1098.45,1282.07 1099.12,1282.11 1099.8,1282.15 \n",
       "  1100.47,1282.19 1101.14,1282.22 1101.82,1282.26 1102.49,1282.3 1103.16,1282.34 1103.84,1282.38 1104.51,1282.42 1105.19,1282.46 1105.86,1282.5 1106.53,1282.54 \n",
       "  1107.21,1282.58 1107.88,1282.62 1108.55,1282.66 1109.23,1282.7 1109.9,1282.74 1110.57,1282.78 1111.25,1282.82 1111.92,1282.86 1112.6,1282.9 1113.27,1282.94 \n",
       "  1113.94,1282.98 1114.62,1283.02 1115.29,1283.06 1115.96,1283.1 1116.64,1283.14 1117.31,1283.18 1117.98,1283.22 1118.66,1283.26 1119.33,1283.3 1120.01,1283.34 \n",
       "  1120.68,1283.38 1121.35,1283.42 1122.03,1283.46 1122.7,1283.5 1123.37,1283.54 1124.05,1283.58 1124.72,1283.62 1125.39,1283.66 1126.07,1283.7 1126.74,1283.74 \n",
       "  1127.42,1283.78 1128.09,1283.82 1128.76,1283.86 1129.44,1283.9 1130.11,1283.94 1130.78,1283.98 1131.46,1284.02 1132.13,1284.06 1132.8,1284.11 1133.48,1284.15 \n",
       "  1134.15,1284.19 1134.83,1284.23 1135.5,1284.27 1136.17,1284.31 1136.85,1284.35 1137.52,1284.39 1138.19,1284.43 1138.87,1284.47 1139.54,1284.52 1140.21,1284.56 \n",
       "  1140.89,1284.6 1141.56,1284.64 1142.24,1284.68 1142.91,1284.72 1143.58,1284.76 1144.26,1284.81 1144.93,1284.85 1145.6,1284.89 1146.28,1284.93 1146.95,1284.97 \n",
       "  1147.62,1285.01 1148.3,1285.06 1148.97,1285.1 1149.65,1285.14 1150.32,1285.18 1150.99,1285.22 1151.67,1285.26 1152.34,1285.31 1153.01,1285.35 1153.69,1285.39 \n",
       "  1154.36,1285.43 1155.04,1285.47 1155.71,1285.52 1156.38,1285.56 1157.06,1285.6 1157.73,1285.64 1158.4,1285.69 1159.08,1285.73 1159.75,1285.77 1160.42,1285.81 \n",
       "  1161.1,1285.86 1161.77,1285.9 1162.45,1285.94 1163.12,1285.98 1163.79,1286.03 1164.47,1286.07 1165.14,1286.11 1165.81,1286.16 1166.49,1286.2 1167.16,1286.24 \n",
       "  1167.83,1286.28 1168.51,1286.33 1169.18,1286.37 1169.86,1286.41 1170.53,1286.46 1171.2,1286.5 1171.88,1286.54 1172.55,1286.59 1173.22,1286.63 1173.9,1286.67 \n",
       "  1174.57,1286.72 1175.24,1286.76 1175.92,1286.8 1176.59,1286.85 1177.27,1286.89 1177.94,1286.94 1178.61,1286.98 1179.29,1287.02 1179.96,1287.07 1180.63,1287.11 \n",
       "  1181.31,1287.15 1181.98,1287.2 1182.65,1287.24 1183.33,1287.29 1184,1287.33 1184.68,1287.38 1185.35,1287.42 1186.02,1287.46 1186.7,1287.51 1187.37,1287.55 \n",
       "  1188.04,1287.6 1188.72,1287.64 1189.39,1287.69 1190.06,1287.73 1190.74,1287.78 1191.41,1287.82 1192.09,1287.87 1192.76,1287.91 1193.43,1287.96 1194.11,1288 \n",
       "  1194.78,1288.05 1195.45,1288.09 1196.13,1288.14 1196.8,1288.18 1197.47,1288.23 1198.15,1288.27 1198.82,1288.32 1199.5,1288.36 1200.17,1288.41 1200.84,1288.45 \n",
       "  1201.52,1288.5 1202.19,1288.55 1202.86,1288.59 1203.54,1288.64 1204.21,1288.68 1204.88,1288.73 1205.56,1288.78 1206.23,1288.82 1206.91,1288.87 1207.58,1288.91 \n",
       "  1208.25,1288.96 1208.93,1289.01 1209.6,1289.05 1210.27,1289.1 1210.95,1289.15 1211.62,1289.19 1212.29,1289.24 1212.97,1289.28 1213.64,1289.33 1214.32,1289.38 \n",
       "  1214.99,1289.42 1215.66,1289.47 1216.34,1289.52 1217.01,1289.57 1217.68,1289.61 1218.36,1289.66 1219.03,1289.71 1219.7,1289.75 1220.38,1289.8 1221.05,1289.85 \n",
       "  1221.73,1289.9 1222.4,1289.94 1223.07,1289.99 1223.75,1290.04 1224.42,1290.09 1225.09,1290.13 1225.77,1290.18 1226.44,1290.23 1227.12,1290.28 1227.79,1290.33 \n",
       "  1228.46,1290.37 1229.14,1290.42 1229.81,1290.47 1230.48,1290.52 1231.16,1290.57 1231.83,1290.62 1232.5,1290.66 1233.18,1290.71 1233.85,1290.76 1234.53,1290.81 \n",
       "  1235.2,1290.86 1235.87,1290.91 1236.55,1290.96 1237.22,1291.01 1237.89,1291.05 1238.57,1291.1 1239.24,1291.15 1239.91,1291.2 1240.59,1291.25 1241.26,1291.3 \n",
       "  1241.94,1291.35 1242.61,1291.4 1243.28,1291.45 1243.96,1291.5 1244.63,1291.55 1245.3,1291.6 1245.98,1291.65 1246.65,1291.7 1247.32,1291.75 1248,1291.8 \n",
       "  1248.67,1291.85 1249.35,1291.9 1250.02,1291.95 1250.69,1292 1251.37,1292.05 1252.04,1292.1 1252.71,1292.15 1253.39,1292.2 1254.06,1292.25 1254.73,1292.3 \n",
       "  1255.41,1292.35 1256.08,1292.4 1256.76,1292.45 1257.43,1292.51 1258.1,1292.56 1258.78,1292.61 1259.45,1292.66 1260.12,1292.71 1260.8,1292.76 1261.47,1292.81 \n",
       "  1262.14,1292.86 1262.82,1292.92 1263.49,1292.97 1264.17,1293.02 1264.84,1293.07 1265.51,1293.12 1266.19,1293.17 1266.86,1293.23 1267.53,1293.28 1268.21,1293.33 \n",
       "  1268.88,1293.38 1269.55,1293.43 1270.23,1293.49 1270.9,1293.54 1271.58,1293.59 1272.25,1293.64 1272.92,1293.7 1273.6,1293.75 1274.27,1293.8 1274.94,1293.85 \n",
       "  1275.62,1293.91 1276.29,1293.96 1276.96,1294.01 1277.64,1294.07 1278.31,1294.12 1278.99,1294.17 1279.66,1294.23 1280.33,1294.28 1281.01,1294.33 1281.68,1294.39 \n",
       "  1282.35,1294.44 1283.03,1294.49 1283.7,1294.55 1284.37,1294.6 1285.05,1294.65 1285.72,1294.71 1286.4,1294.76 1287.07,1294.82 1287.74,1294.87 1288.42,1294.92 \n",
       "  1289.09,1294.98 1289.76,1295.03 1290.44,1295.09 1291.11,1295.14 1291.78,1295.2 1292.46,1295.25 1293.13,1295.3 1293.81,1295.36 1294.48,1295.41 1295.15,1295.47 \n",
       "  1295.83,1295.52 1296.5,1295.58 1297.17,1295.63 1297.85,1295.69 1298.52,1295.74 1299.2,1295.8 1299.87,1295.85 1300.54,1295.91 1301.22,1295.96 1301.89,1296.02 \n",
       "  1302.56,1296.07 1303.24,1296.13 1303.91,1296.19 1304.58,1296.24 1305.26,1296.3 1305.93,1296.35 1306.61,1296.41 1307.28,1296.46 1307.95,1296.52 1308.63,1296.58 \n",
       "  1309.3,1296.63 1309.97,1296.69 1310.65,1296.74 1311.32,1296.8 1311.99,1296.86 1312.67,1296.91 1313.34,1296.97 1314.02,1297.03 1314.69,1297.08 1315.36,1297.14 \n",
       "  1316.04,1297.2 1316.71,1297.25 1317.38,1297.31 1318.06,1297.37 1318.73,1297.42 1319.4,1297.48 1320.08,1297.54 1320.75,1297.59 1321.43,1297.65 1322.1,1297.71 \n",
       "  1322.77,1297.76 1323.45,1297.82 1324.12,1297.88 1324.79,1297.94 1325.47,1297.99 1326.14,1298.05 1326.81,1298.11 1327.49,1298.17 1328.16,1298.22 1328.84,1298.28 \n",
       "  1329.51,1298.34 1330.18,1298.4 1330.86,1298.45 1331.53,1298.51 1332.2,1298.57 1332.88,1298.63 1333.55,1298.68 1334.22,1298.74 1334.9,1298.8 1335.57,1298.86 \n",
       "  1336.25,1298.92 1336.92,1298.97 1337.59,1299.03 1338.27,1299.09 1338.94,1299.15 1339.61,1299.21 1340.29,1299.27 1340.96,1299.32 1341.63,1299.38 1342.31,1299.44 \n",
       "  1342.98,1299.5 1343.66,1299.56 1344.33,1299.62 1345,1299.68 1345.68,1299.73 1346.35,1299.79 1347.02,1299.85 1347.7,1299.91 1348.37,1299.97 1349.04,1300.03 \n",
       "  1349.72,1300.09 1350.39,1300.15 1351.07,1300.2 1351.74,1300.26 1352.41,1300.32 1353.09,1300.38 1353.76,1300.44 1354.43,1300.5 1355.11,1300.56 1355.78,1300.62 \n",
       "  1356.45,1300.68 1357.13,1300.74 1357.8,1300.8 1358.48,1300.86 1359.15,1300.92 1359.82,1300.98 1360.5,1301.03 1361.17,1301.09 1361.84,1301.15 1362.52,1301.21 \n",
       "  1363.19,1301.27 1363.87,1301.33 1364.54,1301.39 1365.21,1301.45 1365.89,1301.51 1366.56,1301.57 1367.23,1301.63 1367.91,1301.69 1368.58,1301.75 1369.25,1301.81 \n",
       "  1369.93,1301.87 1370.6,1301.93 1371.28,1301.99 1371.95,1302.05 1372.62,1302.11 1373.3,1302.17 1373.97,1302.23 1374.64,1302.29 1375.32,1302.35 1375.99,1302.41 \n",
       "  1376.66,1302.47 1377.34,1302.53 1378.01,1302.59 1378.69,1302.65 1379.36,1302.71 1380.03,1302.77 1380.71,1302.83 1381.38,1302.89 1382.05,1302.95 1382.73,1303.01 \n",
       "  1383.4,1303.07 1384.07,1303.13 1384.75,1303.2 1385.42,1303.26 1386.1,1303.32 1386.77,1303.38 1387.44,1303.44 1388.12,1303.5 1388.79,1303.56 1389.46,1303.62 \n",
       "  1390.14,1303.68 1390.81,1303.74 1391.48,1303.8 1392.16,1303.86 1392.83,1303.92 1393.51,1303.98 1394.18,1304.04 1394.85,1304.1 1395.53,1304.17 1396.2,1304.23 \n",
       "  1396.87,1304.29 1397.55,1304.35 1398.22,1304.41 1398.89,1304.47 1399.57,1304.53 1400.24,1304.59 1400.92,1304.65 1401.59,1304.71 1402.26,1304.77 1402.94,1304.84 \n",
       "  1403.61,1304.9 1404.28,1304.96 1404.96,1305.02 1405.63,1305.08 1406.3,1305.14 1406.98,1305.2 1407.65,1305.26 1408.33,1305.32 1409,1305.38 1409.67,1305.45 \n",
       "  1410.35,1305.51 1411.02,1305.57 1411.69,1305.63 1412.37,1305.69 1413.04,1305.75 1413.71,1305.81 1414.39,1305.87 1415.06,1305.94 1415.74,1306 1416.41,1306.06 \n",
       "  1417.08,1306.12 1417.76,1306.18 1418.43,1306.24 1419.1,1306.3 1419.78,1306.36 1420.45,1306.43 1421.12,1306.49 1421.8,1306.55 1422.47,1306.61 1423.15,1306.67 \n",
       "  1423.82,1306.73 1424.49,1306.79 1425.17,1306.85 1425.84,1306.92 1426.51,1306.98 1427.19,1307.04 1427.86,1307.1 1428.53,1307.16 1429.21,1307.22 1429.88,1307.28 \n",
       "  1430.56,1307.35 1431.23,1307.41 1431.9,1307.47 1432.58,1307.53 1433.25,1307.59 1433.92,1307.65 1434.6,1307.71 1435.27,1307.78 1435.95,1307.84 1436.62,1307.9 \n",
       "  1437.29,1307.96 1437.97,1308.02 1438.64,1308.08 1439.31,1308.14 1439.99,1308.21 1440.66,1308.27 1441.33,1308.33 1442.01,1308.39 1442.68,1308.45 1443.36,1308.51 \n",
       "  1444.03,1308.57 1444.7,1308.64 1445.38,1308.7 1446.05,1308.76 1446.72,1308.82 1447.4,1308.88 1448.07,1308.94 1448.74,1309 1449.42,1309.07 1450.09,1309.13 \n",
       "  1450.77,1309.19 1451.44,1309.25 1452.11,1309.31 1452.79,1309.37 1453.46,1309.43 1454.13,1309.5 1454.81,1309.56 1455.48,1309.62 1456.15,1309.68 1456.83,1309.74 \n",
       "  1457.5,1309.8 1458.18,1309.87 1458.85,1309.93 1459.52,1309.99 1460.2,1310.05 1460.87,1310.11 1461.54,1310.17 1462.22,1310.23 1462.89,1310.3 1463.56,1310.36 \n",
       "  1464.24,1310.42 1464.91,1310.48 1465.59,1310.54 1466.26,1310.6 1466.93,1310.66 1467.61,1310.73 1468.28,1310.79 1468.95,1310.85 1469.63,1310.91 1470.3,1310.97 \n",
       "  1470.97,1311.03 1471.65,1311.1 1472.32,1311.16 1473,1311.22 1473.67,1311.28 1474.34,1311.34 1475.02,1311.4 1475.69,1311.46 1476.36,1311.53 1477.04,1311.59 \n",
       "  1477.71,1311.65 1478.38,1311.71 1479.06,1311.77 1479.73,1311.83 1480.41,1311.89 1481.08,1311.95 1481.75,1312.02 1482.43,1312.08 1483.1,1312.14 1483.77,1312.2 \n",
       "  1484.45,1312.26 1485.12,1312.32 1485.79,1312.38 1486.47,1312.45 1487.14,1312.51 1487.82,1312.57 1488.49,1312.63 1489.16,1312.69 1489.84,1312.75 1490.51,1312.81 \n",
       "  1491.18,1312.88 1491.86,1312.94 1492.53,1313 1493.2,1313.06 1493.88,1313.12 1494.55,1313.18 1495.23,1313.24 1495.9,1313.3 1496.57,1313.37 1497.25,1313.43 \n",
       "  1497.92,1313.49 1498.59,1313.55 1499.27,1313.61 1499.94,1313.67 1500.61,1313.73 1501.29,1313.79 1501.96,1313.86 1502.64,1313.92 1503.31,1313.98 1503.98,1314.04 \n",
       "  1504.66,1314.1 1505.33,1314.16 1506,1314.22 1506.68,1314.28 1507.35,1314.35 1508.03,1314.41 1508.7,1314.47 1509.37,1314.53 1510.05,1314.59 1510.72,1314.65 \n",
       "  1511.39,1314.71 1512.07,1314.77 1512.74,1314.84 1513.41,1314.9 1514.09,1314.96 1514.76,1315.02 1515.44,1315.08 1516.11,1315.14 1516.78,1315.2 1517.46,1315.26 \n",
       "  1518.13,1315.32 1518.8,1315.39 1519.48,1315.45 1520.15,1315.51 1520.82,1315.57 1521.5,1315.63 1522.17,1315.69 1522.85,1315.75 1523.52,1315.81 1524.19,1315.87 \n",
       "  1524.87,1315.94 1525.54,1316 1526.21,1316.06 1526.89,1316.12 1527.56,1316.18 1528.23,1316.24 1528.91,1316.3 1529.58,1316.36 1530.26,1316.42 1530.93,1316.48 \n",
       "  1531.6,1316.55 1532.28,1316.61 1532.95,1316.67 1533.62,1316.73 1534.3,1316.79 1534.97,1316.85 1535.64,1316.91 1536.32,1316.97 1536.99,1317.03 1537.67,1317.09 \n",
       "  1538.34,1317.16 1539.01,1317.22 1539.69,1317.28 1540.36,1317.34 1541.03,1317.4 1541.71,1317.46 1542.38,1317.52 1543.05,1317.58 1543.73,1317.64 1544.4,1317.7 \n",
       "  1545.08,1317.77 1545.75,1317.83 1546.42,1317.89 1547.1,1317.95 1547.77,1318.01 1548.44,1318.07 1549.12,1318.13 1549.79,1318.19 1550.46,1318.25 1551.14,1318.31 \n",
       "  1551.81,1318.38 1552.49,1318.44 1553.16,1318.5 1553.83,1318.56 1554.51,1318.62 1555.18,1318.68 1555.85,1318.74 1556.53,1318.8 1557.2,1318.86 1557.87,1318.92 \n",
       "  1558.55,1318.98 1559.22,1319.05 1559.9,1319.11 1560.57,1319.17 1561.24,1319.23 1561.92,1319.29 1562.59,1319.35 1563.26,1319.41 1563.94,1319.47 1564.61,1319.53 \n",
       "  1565.28,1319.59 1565.96,1319.65 1566.63,1319.72 1567.31,1319.78 1567.98,1319.84 1568.65,1319.9 1569.33,1319.96 1570,1320.02 1570.67,1320.08 1571.35,1320.14 \n",
       "  1572.02,1320.2 1572.7,1320.26 1573.37,1320.33 1574.04,1320.39 1574.72,1320.45 1575.39,1320.51 1576.06,1320.57 1576.74,1320.63 1577.41,1320.69 1578.08,1320.75 \n",
       "  1578.76,1320.81 1579.43,1320.87 1580.11,1320.94 1580.78,1321 1581.45,1321.06 1582.13,1321.12 1582.8,1321.18 1583.47,1321.24 1584.15,1321.3 1584.82,1321.36 \n",
       "  1585.49,1321.42 1586.17,1321.49 1586.84,1321.55 1587.52,1321.61 1588.19,1321.67 1588.86,1321.73 1589.54,1321.79 1590.21,1321.85 1590.88,1321.91 1591.56,1321.97 \n",
       "  1592.23,1322.04 1592.9,1322.1 1593.58,1322.16 1594.25,1322.22 1594.93,1322.28 1595.6,1322.34 1596.27,1322.4 1596.95,1322.46 1597.62,1322.53 1598.29,1322.59 \n",
       "  1598.97,1322.65 1599.64,1322.71 1600.31,1322.77 1600.99,1322.83 1601.66,1322.89 1602.34,1322.96 1603.01,1323.02 1603.68,1323.08 1604.36,1323.14 1605.03,1323.2 \n",
       "  1605.7,1323.26 1606.38,1323.32 1607.05,1323.39 1607.72,1323.45 1608.4,1323.51 1609.07,1323.57 1609.75,1323.63 1610.42,1323.69 1611.09,1323.76 1611.77,1323.82 \n",
       "  1612.44,1323.88 1613.11,1323.94 1613.79,1324 1614.46,1324.06 1615.13,1324.13 1615.81,1324.19 1616.48,1324.25 1617.16,1324.31 1617.83,1324.37 1618.5,1324.44 \n",
       "  1619.18,1324.5 1619.85,1324.56 1620.52,1324.62 1621.2,1324.68 1621.87,1324.75 1622.54,1324.81 1623.22,1324.87 1623.89,1324.93 1624.57,1324.99 1625.24,1325.06 \n",
       "  1625.91,1325.12 1626.59,1325.18 1627.26,1325.24 1627.93,1325.3 1628.61,1325.37 1629.28,1325.43 1629.95,1325.49 1630.63,1325.55 1631.3,1325.62 1631.98,1325.68 \n",
       "  1632.65,1325.74 1633.32,1325.8 1634,1325.87 1634.67,1325.93 1635.34,1325.99 1636.02,1326.05 1636.69,1326.12 1637.36,1326.18 1638.04,1326.24 1638.71,1326.3 \n",
       "  1639.39,1326.37 1640.06,1326.43 1640.73,1326.49 1641.41,1326.56 1642.08,1326.62 1642.75,1326.68 1643.43,1326.74 1644.1,1326.81 1644.78,1326.87 1645.45,1326.93 \n",
       "  1646.12,1327 1646.8,1327.06 1647.47,1327.12 1648.14,1327.19 1648.82,1327.25 1649.49,1327.31 1650.16,1327.38 1650.84,1327.44 1651.51,1327.5 1652.19,1327.57 \n",
       "  1652.86,1327.63 1653.53,1327.7 1654.21,1327.76 1654.88,1327.82 1655.55,1327.89 1656.23,1327.95 1656.9,1328.01 1657.57,1328.08 1658.25,1328.14 1658.92,1328.21 \n",
       "  1659.6,1328.27 1660.27,1328.33 1660.94,1328.4 1661.62,1328.46 1662.29,1328.53 1662.96,1328.59 1663.64,1328.66 1664.31,1328.72 1664.98,1328.78 1665.66,1328.85 \n",
       "  1666.33,1328.91 1667.01,1328.98 1667.68,1329.04 1668.35,1329.11 1669.03,1329.17 1669.7,1329.24 1670.37,1329.3 1671.05,1329.37 1671.72,1329.43 1672.39,1329.5 \n",
       "  1673.07,1329.56 1673.74,1329.63 1674.42,1329.69 1675.09,1329.76 1675.76,1329.83 1676.44,1329.89 1677.11,1329.96 1677.78,1330.02 1678.46,1330.09 1679.13,1330.15 \n",
       "  1679.8,1330.22 1680.48,1330.29 1681.15,1330.35 1681.83,1330.42 1682.5,1330.48 1683.17,1330.55 1683.85,1330.62 1684.52,1330.68 1685.19,1330.75 1685.87,1330.82 \n",
       "  1686.54,1330.88 1687.21,1330.95 1687.89,1331.02 1688.56,1331.08 1689.24,1331.15 1689.91,1331.22 1690.58,1331.28 1691.26,1331.35 1691.93,1331.42 1692.6,1331.49 \n",
       "  1693.28,1331.55 1693.95,1331.62 1694.62,1331.69 1695.3,1331.76 1695.97,1331.82 1696.65,1331.89 1697.32,1331.96 1697.99,1332.03 1698.67,1332.1 1699.34,1332.16 \n",
       "  1700.01,1332.23 1700.69,1332.3 1701.36,1332.37 1702.03,1332.44 1702.71,1332.51 1703.38,1332.58 1704.06,1332.64 1704.73,1332.71 1705.4,1332.78 1706.08,1332.85 \n",
       "  1706.75,1332.92 1707.42,1332.99 1708.1,1333.06 1708.77,1333.13 1709.44,1333.2 1710.12,1333.27 1710.79,1333.34 1711.47,1333.41 1712.14,1333.48 1712.81,1333.55 \n",
       "  1713.49,1333.62 1714.16,1333.69 1714.83,1333.76 1715.51,1333.83 1716.18,1333.9 1716.86,1333.97 1717.53,1334.05 1718.2,1334.12 1718.88,1334.19 1719.55,1334.26 \n",
       "  1720.22,1334.33 1720.9,1334.4 1721.57,1334.47 1722.24,1334.55 1722.92,1334.62 1723.59,1334.69 1724.27,1334.76 1724.94,1334.84 1725.61,1334.91 1726.29,1334.98 \n",
       "  1726.96,1335.06 1727.63,1335.13 1728.31,1335.2 1728.98,1335.27 1729.65,1335.35 1730.33,1335.42 1731,1335.5 1731.68,1335.57 1732.35,1335.64 1733.02,1335.72 \n",
       "  1733.7,1335.79 1734.37,1335.87 1735.04,1335.94 1735.72,1336.02 1736.39,1336.09 1737.06,1336.17 1737.74,1336.24 1738.41,1336.32 1739.09,1336.4 1739.76,1336.47 \n",
       "  1740.43,1336.55 1741.11,1336.62 1741.78,1336.7 1742.45,1336.78 1743.13,1336.85 1743.8,1336.93 1744.47,1337.01 1745.15,1337.09 1745.82,1337.16 1746.5,1337.24 \n",
       "  1747.17,1337.32 1747.84,1337.4 1748.52,1337.48 1749.19,1337.55 1749.86,1337.63 1750.54,1337.71 1751.21,1337.79 1751.88,1337.87 1752.56,1337.95 1753.23,1338.03 \n",
       "  1753.91,1338.11 1754.58,1338.19 1755.25,1338.27 1755.93,1338.35 1756.6,1338.43 1757.27,1338.51 1757.95,1338.6 1758.62,1338.68 1759.29,1338.76 1759.97,1338.84 \n",
       "  1760.64,1338.92 1761.32,1339.01 1761.99,1339.09 1762.66,1339.17 1763.34,1339.25 1764.01,1339.34 1764.68,1339.42 1765.36,1339.51 1766.03,1339.59 1766.7,1339.67 \n",
       "  1767.38,1339.76 1768.05,1339.84 1768.73,1339.93 1769.4,1340.01 1770.07,1340.1 1770.75,1340.19 1771.42,1340.27 1772.09,1340.36 1772.77,1340.44 1773.44,1340.53 \n",
       "  1774.11,1340.62 1774.79,1340.7 1775.46,1340.79 1776.14,1340.88 1776.81,1340.97 1777.48,1341.06 1778.16,1341.14 1778.83,1341.23 1779.5,1341.32 1780.18,1341.41 \n",
       "  1780.85,1341.5 1781.53,1341.59 1782.2,1341.68 1782.87,1341.77 1783.55,1341.86 1784.22,1341.95 1784.89,1342.04 1785.57,1342.13 1786.24,1342.22 1786.91,1342.31 \n",
       "  1787.59,1342.4 1788.26,1342.49 1788.94,1342.58 1789.61,1342.68 1790.28,1342.77 1790.96,1342.86 1791.63,1342.95 1792.3,1343.04 1792.98,1343.14 1793.65,1343.23 \n",
       "  1794.32,1343.32 1795,1343.41 1795.67,1343.51 1796.35,1343.6 1797.02,1343.69 1797.69,1343.79 1798.37,1343.88 1799.04,1343.97 1799.71,1344.07 1800.39,1344.16 \n",
       "  1801.06,1344.25 1801.73,1344.35 1802.41,1344.44 1803.08,1344.53 1803.76,1344.63 1804.43,1344.72 1805.1,1344.81 1805.78,1344.91 1806.45,1345 1807.12,1345.1 \n",
       "  1807.8,1345.19 1808.47,1345.28 1809.14,1345.38 1809.82,1345.47 1810.49,1345.56 1811.17,1345.66 1811.84,1345.75 1812.51,1345.85 1813.19,1345.94 1813.86,1346.03 \n",
       "  1814.53,1346.13 1815.21,1346.22 1815.88,1346.31 1816.55,1346.41 1817.23,1346.5 1817.9,1346.59 1818.58,1346.69 1819.25,1346.78 1819.92,1346.87 1820.6,1346.97 \n",
       "  1821.27,1347.06 1821.94,1347.15 1822.62,1347.24 1823.29,1347.34 1823.96,1347.43 1824.64,1347.52 1825.31,1347.61 1825.99,1347.71 1826.66,1347.8 1827.33,1347.89 \n",
       "  1828.01,1347.98 1828.68,1348.07 1829.35,1348.17 1830.03,1348.26 1830.7,1348.35 1831.37,1348.44 1832.05,1348.53 1832.72,1348.62 1833.4,1348.71 1834.07,1348.8 \n",
       "  1834.74,1348.89 1835.42,1348.98 1836.09,1349.07 1836.76,1349.16 1837.44,1349.25 1838.11,1349.34 1838.78,1349.43 1839.46,1349.52 1840.13,1349.61 1840.81,1349.7 \n",
       "  1841.48,1349.79 1842.15,1349.88 1842.83,1349.97 1843.5,1350.05 1844.17,1350.14 1844.85,1350.23 1845.52,1350.32 1846.19,1350.41 1846.87,1350.49 1847.54,1350.58 \n",
       "  1848.22,1350.67 1848.89,1350.75 1849.56,1350.84 1850.24,1350.93 1850.91,1351.01 1851.58,1351.1 1852.26,1351.19 1852.93,1351.27 1853.61,1351.36 1854.28,1351.44 \n",
       "  1854.95,1351.53 1855.63,1351.61 1856.3,1351.7 1856.97,1351.78 1857.65,1351.87 1858.32,1351.95 1858.99,1352.04 1859.67,1352.12 1860.34,1352.2 1861.02,1352.29 \n",
       "  1861.69,1352.37 1862.36,1352.46 1863.04,1352.54 1863.71,1352.62 1864.38,1352.7 1865.06,1352.79 1865.73,1352.87 1866.4,1352.95 1867.08,1353.03 1867.75,1353.11 \n",
       "  1868.43,1353.2 1869.1,1353.28 1869.77,1353.36 1870.45,1353.44 1871.12,1353.52 1871.79,1353.6 1872.47,1353.68 1873.14,1353.76 1873.81,1353.84 1874.49,1353.92 \n",
       "  1875.16,1354 1875.84,1354.08 1876.51,1354.16 1877.18,1354.24 1877.86,1354.32 1878.53,1354.39 1879.2,1354.47 1879.88,1354.55 1880.55,1354.63 1881.22,1354.71 \n",
       "  1881.9,1354.79 1882.57,1354.86 1883.25,1354.94 1883.92,1355.02 1884.59,1355.09 1885.27,1355.17 1885.94,1355.25 1886.61,1355.32 1887.29,1355.4 1887.96,1355.48 \n",
       "  1888.63,1355.55 1889.31,1355.63 1889.98,1355.7 1890.66,1355.78 1891.33,1355.85 1892,1355.93 1892.68,1356 1893.35,1356.08 1894.02,1356.15 1894.7,1356.22 \n",
       "  1895.37,1356.3 1896.04,1356.37 1896.72,1356.45 1897.39,1356.52 1898.07,1356.59 1898.74,1356.67 1899.41,1356.74 1900.09,1356.81 1900.76,1356.88 1901.43,1356.96 \n",
       "  1902.11,1357.03 1902.78,1357.1 1903.45,1357.17 1904.13,1357.24 1904.8,1357.31 1905.48,1357.39 1906.15,1357.46 1906.82,1357.53 1907.5,1357.6 1908.17,1357.67 \n",
       "  1908.84,1357.74 1909.52,1357.81 1910.19,1357.88 1910.86,1357.95 1911.54,1358.02 1912.21,1358.09 1912.89,1358.16 1913.56,1358.23 1914.23,1358.3 1914.91,1358.36 \n",
       "  1915.58,1358.43 1916.25,1358.5 1916.93,1358.57 1917.6,1358.64 1918.27,1358.71 1918.95,1358.77 1919.62,1358.84 1920.3,1358.91 1920.97,1358.98 1921.64,1359.04 \n",
       "  1922.32,1359.11 1922.99,1359.18 1923.66,1359.25 1924.34,1359.31 1925.01,1359.38 1925.69,1359.44 1926.36,1359.51 1927.03,1359.58 1927.71,1359.64 1928.38,1359.71 \n",
       "  1929.05,1359.77 1929.73,1359.84 1930.4,1359.9 1931.07,1359.97 1931.75,1360.03 1932.42,1360.1 1933.1,1360.16 1933.77,1360.23 1934.44,1360.29 1935.12,1360.36 \n",
       "  1935.79,1360.42 1936.46,1360.48 1937.14,1360.55 1937.81,1360.61 1938.48,1360.68 1939.16,1360.74 1939.83,1360.8 1940.51,1360.87 1941.18,1360.93 1941.85,1360.99 \n",
       "  1942.53,1361.05 1943.2,1361.12 1943.87,1361.18 1944.55,1361.24 1945.22,1361.3 1945.89,1361.36 1946.57,1361.43 1947.24,1361.49 1947.92,1361.55 1948.59,1361.61 \n",
       "  1949.26,1361.67 1949.94,1361.73 1950.61,1361.8 1951.28,1361.86 1951.96,1361.92 1952.63,1361.98 1953.3,1362.04 1953.98,1362.1 1954.65,1362.16 1955.33,1362.22 \n",
       "  1956,1362.28 1956.67,1362.34 1957.35,1362.4 1958.02,1362.46 1958.69,1362.52 1959.37,1362.58 1960.04,1362.64 1960.71,1362.7 1961.39,1362.76 1962.06,1362.81 \n",
       "  1962.74,1362.87 1963.41,1362.93 1964.08,1362.99 1964.76,1363.05 1965.43,1363.11 1966.1,1363.17 1966.78,1363.22 1967.45,1363.28 1968.12,1363.34 1968.8,1363.4 \n",
       "  1969.47,1363.46 1970.15,1363.51 1970.82,1363.57 1971.49,1363.63 1972.17,1363.69 1972.84,1363.74 1973.51,1363.8 1974.19,1363.86 1974.86,1363.91 1975.53,1363.97 \n",
       "  1976.21,1364.03 1976.88,1364.08 1977.56,1364.14 1978.23,1364.2 1978.9,1364.25 1979.58,1364.31 1980.25,1364.36 1980.92,1364.42 1981.6,1364.48 1982.27,1364.53 \n",
       "  1982.94,1364.59 1983.62,1364.64 1984.29,1364.7 1984.97,1364.75 1985.64,1364.81 1986.31,1364.86 1986.99,1364.92 1987.66,1364.97 1988.33,1365.03 1989.01,1365.08 \n",
       "  1989.68,1365.14 1990.36,1365.19 1991.03,1365.25 1991.7,1365.3 1992.38,1365.36 1993.05,1365.41 1993.72,1365.46 1994.4,1365.52 1995.07,1365.57 1995.74,1365.63 \n",
       "  1996.42,1365.68 1997.09,1365.73 1997.77,1365.79 1998.44,1365.84 1999.11,1365.89 1999.79,1365.95 2000.46,1366 2001.13,1366.05 2001.81,1366.11 2002.48,1366.16 \n",
       "  2003.15,1366.21 2003.83,1366.27 2004.5,1366.32 2005.18,1366.37 2005.85,1366.42 2006.52,1366.48 2007.2,1366.53 2007.87,1366.58 2008.54,1366.63 2009.22,1366.69 \n",
       "  2009.89,1366.74 2010.56,1366.79 2011.24,1366.84 2011.91,1366.89 2012.59,1366.94 2013.26,1367 2013.93,1367.05 2014.61,1367.1 2015.28,1367.15 2015.95,1367.2 \n",
       "  2016.63,1367.25 2017.3,1367.3 2017.97,1367.36 2018.65,1367.41 2019.32,1367.46 2020,1367.51 2020.67,1367.56 2021.34,1367.61 2022.02,1367.66 2022.69,1367.71 \n",
       "  2023.36,1367.76 2024.04,1367.81 2024.71,1367.86 2025.38,1367.91 2026.06,1367.96 2026.73,1368.01 2027.41,1368.06 2028.08,1368.11 2028.75,1368.16 2029.43,1368.21 \n",
       "  2030.1,1368.26 2030.77,1368.31 2031.45,1368.36 2032.12,1368.41 2032.79,1368.46 2033.47,1368.51 2034.14,1368.56 2034.82,1368.61 2035.49,1368.66 2036.16,1368.71 \n",
       "  2036.84,1368.76 2037.51,1368.81 2038.18,1368.86 2038.86,1368.9 2039.53,1368.95 2040.2,1369 2040.88,1369.05 2041.55,1369.1 2042.23,1369.15 2042.9,1369.2 \n",
       "  2043.57,1369.24 2044.25,1369.29 2044.92,1369.34 2045.59,1369.39 2046.27,1369.44 2046.94,1369.49 2047.61,1369.53 2048.29,1369.58 2048.96,1369.63 2049.64,1369.68 \n",
       "  2050.31,1369.73 2050.98,1369.77 2051.66,1369.82 2052.33,1369.87 2053,1369.92 2053.68,1369.97 2054.35,1370.01 2055.02,1370.06 2055.7,1370.11 2056.37,1370.15 \n",
       "  2057.05,1370.2 2057.72,1370.25 2058.39,1370.3 2059.07,1370.34 2059.74,1370.39 2060.41,1370.44 2061.09,1370.48 2061.76,1370.53 2062.44,1370.58 2063.11,1370.63 \n",
       "  2063.78,1370.67 2064.46,1370.72 2065.13,1370.77 2065.8,1370.81 2066.48,1370.86 2067.15,1370.9 2067.82,1370.95 2068.5,1371 2069.17,1371.04 2069.85,1371.09 \n",
       "  2070.52,1371.14 2071.19,1371.18 2071.87,1371.23 2072.54,1371.27 2073.21,1371.32 2073.89,1371.37 2074.56,1371.41 2075.23,1371.46 2075.91,1371.5 2076.58,1371.55 \n",
       "  2077.26,1371.6 2077.93,1371.64 2078.6,1371.69 2079.28,1371.73 2079.95,1371.78 2080.62,1371.82 2081.3,1371.87 2081.97,1371.91 2082.64,1371.96 2083.32,1372 \n",
       "  2083.99,1372.05 2084.67,1372.09 2085.34,1372.14 2086.01,1372.18 2086.69,1372.23 2087.36,1372.27 2088.03,1372.32 2088.71,1372.36 2089.38,1372.41 2090.05,1372.45 \n",
       "  2090.73,1372.5 2091.4,1372.54 2092.08,1372.59 2092.75,1372.63 2093.42,1372.68 2094.1,1372.72 2094.77,1372.77 2095.44,1372.81 2096.12,1372.85 2096.79,1372.9 \n",
       "  2097.46,1372.94 2098.14,1372.99 2098.81,1373.03 2099.49,1373.08 2100.16,1373.12 2100.83,1373.16 2101.51,1373.21 2102.18,1373.25 2102.85,1373.3 2103.53,1373.34 \n",
       "  2104.2,1373.38 2104.87,1373.43 2105.55,1373.47 2106.22,1373.52 2106.9,1373.56 2107.57,1373.6 2108.24,1373.65 2108.92,1373.69 2109.59,1373.73 2110.26,1373.78 \n",
       "  2110.94,1373.82 2111.61,1373.86 2112.28,1373.91 2112.96,1373.95 2113.63,1373.99 2114.31,1374.04 2114.98,1374.08 2115.65,1374.12 2116.33,1374.17 2117,1374.21 \n",
       "  2117.67,1374.25 2118.35,1374.3 2119.02,1374.34 2119.69,1374.38 2120.37,1374.42 2121.04,1374.47 2121.72,1374.51 2122.39,1374.55 2123.06,1374.6 2123.74,1374.64 \n",
       "  2124.41,1374.68 2125.08,1374.72 2125.76,1374.77 2126.43,1374.81 2127.1,1374.85 2127.78,1374.89 2128.45,1374.94 2129.13,1374.98 2129.8,1375.02 2130.47,1375.06 \n",
       "  2131.15,1375.11 2131.82,1375.15 2132.49,1375.19 2133.17,1375.23 2133.84,1375.27 2134.52,1375.32 2135.19,1375.36 2135.86,1375.4 2136.54,1375.44 2137.21,1375.48 \n",
       "  2137.88,1375.53 2138.56,1375.57 2139.23,1375.61 2139.9,1375.65 2140.58,1375.69 2141.25,1375.74 2141.93,1375.78 2142.6,1375.82 2143.27,1375.86 2143.95,1375.9 \n",
       "  2144.62,1375.94 2145.29,1375.99 2145.97,1376.03 2146.64,1376.07 2147.31,1376.11 2147.99,1376.15 2148.66,1376.19 2149.34,1376.23 2150.01,1376.28 2150.68,1376.32 \n",
       "  2151.36,1376.36 2152.03,1376.4 2152.7,1376.44 2153.38,1376.48 2154.05,1376.52 2154.72,1376.56 2155.4,1376.6 2156.07,1376.65 2156.75,1376.69 2157.42,1376.73 \n",
       "  2158.09,1376.77 2158.77,1376.81 2159.44,1376.85 2160.11,1376.89 2160.79,1376.93 2161.46,1376.97 2162.13,1377.01 2162.81,1377.05 2163.48,1377.09 2164.16,1377.14 \n",
       "  2164.83,1377.18 2165.5,1377.22 2166.18,1377.26 2166.85,1377.3 2167.52,1377.34 2168.2,1377.38 2168.87,1377.42 2169.54,1377.46 2170.22,1377.5 2170.89,1377.54 \n",
       "  2171.57,1377.58 2172.24,1377.62 2172.91,1377.66 2173.59,1377.7 2174.26,1377.74 2174.93,1377.78 2175.61,1377.82 2176.28,1377.86 2176.95,1377.9 2177.63,1377.94 \n",
       "  2178.3,1377.98 2178.98,1378.02 2179.65,1378.06 2180.32,1378.1 2181,1378.14 2181.67,1378.18 2182.34,1378.22 2183.02,1378.26 2183.69,1378.3 2184.36,1378.34 \n",
       "  2185.04,1378.38 2185.71,1378.42 2186.39,1378.46 2187.06,1378.5 2187.73,1378.54 2188.41,1378.58 2189.08,1378.62 2189.75,1378.66 2190.43,1378.69 2191.1,1378.73 \n",
       "  2191.77,1378.77 2192.45,1378.81 2193.12,1378.85 2193.8,1378.89 2194.47,1378.93 2195.14,1378.97 2195.82,1379.01 2196.49,1379.05 2197.16,1379.09 2197.84,1379.13 \n",
       "  2198.51,1379.17 2199.19,1379.2 2199.86,1379.24 2200.53,1379.28 2201.21,1379.32 2201.88,1379.36 2202.55,1379.4 2203.23,1379.44 2203.9,1379.48 2204.57,1379.51 \n",
       "  2205.25,1379.55 2205.92,1379.59 2206.6,1379.63 2207.27,1379.67 2207.94,1379.71 2208.62,1379.75 2209.29,1379.78 2209.96,1379.82 2210.64,1379.86 2211.31,1379.9 \n",
       "  2211.98,1379.94 2212.66,1379.98 2213.33,1380.01 2214.01,1380.05 2214.68,1380.09 2215.35,1380.13 2216.03,1380.17 2216.7,1380.21 2217.37,1380.24 2218.05,1380.28 \n",
       "  2218.72,1380.32 2219.39,1380.36 2220.07,1380.4 2220.74,1380.43 2221.42,1380.47 2222.09,1380.51 2222.76,1380.55 2223.44,1380.58 2224.11,1380.62 2224.78,1380.66 \n",
       "  2225.46,1380.7 2226.13,1380.74 2226.8,1380.77 2227.48,1380.81 2228.15,1380.85 2228.83,1380.88 2229.5,1380.92 2230.17,1380.96 2230.85,1381 2231.52,1381.03 \n",
       "  2232.19,1381.07 2232.87,1381.11 2233.54,1381.15 2234.21,1381.18 2234.89,1381.22 2235.56,1381.26 2236.24,1381.3 2236.91,1381.33 2237.58,1381.37 2238.26,1381.41 \n",
       "  2238.93,1381.44 2239.6,1381.48 2240.28,1381.52 2240.95,1381.55 2241.62,1381.59 2242.3,1381.63 2242.97,1381.66 2243.65,1381.7 2244.32,1381.74 2244.99,1381.77 \n",
       "  2245.67,1381.81 2246.34,1381.85 2247.01,1381.88 2247.69,1381.92 2248.36,1381.96 2249.03,1381.99 2249.71,1382.03 2250.38,1382.07 2251.06,1382.1 2251.73,1382.14 \n",
       "  2252.4,1382.17 2253.08,1382.21 2253.75,1382.25 2254.42,1382.28 2255.1,1382.32 2255.77,1382.35 2256.44,1382.39 2257.12,1382.43 2257.79,1382.46 2258.47,1382.5 \n",
       "  2259.14,1382.53 2259.81,1382.57 2260.49,1382.61 2261.16,1382.64 2261.83,1382.68 2262.51,1382.71 2263.18,1382.75 2263.85,1382.78 2264.53,1382.82 2265.2,1382.85 \n",
       "  2265.88,1382.89 2266.55,1382.92 2267.22,1382.96 2267.9,1383 2268.57,1383.03 2269.24,1383.07 2269.92,1383.1 2270.59,1383.14 2271.27,1383.17 2271.94,1383.21 \n",
       "  2272.61,1383.24 2273.29,1383.28 2273.96,1383.31 2274.63,1383.35 2275.31,1383.38 2275.98,1383.42 2276.65,1383.45 2277.33,1383.49 2278,1383.52 2278.68,1383.55 \n",
       "  2279.35,1383.59 2280.02,1383.62 2280.7,1383.66 2281.37,1383.69 2282.04,1383.73 2282.72,1383.76 2283.39,1383.8 2284.06,1383.83 2284.74,1383.86 2285.41,1383.9 \n",
       "  2286.09,1383.93 2286.76,1383.97 2287.43,1384 2288.11,1384.03 2288.78,1384.07 2289.45,1384.1 2290.13,1384.14 2290.8,1384.17 2291.47,1384.2 2292.15,1384.24 \n",
       "  \n",
       "  \"/>\n",
       "<polyline clip-path=\"url(#clip462)\" style=\"stroke:#e26f46; stroke-width:8; stroke-opacity:1; fill:none\" points=\"\n",
       "  271.886,265.941 272.56,258.651 273.233,244.215 273.907,223.175 274.581,196.494 275.928,160.558 277.275,119.212 279.296,86.1857 281.991,88.6364 285.359,137.041 \n",
       "  289.401,208.689 295.464,295.088 303.548,357.3 313.652,424.468 327.125,614.364 344.64,859.819 368.217,1046.69 399.205,1159.16 439.624,1212.26 493.515,1238.51 \n",
       "  563.575,1254.18 656.538,1266.02 779.141,1275.22 940.816,1280.38 1153.69,1283.02 1434.6,1293.82 1804.43,1332.95 2292.15,1371.25 \n",
       "  \"/>\n",
       "<path clip-path=\"url(#clip460)\" d=\"\n",
       "M1844.1 274.549 L2281.37 274.549 L2281.37 93.1086 L1844.1 93.1086  Z\n",
       "  \" fill=\"#ffffff\" fill-rule=\"evenodd\" fill-opacity=\"1\"/>\n",
       "<polyline clip-path=\"url(#clip460)\" style=\"stroke:#000000; stroke-width:4; stroke-opacity:1; fill:none\" points=\"\n",
       "  1844.1,274.549 2281.37,274.549 2281.37,93.1086 1844.1,93.1086 1844.1,274.549 \n",
       "  \"/>\n",
       "<polyline clip-path=\"url(#clip460)\" style=\"stroke:#009af9; stroke-width:4; stroke-opacity:1; fill:none\" points=\"\n",
       "  1867.9,153.589 2010.66,153.589 \n",
       "  \"/>\n",
       "<path clip-path=\"url(#clip460)\" d=\"M 0 0 M2034.46 136.309 L2063.69 136.309 L2063.69 140.244 L2051.42 140.244 L2051.42 170.869 L2046.73 170.869 L2046.73 140.244 L2034.46 140.244 L2034.46 136.309 Z\" fill=\"#000000\" fill-rule=\"evenodd\" fill-opacity=\"1\" /><path clip-path=\"url(#clip460)\" d=\"M 0 0 M2076.22 148.924 Q2075.5 148.508 2074.64 148.322 Q2073.81 148.114 2072.79 148.114 Q2069.18 148.114 2067.23 150.475 Q2065.31 152.813 2065.31 157.211 L2065.31 170.869 L2061.03 170.869 L2061.03 144.943 L2065.31 144.943 L2065.31 148.971 Q2066.66 146.609 2068.81 145.475 Q2070.96 144.318 2074.04 144.318 Q2074.48 144.318 2075.01 144.387 Q2075.55 144.434 2076.19 144.549 L2076.22 148.924 Z\" fill=\"#000000\" fill-rule=\"evenodd\" fill-opacity=\"1\" /><path clip-path=\"url(#clip460)\" d=\"M 0 0 M2092.47 157.836 Q2087.3 157.836 2085.31 159.017 Q2083.32 160.197 2083.32 163.045 Q2083.32 165.313 2084.8 166.656 Q2086.31 167.975 2088.88 167.975 Q2092.42 167.975 2094.55 165.475 Q2096.7 162.952 2096.7 158.785 L2096.7 157.836 L2092.47 157.836 M2100.96 156.077 L2100.96 170.869 L2096.7 170.869 L2096.7 166.933 Q2095.24 169.295 2093.07 170.429 Q2090.89 171.54 2087.74 171.54 Q2083.76 171.54 2081.4 169.318 Q2079.06 167.072 2079.06 163.322 Q2079.06 158.947 2081.98 156.725 Q2084.92 154.503 2090.73 154.503 L2096.7 154.503 L2096.7 154.086 Q2096.7 151.147 2094.76 149.549 Q2092.84 147.929 2089.34 147.929 Q2087.12 147.929 2085.01 148.461 Q2082.91 148.994 2080.96 150.059 L2080.96 146.123 Q2083.3 145.221 2085.5 144.781 Q2087.7 144.318 2089.78 144.318 Q2095.41 144.318 2098.18 147.234 Q2100.96 150.151 2100.96 156.077 Z\" fill=\"#000000\" fill-rule=\"evenodd\" fill-opacity=\"1\" /><path clip-path=\"url(#clip460)\" d=\"M 0 0 M2105.43 144.943 L2109.69 144.943 L2109.69 170.869 L2105.43 170.869 L2105.43 144.943 M2105.43 134.85 L2109.69 134.85 L2109.69 140.244 L2105.43 140.244 L2105.43 134.85 Z\" fill=\"#000000\" fill-rule=\"evenodd\" fill-opacity=\"1\" /><path clip-path=\"url(#clip460)\" d=\"M 0 0 M2135.71 155.221 L2135.71 170.869 L2131.45 170.869 L2131.45 155.359 Q2131.45 151.679 2130.01 149.85 Q2128.58 148.022 2125.71 148.022 Q2122.26 148.022 2120.27 150.221 Q2118.28 152.42 2118.28 156.216 L2118.28 170.869 L2113.99 170.869 L2113.99 144.943 L2118.28 144.943 L2118.28 148.971 Q2119.8 146.633 2121.86 145.475 Q2123.95 144.318 2126.66 144.318 Q2131.12 144.318 2133.42 147.096 Q2135.71 149.85 2135.71 155.221 Z\" fill=\"#000000\" fill-rule=\"evenodd\" fill-opacity=\"1\" /><path clip-path=\"url(#clip460)\" d=\"M 0 0 M2140.17 144.943 L2144.43 144.943 L2144.43 170.869 L2140.17 170.869 L2140.17 144.943 M2140.17 134.85 L2144.43 134.85 L2144.43 140.244 L2140.17 140.244 L2140.17 134.85 Z\" fill=\"#000000\" fill-rule=\"evenodd\" fill-opacity=\"1\" /><path clip-path=\"url(#clip460)\" d=\"M 0 0 M2170.45 155.221 L2170.45 170.869 L2166.19 170.869 L2166.19 155.359 Q2166.19 151.679 2164.76 149.85 Q2163.32 148.022 2160.45 148.022 Q2157 148.022 2155.01 150.221 Q2153.02 152.42 2153.02 156.216 L2153.02 170.869 L2148.74 170.869 L2148.74 144.943 L2153.02 144.943 L2153.02 148.971 Q2154.55 146.633 2156.61 145.475 Q2158.69 144.318 2161.4 144.318 Q2165.87 144.318 2168.16 147.096 Q2170.45 149.85 2170.45 155.221 Z\" fill=\"#000000\" fill-rule=\"evenodd\" fill-opacity=\"1\" /><path clip-path=\"url(#clip460)\" d=\"M 0 0 M2191.98 157.605 Q2191.98 152.975 2190.06 150.429 Q2188.16 147.883 2184.71 147.883 Q2181.29 147.883 2179.36 150.429 Q2177.47 152.975 2177.47 157.605 Q2177.47 162.211 2179.36 164.758 Q2181.29 167.304 2184.71 167.304 Q2188.16 167.304 2190.06 164.758 Q2191.98 162.211 2191.98 157.605 M2196.24 167.651 Q2196.24 174.271 2193.3 177.489 Q2190.36 180.73 2184.29 180.73 Q2182.05 180.73 2180.06 180.382 Q2178.07 180.058 2176.19 179.364 L2176.19 175.22 Q2178.07 176.239 2179.9 176.725 Q2181.73 177.211 2183.62 177.211 Q2187.81 177.211 2189.9 175.012 Q2191.98 172.836 2191.98 168.415 L2191.98 166.308 Q2190.66 168.6 2188.6 169.734 Q2186.54 170.869 2183.67 170.869 Q2178.9 170.869 2175.98 167.234 Q2173.07 163.6 2173.07 157.605 Q2173.07 151.586 2175.98 147.952 Q2178.9 144.318 2183.67 144.318 Q2186.54 144.318 2188.6 145.452 Q2190.66 146.586 2191.98 148.878 L2191.98 144.943 L2196.24 144.943 L2196.24 167.651 Z\" fill=\"#000000\" fill-rule=\"evenodd\" fill-opacity=\"1\" /><polyline clip-path=\"url(#clip460)\" style=\"stroke:#e26f46; stroke-width:4; stroke-opacity:1; fill:none\" points=\"\n",
       "  1867.9,214.069 2010.66,214.069 \n",
       "  \"/>\n",
       "<path clip-path=\"url(#clip460)\" d=\"M 0 0 M2047.65 231.349 L2034.46 196.789 L2039.34 196.789 L2050.29 225.886 L2061.26 196.789 L2066.12 196.789 L2052.95 231.349 L2047.65 231.349 Z\" fill=\"#000000\" fill-rule=\"evenodd\" fill-opacity=\"1\" /><path clip-path=\"url(#clip460)\" d=\"M 0 0 M2078.69 218.316 Q2073.53 218.316 2071.54 219.497 Q2069.55 220.677 2069.55 223.525 Q2069.55 225.793 2071.03 227.136 Q2072.54 228.455 2075.11 228.455 Q2078.65 228.455 2080.78 225.955 Q2082.93 223.432 2082.93 219.265 L2082.93 218.316 L2078.69 218.316 M2087.19 216.557 L2087.19 231.349 L2082.93 231.349 L2082.93 227.413 Q2081.47 229.775 2079.3 230.909 Q2077.12 232.02 2073.97 232.02 Q2069.99 232.02 2067.63 229.798 Q2065.29 227.552 2065.29 223.802 Q2065.29 219.427 2068.21 217.205 Q2071.15 214.983 2076.96 214.983 L2082.93 214.983 L2082.93 214.566 Q2082.93 211.627 2080.98 210.029 Q2079.06 208.409 2075.57 208.409 Q2073.35 208.409 2071.24 208.941 Q2069.13 209.474 2067.19 210.539 L2067.19 206.603 Q2069.53 205.701 2071.73 205.261 Q2073.92 204.798 2076.01 204.798 Q2081.63 204.798 2084.41 207.714 Q2087.19 210.631 2087.19 216.557 Z\" fill=\"#000000\" fill-rule=\"evenodd\" fill-opacity=\"1\" /><path clip-path=\"url(#clip460)\" d=\"M 0 0 M2091.66 195.33 L2095.92 195.33 L2095.92 231.349 L2091.66 231.349 L2091.66 195.33 Z\" fill=\"#000000\" fill-rule=\"evenodd\" fill-opacity=\"1\" /><path clip-path=\"url(#clip460)\" d=\"M 0 0 M2100.38 205.423 L2104.64 205.423 L2104.64 231.349 L2100.38 231.349 L2100.38 205.423 M2100.38 195.33 L2104.64 195.33 L2104.64 200.724 L2100.38 200.724 L2100.38 195.33 Z\" fill=\"#000000\" fill-rule=\"evenodd\" fill-opacity=\"1\" /><path clip-path=\"url(#clip460)\" d=\"M 0 0 M2126.17 209.358 L2126.17 195.33 L2130.43 195.33 L2130.43 231.349 L2126.17 231.349 L2126.17 227.46 Q2124.83 229.775 2122.77 230.909 Q2120.73 232.02 2117.86 232.02 Q2113.16 232.02 2110.2 228.27 Q2107.26 224.52 2107.26 218.409 Q2107.26 212.298 2110.2 208.548 Q2113.16 204.798 2117.86 204.798 Q2120.73 204.798 2122.77 205.932 Q2124.83 207.043 2126.17 209.358 M2111.66 218.409 Q2111.66 223.108 2113.58 225.793 Q2115.52 228.455 2118.9 228.455 Q2122.28 228.455 2124.23 225.793 Q2126.17 223.108 2126.17 218.409 Q2126.17 213.71 2124.23 211.048 Q2122.28 208.363 2118.9 208.363 Q2115.52 208.363 2113.58 211.048 Q2111.66 213.71 2111.66 218.409 Z\" fill=\"#000000\" fill-rule=\"evenodd\" fill-opacity=\"1\" /><path clip-path=\"url(#clip460)\" d=\"M 0 0 M2146.68 218.316 Q2141.52 218.316 2139.53 219.497 Q2137.54 220.677 2137.54 223.525 Q2137.54 225.793 2139.02 227.136 Q2140.52 228.455 2143.09 228.455 Q2146.63 228.455 2148.76 225.955 Q2150.92 223.432 2150.92 219.265 L2150.92 218.316 L2146.68 218.316 M2155.17 216.557 L2155.17 231.349 L2150.92 231.349 L2150.92 227.413 Q2149.46 229.775 2147.28 230.909 Q2145.1 232.02 2141.96 232.02 Q2137.98 232.02 2135.61 229.798 Q2133.28 227.552 2133.28 223.802 Q2133.28 219.427 2136.19 217.205 Q2139.13 214.983 2144.94 214.983 L2150.92 214.983 L2150.92 214.566 Q2150.92 211.627 2148.97 210.029 Q2147.05 208.409 2143.55 208.409 Q2141.33 208.409 2139.23 208.941 Q2137.12 209.474 2135.17 210.539 L2135.17 206.603 Q2137.51 205.701 2139.71 205.261 Q2141.91 204.798 2143.99 204.798 Q2149.62 204.798 2152.4 207.714 Q2155.17 210.631 2155.17 216.557 Z\" fill=\"#000000\" fill-rule=\"evenodd\" fill-opacity=\"1\" /><path clip-path=\"url(#clip460)\" d=\"M 0 0 M2163.85 198.062 L2163.85 205.423 L2172.63 205.423 L2172.63 208.733 L2163.85 208.733 L2163.85 222.807 Q2163.85 225.978 2164.71 226.881 Q2165.59 227.784 2168.25 227.784 L2172.63 227.784 L2172.63 231.349 L2168.25 231.349 Q2163.32 231.349 2161.45 229.52 Q2159.57 227.668 2159.57 222.807 L2159.57 208.733 L2156.45 208.733 L2156.45 205.423 L2159.57 205.423 L2159.57 198.062 L2163.85 198.062 Z\" fill=\"#000000\" fill-rule=\"evenodd\" fill-opacity=\"1\" /><path clip-path=\"url(#clip460)\" d=\"M 0 0 M2177.1 205.423 L2181.35 205.423 L2181.35 231.349 L2177.1 231.349 L2177.1 205.423 M2177.1 195.33 L2181.35 195.33 L2181.35 200.724 L2177.1 200.724 L2177.1 195.33 Z\" fill=\"#000000\" fill-rule=\"evenodd\" fill-opacity=\"1\" /><path clip-path=\"url(#clip460)\" d=\"M 0 0 M2195.87 208.409 Q2192.44 208.409 2190.45 211.094 Q2188.46 213.756 2188.46 218.409 Q2188.46 223.062 2190.43 225.747 Q2192.42 228.409 2195.87 228.409 Q2199.27 228.409 2201.26 225.724 Q2203.25 223.038 2203.25 218.409 Q2203.25 213.802 2201.26 211.117 Q2199.27 208.409 2195.87 208.409 M2195.87 204.798 Q2201.42 204.798 2204.6 208.409 Q2207.77 212.02 2207.77 218.409 Q2207.77 224.775 2204.6 228.409 Q2201.42 232.02 2195.87 232.02 Q2190.29 232.02 2187.12 228.409 Q2183.97 224.775 2183.97 218.409 Q2183.97 212.02 2187.12 208.409 Q2190.29 204.798 2195.87 204.798 Z\" fill=\"#000000\" fill-rule=\"evenodd\" fill-opacity=\"1\" /><path clip-path=\"url(#clip460)\" d=\"M 0 0 M2233.78 215.701 L2233.78 231.349 L2229.53 231.349 L2229.53 215.839 Q2229.53 212.159 2228.09 210.33 Q2226.66 208.502 2223.78 208.502 Q2220.34 208.502 2218.35 210.701 Q2216.35 212.9 2216.35 216.696 L2216.35 231.349 L2212.07 231.349 L2212.07 205.423 L2216.35 205.423 L2216.35 209.451 Q2217.88 207.113 2219.94 205.955 Q2222.03 204.798 2224.73 204.798 Q2229.2 204.798 2231.49 207.576 Q2233.78 210.33 2233.78 215.701 Z\" fill=\"#000000\" fill-rule=\"evenodd\" fill-opacity=\"1\" /></svg>\n"
      ]
     },
     "execution_count": 32,
     "metadata": {},
     "output_type": "execute_result"
    }
   ],
   "source": [
    "plot(Net.report.training_losses, label=\"Training\", lw=2)\n",
    "plot!(curve.parameter_values,\n",
    "     curve.measurements,\n",
    "     xlab=curve.parameter_name,\n",
    "     ylab=\"Cross Entropy\",\n",
    "     label=\"Validation\", lw=2)\n"
   ]
  },
  {
   "cell_type": "code",
   "execution_count": 33,
   "metadata": {},
   "outputs": [
    {
     "data": {
      "text/plain": [
       "(0.00033, 0.61639, 3000)"
      ]
     },
     "execution_count": 33,
     "metadata": {},
     "output_type": "execute_result"
    }
   ],
   "source": [
    "a = round(nn.optimiser.eta, digits=5)\n",
    "b = round(minimum(curve.measurements), digits=5)\n",
    "best_epochs = curve.parameter_values[argmin(curve.measurements)]\n",
    "a,b, best_epochs"
   ]
  },
  {
   "cell_type": "markdown",
   "metadata": {},
   "source": [
    "### GridSearch for Hidden Layer Size 1"
   ]
  },
  {
   "cell_type": "code",
   "execution_count": 34,
   "metadata": {},
   "outputs": [
    {
     "data": {
      "text/plain": [
       "\u001b[34mMachine{NeuralNetworkClassifier{CustomNN,…}} @443\u001b[39m trained 0 times.\n",
       "  args: \n",
       "    1:\t\u001b[34mSource @612\u001b[39m ⏎ `Table{AbstractArray{Continuous,1}}`\n",
       "    2:\t\u001b[34mSource @668\u001b[39m ⏎ `AbstractArray{Multiclass{3},1}`\n"
      ]
     },
     "execution_count": 34,
     "metadata": {},
     "output_type": "execute_result"
    }
   ],
   "source": [
    "Net = machine(nn, X, y)"
   ]
  },
  {
   "cell_type": "code",
   "execution_count": 35,
   "metadata": {},
   "outputs": [
    {
     "data": {
      "text/plain": [
       "MLJBase.NumericRange(Int64, :(builder.n1), ... )"
      ]
     },
     "execution_count": 35,
     "metadata": {},
     "output_type": "execute_result"
    }
   ],
   "source": [
    "param1 = :epochs\n",
    "param2 = :(builder.n1)\n",
    "\n",
    "r1 = range(nn, param1, lower=10, upper=max_epochs, scale=:log10)\n",
    "# r1 = range(nn, param1, lower=1, upper=100, scale=:linear)\n",
    "r2 = range(nn, param2, lower=1, upper=150, scale=:linear)"
   ]
  },
  {
   "cell_type": "code",
   "execution_count": 36,
   "metadata": {
    "scrolled": true
   },
   "outputs": [
    {
     "data": {
      "text/plain": [
       "ProbabilisticTunedModel(\n",
       "    model = NeuralNetworkClassifier(\n",
       "            builder = \u001b[34mCustomNN @020\u001b[39m,\n",
       "            finaliser = NNlib.softmax,\n",
       "            optimiser = ADAM(0.0003333333333333333, (0.9, 0.999), IdDict{Any,Any}()),\n",
       "            loss = Flux.crossentropy,\n",
       "            epochs = 3000,\n",
       "            batch_size = 32,\n",
       "            lambda = 0.1,\n",
       "            alpha = 0.0,\n",
       "            optimiser_changes_trigger_retraining = false),\n",
       "    tuning = Grid(\n",
       "            goal = 144,\n",
       "            resolution = 10,\n",
       "            shuffle = true,\n",
       "            rng = Random._GLOBAL_RNG()),\n",
       "    resampling = Holdout(\n",
       "            fraction_train = 0.7,\n",
       "            shuffle = false,\n",
       "            rng = Random._GLOBAL_RNG()),\n",
       "    measure = cross_entropy(\n",
       "            eps = 2.220446049250313e-16),\n",
       "    weights = nothing,\n",
       "    operation = MLJModelInterface.predict,\n",
       "    range = MLJBase.NumericRange{Int64,MLJBase.Bounded,Symbol}[\u001b[34mNumericRange{Int64,…} @722\u001b[39m, \u001b[34mNumericRange{Int64,…} @723\u001b[39m],\n",
       "    train_best = true,\n",
       "    repeats = 1,\n",
       "    n = nothing,\n",
       "    acceleration = CPUThreads{Int64}(1),\n",
       "    acceleration_resampling = CPU1{Nothing}(nothing),\n",
       "    check_measure = true)\u001b[34m @547\u001b[39m"
      ]
     },
     "execution_count": 36,
     "metadata": {},
     "output_type": "execute_result"
    }
   ],
   "source": [
    "self_tuning_nn_model = TunedModel(model=nn,\n",
    "                                    tuning=Grid(goal=144),\n",
    "                                    resampling=Holdout(fraction_train=0.7), \n",
    "                                    measure=cross_entropy,\n",
    "                                    acceleration=CPUThreads(),\n",
    "                                    range=[r1, r2])"
   ]
  },
  {
   "cell_type": "code",
   "execution_count": 37,
   "metadata": {},
   "outputs": [
    {
     "data": {
      "text/plain": [
       "\u001b[34mMachine{ProbabilisticTunedModel{Grid,…}} @320\u001b[39m trained 0 times.\n",
       "  args: \n",
       "    1:\t\u001b[34mSource @951\u001b[39m ⏎ `Table{AbstractArray{Continuous,1}}`\n",
       "    2:\t\u001b[34mSource @103\u001b[39m ⏎ `AbstractArray{Multiclass{3},1}`\n"
      ]
     },
     "execution_count": 37,
     "metadata": {},
     "output_type": "execute_result"
    }
   ],
   "source": [
    "self_tuning_nn = machine(self_tuning_nn_model, X, y)"
   ]
  },
  {
   "cell_type": "code",
   "execution_count": 38,
   "metadata": {
    "scrolled": true
   },
   "outputs": [
    {
     "name": "stderr",
     "output_type": "stream",
     "text": [
      "┌ Info: Training \u001b[34mMachine{ProbabilisticTunedModel{Grid,…}} @320\u001b[39m.\n",
      "└ @ MLJBase /home/andrew/.julia/packages/MLJBase/uKzAz/src/machines.jl:319\n",
      "┌ Info: Attempting to evaluate 144 models.\n",
      "└ @ MLJTuning /home/andrew/.julia/packages/MLJTuning/Bbgvk/src/tuned_models.jl:494\n",
      "\u001b[33mEvaluating over 144 metamodels: 100%[=========================] Time: 0:02:57\u001b[39m\n"
     ]
    },
    {
     "data": {
      "text/plain": [
       "\u001b[34mMachine{ProbabilisticTunedModel{Grid,…}} @320\u001b[39m trained 1 time.\n",
       "  args: \n",
       "    1:\t\u001b[34mSource @951\u001b[39m ⏎ `Table{AbstractArray{Continuous,1}}`\n",
       "    2:\t\u001b[34mSource @103\u001b[39m ⏎ `AbstractArray{Multiclass{3},1}`\n"
      ]
     },
     "execution_count": 38,
     "metadata": {},
     "output_type": "execute_result"
    }
   ],
   "source": [
    "z = fit!(self_tuning_nn, rows=train)"
   ]
  },
  {
   "cell_type": "code",
   "execution_count": 39,
   "metadata": {
    "scrolled": false
   },
   "outputs": [
    {
     "data": {
      "image/svg+xml": [
       "<?xml version=\"1.0\" encoding=\"utf-8\"?>\n",
       "<svg xmlns=\"http://www.w3.org/2000/svg\" xmlns:xlink=\"http://www.w3.org/1999/xlink\" width=\"600\" height=\"400\" viewBox=\"0 0 2400 1600\">\n",
       "<defs>\n",
       "  <clipPath id=\"clip500\">\n",
       "    <rect x=\"0\" y=\"0\" width=\"2400\" height=\"1600\"/>\n",
       "  </clipPath>\n",
       "</defs>\n",
       "<path clip-path=\"url(#clip500)\" d=\"\n",
       "M0 1600 L2400 1600 L2400 0 L0 0  Z\n",
       "  \" fill=\"#ffffff\" fill-rule=\"evenodd\" fill-opacity=\"1\"/>\n",
       "<defs>\n",
       "  <clipPath id=\"clip501\">\n",
       "    <rect x=\"480\" y=\"0\" width=\"1681\" height=\"1600\"/>\n",
       "  </clipPath>\n",
       "</defs>\n",
       "<path clip-path=\"url(#clip500)\" d=\"\n",
       "M224.866 1410.9 L2112.76 1410.9 L2112.76 47.2441 L224.866 47.2441  Z\n",
       "  \" fill=\"#ffffff\" fill-rule=\"evenodd\" fill-opacity=\"1\"/>\n",
       "<defs>\n",
       "  <clipPath id=\"clip502\">\n",
       "    <rect x=\"224\" y=\"47\" width=\"1889\" height=\"1365\"/>\n",
       "  </clipPath>\n",
       "</defs>\n",
       "<polyline clip-path=\"url(#clip502)\" style=\"stroke:#000000; stroke-width:2; stroke-opacity:0.1; fill:none\" points=\"\n",
       "  278.297,1410.9 278.297,47.2441 \n",
       "  \"/>\n",
       "<polyline clip-path=\"url(#clip502)\" style=\"stroke:#000000; stroke-width:2; stroke-opacity:0.1; fill:none\" points=\"\n",
       "  637.793,1410.9 637.793,47.2441 \n",
       "  \"/>\n",
       "<polyline clip-path=\"url(#clip502)\" style=\"stroke:#000000; stroke-width:2; stroke-opacity:0.1; fill:none\" points=\"\n",
       "  997.288,1410.9 997.288,47.2441 \n",
       "  \"/>\n",
       "<polyline clip-path=\"url(#clip502)\" style=\"stroke:#000000; stroke-width:2; stroke-opacity:0.1; fill:none\" points=\"\n",
       "  1356.78,1410.9 1356.78,47.2441 \n",
       "  \"/>\n",
       "<polyline clip-path=\"url(#clip502)\" style=\"stroke:#000000; stroke-width:2; stroke-opacity:0.1; fill:none\" points=\"\n",
       "  1716.28,1410.9 1716.28,47.2441 \n",
       "  \"/>\n",
       "<polyline clip-path=\"url(#clip502)\" style=\"stroke:#000000; stroke-width:2; stroke-opacity:0.1; fill:none\" points=\"\n",
       "  2075.77,1410.9 2075.77,47.2441 \n",
       "  \"/>\n",
       "<polyline clip-path=\"url(#clip502)\" style=\"stroke:#000000; stroke-width:2; stroke-opacity:0.1; fill:none\" points=\"\n",
       "  224.866,1380.94 2112.76,1380.94 \n",
       "  \"/>\n",
       "<polyline clip-path=\"url(#clip502)\" style=\"stroke:#000000; stroke-width:2; stroke-opacity:0.1; fill:none\" points=\"\n",
       "  224.866,949.237 2112.76,949.237 \n",
       "  \"/>\n",
       "<polyline clip-path=\"url(#clip502)\" style=\"stroke:#000000; stroke-width:2; stroke-opacity:0.1; fill:none\" points=\"\n",
       "  224.866,517.538 2112.76,517.538 \n",
       "  \"/>\n",
       "<polyline clip-path=\"url(#clip502)\" style=\"stroke:#000000; stroke-width:2; stroke-opacity:0.1; fill:none\" points=\"\n",
       "  224.866,85.838 2112.76,85.838 \n",
       "  \"/>\n",
       "<polyline clip-path=\"url(#clip500)\" style=\"stroke:#000000; stroke-width:4; stroke-opacity:1; fill:none\" points=\"\n",
       "  224.866,1410.9 2112.76,1410.9 \n",
       "  \"/>\n",
       "<polyline clip-path=\"url(#clip500)\" style=\"stroke:#000000; stroke-width:4; stroke-opacity:1; fill:none\" points=\"\n",
       "  224.866,1410.9 224.866,47.2441 \n",
       "  \"/>\n",
       "<polyline clip-path=\"url(#clip500)\" style=\"stroke:#000000; stroke-width:4; stroke-opacity:1; fill:none\" points=\"\n",
       "  278.297,1410.9 278.297,1394.53 \n",
       "  \"/>\n",
       "<polyline clip-path=\"url(#clip500)\" style=\"stroke:#000000; stroke-width:4; stroke-opacity:1; fill:none\" points=\"\n",
       "  637.793,1410.9 637.793,1394.53 \n",
       "  \"/>\n",
       "<polyline clip-path=\"url(#clip500)\" style=\"stroke:#000000; stroke-width:4; stroke-opacity:1; fill:none\" points=\"\n",
       "  997.288,1410.9 997.288,1394.53 \n",
       "  \"/>\n",
       "<polyline clip-path=\"url(#clip500)\" style=\"stroke:#000000; stroke-width:4; stroke-opacity:1; fill:none\" points=\"\n",
       "  1356.78,1410.9 1356.78,1394.53 \n",
       "  \"/>\n",
       "<polyline clip-path=\"url(#clip500)\" style=\"stroke:#000000; stroke-width:4; stroke-opacity:1; fill:none\" points=\"\n",
       "  1716.28,1410.9 1716.28,1394.53 \n",
       "  \"/>\n",
       "<polyline clip-path=\"url(#clip500)\" style=\"stroke:#000000; stroke-width:4; stroke-opacity:1; fill:none\" points=\"\n",
       "  2075.77,1410.9 2075.77,1394.53 \n",
       "  \"/>\n",
       "<polyline clip-path=\"url(#clip500)\" style=\"stroke:#000000; stroke-width:4; stroke-opacity:1; fill:none\" points=\"\n",
       "  224.866,1380.94 247.521,1380.94 \n",
       "  \"/>\n",
       "<polyline clip-path=\"url(#clip500)\" style=\"stroke:#000000; stroke-width:4; stroke-opacity:1; fill:none\" points=\"\n",
       "  224.866,949.237 247.521,949.237 \n",
       "  \"/>\n",
       "<polyline clip-path=\"url(#clip500)\" style=\"stroke:#000000; stroke-width:4; stroke-opacity:1; fill:none\" points=\"\n",
       "  224.866,517.538 247.521,517.538 \n",
       "  \"/>\n",
       "<polyline clip-path=\"url(#clip500)\" style=\"stroke:#000000; stroke-width:4; stroke-opacity:1; fill:none\" points=\"\n",
       "  224.866,85.838 247.521,85.838 \n",
       "  \"/>\n",
       "<path clip-path=\"url(#clip500)\" d=\"M 0 0 M231.794 1481.97 L239.433 1481.97 L239.433 1455.6 L231.123 1457.27 L231.123 1453.01 L239.387 1451.34 L244.063 1451.34 L244.063 1481.97 L251.701 1481.97 L251.701 1485.9 L231.794 1485.9 L231.794 1481.97 Z\" fill=\"#000000\" fill-rule=\"evenodd\" fill-opacity=\"1\" /><path clip-path=\"url(#clip500)\" d=\"M 0 0 M266.771 1454.42 Q263.16 1454.42 261.331 1457.99 Q259.525 1461.53 259.525 1468.66 Q259.525 1475.77 261.331 1479.33 Q263.16 1482.87 266.771 1482.87 Q270.405 1482.87 272.211 1479.33 Q274.039 1475.77 274.039 1468.66 Q274.039 1461.53 272.211 1457.99 Q270.405 1454.42 266.771 1454.42 M266.771 1450.72 Q272.581 1450.72 275.637 1455.33 Q278.715 1459.91 278.715 1468.66 Q278.715 1477.39 275.637 1481.99 Q272.581 1486.58 266.771 1486.58 Q260.961 1486.58 257.882 1481.99 Q254.826 1477.39 254.826 1468.66 Q254.826 1459.91 257.882 1455.33 Q260.961 1450.72 266.771 1450.72 Z\" fill=\"#000000\" fill-rule=\"evenodd\" fill-opacity=\"1\" /><path clip-path=\"url(#clip500)\" d=\"M 0 0 M279.261 1455.3 L285.467 1455.3 L285.467 1433.87 L278.715 1435.23 L278.715 1431.77 L285.43 1430.41 L289.229 1430.41 L289.229 1455.3 L295.435 1455.3 L295.435 1458.49 L279.261 1458.49 L279.261 1455.3 Z\" fill=\"#000000\" fill-rule=\"evenodd\" fill-opacity=\"1\" /><path clip-path=\"url(#clip500)\" d=\"M 0 0 M299.554 1453.72 L303.523 1453.72 L303.523 1458.49 L299.554 1458.49 L299.554 1453.72 Z\" fill=\"#000000\" fill-rule=\"evenodd\" fill-opacity=\"1\" /><path clip-path=\"url(#clip500)\" d=\"M 0 0 M315.766 1432.91 Q312.832 1432.91 311.347 1435.81 Q309.88 1438.69 309.88 1444.48 Q309.88 1450.26 311.347 1453.15 Q312.832 1456.03 315.766 1456.03 Q318.719 1456.03 320.186 1453.15 Q321.672 1450.26 321.672 1444.48 Q321.672 1438.69 320.186 1435.81 Q318.719 1432.91 315.766 1432.91 M315.766 1429.91 Q320.487 1429.91 322.97 1433.65 Q325.471 1437.37 325.471 1444.48 Q325.471 1451.57 322.97 1455.31 Q320.487 1459.04 315.766 1459.04 Q311.046 1459.04 308.544 1455.31 Q306.062 1451.57 306.062 1444.48 Q306.062 1437.37 308.544 1433.65 Q311.046 1429.91 315.766 1429.91 Z\" fill=\"#000000\" fill-rule=\"evenodd\" fill-opacity=\"1\" /><path clip-path=\"url(#clip500)\" d=\"M 0 0 M591.694 1481.97 L599.333 1481.97 L599.333 1455.6 L591.023 1457.27 L591.023 1453.01 L599.287 1451.34 L603.962 1451.34 L603.962 1481.97 L611.601 1481.97 L611.601 1485.9 L591.694 1485.9 L591.694 1481.97 Z\" fill=\"#000000\" fill-rule=\"evenodd\" fill-opacity=\"1\" /><path clip-path=\"url(#clip500)\" d=\"M 0 0 M626.671 1454.42 Q623.06 1454.42 621.231 1457.99 Q619.425 1461.53 619.425 1468.66 Q619.425 1475.77 621.231 1479.33 Q623.06 1482.87 626.671 1482.87 Q630.305 1482.87 632.11 1479.33 Q633.939 1475.77 633.939 1468.66 Q633.939 1461.53 632.11 1457.99 Q630.305 1454.42 626.671 1454.42 M626.671 1450.72 Q632.481 1450.72 635.536 1455.33 Q638.615 1459.91 638.615 1468.66 Q638.615 1477.39 635.536 1481.99 Q632.481 1486.58 626.671 1486.58 Q620.861 1486.58 617.782 1481.99 Q614.726 1477.39 614.726 1468.66 Q614.726 1459.91 617.782 1455.33 Q620.861 1450.72 626.671 1450.72 Z\" fill=\"#000000\" fill-rule=\"evenodd\" fill-opacity=\"1\" /><path clip-path=\"url(#clip500)\" d=\"M 0 0 M639.161 1455.3 L645.367 1455.3 L645.367 1433.87 L638.615 1435.23 L638.615 1431.77 L645.329 1430.41 L649.129 1430.41 L649.129 1455.3 L655.335 1455.3 L655.335 1458.49 L639.161 1458.49 L639.161 1455.3 Z\" fill=\"#000000\" fill-rule=\"evenodd\" fill-opacity=\"1\" /><path clip-path=\"url(#clip500)\" d=\"M 0 0 M659.454 1453.72 L663.423 1453.72 L663.423 1458.49 L659.454 1458.49 L659.454 1453.72 Z\" fill=\"#000000\" fill-rule=\"evenodd\" fill-opacity=\"1\" /><path clip-path=\"url(#clip500)\" d=\"M 0 0 M667.579 1430.41 L682.494 1430.41 L682.494 1433.61 L671.058 1433.61 L671.058 1440.49 Q671.886 1440.21 672.714 1440.08 Q673.541 1439.93 674.369 1439.93 Q679.071 1439.93 681.817 1442.51 Q684.562 1445.08 684.562 1449.48 Q684.562 1454.02 681.741 1456.54 Q678.92 1459.04 673.786 1459.04 Q672.018 1459.04 670.175 1458.74 Q668.35 1458.44 666.394 1457.84 L666.394 1454.02 Q668.087 1454.94 669.892 1455.39 Q671.698 1455.84 673.71 1455.84 Q676.964 1455.84 678.864 1454.13 Q680.763 1452.42 680.763 1449.48 Q680.763 1446.55 678.864 1444.84 Q676.964 1443.13 673.71 1443.13 Q672.187 1443.13 670.664 1443.47 Q669.159 1443.8 667.579 1444.52 L667.579 1430.41 Z\" fill=\"#000000\" fill-rule=\"evenodd\" fill-opacity=\"1\" /><path clip-path=\"url(#clip500)\" d=\"M 0 0 M950.23 1481.97 L957.869 1481.97 L957.869 1455.6 L949.559 1457.27 L949.559 1453.01 L957.823 1451.34 L962.499 1451.34 L962.499 1481.97 L970.138 1481.97 L970.138 1485.9 L950.23 1485.9 L950.23 1481.97 Z\" fill=\"#000000\" fill-rule=\"evenodd\" fill-opacity=\"1\" /><path clip-path=\"url(#clip500)\" d=\"M 0 0 M985.207 1454.42 Q981.596 1454.42 979.767 1457.99 Q977.962 1461.53 977.962 1468.66 Q977.962 1475.77 979.767 1479.33 Q981.596 1482.87 985.207 1482.87 Q988.841 1482.87 990.647 1479.33 Q992.475 1475.77 992.475 1468.66 Q992.475 1461.53 990.647 1457.99 Q988.841 1454.42 985.207 1454.42 M985.207 1450.72 Q991.017 1450.72 994.073 1455.33 Q997.151 1459.91 997.151 1468.66 Q997.151 1477.39 994.073 1481.99 Q991.017 1486.58 985.207 1486.58 Q979.397 1486.58 976.318 1481.99 Q973.263 1477.39 973.263 1468.66 Q973.263 1459.91 976.318 1455.33 Q979.397 1450.72 985.207 1450.72 Z\" fill=\"#000000\" fill-rule=\"evenodd\" fill-opacity=\"1\" /><path clip-path=\"url(#clip500)\" d=\"M 0 0 M1001.72 1455.3 L1014.98 1455.3 L1014.98 1458.49 L997.151 1458.49 L997.151 1455.3 Q999.314 1453.06 1003.04 1449.3 Q1006.78 1445.52 1007.74 1444.43 Q1009.56 1442.38 1010.28 1440.96 Q1011.01 1439.54 1011.01 1438.16 Q1011.01 1435.92 1009.43 1434.51 Q1007.87 1433.1 1005.35 1433.1 Q1003.56 1433.1 1001.57 1433.72 Q999.596 1434.34 997.339 1435.6 L997.339 1431.77 Q999.634 1430.85 1001.63 1430.38 Q1003.62 1429.91 1005.28 1429.91 Q1009.64 1429.91 1012.24 1432.09 Q1014.83 1434.27 1014.83 1437.92 Q1014.83 1439.65 1014.17 1441.21 Q1013.53 1442.75 1011.82 1444.86 Q1011.35 1445.4 1008.83 1448.02 Q1006.31 1450.61 1001.72 1455.3 Z\" fill=\"#000000\" fill-rule=\"evenodd\" fill-opacity=\"1\" /><path clip-path=\"url(#clip500)\" d=\"M 0 0 M1019.1 1453.72 L1023.07 1453.72 L1023.07 1458.49 L1019.1 1458.49 L1019.1 1453.72 Z\" fill=\"#000000\" fill-rule=\"evenodd\" fill-opacity=\"1\" /><path clip-path=\"url(#clip500)\" d=\"M 0 0 M1035.31 1432.91 Q1032.38 1432.91 1030.89 1435.81 Q1029.43 1438.69 1029.43 1444.48 Q1029.43 1450.26 1030.89 1453.15 Q1032.38 1456.03 1035.31 1456.03 Q1038.27 1456.03 1039.73 1453.15 Q1041.22 1450.26 1041.22 1444.48 Q1041.22 1438.69 1039.73 1435.81 Q1038.27 1432.91 1035.31 1432.91 M1035.31 1429.91 Q1040.03 1429.91 1042.52 1433.65 Q1045.02 1437.37 1045.02 1444.48 Q1045.02 1451.57 1042.52 1455.31 Q1040.03 1459.04 1035.31 1459.04 Q1030.59 1459.04 1028.09 1455.31 Q1025.61 1451.57 1025.61 1444.48 Q1025.61 1437.37 1028.09 1433.65 Q1030.59 1429.91 1035.31 1429.91 Z\" fill=\"#000000\" fill-rule=\"evenodd\" fill-opacity=\"1\" /><path clip-path=\"url(#clip500)\" d=\"M 0 0 M1310.13 1481.97 L1317.77 1481.97 L1317.77 1455.6 L1309.46 1457.27 L1309.46 1453.01 L1317.72 1451.34 L1322.4 1451.34 L1322.4 1481.97 L1330.04 1481.97 L1330.04 1485.9 L1310.13 1485.9 L1310.13 1481.97 Z\" fill=\"#000000\" fill-rule=\"evenodd\" fill-opacity=\"1\" /><path clip-path=\"url(#clip500)\" d=\"M 0 0 M1345.11 1454.42 Q1341.5 1454.42 1339.67 1457.99 Q1337.86 1461.53 1337.86 1468.66 Q1337.86 1475.77 1339.67 1479.33 Q1341.5 1482.87 1345.11 1482.87 Q1348.74 1482.87 1350.55 1479.33 Q1352.38 1475.77 1352.38 1468.66 Q1352.38 1461.53 1350.55 1457.99 Q1348.74 1454.42 1345.11 1454.42 M1345.11 1450.72 Q1350.92 1450.72 1353.97 1455.33 Q1357.05 1459.91 1357.05 1468.66 Q1357.05 1477.39 1353.97 1481.99 Q1350.92 1486.58 1345.11 1486.58 Q1339.3 1486.58 1336.22 1481.99 Q1333.16 1477.39 1333.16 1468.66 Q1333.16 1459.91 1336.22 1455.33 Q1339.3 1450.72 1345.11 1450.72 Z\" fill=\"#000000\" fill-rule=\"evenodd\" fill-opacity=\"1\" /><path clip-path=\"url(#clip500)\" d=\"M 0 0 M1361.62 1455.3 L1374.88 1455.3 L1374.88 1458.49 L1357.05 1458.49 L1357.05 1455.3 Q1359.21 1453.06 1362.94 1449.3 Q1366.68 1445.52 1367.64 1444.43 Q1369.46 1442.38 1370.18 1440.96 Q1370.91 1439.54 1370.91 1438.16 Q1370.91 1435.92 1369.33 1434.51 Q1367.77 1433.1 1365.25 1433.1 Q1363.46 1433.1 1361.47 1433.72 Q1359.5 1434.34 1357.24 1435.6 L1357.24 1431.77 Q1359.53 1430.85 1361.53 1430.38 Q1363.52 1429.91 1365.18 1429.91 Q1369.54 1429.91 1372.14 1432.09 Q1374.73 1434.27 1374.73 1437.92 Q1374.73 1439.65 1374.07 1441.21 Q1373.43 1442.75 1371.72 1444.86 Q1371.25 1445.4 1368.73 1448.02 Q1366.21 1450.61 1361.62 1455.3 Z\" fill=\"#000000\" fill-rule=\"evenodd\" fill-opacity=\"1\" /><path clip-path=\"url(#clip500)\" d=\"M 0 0 M1379 1453.72 L1382.97 1453.72 L1382.97 1458.49 L1379 1458.49 L1379 1453.72 Z\" fill=\"#000000\" fill-rule=\"evenodd\" fill-opacity=\"1\" /><path clip-path=\"url(#clip500)\" d=\"M 0 0 M1387.12 1430.41 L1402.04 1430.41 L1402.04 1433.61 L1390.6 1433.61 L1390.6 1440.49 Q1391.43 1440.21 1392.26 1440.08 Q1393.09 1439.93 1393.91 1439.93 Q1398.62 1439.93 1401.36 1442.51 Q1404.11 1445.08 1404.11 1449.48 Q1404.11 1454.02 1401.29 1456.54 Q1398.47 1459.04 1393.33 1459.04 Q1391.56 1459.04 1389.72 1458.74 Q1387.9 1458.44 1385.94 1457.84 L1385.94 1454.02 Q1387.63 1454.94 1389.44 1455.39 Q1391.24 1455.84 1393.26 1455.84 Q1396.51 1455.84 1398.41 1454.13 Q1400.31 1452.42 1400.31 1449.48 Q1400.31 1446.55 1398.41 1444.84 Q1396.51 1443.13 1393.26 1443.13 Q1391.73 1443.13 1390.21 1443.47 Q1388.7 1443.8 1387.12 1444.52 L1387.12 1430.41 Z\" fill=\"#000000\" fill-rule=\"evenodd\" fill-opacity=\"1\" /><path clip-path=\"url(#clip500)\" d=\"M 0 0 M1668.89 1481.97 L1676.53 1481.97 L1676.53 1455.6 L1668.22 1457.27 L1668.22 1453.01 L1676.48 1451.34 L1681.16 1451.34 L1681.16 1481.97 L1688.8 1481.97 L1688.8 1485.9 L1668.89 1485.9 L1668.89 1481.97 Z\" fill=\"#000000\" fill-rule=\"evenodd\" fill-opacity=\"1\" /><path clip-path=\"url(#clip500)\" d=\"M 0 0 M1703.87 1454.42 Q1700.26 1454.42 1698.43 1457.99 Q1696.62 1461.53 1696.62 1468.66 Q1696.62 1475.77 1698.43 1479.33 Q1700.26 1482.87 1703.87 1482.87 Q1707.5 1482.87 1709.31 1479.33 Q1711.14 1475.77 1711.14 1468.66 Q1711.14 1461.53 1709.31 1457.99 Q1707.5 1454.42 1703.87 1454.42 M1703.87 1450.72 Q1709.68 1450.72 1712.73 1455.33 Q1715.81 1459.91 1715.81 1468.66 Q1715.81 1477.39 1712.73 1481.99 Q1709.68 1486.58 1703.87 1486.58 Q1698.06 1486.58 1694.98 1481.99 Q1691.92 1477.39 1691.92 1468.66 Q1691.92 1459.91 1694.98 1455.33 Q1698.06 1450.72 1703.87 1450.72 Z\" fill=\"#000000\" fill-rule=\"evenodd\" fill-opacity=\"1\" /><path clip-path=\"url(#clip500)\" d=\"M 0 0 M1728.51 1443.35 Q1731.24 1443.94 1732.76 1445.78 Q1734.3 1447.62 1734.3 1450.33 Q1734.3 1454.49 1731.44 1456.76 Q1728.58 1459.04 1723.32 1459.04 Q1721.55 1459.04 1719.67 1458.68 Q1717.81 1458.34 1715.81 1457.65 L1715.81 1453.98 Q1717.39 1454.9 1719.27 1455.37 Q1721.15 1455.84 1723.2 1455.84 Q1726.78 1455.84 1728.64 1454.43 Q1730.52 1453.02 1730.52 1450.33 Q1730.52 1447.85 1728.77 1446.46 Q1727.04 1445.05 1723.94 1445.05 L1720.67 1445.05 L1720.67 1441.92 L1724.09 1441.92 Q1726.89 1441.92 1728.38 1440.81 Q1729.86 1439.69 1729.86 1437.58 Q1729.86 1435.42 1728.32 1434.27 Q1726.8 1433.1 1723.94 1433.1 Q1722.38 1433.1 1720.59 1433.44 Q1718.8 1433.78 1716.66 1434.49 L1716.66 1431.11 Q1718.82 1430.51 1720.7 1430.21 Q1722.6 1429.91 1724.28 1429.91 Q1728.6 1429.91 1731.12 1431.88 Q1733.64 1433.84 1733.64 1437.18 Q1733.64 1439.52 1732.31 1441.13 Q1730.97 1442.73 1728.51 1443.35 Z\" fill=\"#000000\" fill-rule=\"evenodd\" fill-opacity=\"1\" /><path clip-path=\"url(#clip500)\" d=\"M 0 0 M1738.42 1453.72 L1742.39 1453.72 L1742.39 1458.49 L1738.42 1458.49 L1738.42 1453.72 Z\" fill=\"#000000\" fill-rule=\"evenodd\" fill-opacity=\"1\" /><path clip-path=\"url(#clip500)\" d=\"M 0 0 M1754.63 1432.91 Q1751.7 1432.91 1750.21 1435.81 Q1748.75 1438.69 1748.75 1444.48 Q1748.75 1450.26 1750.21 1453.15 Q1751.7 1456.03 1754.63 1456.03 Q1757.59 1456.03 1759.05 1453.15 Q1760.54 1450.26 1760.54 1444.48 Q1760.54 1438.69 1759.05 1435.81 Q1757.59 1432.91 1754.63 1432.91 M1754.63 1429.91 Q1759.35 1429.91 1761.84 1433.65 Q1764.34 1437.37 1764.34 1444.48 Q1764.34 1451.57 1761.84 1455.31 Q1759.35 1459.04 1754.63 1459.04 Q1749.91 1459.04 1747.41 1455.31 Q1744.93 1451.57 1744.93 1444.48 Q1744.93 1437.37 1747.41 1433.65 Q1749.91 1429.91 1754.63 1429.91 Z\" fill=\"#000000\" fill-rule=\"evenodd\" fill-opacity=\"1\" /><path clip-path=\"url(#clip500)\" d=\"M 0 0 M2028.79 1481.97 L2036.43 1481.97 L2036.43 1455.6 L2028.12 1457.27 L2028.12 1453.01 L2036.38 1451.34 L2041.06 1451.34 L2041.06 1481.97 L2048.7 1481.97 L2048.7 1485.9 L2028.79 1485.9 L2028.79 1481.97 Z\" fill=\"#000000\" fill-rule=\"evenodd\" fill-opacity=\"1\" /><path clip-path=\"url(#clip500)\" d=\"M 0 0 M2063.77 1454.42 Q2060.16 1454.42 2058.33 1457.99 Q2056.52 1461.53 2056.52 1468.66 Q2056.52 1475.77 2058.33 1479.33 Q2060.16 1482.87 2063.77 1482.87 Q2067.4 1482.87 2069.21 1479.33 Q2071.04 1475.77 2071.04 1468.66 Q2071.04 1461.53 2069.21 1457.99 Q2067.4 1454.42 2063.77 1454.42 M2063.77 1450.72 Q2069.58 1450.72 2072.63 1455.33 Q2075.71 1459.91 2075.71 1468.66 Q2075.71 1477.39 2072.63 1481.99 Q2069.58 1486.58 2063.77 1486.58 Q2057.96 1486.58 2054.88 1481.99 Q2051.82 1477.39 2051.82 1468.66 Q2051.82 1459.91 2054.88 1455.33 Q2057.96 1450.72 2063.77 1450.72 Z\" fill=\"#000000\" fill-rule=\"evenodd\" fill-opacity=\"1\" /><path clip-path=\"url(#clip500)\" d=\"M 0 0 M2088.41 1443.35 Q2091.14 1443.94 2092.66 1445.78 Q2094.2 1447.62 2094.2 1450.33 Q2094.2 1454.49 2091.34 1456.76 Q2088.48 1459.04 2083.22 1459.04 Q2081.45 1459.04 2079.57 1458.68 Q2077.71 1458.34 2075.71 1457.65 L2075.71 1453.98 Q2077.29 1454.9 2079.17 1455.37 Q2081.05 1455.84 2083.1 1455.84 Q2086.68 1455.84 2088.54 1454.43 Q2090.42 1453.02 2090.42 1450.33 Q2090.42 1447.85 2088.67 1446.46 Q2086.94 1445.05 2083.84 1445.05 L2080.57 1445.05 L2080.57 1441.92 L2083.99 1441.92 Q2086.79 1441.92 2088.28 1440.81 Q2089.76 1439.69 2089.76 1437.58 Q2089.76 1435.42 2088.22 1434.27 Q2086.7 1433.1 2083.84 1433.1 Q2082.28 1433.1 2080.49 1433.44 Q2078.7 1433.78 2076.56 1434.49 L2076.56 1431.11 Q2078.72 1430.51 2080.6 1430.21 Q2082.5 1429.91 2084.18 1429.91 Q2088.5 1429.91 2091.02 1431.88 Q2093.54 1433.84 2093.54 1437.18 Q2093.54 1439.52 2092.21 1441.13 Q2090.87 1442.73 2088.41 1443.35 Z\" fill=\"#000000\" fill-rule=\"evenodd\" fill-opacity=\"1\" /><path clip-path=\"url(#clip500)\" d=\"M 0 0 M2098.32 1453.72 L2102.29 1453.72 L2102.29 1458.49 L2098.32 1458.49 L2098.32 1453.72 Z\" fill=\"#000000\" fill-rule=\"evenodd\" fill-opacity=\"1\" /><path clip-path=\"url(#clip500)\" d=\"M 0 0 M2106.45 1430.41 L2121.36 1430.41 L2121.36 1433.61 L2109.92 1433.61 L2109.92 1440.49 Q2110.75 1440.21 2111.58 1440.08 Q2112.41 1439.93 2113.23 1439.93 Q2117.94 1439.93 2120.68 1442.51 Q2123.43 1445.08 2123.43 1449.48 Q2123.43 1454.02 2120.61 1456.54 Q2117.79 1459.04 2112.65 1459.04 Q2110.88 1459.04 2109.04 1458.74 Q2107.22 1458.44 2105.26 1457.84 L2105.26 1454.02 Q2106.95 1454.94 2108.76 1455.39 Q2110.56 1455.84 2112.58 1455.84 Q2115.83 1455.84 2117.73 1454.13 Q2119.63 1452.42 2119.63 1449.48 Q2119.63 1446.55 2117.73 1444.84 Q2115.83 1443.13 2112.58 1443.13 Q2111.05 1443.13 2109.53 1443.47 Q2108.02 1443.8 2106.45 1444.52 L2106.45 1430.41 Z\" fill=\"#000000\" fill-rule=\"evenodd\" fill-opacity=\"1\" /><path clip-path=\"url(#clip500)\" d=\"M 0 0 M188.922 1366.74 Q185.311 1366.74 183.482 1370.3 Q181.677 1373.84 181.677 1380.97 Q181.677 1388.08 183.482 1391.64 Q185.311 1395.18 188.922 1395.18 Q192.556 1395.18 194.362 1391.64 Q196.19 1388.08 196.19 1380.97 Q196.19 1373.84 194.362 1370.3 Q192.556 1366.74 188.922 1366.74 M188.922 1363.03 Q194.732 1363.03 197.788 1367.64 Q200.866 1372.22 200.866 1380.97 Q200.866 1389.7 197.788 1394.3 Q194.732 1398.89 188.922 1398.89 Q183.112 1398.89 180.033 1394.3 Q176.977 1389.7 176.977 1380.97 Q176.977 1372.22 180.033 1367.64 Q183.112 1363.03 188.922 1363.03 Z\" fill=\"#000000\" fill-rule=\"evenodd\" fill-opacity=\"1\" /><path clip-path=\"url(#clip500)\" d=\"M 0 0 M152.95 931.957 L171.306 931.957 L171.306 935.892 L157.232 935.892 L157.232 944.364 Q158.251 944.017 159.269 943.855 Q160.288 943.67 161.306 943.67 Q167.093 943.67 170.473 946.841 Q173.852 950.013 173.852 955.429 Q173.852 961.008 170.38 964.11 Q166.908 967.188 160.589 967.188 Q158.413 967.188 156.144 966.818 Q153.899 966.448 151.492 965.707 L151.492 961.008 Q153.575 962.142 155.797 962.698 Q158.019 963.253 160.496 963.253 Q164.501 963.253 166.839 961.147 Q169.177 959.04 169.177 955.429 Q169.177 951.818 166.839 949.712 Q164.501 947.605 160.496 947.605 Q158.621 947.605 156.746 948.022 Q154.894 948.439 152.95 949.318 L152.95 931.957 Z\" fill=\"#000000\" fill-rule=\"evenodd\" fill-opacity=\"1\" /><path clip-path=\"url(#clip500)\" d=\"M 0 0 M188.922 935.036 Q185.311 935.036 183.482 938.601 Q181.677 942.142 181.677 949.272 Q181.677 956.378 183.482 959.943 Q185.311 963.485 188.922 963.485 Q192.556 963.485 194.362 959.943 Q196.19 956.378 196.19 949.272 Q196.19 942.142 194.362 938.601 Q192.556 935.036 188.922 935.036 M188.922 931.332 Q194.732 931.332 197.788 935.939 Q200.866 940.522 200.866 949.272 Q200.866 957.999 197.788 962.605 Q194.732 967.188 188.922 967.188 Q183.112 967.188 180.033 962.605 Q176.977 957.999 176.977 949.272 Q176.977 940.522 180.033 935.939 Q183.112 931.332 188.922 931.332 Z\" fill=\"#000000\" fill-rule=\"evenodd\" fill-opacity=\"1\" /><path clip-path=\"url(#clip500)\" d=\"M 0 0 M126.931 530.882 L134.57 530.882 L134.57 504.517 L126.26 506.183 L126.26 501.924 L134.524 500.258 L139.2 500.258 L139.2 530.882 L146.839 530.882 L146.839 534.818 L126.931 534.818 L126.931 530.882 Z\" fill=\"#000000\" fill-rule=\"evenodd\" fill-opacity=\"1\" /><path clip-path=\"url(#clip500)\" d=\"M 0 0 M161.908 503.336 Q158.297 503.336 156.468 506.901 Q154.663 510.443 154.663 517.572 Q154.663 524.679 156.468 528.244 Q158.297 531.785 161.908 531.785 Q165.542 531.785 167.348 528.244 Q169.177 524.679 169.177 517.572 Q169.177 510.443 167.348 506.901 Q165.542 503.336 161.908 503.336 M161.908 499.633 Q167.718 499.633 170.774 504.239 Q173.852 508.822 173.852 517.572 Q173.852 526.299 170.774 530.906 Q167.718 535.489 161.908 535.489 Q156.098 535.489 153.019 530.906 Q149.964 526.299 149.964 517.572 Q149.964 508.822 153.019 504.239 Q156.098 499.633 161.908 499.633 Z\" fill=\"#000000\" fill-rule=\"evenodd\" fill-opacity=\"1\" /><path clip-path=\"url(#clip500)\" d=\"M 0 0 M188.922 503.336 Q185.311 503.336 183.482 506.901 Q181.677 510.443 181.677 517.572 Q181.677 524.679 183.482 528.244 Q185.311 531.785 188.922 531.785 Q192.556 531.785 194.362 528.244 Q196.19 524.679 196.19 517.572 Q196.19 510.443 194.362 506.901 Q192.556 503.336 188.922 503.336 M188.922 499.633 Q194.732 499.633 197.788 504.239 Q200.866 508.822 200.866 517.572 Q200.866 526.299 197.788 530.906 Q194.732 535.489 188.922 535.489 Q183.112 535.489 180.033 530.906 Q176.977 526.299 176.977 517.572 Q176.977 508.822 180.033 504.239 Q183.112 499.633 188.922 499.633 Z\" fill=\"#000000\" fill-rule=\"evenodd\" fill-opacity=\"1\" /><path clip-path=\"url(#clip500)\" d=\"M 0 0 M127.927 99.1829 L135.566 99.1829 L135.566 72.8173 L127.256 74.4839 L127.256 70.2247 L135.519 68.558 L140.195 68.558 L140.195 99.1829 L147.834 99.1829 L147.834 103.118 L127.927 103.118 L127.927 99.1829 Z\" fill=\"#000000\" fill-rule=\"evenodd\" fill-opacity=\"1\" /><path clip-path=\"url(#clip500)\" d=\"M 0 0 M152.95 68.558 L171.306 68.558 L171.306 72.4932 L157.232 72.4932 L157.232 80.9654 Q158.251 80.6182 159.269 80.4561 Q160.288 80.2709 161.306 80.2709 Q167.093 80.2709 170.473 83.4422 Q173.852 86.6135 173.852 92.0301 Q173.852 97.6088 170.38 100.711 Q166.908 103.789 160.589 103.789 Q158.413 103.789 156.144 103.419 Q153.899 103.049 151.492 102.308 L151.492 97.6088 Q153.575 98.7431 155.797 99.2986 Q158.019 99.8542 160.496 99.8542 Q164.501 99.8542 166.839 97.7477 Q169.177 95.6412 169.177 92.0301 Q169.177 88.419 166.839 86.3126 Q164.501 84.2061 160.496 84.2061 Q158.621 84.2061 156.746 84.6228 Q154.894 85.0394 152.95 85.9191 L152.95 68.558 Z\" fill=\"#000000\" fill-rule=\"evenodd\" fill-opacity=\"1\" /><path clip-path=\"url(#clip500)\" d=\"M 0 0 M188.922 71.6367 Q185.311 71.6367 183.482 75.2015 Q181.677 78.7432 181.677 85.8728 Q181.677 92.9792 183.482 96.544 Q185.311 100.086 188.922 100.086 Q192.556 100.086 194.362 96.544 Q196.19 92.9792 196.19 85.8728 Q196.19 78.7432 194.362 75.2015 Q192.556 71.6367 188.922 71.6367 M188.922 67.933 Q194.732 67.933 197.788 72.5395 Q200.866 77.1228 200.866 85.8728 Q200.866 94.5996 197.788 99.206 Q194.732 103.789 188.922 103.789 Q183.112 103.789 180.033 99.206 Q176.977 94.5996 176.977 85.8728 Q176.977 77.1228 180.033 72.5395 Q183.112 67.933 188.922 67.933 Z\" fill=\"#000000\" fill-rule=\"evenodd\" fill-opacity=\"1\" /><path clip-path=\"url(#clip500)\" d=\"M 0 0 M1099.09 1542.9 L1099.09 1545.76 L1072.16 1545.76 Q1072.55 1551.81 1075.79 1554.99 Q1079.07 1558.14 1084.9 1558.14 Q1088.27 1558.14 1091.42 1557.32 Q1094.6 1556.49 1097.72 1554.83 L1097.72 1560.37 Q1094.57 1561.71 1091.26 1562.41 Q1087.95 1563.11 1084.55 1563.11 Q1076.01 1563.11 1071.02 1558.14 Q1066.05 1553.18 1066.05 1544.71 Q1066.05 1535.96 1070.76 1530.83 Q1075.51 1525.68 1083.53 1525.68 Q1090.72 1525.68 1094.89 1530.33 Q1099.09 1534.94 1099.09 1542.9 M1093.23 1541.18 Q1093.17 1536.37 1090.53 1533.51 Q1087.92 1530.64 1083.59 1530.64 Q1078.69 1530.64 1075.73 1533.41 Q1072.8 1536.18 1072.35 1541.21 L1093.23 1541.18 Z\" fill=\"#000000\" fill-rule=\"evenodd\" fill-opacity=\"1\" /><path clip-path=\"url(#clip500)\" d=\"M 0 0 M1110.9 1556.84 L1110.9 1575.74 L1105.01 1575.74 L1105.01 1526.54 L1110.9 1526.54 L1110.9 1531.95 Q1112.75 1528.77 1115.55 1527.24 Q1118.38 1525.68 1122.29 1525.68 Q1128.79 1525.68 1132.83 1530.83 Q1136.9 1535.99 1136.9 1544.39 Q1136.9 1552.8 1132.83 1557.95 Q1128.79 1563.11 1122.29 1563.11 Q1118.38 1563.11 1115.55 1561.58 Q1112.75 1560.02 1110.9 1556.84 M1130.82 1544.39 Q1130.82 1537.93 1128.15 1534.27 Q1125.51 1530.58 1120.86 1530.58 Q1116.21 1530.58 1113.54 1534.27 Q1110.9 1537.93 1110.9 1544.39 Q1110.9 1550.85 1113.54 1554.55 Q1116.21 1558.21 1120.86 1558.21 Q1125.51 1558.21 1128.15 1554.55 Q1130.82 1550.85 1130.82 1544.39 Z\" fill=\"#000000\" fill-rule=\"evenodd\" fill-opacity=\"1\" /><path clip-path=\"url(#clip500)\" d=\"M 0 0 M1156.86 1530.64 Q1152.15 1530.64 1149.41 1534.34 Q1146.67 1538 1146.67 1544.39 Q1146.67 1550.79 1149.38 1554.48 Q1152.12 1558.14 1156.86 1558.14 Q1161.54 1558.14 1164.28 1554.45 Q1167.01 1550.76 1167.01 1544.39 Q1167.01 1538.06 1164.28 1534.37 Q1161.54 1530.64 1156.86 1530.64 M1156.86 1525.68 Q1164.5 1525.68 1168.86 1530.64 Q1173.22 1535.61 1173.22 1544.39 Q1173.22 1553.15 1168.86 1558.14 Q1164.5 1563.11 1156.86 1563.11 Q1149.19 1563.11 1144.83 1558.14 Q1140.5 1553.15 1140.5 1544.39 Q1140.5 1535.61 1144.83 1530.64 Q1149.19 1525.68 1156.86 1525.68 Z\" fill=\"#000000\" fill-rule=\"evenodd\" fill-opacity=\"1\" /><path clip-path=\"url(#clip500)\" d=\"M 0 0 M1205.02 1527.91 L1205.02 1533.38 Q1202.53 1532.01 1200.02 1531.34 Q1197.54 1530.64 1194.99 1530.64 Q1189.29 1530.64 1186.14 1534.27 Q1182.99 1537.87 1182.99 1544.39 Q1182.99 1550.92 1186.14 1554.55 Q1189.29 1558.14 1194.99 1558.14 Q1197.54 1558.14 1200.02 1557.47 Q1202.53 1556.77 1205.02 1555.41 L1205.02 1560.82 Q1202.57 1561.96 1199.92 1562.54 Q1197.31 1563.11 1194.35 1563.11 Q1186.3 1563.11 1181.56 1558.05 Q1176.82 1552.99 1176.82 1544.39 Q1176.82 1535.67 1181.59 1530.68 Q1186.4 1525.68 1194.74 1525.68 Q1197.44 1525.68 1200.02 1526.25 Q1202.6 1526.79 1205.02 1527.91 Z\" fill=\"#000000\" fill-rule=\"evenodd\" fill-opacity=\"1\" /><path clip-path=\"url(#clip500)\" d=\"M 0 0 M1240.79 1540.67 L1240.79 1562.19 L1234.93 1562.19 L1234.93 1540.86 Q1234.93 1535.8 1232.96 1533.29 Q1230.99 1530.77 1227.04 1530.77 Q1222.3 1530.77 1219.56 1533.79 Q1216.82 1536.82 1216.82 1542.04 L1216.82 1562.19 L1210.94 1562.19 L1210.94 1512.66 L1216.82 1512.66 L1216.82 1532.08 Q1218.93 1528.86 1221.76 1527.27 Q1224.62 1525.68 1228.35 1525.68 Q1234.49 1525.68 1237.64 1529.5 Q1240.79 1533.29 1240.79 1540.67 Z\" fill=\"#000000\" fill-rule=\"evenodd\" fill-opacity=\"1\" /><path clip-path=\"url(#clip500)\" d=\"M 0 0 M1269.66 1527.59 L1269.66 1533.13 Q1267.18 1531.85 1264.5 1531.22 Q1261.83 1530.58 1258.97 1530.58 Q1254.6 1530.58 1252.41 1531.92 Q1250.24 1533.25 1250.24 1535.93 Q1250.24 1537.96 1251.8 1539.14 Q1253.36 1540.29 1258.07 1541.34 L1260.08 1541.78 Q1266.32 1543.12 1268.93 1545.57 Q1271.57 1547.99 1271.57 1552.35 Q1271.57 1557.32 1267.62 1560.21 Q1263.71 1563.11 1256.83 1563.11 Q1253.97 1563.11 1250.85 1562.54 Q1247.76 1561.99 1244.32 1560.88 L1244.32 1554.83 Q1247.57 1556.52 1250.72 1557.38 Q1253.87 1558.21 1256.96 1558.21 Q1261.1 1558.21 1263.33 1556.81 Q1265.55 1555.37 1265.55 1552.8 Q1265.55 1550.41 1263.93 1549.14 Q1262.34 1547.86 1256.9 1546.68 L1254.86 1546.21 Q1249.42 1545.06 1247 1542.71 Q1244.58 1540.32 1244.58 1536.18 Q1244.58 1531.15 1248.14 1528.42 Q1251.71 1525.68 1258.27 1525.68 Q1261.51 1525.68 1264.38 1526.16 Q1267.24 1526.63 1269.66 1527.59 Z\" fill=\"#000000\" fill-rule=\"evenodd\" fill-opacity=\"1\" /><path clip-path=\"url(#clip500)\" d=\"M 0 0 M70.212 837.813 Q63.7508 837.813 60.0905 840.486 Q56.3984 843.128 56.3984 847.775 Q56.3984 852.422 60.0905 855.095 Q63.7508 857.737 70.212 857.737 Q76.6732 857.737 80.3653 855.095 Q84.0256 852.422 84.0256 847.775 Q84.0256 843.128 80.3653 840.486 Q76.6732 837.813 70.212 837.813 M57.7671 857.737 Q54.5842 855.891 53.0564 853.09 Q51.4968 850.258 51.4968 846.343 Q51.4968 839.85 56.6531 835.807 Q61.8093 831.733 70.212 831.733 Q78.6147 831.733 83.771 835.807 Q88.9272 839.85 88.9272 846.343 Q88.9272 850.258 87.3994 853.09 Q85.8398 855.891 82.657 857.737 L88.0042 857.737 L88.0042 863.625 L38.479 863.625 L38.479 857.737 L57.7671 857.737 Z\" fill=\"#000000\" fill-rule=\"evenodd\" fill-opacity=\"1\" /><path clip-path=\"url(#clip500)\" d=\"M 0 0 M73.9359 826.195 L52.3562 826.195 L52.3562 820.339 L73.7131 820.339 Q78.7739 820.339 81.3202 818.365 Q83.8346 816.392 83.8346 812.445 Q83.8346 807.703 80.8109 804.966 Q77.7872 802.196 72.5673 802.196 L52.3562 802.196 L52.3562 796.34 L88.0042 796.34 L88.0042 802.196 L82.5296 802.196 Q85.7762 804.329 87.3676 807.162 Q88.9272 809.963 88.9272 813.687 Q88.9272 819.829 85.1078 823.012 Q81.2883 826.195 73.9359 826.195 M51.4968 811.459 L51.4968 811.459 Z\" fill=\"#000000\" fill-rule=\"evenodd\" fill-opacity=\"1\" /><path clip-path=\"url(#clip500)\" d=\"M 0 0 M52.3562 790.197 L52.3562 784.341 L88.0042 784.341 L88.0042 790.197 L52.3562 790.197 M38.479 790.197 L38.479 784.341 L45.895 784.341 L45.895 790.197 L38.479 790.197 Z\" fill=\"#000000\" fill-rule=\"evenodd\" fill-opacity=\"1\" /><path clip-path=\"url(#clip500)\" d=\"M 0 0 M38.479 778.198 L38.479 772.341 L88.0042 772.341 L88.0042 778.198 L38.479 778.198 Z\" fill=\"#000000\" fill-rule=\"evenodd\" fill-opacity=\"1\" /><path clip-path=\"url(#clip500)\" d=\"M 0 0 M57.7671 742.741 L38.479 742.741 L38.479 736.884 L88.0042 736.884 L88.0042 742.741 L82.657 742.741 Q85.8398 744.587 87.3994 747.42 Q88.9272 750.22 88.9272 754.167 Q88.9272 760.628 83.771 764.702 Q78.6147 768.745 70.212 768.745 Q61.8093 768.745 56.6531 764.702 Q51.4968 760.628 51.4968 754.167 Q51.4968 750.22 53.0564 747.42 Q54.5842 744.587 57.7671 742.741 M70.212 762.697 Q76.6732 762.697 80.3653 760.055 Q84.0256 757.382 84.0256 752.735 Q84.0256 748.088 80.3653 745.414 Q76.6732 742.741 70.212 742.741 Q63.7508 742.741 60.0905 745.414 Q56.3984 748.088 56.3984 752.735 Q56.3984 757.382 60.0905 760.055 Q63.7508 762.697 70.212 762.697 Z\" fill=\"#000000\" fill-rule=\"evenodd\" fill-opacity=\"1\" /><path clip-path=\"url(#clip500)\" d=\"M 0 0 M68.7161 700.25 L71.5806 700.25 L71.5806 727.177 Q77.6281 726.795 80.8109 723.548 Q83.9619 720.27 83.9619 714.445 Q83.9619 711.071 83.1344 707.92 Q82.3069 704.737 80.6518 701.618 L86.1899 701.618 Q87.5267 704.769 88.227 708.079 Q88.9272 711.39 88.9272 714.795 Q88.9272 723.325 83.9619 728.322 Q78.9967 733.288 70.5303 733.288 Q61.7774 733.288 56.6531 728.577 Q51.4968 723.835 51.4968 715.814 Q51.4968 708.621 56.1438 704.451 Q60.7589 700.25 68.7161 700.25 M66.9973 706.106 Q62.1912 706.17 59.3266 708.812 Q56.4621 711.421 56.4621 715.75 Q56.4621 720.652 59.2312 723.612 Q62.0002 726.54 67.0292 726.986 L66.9973 706.106 Z\" fill=\"#000000\" fill-rule=\"evenodd\" fill-opacity=\"1\" /><path clip-path=\"url(#clip500)\" d=\"M 0 0 M57.8307 673.45 Q57.2578 674.437 57.0032 675.614 Q56.7167 676.76 56.7167 678.161 Q56.7167 683.126 59.9632 685.799 Q63.1779 688.441 69.2253 688.441 L88.0042 688.441 L88.0042 694.33 L52.3562 694.33 L52.3562 688.441 L57.8944 688.441 Q54.6479 686.595 53.0883 683.635 Q51.4968 680.675 51.4968 676.442 Q51.4968 675.837 51.5923 675.105 Q51.656 674.373 51.8151 673.482 L57.8307 673.45 Z\" fill=\"#000000\" fill-rule=\"evenodd\" fill-opacity=\"1\" /><path clip-path=\"url(#clip500)\" d=\"M 0 0 M79.9197 672.463 L79.9197 665.748 L88.0042 665.748 L88.0042 672.463 L79.9197 672.463 Z\" fill=\"#000000\" fill-rule=\"evenodd\" fill-opacity=\"1\" /><path clip-path=\"url(#clip500)\" d=\"M 0 0 M66.4881 629.972 L88.0042 629.972 L88.0042 635.829 L66.679 635.829 Q61.6183 635.829 59.1038 637.802 Q56.5894 639.775 56.5894 643.722 Q56.5894 648.465 59.6131 651.202 Q62.6368 653.939 67.8567 653.939 L88.0042 653.939 L88.0042 659.827 L52.3562 659.827 L52.3562 653.939 L57.8944 653.939 Q54.6797 651.838 53.0883 649.006 Q51.4968 646.141 51.4968 642.417 Q51.4968 636.274 55.3163 633.123 Q59.1038 629.972 66.4881 629.972 Z\" fill=\"#000000\" fill-rule=\"evenodd\" fill-opacity=\"1\" /><path clip-path=\"url(#clip500)\" d=\"M 0 0 M82.5933 621.888 L82.5933 611.384 L46.3406 611.384 L48.6323 622.811 L42.7758 622.811 L40.4842 611.448 L40.4842 605.019 L82.5933 605.019 L82.5933 594.515 L88.0042 594.515 L88.0042 621.888 L82.5933 621.888 Z\" fill=\"#000000\" fill-rule=\"evenodd\" fill-opacity=\"1\" /><circle clip-path=\"url(#clip502)\" cx=\"1249.11\" cy=\"1251.43\" r=\"16\" fill=\"#440a68\" fill-rule=\"evenodd\" fill-opacity=\"1\" stroke=\"#000000\" stroke-opacity=\"1\" stroke-width=\"3.2\"/>\n",
       "<circle clip-path=\"url(#clip502)\" cx=\"761.529\" cy=\"552.074\" r=\"30\" fill=\"#9e2963\" fill-rule=\"evenodd\" fill-opacity=\"1\" stroke=\"#000000\" stroke-opacity=\"1\" stroke-width=\"3.2\"/>\n",
       "<circle clip-path=\"url(#clip502)\" cx=\"761.529\" cy=\"85.838\" r=\"28\" fill=\"#942666\" fill-rule=\"evenodd\" fill-opacity=\"1\" stroke=\"#000000\" stroke-opacity=\"1\" stroke-width=\"3.2\"/>\n",
       "<circle clip-path=\"url(#clip502)\" cx=\"443.988\" cy=\"552.074\" r=\"40\" fill=\"#dc5139\" fill-rule=\"evenodd\" fill-opacity=\"1\" stroke=\"#000000\" stroke-opacity=\"1\" stroke-width=\"3.2\"/>\n",
       "<circle clip-path=\"url(#clip502)\" cx=\"1411.67\" cy=\"672.949\" r=\"7\" fill=\"#080620\" fill-rule=\"evenodd\" fill-opacity=\"1\" stroke=\"#000000\" stroke-opacity=\"1\" stroke-width=\"3.2\"/>\n",
       "<circle clip-path=\"url(#clip502)\" cx=\"278.297\" cy=\"1018.31\" r=\"47\" fill=\"#f8890c\" fill-rule=\"evenodd\" fill-opacity=\"1\" stroke=\"#000000\" stroke-opacity=\"1\" stroke-width=\"3.2\"/>\n",
       "<circle clip-path=\"url(#clip502)\" cx=\"761.529\" cy=\"439.832\" r=\"30\" fill=\"#a02a62\" fill-rule=\"evenodd\" fill-opacity=\"1\" stroke=\"#000000\" stroke-opacity=\"1\" stroke-width=\"3.2\"/>\n",
       "<circle clip-path=\"url(#clip502)\" cx=\"599.8\" cy=\"1139.18\" r=\"47\" fill=\"#f7860d\" fill-rule=\"evenodd\" fill-opacity=\"1\" stroke=\"#000000\" stroke-opacity=\"1\" stroke-width=\"3.2\"/>\n",
       "<circle clip-path=\"url(#clip502)\" cx=\"1088.68\" cy=\"1139.18\" r=\"20\" fill=\"#5e126e\" fill-rule=\"evenodd\" fill-opacity=\"1\" stroke=\"#000000\" stroke-opacity=\"1\" stroke-width=\"3.2\"/>\n",
       "<circle clip-path=\"url(#clip502)\" cx=\"2059.33\" cy=\"85.838\" r=\"3\" fill=\"#000003\" fill-rule=\"evenodd\" fill-opacity=\"1\" stroke=\"#000000\" stroke-opacity=\"1\" stroke-width=\"3.2\"/>\n",
       "<circle clip-path=\"url(#clip502)\" cx=\"1088.68\" cy=\"552.074\" r=\"13\" fill=\"#2a0a56\" fill-rule=\"evenodd\" fill-opacity=\"1\" stroke=\"#000000\" stroke-opacity=\"1\" stroke-width=\"3.2\"/>\n",
       "<circle clip-path=\"url(#clip502)\" cx=\"1411.67\" cy=\"206.714\" r=\"6\" fill=\"#07051c\" fill-rule=\"evenodd\" fill-opacity=\"1\" stroke=\"#000000\" stroke-opacity=\"1\" stroke-width=\"3.2\"/>\n",
       "<circle clip-path=\"url(#clip502)\" cx=\"443.988\" cy=\"1139.18\" r=\"46\" fill=\"#f67f13\" fill-rule=\"evenodd\" fill-opacity=\"1\" stroke=\"#000000\" stroke-opacity=\"1\" stroke-width=\"3.2\"/>\n",
       "<circle clip-path=\"url(#clip502)\" cx=\"761.529\" cy=\"1372.3\" r=\"55\" fill=\"#f8cd37\" fill-rule=\"evenodd\" fill-opacity=\"1\" stroke=\"#000000\" stroke-opacity=\"1\" stroke-width=\"3.2\"/>\n",
       "<circle clip-path=\"url(#clip502)\" cx=\"927.611\" cy=\"1251.43\" r=\"40\" fill=\"#e05535\" fill-rule=\"evenodd\" fill-opacity=\"1\" stroke=\"#000000\" stroke-opacity=\"1\" stroke-width=\"3.2\"/>\n",
       "<circle clip-path=\"url(#clip502)\" cx=\"761.529\" cy=\"206.714\" r=\"33\" fill=\"#b53357\" fill-rule=\"evenodd\" fill-opacity=\"1\" stroke=\"#000000\" stroke-opacity=\"1\" stroke-width=\"3.2\"/>\n",
       "<circle clip-path=\"url(#clip502)\" cx=\"1735.36\" cy=\"206.714\" r=\"5\" fill=\"#02010d\" fill-rule=\"evenodd\" fill-opacity=\"1\" stroke=\"#000000\" stroke-opacity=\"1\" stroke-width=\"3.2\"/>\n",
       "<circle clip-path=\"url(#clip502)\" cx=\"1735.36\" cy=\"85.838\" r=\"5\" fill=\"#02010d\" fill-rule=\"evenodd\" fill-opacity=\"1\" stroke=\"#000000\" stroke-opacity=\"1\" stroke-width=\"3.2\"/>\n",
       "<circle clip-path=\"url(#clip502)\" cx=\"278.297\" cy=\"906.067\" r=\"48\" fill=\"#f98d09\" fill-rule=\"evenodd\" fill-opacity=\"1\" stroke=\"#000000\" stroke-opacity=\"1\" stroke-width=\"3.2\"/>\n",
       "<circle clip-path=\"url(#clip502)\" cx=\"1411.67\" cy=\"85.838\" r=\"6\" fill=\"#06051b\" fill-rule=\"evenodd\" fill-opacity=\"1\" stroke=\"#000000\" stroke-opacity=\"1\" stroke-width=\"3.2\"/>\n",
       "<circle clip-path=\"url(#clip502)\" cx=\"1573.49\" cy=\"206.714\" r=\"5\" fill=\"#030312\" fill-rule=\"evenodd\" fill-opacity=\"1\" stroke=\"#000000\" stroke-opacity=\"1\" stroke-width=\"3.2\"/>\n",
       "<circle clip-path=\"url(#clip502)\" cx=\"761.529\" cy=\"785.191\" r=\"32\" fill=\"#ac2f5d\" fill-rule=\"evenodd\" fill-opacity=\"1\" stroke=\"#000000\" stroke-opacity=\"1\" stroke-width=\"3.2\"/>\n",
       "<circle clip-path=\"url(#clip502)\" cx=\"599.8\" cy=\"85.838\" r=\"39\" fill=\"#d94d3d\" fill-rule=\"evenodd\" fill-opacity=\"1\" stroke=\"#000000\" stroke-opacity=\"1\" stroke-width=\"3.2\"/>\n",
       "<circle clip-path=\"url(#clip502)\" cx=\"1735.36\" cy=\"1139.18\" r=\"5\" fill=\"#030212\" fill-rule=\"evenodd\" fill-opacity=\"1\" stroke=\"#000000\" stroke-opacity=\"1\" stroke-width=\"3.2\"/>\n",
       "<circle clip-path=\"url(#clip502)\" cx=\"443.988\" cy=\"318.956\" r=\"41\" fill=\"#e35932\" fill-rule=\"evenodd\" fill-opacity=\"1\" stroke=\"#000000\" stroke-opacity=\"1\" stroke-width=\"3.2\"/>\n",
       "<circle clip-path=\"url(#clip502)\" cx=\"761.529\" cy=\"906.067\" r=\"38\" fill=\"#d64a3f\" fill-rule=\"evenodd\" fill-opacity=\"1\" stroke=\"#000000\" stroke-opacity=\"1\" stroke-width=\"3.2\"/>\n",
       "<circle clip-path=\"url(#clip502)\" cx=\"927.611\" cy=\"1139.18\" r=\"33\" fill=\"#b43358\" fill-rule=\"evenodd\" fill-opacity=\"1\" stroke=\"#000000\" stroke-opacity=\"1\" stroke-width=\"3.2\"/>\n",
       "<circle clip-path=\"url(#clip502)\" cx=\"1573.49\" cy=\"1372.3\" r=\"37\" fill=\"#d04445\" fill-rule=\"evenodd\" fill-opacity=\"1\" stroke=\"#000000\" stroke-opacity=\"1\" stroke-width=\"3.2\"/>\n",
       "<circle clip-path=\"url(#clip502)\" cx=\"278.297\" cy=\"1139.18\" r=\"56\" fill=\"#f4dc4f\" fill-rule=\"evenodd\" fill-opacity=\"1\" stroke=\"#000000\" stroke-opacity=\"1\" stroke-width=\"3.2\"/>\n",
       "<circle clip-path=\"url(#clip502)\" cx=\"1411.67\" cy=\"318.956\" r=\"6\" fill=\"#07051d\" fill-rule=\"evenodd\" fill-opacity=\"1\" stroke=\"#000000\" stroke-opacity=\"1\" stroke-width=\"3.2\"/>\n",
       "<circle clip-path=\"url(#clip502)\" cx=\"443.988\" cy=\"1251.43\" r=\"50\" fill=\"#fb9e06\" fill-rule=\"evenodd\" fill-opacity=\"1\" stroke=\"#000000\" stroke-opacity=\"1\" stroke-width=\"3.2\"/>\n",
       "<circle clip-path=\"url(#clip502)\" cx=\"1249.11\" cy=\"552.074\" r=\"9\" fill=\"#130a33\" fill-rule=\"evenodd\" fill-opacity=\"1\" stroke=\"#000000\" stroke-opacity=\"1\" stroke-width=\"3.2\"/>\n",
       "<circle clip-path=\"url(#clip502)\" cx=\"927.611\" cy=\"552.074\" r=\"21\" fill=\"#61136e\" fill-rule=\"evenodd\" fill-opacity=\"1\" stroke=\"#000000\" stroke-opacity=\"1\" stroke-width=\"3.2\"/>\n",
       "<circle clip-path=\"url(#clip502)\" cx=\"1573.49\" cy=\"318.956\" r=\"5\" fill=\"#030313\" fill-rule=\"evenodd\" fill-opacity=\"1\" stroke=\"#000000\" stroke-opacity=\"1\" stroke-width=\"3.2\"/>\n",
       "<circle clip-path=\"url(#clip502)\" cx=\"1897.38\" cy=\"672.949\" r=\"4\" fill=\"#010109\" fill-rule=\"evenodd\" fill-opacity=\"1\" stroke=\"#000000\" stroke-opacity=\"1\" stroke-width=\"3.2\"/>\n",
       "<circle clip-path=\"url(#clip502)\" cx=\"443.988\" cy=\"906.067\" r=\"43\" fill=\"#ed6a23\" fill-rule=\"evenodd\" fill-opacity=\"1\" stroke=\"#000000\" stroke-opacity=\"1\" stroke-width=\"3.2\"/>\n",
       "<circle clip-path=\"url(#clip502)\" cx=\"1411.67\" cy=\"1018.31\" r=\"8\" fill=\"#0d0828\" fill-rule=\"evenodd\" fill-opacity=\"1\" stroke=\"#000000\" stroke-opacity=\"1\" stroke-width=\"3.2\"/>\n",
       "<circle clip-path=\"url(#clip502)\" cx=\"1249.11\" cy=\"906.067\" r=\"10\" fill=\"#180b3d\" fill-rule=\"evenodd\" fill-opacity=\"1\" stroke=\"#000000\" stroke-opacity=\"1\" stroke-width=\"3.2\"/>\n",
       "<circle clip-path=\"url(#clip502)\" cx=\"927.611\" cy=\"318.956\" r=\"19\" fill=\"#58106d\" fill-rule=\"evenodd\" fill-opacity=\"1\" stroke=\"#000000\" stroke-opacity=\"1\" stroke-width=\"3.2\"/>\n",
       "<circle clip-path=\"url(#clip502)\" cx=\"1088.68\" cy=\"672.949\" r=\"13\" fill=\"#2c0a58\" fill-rule=\"evenodd\" fill-opacity=\"1\" stroke=\"#000000\" stroke-opacity=\"1\" stroke-width=\"3.2\"/>\n",
       "<circle clip-path=\"url(#clip502)\" cx=\"1411.67\" cy=\"1251.43\" r=\"10\" fill=\"#1a0c40\" fill-rule=\"evenodd\" fill-opacity=\"1\" stroke=\"#000000\" stroke-opacity=\"1\" stroke-width=\"3.2\"/>\n",
       "<circle clip-path=\"url(#clip502)\" cx=\"1735.36\" cy=\"1018.31\" r=\"5\" fill=\"#030211\" fill-rule=\"evenodd\" fill-opacity=\"1\" stroke=\"#000000\" stroke-opacity=\"1\" stroke-width=\"3.2\"/>\n",
       "<circle clip-path=\"url(#clip502)\" cx=\"1249.11\" cy=\"785.191\" r=\"10\" fill=\"#160b39\" fill-rule=\"evenodd\" fill-opacity=\"1\" stroke=\"#000000\" stroke-opacity=\"1\" stroke-width=\"3.2\"/>\n",
       "<circle clip-path=\"url(#clip502)\" cx=\"927.611\" cy=\"906.067\" r=\"29\" fill=\"#982765\" fill-rule=\"evenodd\" fill-opacity=\"1\" stroke=\"#000000\" stroke-opacity=\"1\" stroke-width=\"3.2\"/>\n",
       "<circle clip-path=\"url(#clip502)\" cx=\"1573.49\" cy=\"785.191\" r=\"6\" fill=\"#050417\" fill-rule=\"evenodd\" fill-opacity=\"1\" stroke=\"#000000\" stroke-opacity=\"1\" stroke-width=\"3.2\"/>\n",
       "<circle clip-path=\"url(#clip502)\" cx=\"2059.33\" cy=\"672.949\" r=\"3\" fill=\"#000004\" fill-rule=\"evenodd\" fill-opacity=\"1\" stroke=\"#000000\" stroke-opacity=\"1\" stroke-width=\"3.2\"/>\n",
       "<circle clip-path=\"url(#clip502)\" cx=\"2059.33\" cy=\"1372.3\" r=\"12\" fill=\"#240b4f\" fill-rule=\"evenodd\" fill-opacity=\"1\" stroke=\"#000000\" stroke-opacity=\"1\" stroke-width=\"3.2\"/>\n",
       "<circle clip-path=\"url(#clip502)\" cx=\"1897.38\" cy=\"85.838\" r=\"4\" fill=\"#010008\" fill-rule=\"evenodd\" fill-opacity=\"1\" stroke=\"#000000\" stroke-opacity=\"1\" stroke-width=\"3.2\"/>\n",
       "<circle clip-path=\"url(#clip502)\" cx=\"1897.38\" cy=\"1018.31\" r=\"4\" fill=\"#01010c\" fill-rule=\"evenodd\" fill-opacity=\"1\" stroke=\"#000000\" stroke-opacity=\"1\" stroke-width=\"3.2\"/>\n",
       "<circle clip-path=\"url(#clip502)\" cx=\"443.988\" cy=\"1372.3\" r=\"57\" fill=\"#f2e35c\" fill-rule=\"evenodd\" fill-opacity=\"1\" stroke=\"#000000\" stroke-opacity=\"1\" stroke-width=\"3.2\"/>\n",
       "<circle clip-path=\"url(#clip502)\" cx=\"2059.33\" cy=\"318.956\" r=\"3\" fill=\"#000003\" fill-rule=\"evenodd\" fill-opacity=\"1\" stroke=\"#000000\" stroke-opacity=\"1\" stroke-width=\"3.2\"/>\n",
       "<circle clip-path=\"url(#clip502)\" cx=\"927.611\" cy=\"672.949\" r=\"24\" fill=\"#7a1d6c\" fill-rule=\"evenodd\" fill-opacity=\"1\" stroke=\"#000000\" stroke-opacity=\"1\" stroke-width=\"3.2\"/>\n",
       "<circle clip-path=\"url(#clip502)\" cx=\"278.297\" cy=\"85.838\" r=\"42\" fill=\"#e65d2e\" fill-rule=\"evenodd\" fill-opacity=\"1\" stroke=\"#000000\" stroke-opacity=\"1\" stroke-width=\"3.2\"/>\n",
       "<circle clip-path=\"url(#clip502)\" cx=\"1088.68\" cy=\"1251.43\" r=\"27\" fill=\"#8d2368\" fill-rule=\"evenodd\" fill-opacity=\"1\" stroke=\"#000000\" stroke-opacity=\"1\" stroke-width=\"3.2\"/>\n",
       "<circle clip-path=\"url(#clip502)\" cx=\"1088.68\" cy=\"318.956\" r=\"12\" fill=\"#290b54\" fill-rule=\"evenodd\" fill-opacity=\"1\" stroke=\"#000000\" stroke-opacity=\"1\" stroke-width=\"3.2\"/>\n",
       "<circle clip-path=\"url(#clip502)\" cx=\"1897.38\" cy=\"552.074\" r=\"4\" fill=\"#010109\" fill-rule=\"evenodd\" fill-opacity=\"1\" stroke=\"#000000\" stroke-opacity=\"1\" stroke-width=\"3.2\"/>\n",
       "<circle clip-path=\"url(#clip502)\" cx=\"599.8\" cy=\"785.191\" r=\"41\" fill=\"#e25833\" fill-rule=\"evenodd\" fill-opacity=\"1\" stroke=\"#000000\" stroke-opacity=\"1\" stroke-width=\"3.2\"/>\n",
       "<circle clip-path=\"url(#clip502)\" cx=\"599.8\" cy=\"672.949\" r=\"40\" fill=\"#dd5138\" fill-rule=\"evenodd\" fill-opacity=\"1\" stroke=\"#000000\" stroke-opacity=\"1\" stroke-width=\"3.2\"/>\n",
       "<circle clip-path=\"url(#clip502)\" cx=\"599.8\" cy=\"1018.31\" r=\"41\" fill=\"#e45b30\" fill-rule=\"evenodd\" fill-opacity=\"1\" stroke=\"#000000\" stroke-opacity=\"1\" stroke-width=\"3.2\"/>\n",
       "<circle clip-path=\"url(#clip502)\" cx=\"927.611\" cy=\"206.714\" r=\"17\" fill=\"#4a0b6a\" fill-rule=\"evenodd\" fill-opacity=\"1\" stroke=\"#000000\" stroke-opacity=\"1\" stroke-width=\"3.2\"/>\n",
       "<circle clip-path=\"url(#clip502)\" cx=\"278.297\" cy=\"672.949\" r=\"46\" fill=\"#f57d15\" fill-rule=\"evenodd\" fill-opacity=\"1\" stroke=\"#000000\" stroke-opacity=\"1\" stroke-width=\"3.2\"/>\n",
       "<circle clip-path=\"url(#clip502)\" cx=\"2059.33\" cy=\"1251.43\" r=\"4\" fill=\"#01010b\" fill-rule=\"evenodd\" fill-opacity=\"1\" stroke=\"#000000\" stroke-opacity=\"1\" stroke-width=\"3.2\"/>\n",
       "<circle clip-path=\"url(#clip502)\" cx=\"1735.36\" cy=\"906.067\" r=\"5\" fill=\"#020210\" fill-rule=\"evenodd\" fill-opacity=\"1\" stroke=\"#000000\" stroke-opacity=\"1\" stroke-width=\"3.2\"/>\n",
       "<circle clip-path=\"url(#clip502)\" cx=\"927.611\" cy=\"85.838\" r=\"17\" fill=\"#460a69\" fill-rule=\"evenodd\" fill-opacity=\"1\" stroke=\"#000000\" stroke-opacity=\"1\" stroke-width=\"3.2\"/>\n",
       "<circle clip-path=\"url(#clip502)\" cx=\"761.529\" cy=\"1139.18\" r=\"41\" fill=\"#e55c2f\" fill-rule=\"evenodd\" fill-opacity=\"1\" stroke=\"#000000\" stroke-opacity=\"1\" stroke-width=\"3.2\"/>\n",
       "<circle clip-path=\"url(#clip502)\" cx=\"1897.38\" cy=\"206.714\" r=\"4\" fill=\"#010108\" fill-rule=\"evenodd\" fill-opacity=\"1\" stroke=\"#000000\" stroke-opacity=\"1\" stroke-width=\"3.2\"/>\n",
       "<circle clip-path=\"url(#clip502)\" cx=\"443.988\" cy=\"785.191\" r=\"43\" fill=\"#ec6825\" fill-rule=\"evenodd\" fill-opacity=\"1\" stroke=\"#000000\" stroke-opacity=\"1\" stroke-width=\"3.2\"/>\n",
       "<circle clip-path=\"url(#clip502)\" cx=\"927.611\" cy=\"439.832\" r=\"18\" fill=\"#4f0d6c\" fill-rule=\"evenodd\" fill-opacity=\"1\" stroke=\"#000000\" stroke-opacity=\"1\" stroke-width=\"3.2\"/>\n",
       "<circle clip-path=\"url(#clip502)\" cx=\"1735.36\" cy=\"1251.43\" r=\"6\" fill=\"#040316\" fill-rule=\"evenodd\" fill-opacity=\"1\" stroke=\"#000000\" stroke-opacity=\"1\" stroke-width=\"3.2\"/>\n",
       "<circle clip-path=\"url(#clip502)\" cx=\"599.8\" cy=\"206.714\" r=\"34\" fill=\"#be3852\" fill-rule=\"evenodd\" fill-opacity=\"1\" stroke=\"#000000\" stroke-opacity=\"1\" stroke-width=\"3.2\"/>\n",
       "<circle clip-path=\"url(#clip502)\" cx=\"2059.33\" cy=\"1139.18\" r=\"4\" fill=\"#010008\" fill-rule=\"evenodd\" fill-opacity=\"1\" stroke=\"#000000\" stroke-opacity=\"1\" stroke-width=\"3.2\"/>\n",
       "<circle clip-path=\"url(#clip502)\" cx=\"599.8\" cy=\"906.067\" r=\"43\" fill=\"#eb6627\" fill-rule=\"evenodd\" fill-opacity=\"1\" stroke=\"#000000\" stroke-opacity=\"1\" stroke-width=\"3.2\"/>\n",
       "<circle clip-path=\"url(#clip502)\" cx=\"1411.67\" cy=\"552.074\" r=\"7\" fill=\"#08051e\" fill-rule=\"evenodd\" fill-opacity=\"1\" stroke=\"#000000\" stroke-opacity=\"1\" stroke-width=\"3.2\"/>\n",
       "<circle clip-path=\"url(#clip502)\" cx=\"1088.68\" cy=\"906.067\" r=\"17\" fill=\"#470a69\" fill-rule=\"evenodd\" fill-opacity=\"1\" stroke=\"#000000\" stroke-opacity=\"1\" stroke-width=\"3.2\"/>\n",
       "<circle clip-path=\"url(#clip502)\" cx=\"1735.36\" cy=\"672.949\" r=\"5\" fill=\"#02020f\" fill-rule=\"evenodd\" fill-opacity=\"1\" stroke=\"#000000\" stroke-opacity=\"1\" stroke-width=\"3.2\"/>\n",
       "<circle clip-path=\"url(#clip502)\" cx=\"278.297\" cy=\"439.832\" r=\"43\" fill=\"#eb6528\" fill-rule=\"evenodd\" fill-opacity=\"1\" stroke=\"#000000\" stroke-opacity=\"1\" stroke-width=\"3.2\"/>\n",
       "<circle clip-path=\"url(#clip502)\" cx=\"1411.67\" cy=\"439.832\" r=\"6\" fill=\"#07051c\" fill-rule=\"evenodd\" fill-opacity=\"1\" stroke=\"#000000\" stroke-opacity=\"1\" stroke-width=\"3.2\"/>\n",
       "<circle clip-path=\"url(#clip502)\" cx=\"1897.38\" cy=\"906.067\" r=\"4\" fill=\"#01010a\" fill-rule=\"evenodd\" fill-opacity=\"1\" stroke=\"#000000\" stroke-opacity=\"1\" stroke-width=\"3.2\"/>\n",
       "<circle clip-path=\"url(#clip502)\" cx=\"599.8\" cy=\"552.074\" r=\"39\" fill=\"#db4f3a\" fill-rule=\"evenodd\" fill-opacity=\"1\" stroke=\"#000000\" stroke-opacity=\"1\" stroke-width=\"3.2\"/>\n",
       "<circle clip-path=\"url(#clip502)\" cx=\"1573.49\" cy=\"1251.43\" r=\"7\" fill=\"#0a0723\" fill-rule=\"evenodd\" fill-opacity=\"1\" stroke=\"#000000\" stroke-opacity=\"1\" stroke-width=\"3.2\"/>\n",
       "<circle clip-path=\"url(#clip502)\" cx=\"927.611\" cy=\"785.191\" r=\"27\" fill=\"#8a2269\" fill-rule=\"evenodd\" fill-opacity=\"1\" stroke=\"#000000\" stroke-opacity=\"1\" stroke-width=\"3.2\"/>\n",
       "<circle clip-path=\"url(#clip502)\" cx=\"1088.68\" cy=\"206.714\" r=\"11\" fill=\"#1f0c47\" fill-rule=\"evenodd\" fill-opacity=\"1\" stroke=\"#000000\" stroke-opacity=\"1\" stroke-width=\"3.2\"/>\n",
       "<circle clip-path=\"url(#clip502)\" cx=\"927.611\" cy=\"1372.3\" r=\"52\" fill=\"#fbb61b\" fill-rule=\"evenodd\" fill-opacity=\"1\" stroke=\"#000000\" stroke-opacity=\"1\" stroke-width=\"3.2\"/>\n",
       "<circle clip-path=\"url(#clip502)\" cx=\"1573.49\" cy=\"552.074\" r=\"6\" fill=\"#040315\" fill-rule=\"evenodd\" fill-opacity=\"1\" stroke=\"#000000\" stroke-opacity=\"1\" stroke-width=\"3.2\"/>\n",
       "<circle clip-path=\"url(#clip502)\" cx=\"1249.11\" cy=\"1139.18\" r=\"13\" fill=\"#2e0a5a\" fill-rule=\"evenodd\" fill-opacity=\"1\" stroke=\"#000000\" stroke-opacity=\"1\" stroke-width=\"3.2\"/>\n",
       "<circle clip-path=\"url(#clip502)\" cx=\"1573.49\" cy=\"439.832\" r=\"5\" fill=\"#040314\" fill-rule=\"evenodd\" fill-opacity=\"1\" stroke=\"#000000\" stroke-opacity=\"1\" stroke-width=\"3.2\"/>\n",
       "<circle clip-path=\"url(#clip502)\" cx=\"599.8\" cy=\"318.956\" r=\"37\" fill=\"#ce4346\" fill-rule=\"evenodd\" fill-opacity=\"1\" stroke=\"#000000\" stroke-opacity=\"1\" stroke-width=\"3.2\"/>\n",
       "<circle clip-path=\"url(#clip502)\" cx=\"1735.36\" cy=\"1372.3\" r=\"42\" fill=\"#e65d2e\" fill-rule=\"evenodd\" fill-opacity=\"1\" stroke=\"#000000\" stroke-opacity=\"1\" stroke-width=\"3.2\"/>\n",
       "<circle clip-path=\"url(#clip502)\" cx=\"1249.11\" cy=\"1372.3\" r=\"47\" fill=\"#f88b0a\" fill-rule=\"evenodd\" fill-opacity=\"1\" stroke=\"#000000\" stroke-opacity=\"1\" stroke-width=\"3.2\"/>\n",
       "<circle clip-path=\"url(#clip502)\" cx=\"599.8\" cy=\"1372.3\" r=\"58\" fill=\"#f1eb6d\" fill-rule=\"evenodd\" fill-opacity=\"1\" stroke=\"#000000\" stroke-opacity=\"1\" stroke-width=\"3.2\"/>\n",
       "<circle clip-path=\"url(#clip502)\" cx=\"1735.36\" cy=\"552.074\" r=\"5\" fill=\"#02020e\" fill-rule=\"evenodd\" fill-opacity=\"1\" stroke=\"#000000\" stroke-opacity=\"1\" stroke-width=\"3.2\"/>\n",
       "<circle clip-path=\"url(#clip502)\" cx=\"1897.38\" cy=\"1251.43\" r=\"5\" fill=\"#02020e\" fill-rule=\"evenodd\" fill-opacity=\"1\" stroke=\"#000000\" stroke-opacity=\"1\" stroke-width=\"3.2\"/>\n",
       "<circle clip-path=\"url(#clip502)\" cx=\"2059.33\" cy=\"552.074\" r=\"3\" fill=\"#000005\" fill-rule=\"evenodd\" fill-opacity=\"1\" stroke=\"#000000\" stroke-opacity=\"1\" stroke-width=\"3.2\"/>\n",
       "<circle clip-path=\"url(#clip502)\" cx=\"443.988\" cy=\"206.714\" r=\"40\" fill=\"#de5337\" fill-rule=\"evenodd\" fill-opacity=\"1\" stroke=\"#000000\" stroke-opacity=\"1\" stroke-width=\"3.2\"/>\n",
       "<circle clip-path=\"url(#clip502)\" cx=\"927.611\" cy=\"1018.31\" r=\"29\" fill=\"#9c2963\" fill-rule=\"evenodd\" fill-opacity=\"1\" stroke=\"#000000\" stroke-opacity=\"1\" stroke-width=\"3.2\"/>\n",
       "<circle clip-path=\"url(#clip502)\" cx=\"1249.11\" cy=\"439.832\" r=\"8\" fill=\"#0e092c\" fill-rule=\"evenodd\" fill-opacity=\"1\" stroke=\"#000000\" stroke-opacity=\"1\" stroke-width=\"3.2\"/>\n",
       "<circle clip-path=\"url(#clip502)\" cx=\"1088.68\" cy=\"785.191\" r=\"16\" fill=\"#420a68\" fill-rule=\"evenodd\" fill-opacity=\"1\" stroke=\"#000000\" stroke-opacity=\"1\" stroke-width=\"3.2\"/>\n",
       "<circle clip-path=\"url(#clip502)\" cx=\"1573.49\" cy=\"672.949\" r=\"6\" fill=\"#040316\" fill-rule=\"evenodd\" fill-opacity=\"1\" stroke=\"#000000\" stroke-opacity=\"1\" stroke-width=\"3.2\"/>\n",
       "<circle clip-path=\"url(#clip502)\" cx=\"1897.38\" cy=\"439.832\" r=\"4\" fill=\"#010008\" fill-rule=\"evenodd\" fill-opacity=\"1\" stroke=\"#000000\" stroke-opacity=\"1\" stroke-width=\"3.2\"/>\n",
       "<circle clip-path=\"url(#clip502)\" cx=\"278.297\" cy=\"785.191\" r=\"45\" fill=\"#f47a16\" fill-rule=\"evenodd\" fill-opacity=\"1\" stroke=\"#000000\" stroke-opacity=\"1\" stroke-width=\"3.2\"/>\n",
       "<circle clip-path=\"url(#clip502)\" cx=\"599.8\" cy=\"439.832\" r=\"39\" fill=\"#db4f3a\" fill-rule=\"evenodd\" fill-opacity=\"1\" stroke=\"#000000\" stroke-opacity=\"1\" stroke-width=\"3.2\"/>\n",
       "<circle clip-path=\"url(#clip502)\" cx=\"1249.11\" cy=\"672.949\" r=\"9\" fill=\"#120a31\" fill-rule=\"evenodd\" fill-opacity=\"1\" stroke=\"#000000\" stroke-opacity=\"1\" stroke-width=\"3.2\"/>\n",
       "<circle clip-path=\"url(#clip502)\" cx=\"278.297\" cy=\"318.956\" r=\"42\" fill=\"#e65e2d\" fill-rule=\"evenodd\" fill-opacity=\"1\" stroke=\"#000000\" stroke-opacity=\"1\" stroke-width=\"3.2\"/>\n",
       "<circle clip-path=\"url(#clip502)\" cx=\"1411.67\" cy=\"1372.3\" r=\"40\" fill=\"#e05535\" fill-rule=\"evenodd\" fill-opacity=\"1\" stroke=\"#000000\" stroke-opacity=\"1\" stroke-width=\"3.2\"/>\n",
       "<circle clip-path=\"url(#clip502)\" cx=\"599.8\" cy=\"1251.43\" r=\"48\" fill=\"#fa9306\" fill-rule=\"evenodd\" fill-opacity=\"1\" stroke=\"#000000\" stroke-opacity=\"1\" stroke-width=\"3.2\"/>\n",
       "<circle clip-path=\"url(#clip502)\" cx=\"1735.36\" cy=\"785.191\" r=\"5\" fill=\"#02020e\" fill-rule=\"evenodd\" fill-opacity=\"1\" stroke=\"#000000\" stroke-opacity=\"1\" stroke-width=\"3.2\"/>\n",
       "<circle clip-path=\"url(#clip502)\" cx=\"2059.33\" cy=\"1018.31\" r=\"4\" fill=\"#000006\" fill-rule=\"evenodd\" fill-opacity=\"1\" stroke=\"#000000\" stroke-opacity=\"1\" stroke-width=\"3.2\"/>\n",
       "<circle clip-path=\"url(#clip502)\" cx=\"1897.38\" cy=\"1139.18\" r=\"4\" fill=\"#01010a\" fill-rule=\"evenodd\" fill-opacity=\"1\" stroke=\"#000000\" stroke-opacity=\"1\" stroke-width=\"3.2\"/>\n",
       "<circle clip-path=\"url(#clip502)\" cx=\"278.297\" cy=\"1251.43\" r=\"59\" fill=\"#f4f78d\" fill-rule=\"evenodd\" fill-opacity=\"1\" stroke=\"#000000\" stroke-opacity=\"1\" stroke-width=\"3.2\"/>\n",
       "<circle clip-path=\"url(#clip502)\" cx=\"278.297\" cy=\"552.074\" r=\"44\" fill=\"#f1721d\" fill-rule=\"evenodd\" fill-opacity=\"1\" stroke=\"#000000\" stroke-opacity=\"1\" stroke-width=\"3.2\"/>\n",
       "<circle clip-path=\"url(#clip502)\" cx=\"1897.38\" cy=\"785.191\" r=\"4\" fill=\"#010008\" fill-rule=\"evenodd\" fill-opacity=\"1\" stroke=\"#000000\" stroke-opacity=\"1\" stroke-width=\"3.2\"/>\n",
       "<circle clip-path=\"url(#clip502)\" cx=\"2059.33\" cy=\"785.191\" r=\"3\" fill=\"#000003\" fill-rule=\"evenodd\" fill-opacity=\"1\" stroke=\"#000000\" stroke-opacity=\"1\" stroke-width=\"3.2\"/>\n",
       "<circle clip-path=\"url(#clip502)\" cx=\"1411.67\" cy=\"785.191\" r=\"7\" fill=\"#090622\" fill-rule=\"evenodd\" fill-opacity=\"1\" stroke=\"#000000\" stroke-opacity=\"1\" stroke-width=\"3.2\"/>\n",
       "<circle clip-path=\"url(#clip502)\" cx=\"1897.38\" cy=\"1372.3\" r=\"11\" fill=\"#200c49\" fill-rule=\"evenodd\" fill-opacity=\"1\" stroke=\"#000000\" stroke-opacity=\"1\" stroke-width=\"3.2\"/>\n",
       "<circle clip-path=\"url(#clip502)\" cx=\"1897.38\" cy=\"318.956\" r=\"4\" fill=\"#010008\" fill-rule=\"evenodd\" fill-opacity=\"1\" stroke=\"#000000\" stroke-opacity=\"1\" stroke-width=\"3.2\"/>\n",
       "<circle clip-path=\"url(#clip502)\" cx=\"761.529\" cy=\"1018.31\" r=\"40\" fill=\"#de5337\" fill-rule=\"evenodd\" fill-opacity=\"1\" stroke=\"#000000\" stroke-opacity=\"1\" stroke-width=\"3.2\"/>\n",
       "<circle clip-path=\"url(#clip502)\" cx=\"1573.49\" cy=\"1139.18\" r=\"6\" fill=\"#07051c\" fill-rule=\"evenodd\" fill-opacity=\"1\" stroke=\"#000000\" stroke-opacity=\"1\" stroke-width=\"3.2\"/>\n",
       "<circle clip-path=\"url(#clip502)\" cx=\"1411.67\" cy=\"906.067\" r=\"7\" fill=\"#0b0725\" fill-rule=\"evenodd\" fill-opacity=\"1\" stroke=\"#000000\" stroke-opacity=\"1\" stroke-width=\"3.2\"/>\n",
       "<circle clip-path=\"url(#clip502)\" cx=\"1088.68\" cy=\"1372.3\" r=\"49\" fill=\"#fa9506\" fill-rule=\"evenodd\" fill-opacity=\"1\" stroke=\"#000000\" stroke-opacity=\"1\" stroke-width=\"3.2\"/>\n",
       "<circle clip-path=\"url(#clip502)\" cx=\"761.529\" cy=\"318.956\" r=\"36\" fill=\"#c63d4d\" fill-rule=\"evenodd\" fill-opacity=\"1\" stroke=\"#000000\" stroke-opacity=\"1\" stroke-width=\"3.2\"/>\n",
       "<circle clip-path=\"url(#clip502)\" cx=\"2059.33\" cy=\"906.067\" r=\"4\" fill=\"#000006\" fill-rule=\"evenodd\" fill-opacity=\"1\" stroke=\"#000000\" stroke-opacity=\"1\" stroke-width=\"3.2\"/>\n",
       "<circle clip-path=\"url(#clip502)\" cx=\"443.988\" cy=\"439.832\" r=\"43\" fill=\"#ec6626\" fill-rule=\"evenodd\" fill-opacity=\"1\" stroke=\"#000000\" stroke-opacity=\"1\" stroke-width=\"3.2\"/>\n",
       "<circle clip-path=\"url(#clip502)\" cx=\"1411.67\" cy=\"1139.18\" r=\"8\" fill=\"#10092f\" fill-rule=\"evenodd\" fill-opacity=\"1\" stroke=\"#000000\" stroke-opacity=\"1\" stroke-width=\"3.2\"/>\n",
       "<circle clip-path=\"url(#clip502)\" cx=\"2059.33\" cy=\"206.714\" r=\"3\" fill=\"#000004\" fill-rule=\"evenodd\" fill-opacity=\"1\" stroke=\"#000000\" stroke-opacity=\"1\" stroke-width=\"3.2\"/>\n",
       "<circle clip-path=\"url(#clip502)\" cx=\"1573.49\" cy=\"906.067\" r=\"6\" fill=\"#050316\" fill-rule=\"evenodd\" fill-opacity=\"1\" stroke=\"#000000\" stroke-opacity=\"1\" stroke-width=\"3.2\"/>\n",
       "<circle clip-path=\"url(#clip502)\" cx=\"761.529\" cy=\"672.949\" r=\"36\" fill=\"#ca4049\" fill-rule=\"evenodd\" fill-opacity=\"1\" stroke=\"#000000\" stroke-opacity=\"1\" stroke-width=\"3.2\"/>\n",
       "<circle clip-path=\"url(#clip502)\" cx=\"278.297\" cy=\"206.714\" r=\"42\" fill=\"#e75f2c\" fill-rule=\"evenodd\" fill-opacity=\"1\" stroke=\"#000000\" stroke-opacity=\"1\" stroke-width=\"3.2\"/>\n",
       "<circle clip-path=\"url(#clip502)\" cx=\"278.297\" cy=\"1372.3\" r=\"61\" fill=\"#fcfea4\" fill-rule=\"evenodd\" fill-opacity=\"1\" stroke=\"#000000\" stroke-opacity=\"1\" stroke-width=\"3.2\"/>\n",
       "<circle clip-path=\"url(#clip502)\" cx=\"1249.11\" cy=\"318.956\" r=\"8\" fill=\"#0e082b\" fill-rule=\"evenodd\" fill-opacity=\"1\" stroke=\"#000000\" stroke-opacity=\"1\" stroke-width=\"3.2\"/>\n",
       "<circle clip-path=\"url(#clip502)\" cx=\"2059.33\" cy=\"439.832\" r=\"3\" fill=\"#000004\" fill-rule=\"evenodd\" fill-opacity=\"1\" stroke=\"#000000\" stroke-opacity=\"1\" stroke-width=\"3.2\"/>\n",
       "<circle clip-path=\"url(#clip502)\" cx=\"1088.68\" cy=\"85.838\" r=\"11\" fill=\"#1d0c45\" fill-rule=\"evenodd\" fill-opacity=\"1\" stroke=\"#000000\" stroke-opacity=\"1\" stroke-width=\"3.2\"/>\n",
       "<circle clip-path=\"url(#clip502)\" cx=\"1735.36\" cy=\"439.832\" r=\"5\" fill=\"#02020e\" fill-rule=\"evenodd\" fill-opacity=\"1\" stroke=\"#000000\" stroke-opacity=\"1\" stroke-width=\"3.2\"/>\n",
       "<circle clip-path=\"url(#clip502)\" cx=\"443.988\" cy=\"85.838\" r=\"40\" fill=\"#e15634\" fill-rule=\"evenodd\" fill-opacity=\"1\" stroke=\"#000000\" stroke-opacity=\"1\" stroke-width=\"3.2\"/>\n",
       "<circle clip-path=\"url(#clip502)\" cx=\"1735.36\" cy=\"318.956\" r=\"5\" fill=\"#02010d\" fill-rule=\"evenodd\" fill-opacity=\"1\" stroke=\"#000000\" stroke-opacity=\"1\" stroke-width=\"3.2\"/>\n",
       "<circle clip-path=\"url(#clip502)\" cx=\"1088.68\" cy=\"1018.31\" r=\"19\" fill=\"#540e6d\" fill-rule=\"evenodd\" fill-opacity=\"1\" stroke=\"#000000\" stroke-opacity=\"1\" stroke-width=\"3.2\"/>\n",
       "<circle clip-path=\"url(#clip502)\" cx=\"443.988\" cy=\"672.949\" r=\"41\" fill=\"#e45a30\" fill-rule=\"evenodd\" fill-opacity=\"1\" stroke=\"#000000\" stroke-opacity=\"1\" stroke-width=\"3.2\"/>\n",
       "<circle clip-path=\"url(#clip502)\" cx=\"1249.11\" cy=\"1018.31\" r=\"12\" fill=\"#250b4f\" fill-rule=\"evenodd\" fill-opacity=\"1\" stroke=\"#000000\" stroke-opacity=\"1\" stroke-width=\"3.2\"/>\n",
       "<circle clip-path=\"url(#clip502)\" cx=\"761.529\" cy=\"1251.43\" r=\"48\" fill=\"#f98e08\" fill-rule=\"evenodd\" fill-opacity=\"1\" stroke=\"#000000\" stroke-opacity=\"1\" stroke-width=\"3.2\"/>\n",
       "<circle clip-path=\"url(#clip502)\" cx=\"443.988\" cy=\"1018.31\" r=\"42\" fill=\"#e9622a\" fill-rule=\"evenodd\" fill-opacity=\"1\" stroke=\"#000000\" stroke-opacity=\"1\" stroke-width=\"3.2\"/>\n",
       "<circle clip-path=\"url(#clip502)\" cx=\"1249.11\" cy=\"206.714\" r=\"8\" fill=\"#0e082a\" fill-rule=\"evenodd\" fill-opacity=\"1\" stroke=\"#000000\" stroke-opacity=\"1\" stroke-width=\"3.2\"/>\n",
       "<circle clip-path=\"url(#clip502)\" cx=\"1249.11\" cy=\"85.838\" r=\"8\" fill=\"#0e082a\" fill-rule=\"evenodd\" fill-opacity=\"1\" stroke=\"#000000\" stroke-opacity=\"1\" stroke-width=\"3.2\"/>\n",
       "<circle clip-path=\"url(#clip502)\" cx=\"1088.68\" cy=\"439.832\" r=\"12\" fill=\"#240b4e\" fill-rule=\"evenodd\" fill-opacity=\"1\" stroke=\"#000000\" stroke-opacity=\"1\" stroke-width=\"3.2\"/>\n",
       "<circle clip-path=\"url(#clip502)\" cx=\"1573.49\" cy=\"85.838\" r=\"5\" fill=\"#030212\" fill-rule=\"evenodd\" fill-opacity=\"1\" stroke=\"#000000\" stroke-opacity=\"1\" stroke-width=\"3.2\"/>\n",
       "<circle clip-path=\"url(#clip502)\" cx=\"1573.49\" cy=\"1018.31\" r=\"6\" fill=\"#050419\" fill-rule=\"evenodd\" fill-opacity=\"1\" stroke=\"#000000\" stroke-opacity=\"1\" stroke-width=\"3.2\"/>\n",
       "<defs>\n",
       "  <clipPath id=\"clip503\">\n",
       "    <rect x=\"2160\" y=\"47\" width=\"73\" height=\"1365\"/>\n",
       "  </clipPath>\n",
       "</defs>\n",
       "<g clip-path=\"url(#clip503)\">\n",
       "<image width=\"72\" height=\"1364\" xlink:href=\"data:image/png;base64,\n",
       "iVBORw0KGgoAAAANSUhEUgAAAEgAAAVUCAYAAABzwV4AAAAL0klEQVR4nO3dwY3sRhAFQY5Q/lsh\n",
       "L6XfLQtUeSQPERYsEg+zZJM7+/v3/H0f/tdfb/8AXydQECgIFAQKc+6/b/8Mn2ZBQaAgUBAozL1/\n",
       "3v4ZPs2CgkBBoCBQcCUdLCgIFAQKAgWBwly/xVYWFAQKAgWBwtzjQ3pjQUGgIFAQKLiSDhYUBAoC\n",
       "BYGCQMFvsWBBQaAgUBAoOA8KFhQECgIFgcI8rqRXFhQECgIFgYJAwXlQsKAgUBAoCBTmcR60sqAg\n",
       "UBAoCBTmOf+8/TN8mgUFgYJAQaAgUPBUI1hQECgIFAQKzoOCBQWBgkBBoOBDOlhQECgIFAQKAgXn\n",
       "QcGCgkBBoCBQmJ9bjZUFBYGCQEGgMM/xpf8bCwoCBYGCQEGg4FYjWFAQKAgUBApuNYIFBYGCQEGg\n",
       "4P2gYEFBoCBQECgIFObnVmNlQUGgIFAQKHiJM1hQECgIFAQKrqSDBQWBgkBBoCBQ8Og5WFAQKAgU\n",
       "BApuNYIFBYGCQEGg4Eo6WFAQKAgUBAoCBbcawYKCQEGgIFCY55y3f4ZPs6AgUBAoCBRcSQcLCgIF\n",
       "gYJAQaDgqUawoCBQECgIFHxIBwsKAgWBgkBhfg7tVxYUBAoCBYGCQMGtRrCgIFAQKAgUvB8ULCgI\n",
       "FAQKAgXnQcGCgkBBoCBQECg4DwoWFAQKAgWBgvOgYEFBoCBQECj4kA4WFAQKAgWBgkDBXz0HCwoC\n",
       "BYGCQMGtRrCgIFAQKAgUfEgHCwoCBYGCQEGg4LdYsKAgUBAoCBR8SAcLCgIFgYJAYZ7rQ3pjQUGg\n",
       "IFAQKAgU3GoECwoCBYGCQMGHdLCgIFAQKAgUfEgHCwoCBYGCQEGgMM+5b/8Mn2ZBQaAgUBAouNUI\n",
       "FhQECgIFgYIr6WBBQaAgUBAoCBTcagQLCgIFgYJAwa1GsKAgUBAoCBTmcSG9sqAgUBAoCBQECvNc\n",
       "txobCwoCBYGCQMGtRrCgIFAQKAgUfEgHCwoCBYGCQEGgML4Eb2dBQaAgUBAouNUIFhQECgIFgYIP\n",
       "6WBBQaAgUBAoCBTmOb+3f4ZPs6AgUBAoCBTmXh/SGwsKAgWBgkDBeVCwoCBQECgIFBx3BAsKAgWB\n",
       "gkBBoDD3aLRRJwgUBAoCBbcawYKCQEGgIFCYx5PVlQUFgYJAQaAgUJjrVmNlQUGgIFAQKMzj0H6l\n",
       "ThAoCBQECq6kgwUFgYJAQaAgUPBUI1hQECgIFAQKXuIM6gSBgkBBoOAlzmBBQaAgUBAoCBQ81QgW\n",
       "FAQKAgWBwtyr0UadIFAQKAgUnAcFCwoCBYGCQEGg4DwoWFAQKAgUBArzOA9aqRMECgIFgYIr6WBB\n",
       "QaAgUBAoCBT8FgsWFAQKAgWBgj/qDRYUBAoCBYGCP+oN6gSBgkBBoCBQ8P/mgwUFgYJAQaDg0D5Y\n",
       "UBAoCBQECr70P6gTBAoCBYGCQMF5ULCgIFAQKAgUnAcFCwoCBYGCQMGVdLCgIFAQKAgUBArecg3q\n",
       "BIGCQEGg4FYjWFAQKAgUBAoO7YMFBYGCQEGgIFBwqxEsKAgUBAoCBf+6JlhQECgIFAQK/glkUCcI\n",
       "FAQKAgWBgvOgYEFBoCBQECh49BwsKAgUBAoCBVfSwYKCQEGgIFAQKMzxW2xlQUGgIFAQKPij3qBO\n",
       "ECgIFAQKzoOCBQWBgkBBoCBQ8FssWFAQKAgUBAreDwoWFAQKAgWBgivpYEFBoCBQECgIFPwWCxYU\n",
       "BAoCBYGCr6YI6gSBgkBBoDDHof3KgoJAQaAgUBAoOA8KFhQECgIFgYIP6WBBQaAgUBAo+JAOFhQE\n",
       "CgIFgYJAwfcHBQsKAgWBgkDBrUawoCBQECgIFHxIBwsKAgWBgkBBoOBPEYI6QaAgUBAo+FOEYEFB\n",
       "oCBQECg4DwoWFAQKAgWBgkDBb7FgQUGgIFAQKHiJM1hQECgIFAQKrqSDBQWBgkBBoCBQmPv4Lbax\n",
       "oCBQECgIFJwHBQsKAgWBgkDBeVCwoCBQECgIFAQKbjWCBQWBgkBBoOBWI1hQECgIFAQKrqSDBQWB\n",
       "gkBBoCBQcKsRLCgIFAQKAgUf0sGCgkBBoCBQmONN+5UFBYGCQEGg4Eo6WFAQKAgUBAoCBY+egwUF\n",
       "gYJAQaAw9779I3ybBQWBgkBBoOBKOlhQECgIFAQKAgVf8hYsKAgUBAoCBbcawYKCQEGgIFDwflCw\n",
       "oCBQECgIFAQK/hQhWFAQKAgUBAreDwoWFAQKAgWBgkP7YEFBoCBQECgIFDzVCBYUBAoCBYGCQ/tg\n",
       "QUGgIFAQKDgPChYUBAoCBYGCQMGj52BBQaAgUBAoOA8KFhQECgIFgYInq8GCgkBBoCBQECjMefsn\n",
       "+DgLCgIFgYJAwa1GsKAgUBAoCBS8HxQsKAgUBAoCBYGC86BgQUGgIFAQKDgPChYUBAoCBYGCK+lg\n",
       "QUGgIFAQKAgU3GoECwoCBYGCQMGj52BBQaAgUBAojC9e2FlQECgIFAQKAgW3GsGCgkBBoCBQ8Og5\n",
       "WFAQKAgUBAqerAYLCgIFgYJAQaDgViNYUBAoCBQECm41ggUFgYJAQaAwxwtCKwsKAgWBgkBBoOA8\n",
       "KFhQECgIFAQKzoOCBQWBgkBBoOBKOlhQECgIFAQKAgX/bz5YUBAoCBQECv7ffLCgIFAQKAgUvB8U\n",
       "LCgIFAQKAgWBgm/BCxYUBAoCBYGCL3kLFhQECgIFgYInq8GCgkBBoCBQECh4yzVYUBAoCBQECv5e\n",
       "LFhQECgIFAQKrqSDBQWBgkBBoCBQ8JZrsKAgUBAoCBS8xBksKAgUBAoCBVfSwYKCQEGgIFAQKHjL\n",
       "NVhQECgIFAQKvj8oWFAQKAgUBArOg4IFBYGCQEGgIFDw6DlYUBAoCBQECm41ggUFgYJAQaDgSjpY\n",
       "UBAoCBQECgIFtxrBgoJAQaAgUPAhHSwoCBQECgIF50HBgoJAQaAgUBAouNUIFhQECgIFgYJbjWBB\n",
       "QaAgUBAouJIOFhQECgIFgYJAwfcHBQsKAgWBgkDBv64JFhQECgIFgYLzoGBBQaAgUBAoCBTmPn6N\n",
       "bSwoCBQECgIFtxrBgoJAQaAgUPBkNVhQECgIFAQKnqwGCwoCBYGCQEGg4DwoWFAQKAgUBAqerAYL\n",
       "CgIFgYJAwZV0sKAgUBAoCBQECr4/KFhQECgIFAQKc7wgtLKgIFAQKAgUvB8ULCgIFAQKAgWBwly3\n",
       "GisLCgIFgYJAwa1GsKAgUBAoCBQc2gcLCgIFgYJAQaDg/aBgQUGgIFAQKMzx92IrCwoCBYGCQMF5\n",
       "ULCgIFAQKAgUBAq+miJYUBAoCBQECt4PChYUBAoCBYGCQ/tgQUGgIFAQKAgUnAcFCwoCBYGCQGHO\n",
       "40RoY0FBoCBQECg4DwoWFAQKAgWBgkDBb7FgQUGgIFAQKDi0DxYUBAoCBYGCQ/tgQUGgIFAQKAgU\n",
       "5vzcamwsKAgUBAoCBbcawYKCQEGgIFCY60N6ZUFBoCBQECgIFNxqBAsKAgWBgkBhzs+H9MaCgkBB\n",
       "oCBQcCUdLCgIFAQKAgWBgqcawYKCQEGgIFBwqxEsKAgUBAoCBR/SwYKCQEGgIFAQKHj0HCwoCBQE\n",
       "CgKFuc+ft3+GT7OgIFAQKAgUnAcFCwoCBYGCQEGg4P2gYEFBoCBQECjMuc6DNhYUBAoCBYGCK+lg\n",
       "QUGgIFAQKAgU5nj0vLKgIFAQKAgU3GoECwoCBYGCQMGVdLCgIFAQKAgUBApzr1uNjQUFgYJAQaDg\n",
       "PChYUBAoCBQECl7iDBYUBAoCBYGCQMGtRrCgIFAQKAgU5rrVWFlQECgIFAQKrqSDBQWBgkBBoCBQ\n",
       "mOP9oJUFBYGCQEGg4PukgwUFgYJAQaDgTftgQUGgIFAQKAgUPNUIFhQECgIFgYJbjWBBQaAgUBAo\n",
       "+JAOFhQECgIFgYJAwaPnYEFBoCBQECi41QgWFAQKAgWBwjyerK4sKAgUBAoCBYGCW41gQUGgIFAQ\n",
       "KHiJM1hQECgIFAQK87iSXllQECgIFAQKAgXvBwULCgIFgYJAwaPnYEFBoCBQECg4DwoWFAQKAgWB\n",
       "gkBh7nPf/hk+zYKCQEGgIFBwHhQsKAgUBAoChXlcSa8sKAgUBAoChf8AJ8ztt7m0cDkAAAAASUVO\n",
       "RK5CYII=\n",
       "\" transform=\"translate(2161, 47)\"/>\n",
       "</g>\n",
       "<path clip-path=\"url(#clip500)\" d=\"M 0 0 M2280.7 1253.14 Q2277.09 1253.14 2275.26 1256.71 Q2273.45 1260.25 2273.45 1267.38 Q2273.45 1274.48 2275.26 1278.05 Q2277.09 1281.59 2280.7 1281.59 Q2284.33 1281.59 2286.14 1278.05 Q2287.97 1274.48 2287.97 1267.38 Q2287.97 1260.25 2286.14 1256.71 Q2284.33 1253.14 2280.7 1253.14 M2280.7 1249.44 Q2286.51 1249.44 2289.57 1254.04 Q2292.64 1258.63 2292.64 1267.38 Q2292.64 1276.1 2289.57 1280.71 Q2286.51 1285.29 2280.7 1285.29 Q2274.89 1285.29 2271.81 1280.71 Q2268.76 1276.1 2268.76 1267.38 Q2268.76 1258.63 2271.81 1254.04 Q2274.89 1249.44 2280.7 1249.44 Z\" fill=\"#000000\" fill-rule=\"evenodd\" fill-opacity=\"1\" /><path clip-path=\"url(#clip500)\" d=\"M 0 0 M2297.71 1278.74 L2302.6 1278.74 L2302.6 1284.62 L2297.71 1284.62 L2297.71 1278.74 Z\" fill=\"#000000\" fill-rule=\"evenodd\" fill-opacity=\"1\" /><path clip-path=\"url(#clip500)\" d=\"M 0 0 M2306.49 1250.06 L2328.71 1250.06 L2328.71 1252.05 L2316.16 1284.62 L2311.28 1284.62 L2323.08 1254 L2306.49 1254 L2306.49 1250.06 Z\" fill=\"#000000\" fill-rule=\"evenodd\" fill-opacity=\"1\" /><path clip-path=\"url(#clip500)\" d=\"M 0 0 M2343.78 1253.14 Q2340.17 1253.14 2338.34 1256.71 Q2336.53 1260.25 2336.53 1267.38 Q2336.53 1274.48 2338.34 1278.05 Q2340.17 1281.59 2343.78 1281.59 Q2347.41 1281.59 2349.22 1278.05 Q2351.05 1274.48 2351.05 1267.38 Q2351.05 1260.25 2349.22 1256.71 Q2347.41 1253.14 2343.78 1253.14 M2343.78 1249.44 Q2349.59 1249.44 2352.64 1254.04 Q2355.72 1258.63 2355.72 1267.38 Q2355.72 1276.1 2352.64 1280.71 Q2349.59 1285.29 2343.78 1285.29 Q2337.97 1285.29 2334.89 1280.71 Q2331.83 1276.1 2331.83 1267.38 Q2331.83 1258.63 2334.89 1254.04 Q2337.97 1249.44 2343.78 1249.44 Z\" fill=\"#000000\" fill-rule=\"evenodd\" fill-opacity=\"1\" /><path clip-path=\"url(#clip500)\" d=\"M 0 0 M2280.7 1106.64 Q2277.09 1106.64 2275.26 1110.2 Q2273.45 1113.75 2273.45 1120.87 Q2273.45 1127.98 2275.26 1131.55 Q2277.09 1135.09 2280.7 1135.09 Q2284.33 1135.09 2286.14 1131.55 Q2287.97 1127.98 2287.97 1120.87 Q2287.97 1113.75 2286.14 1110.2 Q2284.33 1106.64 2280.7 1106.64 M2280.7 1102.93 Q2286.51 1102.93 2289.57 1107.54 Q2292.64 1112.12 2292.64 1120.87 Q2292.64 1129.6 2289.57 1134.21 Q2286.51 1138.79 2280.7 1138.79 Q2274.89 1138.79 2271.81 1134.21 Q2268.76 1129.6 2268.76 1120.87 Q2268.76 1112.12 2271.81 1107.54 Q2274.89 1102.93 2280.7 1102.93 Z\" fill=\"#000000\" fill-rule=\"evenodd\" fill-opacity=\"1\" /><path clip-path=\"url(#clip500)\" d=\"M 0 0 M2297.71 1132.24 L2302.6 1132.24 L2302.6 1138.12 L2297.71 1138.12 L2297.71 1132.24 Z\" fill=\"#000000\" fill-rule=\"evenodd\" fill-opacity=\"1\" /><path clip-path=\"url(#clip500)\" d=\"M 0 0 M2306.49 1103.56 L2328.71 1103.56 L2328.71 1105.55 L2316.16 1138.12 L2311.28 1138.12 L2323.08 1107.5 L2306.49 1107.5 L2306.49 1103.56 Z\" fill=\"#000000\" fill-rule=\"evenodd\" fill-opacity=\"1\" /><path clip-path=\"url(#clip500)\" d=\"M 0 0 M2333.83 1103.56 L2352.18 1103.56 L2352.18 1107.5 L2338.11 1107.5 L2338.11 1115.97 Q2339.13 1115.62 2340.14 1115.46 Q2341.16 1115.27 2342.18 1115.27 Q2347.97 1115.27 2351.35 1118.44 Q2354.73 1121.62 2354.73 1127.03 Q2354.73 1132.61 2351.26 1135.71 Q2347.78 1138.79 2341.46 1138.79 Q2339.29 1138.79 2337.02 1138.42 Q2334.77 1138.05 2332.37 1137.31 L2332.37 1132.61 Q2334.45 1133.74 2336.67 1134.3 Q2338.89 1134.86 2341.37 1134.86 Q2345.38 1134.86 2347.71 1132.75 Q2350.05 1130.64 2350.05 1127.03 Q2350.05 1123.42 2347.71 1121.31 Q2345.38 1119.21 2341.37 1119.21 Q2339.5 1119.21 2337.62 1119.62 Q2335.77 1120.04 2333.83 1120.92 L2333.83 1103.56 Z\" fill=\"#000000\" fill-rule=\"evenodd\" fill-opacity=\"1\" /><path clip-path=\"url(#clip500)\" d=\"M 0 0 M2280.7 960.135 Q2277.09 960.135 2275.26 963.7 Q2273.45 967.242 2273.45 974.372 Q2273.45 981.478 2275.26 985.043 Q2277.09 988.584 2280.7 988.584 Q2284.33 988.584 2286.14 985.043 Q2287.97 981.478 2287.97 974.372 Q2287.97 967.242 2286.14 963.7 Q2284.33 960.135 2280.7 960.135 M2280.7 956.432 Q2286.51 956.432 2289.57 961.038 Q2292.64 965.622 2292.64 974.372 Q2292.64 983.098 2289.57 987.705 Q2286.51 992.288 2280.7 992.288 Q2274.89 992.288 2271.81 987.705 Q2268.76 983.098 2268.76 974.372 Q2268.76 965.622 2271.81 961.038 Q2274.89 956.432 2280.7 956.432 Z\" fill=\"#000000\" fill-rule=\"evenodd\" fill-opacity=\"1\" /><path clip-path=\"url(#clip500)\" d=\"M 0 0 M2297.71 985.737 L2302.6 985.737 L2302.6 991.617 L2297.71 991.617 L2297.71 985.737 Z\" fill=\"#000000\" fill-rule=\"evenodd\" fill-opacity=\"1\" /><path clip-path=\"url(#clip500)\" d=\"M 0 0 M2317.67 975.205 Q2314.33 975.205 2312.41 976.987 Q2310.51 978.77 2310.51 981.895 Q2310.51 985.02 2312.41 986.802 Q2314.33 988.584 2317.67 988.584 Q2321 988.584 2322.92 986.802 Q2324.84 984.996 2324.84 981.895 Q2324.84 978.77 2322.92 976.987 Q2321.02 975.205 2317.67 975.205 M2312.99 973.214 Q2309.98 972.473 2308.29 970.413 Q2306.63 968.353 2306.63 965.39 Q2306.63 961.247 2309.57 958.839 Q2312.53 956.432 2317.67 956.432 Q2322.83 956.432 2325.77 958.839 Q2328.71 961.247 2328.71 965.39 Q2328.71 968.353 2327.02 970.413 Q2325.35 972.473 2322.37 973.214 Q2325.75 974.001 2327.62 976.293 Q2329.52 978.584 2329.52 981.895 Q2329.52 986.918 2326.44 989.603 Q2323.39 992.288 2317.67 992.288 Q2311.95 992.288 2308.87 989.603 Q2305.82 986.918 2305.82 981.895 Q2305.82 978.584 2307.71 976.293 Q2309.61 974.001 2312.99 973.214 M2311.28 965.83 Q2311.28 968.515 2312.95 970.02 Q2314.64 971.524 2317.67 971.524 Q2320.68 971.524 2322.37 970.02 Q2324.08 968.515 2324.08 965.83 Q2324.08 963.145 2322.37 961.64 Q2320.68 960.135 2317.67 960.135 Q2314.64 960.135 2312.95 961.64 Q2311.28 963.145 2311.28 965.83 Z\" fill=\"#000000\" fill-rule=\"evenodd\" fill-opacity=\"1\" /><path clip-path=\"url(#clip500)\" d=\"M 0 0 M2344.59 960.135 Q2340.98 960.135 2339.15 963.7 Q2337.34 967.242 2337.34 974.372 Q2337.34 981.478 2339.15 985.043 Q2340.98 988.584 2344.59 988.584 Q2348.22 988.584 2350.03 985.043 Q2351.86 981.478 2351.86 974.372 Q2351.86 967.242 2350.03 963.7 Q2348.22 960.135 2344.59 960.135 M2344.59 956.432 Q2350.4 956.432 2353.45 961.038 Q2356.53 965.622 2356.53 974.372 Q2356.53 983.098 2353.45 987.705 Q2350.4 992.288 2344.59 992.288 Q2338.78 992.288 2335.7 987.705 Q2332.64 983.098 2332.64 974.372 Q2332.64 965.622 2335.7 961.038 Q2338.78 956.432 2344.59 956.432 Z\" fill=\"#000000\" fill-rule=\"evenodd\" fill-opacity=\"1\" /><path clip-path=\"url(#clip500)\" d=\"M 0 0 M2280.7 813.632 Q2277.09 813.632 2275.26 817.197 Q2273.45 820.739 2273.45 827.868 Q2273.45 834.975 2275.26 838.54 Q2277.09 842.081 2280.7 842.081 Q2284.33 842.081 2286.14 838.54 Q2287.97 834.975 2287.97 827.868 Q2287.97 820.739 2286.14 817.197 Q2284.33 813.632 2280.7 813.632 M2280.7 809.929 Q2286.51 809.929 2289.57 814.535 Q2292.64 819.118 2292.64 827.868 Q2292.64 836.595 2289.57 841.202 Q2286.51 845.785 2280.7 845.785 Q2274.89 845.785 2271.81 841.202 Q2268.76 836.595 2268.76 827.868 Q2268.76 819.118 2271.81 814.535 Q2274.89 809.929 2280.7 809.929 Z\" fill=\"#000000\" fill-rule=\"evenodd\" fill-opacity=\"1\" /><path clip-path=\"url(#clip500)\" d=\"M 0 0 M2297.71 839.234 L2302.6 839.234 L2302.6 845.114 L2297.71 845.114 L2297.71 839.234 Z\" fill=\"#000000\" fill-rule=\"evenodd\" fill-opacity=\"1\" /><path clip-path=\"url(#clip500)\" d=\"M 0 0 M2317.67 828.702 Q2314.33 828.702 2312.41 830.484 Q2310.51 832.266 2310.51 835.391 Q2310.51 838.516 2312.41 840.299 Q2314.33 842.081 2317.67 842.081 Q2321 842.081 2322.92 840.299 Q2324.84 838.493 2324.84 835.391 Q2324.84 832.266 2322.92 830.484 Q2321.02 828.702 2317.67 828.702 M2312.99 826.711 Q2309.98 825.97 2308.29 823.91 Q2306.63 821.85 2306.63 818.887 Q2306.63 814.743 2309.57 812.336 Q2312.53 809.929 2317.67 809.929 Q2322.83 809.929 2325.77 812.336 Q2328.71 814.743 2328.71 818.887 Q2328.71 821.85 2327.02 823.91 Q2325.35 825.97 2322.37 826.711 Q2325.75 827.498 2327.62 829.79 Q2329.52 832.081 2329.52 835.391 Q2329.52 840.415 2326.44 843.1 Q2323.39 845.785 2317.67 845.785 Q2311.95 845.785 2308.87 843.1 Q2305.82 840.415 2305.82 835.391 Q2305.82 832.081 2307.71 829.79 Q2309.61 827.498 2312.99 826.711 M2311.28 819.327 Q2311.28 822.012 2312.95 823.517 Q2314.64 825.021 2317.67 825.021 Q2320.68 825.021 2322.37 823.517 Q2324.08 822.012 2324.08 819.327 Q2324.08 816.642 2322.37 815.137 Q2320.68 813.632 2317.67 813.632 Q2314.64 813.632 2312.95 815.137 Q2311.28 816.642 2311.28 819.327 Z\" fill=\"#000000\" fill-rule=\"evenodd\" fill-opacity=\"1\" /><path clip-path=\"url(#clip500)\" d=\"M 0 0 M2334.64 810.554 L2352.99 810.554 L2352.99 814.489 L2338.92 814.489 L2338.92 822.961 Q2339.94 822.614 2340.95 822.452 Q2341.97 822.267 2342.99 822.267 Q2348.78 822.267 2352.16 825.438 Q2355.54 828.609 2355.54 834.026 Q2355.54 839.604 2352.07 842.706 Q2348.59 845.785 2342.27 845.785 Q2340.1 845.785 2337.83 845.415 Q2335.58 845.044 2333.18 844.303 L2333.18 839.604 Q2335.26 840.739 2337.48 841.294 Q2339.7 841.85 2342.18 841.85 Q2346.19 841.85 2348.52 839.743 Q2350.86 837.637 2350.86 834.026 Q2350.86 830.415 2348.52 828.308 Q2346.19 826.202 2342.18 826.202 Q2340.31 826.202 2338.43 826.618 Q2336.58 827.035 2334.64 827.915 L2334.64 810.554 Z\" fill=\"#000000\" fill-rule=\"evenodd\" fill-opacity=\"1\" /><path clip-path=\"url(#clip500)\" d=\"M 0 0 M2280.7 667.129 Q2277.09 667.129 2275.26 670.694 Q2273.45 674.236 2273.45 681.365 Q2273.45 688.472 2275.26 692.036 Q2277.09 695.578 2280.7 695.578 Q2284.33 695.578 2286.14 692.036 Q2287.97 688.472 2287.97 681.365 Q2287.97 674.236 2286.14 670.694 Q2284.33 667.129 2280.7 667.129 M2280.7 663.425 Q2286.51 663.425 2289.57 668.032 Q2292.64 672.615 2292.64 681.365 Q2292.64 690.092 2289.57 694.698 Q2286.51 699.282 2280.7 699.282 Q2274.89 699.282 2271.81 694.698 Q2268.76 690.092 2268.76 681.365 Q2268.76 672.615 2271.81 668.032 Q2274.89 663.425 2280.7 663.425 Z\" fill=\"#000000\" fill-rule=\"evenodd\" fill-opacity=\"1\" /><path clip-path=\"url(#clip500)\" d=\"M 0 0 M2297.71 692.731 L2302.6 692.731 L2302.6 698.61 L2297.71 698.61 L2297.71 692.731 Z\" fill=\"#000000\" fill-rule=\"evenodd\" fill-opacity=\"1\" /><path clip-path=\"url(#clip500)\" d=\"M 0 0 M2307.81 697.893 L2307.81 693.634 Q2309.57 694.467 2311.37 694.907 Q2313.18 695.347 2314.91 695.347 Q2319.54 695.347 2321.97 692.245 Q2324.43 689.12 2324.77 682.777 Q2323.43 684.768 2321.37 685.833 Q2319.31 686.898 2316.81 686.898 Q2311.63 686.898 2308.59 683.773 Q2305.58 680.624 2305.58 675.185 Q2305.58 669.861 2308.73 666.643 Q2311.88 663.425 2317.11 663.425 Q2323.11 663.425 2326.26 668.032 Q2329.43 672.615 2329.43 681.365 Q2329.43 689.536 2325.54 694.421 Q2321.67 699.282 2315.12 699.282 Q2313.36 699.282 2311.56 698.935 Q2309.75 698.587 2307.81 697.893 M2317.11 683.24 Q2320.26 683.24 2322.09 681.087 Q2323.94 678.935 2323.94 675.185 Q2323.94 671.458 2322.09 669.305 Q2320.26 667.129 2317.11 667.129 Q2313.96 667.129 2312.11 669.305 Q2310.28 671.458 2310.28 675.185 Q2310.28 678.935 2312.11 681.087 Q2313.96 683.24 2317.11 683.24 Z\" fill=\"#000000\" fill-rule=\"evenodd\" fill-opacity=\"1\" /><path clip-path=\"url(#clip500)\" d=\"M 0 0 M2344.5 667.129 Q2340.89 667.129 2339.06 670.694 Q2337.25 674.236 2337.25 681.365 Q2337.25 688.472 2339.06 692.036 Q2340.89 695.578 2344.5 695.578 Q2348.13 695.578 2349.94 692.036 Q2351.76 688.472 2351.76 681.365 Q2351.76 674.236 2349.94 670.694 Q2348.13 667.129 2344.5 667.129 M2344.5 663.425 Q2350.31 663.425 2353.36 668.032 Q2356.44 672.615 2356.44 681.365 Q2356.44 690.092 2353.36 694.698 Q2350.31 699.282 2344.5 699.282 Q2338.69 699.282 2335.61 694.698 Q2332.55 690.092 2332.55 681.365 Q2332.55 672.615 2335.61 668.032 Q2338.69 663.425 2344.5 663.425 Z\" fill=\"#000000\" fill-rule=\"evenodd\" fill-opacity=\"1\" /><path clip-path=\"url(#clip500)\" d=\"M 0 0 M2280.7 520.626 Q2277.09 520.626 2275.26 524.191 Q2273.45 527.732 2273.45 534.862 Q2273.45 541.968 2275.26 545.533 Q2277.09 549.075 2280.7 549.075 Q2284.33 549.075 2286.14 545.533 Q2287.97 541.968 2287.97 534.862 Q2287.97 527.732 2286.14 524.191 Q2284.33 520.626 2280.7 520.626 M2280.7 516.922 Q2286.51 516.922 2289.57 521.529 Q2292.64 526.112 2292.64 534.862 Q2292.64 543.589 2289.57 548.195 Q2286.51 552.779 2280.7 552.779 Q2274.89 552.779 2271.81 548.195 Q2268.76 543.589 2268.76 534.862 Q2268.76 526.112 2271.81 521.529 Q2274.89 516.922 2280.7 516.922 Z\" fill=\"#000000\" fill-rule=\"evenodd\" fill-opacity=\"1\" /><path clip-path=\"url(#clip500)\" d=\"M 0 0 M2297.71 546.228 L2302.6 546.228 L2302.6 552.107 L2297.71 552.107 L2297.71 546.228 Z\" fill=\"#000000\" fill-rule=\"evenodd\" fill-opacity=\"1\" /><path clip-path=\"url(#clip500)\" d=\"M 0 0 M2307.81 551.39 L2307.81 547.13 Q2309.57 547.964 2311.37 548.404 Q2313.18 548.843 2314.91 548.843 Q2319.54 548.843 2321.97 545.742 Q2324.43 542.617 2324.77 536.274 Q2323.43 538.265 2321.37 539.33 Q2319.31 540.394 2316.81 540.394 Q2311.63 540.394 2308.59 537.269 Q2305.58 534.121 2305.58 528.681 Q2305.58 523.357 2308.73 520.14 Q2311.88 516.922 2317.11 516.922 Q2323.11 516.922 2326.26 521.529 Q2329.43 526.112 2329.43 534.862 Q2329.43 543.033 2325.54 547.917 Q2321.67 552.779 2315.12 552.779 Q2313.36 552.779 2311.56 552.431 Q2309.75 552.084 2307.81 551.39 M2317.11 536.737 Q2320.26 536.737 2322.09 534.584 Q2323.94 532.431 2323.94 528.681 Q2323.94 524.955 2322.09 522.802 Q2320.26 520.626 2317.11 520.626 Q2313.96 520.626 2312.11 522.802 Q2310.28 524.955 2310.28 528.681 Q2310.28 532.431 2312.11 534.584 Q2313.96 536.737 2317.11 536.737 Z\" fill=\"#000000\" fill-rule=\"evenodd\" fill-opacity=\"1\" /><path clip-path=\"url(#clip500)\" d=\"M 0 0 M2334.54 517.547 L2352.9 517.547 L2352.9 521.482 L2338.82 521.482 L2338.82 529.955 Q2339.84 529.607 2340.86 529.445 Q2341.88 529.26 2342.9 529.26 Q2348.69 529.26 2352.07 532.431 Q2355.45 535.603 2355.45 541.019 Q2355.45 546.598 2351.97 549.7 Q2348.5 552.779 2342.18 552.779 Q2340.01 552.779 2337.74 552.408 Q2335.49 552.038 2333.08 551.297 L2333.08 546.598 Q2335.17 547.732 2337.39 548.288 Q2339.61 548.843 2342.09 548.843 Q2346.09 548.843 2348.43 546.737 Q2350.77 544.63 2350.77 541.019 Q2350.77 537.408 2348.43 535.302 Q2346.09 533.195 2342.09 533.195 Q2340.21 533.195 2338.34 533.612 Q2336.49 534.029 2334.54 534.908 L2334.54 517.547 Z\" fill=\"#000000\" fill-rule=\"evenodd\" fill-opacity=\"1\" /><path clip-path=\"url(#clip500)\" d=\"M 0 0 M2269.43 401.669 L2277.07 401.669 L2277.07 375.303 L2268.76 376.97 L2268.76 372.711 L2277.02 371.044 L2281.7 371.044 L2281.7 401.669 L2289.33 401.669 L2289.33 405.604 L2269.43 405.604 L2269.43 401.669 Z\" fill=\"#000000\" fill-rule=\"evenodd\" fill-opacity=\"1\" /><path clip-path=\"url(#clip500)\" d=\"M 0 0 M2294.4 399.724 L2299.29 399.724 L2299.29 405.604 L2294.4 405.604 L2294.4 399.724 Z\" fill=\"#000000\" fill-rule=\"evenodd\" fill-opacity=\"1\" /><path clip-path=\"url(#clip500)\" d=\"M 0 0 M2314.36 374.123 Q2310.75 374.123 2308.92 377.688 Q2307.11 381.229 2307.11 388.359 Q2307.11 395.465 2308.92 399.03 Q2310.75 402.572 2314.36 402.572 Q2317.99 402.572 2319.8 399.03 Q2321.63 395.465 2321.63 388.359 Q2321.63 381.229 2319.8 377.688 Q2317.99 374.123 2314.36 374.123 M2314.36 370.419 Q2320.17 370.419 2323.22 375.026 Q2326.3 379.609 2326.3 388.359 Q2326.3 397.086 2323.22 401.692 Q2320.17 406.275 2314.36 406.275 Q2308.55 406.275 2305.47 401.692 Q2302.41 397.086 2302.41 388.359 Q2302.41 379.609 2305.47 375.026 Q2308.55 370.419 2314.36 370.419 Z\" fill=\"#000000\" fill-rule=\"evenodd\" fill-opacity=\"1\" /><path clip-path=\"url(#clip500)\" d=\"M 0 0 M2341.37 374.123 Q2337.76 374.123 2335.93 377.688 Q2334.13 381.229 2334.13 388.359 Q2334.13 395.465 2335.93 399.03 Q2337.76 402.572 2341.37 402.572 Q2345.01 402.572 2346.81 399.03 Q2348.64 395.465 2348.64 388.359 Q2348.64 381.229 2346.81 377.688 Q2345.01 374.123 2341.37 374.123 M2341.37 370.419 Q2347.18 370.419 2350.24 375.026 Q2353.32 379.609 2353.32 388.359 Q2353.32 397.086 2350.24 401.692 Q2347.18 406.275 2341.37 406.275 Q2335.56 406.275 2332.48 401.692 Q2329.43 397.086 2329.43 388.359 Q2329.43 379.609 2332.48 375.026 Q2335.56 370.419 2341.37 370.419 Z\" fill=\"#000000\" fill-rule=\"evenodd\" fill-opacity=\"1\" /><path clip-path=\"url(#clip500)\" d=\"M 0 0 M2269.43 255.166 L2277.07 255.166 L2277.07 228.8 L2268.76 230.467 L2268.76 226.208 L2277.02 224.541 L2281.7 224.541 L2281.7 255.166 L2289.33 255.166 L2289.33 259.101 L2269.43 259.101 L2269.43 255.166 Z\" fill=\"#000000\" fill-rule=\"evenodd\" fill-opacity=\"1\" /><path clip-path=\"url(#clip500)\" d=\"M 0 0 M2294.4 253.221 L2299.29 253.221 L2299.29 259.101 L2294.4 259.101 L2294.4 253.221 Z\" fill=\"#000000\" fill-rule=\"evenodd\" fill-opacity=\"1\" /><path clip-path=\"url(#clip500)\" d=\"M 0 0 M2314.36 227.62 Q2310.75 227.62 2308.92 231.184 Q2307.11 234.726 2307.11 241.856 Q2307.11 248.962 2308.92 252.527 Q2310.75 256.069 2314.36 256.069 Q2317.99 256.069 2319.8 252.527 Q2321.63 248.962 2321.63 241.856 Q2321.63 234.726 2319.8 231.184 Q2317.99 227.62 2314.36 227.62 M2314.36 223.916 Q2320.17 223.916 2323.22 228.522 Q2326.3 233.106 2326.3 241.856 Q2326.3 250.582 2323.22 255.189 Q2320.17 259.772 2314.36 259.772 Q2308.55 259.772 2305.47 255.189 Q2302.41 250.582 2302.41 241.856 Q2302.41 233.106 2305.47 228.522 Q2308.55 223.916 2314.36 223.916 Z\" fill=\"#000000\" fill-rule=\"evenodd\" fill-opacity=\"1\" /><path clip-path=\"url(#clip500)\" d=\"M 0 0 M2331.42 224.541 L2349.77 224.541 L2349.77 228.476 L2335.7 228.476 L2335.7 236.948 Q2336.72 236.601 2337.74 236.439 Q2338.76 236.254 2339.77 236.254 Q2345.56 236.254 2348.94 239.425 Q2352.32 242.596 2352.32 248.013 Q2352.32 253.592 2348.85 256.694 Q2345.38 259.772 2339.06 259.772 Q2336.88 259.772 2334.61 259.402 Q2332.37 259.031 2329.96 258.291 L2329.96 253.592 Q2332.04 254.726 2334.26 255.281 Q2336.49 255.837 2338.96 255.837 Q2342.97 255.837 2345.31 253.731 Q2347.64 251.624 2347.64 248.013 Q2347.64 244.402 2345.31 242.295 Q2342.97 240.189 2338.96 240.189 Q2337.09 240.189 2335.21 240.606 Q2333.36 241.022 2331.42 241.902 L2331.42 224.541 Z\" fill=\"#000000\" fill-rule=\"evenodd\" fill-opacity=\"1\" /><path clip-path=\"url(#clip500)\" d=\"M 0 0 M2269.43 108.663 L2277.07 108.663 L2277.07 82.297 L2268.76 83.9636 L2268.76 79.7044 L2277.02 78.0377 L2281.7 78.0377 L2281.7 108.663 L2289.33 108.663 L2289.33 112.598 L2269.43 112.598 L2269.43 108.663 Z\" fill=\"#000000\" fill-rule=\"evenodd\" fill-opacity=\"1\" /><path clip-path=\"url(#clip500)\" d=\"M 0 0 M2294.4 106.718 L2299.29 106.718 L2299.29 112.598 L2294.4 112.598 L2294.4 106.718 Z\" fill=\"#000000\" fill-rule=\"evenodd\" fill-opacity=\"1\" /><path clip-path=\"url(#clip500)\" d=\"M 0 0 M2305.17 108.663 L2312.81 108.663 L2312.81 82.297 L2304.5 83.9636 L2304.5 79.7044 L2312.76 78.0377 L2317.44 78.0377 L2317.44 108.663 L2325.08 108.663 L2325.08 112.598 L2305.17 112.598 L2305.17 108.663 Z\" fill=\"#000000\" fill-rule=\"evenodd\" fill-opacity=\"1\" /><path clip-path=\"url(#clip500)\" d=\"M 0 0 M2340.14 81.1164 Q2336.53 81.1164 2334.7 84.6812 Q2332.9 88.2229 2332.9 95.3525 Q2332.9 102.459 2334.7 106.024 Q2336.53 109.565 2340.14 109.565 Q2343.78 109.565 2345.58 106.024 Q2347.41 102.459 2347.41 95.3525 Q2347.41 88.2229 2345.58 84.6812 Q2343.78 81.1164 2340.14 81.1164 M2340.14 77.4127 Q2345.95 77.4127 2349.01 82.0192 Q2352.09 86.6025 2352.09 95.3525 Q2352.09 104.079 2349.01 108.686 Q2345.95 113.269 2340.14 113.269 Q2334.33 113.269 2331.26 108.686 Q2328.2 104.079 2328.2 95.3525 Q2328.2 86.6025 2331.26 82.0192 Q2334.33 77.4127 2340.14 77.4127 Z\" fill=\"#000000\" fill-rule=\"evenodd\" fill-opacity=\"1\" /><polyline clip-path=\"url(#clip500)\" style=\"stroke:#000000; stroke-width:4; stroke-opacity:1; fill:none\" points=\"\n",
       "  2232.76,1410.9 2232.76,1270.97 2256.76,1270.97 2232.76,1270.97 2232.76,1124.47 2256.76,1124.47 2232.76,1124.47 2232.76,977.966 2256.76,977.966 2232.76,977.966 \n",
       "  2232.76,831.462 2256.76,831.462 2232.76,831.462 2232.76,684.959 2256.76,684.959 2232.76,684.959 2232.76,538.456 2256.76,538.456 2232.76,538.456 2232.76,391.953 \n",
       "  2256.76,391.953 2232.76,391.953 2232.76,245.45 2256.76,245.45 2232.76,245.45 2232.76,98.9465 2256.76,98.9465 2232.76,98.9465 2232.76,47.2441 \n",
       "  \"/>\n",
       "</svg>\n"
      ]
     },
     "execution_count": 39,
     "metadata": {},
     "output_type": "execute_result"
    }
   ],
   "source": [
    "plot(self_tuning_nn)"
   ]
  },
  {
   "cell_type": "code",
   "execution_count": 40,
   "metadata": {},
   "outputs": [
    {
     "data": {
      "text/plain": [
       "(best_model = \u001b[34mNeuralNetworkClassifier{CustomNN,…} @141\u001b[39m,\n",
       " best_fitted_params = (chain = Chain(Chain(Dense(4, 123, σ), Dense(123, 3, σ)), softmax),),)"
      ]
     },
     "execution_count": 40,
     "metadata": {},
     "output_type": "execute_result"
    }
   ],
   "source": [
    "best = fitted_params(self_tuning_nn)\n",
    "best"
   ]
  },
  {
   "cell_type": "code",
   "execution_count": 41,
   "metadata": {},
   "outputs": [
    {
     "data": {
      "text/plain": [
       "NeuralNetworkClassifier(\n",
       "    builder = CustomNN(\n",
       "            n1 = 123),\n",
       "    finaliser = NNlib.softmax,\n",
       "    optimiser = ADAM(0.0003333333333333333, (0.9, 0.999), IdDict{Any,Any}()),\n",
       "    loss = Flux.crossentropy,\n",
       "    epochs = 3000,\n",
       "    batch_size = 32,\n",
       "    lambda = 0.1,\n",
       "    alpha = 0.0,\n",
       "    optimiser_changes_trigger_retraining = false)\u001b[34m @141\u001b[39m"
      ]
     },
     "execution_count": 41,
     "metadata": {},
     "output_type": "execute_result"
    }
   ],
   "source": [
    "best.best_model"
   ]
  },
  {
   "cell_type": "code",
   "execution_count": 42,
   "metadata": {
    "scrolled": true
   },
   "outputs": [
    {
     "data": {
      "text/plain": [
       "0.65224516f0"
      ]
     },
     "execution_count": 42,
     "metadata": {},
     "output_type": "execute_result"
    }
   ],
   "source": [
    "best_loss = z.report.best_result.measurement[1]"
   ]
  },
  {
   "cell_type": "code",
   "execution_count": 43,
   "metadata": {
    "scrolled": true
   },
   "outputs": [
    {
     "data": {
      "text/plain": [
       "123"
      ]
     },
     "execution_count": 43,
     "metadata": {},
     "output_type": "execute_result"
    }
   ],
   "source": [
    "best_n1 = best.best_model.builder.n1"
   ]
  },
  {
   "cell_type": "markdown",
   "metadata": {},
   "source": [
    "### GridSearch for Learning Rate"
   ]
  },
  {
   "cell_type": "code",
   "execution_count": 44,
   "metadata": {
    "scrolled": true
   },
   "outputs": [
    {
     "data": {
      "text/plain": [
       "NeuralNetworkClassifier(\n",
       "    builder = CustomNN(\n",
       "            n1 = 123),\n",
       "    finaliser = NNlib.softmax,\n",
       "    optimiser = ADAM(0.001, (0.9, 0.999), IdDict{Any,Any}()),\n",
       "    loss = Flux.crossentropy,\n",
       "    epochs = 10,\n",
       "    batch_size = 1,\n",
       "    lambda = 0.0,\n",
       "    alpha = 0.0,\n",
       "    optimiser_changes_trigger_retraining = false)\u001b[34m @036\u001b[39m"
      ]
     },
     "execution_count": 44,
     "metadata": {},
     "output_type": "execute_result"
    }
   ],
   "source": [
    "nn = NeuralNetworkClassifier(builder=CustomNN(best_n1))"
   ]
  },
  {
   "cell_type": "code",
   "execution_count": 45,
   "metadata": {},
   "outputs": [
    {
     "data": {
      "text/plain": [
       "0.01"
      ]
     },
     "execution_count": 45,
     "metadata": {},
     "output_type": "execute_result"
    }
   ],
   "source": [
    "nn.optimiser.eta = 0.001\n",
    "nn.epochs = 60\n",
    "nn.batch_size = batch_sz\n",
    "nn.lambda = 0.01"
   ]
  },
  {
   "cell_type": "code",
   "execution_count": 46,
   "metadata": {},
   "outputs": [
    {
     "data": {
      "text/plain": [
       "\u001b[34mMachine{NeuralNetworkClassifier{CustomNN,…}} @523\u001b[39m trained 0 times.\n",
       "  args: \n",
       "    1:\t\u001b[34mSource @490\u001b[39m ⏎ `Table{AbstractArray{Continuous,1}}`\n",
       "    2:\t\u001b[34mSource @957\u001b[39m ⏎ `AbstractArray{Multiclass{3},1}`\n"
      ]
     },
     "execution_count": 46,
     "metadata": {},
     "output_type": "execute_result"
    }
   ],
   "source": [
    "Net = machine(nn, X, y)"
   ]
  },
  {
   "cell_type": "code",
   "execution_count": 47,
   "metadata": {},
   "outputs": [
    {
     "name": "stderr",
     "output_type": "stream",
     "text": [
      "┌ Info: Training \u001b[34mMachine{NeuralNetworkClassifier{CustomNN,…}} @523\u001b[39m.\n",
      "└ @ MLJBase /home/andrew/.julia/packages/MLJBase/uKzAz/src/machines.jl:319\n",
      "\u001b[33mOptimising neural net:100%[=========================] Time: 0:00:00\u001b[39m\n"
     ]
    },
    {
     "data": {
      "text/plain": [
       "\u001b[34mMachine{NeuralNetworkClassifier{CustomNN,…}} @523\u001b[39m trained 1 time.\n",
       "  args: \n",
       "    1:\t\u001b[34mSource @490\u001b[39m ⏎ `Table{AbstractArray{Continuous,1}}`\n",
       "    2:\t\u001b[34mSource @957\u001b[39m ⏎ `AbstractArray{Multiclass{3},1}`\n"
      ]
     },
     "execution_count": 47,
     "metadata": {},
     "output_type": "execute_result"
    }
   ],
   "source": [
    "fit!(Net, rows=train, verbosity=1, force=true)"
   ]
  },
  {
   "cell_type": "code",
   "execution_count": 48,
   "metadata": {},
   "outputs": [
    {
     "data": {
      "text/plain": [
       "MLJBase.NumericRange(Float64, :(optimiser.eta), ... )"
      ]
     },
     "execution_count": 48,
     "metadata": {},
     "output_type": "execute_result"
    }
   ],
   "source": [
    "param1 = :epochs\n",
    "param2 = :(optimiser.eta)\n",
    "\n",
    "r1 = range(nn, param1, lower=10, upper=max_epochs, scale=:linear)\n",
    "r2 = range(nn, param2, lower=0.0001, upper=10^-1, scale=:log10)"
   ]
  },
  {
   "cell_type": "code",
   "execution_count": 49,
   "metadata": {
    "scrolled": true
   },
   "outputs": [
    {
     "data": {
      "text/plain": [
       "ProbabilisticTunedModel(\n",
       "    model = NeuralNetworkClassifier(\n",
       "            builder = \u001b[34mCustomNN @250\u001b[39m,\n",
       "            finaliser = NNlib.softmax,\n",
       "            optimiser = ADAM(0.001, (0.9, 0.999), IdDict{Any,Any}()),\n",
       "            loss = Flux.crossentropy,\n",
       "            epochs = 60,\n",
       "            batch_size = 32,\n",
       "            lambda = 0.01,\n",
       "            alpha = 0.0,\n",
       "            optimiser_changes_trigger_retraining = false),\n",
       "    tuning = Grid(\n",
       "            goal = 100,\n",
       "            resolution = 10,\n",
       "            shuffle = true,\n",
       "            rng = Random._GLOBAL_RNG()),\n",
       "    resampling = Holdout(\n",
       "            fraction_train = 0.7,\n",
       "            shuffle = false,\n",
       "            rng = Random._GLOBAL_RNG()),\n",
       "    measure = cross_entropy(\n",
       "            eps = 2.220446049250313e-16),\n",
       "    weights = nothing,\n",
       "    operation = MLJModelInterface.predict,\n",
       "    range = MLJBase.NumericRange{T,MLJBase.Bounded,Symbol} where T[\u001b[34mNumericRange{Int64,…} @556\u001b[39m, \u001b[34mNumericRange{Float64,…} @794\u001b[39m],\n",
       "    train_best = true,\n",
       "    repeats = 1,\n",
       "    n = nothing,\n",
       "    acceleration = CPUThreads{Int64}(1),\n",
       "    acceleration_resampling = CPU1{Nothing}(nothing),\n",
       "    check_measure = true)\u001b[34m @243\u001b[39m"
      ]
     },
     "execution_count": 49,
     "metadata": {},
     "output_type": "execute_result"
    }
   ],
   "source": [
    "self_tuning_nn_model = TunedModel(model=nn,\n",
    "                                    tuning=Grid(goal=100),\n",
    "                                    resampling=Holdout(fraction_train=0.7), \n",
    "                                    measure=cross_entropy,\n",
    "                                    acceleration=CPUProcesses(),\n",
    "                                    range=[r1, r2])"
   ]
  },
  {
   "cell_type": "code",
   "execution_count": 50,
   "metadata": {},
   "outputs": [
    {
     "data": {
      "text/plain": [
       "\u001b[34mMachine{ProbabilisticTunedModel{Grid,…}} @174\u001b[39m trained 0 times.\n",
       "  args: \n",
       "    1:\t\u001b[34mSource @854\u001b[39m ⏎ `Table{AbstractArray{Continuous,1}}`\n",
       "    2:\t\u001b[34mSource @649\u001b[39m ⏎ `AbstractArray{Multiclass{3},1}`\n"
      ]
     },
     "execution_count": 50,
     "metadata": {},
     "output_type": "execute_result"
    }
   ],
   "source": [
    "self_tuning_nn = machine(self_tuning_nn_model, X, y)"
   ]
  },
  {
   "cell_type": "code",
   "execution_count": 51,
   "metadata": {
    "scrolled": false
   },
   "outputs": [
    {
     "name": "stderr",
     "output_type": "stream",
     "text": [
      "┌ Info: Training \u001b[34mMachine{ProbabilisticTunedModel{Grid,…}} @174\u001b[39m.\n",
      "└ @ MLJBase /home/andrew/.julia/packages/MLJBase/uKzAz/src/machines.jl:319\n",
      "┌ Info: Attempting to evaluate 100 models.\n",
      "└ @ MLJTuning /home/andrew/.julia/packages/MLJTuning/Bbgvk/src/tuned_models.jl:494\n",
      "\u001b[33mEvaluating over 100 metamodels: 100%[=========================] Time: 0:04:08\u001b[39m\n"
     ]
    },
    {
     "data": {
      "text/plain": [
       "\u001b[34mMachine{ProbabilisticTunedModel{Grid,…}} @174\u001b[39m trained 1 time.\n",
       "  args: \n",
       "    1:\t\u001b[34mSource @854\u001b[39m ⏎ `Table{AbstractArray{Continuous,1}}`\n",
       "    2:\t\u001b[34mSource @649\u001b[39m ⏎ `AbstractArray{Multiclass{3},1}`\n"
      ]
     },
     "execution_count": 51,
     "metadata": {},
     "output_type": "execute_result"
    }
   ],
   "source": [
    "z = fit!(self_tuning_nn, rows=train)"
   ]
  },
  {
   "cell_type": "code",
   "execution_count": 52,
   "metadata": {
    "scrolled": false
   },
   "outputs": [
    {
     "data": {
      "image/svg+xml": [
       "<?xml version=\"1.0\" encoding=\"utf-8\"?>\n",
       "<svg xmlns=\"http://www.w3.org/2000/svg\" xmlns:xlink=\"http://www.w3.org/1999/xlink\" width=\"600\" height=\"400\" viewBox=\"0 0 2400 1600\">\n",
       "<defs>\n",
       "  <clipPath id=\"clip540\">\n",
       "    <rect x=\"0\" y=\"0\" width=\"2400\" height=\"1600\"/>\n",
       "  </clipPath>\n",
       "</defs>\n",
       "<path clip-path=\"url(#clip540)\" d=\"\n",
       "M0 1600 L2400 1600 L2400 0 L0 0  Z\n",
       "  \" fill=\"#ffffff\" fill-rule=\"evenodd\" fill-opacity=\"1\"/>\n",
       "<defs>\n",
       "  <clipPath id=\"clip541\">\n",
       "    <rect x=\"480\" y=\"0\" width=\"1681\" height=\"1600\"/>\n",
       "  </clipPath>\n",
       "</defs>\n",
       "<path clip-path=\"url(#clip540)\" d=\"\n",
       "M244.308 1423.18 L2112.76 1423.18 L2112.76 47.2441 L244.308 47.2441  Z\n",
       "  \" fill=\"#ffffff\" fill-rule=\"evenodd\" fill-opacity=\"1\"/>\n",
       "<defs>\n",
       "  <clipPath id=\"clip542\">\n",
       "    <rect x=\"244\" y=\"47\" width=\"1869\" height=\"1377\"/>\n",
       "  </clipPath>\n",
       "</defs>\n",
       "<polyline clip-path=\"url(#clip542)\" style=\"stroke:#000000; stroke-width:2; stroke-opacity:0.1; fill:none\" points=\"\n",
       "  291.293,1423.18 291.293,47.2441 \n",
       "  \"/>\n",
       "<polyline clip-path=\"url(#clip542)\" style=\"stroke:#000000; stroke-width:2; stroke-opacity:0.1; fill:none\" points=\"\n",
       "  880.82,1423.18 880.82,47.2441 \n",
       "  \"/>\n",
       "<polyline clip-path=\"url(#clip542)\" style=\"stroke:#000000; stroke-width:2; stroke-opacity:0.1; fill:none\" points=\"\n",
       "  1470.35,1423.18 1470.35,47.2441 \n",
       "  \"/>\n",
       "<polyline clip-path=\"url(#clip542)\" style=\"stroke:#000000; stroke-width:2; stroke-opacity:0.1; fill:none\" points=\"\n",
       "  2059.88,1423.18 2059.88,47.2441 \n",
       "  \"/>\n",
       "<polyline clip-path=\"url(#clip542)\" style=\"stroke:#000000; stroke-width:2; stroke-opacity:0.1; fill:none\" points=\"\n",
       "  244.308,1384.24 2112.76,1384.24 \n",
       "  \"/>\n",
       "<polyline clip-path=\"url(#clip542)\" style=\"stroke:#000000; stroke-width:2; stroke-opacity:0.1; fill:none\" points=\"\n",
       "  244.308,951.554 2112.76,951.554 \n",
       "  \"/>\n",
       "<polyline clip-path=\"url(#clip542)\" style=\"stroke:#000000; stroke-width:2; stroke-opacity:0.1; fill:none\" points=\"\n",
       "  244.308,518.87 2112.76,518.87 \n",
       "  \"/>\n",
       "<polyline clip-path=\"url(#clip542)\" style=\"stroke:#000000; stroke-width:2; stroke-opacity:0.1; fill:none\" points=\"\n",
       "  244.308,86.1857 2112.76,86.1857 \n",
       "  \"/>\n",
       "<polyline clip-path=\"url(#clip540)\" style=\"stroke:#000000; stroke-width:4; stroke-opacity:1; fill:none\" points=\"\n",
       "  244.308,1423.18 2112.76,1423.18 \n",
       "  \"/>\n",
       "<polyline clip-path=\"url(#clip540)\" style=\"stroke:#000000; stroke-width:4; stroke-opacity:1; fill:none\" points=\"\n",
       "  244.308,1423.18 244.308,47.2441 \n",
       "  \"/>\n",
       "<polyline clip-path=\"url(#clip540)\" style=\"stroke:#000000; stroke-width:4; stroke-opacity:1; fill:none\" points=\"\n",
       "  291.293,1423.18 291.293,1406.67 \n",
       "  \"/>\n",
       "<polyline clip-path=\"url(#clip540)\" style=\"stroke:#000000; stroke-width:4; stroke-opacity:1; fill:none\" points=\"\n",
       "  880.82,1423.18 880.82,1406.67 \n",
       "  \"/>\n",
       "<polyline clip-path=\"url(#clip540)\" style=\"stroke:#000000; stroke-width:4; stroke-opacity:1; fill:none\" points=\"\n",
       "  1470.35,1423.18 1470.35,1406.67 \n",
       "  \"/>\n",
       "<polyline clip-path=\"url(#clip540)\" style=\"stroke:#000000; stroke-width:4; stroke-opacity:1; fill:none\" points=\"\n",
       "  2059.88,1423.18 2059.88,1406.67 \n",
       "  \"/>\n",
       "<polyline clip-path=\"url(#clip540)\" style=\"stroke:#000000; stroke-width:4; stroke-opacity:1; fill:none\" points=\"\n",
       "  244.308,1384.24 266.729,1384.24 \n",
       "  \"/>\n",
       "<polyline clip-path=\"url(#clip540)\" style=\"stroke:#000000; stroke-width:4; stroke-opacity:1; fill:none\" points=\"\n",
       "  244.308,951.554 266.729,951.554 \n",
       "  \"/>\n",
       "<polyline clip-path=\"url(#clip540)\" style=\"stroke:#000000; stroke-width:4; stroke-opacity:1; fill:none\" points=\"\n",
       "  244.308,518.87 266.729,518.87 \n",
       "  \"/>\n",
       "<polyline clip-path=\"url(#clip540)\" style=\"stroke:#000000; stroke-width:4; stroke-opacity:1; fill:none\" points=\"\n",
       "  244.308,86.1857 266.729,86.1857 \n",
       "  \"/>\n",
       "<path clip-path=\"url(#clip540)\" d=\"M 0 0 M291.293 1445.17 Q287.682 1445.17 285.853 1448.74 Q284.048 1452.28 284.048 1459.41 Q284.048 1466.51 285.853 1470.08 Q287.682 1473.62 291.293 1473.62 Q294.927 1473.62 296.733 1470.08 Q298.562 1466.51 298.562 1459.41 Q298.562 1452.28 296.733 1448.74 Q294.927 1445.17 291.293 1445.17 M291.293 1441.47 Q297.103 1441.47 300.159 1446.07 Q303.237 1450.66 303.237 1459.41 Q303.237 1468.13 300.159 1472.74 Q297.103 1477.32 291.293 1477.32 Q285.483 1477.32 282.404 1472.74 Q279.349 1468.13 279.349 1459.41 Q279.349 1450.66 282.404 1446.07 Q285.483 1441.47 291.293 1441.47 Z\" fill=\"#000000\" fill-rule=\"evenodd\" fill-opacity=\"1\" /><path clip-path=\"url(#clip540)\" d=\"M 0 0 M830.682 1472.72 L838.321 1472.72 L838.321 1446.35 L830.011 1448.02 L830.011 1443.76 L838.274 1442.09 L842.95 1442.09 L842.95 1472.72 L850.589 1472.72 L850.589 1476.65 L830.682 1476.65 L830.682 1472.72 Z\" fill=\"#000000\" fill-rule=\"evenodd\" fill-opacity=\"1\" /><path clip-path=\"url(#clip540)\" d=\"M 0 0 M865.658 1445.17 Q862.047 1445.17 860.219 1448.74 Q858.413 1452.28 858.413 1459.41 Q858.413 1466.51 860.219 1470.08 Q862.047 1473.62 865.658 1473.62 Q869.293 1473.62 871.098 1470.08 Q872.927 1466.51 872.927 1459.41 Q872.927 1452.28 871.098 1448.74 Q869.293 1445.17 865.658 1445.17 M865.658 1441.47 Q871.469 1441.47 874.524 1446.07 Q877.603 1450.66 877.603 1459.41 Q877.603 1468.13 874.524 1472.74 Q871.469 1477.32 865.658 1477.32 Q859.848 1477.32 856.77 1472.74 Q853.714 1468.13 853.714 1459.41 Q853.714 1450.66 856.77 1446.07 Q859.848 1441.47 865.658 1441.47 Z\" fill=\"#000000\" fill-rule=\"evenodd\" fill-opacity=\"1\" /><path clip-path=\"url(#clip540)\" d=\"M 0 0 M892.672 1445.17 Q889.061 1445.17 887.232 1448.74 Q885.427 1452.28 885.427 1459.41 Q885.427 1466.51 887.232 1470.08 Q889.061 1473.62 892.672 1473.62 Q896.306 1473.62 898.112 1470.08 Q899.941 1466.51 899.941 1459.41 Q899.941 1452.28 898.112 1448.74 Q896.306 1445.17 892.672 1445.17 M892.672 1441.47 Q898.482 1441.47 901.538 1446.07 Q904.617 1450.66 904.617 1459.41 Q904.617 1468.13 901.538 1472.74 Q898.482 1477.32 892.672 1477.32 Q886.862 1477.32 883.783 1472.74 Q880.728 1468.13 880.728 1459.41 Q880.728 1450.66 883.783 1446.07 Q886.862 1441.47 892.672 1441.47 Z\" fill=\"#000000\" fill-rule=\"evenodd\" fill-opacity=\"1\" /><path clip-path=\"url(#clip540)\" d=\"M 0 0 M919.686 1445.17 Q916.075 1445.17 914.246 1448.74 Q912.441 1452.28 912.441 1459.41 Q912.441 1466.51 914.246 1470.08 Q916.075 1473.62 919.686 1473.62 Q923.32 1473.62 925.126 1470.08 Q926.954 1466.51 926.954 1459.41 Q926.954 1452.28 925.126 1448.74 Q923.32 1445.17 919.686 1445.17 M919.686 1441.47 Q925.496 1441.47 928.552 1446.07 Q931.63 1450.66 931.63 1459.41 Q931.63 1468.13 928.552 1472.74 Q925.496 1477.32 919.686 1477.32 Q913.876 1477.32 910.797 1472.74 Q907.742 1468.13 907.742 1459.41 Q907.742 1450.66 910.797 1446.07 Q913.876 1441.47 919.686 1441.47 Z\" fill=\"#000000\" fill-rule=\"evenodd\" fill-opacity=\"1\" /><path clip-path=\"url(#clip540)\" d=\"M 0 0 M1424.48 1472.72 L1440.8 1472.72 L1440.8 1476.65 L1418.86 1476.65 L1418.86 1472.72 Q1421.52 1469.96 1426.1 1465.33 Q1430.71 1460.68 1431.89 1459.34 Q1434.13 1456.81 1435.01 1455.08 Q1435.92 1453.32 1435.92 1451.63 Q1435.92 1448.87 1433.97 1447.14 Q1432.05 1445.4 1428.95 1445.4 Q1426.75 1445.4 1424.29 1446.17 Q1421.86 1446.93 1419.09 1448.48 L1419.09 1443.76 Q1421.91 1442.62 1424.36 1442.05 Q1426.82 1441.47 1428.86 1441.47 Q1434.23 1441.47 1437.42 1444.15 Q1440.61 1446.84 1440.61 1451.33 Q1440.61 1453.46 1439.8 1455.38 Q1439.02 1457.28 1436.91 1459.87 Q1436.33 1460.54 1433.23 1463.76 Q1430.13 1466.95 1424.48 1472.72 Z\" fill=\"#000000\" fill-rule=\"evenodd\" fill-opacity=\"1\" /><path clip-path=\"url(#clip540)\" d=\"M 0 0 M1455.87 1445.17 Q1452.26 1445.17 1450.43 1448.74 Q1448.62 1452.28 1448.62 1459.41 Q1448.62 1466.51 1450.43 1470.08 Q1452.26 1473.62 1455.87 1473.62 Q1459.5 1473.62 1461.31 1470.08 Q1463.14 1466.51 1463.14 1459.41 Q1463.14 1452.28 1461.31 1448.74 Q1459.5 1445.17 1455.87 1445.17 M1455.87 1441.47 Q1461.68 1441.47 1464.73 1446.07 Q1467.81 1450.66 1467.81 1459.41 Q1467.81 1468.13 1464.73 1472.74 Q1461.68 1477.32 1455.87 1477.32 Q1450.06 1477.32 1446.98 1472.74 Q1443.92 1468.13 1443.92 1459.41 Q1443.92 1450.66 1446.98 1446.07 Q1450.06 1441.47 1455.87 1441.47 Z\" fill=\"#000000\" fill-rule=\"evenodd\" fill-opacity=\"1\" /><path clip-path=\"url(#clip540)\" d=\"M 0 0 M1482.88 1445.17 Q1479.27 1445.17 1477.44 1448.74 Q1475.64 1452.28 1475.64 1459.41 Q1475.64 1466.51 1477.44 1470.08 Q1479.27 1473.62 1482.88 1473.62 Q1486.52 1473.62 1488.32 1470.08 Q1490.15 1466.51 1490.15 1459.41 Q1490.15 1452.28 1488.32 1448.74 Q1486.52 1445.17 1482.88 1445.17 M1482.88 1441.47 Q1488.69 1441.47 1491.75 1446.07 Q1494.83 1450.66 1494.83 1459.41 Q1494.83 1468.13 1491.75 1472.74 Q1488.69 1477.32 1482.88 1477.32 Q1477.07 1477.32 1473.99 1472.74 Q1470.94 1468.13 1470.94 1459.41 Q1470.94 1450.66 1473.99 1446.07 Q1477.07 1441.47 1482.88 1441.47 Z\" fill=\"#000000\" fill-rule=\"evenodd\" fill-opacity=\"1\" /><path clip-path=\"url(#clip540)\" d=\"M 0 0 M1509.9 1445.17 Q1506.29 1445.17 1504.46 1448.74 Q1502.65 1452.28 1502.65 1459.41 Q1502.65 1466.51 1504.46 1470.08 Q1506.29 1473.62 1509.9 1473.62 Q1513.53 1473.62 1515.34 1470.08 Q1517.16 1466.51 1517.16 1459.41 Q1517.16 1452.28 1515.34 1448.74 Q1513.53 1445.17 1509.9 1445.17 M1509.9 1441.47 Q1515.71 1441.47 1518.76 1446.07 Q1521.84 1450.66 1521.84 1459.41 Q1521.84 1468.13 1518.76 1472.74 Q1515.71 1477.32 1509.9 1477.32 Q1504.09 1477.32 1501.01 1472.74 Q1497.95 1468.13 1497.95 1459.41 Q1497.95 1450.66 1501.01 1446.07 Q1504.09 1441.47 1509.9 1441.47 Z\" fill=\"#000000\" fill-rule=\"evenodd\" fill-opacity=\"1\" /><path clip-path=\"url(#clip540)\" d=\"M 0 0 M2023.6 1458.02 Q2026.96 1458.74 2028.83 1461 Q2030.73 1463.27 2030.73 1466.61 Q2030.73 1471.72 2027.21 1474.52 Q2023.69 1477.32 2017.21 1477.32 Q2015.04 1477.32 2012.72 1476.88 Q2010.43 1476.47 2007.98 1475.61 L2007.98 1471.1 Q2009.92 1472.23 2012.24 1472.81 Q2014.55 1473.39 2017.07 1473.39 Q2021.47 1473.39 2023.76 1471.65 Q2026.08 1469.92 2026.08 1466.61 Q2026.08 1463.55 2023.93 1461.84 Q2021.8 1460.1 2017.98 1460.1 L2013.95 1460.1 L2013.95 1456.26 L2018.16 1456.26 Q2021.61 1456.26 2023.44 1454.89 Q2025.27 1453.5 2025.27 1450.91 Q2025.27 1448.25 2023.37 1446.84 Q2021.5 1445.4 2017.98 1445.4 Q2016.06 1445.4 2013.86 1445.82 Q2011.66 1446.24 2009.02 1447.11 L2009.02 1442.95 Q2011.68 1442.21 2014 1441.84 Q2016.33 1441.47 2018.39 1441.47 Q2023.72 1441.47 2026.82 1443.9 Q2029.92 1446.3 2029.92 1450.43 Q2029.92 1453.3 2028.28 1455.29 Q2026.63 1457.25 2023.6 1458.02 Z\" fill=\"#000000\" fill-rule=\"evenodd\" fill-opacity=\"1\" /><path clip-path=\"url(#clip540)\" d=\"M 0 0 M2045.8 1445.17 Q2042.19 1445.17 2040.36 1448.74 Q2038.56 1452.28 2038.56 1459.41 Q2038.56 1466.51 2040.36 1470.08 Q2042.19 1473.62 2045.8 1473.62 Q2049.44 1473.62 2051.24 1470.08 Q2053.07 1466.51 2053.07 1459.41 Q2053.07 1452.28 2051.24 1448.74 Q2049.44 1445.17 2045.8 1445.17 M2045.8 1441.47 Q2051.61 1441.47 2054.67 1446.07 Q2057.75 1450.66 2057.75 1459.41 Q2057.75 1468.13 2054.67 1472.74 Q2051.61 1477.32 2045.8 1477.32 Q2039.99 1477.32 2036.91 1472.74 Q2033.86 1468.13 2033.86 1459.41 Q2033.86 1450.66 2036.91 1446.07 Q2039.99 1441.47 2045.8 1441.47 Z\" fill=\"#000000\" fill-rule=\"evenodd\" fill-opacity=\"1\" /><path clip-path=\"url(#clip540)\" d=\"M 0 0 M2072.82 1445.17 Q2069.2 1445.17 2067.38 1448.74 Q2065.57 1452.28 2065.57 1459.41 Q2065.57 1466.51 2067.38 1470.08 Q2069.2 1473.62 2072.82 1473.62 Q2076.45 1473.62 2078.25 1470.08 Q2080.08 1466.51 2080.08 1459.41 Q2080.08 1452.28 2078.25 1448.74 Q2076.45 1445.17 2072.82 1445.17 M2072.82 1441.47 Q2078.63 1441.47 2081.68 1446.07 Q2084.76 1450.66 2084.76 1459.41 Q2084.76 1468.13 2081.68 1472.74 Q2078.63 1477.32 2072.82 1477.32 Q2067 1477.32 2063.93 1472.74 Q2060.87 1468.13 2060.87 1459.41 Q2060.87 1450.66 2063.93 1446.07 Q2067 1441.47 2072.82 1441.47 Z\" fill=\"#000000\" fill-rule=\"evenodd\" fill-opacity=\"1\" /><path clip-path=\"url(#clip540)\" d=\"M 0 0 M2099.83 1445.17 Q2096.22 1445.17 2094.39 1448.74 Q2092.58 1452.28 2092.58 1459.41 Q2092.58 1466.51 2094.39 1470.08 Q2096.22 1473.62 2099.83 1473.62 Q2103.46 1473.62 2105.27 1470.08 Q2107.1 1466.51 2107.1 1459.41 Q2107.1 1452.28 2105.27 1448.74 Q2103.46 1445.17 2099.83 1445.17 M2099.83 1441.47 Q2105.64 1441.47 2108.69 1446.07 Q2111.77 1450.66 2111.77 1459.41 Q2111.77 1468.13 2108.69 1472.74 Q2105.64 1477.32 2099.83 1477.32 Q2094.02 1477.32 2090.94 1472.74 Q2087.88 1468.13 2087.88 1459.41 Q2087.88 1450.66 2090.94 1446.07 Q2094.02 1441.47 2099.83 1441.47 Z\" fill=\"#000000\" fill-rule=\"evenodd\" fill-opacity=\"1\" /><path clip-path=\"url(#clip540)\" d=\"M 0 0 M126.931 1404.03 L134.57 1404.03 L134.57 1377.67 L126.26 1379.33 L126.26 1375.07 L134.524 1373.41 L139.2 1373.41 L139.2 1404.03 L146.839 1404.03 L146.839 1407.97 L126.931 1407.97 L126.931 1404.03 Z\" fill=\"#000000\" fill-rule=\"evenodd\" fill-opacity=\"1\" /><path clip-path=\"url(#clip540)\" d=\"M 0 0 M161.908 1376.48 Q158.297 1376.48 156.468 1380.05 Q154.663 1383.59 154.663 1390.72 Q154.663 1397.83 156.468 1401.39 Q158.297 1404.93 161.908 1404.93 Q165.542 1404.93 167.348 1401.39 Q169.177 1397.83 169.177 1390.72 Q169.177 1383.59 167.348 1380.05 Q165.542 1376.48 161.908 1376.48 M161.908 1372.78 Q167.718 1372.78 170.774 1377.39 Q173.852 1381.97 173.852 1390.72 Q173.852 1399.45 170.774 1404.05 Q167.718 1408.64 161.908 1408.64 Q156.098 1408.64 153.019 1404.05 Q149.964 1399.45 149.964 1390.72 Q149.964 1381.97 153.019 1377.39 Q156.098 1372.78 161.908 1372.78 Z\" fill=\"#000000\" fill-rule=\"evenodd\" fill-opacity=\"1\" /><path clip-path=\"url(#clip540)\" d=\"M 0 0 M173.852 1366.88 L197.964 1366.88 L197.964 1370.08 L173.852 1370.08 L173.852 1366.88 Z\" fill=\"#000000\" fill-rule=\"evenodd\" fill-opacity=\"1\" /><path clip-path=\"url(#clip540)\" d=\"M 0 0 M212.521 1355.79 L202.929 1370.78 L212.521 1370.78 L212.521 1355.79 M211.524 1352.48 L216.302 1352.48 L216.302 1370.78 L220.308 1370.78 L220.308 1373.94 L216.302 1373.94 L216.302 1380.56 L212.521 1380.56 L212.521 1373.94 L199.845 1373.94 L199.845 1370.27 L211.524 1352.48 Z\" fill=\"#000000\" fill-rule=\"evenodd\" fill-opacity=\"1\" /><path clip-path=\"url(#clip540)\" d=\"M 0 0 M127.853 971.347 L135.492 971.347 L135.492 944.981 L127.182 946.648 L127.182 942.388 L135.446 940.722 L140.121 940.722 L140.121 971.347 L147.76 971.347 L147.76 975.282 L127.853 975.282 L127.853 971.347 Z\" fill=\"#000000\" fill-rule=\"evenodd\" fill-opacity=\"1\" /><path clip-path=\"url(#clip540)\" d=\"M 0 0 M162.83 943.8 Q159.219 943.8 157.39 947.365 Q155.584 950.907 155.584 958.036 Q155.584 965.143 157.39 968.708 Q159.219 972.249 162.83 972.249 Q166.464 972.249 168.269 968.708 Q170.098 965.143 170.098 958.036 Q170.098 950.907 168.269 947.365 Q166.464 943.8 162.83 943.8 M162.83 940.097 Q168.64 940.097 171.695 944.703 Q174.774 949.286 174.774 958.036 Q174.774 966.763 171.695 971.37 Q168.64 975.953 162.83 975.953 Q157.02 975.953 153.941 971.37 Q150.885 966.763 150.885 958.036 Q150.885 949.286 153.941 944.703 Q157.02 940.097 162.83 940.097 Z\" fill=\"#000000\" fill-rule=\"evenodd\" fill-opacity=\"1\" /><path clip-path=\"url(#clip540)\" d=\"M 0 0 M174.774 934.198 L198.886 934.198 L198.886 937.395 L174.774 937.395 L174.774 934.198 Z\" fill=\"#000000\" fill-rule=\"evenodd\" fill-opacity=\"1\" /><path clip-path=\"url(#clip540)\" d=\"M 0 0 M214.515 932.731 Q217.242 933.314 218.765 935.157 Q220.308 937 220.308 939.709 Q220.308 943.865 217.449 946.141 Q214.59 948.417 209.324 948.417 Q207.556 948.417 205.675 948.059 Q203.813 947.721 201.82 947.025 L201.82 943.357 Q203.4 944.279 205.28 944.749 Q207.161 945.219 209.211 945.219 Q212.785 945.219 214.647 943.809 Q216.527 942.398 216.527 939.709 Q216.527 937.226 214.778 935.834 Q213.048 934.424 209.945 934.424 L206.672 934.424 L206.672 931.302 L210.095 931.302 Q212.897 931.302 214.383 930.192 Q215.869 929.063 215.869 926.957 Q215.869 924.794 214.327 923.647 Q212.803 922.481 209.945 922.481 Q208.384 922.481 206.597 922.819 Q204.81 923.158 202.666 923.873 L202.666 920.487 Q204.829 919.885 206.71 919.584 Q208.609 919.283 210.283 919.283 Q214.609 919.283 217.129 921.258 Q219.649 923.214 219.649 926.562 Q219.649 928.894 218.314 930.512 Q216.979 932.11 214.515 932.731 Z\" fill=\"#000000\" fill-rule=\"evenodd\" fill-opacity=\"1\" /><path clip-path=\"url(#clip540)\" d=\"M 0 0 M128.624 538.662 L136.263 538.662 L136.263 512.297 L127.953 513.963 L127.953 509.704 L136.217 508.037 L140.893 508.037 L140.893 538.662 L148.531 538.662 L148.531 542.597 L128.624 542.597 L128.624 538.662 Z\" fill=\"#000000\" fill-rule=\"evenodd\" fill-opacity=\"1\" /><path clip-path=\"url(#clip540)\" d=\"M 0 0 M163.601 511.116 Q159.99 511.116 158.161 514.681 Q156.355 518.223 156.355 525.352 Q156.355 532.459 158.161 536.023 Q159.99 539.565 163.601 539.565 Q167.235 539.565 169.041 536.023 Q170.869 532.459 170.869 525.352 Q170.869 518.223 169.041 514.681 Q167.235 511.116 163.601 511.116 M163.601 507.412 Q169.411 507.412 172.467 512.019 Q175.545 516.602 175.545 525.352 Q175.545 534.079 172.467 538.685 Q169.411 543.269 163.601 543.269 Q157.791 543.269 154.712 538.685 Q151.656 534.079 151.656 525.352 Q151.656 516.602 154.712 512.019 Q157.791 507.412 163.601 507.412 Z\" fill=\"#000000\" fill-rule=\"evenodd\" fill-opacity=\"1\" /><path clip-path=\"url(#clip540)\" d=\"M 0 0 M175.545 501.514 L199.657 501.514 L199.657 504.711 L175.545 504.711 L175.545 501.514 Z\" fill=\"#000000\" fill-rule=\"evenodd\" fill-opacity=\"1\" /><path clip-path=\"url(#clip540)\" d=\"M 0 0 M207.048 511.99 L220.308 511.99 L220.308 515.187 L202.478 515.187 L202.478 511.99 Q204.641 509.752 208.365 505.99 Q212.107 502.21 213.067 501.119 Q214.891 499.069 215.606 497.658 Q216.339 496.229 216.339 494.856 Q216.339 492.618 214.759 491.207 Q213.198 489.797 210.678 489.797 Q208.891 489.797 206.898 490.417 Q204.923 491.038 202.666 492.298 L202.666 488.461 Q204.961 487.54 206.954 487.069 Q208.948 486.599 210.603 486.599 Q214.966 486.599 217.562 488.781 Q220.157 490.963 220.157 494.611 Q220.157 496.342 219.499 497.903 Q218.859 499.445 217.148 501.551 Q216.678 502.097 214.158 504.711 Q211.637 507.307 207.048 511.99 Z\" fill=\"#000000\" fill-rule=\"evenodd\" fill-opacity=\"1\" /><path clip-path=\"url(#clip540)\" d=\"M 0 0 M128.323 105.978 L135.962 105.978 L135.962 79.6125 L127.652 81.2792 L127.652 77.0199 L135.916 75.3533 L140.592 75.3533 L140.592 105.978 L148.231 105.978 L148.231 109.913 L128.323 109.913 L128.323 105.978 Z\" fill=\"#000000\" fill-rule=\"evenodd\" fill-opacity=\"1\" /><path clip-path=\"url(#clip540)\" d=\"M 0 0 M163.3 78.432 Q159.689 78.432 157.86 81.9968 Q156.055 85.5384 156.055 92.668 Q156.055 99.7744 157.86 103.339 Q159.689 106.881 163.3 106.881 Q166.934 106.881 168.74 103.339 Q170.568 99.7744 170.568 92.668 Q170.568 85.5384 168.74 81.9968 Q166.934 78.432 163.3 78.432 M163.3 74.7283 Q169.11 74.7283 172.166 79.3347 Q175.244 83.918 175.244 92.668 Q175.244 101.395 172.166 106.001 Q169.11 110.585 163.3 110.585 Q157.49 110.585 154.411 106.001 Q151.356 101.395 151.356 92.668 Q151.356 83.918 154.411 79.3347 Q157.49 74.7283 163.3 74.7283 Z\" fill=\"#000000\" fill-rule=\"evenodd\" fill-opacity=\"1\" /><path clip-path=\"url(#clip540)\" d=\"M 0 0 M175.244 68.8296 L199.356 68.8296 L199.356 72.0269 L175.244 72.0269 L175.244 68.8296 Z\" fill=\"#000000\" fill-rule=\"evenodd\" fill-opacity=\"1\" /><path clip-path=\"url(#clip540)\" d=\"M 0 0 M204.133 79.3056 L210.34 79.3056 L210.34 57.8835 L203.588 59.2377 L203.588 55.777 L210.302 54.4229 L214.101 54.4229 L214.101 79.3056 L220.308 79.3056 L220.308 82.5029 L204.133 82.5029 L204.133 79.3056 Z\" fill=\"#000000\" fill-rule=\"evenodd\" fill-opacity=\"1\" /><path clip-path=\"url(#clip540)\" d=\"M 0 0 M1108.81 1536.76 L1108.81 1539.62 L1081.88 1539.62 Q1082.27 1545.67 1085.51 1548.85 Q1088.79 1552 1094.62 1552 Q1097.99 1552 1101.14 1551.17 Q1104.32 1550.35 1107.44 1548.69 L1107.44 1554.23 Q1104.29 1555.57 1100.98 1556.27 Q1097.67 1556.97 1094.27 1556.97 Q1085.74 1556.97 1080.74 1552 Q1075.77 1547.04 1075.77 1538.57 Q1075.77 1529.82 1080.48 1524.69 Q1085.23 1519.54 1093.25 1519.54 Q1100.44 1519.54 1104.61 1524.18 Q1108.81 1528.8 1108.81 1536.76 M1102.95 1535.04 Q1102.89 1530.23 1100.25 1527.37 Q1097.64 1524.5 1093.31 1524.5 Q1088.41 1524.5 1085.45 1527.27 Q1082.52 1530.04 1082.08 1535.07 L1102.95 1535.04 Z\" fill=\"#000000\" fill-rule=\"evenodd\" fill-opacity=\"1\" /><path clip-path=\"url(#clip540)\" d=\"M 0 0 M1120.62 1550.7 L1120.62 1569.6 L1114.73 1569.6 L1114.73 1520.4 L1120.62 1520.4 L1120.62 1525.81 Q1122.47 1522.62 1125.27 1521.1 Q1128.1 1519.54 1132.01 1519.54 Q1138.51 1519.54 1142.55 1524.69 Q1146.62 1529.85 1146.62 1538.25 Q1146.62 1546.65 1142.55 1551.81 Q1138.51 1556.97 1132.01 1556.97 Q1128.1 1556.97 1125.27 1555.44 Q1122.47 1553.88 1120.62 1550.7 M1140.54 1538.25 Q1140.54 1531.79 1137.87 1528.13 Q1135.23 1524.44 1130.58 1524.44 Q1125.94 1524.44 1123.26 1528.13 Q1120.62 1531.79 1120.62 1538.25 Q1120.62 1544.71 1123.26 1548.4 Q1125.94 1552.07 1130.58 1552.07 Q1135.23 1552.07 1137.87 1548.4 Q1140.54 1544.71 1140.54 1538.25 Z\" fill=\"#000000\" fill-rule=\"evenodd\" fill-opacity=\"1\" /><path clip-path=\"url(#clip540)\" d=\"M 0 0 M1166.58 1524.5 Q1161.87 1524.5 1159.13 1528.19 Q1156.4 1531.85 1156.4 1538.25 Q1156.4 1544.65 1159.1 1548.34 Q1161.84 1552 1166.58 1552 Q1171.26 1552 1174 1548.31 Q1176.73 1544.62 1176.73 1538.25 Q1176.73 1531.92 1174 1528.23 Q1171.26 1524.5 1166.58 1524.5 M1166.58 1519.54 Q1174.22 1519.54 1178.58 1524.5 Q1182.94 1529.47 1182.94 1538.25 Q1182.94 1547 1178.58 1552 Q1174.22 1556.97 1166.58 1556.97 Q1158.91 1556.97 1154.55 1552 Q1150.22 1547 1150.22 1538.25 Q1150.22 1529.47 1154.55 1524.5 Q1158.91 1519.54 1166.58 1519.54 Z\" fill=\"#000000\" fill-rule=\"evenodd\" fill-opacity=\"1\" /><path clip-path=\"url(#clip540)\" d=\"M 0 0 M1214.74 1521.76 L1214.74 1527.24 Q1212.25 1525.87 1209.74 1525.2 Q1207.26 1524.5 1204.71 1524.5 Q1199.01 1524.5 1195.86 1528.13 Q1192.71 1531.73 1192.71 1538.25 Q1192.71 1544.78 1195.86 1548.4 Q1199.01 1552 1204.71 1552 Q1207.26 1552 1209.74 1551.33 Q1212.25 1550.63 1214.74 1549.26 L1214.74 1554.68 Q1212.29 1555.82 1209.64 1556.39 Q1207.03 1556.97 1204.07 1556.97 Q1196.02 1556.97 1191.28 1551.91 Q1186.54 1546.85 1186.54 1538.25 Q1186.54 1529.53 1191.31 1524.53 Q1196.12 1519.54 1204.46 1519.54 Q1207.16 1519.54 1209.74 1520.11 Q1212.32 1520.65 1214.74 1521.76 Z\" fill=\"#000000\" fill-rule=\"evenodd\" fill-opacity=\"1\" /><path clip-path=\"url(#clip540)\" d=\"M 0 0 M1250.51 1534.53 L1250.51 1556.04 L1244.66 1556.04 L1244.66 1534.72 Q1244.66 1529.66 1242.68 1527.14 Q1240.71 1524.63 1236.76 1524.63 Q1232.02 1524.63 1229.28 1527.65 Q1226.55 1530.68 1226.55 1535.9 L1226.55 1556.04 L1220.66 1556.04 L1220.66 1506.52 L1226.55 1506.52 L1226.55 1525.93 Q1228.65 1522.72 1231.48 1521.13 Q1234.34 1519.54 1238.07 1519.54 Q1244.21 1519.54 1247.36 1523.36 Q1250.51 1527.14 1250.51 1534.53 Z\" fill=\"#000000\" fill-rule=\"evenodd\" fill-opacity=\"1\" /><path clip-path=\"url(#clip540)\" d=\"M 0 0 M1279.38 1521.45 L1279.38 1526.98 Q1276.9 1525.71 1274.22 1525.07 Q1271.55 1524.44 1268.69 1524.44 Q1264.33 1524.44 1262.13 1525.77 Q1259.97 1527.11 1259.97 1529.79 Q1259.97 1531.82 1261.52 1533 Q1263.08 1534.15 1267.79 1535.2 L1269.8 1535.64 Q1276.04 1536.98 1278.65 1539.43 Q1281.29 1541.85 1281.29 1546.21 Q1281.29 1551.17 1277.34 1554.07 Q1273.43 1556.97 1266.55 1556.97 Q1263.69 1556.97 1260.57 1556.39 Q1257.48 1555.85 1254.04 1554.74 L1254.04 1548.69 Q1257.29 1550.38 1260.44 1551.24 Q1263.59 1552.07 1266.68 1552.07 Q1270.82 1552.07 1273.05 1550.66 Q1275.27 1549.23 1275.27 1546.65 Q1275.27 1544.27 1273.65 1542.99 Q1272.06 1541.72 1266.62 1540.54 L1264.58 1540.07 Q1259.14 1538.92 1256.72 1536.56 Q1254.3 1534.18 1254.3 1530.04 Q1254.3 1525.01 1257.86 1522.27 Q1261.43 1519.54 1267.99 1519.54 Q1271.23 1519.54 1274.1 1520.01 Q1276.96 1520.49 1279.38 1521.45 Z\" fill=\"#000000\" fill-rule=\"evenodd\" fill-opacity=\"1\" /><path clip-path=\"url(#clip540)\" d=\"M 0 0 M56.4621 905.383 Q56.4621 910.094 60.1542 912.831 Q63.8145 915.568 70.212 915.568 Q76.6095 915.568 80.3017 912.863 Q83.9619 910.126 83.9619 905.383 Q83.9619 900.704 80.2698 897.967 Q76.5777 895.23 70.212 895.23 Q63.8781 895.23 60.186 897.967 Q56.4621 900.704 56.4621 905.383 M51.4968 905.383 Q51.4968 897.744 56.4621 893.384 Q61.4273 889.023 70.212 889.023 Q78.9649 889.023 83.9619 893.384 Q88.9272 897.744 88.9272 905.383 Q88.9272 913.054 83.9619 917.414 Q78.9649 921.743 70.212 921.743 Q61.4273 921.743 56.4621 917.414 Q51.4968 913.054 51.4968 905.383 Z\" fill=\"#000000\" fill-rule=\"evenodd\" fill-opacity=\"1\" /><path clip-path=\"url(#clip540)\" d=\"M 0 0 M82.657 877.215 L101.563 877.215 L101.563 883.103 L52.3562 883.103 L52.3562 877.215 L57.7671 877.215 Q54.5842 875.369 53.0564 872.568 Q51.4968 869.735 51.4968 865.82 Q51.4968 859.327 56.6531 855.285 Q61.8093 851.211 70.212 851.211 Q78.6147 851.211 83.771 855.285 Q88.9272 859.327 88.9272 865.82 Q88.9272 869.735 87.3994 872.568 Q85.8398 875.369 82.657 877.215 M70.212 857.29 Q63.7508 857.29 60.0905 859.964 Q56.3984 862.606 56.3984 867.253 Q56.3984 871.9 60.0905 874.573 Q63.7508 877.215 70.212 877.215 Q76.6732 877.215 80.3653 874.573 Q84.0256 871.9 84.0256 867.253 Q84.0256 862.606 80.3653 859.964 Q76.6732 857.29 70.212 857.29 Z\" fill=\"#000000\" fill-rule=\"evenodd\" fill-opacity=\"1\" /><path clip-path=\"url(#clip540)\" d=\"M 0 0 M42.2347 839.275 L52.3562 839.275 L52.3562 827.212 L56.9077 827.212 L56.9077 839.275 L76.2594 839.275 Q80.6199 839.275 81.8613 838.098 Q83.1026 836.888 83.1026 833.228 L83.1026 827.212 L88.0042 827.212 L88.0042 833.228 Q88.0042 840.007 85.4897 842.586 Q82.9434 845.164 76.2594 845.164 L56.9077 845.164 L56.9077 849.46 L52.3562 849.46 L52.3562 845.164 L42.2347 845.164 L42.2347 839.275 Z\" fill=\"#000000\" fill-rule=\"evenodd\" fill-opacity=\"1\" /><path clip-path=\"url(#clip540)\" d=\"M 0 0 M52.3562 821.069 L52.3562 815.213 L88.0042 815.213 L88.0042 821.069 L52.3562 821.069 M38.479 821.069 L38.479 815.213 L45.895 815.213 L45.895 821.069 L38.479 821.069 Z\" fill=\"#000000\" fill-rule=\"evenodd\" fill-opacity=\"1\" /><path clip-path=\"url(#clip540)\" d=\"M 0 0 M59.1993 781.316 Q55.2526 779.119 53.3747 776.064 Q51.4968 773.008 51.4968 768.871 Q51.4968 763.301 55.4117 760.277 Q59.2948 757.253 66.4881 757.253 L88.0042 757.253 L88.0042 763.142 L66.679 763.142 Q61.5546 763.142 59.072 764.956 Q56.5894 766.77 56.5894 770.494 Q56.5894 775.045 59.6131 777.687 Q62.6368 780.329 67.8567 780.329 L88.0042 780.329 L88.0042 786.217 L66.679 786.217 Q61.5228 786.217 59.072 788.031 Q56.5894 789.846 56.5894 793.633 Q56.5894 798.121 59.6449 800.763 Q62.6686 803.405 67.8567 803.405 L88.0042 803.405 L88.0042 809.293 L52.3562 809.293 L52.3562 803.405 L57.8944 803.405 Q54.616 801.399 53.0564 798.598 Q51.4968 795.798 51.4968 791.946 Q51.4968 788.063 53.4702 785.358 Q55.4436 782.621 59.1993 781.316 Z\" fill=\"#000000\" fill-rule=\"evenodd\" fill-opacity=\"1\" /><path clip-path=\"url(#clip540)\" d=\"M 0 0 M52.3562 751.11 L52.3562 745.254 L88.0042 745.254 L88.0042 751.11 L52.3562 751.11 M38.479 751.11 L38.479 745.254 L45.895 745.254 L45.895 751.11 L38.479 751.11 Z\" fill=\"#000000\" fill-rule=\"evenodd\" fill-opacity=\"1\" /><path clip-path=\"url(#clip540)\" d=\"M 0 0 M53.4065 716.385 L58.9447 716.385 Q57.6716 718.868 57.035 721.542 Q56.3984 724.215 56.3984 727.08 Q56.3984 731.44 57.7352 733.636 Q59.072 735.801 61.7456 735.801 Q63.7826 735.801 64.9603 734.241 Q66.1061 732.682 67.1565 727.971 L67.6021 725.966 Q68.9389 719.727 71.3897 717.117 Q73.8086 714.476 78.1691 714.476 Q83.1344 714.476 86.0308 718.422 Q88.9272 722.337 88.9272 729.212 Q88.9272 732.077 88.3543 735.196 Q87.8132 738.283 86.6992 741.721 L80.6518 741.721 Q82.3387 738.474 83.198 735.323 Q84.0256 732.172 84.0256 729.085 Q84.0256 724.947 82.6251 722.719 Q81.1929 720.491 78.6147 720.491 Q76.2276 720.491 74.9545 722.115 Q73.6813 723.706 72.5037 729.149 L72.0262 731.186 Q70.8804 736.628 68.5251 739.047 Q66.138 741.466 62.0002 741.466 Q56.9713 741.466 54.2341 737.901 Q51.4968 734.337 51.4968 727.78 Q51.4968 724.533 51.9743 721.669 Q52.4517 718.804 53.4065 716.385 Z\" fill=\"#000000\" fill-rule=\"evenodd\" fill-opacity=\"1\" /><path clip-path=\"url(#clip540)\" d=\"M 0 0 M68.7161 677.841 L71.5806 677.841 L71.5806 704.768 Q77.6281 704.386 80.8109 701.14 Q83.9619 697.861 83.9619 692.037 Q83.9619 688.663 83.1344 685.512 Q82.3069 682.329 80.6518 679.21 L86.1899 679.21 Q87.5267 682.361 88.227 685.671 Q88.9272 688.981 88.9272 692.387 Q88.9272 700.917 83.9619 705.914 Q78.9967 710.879 70.5303 710.879 Q61.7774 710.879 56.6531 706.168 Q51.4968 701.426 51.4968 693.405 Q51.4968 686.212 56.1438 682.042 Q60.7589 677.841 68.7161 677.841 M66.9973 683.697 Q62.1912 683.761 59.3266 686.403 Q56.4621 689.013 56.4621 693.342 Q56.4621 698.243 59.2312 701.203 Q62.0002 704.131 67.0292 704.577 L66.9973 683.697 Z\" fill=\"#000000\" fill-rule=\"evenodd\" fill-opacity=\"1\" /><path clip-path=\"url(#clip540)\" d=\"M 0 0 M57.8307 651.041 Q57.2578 652.028 57.0032 653.206 Q56.7167 654.352 56.7167 655.752 Q56.7167 660.717 59.9632 663.391 Q63.1779 666.033 69.2253 666.033 L88.0042 666.033 L88.0042 671.921 L52.3562 671.921 L52.3562 666.033 L57.8944 666.033 Q54.6479 664.187 53.0883 661.227 Q51.4968 658.266 51.4968 654.033 Q51.4968 653.429 51.5923 652.696 Q51.656 651.964 51.8151 651.073 L57.8307 651.041 Z\" fill=\"#000000\" fill-rule=\"evenodd\" fill-opacity=\"1\" /><path clip-path=\"url(#clip540)\" d=\"M 0 0 M79.9197 650.055 L79.9197 643.339 L88.0042 643.339 L88.0042 650.055 L79.9197 650.055 Z\" fill=\"#000000\" fill-rule=\"evenodd\" fill-opacity=\"1\" /><path clip-path=\"url(#clip540)\" d=\"M 0 0 M68.7161 606.704 L71.5806 606.704 L71.5806 633.631 Q77.6281 633.249 80.8109 630.003 Q83.9619 626.724 83.9619 620.9 Q83.9619 617.526 83.1344 614.375 Q82.3069 611.192 80.6518 608.073 L86.1899 608.073 Q87.5267 611.224 88.227 614.534 Q88.9272 617.844 88.9272 621.25 Q88.9272 629.78 83.9619 634.777 Q78.9967 639.742 70.5303 639.742 Q61.7774 639.742 56.6531 635.032 Q51.4968 630.289 51.4968 622.268 Q51.4968 615.075 56.1438 610.906 Q60.7589 606.704 68.7161 606.704 M66.9973 612.561 Q62.1912 612.624 59.3266 615.266 Q56.4621 617.876 56.4621 622.205 Q56.4621 627.106 59.2312 630.066 Q62.0002 632.995 67.0292 633.44 L66.9973 612.561 Z\" fill=\"#000000\" fill-rule=\"evenodd\" fill-opacity=\"1\" /><path clip-path=\"url(#clip540)\" d=\"M 0 0 M42.2347 594.769 L52.3562 594.769 L52.3562 582.706 L56.9077 582.706 L56.9077 594.769 L76.2594 594.769 Q80.6199 594.769 81.8613 593.591 Q83.1026 592.381 83.1026 588.721 L83.1026 582.706 L88.0042 582.706 L88.0042 588.721 Q88.0042 595.501 85.4897 598.079 Q82.9434 600.657 76.2594 600.657 L56.9077 600.657 L56.9077 604.954 L52.3562 604.954 L52.3562 600.657 L42.2347 600.657 L42.2347 594.769 Z\" fill=\"#000000\" fill-rule=\"evenodd\" fill-opacity=\"1\" /><path clip-path=\"url(#clip540)\" d=\"M 0 0 M70.0847 560.362 Q70.0847 567.46 71.7079 570.197 Q73.3312 572.934 77.2461 572.934 Q80.3653 572.934 82.2114 570.897 Q84.0256 568.828 84.0256 565.295 Q84.0256 560.426 80.5881 557.497 Q77.1188 554.537 71.3897 554.537 L70.0847 554.537 L70.0847 560.362 M67.6657 548.681 L88.0042 548.681 L88.0042 554.537 L82.5933 554.537 Q85.8398 556.542 87.3994 559.534 Q88.9272 562.526 88.9272 566.855 Q88.9272 572.329 85.8716 575.576 Q82.7843 578.791 77.6281 578.791 Q71.6125 578.791 68.5569 574.78 Q65.5014 570.738 65.5014 562.749 L65.5014 554.537 L64.9285 554.537 Q60.8862 554.537 58.6901 557.211 Q56.4621 559.853 56.4621 564.659 Q56.4621 567.714 57.1941 570.611 Q57.9262 573.507 59.3903 576.181 L53.9795 576.181 Q52.7381 572.966 52.1334 569.942 Q51.4968 566.919 51.4968 564.054 Q51.4968 556.32 55.5072 552.5 Q59.5176 548.681 67.6657 548.681 Z\" fill=\"#000000\" fill-rule=\"evenodd\" fill-opacity=\"1\" /><circle clip-path=\"url(#clip542)\" cx=\"1080.67\" cy=\"663.098\" r=\"6\" fill=\"#050418\" fill-rule=\"evenodd\" fill-opacity=\"1\" stroke=\"#000000\" stroke-opacity=\"1\" stroke-width=\"3.2\"/>\n",
       "<circle clip-path=\"url(#clip542)\" cx=\"1864.15\" cy=\"1240.01\" r=\"6\" fill=\"#050418\" fill-rule=\"evenodd\" fill-opacity=\"1\" stroke=\"#000000\" stroke-opacity=\"1\" stroke-width=\"3.2\"/>\n",
       "<circle clip-path=\"url(#clip542)\" cx=\"297.188\" cy=\"1384.24\" r=\"43\" fill=\"#ec6726\" fill-rule=\"evenodd\" fill-opacity=\"1\" stroke=\"#000000\" stroke-opacity=\"1\" stroke-width=\"3.2\"/>\n",
       "<circle clip-path=\"url(#clip542)\" cx=\"2059.88\" cy=\"1240.01\" r=\"9\" fill=\"#11092f\" fill-rule=\"evenodd\" fill-opacity=\"1\" stroke=\"#000000\" stroke-opacity=\"1\" stroke-width=\"3.2\"/>\n",
       "<circle clip-path=\"url(#clip542)\" cx=\"688.635\" cy=\"374.642\" r=\"4\" fill=\"#010007\" fill-rule=\"evenodd\" fill-opacity=\"1\" stroke=\"#000000\" stroke-opacity=\"1\" stroke-width=\"3.2\"/>\n",
       "<circle clip-path=\"url(#clip542)\" cx=\"1472.12\" cy=\"1384.24\" r=\"4\" fill=\"#010007\" fill-rule=\"evenodd\" fill-opacity=\"1\" stroke=\"#000000\" stroke-opacity=\"1\" stroke-width=\"3.2\"/>\n",
       "<circle clip-path=\"url(#clip542)\" cx=\"688.635\" cy=\"951.554\" r=\"9\" fill=\"#110930\" fill-rule=\"evenodd\" fill-opacity=\"1\" stroke=\"#000000\" stroke-opacity=\"1\" stroke-width=\"3.2\"/>\n",
       "<circle clip-path=\"url(#clip542)\" cx=\"2059.88\" cy=\"663.098\" r=\"5\" fill=\"#030212\" fill-rule=\"evenodd\" fill-opacity=\"1\" stroke=\"#000000\" stroke-opacity=\"1\" stroke-width=\"3.2\"/>\n",
       "<circle clip-path=\"url(#clip542)\" cx=\"1472.12\" cy=\"1240.01\" r=\"9\" fill=\"#120a33\" fill-rule=\"evenodd\" fill-opacity=\"1\" stroke=\"#000000\" stroke-opacity=\"1\" stroke-width=\"3.2\"/>\n",
       "<circle clip-path=\"url(#clip542)\" cx=\"1080.67\" cy=\"951.554\" r=\"8\" fill=\"#0c0727\" fill-rule=\"evenodd\" fill-opacity=\"1\" stroke=\"#000000\" stroke-opacity=\"1\" stroke-width=\"3.2\"/>\n",
       "<circle clip-path=\"url(#clip542)\" cx=\"1668.43\" cy=\"663.098\" r=\"6\" fill=\"#050418\" fill-rule=\"evenodd\" fill-opacity=\"1\" stroke=\"#000000\" stroke-opacity=\"1\" stroke-width=\"3.2\"/>\n",
       "<circle clip-path=\"url(#clip542)\" cx=\"1472.12\" cy=\"951.554\" r=\"6\" fill=\"#040314\" fill-rule=\"evenodd\" fill-opacity=\"1\" stroke=\"#000000\" stroke-opacity=\"1\" stroke-width=\"3.2\"/>\n",
       "<circle clip-path=\"url(#clip542)\" cx=\"884.947\" cy=\"663.098\" r=\"6\" fill=\"#050418\" fill-rule=\"evenodd\" fill-opacity=\"1\" stroke=\"#000000\" stroke-opacity=\"1\" stroke-width=\"3.2\"/>\n",
       "<circle clip-path=\"url(#clip542)\" cx=\"688.635\" cy=\"663.098\" r=\"6\" fill=\"#050417\" fill-rule=\"evenodd\" fill-opacity=\"1\" stroke=\"#000000\" stroke-opacity=\"1\" stroke-width=\"3.2\"/>\n",
       "<circle clip-path=\"url(#clip542)\" cx=\"1276.39\" cy=\"663.098\" r=\"6\" fill=\"#040315\" fill-rule=\"evenodd\" fill-opacity=\"1\" stroke=\"#000000\" stroke-opacity=\"1\" stroke-width=\"3.2\"/>\n",
       "<circle clip-path=\"url(#clip542)\" cx=\"1668.43\" cy=\"518.87\" r=\"5\" fill=\"#030210\" fill-rule=\"evenodd\" fill-opacity=\"1\" stroke=\"#000000\" stroke-opacity=\"1\" stroke-width=\"3.2\"/>\n",
       "<circle clip-path=\"url(#clip542)\" cx=\"1080.67\" cy=\"1240.01\" r=\"9\" fill=\"#140b36\" fill-rule=\"evenodd\" fill-opacity=\"1\" stroke=\"#000000\" stroke-opacity=\"1\" stroke-width=\"3.2\"/>\n",
       "<circle clip-path=\"url(#clip542)\" cx=\"884.947\" cy=\"807.326\" r=\"7\" fill=\"#090621\" fill-rule=\"evenodd\" fill-opacity=\"1\" stroke=\"#000000\" stroke-opacity=\"1\" stroke-width=\"3.2\"/>\n",
       "<circle clip-path=\"url(#clip542)\" cx=\"688.635\" cy=\"1384.24\" r=\"12\" fill=\"#260b51\" fill-rule=\"evenodd\" fill-opacity=\"1\" stroke=\"#000000\" stroke-opacity=\"1\" stroke-width=\"3.2\"/>\n",
       "<circle clip-path=\"url(#clip542)\" cx=\"884.947\" cy=\"1095.78\" r=\"10\" fill=\"#160b39\" fill-rule=\"evenodd\" fill-opacity=\"1\" stroke=\"#000000\" stroke-opacity=\"1\" stroke-width=\"3.2\"/>\n",
       "<circle clip-path=\"url(#clip542)\" cx=\"492.911\" cy=\"951.554\" r=\"10\" fill=\"#150b37\" fill-rule=\"evenodd\" fill-opacity=\"1\" stroke=\"#000000\" stroke-opacity=\"1\" stroke-width=\"3.2\"/>\n",
       "<circle clip-path=\"url(#clip542)\" cx=\"1276.39\" cy=\"807.326\" r=\"6\" fill=\"#040316\" fill-rule=\"evenodd\" fill-opacity=\"1\" stroke=\"#000000\" stroke-opacity=\"1\" stroke-width=\"3.2\"/>\n",
       "<circle clip-path=\"url(#clip542)\" cx=\"2059.88\" cy=\"1384.24\" r=\"6\" fill=\"#040316\" fill-rule=\"evenodd\" fill-opacity=\"1\" stroke=\"#000000\" stroke-opacity=\"1\" stroke-width=\"3.2\"/>\n",
       "<circle clip-path=\"url(#clip542)\" cx=\"1668.43\" cy=\"951.554\" r=\"6\" fill=\"#040315\" fill-rule=\"evenodd\" fill-opacity=\"1\" stroke=\"#000000\" stroke-opacity=\"1\" stroke-width=\"3.2\"/>\n",
       "<circle clip-path=\"url(#clip542)\" cx=\"1276.39\" cy=\"951.554\" r=\"8\" fill=\"#0b0726\" fill-rule=\"evenodd\" fill-opacity=\"1\" stroke=\"#000000\" stroke-opacity=\"1\" stroke-width=\"3.2\"/>\n",
       "<circle clip-path=\"url(#clip542)\" cx=\"492.911\" cy=\"374.642\" r=\"5\" fill=\"#030312\" fill-rule=\"evenodd\" fill-opacity=\"1\" stroke=\"#000000\" stroke-opacity=\"1\" stroke-width=\"3.2\"/>\n",
       "<circle clip-path=\"url(#clip542)\" cx=\"492.911\" cy=\"518.87\" r=\"5\" fill=\"#030312\" fill-rule=\"evenodd\" fill-opacity=\"1\" stroke=\"#000000\" stroke-opacity=\"1\" stroke-width=\"3.2\"/>\n",
       "<circle clip-path=\"url(#clip542)\" cx=\"492.911\" cy=\"1095.78\" r=\"5\" fill=\"#030312\" fill-rule=\"evenodd\" fill-opacity=\"1\" stroke=\"#000000\" stroke-opacity=\"1\" stroke-width=\"3.2\"/>\n",
       "<circle clip-path=\"url(#clip542)\" cx=\"1080.67\" cy=\"374.642\" r=\"5\" fill=\"#030313\" fill-rule=\"evenodd\" fill-opacity=\"1\" stroke=\"#000000\" stroke-opacity=\"1\" stroke-width=\"3.2\"/>\n",
       "<circle clip-path=\"url(#clip542)\" cx=\"1472.12\" cy=\"374.642\" r=\"5\" fill=\"#040314\" fill-rule=\"evenodd\" fill-opacity=\"1\" stroke=\"#000000\" stroke-opacity=\"1\" stroke-width=\"3.2\"/>\n",
       "<circle clip-path=\"url(#clip542)\" cx=\"1276.39\" cy=\"86.1857\" r=\"37\" fill=\"#cf4445\" fill-rule=\"evenodd\" fill-opacity=\"1\" stroke=\"#000000\" stroke-opacity=\"1\" stroke-width=\"3.2\"/>\n",
       "<circle clip-path=\"url(#clip542)\" cx=\"1472.12\" cy=\"230.414\" r=\"37\" fill=\"#cf4445\" fill-rule=\"evenodd\" fill-opacity=\"1\" stroke=\"#000000\" stroke-opacity=\"1\" stroke-width=\"3.2\"/>\n",
       "<circle clip-path=\"url(#clip542)\" cx=\"884.947\" cy=\"1384.24\" r=\"11\" fill=\"#1e0c46\" fill-rule=\"evenodd\" fill-opacity=\"1\" stroke=\"#000000\" stroke-opacity=\"1\" stroke-width=\"3.2\"/>\n",
       "<circle clip-path=\"url(#clip542)\" cx=\"1276.39\" cy=\"1240.01\" r=\"10\" fill=\"#150b38\" fill-rule=\"evenodd\" fill-opacity=\"1\" stroke=\"#000000\" stroke-opacity=\"1\" stroke-width=\"3.2\"/>\n",
       "<circle clip-path=\"url(#clip542)\" cx=\"297.188\" cy=\"663.098\" r=\"16\" fill=\"#400967\" fill-rule=\"evenodd\" fill-opacity=\"1\" stroke=\"#000000\" stroke-opacity=\"1\" stroke-width=\"3.2\"/>\n",
       "<circle clip-path=\"url(#clip542)\" cx=\"1080.67\" cy=\"518.87\" r=\"6\" fill=\"#050418\" fill-rule=\"evenodd\" fill-opacity=\"1\" stroke=\"#000000\" stroke-opacity=\"1\" stroke-width=\"3.2\"/>\n",
       "<circle clip-path=\"url(#clip542)\" cx=\"688.635\" cy=\"1095.78\" r=\"9\" fill=\"#150b37\" fill-rule=\"evenodd\" fill-opacity=\"1\" stroke=\"#000000\" stroke-opacity=\"1\" stroke-width=\"3.2\"/>\n",
       "<circle clip-path=\"url(#clip542)\" cx=\"492.911\" cy=\"1240.01\" r=\"12\" fill=\"#250b50\" fill-rule=\"evenodd\" fill-opacity=\"1\" stroke=\"#000000\" stroke-opacity=\"1\" stroke-width=\"3.2\"/>\n",
       "<circle clip-path=\"url(#clip542)\" cx=\"1668.43\" cy=\"86.1857\" r=\"61\" fill=\"#fcfea4\" fill-rule=\"evenodd\" fill-opacity=\"1\" stroke=\"#000000\" stroke-opacity=\"1\" stroke-width=\"3.2\"/>\n",
       "<circle clip-path=\"url(#clip542)\" cx=\"2059.88\" cy=\"807.326\" r=\"61\" fill=\"#fcfea4\" fill-rule=\"evenodd\" fill-opacity=\"1\" stroke=\"#000000\" stroke-opacity=\"1\" stroke-width=\"3.2\"/>\n",
       "<circle clip-path=\"url(#clip542)\" cx=\"1668.43\" cy=\"1384.24\" r=\"10\" fill=\"#150b38\" fill-rule=\"evenodd\" fill-opacity=\"1\" stroke=\"#000000\" stroke-opacity=\"1\" stroke-width=\"3.2\"/>\n",
       "<circle clip-path=\"url(#clip542)\" cx=\"1080.67\" cy=\"807.326\" r=\"6\" fill=\"#040315\" fill-rule=\"evenodd\" fill-opacity=\"1\" stroke=\"#000000\" stroke-opacity=\"1\" stroke-width=\"3.2\"/>\n",
       "<circle clip-path=\"url(#clip542)\" cx=\"1080.67\" cy=\"86.1857\" r=\"6\" fill=\"#040315\" fill-rule=\"evenodd\" fill-opacity=\"1\" stroke=\"#000000\" stroke-opacity=\"1\" stroke-width=\"3.2\"/>\n",
       "<circle clip-path=\"url(#clip542)\" cx=\"688.635\" cy=\"86.1857\" r=\"37\" fill=\"#cf4445\" fill-rule=\"evenodd\" fill-opacity=\"1\" stroke=\"#000000\" stroke-opacity=\"1\" stroke-width=\"3.2\"/>\n",
       "<circle clip-path=\"url(#clip542)\" cx=\"688.635\" cy=\"807.326\" r=\"37\" fill=\"#cf4445\" fill-rule=\"evenodd\" fill-opacity=\"1\" stroke=\"#000000\" stroke-opacity=\"1\" stroke-width=\"3.2\"/>\n",
       "<circle clip-path=\"url(#clip542)\" cx=\"884.947\" cy=\"1240.01\" r=\"37\" fill=\"#cf4445\" fill-rule=\"evenodd\" fill-opacity=\"1\" stroke=\"#000000\" stroke-opacity=\"1\" stroke-width=\"3.2\"/>\n",
       "<circle clip-path=\"url(#clip542)\" cx=\"2059.88\" cy=\"951.554\" r=\"37\" fill=\"#cf4445\" fill-rule=\"evenodd\" fill-opacity=\"1\" stroke=\"#000000\" stroke-opacity=\"1\" stroke-width=\"3.2\"/>\n",
       "<circle clip-path=\"url(#clip542)\" cx=\"2059.88\" cy=\"86.1857\" r=\"37\" fill=\"#cf4445\" fill-rule=\"evenodd\" fill-opacity=\"1\" stroke=\"#000000\" stroke-opacity=\"1\" stroke-width=\"3.2\"/>\n",
       "<circle clip-path=\"url(#clip542)\" cx=\"884.947\" cy=\"86.1857\" r=\"19\" fill=\"#540e6d\" fill-rule=\"evenodd\" fill-opacity=\"1\" stroke=\"#000000\" stroke-opacity=\"1\" stroke-width=\"3.2\"/>\n",
       "<circle clip-path=\"url(#clip542)\" cx=\"1668.43\" cy=\"807.326\" r=\"19\" fill=\"#540e6d\" fill-rule=\"evenodd\" fill-opacity=\"1\" stroke=\"#000000\" stroke-opacity=\"1\" stroke-width=\"3.2\"/>\n",
       "<circle clip-path=\"url(#clip542)\" cx=\"1276.39\" cy=\"230.414\" r=\"37\" fill=\"#cf4445\" fill-rule=\"evenodd\" fill-opacity=\"1\" stroke=\"#000000\" stroke-opacity=\"1\" stroke-width=\"3.2\"/>\n",
       "<circle clip-path=\"url(#clip542)\" cx=\"1864.15\" cy=\"807.326\" r=\"37\" fill=\"#cf4445\" fill-rule=\"evenodd\" fill-opacity=\"1\" stroke=\"#000000\" stroke-opacity=\"1\" stroke-width=\"3.2\"/>\n",
       "<circle clip-path=\"url(#clip542)\" cx=\"1276.39\" cy=\"1384.24\" r=\"10\" fill=\"#180b3c\" fill-rule=\"evenodd\" fill-opacity=\"1\" stroke=\"#000000\" stroke-opacity=\"1\" stroke-width=\"3.2\"/>\n",
       "<circle clip-path=\"url(#clip542)\" cx=\"884.947\" cy=\"518.87\" r=\"6\" fill=\"#040314\" fill-rule=\"evenodd\" fill-opacity=\"1\" stroke=\"#000000\" stroke-opacity=\"1\" stroke-width=\"3.2\"/>\n",
       "<circle clip-path=\"url(#clip542)\" cx=\"492.911\" cy=\"663.098\" r=\"8\" fill=\"#0c0828\" fill-rule=\"evenodd\" fill-opacity=\"1\" stroke=\"#000000\" stroke-opacity=\"1\" stroke-width=\"3.2\"/>\n",
       "<circle clip-path=\"url(#clip542)\" cx=\"297.188\" cy=\"1095.78\" r=\"39\" fill=\"#da4e3b\" fill-rule=\"evenodd\" fill-opacity=\"1\" stroke=\"#000000\" stroke-opacity=\"1\" stroke-width=\"3.2\"/>\n",
       "<circle clip-path=\"url(#clip542)\" cx=\"1668.43\" cy=\"1095.78\" r=\"8\" fill=\"#0d0829\" fill-rule=\"evenodd\" fill-opacity=\"1\" stroke=\"#000000\" stroke-opacity=\"1\" stroke-width=\"3.2\"/>\n",
       "<circle clip-path=\"url(#clip542)\" cx=\"1668.43\" cy=\"230.414\" r=\"8\" fill=\"#0d0829\" fill-rule=\"evenodd\" fill-opacity=\"1\" stroke=\"#000000\" stroke-opacity=\"1\" stroke-width=\"3.2\"/>\n",
       "<circle clip-path=\"url(#clip542)\" cx=\"297.188\" cy=\"518.87\" r=\"13\" fill=\"#290b55\" fill-rule=\"evenodd\" fill-opacity=\"1\" stroke=\"#000000\" stroke-opacity=\"1\" stroke-width=\"3.2\"/>\n",
       "<circle clip-path=\"url(#clip542)\" cx=\"492.911\" cy=\"230.414\" r=\"6\" fill=\"#050417\" fill-rule=\"evenodd\" fill-opacity=\"1\" stroke=\"#000000\" stroke-opacity=\"1\" stroke-width=\"3.2\"/>\n",
       "<circle clip-path=\"url(#clip542)\" cx=\"297.188\" cy=\"230.414\" r=\"10\" fill=\"#170b3b\" fill-rule=\"evenodd\" fill-opacity=\"1\" stroke=\"#000000\" stroke-opacity=\"1\" stroke-width=\"3.2\"/>\n",
       "<circle clip-path=\"url(#clip542)\" cx=\"1276.39\" cy=\"518.87\" r=\"4\" fill=\"#000006\" fill-rule=\"evenodd\" fill-opacity=\"1\" stroke=\"#000000\" stroke-opacity=\"1\" stroke-width=\"3.2\"/>\n",
       "<circle clip-path=\"url(#clip542)\" cx=\"1472.12\" cy=\"663.098\" r=\"4\" fill=\"#000006\" fill-rule=\"evenodd\" fill-opacity=\"1\" stroke=\"#000000\" stroke-opacity=\"1\" stroke-width=\"3.2\"/>\n",
       "<circle clip-path=\"url(#clip542)\" cx=\"297.188\" cy=\"374.642\" r=\"29\" fill=\"#942666\" fill-rule=\"evenodd\" fill-opacity=\"1\" stroke=\"#000000\" stroke-opacity=\"1\" stroke-width=\"3.2\"/>\n",
       "<circle clip-path=\"url(#clip542)\" cx=\"1864.15\" cy=\"1384.24\" r=\"9\" fill=\"#130a33\" fill-rule=\"evenodd\" fill-opacity=\"1\" stroke=\"#000000\" stroke-opacity=\"1\" stroke-width=\"3.2\"/>\n",
       "<circle clip-path=\"url(#clip542)\" cx=\"1668.43\" cy=\"374.642\" r=\"4\" fill=\"#000006\" fill-rule=\"evenodd\" fill-opacity=\"1\" stroke=\"#000000\" stroke-opacity=\"1\" stroke-width=\"3.2\"/>\n",
       "<circle clip-path=\"url(#clip542)\" cx=\"1276.39\" cy=\"374.642\" r=\"6\" fill=\"#040316\" fill-rule=\"evenodd\" fill-opacity=\"1\" stroke=\"#000000\" stroke-opacity=\"1\" stroke-width=\"3.2\"/>\n",
       "<circle clip-path=\"url(#clip542)\" cx=\"297.188\" cy=\"951.554\" r=\"36\" fill=\"#c83e4b\" fill-rule=\"evenodd\" fill-opacity=\"1\" stroke=\"#000000\" stroke-opacity=\"1\" stroke-width=\"3.2\"/>\n",
       "<circle clip-path=\"url(#clip542)\" cx=\"2059.88\" cy=\"1095.78\" r=\"8\" fill=\"#0c0726\" fill-rule=\"evenodd\" fill-opacity=\"1\" stroke=\"#000000\" stroke-opacity=\"1\" stroke-width=\"3.2\"/>\n",
       "<circle clip-path=\"url(#clip542)\" cx=\"1668.43\" cy=\"1240.01\" r=\"9\" fill=\"#120a32\" fill-rule=\"evenodd\" fill-opacity=\"1\" stroke=\"#000000\" stroke-opacity=\"1\" stroke-width=\"3.2\"/>\n",
       "<circle clip-path=\"url(#clip542)\" cx=\"2059.88\" cy=\"518.87\" r=\"6\" fill=\"#050417\" fill-rule=\"evenodd\" fill-opacity=\"1\" stroke=\"#000000\" stroke-opacity=\"1\" stroke-width=\"3.2\"/>\n",
       "<circle clip-path=\"url(#clip542)\" cx=\"492.911\" cy=\"1384.24\" r=\"16\" fill=\"#430a68\" fill-rule=\"evenodd\" fill-opacity=\"1\" stroke=\"#000000\" stroke-opacity=\"1\" stroke-width=\"3.2\"/>\n",
       "<circle clip-path=\"url(#clip542)\" cx=\"492.911\" cy=\"86.1857\" r=\"16\" fill=\"#430a68\" fill-rule=\"evenodd\" fill-opacity=\"1\" stroke=\"#000000\" stroke-opacity=\"1\" stroke-width=\"3.2\"/>\n",
       "<circle clip-path=\"url(#clip542)\" cx=\"1864.15\" cy=\"230.414\" r=\"5\" fill=\"#02010d\" fill-rule=\"evenodd\" fill-opacity=\"1\" stroke=\"#000000\" stroke-opacity=\"1\" stroke-width=\"3.2\"/>\n",
       "<circle clip-path=\"url(#clip542)\" cx=\"2059.88\" cy=\"374.642\" r=\"4\" fill=\"#010007\" fill-rule=\"evenodd\" fill-opacity=\"1\" stroke=\"#000000\" stroke-opacity=\"1\" stroke-width=\"3.2\"/>\n",
       "<circle clip-path=\"url(#clip542)\" cx=\"1276.39\" cy=\"1095.78\" r=\"8\" fill=\"#0f092c\" fill-rule=\"evenodd\" fill-opacity=\"1\" stroke=\"#000000\" stroke-opacity=\"1\" stroke-width=\"3.2\"/>\n",
       "<circle clip-path=\"url(#clip542)\" cx=\"1864.15\" cy=\"374.642\" r=\"3\" fill=\"#000003\" fill-rule=\"evenodd\" fill-opacity=\"1\" stroke=\"#000000\" stroke-opacity=\"1\" stroke-width=\"3.2\"/>\n",
       "<circle clip-path=\"url(#clip542)\" cx=\"1864.15\" cy=\"518.87\" r=\"3\" fill=\"#000003\" fill-rule=\"evenodd\" fill-opacity=\"1\" stroke=\"#000000\" stroke-opacity=\"1\" stroke-width=\"3.2\"/>\n",
       "<circle clip-path=\"url(#clip542)\" cx=\"884.947\" cy=\"951.554\" r=\"8\" fill=\"#0e082a\" fill-rule=\"evenodd\" fill-opacity=\"1\" stroke=\"#000000\" stroke-opacity=\"1\" stroke-width=\"3.2\"/>\n",
       "<circle clip-path=\"url(#clip542)\" cx=\"688.635\" cy=\"1240.01\" r=\"10\" fill=\"#1a0b40\" fill-rule=\"evenodd\" fill-opacity=\"1\" stroke=\"#000000\" stroke-opacity=\"1\" stroke-width=\"3.2\"/>\n",
       "<circle clip-path=\"url(#clip542)\" cx=\"1080.67\" cy=\"1095.78\" r=\"9\" fill=\"#120a32\" fill-rule=\"evenodd\" fill-opacity=\"1\" stroke=\"#000000\" stroke-opacity=\"1\" stroke-width=\"3.2\"/>\n",
       "<circle clip-path=\"url(#clip542)\" cx=\"2059.88\" cy=\"230.414\" r=\"4\" fill=\"#01010a\" fill-rule=\"evenodd\" fill-opacity=\"1\" stroke=\"#000000\" stroke-opacity=\"1\" stroke-width=\"3.2\"/>\n",
       "<circle clip-path=\"url(#clip542)\" cx=\"1472.12\" cy=\"1095.78\" r=\"8\" fill=\"#0e082b\" fill-rule=\"evenodd\" fill-opacity=\"1\" stroke=\"#000000\" stroke-opacity=\"1\" stroke-width=\"3.2\"/>\n",
       "<circle clip-path=\"url(#clip542)\" cx=\"688.635\" cy=\"518.87\" r=\"6\" fill=\"#050419\" fill-rule=\"evenodd\" fill-opacity=\"1\" stroke=\"#000000\" stroke-opacity=\"1\" stroke-width=\"3.2\"/>\n",
       "<circle clip-path=\"url(#clip542)\" cx=\"1864.15\" cy=\"951.554\" r=\"6\" fill=\"#050418\" fill-rule=\"evenodd\" fill-opacity=\"1\" stroke=\"#000000\" stroke-opacity=\"1\" stroke-width=\"3.2\"/>\n",
       "<circle clip-path=\"url(#clip542)\" cx=\"1472.12\" cy=\"86.1857\" r=\"37\" fill=\"#cf4445\" fill-rule=\"evenodd\" fill-opacity=\"1\" stroke=\"#000000\" stroke-opacity=\"1\" stroke-width=\"3.2\"/>\n",
       "<circle clip-path=\"url(#clip542)\" cx=\"1472.12\" cy=\"518.87\" r=\"37\" fill=\"#cf4445\" fill-rule=\"evenodd\" fill-opacity=\"1\" stroke=\"#000000\" stroke-opacity=\"1\" stroke-width=\"3.2\"/>\n",
       "<circle clip-path=\"url(#clip542)\" cx=\"297.188\" cy=\"807.326\" r=\"26\" fill=\"#821f6b\" fill-rule=\"evenodd\" fill-opacity=\"1\" stroke=\"#000000\" stroke-opacity=\"1\" stroke-width=\"3.2\"/>\n",
       "<circle clip-path=\"url(#clip542)\" cx=\"688.635\" cy=\"230.414\" r=\"6\" fill=\"#040316\" fill-rule=\"evenodd\" fill-opacity=\"1\" stroke=\"#000000\" stroke-opacity=\"1\" stroke-width=\"3.2\"/>\n",
       "<circle clip-path=\"url(#clip542)\" cx=\"1080.67\" cy=\"230.414\" r=\"6\" fill=\"#050417\" fill-rule=\"evenodd\" fill-opacity=\"1\" stroke=\"#000000\" stroke-opacity=\"1\" stroke-width=\"3.2\"/>\n",
       "<circle clip-path=\"url(#clip542)\" cx=\"1864.15\" cy=\"1095.78\" r=\"6\" fill=\"#050316\" fill-rule=\"evenodd\" fill-opacity=\"1\" stroke=\"#000000\" stroke-opacity=\"1\" stroke-width=\"3.2\"/>\n",
       "<circle clip-path=\"url(#clip542)\" cx=\"1080.67\" cy=\"1384.24\" r=\"10\" fill=\"#1a0b40\" fill-rule=\"evenodd\" fill-opacity=\"1\" stroke=\"#000000\" stroke-opacity=\"1\" stroke-width=\"3.2\"/>\n",
       "<circle clip-path=\"url(#clip542)\" cx=\"492.911\" cy=\"807.326\" r=\"9\" fill=\"#110930\" fill-rule=\"evenodd\" fill-opacity=\"1\" stroke=\"#000000\" stroke-opacity=\"1\" stroke-width=\"3.2\"/>\n",
       "<circle clip-path=\"url(#clip542)\" cx=\"1864.15\" cy=\"86.1857\" r=\"7\" fill=\"#08051e\" fill-rule=\"evenodd\" fill-opacity=\"1\" stroke=\"#000000\" stroke-opacity=\"1\" stroke-width=\"3.2\"/>\n",
       "<circle clip-path=\"url(#clip542)\" cx=\"884.947\" cy=\"230.414\" r=\"37\" fill=\"#cf4445\" fill-rule=\"evenodd\" fill-opacity=\"1\" stroke=\"#000000\" stroke-opacity=\"1\" stroke-width=\"3.2\"/>\n",
       "<circle clip-path=\"url(#clip542)\" cx=\"1472.12\" cy=\"807.326\" r=\"37\" fill=\"#cf4445\" fill-rule=\"evenodd\" fill-opacity=\"1\" stroke=\"#000000\" stroke-opacity=\"1\" stroke-width=\"3.2\"/>\n",
       "<circle clip-path=\"url(#clip542)\" cx=\"297.188\" cy=\"1240.01\" r=\"48\" fill=\"#f88a0b\" fill-rule=\"evenodd\" fill-opacity=\"1\" stroke=\"#000000\" stroke-opacity=\"1\" stroke-width=\"3.2\"/>\n",
       "<circle clip-path=\"url(#clip542)\" cx=\"884.947\" cy=\"374.642\" r=\"4\" fill=\"#01010b\" fill-rule=\"evenodd\" fill-opacity=\"1\" stroke=\"#000000\" stroke-opacity=\"1\" stroke-width=\"3.2\"/>\n",
       "<circle clip-path=\"url(#clip542)\" cx=\"297.188\" cy=\"86.1857\" r=\"37\" fill=\"#cf4445\" fill-rule=\"evenodd\" fill-opacity=\"1\" stroke=\"#000000\" stroke-opacity=\"1\" stroke-width=\"3.2\"/>\n",
       "<circle clip-path=\"url(#clip542)\" cx=\"1864.15\" cy=\"663.098\" r=\"37\" fill=\"#cf4445\" fill-rule=\"evenodd\" fill-opacity=\"1\" stroke=\"#000000\" stroke-opacity=\"1\" stroke-width=\"3.2\"/>\n",
       "<defs>\n",
       "  <clipPath id=\"clip543\">\n",
       "    <rect x=\"2160\" y=\"47\" width=\"73\" height=\"1377\"/>\n",
       "  </clipPath>\n",
       "</defs>\n",
       "<g clip-path=\"url(#clip543)\">\n",
       "<image width=\"72\" height=\"1376\" xlink:href=\"data:image/png;base64,\n",
       "iVBORw0KGgoAAAANSUhEUgAAAEgAAAVgCAYAAADsKhu7AAAL6UlEQVR4nO3dwZEjNxBFQVBR/lsh\n",
       "L6UFZIHqHclDpgUTL35wCXTP7Off+/c7/K+/vv0D/DqBgkBBoCBQmPv+/fbP8NMsKAgUBAoChXnv\n",
       "z7d/hp9mQUGgIFAQKAgUHDWCBQWBgkBBoDDPh/TKgoJAQaAgUJh3fUhvLCgIFAQKAgWBgqNGsKAg\n",
       "UBAoCBR8SAcLCgIFgYJAwX1QsKAgUBAoCBQECnMcNVYWFAQKAgWBgvugYEFBoCBQECgIFOa4MFtZ\n",
       "UBAoCBQECnPuP9/+GX6aBQWBgkBBoODSPlhQECgIFAQKAgX3QcGCgkBBoCBQ8CEdLCgIFAQKAgX3\n",
       "QcGCgkBBoCBQECjMx1FjZUFBoCBQECjMuf5XhI0FBYGCQEGgIFBw1AgWFAQKAgWBgqNGsKAgUBAo\n",
       "CBS8HxQsKAgUBAoCBYHCfBw1VhYUBAoCBYGCt1yDBQWBgkBBoOCbdLCgIFAQKAgUBAoePQcLCgIF\n",
       "gYJAwVEjWFAQKAgUBAoCBUeNYEFBoCBQECg4agQLCgIFgYJAYc693/4ZfpoFBYGCQEGgIFBw1AgW\n",
       "FAQKAgWBgkv7YEFBoCBQECj4kA4WFAQKAgWBgkBhPp5qrCwoCBQECgIFR41gQUGgIFAQKAgUvEAV\n",
       "LCgIFAQKAgX3QcGCgkBBoCBQcB8ULCgIFAQKAgWBgvugYEFBoCBQECj4kA4WFAQKAgWBgl/qDRYU\n",
       "BAoCBYGCQMFRI1hQECgIFAQKPqSDBQWBgkBBoCBQ8K9YsKAgUBAoCBR8SAcLCgIFgYJAYc7zIb2x\n",
       "oCBQECgIFAQKjhrBgoJAQaAgUPAhHSwoCBQECgIFH9LBgoJAQaAgUBAozLnv2z/DT7OgIFAQKAgU\n",
       "HDWCBQWBgkBBoCBQcNQIFhQECgIFgYKjRrCgIFAQKAgUfJMOFhQECgIFgYJAYY6TxsqCgkBBoCBQ\n",
       "mPMcNTYWFAQKAgWBgm/SwYKCQEGgIFAQKPhXLFhQECgIFAQK44/g7SwoCBQECgIFgYKjRrCgIFAQ\n",
       "KAgUfEgHCwoCBYGCQGHO/Xz7Z/hpFhQECgIFgYJAYd7zr9jGgoJAQaAgUHAfFCwoCBQECgIF90HB\n",
       "goJAQaAgUBAozLsabdQJAgWBgkDBUSNYUBAoCBQECgKFOR49rywoCBQECgKFeY4aKwsKAgWBgkBh\n",
       "jkv7lTpBoCBQECgIFBw1ggUFgYJAQaDg0j5YUBAoCBQECl7iDOoEgYJAQaAgUPCWa7CgIFAQKAgU\n",
       "XNoHCwoCBYGCQEGgMO9ptFEnCBQECgIF90HBgoJAQaAgUHAfFCwoCBQECgIFgcIc90ErdYJAQaAg\n",
       "UHDUCBYUBAoCBYGCD+lgQUGgIFAQKAgU/NZzsKAgUBAoCBT81nNQJwgUBAoCBYHCPEeNlQUFgYJA\n",
       "QaDgqUawoCBQECgIFPyvCEGdIFAQKAgUBArug4IFBYGCQEGg4D4oWFAQKAgUBAq+SQcLCgIFgYJA\n",
       "QaDgLdegThAoCBQECo4awYKCQEGgIFAQKHiqESwoCBQECgIFR41gQUGgIFAQKPiva4IFBYGCQEGg\n",
       "IFDwv2QGdYJAQaAgUHAfFCwoCBQECgIFT1aDBQWBgkBBoCBQcNQIFhQECgIFgcJcH9IrCwoCBYGC\n",
       "QEGg4LeegzpBoCBQECi4DwoWFAQKAgWBgg/pYEFBoCBQECgIFLxAFSwoCBQECgIFR41gQUGgIFAQ\n",
       "KPiQDhYUBAoCBYGCQMGfpgjqBIGCQEGgMNel/cqCgkBBoCBQECi4MAsWFAQKAgWBgg/pYEFBoCBQ\n",
       "ECj4kA4WFAQKAgWBgkDBH1gKFhQECgIFgYKjRrCgIFAQKAgUfEgHCwoCBYGCQEGg4FcRgjpBoCBQ\n",
       "ECj4VYRgQUGgIFAQKAgUXJgFCwoCBYGCQMGHdLCgIFAQKAgUvMQZLCgIFAQKAgWBgqNGsKAgUBAo\n",
       "CBTmHR/SGwsKAgWBgkDBfVCwoCBQECgIFAQK7oOCBQWBgkBBoOCoESwoCBQECgIFgYKjRrCgIFAQ\n",
       "KAgUHDWCBQWBgkBBoOCbdLCgIFAQKAgUBAr+FQsWFAQKAgWBwly/irCyoCBQECgIFHyTDhYUBAoC\n",
       "BYGCQMGj52BBQaAgUBAozHvf/hF+mwUFgYJAQaAgUHDUCBYUBAoCBYGCv4IXLCgIFAQKAgXfpIMF\n",
       "BYGCQEGgIFDwAlWwoCBQECgIFPwqQrCgIFAQKAgUvB8ULCgIFAQKAgWBgqcawYKCQEGgIFBwaR8s\n",
       "KAgUBAoCBYGCpxrBgoJAQaAgUHAfFCwoCBQECgIFj56DBQWBgkBBoCBQcB8ULCgIFAQKAgWPnoMF\n",
       "BYGCQEGgMPfbP8GPs6AgUBAoCBQECo4awYKCQEGgIFDwflCwoCBQECgIFAQKLsyCBQWBgkBBoOA+\n",
       "KFhQECgIFAQKvkkHCwoCBYGCQEGg4KgRLCgIFAQKAgWPnoMFBYGCQEGgMP4yxc6CgkBBoCBQECg4\n",
       "agQLCgIFgYJAwaPnYEFBoCBQECgIFDx6DhYUBAoCBYGCo0awoCBQECgIFHyTDhYUBAoCBYGCQGGu\n",
       "N6hWFhQECgIFgYL7oGBBQaAgUBAouA8KFhQECgIFgYJAwVEjWFAQKAgUBArzXNqvLCgIFAQKAgWB\n",
       "wtzjwmxjQUGgIFAQKHg/KFhQECgIFAQK/gpesKAgUBAoCBQECv4KXrCgIFAQKAgUPHoOFhQECgIF\n",
       "gYKXOIMFBYGCQEGgIFDwC3XBgoJAQaAgUHDUCBYUBAoCBYGCQMFbrsGCgkBBoCBQ8JZrsKAgUBAo\n",
       "CBR8kw4WFAQKAgWBgkDBW67BgoJAQaAgUPD3g4IFBYGCQEGg4D4oWFAQKAgUBAoCBY+egwUFgYJA\n",
       "QaDgqBEsKAgUBAoCBYGCo0awoCBQECgIFBw1ggUFgYJAQaDgQzpYUBAoCBQECgIF90HBgoJAQaAg\n",
       "UHDUCBYUBAoCBYGCb9LBgoJAQaAgUBAoOGoECwoCBYGCQMHfDwoWFAQKAgWBgkDB/+0TLCgIFAQK\n",
       "AgX3QcGCgkBBoCBQmHd8Sm8sKAgUBAoCBYGCo0awoCBQECgIFDx6DhYUBAoCBYGCJ6vBgoJAQaAg\n",
       "UBAouA8KFhQECgIFgYJHz8GCgkBBoCBQECg4agQLCgIFgYJAwR9YChYUBAoCBYHCXC8IrSwoCBQE\n",
       "CgIFgYIXqIIFBYGCQEGgMM9RY2VBQaAgUBAo+CYdLCgIFAQKAgWBgqcawYKCQEGgIFDwflCwoCBQ\n",
       "ECgIFAQKc/1C3cqCgkBBoCBQcB8ULCgIFAQKAgV/miJYUBAoCBQECgIFL1AFCwoCBYGCQMGlfbCg\n",
       "IFAQKAgU3AcFCwoCBYGCQEGgMPe4EdpYUBAoCBQECu6DggUFgYJAQaAgUPCvWLCgIFAQKAgUPNUI\n",
       "FhQECgIFgYJL+2BBQaAgUBAoCBTmfhw1NhYUBAoCBYGCo0awoCBQECgIFOb5kF5ZUBAoCBQECgIF\n",
       "R41gQUGgIFAQKMz9+JDeWFAQKAgUBAoCBUeNYEFBoCBQECh4qhEsKAgUBAoCBd+kgwUFgYJAQaAg\n",
       "UPCvWLCgIFAQKAgUPHoOFhQECgIFgcK88+fbP8NPs6AgUBAoCBQECu6DggUFgYJAQaDg/aBgQUGg\n",
       "IFAQKAgU5j4XZhsLCgIFgYJAwVEjWFAQKAgUBApzPXpeWVAQKAgUBAoCBUeNYEFBoCBQECg4agQL\n",
       "CgIFgYJAYd7zTXpjQUGgIFAQKAgU3AcFCwoCBYGCQMFLnMGCgkBBoCBQECg4agQLCgIFgYJAYZ6j\n",
       "xsqCgkBBoCBQ8E06WFAQKAgUBAoChbleoFpZUBAoCBQECv7gdrCgIFAQKAgU/CpCsKAgUBAoCBQE\n",
       "Cp5qBAsKAgWBgkDBUSNYUBAoCBQECgIF/4oFCwoCBYGCQMGj52BBQaAgUBAo+CYdLCgIFAQKAgWB\n",
       "whyPnlcWFAQKAgWBgqNGsKAgUBAoCBS8xBksKAgUBAoCBYHCHEeNlQUFgYJAQaDg/aBgQUGgIFAQ\n",
       "KAgUPHoOFhQECgIFgYL7oGBBQaAgUBAozDvv2z/DT7OgIFAQKAgUBArug4IFBYGCQEGgMMdRY2VB\n",
       "QaAgUBAo/AdhU+3PqlcPeQAAAABJRU5ErkJggg==\n",
       "\" transform=\"translate(2161, 47)\"/>\n",
       "</g>\n",
       "<path clip-path=\"url(#clip540)\" d=\"M 0 0 M2280.7 1187.28 Q2277.09 1187.28 2275.26 1190.85 Q2273.45 1194.39 2273.45 1201.52 Q2273.45 1208.63 2275.26 1212.19 Q2277.09 1215.73 2280.7 1215.73 Q2284.33 1215.73 2286.14 1212.19 Q2287.97 1208.63 2287.97 1201.52 Q2287.97 1194.39 2286.14 1190.85 Q2284.33 1187.28 2280.7 1187.28 M2280.7 1183.58 Q2286.51 1183.58 2289.57 1188.19 Q2292.64 1192.77 2292.64 1201.52 Q2292.64 1210.25 2289.57 1214.85 Q2286.51 1219.44 2280.7 1219.44 Q2274.89 1219.44 2271.81 1214.85 Q2268.76 1210.25 2268.76 1201.52 Q2268.76 1192.77 2271.81 1188.19 Q2274.89 1183.58 2280.7 1183.58 Z\" fill=\"#000000\" fill-rule=\"evenodd\" fill-opacity=\"1\" /><path clip-path=\"url(#clip540)\" d=\"M 0 0 M2297.71 1212.89 L2302.6 1212.89 L2302.6 1218.77 L2297.71 1218.77 L2297.71 1212.89 Z\" fill=\"#000000\" fill-rule=\"evenodd\" fill-opacity=\"1\" /><path clip-path=\"url(#clip540)\" d=\"M 0 0 M2306.49 1184.21 L2328.71 1184.21 L2328.71 1186.2 L2316.16 1218.77 L2311.28 1218.77 L2323.08 1188.14 L2306.49 1188.14 L2306.49 1184.21 Z\" fill=\"#000000\" fill-rule=\"evenodd\" fill-opacity=\"1\" /><path clip-path=\"url(#clip540)\" d=\"M 0 0 M2280.7 940.806 Q2277.09 940.806 2275.26 944.371 Q2273.45 947.912 2273.45 955.042 Q2273.45 962.148 2275.26 965.713 Q2277.09 969.255 2280.7 969.255 Q2284.33 969.255 2286.14 965.713 Q2287.97 962.148 2287.97 955.042 Q2287.97 947.912 2286.14 944.371 Q2284.33 940.806 2280.7 940.806 M2280.7 937.102 Q2286.51 937.102 2289.57 941.709 Q2292.64 946.292 2292.64 955.042 Q2292.64 963.769 2289.57 968.375 Q2286.51 972.959 2280.7 972.959 Q2274.89 972.959 2271.81 968.375 Q2268.76 963.769 2268.76 955.042 Q2268.76 946.292 2271.81 941.709 Q2274.89 937.102 2280.7 937.102 Z\" fill=\"#000000\" fill-rule=\"evenodd\" fill-opacity=\"1\" /><path clip-path=\"url(#clip540)\" d=\"M 0 0 M2297.71 966.408 L2302.6 966.408 L2302.6 972.287 L2297.71 972.287 L2297.71 966.408 Z\" fill=\"#000000\" fill-rule=\"evenodd\" fill-opacity=\"1\" /><path clip-path=\"url(#clip540)\" d=\"M 0 0 M2317.67 955.875 Q2314.33 955.875 2312.41 957.658 Q2310.51 959.44 2310.51 962.565 Q2310.51 965.69 2312.41 967.473 Q2314.33 969.255 2317.67 969.255 Q2321 969.255 2322.92 967.473 Q2324.84 965.667 2324.84 962.565 Q2324.84 959.44 2322.92 957.658 Q2321.02 955.875 2317.67 955.875 M2312.99 953.885 Q2309.98 953.144 2308.29 951.084 Q2306.63 949.024 2306.63 946.061 Q2306.63 941.917 2309.57 939.51 Q2312.53 937.102 2317.67 937.102 Q2322.83 937.102 2325.77 939.51 Q2328.71 941.917 2328.71 946.061 Q2328.71 949.024 2327.02 951.084 Q2325.35 953.144 2322.37 953.885 Q2325.75 954.672 2327.62 956.963 Q2329.52 959.255 2329.52 962.565 Q2329.52 967.588 2326.44 970.273 Q2323.39 972.959 2317.67 972.959 Q2311.95 972.959 2308.87 970.273 Q2305.82 967.588 2305.82 962.565 Q2305.82 959.255 2307.71 956.963 Q2309.61 954.672 2312.99 953.885 M2311.28 946.5 Q2311.28 949.186 2312.95 950.69 Q2314.64 952.195 2317.67 952.195 Q2320.68 952.195 2322.37 950.69 Q2324.08 949.186 2324.08 946.5 Q2324.08 943.815 2322.37 942.311 Q2320.68 940.806 2317.67 940.806 Q2314.64 940.806 2312.95 942.311 Q2311.28 943.815 2311.28 946.5 Z\" fill=\"#000000\" fill-rule=\"evenodd\" fill-opacity=\"1\" /><path clip-path=\"url(#clip540)\" d=\"M 0 0 M2280.7 694.327 Q2277.09 694.327 2275.26 697.892 Q2273.45 701.434 2273.45 708.563 Q2273.45 715.67 2275.26 719.235 Q2277.09 722.776 2280.7 722.776 Q2284.33 722.776 2286.14 719.235 Q2287.97 715.67 2287.97 708.563 Q2287.97 701.434 2286.14 697.892 Q2284.33 694.327 2280.7 694.327 M2280.7 690.624 Q2286.51 690.624 2289.57 695.23 Q2292.64 699.814 2292.64 708.563 Q2292.64 717.29 2289.57 721.897 Q2286.51 726.48 2280.7 726.48 Q2274.89 726.48 2271.81 721.897 Q2268.76 717.29 2268.76 708.563 Q2268.76 699.814 2271.81 695.23 Q2274.89 690.624 2280.7 690.624 Z\" fill=\"#000000\" fill-rule=\"evenodd\" fill-opacity=\"1\" /><path clip-path=\"url(#clip540)\" d=\"M 0 0 M2297.71 719.929 L2302.6 719.929 L2302.6 725.809 L2297.71 725.809 L2297.71 719.929 Z\" fill=\"#000000\" fill-rule=\"evenodd\" fill-opacity=\"1\" /><path clip-path=\"url(#clip540)\" d=\"M 0 0 M2307.81 725.091 L2307.81 720.832 Q2309.57 721.665 2311.37 722.105 Q2313.18 722.545 2314.91 722.545 Q2319.54 722.545 2321.97 719.443 Q2324.43 716.318 2324.77 709.976 Q2323.43 711.966 2321.37 713.031 Q2319.31 714.096 2316.81 714.096 Q2311.63 714.096 2308.59 710.971 Q2305.58 707.823 2305.58 702.383 Q2305.58 697.059 2308.73 693.841 Q2311.88 690.624 2317.11 690.624 Q2323.11 690.624 2326.26 695.23 Q2329.43 699.814 2329.43 708.563 Q2329.43 716.735 2325.54 721.619 Q2321.67 726.48 2315.12 726.48 Q2313.36 726.48 2311.56 726.133 Q2309.75 725.786 2307.81 725.091 M2317.11 710.438 Q2320.26 710.438 2322.09 708.286 Q2323.94 706.133 2323.94 702.383 Q2323.94 698.656 2322.09 696.503 Q2320.26 694.327 2317.11 694.327 Q2313.96 694.327 2312.11 696.503 Q2310.28 698.656 2310.28 702.383 Q2310.28 706.133 2312.11 708.286 Q2313.96 710.438 2317.11 710.438 Z\" fill=\"#000000\" fill-rule=\"evenodd\" fill-opacity=\"1\" /><path clip-path=\"url(#clip540)\" d=\"M 0 0 M2269.43 475.395 L2277.07 475.395 L2277.07 449.029 L2268.76 450.696 L2268.76 446.437 L2277.02 444.77 L2281.7 444.77 L2281.7 475.395 L2289.33 475.395 L2289.33 479.33 L2269.43 479.33 L2269.43 475.395 Z\" fill=\"#000000\" fill-rule=\"evenodd\" fill-opacity=\"1\" /><path clip-path=\"url(#clip540)\" d=\"M 0 0 M2294.4 473.451 L2299.29 473.451 L2299.29 479.33 L2294.4 479.33 L2294.4 473.451 Z\" fill=\"#000000\" fill-rule=\"evenodd\" fill-opacity=\"1\" /><path clip-path=\"url(#clip540)\" d=\"M 0 0 M2314.36 447.849 Q2310.75 447.849 2308.92 451.414 Q2307.11 454.955 2307.11 462.085 Q2307.11 469.191 2308.92 472.756 Q2310.75 476.298 2314.36 476.298 Q2317.99 476.298 2319.8 472.756 Q2321.63 469.191 2321.63 462.085 Q2321.63 454.955 2319.8 451.414 Q2317.99 447.849 2314.36 447.849 M2314.36 444.145 Q2320.17 444.145 2323.22 448.752 Q2326.3 453.335 2326.3 462.085 Q2326.3 470.812 2323.22 475.418 Q2320.17 480.001 2314.36 480.001 Q2308.55 480.001 2305.47 475.418 Q2302.41 470.812 2302.41 462.085 Q2302.41 453.335 2305.47 448.752 Q2308.55 444.145 2314.36 444.145 Z\" fill=\"#000000\" fill-rule=\"evenodd\" fill-opacity=\"1\" /><path clip-path=\"url(#clip540)\" d=\"M 0 0 M2269.43 228.916 L2277.07 228.916 L2277.07 202.551 L2268.76 204.218 L2268.76 199.958 L2277.02 198.292 L2281.7 198.292 L2281.7 228.916 L2289.33 228.916 L2289.33 232.852 L2269.43 232.852 L2269.43 228.916 Z\" fill=\"#000000\" fill-rule=\"evenodd\" fill-opacity=\"1\" /><path clip-path=\"url(#clip540)\" d=\"M 0 0 M2294.4 226.972 L2299.29 226.972 L2299.29 232.852 L2294.4 232.852 L2294.4 226.972 Z\" fill=\"#000000\" fill-rule=\"evenodd\" fill-opacity=\"1\" /><path clip-path=\"url(#clip540)\" d=\"M 0 0 M2305.17 228.916 L2312.81 228.916 L2312.81 202.551 L2304.5 204.218 L2304.5 199.958 L2312.76 198.292 L2317.44 198.292 L2317.44 228.916 L2325.08 228.916 L2325.08 232.852 L2305.17 232.852 L2305.17 228.916 Z\" fill=\"#000000\" fill-rule=\"evenodd\" fill-opacity=\"1\" /><polyline clip-path=\"url(#clip540)\" style=\"stroke:#000000; stroke-width:4; stroke-opacity:1; fill:none\" points=\"\n",
       "  2232.76,1423.18 2232.76,1205.11 2256.76,1205.11 2232.76,1205.11 2232.76,958.636 2256.76,958.636 2232.76,958.636 2232.76,712.158 2256.76,712.158 2232.76,712.158 \n",
       "  2232.76,465.679 2256.76,465.679 2232.76,465.679 2232.76,219.2 2256.76,219.2 2232.76,219.2 2232.76,47.2441 \n",
       "  \"/>\n",
       "</svg>\n"
      ]
     },
     "execution_count": 52,
     "metadata": {},
     "output_type": "execute_result"
    }
   ],
   "source": [
    "plot(self_tuning_nn)"
   ]
  },
  {
   "cell_type": "code",
   "execution_count": 53,
   "metadata": {},
   "outputs": [],
   "source": [
    "fn = \"Figures/NN_MCC_LR\"\n",
    "png(replace(fn,'.' => ','))"
   ]
  },
  {
   "cell_type": "code",
   "execution_count": 54,
   "metadata": {},
   "outputs": [
    {
     "data": {
      "text/plain": [
       "(best_model = \u001b[34mNeuralNetworkClassifier{CustomNN,…} @476\u001b[39m,\n",
       " best_fitted_params = (chain = Chain(Chain(Dense(4, 123, σ), Dense(123, 3, σ)), softmax),),)"
      ]
     },
     "execution_count": 54,
     "metadata": {},
     "output_type": "execute_result"
    }
   ],
   "source": [
    "best = fitted_params(self_tuning_nn)\n",
    "best"
   ]
  },
  {
   "cell_type": "code",
   "execution_count": 55,
   "metadata": {},
   "outputs": [
    {
     "data": {
      "text/plain": [
       "NeuralNetworkClassifier(\n",
       "    builder = CustomNN(\n",
       "            n1 = 123),\n",
       "    finaliser = NNlib.softmax,\n",
       "    optimiser = ADAM(0.021544346900318832, (0.9, 0.999), IdDict{Any,Any}()),\n",
       "    loss = Flux.crossentropy,\n",
       "    epochs = 2668,\n",
       "    batch_size = 32,\n",
       "    lambda = 0.01,\n",
       "    alpha = 0.0,\n",
       "    optimiser_changes_trigger_retraining = false)\u001b[34m @476\u001b[39m"
      ]
     },
     "execution_count": 55,
     "metadata": {},
     "output_type": "execute_result"
    }
   ],
   "source": [
    "best.best_model"
   ]
  },
  {
   "cell_type": "code",
   "execution_count": 56,
   "metadata": {
    "scrolled": true
   },
   "outputs": [
    {
     "data": {
      "text/plain": [
       "0.61152774f0"
      ]
     },
     "execution_count": 56,
     "metadata": {},
     "output_type": "execute_result"
    }
   ],
   "source": [
    "best_loss = z.report.best_result.measurement[1]"
   ]
  },
  {
   "cell_type": "code",
   "execution_count": 57,
   "metadata": {},
   "outputs": [
    {
     "data": {
      "text/plain": [
       "0.02154"
      ]
     },
     "execution_count": 57,
     "metadata": {},
     "output_type": "execute_result"
    }
   ],
   "source": [
    "best_eta = round(best.best_model.optimiser.eta, digits=5)"
   ]
  },
  {
   "cell_type": "code",
   "execution_count": 58,
   "metadata": {},
   "outputs": [
    {
     "data": {
      "text/plain": [
       "2668"
      ]
     },
     "execution_count": 58,
     "metadata": {},
     "output_type": "execute_result"
    }
   ],
   "source": [
    "best_epochs = best.best_model.epochs"
   ]
  },
  {
   "cell_type": "markdown",
   "metadata": {},
   "source": [
    "### GridSearch for Regularization"
   ]
  },
  {
   "cell_type": "code",
   "execution_count": 59,
   "metadata": {
    "scrolled": true
   },
   "outputs": [
    {
     "data": {
      "text/plain": [
       "NeuralNetworkClassifier(\n",
       "    builder = CustomNN(\n",
       "            n1 = 123),\n",
       "    finaliser = NNlib.softmax,\n",
       "    optimiser = ADAM(0.001, (0.9, 0.999), IdDict{Any,Any}()),\n",
       "    loss = Flux.crossentropy,\n",
       "    epochs = 10,\n",
       "    batch_size = 1,\n",
       "    lambda = 0.0,\n",
       "    alpha = 0.0,\n",
       "    optimiser_changes_trigger_retraining = false)\u001b[34m @271\u001b[39m"
      ]
     },
     "execution_count": 59,
     "metadata": {},
     "output_type": "execute_result"
    }
   ],
   "source": [
    "nn = NeuralNetworkClassifier(builder=CustomNN(best_n1))"
   ]
  },
  {
   "cell_type": "code",
   "execution_count": 60,
   "metadata": {},
   "outputs": [
    {
     "data": {
      "text/plain": [
       "0.01"
      ]
     },
     "execution_count": 60,
     "metadata": {},
     "output_type": "execute_result"
    }
   ],
   "source": [
    "nn.optimiser.eta = best_eta\n",
    "nn.epochs = 60\n",
    "nn.batch_size = batch_sz\n",
    "nn.lambda = 0.01"
   ]
  },
  {
   "cell_type": "code",
   "execution_count": 61,
   "metadata": {},
   "outputs": [
    {
     "data": {
      "text/plain": [
       "\u001b[34mMachine{NeuralNetworkClassifier{CustomNN,…}} @874\u001b[39m trained 0 times.\n",
       "  args: \n",
       "    1:\t\u001b[34mSource @462\u001b[39m ⏎ `Table{AbstractArray{Continuous,1}}`\n",
       "    2:\t\u001b[34mSource @304\u001b[39m ⏎ `AbstractArray{Multiclass{3},1}`\n"
      ]
     },
     "execution_count": 61,
     "metadata": {},
     "output_type": "execute_result"
    }
   ],
   "source": [
    "Net = machine(nn, X, y)"
   ]
  },
  {
   "cell_type": "code",
   "execution_count": 62,
   "metadata": {},
   "outputs": [
    {
     "data": {
      "text/plain": [
       "MLJBase.NumericRange(Float64, :lambda, ... )"
      ]
     },
     "execution_count": 62,
     "metadata": {},
     "output_type": "execute_result"
    }
   ],
   "source": [
    "param1 = :epochs\n",
    "param2 = :lambda\n",
    "\n",
    "r1 = range(nn, param1, lower=100, upper=max_epochs, scale=:linear)\n",
    "r2 = range(nn, param2, lower=0.0001, upper=1, scale=:log10)"
   ]
  },
  {
   "cell_type": "code",
   "execution_count": 63,
   "metadata": {
    "scrolled": true
   },
   "outputs": [
    {
     "data": {
      "text/plain": [
       "ProbabilisticTunedModel(\n",
       "    model = NeuralNetworkClassifier(\n",
       "            builder = \u001b[34mCustomNN @930\u001b[39m,\n",
       "            finaliser = NNlib.softmax,\n",
       "            optimiser = ADAM(0.02154, (0.9, 0.999), IdDict{Any,Any}()),\n",
       "            loss = Flux.crossentropy,\n",
       "            epochs = 60,\n",
       "            batch_size = 32,\n",
       "            lambda = 0.01,\n",
       "            alpha = 0.0,\n",
       "            optimiser_changes_trigger_retraining = false),\n",
       "    tuning = Grid(\n",
       "            goal = 100,\n",
       "            resolution = 10,\n",
       "            shuffle = true,\n",
       "            rng = Random._GLOBAL_RNG()),\n",
       "    resampling = Holdout(\n",
       "            fraction_train = 0.7,\n",
       "            shuffle = false,\n",
       "            rng = Random._GLOBAL_RNG()),\n",
       "    measure = cross_entropy(\n",
       "            eps = 2.220446049250313e-16),\n",
       "    weights = nothing,\n",
       "    operation = MLJModelInterface.predict,\n",
       "    range = MLJBase.NumericRange{T,MLJBase.Bounded,Symbol} where T[\u001b[34mNumericRange{Int64,…} @551\u001b[39m, \u001b[34mNumericRange{Float64,…} @889\u001b[39m],\n",
       "    train_best = true,\n",
       "    repeats = 1,\n",
       "    n = nothing,\n",
       "    acceleration = CPUProcesses{Nothing}(nothing),\n",
       "    acceleration_resampling = CPU1{Nothing}(nothing),\n",
       "    check_measure = true)\u001b[34m @270\u001b[39m"
      ]
     },
     "execution_count": 63,
     "metadata": {},
     "output_type": "execute_result"
    }
   ],
   "source": [
    "self_tuning_nn_model = TunedModel(model=nn,\n",
    "                                    tuning=Grid(goal=100),\n",
    "                                    resampling=Holdout(fraction_train=0.7), \n",
    "                                    measure=cross_entropy,\n",
    "                                    acceleration=CPUProcesses(),\n",
    "                                    range=[r1, r2])"
   ]
  },
  {
   "cell_type": "code",
   "execution_count": 64,
   "metadata": {},
   "outputs": [
    {
     "data": {
      "text/plain": [
       "\u001b[34mMachine{ProbabilisticTunedModel{Grid,…}} @257\u001b[39m trained 0 times.\n",
       "  args: \n",
       "    1:\t\u001b[34mSource @223\u001b[39m ⏎ `Table{AbstractArray{Continuous,1}}`\n",
       "    2:\t\u001b[34mSource @448\u001b[39m ⏎ `AbstractArray{Multiclass{3},1}`\n"
      ]
     },
     "execution_count": 64,
     "metadata": {},
     "output_type": "execute_result"
    }
   ],
   "source": [
    "self_tuning_nn = machine(self_tuning_nn_model, X, y)"
   ]
  },
  {
   "cell_type": "code",
   "execution_count": 65,
   "metadata": {
    "scrolled": true
   },
   "outputs": [
    {
     "name": "stderr",
     "output_type": "stream",
     "text": [
      "┌ Info: Training \u001b[34mMachine{ProbabilisticTunedModel{Grid,…}} @257\u001b[39m.\n",
      "└ @ MLJBase /home/andrew/.julia/packages/MLJBase/uKzAz/src/machines.jl:319\n",
      "┌ Info: Attempting to evaluate 100 models.\n",
      "└ @ MLJTuning /home/andrew/.julia/packages/MLJTuning/Bbgvk/src/tuned_models.jl:494\n",
      "\u001b[33mEvaluating over 100 metamodels: 100%[=========================] Time: 0:06:09\u001b[39mm\n"
     ]
    },
    {
     "data": {
      "text/plain": [
       "\u001b[34mMachine{ProbabilisticTunedModel{Grid,…}} @257\u001b[39m trained 1 time.\n",
       "  args: \n",
       "    1:\t\u001b[34mSource @223\u001b[39m ⏎ `Table{AbstractArray{Continuous,1}}`\n",
       "    2:\t\u001b[34mSource @448\u001b[39m ⏎ `AbstractArray{Multiclass{3},1}`\n"
      ]
     },
     "execution_count": 65,
     "metadata": {},
     "output_type": "execute_result"
    }
   ],
   "source": [
    "z = fit!(self_tuning_nn, rows=train)"
   ]
  },
  {
   "cell_type": "code",
   "execution_count": 66,
   "metadata": {
    "scrolled": false
   },
   "outputs": [
    {
     "data": {
      "image/svg+xml": [
       "<?xml version=\"1.0\" encoding=\"utf-8\"?>\n",
       "<svg xmlns=\"http://www.w3.org/2000/svg\" xmlns:xlink=\"http://www.w3.org/1999/xlink\" width=\"600\" height=\"400\" viewBox=\"0 0 2400 1600\">\n",
       "<defs>\n",
       "  <clipPath id=\"clip590\">\n",
       "    <rect x=\"0\" y=\"0\" width=\"2400\" height=\"1600\"/>\n",
       "  </clipPath>\n",
       "</defs>\n",
       "<path clip-path=\"url(#clip590)\" d=\"\n",
       "M0 1600 L2400 1600 L2400 0 L0 0  Z\n",
       "  \" fill=\"#ffffff\" fill-rule=\"evenodd\" fill-opacity=\"1\"/>\n",
       "<defs>\n",
       "  <clipPath id=\"clip591\">\n",
       "    <rect x=\"480\" y=\"0\" width=\"1681\" height=\"1600\"/>\n",
       "  </clipPath>\n",
       "</defs>\n",
       "<path clip-path=\"url(#clip590)\" d=\"\n",
       "M244.308 1423.18 L2112.76 1423.18 L2112.76 47.2441 L244.308 47.2441  Z\n",
       "  \" fill=\"#ffffff\" fill-rule=\"evenodd\" fill-opacity=\"1\"/>\n",
       "<defs>\n",
       "  <clipPath id=\"clip592\">\n",
       "    <rect x=\"244\" y=\"47\" width=\"1869\" height=\"1377\"/>\n",
       "  </clipPath>\n",
       "</defs>\n",
       "<polyline clip-path=\"url(#clip592)\" style=\"stroke:#000000; stroke-width:2; stroke-opacity:0.1; fill:none\" points=\"\n",
       "  540.318,1423.18 540.318,47.2441 \n",
       "  \"/>\n",
       "<polyline clip-path=\"url(#clip592)\" style=\"stroke:#000000; stroke-width:2; stroke-opacity:0.1; fill:none\" points=\"\n",
       "  844.229,1423.18 844.229,47.2441 \n",
       "  \"/>\n",
       "<polyline clip-path=\"url(#clip592)\" style=\"stroke:#000000; stroke-width:2; stroke-opacity:0.1; fill:none\" points=\"\n",
       "  1148.14,1423.18 1148.14,47.2441 \n",
       "  \"/>\n",
       "<polyline clip-path=\"url(#clip592)\" style=\"stroke:#000000; stroke-width:2; stroke-opacity:0.1; fill:none\" points=\"\n",
       "  1452.05,1423.18 1452.05,47.2441 \n",
       "  \"/>\n",
       "<polyline clip-path=\"url(#clip592)\" style=\"stroke:#000000; stroke-width:2; stroke-opacity:0.1; fill:none\" points=\"\n",
       "  1755.96,1423.18 1755.96,47.2441 \n",
       "  \"/>\n",
       "<polyline clip-path=\"url(#clip592)\" style=\"stroke:#000000; stroke-width:2; stroke-opacity:0.1; fill:none\" points=\"\n",
       "  2059.88,1423.18 2059.88,47.2441 \n",
       "  \"/>\n",
       "<polyline clip-path=\"url(#clip592)\" style=\"stroke:#000000; stroke-width:2; stroke-opacity:0.1; fill:none\" points=\"\n",
       "  244.308,1384.24 2112.76,1384.24 \n",
       "  \"/>\n",
       "<polyline clip-path=\"url(#clip592)\" style=\"stroke:#000000; stroke-width:2; stroke-opacity:0.1; fill:none\" points=\"\n",
       "  244.308,1059.73 2112.76,1059.73 \n",
       "  \"/>\n",
       "<polyline clip-path=\"url(#clip592)\" style=\"stroke:#000000; stroke-width:2; stroke-opacity:0.1; fill:none\" points=\"\n",
       "  244.308,735.212 2112.76,735.212 \n",
       "  \"/>\n",
       "<polyline clip-path=\"url(#clip592)\" style=\"stroke:#000000; stroke-width:2; stroke-opacity:0.1; fill:none\" points=\"\n",
       "  244.308,410.699 2112.76,410.699 \n",
       "  \"/>\n",
       "<polyline clip-path=\"url(#clip592)\" style=\"stroke:#000000; stroke-width:2; stroke-opacity:0.1; fill:none\" points=\"\n",
       "  244.308,86.1857 2112.76,86.1857 \n",
       "  \"/>\n",
       "<polyline clip-path=\"url(#clip590)\" style=\"stroke:#000000; stroke-width:4; stroke-opacity:1; fill:none\" points=\"\n",
       "  244.308,1423.18 2112.76,1423.18 \n",
       "  \"/>\n",
       "<polyline clip-path=\"url(#clip590)\" style=\"stroke:#000000; stroke-width:4; stroke-opacity:1; fill:none\" points=\"\n",
       "  244.308,1423.18 244.308,47.2441 \n",
       "  \"/>\n",
       "<polyline clip-path=\"url(#clip590)\" style=\"stroke:#000000; stroke-width:4; stroke-opacity:1; fill:none\" points=\"\n",
       "  540.318,1423.18 540.318,1406.67 \n",
       "  \"/>\n",
       "<polyline clip-path=\"url(#clip590)\" style=\"stroke:#000000; stroke-width:4; stroke-opacity:1; fill:none\" points=\"\n",
       "  844.229,1423.18 844.229,1406.67 \n",
       "  \"/>\n",
       "<polyline clip-path=\"url(#clip590)\" style=\"stroke:#000000; stroke-width:4; stroke-opacity:1; fill:none\" points=\"\n",
       "  1148.14,1423.18 1148.14,1406.67 \n",
       "  \"/>\n",
       "<polyline clip-path=\"url(#clip590)\" style=\"stroke:#000000; stroke-width:4; stroke-opacity:1; fill:none\" points=\"\n",
       "  1452.05,1423.18 1452.05,1406.67 \n",
       "  \"/>\n",
       "<polyline clip-path=\"url(#clip590)\" style=\"stroke:#000000; stroke-width:4; stroke-opacity:1; fill:none\" points=\"\n",
       "  1755.96,1423.18 1755.96,1406.67 \n",
       "  \"/>\n",
       "<polyline clip-path=\"url(#clip590)\" style=\"stroke:#000000; stroke-width:4; stroke-opacity:1; fill:none\" points=\"\n",
       "  2059.88,1423.18 2059.88,1406.67 \n",
       "  \"/>\n",
       "<polyline clip-path=\"url(#clip590)\" style=\"stroke:#000000; stroke-width:4; stroke-opacity:1; fill:none\" points=\"\n",
       "  244.308,1384.24 266.729,1384.24 \n",
       "  \"/>\n",
       "<polyline clip-path=\"url(#clip590)\" style=\"stroke:#000000; stroke-width:4; stroke-opacity:1; fill:none\" points=\"\n",
       "  244.308,1059.73 266.729,1059.73 \n",
       "  \"/>\n",
       "<polyline clip-path=\"url(#clip590)\" style=\"stroke:#000000; stroke-width:4; stroke-opacity:1; fill:none\" points=\"\n",
       "  244.308,735.212 266.729,735.212 \n",
       "  \"/>\n",
       "<polyline clip-path=\"url(#clip590)\" style=\"stroke:#000000; stroke-width:4; stroke-opacity:1; fill:none\" points=\"\n",
       "  244.308,410.699 266.729,410.699 \n",
       "  \"/>\n",
       "<polyline clip-path=\"url(#clip590)\" style=\"stroke:#000000; stroke-width:4; stroke-opacity:1; fill:none\" points=\"\n",
       "  244.308,86.1857 266.729,86.1857 \n",
       "  \"/>\n",
       "<path clip-path=\"url(#clip590)\" d=\"M 0 0 M503.582 1442.09 L521.938 1442.09 L521.938 1446.03 L507.864 1446.03 L507.864 1454.5 Q508.883 1454.15 509.901 1453.99 Q510.92 1453.8 511.938 1453.8 Q517.725 1453.8 521.105 1456.98 Q524.484 1460.15 524.484 1465.56 Q524.484 1471.14 521.012 1474.24 Q517.54 1477.32 511.22 1477.32 Q509.045 1477.32 506.776 1476.95 Q504.531 1476.58 502.123 1475.84 L502.123 1471.14 Q504.207 1472.28 506.429 1472.83 Q508.651 1473.39 511.128 1473.39 Q515.132 1473.39 517.47 1471.28 Q519.808 1469.18 519.808 1465.56 Q519.808 1461.95 517.47 1459.85 Q515.132 1457.74 511.128 1457.74 Q509.253 1457.74 507.378 1458.16 Q505.526 1458.57 503.582 1459.45 L503.582 1442.09 Z\" fill=\"#000000\" fill-rule=\"evenodd\" fill-opacity=\"1\" /><path clip-path=\"url(#clip590)\" d=\"M 0 0 M539.554 1445.17 Q535.943 1445.17 534.114 1448.74 Q532.308 1452.28 532.308 1459.41 Q532.308 1466.51 534.114 1470.08 Q535.943 1473.62 539.554 1473.62 Q543.188 1473.62 544.993 1470.08 Q546.822 1466.51 546.822 1459.41 Q546.822 1452.28 544.993 1448.74 Q543.188 1445.17 539.554 1445.17 M539.554 1441.47 Q545.364 1441.47 548.419 1446.07 Q551.498 1450.66 551.498 1459.41 Q551.498 1468.13 548.419 1472.74 Q545.364 1477.32 539.554 1477.32 Q533.743 1477.32 530.665 1472.74 Q527.609 1468.13 527.609 1459.41 Q527.609 1450.66 530.665 1446.07 Q533.743 1441.47 539.554 1441.47 Z\" fill=\"#000000\" fill-rule=\"evenodd\" fill-opacity=\"1\" /><path clip-path=\"url(#clip590)\" d=\"M 0 0 M566.567 1445.17 Q562.956 1445.17 561.128 1448.74 Q559.322 1452.28 559.322 1459.41 Q559.322 1466.51 561.128 1470.08 Q562.956 1473.62 566.567 1473.62 Q570.202 1473.62 572.007 1470.08 Q573.836 1466.51 573.836 1459.41 Q573.836 1452.28 572.007 1448.74 Q570.202 1445.17 566.567 1445.17 M566.567 1441.47 Q572.378 1441.47 575.433 1446.07 Q578.512 1450.66 578.512 1459.41 Q578.512 1468.13 575.433 1472.74 Q572.378 1477.32 566.567 1477.32 Q560.757 1477.32 557.679 1472.74 Q554.623 1468.13 554.623 1459.41 Q554.623 1450.66 557.679 1446.07 Q560.757 1441.47 566.567 1441.47 Z\" fill=\"#000000\" fill-rule=\"evenodd\" fill-opacity=\"1\" /><path clip-path=\"url(#clip590)\" d=\"M 0 0 M794.09 1472.72 L801.729 1472.72 L801.729 1446.35 L793.419 1448.02 L793.419 1443.76 L801.683 1442.09 L806.359 1442.09 L806.359 1472.72 L813.998 1472.72 L813.998 1476.65 L794.09 1476.65 L794.09 1472.72 Z\" fill=\"#000000\" fill-rule=\"evenodd\" fill-opacity=\"1\" /><path clip-path=\"url(#clip590)\" d=\"M 0 0 M829.067 1445.17 Q825.456 1445.17 823.627 1448.74 Q821.822 1452.28 821.822 1459.41 Q821.822 1466.51 823.627 1470.08 Q825.456 1473.62 829.067 1473.62 Q832.701 1473.62 834.507 1470.08 Q836.336 1466.51 836.336 1459.41 Q836.336 1452.28 834.507 1448.74 Q832.701 1445.17 829.067 1445.17 M829.067 1441.47 Q834.877 1441.47 837.933 1446.07 Q841.012 1450.66 841.012 1459.41 Q841.012 1468.13 837.933 1472.74 Q834.877 1477.32 829.067 1477.32 Q823.257 1477.32 820.178 1472.74 Q817.123 1468.13 817.123 1459.41 Q817.123 1450.66 820.178 1446.07 Q823.257 1441.47 829.067 1441.47 Z\" fill=\"#000000\" fill-rule=\"evenodd\" fill-opacity=\"1\" /><path clip-path=\"url(#clip590)\" d=\"M 0 0 M856.081 1445.17 Q852.47 1445.17 850.641 1448.74 Q848.836 1452.28 848.836 1459.41 Q848.836 1466.51 850.641 1470.08 Q852.47 1473.62 856.081 1473.62 Q859.715 1473.62 861.521 1470.08 Q863.349 1466.51 863.349 1459.41 Q863.349 1452.28 861.521 1448.74 Q859.715 1445.17 856.081 1445.17 M856.081 1441.47 Q861.891 1441.47 864.947 1446.07 Q868.025 1450.66 868.025 1459.41 Q868.025 1468.13 864.947 1472.74 Q861.891 1477.32 856.081 1477.32 Q850.271 1477.32 847.192 1472.74 Q844.136 1468.13 844.136 1459.41 Q844.136 1450.66 847.192 1446.07 Q850.271 1441.47 856.081 1441.47 Z\" fill=\"#000000\" fill-rule=\"evenodd\" fill-opacity=\"1\" /><path clip-path=\"url(#clip590)\" d=\"M 0 0 M883.095 1445.17 Q879.484 1445.17 877.655 1448.74 Q875.849 1452.28 875.849 1459.41 Q875.849 1466.51 877.655 1470.08 Q879.484 1473.62 883.095 1473.62 Q886.729 1473.62 888.534 1470.08 Q890.363 1466.51 890.363 1459.41 Q890.363 1452.28 888.534 1448.74 Q886.729 1445.17 883.095 1445.17 M883.095 1441.47 Q888.905 1441.47 891.96 1446.07 Q895.039 1450.66 895.039 1459.41 Q895.039 1468.13 891.96 1472.74 Q888.905 1477.32 883.095 1477.32 Q877.284 1477.32 874.206 1472.74 Q871.15 1468.13 871.15 1459.41 Q871.15 1450.66 874.206 1446.07 Q877.284 1441.47 883.095 1441.47 Z\" fill=\"#000000\" fill-rule=\"evenodd\" fill-opacity=\"1\" /><path clip-path=\"url(#clip590)\" d=\"M 0 0 M1098.5 1472.72 L1106.14 1472.72 L1106.14 1446.35 L1097.83 1448.02 L1097.83 1443.76 L1106.09 1442.09 L1110.77 1442.09 L1110.77 1472.72 L1118.41 1472.72 L1118.41 1476.65 L1098.5 1476.65 L1098.5 1472.72 Z\" fill=\"#000000\" fill-rule=\"evenodd\" fill-opacity=\"1\" /><path clip-path=\"url(#clip590)\" d=\"M 0 0 M1123.52 1442.09 L1141.88 1442.09 L1141.88 1446.03 L1127.81 1446.03 L1127.81 1454.5 Q1128.82 1454.15 1129.84 1453.99 Q1130.86 1453.8 1131.88 1453.8 Q1137.67 1453.8 1141.05 1456.98 Q1144.43 1460.15 1144.43 1465.56 Q1144.43 1471.14 1140.95 1474.24 Q1137.48 1477.32 1131.16 1477.32 Q1128.99 1477.32 1126.72 1476.95 Q1124.47 1476.58 1122.06 1475.84 L1122.06 1471.14 Q1124.15 1472.28 1126.37 1472.83 Q1128.59 1473.39 1131.07 1473.39 Q1135.07 1473.39 1137.41 1471.28 Q1139.75 1469.18 1139.75 1465.56 Q1139.75 1461.95 1137.41 1459.85 Q1135.07 1457.74 1131.07 1457.74 Q1129.19 1457.74 1127.32 1458.16 Q1125.47 1458.57 1123.52 1459.45 L1123.52 1442.09 Z\" fill=\"#000000\" fill-rule=\"evenodd\" fill-opacity=\"1\" /><path clip-path=\"url(#clip590)\" d=\"M 0 0 M1159.49 1445.17 Q1155.88 1445.17 1154.05 1448.74 Q1152.25 1452.28 1152.25 1459.41 Q1152.25 1466.51 1154.05 1470.08 Q1155.88 1473.62 1159.49 1473.62 Q1163.13 1473.62 1164.93 1470.08 Q1166.76 1466.51 1166.76 1459.41 Q1166.76 1452.28 1164.93 1448.74 Q1163.13 1445.17 1159.49 1445.17 M1159.49 1441.47 Q1165.3 1441.47 1168.36 1446.07 Q1171.44 1450.66 1171.44 1459.41 Q1171.44 1468.13 1168.36 1472.74 Q1165.3 1477.32 1159.49 1477.32 Q1153.68 1477.32 1150.61 1472.74 Q1147.55 1468.13 1147.55 1459.41 Q1147.55 1450.66 1150.61 1446.07 Q1153.68 1441.47 1159.49 1441.47 Z\" fill=\"#000000\" fill-rule=\"evenodd\" fill-opacity=\"1\" /><path clip-path=\"url(#clip590)\" d=\"M 0 0 M1186.51 1445.17 Q1182.9 1445.17 1181.07 1448.74 Q1179.26 1452.28 1179.26 1459.41 Q1179.26 1466.51 1181.07 1470.08 Q1182.9 1473.62 1186.51 1473.62 Q1190.14 1473.62 1191.95 1470.08 Q1193.78 1466.51 1193.78 1459.41 Q1193.78 1452.28 1191.95 1448.74 Q1190.14 1445.17 1186.51 1445.17 M1186.51 1441.47 Q1192.32 1441.47 1195.37 1446.07 Q1198.45 1450.66 1198.45 1459.41 Q1198.45 1468.13 1195.37 1472.74 Q1192.32 1477.32 1186.51 1477.32 Q1180.7 1477.32 1177.62 1472.74 Q1174.56 1468.13 1174.56 1459.41 Q1174.56 1450.66 1177.62 1446.07 Q1180.7 1441.47 1186.51 1441.47 Z\" fill=\"#000000\" fill-rule=\"evenodd\" fill-opacity=\"1\" /><path clip-path=\"url(#clip590)\" d=\"M 0 0 M1406.18 1472.72 L1422.5 1472.72 L1422.5 1476.65 L1400.56 1476.65 L1400.56 1472.72 Q1403.22 1469.96 1407.8 1465.33 Q1412.41 1460.68 1413.59 1459.34 Q1415.84 1456.81 1416.72 1455.08 Q1417.62 1453.32 1417.62 1451.63 Q1417.62 1448.87 1415.68 1447.14 Q1413.75 1445.4 1410.65 1445.4 Q1408.45 1445.4 1406 1446.17 Q1403.57 1446.93 1400.79 1448.48 L1400.79 1443.76 Q1403.61 1442.62 1406.07 1442.05 Q1408.52 1441.47 1410.56 1441.47 Q1415.93 1441.47 1419.12 1444.15 Q1422.32 1446.84 1422.32 1451.33 Q1422.32 1453.46 1421.51 1455.38 Q1420.72 1457.28 1418.61 1459.87 Q1418.04 1460.54 1414.93 1463.76 Q1411.83 1466.95 1406.18 1472.72 Z\" fill=\"#000000\" fill-rule=\"evenodd\" fill-opacity=\"1\" /><path clip-path=\"url(#clip590)\" d=\"M 0 0 M1437.57 1445.17 Q1433.96 1445.17 1432.13 1448.74 Q1430.33 1452.28 1430.33 1459.41 Q1430.33 1466.51 1432.13 1470.08 Q1433.96 1473.62 1437.57 1473.62 Q1441.21 1473.62 1443.01 1470.08 Q1444.84 1466.51 1444.84 1459.41 Q1444.84 1452.28 1443.01 1448.74 Q1441.21 1445.17 1437.57 1445.17 M1437.57 1441.47 Q1443.38 1441.47 1446.44 1446.07 Q1449.52 1450.66 1449.52 1459.41 Q1449.52 1468.13 1446.44 1472.74 Q1443.38 1477.32 1437.57 1477.32 Q1431.76 1477.32 1428.68 1472.74 Q1425.63 1468.13 1425.63 1459.41 Q1425.63 1450.66 1428.68 1446.07 Q1431.76 1441.47 1437.57 1441.47 Z\" fill=\"#000000\" fill-rule=\"evenodd\" fill-opacity=\"1\" /><path clip-path=\"url(#clip590)\" d=\"M 0 0 M1464.59 1445.17 Q1460.98 1445.17 1459.15 1448.74 Q1457.34 1452.28 1457.34 1459.41 Q1457.34 1466.51 1459.15 1470.08 Q1460.98 1473.62 1464.59 1473.62 Q1468.22 1473.62 1470.03 1470.08 Q1471.86 1466.51 1471.86 1459.41 Q1471.86 1452.28 1470.03 1448.74 Q1468.22 1445.17 1464.59 1445.17 M1464.59 1441.47 Q1470.4 1441.47 1473.45 1446.07 Q1476.53 1450.66 1476.53 1459.41 Q1476.53 1468.13 1473.45 1472.74 Q1470.4 1477.32 1464.59 1477.32 Q1458.78 1477.32 1455.7 1472.74 Q1452.64 1468.13 1452.64 1459.41 Q1452.64 1450.66 1455.7 1446.07 Q1458.78 1441.47 1464.59 1441.47 Z\" fill=\"#000000\" fill-rule=\"evenodd\" fill-opacity=\"1\" /><path clip-path=\"url(#clip590)\" d=\"M 0 0 M1491.6 1445.17 Q1487.99 1445.17 1486.16 1448.74 Q1484.36 1452.28 1484.36 1459.41 Q1484.36 1466.51 1486.16 1470.08 Q1487.99 1473.62 1491.6 1473.62 Q1495.23 1473.62 1497.04 1470.08 Q1498.87 1466.51 1498.87 1459.41 Q1498.87 1452.28 1497.04 1448.74 Q1495.23 1445.17 1491.6 1445.17 M1491.6 1441.47 Q1497.41 1441.47 1500.47 1446.07 Q1503.54 1450.66 1503.54 1459.41 Q1503.54 1468.13 1500.47 1472.74 Q1497.41 1477.32 1491.6 1477.32 Q1485.79 1477.32 1482.71 1472.74 Q1479.66 1468.13 1479.66 1459.41 Q1479.66 1450.66 1482.71 1446.07 Q1485.79 1441.47 1491.6 1441.47 Z\" fill=\"#000000\" fill-rule=\"evenodd\" fill-opacity=\"1\" /><path clip-path=\"url(#clip590)\" d=\"M 0 0 M1710.59 1472.72 L1726.91 1472.72 L1726.91 1476.65 L1704.97 1476.65 L1704.97 1472.72 Q1707.63 1469.96 1712.21 1465.33 Q1716.82 1460.68 1718 1459.34 Q1720.25 1456.81 1721.13 1455.08 Q1722.03 1453.32 1722.03 1451.63 Q1722.03 1448.87 1720.08 1447.14 Q1718.16 1445.4 1715.06 1445.4 Q1712.86 1445.4 1710.41 1446.17 Q1707.98 1446.93 1705.2 1448.48 L1705.2 1443.76 Q1708.02 1442.62 1710.48 1442.05 Q1712.93 1441.47 1714.97 1441.47 Q1720.34 1441.47 1723.53 1444.15 Q1726.73 1446.84 1726.73 1451.33 Q1726.73 1453.46 1725.92 1455.38 Q1725.13 1457.28 1723.02 1459.87 Q1722.45 1460.54 1719.34 1463.76 Q1716.24 1466.95 1710.59 1472.72 Z\" fill=\"#000000\" fill-rule=\"evenodd\" fill-opacity=\"1\" /><path clip-path=\"url(#clip590)\" d=\"M 0 0 M1732.03 1442.09 L1750.39 1442.09 L1750.39 1446.03 L1736.31 1446.03 L1736.31 1454.5 Q1737.33 1454.15 1738.35 1453.99 Q1739.37 1453.8 1740.39 1453.8 Q1746.17 1453.8 1749.55 1456.98 Q1752.93 1460.15 1752.93 1465.56 Q1752.93 1471.14 1749.46 1474.24 Q1745.99 1477.32 1739.67 1477.32 Q1737.49 1477.32 1735.22 1476.95 Q1732.98 1476.58 1730.57 1475.84 L1730.57 1471.14 Q1732.65 1472.28 1734.88 1472.83 Q1737.1 1473.39 1739.57 1473.39 Q1743.58 1473.39 1745.92 1471.28 Q1748.26 1469.18 1748.26 1465.56 Q1748.26 1461.95 1745.92 1459.85 Q1743.58 1457.74 1739.57 1457.74 Q1737.7 1457.74 1735.82 1458.16 Q1733.97 1458.57 1732.03 1459.45 L1732.03 1442.09 Z\" fill=\"#000000\" fill-rule=\"evenodd\" fill-opacity=\"1\" /><path clip-path=\"url(#clip590)\" d=\"M 0 0 M1768 1445.17 Q1764.39 1445.17 1762.56 1448.74 Q1760.76 1452.28 1760.76 1459.41 Q1760.76 1466.51 1762.56 1470.08 Q1764.39 1473.62 1768 1473.62 Q1771.63 1473.62 1773.44 1470.08 Q1775.27 1466.51 1775.27 1459.41 Q1775.27 1452.28 1773.44 1448.74 Q1771.63 1445.17 1768 1445.17 M1768 1441.47 Q1773.81 1441.47 1776.87 1446.07 Q1779.95 1450.66 1779.95 1459.41 Q1779.95 1468.13 1776.87 1472.74 Q1773.81 1477.32 1768 1477.32 Q1762.19 1477.32 1759.11 1472.74 Q1756.06 1468.13 1756.06 1459.41 Q1756.06 1450.66 1759.11 1446.07 Q1762.19 1441.47 1768 1441.47 Z\" fill=\"#000000\" fill-rule=\"evenodd\" fill-opacity=\"1\" /><path clip-path=\"url(#clip590)\" d=\"M 0 0 M1795.01 1445.17 Q1791.4 1445.17 1789.57 1448.74 Q1787.77 1452.28 1787.77 1459.41 Q1787.77 1466.51 1789.57 1470.08 Q1791.4 1473.62 1795.01 1473.62 Q1798.65 1473.62 1800.45 1470.08 Q1802.28 1466.51 1802.28 1459.41 Q1802.28 1452.28 1800.45 1448.74 Q1798.65 1445.17 1795.01 1445.17 M1795.01 1441.47 Q1800.82 1441.47 1803.88 1446.07 Q1806.96 1450.66 1806.96 1459.41 Q1806.96 1468.13 1803.88 1472.74 Q1800.82 1477.32 1795.01 1477.32 Q1789.2 1477.32 1786.13 1472.74 Q1783.07 1468.13 1783.07 1459.41 Q1783.07 1450.66 1786.13 1446.07 Q1789.2 1441.47 1795.01 1441.47 Z\" fill=\"#000000\" fill-rule=\"evenodd\" fill-opacity=\"1\" /><path clip-path=\"url(#clip590)\" d=\"M 0 0 M2023.6 1458.02 Q2026.96 1458.74 2028.83 1461 Q2030.73 1463.27 2030.73 1466.61 Q2030.73 1471.72 2027.21 1474.52 Q2023.69 1477.32 2017.21 1477.32 Q2015.04 1477.32 2012.72 1476.88 Q2010.43 1476.47 2007.98 1475.61 L2007.98 1471.1 Q2009.92 1472.23 2012.24 1472.81 Q2014.55 1473.39 2017.07 1473.39 Q2021.47 1473.39 2023.76 1471.65 Q2026.08 1469.92 2026.08 1466.61 Q2026.08 1463.55 2023.93 1461.84 Q2021.8 1460.1 2017.98 1460.1 L2013.95 1460.1 L2013.95 1456.26 L2018.16 1456.26 Q2021.61 1456.26 2023.44 1454.89 Q2025.27 1453.5 2025.27 1450.91 Q2025.27 1448.25 2023.37 1446.84 Q2021.5 1445.4 2017.98 1445.4 Q2016.06 1445.4 2013.86 1445.82 Q2011.66 1446.24 2009.02 1447.11 L2009.02 1442.95 Q2011.68 1442.21 2014 1441.84 Q2016.33 1441.47 2018.39 1441.47 Q2023.72 1441.47 2026.82 1443.9 Q2029.92 1446.3 2029.92 1450.43 Q2029.92 1453.3 2028.28 1455.29 Q2026.63 1457.25 2023.6 1458.02 Z\" fill=\"#000000\" fill-rule=\"evenodd\" fill-opacity=\"1\" /><path clip-path=\"url(#clip590)\" d=\"M 0 0 M2045.8 1445.17 Q2042.19 1445.17 2040.36 1448.74 Q2038.56 1452.28 2038.56 1459.41 Q2038.56 1466.51 2040.36 1470.08 Q2042.19 1473.62 2045.8 1473.62 Q2049.44 1473.62 2051.24 1470.08 Q2053.07 1466.51 2053.07 1459.41 Q2053.07 1452.28 2051.24 1448.74 Q2049.44 1445.17 2045.8 1445.17 M2045.8 1441.47 Q2051.61 1441.47 2054.67 1446.07 Q2057.75 1450.66 2057.75 1459.41 Q2057.75 1468.13 2054.67 1472.74 Q2051.61 1477.32 2045.8 1477.32 Q2039.99 1477.32 2036.91 1472.74 Q2033.86 1468.13 2033.86 1459.41 Q2033.86 1450.66 2036.91 1446.07 Q2039.99 1441.47 2045.8 1441.47 Z\" fill=\"#000000\" fill-rule=\"evenodd\" fill-opacity=\"1\" /><path clip-path=\"url(#clip590)\" d=\"M 0 0 M2072.82 1445.17 Q2069.2 1445.17 2067.38 1448.74 Q2065.57 1452.28 2065.57 1459.41 Q2065.57 1466.51 2067.38 1470.08 Q2069.2 1473.62 2072.82 1473.62 Q2076.45 1473.62 2078.25 1470.08 Q2080.08 1466.51 2080.08 1459.41 Q2080.08 1452.28 2078.25 1448.74 Q2076.45 1445.17 2072.82 1445.17 M2072.82 1441.47 Q2078.63 1441.47 2081.68 1446.07 Q2084.76 1450.66 2084.76 1459.41 Q2084.76 1468.13 2081.68 1472.74 Q2078.63 1477.32 2072.82 1477.32 Q2067 1477.32 2063.93 1472.74 Q2060.87 1468.13 2060.87 1459.41 Q2060.87 1450.66 2063.93 1446.07 Q2067 1441.47 2072.82 1441.47 Z\" fill=\"#000000\" fill-rule=\"evenodd\" fill-opacity=\"1\" /><path clip-path=\"url(#clip590)\" d=\"M 0 0 M2099.83 1445.17 Q2096.22 1445.17 2094.39 1448.74 Q2092.58 1452.28 2092.58 1459.41 Q2092.58 1466.51 2094.39 1470.08 Q2096.22 1473.62 2099.83 1473.62 Q2103.46 1473.62 2105.27 1470.08 Q2107.1 1466.51 2107.1 1459.41 Q2107.1 1452.28 2105.27 1448.74 Q2103.46 1445.17 2099.83 1445.17 M2099.83 1441.47 Q2105.64 1441.47 2108.69 1446.07 Q2111.77 1450.66 2111.77 1459.41 Q2111.77 1468.13 2108.69 1472.74 Q2105.64 1477.32 2099.83 1477.32 Q2094.02 1477.32 2090.94 1472.74 Q2087.88 1468.13 2087.88 1459.41 Q2087.88 1450.66 2090.94 1446.07 Q2094.02 1441.47 2099.83 1441.47 Z\" fill=\"#000000\" fill-rule=\"evenodd\" fill-opacity=\"1\" /><path clip-path=\"url(#clip590)\" d=\"M 0 0 M126.931 1404.03 L134.57 1404.03 L134.57 1377.67 L126.26 1379.33 L126.26 1375.07 L134.524 1373.41 L139.2 1373.41 L139.2 1404.03 L146.839 1404.03 L146.839 1407.97 L126.931 1407.97 L126.931 1404.03 Z\" fill=\"#000000\" fill-rule=\"evenodd\" fill-opacity=\"1\" /><path clip-path=\"url(#clip590)\" d=\"M 0 0 M161.908 1376.48 Q158.297 1376.48 156.468 1380.05 Q154.663 1383.59 154.663 1390.72 Q154.663 1397.83 156.468 1401.39 Q158.297 1404.93 161.908 1404.93 Q165.542 1404.93 167.348 1401.39 Q169.177 1397.83 169.177 1390.72 Q169.177 1383.59 167.348 1380.05 Q165.542 1376.48 161.908 1376.48 M161.908 1372.78 Q167.718 1372.78 170.774 1377.39 Q173.852 1381.97 173.852 1390.72 Q173.852 1399.45 170.774 1404.05 Q167.718 1408.64 161.908 1408.64 Q156.098 1408.64 153.019 1404.05 Q149.964 1399.45 149.964 1390.72 Q149.964 1381.97 153.019 1377.39 Q156.098 1372.78 161.908 1372.78 Z\" fill=\"#000000\" fill-rule=\"evenodd\" fill-opacity=\"1\" /><path clip-path=\"url(#clip590)\" d=\"M 0 0 M173.852 1366.88 L197.964 1366.88 L197.964 1370.08 L173.852 1370.08 L173.852 1366.88 Z\" fill=\"#000000\" fill-rule=\"evenodd\" fill-opacity=\"1\" /><path clip-path=\"url(#clip590)\" d=\"M 0 0 M212.521 1355.79 L202.929 1370.78 L212.521 1370.78 L212.521 1355.79 M211.524 1352.48 L216.302 1352.48 L216.302 1370.78 L220.308 1370.78 L220.308 1373.94 L216.302 1373.94 L216.302 1380.56 L212.521 1380.56 L212.521 1373.94 L199.845 1373.94 L199.845 1370.27 L211.524 1352.48 Z\" fill=\"#000000\" fill-rule=\"evenodd\" fill-opacity=\"1\" /><path clip-path=\"url(#clip590)\" d=\"M 0 0 M127.853 1079.52 L135.492 1079.52 L135.492 1053.15 L127.182 1054.82 L127.182 1050.56 L135.446 1048.89 L140.121 1048.89 L140.121 1079.52 L147.76 1079.52 L147.76 1083.45 L127.853 1083.45 L127.853 1079.52 Z\" fill=\"#000000\" fill-rule=\"evenodd\" fill-opacity=\"1\" /><path clip-path=\"url(#clip590)\" d=\"M 0 0 M162.83 1051.97 Q159.219 1051.97 157.39 1055.54 Q155.584 1059.08 155.584 1066.21 Q155.584 1073.31 157.39 1076.88 Q159.219 1080.42 162.83 1080.42 Q166.464 1080.42 168.269 1076.88 Q170.098 1073.31 170.098 1066.21 Q170.098 1059.08 168.269 1055.54 Q166.464 1051.97 162.83 1051.97 M162.83 1048.27 Q168.64 1048.27 171.695 1052.87 Q174.774 1057.46 174.774 1066.21 Q174.774 1074.93 171.695 1079.54 Q168.64 1084.12 162.83 1084.12 Q157.02 1084.12 153.941 1079.54 Q150.885 1074.93 150.885 1066.21 Q150.885 1057.46 153.941 1052.87 Q157.02 1048.27 162.83 1048.27 Z\" fill=\"#000000\" fill-rule=\"evenodd\" fill-opacity=\"1\" /><path clip-path=\"url(#clip590)\" d=\"M 0 0 M174.774 1042.37 L198.886 1042.37 L198.886 1045.57 L174.774 1045.57 L174.774 1042.37 Z\" fill=\"#000000\" fill-rule=\"evenodd\" fill-opacity=\"1\" /><path clip-path=\"url(#clip590)\" d=\"M 0 0 M214.515 1040.9 Q217.242 1041.49 218.765 1043.33 Q220.308 1045.17 220.308 1047.88 Q220.308 1052.04 217.449 1054.31 Q214.59 1056.59 209.324 1056.59 Q207.556 1056.59 205.675 1056.23 Q203.813 1055.89 201.82 1055.2 L201.82 1051.53 Q203.4 1052.45 205.28 1052.92 Q207.161 1053.39 209.211 1053.39 Q212.785 1053.39 214.647 1051.98 Q216.527 1050.57 216.527 1047.88 Q216.527 1045.4 214.778 1044.01 Q213.048 1042.59 209.945 1042.59 L206.672 1042.59 L206.672 1039.47 L210.095 1039.47 Q212.897 1039.47 214.383 1038.36 Q215.869 1037.23 215.869 1035.13 Q215.869 1032.97 214.327 1031.82 Q212.803 1030.65 209.945 1030.65 Q208.384 1030.65 206.597 1030.99 Q204.81 1031.33 202.666 1032.04 L202.666 1028.66 Q204.829 1028.06 206.71 1027.76 Q208.609 1027.45 210.283 1027.45 Q214.609 1027.45 217.129 1029.43 Q219.649 1031.39 219.649 1034.73 Q219.649 1037.07 218.314 1038.68 Q216.979 1040.28 214.515 1040.9 Z\" fill=\"#000000\" fill-rule=\"evenodd\" fill-opacity=\"1\" /><path clip-path=\"url(#clip590)\" d=\"M 0 0 M128.624 755.004 L136.263 755.004 L136.263 728.639 L127.953 730.305 L127.953 726.046 L136.217 724.38 L140.893 724.38 L140.893 755.004 L148.531 755.004 L148.531 758.94 L128.624 758.94 L128.624 755.004 Z\" fill=\"#000000\" fill-rule=\"evenodd\" fill-opacity=\"1\" /><path clip-path=\"url(#clip590)\" d=\"M 0 0 M163.601 727.458 Q159.99 727.458 158.161 731.023 Q156.355 734.565 156.355 741.694 Q156.355 748.801 158.161 752.366 Q159.99 755.907 163.601 755.907 Q167.235 755.907 169.041 752.366 Q170.869 748.801 170.869 741.694 Q170.869 734.565 169.041 731.023 Q167.235 727.458 163.601 727.458 M163.601 723.755 Q169.411 723.755 172.467 728.361 Q175.545 732.944 175.545 741.694 Q175.545 750.421 172.467 755.028 Q169.411 759.611 163.601 759.611 Q157.791 759.611 154.712 755.028 Q151.656 750.421 151.656 741.694 Q151.656 732.944 154.712 728.361 Q157.791 723.755 163.601 723.755 Z\" fill=\"#000000\" fill-rule=\"evenodd\" fill-opacity=\"1\" /><path clip-path=\"url(#clip590)\" d=\"M 0 0 M175.545 717.856 L199.657 717.856 L199.657 721.053 L175.545 721.053 L175.545 717.856 Z\" fill=\"#000000\" fill-rule=\"evenodd\" fill-opacity=\"1\" /><path clip-path=\"url(#clip590)\" d=\"M 0 0 M207.048 728.332 L220.308 728.332 L220.308 731.529 L202.478 731.529 L202.478 728.332 Q204.641 726.094 208.365 722.332 Q212.107 718.552 213.067 717.461 Q214.891 715.411 215.606 714 Q216.339 712.571 216.339 711.198 Q216.339 708.96 214.759 707.549 Q213.198 706.139 210.678 706.139 Q208.891 706.139 206.898 706.759 Q204.923 707.38 202.666 708.64 L202.666 704.803 Q204.961 703.882 206.954 703.412 Q208.948 702.941 210.603 702.941 Q214.966 702.941 217.562 705.123 Q220.157 707.305 220.157 710.953 Q220.157 712.684 219.499 714.245 Q218.859 715.787 217.148 717.894 Q216.678 718.439 214.158 721.053 Q211.637 723.649 207.048 728.332 Z\" fill=\"#000000\" fill-rule=\"evenodd\" fill-opacity=\"1\" /><path clip-path=\"url(#clip590)\" d=\"M 0 0 M128.323 430.491 L135.962 430.491 L135.962 404.126 L127.652 405.792 L127.652 401.533 L135.916 399.866 L140.592 399.866 L140.592 430.491 L148.231 430.491 L148.231 434.426 L128.323 434.426 L128.323 430.491 Z\" fill=\"#000000\" fill-rule=\"evenodd\" fill-opacity=\"1\" /><path clip-path=\"url(#clip590)\" d=\"M 0 0 M163.3 402.945 Q159.689 402.945 157.86 406.51 Q156.055 410.052 156.055 417.181 Q156.055 424.288 157.86 427.852 Q159.689 431.394 163.3 431.394 Q166.934 431.394 168.74 427.852 Q170.568 424.288 170.568 417.181 Q170.568 410.052 168.74 406.51 Q166.934 402.945 163.3 402.945 M163.3 399.241 Q169.11 399.241 172.166 403.848 Q175.244 408.431 175.244 417.181 Q175.244 425.908 172.166 430.514 Q169.11 435.098 163.3 435.098 Q157.49 435.098 154.411 430.514 Q151.356 425.908 151.356 417.181 Q151.356 408.431 154.411 403.848 Q157.49 399.241 163.3 399.241 Z\" fill=\"#000000\" fill-rule=\"evenodd\" fill-opacity=\"1\" /><path clip-path=\"url(#clip590)\" d=\"M 0 0 M175.244 393.343 L199.356 393.343 L199.356 396.54 L175.244 396.54 L175.244 393.343 Z\" fill=\"#000000\" fill-rule=\"evenodd\" fill-opacity=\"1\" /><path clip-path=\"url(#clip590)\" d=\"M 0 0 M204.133 403.819 L210.34 403.819 L210.34 382.397 L203.588 383.751 L203.588 380.29 L210.302 378.936 L214.101 378.936 L214.101 403.819 L220.308 403.819 L220.308 407.016 L204.133 407.016 L204.133 403.819 Z\" fill=\"#000000\" fill-rule=\"evenodd\" fill-opacity=\"1\" /><path clip-path=\"url(#clip590)\" d=\"M 0 0 M153.977 105.978 L161.616 105.978 L161.616 79.6125 L153.306 81.2792 L153.306 77.0199 L161.57 75.3533 L166.245 75.3533 L166.245 105.978 L173.884 105.978 L173.884 109.913 L153.977 109.913 L153.977 105.978 Z\" fill=\"#000000\" fill-rule=\"evenodd\" fill-opacity=\"1\" /><path clip-path=\"url(#clip590)\" d=\"M 0 0 M188.954 78.432 Q185.343 78.432 183.514 81.9968 Q181.708 85.5384 181.708 92.668 Q181.708 99.7744 183.514 103.339 Q185.343 106.881 188.954 106.881 Q192.588 106.881 194.393 103.339 Q196.222 99.7744 196.222 92.668 Q196.222 85.5384 194.393 81.9968 Q192.588 78.432 188.954 78.432 M188.954 74.7283 Q194.764 74.7283 197.819 79.3347 Q200.898 83.918 200.898 92.668 Q200.898 101.395 197.819 106.001 Q194.764 110.585 188.954 110.585 Q183.144 110.585 180.065 106.001 Q177.009 101.395 177.009 92.668 Q177.009 83.918 180.065 79.3347 Q183.144 74.7283 188.954 74.7283 Z\" fill=\"#000000\" fill-rule=\"evenodd\" fill-opacity=\"1\" /><path clip-path=\"url(#clip590)\" d=\"M 0 0 M210.603 56.9243 Q207.669 56.9243 206.183 59.8207 Q204.716 62.6983 204.716 68.4911 Q204.716 74.2651 206.183 77.1615 Q207.669 80.0391 210.603 80.0391 Q213.556 80.0391 215.023 77.1615 Q216.509 74.2651 216.509 68.4911 Q216.509 62.6983 215.023 59.8207 Q213.556 56.9243 210.603 56.9243 M210.603 53.9151 Q215.324 53.9151 217.806 57.6578 Q220.308 61.3817 220.308 68.4911 Q220.308 75.5816 217.806 79.3244 Q215.324 83.0483 210.603 83.0483 Q205.882 83.0483 203.381 79.3244 Q200.898 75.5816 200.898 68.4911 Q200.898 61.3817 203.381 57.6578 Q205.882 53.9151 210.603 53.9151 Z\" fill=\"#000000\" fill-rule=\"evenodd\" fill-opacity=\"1\" /><path clip-path=\"url(#clip590)\" d=\"M 0 0 M1108.81 1536.76 L1108.81 1539.62 L1081.88 1539.62 Q1082.27 1545.67 1085.51 1548.85 Q1088.79 1552 1094.62 1552 Q1097.99 1552 1101.14 1551.17 Q1104.32 1550.35 1107.44 1548.69 L1107.44 1554.23 Q1104.29 1555.57 1100.98 1556.27 Q1097.67 1556.97 1094.27 1556.97 Q1085.74 1556.97 1080.74 1552 Q1075.77 1547.04 1075.77 1538.57 Q1075.77 1529.82 1080.48 1524.69 Q1085.23 1519.54 1093.25 1519.54 Q1100.44 1519.54 1104.61 1524.18 Q1108.81 1528.8 1108.81 1536.76 M1102.95 1535.04 Q1102.89 1530.23 1100.25 1527.37 Q1097.64 1524.5 1093.31 1524.5 Q1088.41 1524.5 1085.45 1527.27 Q1082.52 1530.04 1082.08 1535.07 L1102.95 1535.04 Z\" fill=\"#000000\" fill-rule=\"evenodd\" fill-opacity=\"1\" /><path clip-path=\"url(#clip590)\" d=\"M 0 0 M1120.62 1550.7 L1120.62 1569.6 L1114.73 1569.6 L1114.73 1520.4 L1120.62 1520.4 L1120.62 1525.81 Q1122.47 1522.62 1125.27 1521.1 Q1128.1 1519.54 1132.01 1519.54 Q1138.51 1519.54 1142.55 1524.69 Q1146.62 1529.85 1146.62 1538.25 Q1146.62 1546.65 1142.55 1551.81 Q1138.51 1556.97 1132.01 1556.97 Q1128.1 1556.97 1125.27 1555.44 Q1122.47 1553.88 1120.62 1550.7 M1140.54 1538.25 Q1140.54 1531.79 1137.87 1528.13 Q1135.23 1524.44 1130.58 1524.44 Q1125.94 1524.44 1123.26 1528.13 Q1120.62 1531.79 1120.62 1538.25 Q1120.62 1544.71 1123.26 1548.4 Q1125.94 1552.07 1130.58 1552.07 Q1135.23 1552.07 1137.87 1548.4 Q1140.54 1544.71 1140.54 1538.25 Z\" fill=\"#000000\" fill-rule=\"evenodd\" fill-opacity=\"1\" /><path clip-path=\"url(#clip590)\" d=\"M 0 0 M1166.58 1524.5 Q1161.87 1524.5 1159.13 1528.19 Q1156.4 1531.85 1156.4 1538.25 Q1156.4 1544.65 1159.1 1548.34 Q1161.84 1552 1166.58 1552 Q1171.26 1552 1174 1548.31 Q1176.73 1544.62 1176.73 1538.25 Q1176.73 1531.92 1174 1528.23 Q1171.26 1524.5 1166.58 1524.5 M1166.58 1519.54 Q1174.22 1519.54 1178.58 1524.5 Q1182.94 1529.47 1182.94 1538.25 Q1182.94 1547 1178.58 1552 Q1174.22 1556.97 1166.58 1556.97 Q1158.91 1556.97 1154.55 1552 Q1150.22 1547 1150.22 1538.25 Q1150.22 1529.47 1154.55 1524.5 Q1158.91 1519.54 1166.58 1519.54 Z\" fill=\"#000000\" fill-rule=\"evenodd\" fill-opacity=\"1\" /><path clip-path=\"url(#clip590)\" d=\"M 0 0 M1214.74 1521.76 L1214.74 1527.24 Q1212.25 1525.87 1209.74 1525.2 Q1207.26 1524.5 1204.71 1524.5 Q1199.01 1524.5 1195.86 1528.13 Q1192.71 1531.73 1192.71 1538.25 Q1192.71 1544.78 1195.86 1548.4 Q1199.01 1552 1204.71 1552 Q1207.26 1552 1209.74 1551.33 Q1212.25 1550.63 1214.74 1549.26 L1214.74 1554.68 Q1212.29 1555.82 1209.64 1556.39 Q1207.03 1556.97 1204.07 1556.97 Q1196.02 1556.97 1191.28 1551.91 Q1186.54 1546.85 1186.54 1538.25 Q1186.54 1529.53 1191.31 1524.53 Q1196.12 1519.54 1204.46 1519.54 Q1207.16 1519.54 1209.74 1520.11 Q1212.32 1520.65 1214.74 1521.76 Z\" fill=\"#000000\" fill-rule=\"evenodd\" fill-opacity=\"1\" /><path clip-path=\"url(#clip590)\" d=\"M 0 0 M1250.51 1534.53 L1250.51 1556.04 L1244.66 1556.04 L1244.66 1534.72 Q1244.66 1529.66 1242.68 1527.14 Q1240.71 1524.63 1236.76 1524.63 Q1232.02 1524.63 1229.28 1527.65 Q1226.55 1530.68 1226.55 1535.9 L1226.55 1556.04 L1220.66 1556.04 L1220.66 1506.52 L1226.55 1506.52 L1226.55 1525.93 Q1228.65 1522.72 1231.48 1521.13 Q1234.34 1519.54 1238.07 1519.54 Q1244.21 1519.54 1247.36 1523.36 Q1250.51 1527.14 1250.51 1534.53 Z\" fill=\"#000000\" fill-rule=\"evenodd\" fill-opacity=\"1\" /><path clip-path=\"url(#clip590)\" d=\"M 0 0 M1279.38 1521.45 L1279.38 1526.98 Q1276.9 1525.71 1274.22 1525.07 Q1271.55 1524.44 1268.69 1524.44 Q1264.33 1524.44 1262.13 1525.77 Q1259.97 1527.11 1259.97 1529.79 Q1259.97 1531.82 1261.52 1533 Q1263.08 1534.15 1267.79 1535.2 L1269.8 1535.64 Q1276.04 1536.98 1278.65 1539.43 Q1281.29 1541.85 1281.29 1546.21 Q1281.29 1551.17 1277.34 1554.07 Q1273.43 1556.97 1266.55 1556.97 Q1263.69 1556.97 1260.57 1556.39 Q1257.48 1555.85 1254.04 1554.74 L1254.04 1548.69 Q1257.29 1550.38 1260.44 1551.24 Q1263.59 1552.07 1266.68 1552.07 Q1270.82 1552.07 1273.05 1550.66 Q1275.27 1549.23 1275.27 1546.65 Q1275.27 1544.27 1273.65 1542.99 Q1272.06 1541.72 1266.62 1540.54 L1264.58 1540.07 Q1259.14 1538.92 1256.72 1536.56 Q1254.3 1534.18 1254.3 1530.04 Q1254.3 1525.01 1257.86 1522.27 Q1261.43 1519.54 1267.99 1519.54 Q1271.23 1519.54 1274.1 1520.01 Q1276.96 1520.49 1279.38 1521.45 Z\" fill=\"#000000\" fill-rule=\"evenodd\" fill-opacity=\"1\" /><path clip-path=\"url(#clip590)\" d=\"M 0 0 M38.479 837.779 L38.479 831.923 L88.0042 831.923 L88.0042 837.779 L38.479 837.779 Z\" fill=\"#000000\" fill-rule=\"evenodd\" fill-opacity=\"1\" /><path clip-path=\"url(#clip590)\" d=\"M 0 0 M70.0847 809.579 Q70.0847 816.677 71.7079 819.414 Q73.3312 822.152 77.2461 822.152 Q80.3653 822.152 82.2114 820.115 Q84.0256 818.046 84.0256 814.513 Q84.0256 809.643 80.5881 806.715 Q77.1188 803.755 71.3897 803.755 L70.0847 803.755 L70.0847 809.579 M67.6657 797.898 L88.0042 797.898 L88.0042 803.755 L82.5933 803.755 Q85.8398 805.76 87.3994 808.752 Q88.9272 811.744 88.9272 816.072 Q88.9272 821.547 85.8716 824.793 Q82.7843 828.008 77.6281 828.008 Q71.6125 828.008 68.5569 823.998 Q65.5014 819.955 65.5014 811.966 L65.5014 803.755 L64.9285 803.755 Q60.8862 803.755 58.6901 806.428 Q56.4621 809.07 56.4621 813.876 Q56.4621 816.932 57.1941 819.828 Q57.9262 822.725 59.3903 825.398 L53.9795 825.398 Q52.7381 822.183 52.1334 819.16 Q51.4968 816.136 51.4968 813.271 Q51.4968 805.537 55.5072 801.718 Q59.5176 797.898 67.6657 797.898 Z\" fill=\"#000000\" fill-rule=\"evenodd\" fill-opacity=\"1\" /><path clip-path=\"url(#clip590)\" d=\"M 0 0 M59.1993 764.001 Q55.2526 761.805 53.3747 758.749 Q51.4968 755.694 51.4968 751.556 Q51.4968 745.986 55.4117 742.962 Q59.2948 739.939 66.4881 739.939 L88.0042 739.939 L88.0042 745.827 L66.679 745.827 Q61.5546 745.827 59.072 747.641 Q56.5894 749.455 56.5894 753.179 Q56.5894 757.731 59.6131 760.372 Q62.6368 763.014 67.8567 763.014 L88.0042 763.014 L88.0042 768.902 L66.679 768.902 Q61.5228 768.902 59.072 770.717 Q56.5894 772.531 56.5894 776.319 Q56.5894 780.806 59.6449 783.448 Q62.6686 786.09 67.8567 786.09 L88.0042 786.09 L88.0042 791.978 L52.3562 791.978 L52.3562 786.09 L57.8944 786.09 Q54.616 784.085 53.0564 781.284 Q51.4968 778.483 51.4968 774.632 Q51.4968 770.749 53.4702 768.043 Q55.4436 765.306 59.1993 764.001 Z\" fill=\"#000000\" fill-rule=\"evenodd\" fill-opacity=\"1\" /><path clip-path=\"url(#clip590)\" d=\"M 0 0 M70.212 708.205 Q63.7508 708.205 60.0905 710.879 Q56.3984 713.521 56.3984 718.168 Q56.3984 722.815 60.0905 725.488 Q63.7508 728.13 70.212 728.13 Q76.6732 728.13 80.3653 725.488 Q84.0256 722.815 84.0256 718.168 Q84.0256 713.521 80.3653 710.879 Q76.6732 708.205 70.212 708.205 M57.7671 728.13 Q54.5842 726.284 53.0564 723.483 Q51.4968 720.65 51.4968 716.736 Q51.4968 710.242 56.6531 706.2 Q61.8093 702.126 70.212 702.126 Q78.6147 702.126 83.771 706.2 Q88.9272 710.242 88.9272 716.736 Q88.9272 720.65 87.3994 723.483 Q85.8398 726.284 82.657 728.13 L88.0042 728.13 L88.0042 734.018 L38.479 734.018 L38.479 728.13 L57.7671 728.13 Z\" fill=\"#000000\" fill-rule=\"evenodd\" fill-opacity=\"1\" /><path clip-path=\"url(#clip590)\" d=\"M 0 0 M57.7671 672.526 L38.479 672.526 L38.479 666.669 L88.0042 666.669 L88.0042 672.526 L82.657 672.526 Q85.8398 674.372 87.3994 677.204 Q88.9272 680.005 88.9272 683.952 Q88.9272 690.413 83.771 694.487 Q78.6147 698.53 70.212 698.53 Q61.8093 698.53 56.6531 694.487 Q51.4968 690.413 51.4968 683.952 Q51.4968 680.005 53.0564 677.204 Q54.5842 674.372 57.7671 672.526 M70.212 692.482 Q76.6732 692.482 80.3653 689.84 Q84.0256 687.167 84.0256 682.52 Q84.0256 677.873 80.3653 675.199 Q76.6732 672.526 70.212 672.526 Q63.7508 672.526 60.0905 675.199 Q56.3984 677.873 56.3984 682.52 Q56.3984 687.167 60.0905 689.84 Q63.7508 692.482 70.212 692.482 Z\" fill=\"#000000\" fill-rule=\"evenodd\" fill-opacity=\"1\" /><path clip-path=\"url(#clip590)\" d=\"M 0 0 M70.0847 644.326 Q70.0847 651.423 71.7079 654.161 Q73.3312 656.898 77.2461 656.898 Q80.3653 656.898 82.2114 654.861 Q84.0256 652.792 84.0256 649.259 Q84.0256 644.389 80.5881 641.461 Q77.1188 638.501 71.3897 638.501 L70.0847 638.501 L70.0847 644.326 M67.6657 632.645 L88.0042 632.645 L88.0042 638.501 L82.5933 638.501 Q85.8398 640.506 87.3994 643.498 Q88.9272 646.49 88.9272 650.819 Q88.9272 656.293 85.8716 659.54 Q82.7843 662.754 77.6281 662.754 Q71.6125 662.754 68.5569 658.744 Q65.5014 654.702 65.5014 646.713 L65.5014 638.501 L64.9285 638.501 Q60.8862 638.501 58.6901 641.175 Q56.4621 643.816 56.4621 648.622 Q56.4621 651.678 57.1941 654.574 Q57.9262 657.471 59.3903 660.144 L53.9795 660.144 Q52.7381 656.93 52.1334 653.906 Q51.4968 650.882 51.4968 648.018 Q51.4968 640.283 55.5072 636.464 Q59.5176 632.645 67.6657 632.645 Z\" fill=\"#000000\" fill-rule=\"evenodd\" fill-opacity=\"1\" /><circle clip-path=\"url(#clip592)\" cx=\"2059.88\" cy=\"518.87\" r=\"8\" fill=\"#0e082b\" fill-rule=\"evenodd\" fill-opacity=\"1\" stroke=\"#000000\" stroke-opacity=\"1\" stroke-width=\"3.2\"/>\n",
       "<circle clip-path=\"url(#clip592)\" cx=\"1276.39\" cy=\"807.326\" r=\"11\" fill=\"#220b4b\" fill-rule=\"evenodd\" fill-opacity=\"1\" stroke=\"#000000\" stroke-opacity=\"1\" stroke-width=\"3.2\"/>\n",
       "<circle clip-path=\"url(#clip592)\" cx=\"2059.88\" cy=\"663.098\" r=\"10\" fill=\"#1d0c45\" fill-rule=\"evenodd\" fill-opacity=\"1\" stroke=\"#000000\" stroke-opacity=\"1\" stroke-width=\"3.2\"/>\n",
       "<circle clip-path=\"url(#clip592)\" cx=\"688.626\" cy=\"807.326\" r=\"11\" fill=\"#240b4f\" fill-rule=\"evenodd\" fill-opacity=\"1\" stroke=\"#000000\" stroke-opacity=\"1\" stroke-width=\"3.2\"/>\n",
       "<circle clip-path=\"url(#clip592)\" cx=\"297.188\" cy=\"1240.01\" r=\"11\" fill=\"#210c4b\" fill-rule=\"evenodd\" fill-opacity=\"1\" stroke=\"#000000\" stroke-opacity=\"1\" stroke-width=\"3.2\"/>\n",
       "<circle clip-path=\"url(#clip592)\" cx=\"1472.11\" cy=\"374.642\" r=\"5\" fill=\"#040313\" fill-rule=\"evenodd\" fill-opacity=\"1\" stroke=\"#000000\" stroke-opacity=\"1\" stroke-width=\"3.2\"/>\n",
       "<circle clip-path=\"url(#clip592)\" cx=\"688.626\" cy=\"1240.01\" r=\"8\" fill=\"#110930\" fill-rule=\"evenodd\" fill-opacity=\"1\" stroke=\"#000000\" stroke-opacity=\"1\" stroke-width=\"3.2\"/>\n",
       "<circle clip-path=\"url(#clip592)\" cx=\"884.953\" cy=\"518.87\" r=\"8\" fill=\"#0e092b\" fill-rule=\"evenodd\" fill-opacity=\"1\" stroke=\"#000000\" stroke-opacity=\"1\" stroke-width=\"3.2\"/>\n",
       "<circle clip-path=\"url(#clip592)\" cx=\"492.907\" cy=\"951.554\" r=\"8\" fill=\"#120a32\" fill-rule=\"evenodd\" fill-opacity=\"1\" stroke=\"#000000\" stroke-opacity=\"1\" stroke-width=\"3.2\"/>\n",
       "<circle clip-path=\"url(#clip592)\" cx=\"1080.67\" cy=\"518.87\" r=\"7\" fill=\"#0a0724\" fill-rule=\"evenodd\" fill-opacity=\"1\" stroke=\"#000000\" stroke-opacity=\"1\" stroke-width=\"3.2\"/>\n",
       "<circle clip-path=\"url(#clip592)\" cx=\"1668.44\" cy=\"807.326\" r=\"9\" fill=\"#170b3a\" fill-rule=\"evenodd\" fill-opacity=\"1\" stroke=\"#000000\" stroke-opacity=\"1\" stroke-width=\"3.2\"/>\n",
       "<circle clip-path=\"url(#clip592)\" cx=\"2059.88\" cy=\"86.1857\" r=\"5\" fill=\"#030211\" fill-rule=\"evenodd\" fill-opacity=\"1\" stroke=\"#000000\" stroke-opacity=\"1\" stroke-width=\"3.2\"/>\n",
       "<circle clip-path=\"url(#clip592)\" cx=\"688.626\" cy=\"230.414\" r=\"7\" fill=\"#0b0725\" fill-rule=\"evenodd\" fill-opacity=\"1\" stroke=\"#000000\" stroke-opacity=\"1\" stroke-width=\"3.2\"/>\n",
       "<circle clip-path=\"url(#clip592)\" cx=\"1080.67\" cy=\"230.414\" r=\"6\" fill=\"#08051f\" fill-rule=\"evenodd\" fill-opacity=\"1\" stroke=\"#000000\" stroke-opacity=\"1\" stroke-width=\"3.2\"/>\n",
       "<circle clip-path=\"url(#clip592)\" cx=\"2059.88\" cy=\"1384.24\" r=\"9\" fill=\"#140a35\" fill-rule=\"evenodd\" fill-opacity=\"1\" stroke=\"#000000\" stroke-opacity=\"1\" stroke-width=\"3.2\"/>\n",
       "<circle clip-path=\"url(#clip592)\" cx=\"492.907\" cy=\"663.098\" r=\"11\" fill=\"#210c4a\" fill-rule=\"evenodd\" fill-opacity=\"1\" stroke=\"#000000\" stroke-opacity=\"1\" stroke-width=\"3.2\"/>\n",
       "<circle clip-path=\"url(#clip592)\" cx=\"1276.39\" cy=\"663.098\" r=\"9\" fill=\"#170b3a\" fill-rule=\"evenodd\" fill-opacity=\"1\" stroke=\"#000000\" stroke-opacity=\"1\" stroke-width=\"3.2\"/>\n",
       "<circle clip-path=\"url(#clip592)\" cx=\"1864.16\" cy=\"1240.01\" r=\"6\" fill=\"#06051b\" fill-rule=\"evenodd\" fill-opacity=\"1\" stroke=\"#000000\" stroke-opacity=\"1\" stroke-width=\"3.2\"/>\n",
       "<circle clip-path=\"url(#clip592)\" cx=\"1080.67\" cy=\"1384.24\" r=\"5\" fill=\"#02020f\" fill-rule=\"evenodd\" fill-opacity=\"1\" stroke=\"#000000\" stroke-opacity=\"1\" stroke-width=\"3.2\"/>\n",
       "<circle clip-path=\"url(#clip592)\" cx=\"492.907\" cy=\"807.326\" r=\"11\" fill=\"#240b4e\" fill-rule=\"evenodd\" fill-opacity=\"1\" stroke=\"#000000\" stroke-opacity=\"1\" stroke-width=\"3.2\"/>\n",
       "<circle clip-path=\"url(#clip592)\" cx=\"492.907\" cy=\"518.87\" r=\"11\" fill=\"#230b4d\" fill-rule=\"evenodd\" fill-opacity=\"1\" stroke=\"#000000\" stroke-opacity=\"1\" stroke-width=\"3.2\"/>\n",
       "<circle clip-path=\"url(#clip592)\" cx=\"297.188\" cy=\"86.1857\" r=\"9\" fill=\"#130a34\" fill-rule=\"evenodd\" fill-opacity=\"1\" stroke=\"#000000\" stroke-opacity=\"1\" stroke-width=\"3.2\"/>\n",
       "<circle clip-path=\"url(#clip592)\" cx=\"1080.67\" cy=\"1095.78\" r=\"9\" fill=\"#140a35\" fill-rule=\"evenodd\" fill-opacity=\"1\" stroke=\"#000000\" stroke-opacity=\"1\" stroke-width=\"3.2\"/>\n",
       "<circle clip-path=\"url(#clip592)\" cx=\"884.953\" cy=\"374.642\" r=\"9\" fill=\"#150b37\" fill-rule=\"evenodd\" fill-opacity=\"1\" stroke=\"#000000\" stroke-opacity=\"1\" stroke-width=\"3.2\"/>\n",
       "<circle clip-path=\"url(#clip592)\" cx=\"1864.16\" cy=\"86.1857\" r=\"6\" fill=\"#06051b\" fill-rule=\"evenodd\" fill-opacity=\"1\" stroke=\"#000000\" stroke-opacity=\"1\" stroke-width=\"3.2\"/>\n",
       "<circle clip-path=\"url(#clip592)\" cx=\"1864.16\" cy=\"518.87\" r=\"3\" fill=\"#000003\" fill-rule=\"evenodd\" fill-opacity=\"1\" stroke=\"#000000\" stroke-opacity=\"1\" stroke-width=\"3.2\"/>\n",
       "<circle clip-path=\"url(#clip592)\" cx=\"2059.88\" cy=\"807.326\" r=\"4\" fill=\"#010109\" fill-rule=\"evenodd\" fill-opacity=\"1\" stroke=\"#000000\" stroke-opacity=\"1\" stroke-width=\"3.2\"/>\n",
       "<circle clip-path=\"url(#clip592)\" cx=\"1276.39\" cy=\"1384.24\" r=\"11\" fill=\"#220b4b\" fill-rule=\"evenodd\" fill-opacity=\"1\" stroke=\"#000000\" stroke-opacity=\"1\" stroke-width=\"3.2\"/>\n",
       "<circle clip-path=\"url(#clip592)\" cx=\"1472.11\" cy=\"1240.01\" r=\"11\" fill=\"#200c48\" fill-rule=\"evenodd\" fill-opacity=\"1\" stroke=\"#000000\" stroke-opacity=\"1\" stroke-width=\"3.2\"/>\n",
       "<circle clip-path=\"url(#clip592)\" cx=\"1472.11\" cy=\"86.1857\" r=\"12\" fill=\"#260b51\" fill-rule=\"evenodd\" fill-opacity=\"1\" stroke=\"#000000\" stroke-opacity=\"1\" stroke-width=\"3.2\"/>\n",
       "<circle clip-path=\"url(#clip592)\" cx=\"688.626\" cy=\"951.554\" r=\"5\" fill=\"#040314\" fill-rule=\"evenodd\" fill-opacity=\"1\" stroke=\"#000000\" stroke-opacity=\"1\" stroke-width=\"3.2\"/>\n",
       "<circle clip-path=\"url(#clip592)\" cx=\"1080.67\" cy=\"86.1857\" r=\"9\" fill=\"#180b3c\" fill-rule=\"evenodd\" fill-opacity=\"1\" stroke=\"#000000\" stroke-opacity=\"1\" stroke-width=\"3.2\"/>\n",
       "<circle clip-path=\"url(#clip592)\" cx=\"884.953\" cy=\"663.098\" r=\"9\" fill=\"#160b39\" fill-rule=\"evenodd\" fill-opacity=\"1\" stroke=\"#000000\" stroke-opacity=\"1\" stroke-width=\"3.2\"/>\n",
       "<circle clip-path=\"url(#clip592)\" cx=\"1864.16\" cy=\"230.414\" r=\"3\" fill=\"#000004\" fill-rule=\"evenodd\" fill-opacity=\"1\" stroke=\"#000000\" stroke-opacity=\"1\" stroke-width=\"3.2\"/>\n",
       "<circle clip-path=\"url(#clip592)\" cx=\"2059.88\" cy=\"374.642\" r=\"9\" fill=\"#180b3c\" fill-rule=\"evenodd\" fill-opacity=\"1\" stroke=\"#000000\" stroke-opacity=\"1\" stroke-width=\"3.2\"/>\n",
       "<circle clip-path=\"url(#clip592)\" cx=\"884.953\" cy=\"230.414\" r=\"9\" fill=\"#130a33\" fill-rule=\"evenodd\" fill-opacity=\"1\" stroke=\"#000000\" stroke-opacity=\"1\" stroke-width=\"3.2\"/>\n",
       "<circle clip-path=\"url(#clip592)\" cx=\"1668.44\" cy=\"230.414\" r=\"5\" fill=\"#040314\" fill-rule=\"evenodd\" fill-opacity=\"1\" stroke=\"#000000\" stroke-opacity=\"1\" stroke-width=\"3.2\"/>\n",
       "<circle clip-path=\"url(#clip592)\" cx=\"1668.44\" cy=\"1384.24\" r=\"7\" fill=\"#0b0725\" fill-rule=\"evenodd\" fill-opacity=\"1\" stroke=\"#000000\" stroke-opacity=\"1\" stroke-width=\"3.2\"/>\n",
       "<circle clip-path=\"url(#clip592)\" cx=\"1864.16\" cy=\"1095.78\" r=\"10\" fill=\"#1b0c42\" fill-rule=\"evenodd\" fill-opacity=\"1\" stroke=\"#000000\" stroke-opacity=\"1\" stroke-width=\"3.2\"/>\n",
       "<circle clip-path=\"url(#clip592)\" cx=\"1668.44\" cy=\"86.1857\" r=\"8\" fill=\"#10092f\" fill-rule=\"evenodd\" fill-opacity=\"1\" stroke=\"#000000\" stroke-opacity=\"1\" stroke-width=\"3.2\"/>\n",
       "<circle clip-path=\"url(#clip592)\" cx=\"884.953\" cy=\"1384.24\" r=\"7\" fill=\"#0c0727\" fill-rule=\"evenodd\" fill-opacity=\"1\" stroke=\"#000000\" stroke-opacity=\"1\" stroke-width=\"3.2\"/>\n",
       "<circle clip-path=\"url(#clip592)\" cx=\"1276.39\" cy=\"1095.78\" r=\"9\" fill=\"#170b3b\" fill-rule=\"evenodd\" fill-opacity=\"1\" stroke=\"#000000\" stroke-opacity=\"1\" stroke-width=\"3.2\"/>\n",
       "<circle clip-path=\"url(#clip592)\" cx=\"1472.11\" cy=\"1384.24\" r=\"4\" fill=\"#02010d\" fill-rule=\"evenodd\" fill-opacity=\"1\" stroke=\"#000000\" stroke-opacity=\"1\" stroke-width=\"3.2\"/>\n",
       "<circle clip-path=\"url(#clip592)\" cx=\"1668.44\" cy=\"951.554\" r=\"8\" fill=\"#110930\" fill-rule=\"evenodd\" fill-opacity=\"1\" stroke=\"#000000\" stroke-opacity=\"1\" stroke-width=\"3.2\"/>\n",
       "<circle clip-path=\"url(#clip592)\" cx=\"2059.88\" cy=\"1240.01\" r=\"12\" fill=\"#2b0a57\" fill-rule=\"evenodd\" fill-opacity=\"1\" stroke=\"#000000\" stroke-opacity=\"1\" stroke-width=\"3.2\"/>\n",
       "<circle clip-path=\"url(#clip592)\" cx=\"1864.16\" cy=\"1384.24\" r=\"9\" fill=\"#140a35\" fill-rule=\"evenodd\" fill-opacity=\"1\" stroke=\"#000000\" stroke-opacity=\"1\" stroke-width=\"3.2\"/>\n",
       "<circle clip-path=\"url(#clip592)\" cx=\"884.953\" cy=\"1240.01\" r=\"6\" fill=\"#07051d\" fill-rule=\"evenodd\" fill-opacity=\"1\" stroke=\"#000000\" stroke-opacity=\"1\" stroke-width=\"3.2\"/>\n",
       "<circle clip-path=\"url(#clip592)\" cx=\"1472.11\" cy=\"518.87\" r=\"10\" fill=\"#180b3c\" fill-rule=\"evenodd\" fill-opacity=\"1\" stroke=\"#000000\" stroke-opacity=\"1\" stroke-width=\"3.2\"/>\n",
       "<circle clip-path=\"url(#clip592)\" cx=\"884.953\" cy=\"807.326\" r=\"10\" fill=\"#1b0c41\" fill-rule=\"evenodd\" fill-opacity=\"1\" stroke=\"#000000\" stroke-opacity=\"1\" stroke-width=\"3.2\"/>\n",
       "<circle clip-path=\"url(#clip592)\" cx=\"1276.39\" cy=\"518.87\" r=\"10\" fill=\"#190b3e\" fill-rule=\"evenodd\" fill-opacity=\"1\" stroke=\"#000000\" stroke-opacity=\"1\" stroke-width=\"3.2\"/>\n",
       "<circle clip-path=\"url(#clip592)\" cx=\"688.626\" cy=\"663.098\" r=\"11\" fill=\"#230b4d\" fill-rule=\"evenodd\" fill-opacity=\"1\" stroke=\"#000000\" stroke-opacity=\"1\" stroke-width=\"3.2\"/>\n",
       "<circle clip-path=\"url(#clip592)\" cx=\"688.626\" cy=\"518.87\" r=\"9\" fill=\"#150b37\" fill-rule=\"evenodd\" fill-opacity=\"1\" stroke=\"#000000\" stroke-opacity=\"1\" stroke-width=\"3.2\"/>\n",
       "<circle clip-path=\"url(#clip592)\" cx=\"688.626\" cy=\"374.642\" r=\"10\" fill=\"#1e0c46\" fill-rule=\"evenodd\" fill-opacity=\"1\" stroke=\"#000000\" stroke-opacity=\"1\" stroke-width=\"3.2\"/>\n",
       "<circle clip-path=\"url(#clip592)\" cx=\"1864.16\" cy=\"951.554\" r=\"10\" fill=\"#1d0c45\" fill-rule=\"evenodd\" fill-opacity=\"1\" stroke=\"#000000\" stroke-opacity=\"1\" stroke-width=\"3.2\"/>\n",
       "<circle clip-path=\"url(#clip592)\" cx=\"492.907\" cy=\"1384.24\" r=\"11\" fill=\"#230b4d\" fill-rule=\"evenodd\" fill-opacity=\"1\" stroke=\"#000000\" stroke-opacity=\"1\" stroke-width=\"3.2\"/>\n",
       "<circle clip-path=\"url(#clip592)\" cx=\"2059.88\" cy=\"230.414\" r=\"9\" fill=\"#180b3c\" fill-rule=\"evenodd\" fill-opacity=\"1\" stroke=\"#000000\" stroke-opacity=\"1\" stroke-width=\"3.2\"/>\n",
       "<circle clip-path=\"url(#clip592)\" cx=\"884.953\" cy=\"1095.78\" r=\"9\" fill=\"#160b39\" fill-rule=\"evenodd\" fill-opacity=\"1\" stroke=\"#000000\" stroke-opacity=\"1\" stroke-width=\"3.2\"/>\n",
       "<circle clip-path=\"url(#clip592)\" cx=\"1668.44\" cy=\"663.098\" r=\"6\" fill=\"#08051f\" fill-rule=\"evenodd\" fill-opacity=\"1\" stroke=\"#000000\" stroke-opacity=\"1\" stroke-width=\"3.2\"/>\n",
       "<circle clip-path=\"url(#clip592)\" cx=\"884.953\" cy=\"951.554\" r=\"12\" fill=\"#270b52\" fill-rule=\"evenodd\" fill-opacity=\"1\" stroke=\"#000000\" stroke-opacity=\"1\" stroke-width=\"3.2\"/>\n",
       "<circle clip-path=\"url(#clip592)\" cx=\"1276.39\" cy=\"1240.01\" r=\"9\" fill=\"#130a34\" fill-rule=\"evenodd\" fill-opacity=\"1\" stroke=\"#000000\" stroke-opacity=\"1\" stroke-width=\"3.2\"/>\n",
       "<circle clip-path=\"url(#clip592)\" cx=\"1472.11\" cy=\"1095.78\" r=\"6\" fill=\"#06041a\" fill-rule=\"evenodd\" fill-opacity=\"1\" stroke=\"#000000\" stroke-opacity=\"1\" stroke-width=\"3.2\"/>\n",
       "<circle clip-path=\"url(#clip592)\" cx=\"1668.44\" cy=\"1095.78\" r=\"5\" fill=\"#030211\" fill-rule=\"evenodd\" fill-opacity=\"1\" stroke=\"#000000\" stroke-opacity=\"1\" stroke-width=\"3.2\"/>\n",
       "<circle clip-path=\"url(#clip592)\" cx=\"1668.44\" cy=\"518.87\" r=\"7\" fill=\"#0b0725\" fill-rule=\"evenodd\" fill-opacity=\"1\" stroke=\"#000000\" stroke-opacity=\"1\" stroke-width=\"3.2\"/>\n",
       "<circle clip-path=\"url(#clip592)\" cx=\"492.907\" cy=\"1095.78\" r=\"14\" fill=\"#34095f\" fill-rule=\"evenodd\" fill-opacity=\"1\" stroke=\"#000000\" stroke-opacity=\"1\" stroke-width=\"3.2\"/>\n",
       "<circle clip-path=\"url(#clip592)\" cx=\"297.188\" cy=\"1095.78\" r=\"10\" fill=\"#1e0c45\" fill-rule=\"evenodd\" fill-opacity=\"1\" stroke=\"#000000\" stroke-opacity=\"1\" stroke-width=\"3.2\"/>\n",
       "<circle clip-path=\"url(#clip592)\" cx=\"297.188\" cy=\"663.098\" r=\"10\" fill=\"#180b3d\" fill-rule=\"evenodd\" fill-opacity=\"1\" stroke=\"#000000\" stroke-opacity=\"1\" stroke-width=\"3.2\"/>\n",
       "<circle clip-path=\"url(#clip592)\" cx=\"1668.44\" cy=\"1240.01\" r=\"11\" fill=\"#240b4e\" fill-rule=\"evenodd\" fill-opacity=\"1\" stroke=\"#000000\" stroke-opacity=\"1\" stroke-width=\"3.2\"/>\n",
       "<circle clip-path=\"url(#clip592)\" cx=\"297.188\" cy=\"951.554\" r=\"14\" fill=\"#350960\" fill-rule=\"evenodd\" fill-opacity=\"1\" stroke=\"#000000\" stroke-opacity=\"1\" stroke-width=\"3.2\"/>\n",
       "<circle clip-path=\"url(#clip592)\" cx=\"1080.67\" cy=\"1240.01\" r=\"7\" fill=\"#0a0724\" fill-rule=\"evenodd\" fill-opacity=\"1\" stroke=\"#000000\" stroke-opacity=\"1\" stroke-width=\"3.2\"/>\n",
       "<circle clip-path=\"url(#clip592)\" cx=\"297.188\" cy=\"807.326\" r=\"61\" fill=\"#fcfea4\" fill-rule=\"evenodd\" fill-opacity=\"1\" stroke=\"#000000\" stroke-opacity=\"1\" stroke-width=\"3.2\"/>\n",
       "<circle clip-path=\"url(#clip592)\" cx=\"297.188\" cy=\"230.414\" r=\"10\" fill=\"#1b0c41\" fill-rule=\"evenodd\" fill-opacity=\"1\" stroke=\"#000000\" stroke-opacity=\"1\" stroke-width=\"3.2\"/>\n",
       "<circle clip-path=\"url(#clip592)\" cx=\"297.188\" cy=\"374.642\" r=\"11\" fill=\"#1f0c48\" fill-rule=\"evenodd\" fill-opacity=\"1\" stroke=\"#000000\" stroke-opacity=\"1\" stroke-width=\"3.2\"/>\n",
       "<circle clip-path=\"url(#clip592)\" cx=\"1668.44\" cy=\"374.642\" r=\"12\" fill=\"#280b53\" fill-rule=\"evenodd\" fill-opacity=\"1\" stroke=\"#000000\" stroke-opacity=\"1\" stroke-width=\"3.2\"/>\n",
       "<circle clip-path=\"url(#clip592)\" cx=\"1472.11\" cy=\"663.098\" r=\"10\" fill=\"#190b3e\" fill-rule=\"evenodd\" fill-opacity=\"1\" stroke=\"#000000\" stroke-opacity=\"1\" stroke-width=\"3.2\"/>\n",
       "<circle clip-path=\"url(#clip592)\" cx=\"1276.39\" cy=\"374.642\" r=\"11\" fill=\"#200c49\" fill-rule=\"evenodd\" fill-opacity=\"1\" stroke=\"#000000\" stroke-opacity=\"1\" stroke-width=\"3.2\"/>\n",
       "<circle clip-path=\"url(#clip592)\" cx=\"688.626\" cy=\"1384.24\" r=\"12\" fill=\"#260b51\" fill-rule=\"evenodd\" fill-opacity=\"1\" stroke=\"#000000\" stroke-opacity=\"1\" stroke-width=\"3.2\"/>\n",
       "<circle clip-path=\"url(#clip592)\" cx=\"297.188\" cy=\"518.87\" r=\"14\" fill=\"#370961\" fill-rule=\"evenodd\" fill-opacity=\"1\" stroke=\"#000000\" stroke-opacity=\"1\" stroke-width=\"3.2\"/>\n",
       "<circle clip-path=\"url(#clip592)\" cx=\"1472.11\" cy=\"807.326\" r=\"7\" fill=\"#0c0827\" fill-rule=\"evenodd\" fill-opacity=\"1\" stroke=\"#000000\" stroke-opacity=\"1\" stroke-width=\"3.2\"/>\n",
       "<circle clip-path=\"url(#clip592)\" cx=\"688.626\" cy=\"86.1857\" r=\"11\" fill=\"#210b4b\" fill-rule=\"evenodd\" fill-opacity=\"1\" stroke=\"#000000\" stroke-opacity=\"1\" stroke-width=\"3.2\"/>\n",
       "<circle clip-path=\"url(#clip592)\" cx=\"1080.67\" cy=\"374.642\" r=\"5\" fill=\"#02020e\" fill-rule=\"evenodd\" fill-opacity=\"1\" stroke=\"#000000\" stroke-opacity=\"1\" stroke-width=\"3.2\"/>\n",
       "<circle clip-path=\"url(#clip592)\" cx=\"2059.88\" cy=\"1095.78\" r=\"12\" fill=\"#270b52\" fill-rule=\"evenodd\" fill-opacity=\"1\" stroke=\"#000000\" stroke-opacity=\"1\" stroke-width=\"3.2\"/>\n",
       "<circle clip-path=\"url(#clip592)\" cx=\"1472.11\" cy=\"230.414\" r=\"9\" fill=\"#160b39\" fill-rule=\"evenodd\" fill-opacity=\"1\" stroke=\"#000000\" stroke-opacity=\"1\" stroke-width=\"3.2\"/>\n",
       "<circle clip-path=\"url(#clip592)\" cx=\"2059.88\" cy=\"951.554\" r=\"4\" fill=\"#01010a\" fill-rule=\"evenodd\" fill-opacity=\"1\" stroke=\"#000000\" stroke-opacity=\"1\" stroke-width=\"3.2\"/>\n",
       "<circle clip-path=\"url(#clip592)\" cx=\"1864.16\" cy=\"807.326\" r=\"6\" fill=\"#06051b\" fill-rule=\"evenodd\" fill-opacity=\"1\" stroke=\"#000000\" stroke-opacity=\"1\" stroke-width=\"3.2\"/>\n",
       "<circle clip-path=\"url(#clip592)\" cx=\"492.907\" cy=\"1240.01\" r=\"11\" fill=\"#210c4a\" fill-rule=\"evenodd\" fill-opacity=\"1\" stroke=\"#000000\" stroke-opacity=\"1\" stroke-width=\"3.2\"/>\n",
       "<circle clip-path=\"url(#clip592)\" cx=\"1276.39\" cy=\"230.414\" r=\"16\" fill=\"#450a69\" fill-rule=\"evenodd\" fill-opacity=\"1\" stroke=\"#000000\" stroke-opacity=\"1\" stroke-width=\"3.2\"/>\n",
       "<circle clip-path=\"url(#clip592)\" cx=\"1864.16\" cy=\"374.642\" r=\"6\" fill=\"#060419\" fill-rule=\"evenodd\" fill-opacity=\"1\" stroke=\"#000000\" stroke-opacity=\"1\" stroke-width=\"3.2\"/>\n",
       "<circle clip-path=\"url(#clip592)\" cx=\"492.907\" cy=\"374.642\" r=\"11\" fill=\"#250b50\" fill-rule=\"evenodd\" fill-opacity=\"1\" stroke=\"#000000\" stroke-opacity=\"1\" stroke-width=\"3.2\"/>\n",
       "<circle clip-path=\"url(#clip592)\" cx=\"1080.67\" cy=\"663.098\" r=\"9\" fill=\"#140a36\" fill-rule=\"evenodd\" fill-opacity=\"1\" stroke=\"#000000\" stroke-opacity=\"1\" stroke-width=\"3.2\"/>\n",
       "<circle clip-path=\"url(#clip592)\" cx=\"1276.39\" cy=\"951.554\" r=\"7\" fill=\"#0a0724\" fill-rule=\"evenodd\" fill-opacity=\"1\" stroke=\"#000000\" stroke-opacity=\"1\" stroke-width=\"3.2\"/>\n",
       "<circle clip-path=\"url(#clip592)\" cx=\"1864.16\" cy=\"663.098\" r=\"7\" fill=\"#090622\" fill-rule=\"evenodd\" fill-opacity=\"1\" stroke=\"#000000\" stroke-opacity=\"1\" stroke-width=\"3.2\"/>\n",
       "<circle clip-path=\"url(#clip592)\" cx=\"1276.39\" cy=\"86.1857\" r=\"5\" fill=\"#02020f\" fill-rule=\"evenodd\" fill-opacity=\"1\" stroke=\"#000000\" stroke-opacity=\"1\" stroke-width=\"3.2\"/>\n",
       "<circle clip-path=\"url(#clip592)\" cx=\"884.953\" cy=\"86.1857\" r=\"11\" fill=\"#250b4f\" fill-rule=\"evenodd\" fill-opacity=\"1\" stroke=\"#000000\" stroke-opacity=\"1\" stroke-width=\"3.2\"/>\n",
       "<circle clip-path=\"url(#clip592)\" cx=\"297.188\" cy=\"1384.24\" r=\"14\" fill=\"#34095f\" fill-rule=\"evenodd\" fill-opacity=\"1\" stroke=\"#000000\" stroke-opacity=\"1\" stroke-width=\"3.2\"/>\n",
       "<circle clip-path=\"url(#clip592)\" cx=\"1472.11\" cy=\"951.554\" r=\"9\" fill=\"#170b3a\" fill-rule=\"evenodd\" fill-opacity=\"1\" stroke=\"#000000\" stroke-opacity=\"1\" stroke-width=\"3.2\"/>\n",
       "<circle clip-path=\"url(#clip592)\" cx=\"1080.67\" cy=\"951.554\" r=\"13\" fill=\"#2d0a59\" fill-rule=\"evenodd\" fill-opacity=\"1\" stroke=\"#000000\" stroke-opacity=\"1\" stroke-width=\"3.2\"/>\n",
       "<circle clip-path=\"url(#clip592)\" cx=\"1080.67\" cy=\"807.326\" r=\"7\" fill=\"#090622\" fill-rule=\"evenodd\" fill-opacity=\"1\" stroke=\"#000000\" stroke-opacity=\"1\" stroke-width=\"3.2\"/>\n",
       "<circle clip-path=\"url(#clip592)\" cx=\"492.907\" cy=\"86.1857\" r=\"9\" fill=\"#140a36\" fill-rule=\"evenodd\" fill-opacity=\"1\" stroke=\"#000000\" stroke-opacity=\"1\" stroke-width=\"3.2\"/>\n",
       "<circle clip-path=\"url(#clip592)\" cx=\"492.907\" cy=\"230.414\" r=\"11\" fill=\"#200c48\" fill-rule=\"evenodd\" fill-opacity=\"1\" stroke=\"#000000\" stroke-opacity=\"1\" stroke-width=\"3.2\"/>\n",
       "<circle clip-path=\"url(#clip592)\" cx=\"688.626\" cy=\"1095.78\" r=\"9\" fill=\"#130a34\" fill-rule=\"evenodd\" fill-opacity=\"1\" stroke=\"#000000\" stroke-opacity=\"1\" stroke-width=\"3.2\"/>\n",
       "<defs>\n",
       "  <clipPath id=\"clip593\">\n",
       "    <rect x=\"2160\" y=\"47\" width=\"73\" height=\"1377\"/>\n",
       "  </clipPath>\n",
       "</defs>\n",
       "<g clip-path=\"url(#clip593)\">\n",
       "<image width=\"72\" height=\"1376\" xlink:href=\"data:image/png;base64,\n",
       "iVBORw0KGgoAAAANSUhEUgAAAEgAAAVgCAYAAADsKhu7AAAL6UlEQVR4nO3dwZEjNxBFQVBR/lsh\n",
       "L6UFZIHqHclDpgUTL35wCXTP7Off+/c7/K+/vv0D/DqBgkBBoCBQmPv+/fbP8NMsKAgUBAoChXnv\n",
       "z7d/hp9mQUGgIFAQKAgUHDWCBQWBgkBBoDDPh/TKgoJAQaAgUJh3fUhvLCgIFAQKAgWBgqNGsKAg\n",
       "UBAoCBR8SAcLCgIFgYJAwX1QsKAgUBAoCBQECnMcNVYWFAQKAgWBgvugYEFBoCBQECgIFOa4MFtZ\n",
       "UBAoCBQECnPuP9/+GX6aBQWBgkBBoODSPlhQECgIFAQKAgX3QcGCgkBBoCBQ8CEdLCgIFAQKAgX3\n",
       "QcGCgkBBoCBQECjMx1FjZUFBoCBQECjMuf5XhI0FBYGCQEGgIFBw1AgWFAQKAgWBgqNGsKAgUBAo\n",
       "CBS8HxQsKAgUBAoCBYHCfBw1VhYUBAoCBYGCt1yDBQWBgkBBoOCbdLCgIFAQKAgUBAoePQcLCgIF\n",
       "gYJAwVEjWFAQKAgUBAoCBUeNYEFBoCBQECg4agQLCgIFgYJAYc693/4ZfpoFBYGCQEGgIFBw1AgW\n",
       "FAQKAgWBgkv7YEFBoCBQECj4kA4WFAQKAgWBgkBhPp5qrCwoCBQECgIFR41gQUGgIFAQKAgUvEAV\n",
       "LCgIFAQKAgX3QcGCgkBBoCBQcB8ULCgIFAQKAgWBgvugYEFBoCBQECj4kA4WFAQKAgWBgl/qDRYU\n",
       "BAoCBYGCQMFRI1hQECgIFAQKPqSDBQWBgkBBoCBQ8K9YsKAgUBAoCBR8SAcLCgIFgYJAYc7zIb2x\n",
       "oCBQECgIFAQKjhrBgoJAQaAgUPAhHSwoCBQECgIFH9LBgoJAQaAgUBAozLnv2z/DT7OgIFAQKAgU\n",
       "HDWCBQWBgkBBoCBQcNQIFhQECgIFgYKjRrCgIFAQKAgUfJMOFhQECgIFgYJAYY6TxsqCgkBBoCBQ\n",
       "mPMcNTYWFAQKAgWBgm/SwYKCQEGgIFAQKPhXLFhQECgIFAQK44/g7SwoCBQECgIFgYKjRrCgIFAQ\n",
       "KAgUfEgHCwoCBYGCQGHO/Xz7Z/hpFhQECgIFgYJAYd7zr9jGgoJAQaAgUHAfFCwoCBQECgIF90HB\n",
       "goJAQaAgUBAozLsabdQJAgWBgkDBUSNYUBAoCBQECgKFOR49rywoCBQECgKFeY4aKwsKAgWBgkBh\n",
       "jkv7lTpBoCBQECgIFBw1ggUFgYJAQaDg0j5YUBAoCBQECl7iDOoEgYJAQaAgUPCWa7CgIFAQKAgU\n",
       "XNoHCwoCBYGCQEGgMO9ptFEnCBQECgIF90HBgoJAQaAgUHAfFCwoCBQECgIFgcIc90ErdYJAQaAg\n",
       "UHDUCBYUBAoCBYGCD+lgQUGgIFAQKAgU/NZzsKAgUBAoCBT81nNQJwgUBAoCBYHCPEeNlQUFgYJA\n",
       "QaDgqUawoCBQECgIFPyvCEGdIFAQKAgUBArug4IFBYGCQEGg4D4oWFAQKAgUBAq+SQcLCgIFgYJA\n",
       "QaDgLdegThAoCBQECo4awYKCQEGgIFAQKHiqESwoCBQECgIFR41gQUGgIFAQKPiva4IFBYGCQEGg\n",
       "IFDwv2QGdYJAQaAgUHAfFCwoCBQECgIFT1aDBQWBgkBBoCBQcNQIFhQECgIFgcJcH9IrCwoCBYGC\n",
       "QEGg4LeegzpBoCBQECi4DwoWFAQKAgWBgg/pYEFBoCBQECgIFLxAFSwoCBQECgIFR41gQUGgIFAQ\n",
       "KPiQDhYUBAoCBYGCQMGfpgjqBIGCQEGgMNel/cqCgkBBoCBQECi4MAsWFAQKAgWBgg/pYEFBoCBQ\n",
       "ECj4kA4WFAQKAgWBgkDBH1gKFhQECgIFgYKjRrCgIFAQKAgUfEgHCwoCBYGCQEGg4FcRgjpBoCBQ\n",
       "ECj4VYRgQUGgIFAQKAgUXJgFCwoCBYGCQMGHdLCgIFAQKAgUvMQZLCgIFAQKAgWBgqNGsKAgUBAo\n",
       "CBTmHR/SGwsKAgWBgkDBfVCwoCBQECgIFAQK7oOCBQWBgkBBoOCoESwoCBQECgIFgYKjRrCgIFAQ\n",
       "KAgUHDWCBQWBgkBBoOCbdLCgIFAQKAgUBAr+FQsWFAQKAgWBwly/irCyoCBQECgIFHyTDhYUBAoC\n",
       "BYGCQMGj52BBQaAgUBAozHvf/hF+mwUFgYJAQaAgUHDUCBYUBAoCBYGCv4IXLCgIFAQKAgXfpIMF\n",
       "BYGCQEGgIFDwAlWwoCBQECgIFPwqQrCgIFAQKAgUvB8ULCgIFAQKAgWBgqcawYKCQEGgIFBwaR8s\n",
       "KAgUBAoCBYGCpxrBgoJAQaAgUHAfFCwoCBQECgIFj56DBQWBgkBBoCBQcB8ULCgIFAQKAgWPnoMF\n",
       "BYGCQEGgMPfbP8GPs6AgUBAoCBQECo4awYKCQEGgIFDwflCwoCBQECgIFAQKLsyCBQWBgkBBoOA+\n",
       "KFhQECgIFAQKvkkHCwoCBYGCQEGg4KgRLCgIFAQKAgWPnoMFBYGCQEGgMP4yxc6CgkBBoCBQECg4\n",
       "agQLCgIFgYJAwaPnYEFBoCBQECgIFDx6DhYUBAoCBYGCo0awoCBQECgIFHyTDhYUBAoCBYGCQGGu\n",
       "N6hWFhQECgIFgYL7oGBBQaAgUBAouA8KFhQECgIFgYJAwVEjWFAQKAgUBArzXNqvLCgIFAQKAgWB\n",
       "wtzjwmxjQUGgIFAQKHg/KFhQECgIFAQK/gpesKAgUBAoCBQECv4KXrCgIFAQKAgUPHoOFhQECgIF\n",
       "gYKXOIMFBYGCQEGgIFDwC3XBgoJAQaAgUHDUCBYUBAoCBYGCQMFbrsGCgkBBoCBQ8JZrsKAgUBAo\n",
       "CBR8kw4WFAQKAgWBgkDBW67BgoJAQaAgUPD3g4IFBYGCQEGg4D4oWFAQKAgUBAoCBY+egwUFgYJA\n",
       "QaDgqBEsKAgUBAoCBYGCo0awoCBQECgIFBw1ggUFgYJAQaDgQzpYUBAoCBQECgIF90HBgoJAQaAg\n",
       "UHDUCBYUBAoCBYGCb9LBgoJAQaAgUBAoOGoECwoCBYGCQMHfDwoWFAQKAgWBgkDB/+0TLCgIFAQK\n",
       "AgX3QcGCgkBBoCBQmHd8Sm8sKAgUBAoCBYGCo0awoCBQECgIFDx6DhYUBAoCBYGCJ6vBgoJAQaAg\n",
       "UBAouA8KFhQECgIFgYJHz8GCgkBBoCBQECg4agQLCgIFgYJAwR9YChYUBAoCBYHCXC8IrSwoCBQE\n",
       "CgIFgYIXqIIFBYGCQEGgMM9RY2VBQaAgUBAo+CYdLCgIFAQKAgWBgqcawYKCQEGgIFDwflCwoCBQ\n",
       "ECgIFAQKc/1C3cqCgkBBoCBQcB8ULCgIFAQKAgV/miJYUBAoCBQECgIFL1AFCwoCBYGCQMGlfbCg\n",
       "IFAQKAgU3AcFCwoCBYGCQEGgMPe4EdpYUBAoCBQECu6DggUFgYJAQaAgUPCvWLCgIFAQKAgUPNUI\n",
       "FhQECgIFgYJL+2BBQaAgUBAoCBTmfhw1NhYUBAoCBYGCo0awoCBQECgIFOb5kF5ZUBAoCBQECgIF\n",
       "R41gQUGgIFAQKMz9+JDeWFAQKAgUBAoCBUeNYEFBoCBQECh4qhEsKAgUBAoCBd+kgwUFgYJAQaAg\n",
       "UPCvWLCgIFAQKAgUPHoOFhQECgIFgcK88+fbP8NPs6AgUBAoCBQECu6DggUFgYJAQaDg/aBgQUGg\n",
       "IFAQKAgU5j4XZhsLCgIFgYJAwVEjWFAQKAgUBApzPXpeWVAQKAgUBAoCBUeNYEFBoCBQECg4agQL\n",
       "CgIFgYJAYd7zTXpjQUGgIFAQKAgU3AcFCwoCBYGCQMFLnMGCgkBBoCBQECg4agQLCgIFgYJAYZ6j\n",
       "xsqCgkBBoCBQ8E06WFAQKAgUBAoChbleoFpZUBAoCBQECv7gdrCgIFAQKAgU/CpCsKAgUBAoCBQE\n",
       "Cp5qBAsKAgWBgkDBUSNYUBAoCBQECgIF/4oFCwoCBYGCQMGj52BBQaAgUBAo+CYdLCgIFAQKAgWB\n",
       "whyPnlcWFAQKAgWBgqNGsKAgUBAoCBS8xBksKAgUBAoCBYHCHEeNlQUFgYJAQaDg/aBgQUGgIFAQ\n",
       "KAgUPHoOFhQECgIFgYL7oGBBQaAgUBAozDvv2z/DT7OgIFAQKAgUBArug4IFBYGCQEGgMMdRY2VB\n",
       "QaAgUBAo/AdhU+3PqlcPeQAAAABJRU5ErkJggg==\n",
       "\" transform=\"translate(2161, 47)\"/>\n",
       "</g>\n",
       "<path clip-path=\"url(#clip590)\" d=\"M 0 0 M2280.7 1277.16 Q2277.09 1277.16 2275.26 1280.72 Q2273.45 1284.27 2273.45 1291.39 Q2273.45 1298.5 2275.26 1302.07 Q2277.09 1305.61 2280.7 1305.61 Q2284.33 1305.61 2286.14 1302.07 Q2287.97 1298.5 2287.97 1291.39 Q2287.97 1284.27 2286.14 1280.72 Q2284.33 1277.16 2280.7 1277.16 M2280.7 1273.46 Q2286.51 1273.46 2289.57 1278.06 Q2292.64 1282.64 2292.64 1291.39 Q2292.64 1300.12 2289.57 1304.73 Q2286.51 1309.31 2280.7 1309.31 Q2274.89 1309.31 2271.81 1304.73 Q2268.76 1300.12 2268.76 1291.39 Q2268.76 1282.64 2271.81 1278.06 Q2274.89 1273.46 2280.7 1273.46 Z\" fill=\"#000000\" fill-rule=\"evenodd\" fill-opacity=\"1\" /><path clip-path=\"url(#clip590)\" d=\"M 0 0 M2297.71 1302.76 L2302.6 1302.76 L2302.6 1308.64 L2297.71 1308.64 L2297.71 1302.76 Z\" fill=\"#000000\" fill-rule=\"evenodd\" fill-opacity=\"1\" /><path clip-path=\"url(#clip590)\" d=\"M 0 0 M2318.25 1289.5 Q2315.1 1289.5 2313.25 1291.65 Q2311.42 1293.8 2311.42 1297.55 Q2311.42 1301.28 2313.25 1303.45 Q2315.1 1305.61 2318.25 1305.61 Q2321.39 1305.61 2323.22 1303.45 Q2325.08 1301.28 2325.08 1297.55 Q2325.08 1293.8 2323.22 1291.65 Q2321.39 1289.5 2318.25 1289.5 M2327.53 1274.84 L2327.53 1279.1 Q2325.77 1278.27 2323.96 1277.83 Q2322.18 1277.39 2320.42 1277.39 Q2315.79 1277.39 2313.34 1280.52 Q2310.91 1283.64 2310.56 1289.96 Q2311.93 1287.95 2313.99 1286.88 Q2316.05 1285.79 2318.52 1285.79 Q2323.73 1285.79 2326.74 1288.96 Q2329.77 1292.11 2329.77 1297.55 Q2329.77 1302.88 2326.63 1306.09 Q2323.48 1309.31 2318.25 1309.31 Q2312.25 1309.31 2309.08 1304.73 Q2305.91 1300.12 2305.91 1291.39 Q2305.91 1283.2 2309.8 1278.34 Q2313.69 1273.46 2320.24 1273.46 Q2322 1273.46 2323.78 1273.8 Q2325.58 1274.15 2327.53 1274.84 Z\" fill=\"#000000\" fill-rule=\"evenodd\" fill-opacity=\"1\" /><path clip-path=\"url(#clip590)\" d=\"M 0 0 M2338.87 1304.7 L2355.19 1304.7 L2355.19 1308.64 L2333.25 1308.64 L2333.25 1304.7 Q2335.91 1301.95 2340.49 1297.32 Q2345.1 1292.67 2346.28 1291.33 Q2348.52 1288.8 2349.4 1287.07 Q2350.31 1285.31 2350.31 1283.62 Q2350.31 1280.86 2348.36 1279.13 Q2346.44 1277.39 2343.34 1277.39 Q2341.14 1277.39 2338.69 1278.15 Q2336.26 1278.92 2333.48 1280.47 L2333.48 1275.75 Q2336.3 1274.61 2338.76 1274.03 Q2341.21 1273.46 2343.25 1273.46 Q2348.62 1273.46 2351.81 1276.14 Q2355.01 1278.83 2355.01 1283.32 Q2355.01 1285.45 2354.2 1287.37 Q2353.41 1289.27 2351.3 1291.86 Q2350.72 1292.53 2347.62 1295.75 Q2344.52 1298.94 2338.87 1304.7 Z\" fill=\"#000000\" fill-rule=\"evenodd\" fill-opacity=\"1\" /><path clip-path=\"url(#clip590)\" d=\"M 0 0 M2360.31 1274.08 L2378.66 1274.08 L2378.66 1278.02 L2364.59 1278.02 L2364.59 1286.49 Q2365.61 1286.14 2366.63 1285.98 Q2367.64 1285.79 2368.66 1285.79 Q2374.45 1285.79 2377.83 1288.96 Q2381.21 1292.14 2381.21 1297.55 Q2381.21 1303.13 2377.74 1306.23 Q2374.26 1309.31 2367.95 1309.31 Q2365.77 1309.31 2363.5 1308.94 Q2361.26 1308.57 2358.85 1307.83 L2358.85 1303.13 Q2360.93 1304.27 2363.15 1304.82 Q2365.38 1305.38 2367.85 1305.38 Q2371.86 1305.38 2374.2 1303.27 Q2376.53 1301.16 2376.53 1297.55 Q2376.53 1293.94 2374.2 1291.83 Q2371.86 1289.73 2367.85 1289.73 Q2365.98 1289.73 2364.1 1290.14 Q2362.25 1290.56 2360.31 1291.44 L2360.31 1274.08 Z\" fill=\"#000000\" fill-rule=\"evenodd\" fill-opacity=\"1\" /><path clip-path=\"url(#clip590)\" d=\"M 0 0 M2280.7 1114.29 Q2277.09 1114.29 2275.26 1117.85 Q2273.45 1121.39 2273.45 1128.52 Q2273.45 1135.63 2275.26 1139.19 Q2277.09 1142.74 2280.7 1142.74 Q2284.33 1142.74 2286.14 1139.19 Q2287.97 1135.63 2287.97 1128.52 Q2287.97 1121.39 2286.14 1117.85 Q2284.33 1114.29 2280.7 1114.29 M2280.7 1110.58 Q2286.51 1110.58 2289.57 1115.19 Q2292.64 1119.77 2292.64 1128.52 Q2292.64 1137.25 2289.57 1141.86 Q2286.51 1146.44 2280.7 1146.44 Q2274.89 1146.44 2271.81 1141.86 Q2268.76 1137.25 2268.76 1128.52 Q2268.76 1119.77 2271.81 1115.19 Q2274.89 1110.58 2280.7 1110.58 Z\" fill=\"#000000\" fill-rule=\"evenodd\" fill-opacity=\"1\" /><path clip-path=\"url(#clip590)\" d=\"M 0 0 M2297.71 1139.89 L2302.6 1139.89 L2302.6 1145.77 L2297.71 1145.77 L2297.71 1139.89 Z\" fill=\"#000000\" fill-rule=\"evenodd\" fill-opacity=\"1\" /><path clip-path=\"url(#clip590)\" d=\"M 0 0 M2318.25 1126.62 Q2315.1 1126.62 2313.25 1128.78 Q2311.42 1130.93 2311.42 1134.68 Q2311.42 1138.41 2313.25 1140.58 Q2315.1 1142.74 2318.25 1142.74 Q2321.39 1142.74 2323.22 1140.58 Q2325.08 1138.41 2325.08 1134.68 Q2325.08 1130.93 2323.22 1128.78 Q2321.39 1126.62 2318.25 1126.62 M2327.53 1111.97 L2327.53 1116.23 Q2325.77 1115.4 2323.96 1114.96 Q2322.18 1114.52 2320.42 1114.52 Q2315.79 1114.52 2313.34 1117.64 Q2310.91 1120.77 2310.56 1127.09 Q2311.93 1125.07 2313.99 1124.01 Q2316.05 1122.92 2318.52 1122.92 Q2323.73 1122.92 2326.74 1126.09 Q2329.77 1129.24 2329.77 1134.68 Q2329.77 1140 2326.63 1143.22 Q2323.48 1146.44 2318.25 1146.44 Q2312.25 1146.44 2309.08 1141.86 Q2305.91 1137.25 2305.91 1128.52 Q2305.91 1120.33 2309.8 1115.47 Q2313.69 1110.58 2320.24 1110.58 Q2322 1110.58 2323.78 1110.93 Q2325.58 1111.28 2327.53 1111.97 Z\" fill=\"#000000\" fill-rule=\"evenodd\" fill-opacity=\"1\" /><path clip-path=\"url(#clip590)\" d=\"M 0 0 M2334.89 1111.21 L2353.25 1111.21 L2353.25 1115.14 L2339.17 1115.14 L2339.17 1123.62 Q2340.19 1123.27 2341.21 1123.11 Q2342.23 1122.92 2343.25 1122.92 Q2349.03 1122.92 2352.41 1126.09 Q2355.79 1129.26 2355.79 1134.68 Q2355.79 1140.26 2352.32 1143.36 Q2348.85 1146.44 2342.53 1146.44 Q2340.35 1146.44 2338.08 1146.07 Q2335.84 1145.7 2333.43 1144.96 L2333.43 1140.26 Q2335.51 1141.39 2337.74 1141.95 Q2339.96 1142.5 2342.44 1142.5 Q2346.44 1142.5 2348.78 1140.4 Q2351.12 1138.29 2351.12 1134.68 Q2351.12 1131.07 2348.78 1128.96 Q2346.44 1126.86 2342.44 1126.86 Q2340.56 1126.86 2338.69 1127.27 Q2336.83 1127.69 2334.89 1128.57 L2334.89 1111.21 Z\" fill=\"#000000\" fill-rule=\"evenodd\" fill-opacity=\"1\" /><path clip-path=\"url(#clip590)\" d=\"M 0 0 M2370.86 1114.29 Q2367.25 1114.29 2365.42 1117.85 Q2363.62 1121.39 2363.62 1128.52 Q2363.62 1135.63 2365.42 1139.19 Q2367.25 1142.74 2370.86 1142.74 Q2374.5 1142.74 2376.3 1139.19 Q2378.13 1135.63 2378.13 1128.52 Q2378.13 1121.39 2376.3 1117.85 Q2374.5 1114.29 2370.86 1114.29 M2370.86 1110.58 Q2376.67 1110.58 2379.73 1115.19 Q2382.81 1119.77 2382.81 1128.52 Q2382.81 1137.25 2379.73 1141.86 Q2376.67 1146.44 2370.86 1146.44 Q2365.05 1146.44 2361.97 1141.86 Q2358.92 1137.25 2358.92 1128.52 Q2358.92 1119.77 2361.97 1115.19 Q2365.05 1110.58 2370.86 1110.58 Z\" fill=\"#000000\" fill-rule=\"evenodd\" fill-opacity=\"1\" /><path clip-path=\"url(#clip590)\" d=\"M 0 0 M2280.7 951.415 Q2277.09 951.415 2275.26 954.979 Q2273.45 958.521 2273.45 965.651 Q2273.45 972.757 2275.26 976.322 Q2277.09 979.864 2280.7 979.864 Q2284.33 979.864 2286.14 976.322 Q2287.97 972.757 2287.97 965.651 Q2287.97 958.521 2286.14 954.979 Q2284.33 951.415 2280.7 951.415 M2280.7 947.711 Q2286.51 947.711 2289.57 952.317 Q2292.64 956.901 2292.64 965.651 Q2292.64 974.377 2289.57 978.984 Q2286.51 983.567 2280.7 983.567 Q2274.89 983.567 2271.81 978.984 Q2268.76 974.377 2268.76 965.651 Q2268.76 956.901 2271.81 952.317 Q2274.89 947.711 2280.7 947.711 Z\" fill=\"#000000\" fill-rule=\"evenodd\" fill-opacity=\"1\" /><path clip-path=\"url(#clip590)\" d=\"M 0 0 M2297.71 977.016 L2302.6 977.016 L2302.6 982.896 L2297.71 982.896 L2297.71 977.016 Z\" fill=\"#000000\" fill-rule=\"evenodd\" fill-opacity=\"1\" /><path clip-path=\"url(#clip590)\" d=\"M 0 0 M2318.25 963.752 Q2315.1 963.752 2313.25 965.905 Q2311.42 968.058 2311.42 971.808 Q2311.42 975.535 2313.25 977.711 Q2315.1 979.864 2318.25 979.864 Q2321.39 979.864 2323.22 977.711 Q2325.08 975.535 2325.08 971.808 Q2325.08 968.058 2323.22 965.905 Q2321.39 963.752 2318.25 963.752 M2327.53 949.1 L2327.53 953.359 Q2325.77 952.526 2323.96 952.086 Q2322.18 951.646 2320.42 951.646 Q2315.79 951.646 2313.34 954.771 Q2310.91 957.896 2310.56 964.215 Q2311.93 962.202 2313.99 961.137 Q2316.05 960.049 2318.52 960.049 Q2323.73 960.049 2326.74 963.22 Q2329.77 966.368 2329.77 971.808 Q2329.77 977.132 2326.63 980.35 Q2323.48 983.567 2318.25 983.567 Q2312.25 983.567 2309.08 978.984 Q2305.91 974.377 2305.91 965.651 Q2305.91 957.456 2309.8 952.595 Q2313.69 947.711 2320.24 947.711 Q2322 947.711 2323.78 948.058 Q2325.58 948.405 2327.53 949.1 Z\" fill=\"#000000\" fill-rule=\"evenodd\" fill-opacity=\"1\" /><path clip-path=\"url(#clip590)\" d=\"M 0 0 M2333.66 948.336 L2355.89 948.336 L2355.89 950.327 L2343.34 982.896 L2338.45 982.896 L2350.26 952.271 L2333.66 952.271 L2333.66 948.336 Z\" fill=\"#000000\" fill-rule=\"evenodd\" fill-opacity=\"1\" /><path clip-path=\"url(#clip590)\" d=\"M 0 0 M2361 948.336 L2379.36 948.336 L2379.36 952.271 L2365.28 952.271 L2365.28 960.743 Q2366.3 960.396 2367.32 960.234 Q2368.34 960.049 2369.36 960.049 Q2375.14 960.049 2378.52 963.22 Q2381.9 966.391 2381.9 971.808 Q2381.9 977.387 2378.43 980.489 Q2374.96 983.567 2368.64 983.567 Q2366.46 983.567 2364.2 983.197 Q2361.95 982.826 2359.54 982.086 L2359.54 977.387 Q2361.63 978.521 2363.85 979.076 Q2366.07 979.632 2368.55 979.632 Q2372.55 979.632 2374.89 977.526 Q2377.23 975.419 2377.23 971.808 Q2377.23 968.197 2374.89 966.09 Q2372.55 963.984 2368.55 963.984 Q2366.67 963.984 2364.8 964.401 Q2362.95 964.817 2361 965.697 L2361 948.336 Z\" fill=\"#000000\" fill-rule=\"evenodd\" fill-opacity=\"1\" /><path clip-path=\"url(#clip590)\" d=\"M 0 0 M2280.7 788.542 Q2277.09 788.542 2275.26 792.107 Q2273.45 795.649 2273.45 802.779 Q2273.45 809.885 2275.26 813.45 Q2277.09 816.991 2280.7 816.991 Q2284.33 816.991 2286.14 813.45 Q2287.97 809.885 2287.97 802.779 Q2287.97 795.649 2286.14 792.107 Q2284.33 788.542 2280.7 788.542 M2280.7 784.839 Q2286.51 784.839 2289.57 789.445 Q2292.64 794.029 2292.64 802.779 Q2292.64 811.505 2289.57 816.112 Q2286.51 820.695 2280.7 820.695 Q2274.89 820.695 2271.81 816.112 Q2268.76 811.505 2268.76 802.779 Q2268.76 794.029 2271.81 789.445 Q2274.89 784.839 2280.7 784.839 Z\" fill=\"#000000\" fill-rule=\"evenodd\" fill-opacity=\"1\" /><path clip-path=\"url(#clip590)\" d=\"M 0 0 M2297.71 814.144 L2302.6 814.144 L2302.6 820.024 L2297.71 820.024 L2297.71 814.144 Z\" fill=\"#000000\" fill-rule=\"evenodd\" fill-opacity=\"1\" /><path clip-path=\"url(#clip590)\" d=\"M 0 0 M2306.49 785.464 L2328.71 785.464 L2328.71 787.455 L2316.16 820.024 L2311.28 820.024 L2323.08 789.399 L2306.49 789.399 L2306.49 785.464 Z\" fill=\"#000000\" fill-rule=\"evenodd\" fill-opacity=\"1\" /><path clip-path=\"url(#clip590)\" d=\"M 0 0 M2343.78 788.542 Q2340.17 788.542 2338.34 792.107 Q2336.53 795.649 2336.53 802.779 Q2336.53 809.885 2338.34 813.45 Q2340.17 816.991 2343.78 816.991 Q2347.41 816.991 2349.22 813.45 Q2351.05 809.885 2351.05 802.779 Q2351.05 795.649 2349.22 792.107 Q2347.41 788.542 2343.78 788.542 M2343.78 784.839 Q2349.59 784.839 2352.64 789.445 Q2355.72 794.029 2355.72 802.779 Q2355.72 811.505 2352.64 816.112 Q2349.59 820.695 2343.78 820.695 Q2337.97 820.695 2334.89 816.112 Q2331.83 811.505 2331.83 802.779 Q2331.83 794.029 2334.89 789.445 Q2337.97 784.839 2343.78 784.839 Z\" fill=\"#000000\" fill-rule=\"evenodd\" fill-opacity=\"1\" /><path clip-path=\"url(#clip590)\" d=\"M 0 0 M2370.79 788.542 Q2367.18 788.542 2365.35 792.107 Q2363.55 795.649 2363.55 802.779 Q2363.55 809.885 2365.35 813.45 Q2367.18 816.991 2370.79 816.991 Q2374.43 816.991 2376.23 813.45 Q2378.06 809.885 2378.06 802.779 Q2378.06 795.649 2376.23 792.107 Q2374.43 788.542 2370.79 788.542 M2370.79 784.839 Q2376.6 784.839 2379.66 789.445 Q2382.74 794.029 2382.74 802.779 Q2382.74 811.505 2379.66 816.112 Q2376.6 820.695 2370.79 820.695 Q2364.98 820.695 2361.9 816.112 Q2358.85 811.505 2358.85 802.779 Q2358.85 794.029 2361.9 789.445 Q2364.98 784.839 2370.79 784.839 Z\" fill=\"#000000\" fill-rule=\"evenodd\" fill-opacity=\"1\" /><path clip-path=\"url(#clip590)\" d=\"M 0 0 M2280.7 625.67 Q2277.09 625.67 2275.26 629.235 Q2273.45 632.777 2273.45 639.906 Q2273.45 647.013 2275.26 650.578 Q2277.09 654.119 2280.7 654.119 Q2284.33 654.119 2286.14 650.578 Q2287.97 647.013 2287.97 639.906 Q2287.97 632.777 2286.14 629.235 Q2284.33 625.67 2280.7 625.67 M2280.7 621.967 Q2286.51 621.967 2289.57 626.573 Q2292.64 631.156 2292.64 639.906 Q2292.64 648.633 2289.57 653.24 Q2286.51 657.823 2280.7 657.823 Q2274.89 657.823 2271.81 653.24 Q2268.76 648.633 2268.76 639.906 Q2268.76 631.156 2271.81 626.573 Q2274.89 621.967 2280.7 621.967 Z\" fill=\"#000000\" fill-rule=\"evenodd\" fill-opacity=\"1\" /><path clip-path=\"url(#clip590)\" d=\"M 0 0 M2297.71 651.272 L2302.6 651.272 L2302.6 657.152 L2297.71 657.152 L2297.71 651.272 Z\" fill=\"#000000\" fill-rule=\"evenodd\" fill-opacity=\"1\" /><path clip-path=\"url(#clip590)\" d=\"M 0 0 M2306.49 622.592 L2328.71 622.592 L2328.71 624.582 L2316.16 657.152 L2311.28 657.152 L2323.08 626.527 L2306.49 626.527 L2306.49 622.592 Z\" fill=\"#000000\" fill-rule=\"evenodd\" fill-opacity=\"1\" /><path clip-path=\"url(#clip590)\" d=\"M 0 0 M2337.81 653.217 L2354.13 653.217 L2354.13 657.152 L2332.18 657.152 L2332.18 653.217 Q2334.84 650.462 2339.43 645.832 Q2344.03 641.18 2345.21 639.837 Q2347.46 637.314 2348.34 635.578 Q2349.24 633.818 2349.24 632.129 Q2349.24 629.374 2347.3 627.638 Q2345.38 625.902 2342.27 625.902 Q2340.07 625.902 2337.62 626.666 Q2335.19 627.43 2332.41 628.981 L2332.41 624.258 Q2335.24 623.124 2337.69 622.545 Q2340.14 621.967 2342.18 621.967 Q2347.55 621.967 2350.75 624.652 Q2353.94 627.337 2353.94 631.828 Q2353.94 633.957 2353.13 635.879 Q2352.34 637.777 2350.24 640.369 Q2349.66 641.041 2346.56 644.258 Q2343.45 647.453 2337.81 653.217 Z\" fill=\"#000000\" fill-rule=\"evenodd\" fill-opacity=\"1\" /><path clip-path=\"url(#clip590)\" d=\"M 0 0 M2359.24 622.592 L2377.6 622.592 L2377.6 626.527 L2363.52 626.527 L2363.52 634.999 Q2364.54 634.652 2365.56 634.49 Q2366.58 634.305 2367.6 634.305 Q2373.38 634.305 2376.76 637.476 Q2380.14 640.647 2380.14 646.064 Q2380.14 651.642 2376.67 654.744 Q2373.2 657.823 2366.88 657.823 Q2364.7 657.823 2362.44 657.453 Q2360.19 657.082 2357.78 656.342 L2357.78 651.642 Q2359.87 652.777 2362.09 653.332 Q2364.31 653.888 2366.79 653.888 Q2370.79 653.888 2373.13 651.781 Q2375.47 649.675 2375.47 646.064 Q2375.47 642.453 2373.13 640.346 Q2370.79 638.24 2366.79 638.24 Q2364.91 638.24 2363.04 638.656 Q2361.19 639.073 2359.24 639.953 L2359.24 622.592 Z\" fill=\"#000000\" fill-rule=\"evenodd\" fill-opacity=\"1\" /><path clip-path=\"url(#clip590)\" d=\"M 0 0 M2280.7 462.798 Q2277.09 462.798 2275.26 466.363 Q2273.45 469.905 2273.45 477.034 Q2273.45 484.141 2275.26 487.706 Q2277.09 491.247 2280.7 491.247 Q2284.33 491.247 2286.14 487.706 Q2287.97 484.141 2287.97 477.034 Q2287.97 469.905 2286.14 466.363 Q2284.33 462.798 2280.7 462.798 M2280.7 459.095 Q2286.51 459.095 2289.57 463.701 Q2292.64 468.284 2292.64 477.034 Q2292.64 485.761 2289.57 490.368 Q2286.51 494.951 2280.7 494.951 Q2274.89 494.951 2271.81 490.368 Q2268.76 485.761 2268.76 477.034 Q2268.76 468.284 2271.81 463.701 Q2274.89 459.095 2280.7 459.095 Z\" fill=\"#000000\" fill-rule=\"evenodd\" fill-opacity=\"1\" /><path clip-path=\"url(#clip590)\" d=\"M 0 0 M2297.71 488.4 L2302.6 488.4 L2302.6 494.28 L2297.71 494.28 L2297.71 488.4 Z\" fill=\"#000000\" fill-rule=\"evenodd\" fill-opacity=\"1\" /><path clip-path=\"url(#clip590)\" d=\"M 0 0 M2306.49 459.72 L2328.71 459.72 L2328.71 461.71 L2316.16 494.28 L2311.28 494.28 L2323.08 463.655 L2306.49 463.655 L2306.49 459.72 Z\" fill=\"#000000\" fill-rule=\"evenodd\" fill-opacity=\"1\" /><path clip-path=\"url(#clip590)\" d=\"M 0 0 M2333.83 459.72 L2352.18 459.72 L2352.18 463.655 L2338.11 463.655 L2338.11 472.127 Q2339.13 471.78 2340.14 471.618 Q2341.16 471.432 2342.18 471.432 Q2347.97 471.432 2351.35 474.604 Q2354.73 477.775 2354.73 483.192 Q2354.73 488.77 2351.26 491.872 Q2347.78 494.951 2341.46 494.951 Q2339.29 494.951 2337.02 494.581 Q2334.77 494.21 2332.37 493.469 L2332.37 488.77 Q2334.45 489.905 2336.67 490.46 Q2338.89 491.016 2341.37 491.016 Q2345.38 491.016 2347.71 488.909 Q2350.05 486.803 2350.05 483.192 Q2350.05 479.581 2347.71 477.474 Q2345.38 475.368 2341.37 475.368 Q2339.5 475.368 2337.62 475.784 Q2335.77 476.201 2333.83 477.081 L2333.83 459.72 Z\" fill=\"#000000\" fill-rule=\"evenodd\" fill-opacity=\"1\" /><path clip-path=\"url(#clip590)\" d=\"M 0 0 M2369.8 462.798 Q2366.19 462.798 2364.36 466.363 Q2362.55 469.905 2362.55 477.034 Q2362.55 484.141 2364.36 487.706 Q2366.19 491.247 2369.8 491.247 Q2373.43 491.247 2375.24 487.706 Q2377.07 484.141 2377.07 477.034 Q2377.07 469.905 2375.24 466.363 Q2373.43 462.798 2369.8 462.798 M2369.8 459.095 Q2375.61 459.095 2378.66 463.701 Q2381.74 468.284 2381.74 477.034 Q2381.74 485.761 2378.66 490.368 Q2375.61 494.951 2369.8 494.951 Q2363.99 494.951 2360.91 490.368 Q2357.85 485.761 2357.85 477.034 Q2357.85 468.284 2360.91 463.701 Q2363.99 459.095 2369.8 459.095 Z\" fill=\"#000000\" fill-rule=\"evenodd\" fill-opacity=\"1\" /><path clip-path=\"url(#clip590)\" d=\"M 0 0 M2280.7 299.926 Q2277.09 299.926 2275.26 303.491 Q2273.45 307.033 2273.45 314.162 Q2273.45 321.269 2275.26 324.833 Q2277.09 328.375 2280.7 328.375 Q2284.33 328.375 2286.14 324.833 Q2287.97 321.269 2287.97 314.162 Q2287.97 307.033 2286.14 303.491 Q2284.33 299.926 2280.7 299.926 M2280.7 296.222 Q2286.51 296.222 2289.57 300.829 Q2292.64 305.412 2292.64 314.162 Q2292.64 322.889 2289.57 327.495 Q2286.51 332.079 2280.7 332.079 Q2274.89 332.079 2271.81 327.495 Q2268.76 322.889 2268.76 314.162 Q2268.76 305.412 2271.81 300.829 Q2274.89 296.222 2280.7 296.222 Z\" fill=\"#000000\" fill-rule=\"evenodd\" fill-opacity=\"1\" /><path clip-path=\"url(#clip590)\" d=\"M 0 0 M2297.71 325.528 L2302.6 325.528 L2302.6 331.407 L2297.71 331.407 L2297.71 325.528 Z\" fill=\"#000000\" fill-rule=\"evenodd\" fill-opacity=\"1\" /><path clip-path=\"url(#clip590)\" d=\"M 0 0 M2306.49 296.847 L2328.71 296.847 L2328.71 298.838 L2316.16 331.407 L2311.28 331.407 L2323.08 300.783 L2306.49 300.783 L2306.49 296.847 Z\" fill=\"#000000\" fill-rule=\"evenodd\" fill-opacity=\"1\" /><path clip-path=\"url(#clip590)\" d=\"M 0 0 M2332.6 296.847 L2354.82 296.847 L2354.82 298.838 L2342.27 331.407 L2337.39 331.407 L2349.2 300.783 L2332.6 300.783 L2332.6 296.847 Z\" fill=\"#000000\" fill-rule=\"evenodd\" fill-opacity=\"1\" /><path clip-path=\"url(#clip590)\" d=\"M 0 0 M2359.94 296.847 L2378.29 296.847 L2378.29 300.783 L2364.22 300.783 L2364.22 309.255 Q2365.24 308.908 2366.26 308.746 Q2367.27 308.56 2368.29 308.56 Q2374.08 308.56 2377.46 311.732 Q2380.84 314.903 2380.84 320.32 Q2380.84 325.898 2377.37 329 Q2373.89 332.079 2367.57 332.079 Q2365.4 332.079 2363.13 331.708 Q2360.89 331.338 2358.48 330.597 L2358.48 325.898 Q2360.56 327.033 2362.78 327.588 Q2365.01 328.144 2367.48 328.144 Q2371.49 328.144 2373.82 326.037 Q2376.16 323.931 2376.16 320.32 Q2376.16 316.708 2373.82 314.602 Q2371.49 312.496 2367.48 312.496 Q2365.61 312.496 2363.73 312.912 Q2361.88 313.329 2359.94 314.209 L2359.94 296.847 Z\" fill=\"#000000\" fill-rule=\"evenodd\" fill-opacity=\"1\" /><path clip-path=\"url(#clip590)\" d=\"M 0 0 M2280.7 137.054 Q2277.09 137.054 2275.26 140.619 Q2273.45 144.161 2273.45 151.29 Q2273.45 158.397 2275.26 161.961 Q2277.09 165.503 2280.7 165.503 Q2284.33 165.503 2286.14 161.961 Q2287.97 158.397 2287.97 151.29 Q2287.97 144.161 2286.14 140.619 Q2284.33 137.054 2280.7 137.054 M2280.7 133.35 Q2286.51 133.35 2289.57 137.957 Q2292.64 142.54 2292.64 151.29 Q2292.64 160.017 2289.57 164.623 Q2286.51 169.207 2280.7 169.207 Q2274.89 169.207 2271.81 164.623 Q2268.76 160.017 2268.76 151.29 Q2268.76 142.54 2271.81 137.957 Q2274.89 133.35 2280.7 133.35 Z\" fill=\"#000000\" fill-rule=\"evenodd\" fill-opacity=\"1\" /><path clip-path=\"url(#clip590)\" d=\"M 0 0 M2297.71 162.656 L2302.6 162.656 L2302.6 168.535 L2297.71 168.535 L2297.71 162.656 Z\" fill=\"#000000\" fill-rule=\"evenodd\" fill-opacity=\"1\" /><path clip-path=\"url(#clip590)\" d=\"M 0 0 M2317.67 152.123 Q2314.33 152.123 2312.41 153.906 Q2310.51 155.688 2310.51 158.813 Q2310.51 161.938 2312.41 163.721 Q2314.33 165.503 2317.67 165.503 Q2321 165.503 2322.92 163.721 Q2324.84 161.915 2324.84 158.813 Q2324.84 155.688 2322.92 153.906 Q2321.02 152.123 2317.67 152.123 M2312.99 150.133 Q2309.98 149.392 2308.29 147.332 Q2306.63 145.272 2306.63 142.309 Q2306.63 138.165 2309.57 135.758 Q2312.53 133.35 2317.67 133.35 Q2322.83 133.35 2325.77 135.758 Q2328.71 138.165 2328.71 142.309 Q2328.71 145.272 2327.02 147.332 Q2325.35 149.392 2322.37 150.133 Q2325.75 150.92 2327.62 153.211 Q2329.52 155.503 2329.52 158.813 Q2329.52 163.836 2326.44 166.522 Q2323.39 169.207 2317.67 169.207 Q2311.95 169.207 2308.87 166.522 Q2305.82 163.836 2305.82 158.813 Q2305.82 155.503 2307.71 153.211 Q2309.61 150.92 2312.99 150.133 M2311.28 142.748 Q2311.28 145.434 2312.95 146.938 Q2314.64 148.443 2317.67 148.443 Q2320.68 148.443 2322.37 146.938 Q2324.08 145.434 2324.08 142.748 Q2324.08 140.063 2322.37 138.559 Q2320.68 137.054 2317.67 137.054 Q2314.64 137.054 2312.95 138.559 Q2311.28 140.063 2311.28 142.748 Z\" fill=\"#000000\" fill-rule=\"evenodd\" fill-opacity=\"1\" /><path clip-path=\"url(#clip590)\" d=\"M 0 0 M2344.59 137.054 Q2340.98 137.054 2339.15 140.619 Q2337.34 144.161 2337.34 151.29 Q2337.34 158.397 2339.15 161.961 Q2340.98 165.503 2344.59 165.503 Q2348.22 165.503 2350.03 161.961 Q2351.86 158.397 2351.86 151.29 Q2351.86 144.161 2350.03 140.619 Q2348.22 137.054 2344.59 137.054 M2344.59 133.35 Q2350.4 133.35 2353.45 137.957 Q2356.53 142.54 2356.53 151.29 Q2356.53 160.017 2353.45 164.623 Q2350.4 169.207 2344.59 169.207 Q2338.78 169.207 2335.7 164.623 Q2332.64 160.017 2332.64 151.29 Q2332.64 142.54 2335.7 137.957 Q2338.78 133.35 2344.59 133.35 Z\" fill=\"#000000\" fill-rule=\"evenodd\" fill-opacity=\"1\" /><path clip-path=\"url(#clip590)\" d=\"M 0 0 M2371.6 137.054 Q2367.99 137.054 2366.16 140.619 Q2364.36 144.161 2364.36 151.29 Q2364.36 158.397 2366.16 161.961 Q2367.99 165.503 2371.6 165.503 Q2375.24 165.503 2377.04 161.961 Q2378.87 158.397 2378.87 151.29 Q2378.87 144.161 2377.04 140.619 Q2375.24 137.054 2371.6 137.054 M2371.6 133.35 Q2377.41 133.35 2380.47 137.957 Q2383.55 142.54 2383.55 151.29 Q2383.55 160.017 2380.47 164.623 Q2377.41 169.207 2371.6 169.207 Q2365.79 169.207 2362.71 164.623 Q2359.66 160.017 2359.66 151.29 Q2359.66 142.54 2362.71 137.957 Q2365.79 133.35 2371.6 133.35 Z\" fill=\"#000000\" fill-rule=\"evenodd\" fill-opacity=\"1\" /><polyline clip-path=\"url(#clip590)\" style=\"stroke:#000000; stroke-width:4; stroke-opacity:1; fill:none\" points=\"\n",
       "  2232.76,1423.18 2232.76,1294.99 2256.76,1294.99 2232.76,1294.99 2232.76,1132.12 2256.76,1132.12 2232.76,1132.12 2232.76,969.245 2256.76,969.245 2232.76,969.245 \n",
       "  2232.76,806.373 2256.76,806.373 2232.76,806.373 2232.76,643.5 2256.76,643.5 2232.76,643.5 2232.76,480.628 2256.76,480.628 2232.76,480.628 2232.76,317.756 \n",
       "  2256.76,317.756 2232.76,317.756 2232.76,154.884 2256.76,154.884 2232.76,154.884 2232.76,47.2441 \n",
       "  \"/>\n",
       "</svg>\n"
      ]
     },
     "execution_count": 66,
     "metadata": {},
     "output_type": "execute_result"
    }
   ],
   "source": [
    "plot(self_tuning_nn)"
   ]
  },
  {
   "cell_type": "code",
   "execution_count": 67,
   "metadata": {},
   "outputs": [
    {
     "data": {
      "text/plain": [
       "(best_model = \u001b[34mNeuralNetworkClassifier{CustomNN,…} @114\u001b[39m,\n",
       " best_fitted_params = (chain = Chain(Chain(Dense(4, 123, σ), Dense(123, 3, σ)), softmax),),)"
      ]
     },
     "execution_count": 67,
     "metadata": {},
     "output_type": "execute_result"
    }
   ],
   "source": [
    "best = fitted_params(self_tuning_nn)\n",
    "best"
   ]
  },
  {
   "cell_type": "code",
   "execution_count": 68,
   "metadata": {},
   "outputs": [
    {
     "data": {
      "text/plain": [
       "NeuralNetworkClassifier(\n",
       "    builder = CustomNN(\n",
       "            n1 = 123),\n",
       "    finaliser = NNlib.softmax,\n",
       "    optimiser = ADAM(0.02154, (0.9, 0.999), IdDict{Any,Any}()),\n",
       "    loss = Flux.crossentropy,\n",
       "    epochs = 2678,\n",
       "    batch_size = 32,\n",
       "    lambda = 0.046415888336127795,\n",
       "    alpha = 0.0,\n",
       "    optimiser_changes_trigger_retraining = false)\u001b[34m @114\u001b[39m"
      ]
     },
     "execution_count": 68,
     "metadata": {},
     "output_type": "execute_result"
    }
   ],
   "source": [
    "best.best_model"
   ]
  },
  {
   "cell_type": "code",
   "execution_count": 69,
   "metadata": {
    "scrolled": true
   },
   "outputs": [
    {
     "data": {
      "text/plain": [
       "0.6053234f0"
      ]
     },
     "execution_count": 69,
     "metadata": {},
     "output_type": "execute_result"
    }
   ],
   "source": [
    "best_loss = z.report.best_result.measurement[1]"
   ]
  },
  {
   "cell_type": "code",
   "execution_count": 70,
   "metadata": {},
   "outputs": [
    {
     "data": {
      "text/plain": [
       "0.046415888336127795"
      ]
     },
     "execution_count": 70,
     "metadata": {},
     "output_type": "execute_result"
    }
   ],
   "source": [
    "best_lambda = best.best_model.lambda"
   ]
  },
  {
   "cell_type": "markdown",
   "metadata": {},
   "source": [
    "### Learning Curve"
   ]
  },
  {
   "cell_type": "code",
   "execution_count": 71,
   "metadata": {},
   "outputs": [
    {
     "data": {
      "text/plain": [
       "NeuralNetworkClassifier(\n",
       "    builder = CustomNN(\n",
       "            n1 = 123),\n",
       "    finaliser = NNlib.softmax,\n",
       "    optimiser = ADAM(0.02154, (0.9, 0.999), IdDict{Any,Any}()),\n",
       "    loss = Flux.crossentropy,\n",
       "    epochs = 2668,\n",
       "    batch_size = 32,\n",
       "    lambda = 0.046415888336127795,\n",
       "    alpha = 0.0,\n",
       "    optimiser_changes_trigger_retraining = false)\u001b[34m @425\u001b[39m"
      ]
     },
     "execution_count": 71,
     "metadata": {},
     "output_type": "execute_result"
    }
   ],
   "source": [
    "lc_model = NeuralNetworkClassifier(builder=CustomNN(best_n1)) #70\n",
    "lc_model.optimiser.eta = best_eta; #0.003\n",
    "lc_model.lambda = best_lambda #0.01\n",
    "lc_model.epochs = best_epochs #130\n",
    "lc_model.batch_size = batch_sz #32\n",
    "lc_model"
   ]
  },
  {
   "cell_type": "code",
   "execution_count": 72,
   "metadata": {
    "scrolled": true
   },
   "outputs": [
    {
     "name": "stdout",
     "output_type": "stream",
     "text": [
      "(d, train_metric, valid_metric) = (10, 0.9, 0.8295454545454546)\n",
      "(d, train_metric, valid_metric) = (20, 0.95, 0.8409090909090909)\n",
      "(d, train_metric, valid_metric) = (30, 0.9, 0.875)\n",
      "(d, train_metric, valid_metric) = (40, 0.875, 0.8977272727272727)\n",
      "(d, train_metric, valid_metric) = (50, 0.88, 0.8977272727272727)\n",
      "(d, train_metric, valid_metric) = (60, 0.8833333333333333, 0.9204545454545454)\n",
      "(d, train_metric, valid_metric) = (70, 0.9, 0.8977272727272727)\n",
      "(d, train_metric, valid_metric) = (80, 0.8625, 0.9090909090909091)\n",
      "(d, train_metric, valid_metric) = (90, 0.8555555555555555, 0.8977272727272727)\n",
      "(d, train_metric, valid_metric) = (100, 0.88, 0.9318181818181818)\n",
      "(d, train_metric, valid_metric) = (110, 0.8909090909090909, 0.9318181818181818)\n",
      "(d, train_metric, valid_metric) = (120, 0.8916666666666667, 0.9318181818181818)\n",
      "(d, train_metric, valid_metric) = (130, 0.9, 0.9318181818181818)\n",
      "(d, train_metric, valid_metric) = (140, 0.9, 0.9431818181818182)\n",
      "(d, train_metric, valid_metric) = (150, 0.9, 0.9318181818181818)\n",
      "(d, train_metric, valid_metric) = (160, 0.90625, 0.9318181818181818)\n",
      "(d, train_metric, valid_metric) = (170, 0.9117647058823529, 0.9318181818181818)\n",
      "(d, train_metric, valid_metric) = (180, 0.9222222222222223, 0.9431818181818182)\n",
      "(d, train_metric, valid_metric) = (190, 0.9263157894736842, 0.9318181818181818)\n",
      "(d, train_metric, valid_metric) = (200, 0.915, 0.9318181818181818)\n",
      "(d, train_metric, valid_metric) = (210, 0.9285714285714286, 0.9318181818181818)\n",
      "(d, train_metric, valid_metric) = (220, 0.9227272727272727, 0.9545454545454546)\n",
      "(d, train_metric, valid_metric) = (230, 0.9304347826086956, 0.9318181818181818)\n",
      "(d, train_metric, valid_metric) = (240, 0.9333333333333333, 0.9431818181818182)\n",
      "(d, train_metric, valid_metric) = (250, 0.936, 0.9318181818181818)\n",
      "(d, train_metric, valid_metric) = (260, 0.9461538461538461, 0.9318181818181818)\n",
      "(d, train_metric, valid_metric) = (270, 0.9185185185185185, 0.9318181818181818)\n",
      "(d, train_metric, valid_metric) = (280, 0.9107142857142857, 0.9318181818181818)\n",
      "(d, train_metric, valid_metric) = (290, 0.9172413793103448, 0.9318181818181818)\n",
      "(d, train_metric, valid_metric) = (300, 0.9266666666666666, 0.9318181818181818)\n",
      "(d, train_metric, valid_metric) = (310, 0.9774193548387097, 0.9431818181818182)\n",
      "(d, train_metric, valid_metric) = (320, 0.971875, 0.9431818181818182)\n",
      "(d, train_metric, valid_metric) = (330, 0.9515151515151515, 0.9318181818181818)\n",
      "(d, train_metric, valid_metric) = (340, 0.9205882352941176, 0.9318181818181818)\n",
      "(d, train_metric, valid_metric) = (350, 0.9285714285714286, 0.9318181818181818)\n"
     ]
    },
    {
     "data": {
      "text/plain": [
       "(10:10:350, Any[0.9, 0.95, 0.9, 0.875, 0.88, 0.8833333333333333, 0.9, 0.8625, 0.8555555555555555, 0.88  …  0.9461538461538461, 0.9185185185185185, 0.9107142857142857, 0.9172413793103448, 0.9266666666666666, 0.9774193548387097, 0.971875, 0.9515151515151515, 0.9205882352941176, 0.9285714285714286], Any[0.8295454545454546, 0.8409090909090909, 0.875, 0.8977272727272727, 0.8977272727272727, 0.9204545454545454, 0.8977272727272727, 0.9090909090909091, 0.8977272727272727, 0.9318181818181818  …  0.9318181818181818, 0.9318181818181818, 0.9318181818181818, 0.9318181818181818, 0.9318181818181818, 0.9431818181818182, 0.9431818181818182, 0.9318181818181818, 0.9318181818181818, 0.9318181818181818])"
      ]
     },
     "execution_count": 72,
     "metadata": {},
     "output_type": "execute_result"
    }
   ],
   "source": [
    "data_schedule, training_losses, valid_losses = learn_curve(lc_model, X[train,:], y[train], acc, step=10)"
   ]
  },
  {
   "cell_type": "code",
   "execution_count": 73,
   "metadata": {
    "scrolled": false
   },
   "outputs": [
    {
     "data": {
      "image/svg+xml": [
       "<?xml version=\"1.0\" encoding=\"utf-8\"?>\n",
       "<svg xmlns=\"http://www.w3.org/2000/svg\" xmlns:xlink=\"http://www.w3.org/1999/xlink\" width=\"600\" height=\"400\" viewBox=\"0 0 2400 1600\">\n",
       "<defs>\n",
       "  <clipPath id=\"clip630\">\n",
       "    <rect x=\"0\" y=\"0\" width=\"2400\" height=\"1600\"/>\n",
       "  </clipPath>\n",
       "</defs>\n",
       "<path clip-path=\"url(#clip630)\" d=\"\n",
       "M0 1600 L2400 1600 L2400 0 L0 0  Z\n",
       "  \" fill=\"#ffffff\" fill-rule=\"evenodd\" fill-opacity=\"1\"/>\n",
       "<defs>\n",
       "  <clipPath id=\"clip631\">\n",
       "    <rect x=\"480\" y=\"0\" width=\"1681\" height=\"1600\"/>\n",
       "  </clipPath>\n",
       "</defs>\n",
       "<path clip-path=\"url(#clip630)\" d=\"\n",
       "M238.524 1423.18 L2352.76 1423.18 L2352.76 47.2441 L238.524 47.2441  Z\n",
       "  \" fill=\"#ffffff\" fill-rule=\"evenodd\" fill-opacity=\"1\"/>\n",
       "<defs>\n",
       "  <clipPath id=\"clip632\">\n",
       "    <rect x=\"238\" y=\"47\" width=\"2115\" height=\"1377\"/>\n",
       "  </clipPath>\n",
       "</defs>\n",
       "<polyline clip-path=\"url(#clip632)\" style=\"stroke:#000000; stroke-width:2; stroke-opacity:0.1; fill:none\" points=\"\n",
       "  239.697,1423.18 239.697,47.2441 \n",
       "  \"/>\n",
       "<polyline clip-path=\"url(#clip632)\" style=\"stroke:#000000; stroke-width:2; stroke-opacity:0.1; fill:none\" points=\"\n",
       "  826.332,1423.18 826.332,47.2441 \n",
       "  \"/>\n",
       "<polyline clip-path=\"url(#clip632)\" style=\"stroke:#000000; stroke-width:2; stroke-opacity:0.1; fill:none\" points=\"\n",
       "  1412.97,1423.18 1412.97,47.2441 \n",
       "  \"/>\n",
       "<polyline clip-path=\"url(#clip632)\" style=\"stroke:#000000; stroke-width:2; stroke-opacity:0.1; fill:none\" points=\"\n",
       "  1999.6,1423.18 1999.6,47.2441 \n",
       "  \"/>\n",
       "<polyline clip-path=\"url(#clip632)\" style=\"stroke:#000000; stroke-width:2; stroke-opacity:0.1; fill:none\" points=\"\n",
       "  238.524,1292.47 2352.76,1292.47 \n",
       "  \"/>\n",
       "<polyline clip-path=\"url(#clip632)\" style=\"stroke:#000000; stroke-width:2; stroke-opacity:0.1; fill:none\" points=\"\n",
       "  238.524,1029.12 2352.76,1029.12 \n",
       "  \"/>\n",
       "<polyline clip-path=\"url(#clip632)\" style=\"stroke:#000000; stroke-width:2; stroke-opacity:0.1; fill:none\" points=\"\n",
       "  238.524,765.781 2352.76,765.781 \n",
       "  \"/>\n",
       "<polyline clip-path=\"url(#clip632)\" style=\"stroke:#000000; stroke-width:2; stroke-opacity:0.1; fill:none\" points=\"\n",
       "  238.524,502.438 2352.76,502.438 \n",
       "  \"/>\n",
       "<polyline clip-path=\"url(#clip632)\" style=\"stroke:#000000; stroke-width:2; stroke-opacity:0.1; fill:none\" points=\"\n",
       "  238.524,239.095 2352.76,239.095 \n",
       "  \"/>\n",
       "<polyline clip-path=\"url(#clip630)\" style=\"stroke:#000000; stroke-width:4; stroke-opacity:1; fill:none\" points=\"\n",
       "  238.524,1423.18 2352.76,1423.18 \n",
       "  \"/>\n",
       "<polyline clip-path=\"url(#clip630)\" style=\"stroke:#000000; stroke-width:4; stroke-opacity:1; fill:none\" points=\"\n",
       "  238.524,1423.18 238.524,47.2441 \n",
       "  \"/>\n",
       "<polyline clip-path=\"url(#clip630)\" style=\"stroke:#000000; stroke-width:4; stroke-opacity:1; fill:none\" points=\"\n",
       "  239.697,1423.18 239.697,1406.67 \n",
       "  \"/>\n",
       "<polyline clip-path=\"url(#clip630)\" style=\"stroke:#000000; stroke-width:4; stroke-opacity:1; fill:none\" points=\"\n",
       "  826.332,1423.18 826.332,1406.67 \n",
       "  \"/>\n",
       "<polyline clip-path=\"url(#clip630)\" style=\"stroke:#000000; stroke-width:4; stroke-opacity:1; fill:none\" points=\"\n",
       "  1412.97,1423.18 1412.97,1406.67 \n",
       "  \"/>\n",
       "<polyline clip-path=\"url(#clip630)\" style=\"stroke:#000000; stroke-width:4; stroke-opacity:1; fill:none\" points=\"\n",
       "  1999.6,1423.18 1999.6,1406.67 \n",
       "  \"/>\n",
       "<polyline clip-path=\"url(#clip630)\" style=\"stroke:#000000; stroke-width:4; stroke-opacity:1; fill:none\" points=\"\n",
       "  238.524,1292.47 263.894,1292.47 \n",
       "  \"/>\n",
       "<polyline clip-path=\"url(#clip630)\" style=\"stroke:#000000; stroke-width:4; stroke-opacity:1; fill:none\" points=\"\n",
       "  238.524,1029.12 263.894,1029.12 \n",
       "  \"/>\n",
       "<polyline clip-path=\"url(#clip630)\" style=\"stroke:#000000; stroke-width:4; stroke-opacity:1; fill:none\" points=\"\n",
       "  238.524,765.781 263.894,765.781 \n",
       "  \"/>\n",
       "<polyline clip-path=\"url(#clip630)\" style=\"stroke:#000000; stroke-width:4; stroke-opacity:1; fill:none\" points=\"\n",
       "  238.524,502.438 263.894,502.438 \n",
       "  \"/>\n",
       "<polyline clip-path=\"url(#clip630)\" style=\"stroke:#000000; stroke-width:4; stroke-opacity:1; fill:none\" points=\"\n",
       "  238.524,239.095 263.894,239.095 \n",
       "  \"/>\n",
       "<path clip-path=\"url(#clip630)\" d=\"M 0 0 M239.697 1445.17 Q236.086 1445.17 234.257 1448.74 Q232.452 1452.28 232.452 1459.41 Q232.452 1466.51 234.257 1470.08 Q236.086 1473.62 239.697 1473.62 Q243.331 1473.62 245.137 1470.08 Q246.965 1466.51 246.965 1459.41 Q246.965 1452.28 245.137 1448.74 Q243.331 1445.17 239.697 1445.17 M239.697 1441.47 Q245.507 1441.47 248.563 1446.07 Q251.641 1450.66 251.641 1459.41 Q251.641 1468.13 248.563 1472.74 Q245.507 1477.32 239.697 1477.32 Q233.887 1477.32 230.808 1472.74 Q227.752 1468.13 227.752 1459.41 Q227.752 1450.66 230.808 1446.07 Q233.887 1441.47 239.697 1441.47 Z\" fill=\"#000000\" fill-rule=\"evenodd\" fill-opacity=\"1\" /><path clip-path=\"url(#clip630)\" d=\"M 0 0 M789.7 1472.72 L797.339 1472.72 L797.339 1446.35 L789.029 1448.02 L789.029 1443.76 L797.293 1442.09 L801.968 1442.09 L801.968 1472.72 L809.607 1472.72 L809.607 1476.65 L789.7 1476.65 L789.7 1472.72 Z\" fill=\"#000000\" fill-rule=\"evenodd\" fill-opacity=\"1\" /><path clip-path=\"url(#clip630)\" d=\"M 0 0 M824.677 1445.17 Q821.066 1445.17 819.237 1448.74 Q817.431 1452.28 817.431 1459.41 Q817.431 1466.51 819.237 1470.08 Q821.066 1473.62 824.677 1473.62 Q828.311 1473.62 830.116 1470.08 Q831.945 1466.51 831.945 1459.41 Q831.945 1452.28 830.116 1448.74 Q828.311 1445.17 824.677 1445.17 M824.677 1441.47 Q830.487 1441.47 833.542 1446.07 Q836.621 1450.66 836.621 1459.41 Q836.621 1468.13 833.542 1472.74 Q830.487 1477.32 824.677 1477.32 Q818.867 1477.32 815.788 1472.74 Q812.732 1468.13 812.732 1459.41 Q812.732 1450.66 815.788 1446.07 Q818.867 1441.47 824.677 1441.47 Z\" fill=\"#000000\" fill-rule=\"evenodd\" fill-opacity=\"1\" /><path clip-path=\"url(#clip630)\" d=\"M 0 0 M851.69 1445.17 Q848.079 1445.17 846.251 1448.74 Q844.445 1452.28 844.445 1459.41 Q844.445 1466.51 846.251 1470.08 Q848.079 1473.62 851.69 1473.62 Q855.325 1473.62 857.13 1470.08 Q858.959 1466.51 858.959 1459.41 Q858.959 1452.28 857.13 1448.74 Q855.325 1445.17 851.69 1445.17 M851.69 1441.47 Q857.501 1441.47 860.556 1446.07 Q863.635 1450.66 863.635 1459.41 Q863.635 1468.13 860.556 1472.74 Q857.501 1477.32 851.69 1477.32 Q845.88 1477.32 842.802 1472.74 Q839.746 1468.13 839.746 1459.41 Q839.746 1450.66 842.802 1446.07 Q845.88 1441.47 851.69 1441.47 Z\" fill=\"#000000\" fill-rule=\"evenodd\" fill-opacity=\"1\" /><path clip-path=\"url(#clip630)\" d=\"M 0 0 M1380.61 1472.72 L1396.93 1472.72 L1396.93 1476.65 L1374.98 1476.65 L1374.98 1472.72 Q1377.64 1469.96 1382.23 1465.33 Q1386.83 1460.68 1388.01 1459.34 Q1390.26 1456.81 1391.14 1455.08 Q1392.04 1453.32 1392.04 1451.63 Q1392.04 1448.87 1390.1 1447.14 Q1388.18 1445.4 1385.07 1445.4 Q1382.87 1445.4 1380.42 1446.17 Q1377.99 1446.93 1375.21 1448.48 L1375.21 1443.76 Q1378.04 1442.62 1380.49 1442.05 Q1382.94 1441.47 1384.98 1441.47 Q1390.35 1441.47 1393.55 1444.15 Q1396.74 1446.84 1396.74 1451.33 Q1396.74 1453.46 1395.93 1455.38 Q1395.14 1457.28 1393.04 1459.87 Q1392.46 1460.54 1389.36 1463.76 Q1386.25 1466.95 1380.61 1472.72 Z\" fill=\"#000000\" fill-rule=\"evenodd\" fill-opacity=\"1\" /><path clip-path=\"url(#clip630)\" d=\"M 0 0 M1411.99 1445.17 Q1408.38 1445.17 1406.55 1448.74 Q1404.75 1452.28 1404.75 1459.41 Q1404.75 1466.51 1406.55 1470.08 Q1408.38 1473.62 1411.99 1473.62 Q1415.63 1473.62 1417.43 1470.08 Q1419.26 1466.51 1419.26 1459.41 Q1419.26 1452.28 1417.43 1448.74 Q1415.63 1445.17 1411.99 1445.17 M1411.99 1441.47 Q1417.8 1441.47 1420.86 1446.07 Q1423.94 1450.66 1423.94 1459.41 Q1423.94 1468.13 1420.86 1472.74 Q1417.8 1477.32 1411.99 1477.32 Q1406.18 1477.32 1403.11 1472.74 Q1400.05 1468.13 1400.05 1459.41 Q1400.05 1450.66 1403.11 1446.07 Q1406.18 1441.47 1411.99 1441.47 Z\" fill=\"#000000\" fill-rule=\"evenodd\" fill-opacity=\"1\" /><path clip-path=\"url(#clip630)\" d=\"M 0 0 M1439.01 1445.17 Q1435.4 1445.17 1433.57 1448.74 Q1431.76 1452.28 1431.76 1459.41 Q1431.76 1466.51 1433.57 1470.08 Q1435.4 1473.62 1439.01 1473.62 Q1442.64 1473.62 1444.45 1470.08 Q1446.28 1466.51 1446.28 1459.41 Q1446.28 1452.28 1444.45 1448.74 Q1442.64 1445.17 1439.01 1445.17 M1439.01 1441.47 Q1444.82 1441.47 1447.87 1446.07 Q1450.95 1450.66 1450.95 1459.41 Q1450.95 1468.13 1447.87 1472.74 Q1444.82 1477.32 1439.01 1477.32 Q1433.2 1477.32 1430.12 1472.74 Q1427.06 1468.13 1427.06 1459.41 Q1427.06 1450.66 1430.12 1446.07 Q1433.2 1441.47 1439.01 1441.47 Z\" fill=\"#000000\" fill-rule=\"evenodd\" fill-opacity=\"1\" /><path clip-path=\"url(#clip630)\" d=\"M 0 0 M1976.84 1458.02 Q1980.19 1458.74 1982.07 1461 Q1983.97 1463.27 1983.97 1466.61 Q1983.97 1471.72 1980.45 1474.52 Q1976.93 1477.32 1970.45 1477.32 Q1968.27 1477.32 1965.96 1476.88 Q1963.66 1476.47 1961.21 1475.61 L1961.21 1471.1 Q1963.16 1472.23 1965.47 1472.81 Q1967.78 1473.39 1970.31 1473.39 Q1974.71 1473.39 1977 1471.65 Q1979.31 1469.92 1979.31 1466.61 Q1979.31 1463.55 1977.16 1461.84 Q1975.03 1460.1 1971.21 1460.1 L1967.18 1460.1 L1967.18 1456.26 L1971.4 1456.26 Q1974.84 1456.26 1976.67 1454.89 Q1978.5 1453.5 1978.5 1450.91 Q1978.5 1448.25 1976.6 1446.84 Q1974.73 1445.4 1971.21 1445.4 Q1969.29 1445.4 1967.09 1445.82 Q1964.89 1446.24 1962.25 1447.11 L1962.25 1442.95 Q1964.91 1442.21 1967.23 1441.84 Q1969.57 1441.47 1971.63 1441.47 Q1976.95 1441.47 1980.05 1443.9 Q1983.15 1446.3 1983.15 1450.43 Q1983.15 1453.3 1981.51 1455.29 Q1979.87 1457.25 1976.84 1458.02 Z\" fill=\"#000000\" fill-rule=\"evenodd\" fill-opacity=\"1\" /><path clip-path=\"url(#clip630)\" d=\"M 0 0 M1999.03 1445.17 Q1995.42 1445.17 1993.59 1448.74 Q1991.79 1452.28 1991.79 1459.41 Q1991.79 1466.51 1993.59 1470.08 Q1995.42 1473.62 1999.03 1473.62 Q2002.67 1473.62 2004.47 1470.08 Q2006.3 1466.51 2006.3 1459.41 Q2006.3 1452.28 2004.47 1448.74 Q2002.67 1445.17 1999.03 1445.17 M1999.03 1441.47 Q2004.84 1441.47 2007.9 1446.07 Q2010.98 1450.66 2010.98 1459.41 Q2010.98 1468.13 2007.9 1472.74 Q2004.84 1477.32 1999.03 1477.32 Q1993.22 1477.32 1990.15 1472.74 Q1987.09 1468.13 1987.09 1459.41 Q1987.09 1450.66 1990.15 1446.07 Q1993.22 1441.47 1999.03 1441.47 Z\" fill=\"#000000\" fill-rule=\"evenodd\" fill-opacity=\"1\" /><path clip-path=\"url(#clip630)\" d=\"M 0 0 M2026.05 1445.17 Q2022.44 1445.17 2020.61 1448.74 Q2018.8 1452.28 2018.8 1459.41 Q2018.8 1466.51 2020.61 1470.08 Q2022.44 1473.62 2026.05 1473.62 Q2029.68 1473.62 2031.49 1470.08 Q2033.32 1466.51 2033.32 1459.41 Q2033.32 1452.28 2031.49 1448.74 Q2029.68 1445.17 2026.05 1445.17 M2026.05 1441.47 Q2031.86 1441.47 2034.91 1446.07 Q2037.99 1450.66 2037.99 1459.41 Q2037.99 1468.13 2034.91 1472.74 Q2031.86 1477.32 2026.05 1477.32 Q2020.24 1477.32 2017.16 1472.74 Q2014.1 1468.13 2014.1 1459.41 Q2014.1 1450.66 2017.16 1446.07 Q2020.24 1441.47 2026.05 1441.47 Z\" fill=\"#000000\" fill-rule=\"evenodd\" fill-opacity=\"1\" /><path clip-path=\"url(#clip630)\" d=\"M 0 0 M138.205 1278.27 Q134.593 1278.27 132.765 1281.83 Q130.959 1285.37 130.959 1292.5 Q130.959 1299.61 132.765 1303.17 Q134.593 1306.71 138.205 1306.71 Q141.839 1306.71 143.644 1303.17 Q145.473 1299.61 145.473 1292.5 Q145.473 1285.37 143.644 1281.83 Q141.839 1278.27 138.205 1278.27 M138.205 1274.56 Q144.015 1274.56 147.07 1279.17 Q150.149 1283.75 150.149 1292.5 Q150.149 1301.23 147.07 1305.84 Q144.015 1310.42 138.205 1310.42 Q132.394 1310.42 129.316 1305.84 Q126.26 1301.23 126.26 1292.5 Q126.26 1283.75 129.316 1279.17 Q132.394 1274.56 138.205 1274.56 Z\" fill=\"#000000\" fill-rule=\"evenodd\" fill-opacity=\"1\" /><path clip-path=\"url(#clip630)\" d=\"M 0 0 M155.218 1303.87 L160.103 1303.87 L160.103 1309.75 L155.218 1309.75 L155.218 1303.87 Z\" fill=\"#000000\" fill-rule=\"evenodd\" fill-opacity=\"1\" /><path clip-path=\"url(#clip630)\" d=\"M 0 0 M175.172 1293.34 Q171.839 1293.34 169.917 1295.12 Q168.019 1296.9 168.019 1300.02 Q168.019 1303.15 169.917 1304.93 Q171.839 1306.71 175.172 1306.71 Q178.505 1306.71 180.427 1304.93 Q182.348 1303.13 182.348 1300.02 Q182.348 1296.9 180.427 1295.12 Q178.528 1293.34 175.172 1293.34 M170.496 1291.34 Q167.487 1290.6 165.797 1288.54 Q164.13 1286.48 164.13 1283.52 Q164.13 1279.38 167.07 1276.97 Q170.033 1274.56 175.172 1274.56 Q180.334 1274.56 183.274 1276.97 Q186.214 1279.38 186.214 1283.52 Q186.214 1286.48 184.524 1288.54 Q182.857 1290.6 179.871 1291.34 Q183.251 1292.13 185.126 1294.42 Q187.024 1296.71 187.024 1300.02 Q187.024 1305.05 183.945 1307.73 Q180.889 1310.42 175.172 1310.42 Q169.454 1310.42 166.376 1307.73 Q163.32 1305.05 163.32 1300.02 Q163.32 1296.71 165.218 1294.42 Q167.116 1292.13 170.496 1291.34 M168.783 1283.96 Q168.783 1286.65 170.45 1288.15 Q172.14 1289.65 175.172 1289.65 Q178.181 1289.65 179.871 1288.15 Q181.584 1286.65 181.584 1283.96 Q181.584 1281.28 179.871 1279.77 Q178.181 1278.27 175.172 1278.27 Q172.14 1278.27 170.45 1279.77 Q168.783 1281.28 168.783 1283.96 Z\" fill=\"#000000\" fill-rule=\"evenodd\" fill-opacity=\"1\" /><path clip-path=\"url(#clip630)\" d=\"M 0 0 M204.94 1279.26 L193.135 1297.71 L204.94 1297.71 L204.94 1279.26 M203.713 1275.19 L209.593 1275.19 L209.593 1297.71 L214.524 1297.71 L214.524 1301.6 L209.593 1301.6 L209.593 1309.75 L204.94 1309.75 L204.94 1301.6 L189.339 1301.6 L189.339 1297.09 L203.713 1275.19 Z\" fill=\"#000000\" fill-rule=\"evenodd\" fill-opacity=\"1\" /><path clip-path=\"url(#clip630)\" d=\"M 0 0 M139.593 1014.92 Q135.982 1014.92 134.154 1018.49 Q132.348 1022.03 132.348 1029.16 Q132.348 1036.27 134.154 1039.83 Q135.982 1043.37 139.593 1043.37 Q143.228 1043.37 145.033 1039.83 Q146.862 1036.27 146.862 1029.16 Q146.862 1022.03 145.033 1018.49 Q143.228 1014.92 139.593 1014.92 M139.593 1011.22 Q145.404 1011.22 148.459 1015.83 Q151.538 1020.41 151.538 1029.16 Q151.538 1037.89 148.459 1042.49 Q145.404 1047.08 139.593 1047.08 Q133.783 1047.08 130.705 1042.49 Q127.649 1037.89 127.649 1029.16 Q127.649 1020.41 130.705 1015.83 Q133.783 1011.22 139.593 1011.22 Z\" fill=\"#000000\" fill-rule=\"evenodd\" fill-opacity=\"1\" /><path clip-path=\"url(#clip630)\" d=\"M 0 0 M156.607 1040.52 L161.491 1040.52 L161.491 1046.4 L156.607 1046.4 L156.607 1040.52 Z\" fill=\"#000000\" fill-rule=\"evenodd\" fill-opacity=\"1\" /><path clip-path=\"url(#clip630)\" d=\"M 0 0 M176.561 1029.99 Q173.227 1029.99 171.306 1031.77 Q169.408 1033.56 169.408 1036.68 Q169.408 1039.81 171.306 1041.59 Q173.227 1043.37 176.561 1043.37 Q179.894 1043.37 181.815 1041.59 Q183.737 1039.78 183.737 1036.68 Q183.737 1033.56 181.815 1031.77 Q179.917 1029.99 176.561 1029.99 M171.885 1028 Q168.876 1027.26 167.186 1025.2 Q165.519 1023.14 165.519 1020.18 Q165.519 1016.03 168.459 1013.63 Q171.422 1011.22 176.561 1011.22 Q181.723 1011.22 184.663 1013.63 Q187.602 1016.03 187.602 1020.18 Q187.602 1023.14 185.913 1025.2 Q184.246 1027.26 181.26 1028 Q184.639 1028.79 186.514 1031.08 Q188.413 1033.37 188.413 1036.68 Q188.413 1041.7 185.334 1044.39 Q182.278 1047.08 176.561 1047.08 Q170.843 1047.08 167.765 1044.39 Q164.709 1041.7 164.709 1036.68 Q164.709 1033.37 166.607 1031.08 Q168.505 1028.79 171.885 1028 M170.172 1020.62 Q170.172 1023.3 171.839 1024.81 Q173.528 1026.31 176.561 1026.31 Q179.57 1026.31 181.26 1024.81 Q182.973 1023.3 182.973 1020.62 Q182.973 1017.93 181.26 1016.43 Q179.57 1014.92 176.561 1014.92 Q173.528 1014.92 171.839 1016.43 Q170.172 1017.93 170.172 1020.62 Z\" fill=\"#000000\" fill-rule=\"evenodd\" fill-opacity=\"1\" /><path clip-path=\"url(#clip630)\" d=\"M 0 0 M192.301 1011.84 L214.524 1011.84 L214.524 1013.83 L201.977 1046.4 L197.093 1046.4 L208.899 1015.78 L192.301 1015.78 L192.301 1011.84 Z\" fill=\"#000000\" fill-rule=\"evenodd\" fill-opacity=\"1\" /><path clip-path=\"url(#clip630)\" d=\"M 0 0 M138.783 751.58 Q135.172 751.58 133.343 755.144 Q131.538 758.686 131.538 765.816 Q131.538 772.922 133.343 776.487 Q135.172 780.028 138.783 780.028 Q142.417 780.028 144.223 776.487 Q146.052 772.922 146.052 765.816 Q146.052 758.686 144.223 755.144 Q142.417 751.58 138.783 751.58 M138.783 747.876 Q144.593 747.876 147.649 752.482 Q150.728 757.066 150.728 765.816 Q150.728 774.542 147.649 779.149 Q144.593 783.732 138.783 783.732 Q132.973 783.732 129.894 779.149 Q126.839 774.542 126.839 765.816 Q126.839 757.066 129.894 752.482 Q132.973 747.876 138.783 747.876 Z\" fill=\"#000000\" fill-rule=\"evenodd\" fill-opacity=\"1\" /><path clip-path=\"url(#clip630)\" d=\"M 0 0 M155.797 777.181 L160.681 777.181 L160.681 783.061 L155.797 783.061 L155.797 777.181 Z\" fill=\"#000000\" fill-rule=\"evenodd\" fill-opacity=\"1\" /><path clip-path=\"url(#clip630)\" d=\"M 0 0 M165.89 782.343 L165.89 778.084 Q167.649 778.917 169.454 779.357 Q171.26 779.797 172.996 779.797 Q177.626 779.797 180.056 776.695 Q182.51 773.57 182.857 767.228 Q181.514 769.218 179.454 770.283 Q177.394 771.348 174.894 771.348 Q169.709 771.348 166.677 768.223 Q163.667 765.075 163.667 759.635 Q163.667 754.311 166.815 751.093 Q169.964 747.876 175.195 747.876 Q181.19 747.876 184.339 752.482 Q187.51 757.066 187.51 765.816 Q187.51 773.987 183.621 778.871 Q179.755 783.732 173.204 783.732 Q171.445 783.732 169.64 783.385 Q167.834 783.038 165.89 782.343 M175.195 767.691 Q178.343 767.691 180.172 765.538 Q182.024 763.385 182.024 759.635 Q182.024 755.908 180.172 753.755 Q178.343 751.58 175.195 751.58 Q172.047 751.58 170.195 753.755 Q168.366 755.908 168.366 759.635 Q168.366 763.385 170.195 765.538 Q172.047 767.691 175.195 767.691 Z\" fill=\"#000000\" fill-rule=\"evenodd\" fill-opacity=\"1\" /><path clip-path=\"url(#clip630)\" d=\"M 0 0 M202.579 751.58 Q198.968 751.58 197.139 755.144 Q195.334 758.686 195.334 765.816 Q195.334 772.922 197.139 776.487 Q198.968 780.028 202.579 780.028 Q206.213 780.028 208.019 776.487 Q209.848 772.922 209.848 765.816 Q209.848 758.686 208.019 755.144 Q206.213 751.58 202.579 751.58 M202.579 747.876 Q208.389 747.876 211.445 752.482 Q214.524 757.066 214.524 765.816 Q214.524 774.542 211.445 779.149 Q208.389 783.732 202.579 783.732 Q196.769 783.732 193.69 779.149 Q190.635 774.542 190.635 765.816 Q190.635 757.066 193.69 752.482 Q196.769 747.876 202.579 747.876 Z\" fill=\"#000000\" fill-rule=\"evenodd\" fill-opacity=\"1\" /><path clip-path=\"url(#clip630)\" d=\"M 0 0 M139.431 488.236 Q135.82 488.236 133.992 491.801 Q132.186 495.343 132.186 502.472 Q132.186 509.579 133.992 513.144 Q135.82 516.685 139.431 516.685 Q143.066 516.685 144.871 513.144 Q146.7 509.579 146.7 502.472 Q146.7 495.343 144.871 491.801 Q143.066 488.236 139.431 488.236 M139.431 484.533 Q145.242 484.533 148.297 489.139 Q151.376 493.723 151.376 502.472 Q151.376 511.199 148.297 515.806 Q145.242 520.389 139.431 520.389 Q133.621 520.389 130.543 515.806 Q127.487 511.199 127.487 502.472 Q127.487 493.723 130.543 489.139 Q133.621 484.533 139.431 484.533 Z\" fill=\"#000000\" fill-rule=\"evenodd\" fill-opacity=\"1\" /><path clip-path=\"url(#clip630)\" d=\"M 0 0 M156.445 513.838 L161.329 513.838 L161.329 519.718 L156.445 519.718 L156.445 513.838 Z\" fill=\"#000000\" fill-rule=\"evenodd\" fill-opacity=\"1\" /><path clip-path=\"url(#clip630)\" d=\"M 0 0 M166.538 519 L166.538 514.741 Q168.297 515.574 170.103 516.014 Q171.908 516.454 173.644 516.454 Q178.274 516.454 180.704 513.352 Q183.158 510.227 183.505 503.884 Q182.163 505.875 180.102 506.94 Q178.042 508.005 175.542 508.005 Q170.357 508.005 167.325 504.88 Q164.316 501.732 164.316 496.292 Q164.316 490.968 167.464 487.75 Q170.612 484.533 175.843 484.533 Q181.839 484.533 184.987 489.139 Q188.158 493.723 188.158 502.472 Q188.158 510.644 184.269 515.528 Q180.403 520.389 173.852 520.389 Q172.093 520.389 170.288 520.042 Q168.482 519.695 166.538 519 M175.843 504.347 Q178.991 504.347 180.82 502.195 Q182.672 500.042 182.672 496.292 Q182.672 492.565 180.82 490.412 Q178.991 488.236 175.843 488.236 Q172.695 488.236 170.843 490.412 Q169.015 492.565 169.015 496.292 Q169.015 500.042 170.843 502.195 Q172.695 504.347 175.843 504.347 Z\" fill=\"#000000\" fill-rule=\"evenodd\" fill-opacity=\"1\" /><path clip-path=\"url(#clip630)\" d=\"M 0 0 M207.394 501.084 Q210.75 501.801 212.625 504.07 Q214.524 506.338 214.524 509.671 Q214.524 514.787 211.005 517.588 Q207.487 520.389 201.005 520.389 Q198.829 520.389 196.514 519.949 Q194.223 519.533 191.769 518.676 L191.769 514.162 Q193.713 515.296 196.028 515.875 Q198.343 516.454 200.866 516.454 Q205.264 516.454 207.556 514.718 Q209.871 512.982 209.871 509.671 Q209.871 506.616 207.718 504.903 Q205.588 503.167 201.769 503.167 L197.741 503.167 L197.741 499.324 L201.954 499.324 Q205.403 499.324 207.232 497.959 Q209.061 496.57 209.061 493.977 Q209.061 491.315 207.163 489.903 Q205.288 488.468 201.769 488.468 Q199.848 488.468 197.649 488.885 Q195.45 489.301 192.811 490.181 L192.811 486.014 Q195.473 485.273 197.788 484.903 Q200.126 484.533 202.186 484.533 Q207.51 484.533 210.612 486.963 Q213.713 489.371 213.713 493.491 Q213.713 496.361 212.07 498.352 Q210.426 500.32 207.394 501.084 Z\" fill=\"#000000\" fill-rule=\"evenodd\" fill-opacity=\"1\" /><path clip-path=\"url(#clip630)\" d=\"M 0 0 M138.621 224.893 Q135.01 224.893 133.181 228.458 Q131.376 232 131.376 239.129 Q131.376 246.236 133.181 249.801 Q135.01 253.342 138.621 253.342 Q142.255 253.342 144.061 249.801 Q145.89 246.236 145.89 239.129 Q145.89 232 144.061 228.458 Q142.255 224.893 138.621 224.893 M138.621 221.19 Q144.431 221.19 147.487 225.796 Q150.566 230.379 150.566 239.129 Q150.566 247.856 147.487 252.463 Q144.431 257.046 138.621 257.046 Q132.811 257.046 129.732 252.463 Q126.677 247.856 126.677 239.129 Q126.677 230.379 129.732 225.796 Q132.811 221.19 138.621 221.19 Z\" fill=\"#000000\" fill-rule=\"evenodd\" fill-opacity=\"1\" /><path clip-path=\"url(#clip630)\" d=\"M 0 0 M155.635 250.495 L160.519 250.495 L160.519 256.375 L155.635 256.375 L155.635 250.495 Z\" fill=\"#000000\" fill-rule=\"evenodd\" fill-opacity=\"1\" /><path clip-path=\"url(#clip630)\" d=\"M 0 0 M165.728 255.657 L165.728 251.398 Q167.487 252.231 169.292 252.671 Q171.098 253.111 172.834 253.111 Q177.464 253.111 179.894 250.009 Q182.348 246.884 182.695 240.541 Q181.352 242.532 179.292 243.597 Q177.232 244.662 174.732 244.662 Q169.547 244.662 166.515 241.537 Q163.505 238.389 163.505 232.949 Q163.505 227.625 166.653 224.407 Q169.802 221.19 175.033 221.19 Q181.028 221.19 184.177 225.796 Q187.348 230.379 187.348 239.129 Q187.348 247.301 183.459 252.185 Q179.593 257.046 173.042 257.046 Q171.283 257.046 169.478 256.699 Q167.672 256.351 165.728 255.657 M175.033 241.004 Q178.181 241.004 180.01 238.852 Q181.862 236.699 181.862 232.949 Q181.862 229.222 180.01 227.069 Q178.181 224.893 175.033 224.893 Q171.885 224.893 170.033 227.069 Q168.204 229.222 168.204 232.949 Q168.204 236.699 170.033 238.852 Q171.885 241.004 175.033 241.004 Z\" fill=\"#000000\" fill-rule=\"evenodd\" fill-opacity=\"1\" /><path clip-path=\"url(#clip630)\" d=\"M 0 0 M202.996 237.231 Q199.848 237.231 197.996 239.384 Q196.167 241.537 196.167 245.287 Q196.167 249.014 197.996 251.189 Q199.848 253.342 202.996 253.342 Q206.144 253.342 207.973 251.189 Q209.825 249.014 209.825 245.287 Q209.825 241.537 207.973 239.384 Q206.144 237.231 202.996 237.231 M212.278 222.578 L212.278 226.838 Q210.519 226.004 208.713 225.565 Q206.931 225.125 205.172 225.125 Q200.542 225.125 198.088 228.25 Q195.658 231.375 195.311 237.694 Q196.676 235.68 198.737 234.615 Q200.797 233.527 203.274 233.527 Q208.482 233.527 211.491 236.699 Q214.524 239.847 214.524 245.287 Q214.524 250.611 211.375 253.828 Q208.227 257.046 202.996 257.046 Q197.001 257.046 193.829 252.463 Q190.658 247.856 190.658 239.129 Q190.658 230.935 194.547 226.074 Q198.436 221.19 204.987 221.19 Q206.746 221.19 208.528 221.537 Q210.334 221.884 212.278 222.578 Z\" fill=\"#000000\" fill-rule=\"evenodd\" fill-opacity=\"1\" /><path clip-path=\"url(#clip630)\" d=\"M 0 0 M884.415 1508.52 L893.072 1508.52 L914.143 1548.28 L914.143 1508.52 L920.381 1508.52 L920.381 1556.04 L911.724 1556.04 L890.653 1516.29 L890.653 1556.04 L884.415 1556.04 L884.415 1508.52 Z\" fill=\"#000000\" fill-rule=\"evenodd\" fill-opacity=\"1\" /><path clip-path=\"url(#clip630)\" d=\"M 0 0 M925.919 1541.98 L925.919 1520.4 L931.776 1520.4 L931.776 1541.75 Q931.776 1546.81 933.749 1549.36 Q935.723 1551.87 939.669 1551.87 Q944.412 1551.87 947.149 1548.85 Q949.918 1545.83 949.918 1540.61 L949.918 1520.4 L955.775 1520.4 L955.775 1556.04 L949.918 1556.04 L949.918 1550.57 Q947.786 1553.82 944.953 1555.41 Q942.152 1556.97 938.428 1556.97 Q932.285 1556.97 929.102 1553.15 Q925.919 1549.33 925.919 1541.98 M940.656 1519.54 L940.656 1519.54 Z\" fill=\"#000000\" fill-rule=\"evenodd\" fill-opacity=\"1\" /><path clip-path=\"url(#clip630)\" d=\"M 0 0 M989.672 1527.24 Q991.868 1523.29 994.924 1521.41 Q997.979 1519.54 1002.12 1519.54 Q1007.69 1519.54 1010.71 1523.45 Q1013.73 1527.33 1013.73 1534.53 L1013.73 1556.04 L1007.85 1556.04 L1007.85 1534.72 Q1007.85 1529.59 1006.03 1527.11 Q1004.22 1524.63 1000.49 1524.63 Q995.942 1524.63 993.301 1527.65 Q990.659 1530.68 990.659 1535.9 L990.659 1556.04 L984.77 1556.04 L984.77 1534.72 Q984.77 1529.56 982.956 1527.11 Q981.142 1524.63 977.354 1524.63 Q972.867 1524.63 970.225 1527.68 Q967.583 1530.71 967.583 1535.9 L967.583 1556.04 L961.695 1556.04 L961.695 1520.4 L967.583 1520.4 L967.583 1525.93 Q969.588 1522.66 972.389 1521.1 Q975.19 1519.54 979.041 1519.54 Q982.924 1519.54 985.63 1521.51 Q988.367 1523.48 989.672 1527.24 Z\" fill=\"#000000\" fill-rule=\"evenodd\" fill-opacity=\"1\" /><path clip-path=\"url(#clip630)\" d=\"M 0 0 M1045.47 1538.25 Q1045.47 1531.79 1042.79 1528.13 Q1040.15 1524.44 1035.51 1524.44 Q1030.86 1524.44 1028.18 1528.13 Q1025.54 1531.79 1025.54 1538.25 Q1025.54 1544.71 1028.18 1548.4 Q1030.86 1552.07 1035.51 1552.07 Q1040.15 1552.07 1042.79 1548.4 Q1045.47 1544.71 1045.47 1538.25 M1025.54 1525.81 Q1027.39 1522.62 1030.19 1521.1 Q1033.02 1519.54 1036.94 1519.54 Q1043.43 1519.54 1047.47 1524.69 Q1051.55 1529.85 1051.55 1538.25 Q1051.55 1546.65 1047.47 1551.81 Q1043.43 1556.97 1036.94 1556.97 Q1033.02 1556.97 1030.19 1555.44 Q1027.39 1553.88 1025.54 1550.7 L1025.54 1556.04 L1019.65 1556.04 L1019.65 1506.52 L1025.54 1506.52 L1025.54 1525.81 Z\" fill=\"#000000\" fill-rule=\"evenodd\" fill-opacity=\"1\" /><path clip-path=\"url(#clip630)\" d=\"M 0 0 M1088.18 1536.76 L1088.18 1539.62 L1061.25 1539.62 Q1061.64 1545.67 1064.88 1548.85 Q1068.16 1552 1073.99 1552 Q1077.36 1552 1080.51 1551.17 Q1083.69 1550.35 1086.81 1548.69 L1086.81 1554.23 Q1083.66 1555.57 1080.35 1556.27 Q1077.04 1556.97 1073.64 1556.97 Q1065.11 1556.97 1060.11 1552 Q1055.14 1547.04 1055.14 1538.57 Q1055.14 1529.82 1059.85 1524.69 Q1064.6 1519.54 1072.62 1519.54 Q1079.81 1519.54 1083.98 1524.18 Q1088.18 1528.8 1088.18 1536.76 M1082.32 1535.04 Q1082.26 1530.23 1079.62 1527.37 Q1077.01 1524.5 1072.68 1524.5 Q1067.78 1524.5 1064.82 1527.27 Q1061.89 1530.04 1061.45 1535.07 L1082.32 1535.04 Z\" fill=\"#000000\" fill-rule=\"evenodd\" fill-opacity=\"1\" /><path clip-path=\"url(#clip630)\" d=\"M 0 0 M1114.98 1525.87 Q1113.99 1525.3 1112.82 1525.04 Q1111.67 1524.76 1110.27 1524.76 Q1105.31 1524.76 1102.63 1528 Q1099.99 1531.22 1099.99 1537.27 L1099.99 1556.04 L1094.1 1556.04 L1094.1 1520.4 L1099.99 1520.4 L1099.99 1525.93 Q1101.84 1522.69 1104.8 1521.13 Q1107.76 1519.54 1111.99 1519.54 Q1112.59 1519.54 1113.33 1519.63 Q1114.06 1519.7 1114.95 1519.85 L1114.98 1525.87 Z\" fill=\"#000000\" fill-rule=\"evenodd\" fill-opacity=\"1\" /><path clip-path=\"url(#clip630)\" d=\"M 0 0 M1155.66 1524.5 Q1150.95 1524.5 1148.21 1528.19 Q1145.47 1531.85 1145.47 1538.25 Q1145.47 1544.65 1148.18 1548.34 Q1150.92 1552 1155.66 1552 Q1160.34 1552 1163.07 1548.31 Q1165.81 1544.62 1165.81 1538.25 Q1165.81 1531.92 1163.07 1528.23 Q1160.34 1524.5 1155.66 1524.5 M1155.66 1519.54 Q1163.3 1519.54 1167.66 1524.5 Q1172.02 1529.47 1172.02 1538.25 Q1172.02 1547 1167.66 1552 Q1163.3 1556.97 1155.66 1556.97 Q1147.99 1556.97 1143.63 1552 Q1139.3 1547 1139.3 1538.25 Q1139.3 1529.47 1143.63 1524.5 Q1147.99 1519.54 1155.66 1519.54 Z\" fill=\"#000000\" fill-rule=\"evenodd\" fill-opacity=\"1\" /><path clip-path=\"url(#clip630)\" d=\"M 0 0 M1196.21 1506.52 L1196.21 1511.39 L1190.61 1511.39 Q1187.45 1511.39 1186.21 1512.66 Q1185 1513.93 1185 1517.24 L1185 1520.4 L1194.65 1520.4 L1194.65 1524.95 L1185 1524.95 L1185 1556.04 L1179.12 1556.04 L1179.12 1524.95 L1173.51 1524.95 L1173.51 1520.4 L1179.12 1520.4 L1179.12 1517.91 Q1179.12 1511.96 1181.88 1509.26 Q1184.65 1506.52 1190.67 1506.52 L1196.21 1506.52 Z\" fill=\"#000000\" fill-rule=\"evenodd\" fill-opacity=\"1\" /><path clip-path=\"url(#clip630)\" d=\"M 0 0 M1216.74 1508.52 L1256.94 1508.52 L1256.94 1513.93 L1240.07 1513.93 L1240.07 1556.04 L1233.61 1556.04 L1233.61 1513.93 L1216.74 1513.93 L1216.74 1508.52 Z\" fill=\"#000000\" fill-rule=\"evenodd\" fill-opacity=\"1\" /><path clip-path=\"url(#clip630)\" d=\"M 0 0 M1274.16 1525.87 Q1273.17 1525.3 1271.99 1525.04 Q1270.85 1524.76 1269.44 1524.76 Q1264.48 1524.76 1261.81 1528 Q1259.16 1531.22 1259.16 1537.27 L1259.16 1556.04 L1253.28 1556.04 L1253.28 1520.4 L1259.16 1520.4 L1259.16 1525.93 Q1261.01 1522.69 1263.97 1521.13 Q1266.93 1519.54 1271.16 1519.54 Q1271.77 1519.54 1272.5 1519.63 Q1273.23 1519.7 1274.12 1519.85 L1274.16 1525.87 Z\" fill=\"#000000\" fill-rule=\"evenodd\" fill-opacity=\"1\" /><path clip-path=\"url(#clip630)\" d=\"M 0 0 M1296.5 1538.12 Q1289.4 1538.12 1286.66 1539.75 Q1283.93 1541.37 1283.93 1545.29 Q1283.93 1548.4 1285.96 1550.25 Q1288.03 1552.07 1291.57 1552.07 Q1296.44 1552.07 1299.36 1548.63 Q1302.32 1545.16 1302.32 1539.43 L1302.32 1538.12 L1296.5 1538.12 M1308.18 1535.71 L1308.18 1556.04 L1302.32 1556.04 L1302.32 1550.63 Q1300.32 1553.88 1297.33 1555.44 Q1294.33 1556.97 1290.01 1556.97 Q1284.53 1556.97 1281.29 1553.91 Q1278.07 1550.82 1278.07 1545.67 Q1278.07 1539.65 1282.08 1536.6 Q1286.12 1533.54 1294.11 1533.54 L1302.32 1533.54 L1302.32 1532.97 Q1302.32 1528.93 1299.65 1526.73 Q1297.01 1524.5 1292.2 1524.5 Q1289.15 1524.5 1286.25 1525.23 Q1283.35 1525.97 1280.68 1527.43 L1280.68 1522.02 Q1283.9 1520.78 1286.92 1520.17 Q1289.94 1519.54 1292.81 1519.54 Q1300.54 1519.54 1304.36 1523.55 Q1308.18 1527.56 1308.18 1535.71 Z\" fill=\"#000000\" fill-rule=\"evenodd\" fill-opacity=\"1\" /><path clip-path=\"url(#clip630)\" d=\"M 0 0 M1314.32 1520.4 L1320.18 1520.4 L1320.18 1556.04 L1314.32 1556.04 L1314.32 1520.4 M1314.32 1506.52 L1320.18 1506.52 L1320.18 1513.93 L1314.32 1513.93 L1314.32 1506.52 Z\" fill=\"#000000\" fill-rule=\"evenodd\" fill-opacity=\"1\" /><path clip-path=\"url(#clip630)\" d=\"M 0 0 M1355.95 1534.53 L1355.95 1556.04 L1350.1 1556.04 L1350.1 1534.72 Q1350.1 1529.66 1348.12 1527.14 Q1346.15 1524.63 1342.2 1524.63 Q1337.46 1524.63 1334.73 1527.65 Q1331.99 1530.68 1331.99 1535.9 L1331.99 1556.04 L1326.1 1556.04 L1326.1 1520.4 L1331.99 1520.4 L1331.99 1525.93 Q1334.09 1522.72 1336.92 1521.13 Q1339.79 1519.54 1343.51 1519.54 Q1349.65 1519.54 1352.8 1523.36 Q1355.95 1527.14 1355.95 1534.53 Z\" fill=\"#000000\" fill-rule=\"evenodd\" fill-opacity=\"1\" /><path clip-path=\"url(#clip630)\" d=\"M 0 0 M1362.1 1520.4 L1367.95 1520.4 L1367.95 1556.04 L1362.1 1556.04 L1362.1 1520.4 M1362.1 1506.52 L1367.95 1506.52 L1367.95 1513.93 L1362.1 1513.93 L1362.1 1506.52 Z\" fill=\"#000000\" fill-rule=\"evenodd\" fill-opacity=\"1\" /><path clip-path=\"url(#clip630)\" d=\"M 0 0 M1403.73 1534.53 L1403.73 1556.04 L1397.87 1556.04 L1397.87 1534.72 Q1397.87 1529.66 1395.9 1527.14 Q1393.93 1524.63 1389.98 1524.63 Q1385.24 1524.63 1382.5 1527.65 Q1379.76 1530.68 1379.76 1535.9 L1379.76 1556.04 L1373.87 1556.04 L1373.87 1520.4 L1379.76 1520.4 L1379.76 1525.93 Q1381.86 1522.72 1384.7 1521.13 Q1387.56 1519.54 1391.28 1519.54 Q1397.43 1519.54 1400.58 1523.36 Q1403.73 1527.14 1403.73 1534.53 Z\" fill=\"#000000\" fill-rule=\"evenodd\" fill-opacity=\"1\" /><path clip-path=\"url(#clip630)\" d=\"M 0 0 M1433.33 1537.81 Q1433.33 1531.44 1430.69 1527.94 Q1428.08 1524.44 1423.34 1524.44 Q1418.63 1524.44 1415.98 1527.94 Q1413.37 1531.44 1413.37 1537.81 Q1413.37 1544.14 1415.98 1547.64 Q1418.63 1551.14 1423.34 1551.14 Q1428.08 1551.14 1430.69 1547.64 Q1433.33 1544.14 1433.33 1537.81 M1439.19 1551.62 Q1439.19 1560.72 1435.14 1565.15 Q1431.1 1569.6 1422.76 1569.6 Q1419.68 1569.6 1416.94 1569.13 Q1414.2 1568.68 1411.62 1567.72 L1411.62 1562.03 Q1414.2 1563.43 1416.72 1564.1 Q1419.23 1564.76 1421.84 1564.76 Q1427.6 1564.76 1430.47 1561.74 Q1433.33 1558.75 1433.33 1552.67 L1433.33 1549.77 Q1431.52 1552.92 1428.68 1554.48 Q1425.85 1556.04 1421.9 1556.04 Q1415.35 1556.04 1411.34 1551.05 Q1407.33 1546.05 1407.33 1537.81 Q1407.33 1529.53 1411.34 1524.53 Q1415.35 1519.54 1421.9 1519.54 Q1425.85 1519.54 1428.68 1521.1 Q1431.52 1522.66 1433.33 1525.81 L1433.33 1520.4 L1439.19 1520.4 L1439.19 1551.62 Z\" fill=\"#000000\" fill-rule=\"evenodd\" fill-opacity=\"1\" /><path clip-path=\"url(#clip630)\" d=\"M 0 0 M1494.79 1510.08 L1494.79 1516.35 Q1491.13 1514.6 1487.88 1513.74 Q1484.64 1512.88 1481.61 1512.88 Q1476.36 1512.88 1473.5 1514.92 Q1470.66 1516.96 1470.66 1520.71 Q1470.66 1523.87 1472.54 1525.49 Q1474.45 1527.08 1479.74 1528.07 L1483.62 1528.86 Q1490.81 1530.23 1494.22 1533.7 Q1497.66 1537.14 1497.66 1542.93 Q1497.66 1549.84 1493.01 1553.4 Q1488.39 1556.97 1479.45 1556.97 Q1476.08 1556.97 1472.26 1556.2 Q1468.47 1555.44 1464.39 1553.94 L1464.39 1547.32 Q1468.31 1549.52 1472.07 1550.63 Q1475.82 1551.75 1479.45 1551.75 Q1484.96 1551.75 1487.95 1549.58 Q1490.94 1547.42 1490.94 1543.41 Q1490.94 1539.91 1488.78 1537.93 Q1486.64 1535.96 1481.74 1534.97 L1477.83 1534.21 Q1470.63 1532.78 1467.42 1529.72 Q1464.2 1526.67 1464.2 1521.22 Q1464.2 1514.92 1468.63 1511.29 Q1473.08 1507.66 1480.88 1507.66 Q1484.22 1507.66 1487.69 1508.27 Q1491.16 1508.87 1494.79 1510.08 Z\" fill=\"#000000\" fill-rule=\"evenodd\" fill-opacity=\"1\" /><path clip-path=\"url(#clip630)\" d=\"M 0 0 M1520 1538.12 Q1512.9 1538.12 1510.16 1539.75 Q1507.43 1541.37 1507.43 1545.29 Q1507.43 1548.4 1509.46 1550.25 Q1511.53 1552.07 1515.07 1552.07 Q1519.94 1552.07 1522.86 1548.63 Q1525.82 1545.16 1525.82 1539.43 L1525.82 1538.12 L1520 1538.12 M1531.68 1535.71 L1531.68 1556.04 L1525.82 1556.04 L1525.82 1550.63 Q1523.82 1553.88 1520.83 1555.44 Q1517.83 1556.97 1513.51 1556.97 Q1508.03 1556.97 1504.79 1553.91 Q1501.57 1550.82 1501.57 1545.67 Q1501.57 1539.65 1505.58 1536.6 Q1509.62 1533.54 1517.61 1533.54 L1525.82 1533.54 L1525.82 1532.97 Q1525.82 1528.93 1523.15 1526.73 Q1520.51 1524.5 1515.7 1524.5 Q1512.65 1524.5 1509.75 1525.23 Q1506.85 1525.97 1504.18 1527.43 L1504.18 1522.02 Q1507.39 1520.78 1510.42 1520.17 Q1513.44 1519.54 1516.31 1519.54 Q1524.04 1519.54 1527.86 1523.55 Q1531.68 1527.56 1531.68 1535.71 Z\" fill=\"#000000\" fill-rule=\"evenodd\" fill-opacity=\"1\" /><path clip-path=\"url(#clip630)\" d=\"M 0 0 M1565.58 1527.24 Q1567.77 1523.29 1570.83 1521.41 Q1573.88 1519.54 1578.02 1519.54 Q1583.59 1519.54 1586.62 1523.45 Q1589.64 1527.33 1589.64 1534.53 L1589.64 1556.04 L1583.75 1556.04 L1583.75 1534.72 Q1583.75 1529.59 1581.94 1527.11 Q1580.12 1524.63 1576.4 1524.63 Q1571.85 1524.63 1569.21 1527.65 Q1566.56 1530.68 1566.56 1535.9 L1566.56 1556.04 L1560.68 1556.04 L1560.68 1534.72 Q1560.68 1529.56 1558.86 1527.11 Q1557.05 1524.63 1553.26 1524.63 Q1548.77 1524.63 1546.13 1527.68 Q1543.49 1530.71 1543.49 1535.9 L1543.49 1556.04 L1537.6 1556.04 L1537.6 1520.4 L1543.49 1520.4 L1543.49 1525.93 Q1545.49 1522.66 1548.29 1521.1 Q1551.1 1519.54 1554.95 1519.54 Q1558.83 1519.54 1561.54 1521.51 Q1564.27 1523.48 1565.58 1527.24 Z\" fill=\"#000000\" fill-rule=\"evenodd\" fill-opacity=\"1\" /><path clip-path=\"url(#clip630)\" d=\"M 0 0 M1601.45 1550.7 L1601.45 1569.6 L1595.56 1569.6 L1595.56 1520.4 L1601.45 1520.4 L1601.45 1525.81 Q1603.29 1522.62 1606.1 1521.1 Q1608.93 1519.54 1612.84 1519.54 Q1619.34 1519.54 1623.38 1524.69 Q1627.45 1529.85 1627.45 1538.25 Q1627.45 1546.65 1623.38 1551.81 Q1619.34 1556.97 1612.84 1556.97 Q1608.93 1556.97 1606.1 1555.44 Q1603.29 1553.88 1601.45 1550.7 M1621.37 1538.25 Q1621.37 1531.79 1618.7 1528.13 Q1616.06 1524.44 1611.41 1524.44 Q1606.76 1524.44 1604.09 1528.13 Q1601.45 1531.79 1601.45 1538.25 Q1601.45 1544.71 1604.09 1548.4 Q1606.76 1552.07 1611.41 1552.07 Q1616.06 1552.07 1618.7 1548.4 Q1621.37 1544.71 1621.37 1538.25 Z\" fill=\"#000000\" fill-rule=\"evenodd\" fill-opacity=\"1\" /><path clip-path=\"url(#clip630)\" d=\"M 0 0 M1633.6 1506.52 L1639.45 1506.52 L1639.45 1556.04 L1633.6 1556.04 L1633.6 1506.52 Z\" fill=\"#000000\" fill-rule=\"evenodd\" fill-opacity=\"1\" /><path clip-path=\"url(#clip630)\" d=\"M 0 0 M1676.09 1536.76 L1676.09 1539.62 L1649.16 1539.62 Q1649.54 1545.67 1652.79 1548.85 Q1656.07 1552 1661.89 1552 Q1665.26 1552 1668.42 1551.17 Q1671.6 1550.35 1674.72 1548.69 L1674.72 1554.23 Q1671.57 1555.57 1668.26 1556.27 Q1664.95 1556.97 1661.54 1556.97 Q1653.01 1556.97 1648.01 1552 Q1643.05 1547.04 1643.05 1538.57 Q1643.05 1529.82 1647.76 1524.69 Q1652.5 1519.54 1660.52 1519.54 Q1667.72 1519.54 1671.88 1524.18 Q1676.09 1528.8 1676.09 1536.76 M1670.23 1535.04 Q1670.17 1530.23 1667.52 1527.37 Q1664.91 1524.5 1660.59 1524.5 Q1655.68 1524.5 1652.72 1527.27 Q1649.8 1530.04 1649.35 1535.07 L1670.23 1535.04 Z\" fill=\"#000000\" fill-rule=\"evenodd\" fill-opacity=\"1\" /><path clip-path=\"url(#clip630)\" d=\"M 0 0 M1704.95 1521.45 L1704.95 1526.98 Q1702.47 1525.71 1699.8 1525.07 Q1697.12 1524.44 1694.26 1524.44 Q1689.9 1524.44 1687.7 1525.77 Q1685.54 1527.11 1685.54 1529.79 Q1685.54 1531.82 1687.1 1533 Q1688.66 1534.15 1693.37 1535.2 L1695.37 1535.64 Q1701.61 1536.98 1704.22 1539.43 Q1706.86 1541.85 1706.86 1546.21 Q1706.86 1551.17 1702.92 1554.07 Q1699 1556.97 1692.13 1556.97 Q1689.26 1556.97 1686.14 1556.39 Q1683.06 1555.85 1679.62 1554.74 L1679.62 1548.69 Q1682.87 1550.38 1686.02 1551.24 Q1689.17 1552.07 1692.26 1552.07 Q1696.39 1552.07 1698.62 1550.66 Q1700.85 1549.23 1700.85 1546.65 Q1700.85 1544.27 1699.23 1542.99 Q1697.63 1541.72 1692.19 1540.54 L1690.15 1540.07 Q1684.71 1538.92 1682.29 1536.56 Q1679.87 1534.18 1679.87 1530.04 Q1679.87 1525.01 1683.44 1522.27 Q1687 1519.54 1693.56 1519.54 Q1696.81 1519.54 1699.67 1520.01 Q1702.54 1520.49 1704.95 1521.45 Z\" fill=\"#000000\" fill-rule=\"evenodd\" fill-opacity=\"1\" /><path clip-path=\"url(#clip630)\" d=\"M 0 0 M44.1444 1026.82 L50.9239 1026.82 Q47.9002 1030.07 46.4043 1033.76 Q44.9083 1037.42 44.9083 1041.56 Q44.9083 1049.71 49.9054 1054.04 Q54.8707 1058.37 64.2919 1058.37 Q73.6813 1058.37 78.6784 1054.04 Q83.6436 1049.71 83.6436 1041.56 Q83.6436 1037.42 82.1477 1033.76 Q80.6518 1030.07 77.6281 1026.82 L84.3439 1026.82 Q86.6355 1030.2 87.7814 1033.99 Q88.9272 1037.74 88.9272 1041.94 Q88.9272 1052.73 82.3387 1058.94 Q75.7183 1065.15 64.2919 1065.15 Q52.8336 1065.15 46.2451 1058.94 Q39.6248 1052.73 39.6248 1041.94 Q39.6248 1037.68 40.7706 1033.92 Q41.8846 1030.14 44.1444 1026.82 Z\" fill=\"#000000\" fill-rule=\"evenodd\" fill-opacity=\"1\" /><path clip-path=\"url(#clip630)\" d=\"M 0 0 M38.479 1020.68 L38.479 1014.83 L88.0042 1014.83 L88.0042 1020.68 L38.479 1020.68 Z\" fill=\"#000000\" fill-rule=\"evenodd\" fill-opacity=\"1\" /><path clip-path=\"url(#clip630)\" d=\"M 0 0 M70.0847 992.482 Q70.0847 999.58 71.7079 1002.32 Q73.3312 1005.05 77.2461 1005.05 Q80.3653 1005.05 82.2114 1003.02 Q84.0256 1000.95 84.0256 997.415 Q84.0256 992.546 80.5881 989.617 Q77.1188 986.657 71.3897 986.657 L70.0847 986.657 L70.0847 992.482 M67.6657 980.801 L88.0042 980.801 L88.0042 986.657 L82.5933 986.657 Q85.8398 988.663 87.3994 991.654 Q88.9272 994.646 88.9272 998.975 Q88.9272 1004.45 85.8716 1007.7 Q82.7843 1010.91 77.6281 1010.91 Q71.6125 1010.91 68.5569 1006.9 Q65.5014 1002.86 65.5014 994.869 L65.5014 986.657 L64.9285 986.657 Q60.8862 986.657 58.6901 989.331 Q56.4621 991.973 56.4621 996.779 Q56.4621 999.834 57.1941 1002.73 Q57.9262 1005.63 59.3903 1008.3 L53.9795 1008.3 Q52.7381 1005.09 52.1334 1002.06 Q51.4968 999.039 51.4968 996.174 Q51.4968 988.44 55.5072 984.62 Q59.5176 980.801 67.6657 980.801 Z\" fill=\"#000000\" fill-rule=\"evenodd\" fill-opacity=\"1\" /><path clip-path=\"url(#clip630)\" d=\"M 0 0 M53.4065 951.932 L58.9447 951.932 Q57.6716 954.415 57.035 957.089 Q56.3984 959.762 56.3984 962.627 Q56.3984 966.987 57.7352 969.184 Q59.072 971.348 61.7456 971.348 Q63.7826 971.348 64.9603 969.788 Q66.1061 968.229 67.1565 963.518 L67.6021 961.513 Q68.9389 955.274 71.3897 952.665 Q73.8086 950.023 78.1691 950.023 Q83.1344 950.023 86.0308 953.969 Q88.9272 957.884 88.9272 964.759 Q88.9272 967.624 88.3543 970.743 Q87.8132 973.83 86.6992 977.268 L80.6518 977.268 Q82.3387 974.021 83.198 970.87 Q84.0256 967.719 84.0256 964.632 Q84.0256 960.494 82.6251 958.266 Q81.1929 956.038 78.6147 956.038 Q76.2276 956.038 74.9545 957.662 Q73.6813 959.253 72.5037 964.696 L72.0262 966.733 Q70.8804 972.175 68.5251 974.594 Q66.138 977.013 62.0002 977.013 Q56.9713 977.013 54.2341 973.449 Q51.4968 969.884 51.4968 963.327 Q51.4968 960.081 51.9743 957.216 Q52.4517 954.351 53.4065 951.932 Z\" fill=\"#000000\" fill-rule=\"evenodd\" fill-opacity=\"1\" /><path clip-path=\"url(#clip630)\" d=\"M 0 0 M53.4065 921.154 L58.9447 921.154 Q57.6716 923.637 57.035 926.31 Q56.3984 928.984 56.3984 931.849 Q56.3984 936.209 57.7352 938.405 Q59.072 940.57 61.7456 940.57 Q63.7826 940.57 64.9603 939.01 Q66.1061 937.45 67.1565 932.74 L67.6021 930.735 Q68.9389 924.496 71.3897 921.886 Q73.8086 919.245 78.1691 919.245 Q83.1344 919.245 86.0308 923.191 Q88.9272 927.106 88.9272 933.981 Q88.9272 936.846 88.3543 939.965 Q87.8132 943.052 86.6992 946.49 L80.6518 946.49 Q82.3387 943.243 83.198 940.092 Q84.0256 936.941 84.0256 933.854 Q84.0256 929.716 82.6251 927.488 Q81.1929 925.26 78.6147 925.26 Q76.2276 925.26 74.9545 926.883 Q73.6813 928.475 72.5037 933.918 L72.0262 935.955 Q70.8804 941.397 68.5251 943.816 Q66.138 946.235 62.0002 946.235 Q56.9713 946.235 54.2341 942.67 Q51.4968 939.106 51.4968 932.549 Q51.4968 929.302 51.9743 926.438 Q52.4517 923.573 53.4065 921.154 Z\" fill=\"#000000\" fill-rule=\"evenodd\" fill-opacity=\"1\" /><path clip-path=\"url(#clip630)\" d=\"M 0 0 M52.3562 913.102 L52.3562 907.245 L88.0042 907.245 L88.0042 913.102 L52.3562 913.102 M38.479 913.102 L38.479 907.245 L45.895 907.245 L45.895 913.102 L38.479 913.102 Z\" fill=\"#000000\" fill-rule=\"evenodd\" fill-opacity=\"1\" /><path clip-path=\"url(#clip630)\" d=\"M 0 0 M38.479 883.056 L43.3487 883.056 L43.3487 888.657 Q43.3487 891.808 44.6219 893.05 Q45.895 894.259 49.2052 894.259 L52.3562 894.259 L52.3562 884.615 L56.9077 884.615 L56.9077 894.259 L88.0042 894.259 L88.0042 900.147 L56.9077 900.147 L56.9077 905.749 L52.3562 905.749 L52.3562 900.147 L49.8736 900.147 Q43.9216 900.147 41.2162 897.378 Q38.479 894.609 38.479 888.594 L38.479 883.056 Z\" fill=\"#000000\" fill-rule=\"evenodd\" fill-opacity=\"1\" /><path clip-path=\"url(#clip630)\" d=\"M 0 0 M52.3562 876.913 L52.3562 871.056 L88.0042 871.056 L88.0042 876.913 L52.3562 876.913 M38.479 876.913 L38.479 871.056 L45.895 871.056 L45.895 876.913 L38.479 876.913 Z\" fill=\"#000000\" fill-rule=\"evenodd\" fill-opacity=\"1\" /><path clip-path=\"url(#clip630)\" d=\"M 0 0 M53.7248 839.259 L59.1993 839.259 Q57.8307 841.742 57.1623 844.257 Q56.4621 846.739 56.4621 849.285 Q56.4621 854.983 60.0905 858.134 Q63.6872 861.285 70.212 861.285 Q76.7369 861.285 80.3653 858.134 Q83.9619 854.983 83.9619 849.285 Q83.9619 846.739 83.2935 844.257 Q82.5933 841.742 81.2247 839.259 L86.6355 839.259 Q87.7814 841.71 88.3543 844.352 Q88.9272 846.962 88.9272 849.922 Q88.9272 857.975 83.8664 862.717 Q78.8057 867.46 70.212 867.46 Q61.491 867.46 56.4939 862.685 Q51.4968 857.879 51.4968 849.54 Q51.4968 846.835 52.0697 844.257 Q52.6108 841.678 53.7248 839.259 Z\" fill=\"#000000\" fill-rule=\"evenodd\" fill-opacity=\"1\" /><path clip-path=\"url(#clip630)\" d=\"M 0 0 M70.0847 816.916 Q70.0847 824.014 71.7079 826.751 Q73.3312 829.488 77.2461 829.488 Q80.3653 829.488 82.2114 827.451 Q84.0256 825.382 84.0256 821.849 Q84.0256 816.979 80.5881 814.051 Q77.1188 811.091 71.3897 811.091 L70.0847 811.091 L70.0847 816.916 M67.6657 805.235 L88.0042 805.235 L88.0042 811.091 L82.5933 811.091 Q85.8398 813.096 87.3994 816.088 Q88.9272 819.08 88.9272 823.409 Q88.9272 828.883 85.8716 832.13 Q82.7843 835.345 77.6281 835.345 Q71.6125 835.345 68.5569 831.334 Q65.5014 827.292 65.5014 819.303 L65.5014 811.091 L64.9285 811.091 Q60.8862 811.091 58.6901 813.765 Q56.4621 816.407 56.4621 821.213 Q56.4621 824.268 57.1941 827.165 Q57.9262 830.061 59.3903 832.735 L53.9795 832.735 Q52.7381 829.52 52.1334 826.496 Q51.4968 823.472 51.4968 820.608 Q51.4968 812.874 55.5072 809.054 Q59.5176 805.235 67.6657 805.235 Z\" fill=\"#000000\" fill-rule=\"evenodd\" fill-opacity=\"1\" /><path clip-path=\"url(#clip630)\" d=\"M 0 0 M42.2347 793.299 L52.3562 793.299 L52.3562 781.236 L56.9077 781.236 L56.9077 793.299 L76.2594 793.299 Q80.6199 793.299 81.8613 792.121 Q83.1026 790.912 83.1026 787.252 L83.1026 781.236 L88.0042 781.236 L88.0042 787.252 Q88.0042 794.031 85.4897 796.609 Q82.9434 799.187 76.2594 799.187 L56.9077 799.187 L56.9077 803.484 L52.3562 803.484 L52.3562 799.187 L42.2347 799.187 L42.2347 793.299 Z\" fill=\"#000000\" fill-rule=\"evenodd\" fill-opacity=\"1\" /><path clip-path=\"url(#clip630)\" d=\"M 0 0 M52.3562 775.093 L52.3562 769.237 L88.0042 769.237 L88.0042 775.093 L52.3562 775.093 M38.479 775.093 L38.479 769.237 L45.895 769.237 L45.895 775.093 L38.479 775.093 Z\" fill=\"#000000\" fill-rule=\"evenodd\" fill-opacity=\"1\" /><path clip-path=\"url(#clip630)\" d=\"M 0 0 M56.4621 749.28 Q56.4621 753.991 60.1542 756.728 Q63.8145 759.465 70.212 759.465 Q76.6095 759.465 80.3017 756.76 Q83.9619 754.023 83.9619 749.28 Q83.9619 744.601 80.2698 741.864 Q76.5777 739.127 70.212 739.127 Q63.8781 739.127 60.186 741.864 Q56.4621 744.601 56.4621 749.28 M51.4968 749.28 Q51.4968 741.641 56.4621 737.281 Q61.4273 732.92 70.212 732.92 Q78.9649 732.92 83.9619 737.281 Q88.9272 741.641 88.9272 749.28 Q88.9272 756.951 83.9619 761.311 Q78.9649 765.64 70.212 765.64 Q61.4273 765.64 56.4621 761.311 Q51.4968 756.951 51.4968 749.28 Z\" fill=\"#000000\" fill-rule=\"evenodd\" fill-opacity=\"1\" /><path clip-path=\"url(#clip630)\" d=\"M 0 0 M66.4881 697.145 L88.0042 697.145 L88.0042 703.001 L66.679 703.001 Q61.6183 703.001 59.1038 704.975 Q56.5894 706.948 56.5894 710.895 Q56.5894 715.637 59.6131 718.375 Q62.6368 721.112 67.8567 721.112 L88.0042 721.112 L88.0042 727 L52.3562 727 L52.3562 721.112 L57.8944 721.112 Q54.6797 719.011 53.0883 716.179 Q51.4968 713.314 51.4968 709.59 Q51.4968 703.447 55.3163 700.296 Q59.1038 697.145 66.4881 697.145 Z\" fill=\"#000000\" fill-rule=\"evenodd\" fill-opacity=\"1\" /><path clip-path=\"url(#clip630)\" d=\"M 0 0 M46.818 654.145 L70.4666 662.866 L70.4666 645.392 L46.818 654.145 M40.4842 657.773 L40.4842 650.484 L88.0042 632.374 L88.0042 639.058 L75.8138 643.387 L75.8138 664.807 L88.0042 669.136 L88.0042 675.915 L40.4842 657.773 Z\" fill=\"#000000\" fill-rule=\"evenodd\" fill-opacity=\"1\" /><path clip-path=\"url(#clip630)\" d=\"M 0 0 M53.7248 601.723 L59.1993 601.723 Q57.8307 604.206 57.1623 606.72 Q56.4621 609.203 56.4621 611.749 Q56.4621 617.446 60.0905 620.597 Q63.6872 623.748 70.212 623.748 Q76.7369 623.748 80.3653 620.597 Q83.9619 617.446 83.9619 611.749 Q83.9619 609.203 83.2935 606.72 Q82.5933 604.206 81.2247 601.723 L86.6355 601.723 Q87.7814 604.174 88.3543 606.816 Q88.9272 609.426 88.9272 612.386 Q88.9272 620.438 83.8664 625.181 Q78.8057 629.923 70.212 629.923 Q61.491 629.923 56.4939 625.149 Q51.4968 620.343 51.4968 612.004 Q51.4968 609.298 52.0697 606.72 Q52.6108 604.142 53.7248 601.723 Z\" fill=\"#000000\" fill-rule=\"evenodd\" fill-opacity=\"1\" /><path clip-path=\"url(#clip630)\" d=\"M 0 0 M53.7248 569.926 L59.1993 569.926 Q57.8307 572.409 57.1623 574.923 Q56.4621 577.406 56.4621 579.952 Q56.4621 585.65 60.0905 588.801 Q63.6872 591.952 70.212 591.952 Q76.7369 591.952 80.3653 588.801 Q83.9619 585.65 83.9619 579.952 Q83.9619 577.406 83.2935 574.923 Q82.5933 572.409 81.2247 569.926 L86.6355 569.926 Q87.7814 572.377 88.3543 575.019 Q88.9272 577.629 88.9272 580.589 Q88.9272 588.642 83.8664 593.384 Q78.8057 598.126 70.212 598.126 Q61.491 598.126 56.4939 593.352 Q51.4968 588.546 51.4968 580.207 Q51.4968 577.502 52.0697 574.923 Q52.6108 572.345 53.7248 569.926 Z\" fill=\"#000000\" fill-rule=\"evenodd\" fill-opacity=\"1\" /><path clip-path=\"url(#clip630)\" d=\"M 0 0 M73.9359 564.388 L52.3562 564.388 L52.3562 558.532 L73.7131 558.532 Q78.7739 558.532 81.3202 556.558 Q83.8346 554.585 83.8346 550.638 Q83.8346 545.896 80.8109 543.159 Q77.7872 540.39 72.5673 540.39 L52.3562 540.39 L52.3562 534.533 L88.0042 534.533 L88.0042 540.39 L82.5296 540.39 Q85.7762 542.522 87.3676 545.355 Q88.9272 548.156 88.9272 551.88 Q88.9272 558.023 85.1078 561.205 Q81.2883 564.388 73.9359 564.388 M51.4968 549.652 L51.4968 549.652 Z\" fill=\"#000000\" fill-rule=\"evenodd\" fill-opacity=\"1\" /><path clip-path=\"url(#clip630)\" d=\"M 0 0 M57.8307 507.733 Q57.2578 508.72 57.0032 509.898 Q56.7167 511.044 56.7167 512.444 Q56.7167 517.409 59.9632 520.083 Q63.1779 522.725 69.2253 522.725 L88.0042 522.725 L88.0042 528.613 L52.3562 528.613 L52.3562 522.725 L57.8944 522.725 Q54.6479 520.879 53.0883 517.919 Q51.4968 514.959 51.4968 510.725 Q51.4968 510.121 51.5923 509.389 Q51.656 508.656 51.8151 507.765 L57.8307 507.733 Z\" fill=\"#000000\" fill-rule=\"evenodd\" fill-opacity=\"1\" /><path clip-path=\"url(#clip630)\" d=\"M 0 0 M70.0847 485.39 Q70.0847 492.488 71.7079 495.225 Q73.3312 497.962 77.2461 497.962 Q80.3653 497.962 82.2114 495.925 Q84.0256 493.856 84.0256 490.323 Q84.0256 485.453 80.5881 482.525 Q77.1188 479.565 71.3897 479.565 L70.0847 479.565 L70.0847 485.39 M67.6657 473.709 L88.0042 473.709 L88.0042 479.565 L82.5933 479.565 Q85.8398 481.57 87.3994 484.562 Q88.9272 487.554 88.9272 491.883 Q88.9272 497.357 85.8716 500.604 Q82.7843 503.819 77.6281 503.819 Q71.6125 503.819 68.5569 499.808 Q65.5014 495.766 65.5014 487.777 L65.5014 479.565 L64.9285 479.565 Q60.8862 479.565 58.6901 482.239 Q56.4621 484.881 56.4621 489.687 Q56.4621 492.742 57.1941 495.639 Q57.9262 498.535 59.3903 501.209 L53.9795 501.209 Q52.7381 497.994 52.1334 494.97 Q51.4968 491.946 51.4968 489.082 Q51.4968 481.348 55.5072 477.528 Q59.5176 473.709 67.6657 473.709 Z\" fill=\"#000000\" fill-rule=\"evenodd\" fill-opacity=\"1\" /><path clip-path=\"url(#clip630)\" d=\"M 0 0 M53.7248 441.912 L59.1993 441.912 Q57.8307 444.395 57.1623 446.909 Q56.4621 449.392 56.4621 451.938 Q56.4621 457.635 60.0905 460.786 Q63.6872 463.937 70.212 463.937 Q76.7369 463.937 80.3653 460.786 Q83.9619 457.635 83.9619 451.938 Q83.9619 449.392 83.2935 446.909 Q82.5933 444.395 81.2247 441.912 L86.6355 441.912 Q87.7814 444.363 88.3543 447.005 Q88.9272 449.615 88.9272 452.575 Q88.9272 460.627 83.8664 465.37 Q78.8057 470.112 70.212 470.112 Q61.491 470.112 56.4939 465.338 Q51.4968 460.532 51.4968 452.193 Q51.4968 449.487 52.0697 446.909 Q52.6108 444.331 53.7248 441.912 Z\" fill=\"#000000\" fill-rule=\"evenodd\" fill-opacity=\"1\" /><path clip-path=\"url(#clip630)\" d=\"M 0 0 M91.3143 420.937 Q97.68 423.42 99.6216 425.775 Q101.563 428.13 101.563 432.077 L101.563 436.756 L96.6615 436.756 L96.6615 433.318 Q96.6615 430.899 95.5157 429.563 Q94.3699 428.226 90.1048 426.603 L87.4312 425.552 L52.3562 439.97 L52.3562 433.764 L80.238 422.624 L52.3562 411.484 L52.3562 405.277 L91.3143 420.937 Z\" fill=\"#000000\" fill-rule=\"evenodd\" fill-opacity=\"1\" /><polyline clip-path=\"url(#clip632)\" style=\"stroke:#009af9; stroke-width:4; stroke-opacity:1; fill:none\" points=\"\n",
       "  298.36,765.781 357.024,326.876 415.687,765.781 474.351,985.234 533.014,941.343 591.678,912.083 650.341,765.781 709.005,1094.96 767.668,1155.92 826.332,941.343 \n",
       "  884.995,845.582 943.659,838.932 1002.32,765.781 1060.99,765.781 1119.65,765.781 1178.31,710.918 1236.98,662.509 1295.64,570.712 1354.3,534.778 1412.97,634.109 \n",
       "  1471.63,514.978 1530.29,566.279 1588.96,498.621 1647.62,473.177 1706.28,449.769 1764.95,360.638 1823.61,603.223 1882.27,671.73 1940.94,614.434 1999.6,531.698 \n",
       "  2058.27,86.1857 2116.93,134.855 2175.59,313.575 2234.26,585.055 2292.92,514.978 \n",
       "  \"/>\n",
       "<polyline clip-path=\"url(#clip632)\" style=\"stroke:#e26f46; stroke-width:4; stroke-opacity:1; fill:none\" points=\"\n",
       "  298.36,1384.24 357.024,1284.49 415.687,985.234 474.351,785.731 533.014,785.731 591.678,586.229 650.341,785.731 709.005,685.98 767.668,785.731 826.332,486.478 \n",
       "  884.995,486.478 943.659,486.478 1002.32,486.478 1060.99,386.726 1119.65,486.478 1178.31,486.478 1236.98,486.478 1295.64,386.726 1354.3,486.478 1412.97,486.478 \n",
       "  1471.63,486.478 1530.29,286.975 1588.96,486.478 1647.62,386.726 1706.28,486.478 1764.95,486.478 1823.61,486.478 1882.27,486.478 1940.94,486.478 1999.6,486.478 \n",
       "  2058.27,386.726 2116.93,386.726 2175.59,486.478 2234.26,486.478 2292.92,486.478 \n",
       "  \"/>\n",
       "<path clip-path=\"url(#clip630)\" d=\"\n",
       "M1848.04 1377.32 L2282.28 1377.32 L2282.28 1195.88 L1848.04 1195.88  Z\n",
       "  \" fill=\"#ffffff\" fill-rule=\"evenodd\" fill-opacity=\"1\"/>\n",
       "<polyline clip-path=\"url(#clip630)\" style=\"stroke:#000000; stroke-width:4; stroke-opacity:1; fill:none\" points=\"\n",
       "  1848.04,1377.32 2282.28,1377.32 2282.28,1195.88 1848.04,1195.88 1848.04,1377.32 \n",
       "  \"/>\n",
       "<polyline clip-path=\"url(#clip630)\" style=\"stroke:#009af9; stroke-width:4; stroke-opacity:1; fill:none\" points=\"\n",
       "  1871.53,1256.36 2012.48,1256.36 \n",
       "  \"/>\n",
       "<path clip-path=\"url(#clip630)\" d=\"M 0 0 M2035.97 1239.08 L2065.21 1239.08 L2065.21 1243.01 L2052.94 1243.01 L2052.94 1273.64 L2048.24 1273.64 L2048.24 1243.01 L2035.97 1243.01 L2035.97 1239.08 Z\" fill=\"#000000\" fill-rule=\"evenodd\" fill-opacity=\"1\" /><path clip-path=\"url(#clip630)\" d=\"M 0 0 M2077.73 1251.69 Q2077.01 1251.27 2076.16 1251.09 Q2075.32 1250.88 2074.3 1250.88 Q2070.69 1250.88 2068.75 1253.24 Q2066.83 1255.58 2066.83 1259.98 L2066.83 1273.64 L2062.54 1273.64 L2062.54 1247.71 L2066.83 1247.71 L2066.83 1251.74 Q2068.17 1249.38 2070.32 1248.24 Q2072.48 1247.08 2075.55 1247.08 Q2075.99 1247.08 2076.53 1247.15 Q2077.06 1247.2 2077.71 1247.32 L2077.73 1251.69 Z\" fill=\"#000000\" fill-rule=\"evenodd\" fill-opacity=\"1\" /><path clip-path=\"url(#clip630)\" d=\"M 0 0 M2093.98 1260.6 Q2088.82 1260.6 2086.83 1261.78 Q2084.84 1262.96 2084.84 1265.81 Q2084.84 1268.08 2086.32 1269.42 Q2087.82 1270.74 2090.39 1270.74 Q2093.93 1270.74 2096.06 1268.24 Q2098.22 1265.72 2098.22 1261.55 L2098.22 1260.6 L2093.98 1260.6 M2102.48 1258.84 L2102.48 1273.64 L2098.22 1273.64 L2098.22 1269.7 Q2096.76 1272.06 2094.58 1273.2 Q2092.41 1274.31 2089.26 1274.31 Q2085.28 1274.31 2082.92 1272.08 Q2080.58 1269.84 2080.58 1266.09 Q2080.58 1261.71 2083.49 1259.49 Q2086.43 1257.27 2092.24 1257.27 L2098.22 1257.27 L2098.22 1256.85 Q2098.22 1253.91 2096.27 1252.32 Q2094.35 1250.7 2090.85 1250.7 Q2088.63 1250.7 2086.53 1251.23 Q2084.42 1251.76 2082.48 1252.83 L2082.48 1248.89 Q2084.81 1247.99 2087.01 1247.55 Q2089.21 1247.08 2091.29 1247.08 Q2096.92 1247.08 2099.7 1250 Q2102.48 1252.92 2102.48 1258.84 Z\" fill=\"#000000\" fill-rule=\"evenodd\" fill-opacity=\"1\" /><path clip-path=\"url(#clip630)\" d=\"M 0 0 M2106.94 1247.71 L2111.2 1247.71 L2111.2 1273.64 L2106.94 1273.64 L2106.94 1247.71 M2106.94 1237.62 L2111.2 1237.62 L2111.2 1243.01 L2106.94 1243.01 L2106.94 1237.62 Z\" fill=\"#000000\" fill-rule=\"evenodd\" fill-opacity=\"1\" /><path clip-path=\"url(#clip630)\" d=\"M 0 0 M2137.22 1257.99 L2137.22 1273.64 L2132.96 1273.64 L2132.96 1258.13 Q2132.96 1254.45 2131.53 1252.62 Q2130.09 1250.79 2127.22 1250.79 Q2123.77 1250.79 2121.78 1252.99 Q2119.79 1255.19 2119.79 1258.98 L2119.79 1273.64 L2115.51 1273.64 L2115.51 1247.71 L2119.79 1247.71 L2119.79 1251.74 Q2121.32 1249.4 2123.38 1248.24 Q2125.46 1247.08 2128.17 1247.08 Q2132.64 1247.08 2134.93 1249.86 Q2137.22 1252.62 2137.22 1257.99 Z\" fill=\"#000000\" fill-rule=\"evenodd\" fill-opacity=\"1\" /><path clip-path=\"url(#clip630)\" d=\"M 0 0 M2141.69 1247.71 L2145.95 1247.71 L2145.95 1273.64 L2141.69 1273.64 L2141.69 1247.71 M2141.69 1237.62 L2145.95 1237.62 L2145.95 1243.01 L2141.69 1243.01 L2141.69 1237.62 Z\" fill=\"#000000\" fill-rule=\"evenodd\" fill-opacity=\"1\" /><path clip-path=\"url(#clip630)\" d=\"M 0 0 M2171.97 1257.99 L2171.97 1273.64 L2167.71 1273.64 L2167.71 1258.13 Q2167.71 1254.45 2166.27 1252.62 Q2164.84 1250.79 2161.97 1250.79 Q2158.52 1250.79 2156.53 1252.99 Q2154.54 1255.19 2154.54 1258.98 L2154.54 1273.64 L2150.25 1273.64 L2150.25 1247.71 L2154.54 1247.71 L2154.54 1251.74 Q2156.06 1249.4 2158.12 1248.24 Q2160.21 1247.08 2162.91 1247.08 Q2167.38 1247.08 2169.67 1249.86 Q2171.97 1252.62 2171.97 1257.99 Z\" fill=\"#000000\" fill-rule=\"evenodd\" fill-opacity=\"1\" /><path clip-path=\"url(#clip630)\" d=\"M 0 0 M2193.49 1260.37 Q2193.49 1255.74 2191.57 1253.2 Q2189.67 1250.65 2186.22 1250.65 Q2182.8 1250.65 2180.88 1253.2 Q2178.98 1255.74 2178.98 1260.37 Q2178.98 1264.98 2180.88 1267.52 Q2182.8 1270.07 2186.22 1270.07 Q2189.67 1270.07 2191.57 1267.52 Q2193.49 1264.98 2193.49 1260.37 M2197.75 1270.42 Q2197.75 1277.04 2194.81 1280.26 Q2191.87 1283.5 2185.81 1283.5 Q2183.56 1283.5 2181.57 1283.15 Q2179.58 1282.83 2177.71 1282.13 L2177.71 1277.99 Q2179.58 1279.01 2181.41 1279.49 Q2183.24 1279.98 2185.14 1279.98 Q2189.33 1279.98 2191.41 1277.78 Q2193.49 1275.6 2193.49 1271.18 L2193.49 1269.08 Q2192.17 1271.37 2190.11 1272.5 Q2188.05 1273.64 2185.18 1273.64 Q2180.41 1273.64 2177.5 1270 Q2174.58 1266.37 2174.58 1260.37 Q2174.58 1254.35 2177.5 1250.72 Q2180.41 1247.08 2185.18 1247.08 Q2188.05 1247.08 2190.11 1248.22 Q2192.17 1249.35 2193.49 1251.64 L2193.49 1247.71 L2197.75 1247.71 L2197.75 1270.42 Z\" fill=\"#000000\" fill-rule=\"evenodd\" fill-opacity=\"1\" /><polyline clip-path=\"url(#clip630)\" style=\"stroke:#e26f46; stroke-width:4; stroke-opacity:1; fill:none\" points=\"\n",
       "  1871.53,1316.84 2012.48,1316.84 \n",
       "  \"/>\n",
       "<path clip-path=\"url(#clip630)\" d=\"M 0 0 M2049.17 1334.12 L2035.97 1299.56 L2040.86 1299.56 L2051.8 1328.65 L2062.78 1299.56 L2067.64 1299.56 L2054.47 1334.12 L2049.17 1334.12 Z\" fill=\"#000000\" fill-rule=\"evenodd\" fill-opacity=\"1\" /><path clip-path=\"url(#clip630)\" d=\"M 0 0 M2080.21 1321.08 Q2075.04 1321.08 2073.05 1322.26 Q2071.06 1323.44 2071.06 1326.29 Q2071.06 1328.56 2072.54 1329.9 Q2074.05 1331.22 2076.62 1331.22 Q2080.16 1331.22 2082.29 1328.72 Q2084.44 1326.2 2084.44 1322.03 L2084.44 1321.08 L2080.21 1321.08 M2088.7 1319.32 L2088.7 1334.12 L2084.44 1334.12 L2084.44 1330.18 Q2082.98 1332.54 2080.81 1333.68 Q2078.63 1334.79 2075.48 1334.79 Q2071.5 1334.79 2069.14 1332.56 Q2066.8 1330.32 2066.8 1326.57 Q2066.8 1322.19 2069.72 1319.97 Q2072.66 1317.75 2078.47 1317.75 L2084.44 1317.75 L2084.44 1317.33 Q2084.44 1314.39 2082.5 1312.8 Q2080.58 1311.18 2077.08 1311.18 Q2074.86 1311.18 2072.75 1311.71 Q2070.65 1312.24 2068.7 1313.31 L2068.7 1309.37 Q2071.04 1308.47 2073.24 1308.03 Q2075.44 1307.56 2077.52 1307.56 Q2083.15 1307.56 2085.92 1310.48 Q2088.7 1313.4 2088.7 1319.32 Z\" fill=\"#000000\" fill-rule=\"evenodd\" fill-opacity=\"1\" /><path clip-path=\"url(#clip630)\" d=\"M 0 0 M2093.17 1298.1 L2097.43 1298.1 L2097.43 1334.12 L2093.17 1334.12 L2093.17 1298.1 Z\" fill=\"#000000\" fill-rule=\"evenodd\" fill-opacity=\"1\" /><path clip-path=\"url(#clip630)\" d=\"M 0 0 M2101.9 1308.19 L2106.16 1308.19 L2106.16 1334.12 L2101.9 1334.12 L2101.9 1308.19 M2101.9 1298.1 L2106.16 1298.1 L2106.16 1303.49 L2101.9 1303.49 L2101.9 1298.1 Z\" fill=\"#000000\" fill-rule=\"evenodd\" fill-opacity=\"1\" /><path clip-path=\"url(#clip630)\" d=\"M 0 0 M2127.68 1312.12 L2127.68 1298.1 L2131.94 1298.1 L2131.94 1334.12 L2127.68 1334.12 L2127.68 1330.23 Q2126.34 1332.54 2124.28 1333.68 Q2122.24 1334.79 2119.37 1334.79 Q2114.67 1334.79 2111.71 1331.04 Q2108.77 1327.29 2108.77 1321.18 Q2108.77 1315.06 2111.71 1311.31 Q2114.67 1307.56 2119.37 1307.56 Q2122.24 1307.56 2124.28 1308.7 Q2126.34 1309.81 2127.68 1312.12 M2113.17 1321.18 Q2113.17 1325.87 2115.09 1328.56 Q2117.04 1331.22 2120.41 1331.22 Q2123.79 1331.22 2125.74 1328.56 Q2127.68 1325.87 2127.68 1321.18 Q2127.68 1316.48 2125.74 1313.81 Q2123.79 1311.13 2120.41 1311.13 Q2117.04 1311.13 2115.09 1313.81 Q2113.17 1316.48 2113.17 1321.18 Z\" fill=\"#000000\" fill-rule=\"evenodd\" fill-opacity=\"1\" /><path clip-path=\"url(#clip630)\" d=\"M 0 0 M2148.19 1321.08 Q2143.03 1321.08 2141.04 1322.26 Q2139.05 1323.44 2139.05 1326.29 Q2139.05 1328.56 2140.53 1329.9 Q2142.04 1331.22 2144.6 1331.22 Q2148.15 1331.22 2150.28 1328.72 Q2152.43 1326.2 2152.43 1322.03 L2152.43 1321.08 L2148.19 1321.08 M2156.69 1319.32 L2156.69 1334.12 L2152.43 1334.12 L2152.43 1330.18 Q2150.97 1332.54 2148.79 1333.68 Q2146.62 1334.79 2143.47 1334.79 Q2139.49 1334.79 2137.13 1332.56 Q2134.79 1330.32 2134.79 1326.57 Q2134.79 1322.19 2137.71 1319.97 Q2140.65 1317.75 2146.46 1317.75 L2152.43 1317.75 L2152.43 1317.33 Q2152.43 1314.39 2150.48 1312.8 Q2148.56 1311.18 2145.07 1311.18 Q2142.85 1311.18 2140.74 1311.71 Q2138.63 1312.24 2136.69 1313.31 L2136.69 1309.37 Q2139.03 1308.47 2141.22 1308.03 Q2143.42 1307.56 2145.51 1307.56 Q2151.13 1307.56 2153.91 1310.48 Q2156.69 1313.4 2156.69 1319.32 Z\" fill=\"#000000\" fill-rule=\"evenodd\" fill-opacity=\"1\" /><path clip-path=\"url(#clip630)\" d=\"M 0 0 M2165.37 1300.83 L2165.37 1308.19 L2174.14 1308.19 L2174.14 1311.5 L2165.37 1311.5 L2165.37 1325.57 Q2165.37 1328.74 2166.22 1329.65 Q2167.1 1330.55 2169.77 1330.55 L2174.14 1330.55 L2174.14 1334.12 L2169.77 1334.12 Q2164.84 1334.12 2162.96 1332.29 Q2161.09 1330.43 2161.09 1325.57 L2161.09 1311.5 L2157.96 1311.5 L2157.96 1308.19 L2161.09 1308.19 L2161.09 1300.83 L2165.37 1300.83 Z\" fill=\"#000000\" fill-rule=\"evenodd\" fill-opacity=\"1\" /><path clip-path=\"url(#clip630)\" d=\"M 0 0 M2178.61 1308.19 L2182.87 1308.19 L2182.87 1334.12 L2178.61 1334.12 L2178.61 1308.19 M2178.61 1298.1 L2182.87 1298.1 L2182.87 1303.49 L2178.61 1303.49 L2178.61 1298.1 Z\" fill=\"#000000\" fill-rule=\"evenodd\" fill-opacity=\"1\" /><path clip-path=\"url(#clip630)\" d=\"M 0 0 M2197.38 1311.18 Q2193.96 1311.18 2191.97 1313.86 Q2189.97 1316.52 2189.97 1321.18 Q2189.97 1325.83 2191.94 1328.51 Q2193.93 1331.18 2197.38 1331.18 Q2200.78 1331.18 2202.78 1328.49 Q2204.77 1325.81 2204.77 1321.18 Q2204.77 1316.57 2202.78 1313.88 Q2200.78 1311.18 2197.38 1311.18 M2197.38 1307.56 Q2202.94 1307.56 2206.11 1311.18 Q2209.28 1314.79 2209.28 1321.18 Q2209.28 1327.54 2206.11 1331.18 Q2202.94 1334.79 2197.38 1334.79 Q2191.8 1334.79 2188.63 1331.18 Q2185.48 1327.54 2185.48 1321.18 Q2185.48 1314.79 2188.63 1311.18 Q2191.8 1307.56 2197.38 1307.56 Z\" fill=\"#000000\" fill-rule=\"evenodd\" fill-opacity=\"1\" /><path clip-path=\"url(#clip630)\" d=\"M 0 0 M2235.3 1318.47 L2235.3 1334.12 L2231.04 1334.12 L2231.04 1318.61 Q2231.04 1314.93 2229.6 1313.1 Q2228.17 1311.27 2225.3 1311.27 Q2221.85 1311.27 2219.86 1313.47 Q2217.87 1315.67 2217.87 1319.46 L2217.87 1334.12 L2213.59 1334.12 L2213.59 1308.19 L2217.87 1308.19 L2217.87 1312.22 Q2219.4 1309.88 2221.46 1308.72 Q2223.54 1307.56 2226.25 1307.56 Q2230.72 1307.56 2233.01 1310.34 Q2235.3 1313.1 2235.3 1318.47 Z\" fill=\"#000000\" fill-rule=\"evenodd\" fill-opacity=\"1\" /></svg>\n"
      ]
     },
     "execution_count": 73,
     "metadata": {},
     "output_type": "execute_result"
    }
   ],
   "source": [
    "plot(data_schedule, training_losses, label=\"Training\", legend=:bottomright)\n",
    "plot!(data_schedule, valid_losses, label=\"Validation\")\n",
    "xlabel!(\"Number of Training Samples\")\n",
    "ylabel!(\"Classification Accuracy\")"
   ]
  },
  {
   "cell_type": "code",
   "execution_count": 74,
   "metadata": {},
   "outputs": [],
   "source": [
    "png(\"Figures/NN_LC\")"
   ]
  },
  {
   "cell_type": "markdown",
   "metadata": {},
   "source": [
    "#### Learning Curve"
   ]
  },
  {
   "cell_type": "code",
   "execution_count": 98,
   "metadata": {},
   "outputs": [
    {
     "name": "stderr",
     "output_type": "stream",
     "text": [
      "┌ Info: Training \u001b[34mMachine{NeuralNetworkClassifier{CustomNN,…}} @819\u001b[39m.\n",
      "└ @ MLJBase /home/andrew/.julia/packages/MLJBase/uKzAz/src/machines.jl:319\n",
      "\u001b[33mOptimising neural net:100%[=========================] Time: 0:00:12\u001b[39m\n"
     ]
    },
    {
     "data": {
      "text/plain": [
       "\u001b[34mMachine{NeuralNetworkClassifier{CustomNN,…}} @819\u001b[39m trained 1 time.\n",
       "  args: \n",
       "    1:\t\u001b[34mSource @372\u001b[39m ⏎ `Table{AbstractArray{Continuous,1}}`\n",
       "    2:\t\u001b[34mSource @813\u001b[39m ⏎ `AbstractArray{Multiclass{3},1}`\n"
      ]
     },
     "execution_count": 98,
     "metadata": {},
     "output_type": "execute_result"
    }
   ],
   "source": [
    "Net = machine(lc_model, X, y)\n",
    "Net.model.epochs = max_epochs\n",
    "fit!(Net, rows=train, verbosity=1, force=true)"
   ]
  },
  {
   "cell_type": "code",
   "execution_count": 99,
   "metadata": {},
   "outputs": [
    {
     "name": "stderr",
     "output_type": "stream",
     "text": [
      "\u001b[33mEvaluating over 6 folds: 100%[=========================] Time: 0:01:25\u001b[39m\n"
     ]
    },
    {
     "data": {
      "text/plain": [
       "┌\u001b[0m───────────────\u001b[0m┬\u001b[0m───────────────\u001b[0m┬\u001b[0m───────────────────────────────────────────────────\u001b[0m┐\u001b[0m\n",
       "│\u001b[0m\u001b[22m _.measure     \u001b[0m│\u001b[0m\u001b[22m _.measurement \u001b[0m│\u001b[0m\u001b[22m _.per_fold                                        \u001b[0m│\u001b[0m\n",
       "├\u001b[0m───────────────\u001b[0m┼\u001b[0m───────────────\u001b[0m┼\u001b[0m───────────────────────────────────────────────────\u001b[0m┤\u001b[0m\n",
       "│\u001b[0m cross_entropy \u001b[0m│\u001b[0m 0.599         \u001b[0m│\u001b[0m Float32[0.618, 0.557, 0.607, 0.604, 0.601, 0.604] \u001b[0m│\u001b[0m\n",
       "│\u001b[0m acc           \u001b[0m│\u001b[0m 0.946         \u001b[0m│\u001b[0m [0.924, 1.0, 0.923, 0.913, 0.952, 0.962]          \u001b[0m│\u001b[0m\n",
       "└\u001b[0m───────────────\u001b[0m┴\u001b[0m───────────────\u001b[0m┴\u001b[0m───────────────────────────────────────────────────\u001b[0m┘\u001b[0m\n",
       "_.per_observation = [[[0.551, 0.551, ..., 0.562], [0.551, 0.551, ..., 0.551], [0.551, 0.551, ..., 0.551], [0.551, 0.551, ..., 0.551], [0.551, 0.551, ..., 0.551], [0.551, 0.551, ..., 0.551]], missing]\n",
       "_.fitted_params_per_fold = [ … ]\n",
       "_.report_per_fold = [ … ]\n"
      ]
     },
     "execution_count": 99,
     "metadata": {},
     "output_type": "execute_result"
    }
   ],
   "source": [
    "nn_acc = evaluate!(Net, resampling=CV(shuffle=true), measure=[cross_entropy, acc], verbosity=1)"
   ]
  },
  {
   "cell_type": "code",
   "execution_count": 100,
   "metadata": {
    "scrolled": true
   },
   "outputs": [
    {
     "data": {
      "text/plain": [
       "MLJBase.NumericRange(Int64, :epochs, ... )"
      ]
     },
     "execution_count": 100,
     "metadata": {},
     "output_type": "execute_result"
    }
   ],
   "source": [
    "r = range(nn, :epochs, lower=1, upper=max_epochs, scale=:linear)"
   ]
  },
  {
   "cell_type": "code",
   "execution_count": 101,
   "metadata": {
    "scrolled": true
   },
   "outputs": [
    {
     "name": "stderr",
     "output_type": "stream",
     "text": [
      "┌ Info: Training \u001b[34mMachine{ProbabilisticTunedModel{Grid,…}} @436\u001b[39m.\n",
      "└ @ MLJBase /home/andrew/.julia/packages/MLJBase/uKzAz/src/machines.jl:319\n",
      "┌ Info: Attempting to evaluate 100 models.\n",
      "└ @ MLJTuning /home/andrew/.julia/packages/MLJTuning/Bbgvk/src/tuned_models.jl:494\n",
      "\u001b[33mEvaluating over 100 metamodels: 100%[=========================] Time: 0:38:39\u001b[39m\n"
     ]
    },
    {
     "data": {
      "text/plain": [
       "(parameter_name = \"epochs\",\n",
       " parameter_scale = :linear,\n",
       " parameter_values = [1, 31, 62, 92, 122, 152, 183, 213, 243, 274  …  2727, 2758, 2788, 2818, 2849, 2879, 2909, 2939, 2970, 3000],\n",
       " measurements = [1.1341290473937988, 1.074521541595459, 0.9001859426498413, 0.9454291462898254, 0.8132379651069641, 0.7280151844024658, 0.7824437022209167, 0.7777256965637207, 0.7242764234542847, 0.7375158071517944  …  0.6661814451217651, 0.7769949436187744, 0.6910997033119202, 0.6869031190872192, 0.7337479591369629, 0.6954826712608337, 0.8659523725509644, 0.6933438777923584, 0.7777193784713745, 0.7045760750770569],)"
      ]
     },
     "execution_count": 101,
     "metadata": {},
     "output_type": "execute_result"
    }
   ],
   "source": [
    "curve = MLJ.learning_curve(Net, \n",
    "                        range=r, \n",
    "#                         resampling=Holdout(fraction_train=0.7), \n",
    "                        resampling=CV(nfolds=4), \n",
    "                        measure=cross_entropy, \n",
    "                        acceleration=CPUProcesses(),\n",
    "                        resolution=100\n",
    ")"
   ]
  },
  {
   "cell_type": "code",
   "execution_count": 102,
   "metadata": {},
   "outputs": [
    {
     "data": {
      "image/svg+xml": [
       "<?xml version=\"1.0\" encoding=\"utf-8\"?>\n",
       "<svg xmlns=\"http://www.w3.org/2000/svg\" xmlns:xlink=\"http://www.w3.org/1999/xlink\" width=\"600\" height=\"400\" viewBox=\"0 0 2400 1600\">\n",
       "<defs>\n",
       "  <clipPath id=\"clip730\">\n",
       "    <rect x=\"0\" y=\"0\" width=\"2400\" height=\"1600\"/>\n",
       "  </clipPath>\n",
       "</defs>\n",
       "<path clip-path=\"url(#clip730)\" d=\"\n",
       "M0 1600 L2400 1600 L2400 0 L0 0  Z\n",
       "  \" fill=\"#ffffff\" fill-rule=\"evenodd\" fill-opacity=\"1\"/>\n",
       "<defs>\n",
       "  <clipPath id=\"clip731\">\n",
       "    <rect x=\"480\" y=\"0\" width=\"1681\" height=\"1600\"/>\n",
       "  </clipPath>\n",
       "</defs>\n",
       "<path clip-path=\"url(#clip730)\" d=\"\n",
       "M211.278 1423.18 L2352.76 1423.18 L2352.76 47.2441 L211.278 47.2441  Z\n",
       "  \" fill=\"#ffffff\" fill-rule=\"evenodd\" fill-opacity=\"1\"/>\n",
       "<defs>\n",
       "  <clipPath id=\"clip732\">\n",
       "    <rect x=\"211\" y=\"47\" width=\"2142\" height=\"1377\"/>\n",
       "  </clipPath>\n",
       "</defs>\n",
       "<polyline clip-path=\"url(#clip732)\" style=\"stroke:#000000; stroke-width:2; stroke-opacity:0.1; fill:none\" points=\"\n",
       "  271.213,1423.18 271.213,47.2441 \n",
       "  \"/>\n",
       "<polyline clip-path=\"url(#clip732)\" style=\"stroke:#000000; stroke-width:2; stroke-opacity:0.1; fill:none\" points=\"\n",
       "  944.858,1423.18 944.858,47.2441 \n",
       "  \"/>\n",
       "<polyline clip-path=\"url(#clip732)\" style=\"stroke:#000000; stroke-width:2; stroke-opacity:0.1; fill:none\" points=\"\n",
       "  1618.5,1423.18 1618.5,47.2441 \n",
       "  \"/>\n",
       "<polyline clip-path=\"url(#clip732)\" style=\"stroke:#000000; stroke-width:2; stroke-opacity:0.1; fill:none\" points=\"\n",
       "  2292.15,1423.18 2292.15,47.2441 \n",
       "  \"/>\n",
       "<polyline clip-path=\"url(#clip732)\" style=\"stroke:#000000; stroke-width:2; stroke-opacity:0.1; fill:none\" points=\"\n",
       "  211.278,1292.66 2352.76,1292.66 \n",
       "  \"/>\n",
       "<polyline clip-path=\"url(#clip732)\" style=\"stroke:#000000; stroke-width:2; stroke-opacity:0.1; fill:none\" points=\"\n",
       "  211.278,1066.78 2352.76,1066.78 \n",
       "  \"/>\n",
       "<polyline clip-path=\"url(#clip732)\" style=\"stroke:#000000; stroke-width:2; stroke-opacity:0.1; fill:none\" points=\"\n",
       "  211.278,840.907 2352.76,840.907 \n",
       "  \"/>\n",
       "<polyline clip-path=\"url(#clip732)\" style=\"stroke:#000000; stroke-width:2; stroke-opacity:0.1; fill:none\" points=\"\n",
       "  211.278,615.03 2352.76,615.03 \n",
       "  \"/>\n",
       "<polyline clip-path=\"url(#clip732)\" style=\"stroke:#000000; stroke-width:2; stroke-opacity:0.1; fill:none\" points=\"\n",
       "  211.278,389.153 2352.76,389.153 \n",
       "  \"/>\n",
       "<polyline clip-path=\"url(#clip732)\" style=\"stroke:#000000; stroke-width:2; stroke-opacity:0.1; fill:none\" points=\"\n",
       "  211.278,163.275 2352.76,163.275 \n",
       "  \"/>\n",
       "<polyline clip-path=\"url(#clip730)\" style=\"stroke:#000000; stroke-width:4; stroke-opacity:1; fill:none\" points=\"\n",
       "  211.278,1423.18 2352.76,1423.18 \n",
       "  \"/>\n",
       "<polyline clip-path=\"url(#clip730)\" style=\"stroke:#000000; stroke-width:4; stroke-opacity:1; fill:none\" points=\"\n",
       "  211.278,1423.18 211.278,47.2441 \n",
       "  \"/>\n",
       "<polyline clip-path=\"url(#clip730)\" style=\"stroke:#000000; stroke-width:4; stroke-opacity:1; fill:none\" points=\"\n",
       "  271.213,1423.18 271.213,1406.67 \n",
       "  \"/>\n",
       "<polyline clip-path=\"url(#clip730)\" style=\"stroke:#000000; stroke-width:4; stroke-opacity:1; fill:none\" points=\"\n",
       "  944.858,1423.18 944.858,1406.67 \n",
       "  \"/>\n",
       "<polyline clip-path=\"url(#clip730)\" style=\"stroke:#000000; stroke-width:4; stroke-opacity:1; fill:none\" points=\"\n",
       "  1618.5,1423.18 1618.5,1406.67 \n",
       "  \"/>\n",
       "<polyline clip-path=\"url(#clip730)\" style=\"stroke:#000000; stroke-width:4; stroke-opacity:1; fill:none\" points=\"\n",
       "  2292.15,1423.18 2292.15,1406.67 \n",
       "  \"/>\n",
       "<polyline clip-path=\"url(#clip730)\" style=\"stroke:#000000; stroke-width:4; stroke-opacity:1; fill:none\" points=\"\n",
       "  211.278,1292.66 236.976,1292.66 \n",
       "  \"/>\n",
       "<polyline clip-path=\"url(#clip730)\" style=\"stroke:#000000; stroke-width:4; stroke-opacity:1; fill:none\" points=\"\n",
       "  211.278,1066.78 236.976,1066.78 \n",
       "  \"/>\n",
       "<polyline clip-path=\"url(#clip730)\" style=\"stroke:#000000; stroke-width:4; stroke-opacity:1; fill:none\" points=\"\n",
       "  211.278,840.907 236.976,840.907 \n",
       "  \"/>\n",
       "<polyline clip-path=\"url(#clip730)\" style=\"stroke:#000000; stroke-width:4; stroke-opacity:1; fill:none\" points=\"\n",
       "  211.278,615.03 236.976,615.03 \n",
       "  \"/>\n",
       "<polyline clip-path=\"url(#clip730)\" style=\"stroke:#000000; stroke-width:4; stroke-opacity:1; fill:none\" points=\"\n",
       "  211.278,389.153 236.976,389.153 \n",
       "  \"/>\n",
       "<polyline clip-path=\"url(#clip730)\" style=\"stroke:#000000; stroke-width:4; stroke-opacity:1; fill:none\" points=\"\n",
       "  211.278,163.275 236.976,163.275 \n",
       "  \"/>\n",
       "<path clip-path=\"url(#clip730)\" d=\"M 0 0 M271.213 1445.17 Q267.601 1445.17 265.773 1448.74 Q263.967 1452.28 263.967 1459.41 Q263.967 1466.51 265.773 1470.08 Q267.601 1473.62 271.213 1473.62 Q274.847 1473.62 276.652 1470.08 Q278.481 1466.51 278.481 1459.41 Q278.481 1452.28 276.652 1448.74 Q274.847 1445.17 271.213 1445.17 M271.213 1441.47 Q277.023 1441.47 280.078 1446.07 Q283.157 1450.66 283.157 1459.41 Q283.157 1468.13 280.078 1472.74 Q277.023 1477.32 271.213 1477.32 Q265.402 1477.32 262.324 1472.74 Q259.268 1468.13 259.268 1459.41 Q259.268 1450.66 262.324 1446.07 Q265.402 1441.47 271.213 1441.47 Z\" fill=\"#000000\" fill-rule=\"evenodd\" fill-opacity=\"1\" /><path clip-path=\"url(#clip730)\" d=\"M 0 0 M894.719 1472.72 L902.358 1472.72 L902.358 1446.35 L894.048 1448.02 L894.048 1443.76 L902.312 1442.09 L906.988 1442.09 L906.988 1472.72 L914.626 1472.72 L914.626 1476.65 L894.719 1476.65 L894.719 1472.72 Z\" fill=\"#000000\" fill-rule=\"evenodd\" fill-opacity=\"1\" /><path clip-path=\"url(#clip730)\" d=\"M 0 0 M929.696 1445.17 Q926.085 1445.17 924.256 1448.74 Q922.45 1452.28 922.45 1459.41 Q922.45 1466.51 924.256 1470.08 Q926.085 1473.62 929.696 1473.62 Q933.33 1473.62 935.136 1470.08 Q936.964 1466.51 936.964 1459.41 Q936.964 1452.28 935.136 1448.74 Q933.33 1445.17 929.696 1445.17 M929.696 1441.47 Q935.506 1441.47 938.561 1446.07 Q941.64 1450.66 941.64 1459.41 Q941.64 1468.13 938.561 1472.74 Q935.506 1477.32 929.696 1477.32 Q923.886 1477.32 920.807 1472.74 Q917.751 1468.13 917.751 1459.41 Q917.751 1450.66 920.807 1446.07 Q923.886 1441.47 929.696 1441.47 Z\" fill=\"#000000\" fill-rule=\"evenodd\" fill-opacity=\"1\" /><path clip-path=\"url(#clip730)\" d=\"M 0 0 M956.71 1445.17 Q953.098 1445.17 951.27 1448.74 Q949.464 1452.28 949.464 1459.41 Q949.464 1466.51 951.27 1470.08 Q953.098 1473.62 956.71 1473.62 Q960.344 1473.62 962.149 1470.08 Q963.978 1466.51 963.978 1459.41 Q963.978 1452.28 962.149 1448.74 Q960.344 1445.17 956.71 1445.17 M956.71 1441.47 Q962.52 1441.47 965.575 1446.07 Q968.654 1450.66 968.654 1459.41 Q968.654 1468.13 965.575 1472.74 Q962.52 1477.32 956.71 1477.32 Q950.899 1477.32 947.821 1472.74 Q944.765 1468.13 944.765 1459.41 Q944.765 1450.66 947.821 1446.07 Q950.899 1441.47 956.71 1441.47 Z\" fill=\"#000000\" fill-rule=\"evenodd\" fill-opacity=\"1\" /><path clip-path=\"url(#clip730)\" d=\"M 0 0 M983.723 1445.17 Q980.112 1445.17 978.283 1448.74 Q976.478 1452.28 976.478 1459.41 Q976.478 1466.51 978.283 1470.08 Q980.112 1473.62 983.723 1473.62 Q987.357 1473.62 989.163 1470.08 Q990.992 1466.51 990.992 1459.41 Q990.992 1452.28 989.163 1448.74 Q987.357 1445.17 983.723 1445.17 M983.723 1441.47 Q989.533 1441.47 992.589 1446.07 Q995.668 1450.66 995.668 1459.41 Q995.668 1468.13 992.589 1472.74 Q989.533 1477.32 983.723 1477.32 Q977.913 1477.32 974.834 1472.74 Q971.779 1468.13 971.779 1459.41 Q971.779 1450.66 974.834 1446.07 Q977.913 1441.47 983.723 1441.47 Z\" fill=\"#000000\" fill-rule=\"evenodd\" fill-opacity=\"1\" /><path clip-path=\"url(#clip730)\" d=\"M 0 0 M1572.64 1472.72 L1588.95 1472.72 L1588.95 1476.65 L1567.01 1476.65 L1567.01 1472.72 Q1569.67 1469.96 1574.26 1465.33 Q1578.86 1460.68 1580.04 1459.34 Q1582.29 1456.81 1583.17 1455.08 Q1584.07 1453.32 1584.07 1451.63 Q1584.07 1448.87 1582.13 1447.14 Q1580.2 1445.4 1577.1 1445.4 Q1574.9 1445.4 1572.45 1446.17 Q1570.02 1446.93 1567.24 1448.48 L1567.24 1443.76 Q1570.07 1442.62 1572.52 1442.05 Q1574.97 1441.47 1577.01 1441.47 Q1582.38 1441.47 1585.57 1444.15 Q1588.77 1446.84 1588.77 1451.33 Q1588.77 1453.46 1587.96 1455.38 Q1587.17 1457.28 1585.07 1459.87 Q1584.49 1460.54 1581.39 1463.76 Q1578.28 1466.95 1572.64 1472.72 Z\" fill=\"#000000\" fill-rule=\"evenodd\" fill-opacity=\"1\" /><path clip-path=\"url(#clip730)\" d=\"M 0 0 M1604.02 1445.17 Q1600.41 1445.17 1598.58 1448.74 Q1596.78 1452.28 1596.78 1459.41 Q1596.78 1466.51 1598.58 1470.08 Q1600.41 1473.62 1604.02 1473.62 Q1607.66 1473.62 1609.46 1470.08 Q1611.29 1466.51 1611.29 1459.41 Q1611.29 1452.28 1609.46 1448.74 Q1607.66 1445.17 1604.02 1445.17 M1604.02 1441.47 Q1609.83 1441.47 1612.89 1446.07 Q1615.97 1450.66 1615.97 1459.41 Q1615.97 1468.13 1612.89 1472.74 Q1609.83 1477.32 1604.02 1477.32 Q1598.21 1477.32 1595.13 1472.74 Q1592.08 1468.13 1592.08 1459.41 Q1592.08 1450.66 1595.13 1446.07 Q1598.21 1441.47 1604.02 1441.47 Z\" fill=\"#000000\" fill-rule=\"evenodd\" fill-opacity=\"1\" /><path clip-path=\"url(#clip730)\" d=\"M 0 0 M1631.04 1445.17 Q1627.43 1445.17 1625.6 1448.74 Q1623.79 1452.28 1623.79 1459.41 Q1623.79 1466.51 1625.6 1470.08 Q1627.43 1473.62 1631.04 1473.62 Q1634.67 1473.62 1636.48 1470.08 Q1638.31 1466.51 1638.31 1459.41 Q1638.31 1452.28 1636.48 1448.74 Q1634.67 1445.17 1631.04 1445.17 M1631.04 1441.47 Q1636.85 1441.47 1639.9 1446.07 Q1642.98 1450.66 1642.98 1459.41 Q1642.98 1468.13 1639.9 1472.74 Q1636.85 1477.32 1631.04 1477.32 Q1625.23 1477.32 1622.15 1472.74 Q1619.09 1468.13 1619.09 1459.41 Q1619.09 1450.66 1622.15 1446.07 Q1625.23 1441.47 1631.04 1441.47 Z\" fill=\"#000000\" fill-rule=\"evenodd\" fill-opacity=\"1\" /><path clip-path=\"url(#clip730)\" d=\"M 0 0 M1658.05 1445.17 Q1654.44 1445.17 1652.61 1448.74 Q1650.81 1452.28 1650.81 1459.41 Q1650.81 1466.51 1652.61 1470.08 Q1654.44 1473.62 1658.05 1473.62 Q1661.69 1473.62 1663.49 1470.08 Q1665.32 1466.51 1665.32 1459.41 Q1665.32 1452.28 1663.49 1448.74 Q1661.69 1445.17 1658.05 1445.17 M1658.05 1441.47 Q1663.86 1441.47 1666.92 1446.07 Q1670 1450.66 1670 1459.41 Q1670 1468.13 1666.92 1472.74 Q1663.86 1477.32 1658.05 1477.32 Q1652.24 1477.32 1649.16 1472.74 Q1646.11 1468.13 1646.11 1459.41 Q1646.11 1450.66 1649.16 1446.07 Q1652.24 1441.47 1658.05 1441.47 Z\" fill=\"#000000\" fill-rule=\"evenodd\" fill-opacity=\"1\" /><path clip-path=\"url(#clip730)\" d=\"M 0 0 M2255.88 1458.02 Q2259.23 1458.74 2261.11 1461 Q2263 1463.27 2263 1466.61 Q2263 1471.72 2259.49 1474.52 Q2255.97 1477.32 2249.49 1477.32 Q2247.31 1477.32 2245 1476.88 Q2242.7 1476.47 2240.25 1475.61 L2240.25 1471.1 Q2242.19 1472.23 2244.51 1472.81 Q2246.82 1473.39 2249.35 1473.39 Q2253.75 1473.39 2256.04 1471.65 Q2258.35 1469.92 2258.35 1466.61 Q2258.35 1463.55 2256.2 1461.84 Q2254.07 1460.1 2250.25 1460.1 L2246.22 1460.1 L2246.22 1456.26 L2250.44 1456.26 Q2253.88 1456.26 2255.71 1454.89 Q2257.54 1453.5 2257.54 1450.91 Q2257.54 1448.25 2255.64 1446.84 Q2253.77 1445.4 2250.25 1445.4 Q2248.33 1445.4 2246.13 1445.82 Q2243.93 1446.24 2241.29 1447.11 L2241.29 1442.95 Q2243.95 1442.21 2246.27 1441.84 Q2248.61 1441.47 2250.67 1441.47 Q2255.99 1441.47 2259.09 1443.9 Q2262.19 1446.3 2262.19 1450.43 Q2262.19 1453.3 2260.55 1455.29 Q2258.91 1457.25 2255.88 1458.02 Z\" fill=\"#000000\" fill-rule=\"evenodd\" fill-opacity=\"1\" /><path clip-path=\"url(#clip730)\" d=\"M 0 0 M2278.07 1445.17 Q2274.46 1445.17 2272.63 1448.74 Q2270.83 1452.28 2270.83 1459.41 Q2270.83 1466.51 2272.63 1470.08 Q2274.46 1473.62 2278.07 1473.62 Q2281.71 1473.62 2283.51 1470.08 Q2285.34 1466.51 2285.34 1459.41 Q2285.34 1452.28 2283.51 1448.74 Q2281.71 1445.17 2278.07 1445.17 M2278.07 1441.47 Q2283.88 1441.47 2286.94 1446.07 Q2290.02 1450.66 2290.02 1459.41 Q2290.02 1468.13 2286.94 1472.74 Q2283.88 1477.32 2278.07 1477.32 Q2272.26 1477.32 2269.19 1472.74 Q2266.13 1468.13 2266.13 1459.41 Q2266.13 1450.66 2269.19 1446.07 Q2272.26 1441.47 2278.07 1441.47 Z\" fill=\"#000000\" fill-rule=\"evenodd\" fill-opacity=\"1\" /><path clip-path=\"url(#clip730)\" d=\"M 0 0 M2305.09 1445.17 Q2301.48 1445.17 2299.65 1448.74 Q2297.84 1452.28 2297.84 1459.41 Q2297.84 1466.51 2299.65 1470.08 Q2301.48 1473.62 2305.09 1473.62 Q2308.72 1473.62 2310.53 1470.08 Q2312.36 1466.51 2312.36 1459.41 Q2312.36 1452.28 2310.53 1448.74 Q2308.72 1445.17 2305.09 1445.17 M2305.09 1441.47 Q2310.9 1441.47 2313.95 1446.07 Q2317.03 1450.66 2317.03 1459.41 Q2317.03 1468.13 2313.95 1472.74 Q2310.9 1477.32 2305.09 1477.32 Q2299.28 1477.32 2296.2 1472.74 Q2293.14 1468.13 2293.14 1459.41 Q2293.14 1450.66 2296.2 1446.07 Q2299.28 1441.47 2305.09 1441.47 Z\" fill=\"#000000\" fill-rule=\"evenodd\" fill-opacity=\"1\" /><path clip-path=\"url(#clip730)\" d=\"M 0 0 M2332.1 1445.17 Q2328.49 1445.17 2326.66 1448.74 Q2324.86 1452.28 2324.86 1459.41 Q2324.86 1466.51 2326.66 1470.08 Q2328.49 1473.62 2332.1 1473.62 Q2335.74 1473.62 2337.54 1470.08 Q2339.37 1466.51 2339.37 1459.41 Q2339.37 1452.28 2337.54 1448.74 Q2335.74 1445.17 2332.1 1445.17 M2332.1 1441.47 Q2337.91 1441.47 2340.97 1446.07 Q2344.05 1450.66 2344.05 1459.41 Q2344.05 1468.13 2340.97 1472.74 Q2337.91 1477.32 2332.1 1477.32 Q2326.29 1477.32 2323.21 1472.74 Q2320.16 1468.13 2320.16 1459.41 Q2320.16 1450.66 2323.21 1446.07 Q2326.29 1441.47 2332.1 1441.47 Z\" fill=\"#000000\" fill-rule=\"evenodd\" fill-opacity=\"1\" /><path clip-path=\"url(#clip730)\" d=\"M 0 0 M138.205 1278.46 Q134.593 1278.46 132.765 1282.03 Q130.959 1285.57 130.959 1292.7 Q130.959 1299.8 132.765 1303.37 Q134.593 1306.91 138.205 1306.91 Q141.839 1306.91 143.644 1303.37 Q145.473 1299.8 145.473 1292.7 Q145.473 1285.57 143.644 1282.03 Q141.839 1278.46 138.205 1278.46 M138.205 1274.76 Q144.015 1274.76 147.07 1279.36 Q150.149 1283.95 150.149 1292.7 Q150.149 1301.42 147.07 1306.03 Q144.015 1310.61 138.205 1310.61 Q132.394 1310.61 129.316 1306.03 Q126.26 1301.42 126.26 1292.7 Q126.26 1283.95 129.316 1279.36 Q132.394 1274.76 138.205 1274.76 Z\" fill=\"#000000\" fill-rule=\"evenodd\" fill-opacity=\"1\" /><path clip-path=\"url(#clip730)\" d=\"M 0 0 M155.218 1304.06 L160.103 1304.06 L160.103 1309.94 L155.218 1309.94 L155.218 1304.06 Z\" fill=\"#000000\" fill-rule=\"evenodd\" fill-opacity=\"1\" /><path clip-path=\"url(#clip730)\" d=\"M 0 0 M175.751 1290.8 Q172.603 1290.8 170.751 1292.95 Q168.922 1295.1 168.922 1298.85 Q168.922 1302.58 170.751 1304.76 Q172.603 1306.91 175.751 1306.91 Q178.899 1306.91 180.727 1304.76 Q182.579 1302.58 182.579 1298.85 Q182.579 1295.1 180.727 1292.95 Q178.899 1290.8 175.751 1290.8 M185.033 1276.15 L185.033 1280.4 Q183.274 1279.57 181.468 1279.13 Q179.686 1278.69 177.927 1278.69 Q173.297 1278.69 170.843 1281.82 Q168.413 1284.94 168.065 1291.26 Q169.431 1289.25 171.491 1288.18 Q173.552 1287.09 176.028 1287.09 Q181.237 1287.09 184.246 1290.27 Q187.278 1293.41 187.278 1298.85 Q187.278 1304.18 184.13 1307.4 Q180.982 1310.61 175.751 1310.61 Q169.755 1310.61 166.584 1306.03 Q163.413 1301.42 163.413 1292.7 Q163.413 1284.5 167.302 1279.64 Q171.19 1274.76 177.741 1274.76 Q179.501 1274.76 181.283 1275.1 Q183.089 1275.45 185.033 1276.15 Z\" fill=\"#000000\" fill-rule=\"evenodd\" fill-opacity=\"1\" /><path clip-path=\"url(#clip730)\" d=\"M 0 0 M139.269 1052.58 Q135.658 1052.58 133.83 1056.15 Q132.024 1059.69 132.024 1066.82 Q132.024 1073.93 133.83 1077.49 Q135.658 1081.03 139.269 1081.03 Q142.904 1081.03 144.709 1077.49 Q146.538 1073.93 146.538 1066.82 Q146.538 1059.69 144.709 1056.15 Q142.904 1052.58 139.269 1052.58 M139.269 1048.88 Q145.08 1048.88 148.135 1053.49 Q151.214 1058.07 151.214 1066.82 Q151.214 1075.55 148.135 1080.15 Q145.08 1084.74 139.269 1084.74 Q133.459 1084.74 130.381 1080.15 Q127.325 1075.55 127.325 1066.82 Q127.325 1058.07 130.381 1053.49 Q133.459 1048.88 139.269 1048.88 Z\" fill=\"#000000\" fill-rule=\"evenodd\" fill-opacity=\"1\" /><path clip-path=\"url(#clip730)\" d=\"M 0 0 M156.283 1078.18 L161.167 1078.18 L161.167 1084.06 L156.283 1084.06 L156.283 1078.18 Z\" fill=\"#000000\" fill-rule=\"evenodd\" fill-opacity=\"1\" /><path clip-path=\"url(#clip730)\" d=\"M 0 0 M165.056 1049.5 L187.278 1049.5 L187.278 1051.5 L174.732 1084.06 L169.848 1084.06 L181.653 1053.44 L165.056 1053.44 L165.056 1049.5 Z\" fill=\"#000000\" fill-rule=\"evenodd\" fill-opacity=\"1\" /><path clip-path=\"url(#clip730)\" d=\"M 0 0 M138.459 826.706 Q134.848 826.706 133.019 830.271 Q131.214 833.812 131.214 840.942 Q131.214 848.048 133.019 851.613 Q134.848 855.155 138.459 855.155 Q142.093 855.155 143.899 851.613 Q145.728 848.048 145.728 840.942 Q145.728 833.812 143.899 830.271 Q142.093 826.706 138.459 826.706 M138.459 823.002 Q144.269 823.002 147.325 827.609 Q150.404 832.192 150.404 840.942 Q150.404 849.669 147.325 854.275 Q144.269 858.858 138.459 858.858 Q132.649 858.858 129.57 854.275 Q126.515 849.669 126.515 840.942 Q126.515 832.192 129.57 827.609 Q132.649 823.002 138.459 823.002 Z\" fill=\"#000000\" fill-rule=\"evenodd\" fill-opacity=\"1\" /><path clip-path=\"url(#clip730)\" d=\"M 0 0 M155.473 852.307 L160.357 852.307 L160.357 858.187 L155.473 858.187 L155.473 852.307 Z\" fill=\"#000000\" fill-rule=\"evenodd\" fill-opacity=\"1\" /><path clip-path=\"url(#clip730)\" d=\"M 0 0 M175.427 841.775 Q172.093 841.775 170.172 843.558 Q168.274 845.34 168.274 848.465 Q168.274 851.59 170.172 853.372 Q172.093 855.155 175.427 855.155 Q178.76 855.155 180.681 853.372 Q182.602 851.567 182.602 848.465 Q182.602 845.34 180.681 843.558 Q178.783 841.775 175.427 841.775 M170.751 839.784 Q167.741 839.044 166.052 836.984 Q164.385 834.923 164.385 831.96 Q164.385 827.817 167.325 825.409 Q170.288 823.002 175.427 823.002 Q180.589 823.002 183.528 825.409 Q186.468 827.817 186.468 831.96 Q186.468 834.923 184.778 836.984 Q183.112 839.044 180.126 839.784 Q183.505 840.571 185.38 842.863 Q187.278 845.155 187.278 848.465 Q187.278 853.488 184.2 856.173 Q181.144 858.858 175.427 858.858 Q169.709 858.858 166.63 856.173 Q163.575 853.488 163.575 848.465 Q163.575 845.155 165.473 842.863 Q167.371 840.571 170.751 839.784 M169.038 832.4 Q169.038 835.085 170.704 836.59 Q172.394 838.095 175.427 838.095 Q178.436 838.095 180.126 836.59 Q181.839 835.085 181.839 832.4 Q181.839 829.715 180.126 828.21 Q178.436 826.706 175.427 826.706 Q172.394 826.706 170.704 828.21 Q169.038 829.715 169.038 832.4 Z\" fill=\"#000000\" fill-rule=\"evenodd\" fill-opacity=\"1\" /><path clip-path=\"url(#clip730)\" d=\"M 0 0 M138.552 600.829 Q134.941 600.829 133.112 604.393 Q131.306 607.935 131.306 615.065 Q131.306 622.171 133.112 625.736 Q134.941 629.277 138.552 629.277 Q142.186 629.277 143.992 625.736 Q145.82 622.171 145.82 615.065 Q145.82 607.935 143.992 604.393 Q142.186 600.829 138.552 600.829 M138.552 597.125 Q144.362 597.125 147.417 601.731 Q150.496 606.315 150.496 615.065 Q150.496 623.791 147.417 628.398 Q144.362 632.981 138.552 632.981 Q132.742 632.981 129.663 628.398 Q126.607 623.791 126.607 615.065 Q126.607 606.315 129.663 601.731 Q132.742 597.125 138.552 597.125 Z\" fill=\"#000000\" fill-rule=\"evenodd\" fill-opacity=\"1\" /><path clip-path=\"url(#clip730)\" d=\"M 0 0 M155.566 626.43 L160.45 626.43 L160.45 632.31 L155.566 632.31 L155.566 626.43 Z\" fill=\"#000000\" fill-rule=\"evenodd\" fill-opacity=\"1\" /><path clip-path=\"url(#clip730)\" d=\"M 0 0 M165.658 631.592 L165.658 627.333 Q167.417 628.166 169.223 628.606 Q171.028 629.046 172.765 629.046 Q177.394 629.046 179.825 625.944 Q182.278 622.819 182.626 616.477 Q181.283 618.467 179.223 619.532 Q177.163 620.597 174.663 620.597 Q169.478 620.597 166.445 617.472 Q163.436 614.324 163.436 608.884 Q163.436 603.56 166.584 600.342 Q169.732 597.125 174.964 597.125 Q180.959 597.125 184.107 601.731 Q187.278 606.315 187.278 615.065 Q187.278 623.236 183.389 628.12 Q179.524 632.981 172.973 632.981 Q171.214 632.981 169.408 632.634 Q167.603 632.287 165.658 631.592 M174.964 616.94 Q178.112 616.94 179.94 614.787 Q181.792 612.634 181.792 608.884 Q181.792 605.157 179.94 603.004 Q178.112 600.829 174.964 600.829 Q171.815 600.829 169.964 603.004 Q168.135 605.157 168.135 608.884 Q168.135 612.634 169.964 614.787 Q171.815 616.94 174.964 616.94 Z\" fill=\"#000000\" fill-rule=\"evenodd\" fill-opacity=\"1\" /><path clip-path=\"url(#clip730)\" d=\"M 0 0 M130.404 402.497 L138.043 402.497 L138.043 376.132 L129.732 377.799 L129.732 373.539 L137.996 371.873 L142.672 371.873 L142.672 402.497 L150.311 402.497 L150.311 406.433 L130.404 406.433 L130.404 402.497 Z\" fill=\"#000000\" fill-rule=\"evenodd\" fill-opacity=\"1\" /><path clip-path=\"url(#clip730)\" d=\"M 0 0 M155.38 400.553 L160.265 400.553 L160.265 406.433 L155.38 406.433 L155.38 400.553 Z\" fill=\"#000000\" fill-rule=\"evenodd\" fill-opacity=\"1\" /><path clip-path=\"url(#clip730)\" d=\"M 0 0 M175.334 374.951 Q171.723 374.951 169.894 378.516 Q168.089 382.058 168.089 389.187 Q168.089 396.294 169.894 399.859 Q171.723 403.4 175.334 403.4 Q178.968 403.4 180.774 399.859 Q182.602 396.294 182.602 389.187 Q182.602 382.058 180.774 378.516 Q178.968 374.951 175.334 374.951 M175.334 371.248 Q181.144 371.248 184.2 375.854 Q187.278 380.437 187.278 389.187 Q187.278 397.914 184.2 402.521 Q181.144 407.104 175.334 407.104 Q169.524 407.104 166.445 402.521 Q163.39 397.914 163.39 389.187 Q163.39 380.437 166.445 375.854 Q169.524 371.248 175.334 371.248 Z\" fill=\"#000000\" fill-rule=\"evenodd\" fill-opacity=\"1\" /><path clip-path=\"url(#clip730)\" d=\"M 0 0 M131.63 176.62 L139.269 176.62 L139.269 150.255 L130.959 151.921 L130.959 147.662 L139.223 145.995 L143.899 145.995 L143.899 176.62 L151.538 176.62 L151.538 180.555 L131.63 180.555 L131.63 176.62 Z\" fill=\"#000000\" fill-rule=\"evenodd\" fill-opacity=\"1\" /><path clip-path=\"url(#clip730)\" d=\"M 0 0 M156.607 174.676 L161.491 174.676 L161.491 180.555 L156.607 180.555 L156.607 174.676 Z\" fill=\"#000000\" fill-rule=\"evenodd\" fill-opacity=\"1\" /><path clip-path=\"url(#clip730)\" d=\"M 0 0 M167.371 176.62 L175.01 176.62 L175.01 150.255 L166.7 151.921 L166.7 147.662 L174.964 145.995 L179.64 145.995 L179.64 176.62 L187.278 176.62 L187.278 180.555 L167.371 180.555 L167.371 176.62 Z\" fill=\"#000000\" fill-rule=\"evenodd\" fill-opacity=\"1\" /><path clip-path=\"url(#clip730)\" d=\"M 0 0 M1212.3 1536.76 L1212.3 1539.62 L1185.37 1539.62 Q1185.75 1545.67 1189 1548.85 Q1192.28 1552 1198.1 1552 Q1201.48 1552 1204.63 1551.17 Q1207.81 1550.35 1210.93 1548.69 L1210.93 1554.23 Q1207.78 1555.57 1204.47 1556.27 Q1201.16 1556.97 1197.75 1556.97 Q1189.22 1556.97 1184.22 1552 Q1179.26 1547.04 1179.26 1538.57 Q1179.26 1529.82 1183.97 1524.69 Q1188.71 1519.54 1196.73 1519.54 Q1203.93 1519.54 1208.1 1524.18 Q1212.3 1528.8 1212.3 1536.76 M1206.44 1535.04 Q1206.38 1530.23 1203.73 1527.37 Q1201.12 1524.5 1196.8 1524.5 Q1191.89 1524.5 1188.93 1527.27 Q1186.01 1530.04 1185.56 1535.07 L1206.44 1535.04 Z\" fill=\"#000000\" fill-rule=\"evenodd\" fill-opacity=\"1\" /><path clip-path=\"url(#clip730)\" d=\"M 0 0 M1224.11 1550.7 L1224.11 1569.6 L1218.22 1569.6 L1218.22 1520.4 L1224.11 1520.4 L1224.11 1525.81 Q1225.95 1522.62 1228.75 1521.1 Q1231.58 1519.54 1235.5 1519.54 Q1241.99 1519.54 1246.03 1524.69 Q1250.11 1529.85 1250.11 1538.25 Q1250.11 1546.65 1246.03 1551.81 Q1241.99 1556.97 1235.5 1556.97 Q1231.58 1556.97 1228.75 1555.44 Q1225.95 1553.88 1224.11 1550.7 M1244.03 1538.25 Q1244.03 1531.79 1241.36 1528.13 Q1238.71 1524.44 1234.07 1524.44 Q1229.42 1524.44 1226.75 1528.13 Q1224.11 1531.79 1224.11 1538.25 Q1224.11 1544.71 1226.75 1548.4 Q1229.42 1552.07 1234.07 1552.07 Q1238.71 1552.07 1241.36 1548.4 Q1244.03 1544.71 1244.03 1538.25 Z\" fill=\"#000000\" fill-rule=\"evenodd\" fill-opacity=\"1\" /><path clip-path=\"url(#clip730)\" d=\"M 0 0 M1270.07 1524.5 Q1265.35 1524.5 1262.62 1528.19 Q1259.88 1531.85 1259.88 1538.25 Q1259.88 1544.65 1262.59 1548.34 Q1265.32 1552 1270.07 1552 Q1274.74 1552 1277.48 1548.31 Q1280.22 1544.62 1280.22 1538.25 Q1280.22 1531.92 1277.48 1528.23 Q1274.74 1524.5 1270.07 1524.5 M1270.07 1519.54 Q1277.7 1519.54 1282.06 1524.5 Q1286.43 1529.47 1286.43 1538.25 Q1286.43 1547 1282.06 1552 Q1277.7 1556.97 1270.07 1556.97 Q1262.39 1556.97 1258.03 1552 Q1253.71 1547 1253.71 1538.25 Q1253.71 1529.47 1258.03 1524.5 Q1262.39 1519.54 1270.07 1519.54 Z\" fill=\"#000000\" fill-rule=\"evenodd\" fill-opacity=\"1\" /><path clip-path=\"url(#clip730)\" d=\"M 0 0 M1318.22 1521.76 L1318.22 1527.24 Q1315.74 1525.87 1313.23 1525.2 Q1310.74 1524.5 1308.2 1524.5 Q1302.5 1524.5 1299.35 1528.13 Q1296.2 1531.73 1296.2 1538.25 Q1296.2 1544.78 1299.35 1548.4 Q1302.5 1552 1308.2 1552 Q1310.74 1552 1313.23 1551.33 Q1315.74 1550.63 1318.22 1549.26 L1318.22 1554.68 Q1315.77 1555.82 1313.13 1556.39 Q1310.52 1556.97 1307.56 1556.97 Q1299.51 1556.97 1294.76 1551.91 Q1290.02 1546.85 1290.02 1538.25 Q1290.02 1529.53 1294.8 1524.53 Q1299.6 1519.54 1307.94 1519.54 Q1310.65 1519.54 1313.23 1520.11 Q1315.8 1520.65 1318.22 1521.76 Z\" fill=\"#000000\" fill-rule=\"evenodd\" fill-opacity=\"1\" /><path clip-path=\"url(#clip730)\" d=\"M 0 0 M1354 1534.53 L1354 1556.04 L1348.14 1556.04 L1348.14 1534.72 Q1348.14 1529.66 1346.17 1527.14 Q1344.19 1524.63 1340.25 1524.63 Q1335.5 1524.63 1332.77 1527.65 Q1330.03 1530.68 1330.03 1535.9 L1330.03 1556.04 L1324.14 1556.04 L1324.14 1506.52 L1330.03 1506.52 L1330.03 1525.93 Q1332.13 1522.72 1334.96 1521.13 Q1337.83 1519.54 1341.55 1519.54 Q1347.7 1519.54 1350.85 1523.36 Q1354 1527.14 1354 1534.53 Z\" fill=\"#000000\" fill-rule=\"evenodd\" fill-opacity=\"1\" /><path clip-path=\"url(#clip730)\" d=\"M 0 0 M1382.87 1521.45 L1382.87 1526.98 Q1380.38 1525.71 1377.71 1525.07 Q1375.04 1524.44 1372.17 1524.44 Q1367.81 1524.44 1365.61 1525.77 Q1363.45 1527.11 1363.45 1529.79 Q1363.45 1531.82 1365.01 1533 Q1366.57 1534.15 1371.28 1535.2 L1373.29 1535.64 Q1379.52 1536.98 1382.13 1539.43 Q1384.78 1541.85 1384.78 1546.21 Q1384.78 1551.17 1380.83 1554.07 Q1376.91 1556.97 1370.04 1556.97 Q1367.17 1556.97 1364.06 1556.39 Q1360.97 1555.85 1357.53 1554.74 L1357.53 1548.69 Q1360.78 1550.38 1363.93 1551.24 Q1367.08 1552.07 1370.17 1552.07 Q1374.3 1552.07 1376.53 1550.66 Q1378.76 1549.23 1378.76 1546.65 Q1378.76 1544.27 1377.14 1542.99 Q1375.55 1541.72 1370.1 1540.54 L1368.07 1540.07 Q1362.62 1538.92 1360.2 1536.56 Q1357.78 1534.18 1357.78 1530.04 Q1357.78 1525.01 1361.35 1522.27 Q1364.91 1519.54 1371.47 1519.54 Q1374.72 1519.54 1377.58 1520.01 Q1380.45 1520.49 1382.87 1521.45 Z\" fill=\"#000000\" fill-rule=\"evenodd\" fill-opacity=\"1\" /><path clip-path=\"url(#clip730)\" d=\"M 0 0 M44.1444 904.492 L50.9239 904.492 Q47.9002 907.739 46.4043 911.431 Q44.9083 915.091 44.9083 919.229 Q44.9083 927.377 49.9054 931.705 Q54.8707 936.034 64.2919 936.034 Q73.6813 936.034 78.6784 931.705 Q83.6436 927.377 83.6436 919.229 Q83.6436 915.091 82.1477 911.431 Q80.6518 907.739 77.6281 904.492 L84.3439 904.492 Q86.6355 907.866 87.7814 911.653 Q88.9272 915.409 88.9272 919.611 Q88.9272 930.4 82.3387 936.607 Q75.7183 942.814 64.2919 942.814 Q52.8336 942.814 46.2451 936.607 Q39.6248 930.4 39.6248 919.611 Q39.6248 915.346 40.7706 911.59 Q41.8846 907.802 44.1444 904.492 Z\" fill=\"#000000\" fill-rule=\"evenodd\" fill-opacity=\"1\" /><path clip-path=\"url(#clip730)\" d=\"M 0 0 M57.8307 877.692 Q57.2578 878.679 57.0032 879.857 Q56.7167 881.003 56.7167 882.403 Q56.7167 887.368 59.9632 890.042 Q63.1779 892.684 69.2253 892.684 L88.0042 892.684 L88.0042 898.572 L52.3562 898.572 L52.3562 892.684 L57.8944 892.684 Q54.6479 890.838 53.0883 887.878 Q51.4968 884.917 51.4968 880.684 Q51.4968 880.08 51.5923 879.347 Q51.656 878.615 51.8151 877.724 L57.8307 877.692 Z\" fill=\"#000000\" fill-rule=\"evenodd\" fill-opacity=\"1\" /><path clip-path=\"url(#clip730)\" d=\"M 0 0 M56.4621 859.168 Q56.4621 863.879 60.1542 866.616 Q63.8145 869.353 70.212 869.353 Q76.6095 869.353 80.3017 866.648 Q83.9619 863.911 83.9619 859.168 Q83.9619 854.489 80.2698 851.752 Q76.5777 849.015 70.212 849.015 Q63.8781 849.015 60.186 851.752 Q56.4621 854.489 56.4621 859.168 M51.4968 859.168 Q51.4968 851.529 56.4621 847.169 Q61.4273 842.808 70.212 842.808 Q78.9649 842.808 83.9619 847.169 Q88.9272 851.529 88.9272 859.168 Q88.9272 866.839 83.9619 871.199 Q78.9649 875.528 70.212 875.528 Q61.4273 875.528 56.4621 871.199 Q51.4968 866.839 51.4968 859.168 Z\" fill=\"#000000\" fill-rule=\"evenodd\" fill-opacity=\"1\" /><path clip-path=\"url(#clip730)\" d=\"M 0 0 M53.4065 813.94 L58.9447 813.94 Q57.6716 816.422 57.035 819.096 Q56.3984 821.77 56.3984 824.634 Q56.3984 828.995 57.7352 831.191 Q59.072 833.355 61.7456 833.355 Q63.7826 833.355 64.9603 831.796 Q66.1061 830.236 67.1565 825.525 L67.6021 823.52 Q68.9389 817.282 71.3897 814.672 Q73.8086 812.03 78.1691 812.03 Q83.1344 812.03 86.0308 815.977 Q88.9272 819.892 88.9272 826.767 Q88.9272 829.631 88.3543 832.751 Q87.8132 835.838 86.6992 839.275 L80.6518 839.275 Q82.3387 836.029 83.198 832.878 Q84.0256 829.727 84.0256 826.639 Q84.0256 822.502 82.6251 820.274 Q81.1929 818.046 78.6147 818.046 Q76.2276 818.046 74.9545 819.669 Q73.6813 821.26 72.5037 826.703 L72.0262 828.74 Q70.8804 834.183 68.5251 836.602 Q66.138 839.021 62.0002 839.021 Q56.9713 839.021 54.2341 835.456 Q51.4968 831.891 51.4968 825.334 Q51.4968 822.088 51.9743 819.223 Q52.4517 816.359 53.4065 813.94 Z\" fill=\"#000000\" fill-rule=\"evenodd\" fill-opacity=\"1\" /><path clip-path=\"url(#clip730)\" d=\"M 0 0 M53.4065 783.162 L58.9447 783.162 Q57.6716 785.644 57.035 788.318 Q56.3984 790.991 56.3984 793.856 Q56.3984 798.217 57.7352 800.413 Q59.072 802.577 61.7456 802.577 Q63.7826 802.577 64.9603 801.017 Q66.1061 799.458 67.1565 794.747 L67.6021 792.742 Q68.9389 786.504 71.3897 783.894 Q73.8086 781.252 78.1691 781.252 Q83.1344 781.252 86.0308 785.199 Q88.9272 789.114 88.9272 795.989 Q88.9272 798.853 88.3543 801.972 Q87.8132 805.06 86.6992 808.497 L80.6518 808.497 Q82.3387 805.251 83.198 802.1 Q84.0256 798.949 84.0256 795.861 Q84.0256 791.724 82.6251 789.496 Q81.1929 787.268 78.6147 787.268 Q76.2276 787.268 74.9545 788.891 Q73.6813 790.482 72.5037 795.925 L72.0262 797.962 Q70.8804 803.405 68.5251 805.824 Q66.138 808.243 62.0002 808.243 Q56.9713 808.243 54.2341 804.678 Q51.4968 801.113 51.4968 794.556 Q51.4968 791.31 51.9743 788.445 Q52.4517 785.581 53.4065 783.162 Z\" fill=\"#000000\" fill-rule=\"evenodd\" fill-opacity=\"1\" /><path clip-path=\"url(#clip730)\" d=\"M 0 0 M40.4842 754.134 L40.4842 724.088 L45.895 724.088 L45.895 747.705 L59.9632 747.705 L59.9632 725.075 L65.3741 725.075 L65.3741 747.705 L82.5933 747.705 L82.5933 723.515 L88.0042 723.515 L88.0042 754.134 L40.4842 754.134 Z\" fill=\"#000000\" fill-rule=\"evenodd\" fill-opacity=\"1\" /><path clip-path=\"url(#clip730)\" d=\"M 0 0 M66.4881 687.74 L88.0042 687.74 L88.0042 693.596 L66.679 693.596 Q61.6183 693.596 59.1038 695.57 Q56.5894 697.543 56.5894 701.49 Q56.5894 706.232 59.6131 708.969 Q62.6368 711.707 67.8567 711.707 L88.0042 711.707 L88.0042 717.595 L52.3562 717.595 L52.3562 711.707 L57.8944 711.707 Q54.6797 709.606 53.0883 706.773 Q51.4968 703.909 51.4968 700.185 Q51.4968 694.042 55.3163 690.891 Q59.1038 687.74 66.4881 687.74 Z\" fill=\"#000000\" fill-rule=\"evenodd\" fill-opacity=\"1\" /><path clip-path=\"url(#clip730)\" d=\"M 0 0 M42.2347 675.804 L52.3562 675.804 L52.3562 663.741 L56.9077 663.741 L56.9077 675.804 L76.2594 675.804 Q80.6199 675.804 81.8613 674.626 Q83.1026 673.417 83.1026 669.757 L83.1026 663.741 L88.0042 663.741 L88.0042 669.757 Q88.0042 676.536 85.4897 679.114 Q82.9434 681.692 76.2594 681.692 L56.9077 681.692 L56.9077 685.989 L52.3562 685.989 L52.3562 681.692 L42.2347 681.692 L42.2347 675.804 Z\" fill=\"#000000\" fill-rule=\"evenodd\" fill-opacity=\"1\" /><path clip-path=\"url(#clip730)\" d=\"M 0 0 M57.8307 636.941 Q57.2578 637.928 57.0032 639.106 Q56.7167 640.252 56.7167 641.652 Q56.7167 646.617 59.9632 649.291 Q63.1779 651.933 69.2253 651.933 L88.0042 651.933 L88.0042 657.821 L52.3562 657.821 L52.3562 651.933 L57.8944 651.933 Q54.6479 650.087 53.0883 647.127 Q51.4968 644.166 51.4968 639.933 Q51.4968 639.329 51.5923 638.596 Q51.656 637.864 51.8151 636.973 L57.8307 636.941 Z\" fill=\"#000000\" fill-rule=\"evenodd\" fill-opacity=\"1\" /><path clip-path=\"url(#clip730)\" d=\"M 0 0 M56.4621 618.417 Q56.4621 623.128 60.1542 625.865 Q63.8145 628.602 70.212 628.602 Q76.6095 628.602 80.3017 625.897 Q83.9619 623.16 83.9619 618.417 Q83.9619 613.738 80.2698 611.001 Q76.5777 608.264 70.212 608.264 Q63.8781 608.264 60.186 611.001 Q56.4621 613.738 56.4621 618.417 M51.4968 618.417 Q51.4968 610.778 56.4621 606.418 Q61.4273 602.057 70.212 602.057 Q78.9649 602.057 83.9619 606.418 Q88.9272 610.778 88.9272 618.417 Q88.9272 626.088 83.9619 630.448 Q78.9649 634.777 70.212 634.777 Q61.4273 634.777 56.4621 630.448 Q51.4968 626.088 51.4968 618.417 Z\" fill=\"#000000\" fill-rule=\"evenodd\" fill-opacity=\"1\" /><path clip-path=\"url(#clip730)\" d=\"M 0 0 M82.657 590.249 L101.563 590.249 L101.563 596.137 L52.3562 596.137 L52.3562 590.249 L57.7671 590.249 Q54.5842 588.403 53.0564 585.602 Q51.4968 582.769 51.4968 578.854 Q51.4968 572.361 56.6531 568.319 Q61.8093 564.245 70.212 564.245 Q78.6147 564.245 83.771 568.319 Q88.9272 572.361 88.9272 578.854 Q88.9272 582.769 87.3994 585.602 Q85.8398 588.403 82.657 590.249 M70.212 570.324 Q63.7508 570.324 60.0905 572.998 Q56.3984 575.64 56.3984 580.287 Q56.3984 584.934 60.0905 587.607 Q63.7508 590.249 70.212 590.249 Q76.6732 590.249 80.3653 587.607 Q84.0256 584.934 84.0256 580.287 Q84.0256 575.64 80.3653 572.998 Q76.6732 570.324 70.212 570.324 Z\" fill=\"#000000\" fill-rule=\"evenodd\" fill-opacity=\"1\" /><path clip-path=\"url(#clip730)\" d=\"M 0 0 M91.3143 543.27 Q97.68 545.753 99.6216 548.108 Q101.563 550.463 101.563 554.41 L101.563 559.089 L96.6615 559.089 L96.6615 555.651 Q96.6615 553.232 95.5157 551.896 Q94.3699 550.559 90.1048 548.935 L87.4312 547.885 L52.3562 562.303 L52.3562 556.097 L80.238 544.957 L52.3562 533.817 L52.3562 527.61 L91.3143 543.27 Z\" fill=\"#000000\" fill-rule=\"evenodd\" fill-opacity=\"1\" /><polyline clip-path=\"url(#clip732)\" style=\"stroke:#009af9; stroke-width:8; stroke-opacity:1; fill:none\" points=\"\n",
       "  271.886,86.1857 292.096,220.825 312.979,614.61 333.188,512.416 353.397,811.006 373.607,1003.5 394.49,880.563 414.699,891.22 434.908,1011.95 455.791,982.045 \n",
       "  476.001,894.282 496.21,1015.96 517.093,1068.09 537.302,1086.31 557.512,1089.45 577.721,1109.5 598.604,892.583 618.813,922.957 639.023,831.551 659.906,1034.32 \n",
       "  680.115,836.264 700.325,1094.34 720.534,1155.63 741.417,900.913 761.626,1105.74 781.836,928.504 802.719,796.736 822.928,1196.73 843.137,622.675 863.347,904.211 \n",
       "  884.23,1127.56 904.439,795.165 924.648,1212.32 945.531,1077.72 965.741,714.055 985.95,708.642 1006.83,717.399 1027.04,889.321 1047.25,1086.6 1067.46,1241.86 \n",
       "  1088.34,1113.54 1108.55,855 1128.76,910.477 1149.65,902.753 1169.86,826.857 1190.06,655.713 1210.27,984.782 1231.16,896.187 1251.37,1086.93 1271.58,1080.11 \n",
       "  1292.46,1128.52 1312.67,1103.49 1332.88,1028.69 1353.76,1076.96 1373.97,1078 1394.18,1003.43 1414.39,982.895 1435.27,1102.93 1455.48,969.809 1475.69,1289.34 \n",
       "  1496.57,1105.92 1516.78,1161.64 1536.99,694.135 1557.2,798.481 1578.08,663.584 1598.29,904.601 1618.5,708.575 1639.39,895.71 1659.6,1293.17 1679.8,989.231 \n",
       "  1700.69,1292.82 1720.9,1176.62 1741.11,1168.37 1761.32,1057.33 1782.2,790.478 1802.41,900.799 1822.62,1093.55 1843.5,690.999 1863.71,735.53 1883.92,972.805 \n",
       "  1904.13,699.411 1925.01,1301.8 1945.22,691.565 1965.43,1291.92 1986.31,940.533 2006.52,1288.12 2026.73,953.314 2046.94,1181 2067.82,1192.87 2088.03,902.506 \n",
       "  2108.24,1143.17 2129.13,892.87 2149.34,1086.89 2169.54,1096.37 2190.43,990.555 2210.64,1076.99 2230.85,691.936 2251.06,1081.82 2271.94,891.234 2292.15,1056.45 \n",
       "  \n",
       "  \"/>\n",
       "<polyline clip-path=\"url(#clip732)\" style=\"stroke:#e26f46; stroke-width:8; stroke-opacity:1; fill:none\" points=\"\n",
       "  271.886,515.98 272.56,515.914 273.233,515.912 273.907,515.919 274.581,515.932 275.254,515.959 275.928,516.033 276.602,516.494 277.275,613.819 277.949,795.338 \n",
       "  278.623,820.325 279.296,828.715 279.97,832.638 280.644,834.71 281.317,837.083 281.991,982.417 282.665,1139.7 283.338,1170.84 284.012,1176.64 284.685,1180.99 \n",
       "  285.359,1184.13 286.033,1187.28 286.706,1191.47 287.38,1194.44 288.054,1199.71 288.727,1204.43 289.401,1211.06 290.075,1217.94 290.748,1224.19 291.422,1230.11 \n",
       "  292.096,1234.97 292.769,1239.19 293.443,1246.43 294.116,1252.38 294.79,1255.65 295.464,1257.24 296.137,1258.98 296.811,1259.8 297.485,1260.62 298.158,1263.08 \n",
       "  298.832,1264.82 299.506,1265.37 300.179,1266.06 300.853,1267.35 301.527,1268.22 302.2,1268.69 302.874,1269.52 303.548,1270.34 304.221,1270.77 304.895,1271.11 \n",
       "  305.568,1271.97 306.242,1272.5 306.916,1272.64 307.589,1272.9 308.263,1273.84 308.937,1273.98 309.61,1273.9 310.284,1273.07 310.958,1274.95 311.631,1270.79 \n",
       "  312.305,1274.8 312.979,1267.54 313.652,1276.41 314.326,1273.07 314.999,1268.72 315.673,1277.3 316.347,1271.47 317.02,1265.38 317.694,1277.66 318.368,1279.86 \n",
       "  319.041,1269.15 319.715,1279.43 320.389,1276.03 321.062,1272.64 321.736,1281.83 322.41,1279.4 323.083,1275.27 323.757,1283.95 324.431,1277.21 325.104,1283.1 \n",
       "  325.778,1282.62 326.451,1285.92 327.125,1283.35 327.799,1286.63 328.472,1287.76 329.146,1286.42 329.82,1284.98 330.493,1287.3 331.167,1288.72 331.841,1287.08 \n",
       "  332.514,1279.42 333.188,1285.72 333.862,1288.24 334.535,1288.47 335.209,1287.96 335.882,1289.65 336.556,1291.15 337.23,1289.79 337.903,1284.2 338.577,1284.13 \n",
       "  339.251,1288.93 339.924,1291.26 340.598,1286.62 341.272,1290.32 341.945,1288.76 342.619,1292.09 343.293,1282.06 343.966,1283.49 344.64,1291.6 345.314,1290.61 \n",
       "  345.987,1287.28 346.661,1292.01 347.334,1293.18 348.008,1292.26 348.682,1293.61 349.355,1293.25 350.029,1294.09 350.703,1294.11 351.376,1294.21 352.05,1294.26 \n",
       "  352.724,1294.31 353.397,1294.51 354.071,1294.57 354.745,1294.53 355.418,1294.64 356.092,1294.79 356.765,1294.85 357.439,1294.84 358.113,1294.92 358.786,1295.03 \n",
       "  359.46,1295.11 360.134,1295.11 360.807,1295.15 361.481,1295.26 362.155,1295.33 362.828,1295.35 363.502,1295.37 364.176,1295.46 364.849,1295.53 365.523,1295.56 \n",
       "  366.197,1295.58 366.87,1295.64 367.544,1295.71 368.217,1295.74 368.891,1295.76 369.565,1295.82 370.238,1295.88 370.912,1295.91 371.586,1295.93 372.259,1295.98 \n",
       "  372.933,1296.03 373.607,1296.06 374.28,1296.08 374.954,1296.12 375.628,1296.17 376.301,1296.2 376.975,1296.22 377.648,1296.26 378.322,1296.3 378.996,1296.32 \n",
       "  379.669,1296.35 380.343,1296.38 381.017,1296.41 381.69,1296.43 382.364,1296.45 383.038,1296.48 383.711,1296.51 384.385,1296.53 385.059,1296.55 385.732,1296.57 \n",
       "  386.406,1296.59 387.08,1296.61 387.753,1296.63 388.427,1296.65 389.1,1296.67 389.774,1296.69 390.448,1296.7 391.121,1296.72 391.795,1296.73 392.469,1296.75 \n",
       "  393.142,1296.76 393.816,1296.77 394.49,1296.79 395.163,1296.8 395.837,1296.81 396.511,1296.82 397.184,1296.83 397.858,1296.84 398.531,1296.85 399.205,1296.86 \n",
       "  399.879,1296.86 400.552,1296.87 401.226,1296.88 401.9,1296.88 402.573,1296.89 403.247,1296.9 403.921,1296.9 404.594,1296.9 405.268,1296.91 405.942,1296.91 \n",
       "  406.615,1296.91 407.289,1296.91 407.963,1296.91 408.636,1296.92 409.31,1296.92 409.983,1296.91 410.657,1296.91 411.331,1296.91 412.004,1296.91 412.678,1296.91 \n",
       "  413.352,1296.9 414.025,1296.9 414.699,1296.89 415.373,1296.89 416.046,1296.88 416.72,1296.87 417.394,1296.86 418.067,1296.85 418.741,1296.84 419.414,1296.83 \n",
       "  420.088,1296.81 420.762,1296.81 421.435,1296.77 422.109,1296.8 422.783,1296.72 423.456,1296.8 424.13,1296.61 424.804,1296.86 425.477,1296.39 426.151,1296.92 \n",
       "  426.825,1296.41 427.498,1296.95 428.172,1295.91 428.846,1295.96 429.519,1294.99 430.193,1213.59 430.866,1231.53 431.54,1223.93 432.214,1277.92 432.887,1259.09 \n",
       "  433.561,1222.43 434.235,1255.08 434.908,1189.78 435.582,1262.04 436.256,1277.49 436.929,1244.07 437.603,1281.51 438.277,1273.47 438.95,1268.44 439.624,1266.25 \n",
       "  440.297,1283.61 440.971,1265.93 441.645,1292.04 442.318,1290.01 442.992,1290.33 443.666,1289.77 444.339,1280.57 445.013,1278.3 445.687,1293.43 446.36,1293.39 \n",
       "  447.034,1295.62 447.708,1297.07 448.381,1297.19 449.055,1293.92 449.729,1295.13 450.402,1293.21 451.076,1293.5 451.749,1295.48 452.423,1295.75 453.097,1296.76 \n",
       "  453.77,1303.28 454.444,1302.08 455.118,1303.17 455.791,1298.62 456.465,1282.95 457.139,1302.82 457.812,1298.59 458.486,1299.18 459.16,1319.02 459.833,1325 \n",
       "  460.507,1320.44 461.18,1330.37 461.854,1327.31 462.528,1335.08 463.201,1318.12 463.875,1312.46 464.549,1296.88 465.222,1296.07 465.896,1295.8 466.57,1300.23 \n",
       "  467.243,1324.57 467.917,1313.21 468.591,1328.12 469.264,1320.1 469.938,1323.18 470.612,1329.49 471.285,1337.9 471.959,1344.16 472.632,1332.87 473.306,1331.14 \n",
       "  473.98,1308.71 474.653,1332.58 475.327,1338.25 476.001,1342.06 476.674,1347.63 477.348,1348.79 478.022,1350.02 478.695,1351.39 479.369,1351 480.043,1350.98 \n",
       "  480.716,1350.6 481.39,1347.51 482.063,1339.95 482.737,1306.02 483.411,1290.97 484.084,1287.13 484.758,1266.69 485.432,1321.85 486.105,1307.48 486.779,1245.5 \n",
       "  487.453,1280.76 488.126,1324.91 488.8,1334.8 489.474,1344.21 490.147,1330.29 490.821,1341.45 491.495,1350.78 492.168,1351.72 492.842,1352.47 493.515,1357.12 \n",
       "  494.189,1358.57 494.863,1348.78 495.536,1345.23 496.21,1343.26 496.884,1341.27 497.557,1336.44 498.231,1332.85 498.905,1335.39 499.578,1344.05 500.252,1354.86 \n",
       "  500.926,1360.23 501.599,1359.75 502.273,1361.14 502.946,1362.94 503.62,1363.38 504.294,1362.12 504.967,1361.81 505.641,1362.99 506.315,1362.82 506.988,1364.77 \n",
       "  507.662,1365.2 508.336,1365.8 509.009,1365.39 509.683,1366.11 510.357,1366.73 511.03,1366.54 511.704,1366.54 512.378,1363.43 513.051,1362.18 513.725,1358.14 \n",
       "  514.398,1359.03 515.072,1362.43 515.746,1362.88 516.419,1364.92 517.093,1364.32 517.767,1366.23 518.44,1367.95 519.114,1366.95 519.788,1366.15 520.461,1363.05 \n",
       "  521.135,1361.56 521.809,1365.28 522.482,1367.28 523.156,1368.42 523.829,1368.84 524.503,1369.04 525.177,1368.63 525.85,1368.2 526.524,1367.29 527.198,1365.6 \n",
       "  527.871,1362.4 528.545,1362.21 529.219,1363.72 529.892,1368.96 530.566,1369.52 531.24,1370.24 531.913,1370.06 532.587,1368.47 533.261,1365.78 533.934,1364.92 \n",
       "  534.608,1366.78 535.281,1368.98 535.955,1370.41 536.629,1371.65 537.302,1369.41 537.976,1364.56 538.65,1365.11 539.323,1358.34 539.997,1363.29 540.671,1365.73 \n",
       "  541.344,1368.05 542.018,1368.79 542.692,1373 543.365,1371.54 544.039,1366.39 544.712,1366.07 545.386,1365.31 546.06,1350.06 546.733,1341.26 547.407,1328.18 \n",
       "  548.081,1313.44 548.754,1330.12 549.428,1338.18 550.102,1347.84 550.775,1359.18 551.449,1344.53 552.123,1362.84 552.796,1365.97 553.47,1362.96 554.144,1368.03 \n",
       "  554.817,1369.25 555.491,1367.36 556.164,1369.99 556.838,1364.75 557.512,1362.26 558.185,1365.86 558.859,1368.92 559.533,1365.61 560.206,1373.6 560.88,1369.53 \n",
       "  561.554,1375.54 562.227,1375.85 562.901,1376.87 563.575,1378.16 564.248,1377.3 564.922,1376.48 565.595,1377.84 566.269,1379.92 566.943,1381.84 567.616,1382.18 \n",
       "  568.29,1382.32 568.964,1382.03 569.637,1382.25 570.311,1382.49 570.985,1382.56 571.658,1382.55 572.332,1382.59 573.006,1382.66 573.679,1382.71 574.353,1382.74 \n",
       "  575.027,1382.77 575.7,1382.8 576.374,1382.84 577.047,1382.87 577.721,1382.9 578.395,1382.92 579.068,1382.95 579.742,1382.97 580.416,1383 581.089,1383.02 \n",
       "  581.763,1383.04 582.437,1383.06 583.11,1383.08 583.784,1383.1 584.458,1383.12 585.131,1383.14 585.805,1383.15 586.478,1383.17 587.152,1383.19 587.826,1383.2 \n",
       "  588.499,1383.22 589.173,1383.23 589.847,1383.25 590.52,1383.26 591.194,1383.27 591.868,1383.29 592.541,1383.3 593.215,1383.31 593.889,1383.33 594.562,1383.34 \n",
       "  595.236,1383.35 595.91,1383.36 596.583,1383.37 597.257,1383.38 597.93,1383.39 598.604,1383.4 599.278,1383.41 599.951,1383.42 600.625,1383.43 601.299,1383.44 \n",
       "  601.972,1383.45 602.646,1383.46 603.32,1383.47 603.993,1383.48 604.667,1383.49 605.341,1383.5 606.014,1383.51 606.688,1383.51 607.361,1383.52 608.035,1383.53 \n",
       "  608.709,1383.54 609.382,1383.55 610.056,1383.55 610.73,1383.56 611.403,1383.57 612.077,1383.57 612.751,1383.58 613.424,1383.59 614.098,1383.6 614.772,1383.6 \n",
       "  615.445,1383.61 616.119,1383.62 616.793,1383.62 617.466,1383.63 618.14,1383.63 618.813,1383.64 619.487,1383.65 620.161,1383.65 620.834,1383.66 621.508,1383.66 \n",
       "  622.182,1383.67 622.855,1383.68 623.529,1383.68 624.203,1383.69 624.876,1383.69 625.55,1383.7 626.224,1383.7 626.897,1383.71 627.571,1383.71 628.244,1383.72 \n",
       "  628.918,1383.72 629.592,1383.73 630.265,1383.73 630.939,1383.74 631.613,1383.74 632.286,1383.75 632.96,1383.75 633.634,1383.75 634.307,1383.76 634.981,1383.76 \n",
       "  635.655,1383.77 636.328,1383.77 637.002,1383.78 637.676,1383.78 638.349,1383.78 639.023,1383.79 639.696,1383.79 640.37,1383.8 641.044,1383.8 641.717,1383.8 \n",
       "  642.391,1383.81 643.065,1383.81 643.738,1383.81 644.412,1383.82 645.086,1383.82 645.759,1383.82 646.433,1383.83 647.107,1383.83 647.78,1383.84 648.454,1383.84 \n",
       "  649.127,1383.84 649.801,1383.85 650.475,1383.85 651.148,1383.85 651.822,1383.85 652.496,1383.86 653.169,1383.86 653.843,1383.86 654.517,1383.87 655.19,1383.87 \n",
       "  655.864,1383.87 656.538,1383.88 657.211,1383.88 657.885,1383.88 658.559,1383.88 659.232,1383.89 659.906,1383.89 660.579,1383.89 661.253,1383.9 661.927,1383.9 \n",
       "  662.6,1383.9 663.274,1383.9 663.948,1383.91 664.621,1383.91 665.295,1383.91 665.969,1383.91 666.642,1383.92 667.316,1383.92 667.99,1383.92 668.663,1383.92 \n",
       "  669.337,1383.93 670.01,1383.93 670.684,1383.93 671.358,1383.93 672.031,1383.94 672.705,1383.94 673.379,1383.94 674.052,1383.94 674.726,1383.94 675.4,1383.95 \n",
       "  676.073,1383.95 676.747,1383.95 677.421,1383.95 678.094,1383.95 678.768,1383.96 679.442,1383.96 680.115,1383.96 680.789,1383.96 681.462,1383.96 682.136,1383.97 \n",
       "  682.81,1383.97 683.483,1383.97 684.157,1383.97 684.831,1383.97 685.504,1383.98 686.178,1383.98 686.852,1383.98 687.525,1383.98 688.199,1383.98 688.873,1383.99 \n",
       "  689.546,1383.99 690.22,1383.99 690.893,1383.99 691.567,1383.99 692.241,1383.99 692.914,1384 693.588,1384 694.262,1384 694.935,1384 695.609,1384 \n",
       "  696.283,1384 696.956,1384 697.63,1384.01 698.304,1384.01 698.977,1384.01 699.651,1384.01 700.325,1384.01 700.998,1384.01 701.672,1384.02 702.345,1384.02 \n",
       "  703.019,1384.02 703.693,1384.02 704.366,1384.02 705.04,1384.02 705.714,1384.02 706.387,1384.02 707.061,1384.03 707.735,1384.03 708.408,1384.03 709.082,1384.03 \n",
       "  709.756,1384.03 710.429,1384.03 711.103,1384.03 711.776,1384.04 712.45,1384.04 713.124,1384.04 713.797,1384.04 714.471,1384.04 715.145,1384.04 715.818,1384.04 \n",
       "  716.492,1384.04 717.166,1384.05 717.839,1384.05 718.513,1384.05 719.187,1384.05 719.86,1384.05 720.534,1384.05 721.208,1384.05 721.881,1384.06 722.555,1384.06 \n",
       "  723.228,1384.06 723.902,1384.07 724.576,1384.09 725.249,1384.24 725.923,1362.37 726.597,1192.5 727.27,1173.89 727.944,1216.06 728.618,1190.28 729.291,1223.55 \n",
       "  729.965,1241.76 730.639,1266.85 731.312,1277.21 731.986,1283.44 732.659,1230.89 733.333,1288.11 734.007,1289.24 734.68,1285.24 735.354,1289.57 736.028,1288.45 \n",
       "  736.701,1290.32 737.375,1293.55 738.049,1291.87 738.722,1291.54 739.396,1290.97 740.07,1277.94 740.743,1288.26 741.417,1292.88 742.091,1295.72 742.764,1289.63 \n",
       "  743.438,1295.06 744.111,1295.48 744.785,1296.69 745.459,1291.2 746.132,1298.56 746.806,1299.08 747.48,1298.72 748.153,1298.95 748.827,1299.12 749.501,1299.14 \n",
       "  750.174,1299.15 750.848,1299.16 751.522,1299.16 752.195,1299.16 752.869,1299.16 753.542,1299.16 754.216,1299.17 754.89,1299.17 755.563,1299.17 756.237,1299.17 \n",
       "  756.911,1299.17 757.584,1299.17 758.258,1299.17 758.932,1299.17 759.605,1299.17 760.279,1299.18 760.953,1299.18 761.626,1299.18 762.3,1299.18 762.974,1299.18 \n",
       "  763.647,1299.18 764.321,1299.18 764.994,1299.18 765.668,1299.18 766.342,1299.18 767.015,1299.18 767.689,1299.18 768.363,1299.18 769.036,1299.18 769.71,1299.18 \n",
       "  770.384,1299.18 771.057,1299.18 771.731,1299.19 772.405,1299.19 773.078,1299.19 773.752,1299.19 774.425,1299.19 775.099,1299.19 775.773,1299.19 776.446,1299.19 \n",
       "  777.12,1299.19 777.794,1299.19 778.467,1299.19 779.141,1299.19 779.815,1299.19 780.488,1299.19 781.162,1299.19 781.836,1299.19 782.509,1299.19 783.183,1299.19 \n",
       "  783.857,1299.19 784.53,1299.19 785.204,1299.19 785.877,1299.19 786.551,1299.19 787.225,1299.19 787.898,1299.19 788.572,1299.19 789.246,1299.19 789.919,1299.19 \n",
       "  790.593,1299.19 791.267,1299.19 791.94,1299.19 792.614,1299.19 793.288,1299.2 793.961,1299.2 794.635,1299.2 795.308,1299.2 795.982,1299.2 796.656,1299.2 \n",
       "  797.329,1299.2 798.003,1299.2 798.677,1299.2 799.35,1299.2 800.024,1299.2 800.698,1299.2 801.371,1299.2 802.045,1299.2 802.719,1299.2 803.392,1299.2 \n",
       "  804.066,1299.2 804.74,1299.2 805.413,1299.2 806.087,1299.2 806.76,1299.2 807.434,1299.2 808.108,1299.2 808.781,1299.2 809.455,1299.2 810.129,1299.2 \n",
       "  810.802,1299.2 811.476,1299.2 812.15,1299.2 812.823,1299.2 813.497,1299.2 814.171,1299.2 814.844,1299.2 815.518,1299.2 816.191,1299.2 816.865,1299.2 \n",
       "  817.539,1299.2 818.212,1299.2 818.886,1299.2 819.56,1299.2 820.233,1299.2 820.907,1299.2 821.581,1299.2 822.254,1299.2 822.928,1299.2 823.602,1299.2 \n",
       "  824.275,1299.2 824.949,1299.2 825.623,1299.2 826.296,1299.2 826.97,1299.2 827.643,1299.2 828.317,1299.2 828.991,1299.2 829.664,1299.2 830.338,1299.2 \n",
       "  831.012,1299.21 831.685,1299.21 832.359,1299.21 833.033,1299.21 833.706,1299.21 834.38,1299.21 835.054,1299.21 835.727,1299.21 836.401,1299.21 837.074,1299.21 \n",
       "  837.748,1299.21 838.422,1299.21 839.095,1299.21 839.769,1299.21 840.443,1299.21 841.116,1299.21 841.79,1299.21 842.464,1299.21 843.137,1299.21 843.811,1299.21 \n",
       "  844.485,1299.21 845.158,1299.21 845.832,1299.21 846.506,1299.21 847.179,1299.21 847.853,1299.21 848.526,1299.21 849.2,1299.21 849.874,1299.21 850.547,1299.21 \n",
       "  851.221,1299.21 851.895,1299.21 852.568,1299.21 853.242,1299.21 853.916,1299.21 854.589,1299.21 855.263,1299.21 855.937,1299.21 856.61,1299.21 857.284,1299.21 \n",
       "  857.957,1299.21 858.631,1299.21 859.305,1299.21 859.978,1299.21 860.652,1299.21 861.326,1299.21 861.999,1299.21 862.673,1299.21 863.347,1299.21 864.02,1299.21 \n",
       "  864.694,1299.21 865.368,1299.21 866.041,1299.21 866.715,1299.21 867.389,1299.21 868.062,1299.21 868.736,1299.21 869.409,1299.21 870.083,1299.21 870.757,1299.21 \n",
       "  871.43,1299.21 872.104,1299.21 872.778,1299.21 873.451,1299.21 874.125,1299.21 874.799,1299.21 875.472,1299.21 876.146,1299.21 876.82,1299.21 877.493,1299.21 \n",
       "  878.167,1299.21 878.84,1299.21 879.514,1299.21 880.188,1299.21 880.861,1299.21 881.535,1299.21 882.209,1299.21 882.882,1299.21 883.556,1299.21 884.23,1299.21 \n",
       "  884.903,1299.21 885.577,1299.21 886.251,1299.21 886.924,1299.21 887.598,1299.21 888.272,1299.21 888.945,1299.21 889.619,1299.21 890.292,1299.21 890.966,1299.21 \n",
       "  891.64,1299.22 892.313,1299.22 892.987,1299.22 893.661,1299.22 894.334,1299.22 895.008,1299.22 895.682,1299.22 896.355,1299.22 897.029,1299.22 897.703,1299.22 \n",
       "  898.376,1299.22 899.05,1299.26 899.723,1299.15 900.397,1299.18 901.071,1299.2 901.744,1299.21 902.418,1299.21 903.092,1299.22 903.765,1299.22 904.439,1299.27 \n",
       "  905.113,1300.97 905.786,1301.07 906.46,1300.52 907.134,1275.47 907.807,1229.35 908.481,1264.06 909.155,1266.64 909.828,1245.69 910.502,1279.47 911.175,1276.57 \n",
       "  911.849,1264.74 912.523,1277.02 913.196,1245.98 913.87,1274.49 914.544,1234.6 915.217,1278.12 915.891,1283.5 916.565,1286.92 917.238,1293.03 917.912,1242.4 \n",
       "  918.586,1294.73 919.259,1284.01 919.933,1295.7 920.606,1298.59 921.28,1297.48 921.954,1290.88 922.627,1299.67 923.301,1295.7 923.975,1298.33 924.648,1289.82 \n",
       "  925.322,1294.48 925.996,1291.77 926.669,1299.35 927.343,1295.81 928.017,1299.54 928.69,1299.31 929.364,1300.87 930.038,1301.03 930.711,1301.08 931.385,1301.08 \n",
       "  932.058,1301.08 932.732,1301.08 933.406,1301.09 934.079,1301.09 934.753,1301.09 935.427,1301.09 936.1,1301.09 936.774,1301.09 937.448,1301.09 938.121,1301.09 \n",
       "  938.795,1301.09 939.469,1301.09 940.142,1301.09 940.816,1301.09 941.489,1301.09 942.163,1301.09 942.837,1301.09 943.51,1301.09 944.184,1301.09 944.858,1301.09 \n",
       "  945.531,1301.09 946.205,1301.09 946.879,1301.09 947.552,1301.09 948.226,1301.09 948.9,1301.09 949.573,1301.09 950.247,1301.09 950.921,1301.09 951.594,1301.09 \n",
       "  952.268,1301.09 952.941,1301.09 953.615,1301.09 954.289,1301.09 954.962,1301.09 955.636,1301.1 956.31,1301.1 956.983,1301.1 957.657,1301.1 958.331,1301.1 \n",
       "  959.004,1301.1 959.678,1301.1 960.352,1301.1 961.025,1301.1 961.699,1301.1 962.372,1301.1 963.046,1301.1 963.72,1301.1 964.393,1301.1 965.067,1301.1 \n",
       "  965.741,1301.1 966.414,1301.1 967.088,1301.1 967.762,1301.1 968.435,1301.1 969.109,1301.1 969.783,1301.1 970.456,1301.1 971.13,1301.1 971.804,1301.1 \n",
       "  972.477,1301.1 973.151,1301.1 973.824,1301.1 974.498,1301.1 975.172,1301.1 975.845,1301.1 976.519,1301.1 977.193,1301.1 977.866,1301.1 978.54,1301.1 \n",
       "  979.214,1301.1 979.887,1301.1 980.561,1301.1 981.235,1301.1 981.908,1301.1 982.582,1301.1 983.255,1301.1 983.929,1301.1 984.603,1301.1 985.276,1301.1 \n",
       "  985.95,1301.1 986.624,1301.1 987.297,1301.1 987.971,1301.1 988.645,1301.1 989.318,1301.1 989.992,1301.1 990.666,1301.1 991.339,1301.1 992.013,1301.1 \n",
       "  992.687,1301.1 993.36,1301.1 994.034,1301.1 994.707,1301.1 995.381,1301.1 996.055,1301.1 996.728,1301.1 997.402,1301.1 998.076,1301.1 998.749,1301.1 \n",
       "  999.423,1301.1 1000.1,1301.1 1000.77,1301.1 1001.44,1301.1 1002.12,1301.1 1002.79,1301.1 1003.46,1301.1 1004.14,1301.1 1004.81,1301.1 1005.49,1301.1 \n",
       "  1006.16,1301.1 1006.83,1301.1 1007.51,1301.1 1008.18,1301.1 1008.85,1301.1 1009.53,1301.1 1010.2,1301.1 1010.87,1301.1 1011.55,1301.1 1012.22,1301.1 \n",
       "  1012.9,1301.1 1013.57,1301.1 1014.24,1301.1 1014.92,1301.1 1015.59,1301.1 1016.26,1301.1 1016.94,1301.1 1017.61,1301.1 1018.29,1301.1 1018.96,1301.1 \n",
       "  1019.63,1301.1 1020.31,1301.1 1020.98,1301.1 1021.65,1301.1 1022.33,1301.1 1023,1301.1 1023.67,1301.1 1024.35,1301.1 1025.02,1301.1 1025.7,1301.1 \n",
       "  1026.37,1301.1 1027.04,1301.1 1027.72,1301.1 1028.39,1301.1 1029.06,1301.1 1029.74,1301.1 1030.41,1301.1 1031.08,1301.1 1031.76,1301.1 1032.43,1301.1 \n",
       "  1033.11,1301.1 1033.78,1301.1 1034.45,1301.1 1035.13,1301.1 1035.8,1301.1 1036.47,1301.1 1037.15,1301.1 1037.82,1301.1 1038.49,1301.1 1039.17,1301.1 \n",
       "  1039.84,1301.1 1040.52,1301.1 1041.19,1301.1 1041.86,1301.1 1042.54,1301.1 1043.21,1301.1 1043.88,1301.1 1044.56,1301.1 1045.23,1301.1 1045.9,1301.1 \n",
       "  1046.58,1301.1 1047.25,1301.1 1047.93,1301.1 1048.6,1301.1 1049.27,1301.1 1049.95,1301.1 1050.62,1301.1 1051.29,1301.1 1051.97,1301.1 1052.64,1301.1 \n",
       "  1053.31,1301.1 1053.99,1301.1 1054.66,1301.1 1055.34,1301.1 1056.01,1301.1 1056.68,1301.1 1057.36,1301.1 1058.03,1301.1 1058.7,1301.1 1059.38,1301.1 \n",
       "  1060.05,1301.1 1060.72,1301.1 1061.4,1301.1 1062.07,1301.1 1062.75,1301.1 1063.42,1301.1 1064.09,1301.1 1064.77,1301.1 1065.44,1301.1 1066.11,1301.1 \n",
       "  1066.79,1301.1 1067.46,1301.1 1068.13,1301.1 1068.81,1301.1 1069.48,1301.1 1070.16,1301.1 1070.83,1301.1 1071.5,1301.1 1072.18,1301.1 1072.85,1301.1 \n",
       "  1073.52,1301.1 1074.2,1301.1 1074.87,1301.1 1075.54,1301.1 1076.22,1301.1 1076.89,1301.1 1077.57,1301.1 1078.24,1301.1 1078.91,1301.1 1079.59,1301.1 \n",
       "  1080.26,1301.1 1080.93,1301.1 1081.61,1301.1 1082.28,1301.1 1082.95,1301.1 1083.63,1301.1 1084.3,1301.1 1084.98,1301.1 1085.65,1301.1 1086.32,1301.1 \n",
       "  1087,1301.1 1087.67,1301.1 1088.34,1301.1 1089.02,1301.1 1089.69,1301.1 1090.37,1301.1 1091.04,1301.1 1091.71,1301.1 1092.39,1301.1 1093.06,1301.1 \n",
       "  1093.73,1301.1 1094.41,1301.1 1095.08,1301.1 1095.75,1301.1 1096.43,1301.1 1097.1,1301.1 1097.78,1301.1 1098.45,1301.1 1099.12,1301.1 1099.8,1301.1 \n",
       "  1100.47,1301.1 1101.14,1301.1 1101.82,1301.1 1102.49,1301.1 1103.16,1301.1 1103.84,1301.1 1104.51,1301.1 1105.19,1301.1 1105.86,1301.1 1106.53,1301.1 \n",
       "  1107.21,1301.1 1107.88,1301.1 1108.55,1301.1 1109.23,1301.1 1109.9,1301.1 1110.57,1301.1 1111.25,1301.1 1111.92,1301.1 1112.6,1301.1 1113.27,1301.1 \n",
       "  1113.94,1301.1 1114.62,1301.1 1115.29,1301.1 1115.96,1301.1 1116.64,1301.1 1117.31,1301.1 1117.98,1301.1 1118.66,1301.1 1119.33,1301.1 1120.01,1301.1 \n",
       "  1120.68,1301.1 1121.35,1301.1 1122.03,1301.1 1122.7,1301.1 1123.37,1301.1 1124.05,1301.1 1124.72,1301.1 1125.39,1301.1 1126.07,1301.1 1126.74,1301.1 \n",
       "  1127.42,1301.1 1128.09,1301.1 1128.76,1301.1 1129.44,1301.1 1130.11,1301.1 1130.78,1301.1 1131.46,1301.1 1132.13,1301.1 1132.8,1301.1 1133.48,1301.1 \n",
       "  1134.15,1301.1 1134.83,1301.1 1135.5,1301.1 1136.17,1301.1 1136.85,1301.1 1137.52,1301.1 1138.19,1301.1 1138.87,1301.1 1139.54,1301.1 1140.21,1301.1 \n",
       "  1140.89,1301.1 1141.56,1301.1 1142.24,1301.1 1142.91,1301.1 1143.58,1301.1 1144.26,1301.1 1144.93,1301.1 1145.6,1301.1 1146.28,1301.1 1146.95,1301.1 \n",
       "  1147.62,1301.1 1148.3,1301.1 1148.97,1301.1 1149.65,1301.1 1150.32,1301.1 1150.99,1301.1 1151.67,1301.1 1152.34,1301.1 1153.01,1301.1 1153.69,1301.11 \n",
       "  1154.36,1301.11 1155.04,1301.11 1155.71,1301.11 1156.38,1301.11 1157.06,1301.11 1157.73,1301.11 1158.4,1301.11 1159.08,1301.11 1159.75,1301.11 1160.42,1301.11 \n",
       "  1161.1,1301.11 1161.77,1301.11 1162.45,1301.11 1163.12,1301.11 1163.79,1301.11 1164.47,1301.11 1165.14,1301.11 1165.81,1301.11 1166.49,1301.11 1167.16,1301.11 \n",
       "  1167.83,1301.11 1168.51,1301.11 1169.18,1301.11 1169.86,1301.11 1170.53,1301.11 1171.2,1301.11 1171.88,1301.11 1172.55,1301.11 1173.22,1301.11 1173.9,1301.11 \n",
       "  1174.57,1301.11 1175.24,1301.11 1175.92,1301.11 1176.59,1301.11 1177.27,1301.11 1177.94,1301.11 1178.61,1301.11 1179.29,1301.11 1179.96,1301.11 1180.63,1301.11 \n",
       "  1181.31,1301.11 1181.98,1301.11 1182.65,1301.11 1183.33,1301.11 1184,1301.11 1184.68,1301.11 1185.35,1301.11 1186.02,1301.11 1186.7,1301.11 1187.37,1301.11 \n",
       "  1188.04,1301.11 1188.72,1301.11 1189.39,1301.11 1190.06,1301.11 1190.74,1301.11 1191.41,1301.11 1192.09,1301.11 1192.76,1301.11 1193.43,1301.11 1194.11,1301.11 \n",
       "  1194.78,1301.11 1195.45,1301.11 1196.13,1301.11 1196.8,1301.11 1197.47,1301.11 1198.15,1301.11 1198.82,1301.11 1199.5,1301.11 1200.17,1301.11 1200.84,1301.11 \n",
       "  1201.52,1301.11 1202.19,1301.11 1202.86,1301.11 1203.54,1301.11 1204.21,1301.11 1204.88,1301.11 1205.56,1301.11 1206.23,1301.11 1206.91,1301.11 1207.58,1301.11 \n",
       "  1208.25,1301.11 1208.93,1301.11 1209.6,1301.11 1210.27,1301.11 1210.95,1301.11 1211.62,1301.11 1212.29,1301.11 1212.97,1301.11 1213.64,1301.11 1214.32,1301.11 \n",
       "  1214.99,1301.11 1215.66,1301.11 1216.34,1301.11 1217.01,1301.11 1217.68,1301.11 1218.36,1301.11 1219.03,1301.11 1219.7,1301.11 1220.38,1301.11 1221.05,1301.11 \n",
       "  1221.73,1301.11 1222.4,1301.11 1223.07,1301.11 1223.75,1301.11 1224.42,1301.11 1225.09,1301.11 1225.77,1301.11 1226.44,1301.11 1227.12,1301.11 1227.79,1301.11 \n",
       "  1228.46,1301.11 1229.14,1301.11 1229.81,1301.11 1230.48,1301.11 1231.16,1301.11 1231.83,1301.11 1232.5,1301.11 1233.18,1301.11 1233.85,1301.11 1234.53,1301.11 \n",
       "  1235.2,1301.11 1235.87,1301.11 1236.55,1301.11 1237.22,1301.11 1237.89,1301.11 1238.57,1301.11 1239.24,1301.11 1239.91,1301.11 1240.59,1301.11 1241.26,1301.11 \n",
       "  1241.94,1301.11 1242.61,1301.11 1243.28,1301.11 1243.96,1301.11 1244.63,1301.11 1245.3,1301.11 1245.98,1301.11 1246.65,1301.11 1247.32,1301.11 1248,1301.11 \n",
       "  1248.67,1301.11 1249.35,1301.11 1250.02,1301.11 1250.69,1301.11 1251.37,1301.11 1252.04,1301.11 1252.71,1301.11 1253.39,1301.11 1254.06,1301.11 1254.73,1301.11 \n",
       "  1255.41,1301.11 1256.08,1301.11 1256.76,1301.11 1257.43,1301.11 1258.1,1301.11 1258.78,1301.11 1259.45,1301.11 1260.12,1301.11 1260.8,1301.11 1261.47,1301.11 \n",
       "  1262.14,1301.11 1262.82,1301.11 1263.49,1301.11 1264.17,1301.11 1264.84,1301.11 1265.51,1301.11 1266.19,1301.11 1266.86,1301.11 1267.53,1301.11 1268.21,1301.11 \n",
       "  1268.88,1301.11 1269.55,1301.11 1270.23,1301.11 1270.9,1301.11 1271.58,1301.11 1272.25,1301.11 1272.92,1301.11 1273.6,1301.11 1274.27,1301.11 1274.94,1301.11 \n",
       "  1275.62,1301.11 1276.29,1301.11 1276.96,1301.11 1277.64,1301.11 1278.31,1301.11 1278.99,1301.11 1279.66,1301.11 1280.33,1301.11 1281.01,1301.11 1281.68,1301.11 \n",
       "  1282.35,1301.11 1283.03,1301.11 1283.7,1301.11 1284.37,1301.11 1285.05,1301.11 1285.72,1301.11 1286.4,1301.11 1287.07,1301.11 1287.74,1301.11 1288.42,1301.11 \n",
       "  1289.09,1301.11 1289.76,1301.11 1290.44,1301.11 1291.11,1301.11 1291.78,1301.11 1292.46,1301.11 1293.13,1301.11 1293.81,1301.11 1294.48,1301.11 1295.15,1301.11 \n",
       "  1295.83,1301.11 1296.5,1301.11 1297.17,1301.11 1297.85,1301.11 1298.52,1301.11 1299.2,1301.11 1299.87,1301.11 1300.54,1301.11 1301.22,1301.11 1301.89,1301.11 \n",
       "  1302.56,1301.11 1303.24,1301.11 1303.91,1301.11 1304.58,1301.11 1305.26,1301.11 1305.93,1301.11 1306.61,1301.11 1307.28,1301.11 1307.95,1301.11 1308.63,1301.11 \n",
       "  1309.3,1301.11 1309.97,1301.11 1310.65,1301.11 1311.32,1301.11 1311.99,1301.11 1312.67,1301.11 1313.34,1301.11 1314.02,1301.11 1314.69,1301.11 1315.36,1301.11 \n",
       "  1316.04,1301.11 1316.71,1301.11 1317.38,1301.11 1318.06,1301.11 1318.73,1301.11 1319.4,1301.11 1320.08,1301.11 1320.75,1301.11 1321.43,1301.11 1322.1,1301.11 \n",
       "  1322.77,1301.11 1323.45,1301.11 1324.12,1301.11 1324.79,1301.11 1325.47,1301.11 1326.14,1301.11 1326.81,1301.11 1327.49,1301.11 1328.16,1301.11 1328.84,1301.11 \n",
       "  1329.51,1301.11 1330.18,1301.11 1330.86,1301.11 1331.53,1301.11 1332.2,1301.11 1332.88,1301.11 1333.55,1301.11 1334.22,1301.11 1334.9,1301.11 1335.57,1301.11 \n",
       "  1336.25,1301.11 1336.92,1301.11 1337.59,1301.11 1338.27,1301.11 1338.94,1301.11 1339.61,1301.11 1340.29,1301.11 1340.96,1301.11 1341.63,1301.11 1342.31,1301.11 \n",
       "  1342.98,1301.11 1343.66,1301.11 1344.33,1301.11 1345,1301.11 1345.68,1301.11 1346.35,1301.11 1347.02,1301.11 1347.7,1301.11 1348.37,1301.11 1349.04,1301.11 \n",
       "  1349.72,1301.11 1350.39,1301.11 1351.07,1301.11 1351.74,1301.11 1352.41,1301.11 1353.09,1301.11 1353.76,1301.11 1354.43,1301.11 1355.11,1301.11 1355.78,1301.11 \n",
       "  1356.45,1301.11 1357.13,1301.11 1357.8,1301.11 1358.48,1301.11 1359.15,1301.11 1359.82,1301.11 1360.5,1301.11 1361.17,1301.11 1361.84,1301.11 1362.52,1301.11 \n",
       "  1363.19,1301.11 1363.87,1301.11 1364.54,1301.11 1365.21,1301.11 1365.89,1301.11 1366.56,1301.11 1367.23,1301.11 1367.91,1301.11 1368.58,1301.11 1369.25,1301.11 \n",
       "  1369.93,1301.11 1370.6,1301.11 1371.28,1301.11 1371.95,1301.11 1372.62,1301.11 1373.3,1301.11 1373.97,1301.11 1374.64,1301.11 1375.32,1301.11 1375.99,1301.11 \n",
       "  1376.66,1301.11 1377.34,1301.11 1378.01,1301.11 1378.69,1301.11 1379.36,1301.11 1380.03,1301.11 1380.71,1301.11 1381.38,1301.11 1382.05,1301.11 1382.73,1301.11 \n",
       "  1383.4,1301.11 1384.07,1301.11 1384.75,1301.11 1385.42,1301.11 1386.1,1301.11 1386.77,1301.11 1387.44,1301.11 1388.12,1301.11 1388.79,1301.11 1389.46,1301.11 \n",
       "  1390.14,1301.11 1390.81,1301.11 1391.48,1301.11 1392.16,1301.11 1392.83,1301.11 1393.51,1301.11 1394.18,1301.11 1394.85,1301.11 1395.53,1301.11 1396.2,1301.11 \n",
       "  1396.87,1301.11 1397.55,1301.11 1398.22,1301.11 1398.89,1301.11 1399.57,1301.11 1400.24,1301.11 1400.92,1301.11 1401.59,1301.11 1402.26,1301.11 1402.94,1301.11 \n",
       "  1403.61,1301.11 1404.28,1301.11 1404.96,1301.11 1405.63,1301.11 1406.3,1301.11 1406.98,1301.11 1407.65,1301.11 1408.33,1301.11 1409,1301.11 1409.67,1301.11 \n",
       "  1410.35,1301.11 1411.02,1301.11 1411.69,1301.11 1412.37,1301.11 1413.04,1301.11 1413.71,1301.11 1414.39,1301.11 1415.06,1301.11 1415.74,1301.11 1416.41,1301.11 \n",
       "  1417.08,1301.11 1417.76,1301.11 1418.43,1301.11 1419.1,1301.11 1419.78,1301.11 1420.45,1301.11 1421.12,1301.11 1421.8,1301.11 1422.47,1301.11 1423.15,1301.11 \n",
       "  1423.82,1301.11 1424.49,1301.11 1425.17,1301.11 1425.84,1301.11 1426.51,1301.11 1427.19,1301.11 1427.86,1301.11 1428.53,1301.11 1429.21,1301.11 1429.88,1301.11 \n",
       "  1430.56,1301.11 1431.23,1301.11 1431.9,1301.11 1432.58,1301.11 1433.25,1301.11 1433.92,1301.11 1434.6,1301.11 1435.27,1301.11 1435.95,1301.11 1436.62,1301.11 \n",
       "  1437.29,1301.11 1437.97,1301.11 1438.64,1301.11 1439.31,1301.11 1439.99,1301.11 1440.66,1301.11 1441.33,1301.11 1442.01,1301.11 1442.68,1301.11 1443.36,1301.11 \n",
       "  1444.03,1301.11 1444.7,1301.11 1445.38,1301.11 1446.05,1301.11 1446.72,1301.11 1447.4,1301.11 1448.07,1301.11 1448.74,1301.11 1449.42,1301.11 1450.09,1301.11 \n",
       "  1450.77,1301.11 1451.44,1301.11 1452.11,1301.11 1452.79,1301.11 1453.46,1301.11 1454.13,1301.11 1454.81,1301.11 1455.48,1301.11 1456.15,1301.11 1456.83,1301.11 \n",
       "  1457.5,1301.11 1458.18,1301.11 1458.85,1301.11 1459.52,1301.11 1460.2,1301.11 1460.87,1301.11 1461.54,1301.11 1462.22,1301.11 1462.89,1301.11 1463.56,1301.11 \n",
       "  1464.24,1301.11 1464.91,1301.11 1465.59,1301.11 1466.26,1301.11 1466.93,1301.11 1467.61,1301.11 1468.28,1301.11 1468.95,1301.11 1469.63,1301.11 1470.3,1301.11 \n",
       "  1470.97,1301.11 1471.65,1301.11 1472.32,1301.11 1473,1301.11 1473.67,1301.11 1474.34,1301.11 1475.02,1301.11 1475.69,1301.11 1476.36,1301.11 1477.04,1301.11 \n",
       "  1477.71,1301.11 1478.38,1301.11 1479.06,1301.11 1479.73,1301.11 1480.41,1301.11 1481.08,1301.11 1481.75,1301.11 1482.43,1301.11 1483.1,1301.11 1483.77,1301.11 \n",
       "  1484.45,1301.11 1485.12,1301.11 1485.79,1301.11 1486.47,1301.11 1487.14,1301.11 1487.82,1301.11 1488.49,1301.11 1489.16,1301.11 1489.84,1301.11 1490.51,1301.11 \n",
       "  1491.18,1301.11 1491.86,1301.11 1492.53,1301.11 1493.2,1301.11 1493.88,1301.11 1494.55,1301.11 1495.23,1301.11 1495.9,1301.11 1496.57,1301.11 1497.25,1301.11 \n",
       "  1497.92,1301.11 1498.59,1301.11 1499.27,1301.11 1499.94,1301.11 1500.61,1301.11 1501.29,1301.11 1501.96,1301.11 1502.64,1301.11 1503.31,1301.11 1503.98,1301.11 \n",
       "  1504.66,1301.11 1505.33,1301.11 1506,1301.11 1506.68,1301.11 1507.35,1301.11 1508.03,1301.11 1508.7,1301.11 1509.37,1301.11 1510.05,1301.11 1510.72,1301.11 \n",
       "  1511.39,1301.11 1512.07,1301.11 1512.74,1301.11 1513.41,1301.11 1514.09,1301.11 1514.76,1301.11 1515.44,1301.11 1516.11,1301.11 1516.78,1301.11 1517.46,1301.11 \n",
       "  1518.13,1301.11 1518.8,1301.11 1519.48,1301.11 1520.15,1301.11 1520.82,1301.11 1521.5,1301.11 1522.17,1301.11 1522.85,1301.11 1523.52,1301.11 1524.19,1301.11 \n",
       "  1524.87,1301.11 1525.54,1301.11 1526.21,1301.11 1526.89,1301.11 1527.56,1301.11 1528.23,1301.11 1528.91,1301.11 1529.58,1301.11 1530.26,1301.11 1530.93,1301.11 \n",
       "  1531.6,1301.11 1532.28,1301.11 1532.95,1301.11 1533.62,1301.11 1534.3,1301.11 1534.97,1301.11 1535.64,1301.11 1536.32,1301.11 1536.99,1301.11 1537.67,1301.11 \n",
       "  1538.34,1301.11 1539.01,1301.11 1539.69,1301.11 1540.36,1301.11 1541.03,1301.11 1541.71,1301.11 1542.38,1301.11 1543.05,1301.11 1543.73,1301.11 1544.4,1301.11 \n",
       "  1545.08,1301.11 1545.75,1301.11 1546.42,1301.11 1547.1,1301.11 1547.77,1301.11 1548.44,1301.11 1549.12,1301.11 1549.79,1301.11 1550.46,1301.11 1551.14,1301.11 \n",
       "  1551.81,1301.11 1552.49,1301.11 1553.16,1301.11 1553.83,1301.11 1554.51,1301.11 1555.18,1301.11 1555.85,1301.11 1556.53,1301.11 1557.2,1301.11 1557.87,1301.11 \n",
       "  1558.55,1301.11 1559.22,1301.11 1559.9,1301.11 1560.57,1301.11 1561.24,1301.11 1561.92,1301.11 1562.59,1301.11 1563.26,1301.11 1563.94,1301.11 1564.61,1301.11 \n",
       "  1565.28,1301.11 1565.96,1301.11 1566.63,1301.11 1567.31,1301.11 1567.98,1301.11 1568.65,1301.11 1569.33,1301.11 1570,1301.11 1570.67,1301.11 1571.35,1301.11 \n",
       "  1572.02,1301.11 1572.7,1301.11 1573.37,1301.11 1574.04,1301.11 1574.72,1301.11 1575.39,1301.11 1576.06,1301.11 1576.74,1301.11 1577.41,1301.11 1578.08,1301.11 \n",
       "  1578.76,1301.11 1579.43,1301.11 1580.11,1301.11 1580.78,1301.11 1581.45,1301.11 1582.13,1301.11 1582.8,1301.11 1583.47,1301.11 1584.15,1301.11 1584.82,1301.11 \n",
       "  1585.49,1301.11 1586.17,1301.11 1586.84,1301.11 1587.52,1301.11 1588.19,1301.11 1588.86,1301.11 1589.54,1301.11 1590.21,1301.11 1590.88,1301.11 1591.56,1301.11 \n",
       "  1592.23,1301.11 1592.9,1301.11 1593.58,1301.11 1594.25,1301.11 1594.93,1301.11 1595.6,1301.11 1596.27,1301.11 1596.95,1301.11 1597.62,1301.11 1598.29,1301.11 \n",
       "  1598.97,1301.11 1599.64,1301.11 1600.31,1301.11 1600.99,1301.11 1601.66,1301.11 1602.34,1301.11 1603.01,1301.11 1603.68,1301.11 1604.36,1301.11 1605.03,1301.11 \n",
       "  1605.7,1301.11 1606.38,1301.11 1607.05,1301.11 1607.72,1301.11 1608.4,1301.11 1609.07,1301.11 1609.75,1301.11 1610.42,1301.11 1611.09,1301.11 1611.77,1301.11 \n",
       "  1612.44,1301.11 1613.11,1301.11 1613.79,1301.11 1614.46,1301.11 1615.13,1301.11 1615.81,1301.11 1616.48,1301.11 1617.16,1301.11 1617.83,1301.11 1618.5,1301.11 \n",
       "  1619.18,1301.11 1619.85,1301.11 1620.52,1301.11 1621.2,1301.11 1621.87,1301.11 1622.54,1301.11 1623.22,1301.11 1623.89,1301.11 1624.57,1301.11 1625.24,1301.11 \n",
       "  1625.91,1301.11 1626.59,1301.11 1627.26,1301.11 1627.93,1301.11 1628.61,1301.11 1629.28,1301.11 1629.95,1301.11 1630.63,1301.11 1631.3,1301.11 1631.98,1301.11 \n",
       "  1632.65,1301.11 1633.32,1301.11 1634,1301.11 1634.67,1301.11 1635.34,1301.11 1636.02,1301.11 1636.69,1301.11 1637.36,1301.11 1638.04,1301.11 1638.71,1301.11 \n",
       "  1639.39,1301.11 1640.06,1301.11 1640.73,1301.11 1641.41,1301.11 1642.08,1301.11 1642.75,1301.11 1643.43,1301.11 1644.1,1301.11 1644.78,1301.11 1645.45,1301.11 \n",
       "  1646.12,1301.11 1646.8,1301.11 1647.47,1301.11 1648.14,1301.11 1648.82,1301.11 1649.49,1301.11 1650.16,1301.11 1650.84,1301.11 1651.51,1301.11 1652.19,1301.11 \n",
       "  1652.86,1301.11 1653.53,1301.11 1654.21,1301.11 1654.88,1301.11 1655.55,1301.11 1656.23,1301.11 1656.9,1301.11 1657.57,1301.11 1658.25,1301.11 1658.92,1301.11 \n",
       "  1659.6,1301.11 1660.27,1301.11 1660.94,1301.11 1661.62,1301.11 1662.29,1301.11 1662.96,1301.11 1663.64,1301.11 1664.31,1301.11 1664.98,1301.11 1665.66,1301.11 \n",
       "  1666.33,1301.11 1667.01,1301.11 1667.68,1301.11 1668.35,1301.11 1669.03,1301.11 1669.7,1301.11 1670.37,1301.11 1671.05,1301.11 1671.72,1301.11 1672.39,1301.11 \n",
       "  1673.07,1301.11 1673.74,1301.11 1674.42,1301.11 1675.09,1301.11 1675.76,1301.11 1676.44,1301.11 1677.11,1301.11 1677.78,1301.11 1678.46,1301.11 1679.13,1301.11 \n",
       "  1679.8,1301.11 1680.48,1301.11 1681.15,1301.11 1681.83,1301.11 1682.5,1301.11 1683.17,1301.11 1683.85,1301.11 1684.52,1301.11 1685.19,1301.11 1685.87,1301.11 \n",
       "  1686.54,1301.11 1687.21,1301.11 1687.89,1301.11 1688.56,1301.11 1689.24,1301.11 1689.91,1301.11 1690.58,1301.11 1691.26,1301.11 1691.93,1301.11 1692.6,1301.11 \n",
       "  1693.28,1301.11 1693.95,1301.11 1694.62,1301.11 1695.3,1301.11 1695.97,1301.11 1696.65,1301.11 1697.32,1301.11 1697.99,1301.11 1698.67,1301.11 1699.34,1301.11 \n",
       "  1700.01,1301.11 1700.69,1301.11 1701.36,1301.11 1702.03,1301.11 1702.71,1301.11 1703.38,1301.11 1704.06,1301.11 1704.73,1301.11 1705.4,1301.11 1706.08,1301.11 \n",
       "  1706.75,1301.11 1707.42,1301.11 1708.1,1301.11 1708.77,1301.11 1709.44,1301.11 1710.12,1301.11 1710.79,1301.11 1711.47,1301.11 1712.14,1301.11 1712.81,1301.11 \n",
       "  1713.49,1301.11 1714.16,1301.11 1714.83,1301.11 1715.51,1301.11 1716.18,1301.11 1716.86,1301.11 1717.53,1301.11 1718.2,1301.11 1718.88,1301.11 1719.55,1301.11 \n",
       "  1720.22,1301.11 1720.9,1301.11 1721.57,1301.11 1722.24,1301.11 1722.92,1301.11 1723.59,1301.11 1724.27,1301.11 1724.94,1301.11 1725.61,1301.11 1726.29,1301.11 \n",
       "  1726.96,1301.11 1727.63,1301.11 1728.31,1301.11 1728.98,1301.11 1729.65,1301.11 1730.33,1301.11 1731,1301.11 1731.68,1301.11 1732.35,1301.11 1733.02,1301.11 \n",
       "  1733.7,1301.11 1734.37,1301.11 1735.04,1301.11 1735.72,1301.11 1736.39,1301.11 1737.06,1301.11 1737.74,1301.11 1738.41,1301.11 1739.09,1301.11 1739.76,1301.11 \n",
       "  1740.43,1301.11 1741.11,1301.11 1741.78,1301.11 1742.45,1301.11 1743.13,1301.11 1743.8,1301.11 1744.47,1301.11 1745.15,1301.11 1745.82,1301.11 1746.5,1301.11 \n",
       "  1747.17,1301.11 1747.84,1301.11 1748.52,1301.11 1749.19,1301.11 1749.86,1301.11 1750.54,1301.11 1751.21,1301.11 1751.88,1301.11 1752.56,1301.11 1753.23,1301.11 \n",
       "  1753.91,1301.11 1754.58,1301.11 1755.25,1301.11 1755.93,1301.11 1756.6,1301.11 1757.27,1301.11 1757.95,1301.11 1758.62,1301.11 1759.29,1301.11 1759.97,1301.11 \n",
       "  1760.64,1301.11 1761.32,1301.11 1761.99,1301.11 1762.66,1301.11 1763.34,1301.11 1764.01,1301.11 1764.68,1301.11 1765.36,1301.11 1766.03,1301.11 1766.7,1301.11 \n",
       "  1767.38,1301.11 1768.05,1301.11 1768.73,1301.11 1769.4,1301.11 1770.07,1301.11 1770.75,1301.11 1771.42,1301.11 1772.09,1301.11 1772.77,1301.11 1773.44,1301.11 \n",
       "  1774.11,1301.11 1774.79,1301.11 1775.46,1301.11 1776.14,1301.11 1776.81,1301.11 1777.48,1301.11 1778.16,1301.11 1778.83,1301.11 1779.5,1301.11 1780.18,1301.11 \n",
       "  1780.85,1301.11 1781.53,1301.11 1782.2,1301.11 1782.87,1301.11 1783.55,1301.11 1784.22,1301.11 1784.89,1301.11 1785.57,1301.11 1786.24,1301.11 1786.91,1301.11 \n",
       "  1787.59,1301.11 1788.26,1301.11 1788.94,1301.11 1789.61,1301.11 1790.28,1301.11 1790.96,1301.11 1791.63,1301.11 1792.3,1301.11 1792.98,1301.11 1793.65,1301.11 \n",
       "  1794.32,1301.11 1795,1301.11 1795.67,1301.11 1796.35,1301.11 1797.02,1301.11 1797.69,1301.11 1798.37,1301.11 1799.04,1301.11 1799.71,1301.11 1800.39,1301.11 \n",
       "  1801.06,1301.11 1801.73,1301.11 1802.41,1301.11 1803.08,1301.11 1803.76,1301.11 1804.43,1301.11 1805.1,1301.11 1805.78,1301.11 1806.45,1301.11 1807.12,1301.11 \n",
       "  1807.8,1301.11 1808.47,1301.11 1809.14,1301.11 1809.82,1301.11 1810.49,1301.11 1811.17,1301.11 1811.84,1301.11 1812.51,1301.11 1813.19,1301.11 1813.86,1301.11 \n",
       "  1814.53,1301.11 1815.21,1301.11 1815.88,1301.11 1816.55,1301.11 1817.23,1301.11 1817.9,1301.11 1818.58,1301.11 1819.25,1301.11 1819.92,1301.11 1820.6,1301.11 \n",
       "  1821.27,1301.11 1821.94,1301.11 1822.62,1301.11 1823.29,1301.11 1823.96,1301.11 1824.64,1301.11 1825.31,1301.11 1825.99,1301.11 1826.66,1301.11 1827.33,1301.11 \n",
       "  1828.01,1301.11 1828.68,1301.11 1829.35,1301.11 1830.03,1301.11 1830.7,1301.11 1831.37,1301.11 1832.05,1301.11 1832.72,1301.11 1833.4,1301.11 1834.07,1301.11 \n",
       "  1834.74,1301.11 1835.42,1301.11 1836.09,1301.11 1836.76,1301.11 1837.44,1301.11 1838.11,1301.11 1838.78,1301.11 1839.46,1301.11 1840.13,1301.11 1840.81,1301.11 \n",
       "  1841.48,1301.11 1842.15,1301.11 1842.83,1301.11 1843.5,1301.11 1844.17,1301.11 1844.85,1301.11 1845.52,1301.11 1846.19,1301.11 1846.87,1301.11 1847.54,1301.11 \n",
       "  1848.22,1301.11 1848.89,1301.11 1849.56,1301.11 1850.24,1301.11 1850.91,1301.11 1851.58,1301.11 1852.26,1301.11 1852.93,1301.11 1853.61,1301.11 1854.28,1301.11 \n",
       "  1854.95,1301.11 1855.63,1301.11 1856.3,1301.11 1856.97,1301.11 1857.65,1301.11 1858.32,1301.11 1858.99,1301.11 1859.67,1301.11 1860.34,1301.11 1861.02,1301.11 \n",
       "  1861.69,1301.11 1862.36,1301.11 1863.04,1301.11 1863.71,1301.11 1864.38,1301.11 1865.06,1301.11 1865.73,1301.11 1866.4,1301.11 1867.08,1301.11 1867.75,1301.11 \n",
       "  1868.43,1301.11 1869.1,1301.11 1869.77,1301.11 1870.45,1301.11 1871.12,1301.11 1871.79,1301.11 1872.47,1301.11 1873.14,1301.11 1873.81,1301.11 1874.49,1301.11 \n",
       "  1875.16,1301.11 1875.84,1301.11 1876.51,1301.11 1877.18,1301.11 1877.86,1301.11 1878.53,1301.11 1879.2,1301.11 1879.88,1301.11 1880.55,1301.11 1881.22,1301.11 \n",
       "  1881.9,1301.11 1882.57,1301.11 1883.25,1301.11 1883.92,1301.11 1884.59,1301.11 1885.27,1301.11 1885.94,1301.11 1886.61,1301.11 1887.29,1301.11 1887.96,1301.11 \n",
       "  1888.63,1301.11 1889.31,1301.11 1889.98,1301.11 1890.66,1301.11 1891.33,1301.11 1892,1301.11 1892.68,1301.11 1893.35,1301.11 1894.02,1301.11 1894.7,1301.11 \n",
       "  1895.37,1301.11 1896.04,1301.11 1896.72,1301.11 1897.39,1301.11 1898.07,1301.11 1898.74,1301.11 1899.41,1301.11 1900.09,1301.11 1900.76,1301.11 1901.43,1301.11 \n",
       "  1902.11,1301.11 1902.78,1301.11 1903.45,1301.11 1904.13,1301.11 1904.8,1301.11 1905.48,1301.11 1906.15,1301.11 1906.82,1301.11 1907.5,1301.11 1908.17,1301.11 \n",
       "  1908.84,1301.11 1909.52,1301.11 1910.19,1301.11 1910.86,1301.11 1911.54,1301.11 1912.21,1301.11 1912.89,1301.11 1913.56,1301.11 1914.23,1301.11 1914.91,1301.11 \n",
       "  1915.58,1301.11 1916.25,1301.11 1916.93,1301.11 1917.6,1301.11 1918.27,1301.11 1918.95,1301.11 1919.62,1301.11 1920.3,1301.11 1920.97,1301.11 1921.64,1301.11 \n",
       "  1922.32,1301.11 1922.99,1301.11 1923.66,1301.11 1924.34,1301.11 1925.01,1301.11 1925.69,1301.11 1926.36,1301.11 1927.03,1301.11 1927.71,1301.11 1928.38,1301.11 \n",
       "  1929.05,1301.11 1929.73,1301.11 1930.4,1301.11 1931.07,1301.11 1931.75,1301.11 1932.42,1301.11 1933.1,1301.11 1933.77,1301.11 1934.44,1301.11 1935.12,1301.11 \n",
       "  1935.79,1301.11 1936.46,1301.11 1937.14,1301.11 1937.81,1301.11 1938.48,1301.11 1939.16,1301.11 1939.83,1301.11 1940.51,1301.11 1941.18,1301.11 1941.85,1301.11 \n",
       "  1942.53,1301.11 1943.2,1301.11 1943.87,1301.11 1944.55,1301.11 1945.22,1301.11 1945.89,1301.11 1946.57,1301.11 1947.24,1301.11 1947.92,1301.11 1948.59,1301.11 \n",
       "  1949.26,1301.11 1949.94,1301.11 1950.61,1301.11 1951.28,1301.11 1951.96,1301.11 1952.63,1301.11 1953.3,1301.11 1953.98,1301.11 1954.65,1301.11 1955.33,1301.11 \n",
       "  1956,1301.11 1956.67,1301.11 1957.35,1301.11 1958.02,1301.11 1958.69,1301.11 1959.37,1301.11 1960.04,1301.11 1960.71,1301.11 1961.39,1301.11 1962.06,1301.11 \n",
       "  1962.74,1301.11 1963.41,1301.11 1964.08,1301.11 1964.76,1301.11 1965.43,1301.11 1966.1,1301.11 1966.78,1301.11 1967.45,1301.11 1968.12,1301.11 1968.8,1301.11 \n",
       "  1969.47,1301.11 1970.15,1301.11 1970.82,1301.11 1971.49,1301.11 1972.17,1301.11 1972.84,1301.11 1973.51,1301.11 1974.19,1301.11 1974.86,1301.11 1975.53,1301.11 \n",
       "  1976.21,1301.11 1976.88,1301.11 1977.56,1301.11 1978.23,1301.11 1978.9,1301.11 1979.58,1301.11 1980.25,1301.11 1980.92,1301.11 1981.6,1301.11 1982.27,1301.11 \n",
       "  1982.94,1301.11 1983.62,1301.11 1984.29,1301.11 1984.97,1301.11 1985.64,1301.11 1986.31,1301.11 1986.99,1301.11 1987.66,1301.11 1988.33,1301.11 1989.01,1301.11 \n",
       "  1989.68,1301.11 1990.36,1301.11 1991.03,1301.11 1991.7,1301.11 1992.38,1301.11 1993.05,1301.11 1993.72,1301.11 1994.4,1301.11 1995.07,1301.11 1995.74,1301.11 \n",
       "  1996.42,1301.11 1997.09,1301.11 1997.77,1301.11 1998.44,1301.11 1999.11,1301.11 1999.79,1301.11 2000.46,1301.11 2001.13,1301.11 2001.81,1301.11 2002.48,1301.11 \n",
       "  2003.15,1301.11 2003.83,1301.11 2004.5,1301.11 2005.18,1301.11 2005.85,1301.11 2006.52,1301.11 2007.2,1301.11 2007.87,1301.11 2008.54,1301.11 2009.22,1301.11 \n",
       "  2009.89,1301.11 2010.56,1301.11 2011.24,1301.11 2011.91,1301.11 2012.59,1301.11 2013.26,1301.11 2013.93,1301.11 2014.61,1301.11 2015.28,1301.11 2015.95,1301.11 \n",
       "  2016.63,1301.11 2017.3,1301.11 2017.97,1301.11 2018.65,1301.11 2019.32,1301.11 2020,1301.11 2020.67,1301.11 2021.34,1301.11 2022.02,1301.11 2022.69,1301.11 \n",
       "  2023.36,1301.11 2024.04,1301.11 2024.71,1301.11 2025.38,1301.11 2026.06,1301.11 2026.73,1301.11 2027.41,1301.11 2028.08,1301.11 2028.75,1301.11 2029.43,1301.11 \n",
       "  2030.1,1301.11 2030.77,1301.11 2031.45,1301.11 2032.12,1301.11 2032.79,1301.11 2033.47,1301.11 2034.14,1301.11 2034.82,1301.11 2035.49,1301.11 2036.16,1301.11 \n",
       "  2036.84,1301.11 2037.51,1301.11 2038.18,1301.11 2038.86,1301.11 2039.53,1301.11 2040.2,1301.11 2040.88,1301.11 2041.55,1301.11 2042.23,1301.11 2042.9,1301.11 \n",
       "  2043.57,1301.11 2044.25,1301.11 2044.92,1301.11 2045.59,1301.11 2046.27,1301.11 2046.94,1301.11 2047.61,1301.11 2048.29,1301.11 2048.96,1301.11 2049.64,1301.11 \n",
       "  2050.31,1301.11 2050.98,1301.11 2051.66,1301.11 2052.33,1301.11 2053,1301.11 2053.68,1301.11 2054.35,1301.11 2055.02,1301.11 2055.7,1301.11 2056.37,1301.11 \n",
       "  2057.05,1301.11 2057.72,1301.11 2058.39,1301.11 2059.07,1301.11 2059.74,1301.11 2060.41,1301.11 2061.09,1301.11 2061.76,1301.11 2062.44,1301.11 2063.11,1301.11 \n",
       "  2063.78,1301.11 2064.46,1301.11 2065.13,1301.11 2065.8,1301.11 2066.48,1301.11 2067.15,1301.11 2067.82,1301.11 2068.5,1301.11 2069.17,1301.11 2069.85,1301.11 \n",
       "  2070.52,1301.11 2071.19,1301.11 2071.87,1301.11 2072.54,1301.11 2073.21,1301.11 2073.89,1301.11 2074.56,1301.11 2075.23,1301.11 2075.91,1301.11 2076.58,1301.11 \n",
       "  2077.26,1301.11 2077.93,1301.11 2078.6,1301.11 2079.28,1301.11 2079.95,1301.11 2080.62,1301.11 2081.3,1301.11 2081.97,1301.11 2082.64,1301.11 2083.32,1301.11 \n",
       "  2083.99,1301.11 2084.67,1301.11 2085.34,1301.11 2086.01,1301.11 2086.69,1301.11 2087.36,1301.11 2088.03,1301.11 2088.71,1301.11 2089.38,1301.11 2090.05,1301.11 \n",
       "  2090.73,1301.11 2091.4,1301.11 2092.08,1301.11 2092.75,1301.11 2093.42,1301.11 2094.1,1301.11 2094.77,1301.11 2095.44,1301.11 2096.12,1301.11 2096.79,1301.11 \n",
       "  2097.46,1301.11 2098.14,1301.11 2098.81,1301.11 2099.49,1301.11 2100.16,1301.11 2100.83,1301.11 2101.51,1301.11 2102.18,1301.11 2102.85,1301.11 2103.53,1301.11 \n",
       "  2104.2,1301.11 2104.87,1301.11 2105.55,1301.11 2106.22,1301.11 2106.9,1301.11 2107.57,1301.11 2108.24,1301.11 2108.92,1301.11 2109.59,1301.11 2110.26,1301.11 \n",
       "  2110.94,1301.11 2111.61,1301.11 2112.28,1301.11 2112.96,1301.11 2113.63,1301.11 2114.31,1301.11 2114.98,1301.11 2115.65,1301.11 2116.33,1301.11 2117,1301.11 \n",
       "  2117.67,1301.11 2118.35,1301.11 2119.02,1301.11 2119.69,1301.11 2120.37,1301.11 2121.04,1301.11 2121.72,1301.11 2122.39,1301.11 2123.06,1301.11 2123.74,1301.11 \n",
       "  2124.41,1301.11 2125.08,1301.11 2125.76,1301.11 2126.43,1301.11 2127.1,1301.11 2127.78,1301.11 2128.45,1301.11 2129.13,1301.11 2129.8,1301.11 2130.47,1301.11 \n",
       "  2131.15,1301.11 2131.82,1301.11 2132.49,1301.11 2133.17,1301.11 2133.84,1301.11 2134.52,1301.11 2135.19,1301.11 2135.86,1301.11 2136.54,1301.11 2137.21,1301.11 \n",
       "  2137.88,1301.11 2138.56,1301.11 2139.23,1301.11 2139.9,1301.11 2140.58,1301.11 2141.25,1301.11 2141.93,1301.11 2142.6,1301.11 2143.27,1301.11 2143.95,1301.11 \n",
       "  2144.62,1301.11 2145.29,1301.11 2145.97,1301.11 2146.64,1301.11 2147.31,1301.11 2147.99,1301.11 2148.66,1301.11 2149.34,1301.11 2150.01,1301.11 2150.68,1301.11 \n",
       "  2151.36,1301.11 2152.03,1301.11 2152.7,1301.11 2153.38,1301.11 2154.05,1301.11 2154.72,1301.11 2155.4,1301.11 2156.07,1301.11 2156.75,1301.11 2157.42,1301.11 \n",
       "  2158.09,1301.11 2158.77,1301.11 2159.44,1301.11 2160.11,1301.11 2160.79,1301.11 2161.46,1301.11 2162.13,1301.11 2162.81,1301.11 2163.48,1301.11 2164.16,1301.11 \n",
       "  2164.83,1301.11 2165.5,1301.11 2166.18,1301.11 2166.85,1301.11 2167.52,1301.11 2168.2,1301.11 2168.87,1301.11 2169.54,1301.11 2170.22,1301.11 2170.89,1301.11 \n",
       "  2171.57,1301.11 2172.24,1301.11 2172.91,1301.11 2173.59,1301.11 2174.26,1301.11 2174.93,1301.11 2175.61,1301.11 2176.28,1301.11 2176.95,1301.11 2177.63,1301.11 \n",
       "  2178.3,1301.11 2178.98,1301.11 2179.65,1301.11 2180.32,1301.11 2181,1301.11 2181.67,1301.11 2182.34,1301.11 2183.02,1301.11 2183.69,1301.11 2184.36,1301.11 \n",
       "  2185.04,1301.11 2185.71,1301.11 2186.39,1301.11 2187.06,1301.11 2187.73,1301.11 2188.41,1301.11 2189.08,1301.11 2189.75,1301.11 2190.43,1301.11 2191.1,1301.11 \n",
       "  2191.77,1301.11 2192.45,1301.11 2193.12,1301.11 2193.8,1301.11 2194.47,1301.11 2195.14,1301.11 2195.82,1301.11 2196.49,1301.11 2197.16,1301.11 2197.84,1301.11 \n",
       "  2198.51,1301.11 2199.19,1301.11 2199.86,1301.11 2200.53,1301.11 2201.21,1301.11 2201.88,1301.11 2202.55,1301.11 2203.23,1301.11 2203.9,1301.11 2204.57,1301.11 \n",
       "  2205.25,1301.11 2205.92,1301.11 2206.6,1301.11 2207.27,1301.11 2207.94,1301.11 2208.62,1301.11 2209.29,1301.11 2209.96,1301.11 2210.64,1301.11 2211.31,1301.11 \n",
       "  2211.98,1301.11 2212.66,1301.11 2213.33,1301.11 2214.01,1301.11 2214.68,1301.11 2215.35,1301.11 2216.03,1301.11 2216.7,1301.11 2217.37,1301.11 2218.05,1301.11 \n",
       "  2218.72,1301.11 2219.39,1301.11 2220.07,1301.11 2220.74,1301.11 2221.42,1301.11 2222.09,1301.11 2222.76,1301.11 2223.44,1301.11 2224.11,1301.11 2224.78,1301.11 \n",
       "  2225.46,1301.11 2226.13,1301.11 2226.8,1301.11 2227.48,1301.11 2228.15,1301.11 2228.83,1301.11 2229.5,1301.11 2230.17,1301.11 2230.85,1301.11 2231.52,1301.11 \n",
       "  2232.19,1301.11 2232.87,1301.11 2233.54,1301.11 2234.21,1301.11 2234.89,1301.11 2235.56,1301.11 2236.24,1301.11 2236.91,1301.11 2237.58,1301.11 2238.26,1301.11 \n",
       "  2238.93,1301.11 2239.6,1301.11 2240.28,1301.11 2240.95,1301.11 2241.62,1301.11 2242.3,1301.11 2242.97,1301.11 2243.65,1301.11 2244.32,1301.11 2244.99,1301.11 \n",
       "  2245.67,1301.11 2246.34,1301.11 2247.01,1301.11 2247.69,1301.11 2248.36,1301.11 2249.03,1301.11 2249.71,1301.11 2250.38,1301.11 2251.06,1301.11 2251.73,1301.11 \n",
       "  2252.4,1301.11 2253.08,1301.11 2253.75,1301.11 2254.42,1301.11 2255.1,1301.11 2255.77,1301.11 2256.44,1301.11 2257.12,1301.11 2257.79,1301.11 2258.47,1301.11 \n",
       "  2259.14,1301.11 2259.81,1301.11 2260.49,1301.11 2261.16,1301.11 2261.83,1301.11 2262.51,1301.11 2263.18,1301.11 2263.85,1301.11 2264.53,1301.11 2265.2,1301.11 \n",
       "  2265.88,1301.11 2266.55,1301.11 2267.22,1301.11 2267.9,1301.11 2268.57,1301.11 2269.24,1301.11 2269.92,1301.11 2270.59,1301.11 2271.27,1301.11 2271.94,1301.11 \n",
       "  2272.61,1301.11 2273.29,1301.11 2273.96,1301.11 2274.63,1301.11 2275.31,1301.11 2275.98,1301.11 2276.65,1301.11 2277.33,1301.11 2278,1301.11 2278.68,1301.11 \n",
       "  2279.35,1301.11 2280.02,1301.11 2280.7,1301.11 2281.37,1301.11 2282.04,1301.11 2282.72,1301.11 2283.39,1301.11 2284.06,1301.11 2284.74,1301.11 2285.41,1301.11 \n",
       "  2286.09,1301.11 2286.76,1301.11 2287.43,1301.11 2288.11,1301.11 2288.78,1301.11 2289.45,1301.11 2290.13,1301.11 2290.8,1301.11 2291.47,1301.11 2292.15,1301.11 \n",
       "  \n",
       "  \"/>\n",
       "<path clip-path=\"url(#clip730)\" d=\"\n",
       "M1844.1 274.549 L2281.37 274.549 L2281.37 93.1086 L1844.1 93.1086  Z\n",
       "  \" fill=\"#ffffff\" fill-rule=\"evenodd\" fill-opacity=\"1\"/>\n",
       "<polyline clip-path=\"url(#clip730)\" style=\"stroke:#000000; stroke-width:4; stroke-opacity:1; fill:none\" points=\"\n",
       "  1844.1,274.549 2281.37,274.549 2281.37,93.1086 1844.1,93.1086 1844.1,274.549 \n",
       "  \"/>\n",
       "<polyline clip-path=\"url(#clip730)\" style=\"stroke:#009af9; stroke-width:4; stroke-opacity:1; fill:none\" points=\"\n",
       "  1867.9,153.589 2010.66,153.589 \n",
       "  \"/>\n",
       "<path clip-path=\"url(#clip730)\" d=\"M 0 0 M2047.65 170.869 L2034.46 136.309 L2039.34 136.309 L2050.29 165.406 L2061.26 136.309 L2066.12 136.309 L2052.95 170.869 L2047.65 170.869 Z\" fill=\"#000000\" fill-rule=\"evenodd\" fill-opacity=\"1\" /><path clip-path=\"url(#clip730)\" d=\"M 0 0 M2078.69 157.836 Q2073.53 157.836 2071.54 159.017 Q2069.55 160.197 2069.55 163.045 Q2069.55 165.313 2071.03 166.656 Q2072.54 167.975 2075.11 167.975 Q2078.65 167.975 2080.78 165.475 Q2082.93 162.952 2082.93 158.785 L2082.93 157.836 L2078.69 157.836 M2087.19 156.077 L2087.19 170.869 L2082.93 170.869 L2082.93 166.933 Q2081.47 169.295 2079.3 170.429 Q2077.12 171.54 2073.97 171.54 Q2069.99 171.54 2067.63 169.318 Q2065.29 167.072 2065.29 163.322 Q2065.29 158.947 2068.21 156.725 Q2071.15 154.503 2076.96 154.503 L2082.93 154.503 L2082.93 154.086 Q2082.93 151.147 2080.98 149.549 Q2079.06 147.929 2075.57 147.929 Q2073.35 147.929 2071.24 148.461 Q2069.13 148.994 2067.19 150.059 L2067.19 146.123 Q2069.53 145.221 2071.73 144.781 Q2073.92 144.318 2076.01 144.318 Q2081.63 144.318 2084.41 147.234 Q2087.19 150.151 2087.19 156.077 Z\" fill=\"#000000\" fill-rule=\"evenodd\" fill-opacity=\"1\" /><path clip-path=\"url(#clip730)\" d=\"M 0 0 M2091.66 134.85 L2095.92 134.85 L2095.92 170.869 L2091.66 170.869 L2091.66 134.85 Z\" fill=\"#000000\" fill-rule=\"evenodd\" fill-opacity=\"1\" /><path clip-path=\"url(#clip730)\" d=\"M 0 0 M2100.38 144.943 L2104.64 144.943 L2104.64 170.869 L2100.38 170.869 L2100.38 144.943 M2100.38 134.85 L2104.64 134.85 L2104.64 140.244 L2100.38 140.244 L2100.38 134.85 Z\" fill=\"#000000\" fill-rule=\"evenodd\" fill-opacity=\"1\" /><path clip-path=\"url(#clip730)\" d=\"M 0 0 M2126.17 148.878 L2126.17 134.85 L2130.43 134.85 L2130.43 170.869 L2126.17 170.869 L2126.17 166.98 Q2124.83 169.295 2122.77 170.429 Q2120.73 171.54 2117.86 171.54 Q2113.16 171.54 2110.2 167.79 Q2107.26 164.04 2107.26 157.929 Q2107.26 151.818 2110.2 148.068 Q2113.16 144.318 2117.86 144.318 Q2120.73 144.318 2122.77 145.452 Q2124.83 146.563 2126.17 148.878 M2111.66 157.929 Q2111.66 162.628 2113.58 165.313 Q2115.52 167.975 2118.9 167.975 Q2122.28 167.975 2124.23 165.313 Q2126.17 162.628 2126.17 157.929 Q2126.17 153.23 2124.23 150.568 Q2122.28 147.883 2118.9 147.883 Q2115.52 147.883 2113.58 150.568 Q2111.66 153.23 2111.66 157.929 Z\" fill=\"#000000\" fill-rule=\"evenodd\" fill-opacity=\"1\" /><path clip-path=\"url(#clip730)\" d=\"M 0 0 M2146.68 157.836 Q2141.52 157.836 2139.53 159.017 Q2137.54 160.197 2137.54 163.045 Q2137.54 165.313 2139.02 166.656 Q2140.52 167.975 2143.09 167.975 Q2146.63 167.975 2148.76 165.475 Q2150.92 162.952 2150.92 158.785 L2150.92 157.836 L2146.68 157.836 M2155.17 156.077 L2155.17 170.869 L2150.92 170.869 L2150.92 166.933 Q2149.46 169.295 2147.28 170.429 Q2145.1 171.54 2141.96 171.54 Q2137.98 171.54 2135.61 169.318 Q2133.28 167.072 2133.28 163.322 Q2133.28 158.947 2136.19 156.725 Q2139.13 154.503 2144.94 154.503 L2150.92 154.503 L2150.92 154.086 Q2150.92 151.147 2148.97 149.549 Q2147.05 147.929 2143.55 147.929 Q2141.33 147.929 2139.23 148.461 Q2137.12 148.994 2135.17 150.059 L2135.17 146.123 Q2137.51 145.221 2139.71 144.781 Q2141.91 144.318 2143.99 144.318 Q2149.62 144.318 2152.4 147.234 Q2155.17 150.151 2155.17 156.077 Z\" fill=\"#000000\" fill-rule=\"evenodd\" fill-opacity=\"1\" /><path clip-path=\"url(#clip730)\" d=\"M 0 0 M2163.85 137.582 L2163.85 144.943 L2172.63 144.943 L2172.63 148.253 L2163.85 148.253 L2163.85 162.327 Q2163.85 165.498 2164.71 166.401 Q2165.59 167.304 2168.25 167.304 L2172.63 167.304 L2172.63 170.869 L2168.25 170.869 Q2163.32 170.869 2161.45 169.04 Q2159.57 167.188 2159.57 162.327 L2159.57 148.253 L2156.45 148.253 L2156.45 144.943 L2159.57 144.943 L2159.57 137.582 L2163.85 137.582 Z\" fill=\"#000000\" fill-rule=\"evenodd\" fill-opacity=\"1\" /><path clip-path=\"url(#clip730)\" d=\"M 0 0 M2177.1 144.943 L2181.35 144.943 L2181.35 170.869 L2177.1 170.869 L2177.1 144.943 M2177.1 134.85 L2181.35 134.85 L2181.35 140.244 L2177.1 140.244 L2177.1 134.85 Z\" fill=\"#000000\" fill-rule=\"evenodd\" fill-opacity=\"1\" /><path clip-path=\"url(#clip730)\" d=\"M 0 0 M2195.87 147.929 Q2192.44 147.929 2190.45 150.614 Q2188.46 153.276 2188.46 157.929 Q2188.46 162.582 2190.43 165.267 Q2192.42 167.929 2195.87 167.929 Q2199.27 167.929 2201.26 165.244 Q2203.25 162.558 2203.25 157.929 Q2203.25 153.322 2201.26 150.637 Q2199.27 147.929 2195.87 147.929 M2195.87 144.318 Q2201.42 144.318 2204.6 147.929 Q2207.77 151.54 2207.77 157.929 Q2207.77 164.295 2204.6 167.929 Q2201.42 171.54 2195.87 171.54 Q2190.29 171.54 2187.12 167.929 Q2183.97 164.295 2183.97 157.929 Q2183.97 151.54 2187.12 147.929 Q2190.29 144.318 2195.87 144.318 Z\" fill=\"#000000\" fill-rule=\"evenodd\" fill-opacity=\"1\" /><path clip-path=\"url(#clip730)\" d=\"M 0 0 M2233.78 155.221 L2233.78 170.869 L2229.53 170.869 L2229.53 155.359 Q2229.53 151.679 2228.09 149.85 Q2226.66 148.022 2223.78 148.022 Q2220.34 148.022 2218.35 150.221 Q2216.35 152.42 2216.35 156.216 L2216.35 170.869 L2212.07 170.869 L2212.07 144.943 L2216.35 144.943 L2216.35 148.971 Q2217.88 146.633 2219.94 145.475 Q2222.03 144.318 2224.73 144.318 Q2229.2 144.318 2231.49 147.096 Q2233.78 149.85 2233.78 155.221 Z\" fill=\"#000000\" fill-rule=\"evenodd\" fill-opacity=\"1\" /><polyline clip-path=\"url(#clip730)\" style=\"stroke:#e26f46; stroke-width:4; stroke-opacity:1; fill:none\" points=\"\n",
       "  1867.9,214.069 2010.66,214.069 \n",
       "  \"/>\n",
       "<path clip-path=\"url(#clip730)\" d=\"M 0 0 M2034.46 196.789 L2063.69 196.789 L2063.69 200.724 L2051.42 200.724 L2051.42 231.349 L2046.73 231.349 L2046.73 200.724 L2034.46 200.724 L2034.46 196.789 Z\" fill=\"#000000\" fill-rule=\"evenodd\" fill-opacity=\"1\" /><path clip-path=\"url(#clip730)\" d=\"M 0 0 M2076.22 209.404 Q2075.5 208.988 2074.64 208.802 Q2073.81 208.594 2072.79 208.594 Q2069.18 208.594 2067.23 210.955 Q2065.31 213.293 2065.31 217.691 L2065.31 231.349 L2061.03 231.349 L2061.03 205.423 L2065.31 205.423 L2065.31 209.451 Q2066.66 207.089 2068.81 205.955 Q2070.96 204.798 2074.04 204.798 Q2074.48 204.798 2075.01 204.867 Q2075.55 204.914 2076.19 205.029 L2076.22 209.404 Z\" fill=\"#000000\" fill-rule=\"evenodd\" fill-opacity=\"1\" /><path clip-path=\"url(#clip730)\" d=\"M 0 0 M2092.47 218.316 Q2087.3 218.316 2085.31 219.497 Q2083.32 220.677 2083.32 223.525 Q2083.32 225.793 2084.8 227.136 Q2086.31 228.455 2088.88 228.455 Q2092.42 228.455 2094.55 225.955 Q2096.7 223.432 2096.7 219.265 L2096.7 218.316 L2092.47 218.316 M2100.96 216.557 L2100.96 231.349 L2096.7 231.349 L2096.7 227.413 Q2095.24 229.775 2093.07 230.909 Q2090.89 232.02 2087.74 232.02 Q2083.76 232.02 2081.4 229.798 Q2079.06 227.552 2079.06 223.802 Q2079.06 219.427 2081.98 217.205 Q2084.92 214.983 2090.73 214.983 L2096.7 214.983 L2096.7 214.566 Q2096.7 211.627 2094.76 210.029 Q2092.84 208.409 2089.34 208.409 Q2087.12 208.409 2085.01 208.941 Q2082.91 209.474 2080.96 210.539 L2080.96 206.603 Q2083.3 205.701 2085.5 205.261 Q2087.7 204.798 2089.78 204.798 Q2095.41 204.798 2098.18 207.714 Q2100.96 210.631 2100.96 216.557 Z\" fill=\"#000000\" fill-rule=\"evenodd\" fill-opacity=\"1\" /><path clip-path=\"url(#clip730)\" d=\"M 0 0 M2105.43 205.423 L2109.69 205.423 L2109.69 231.349 L2105.43 231.349 L2105.43 205.423 M2105.43 195.33 L2109.69 195.33 L2109.69 200.724 L2105.43 200.724 L2105.43 195.33 Z\" fill=\"#000000\" fill-rule=\"evenodd\" fill-opacity=\"1\" /><path clip-path=\"url(#clip730)\" d=\"M 0 0 M2135.71 215.701 L2135.71 231.349 L2131.45 231.349 L2131.45 215.839 Q2131.45 212.159 2130.01 210.33 Q2128.58 208.502 2125.71 208.502 Q2122.26 208.502 2120.27 210.701 Q2118.28 212.9 2118.28 216.696 L2118.28 231.349 L2113.99 231.349 L2113.99 205.423 L2118.28 205.423 L2118.28 209.451 Q2119.8 207.113 2121.86 205.955 Q2123.95 204.798 2126.66 204.798 Q2131.12 204.798 2133.42 207.576 Q2135.71 210.33 2135.71 215.701 Z\" fill=\"#000000\" fill-rule=\"evenodd\" fill-opacity=\"1\" /><path clip-path=\"url(#clip730)\" d=\"M 0 0 M2140.17 205.423 L2144.43 205.423 L2144.43 231.349 L2140.17 231.349 L2140.17 205.423 M2140.17 195.33 L2144.43 195.33 L2144.43 200.724 L2140.17 200.724 L2140.17 195.33 Z\" fill=\"#000000\" fill-rule=\"evenodd\" fill-opacity=\"1\" /><path clip-path=\"url(#clip730)\" d=\"M 0 0 M2170.45 215.701 L2170.45 231.349 L2166.19 231.349 L2166.19 215.839 Q2166.19 212.159 2164.76 210.33 Q2163.32 208.502 2160.45 208.502 Q2157 208.502 2155.01 210.701 Q2153.02 212.9 2153.02 216.696 L2153.02 231.349 L2148.74 231.349 L2148.74 205.423 L2153.02 205.423 L2153.02 209.451 Q2154.55 207.113 2156.61 205.955 Q2158.69 204.798 2161.4 204.798 Q2165.87 204.798 2168.16 207.576 Q2170.45 210.33 2170.45 215.701 Z\" fill=\"#000000\" fill-rule=\"evenodd\" fill-opacity=\"1\" /><path clip-path=\"url(#clip730)\" d=\"M 0 0 M2191.98 218.085 Q2191.98 213.455 2190.06 210.909 Q2188.16 208.363 2184.71 208.363 Q2181.29 208.363 2179.36 210.909 Q2177.47 213.455 2177.47 218.085 Q2177.47 222.691 2179.36 225.238 Q2181.29 227.784 2184.71 227.784 Q2188.16 227.784 2190.06 225.238 Q2191.98 222.691 2191.98 218.085 M2196.24 228.131 Q2196.24 234.751 2193.3 237.969 Q2190.36 241.21 2184.29 241.21 Q2182.05 241.21 2180.06 240.862 Q2178.07 240.538 2176.19 239.844 L2176.19 235.7 Q2178.07 236.719 2179.9 237.205 Q2181.73 237.691 2183.62 237.691 Q2187.81 237.691 2189.9 235.492 Q2191.98 233.316 2191.98 228.895 L2191.98 226.788 Q2190.66 229.08 2188.6 230.214 Q2186.54 231.349 2183.67 231.349 Q2178.9 231.349 2175.98 227.714 Q2173.07 224.08 2173.07 218.085 Q2173.07 212.066 2175.98 208.432 Q2178.9 204.798 2183.67 204.798 Q2186.54 204.798 2188.6 205.932 Q2190.66 207.066 2191.98 209.358 L2191.98 205.423 L2196.24 205.423 L2196.24 228.131 Z\" fill=\"#000000\" fill-rule=\"evenodd\" fill-opacity=\"1\" /></svg>\n"
      ]
     },
     "execution_count": 102,
     "metadata": {},
     "output_type": "execute_result"
    }
   ],
   "source": [
    "plot(curve.parameter_values,\n",
    "     curve.measurements,\n",
    "     xlab=curve.parameter_name,\n",
    "     ylab=\"Cross Entropy\",\n",
    "     label=\"Validation\", lw=2)\n",
    "plot!(Net.report.training_losses, label=\"Training\", lw=2)"
   ]
  },
  {
   "cell_type": "code",
   "execution_count": 103,
   "metadata": {},
   "outputs": [
    {
     "data": {
      "text/plain": [
       "2455"
      ]
     },
     "execution_count": 103,
     "metadata": {},
     "output_type": "execute_result"
    }
   ],
   "source": [
    "best_epochs = curve.parameter_values[argmin(curve.measurements)]"
   ]
  },
  {
   "cell_type": "code",
   "execution_count": 104,
   "metadata": {},
   "outputs": [],
   "source": [
    "png(\"Figures/NN_LC_iterations\")"
   ]
  },
  {
   "cell_type": "markdown",
   "metadata": {},
   "source": [
    "# Final Results"
   ]
  },
  {
   "cell_type": "code",
   "execution_count": 82,
   "metadata": {
    "scrolled": true
   },
   "outputs": [
    {
     "data": {
      "text/plain": [
       "NeuralNetworkClassifier(\n",
       "    builder = CustomNN(\n",
       "            n1 = 123),\n",
       "    finaliser = NNlib.softmax,\n",
       "    optimiser = ADAM(0.001, (0.9, 0.999), IdDict{Any,Any}()),\n",
       "    loss = Flux.crossentropy,\n",
       "    epochs = 10,\n",
       "    batch_size = 1,\n",
       "    lambda = 0.0,\n",
       "    alpha = 0.0,\n",
       "    optimiser_changes_trigger_retraining = false)\u001b[34m @280\u001b[39m"
      ]
     },
     "execution_count": 82,
     "metadata": {},
     "output_type": "execute_result"
    }
   ],
   "source": [
    "final_model = NeuralNetworkClassifier(builder=CustomNN(best_n1))"
   ]
  },
  {
   "cell_type": "code",
   "execution_count": 83,
   "metadata": {},
   "outputs": [
    {
     "data": {
      "text/plain": [
       "3000"
      ]
     },
     "execution_count": 83,
     "metadata": {},
     "output_type": "execute_result"
    }
   ],
   "source": [
    "final_model.optimiser.eta = lc_model.optimiser.eta = best_eta;\n",
    "final_model.batch_size = batch_sz\n",
    "final_model.lambda = best_lambda\n",
    "final_model.epochs = max_epochs"
   ]
  },
  {
   "cell_type": "markdown",
   "metadata": {},
   "source": [
    "### Test Performance"
   ]
  },
  {
   "cell_type": "code",
   "execution_count": 84,
   "metadata": {},
   "outputs": [
    {
     "data": {
      "text/plain": [
       "\u001b[34mMachine{NeuralNetworkClassifier{CustomNN,…}} @217\u001b[39m trained 0 times.\n",
       "  args: \n",
       "    1:\t\u001b[34mSource @842\u001b[39m ⏎ `Table{AbstractArray{Continuous,1}}`\n",
       "    2:\t\u001b[34mSource @886\u001b[39m ⏎ `AbstractArray{Multiclass{3},1}`\n"
      ]
     },
     "execution_count": 84,
     "metadata": {},
     "output_type": "execute_result"
    }
   ],
   "source": [
    "Final_Net = machine(final_model, X, y)"
   ]
  },
  {
   "cell_type": "code",
   "execution_count": 85,
   "metadata": {
    "scrolled": false
   },
   "outputs": [
    {
     "name": "stderr",
     "output_type": "stream",
     "text": [
      "┌ Info: Training \u001b[34mMachine{NeuralNetworkClassifier{CustomNN,…}} @217\u001b[39m.\n",
      "└ @ MLJBase /home/andrew/.julia/packages/MLJBase/uKzAz/src/machines.jl:319\n",
      "\u001b[33mOptimising neural net:100%[=========================] Time: 0:00:12\u001b[39m\n"
     ]
    },
    {
     "data": {
      "text/plain": [
       "\u001b[34mMachine{NeuralNetworkClassifier{CustomNN,…}} @217\u001b[39m trained 1 time.\n",
       "  args: \n",
       "    1:\t\u001b[34mSource @842\u001b[39m ⏎ `Table{AbstractArray{Continuous,1}}`\n",
       "    2:\t\u001b[34mSource @886\u001b[39m ⏎ `AbstractArray{Multiclass{3},1}`\n"
      ]
     },
     "execution_count": 85,
     "metadata": {},
     "output_type": "execute_result"
    }
   ],
   "source": [
    "fit!(Final_Net, rows=train, force=true, verbosity=1)"
   ]
  },
  {
   "cell_type": "code",
   "execution_count": 86,
   "metadata": {},
   "outputs": [
    {
     "name": "stderr",
     "output_type": "stream",
     "text": [
      "\u001b[33mEvaluating over 6 folds: 100%[=========================] Time: 0:01:26\u001b[39m\n"
     ]
    },
    {
     "data": {
      "text/plain": [
       "┌\u001b[0m───────────────\u001b[0m┬\u001b[0m───────────────\u001b[0m┬\u001b[0m───────────────────────────────────────────────────\u001b[0m┐\u001b[0m\n",
       "│\u001b[0m\u001b[22m _.measure     \u001b[0m│\u001b[0m\u001b[22m _.measurement \u001b[0m│\u001b[0m\u001b[22m _.per_fold                                        \u001b[0m│\u001b[0m\n",
       "├\u001b[0m───────────────\u001b[0m┼\u001b[0m───────────────\u001b[0m┼\u001b[0m───────────────────────────────────────────────────\u001b[0m┤\u001b[0m\n",
       "│\u001b[0m cross_entropy \u001b[0m│\u001b[0m 0.589         \u001b[0m│\u001b[0m Float32[0.572, 0.566, 0.562, 0.618, 0.615, 0.599] \u001b[0m│\u001b[0m\n",
       "│\u001b[0m acc           \u001b[0m│\u001b[0m 0.957         \u001b[0m│\u001b[0m [0.981, 0.99, 0.99, 0.923, 0.913, 0.942]          \u001b[0m│\u001b[0m\n",
       "└\u001b[0m───────────────\u001b[0m┴\u001b[0m───────────────\u001b[0m┴\u001b[0m───────────────────────────────────────────────────\u001b[0m┘\u001b[0m\n",
       "_.per_observation = [[[0.551, 0.551, ..., 0.551], [0.551, 0.551, ..., 0.551], [0.551, 0.551, ..., 0.551], [0.551, 0.551, ..., 1.02], [1.09, 0.551, ..., 0.551], [1.1, 1.1, ..., 0.551]], missing]\n",
       "_.fitted_params_per_fold = [ … ]\n",
       "_.report_per_fold = [ … ]\n"
      ]
     },
     "execution_count": 86,
     "metadata": {},
     "output_type": "execute_result"
    }
   ],
   "source": [
    "nn_acc = evaluate!(Final_Net, resampling=CV(shuffle=true), measure=[cross_entropy, acc], verbosity=1)"
   ]
  },
  {
   "cell_type": "code",
   "execution_count": 87,
   "metadata": {},
   "outputs": [],
   "source": [
    "ŷ = MLJ.predict(Final_Net, X[test,:]);"
   ]
  },
  {
   "cell_type": "code",
   "execution_count": 88,
   "metadata": {},
   "outputs": [
    {
     "data": {
      "text/plain": [
       "0.6010613f0"
      ]
     },
     "execution_count": 88,
     "metadata": {},
     "output_type": "execute_result"
    }
   ],
   "source": [
    "cross_entropy(ŷ, y[test]) |> mean"
   ]
  },
  {
   "cell_type": "code",
   "execution_count": 89,
   "metadata": {},
   "outputs": [
    {
     "data": {
      "text/plain": [
       "0.93048128342246"
      ]
     },
     "execution_count": 89,
     "metadata": {},
     "output_type": "execute_result"
    }
   ],
   "source": [
    "acc(ŷ, y[test])"
   ]
  },
  {
   "cell_type": "code",
   "execution_count": 90,
   "metadata": {},
   "outputs": [
    {
     "name": "stderr",
     "output_type": "stream",
     "text": [
      "┌ Warning: The classes are un-ordered,\n",
      "│ using order: [\"B\", \"L\", \"R\"].\n",
      "│ To suppress this warning, consider coercing to OrderedFactor.\n",
      "└ @ MLJBase /home/andrew/.julia/packages/MLJBase/uKzAz/src/measures/confusion_matrix.jl:87\n"
     ]
    },
    {
     "data": {
      "text/plain": [
       "              ┌─────────────────────────────────────────┐\n",
       "              │              Ground Truth               │\n",
       "┌─────────────┼─────────────┬─────────────┬─────────────┤\n",
       "│  Predicted  │      B      │      L      │      R      │\n",
       "├─────────────┼─────────────┼─────────────┼─────────────┤\n",
       "│      B      │      3      │      0      │      0      │\n",
       "├─────────────┼─────────────┼─────────────┼─────────────┤\n",
       "│      L      │      7      │     85      │      0      │\n",
       "├─────────────┼─────────────┼─────────────┼─────────────┤\n",
       "│      R      │      5      │      1      │     86      │\n",
       "└─────────────┴─────────────┴─────────────┴─────────────┘\n"
      ]
     },
     "execution_count": 90,
     "metadata": {},
     "output_type": "execute_result"
    }
   ],
   "source": [
    "c = confusion_matrix(mode.(ŷ), y[test])"
   ]
  },
  {
   "cell_type": "code",
   "execution_count": 105,
   "metadata": {},
   "outputs": [
    {
     "data": {
      "text/plain": [
       "0.011627906976744186"
      ]
     },
     "execution_count": 105,
     "metadata": {},
     "output_type": "execute_result"
    }
   ],
   "source": [
    "1/(86)"
   ]
  },
  {
   "cell_type": "code",
   "execution_count": 107,
   "metadata": {},
   "outputs": [
    {
     "data": {
      "text/plain": [
       "0.8"
      ]
     },
     "execution_count": 107,
     "metadata": {},
     "output_type": "execute_result"
    }
   ],
   "source": [
    "(7+5)/(7+5+3)"
   ]
  },
  {
   "cell_type": "code",
   "execution_count": 95,
   "metadata": {},
   "outputs": [
    {
     "data": {
      "text/plain": [
       "32"
      ]
     },
     "execution_count": 95,
     "metadata": {},
     "output_type": "execute_result"
    }
   ],
   "source": [
    "batch_sz"
   ]
  },
  {
   "cell_type": "code",
   "execution_count": 96,
   "metadata": {},
   "outputs": [
    {
     "data": {
      "text/plain": [
       "0.02154"
      ]
     },
     "execution_count": 96,
     "metadata": {},
     "output_type": "execute_result"
    }
   ],
   "source": [
    "best_eta"
   ]
  },
  {
   "cell_type": "code",
   "execution_count": 97,
   "metadata": {},
   "outputs": [
    {
     "data": {
      "text/plain": [
       "467"
      ]
     },
     "execution_count": 97,
     "metadata": {},
     "output_type": "execute_result"
    }
   ],
   "source": [
    "best_epochs"
   ]
  },
  {
   "cell_type": "code",
   "execution_count": null,
   "metadata": {},
   "outputs": [],
   "source": []
  },
  {
   "cell_type": "code",
   "execution_count": null,
   "metadata": {},
   "outputs": [],
   "source": []
  }
 ],
 "metadata": {
  "kernelspec": {
   "display_name": "Julia 1.5.0",
   "language": "julia",
   "name": "julia-1.5"
  },
  "language_info": {
   "file_extension": ".jl",
   "mimetype": "application/julia",
   "name": "julia",
   "version": "1.5.0"
  }
 },
 "nbformat": 4,
 "nbformat_minor": 4
}
