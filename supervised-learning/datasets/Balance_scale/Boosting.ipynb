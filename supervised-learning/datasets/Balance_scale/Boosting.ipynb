{
 "cells": [
  {
   "cell_type": "markdown",
   "metadata": {},
   "source": [
    "# Imports"
   ]
  },
  {
   "cell_type": "code",
   "execution_count": 47,
   "metadata": {},
   "outputs": [],
   "source": [
    "using DataFrames\n",
    "using CSV\n",
    "using MLJ\n",
    "using Plots\n",
    "using StatsBase\n",
    "\n",
    "include(\"../../lib.jl\")\n",
    "\n",
    "ENV[\"LINES\"]=30;"
   ]
  },
  {
   "cell_type": "markdown",
   "metadata": {},
   "source": [
    "# Dataset"
   ]
  },
  {
   "cell_type": "code",
   "execution_count": 3,
   "metadata": {
    "scrolled": true
   },
   "outputs": [
    {
     "data": {
      "text/html": [
       "<table class=\"data-frame\"><thead><tr><th></th><th>Class_Name</th><th>Left_Weight</th><th>Left_Distance</th><th>Right_Weight</th><th>Right_Distance</th></tr><tr><th></th><th>String</th><th>Int64</th><th>Int64</th><th>Int64</th><th>Int64</th></tr></thead><tbody><p>625 rows × 5 columns</p><tr><th>1</th><td>B</td><td>1</td><td>1</td><td>1</td><td>1</td></tr><tr><th>2</th><td>R</td><td>1</td><td>1</td><td>1</td><td>2</td></tr><tr><th>3</th><td>R</td><td>1</td><td>1</td><td>1</td><td>3</td></tr><tr><th>4</th><td>R</td><td>1</td><td>1</td><td>1</td><td>4</td></tr><tr><th>5</th><td>R</td><td>1</td><td>1</td><td>1</td><td>5</td></tr><tr><th>6</th><td>R</td><td>1</td><td>1</td><td>2</td><td>1</td></tr><tr><th>7</th><td>R</td><td>1</td><td>1</td><td>2</td><td>2</td></tr><tr><th>8</th><td>R</td><td>1</td><td>1</td><td>2</td><td>3</td></tr><tr><th>9</th><td>R</td><td>1</td><td>1</td><td>2</td><td>4</td></tr><tr><th>10</th><td>R</td><td>1</td><td>1</td><td>2</td><td>5</td></tr><tr><th>11</th><td>R</td><td>1</td><td>1</td><td>3</td><td>1</td></tr><tr><th>12</th><td>R</td><td>1</td><td>1</td><td>3</td><td>2</td></tr><tr><th>13</th><td>R</td><td>1</td><td>1</td><td>3</td><td>3</td></tr><tr><th>14</th><td>R</td><td>1</td><td>1</td><td>3</td><td>4</td></tr><tr><th>15</th><td>R</td><td>1</td><td>1</td><td>3</td><td>5</td></tr><tr><th>16</th><td>R</td><td>1</td><td>1</td><td>4</td><td>1</td></tr><tr><th>17</th><td>R</td><td>1</td><td>1</td><td>4</td><td>2</td></tr><tr><th>18</th><td>R</td><td>1</td><td>1</td><td>4</td><td>3</td></tr><tr><th>19</th><td>R</td><td>1</td><td>1</td><td>4</td><td>4</td></tr><tr><th>20</th><td>R</td><td>1</td><td>1</td><td>4</td><td>5</td></tr><tr><th>21</th><td>R</td><td>1</td><td>1</td><td>5</td><td>1</td></tr><tr><th>22</th><td>R</td><td>1</td><td>1</td><td>5</td><td>2</td></tr><tr><th>23</th><td>R</td><td>1</td><td>1</td><td>5</td><td>3</td></tr><tr><th>24</th><td>R</td><td>1</td><td>1</td><td>5</td><td>4</td></tr><tr><th>25</th><td>R</td><td>1</td><td>1</td><td>5</td><td>5</td></tr><tr><th>26</th><td>L</td><td>1</td><td>2</td><td>1</td><td>1</td></tr><tr><th>27</th><td>B</td><td>1</td><td>2</td><td>1</td><td>2</td></tr><tr><th>28</th><td>R</td><td>1</td><td>2</td><td>1</td><td>3</td></tr><tr><th>29</th><td>R</td><td>1</td><td>2</td><td>1</td><td>4</td></tr><tr><th>30</th><td>R</td><td>1</td><td>2</td><td>1</td><td>5</td></tr><tr><th>&vellip;</th><td>&vellip;</td><td>&vellip;</td><td>&vellip;</td><td>&vellip;</td><td>&vellip;</td></tr></tbody></table>"
      ],
      "text/latex": [
       "\\begin{tabular}{r|ccccc}\n",
       "\t& Class\\_Name & Left\\_Weight & Left\\_Distance & Right\\_Weight & Right\\_Distance\\\\\n",
       "\t\\hline\n",
       "\t& String & Int64 & Int64 & Int64 & Int64\\\\\n",
       "\t\\hline\n",
       "\t1 & B & 1 & 1 & 1 & 1 \\\\\n",
       "\t2 & R & 1 & 1 & 1 & 2 \\\\\n",
       "\t3 & R & 1 & 1 & 1 & 3 \\\\\n",
       "\t4 & R & 1 & 1 & 1 & 4 \\\\\n",
       "\t5 & R & 1 & 1 & 1 & 5 \\\\\n",
       "\t6 & R & 1 & 1 & 2 & 1 \\\\\n",
       "\t7 & R & 1 & 1 & 2 & 2 \\\\\n",
       "\t8 & R & 1 & 1 & 2 & 3 \\\\\n",
       "\t9 & R & 1 & 1 & 2 & 4 \\\\\n",
       "\t10 & R & 1 & 1 & 2 & 5 \\\\\n",
       "\t11 & R & 1 & 1 & 3 & 1 \\\\\n",
       "\t12 & R & 1 & 1 & 3 & 2 \\\\\n",
       "\t13 & R & 1 & 1 & 3 & 3 \\\\\n",
       "\t14 & R & 1 & 1 & 3 & 4 \\\\\n",
       "\t15 & R & 1 & 1 & 3 & 5 \\\\\n",
       "\t16 & R & 1 & 1 & 4 & 1 \\\\\n",
       "\t17 & R & 1 & 1 & 4 & 2 \\\\\n",
       "\t18 & R & 1 & 1 & 4 & 3 \\\\\n",
       "\t19 & R & 1 & 1 & 4 & 4 \\\\\n",
       "\t20 & R & 1 & 1 & 4 & 5 \\\\\n",
       "\t21 & R & 1 & 1 & 5 & 1 \\\\\n",
       "\t22 & R & 1 & 1 & 5 & 2 \\\\\n",
       "\t23 & R & 1 & 1 & 5 & 3 \\\\\n",
       "\t24 & R & 1 & 1 & 5 & 4 \\\\\n",
       "\t25 & R & 1 & 1 & 5 & 5 \\\\\n",
       "\t26 & L & 1 & 2 & 1 & 1 \\\\\n",
       "\t27 & B & 1 & 2 & 1 & 2 \\\\\n",
       "\t28 & R & 1 & 2 & 1 & 3 \\\\\n",
       "\t29 & R & 1 & 2 & 1 & 4 \\\\\n",
       "\t30 & R & 1 & 2 & 1 & 5 \\\\\n",
       "\t$\\dots$ & $\\dots$ & $\\dots$ & $\\dots$ & $\\dots$ & $\\dots$ \\\\\n",
       "\\end{tabular}\n"
      ],
      "text/plain": [
       "625×5 DataFrame. Omitted printing of 1 columns\n",
       "│ Row │ Class_Name │ Left_Weight │ Left_Distance │ Right_Weight │\n",
       "│     │ \u001b[90mString\u001b[39m     │ \u001b[90mInt64\u001b[39m       │ \u001b[90mInt64\u001b[39m         │ \u001b[90mInt64\u001b[39m        │\n",
       "├─────┼────────────┼─────────────┼───────────────┼──────────────┤\n",
       "│ 1   │ B          │ 1           │ 1             │ 1            │\n",
       "│ 2   │ R          │ 1           │ 1             │ 1            │\n",
       "│ 3   │ R          │ 1           │ 1             │ 1            │\n",
       "│ 4   │ R          │ 1           │ 1             │ 1            │\n",
       "│ 5   │ R          │ 1           │ 1             │ 1            │\n",
       "│ 6   │ R          │ 1           │ 1             │ 2            │\n",
       "│ 7   │ R          │ 1           │ 1             │ 2            │\n",
       "│ 8   │ R          │ 1           │ 1             │ 2            │\n",
       "│ 9   │ R          │ 1           │ 1             │ 2            │\n",
       "│ 10  │ R          │ 1           │ 1             │ 2            │\n",
       "⋮\n",
       "│ 615 │ L          │ 5           │ 5             │ 3            │\n",
       "│ 616 │ L          │ 5           │ 5             │ 4            │\n",
       "│ 617 │ L          │ 5           │ 5             │ 4            │\n",
       "│ 618 │ L          │ 5           │ 5             │ 4            │\n",
       "│ 619 │ L          │ 5           │ 5             │ 4            │\n",
       "│ 620 │ L          │ 5           │ 5             │ 4            │\n",
       "│ 621 │ L          │ 5           │ 5             │ 5            │\n",
       "│ 622 │ L          │ 5           │ 5             │ 5            │\n",
       "│ 623 │ L          │ 5           │ 5             │ 5            │\n",
       "│ 624 │ L          │ 5           │ 5             │ 5            │\n",
       "│ 625 │ B          │ 5           │ 5             │ 5            │"
      ]
     },
     "execution_count": 3,
     "metadata": {},
     "output_type": "execute_result"
    }
   ],
   "source": [
    "data = CSV.read(\"./data.csv\")"
   ]
  },
  {
   "cell_type": "code",
   "execution_count": 4,
   "metadata": {},
   "outputs": [
    {
     "data": {
      "text/html": [
       "<table class=\"data-frame\"><thead><tr><th></th><th>variable</th><th>mean</th><th>min</th><th>median</th><th>max</th><th>nunique</th><th>nmissing</th><th>eltype</th></tr><tr><th></th><th>Symbol</th><th>Union…</th><th>Any</th><th>Union…</th><th>Any</th><th>Union…</th><th>Nothing</th><th>DataType</th></tr></thead><tbody><p>5 rows × 8 columns</p><tr><th>1</th><td>Class_Name</td><td></td><td>B</td><td></td><td>R</td><td>3</td><td></td><td>String</td></tr><tr><th>2</th><td>Left_Weight</td><td>3.0</td><td>1</td><td>3.0</td><td>5</td><td></td><td></td><td>Int64</td></tr><tr><th>3</th><td>Left_Distance</td><td>3.0</td><td>1</td><td>3.0</td><td>5</td><td></td><td></td><td>Int64</td></tr><tr><th>4</th><td>Right_Weight</td><td>3.0</td><td>1</td><td>3.0</td><td>5</td><td></td><td></td><td>Int64</td></tr><tr><th>5</th><td>Right_Distance</td><td>3.0</td><td>1</td><td>3.0</td><td>5</td><td></td><td></td><td>Int64</td></tr></tbody></table>"
      ],
      "text/latex": [
       "\\begin{tabular}{r|cccccccc}\n",
       "\t& variable & mean & min & median & max & nunique & nmissing & eltype\\\\\n",
       "\t\\hline\n",
       "\t& Symbol & Union… & Any & Union… & Any & Union… & Nothing & DataType\\\\\n",
       "\t\\hline\n",
       "\t1 & Class\\_Name &  & B &  & R & 3 &  & String \\\\\n",
       "\t2 & Left\\_Weight & 3.0 & 1 & 3.0 & 5 &  &  & Int64 \\\\\n",
       "\t3 & Left\\_Distance & 3.0 & 1 & 3.0 & 5 &  &  & Int64 \\\\\n",
       "\t4 & Right\\_Weight & 3.0 & 1 & 3.0 & 5 &  &  & Int64 \\\\\n",
       "\t5 & Right\\_Distance & 3.0 & 1 & 3.0 & 5 &  &  & Int64 \\\\\n",
       "\\end{tabular}\n"
      ],
      "text/plain": [
       "5×8 DataFrame. Omitted printing of 1 columns\n",
       "│ Row │ variable       │ mean   │ min │ median │ max │ nunique │ nmissing │\n",
       "│     │ \u001b[90mSymbol\u001b[39m         │ \u001b[90mUnion…\u001b[39m │ \u001b[90mAny\u001b[39m │ \u001b[90mUnion…\u001b[39m │ \u001b[90mAny\u001b[39m │ \u001b[90mUnion…\u001b[39m  │ \u001b[90mNothing\u001b[39m  │\n",
       "├─────┼────────────────┼────────┼─────┼────────┼─────┼─────────┼──────────┤\n",
       "│ 1   │ Class_Name     │        │ B   │        │ R   │ 3       │          │\n",
       "│ 2   │ Left_Weight    │ 3.0    │ 1   │ 3.0    │ 5   │         │          │\n",
       "│ 3   │ Left_Distance  │ 3.0    │ 1   │ 3.0    │ 5   │         │          │\n",
       "│ 4   │ Right_Weight   │ 3.0    │ 1   │ 3.0    │ 5   │         │          │\n",
       "│ 5   │ Right_Distance │ 3.0    │ 1   │ 3.0    │ 5   │         │          │"
      ]
     },
     "execution_count": 4,
     "metadata": {},
     "output_type": "execute_result"
    }
   ],
   "source": [
    "describe(data)"
   ]
  },
  {
   "cell_type": "markdown",
   "metadata": {},
   "source": [
    "Look at class labels to see if dataset is imbalanced"
   ]
  },
  {
   "cell_type": "code",
   "execution_count": 5,
   "metadata": {},
   "outputs": [
    {
     "data": {
      "text/plain": [
       "Dict{String,Int64} with 3 entries:\n",
       "  \"B\" => 49\n",
       "  \"L\" => 288\n",
       "  \"R\" => 288"
      ]
     },
     "execution_count": 5,
     "metadata": {},
     "output_type": "execute_result"
    }
   ],
   "source": [
    "label_counts = countmap(data[:(Class_Name)])"
   ]
  },
  {
   "cell_type": "code",
   "execution_count": 6,
   "metadata": {},
   "outputs": [
    {
     "data": {
      "text/plain": [
       "3-element Array{Float64,1}:\n",
       " 0.0784\n",
       " 0.4608\n",
       " 0.4608"
      ]
     },
     "execution_count": 6,
     "metadata": {},
     "output_type": "execute_result"
    }
   ],
   "source": [
    "collect(label_counts[i] / size(data)[1] for i in keys(label_counts))"
   ]
  },
  {
   "cell_type": "markdown",
   "metadata": {},
   "source": [
    "Get data ready for training"
   ]
  },
  {
   "cell_type": "code",
   "execution_count": 7,
   "metadata": {},
   "outputs": [
    {
     "data": {
      "text/plain": [
       "┌\u001b[0m────────────────\u001b[0m┬\u001b[0m─────────────────────────────────\u001b[0m┬\u001b[0m───────────────\u001b[0m┐\u001b[0m\n",
       "│\u001b[0m\u001b[22m _.names        \u001b[0m│\u001b[0m\u001b[22m _.types                         \u001b[0m│\u001b[0m\u001b[22m _.scitypes    \u001b[0m│\u001b[0m\n",
       "├\u001b[0m────────────────\u001b[0m┼\u001b[0m─────────────────────────────────\u001b[0m┼\u001b[0m───────────────\u001b[0m┤\u001b[0m\n",
       "│\u001b[0m Class_Name     \u001b[0m│\u001b[0m CategoricalValue{String,UInt32} \u001b[0m│\u001b[0m Multiclass{3} \u001b[0m│\u001b[0m\n",
       "│\u001b[0m Left_Weight    \u001b[0m│\u001b[0m Float64                         \u001b[0m│\u001b[0m Continuous    \u001b[0m│\u001b[0m\n",
       "│\u001b[0m Left_Distance  \u001b[0m│\u001b[0m Float64                         \u001b[0m│\u001b[0m Continuous    \u001b[0m│\u001b[0m\n",
       "│\u001b[0m Right_Weight   \u001b[0m│\u001b[0m Float64                         \u001b[0m│\u001b[0m Continuous    \u001b[0m│\u001b[0m\n",
       "│\u001b[0m Right_Distance \u001b[0m│\u001b[0m Float64                         \u001b[0m│\u001b[0m Continuous    \u001b[0m│\u001b[0m\n",
       "└\u001b[0m────────────────\u001b[0m┴\u001b[0m─────────────────────────────────\u001b[0m┴\u001b[0m───────────────\u001b[0m┘\u001b[0m\n",
       "_.nrows = 625\n"
      ]
     },
     "execution_count": 7,
     "metadata": {},
     "output_type": "execute_result"
    }
   ],
   "source": [
    "coerce!(data, :Class_Name=>Multiclass,\n",
    "              :Left_Weight=>Continuous,\n",
    "              :Right_Weight=>Continuous,\n",
    "              :Left_Distance=>Continuous,\n",
    "              :Right_Distance=>Continuous)\n",
    "schema(data)"
   ]
  },
  {
   "cell_type": "code",
   "execution_count": 8,
   "metadata": {
    "scrolled": false
   },
   "outputs": [
    {
     "data": {
      "text/plain": [
       "(CategoricalValue{String,UInt32}[\"B\", \"R\", \"R\", \"R\", \"R\", \"R\", \"R\", \"R\", \"R\", \"R\"  …  \"L\", \"L\", \"L\", \"L\", \"L\", \"L\", \"L\", \"L\", \"L\", \"B\"], 625×4 DataFrame\n",
       "│ Row │ Left_Weight │ Left_Distance │ Right_Weight │ Right_Distance │\n",
       "│     │ \u001b[90mFloat64\u001b[39m     │ \u001b[90mFloat64\u001b[39m       │ \u001b[90mFloat64\u001b[39m      │ \u001b[90mFloat64\u001b[39m        │\n",
       "├─────┼─────────────┼───────────────┼──────────────┼────────────────┤\n",
       "│ 1   │ 1.0         │ 1.0           │ 1.0          │ 1.0            │\n",
       "│ 2   │ 1.0         │ 1.0           │ 1.0          │ 2.0            │\n",
       "│ 3   │ 1.0         │ 1.0           │ 1.0          │ 3.0            │\n",
       "│ 4   │ 1.0         │ 1.0           │ 1.0          │ 4.0            │\n",
       "│ 5   │ 1.0         │ 1.0           │ 1.0          │ 5.0            │\n",
       "│ 6   │ 1.0         │ 1.0           │ 2.0          │ 1.0            │\n",
       "│ 7   │ 1.0         │ 1.0           │ 2.0          │ 2.0            │\n",
       "│ 8   │ 1.0         │ 1.0           │ 2.0          │ 3.0            │\n",
       "│ 9   │ 1.0         │ 1.0           │ 2.0          │ 4.0            │\n",
       "│ 10  │ 1.0         │ 1.0           │ 2.0          │ 5.0            │\n",
       "⋮\n",
       "│ 615 │ 5.0         │ 5.0           │ 3.0          │ 5.0            │\n",
       "│ 616 │ 5.0         │ 5.0           │ 4.0          │ 1.0            │\n",
       "│ 617 │ 5.0         │ 5.0           │ 4.0          │ 2.0            │\n",
       "│ 618 │ 5.0         │ 5.0           │ 4.0          │ 3.0            │\n",
       "│ 619 │ 5.0         │ 5.0           │ 4.0          │ 4.0            │\n",
       "│ 620 │ 5.0         │ 5.0           │ 4.0          │ 5.0            │\n",
       "│ 621 │ 5.0         │ 5.0           │ 5.0          │ 1.0            │\n",
       "│ 622 │ 5.0         │ 5.0           │ 5.0          │ 2.0            │\n",
       "│ 623 │ 5.0         │ 5.0           │ 5.0          │ 3.0            │\n",
       "│ 624 │ 5.0         │ 5.0           │ 5.0          │ 4.0            │\n",
       "│ 625 │ 5.0         │ 5.0           │ 5.0          │ 5.0            │)"
      ]
     },
     "execution_count": 8,
     "metadata": {},
     "output_type": "execute_result"
    }
   ],
   "source": [
    "y, X = unpack(data, ==(:Class_Name), colname->true)"
   ]
  },
  {
   "cell_type": "markdown",
   "metadata": {},
   "source": [
    "Partition train and test data accoring to class labels"
   ]
  },
  {
   "cell_type": "code",
   "execution_count": 9,
   "metadata": {},
   "outputs": [
    {
     "data": {
      "text/plain": [
       "([595, 102, 55, 568, 425, 389, 146, 63, 372, 250  …  195, 500, 571, 533, 112, 396, 297, 106, 303, 261], [444, 144, 546, 43, 19, 173, 365, 423, 27, 218  …  293, 614, 90, 471, 13, 134, 296, 79, 395, 415])"
      ]
     },
     "execution_count": 9,
     "metadata": {},
     "output_type": "execute_result"
    }
   ],
   "source": [
    "# data to use when trying to fit a single validation set\n",
    "train, test = partition(eachindex(y), 0.7, shuffle=true, rng=123, stratify=values(data[:Class_Name])) # gives 70:30 split"
   ]
  },
  {
   "cell_type": "code",
   "execution_count": 10,
   "metadata": {},
   "outputs": [
    {
     "data": {
      "text/plain": [
       "3-element Array{Float64,1}:\n",
       " 0.0776255707762557\n",
       " 0.4611872146118721\n",
       " 0.4611872146118721"
      ]
     },
     "execution_count": 10,
     "metadata": {},
     "output_type": "execute_result"
    }
   ],
   "source": [
    "train_counts = countmap(data[train,:Class_Name])\n",
    "collect(train_counts[i] / size(train)[1] for i in keys(train_counts))"
   ]
  },
  {
   "cell_type": "code",
   "execution_count": 11,
   "metadata": {},
   "outputs": [
    {
     "data": {
      "text/plain": [
       "3-element Array{Float64,1}:\n",
       " 0.08021390374331551\n",
       " 0.45989304812834225\n",
       " 0.45989304812834225"
      ]
     },
     "execution_count": 11,
     "metadata": {},
     "output_type": "execute_result"
    }
   ],
   "source": [
    "test_counts = countmap(data[test,:Class_Name])\n",
    "collect(test_counts[i] / size(test)[1] for i in keys(test_counts))"
   ]
  },
  {
   "cell_type": "markdown",
   "metadata": {},
   "source": [
    "# Five Learning Algorithms\n",
    "\n",
    "* Decision trees with some form of pruning\n",
    "* Neural networks\n",
    "* Boosting\n",
    "* Support Vector Machines\n",
    "* k-nearest neighbors\n",
    "\n",
    "\n",
    "##### Testing\n",
    "* Implement the algorithms\n",
    "* Design two *interesting* classification problems. For the purposes of this assignment, a classification problem is just a set of training examples and a set of test examples."
   ]
  },
  {
   "cell_type": "code",
   "execution_count": 12,
   "metadata": {
    "scrolled": true
   },
   "outputs": [
    {
     "data": {
      "text/plain": [
       "42-element Array{NamedTuple{(:name, :package_name, :is_supervised, :docstring, :hyperparameter_ranges, :hyperparameter_types, :hyperparameters, :implemented_methods, :is_pure_julia, :is_wrapper, :load_path, :package_license, :package_url, :package_uuid, :prediction_type, :supports_online, :supports_weights, :input_scitype, :target_scitype, :output_scitype),T} where T<:Tuple,1}:\n",
       " (name = AdaBoostClassifier, package_name = ScikitLearn, ... )\n",
       " (name = AdaBoostStumpClassifier, package_name = DecisionTree, ... )\n",
       " (name = BaggingClassifier, package_name = ScikitLearn, ... )\n",
       " (name = BayesianLDA, package_name = MultivariateStats, ... )\n",
       " (name = BayesianLDA, package_name = ScikitLearn, ... )\n",
       " (name = BayesianQDA, package_name = ScikitLearn, ... )\n",
       " (name = BayesianSubspaceLDA, package_name = MultivariateStats, ... )\n",
       " (name = ConstantClassifier, package_name = MLJModels, ... )\n",
       " (name = DecisionTreeClassifier, package_name = DecisionTree, ... )\n",
       " (name = DeterministicConstantClassifier, package_name = MLJModels, ... )\n",
       " (name = DummyClassifier, package_name = ScikitLearn, ... )\n",
       " (name = EvoTreeClassifier, package_name = EvoTrees, ... )\n",
       " (name = ExtraTreesClassifier, package_name = ScikitLearn, ... )\n",
       " ⋮\n",
       " (name = ProbabilisticSGDClassifier, package_name = ScikitLearn, ... )\n",
       " (name = RandomForestClassifier, package_name = DecisionTree, ... )\n",
       " (name = RandomForestClassifier, package_name = ScikitLearn, ... )\n",
       " (name = RidgeCVClassifier, package_name = ScikitLearn, ... )\n",
       " (name = RidgeClassifier, package_name = ScikitLearn, ... )\n",
       " (name = SGDClassifier, package_name = ScikitLearn, ... )\n",
       " (name = SVC, package_name = LIBSVM, ... )\n",
       " (name = SVMClassifier, package_name = ScikitLearn, ... )\n",
       " (name = SVMLinearClassifier, package_name = ScikitLearn, ... )\n",
       " (name = SVMNuClassifier, package_name = ScikitLearn, ... )\n",
       " (name = SubspaceLDA, package_name = MultivariateStats, ... )\n",
       " (name = XGBoostClassifier, package_name = XGBoost, ... )"
      ]
     },
     "execution_count": 12,
     "metadata": {},
     "output_type": "execute_result"
    }
   ],
   "source": [
    "models(matching(X,y))"
   ]
  },
  {
   "cell_type": "code",
   "execution_count": 13,
   "metadata": {},
   "outputs": [
    {
     "name": "stdout",
     "output_type": "stream",
     "text": [
      "import MLJScikitLearnInterface "
     ]
    },
    {
     "name": "stderr",
     "output_type": "stream",
     "text": [
      "┌ Info: Loading into module \"Main\": \n",
      "└ @ MLJModels /home/andrew/.julia/packages/MLJModels/mUBFt/src/loading.jl:70\n"
     ]
    },
    {
     "name": "stdout",
     "output_type": "stream",
     "text": [
      "✔\n",
      "import MLJScikitLearnInterface ✔\n"
     ]
    },
    {
     "data": {
      "text/plain": [
       "AdaBoostClassifier(\n",
       "    base_estimator = nothing,\n",
       "    n_estimators = 50,\n",
       "    learning_rate = 1.0,\n",
       "    algorithm = \"SAMME.R\",\n",
       "    random_state = nothing)\u001b[34m @609\u001b[39m"
      ]
     },
     "execution_count": 13,
     "metadata": {},
     "output_type": "execute_result"
    }
   ],
   "source": [
    "@load AdaBoostClassifier verbosity=2"
   ]
  },
  {
   "cell_type": "markdown",
   "metadata": {},
   "source": [
    "### Boosting\n",
    "* Implement or steal a boosted version of your decision trees. \n",
    "* As before, you will want to use some form of pruning, but presumably because you're using boosting you can afford to be much more aggressive about your pruning.\n",
    "\n",
    "**Chooses the hardest examples** talk about in write-up"
   ]
  },
  {
   "cell_type": "code",
   "execution_count": 14,
   "metadata": {},
   "outputs": [
    {
     "data": {
      "text/plain": [
       "AdaBoostClassifier(\n",
       "    base_estimator = nothing,\n",
       "    n_estimators = 50,\n",
       "    learning_rate = 1.0,\n",
       "    algorithm = \"SAMME.R\",\n",
       "    random_state = nothing)\u001b[34m @537\u001b[39m"
      ]
     },
     "execution_count": 14,
     "metadata": {},
     "output_type": "execute_result"
    }
   ],
   "source": [
    "boost_model = AdaBoostClassifier()"
   ]
  },
  {
   "cell_type": "code",
   "execution_count": 15,
   "metadata": {},
   "outputs": [
    {
     "data": {
      "text/plain": [
       "\u001b[34mMachine{AdaBoostClassifier} @963\u001b[39m trained 0 times.\n",
       "  args: \n",
       "    1:\t\u001b[34mSource @187\u001b[39m ⏎ `Table{AbstractArray{Continuous,1}}`\n",
       "    2:\t\u001b[34mSource @093\u001b[39m ⏎ `AbstractArray{Multiclass{3},1}`\n"
      ]
     },
     "execution_count": 15,
     "metadata": {},
     "output_type": "execute_result"
    }
   ],
   "source": [
    "boost_mach = machine(boost_model, X, y)"
   ]
  },
  {
   "cell_type": "code",
   "execution_count": 16,
   "metadata": {},
   "outputs": [
    {
     "name": "stderr",
     "output_type": "stream",
     "text": [
      "┌ Info: Training \u001b[34mMachine{AdaBoostClassifier} @963\u001b[39m.\n",
      "└ @ MLJBase /home/andrew/.julia/packages/MLJBase/uKzAz/src/machines.jl:319\n"
     ]
    },
    {
     "data": {
      "text/plain": [
       "\u001b[34mMachine{AdaBoostClassifier} @963\u001b[39m trained 1 time.\n",
       "  args: \n",
       "    1:\t\u001b[34mSource @187\u001b[39m ⏎ `Table{AbstractArray{Continuous,1}}`\n",
       "    2:\t\u001b[34mSource @093\u001b[39m ⏎ `AbstractArray{Multiclass{3},1}`\n"
      ]
     },
     "execution_count": 16,
     "metadata": {},
     "output_type": "execute_result"
    }
   ],
   "source": [
    "fit!(boost_mach, rows=train, verbosity=2)"
   ]
  },
  {
   "cell_type": "code",
   "execution_count": 17,
   "metadata": {
    "scrolled": true
   },
   "outputs": [
    {
     "name": "stderr",
     "output_type": "stream",
     "text": [
      "\u001b[33mEvaluating over 6 folds: 100%[=========================] Time: 0:00:04\u001b[39m\n"
     ]
    },
    {
     "data": {
      "text/plain": [
       "┌\u001b[0m───────────────\u001b[0m┬\u001b[0m───────────────\u001b[0m┬\u001b[0m────────────────────────────────────────────\u001b[0m┐\u001b[0m\n",
       "│\u001b[0m\u001b[22m _.measure     \u001b[0m│\u001b[0m\u001b[22m _.measurement \u001b[0m│\u001b[0m\u001b[22m _.per_fold                                 \u001b[0m│\u001b[0m\n",
       "├\u001b[0m───────────────\u001b[0m┼\u001b[0m───────────────\u001b[0m┼\u001b[0m────────────────────────────────────────────\u001b[0m┤\u001b[0m\n",
       "│\u001b[0m cross_entropy \u001b[0m│\u001b[0m 1.0           \u001b[0m│\u001b[0m [1.01, 1.0, 0.995, 1.01, 1.0, 0.998]       \u001b[0m│\u001b[0m\n",
       "│\u001b[0m acc           \u001b[0m│\u001b[0m 0.898         \u001b[0m│\u001b[0m [0.905, 0.913, 0.894, 0.837, 0.942, 0.894] \u001b[0m│\u001b[0m\n",
       "└\u001b[0m───────────────\u001b[0m┴\u001b[0m───────────────\u001b[0m┴\u001b[0m────────────────────────────────────────────\u001b[0m┘\u001b[0m\n",
       "_.per_observation = [[[1.05, 0.998, ..., 1.05], [1.0, 1.1, ..., 0.889], [1.02, 0.873, ..., 1.03], [1.06, 1.1, ..., 1.01], [1.01, 0.96, ..., 1.04], [0.957, 0.982, ..., 0.984]], missing]\n",
       "_.fitted_params_per_fold = [ … ]\n",
       "_.report_per_fold = [ … ]\n"
      ]
     },
     "execution_count": 17,
     "metadata": {},
     "output_type": "execute_result"
    }
   ],
   "source": [
    "boost_acc = evaluate!(boost_mach, resampling=CV(shuffle=true), measure=[cross_entropy, acc], \n",
    "                      verbosity=1, check_measure=false)"
   ]
  },
  {
   "cell_type": "code",
   "execution_count": 18,
   "metadata": {},
   "outputs": [],
   "source": [
    "# evaluate!(boost_mach, resampling=CV(shuffle=true), measure=[tnr,tpr,fnr,fpr], verbosity=1, operation=predict_mode)"
   ]
  },
  {
   "cell_type": "code",
   "execution_count": 19,
   "metadata": {},
   "outputs": [],
   "source": [
    "fitted_params(boost_mach);"
   ]
  },
  {
   "cell_type": "markdown",
   "metadata": {},
   "source": [
    "### GridSearch \n",
    "number of estimators vs learning rate"
   ]
  },
  {
   "cell_type": "code",
   "execution_count": 34,
   "metadata": {},
   "outputs": [
    {
     "data": {
      "text/plain": [
       "MLJBase.NumericRange(Int64, :n_estimators, ... )"
      ]
     },
     "execution_count": 34,
     "metadata": {},
     "output_type": "execute_result"
    }
   ],
   "source": [
    "param1 = :learning_rate\n",
    "param2 = :n_estimators\n",
    "\n",
    "r1 = range(boost_model, param1, lower=0.001, upper=10, scale=:log10)\n",
    "r2 = range(boost_model, param2, lower=1, upper=1000, scale=:log10)"
   ]
  },
  {
   "cell_type": "code",
   "execution_count": 35,
   "metadata": {},
   "outputs": [
    {
     "data": {
      "text/plain": [
       "ProbabilisticTunedModel(\n",
       "    model = AdaBoostClassifier(\n",
       "            base_estimator = nothing,\n",
       "            n_estimators = 50,\n",
       "            learning_rate = 1.0,\n",
       "            algorithm = \"SAMME.R\",\n",
       "            random_state = nothing),\n",
       "    tuning = Grid(\n",
       "            goal = nothing,\n",
       "            resolution = 10,\n",
       "            shuffle = true,\n",
       "            rng = Random._GLOBAL_RNG()),\n",
       "    resampling = CV(\n",
       "            nfolds = 6,\n",
       "            shuffle = false,\n",
       "            rng = Random._GLOBAL_RNG()),\n",
       "    measure = cross_entropy(\n",
       "            eps = 2.220446049250313e-16),\n",
       "    weights = nothing,\n",
       "    operation = MLJModelInterface.predict,\n",
       "    range = MLJBase.NumericRange{T,MLJBase.Bounded,Symbol} where T[\u001b[34mNumericRange{Float64,…} @273\u001b[39m, \u001b[34mNumericRange{Int64,…} @237\u001b[39m],\n",
       "    train_best = true,\n",
       "    repeats = 1,\n",
       "    n = nothing,\n",
       "    acceleration = CPUThreads{Int64}(1),\n",
       "    acceleration_resampling = CPU1{Nothing}(nothing),\n",
       "    check_measure = true)\u001b[34m @049\u001b[39m"
      ]
     },
     "execution_count": 35,
     "metadata": {},
     "output_type": "execute_result"
    }
   ],
   "source": [
    "self_tuning_boost_model = TunedModel(model=boost_model,\n",
    "                                    tuning=Grid(),\n",
    "                                    resampling=CV(), \n",
    "                                    measure=cross_entropy,\n",
    "                                    acceleration=CPUThreads(),\n",
    "                                    range=[r1, r2])"
   ]
  },
  {
   "cell_type": "code",
   "execution_count": 36,
   "metadata": {},
   "outputs": [
    {
     "data": {
      "text/plain": [
       "\u001b[34mMachine{ProbabilisticTunedModel{Grid,…}} @020\u001b[39m trained 0 times.\n",
       "  args: \n",
       "    1:\t\u001b[34mSource @507\u001b[39m ⏎ `Table{AbstractArray{Continuous,1}}`\n",
       "    2:\t\u001b[34mSource @850\u001b[39m ⏎ `AbstractArray{Multiclass{3},1}`\n"
      ]
     },
     "execution_count": 36,
     "metadata": {},
     "output_type": "execute_result"
    }
   ],
   "source": [
    "self_tuning_boost = machine(self_tuning_boost_model, X, y)"
   ]
  },
  {
   "cell_type": "code",
   "execution_count": 37,
   "metadata": {},
   "outputs": [
    {
     "name": "stderr",
     "output_type": "stream",
     "text": [
      "┌ Info: Training \u001b[34mMachine{ProbabilisticTunedModel{Grid,…}} @020\u001b[39m.\n",
      "└ @ MLJBase /home/andrew/.julia/packages/MLJBase/uKzAz/src/machines.jl:319\n",
      "┌ Info: Attempting to evaluate 100 models.\n",
      "└ @ MLJTuning /home/andrew/.julia/packages/MLJTuning/Bbgvk/src/tuned_models.jl:494\n",
      "\u001b[33mEvaluating over 100 metamodels: 100%[=========================] Time: 0:02:03\u001b[39m\n"
     ]
    },
    {
     "data": {
      "text/plain": [
       "\u001b[34mMachine{ProbabilisticTunedModel{Grid,…}} @020\u001b[39m trained 1 time.\n",
       "  args: \n",
       "    1:\t\u001b[34mSource @507\u001b[39m ⏎ `Table{AbstractArray{Continuous,1}}`\n",
       "    2:\t\u001b[34mSource @850\u001b[39m ⏎ `AbstractArray{Multiclass{3},1}`\n"
      ]
     },
     "execution_count": 37,
     "metadata": {},
     "output_type": "execute_result"
    }
   ],
   "source": [
    "z = fit!(self_tuning_boost, rows=train)"
   ]
  },
  {
   "cell_type": "code",
   "execution_count": 38,
   "metadata": {},
   "outputs": [
    {
     "data": {
      "image/svg+xml": [
       "<?xml version=\"1.0\" encoding=\"utf-8\"?>\n",
       "<svg xmlns=\"http://www.w3.org/2000/svg\" xmlns:xlink=\"http://www.w3.org/1999/xlink\" width=\"600\" height=\"400\" viewBox=\"0 0 2400 1600\">\n",
       "<defs>\n",
       "  <clipPath id=\"clip570\">\n",
       "    <rect x=\"0\" y=\"0\" width=\"2400\" height=\"1600\"/>\n",
       "  </clipPath>\n",
       "</defs>\n",
       "<path clip-path=\"url(#clip570)\" d=\"\n",
       "M0 1600 L2400 1600 L2400 0 L0 0  Z\n",
       "  \" fill=\"#ffffff\" fill-rule=\"evenodd\" fill-opacity=\"1\"/>\n",
       "<defs>\n",
       "  <clipPath id=\"clip571\">\n",
       "    <rect x=\"480\" y=\"0\" width=\"1681\" height=\"1600\"/>\n",
       "  </clipPath>\n",
       "</defs>\n",
       "<path clip-path=\"url(#clip570)\" d=\"\n",
       "M217.262 1410.9 L2112.76 1410.9 L2112.76 47.2441 L217.262 47.2441  Z\n",
       "  \" fill=\"#ffffff\" fill-rule=\"evenodd\" fill-opacity=\"1\"/>\n",
       "<defs>\n",
       "  <clipPath id=\"clip572\">\n",
       "    <rect x=\"217\" y=\"47\" width=\"1896\" height=\"1365\"/>\n",
       "  </clipPath>\n",
       "</defs>\n",
       "<polyline clip-path=\"url(#clip572)\" style=\"stroke:#000000; stroke-width:2; stroke-opacity:0.1; fill:none\" points=\"\n",
       "  270.908,1410.9 270.908,47.2441 \n",
       "  \"/>\n",
       "<polyline clip-path=\"url(#clip572)\" style=\"stroke:#000000; stroke-width:2; stroke-opacity:0.1; fill:none\" points=\"\n",
       "  717.959,1410.9 717.959,47.2441 \n",
       "  \"/>\n",
       "<polyline clip-path=\"url(#clip572)\" style=\"stroke:#000000; stroke-width:2; stroke-opacity:0.1; fill:none\" points=\"\n",
       "  1165.01,1410.9 1165.01,47.2441 \n",
       "  \"/>\n",
       "<polyline clip-path=\"url(#clip572)\" style=\"stroke:#000000; stroke-width:2; stroke-opacity:0.1; fill:none\" points=\"\n",
       "  1612.06,1410.9 1612.06,47.2441 \n",
       "  \"/>\n",
       "<polyline clip-path=\"url(#clip572)\" style=\"stroke:#000000; stroke-width:2; stroke-opacity:0.1; fill:none\" points=\"\n",
       "  2059.11,1410.9 2059.11,47.2441 \n",
       "  \"/>\n",
       "<polyline clip-path=\"url(#clip572)\" style=\"stroke:#000000; stroke-width:2; stroke-opacity:0.1; fill:none\" points=\"\n",
       "  217.262,1372.3 2112.76,1372.3 \n",
       "  \"/>\n",
       "<polyline clip-path=\"url(#clip572)\" style=\"stroke:#000000; stroke-width:2; stroke-opacity:0.1; fill:none\" points=\"\n",
       "  217.262,943.481 2112.76,943.481 \n",
       "  \"/>\n",
       "<polyline clip-path=\"url(#clip572)\" style=\"stroke:#000000; stroke-width:2; stroke-opacity:0.1; fill:none\" points=\"\n",
       "  217.262,514.66 2112.76,514.66 \n",
       "  \"/>\n",
       "<polyline clip-path=\"url(#clip572)\" style=\"stroke:#000000; stroke-width:2; stroke-opacity:0.1; fill:none\" points=\"\n",
       "  217.262,85.838 2112.76,85.838 \n",
       "  \"/>\n",
       "<polyline clip-path=\"url(#clip570)\" style=\"stroke:#000000; stroke-width:4; stroke-opacity:1; fill:none\" points=\"\n",
       "  217.262,1410.9 2112.76,1410.9 \n",
       "  \"/>\n",
       "<polyline clip-path=\"url(#clip570)\" style=\"stroke:#000000; stroke-width:4; stroke-opacity:1; fill:none\" points=\"\n",
       "  217.262,1410.9 217.262,47.2441 \n",
       "  \"/>\n",
       "<polyline clip-path=\"url(#clip570)\" style=\"stroke:#000000; stroke-width:4; stroke-opacity:1; fill:none\" points=\"\n",
       "  270.908,1410.9 270.908,1394.53 \n",
       "  \"/>\n",
       "<polyline clip-path=\"url(#clip570)\" style=\"stroke:#000000; stroke-width:4; stroke-opacity:1; fill:none\" points=\"\n",
       "  717.959,1410.9 717.959,1394.53 \n",
       "  \"/>\n",
       "<polyline clip-path=\"url(#clip570)\" style=\"stroke:#000000; stroke-width:4; stroke-opacity:1; fill:none\" points=\"\n",
       "  1165.01,1410.9 1165.01,1394.53 \n",
       "  \"/>\n",
       "<polyline clip-path=\"url(#clip570)\" style=\"stroke:#000000; stroke-width:4; stroke-opacity:1; fill:none\" points=\"\n",
       "  1612.06,1410.9 1612.06,1394.53 \n",
       "  \"/>\n",
       "<polyline clip-path=\"url(#clip570)\" style=\"stroke:#000000; stroke-width:4; stroke-opacity:1; fill:none\" points=\"\n",
       "  2059.11,1410.9 2059.11,1394.53 \n",
       "  \"/>\n",
       "<polyline clip-path=\"url(#clip570)\" style=\"stroke:#000000; stroke-width:4; stroke-opacity:1; fill:none\" points=\"\n",
       "  217.262,1372.3 240.008,1372.3 \n",
       "  \"/>\n",
       "<polyline clip-path=\"url(#clip570)\" style=\"stroke:#000000; stroke-width:4; stroke-opacity:1; fill:none\" points=\"\n",
       "  217.262,943.481 240.008,943.481 \n",
       "  \"/>\n",
       "<polyline clip-path=\"url(#clip570)\" style=\"stroke:#000000; stroke-width:4; stroke-opacity:1; fill:none\" points=\"\n",
       "  217.262,514.66 240.008,514.66 \n",
       "  \"/>\n",
       "<polyline clip-path=\"url(#clip570)\" style=\"stroke:#000000; stroke-width:4; stroke-opacity:1; fill:none\" points=\"\n",
       "  217.262,85.838 240.008,85.838 \n",
       "  \"/>\n",
       "<path clip-path=\"url(#clip570)\" d=\"M 0 0 M225.016 1481.97 L232.655 1481.97 L232.655 1455.6 L224.345 1457.27 L224.345 1453.01 L232.609 1451.34 L237.285 1451.34 L237.285 1481.97 L244.924 1481.97 L244.924 1485.9 L225.016 1485.9 L225.016 1481.97 Z\" fill=\"#000000\" fill-rule=\"evenodd\" fill-opacity=\"1\" /><path clip-path=\"url(#clip570)\" d=\"M 0 0 M259.993 1454.42 Q256.382 1454.42 254.553 1457.99 Q252.748 1461.53 252.748 1468.66 Q252.748 1475.77 254.553 1479.33 Q256.382 1482.87 259.993 1482.87 Q263.627 1482.87 265.433 1479.33 Q267.262 1475.77 267.262 1468.66 Q267.262 1461.53 265.433 1457.99 Q263.627 1454.42 259.993 1454.42 M259.993 1450.72 Q265.803 1450.72 268.859 1455.33 Q271.938 1459.91 271.938 1468.66 Q271.938 1477.39 268.859 1481.99 Q265.803 1486.58 259.993 1486.58 Q254.183 1486.58 251.104 1481.99 Q248.049 1477.39 248.049 1468.66 Q248.049 1459.91 251.104 1455.33 Q254.183 1450.72 259.993 1450.72 Z\" fill=\"#000000\" fill-rule=\"evenodd\" fill-opacity=\"1\" /><path clip-path=\"url(#clip570)\" d=\"M 0 0 M271.938 1444.82 L296.049 1444.82 L296.049 1448.02 L271.938 1448.02 L271.938 1444.82 Z\" fill=\"#000000\" fill-rule=\"evenodd\" fill-opacity=\"1\" /><path clip-path=\"url(#clip570)\" d=\"M 0 0 M311.678 1443.35 Q314.405 1443.94 315.929 1445.78 Q317.471 1447.62 317.471 1450.33 Q317.471 1454.49 314.612 1456.76 Q311.754 1459.04 306.487 1459.04 Q304.719 1459.04 302.839 1458.68 Q300.977 1458.34 298.983 1457.65 L298.983 1453.98 Q300.563 1454.9 302.444 1455.37 Q304.325 1455.84 306.375 1455.84 Q309.948 1455.84 311.81 1454.43 Q313.691 1453.02 313.691 1450.33 Q313.691 1447.85 311.942 1446.46 Q310.211 1445.05 307.108 1445.05 L303.836 1445.05 L303.836 1441.92 L307.259 1441.92 Q310.061 1441.92 311.547 1440.81 Q313.033 1439.69 313.033 1437.58 Q313.033 1435.42 311.49 1434.27 Q309.967 1433.1 307.108 1433.1 Q305.547 1433.1 303.76 1433.44 Q301.974 1433.78 299.829 1434.49 L299.829 1431.11 Q301.992 1430.51 303.873 1430.21 Q305.773 1429.91 307.447 1429.91 Q311.772 1429.91 314.293 1431.88 Q316.813 1433.84 316.813 1437.18 Q316.813 1439.52 315.478 1441.13 Q314.142 1442.73 311.678 1443.35 Z\" fill=\"#000000\" fill-rule=\"evenodd\" fill-opacity=\"1\" /><path clip-path=\"url(#clip570)\" d=\"M 0 0 M672.452 1481.97 L680.091 1481.97 L680.091 1455.6 L671.781 1457.27 L671.781 1453.01 L680.045 1451.34 L684.721 1451.34 L684.721 1481.97 L692.36 1481.97 L692.36 1485.9 L672.452 1485.9 L672.452 1481.97 Z\" fill=\"#000000\" fill-rule=\"evenodd\" fill-opacity=\"1\" /><path clip-path=\"url(#clip570)\" d=\"M 0 0 M707.429 1454.42 Q703.818 1454.42 701.989 1457.99 Q700.184 1461.53 700.184 1468.66 Q700.184 1475.77 701.989 1479.33 Q703.818 1482.87 707.429 1482.87 Q711.063 1482.87 712.869 1479.33 Q714.698 1475.77 714.698 1468.66 Q714.698 1461.53 712.869 1457.99 Q711.063 1454.42 707.429 1454.42 M707.429 1450.72 Q713.239 1450.72 716.295 1455.33 Q719.374 1459.91 719.374 1468.66 Q719.374 1477.39 716.295 1481.99 Q713.239 1486.58 707.429 1486.58 Q701.619 1486.58 698.54 1481.99 Q695.485 1477.39 695.485 1468.66 Q695.485 1459.91 698.54 1455.33 Q701.619 1450.72 707.429 1450.72 Z\" fill=\"#000000\" fill-rule=\"evenodd\" fill-opacity=\"1\" /><path clip-path=\"url(#clip570)\" d=\"M 0 0 M719.374 1444.82 L743.485 1444.82 L743.485 1448.02 L719.374 1448.02 L719.374 1444.82 Z\" fill=\"#000000\" fill-rule=\"evenodd\" fill-opacity=\"1\" /><path clip-path=\"url(#clip570)\" d=\"M 0 0 M750.877 1455.3 L764.136 1455.3 L764.136 1458.49 L746.306 1458.49 L746.306 1455.3 Q748.469 1453.06 752.193 1449.3 Q755.936 1445.52 756.895 1444.43 Q758.719 1442.38 759.434 1440.96 Q760.168 1439.54 760.168 1438.16 Q760.168 1435.92 758.588 1434.51 Q757.027 1433.1 754.506 1433.1 Q752.72 1433.1 750.726 1433.72 Q748.751 1434.34 746.494 1435.6 L746.494 1431.77 Q748.789 1430.85 750.782 1430.38 Q752.776 1429.91 754.431 1429.91 Q758.795 1429.91 761.39 1432.09 Q763.986 1434.27 763.986 1437.92 Q763.986 1439.65 763.327 1441.21 Q762.688 1442.75 760.976 1444.86 Q760.506 1445.4 757.986 1448.02 Q755.466 1450.61 750.877 1455.3 Z\" fill=\"#000000\" fill-rule=\"evenodd\" fill-opacity=\"1\" /><path clip-path=\"url(#clip570)\" d=\"M 0 0 M1119.35 1481.97 L1126.99 1481.97 L1126.99 1455.6 L1118.68 1457.27 L1118.68 1453.01 L1126.94 1451.34 L1131.62 1451.34 L1131.62 1481.97 L1139.26 1481.97 L1139.26 1485.9 L1119.35 1485.9 L1119.35 1481.97 Z\" fill=\"#000000\" fill-rule=\"evenodd\" fill-opacity=\"1\" /><path clip-path=\"url(#clip570)\" d=\"M 0 0 M1154.33 1454.42 Q1150.72 1454.42 1148.89 1457.99 Q1147.08 1461.53 1147.08 1468.66 Q1147.08 1475.77 1148.89 1479.33 Q1150.72 1482.87 1154.33 1482.87 Q1157.96 1482.87 1159.77 1479.33 Q1161.6 1475.77 1161.6 1468.66 Q1161.6 1461.53 1159.77 1457.99 Q1157.96 1454.42 1154.33 1454.42 M1154.33 1450.72 Q1160.14 1450.72 1163.19 1455.33 Q1166.27 1459.91 1166.27 1468.66 Q1166.27 1477.39 1163.19 1481.99 Q1160.14 1486.58 1154.33 1486.58 Q1148.52 1486.58 1145.44 1481.99 Q1142.38 1477.39 1142.38 1468.66 Q1142.38 1459.91 1145.44 1455.33 Q1148.52 1450.72 1154.33 1450.72 Z\" fill=\"#000000\" fill-rule=\"evenodd\" fill-opacity=\"1\" /><path clip-path=\"url(#clip570)\" d=\"M 0 0 M1166.27 1444.82 L1190.39 1444.82 L1190.39 1448.02 L1166.27 1448.02 L1166.27 1444.82 Z\" fill=\"#000000\" fill-rule=\"evenodd\" fill-opacity=\"1\" /><path clip-path=\"url(#clip570)\" d=\"M 0 0 M1195.16 1455.3 L1201.37 1455.3 L1201.37 1433.87 L1194.62 1435.23 L1194.62 1431.77 L1201.33 1430.41 L1205.13 1430.41 L1205.13 1455.3 L1211.34 1455.3 L1211.34 1458.49 L1195.16 1458.49 L1195.16 1455.3 Z\" fill=\"#000000\" fill-rule=\"evenodd\" fill-opacity=\"1\" /><path clip-path=\"url(#clip570)\" d=\"M 0 0 M1579.23 1481.97 L1586.87 1481.97 L1586.87 1455.6 L1578.56 1457.27 L1578.56 1453.01 L1586.82 1451.34 L1591.5 1451.34 L1591.5 1481.97 L1599.14 1481.97 L1599.14 1485.9 L1579.23 1485.9 L1579.23 1481.97 Z\" fill=\"#000000\" fill-rule=\"evenodd\" fill-opacity=\"1\" /><path clip-path=\"url(#clip570)\" d=\"M 0 0 M1614.21 1454.42 Q1610.6 1454.42 1608.77 1457.99 Q1606.96 1461.53 1606.96 1468.66 Q1606.96 1475.77 1608.77 1479.33 Q1610.6 1482.87 1614.21 1482.87 Q1617.84 1482.87 1619.65 1479.33 Q1621.47 1475.77 1621.47 1468.66 Q1621.47 1461.53 1619.65 1457.99 Q1617.84 1454.42 1614.21 1454.42 M1614.21 1450.72 Q1620.02 1450.72 1623.07 1455.33 Q1626.15 1459.91 1626.15 1468.66 Q1626.15 1477.39 1623.07 1481.99 Q1620.02 1486.58 1614.21 1486.58 Q1608.4 1486.58 1605.32 1481.99 Q1602.26 1477.39 1602.26 1468.66 Q1602.26 1459.91 1605.32 1455.33 Q1608.4 1450.72 1614.21 1450.72 Z\" fill=\"#000000\" fill-rule=\"evenodd\" fill-opacity=\"1\" /><path clip-path=\"url(#clip570)\" d=\"M 0 0 M1635.86 1432.91 Q1632.92 1432.91 1631.44 1435.81 Q1629.97 1438.69 1629.97 1444.48 Q1629.97 1450.26 1631.44 1453.15 Q1632.92 1456.03 1635.86 1456.03 Q1638.81 1456.03 1640.28 1453.15 Q1641.76 1450.26 1641.76 1444.48 Q1641.76 1438.69 1640.28 1435.81 Q1638.81 1432.91 1635.86 1432.91 M1635.86 1429.91 Q1640.58 1429.91 1643.06 1433.65 Q1645.56 1437.37 1645.56 1444.48 Q1645.56 1451.57 1643.06 1455.31 Q1640.58 1459.04 1635.86 1459.04 Q1631.13 1459.04 1628.63 1455.31 Q1626.15 1451.57 1626.15 1444.48 Q1626.15 1437.37 1628.63 1433.65 Q1631.13 1429.91 1635.86 1429.91 Z\" fill=\"#000000\" fill-rule=\"evenodd\" fill-opacity=\"1\" /><path clip-path=\"url(#clip570)\" d=\"M 0 0 M2027.62 1481.97 L2035.26 1481.97 L2035.26 1455.6 L2026.95 1457.27 L2026.95 1453.01 L2035.22 1451.34 L2039.89 1451.34 L2039.89 1481.97 L2047.53 1481.97 L2047.53 1485.9 L2027.62 1485.9 L2027.62 1481.97 Z\" fill=\"#000000\" fill-rule=\"evenodd\" fill-opacity=\"1\" /><path clip-path=\"url(#clip570)\" d=\"M 0 0 M2062.6 1454.42 Q2058.99 1454.42 2057.16 1457.99 Q2055.36 1461.53 2055.36 1468.66 Q2055.36 1475.77 2057.16 1479.33 Q2058.99 1482.87 2062.6 1482.87 Q2066.24 1482.87 2068.04 1479.33 Q2069.87 1475.77 2069.87 1468.66 Q2069.87 1461.53 2068.04 1457.99 Q2066.24 1454.42 2062.6 1454.42 M2062.6 1450.72 Q2068.41 1450.72 2071.47 1455.33 Q2074.55 1459.91 2074.55 1468.66 Q2074.55 1477.39 2071.47 1481.99 Q2068.41 1486.58 2062.6 1486.58 Q2056.79 1486.58 2053.71 1481.99 Q2050.66 1477.39 2050.66 1468.66 Q2050.66 1459.91 2053.71 1455.33 Q2056.79 1450.72 2062.6 1450.72 Z\" fill=\"#000000\" fill-rule=\"evenodd\" fill-opacity=\"1\" /><path clip-path=\"url(#clip570)\" d=\"M 0 0 M2075.09 1455.3 L2081.3 1455.3 L2081.3 1433.87 L2074.55 1435.23 L2074.55 1431.77 L2081.26 1430.41 L2085.06 1430.41 L2085.06 1455.3 L2091.27 1455.3 L2091.27 1458.49 L2075.09 1458.49 L2075.09 1455.3 Z\" fill=\"#000000\" fill-rule=\"evenodd\" fill-opacity=\"1\" /><path clip-path=\"url(#clip570)\" d=\"M 0 0 M126.931 1392.1 L134.57 1392.1 L134.57 1365.73 L126.26 1367.4 L126.26 1363.14 L134.524 1361.47 L139.2 1361.47 L139.2 1392.1 L146.839 1392.1 L146.839 1396.03 L126.931 1396.03 L126.931 1392.1 Z\" fill=\"#000000\" fill-rule=\"evenodd\" fill-opacity=\"1\" /><path clip-path=\"url(#clip570)\" d=\"M 0 0 M161.908 1364.55 Q158.297 1364.55 156.468 1368.11 Q154.663 1371.66 154.663 1378.79 Q154.663 1385.89 156.468 1389.46 Q158.297 1393 161.908 1393 Q165.542 1393 167.348 1389.46 Q169.177 1385.89 169.177 1378.79 Q169.177 1371.66 167.348 1368.11 Q165.542 1364.55 161.908 1364.55 M161.908 1360.85 Q167.718 1360.85 170.774 1365.45 Q173.852 1370.04 173.852 1378.79 Q173.852 1387.51 170.774 1392.12 Q167.718 1396.7 161.908 1396.7 Q156.098 1396.7 153.019 1392.12 Q149.964 1387.51 149.964 1378.79 Q149.964 1370.04 153.019 1365.45 Q156.098 1360.85 161.908 1360.85 Z\" fill=\"#000000\" fill-rule=\"evenodd\" fill-opacity=\"1\" /><path clip-path=\"url(#clip570)\" d=\"M 0 0 M183.557 1343.04 Q180.623 1343.04 179.137 1345.94 Q177.67 1348.82 177.67 1354.61 Q177.67 1360.38 179.137 1363.28 Q180.623 1366.16 183.557 1366.16 Q186.51 1366.16 187.977 1363.28 Q189.463 1360.38 189.463 1354.61 Q189.463 1348.82 187.977 1345.94 Q186.51 1343.04 183.557 1343.04 M183.557 1340.03 Q188.278 1340.03 190.761 1343.77 Q193.262 1347.5 193.262 1354.61 Q193.262 1361.7 190.761 1365.44 Q188.278 1369.17 183.557 1369.17 Q178.837 1369.17 176.335 1365.44 Q173.852 1361.7 173.852 1354.61 Q173.852 1347.5 176.335 1343.77 Q178.837 1340.03 183.557 1340.03 Z\" fill=\"#000000\" fill-rule=\"evenodd\" fill-opacity=\"1\" /><path clip-path=\"url(#clip570)\" d=\"M 0 0 M129.621 963.274 L137.26 963.274 L137.26 936.908 L128.95 938.575 L128.95 934.315 L137.214 932.649 L141.889 932.649 L141.889 963.274 L149.528 963.274 L149.528 967.209 L129.621 967.209 L129.621 963.274 Z\" fill=\"#000000\" fill-rule=\"evenodd\" fill-opacity=\"1\" /><path clip-path=\"url(#clip570)\" d=\"M 0 0 M164.598 935.727 Q160.987 935.727 159.158 939.292 Q157.352 942.834 157.352 949.963 Q157.352 957.07 159.158 960.635 Q160.987 964.176 164.598 964.176 Q168.232 964.176 170.037 960.635 Q171.866 957.07 171.866 949.963 Q171.866 942.834 170.037 939.292 Q168.232 935.727 164.598 935.727 M164.598 932.024 Q170.408 932.024 173.463 936.63 Q176.542 941.214 176.542 949.963 Q176.542 958.69 173.463 963.297 Q170.408 967.88 164.598 967.88 Q158.787 967.88 155.709 963.297 Q152.653 958.69 152.653 949.963 Q152.653 941.214 155.709 936.63 Q158.787 932.024 164.598 932.024 Z\" fill=\"#000000\" fill-rule=\"evenodd\" fill-opacity=\"1\" /><path clip-path=\"url(#clip570)\" d=\"M 0 0 M177.087 936.601 L183.294 936.601 L183.294 915.179 L176.542 916.533 L176.542 913.073 L183.256 911.718 L187.056 911.718 L187.056 936.601 L193.262 936.601 L193.262 939.798 L177.087 939.798 L177.087 936.601 Z\" fill=\"#000000\" fill-rule=\"evenodd\" fill-opacity=\"1\" /><path clip-path=\"url(#clip570)\" d=\"M 0 0 M128.511 534.452 L136.15 534.452 L136.15 508.086 L127.84 509.753 L127.84 505.494 L136.104 503.827 L140.78 503.827 L140.78 534.452 L148.419 534.452 L148.419 538.387 L128.511 538.387 L128.511 534.452 Z\" fill=\"#000000\" fill-rule=\"evenodd\" fill-opacity=\"1\" /><path clip-path=\"url(#clip570)\" d=\"M 0 0 M163.488 506.906 Q159.877 506.906 158.048 510.471 Q156.243 514.012 156.243 521.142 Q156.243 528.248 158.048 531.813 Q159.877 535.355 163.488 535.355 Q167.122 535.355 168.928 531.813 Q170.756 528.248 170.756 521.142 Q170.756 514.012 168.928 510.471 Q167.122 506.906 163.488 506.906 M163.488 503.202 Q169.298 503.202 172.354 507.809 Q175.432 512.392 175.432 521.142 Q175.432 529.869 172.354 534.475 Q169.298 539.058 163.488 539.058 Q157.678 539.058 154.599 534.475 Q151.544 529.869 151.544 521.142 Q151.544 512.392 154.599 507.809 Q157.678 503.202 163.488 503.202 Z\" fill=\"#000000\" fill-rule=\"evenodd\" fill-opacity=\"1\" /><path clip-path=\"url(#clip570)\" d=\"M 0 0 M180.003 507.779 L193.262 507.779 L193.262 510.977 L175.432 510.977 L175.432 507.779 Q177.595 505.541 181.319 501.78 Q185.062 497.999 186.021 496.909 Q187.845 494.859 188.56 493.448 Q189.294 492.019 189.294 490.646 Q189.294 488.407 187.714 486.997 Q186.153 485.586 183.633 485.586 Q181.846 485.586 179.852 486.207 Q177.877 486.828 175.62 488.088 L175.62 484.251 Q177.915 483.329 179.909 482.859 Q181.902 482.389 183.557 482.389 Q187.921 482.389 190.516 484.571 Q193.112 486.752 193.112 490.401 Q193.112 492.131 192.453 493.692 Q191.814 495.235 190.102 497.341 Q189.632 497.887 187.112 500.501 Q184.592 503.096 180.003 507.779 Z\" fill=\"#000000\" fill-rule=\"evenodd\" fill-opacity=\"1\" /><path clip-path=\"url(#clip570)\" d=\"M 0 0 M127.853 105.63 L135.492 105.63 L135.492 79.2649 L127.182 80.9315 L127.182 76.6723 L135.446 75.0056 L140.121 75.0056 L140.121 105.63 L147.76 105.63 L147.76 109.566 L127.853 109.566 L127.853 105.63 Z\" fill=\"#000000\" fill-rule=\"evenodd\" fill-opacity=\"1\" /><path clip-path=\"url(#clip570)\" d=\"M 0 0 M162.83 78.0843 Q159.219 78.0843 157.39 81.6491 Q155.584 85.1908 155.584 92.3204 Q155.584 99.4268 157.39 102.992 Q159.219 106.533 162.83 106.533 Q166.464 106.533 168.269 102.992 Q170.098 99.4268 170.098 92.3204 Q170.098 85.1908 168.269 81.6491 Q166.464 78.0843 162.83 78.0843 M162.83 74.3806 Q168.64 74.3806 171.695 78.9871 Q174.774 83.5704 174.774 92.3204 Q174.774 101.047 171.695 105.654 Q168.64 110.237 162.83 110.237 Q157.02 110.237 153.941 105.654 Q150.885 101.047 150.885 92.3204 Q150.885 83.5704 153.941 78.9871 Q157.02 74.3806 162.83 74.3806 Z\" fill=\"#000000\" fill-rule=\"evenodd\" fill-opacity=\"1\" /><path clip-path=\"url(#clip570)\" d=\"M 0 0 M187.469 67.015 Q190.196 67.598 191.72 69.4412 Q193.262 71.2843 193.262 73.9927 Q193.262 78.1492 190.403 80.4249 Q187.545 82.7007 182.278 82.7007 Q180.51 82.7007 178.63 82.3433 Q176.768 82.0048 174.774 81.3089 L174.774 77.6414 Q176.354 78.563 178.235 79.0331 Q180.115 79.5033 182.166 79.5033 Q185.739 79.5033 187.601 78.0928 Q189.482 76.6822 189.482 73.9927 Q189.482 71.51 187.733 70.1183 Q186.002 68.7077 182.899 68.7077 L179.626 68.7077 L179.626 65.5856 L183.049 65.5856 Q185.852 65.5856 187.338 64.4759 Q188.823 63.3475 188.823 61.241 Q188.823 59.0781 187.281 57.9308 Q185.758 56.7647 182.899 56.7647 Q181.338 56.7647 179.551 57.1033 Q177.765 57.4418 175.62 58.1565 L175.62 54.7711 Q177.783 54.1693 179.664 53.8683 Q181.564 53.5674 183.238 53.5674 Q187.563 53.5674 190.084 55.5422 Q192.604 57.4982 192.604 60.846 Q192.604 63.1782 191.268 64.7957 Q189.933 66.3943 187.469 67.015 Z\" fill=\"#000000\" fill-rule=\"evenodd\" fill-opacity=\"1\" /><path clip-path=\"url(#clip570)\" d=\"M 0 0 M977.077 1512.66 L982.934 1512.66 L982.934 1562.19 L977.077 1562.19 L977.077 1512.66 Z\" fill=\"#000000\" fill-rule=\"evenodd\" fill-opacity=\"1\" /><path clip-path=\"url(#clip570)\" d=\"M 0 0 M1019.57 1542.9 L1019.57 1545.76 L992.642 1545.76 Q993.024 1551.81 996.27 1554.99 Q999.548 1558.14 1005.37 1558.14 Q1008.75 1558.14 1011.9 1557.32 Q1015.08 1556.49 1018.2 1554.83 L1018.2 1560.37 Q1015.05 1561.71 1011.74 1562.41 Q1008.43 1563.11 1005.02 1563.11 Q996.493 1563.11 991.496 1558.14 Q986.531 1553.18 986.531 1544.71 Q986.531 1535.96 991.241 1530.83 Q995.984 1525.68 1004 1525.68 Q1011.2 1525.68 1015.37 1530.33 Q1019.57 1534.94 1019.57 1542.9 M1013.71 1541.18 Q1013.65 1536.37 1011.01 1533.51 Q1008.4 1530.64 1004.07 1530.64 Q999.166 1530.64 996.206 1533.41 Q993.278 1536.18 992.833 1541.21 L1013.71 1541.18 Z\" fill=\"#000000\" fill-rule=\"evenodd\" fill-opacity=\"1\" /><path clip-path=\"url(#clip570)\" d=\"M 0 0 M1041.91 1544.27 Q1034.81 1544.27 1032.08 1545.89 Q1029.34 1547.51 1029.34 1551.43 Q1029.34 1554.55 1031.38 1556.39 Q1033.45 1558.21 1036.98 1558.21 Q1041.85 1558.21 1044.78 1554.77 Q1047.74 1551.3 1047.74 1545.57 L1047.74 1544.27 L1041.91 1544.27 M1053.59 1541.85 L1053.59 1562.19 L1047.74 1562.19 L1047.74 1556.77 Q1045.73 1560.02 1042.74 1561.58 Q1039.75 1563.11 1035.42 1563.11 Q1029.94 1563.11 1026.7 1560.05 Q1023.48 1556.97 1023.48 1551.81 Q1023.48 1545.79 1027.49 1542.74 Q1031.54 1539.68 1039.53 1539.68 L1047.74 1539.68 L1047.74 1539.11 Q1047.74 1535.07 1045.06 1532.87 Q1042.42 1530.64 1037.62 1530.64 Q1034.56 1530.64 1031.66 1531.38 Q1028.77 1532.11 1026.09 1533.57 L1026.09 1528.16 Q1029.31 1526.92 1032.33 1526.31 Q1035.36 1525.68 1038.22 1525.68 Q1045.95 1525.68 1049.77 1529.69 Q1053.59 1533.7 1053.59 1541.85 Z\" fill=\"#000000\" fill-rule=\"evenodd\" fill-opacity=\"1\" /><path clip-path=\"url(#clip570)\" d=\"M 0 0 M1080.39 1532.01 Q1079.41 1531.44 1078.23 1531.18 Q1077.08 1530.9 1075.68 1530.9 Q1070.72 1530.9 1068.04 1534.14 Q1065.4 1537.36 1065.4 1543.41 L1065.4 1562.19 L1059.51 1562.19 L1059.51 1526.54 L1065.4 1526.54 L1065.4 1532.08 Q1067.25 1528.83 1070.21 1527.27 Q1073.17 1525.68 1077.4 1525.68 Q1078.01 1525.68 1078.74 1525.77 Q1079.47 1525.84 1080.36 1526 L1080.39 1532.01 Z\" fill=\"#000000\" fill-rule=\"evenodd\" fill-opacity=\"1\" /><path clip-path=\"url(#clip570)\" d=\"M 0 0 M1115.02 1540.67 L1115.02 1562.19 L1109.17 1562.19 L1109.17 1540.86 Q1109.17 1535.8 1107.19 1533.29 Q1105.22 1530.77 1101.27 1530.77 Q1096.53 1530.77 1093.79 1533.79 Q1091.06 1536.82 1091.06 1542.04 L1091.06 1562.19 L1085.17 1562.19 L1085.17 1526.54 L1091.06 1526.54 L1091.06 1532.08 Q1093.16 1528.86 1095.99 1527.27 Q1098.85 1525.68 1102.58 1525.68 Q1108.72 1525.68 1111.87 1529.5 Q1115.02 1533.29 1115.02 1540.67 Z\" fill=\"#000000\" fill-rule=\"evenodd\" fill-opacity=\"1\" /><path clip-path=\"url(#clip570)\" d=\"M 0 0 M1121.17 1526.54 L1127.02 1526.54 L1127.02 1562.19 L1121.17 1562.19 L1121.17 1526.54 M1121.17 1512.66 L1127.02 1512.66 L1127.02 1520.08 L1121.17 1520.08 L1121.17 1512.66 Z\" fill=\"#000000\" fill-rule=\"evenodd\" fill-opacity=\"1\" /><path clip-path=\"url(#clip570)\" d=\"M 0 0 M1162.8 1540.67 L1162.8 1562.19 L1156.94 1562.19 L1156.94 1540.86 Q1156.94 1535.8 1154.97 1533.29 Q1152.99 1530.77 1149.05 1530.77 Q1144.3 1530.77 1141.57 1533.79 Q1138.83 1536.82 1138.83 1542.04 L1138.83 1562.19 L1132.94 1562.19 L1132.94 1526.54 L1138.83 1526.54 L1138.83 1532.08 Q1140.93 1528.86 1143.76 1527.27 Q1146.63 1525.68 1150.35 1525.68 Q1156.49 1525.68 1159.65 1529.5 Q1162.8 1533.29 1162.8 1540.67 Z\" fill=\"#000000\" fill-rule=\"evenodd\" fill-opacity=\"1\" /><path clip-path=\"url(#clip570)\" d=\"M 0 0 M1192.4 1543.95 Q1192.4 1537.58 1189.76 1534.08 Q1187.15 1530.58 1182.4 1530.58 Q1177.69 1530.58 1175.05 1534.08 Q1172.44 1537.58 1172.44 1543.95 Q1172.44 1550.28 1175.05 1553.78 Q1177.69 1557.28 1182.4 1557.28 Q1187.15 1557.28 1189.76 1553.78 Q1192.4 1550.28 1192.4 1543.95 M1198.25 1557.76 Q1198.25 1566.86 1194.21 1571.29 Q1190.17 1575.74 1181.83 1575.74 Q1178.74 1575.74 1176.01 1575.27 Q1173.27 1574.82 1170.69 1573.87 L1170.69 1568.17 Q1173.27 1569.57 1175.78 1570.24 Q1178.3 1570.91 1180.91 1570.91 Q1186.67 1570.91 1189.53 1567.88 Q1192.4 1564.89 1192.4 1558.81 L1192.4 1555.92 Q1190.58 1559.07 1187.75 1560.63 Q1184.92 1562.19 1180.97 1562.19 Q1174.41 1562.19 1170.4 1557.19 Q1166.39 1552.19 1166.39 1543.95 Q1166.39 1535.67 1170.4 1530.68 Q1174.41 1525.68 1180.97 1525.68 Q1184.92 1525.68 1187.75 1527.24 Q1190.58 1528.8 1192.4 1531.95 L1192.4 1526.54 L1198.25 1526.54 L1198.25 1557.76 Z\" fill=\"#000000\" fill-rule=\"evenodd\" fill-opacity=\"1\" /><path clip-path=\"url(#clip570)\" d=\"M 0 0 M1231.48 1573.01 L1231.48 1577.56 L1197.62 1577.56 L1197.62 1573.01 L1231.48 1573.01 Z\" fill=\"#000000\" fill-rule=\"evenodd\" fill-opacity=\"1\" /><path clip-path=\"url(#clip570)\" d=\"M 0 0 M1258.28 1532.01 Q1257.3 1531.44 1256.12 1531.18 Q1254.97 1530.9 1253.57 1530.9 Q1248.61 1530.9 1245.93 1534.14 Q1243.29 1537.36 1243.29 1543.41 L1243.29 1562.19 L1237.4 1562.19 L1237.4 1526.54 L1243.29 1526.54 L1243.29 1532.08 Q1245.14 1528.83 1248.1 1527.27 Q1251.06 1525.68 1255.29 1525.68 Q1255.9 1525.68 1256.63 1525.77 Q1257.36 1525.84 1258.25 1526 L1258.28 1532.01 Z\" fill=\"#000000\" fill-rule=\"evenodd\" fill-opacity=\"1\" /><path clip-path=\"url(#clip570)\" d=\"M 0 0 M1280.63 1544.27 Q1273.53 1544.27 1270.79 1545.89 Q1268.05 1547.51 1268.05 1551.43 Q1268.05 1554.55 1270.09 1556.39 Q1272.16 1558.21 1275.69 1558.21 Q1280.56 1558.21 1283.49 1554.77 Q1286.45 1551.3 1286.45 1545.57 L1286.45 1544.27 L1280.63 1544.27 M1292.31 1541.85 L1292.31 1562.19 L1286.45 1562.19 L1286.45 1556.77 Q1284.45 1560.02 1281.45 1561.58 Q1278.46 1563.11 1274.13 1563.11 Q1268.66 1563.11 1265.41 1560.05 Q1262.2 1556.97 1262.2 1551.81 Q1262.2 1545.79 1266.21 1542.74 Q1270.25 1539.68 1278.24 1539.68 L1286.45 1539.68 L1286.45 1539.11 Q1286.45 1535.07 1283.78 1532.87 Q1281.14 1530.64 1276.33 1530.64 Q1273.27 1530.64 1270.38 1531.38 Q1267.48 1532.11 1264.81 1533.57 L1264.81 1528.16 Q1268.02 1526.92 1271.05 1526.31 Q1274.07 1525.68 1276.93 1525.68 Q1284.67 1525.68 1288.49 1529.69 Q1292.31 1533.7 1292.31 1541.85 Z\" fill=\"#000000\" fill-rule=\"evenodd\" fill-opacity=\"1\" /><path clip-path=\"url(#clip570)\" d=\"M 0 0 M1304.24 1516.42 L1304.24 1526.54 L1316.31 1526.54 L1316.31 1531.09 L1304.24 1531.09 L1304.24 1550.44 Q1304.24 1554.8 1305.42 1556.04 Q1306.63 1557.28 1310.29 1557.28 L1316.31 1557.28 L1316.31 1562.19 L1310.29 1562.19 Q1303.51 1562.19 1300.93 1559.67 Q1298.35 1557.12 1298.35 1550.44 L1298.35 1531.09 L1294.06 1531.09 L1294.06 1526.54 L1298.35 1526.54 L1298.35 1516.42 L1304.24 1516.42 Z\" fill=\"#000000\" fill-rule=\"evenodd\" fill-opacity=\"1\" /><path clip-path=\"url(#clip570)\" d=\"M 0 0 M1352.94 1542.9 L1352.94 1545.76 L1326.01 1545.76 Q1326.4 1551.81 1329.64 1554.99 Q1332.92 1558.14 1338.75 1558.14 Q1342.12 1558.14 1345.27 1557.32 Q1348.45 1556.49 1351.57 1554.83 L1351.57 1560.37 Q1348.42 1561.71 1345.11 1562.41 Q1341.8 1563.11 1338.39 1563.11 Q1329.86 1563.11 1324.87 1558.14 Q1319.9 1553.18 1319.9 1544.71 Q1319.9 1535.96 1324.61 1530.83 Q1329.36 1525.68 1337.38 1525.68 Q1344.57 1525.68 1348.74 1530.33 Q1352.94 1534.94 1352.94 1542.9 M1347.08 1541.18 Q1347.02 1536.37 1344.38 1533.51 Q1341.77 1530.64 1337.44 1530.64 Q1332.54 1530.64 1329.58 1533.41 Q1326.65 1536.18 1326.2 1541.21 L1347.08 1541.18 Z\" fill=\"#000000\" fill-rule=\"evenodd\" fill-opacity=\"1\" /><path clip-path=\"url(#clip570)\" d=\"M 0 0 M66.4881 887.401 L88.0042 887.401 L88.0042 893.258 L66.679 893.258 Q61.6183 893.258 59.1038 895.231 Q56.5894 897.205 56.5894 901.151 Q56.5894 905.894 59.6131 908.631 Q62.6368 911.368 67.8567 911.368 L88.0042 911.368 L88.0042 917.257 L52.3562 917.257 L52.3562 911.368 L57.8944 911.368 Q54.6797 909.268 53.0883 906.435 Q51.4968 903.57 51.4968 899.846 Q51.4968 893.703 55.3163 890.552 Q59.1038 887.401 66.4881 887.401 Z\" fill=\"#000000\" fill-rule=\"evenodd\" fill-opacity=\"1\" /><path clip-path=\"url(#clip570)\" d=\"M 0 0 M98.8259 854.172 L103.377 854.172 L103.377 888.038 L98.8259 888.038 L98.8259 854.172 Z\" fill=\"#000000\" fill-rule=\"evenodd\" fill-opacity=\"1\" /><path clip-path=\"url(#clip570)\" d=\"M 0 0 M68.7161 817.538 L71.5806 817.538 L71.5806 844.465 Q77.6281 844.083 80.8109 840.836 Q83.9619 837.558 83.9619 831.733 Q83.9619 828.359 83.1344 825.208 Q82.3069 822.026 80.6518 818.906 L86.1899 818.906 Q87.5267 822.057 88.227 825.368 Q88.9272 828.678 88.9272 832.083 Q88.9272 840.613 83.9619 845.611 Q78.9967 850.576 70.5303 850.576 Q61.7774 850.576 56.6531 845.865 Q51.4968 841.123 51.4968 833.102 Q51.4968 825.909 56.1438 821.739 Q60.7589 817.538 68.7161 817.538 M66.9973 823.394 Q62.1912 823.458 59.3266 826.1 Q56.4621 828.71 56.4621 833.038 Q56.4621 837.94 59.2312 840.9 Q62.0002 843.828 67.0292 844.274 L66.9973 823.394 Z\" fill=\"#000000\" fill-rule=\"evenodd\" fill-opacity=\"1\" /><path clip-path=\"url(#clip570)\" d=\"M 0 0 M53.4065 788.669 L58.9447 788.669 Q57.6716 791.152 57.035 793.826 Q56.3984 796.499 56.3984 799.364 Q56.3984 803.724 57.7352 805.92 Q59.072 808.085 61.7456 808.085 Q63.7826 808.085 64.9603 806.525 Q66.1061 804.966 67.1565 800.255 L67.6021 798.25 Q68.9389 792.011 71.3897 789.401 Q73.8086 786.76 78.1691 786.76 Q83.1344 786.76 86.0308 790.706 Q88.9272 794.621 88.9272 801.496 Q88.9272 804.361 88.3543 807.48 Q87.8132 810.567 86.6992 814.005 L80.6518 814.005 Q82.3387 810.758 83.198 807.607 Q84.0256 804.456 84.0256 801.369 Q84.0256 797.231 82.6251 795.003 Q81.1929 792.775 78.6147 792.775 Q76.2276 792.775 74.9545 794.398 Q73.6813 795.99 72.5037 801.433 L72.0262 803.47 Q70.8804 808.912 68.5251 811.331 Q66.138 813.75 62.0002 813.75 Q56.9713 813.75 54.2341 810.185 Q51.4968 806.621 51.4968 800.064 Q51.4968 796.817 51.9743 793.953 Q52.4517 791.088 53.4065 788.669 Z\" fill=\"#000000\" fill-rule=\"evenodd\" fill-opacity=\"1\" /><path clip-path=\"url(#clip570)\" d=\"M 0 0 M42.2347 774.824 L52.3562 774.824 L52.3562 762.761 L56.9077 762.761 L56.9077 774.824 L76.2594 774.824 Q80.6199 774.824 81.8613 773.646 Q83.1026 772.437 83.1026 768.776 L83.1026 762.761 L88.0042 762.761 L88.0042 768.776 Q88.0042 775.556 85.4897 778.134 Q82.9434 780.712 76.2594 780.712 L56.9077 780.712 L56.9077 785.009 L52.3562 785.009 L52.3562 780.712 L42.2347 780.712 L42.2347 774.824 Z\" fill=\"#000000\" fill-rule=\"evenodd\" fill-opacity=\"1\" /><path clip-path=\"url(#clip570)\" d=\"M 0 0 M52.3562 756.618 L52.3562 750.762 L88.0042 750.762 L88.0042 756.618 L52.3562 756.618 M38.479 756.618 L38.479 750.762 L45.895 750.762 L45.895 756.618 L38.479 756.618 Z\" fill=\"#000000\" fill-rule=\"evenodd\" fill-opacity=\"1\" /><path clip-path=\"url(#clip570)\" d=\"M 0 0 M59.1993 716.864 Q55.2526 714.668 53.3747 711.612 Q51.4968 708.557 51.4968 704.419 Q51.4968 698.849 55.4117 695.825 Q59.2948 692.802 66.4881 692.802 L88.0042 692.802 L88.0042 698.69 L66.679 698.69 Q61.5546 698.69 59.072 700.504 Q56.5894 702.318 56.5894 706.042 Q56.5894 710.594 59.6131 713.236 Q62.6368 715.877 67.8567 715.877 L88.0042 715.877 L88.0042 721.766 L66.679 721.766 Q61.5228 721.766 59.072 723.58 Q56.5894 725.394 56.5894 729.182 Q56.5894 733.67 59.6449 736.311 Q62.6686 738.953 67.8567 738.953 L88.0042 738.953 L88.0042 744.841 L52.3562 744.841 L52.3562 738.953 L57.8944 738.953 Q54.616 736.948 53.0564 734.147 Q51.4968 731.346 51.4968 727.495 Q51.4968 723.612 53.4702 720.906 Q55.4436 718.169 59.1993 716.864 Z\" fill=\"#000000\" fill-rule=\"evenodd\" fill-opacity=\"1\" /><path clip-path=\"url(#clip570)\" d=\"M 0 0 M70.0847 670.458 Q70.0847 677.556 71.7079 680.293 Q73.3312 683.03 77.2461 683.03 Q80.3653 683.03 82.2114 680.993 Q84.0256 678.925 84.0256 675.392 Q84.0256 670.522 80.5881 667.594 Q77.1188 664.634 71.3897 664.634 L70.0847 664.634 L70.0847 670.458 M67.6657 658.777 L88.0042 658.777 L88.0042 664.634 L82.5933 664.634 Q85.8398 666.639 87.3994 669.631 Q88.9272 672.622 88.9272 676.951 Q88.9272 682.426 85.8716 685.672 Q82.7843 688.887 77.6281 688.887 Q71.6125 688.887 68.5569 684.876 Q65.5014 680.834 65.5014 672.845 L65.5014 664.634 L64.9285 664.634 Q60.8862 664.634 58.6901 667.307 Q56.4621 669.949 56.4621 674.755 Q56.4621 677.811 57.1941 680.707 Q57.9262 683.603 59.3903 686.277 L53.9795 686.277 Q52.7381 683.062 52.1334 680.039 Q51.4968 677.015 51.4968 674.15 Q51.4968 666.416 55.5072 662.596 Q59.5176 658.777 67.6657 658.777 Z\" fill=\"#000000\" fill-rule=\"evenodd\" fill-opacity=\"1\" /><path clip-path=\"url(#clip570)\" d=\"M 0 0 M42.2347 646.841 L52.3562 646.841 L52.3562 634.778 L56.9077 634.778 L56.9077 646.841 L76.2594 646.841 Q80.6199 646.841 81.8613 645.664 Q83.1026 644.454 83.1026 640.794 L83.1026 634.778 L88.0042 634.778 L88.0042 640.794 Q88.0042 647.573 85.4897 650.152 Q82.9434 652.73 76.2594 652.73 L56.9077 652.73 L56.9077 657.026 L52.3562 657.026 L52.3562 652.73 L42.2347 652.73 L42.2347 646.841 Z\" fill=\"#000000\" fill-rule=\"evenodd\" fill-opacity=\"1\" /><path clip-path=\"url(#clip570)\" d=\"M 0 0 M56.4621 614.822 Q56.4621 619.532 60.1542 622.27 Q63.8145 625.007 70.212 625.007 Q76.6095 625.007 80.3017 622.302 Q83.9619 619.564 83.9619 614.822 Q83.9619 610.143 80.2698 607.406 Q76.5777 604.669 70.212 604.669 Q63.8781 604.669 60.186 607.406 Q56.4621 610.143 56.4621 614.822 M51.4968 614.822 Q51.4968 607.183 56.4621 602.822 Q61.4273 598.462 70.212 598.462 Q78.9649 598.462 83.9619 602.822 Q88.9272 607.183 88.9272 614.822 Q88.9272 622.493 83.9619 626.853 Q78.9649 631.182 70.212 631.182 Q61.4273 631.182 56.4621 626.853 Q51.4968 622.493 51.4968 614.822 Z\" fill=\"#000000\" fill-rule=\"evenodd\" fill-opacity=\"1\" /><path clip-path=\"url(#clip570)\" d=\"M 0 0 M57.8307 571.662 Q57.2578 572.649 57.0032 573.827 Q56.7167 574.973 56.7167 576.373 Q56.7167 581.338 59.9632 584.012 Q63.1779 586.654 69.2253 586.654 L88.0042 586.654 L88.0042 592.542 L52.3562 592.542 L52.3562 586.654 L57.8944 586.654 Q54.6479 584.808 53.0883 581.847 Q51.4968 578.887 51.4968 574.654 Q51.4968 574.049 51.5923 573.317 Q51.656 572.585 51.8151 571.694 L57.8307 571.662 Z\" fill=\"#000000\" fill-rule=\"evenodd\" fill-opacity=\"1\" /><path clip-path=\"url(#clip570)\" d=\"M 0 0 M53.4065 542.794 L58.9447 542.794 Q57.6716 545.277 57.035 547.95 Q56.3984 550.624 56.3984 553.488 Q56.3984 557.849 57.7352 560.045 Q59.072 562.209 61.7456 562.209 Q63.7826 562.209 64.9603 560.65 Q66.1061 559.09 67.1565 554.379 L67.6021 552.374 Q68.9389 546.136 71.3897 543.526 Q73.8086 540.884 78.1691 540.884 Q83.1344 540.884 86.0308 544.831 Q88.9272 548.746 88.9272 555.621 Q88.9272 558.485 88.3543 561.605 Q87.8132 564.692 86.6992 568.129 L80.6518 568.129 Q82.3387 564.883 83.198 561.732 Q84.0256 558.581 84.0256 555.493 Q84.0256 551.356 82.6251 549.128 Q81.1929 546.9 78.6147 546.9 Q76.2276 546.9 74.9545 548.523 Q73.6813 550.114 72.5037 555.557 L72.0262 557.594 Q70.8804 563.037 68.5251 565.456 Q66.138 567.875 62.0002 567.875 Q56.9713 567.875 54.2341 564.31 Q51.4968 560.745 51.4968 554.188 Q51.4968 550.942 51.9743 548.077 Q52.4517 545.213 53.4065 542.794 Z\" fill=\"#000000\" fill-rule=\"evenodd\" fill-opacity=\"1\" /><circle clip-path=\"url(#clip572)\" cx=\"2059.11\" cy=\"1372.3\" r=\"5\" fill=\"#010108\" fill-rule=\"evenodd\" fill-opacity=\"1\" stroke=\"#000000\" stroke-opacity=\"1\" stroke-width=\"3.2\"/>\n",
       "<circle clip-path=\"url(#clip572)\" cx=\"1065.66\" cy=\"1072.57\" r=\"4\" fill=\"#000004\" fill-rule=\"evenodd\" fill-opacity=\"1\" stroke=\"#000000\" stroke-opacity=\"1\" stroke-width=\"3.2\"/>\n",
       "<circle clip-path=\"url(#clip572)\" cx=\"270.908\" cy=\"372.103\" r=\"4\" fill=\"#000005\" fill-rule=\"evenodd\" fill-opacity=\"1\" stroke=\"#000000\" stroke-opacity=\"1\" stroke-width=\"3.2\"/>\n",
       "<circle clip-path=\"url(#clip572)\" cx=\"1065.66\" cy=\"372.103\" r=\"7\" fill=\"#050317\" fill-rule=\"evenodd\" fill-opacity=\"1\" stroke=\"#000000\" stroke-opacity=\"1\" stroke-width=\"3.2\"/>\n",
       "<circle clip-path=\"url(#clip572)\" cx=\"469.597\" cy=\"228.842\" r=\"4\" fill=\"#000005\" fill-rule=\"evenodd\" fill-opacity=\"1\" stroke=\"#000000\" stroke-opacity=\"1\" stroke-width=\"3.2\"/>\n",
       "<circle clip-path=\"url(#clip572)\" cx=\"668.286\" cy=\"514.66\" r=\"3\" fill=\"#000004\" fill-rule=\"evenodd\" fill-opacity=\"1\" stroke=\"#000000\" stroke-opacity=\"1\" stroke-width=\"3.2\"/>\n",
       "<circle clip-path=\"url(#clip572)\" cx=\"1661.73\" cy=\"1072.57\" r=\"5\" fill=\"#01010b\" fill-rule=\"evenodd\" fill-opacity=\"1\" stroke=\"#000000\" stroke-opacity=\"1\" stroke-width=\"3.2\"/>\n",
       "<circle clip-path=\"url(#clip572)\" cx=\"1065.66\" cy=\"796.643\" r=\"4\" fill=\"#000005\" fill-rule=\"evenodd\" fill-opacity=\"1\" stroke=\"#000000\" stroke-opacity=\"1\" stroke-width=\"3.2\"/>\n",
       "<circle clip-path=\"url(#clip572)\" cx=\"1860.42\" cy=\"1372.3\" r=\"5\" fill=\"#010108\" fill-rule=\"evenodd\" fill-opacity=\"1\" stroke=\"#000000\" stroke-opacity=\"1\" stroke-width=\"3.2\"/>\n",
       "<circle clip-path=\"url(#clip572)\" cx=\"469.597\" cy=\"1072.57\" r=\"4\" fill=\"#010008\" fill-rule=\"evenodd\" fill-opacity=\"1\" stroke=\"#000000\" stroke-opacity=\"1\" stroke-width=\"3.2\"/>\n",
       "<circle clip-path=\"url(#clip572)\" cx=\"1860.42\" cy=\"659.276\" r=\"11\" fill=\"#120a32\" fill-rule=\"evenodd\" fill-opacity=\"1\" stroke=\"#000000\" stroke-opacity=\"1\" stroke-width=\"3.2\"/>\n",
       "<circle clip-path=\"url(#clip572)\" cx=\"2059.11\" cy=\"1072.57\" r=\"28\" fill=\"#751b6d\" fill-rule=\"evenodd\" fill-opacity=\"1\" stroke=\"#000000\" stroke-opacity=\"1\" stroke-width=\"3.2\"/>\n",
       "<circle clip-path=\"url(#clip572)\" cx=\"668.286\" cy=\"943.481\" r=\"4\" fill=\"#010007\" fill-rule=\"evenodd\" fill-opacity=\"1\" stroke=\"#000000\" stroke-opacity=\"1\" stroke-width=\"3.2\"/>\n",
       "<circle clip-path=\"url(#clip572)\" cx=\"270.908\" cy=\"514.66\" r=\"4\" fill=\"#010007\" fill-rule=\"evenodd\" fill-opacity=\"1\" stroke=\"#000000\" stroke-opacity=\"1\" stroke-width=\"3.2\"/>\n",
       "<circle clip-path=\"url(#clip572)\" cx=\"469.597\" cy=\"796.643\" r=\"4\" fill=\"#010007\" fill-rule=\"evenodd\" fill-opacity=\"1\" stroke=\"#000000\" stroke-opacity=\"1\" stroke-width=\"3.2\"/>\n",
       "<circle clip-path=\"url(#clip572)\" cx=\"1065.66\" cy=\"514.66\" r=\"6\" fill=\"#030211\" fill-rule=\"evenodd\" fill-opacity=\"1\" stroke=\"#000000\" stroke-opacity=\"1\" stroke-width=\"3.2\"/>\n",
       "<circle clip-path=\"url(#clip572)\" cx=\"1661.73\" cy=\"1372.3\" r=\"5\" fill=\"#010108\" fill-rule=\"evenodd\" fill-opacity=\"1\" stroke=\"#000000\" stroke-opacity=\"1\" stroke-width=\"3.2\"/>\n",
       "<circle clip-path=\"url(#clip572)\" cx=\"866.975\" cy=\"1072.57\" r=\"4\" fill=\"#010007\" fill-rule=\"evenodd\" fill-opacity=\"1\" stroke=\"#000000\" stroke-opacity=\"1\" stroke-width=\"3.2\"/>\n",
       "<circle clip-path=\"url(#clip572)\" cx=\"469.597\" cy=\"1372.3\" r=\"5\" fill=\"#010108\" fill-rule=\"evenodd\" fill-opacity=\"1\" stroke=\"#000000\" stroke-opacity=\"1\" stroke-width=\"3.2\"/>\n",
       "<circle clip-path=\"url(#clip572)\" cx=\"1264.35\" cy=\"85.838\" r=\"8\" fill=\"#08051e\" fill-rule=\"evenodd\" fill-opacity=\"1\" stroke=\"#000000\" stroke-opacity=\"1\" stroke-width=\"3.2\"/>\n",
       "<circle clip-path=\"url(#clip572)\" cx=\"1661.73\" cy=\"228.842\" r=\"8\" fill=\"#06051b\" fill-rule=\"evenodd\" fill-opacity=\"1\" stroke=\"#000000\" stroke-opacity=\"1\" stroke-width=\"3.2\"/>\n",
       "<circle clip-path=\"url(#clip572)\" cx=\"1264.35\" cy=\"228.842\" r=\"8\" fill=\"#07051d\" fill-rule=\"evenodd\" fill-opacity=\"1\" stroke=\"#000000\" stroke-opacity=\"1\" stroke-width=\"3.2\"/>\n",
       "<circle clip-path=\"url(#clip572)\" cx=\"1463.04\" cy=\"1072.57\" r=\"4\" fill=\"#000006\" fill-rule=\"evenodd\" fill-opacity=\"1\" stroke=\"#000000\" stroke-opacity=\"1\" stroke-width=\"3.2\"/>\n",
       "<circle clip-path=\"url(#clip572)\" cx=\"1661.73\" cy=\"659.276\" r=\"7\" fill=\"#040315\" fill-rule=\"evenodd\" fill-opacity=\"1\" stroke=\"#000000\" stroke-opacity=\"1\" stroke-width=\"3.2\"/>\n",
       "<circle clip-path=\"url(#clip572)\" cx=\"2059.11\" cy=\"1243.21\" r=\"61\" fill=\"#fcfea4\" fill-rule=\"evenodd\" fill-opacity=\"1\" stroke=\"#000000\" stroke-opacity=\"1\" stroke-width=\"3.2\"/>\n",
       "<circle clip-path=\"url(#clip572)\" cx=\"1463.04\" cy=\"228.842\" r=\"8\" fill=\"#08051e\" fill-rule=\"evenodd\" fill-opacity=\"1\" stroke=\"#000000\" stroke-opacity=\"1\" stroke-width=\"3.2\"/>\n",
       "<circle clip-path=\"url(#clip572)\" cx=\"668.286\" cy=\"659.276\" r=\"4\" fill=\"#000004\" fill-rule=\"evenodd\" fill-opacity=\"1\" stroke=\"#000000\" stroke-opacity=\"1\" stroke-width=\"3.2\"/>\n",
       "<circle clip-path=\"url(#clip572)\" cx=\"2059.11\" cy=\"372.103\" r=\"9\" fill=\"#0b0725\" fill-rule=\"evenodd\" fill-opacity=\"1\" stroke=\"#000000\" stroke-opacity=\"1\" stroke-width=\"3.2\"/>\n",
       "<circle clip-path=\"url(#clip572)\" cx=\"1860.42\" cy=\"514.66\" r=\"9\" fill=\"#0b0726\" fill-rule=\"evenodd\" fill-opacity=\"1\" stroke=\"#000000\" stroke-opacity=\"1\" stroke-width=\"3.2\"/>\n",
       "<circle clip-path=\"url(#clip572)\" cx=\"1463.04\" cy=\"514.66\" r=\"8\" fill=\"#06041b\" fill-rule=\"evenodd\" fill-opacity=\"1\" stroke=\"#000000\" stroke-opacity=\"1\" stroke-width=\"3.2\"/>\n",
       "<circle clip-path=\"url(#clip572)\" cx=\"1065.66\" cy=\"943.481\" r=\"3\" fill=\"#000004\" fill-rule=\"evenodd\" fill-opacity=\"1\" stroke=\"#000000\" stroke-opacity=\"1\" stroke-width=\"3.2\"/>\n",
       "<circle clip-path=\"url(#clip572)\" cx=\"270.908\" cy=\"85.838\" r=\"4\" fill=\"#000004\" fill-rule=\"evenodd\" fill-opacity=\"1\" stroke=\"#000000\" stroke-opacity=\"1\" stroke-width=\"3.2\"/>\n",
       "<circle clip-path=\"url(#clip572)\" cx=\"2059.11\" cy=\"659.276\" r=\"9\" fill=\"#0a0723\" fill-rule=\"evenodd\" fill-opacity=\"1\" stroke=\"#000000\" stroke-opacity=\"1\" stroke-width=\"3.2\"/>\n",
       "<circle clip-path=\"url(#clip572)\" cx=\"1264.35\" cy=\"1372.3\" r=\"5\" fill=\"#010108\" fill-rule=\"evenodd\" fill-opacity=\"1\" stroke=\"#000000\" stroke-opacity=\"1\" stroke-width=\"3.2\"/>\n",
       "<circle clip-path=\"url(#clip572)\" cx=\"270.908\" cy=\"1243.21\" r=\"5\" fill=\"#010108\" fill-rule=\"evenodd\" fill-opacity=\"1\" stroke=\"#000000\" stroke-opacity=\"1\" stroke-width=\"3.2\"/>\n",
       "<circle clip-path=\"url(#clip572)\" cx=\"1463.04\" cy=\"796.643\" r=\"7\" fill=\"#040314\" fill-rule=\"evenodd\" fill-opacity=\"1\" stroke=\"#000000\" stroke-opacity=\"1\" stroke-width=\"3.2\"/>\n",
       "<circle clip-path=\"url(#clip572)\" cx=\"469.597\" cy=\"85.838\" r=\"5\" fill=\"#01010a\" fill-rule=\"evenodd\" fill-opacity=\"1\" stroke=\"#000000\" stroke-opacity=\"1\" stroke-width=\"3.2\"/>\n",
       "<circle clip-path=\"url(#clip572)\" cx=\"1661.73\" cy=\"796.643\" r=\"6\" fill=\"#030212\" fill-rule=\"evenodd\" fill-opacity=\"1\" stroke=\"#000000\" stroke-opacity=\"1\" stroke-width=\"3.2\"/>\n",
       "<circle clip-path=\"url(#clip572)\" cx=\"1264.35\" cy=\"943.481\" r=\"4\" fill=\"#000005\" fill-rule=\"evenodd\" fill-opacity=\"1\" stroke=\"#000000\" stroke-opacity=\"1\" stroke-width=\"3.2\"/>\n",
       "<circle clip-path=\"url(#clip572)\" cx=\"1661.73\" cy=\"1243.21\" r=\"5\" fill=\"#010109\" fill-rule=\"evenodd\" fill-opacity=\"1\" stroke=\"#000000\" stroke-opacity=\"1\" stroke-width=\"3.2\"/>\n",
       "<circle clip-path=\"url(#clip572)\" cx=\"2059.11\" cy=\"85.838\" r=\"9\" fill=\"#0a0724\" fill-rule=\"evenodd\" fill-opacity=\"1\" stroke=\"#000000\" stroke-opacity=\"1\" stroke-width=\"3.2\"/>\n",
       "<circle clip-path=\"url(#clip572)\" cx=\"1264.35\" cy=\"514.66\" r=\"7\" fill=\"#050418\" fill-rule=\"evenodd\" fill-opacity=\"1\" stroke=\"#000000\" stroke-opacity=\"1\" stroke-width=\"3.2\"/>\n",
       "<circle clip-path=\"url(#clip572)\" cx=\"469.597\" cy=\"943.481\" r=\"4\" fill=\"#010008\" fill-rule=\"evenodd\" fill-opacity=\"1\" stroke=\"#000000\" stroke-opacity=\"1\" stroke-width=\"3.2\"/>\n",
       "<circle clip-path=\"url(#clip572)\" cx=\"668.286\" cy=\"796.643\" r=\"4\" fill=\"#000006\" fill-rule=\"evenodd\" fill-opacity=\"1\" stroke=\"#000000\" stroke-opacity=\"1\" stroke-width=\"3.2\"/>\n",
       "<circle clip-path=\"url(#clip572)\" cx=\"1661.73\" cy=\"514.66\" r=\"7\" fill=\"#050418\" fill-rule=\"evenodd\" fill-opacity=\"1\" stroke=\"#000000\" stroke-opacity=\"1\" stroke-width=\"3.2\"/>\n",
       "<circle clip-path=\"url(#clip572)\" cx=\"668.286\" cy=\"1072.57\" r=\"4\" fill=\"#010008\" fill-rule=\"evenodd\" fill-opacity=\"1\" stroke=\"#000000\" stroke-opacity=\"1\" stroke-width=\"3.2\"/>\n",
       "<circle clip-path=\"url(#clip572)\" cx=\"270.908\" cy=\"1072.57\" r=\"5\" fill=\"#010108\" fill-rule=\"evenodd\" fill-opacity=\"1\" stroke=\"#000000\" stroke-opacity=\"1\" stroke-width=\"3.2\"/>\n",
       "<circle clip-path=\"url(#clip572)\" cx=\"866.975\" cy=\"1243.21\" r=\"4\" fill=\"#010008\" fill-rule=\"evenodd\" fill-opacity=\"1\" stroke=\"#000000\" stroke-opacity=\"1\" stroke-width=\"3.2\"/>\n",
       "<circle clip-path=\"url(#clip572)\" cx=\"469.597\" cy=\"1243.21\" r=\"5\" fill=\"#010108\" fill-rule=\"evenodd\" fill-opacity=\"1\" stroke=\"#000000\" stroke-opacity=\"1\" stroke-width=\"3.2\"/>\n",
       "<circle clip-path=\"url(#clip572)\" cx=\"2059.11\" cy=\"796.643\" r=\"10\" fill=\"#0e082b\" fill-rule=\"evenodd\" fill-opacity=\"1\" stroke=\"#000000\" stroke-opacity=\"1\" stroke-width=\"3.2\"/>\n",
       "<circle clip-path=\"url(#clip572)\" cx=\"2059.11\" cy=\"943.481\" r=\"16\" fill=\"#270b53\" fill-rule=\"evenodd\" fill-opacity=\"1\" stroke=\"#000000\" stroke-opacity=\"1\" stroke-width=\"3.2\"/>\n",
       "<circle clip-path=\"url(#clip572)\" cx=\"469.597\" cy=\"514.66\" r=\"4\" fill=\"#000005\" fill-rule=\"evenodd\" fill-opacity=\"1\" stroke=\"#000000\" stroke-opacity=\"1\" stroke-width=\"3.2\"/>\n",
       "<circle clip-path=\"url(#clip572)\" cx=\"668.286\" cy=\"372.103\" r=\"4\" fill=\"#000006\" fill-rule=\"evenodd\" fill-opacity=\"1\" stroke=\"#000000\" stroke-opacity=\"1\" stroke-width=\"3.2\"/>\n",
       "<circle clip-path=\"url(#clip572)\" cx=\"1860.42\" cy=\"228.842\" r=\"9\" fill=\"#0b0724\" fill-rule=\"evenodd\" fill-opacity=\"1\" stroke=\"#000000\" stroke-opacity=\"1\" stroke-width=\"3.2\"/>\n",
       "<circle clip-path=\"url(#clip572)\" cx=\"270.908\" cy=\"228.842\" r=\"3\" fill=\"#000004\" fill-rule=\"evenodd\" fill-opacity=\"1\" stroke=\"#000000\" stroke-opacity=\"1\" stroke-width=\"3.2\"/>\n",
       "<circle clip-path=\"url(#clip572)\" cx=\"1661.73\" cy=\"372.103\" r=\"8\" fill=\"#06041a\" fill-rule=\"evenodd\" fill-opacity=\"1\" stroke=\"#000000\" stroke-opacity=\"1\" stroke-width=\"3.2\"/>\n",
       "<circle clip-path=\"url(#clip572)\" cx=\"668.286\" cy=\"228.842\" r=\"5\" fill=\"#02010d\" fill-rule=\"evenodd\" fill-opacity=\"1\" stroke=\"#000000\" stroke-opacity=\"1\" stroke-width=\"3.2\"/>\n",
       "<circle clip-path=\"url(#clip572)\" cx=\"2059.11\" cy=\"228.842\" r=\"9\" fill=\"#0b0724\" fill-rule=\"evenodd\" fill-opacity=\"1\" stroke=\"#000000\" stroke-opacity=\"1\" stroke-width=\"3.2\"/>\n",
       "<circle clip-path=\"url(#clip572)\" cx=\"1860.42\" cy=\"1243.21\" r=\"17\" fill=\"#31095c\" fill-rule=\"evenodd\" fill-opacity=\"1\" stroke=\"#000000\" stroke-opacity=\"1\" stroke-width=\"3.2\"/>\n",
       "<circle clip-path=\"url(#clip572)\" cx=\"866.975\" cy=\"85.838\" r=\"7\" fill=\"#060419\" fill-rule=\"evenodd\" fill-opacity=\"1\" stroke=\"#000000\" stroke-opacity=\"1\" stroke-width=\"3.2\"/>\n",
       "<circle clip-path=\"url(#clip572)\" cx=\"270.908\" cy=\"1372.3\" r=\"5\" fill=\"#010108\" fill-rule=\"evenodd\" fill-opacity=\"1\" stroke=\"#000000\" stroke-opacity=\"1\" stroke-width=\"3.2\"/>\n",
       "<circle clip-path=\"url(#clip572)\" cx=\"1065.66\" cy=\"228.842\" r=\"8\" fill=\"#06041a\" fill-rule=\"evenodd\" fill-opacity=\"1\" stroke=\"#000000\" stroke-opacity=\"1\" stroke-width=\"3.2\"/>\n",
       "<circle clip-path=\"url(#clip572)\" cx=\"1264.35\" cy=\"796.643\" r=\"5\" fill=\"#02010c\" fill-rule=\"evenodd\" fill-opacity=\"1\" stroke=\"#000000\" stroke-opacity=\"1\" stroke-width=\"3.2\"/>\n",
       "<circle clip-path=\"url(#clip572)\" cx=\"469.597\" cy=\"372.103\" r=\"3\" fill=\"#000004\" fill-rule=\"evenodd\" fill-opacity=\"1\" stroke=\"#000000\" stroke-opacity=\"1\" stroke-width=\"3.2\"/>\n",
       "<circle clip-path=\"url(#clip572)\" cx=\"866.975\" cy=\"1372.3\" r=\"5\" fill=\"#010108\" fill-rule=\"evenodd\" fill-opacity=\"1\" stroke=\"#000000\" stroke-opacity=\"1\" stroke-width=\"3.2\"/>\n",
       "<circle clip-path=\"url(#clip572)\" cx=\"1463.04\" cy=\"1243.21\" r=\"3\" fill=\"#000004\" fill-rule=\"evenodd\" fill-opacity=\"1\" stroke=\"#000000\" stroke-opacity=\"1\" stroke-width=\"3.2\"/>\n",
       "<circle clip-path=\"url(#clip572)\" cx=\"1065.66\" cy=\"659.276\" r=\"5\" fill=\"#01010a\" fill-rule=\"evenodd\" fill-opacity=\"1\" stroke=\"#000000\" stroke-opacity=\"1\" stroke-width=\"3.2\"/>\n",
       "<circle clip-path=\"url(#clip572)\" cx=\"469.597\" cy=\"659.276\" r=\"4\" fill=\"#010007\" fill-rule=\"evenodd\" fill-opacity=\"1\" stroke=\"#000000\" stroke-opacity=\"1\" stroke-width=\"3.2\"/>\n",
       "<circle clip-path=\"url(#clip572)\" cx=\"1463.04\" cy=\"943.481\" r=\"5\" fill=\"#02010d\" fill-rule=\"evenodd\" fill-opacity=\"1\" stroke=\"#000000\" stroke-opacity=\"1\" stroke-width=\"3.2\"/>\n",
       "<circle clip-path=\"url(#clip572)\" cx=\"668.286\" cy=\"1372.3\" r=\"5\" fill=\"#010108\" fill-rule=\"evenodd\" fill-opacity=\"1\" stroke=\"#000000\" stroke-opacity=\"1\" stroke-width=\"3.2\"/>\n",
       "<circle clip-path=\"url(#clip572)\" cx=\"270.908\" cy=\"796.643\" r=\"4\" fill=\"#010008\" fill-rule=\"evenodd\" fill-opacity=\"1\" stroke=\"#000000\" stroke-opacity=\"1\" stroke-width=\"3.2\"/>\n",
       "<circle clip-path=\"url(#clip572)\" cx=\"1463.04\" cy=\"372.103\" r=\"8\" fill=\"#07051d\" fill-rule=\"evenodd\" fill-opacity=\"1\" stroke=\"#000000\" stroke-opacity=\"1\" stroke-width=\"3.2\"/>\n",
       "<circle clip-path=\"url(#clip572)\" cx=\"1463.04\" cy=\"659.276\" r=\"7\" fill=\"#050418\" fill-rule=\"evenodd\" fill-opacity=\"1\" stroke=\"#000000\" stroke-opacity=\"1\" stroke-width=\"3.2\"/>\n",
       "<circle clip-path=\"url(#clip572)\" cx=\"1860.42\" cy=\"85.838\" r=\"9\" fill=\"#0b0724\" fill-rule=\"evenodd\" fill-opacity=\"1\" stroke=\"#000000\" stroke-opacity=\"1\" stroke-width=\"3.2\"/>\n",
       "<circle clip-path=\"url(#clip572)\" cx=\"1264.35\" cy=\"372.103\" r=\"8\" fill=\"#06041b\" fill-rule=\"evenodd\" fill-opacity=\"1\" stroke=\"#000000\" stroke-opacity=\"1\" stroke-width=\"3.2\"/>\n",
       "<circle clip-path=\"url(#clip572)\" cx=\"866.975\" cy=\"943.481\" r=\"4\" fill=\"#000005\" fill-rule=\"evenodd\" fill-opacity=\"1\" stroke=\"#000000\" stroke-opacity=\"1\" stroke-width=\"3.2\"/>\n",
       "<circle clip-path=\"url(#clip572)\" cx=\"1860.42\" cy=\"943.481\" r=\"18\" fill=\"#380962\" fill-rule=\"evenodd\" fill-opacity=\"1\" stroke=\"#000000\" stroke-opacity=\"1\" stroke-width=\"3.2\"/>\n",
       "<circle clip-path=\"url(#clip572)\" cx=\"1463.04\" cy=\"1372.3\" r=\"5\" fill=\"#010108\" fill-rule=\"evenodd\" fill-opacity=\"1\" stroke=\"#000000\" stroke-opacity=\"1\" stroke-width=\"3.2\"/>\n",
       "<circle clip-path=\"url(#clip572)\" cx=\"1264.35\" cy=\"1072.57\" r=\"3\" fill=\"#000003\" fill-rule=\"evenodd\" fill-opacity=\"1\" stroke=\"#000000\" stroke-opacity=\"1\" stroke-width=\"3.2\"/>\n",
       "<circle clip-path=\"url(#clip572)\" cx=\"1860.42\" cy=\"372.103\" r=\"9\" fill=\"#0a0724\" fill-rule=\"evenodd\" fill-opacity=\"1\" stroke=\"#000000\" stroke-opacity=\"1\" stroke-width=\"3.2\"/>\n",
       "<circle clip-path=\"url(#clip572)\" cx=\"866.975\" cy=\"796.643\" r=\"3\" fill=\"#000004\" fill-rule=\"evenodd\" fill-opacity=\"1\" stroke=\"#000000\" stroke-opacity=\"1\" stroke-width=\"3.2\"/>\n",
       "<circle clip-path=\"url(#clip572)\" cx=\"1463.04\" cy=\"85.838\" r=\"8\" fill=\"#08061f\" fill-rule=\"evenodd\" fill-opacity=\"1\" stroke=\"#000000\" stroke-opacity=\"1\" stroke-width=\"3.2\"/>\n",
       "<circle clip-path=\"url(#clip572)\" cx=\"270.908\" cy=\"943.481\" r=\"5\" fill=\"#010108\" fill-rule=\"evenodd\" fill-opacity=\"1\" stroke=\"#000000\" stroke-opacity=\"1\" stroke-width=\"3.2\"/>\n",
       "<circle clip-path=\"url(#clip572)\" cx=\"668.286\" cy=\"85.838\" r=\"6\" fill=\"#040314\" fill-rule=\"evenodd\" fill-opacity=\"1\" stroke=\"#000000\" stroke-opacity=\"1\" stroke-width=\"3.2\"/>\n",
       "<circle clip-path=\"url(#clip572)\" cx=\"866.975\" cy=\"372.103\" r=\"6\" fill=\"#02020f\" fill-rule=\"evenodd\" fill-opacity=\"1\" stroke=\"#000000\" stroke-opacity=\"1\" stroke-width=\"3.2\"/>\n",
       "<circle clip-path=\"url(#clip572)\" cx=\"866.975\" cy=\"659.276\" r=\"3\" fill=\"#000004\" fill-rule=\"evenodd\" fill-opacity=\"1\" stroke=\"#000000\" stroke-opacity=\"1\" stroke-width=\"3.2\"/>\n",
       "<circle clip-path=\"url(#clip572)\" cx=\"866.975\" cy=\"228.842\" r=\"7\" fill=\"#040315\" fill-rule=\"evenodd\" fill-opacity=\"1\" stroke=\"#000000\" stroke-opacity=\"1\" stroke-width=\"3.2\"/>\n",
       "<circle clip-path=\"url(#clip572)\" cx=\"1661.73\" cy=\"85.838\" r=\"8\" fill=\"#06051b\" fill-rule=\"evenodd\" fill-opacity=\"1\" stroke=\"#000000\" stroke-opacity=\"1\" stroke-width=\"3.2\"/>\n",
       "<circle clip-path=\"url(#clip572)\" cx=\"1860.42\" cy=\"796.643\" r=\"12\" fill=\"#160b3a\" fill-rule=\"evenodd\" fill-opacity=\"1\" stroke=\"#000000\" stroke-opacity=\"1\" stroke-width=\"3.2\"/>\n",
       "<circle clip-path=\"url(#clip572)\" cx=\"668.286\" cy=\"1243.21\" r=\"5\" fill=\"#010108\" fill-rule=\"evenodd\" fill-opacity=\"1\" stroke=\"#000000\" stroke-opacity=\"1\" stroke-width=\"3.2\"/>\n",
       "<circle clip-path=\"url(#clip572)\" cx=\"866.975\" cy=\"514.66\" r=\"4\" fill=\"#010008\" fill-rule=\"evenodd\" fill-opacity=\"1\" stroke=\"#000000\" stroke-opacity=\"1\" stroke-width=\"3.2\"/>\n",
       "<circle clip-path=\"url(#clip572)\" cx=\"2059.11\" cy=\"514.66\" r=\"9\" fill=\"#0a0623\" fill-rule=\"evenodd\" fill-opacity=\"1\" stroke=\"#000000\" stroke-opacity=\"1\" stroke-width=\"3.2\"/>\n",
       "<circle clip-path=\"url(#clip572)\" cx=\"1065.66\" cy=\"1372.3\" r=\"5\" fill=\"#010108\" fill-rule=\"evenodd\" fill-opacity=\"1\" stroke=\"#000000\" stroke-opacity=\"1\" stroke-width=\"3.2\"/>\n",
       "<circle clip-path=\"url(#clip572)\" cx=\"270.908\" cy=\"659.276\" r=\"4\" fill=\"#010008\" fill-rule=\"evenodd\" fill-opacity=\"1\" stroke=\"#000000\" stroke-opacity=\"1\" stroke-width=\"3.2\"/>\n",
       "<circle clip-path=\"url(#clip572)\" cx=\"1065.66\" cy=\"1243.21\" r=\"4\" fill=\"#010008\" fill-rule=\"evenodd\" fill-opacity=\"1\" stroke=\"#000000\" stroke-opacity=\"1\" stroke-width=\"3.2\"/>\n",
       "<circle clip-path=\"url(#clip572)\" cx=\"1661.73\" cy=\"943.481\" r=\"6\" fill=\"#02020e\" fill-rule=\"evenodd\" fill-opacity=\"1\" stroke=\"#000000\" stroke-opacity=\"1\" stroke-width=\"3.2\"/>\n",
       "<circle clip-path=\"url(#clip572)\" cx=\"1264.35\" cy=\"1243.21\" r=\"3\" fill=\"#000004\" fill-rule=\"evenodd\" fill-opacity=\"1\" stroke=\"#000000\" stroke-opacity=\"1\" stroke-width=\"3.2\"/>\n",
       "<circle clip-path=\"url(#clip572)\" cx=\"1860.42\" cy=\"1072.57\" r=\"12\" fill=\"#160b39\" fill-rule=\"evenodd\" fill-opacity=\"1\" stroke=\"#000000\" stroke-opacity=\"1\" stroke-width=\"3.2\"/>\n",
       "<circle clip-path=\"url(#clip572)\" cx=\"1264.35\" cy=\"659.276\" r=\"6\" fill=\"#030313\" fill-rule=\"evenodd\" fill-opacity=\"1\" stroke=\"#000000\" stroke-opacity=\"1\" stroke-width=\"3.2\"/>\n",
       "<circle clip-path=\"url(#clip572)\" cx=\"1065.66\" cy=\"85.838\" r=\"8\" fill=\"#07051c\" fill-rule=\"evenodd\" fill-opacity=\"1\" stroke=\"#000000\" stroke-opacity=\"1\" stroke-width=\"3.2\"/>\n",
       "<defs>\n",
       "  <clipPath id=\"clip573\">\n",
       "    <rect x=\"2160\" y=\"47\" width=\"73\" height=\"1365\"/>\n",
       "  </clipPath>\n",
       "</defs>\n",
       "<g clip-path=\"url(#clip573)\">\n",
       "<image width=\"72\" height=\"1364\" xlink:href=\"data:image/png;base64,\n",
       "iVBORw0KGgoAAAANSUhEUgAAAEgAAAVUCAYAAABzwV4AAAAL0klEQVR4nO3dwY3sRhAFQY5Q/lsh\n",
       "L6XfLQtUeSQPERYsEg+zZJM7+/v3/H0f/tdfb/8AXydQECgIFAQKc+6/b/8Mn2ZBQaAgUBAozL1/\n",
       "3v4ZPs2CgkBBoCBQcCUdLCgIFAQKAgWBwly/xVYWFAQKAgWBwtzjQ3pjQUGgIFAQKLiSDhYUBAoC\n",
       "BYGCQMFvsWBBQaAgUBAoOA8KFhQECgIFgcI8rqRXFhQECgIFgYJAwXlQsKAgUBAoCBTmcR60sqAg\n",
       "UBAoCBTmOf+8/TN8mgUFgYJAQaAgUPBUI1hQECgIFAQKzoOCBQWBgkBBoOBDOlhQECgIFAQKAgXn\n",
       "QcGCgkBBoCBQmJ9bjZUFBYGCQEGgMM/xpf8bCwoCBYGCQEGg4FYjWFAQKAgUBApuNYIFBYGCQEGg\n",
       "4P2gYEFBoCBQECgIFObnVmNlQUGgIFAQKHiJM1hQECgIFAQKrqSDBQWBgkBBoCBQ8Og5WFAQKAgU\n",
       "BApuNYIFBYGCQEGg4Eo6WFAQKAgUBAoCBbcawYKCQEGgIFCY55y3f4ZPs6AgUBAoCBRcSQcLCgIF\n",
       "gYJAQaDgqUawoCBQECgIFHxIBwsKAgWBgkBhfg7tVxYUBAoCBYGCQMGtRrCgIFAQKAgUvB8ULCgI\n",
       "FAQKAgXnQcGCgkBBoCBQECg4DwoWFAQKAgWBgvOgYEFBoCBQECj4kA4WFAQKAgWBgkDBXz0HCwoC\n",
       "BYGCQMGtRrCgIFAQKAgUfEgHCwoCBYGCQEGg4LdYsKAgUBAoCBR8SAcLCgIFgYJAYZ7rQ3pjQUGg\n",
       "IFAQKAgU3GoECwoCBYGCQMGHdLCgIFAQKAgUfEgHCwoCBYGCQEGgMM+5b/8Mn2ZBQaAgUBAouNUI\n",
       "FhQECgIFgYIr6WBBQaAgUBAoCBTcagQLCgIFgYJAwa1GsKAgUBAoCBTmcSG9sqAgUBAoCBQECvNc\n",
       "txobCwoCBYGCQMGtRrCgIFAQKAgUfEgHCwoCBYGCQEGgML4Eb2dBQaAgUBAouNUIFhQECgIFgYIP\n",
       "6WBBQaAgUBAoCBTmOb+3f4ZPs6AgUBAoCBTmXh/SGwsKAgWBgkDBeVCwoCBQECgIFBx3BAsKAgWB\n",
       "gkBBoDD3aLRRJwgUBAoCBbcawYKCQEGgIFCYx5PVlQUFgYJAQaAgUJjrVmNlQUGgIFAQKMzj0H6l\n",
       "ThAoCBQECq6kgwUFgYJAQaAgUPBUI1hQECgIFAQKXuIM6gSBgkBBoOAlzmBBQaAgUBAoCBQ81QgW\n",
       "FAQKAgWBwtyr0UadIFAQKAgUnAcFCwoCBYGCQEGg4DwoWFAQKAgUBArzOA9aqRMECgIFgYIr6WBB\n",
       "QaAgUBAoCBT8FgsWFAQKAgWBgj/qDRYUBAoCBYGCP+oN6gSBgkBBoCBQ8P/mgwUFgYJAQaDg0D5Y\n",
       "UBAoCBQECr70P6gTBAoCBYGCQMF5ULCgIFAQKAgUnAcFCwoCBYGCQMGVdLCgIFAQKAgUBArecg3q\n",
       "BIGCQEGg4FYjWFAQKAgUBAoO7YMFBYGCQEGgIFBwqxEsKAgUBAoCBf+6JlhQECgIFAQK/glkUCcI\n",
       "FAQKAgWBgvOgYEFBoCBQECh49BwsKAgUBAoCBVfSwYKCQEGgIFAQKMzxW2xlQUGgIFAQKPij3qBO\n",
       "ECgIFAQKzoOCBQWBgkBBoCBQ8FssWFAQKAgUBAreDwoWFAQKAgWBgivpYEFBoCBQECgIFPwWCxYU\n",
       "BAoCBYGCr6YI6gSBgkBBoDDHof3KgoJAQaAgUBAoOA8KFhQECgIFgYIP6WBBQaAgUBAo+JAOFhQE\n",
       "CgIFgYJAwfcHBQsKAgWBgkDBrUawoCBQECgIFHxIBwsKAgWBgkBBoOBPEYI6QaAgUBAo+FOEYEFB\n",
       "oCBQECg4DwoWFAQKAgWBgkDBb7FgQUGgIFAQKHiJM1hQECgIFAQKrqSDBQWBgkBBoCBQmPv4Lbax\n",
       "oCBQECgIFJwHBQsKAgWBgkDBeVCwoCBQECgIFAQKbjWCBQWBgkBBoOBWI1hQECgIFAQKrqSDBQWB\n",
       "gkBBoCBQcKsRLCgIFAQKAgUf0sGCgkBBoCBQmONN+5UFBYGCQEGg4Eo6WFAQKAgUBAoCBY+egwUF\n",
       "gYJAQaAw9779I3ybBQWBgkBBoOBKOlhQECgIFAQKAgVf8hYsKAgUBAoCBbcawYKCQEGgIFDwflCw\n",
       "oCBQECgIFAQK/hQhWFAQKAgUBAreDwoWFAQKAgWBgkP7YEFBoCBQECgIFDzVCBYUBAoCBYGCQ/tg\n",
       "QUGgIFAQKDgPChYUBAoCBYGCQMGj52BBQaAgUBAoOA8KFhQECgIFgYInq8GCgkBBoCBQECjMefsn\n",
       "+DgLCgIFgYJAwa1GsKAgUBAoCBS8HxQsKAgUBAoCBYGC86BgQUGgIFAQKDgPChYUBAoCBYGCK+lg\n",
       "QUGgIFAQKAgU3GoECwoCBYGCQMGj52BBQaAgUBAojC9e2FlQECgIFAQKAgW3GsGCgkBBoCBQ8Og5\n",
       "WFAQKAgUBAqerAYLCgIFgYJAQaDgViNYUBAoCBQECm41ggUFgYJAQaAwxwtCKwsKAgWBgkBBoOA8\n",
       "KFhQECgIFAQKzoOCBQWBgkBBoOBKOlhQECgIFAQKAgX/bz5YUBAoCBQECv7ffLCgIFAQKAgUvB8U\n",
       "LCgIFAQKAgWBgm/BCxYUBAoCBYGCL3kLFhQECgIFgYInq8GCgkBBoCBQECh4yzVYUBAoCBQECv5e\n",
       "LFhQECgIFAQKrqSDBQWBgkBBoCBQ8JZrsKAgUBAoCBS8xBksKAgUBAoCBVfSwYKCQEGgIFAQKHjL\n",
       "NVhQECgIFAQKvj8oWFAQKAgUBArOg4IFBYGCQEGgIFDw6DlYUBAoCBQECm41ggUFgYJAQaDgSjpY\n",
       "UBAoCBQECgIFtxrBgoJAQaAgUPAhHSwoCBQECgIF50HBgoJAQaAgUBAouNUIFhQECgIFgYJbjWBB\n",
       "QaAgUBAouJIOFhQECgIFgYJAwfcHBQsKAgWBgkDBv64JFhQECgIFgYLzoGBBQaAgUBAoCBTmPn6N\n",
       "bSwoCBQECgIFtxrBgoJAQaAgUPBkNVhQECgIFAQKnqwGCwoCBYGCQEGg4DwoWFAQKAgUBAqerAYL\n",
       "CgIFgYJAwZV0sKAgUBAoCBQECr4/KFhQECgIFAQKc7wgtLKgIFAQKAgUvB8ULCgIFAQKAgWBwly3\n",
       "GisLCgIFgYJAwa1GsKAgUBAoCBQc2gcLCgIFgYJAQaDg/aBgQUGgIFAQKMzx92IrCwoCBYGCQMF5\n",
       "ULCgIFAQKAgUBAq+miJYUBAoCBQECt4PChYUBAoCBYGCQ/tgQUGgIFAQKAgUnAcFCwoCBYGCQGHO\n",
       "40RoY0FBoCBQECg4DwoWFAQKAgWBgkDBb7FgQUGgIFAQKDi0DxYUBAoCBYGCQ/tgQUGgIFAQKAgU\n",
       "5vzcamwsKAgUBAoCBbcawYKCQEGgIFCY60N6ZUFBoCBQECgIFNxqBAsKAgWBgkBhzs+H9MaCgkBB\n",
       "oCBQcCUdLCgIFAQKAgWBgqcawYKCQEGgIFBwqxEsKAgUBAoCBR/SwYKCQEGgIFAQKHj0HCwoCBQE\n",
       "CgKFuc+ft3+GT7OgIFAQKAgUnAcFCwoCBYGCQEGg4P2gYEFBoCBQECjMuc6DNhYUBAoCBYGCK+lg\n",
       "QUGgIFAQKAgU5nj0vLKgIFAQKAgU3GoECwoCBYGCQMGVdLCgIFAQKAgUBApzr1uNjQUFgYJAQaDg\n",
       "PChYUBAoCBQECl7iDBYUBAoCBYGCQMGtRrCgIFAQKAgU5rrVWFlQECgIFAQKrqSDBQWBgkBBoCBQ\n",
       "mOP9oJUFBYGCQEGg4PukgwUFgYJAQaDgTftgQUGgIFAQKAgUPNUIFhQECgIFgYJbjWBBQaAgUBAo\n",
       "+JAOFhQECgIFgYJAwaPnYEFBoCBQECi41QgWFAQKAgWBwjyerK4sKAgUBAoCBYGCW41gQUGgIFAQ\n",
       "KHiJM1hQECgIFAQK87iSXllQECgIFAQKAgXvBwULCgIFgYJAwaPnYEFBoCBQECg4DwoWFAQKAgWB\n",
       "gkBh7nPf/hk+zYKCQEGgIFBwHhQsKAgUBAoChXlcSa8sKAgUBAoChf8AJ8ztt7m0cDkAAAAASUVO\n",
       "RK5CYII=\n",
       "\" transform=\"translate(2161, 47)\"/>\n",
       "</g>\n",
       "<path clip-path=\"url(#clip570)\" d=\"M 0 0 M2269.43 1363.54 L2277.07 1363.54 L2277.07 1337.18 L2268.76 1338.85 L2268.76 1334.59 L2277.02 1332.92 L2281.7 1332.92 L2281.7 1363.54 L2289.33 1363.54 L2289.33 1367.48 L2269.43 1367.48 L2269.43 1363.54 Z\" fill=\"#000000\" fill-rule=\"evenodd\" fill-opacity=\"1\" /><path clip-path=\"url(#clip570)\" d=\"M 0 0 M2294.4 1361.6 L2299.29 1361.6 L2299.29 1367.48 L2294.4 1367.48 L2294.4 1361.6 Z\" fill=\"#000000\" fill-rule=\"evenodd\" fill-opacity=\"1\" /><path clip-path=\"url(#clip570)\" d=\"M 0 0 M2314.36 1336 Q2310.75 1336 2308.92 1339.56 Q2307.11 1343.1 2307.11 1350.23 Q2307.11 1357.34 2308.92 1360.91 Q2310.75 1364.45 2314.36 1364.45 Q2317.99 1364.45 2319.8 1360.91 Q2321.63 1357.34 2321.63 1350.23 Q2321.63 1343.1 2319.8 1339.56 Q2317.99 1336 2314.36 1336 M2314.36 1332.29 Q2320.17 1332.29 2323.22 1336.9 Q2326.3 1341.48 2326.3 1350.23 Q2326.3 1358.96 2323.22 1363.57 Q2320.17 1368.15 2314.36 1368.15 Q2308.55 1368.15 2305.47 1363.57 Q2302.41 1358.96 2302.41 1350.23 Q2302.41 1341.48 2305.47 1336.9 Q2308.55 1332.29 2314.36 1332.29 Z\" fill=\"#000000\" fill-rule=\"evenodd\" fill-opacity=\"1\" /><path clip-path=\"url(#clip570)\" d=\"M 0 0 M2269.43 1213 L2277.07 1213 L2277.07 1186.63 L2268.76 1188.3 L2268.76 1184.04 L2277.02 1182.37 L2281.7 1182.37 L2281.7 1213 L2289.33 1213 L2289.33 1216.93 L2269.43 1216.93 L2269.43 1213 Z\" fill=\"#000000\" fill-rule=\"evenodd\" fill-opacity=\"1\" /><path clip-path=\"url(#clip570)\" d=\"M 0 0 M2294.4 1211.05 L2299.29 1211.05 L2299.29 1216.93 L2294.4 1216.93 L2294.4 1211.05 Z\" fill=\"#000000\" fill-rule=\"evenodd\" fill-opacity=\"1\" /><path clip-path=\"url(#clip570)\" d=\"M 0 0 M2304.4 1182.37 L2322.76 1182.37 L2322.76 1186.31 L2308.69 1186.31 L2308.69 1194.78 Q2309.7 1194.43 2310.72 1194.27 Q2311.74 1194.08 2312.76 1194.08 Q2318.55 1194.08 2321.93 1197.25 Q2325.31 1200.43 2325.31 1205.84 Q2325.31 1211.42 2321.83 1214.52 Q2318.36 1217.6 2312.04 1217.6 Q2309.87 1217.6 2307.6 1217.23 Q2305.35 1216.86 2302.95 1216.12 L2302.95 1211.42 Q2305.03 1212.56 2307.25 1213.11 Q2309.47 1213.67 2311.95 1213.67 Q2315.95 1213.67 2318.29 1211.56 Q2320.63 1209.45 2320.63 1205.84 Q2320.63 1202.23 2318.29 1200.12 Q2315.95 1198.02 2311.95 1198.02 Q2310.08 1198.02 2308.2 1198.44 Q2306.35 1198.85 2304.4 1199.73 L2304.4 1182.37 Z\" fill=\"#000000\" fill-rule=\"evenodd\" fill-opacity=\"1\" /><path clip-path=\"url(#clip570)\" d=\"M 0 0 M2274.38 1062.45 L2290.7 1062.45 L2290.7 1066.38 L2268.76 1066.38 L2268.76 1062.45 Q2271.42 1059.69 2276 1055.06 Q2280.61 1050.41 2281.79 1049.07 Q2284.03 1046.54 2284.91 1044.81 Q2285.82 1043.05 2285.82 1041.36 Q2285.82 1038.6 2283.87 1036.87 Q2281.95 1035.13 2278.85 1035.13 Q2276.65 1035.13 2274.2 1035.9 Q2271.77 1036.66 2268.99 1038.21 L2268.99 1033.49 Q2271.81 1032.35 2274.27 1031.78 Q2276.72 1031.2 2278.76 1031.2 Q2284.13 1031.2 2287.32 1033.88 Q2290.52 1036.57 2290.52 1041.06 Q2290.52 1043.19 2289.7 1045.11 Q2288.92 1047.01 2286.81 1049.6 Q2286.23 1050.27 2283.13 1053.49 Q2280.03 1056.68 2274.38 1062.45 Z\" fill=\"#000000\" fill-rule=\"evenodd\" fill-opacity=\"1\" /><path clip-path=\"url(#clip570)\" d=\"M 0 0 M2295.77 1060.5 L2300.65 1060.5 L2300.65 1066.38 L2295.77 1066.38 L2295.77 1060.5 Z\" fill=\"#000000\" fill-rule=\"evenodd\" fill-opacity=\"1\" /><path clip-path=\"url(#clip570)\" d=\"M 0 0 M2315.72 1034.9 Q2312.11 1034.9 2310.28 1038.46 Q2308.48 1042.01 2308.48 1049.14 Q2308.48 1056.24 2310.28 1059.81 Q2312.11 1063.35 2315.72 1063.35 Q2319.36 1063.35 2321.16 1059.81 Q2322.99 1056.24 2322.99 1049.14 Q2322.99 1042.01 2321.16 1038.46 Q2319.36 1034.9 2315.72 1034.9 M2315.72 1031.2 Q2321.53 1031.2 2324.59 1035.8 Q2327.67 1040.39 2327.67 1049.14 Q2327.67 1057.86 2324.59 1062.47 Q2321.53 1067.05 2315.72 1067.05 Q2309.91 1067.05 2306.83 1062.47 Q2303.78 1057.86 2303.78 1049.14 Q2303.78 1040.39 2306.83 1035.8 Q2309.91 1031.2 2315.72 1031.2 Z\" fill=\"#000000\" fill-rule=\"evenodd\" fill-opacity=\"1\" /><path clip-path=\"url(#clip570)\" d=\"M 0 0 M2274.38 911.897 L2290.7 911.897 L2290.7 915.832 L2268.76 915.832 L2268.76 911.897 Q2271.42 909.143 2276 904.513 Q2280.61 899.86 2281.79 898.518 Q2284.03 895.995 2284.91 894.258 Q2285.82 892.499 2285.82 890.809 Q2285.82 888.055 2283.87 886.319 Q2281.95 884.583 2278.85 884.583 Q2276.65 884.583 2274.2 885.346 Q2271.77 886.11 2268.99 887.661 L2268.99 882.939 Q2271.81 881.805 2274.27 881.226 Q2276.72 880.647 2278.76 880.647 Q2284.13 880.647 2287.32 883.333 Q2290.52 886.018 2290.52 890.509 Q2290.52 892.638 2289.7 894.559 Q2288.92 896.458 2286.81 899.05 Q2286.23 899.721 2283.13 902.939 Q2280.03 906.133 2274.38 911.897 Z\" fill=\"#000000\" fill-rule=\"evenodd\" fill-opacity=\"1\" /><path clip-path=\"url(#clip570)\" d=\"M 0 0 M2295.77 909.953 L2300.65 909.953 L2300.65 915.832 L2295.77 915.832 L2295.77 909.953 Z\" fill=\"#000000\" fill-rule=\"evenodd\" fill-opacity=\"1\" /><path clip-path=\"url(#clip570)\" d=\"M 0 0 M2305.77 881.272 L2324.13 881.272 L2324.13 885.208 L2310.05 885.208 L2310.05 893.68 Q2311.07 893.333 2312.09 893.171 Q2313.11 892.985 2314.13 892.985 Q2319.91 892.985 2323.29 896.157 Q2326.67 899.328 2326.67 904.745 Q2326.67 910.323 2323.2 913.425 Q2319.73 916.504 2313.41 916.504 Q2311.23 916.504 2308.96 916.133 Q2306.72 915.763 2304.31 915.022 L2304.31 910.323 Q2306.39 911.457 2308.62 912.013 Q2310.84 912.569 2313.32 912.569 Q2317.32 912.569 2319.66 910.462 Q2322 908.356 2322 904.745 Q2322 901.133 2319.66 899.027 Q2317.32 896.921 2313.32 896.921 Q2311.44 896.921 2309.57 897.337 Q2307.71 897.754 2305.77 898.633 L2305.77 881.272 Z\" fill=\"#000000\" fill-rule=\"evenodd\" fill-opacity=\"1\" /><path clip-path=\"url(#clip570)\" d=\"M 0 0 M2284.38 746.649 Q2287.74 747.367 2289.61 749.635 Q2291.51 751.904 2291.51 755.237 Q2291.51 760.353 2287.99 763.154 Q2284.47 765.955 2277.99 765.955 Q2275.82 765.955 2273.5 765.515 Q2271.21 765.098 2268.76 764.242 L2268.76 759.728 Q2270.7 760.862 2273.02 761.441 Q2275.33 762.02 2277.85 762.02 Q2282.25 762.02 2284.54 760.284 Q2286.86 758.547 2286.86 755.237 Q2286.86 752.182 2284.7 750.469 Q2282.58 748.733 2278.76 748.733 L2274.73 748.733 L2274.73 744.89 L2278.94 744.89 Q2282.39 744.89 2284.22 743.524 Q2286.05 742.135 2286.05 739.543 Q2286.05 736.881 2284.15 735.469 Q2282.27 734.034 2278.76 734.034 Q2276.83 734.034 2274.64 734.45 Q2272.44 734.867 2269.8 735.747 L2269.8 731.58 Q2272.46 730.839 2274.77 730.469 Q2277.11 730.098 2279.17 730.098 Q2284.5 730.098 2287.6 732.529 Q2290.7 734.936 2290.7 739.057 Q2290.7 741.927 2289.06 743.918 Q2287.41 745.885 2284.38 746.649 Z\" fill=\"#000000\" fill-rule=\"evenodd\" fill-opacity=\"1\" /><path clip-path=\"url(#clip570)\" d=\"M 0 0 M2296.58 759.404 L2301.46 759.404 L2301.46 765.283 L2296.58 765.283 L2296.58 759.404 Z\" fill=\"#000000\" fill-rule=\"evenodd\" fill-opacity=\"1\" /><path clip-path=\"url(#clip570)\" d=\"M 0 0 M2316.53 733.802 Q2312.92 733.802 2311.09 737.367 Q2309.29 740.909 2309.29 748.038 Q2309.29 755.145 2311.09 758.709 Q2312.92 762.251 2316.53 762.251 Q2320.17 762.251 2321.97 758.709 Q2323.8 755.145 2323.8 748.038 Q2323.8 740.909 2321.97 737.367 Q2320.17 733.802 2316.53 733.802 M2316.53 730.098 Q2322.34 730.098 2325.4 734.705 Q2328.48 739.288 2328.48 748.038 Q2328.48 756.765 2325.4 761.371 Q2322.34 765.955 2316.53 765.955 Q2310.72 765.955 2307.64 761.371 Q2304.59 756.765 2304.59 748.038 Q2304.59 739.288 2307.64 734.705 Q2310.72 730.098 2316.53 730.098 Z\" fill=\"#000000\" fill-rule=\"evenodd\" fill-opacity=\"1\" /><path clip-path=\"url(#clip570)\" d=\"M 0 0 M2284.38 596.1 Q2287.74 596.818 2289.61 599.086 Q2291.51 601.355 2291.51 604.688 Q2291.51 609.804 2287.99 612.605 Q2284.47 615.406 2277.99 615.406 Q2275.82 615.406 2273.5 614.966 Q2271.21 614.549 2268.76 613.693 L2268.76 609.179 Q2270.7 610.313 2273.02 610.892 Q2275.33 611.471 2277.85 611.471 Q2282.25 611.471 2284.54 609.735 Q2286.86 607.998 2286.86 604.688 Q2286.86 601.633 2284.7 599.92 Q2282.58 598.184 2278.76 598.184 L2274.73 598.184 L2274.73 594.341 L2278.94 594.341 Q2282.39 594.341 2284.22 592.975 Q2286.05 591.587 2286.05 588.994 Q2286.05 586.332 2284.15 584.92 Q2282.27 583.485 2278.76 583.485 Q2276.83 583.485 2274.64 583.901 Q2272.44 584.318 2269.8 585.198 L2269.8 581.031 Q2272.46 580.29 2274.77 579.92 Q2277.11 579.55 2279.17 579.55 Q2284.5 579.55 2287.6 581.98 Q2290.7 584.387 2290.7 588.508 Q2290.7 591.378 2289.06 593.369 Q2287.41 595.336 2284.38 596.1 Z\" fill=\"#000000\" fill-rule=\"evenodd\" fill-opacity=\"1\" /><path clip-path=\"url(#clip570)\" d=\"M 0 0 M2296.58 608.855 L2301.46 608.855 L2301.46 614.735 L2296.58 614.735 L2296.58 608.855 Z\" fill=\"#000000\" fill-rule=\"evenodd\" fill-opacity=\"1\" /><path clip-path=\"url(#clip570)\" d=\"M 0 0 M2306.58 580.175 L2324.94 580.175 L2324.94 584.11 L2310.86 584.11 L2310.86 592.582 Q2311.88 592.235 2312.9 592.073 Q2313.92 591.887 2314.94 591.887 Q2320.72 591.887 2324.1 595.059 Q2327.48 598.23 2327.48 603.647 Q2327.48 609.225 2324.01 612.327 Q2320.54 615.406 2314.22 615.406 Q2312.04 615.406 2309.77 615.035 Q2307.53 614.665 2305.12 613.924 L2305.12 609.225 Q2307.2 610.36 2309.43 610.915 Q2311.65 611.471 2314.13 611.471 Q2318.13 611.471 2320.47 609.364 Q2322.81 607.258 2322.81 603.647 Q2322.81 600.036 2320.47 597.929 Q2318.13 595.823 2314.13 595.823 Q2312.25 595.823 2310.38 596.239 Q2308.52 596.656 2306.58 597.536 L2306.58 580.175 Z\" fill=\"#000000\" fill-rule=\"evenodd\" fill-opacity=\"1\" /><path clip-path=\"url(#clip570)\" d=\"M 0 0 M2284.36 433.7 L2272.55 452.149 L2284.36 452.149 L2284.36 433.7 M2283.13 429.626 L2289.01 429.626 L2289.01 452.149 L2293.94 452.149 L2293.94 456.037 L2289.01 456.037 L2289.01 464.186 L2284.36 464.186 L2284.36 456.037 L2268.76 456.037 L2268.76 451.524 L2283.13 429.626 Z\" fill=\"#000000\" fill-rule=\"evenodd\" fill-opacity=\"1\" /><path clip-path=\"url(#clip570)\" d=\"M 0 0 M2299.01 458.306 L2303.89 458.306 L2303.89 464.186 L2299.01 464.186 L2299.01 458.306 Z\" fill=\"#000000\" fill-rule=\"evenodd\" fill-opacity=\"1\" /><path clip-path=\"url(#clip570)\" d=\"M 0 0 M2318.96 432.704 Q2315.35 432.704 2313.52 436.269 Q2311.72 439.811 2311.72 446.94 Q2311.72 454.047 2313.52 457.612 Q2315.35 461.153 2318.96 461.153 Q2322.6 461.153 2324.4 457.612 Q2326.23 454.047 2326.23 446.94 Q2326.23 439.811 2324.4 436.269 Q2322.6 432.704 2318.96 432.704 M2318.96 429.001 Q2324.77 429.001 2327.83 433.607 Q2330.91 438.19 2330.91 446.94 Q2330.91 455.667 2327.83 460.274 Q2324.77 464.857 2318.96 464.857 Q2313.15 464.857 2310.08 460.274 Q2307.02 455.667 2307.02 446.94 Q2307.02 438.19 2310.08 433.607 Q2313.15 429.001 2318.96 429.001 Z\" fill=\"#000000\" fill-rule=\"evenodd\" fill-opacity=\"1\" /><path clip-path=\"url(#clip570)\" d=\"M 0 0 M2284.36 283.151 L2272.55 301.6 L2284.36 301.6 L2284.36 283.151 M2283.13 279.077 L2289.01 279.077 L2289.01 301.6 L2293.94 301.6 L2293.94 305.489 L2289.01 305.489 L2289.01 313.637 L2284.36 313.637 L2284.36 305.489 L2268.76 305.489 L2268.76 300.975 L2283.13 279.077 Z\" fill=\"#000000\" fill-rule=\"evenodd\" fill-opacity=\"1\" /><path clip-path=\"url(#clip570)\" d=\"M 0 0 M2299.01 307.757 L2303.89 307.757 L2303.89 313.637 L2299.01 313.637 L2299.01 307.757 Z\" fill=\"#000000\" fill-rule=\"evenodd\" fill-opacity=\"1\" /><path clip-path=\"url(#clip570)\" d=\"M 0 0 M2309.01 279.077 L2327.37 279.077 L2327.37 283.012 L2313.29 283.012 L2313.29 291.484 Q2314.31 291.137 2315.33 290.975 Q2316.35 290.79 2317.37 290.79 Q2323.15 290.79 2326.53 293.961 Q2329.91 297.132 2329.91 302.549 Q2329.91 308.127 2326.44 311.229 Q2322.97 314.308 2316.65 314.308 Q2314.47 314.308 2312.2 313.938 Q2309.96 313.567 2307.55 312.826 L2307.55 308.127 Q2309.64 309.262 2311.86 309.817 Q2314.08 310.373 2316.56 310.373 Q2320.56 310.373 2322.9 308.266 Q2325.24 306.16 2325.24 302.549 Q2325.24 298.938 2322.9 296.831 Q2320.56 294.725 2316.56 294.725 Q2314.68 294.725 2312.81 295.141 Q2310.95 295.558 2309.01 296.438 L2309.01 279.077 Z\" fill=\"#000000\" fill-rule=\"evenodd\" fill-opacity=\"1\" /><path clip-path=\"url(#clip570)\" d=\"M 0 0 M2270.21 128.528 L2288.57 128.528 L2288.57 132.463 L2274.5 132.463 L2274.5 140.935 Q2275.52 140.588 2276.53 140.426 Q2277.55 140.241 2278.57 140.241 Q2284.36 140.241 2287.74 143.412 Q2291.12 146.583 2291.12 152 Q2291.12 157.578 2287.64 160.68 Q2284.17 163.759 2277.85 163.759 Q2275.68 163.759 2273.41 163.389 Q2271.16 163.018 2268.76 162.277 L2268.76 157.578 Q2270.84 158.713 2273.06 159.268 Q2275.28 159.824 2277.76 159.824 Q2281.77 159.824 2284.1 157.717 Q2286.44 155.611 2286.44 152 Q2286.44 148.389 2284.1 146.282 Q2281.77 144.176 2277.76 144.176 Q2275.89 144.176 2274.01 144.592 Q2272.16 145.009 2270.21 145.889 L2270.21 128.528 Z\" fill=\"#000000\" fill-rule=\"evenodd\" fill-opacity=\"1\" /><path clip-path=\"url(#clip570)\" d=\"M 0 0 M2296.19 157.208 L2301.07 157.208 L2301.07 163.088 L2296.19 163.088 L2296.19 157.208 Z\" fill=\"#000000\" fill-rule=\"evenodd\" fill-opacity=\"1\" /><path clip-path=\"url(#clip570)\" d=\"M 0 0 M2316.14 131.606 Q2312.53 131.606 2310.7 135.171 Q2308.89 138.713 2308.89 145.842 Q2308.89 152.949 2310.7 156.514 Q2312.53 160.055 2316.14 160.055 Q2319.77 160.055 2321.58 156.514 Q2323.41 152.949 2323.41 145.842 Q2323.41 138.713 2321.58 135.171 Q2319.77 131.606 2316.14 131.606 M2316.14 127.903 Q2321.95 127.903 2325.01 132.509 Q2328.08 137.092 2328.08 145.842 Q2328.08 154.569 2325.01 159.176 Q2321.95 163.759 2316.14 163.759 Q2310.33 163.759 2307.25 159.176 Q2304.2 154.569 2304.2 145.842 Q2304.2 137.092 2307.25 132.509 Q2310.33 127.903 2316.14 127.903 Z\" fill=\"#000000\" fill-rule=\"evenodd\" fill-opacity=\"1\" /><polyline clip-path=\"url(#clip570)\" style=\"stroke:#000000; stroke-width:4; stroke-opacity:1; fill:none\" points=\"\n",
       "  2232.76,1410.9 2232.76,1353.83 2256.76,1353.83 2232.76,1353.83 2232.76,1203.28 2256.76,1203.28 2232.76,1203.28 2232.76,1052.73 2256.76,1052.73 2232.76,1052.73 \n",
       "  2232.76,902.181 2256.76,902.181 2232.76,902.181 2232.76,751.632 2256.76,751.632 2232.76,751.632 2232.76,601.083 2256.76,601.083 2232.76,601.083 2232.76,450.534 \n",
       "  2256.76,450.534 2232.76,450.534 2232.76,299.985 2256.76,299.985 2232.76,299.985 2232.76,149.436 2256.76,149.436 2232.76,149.436 2232.76,47.2441 \n",
       "  \"/>\n",
       "</svg>\n"
      ]
     },
     "execution_count": 38,
     "metadata": {},
     "output_type": "execute_result"
    }
   ],
   "source": [
    "plot(self_tuning_boost)"
   ]
  },
  {
   "cell_type": "code",
   "execution_count": 39,
   "metadata": {},
   "outputs": [
    {
     "data": {
      "text/plain": [
       "AdaBoostClassifier(\n",
       "    base_estimator = nothing,\n",
       "    n_estimators = 5,\n",
       "    learning_rate = 0.16681005372000587,\n",
       "    algorithm = \"SAMME.R\",\n",
       "    random_state = nothing)\u001b[34m @608\u001b[39m"
      ]
     },
     "execution_count": 39,
     "metadata": {},
     "output_type": "execute_result"
    }
   ],
   "source": [
    "best = fitted_params(self_tuning_boost)\n",
    "best.best_model"
   ]
  },
  {
   "cell_type": "code",
   "execution_count": 40,
   "metadata": {},
   "outputs": [
    {
     "data": {
      "text/plain": [
       "0.81047"
      ]
     },
     "execution_count": 40,
     "metadata": {},
     "output_type": "execute_result"
    }
   ],
   "source": [
    "best_loss = round(z.report.best_result.measurement[1],digits=5)"
   ]
  },
  {
   "cell_type": "code",
   "execution_count": 41,
   "metadata": {},
   "outputs": [
    {
     "data": {
      "text/plain": [
       "0.16681005372000587"
      ]
     },
     "execution_count": 41,
     "metadata": {},
     "output_type": "execute_result"
    }
   ],
   "source": [
    "best_n = best.best_model.n_estimators\n",
    "best_lr = best.best_model.learning_rate"
   ]
  },
  {
   "cell_type": "code",
   "execution_count": 27,
   "metadata": {},
   "outputs": [],
   "source": [
    "fn = \"Figures/LearningCurve_Boost_nestimators:$(best_n)_lr:$(best_lr)_loss:$(best_loss)\"\n",
    "png(replace(fn,'.' => ','))"
   ]
  },
  {
   "cell_type": "markdown",
   "metadata": {},
   "source": [
    "### Learning Curves"
   ]
  },
  {
   "cell_type": "code",
   "execution_count": 48,
   "metadata": {
    "scrolled": true
   },
   "outputs": [
    {
     "name": "stdout",
     "output_type": "stream",
     "text": [
      "(d, train_metric, valid_metric) = (10, 1.0, 0.3977272727272727)\n",
      "(d, train_metric, valid_metric) = (15, 0.9333333333333333, 0.6477272727272727)\n",
      "(d, train_metric, valid_metric) = (20, 0.95, 0.6477272727272727)\n",
      "(d, train_metric, valid_metric) = (25, 0.88, 0.625)\n",
      "(d, train_metric, valid_metric) = (30, 0.8, 0.6363636363636364)\n",
      "(d, train_metric, valid_metric) = (35, 0.8, 0.6704545454545454)\n",
      "(d, train_metric, valid_metric) = (40, 0.85, 0.8181818181818182)\n",
      "(d, train_metric, valid_metric) = (45, 0.7555555555555555, 0.75)\n",
      "(d, train_metric, valid_metric) = (50, 0.78, 0.75)\n",
      "(d, train_metric, valid_metric) = (55, 0.8181818181818182, 0.8068181818181818)\n",
      "(d, train_metric, valid_metric) = (60, 0.8333333333333334, 0.8068181818181818)\n",
      "(d, train_metric, valid_metric) = (65, 0.8, 0.8068181818181818)\n",
      "(d, train_metric, valid_metric) = (70, 0.7857142857142857, 0.8068181818181818)\n",
      "(d, train_metric, valid_metric) = (75, 0.7866666666666666, 0.8068181818181818)\n",
      "(d, train_metric, valid_metric) = (80, 0.7625, 0.7727272727272727)\n",
      "(d, train_metric, valid_metric) = (85, 0.7529411764705882, 0.7727272727272727)\n",
      "(d, train_metric, valid_metric) = (90, 0.7555555555555555, 0.7727272727272727)\n",
      "(d, train_metric, valid_metric) = (95, 0.7684210526315789, 0.7727272727272727)\n",
      "(d, train_metric, valid_metric) = (100, 0.75, 0.7840909090909091)\n",
      "(d, train_metric, valid_metric) = (105, 0.7619047619047619, 0.7840909090909091)\n",
      "(d, train_metric, valid_metric) = (110, 0.7818181818181819, 0.7840909090909091)\n",
      "(d, train_metric, valid_metric) = (115, 0.7913043478260869, 0.7840909090909091)\n",
      "(d, train_metric, valid_metric) = (120, 0.7583333333333333, 0.8181818181818182)\n",
      "(d, train_metric, valid_metric) = (125, 0.784, 0.7840909090909091)\n",
      "(d, train_metric, valid_metric) = (130, 0.7769230769230769, 0.8181818181818182)\n",
      "(d, train_metric, valid_metric) = (135, 0.7555555555555555, 0.8181818181818182)\n",
      "(d, train_metric, valid_metric) = (140, 0.7571428571428571, 0.8181818181818182)\n",
      "(d, train_metric, valid_metric) = (145, 0.7793103448275862, 0.7727272727272727)\n",
      "(d, train_metric, valid_metric) = (150, 0.7866666666666666, 0.7727272727272727)\n",
      "(d, train_metric, valid_metric) = (155, 0.7290322580645161, 0.7159090909090909)\n",
      "(d, train_metric, valid_metric) = (160, 0.7625, 0.8181818181818182)\n",
      "(d, train_metric, valid_metric) = (165, 0.7636363636363637, 0.8181818181818182)\n",
      "(d, train_metric, valid_metric) = (170, 0.7647058823529411, 0.8181818181818182)\n",
      "(d, train_metric, valid_metric) = (175, 0.76, 0.8181818181818182)\n",
      "(d, train_metric, valid_metric) = (180, 0.7611111111111111, 0.8181818181818182)\n",
      "(d, train_metric, valid_metric) = (185, 0.7567567567567568, 0.8181818181818182)\n",
      "(d, train_metric, valid_metric) = (190, 0.7684210526315789, 0.8181818181818182)\n",
      "(d, train_metric, valid_metric) = (195, 0.7794871794871795, 0.7386363636363636)\n",
      "(d, train_metric, valid_metric) = (200, 0.78, 0.7386363636363636)\n",
      "(d, train_metric, valid_metric) = (205, 0.775609756097561, 0.7386363636363636)\n",
      "(d, train_metric, valid_metric) = (210, 0.7476190476190476, 0.7386363636363636)\n",
      "(d, train_metric, valid_metric) = (215, 0.7441860465116279, 0.7386363636363636)\n",
      "(d, train_metric, valid_metric) = (220, 0.6909090909090909, 0.6704545454545454)\n",
      "(d, train_metric, valid_metric) = (225, 0.7466666666666667, 0.7386363636363636)\n",
      "(d, train_metric, valid_metric) = (230, 0.7521739130434782, 0.7272727272727273)\n",
      "(d, train_metric, valid_metric) = (235, 0.7319148936170212, 0.7727272727272727)\n",
      "(d, train_metric, valid_metric) = (240, 0.7791666666666667, 0.8522727272727273)\n",
      "(d, train_metric, valid_metric) = (245, 0.7346938775510204, 0.7727272727272727)\n",
      "(d, train_metric, valid_metric) = (250, 0.772, 0.8522727272727273)\n",
      "(d, train_metric, valid_metric) = (255, 0.7686274509803922, 0.8068181818181818)\n",
      "(d, train_metric, valid_metric) = (260, 0.8076923076923077, 0.8409090909090909)\n",
      "(d, train_metric, valid_metric) = (265, 0.8037735849056604, 0.8409090909090909)\n",
      "(d, train_metric, valid_metric) = (270, 0.7962962962962963, 0.8181818181818182)\n",
      "(d, train_metric, valid_metric) = (275, 0.8, 0.8181818181818182)\n",
      "(d, train_metric, valid_metric) = (280, 0.8035714285714286, 0.8181818181818182)\n",
      "(d, train_metric, valid_metric) = (285, 0.8070175438596491, 0.8181818181818182)\n",
      "(d, train_metric, valid_metric) = (290, 0.8068965517241379, 0.8181818181818182)\n",
      "(d, train_metric, valid_metric) = (295, 0.8067796610169492, 0.8181818181818182)\n",
      "(d, train_metric, valid_metric) = (300, 0.75, 0.6931818181818182)\n",
      "(d, train_metric, valid_metric) = (305, 0.8098360655737705, 0.8181818181818182)\n",
      "(d, train_metric, valid_metric) = (310, 0.8129032258064516, 0.8181818181818182)\n",
      "(d, train_metric, valid_metric) = (315, 0.7301587301587301, 0.7272727272727273)\n",
      "(d, train_metric, valid_metric) = (320, 0.759375, 0.7613636363636364)\n",
      "(d, train_metric, valid_metric) = (325, 0.7630769230769231, 0.8181818181818182)\n",
      "(d, train_metric, valid_metric) = (330, 0.7575757575757576, 0.7613636363636364)\n",
      "(d, train_metric, valid_metric) = (335, 0.7820895522388059, 0.8068181818181818)\n",
      "(d, train_metric, valid_metric) = (340, 0.7676470588235295, 0.8181818181818182)\n",
      "(d, train_metric, valid_metric) = (345, 0.7507246376811594, 0.7613636363636364)\n",
      "(d, train_metric, valid_metric) = (350, 0.7314285714285714, 0.7272727272727273)\n"
     ]
    },
    {
     "data": {
      "text/plain": [
       "(10:5:350, Any[1.0, 0.9333333333333333, 0.95, 0.88, 0.8, 0.8, 0.85, 0.7555555555555555, 0.78, 0.8181818181818182  …  0.8098360655737705, 0.8129032258064516, 0.7301587301587301, 0.759375, 0.7630769230769231, 0.7575757575757576, 0.7820895522388059, 0.7676470588235295, 0.7507246376811594, 0.7314285714285714], Any[0.3977272727272727, 0.6477272727272727, 0.6477272727272727, 0.625, 0.6363636363636364, 0.6704545454545454, 0.8181818181818182, 0.75, 0.75, 0.8068181818181818  …  0.8181818181818182, 0.8181818181818182, 0.7272727272727273, 0.7613636363636364, 0.8181818181818182, 0.7613636363636364, 0.8068181818181818, 0.8181818181818182, 0.7613636363636364, 0.7272727272727273])"
      ]
     },
     "execution_count": 48,
     "metadata": {},
     "output_type": "execute_result"
    }
   ],
   "source": [
    "data_schedule, training_losses, valid_losses = learn_curve(best.best_model, X[train,:], y[train], acc)"
   ]
  },
  {
   "cell_type": "code",
   "execution_count": 49,
   "metadata": {},
   "outputs": [
    {
     "data": {
      "image/svg+xml": [
       "<?xml version=\"1.0\" encoding=\"utf-8\"?>\n",
       "<svg xmlns=\"http://www.w3.org/2000/svg\" xmlns:xlink=\"http://www.w3.org/1999/xlink\" width=\"600\" height=\"400\" viewBox=\"0 0 2400 1600\">\n",
       "<defs>\n",
       "  <clipPath id=\"clip690\">\n",
       "    <rect x=\"0\" y=\"0\" width=\"2400\" height=\"1600\"/>\n",
       "  </clipPath>\n",
       "</defs>\n",
       "<path clip-path=\"url(#clip690)\" d=\"\n",
       "M0 1600 L2400 1600 L2400 0 L0 0  Z\n",
       "  \" fill=\"#ffffff\" fill-rule=\"evenodd\" fill-opacity=\"1\"/>\n",
       "<defs>\n",
       "  <clipPath id=\"clip691\">\n",
       "    <rect x=\"480\" y=\"0\" width=\"1681\" height=\"1600\"/>\n",
       "  </clipPath>\n",
       "</defs>\n",
       "<path clip-path=\"url(#clip690)\" d=\"\n",
       "M148.334 1486.45 L2352.76 1486.45 L2352.76 47.2441 L148.334 47.2441  Z\n",
       "  \" fill=\"#ffffff\" fill-rule=\"evenodd\" fill-opacity=\"1\"/>\n",
       "<defs>\n",
       "  <clipPath id=\"clip692\">\n",
       "    <rect x=\"148\" y=\"47\" width=\"2205\" height=\"1440\"/>\n",
       "  </clipPath>\n",
       "</defs>\n",
       "<polyline clip-path=\"url(#clip692)\" style=\"stroke:#000000; stroke-width:2; stroke-opacity:0.1; fill:none\" points=\"\n",
       "  149.558,1486.45 149.558,47.2441 \n",
       "  \"/>\n",
       "<polyline clip-path=\"url(#clip692)\" style=\"stroke:#000000; stroke-width:2; stroke-opacity:0.1; fill:none\" points=\"\n",
       "  761.217,1486.45 761.217,47.2441 \n",
       "  \"/>\n",
       "<polyline clip-path=\"url(#clip692)\" style=\"stroke:#000000; stroke-width:2; stroke-opacity:0.1; fill:none\" points=\"\n",
       "  1372.88,1486.45 1372.88,47.2441 \n",
       "  \"/>\n",
       "<polyline clip-path=\"url(#clip692)\" style=\"stroke:#000000; stroke-width:2; stroke-opacity:0.1; fill:none\" points=\"\n",
       "  1984.54,1486.45 1984.54,47.2441 \n",
       "  \"/>\n",
       "<polyline clip-path=\"url(#clip692)\" style=\"stroke:#000000; stroke-width:2; stroke-opacity:0.1; fill:none\" points=\"\n",
       "  148.334,1440.59 2352.76,1440.59 \n",
       "  \"/>\n",
       "<polyline clip-path=\"url(#clip692)\" style=\"stroke:#000000; stroke-width:2; stroke-opacity:0.1; fill:none\" points=\"\n",
       "  148.334,1215.16 2352.76,1215.16 \n",
       "  \"/>\n",
       "<polyline clip-path=\"url(#clip692)\" style=\"stroke:#000000; stroke-width:2; stroke-opacity:0.1; fill:none\" points=\"\n",
       "  148.334,989.72 2352.76,989.72 \n",
       "  \"/>\n",
       "<polyline clip-path=\"url(#clip692)\" style=\"stroke:#000000; stroke-width:2; stroke-opacity:0.1; fill:none\" points=\"\n",
       "  148.334,764.284 2352.76,764.284 \n",
       "  \"/>\n",
       "<polyline clip-path=\"url(#clip692)\" style=\"stroke:#000000; stroke-width:2; stroke-opacity:0.1; fill:none\" points=\"\n",
       "  148.334,538.848 2352.76,538.848 \n",
       "  \"/>\n",
       "<polyline clip-path=\"url(#clip692)\" style=\"stroke:#000000; stroke-width:2; stroke-opacity:0.1; fill:none\" points=\"\n",
       "  148.334,313.412 2352.76,313.412 \n",
       "  \"/>\n",
       "<polyline clip-path=\"url(#clip692)\" style=\"stroke:#000000; stroke-width:2; stroke-opacity:0.1; fill:none\" points=\"\n",
       "  148.334,87.9763 2352.76,87.9763 \n",
       "  \"/>\n",
       "<polyline clip-path=\"url(#clip690)\" style=\"stroke:#000000; stroke-width:4; stroke-opacity:1; fill:none\" points=\"\n",
       "  148.334,1486.45 2352.76,1486.45 \n",
       "  \"/>\n",
       "<polyline clip-path=\"url(#clip690)\" style=\"stroke:#000000; stroke-width:4; stroke-opacity:1; fill:none\" points=\"\n",
       "  148.334,1486.45 148.334,47.2441 \n",
       "  \"/>\n",
       "<polyline clip-path=\"url(#clip690)\" style=\"stroke:#000000; stroke-width:4; stroke-opacity:1; fill:none\" points=\"\n",
       "  149.558,1486.45 149.558,1469.18 \n",
       "  \"/>\n",
       "<polyline clip-path=\"url(#clip690)\" style=\"stroke:#000000; stroke-width:4; stroke-opacity:1; fill:none\" points=\"\n",
       "  761.217,1486.45 761.217,1469.18 \n",
       "  \"/>\n",
       "<polyline clip-path=\"url(#clip690)\" style=\"stroke:#000000; stroke-width:4; stroke-opacity:1; fill:none\" points=\"\n",
       "  1372.88,1486.45 1372.88,1469.18 \n",
       "  \"/>\n",
       "<polyline clip-path=\"url(#clip690)\" style=\"stroke:#000000; stroke-width:4; stroke-opacity:1; fill:none\" points=\"\n",
       "  1984.54,1486.45 1984.54,1469.18 \n",
       "  \"/>\n",
       "<polyline clip-path=\"url(#clip690)\" style=\"stroke:#000000; stroke-width:4; stroke-opacity:1; fill:none\" points=\"\n",
       "  148.334,1440.59 174.787,1440.59 \n",
       "  \"/>\n",
       "<polyline clip-path=\"url(#clip690)\" style=\"stroke:#000000; stroke-width:4; stroke-opacity:1; fill:none\" points=\"\n",
       "  148.334,1215.16 174.787,1215.16 \n",
       "  \"/>\n",
       "<polyline clip-path=\"url(#clip690)\" style=\"stroke:#000000; stroke-width:4; stroke-opacity:1; fill:none\" points=\"\n",
       "  148.334,989.72 174.787,989.72 \n",
       "  \"/>\n",
       "<polyline clip-path=\"url(#clip690)\" style=\"stroke:#000000; stroke-width:4; stroke-opacity:1; fill:none\" points=\"\n",
       "  148.334,764.284 174.787,764.284 \n",
       "  \"/>\n",
       "<polyline clip-path=\"url(#clip690)\" style=\"stroke:#000000; stroke-width:4; stroke-opacity:1; fill:none\" points=\"\n",
       "  148.334,538.848 174.787,538.848 \n",
       "  \"/>\n",
       "<polyline clip-path=\"url(#clip690)\" style=\"stroke:#000000; stroke-width:4; stroke-opacity:1; fill:none\" points=\"\n",
       "  148.334,313.412 174.787,313.412 \n",
       "  \"/>\n",
       "<polyline clip-path=\"url(#clip690)\" style=\"stroke:#000000; stroke-width:4; stroke-opacity:1; fill:none\" points=\"\n",
       "  148.334,87.9763 174.787,87.9763 \n",
       "  \"/>\n",
       "<path clip-path=\"url(#clip690)\" d=\"M 0 0 M149.558 1508.44 Q145.947 1508.44 144.118 1512 Q142.312 1515.55 142.312 1522.67 Q142.312 1529.78 144.118 1533.35 Q145.947 1536.89 149.558 1536.89 Q153.192 1536.89 154.997 1533.35 Q156.826 1529.78 156.826 1522.67 Q156.826 1515.55 154.997 1512 Q153.192 1508.44 149.558 1508.44 M149.558 1504.73 Q155.368 1504.73 158.423 1509.34 Q161.502 1513.92 161.502 1522.67 Q161.502 1531.4 158.423 1536.01 Q155.368 1540.59 149.558 1540.59 Q143.748 1540.59 140.669 1536.01 Q137.613 1531.4 137.613 1522.67 Q137.613 1513.92 140.669 1509.34 Q143.748 1504.73 149.558 1504.73 Z\" fill=\"#000000\" fill-rule=\"evenodd\" fill-opacity=\"1\" /><path clip-path=\"url(#clip690)\" d=\"M 0 0 M724.586 1535.98 L732.224 1535.98 L732.224 1509.62 L723.914 1511.29 L723.914 1507.03 L732.178 1505.36 L736.854 1505.36 L736.854 1535.98 L744.493 1535.98 L744.493 1539.92 L724.586 1539.92 L724.586 1535.98 Z\" fill=\"#000000\" fill-rule=\"evenodd\" fill-opacity=\"1\" /><path clip-path=\"url(#clip690)\" d=\"M 0 0 M759.562 1508.44 Q755.951 1508.44 754.123 1512 Q752.317 1515.55 752.317 1522.67 Q752.317 1529.78 754.123 1533.35 Q755.951 1536.89 759.562 1536.89 Q763.197 1536.89 765.002 1533.35 Q766.831 1529.78 766.831 1522.67 Q766.831 1515.55 765.002 1512 Q763.197 1508.44 759.562 1508.44 M759.562 1504.73 Q765.372 1504.73 768.428 1509.34 Q771.507 1513.92 771.507 1522.67 Q771.507 1531.4 768.428 1536.01 Q765.372 1540.59 759.562 1540.59 Q753.752 1540.59 750.673 1536.01 Q747.618 1531.4 747.618 1522.67 Q747.618 1513.92 750.673 1509.34 Q753.752 1504.73 759.562 1504.73 Z\" fill=\"#000000\" fill-rule=\"evenodd\" fill-opacity=\"1\" /><path clip-path=\"url(#clip690)\" d=\"M 0 0 M786.576 1508.44 Q782.965 1508.44 781.136 1512 Q779.331 1515.55 779.331 1522.67 Q779.331 1529.78 781.136 1533.35 Q782.965 1536.89 786.576 1536.89 Q790.21 1536.89 792.016 1533.35 Q793.845 1529.78 793.845 1522.67 Q793.845 1515.55 792.016 1512 Q790.21 1508.44 786.576 1508.44 M786.576 1504.73 Q792.386 1504.73 795.442 1509.34 Q798.52 1513.92 798.52 1522.67 Q798.52 1531.4 795.442 1536.01 Q792.386 1540.59 786.576 1540.59 Q780.766 1540.59 777.687 1536.01 Q774.632 1531.4 774.632 1522.67 Q774.632 1513.92 777.687 1509.34 Q780.766 1504.73 786.576 1504.73 Z\" fill=\"#000000\" fill-rule=\"evenodd\" fill-opacity=\"1\" /><path clip-path=\"url(#clip690)\" d=\"M 0 0 M1340.52 1535.98 L1356.84 1535.98 L1356.84 1539.92 L1334.89 1539.92 L1334.89 1535.98 Q1337.55 1533.23 1342.14 1528.6 Q1346.74 1523.95 1347.92 1522.61 Q1350.17 1520.08 1351.05 1518.35 Q1351.95 1516.59 1351.95 1514.9 Q1351.95 1512.14 1350.01 1510.41 Q1348.09 1508.67 1344.98 1508.67 Q1342.78 1508.67 1340.33 1509.43 Q1337.9 1510.2 1335.12 1511.75 L1335.12 1507.03 Q1337.95 1505.89 1340.4 1505.31 Q1342.85 1504.73 1344.89 1504.73 Q1350.26 1504.73 1353.46 1507.42 Q1356.65 1510.11 1356.65 1514.6 Q1356.65 1516.73 1355.84 1518.65 Q1355.05 1520.54 1352.95 1523.14 Q1352.37 1523.81 1349.27 1527.03 Q1346.16 1530.22 1340.52 1535.98 Z\" fill=\"#000000\" fill-rule=\"evenodd\" fill-opacity=\"1\" /><path clip-path=\"url(#clip690)\" d=\"M 0 0 M1371.9 1508.44 Q1368.29 1508.44 1366.47 1512 Q1364.66 1515.55 1364.66 1522.67 Q1364.66 1529.78 1366.47 1533.35 Q1368.29 1536.89 1371.9 1536.89 Q1375.54 1536.89 1377.34 1533.35 Q1379.17 1529.78 1379.17 1522.67 Q1379.17 1515.55 1377.34 1512 Q1375.54 1508.44 1371.9 1508.44 M1371.9 1504.73 Q1377.72 1504.73 1380.77 1509.34 Q1383.85 1513.92 1383.85 1522.67 Q1383.85 1531.4 1380.77 1536.01 Q1377.72 1540.59 1371.9 1540.59 Q1366.09 1540.59 1363.02 1536.01 Q1359.96 1531.4 1359.96 1522.67 Q1359.96 1513.92 1363.02 1509.34 Q1366.09 1504.73 1371.9 1504.73 Z\" fill=\"#000000\" fill-rule=\"evenodd\" fill-opacity=\"1\" /><path clip-path=\"url(#clip690)\" d=\"M 0 0 M1398.92 1508.44 Q1395.31 1508.44 1393.48 1512 Q1391.67 1515.55 1391.67 1522.67 Q1391.67 1529.78 1393.48 1533.35 Q1395.31 1536.89 1398.92 1536.89 Q1402.55 1536.89 1404.36 1533.35 Q1406.19 1529.78 1406.19 1522.67 Q1406.19 1515.55 1404.36 1512 Q1402.55 1508.44 1398.92 1508.44 M1398.92 1504.73 Q1404.73 1504.73 1407.78 1509.34 Q1410.86 1513.92 1410.86 1522.67 Q1410.86 1531.4 1407.78 1536.01 Q1404.73 1540.59 1398.92 1540.59 Q1393.11 1540.59 1390.03 1536.01 Q1386.97 1531.4 1386.97 1522.67 Q1386.97 1513.92 1390.03 1509.34 Q1393.11 1504.73 1398.92 1504.73 Z\" fill=\"#000000\" fill-rule=\"evenodd\" fill-opacity=\"1\" /><path clip-path=\"url(#clip690)\" d=\"M 0 0 M1961.77 1521.29 Q1965.13 1522 1967 1524.27 Q1968.9 1526.54 1968.9 1529.87 Q1968.9 1534.99 1965.38 1537.79 Q1961.86 1540.59 1955.38 1540.59 Q1953.21 1540.59 1950.89 1540.15 Q1948.6 1539.73 1946.15 1538.88 L1946.15 1534.36 Q1948.09 1535.5 1950.41 1536.08 Q1952.72 1536.66 1955.24 1536.66 Q1959.64 1536.66 1961.93 1534.92 Q1964.25 1533.18 1964.25 1529.87 Q1964.25 1526.82 1962.09 1525.11 Q1959.97 1523.37 1956.15 1523.37 L1952.12 1523.37 L1952.12 1519.53 L1956.33 1519.53 Q1959.78 1519.53 1961.61 1518.16 Q1963.44 1516.77 1963.44 1514.18 Q1963.44 1511.52 1961.54 1510.11 Q1959.66 1508.67 1956.15 1508.67 Q1954.22 1508.67 1952.03 1509.09 Q1949.83 1509.5 1947.19 1510.38 L1947.19 1506.22 Q1949.85 1505.48 1952.16 1505.11 Q1954.5 1504.73 1956.56 1504.73 Q1961.89 1504.73 1964.99 1507.17 Q1968.09 1509.57 1968.09 1513.69 Q1968.09 1516.56 1966.45 1518.55 Q1964.8 1520.52 1961.77 1521.29 Z\" fill=\"#000000\" fill-rule=\"evenodd\" fill-opacity=\"1\" /><path clip-path=\"url(#clip690)\" d=\"M 0 0 M1983.97 1508.44 Q1980.36 1508.44 1978.53 1512 Q1976.72 1515.55 1976.72 1522.67 Q1976.72 1529.78 1978.53 1533.35 Q1980.36 1536.89 1983.97 1536.89 Q1987.6 1536.89 1989.41 1533.35 Q1991.24 1529.78 1991.24 1522.67 Q1991.24 1515.55 1989.41 1512 Q1987.6 1508.44 1983.97 1508.44 M1983.97 1504.73 Q1989.78 1504.73 1992.84 1509.34 Q1995.91 1513.92 1995.91 1522.67 Q1995.91 1531.4 1992.84 1536.01 Q1989.78 1540.59 1983.97 1540.59 Q1978.16 1540.59 1975.08 1536.01 Q1972.03 1531.4 1972.03 1522.67 Q1972.03 1513.92 1975.08 1509.34 Q1978.16 1504.73 1983.97 1504.73 Z\" fill=\"#000000\" fill-rule=\"evenodd\" fill-opacity=\"1\" /><path clip-path=\"url(#clip690)\" d=\"M 0 0 M2010.98 1508.44 Q2007.37 1508.44 2005.54 1512 Q2003.74 1515.55 2003.74 1522.67 Q2003.74 1529.78 2005.54 1533.35 Q2007.37 1536.89 2010.98 1536.89 Q2014.62 1536.89 2016.42 1533.35 Q2018.25 1529.78 2018.25 1522.67 Q2018.25 1515.55 2016.42 1512 Q2014.62 1508.44 2010.98 1508.44 M2010.98 1504.73 Q2016.79 1504.73 2019.85 1509.34 Q2022.93 1513.92 2022.93 1522.67 Q2022.93 1531.4 2019.85 1536.01 Q2016.79 1540.59 2010.98 1540.59 Q2005.17 1540.59 2002.09 1536.01 Q1999.04 1531.4 1999.04 1522.67 Q1999.04 1513.92 2002.09 1509.34 Q2005.17 1504.73 2010.98 1504.73 Z\" fill=\"#000000\" fill-rule=\"evenodd\" fill-opacity=\"1\" /><path clip-path=\"url(#clip690)\" d=\"M 0 0 M74.9365 1426.39 Q71.3254 1426.39 69.4967 1429.96 Q67.6912 1433.5 67.6912 1440.63 Q67.6912 1447.73 69.4967 1451.3 Q71.3254 1454.84 74.9365 1454.84 Q78.5707 1454.84 80.3763 1451.3 Q82.205 1447.73 82.205 1440.63 Q82.205 1433.5 80.3763 1429.96 Q78.5707 1426.39 74.9365 1426.39 M74.9365 1422.69 Q80.7467 1422.69 83.8022 1427.29 Q86.8809 1431.88 86.8809 1440.63 Q86.8809 1449.35 83.8022 1453.96 Q80.7467 1458.54 74.9365 1458.54 Q69.1264 1458.54 66.0477 1453.96 Q62.9921 1449.35 62.9921 1440.63 Q62.9921 1431.88 66.0477 1427.29 Q69.1264 1422.69 74.9365 1422.69 Z\" fill=\"#000000\" fill-rule=\"evenodd\" fill-opacity=\"1\" /><path clip-path=\"url(#clip690)\" d=\"M 0 0 M91.9503 1451.99 L96.8345 1451.99 L96.8345 1457.87 L91.9503 1457.87 L91.9503 1451.99 Z\" fill=\"#000000\" fill-rule=\"evenodd\" fill-opacity=\"1\" /><path clip-path=\"url(#clip690)\" d=\"M 0 0 M114.751 1427.39 L102.946 1445.84 L114.751 1445.84 L114.751 1427.39 M113.524 1423.31 L119.404 1423.31 L119.404 1445.84 L124.334 1445.84 L124.334 1449.72 L119.404 1449.72 L119.404 1457.87 L114.751 1457.87 L114.751 1449.72 L99.1493 1449.72 L99.1493 1445.21 L113.524 1423.31 Z\" fill=\"#000000\" fill-rule=\"evenodd\" fill-opacity=\"1\" /><path clip-path=\"url(#clip690)\" d=\"M 0 0 M76.418 1200.95 Q72.8069 1200.95 70.9782 1204.52 Q69.1726 1208.06 69.1726 1215.19 Q69.1726 1222.3 70.9782 1225.86 Q72.8069 1229.4 76.418 1229.4 Q80.0522 1229.4 81.8578 1225.86 Q83.6865 1222.3 83.6865 1215.19 Q83.6865 1208.06 81.8578 1204.52 Q80.0522 1200.95 76.418 1200.95 M76.418 1197.25 Q82.2281 1197.25 85.2837 1201.86 Q88.3624 1206.44 88.3624 1215.19 Q88.3624 1223.92 85.2837 1228.52 Q82.2281 1233.11 76.418 1233.11 Q70.6078 1233.11 67.5291 1228.52 Q64.4736 1223.92 64.4736 1215.19 Q64.4736 1206.44 67.5291 1201.86 Q70.6078 1197.25 76.418 1197.25 Z\" fill=\"#000000\" fill-rule=\"evenodd\" fill-opacity=\"1\" /><path clip-path=\"url(#clip690)\" d=\"M 0 0 M93.4318 1226.56 L98.316 1226.56 L98.316 1232.44 L93.4318 1232.44 L93.4318 1226.56 Z\" fill=\"#000000\" fill-rule=\"evenodd\" fill-opacity=\"1\" /><path clip-path=\"url(#clip690)\" d=\"M 0 0 M103.432 1197.88 L121.788 1197.88 L121.788 1201.81 L107.714 1201.81 L107.714 1210.28 Q108.733 1209.94 109.751 1209.77 Q110.77 1209.59 111.788 1209.59 Q117.575 1209.59 120.955 1212.76 Q124.334 1215.93 124.334 1221.35 Q124.334 1226.93 120.862 1230.03 Q117.39 1233.11 111.071 1233.11 Q108.895 1233.11 106.626 1232.74 Q104.381 1232.37 101.973 1231.63 L101.973 1226.93 Q104.057 1228.06 106.279 1228.62 Q108.501 1229.17 110.978 1229.17 Q114.983 1229.17 117.321 1227.07 Q119.658 1224.96 119.658 1221.35 Q119.658 1217.74 117.321 1215.63 Q114.983 1213.52 110.978 1213.52 Q109.103 1213.52 107.228 1213.94 Q105.376 1214.36 103.432 1215.24 L103.432 1197.88 Z\" fill=\"#000000\" fill-rule=\"evenodd\" fill-opacity=\"1\" /><path clip-path=\"url(#clip690)\" d=\"M 0 0 M75.2606 975.519 Q71.6495 975.519 69.8208 979.084 Q68.0152 982.625 68.0152 989.755 Q68.0152 996.861 69.8208 1000.43 Q71.6495 1003.97 75.2606 1003.97 Q78.8948 1003.97 80.7004 1000.43 Q82.5291 996.861 82.5291 989.755 Q82.5291 982.625 80.7004 979.084 Q78.8948 975.519 75.2606 975.519 M75.2606 971.815 Q81.0707 971.815 84.1263 976.422 Q87.205 981.005 87.205 989.755 Q87.205 998.482 84.1263 1003.09 Q81.0707 1007.67 75.2606 1007.67 Q69.4504 1007.67 66.3717 1003.09 Q63.3162 998.482 63.3162 989.755 Q63.3162 981.005 66.3717 976.422 Q69.4504 971.815 75.2606 971.815 Z\" fill=\"#000000\" fill-rule=\"evenodd\" fill-opacity=\"1\" /><path clip-path=\"url(#clip690)\" d=\"M 0 0 M92.2744 1001.12 L97.1586 1001.12 L97.1586 1007 L92.2744 1007 L92.2744 1001.12 Z\" fill=\"#000000\" fill-rule=\"evenodd\" fill-opacity=\"1\" /><path clip-path=\"url(#clip690)\" d=\"M 0 0 M112.807 987.857 Q109.659 987.857 107.807 990.01 Q105.978 992.162 105.978 995.912 Q105.978 999.639 107.807 1001.82 Q109.659 1003.97 112.807 1003.97 Q115.955 1003.97 117.783 1001.82 Q119.635 999.639 119.635 995.912 Q119.635 992.162 117.783 990.01 Q115.955 987.857 112.807 987.857 M122.089 973.204 L122.089 977.463 Q120.33 976.63 118.524 976.19 Q116.742 975.75 114.983 975.75 Q110.353 975.75 107.899 978.875 Q105.469 982 105.122 988.32 Q106.487 986.306 108.547 985.241 Q110.608 984.153 113.084 984.153 Q118.293 984.153 121.302 987.324 Q124.334 990.473 124.334 995.912 Q124.334 1001.24 121.186 1004.45 Q118.038 1007.67 112.807 1007.67 Q106.811 1007.67 103.64 1003.09 Q100.469 998.482 100.469 989.755 Q100.469 981.561 104.358 976.699 Q108.247 971.815 114.797 971.815 Q116.557 971.815 118.339 972.162 Q120.145 972.51 122.089 973.204 Z\" fill=\"#000000\" fill-rule=\"evenodd\" fill-opacity=\"1\" /><path clip-path=\"url(#clip690)\" d=\"M 0 0 M76.3254 750.083 Q72.7143 750.083 70.8856 753.648 Q69.0801 757.189 69.0801 764.319 Q69.0801 771.425 70.8856 774.99 Q72.7143 778.532 76.3254 778.532 Q79.9596 778.532 81.7652 774.99 Q83.5939 771.425 83.5939 764.319 Q83.5939 757.189 81.7652 753.648 Q79.9596 750.083 76.3254 750.083 M76.3254 746.379 Q82.1355 746.379 85.1911 750.986 Q88.2698 755.569 88.2698 764.319 Q88.2698 773.046 85.1911 777.652 Q82.1355 782.236 76.3254 782.236 Q70.5152 782.236 67.4365 777.652 Q64.381 773.046 64.381 764.319 Q64.381 755.569 67.4365 750.986 Q70.5152 746.379 76.3254 746.379 Z\" fill=\"#000000\" fill-rule=\"evenodd\" fill-opacity=\"1\" /><path clip-path=\"url(#clip690)\" d=\"M 0 0 M93.3392 775.685 L98.2234 775.685 L98.2234 781.564 L93.3392 781.564 L93.3392 775.685 Z\" fill=\"#000000\" fill-rule=\"evenodd\" fill-opacity=\"1\" /><path clip-path=\"url(#clip690)\" d=\"M 0 0 M102.112 747.004 L124.334 747.004 L124.334 748.995 L111.788 781.564 L106.904 781.564 L118.709 750.939 L102.112 750.939 L102.112 747.004 Z\" fill=\"#000000\" fill-rule=\"evenodd\" fill-opacity=\"1\" /><path clip-path=\"url(#clip690)\" d=\"M 0 0 M75.5152 524.647 Q71.9041 524.647 70.0754 528.212 Q68.2699 531.753 68.2699 538.883 Q68.2699 545.989 70.0754 549.554 Q71.9041 553.096 75.5152 553.096 Q79.1494 553.096 80.955 549.554 Q82.7837 545.989 82.7837 538.883 Q82.7837 531.753 80.955 528.212 Q79.1494 524.647 75.5152 524.647 M75.5152 520.943 Q81.3254 520.943 84.3809 525.55 Q87.4596 530.133 87.4596 538.883 Q87.4596 547.61 84.3809 552.216 Q81.3254 556.8 75.5152 556.8 Q69.7051 556.8 66.6264 552.216 Q63.5708 547.61 63.5708 538.883 Q63.5708 530.133 66.6264 525.55 Q69.7051 520.943 75.5152 520.943 Z\" fill=\"#000000\" fill-rule=\"evenodd\" fill-opacity=\"1\" /><path clip-path=\"url(#clip690)\" d=\"M 0 0 M92.529 550.249 L97.4132 550.249 L97.4132 556.128 L92.529 556.128 L92.529 550.249 Z\" fill=\"#000000\" fill-rule=\"evenodd\" fill-opacity=\"1\" /><path clip-path=\"url(#clip690)\" d=\"M 0 0 M112.483 539.716 Q109.149 539.716 107.228 541.499 Q105.33 543.281 105.33 546.406 Q105.33 549.531 107.228 551.313 Q109.149 553.096 112.483 553.096 Q115.816 553.096 117.737 551.313 Q119.658 549.508 119.658 546.406 Q119.658 543.281 117.737 541.499 Q115.839 539.716 112.483 539.716 M107.807 537.726 Q104.797 536.985 103.108 534.925 Q101.441 532.864 101.441 529.902 Q101.441 525.758 104.381 523.351 Q107.344 520.943 112.483 520.943 Q117.645 520.943 120.584 523.351 Q123.524 525.758 123.524 529.902 Q123.524 532.864 121.834 534.925 Q120.168 536.985 117.182 537.726 Q120.561 538.513 122.436 540.804 Q124.334 543.096 124.334 546.406 Q124.334 551.429 121.256 554.114 Q118.2 556.8 112.483 556.8 Q106.765 556.8 103.686 554.114 Q100.631 551.429 100.631 546.406 Q100.631 543.096 102.529 540.804 Q104.427 538.513 107.807 537.726 M106.094 530.341 Q106.094 533.027 107.76 534.531 Q109.45 536.036 112.483 536.036 Q115.492 536.036 117.182 534.531 Q118.895 533.027 118.895 530.341 Q118.895 527.656 117.182 526.152 Q115.492 524.647 112.483 524.647 Q109.45 524.647 107.76 526.152 Q106.094 527.656 106.094 530.341 Z\" fill=\"#000000\" fill-rule=\"evenodd\" fill-opacity=\"1\" /><path clip-path=\"url(#clip690)\" d=\"M 0 0 M75.6078 299.211 Q71.9967 299.211 70.168 302.776 Q68.3625 306.317 68.3625 313.447 Q68.3625 320.553 70.168 324.118 Q71.9967 327.66 75.6078 327.66 Q79.242 327.66 81.0476 324.118 Q82.8763 320.553 82.8763 313.447 Q82.8763 306.317 81.0476 302.776 Q79.242 299.211 75.6078 299.211 M75.6078 295.507 Q81.418 295.507 84.4735 300.114 Q87.5522 304.697 87.5522 313.447 Q87.5522 322.174 84.4735 326.78 Q81.418 331.364 75.6078 331.364 Q69.7976 331.364 66.719 326.78 Q63.6634 322.174 63.6634 313.447 Q63.6634 304.697 66.719 300.114 Q69.7976 295.507 75.6078 295.507 Z\" fill=\"#000000\" fill-rule=\"evenodd\" fill-opacity=\"1\" /><path clip-path=\"url(#clip690)\" d=\"M 0 0 M92.6216 324.813 L97.5058 324.813 L97.5058 330.692 L92.6216 330.692 L92.6216 324.813 Z\" fill=\"#000000\" fill-rule=\"evenodd\" fill-opacity=\"1\" /><path clip-path=\"url(#clip690)\" d=\"M 0 0 M102.714 329.975 L102.714 325.715 Q104.473 326.549 106.279 326.989 Q108.084 327.428 109.821 327.428 Q114.45 327.428 116.881 324.327 Q119.334 321.202 119.682 314.859 Q118.339 316.85 116.279 317.915 Q114.219 318.979 111.719 318.979 Q106.534 318.979 103.501 315.854 Q100.492 312.706 100.492 307.266 Q100.492 301.942 103.64 298.725 Q106.788 295.507 112.02 295.507 Q118.015 295.507 121.163 300.114 Q124.334 304.697 124.334 313.447 Q124.334 321.618 120.446 326.502 Q116.58 331.364 110.029 331.364 Q108.27 331.364 106.464 331.016 Q104.659 330.669 102.714 329.975 M112.02 315.322 Q115.168 315.322 116.996 313.169 Q118.848 311.016 118.848 307.266 Q118.848 303.54 116.996 301.387 Q115.168 299.211 112.02 299.211 Q108.872 299.211 107.02 301.387 Q105.191 303.54 105.191 307.266 Q105.191 311.016 107.02 313.169 Q108.872 315.322 112.02 315.322 Z\" fill=\"#000000\" fill-rule=\"evenodd\" fill-opacity=\"1\" /><path clip-path=\"url(#clip690)\" d=\"M 0 0 M67.4597 101.321 L75.0985 101.321 L75.0985 74.9555 L66.7884 76.6222 L66.7884 72.3629 L75.0522 70.6963 L79.7281 70.6963 L79.7281 101.321 L87.367 101.321 L87.367 105.256 L67.4597 105.256 L67.4597 101.321 Z\" fill=\"#000000\" fill-rule=\"evenodd\" fill-opacity=\"1\" /><path clip-path=\"url(#clip690)\" d=\"M 0 0 M92.4364 99.3767 L97.3206 99.3767 L97.3206 105.256 L92.4364 105.256 L92.4364 99.3767 Z\" fill=\"#000000\" fill-rule=\"evenodd\" fill-opacity=\"1\" /><path clip-path=\"url(#clip690)\" d=\"M 0 0 M112.39 73.775 Q108.779 73.775 106.95 77.3398 Q105.145 80.8814 105.145 88.011 Q105.145 95.1174 106.95 98.6822 Q108.779 102.224 112.39 102.224 Q116.024 102.224 117.83 98.6822 Q119.658 95.1174 119.658 88.011 Q119.658 80.8814 117.83 77.3398 Q116.024 73.775 112.39 73.775 M112.39 70.0713 Q118.2 70.0713 121.256 74.6777 Q124.334 79.261 124.334 88.011 Q124.334 96.7378 121.256 101.344 Q118.2 105.928 112.39 105.928 Q106.58 105.928 103.501 101.344 Q100.446 96.7378 100.446 88.011 Q100.446 79.261 103.501 74.6777 Q106.58 70.0713 112.39 70.0713 Z\" fill=\"#000000\" fill-rule=\"evenodd\" fill-opacity=\"1\" /><polyline clip-path=\"url(#clip692)\" style=\"stroke:#009af9; stroke-width:4; stroke-opacity:1; fill:none\" points=\"\n",
       "  210.724,87.9763 241.307,238.267 271.89,200.694 302.473,358.499 333.056,538.848 363.639,538.848 394.222,426.13 424.805,639.042 455.388,583.935 485.971,497.86 \n",
       "  516.554,463.703 547.137,538.848 577.719,571.053 608.302,568.906 638.885,623.387 669.468,644.936 700.051,639.042 730.634,610.039 761.217,651.566 791.8,624.729 \n",
       "  822.383,579.837 852.966,558.451 883.549,632.78 914.132,574.918 944.715,590.872 975.298,639.042 1005.88,635.464 1036.46,585.49 1067.05,568.906 1097.63,698.835 \n",
       "  1128.21,623.387 1158.8,620.825 1189.38,618.414 1219.96,629.023 1250.55,626.518 1281.13,636.334 1311.71,610.039 1342.29,585.092 1372.88,583.935 1403.46,593.833 \n",
       "  1434.04,656.934 1464.63,664.673 1495.21,784.778 1525.79,659.081 1556.37,646.665 1586.96,692.337 1617.54,585.814 1648.12,686.072 1678.71,601.97 1709.29,609.573 \n",
       "  1739.87,521.507 1770.46,530.341 1801.04,547.198 1831.62,538.848 1862.2,530.797 1892.79,523.028 1923.37,523.301 1953.95,523.564 1984.54,651.566 2015.12,516.674 \n",
       "  2045.7,509.76 2076.29,696.296 2106.87,630.432 2137.45,622.086 2168.03,634.488 2198.62,579.225 2229.2,611.783 2259.78,649.933 2290.37,693.433 \n",
       "  \"/>\n",
       "<polyline clip-path=\"url(#clip692)\" style=\"stroke:#e26f46; stroke-width:4; stroke-opacity:1; fill:none\" points=\"\n",
       "  210.724,1445.72 241.307,882.126 271.89,882.126 302.473,933.361 333.056,907.743 363.639,830.89 394.222,497.86 424.805,651.566 455.388,651.566 485.971,523.478 \n",
       "  516.554,523.478 547.137,523.478 577.719,523.478 608.302,523.478 638.885,600.331 669.468,600.331 700.051,600.331 730.634,600.331 761.217,574.713 791.8,574.713 \n",
       "  822.383,574.713 852.966,574.713 883.549,497.86 914.132,574.713 944.715,497.86 975.298,497.86 1005.88,497.86 1036.46,600.331 1067.05,600.331 1097.63,728.419 \n",
       "  1128.21,497.86 1158.8,497.86 1189.38,497.86 1219.96,497.86 1250.55,497.86 1281.13,497.86 1311.71,497.86 1342.29,677.184 1372.88,677.184 1403.46,677.184 \n",
       "  1434.04,677.184 1464.63,677.184 1495.21,830.89 1525.79,677.184 1556.37,702.802 1586.96,600.331 1617.54,421.007 1648.12,600.331 1678.71,421.007 1709.29,523.478 \n",
       "  1739.87,446.624 1770.46,446.624 1801.04,497.86 1831.62,497.86 1862.2,497.86 1892.79,497.86 1923.37,497.86 1953.95,497.86 1984.54,779.655 2015.12,497.86 \n",
       "  2045.7,497.86 2076.29,702.802 2106.87,625.948 2137.45,497.86 2168.03,625.948 2198.62,523.478 2229.2,497.86 2259.78,625.948 2290.37,702.802 \n",
       "  \"/>\n",
       "<path clip-path=\"url(#clip690)\" d=\"\n",
       "M1983.32 276.658 L2279.28 276.658 L2279.28 95.2176 L1983.32 95.2176  Z\n",
       "  \" fill=\"#ffffff\" fill-rule=\"evenodd\" fill-opacity=\"1\"/>\n",
       "<polyline clip-path=\"url(#clip690)\" style=\"stroke:#000000; stroke-width:4; stroke-opacity:1; fill:none\" points=\"\n",
       "  1983.32,276.658 2279.28,276.658 2279.28,95.2176 1983.32,95.2176 1983.32,276.658 \n",
       "  \"/>\n",
       "<polyline clip-path=\"url(#clip690)\" style=\"stroke:#009af9; stroke-width:4; stroke-opacity:1; fill:none\" points=\"\n",
       "  2007.81,155.698 2154.78,155.698 \n",
       "  \"/>\n",
       "<path clip-path=\"url(#clip690)\" d=\"M 0 0 M2193.11 175.385 Q2191.31 180.015 2189.59 181.427 Q2187.88 182.839 2185.01 182.839 L2181.61 182.839 L2181.61 179.274 L2184.11 179.274 Q2185.87 179.274 2186.84 178.44 Q2187.81 177.607 2188.99 174.505 L2189.76 172.561 L2179.27 147.052 L2183.78 147.052 L2191.89 167.329 L2199.99 147.052 L2204.5 147.052 L2193.11 175.385 Z\" fill=\"#000000\" fill-rule=\"evenodd\" fill-opacity=\"1\" /><path clip-path=\"url(#clip690)\" d=\"M 0 0 M2210.38 169.042 L2218.02 169.042 L2218.02 142.677 L2209.71 144.343 L2209.71 140.084 L2217.97 138.418 L2222.65 138.418 L2222.65 169.042 L2230.29 169.042 L2230.29 172.978 L2210.38 172.978 L2210.38 169.042 Z\" fill=\"#000000\" fill-rule=\"evenodd\" fill-opacity=\"1\" /><polyline clip-path=\"url(#clip690)\" style=\"stroke:#e26f46; stroke-width:4; stroke-opacity:1; fill:none\" points=\"\n",
       "  2007.81,216.178 2154.78,216.178 \n",
       "  \"/>\n",
       "<path clip-path=\"url(#clip690)\" d=\"M 0 0 M2193.11 235.865 Q2191.31 240.495 2189.59 241.907 Q2187.88 243.319 2185.01 243.319 L2181.61 243.319 L2181.61 239.754 L2184.11 239.754 Q2185.87 239.754 2186.84 238.92 Q2187.81 238.087 2188.99 234.985 L2189.76 233.041 L2179.27 207.532 L2183.78 207.532 L2191.89 227.809 L2199.99 207.532 L2204.5 207.532 L2193.11 235.865 Z\" fill=\"#000000\" fill-rule=\"evenodd\" fill-opacity=\"1\" /><path clip-path=\"url(#clip690)\" d=\"M 0 0 M2213.6 229.522 L2229.92 229.522 L2229.92 233.458 L2207.97 233.458 L2207.97 229.522 Q2210.64 226.768 2215.22 222.138 Q2219.83 217.485 2221.01 216.143 Q2223.25 213.62 2224.13 211.884 Q2225.03 210.124 2225.03 208.435 Q2225.03 205.68 2223.09 203.944 Q2221.17 202.208 2218.07 202.208 Q2215.87 202.208 2213.41 202.972 Q2210.98 203.735 2208.2 205.286 L2208.2 200.564 Q2211.03 199.43 2213.48 198.851 Q2215.94 198.273 2217.97 198.273 Q2223.34 198.273 2226.54 200.958 Q2229.73 203.643 2229.73 208.134 Q2229.73 210.263 2228.92 212.185 Q2228.14 214.083 2226.03 216.675 Q2225.45 217.347 2222.35 220.564 Q2219.25 223.759 2213.6 229.522 Z\" fill=\"#000000\" fill-rule=\"evenodd\" fill-opacity=\"1\" /></svg>\n"
      ]
     },
     "execution_count": 49,
     "metadata": {},
     "output_type": "execute_result"
    }
   ],
   "source": [
    "plot(data_schedule, training_losses)\n",
    "plot!(data_schedule, valid_losses)"
   ]
  },
  {
   "cell_type": "code",
   "execution_count": null,
   "metadata": {},
   "outputs": [],
   "source": []
  },
  {
   "cell_type": "code",
   "execution_count": null,
   "metadata": {},
   "outputs": [],
   "source": []
  },
  {
   "cell_type": "code",
   "execution_count": null,
   "metadata": {},
   "outputs": [],
   "source": []
  },
  {
   "cell_type": "markdown",
   "metadata": {},
   "source": [
    "# Final Results"
   ]
  },
  {
   "cell_type": "code",
   "execution_count": 50,
   "metadata": {},
   "outputs": [
    {
     "data": {
      "text/plain": [
       "AdaBoostClassifier(\n",
       "    base_estimator = nothing,\n",
       "    n_estimators = 5,\n",
       "    learning_rate = 0.16681005372000587,\n",
       "    algorithm = \"SAMME.R\",\n",
       "    random_state = nothing)\u001b[34m @608\u001b[39m"
      ]
     },
     "execution_count": 50,
     "metadata": {},
     "output_type": "execute_result"
    }
   ],
   "source": [
    "final_boost_model = best.best_model"
   ]
  },
  {
   "cell_type": "code",
   "execution_count": 51,
   "metadata": {},
   "outputs": [
    {
     "data": {
      "text/plain": [
       "\u001b[34mMachine{AdaBoostClassifier} @286\u001b[39m trained 0 times.\n",
       "  args: \n",
       "    1:\t\u001b[34mSource @260\u001b[39m ⏎ `Table{AbstractArray{Continuous,1}}`\n",
       "    2:\t\u001b[34mSource @038\u001b[39m ⏎ `AbstractArray{Multiclass{3},1}`\n"
      ]
     },
     "execution_count": 51,
     "metadata": {},
     "output_type": "execute_result"
    }
   ],
   "source": [
    "Final_Boost = machine(final_boost_model, X, y)"
   ]
  },
  {
   "cell_type": "code",
   "execution_count": 52,
   "metadata": {},
   "outputs": [
    {
     "name": "stderr",
     "output_type": "stream",
     "text": [
      "┌ Info: Training \u001b[34mMachine{AdaBoostClassifier} @286\u001b[39m.\n",
      "└ @ MLJBase /home/andrew/.julia/packages/MLJBase/uKzAz/src/machines.jl:319\n"
     ]
    },
    {
     "data": {
      "text/plain": [
       "\u001b[34mMachine{AdaBoostClassifier} @286\u001b[39m trained 1 time.\n",
       "  args: \n",
       "    1:\t\u001b[34mSource @260\u001b[39m ⏎ `Table{AbstractArray{Continuous,1}}`\n",
       "    2:\t\u001b[34mSource @038\u001b[39m ⏎ `AbstractArray{Multiclass{3},1}`\n"
      ]
     },
     "execution_count": 52,
     "metadata": {},
     "output_type": "execute_result"
    }
   ],
   "source": [
    "fit!(Final_Boost, rows=train, verbosity=2)"
   ]
  },
  {
   "cell_type": "code",
   "execution_count": 54,
   "metadata": {},
   "outputs": [],
   "source": [
    "ŷ2 = MLJ.predict(Final_Boost, X[test,:]);"
   ]
  },
  {
   "cell_type": "code",
   "execution_count": 55,
   "metadata": {},
   "outputs": [
    {
     "data": {
      "text/plain": [
       "0.8113649983916612"
      ]
     },
     "execution_count": 55,
     "metadata": {},
     "output_type": "execute_result"
    }
   ],
   "source": [
    "cross_entropy(ŷ2, y[test]) |> mean"
   ]
  },
  {
   "cell_type": "code",
   "execution_count": 56,
   "metadata": {},
   "outputs": [
    {
     "data": {
      "text/plain": [
       "0.7700534759358288"
      ]
     },
     "execution_count": 56,
     "metadata": {},
     "output_type": "execute_result"
    }
   ],
   "source": [
    "acc(ŷ2, y[test])"
   ]
  },
  {
   "cell_type": "code",
   "execution_count": 58,
   "metadata": {},
   "outputs": [
    {
     "name": "stderr",
     "output_type": "stream",
     "text": [
      "┌ Warning: The classes are un-ordered,\n",
      "│ using order: [\"B\", \"L\", \"R\"].\n",
      "│ To suppress this warning, consider coercing to OrderedFactor.\n",
      "└ @ MLJBase /home/andrew/.julia/packages/MLJBase/uKzAz/src/measures/confusion_matrix.jl:87\n"
     ]
    },
    {
     "data": {
      "text/plain": [
       "              ┌─────────────────────────────────────────┐\n",
       "              │              Ground Truth               │\n",
       "┌─────────────┼─────────────┬─────────────┬─────────────┤\n",
       "│  Predicted  │      B      │      L      │      R      │\n",
       "├─────────────┼─────────────┼─────────────┼─────────────┤\n",
       "│      B      │      0      │      0      │      0      │\n",
       "├─────────────┼─────────────┼─────────────┼─────────────┤\n",
       "│      L      │      9      │     72      │     14      │\n",
       "├─────────────┼─────────────┼─────────────┼─────────────┤\n",
       "│      R      │      6      │     14      │     72      │\n",
       "└─────────────┴─────────────┴─────────────┴─────────────┘\n"
      ]
     },
     "execution_count": 58,
     "metadata": {},
     "output_type": "execute_result"
    }
   ],
   "source": [
    "confusion_matrix(mode.(ŷ2), y[test])"
   ]
  },
  {
   "cell_type": "code",
   "execution_count": null,
   "metadata": {},
   "outputs": [],
   "source": []
  }
 ],
 "metadata": {
  "kernelspec": {
   "display_name": "Julia 1.5.0",
   "language": "julia",
   "name": "julia-1.5"
  },
  "language_info": {
   "file_extension": ".jl",
   "mimetype": "application/julia",
   "name": "julia",
   "version": "1.5.0"
  }
 },
 "nbformat": 4,
 "nbformat_minor": 4
}
