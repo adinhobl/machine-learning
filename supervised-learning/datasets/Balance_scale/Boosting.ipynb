{
 "cells": [
  {
   "cell_type": "markdown",
   "metadata": {},
   "source": [
    "# Imports"
   ]
  },
  {
   "cell_type": "code",
   "execution_count": 1,
   "metadata": {},
   "outputs": [],
   "source": [
    "using DataFrames\n",
    "using CSV\n",
    "using MLJ\n",
    "using Plots\n",
    "using StatsBase\n",
    "\n",
    "include(\"../../lib.jl\")\n",
    "\n",
    "ENV[\"LINES\"]=30;"
   ]
  },
  {
   "cell_type": "markdown",
   "metadata": {},
   "source": [
    "# Dataset"
   ]
  },
  {
   "cell_type": "code",
   "execution_count": 2,
   "metadata": {
    "scrolled": true
   },
   "outputs": [
    {
     "data": {
      "text/html": [
       "<table class=\"data-frame\"><thead><tr><th></th><th>Class_Name</th><th>Left_Weight</th><th>Left_Distance</th><th>Right_Weight</th><th>Right_Distance</th></tr><tr><th></th><th>String</th><th>Int64</th><th>Int64</th><th>Int64</th><th>Int64</th></tr></thead><tbody><p>625 rows × 5 columns</p><tr><th>1</th><td>B</td><td>1</td><td>1</td><td>1</td><td>1</td></tr><tr><th>2</th><td>R</td><td>1</td><td>1</td><td>1</td><td>2</td></tr><tr><th>3</th><td>R</td><td>1</td><td>1</td><td>1</td><td>3</td></tr><tr><th>4</th><td>R</td><td>1</td><td>1</td><td>1</td><td>4</td></tr><tr><th>5</th><td>R</td><td>1</td><td>1</td><td>1</td><td>5</td></tr><tr><th>6</th><td>R</td><td>1</td><td>1</td><td>2</td><td>1</td></tr><tr><th>7</th><td>R</td><td>1</td><td>1</td><td>2</td><td>2</td></tr><tr><th>8</th><td>R</td><td>1</td><td>1</td><td>2</td><td>3</td></tr><tr><th>9</th><td>R</td><td>1</td><td>1</td><td>2</td><td>4</td></tr><tr><th>10</th><td>R</td><td>1</td><td>1</td><td>2</td><td>5</td></tr><tr><th>11</th><td>R</td><td>1</td><td>1</td><td>3</td><td>1</td></tr><tr><th>12</th><td>R</td><td>1</td><td>1</td><td>3</td><td>2</td></tr><tr><th>13</th><td>R</td><td>1</td><td>1</td><td>3</td><td>3</td></tr><tr><th>14</th><td>R</td><td>1</td><td>1</td><td>3</td><td>4</td></tr><tr><th>15</th><td>R</td><td>1</td><td>1</td><td>3</td><td>5</td></tr><tr><th>16</th><td>R</td><td>1</td><td>1</td><td>4</td><td>1</td></tr><tr><th>17</th><td>R</td><td>1</td><td>1</td><td>4</td><td>2</td></tr><tr><th>18</th><td>R</td><td>1</td><td>1</td><td>4</td><td>3</td></tr><tr><th>19</th><td>R</td><td>1</td><td>1</td><td>4</td><td>4</td></tr><tr><th>20</th><td>R</td><td>1</td><td>1</td><td>4</td><td>5</td></tr><tr><th>21</th><td>R</td><td>1</td><td>1</td><td>5</td><td>1</td></tr><tr><th>22</th><td>R</td><td>1</td><td>1</td><td>5</td><td>2</td></tr><tr><th>23</th><td>R</td><td>1</td><td>1</td><td>5</td><td>3</td></tr><tr><th>24</th><td>R</td><td>1</td><td>1</td><td>5</td><td>4</td></tr><tr><th>25</th><td>R</td><td>1</td><td>1</td><td>5</td><td>5</td></tr><tr><th>26</th><td>L</td><td>1</td><td>2</td><td>1</td><td>1</td></tr><tr><th>27</th><td>B</td><td>1</td><td>2</td><td>1</td><td>2</td></tr><tr><th>28</th><td>R</td><td>1</td><td>2</td><td>1</td><td>3</td></tr><tr><th>29</th><td>R</td><td>1</td><td>2</td><td>1</td><td>4</td></tr><tr><th>30</th><td>R</td><td>1</td><td>2</td><td>1</td><td>5</td></tr><tr><th>&vellip;</th><td>&vellip;</td><td>&vellip;</td><td>&vellip;</td><td>&vellip;</td><td>&vellip;</td></tr></tbody></table>"
      ],
      "text/latex": [
       "\\begin{tabular}{r|ccccc}\n",
       "\t& Class\\_Name & Left\\_Weight & Left\\_Distance & Right\\_Weight & Right\\_Distance\\\\\n",
       "\t\\hline\n",
       "\t& String & Int64 & Int64 & Int64 & Int64\\\\\n",
       "\t\\hline\n",
       "\t1 & B & 1 & 1 & 1 & 1 \\\\\n",
       "\t2 & R & 1 & 1 & 1 & 2 \\\\\n",
       "\t3 & R & 1 & 1 & 1 & 3 \\\\\n",
       "\t4 & R & 1 & 1 & 1 & 4 \\\\\n",
       "\t5 & R & 1 & 1 & 1 & 5 \\\\\n",
       "\t6 & R & 1 & 1 & 2 & 1 \\\\\n",
       "\t7 & R & 1 & 1 & 2 & 2 \\\\\n",
       "\t8 & R & 1 & 1 & 2 & 3 \\\\\n",
       "\t9 & R & 1 & 1 & 2 & 4 \\\\\n",
       "\t10 & R & 1 & 1 & 2 & 5 \\\\\n",
       "\t11 & R & 1 & 1 & 3 & 1 \\\\\n",
       "\t12 & R & 1 & 1 & 3 & 2 \\\\\n",
       "\t13 & R & 1 & 1 & 3 & 3 \\\\\n",
       "\t14 & R & 1 & 1 & 3 & 4 \\\\\n",
       "\t15 & R & 1 & 1 & 3 & 5 \\\\\n",
       "\t16 & R & 1 & 1 & 4 & 1 \\\\\n",
       "\t17 & R & 1 & 1 & 4 & 2 \\\\\n",
       "\t18 & R & 1 & 1 & 4 & 3 \\\\\n",
       "\t19 & R & 1 & 1 & 4 & 4 \\\\\n",
       "\t20 & R & 1 & 1 & 4 & 5 \\\\\n",
       "\t21 & R & 1 & 1 & 5 & 1 \\\\\n",
       "\t22 & R & 1 & 1 & 5 & 2 \\\\\n",
       "\t23 & R & 1 & 1 & 5 & 3 \\\\\n",
       "\t24 & R & 1 & 1 & 5 & 4 \\\\\n",
       "\t25 & R & 1 & 1 & 5 & 5 \\\\\n",
       "\t26 & L & 1 & 2 & 1 & 1 \\\\\n",
       "\t27 & B & 1 & 2 & 1 & 2 \\\\\n",
       "\t28 & R & 1 & 2 & 1 & 3 \\\\\n",
       "\t29 & R & 1 & 2 & 1 & 4 \\\\\n",
       "\t30 & R & 1 & 2 & 1 & 5 \\\\\n",
       "\t$\\dots$ & $\\dots$ & $\\dots$ & $\\dots$ & $\\dots$ & $\\dots$ \\\\\n",
       "\\end{tabular}\n"
      ],
      "text/plain": [
       "625×5 DataFrame. Omitted printing of 1 columns\n",
       "│ Row │ Class_Name │ Left_Weight │ Left_Distance │ Right_Weight │\n",
       "│     │ \u001b[90mString\u001b[39m     │ \u001b[90mInt64\u001b[39m       │ \u001b[90mInt64\u001b[39m         │ \u001b[90mInt64\u001b[39m        │\n",
       "├─────┼────────────┼─────────────┼───────────────┼──────────────┤\n",
       "│ 1   │ B          │ 1           │ 1             │ 1            │\n",
       "│ 2   │ R          │ 1           │ 1             │ 1            │\n",
       "│ 3   │ R          │ 1           │ 1             │ 1            │\n",
       "│ 4   │ R          │ 1           │ 1             │ 1            │\n",
       "│ 5   │ R          │ 1           │ 1             │ 1            │\n",
       "│ 6   │ R          │ 1           │ 1             │ 2            │\n",
       "│ 7   │ R          │ 1           │ 1             │ 2            │\n",
       "│ 8   │ R          │ 1           │ 1             │ 2            │\n",
       "│ 9   │ R          │ 1           │ 1             │ 2            │\n",
       "│ 10  │ R          │ 1           │ 1             │ 2            │\n",
       "⋮\n",
       "│ 615 │ L          │ 5           │ 5             │ 3            │\n",
       "│ 616 │ L          │ 5           │ 5             │ 4            │\n",
       "│ 617 │ L          │ 5           │ 5             │ 4            │\n",
       "│ 618 │ L          │ 5           │ 5             │ 4            │\n",
       "│ 619 │ L          │ 5           │ 5             │ 4            │\n",
       "│ 620 │ L          │ 5           │ 5             │ 4            │\n",
       "│ 621 │ L          │ 5           │ 5             │ 5            │\n",
       "│ 622 │ L          │ 5           │ 5             │ 5            │\n",
       "│ 623 │ L          │ 5           │ 5             │ 5            │\n",
       "│ 624 │ L          │ 5           │ 5             │ 5            │\n",
       "│ 625 │ B          │ 5           │ 5             │ 5            │"
      ]
     },
     "execution_count": 2,
     "metadata": {},
     "output_type": "execute_result"
    }
   ],
   "source": [
    "data = CSV.read(\"./data.csv\")"
   ]
  },
  {
   "cell_type": "code",
   "execution_count": 3,
   "metadata": {
    "scrolled": true
   },
   "outputs": [
    {
     "data": {
      "text/html": [
       "<table class=\"data-frame\"><thead><tr><th></th><th>variable</th><th>mean</th><th>min</th><th>median</th><th>max</th><th>nunique</th><th>nmissing</th><th>eltype</th></tr><tr><th></th><th>Symbol</th><th>Union…</th><th>Any</th><th>Union…</th><th>Any</th><th>Union…</th><th>Nothing</th><th>DataType</th></tr></thead><tbody><p>5 rows × 8 columns</p><tr><th>1</th><td>Class_Name</td><td></td><td>B</td><td></td><td>R</td><td>3</td><td></td><td>String</td></tr><tr><th>2</th><td>Left_Weight</td><td>3.0</td><td>1</td><td>3.0</td><td>5</td><td></td><td></td><td>Int64</td></tr><tr><th>3</th><td>Left_Distance</td><td>3.0</td><td>1</td><td>3.0</td><td>5</td><td></td><td></td><td>Int64</td></tr><tr><th>4</th><td>Right_Weight</td><td>3.0</td><td>1</td><td>3.0</td><td>5</td><td></td><td></td><td>Int64</td></tr><tr><th>5</th><td>Right_Distance</td><td>3.0</td><td>1</td><td>3.0</td><td>5</td><td></td><td></td><td>Int64</td></tr></tbody></table>"
      ],
      "text/latex": [
       "\\begin{tabular}{r|cccccccc}\n",
       "\t& variable & mean & min & median & max & nunique & nmissing & eltype\\\\\n",
       "\t\\hline\n",
       "\t& Symbol & Union… & Any & Union… & Any & Union… & Nothing & DataType\\\\\n",
       "\t\\hline\n",
       "\t1 & Class\\_Name &  & B &  & R & 3 &  & String \\\\\n",
       "\t2 & Left\\_Weight & 3.0 & 1 & 3.0 & 5 &  &  & Int64 \\\\\n",
       "\t3 & Left\\_Distance & 3.0 & 1 & 3.0 & 5 &  &  & Int64 \\\\\n",
       "\t4 & Right\\_Weight & 3.0 & 1 & 3.0 & 5 &  &  & Int64 \\\\\n",
       "\t5 & Right\\_Distance & 3.0 & 1 & 3.0 & 5 &  &  & Int64 \\\\\n",
       "\\end{tabular}\n"
      ],
      "text/plain": [
       "5×8 DataFrame. Omitted printing of 1 columns\n",
       "│ Row │ variable       │ mean   │ min │ median │ max │ nunique │ nmissing │\n",
       "│     │ \u001b[90mSymbol\u001b[39m         │ \u001b[90mUnion…\u001b[39m │ \u001b[90mAny\u001b[39m │ \u001b[90mUnion…\u001b[39m │ \u001b[90mAny\u001b[39m │ \u001b[90mUnion…\u001b[39m  │ \u001b[90mNothing\u001b[39m  │\n",
       "├─────┼────────────────┼────────┼─────┼────────┼─────┼─────────┼──────────┤\n",
       "│ 1   │ Class_Name     │        │ B   │        │ R   │ 3       │          │\n",
       "│ 2   │ Left_Weight    │ 3.0    │ 1   │ 3.0    │ 5   │         │          │\n",
       "│ 3   │ Left_Distance  │ 3.0    │ 1   │ 3.0    │ 5   │         │          │\n",
       "│ 4   │ Right_Weight   │ 3.0    │ 1   │ 3.0    │ 5   │         │          │\n",
       "│ 5   │ Right_Distance │ 3.0    │ 1   │ 3.0    │ 5   │         │          │"
      ]
     },
     "execution_count": 3,
     "metadata": {},
     "output_type": "execute_result"
    }
   ],
   "source": [
    "describe(data)"
   ]
  },
  {
   "cell_type": "markdown",
   "metadata": {},
   "source": [
    "Look at class labels to see if dataset is imbalanced"
   ]
  },
  {
   "cell_type": "code",
   "execution_count": 4,
   "metadata": {},
   "outputs": [
    {
     "ename": "LoadError",
     "evalue": "ArgumentError: column name :Class not found in the data frame",
     "output_type": "error",
     "traceback": [
      "ArgumentError: column name :Class not found in the data frame",
      "",
      "Stacktrace:",
      " [1] lookupname at /home/andrew/.julia/packages/DataFrames/cdZCk/src/other/index.jl:286 [inlined]",
      " [2] getindex at /home/andrew/.julia/packages/DataFrames/cdZCk/src/other/index.jl:295 [inlined]",
      " [3] getindex(::DataFrame, ::typeof(!), ::Symbol) at /home/andrew/.julia/packages/DataFrames/cdZCk/src/dataframe/dataframe.jl:435",
      " [4] getindex(::DataFrame, ::Symbol) at ./deprecated.jl:72",
      " [5] top-level scope at In[4]:1",
      " [6] include_string(::Function, ::Module, ::String, ::String) at ./loading.jl:1091"
     ]
    }
   ],
   "source": [
    "label_counts = countmap(data[:(Class)])"
   ]
  },
  {
   "cell_type": "code",
   "execution_count": 5,
   "metadata": {},
   "outputs": [
    {
     "ename": "LoadError",
     "evalue": "UndefVarError: label_counts not defined",
     "output_type": "error",
     "traceback": [
      "UndefVarError: label_counts not defined",
      "",
      "Stacktrace:",
      " [1] top-level scope at In[5]:1",
      " [2] include_string(::Function, ::Module, ::String, ::String) at ./loading.jl:1091"
     ]
    }
   ],
   "source": [
    "collect(label_counts[i] / size(data)[1] for i in keys(label_counts))"
   ]
  },
  {
   "cell_type": "markdown",
   "metadata": {},
   "source": [
    "Get data ready for training"
   ]
  },
  {
   "cell_type": "code",
   "execution_count": 6,
   "metadata": {
    "scrolled": true
   },
   "outputs": [
    {
     "data": {
      "text/plain": [
       "┌\u001b[0m────────────────\u001b[0m┬\u001b[0m─────────────────────────────────\u001b[0m┬\u001b[0m───────────────\u001b[0m┐\u001b[0m\n",
       "│\u001b[0m\u001b[22m _.names        \u001b[0m│\u001b[0m\u001b[22m _.types                         \u001b[0m│\u001b[0m\u001b[22m _.scitypes    \u001b[0m│\u001b[0m\n",
       "├\u001b[0m────────────────\u001b[0m┼\u001b[0m─────────────────────────────────\u001b[0m┼\u001b[0m───────────────\u001b[0m┤\u001b[0m\n",
       "│\u001b[0m Class_Name     \u001b[0m│\u001b[0m CategoricalValue{String,UInt32} \u001b[0m│\u001b[0m Multiclass{3} \u001b[0m│\u001b[0m\n",
       "│\u001b[0m Left_Weight    \u001b[0m│\u001b[0m Float64                         \u001b[0m│\u001b[0m Continuous    \u001b[0m│\u001b[0m\n",
       "│\u001b[0m Left_Distance  \u001b[0m│\u001b[0m Float64                         \u001b[0m│\u001b[0m Continuous    \u001b[0m│\u001b[0m\n",
       "│\u001b[0m Right_Weight   \u001b[0m│\u001b[0m Float64                         \u001b[0m│\u001b[0m Continuous    \u001b[0m│\u001b[0m\n",
       "│\u001b[0m Right_Distance \u001b[0m│\u001b[0m Float64                         \u001b[0m│\u001b[0m Continuous    \u001b[0m│\u001b[0m\n",
       "└\u001b[0m────────────────\u001b[0m┴\u001b[0m─────────────────────────────────\u001b[0m┴\u001b[0m───────────────\u001b[0m┘\u001b[0m\n",
       "_.nrows = 625\n"
      ]
     },
     "execution_count": 6,
     "metadata": {},
     "output_type": "execute_result"
    }
   ],
   "source": [
    "coerce!(data, :Class_Name=>Multiclass,\n",
    "              :Left_Weight=>Continuous,\n",
    "              :Right_Weight=>Continuous,\n",
    "              :Left_Distance=>Continuous,\n",
    "              :Right_Distance=>Continuous)\n",
    "schema(data)"
   ]
  },
  {
   "cell_type": "code",
   "execution_count": 7,
   "metadata": {
    "scrolled": true
   },
   "outputs": [
    {
     "data": {
      "text/plain": [
       "(CategoricalValue{String,UInt32}[\"B\", \"R\", \"R\", \"R\", \"R\", \"R\", \"R\", \"R\", \"R\", \"R\"  …  \"L\", \"L\", \"L\", \"L\", \"L\", \"L\", \"L\", \"L\", \"L\", \"B\"], 625×4 DataFrame\n",
       "│ Row │ Left_Weight │ Left_Distance │ Right_Weight │ Right_Distance │\n",
       "│     │ \u001b[90mFloat64\u001b[39m     │ \u001b[90mFloat64\u001b[39m       │ \u001b[90mFloat64\u001b[39m      │ \u001b[90mFloat64\u001b[39m        │\n",
       "├─────┼─────────────┼───────────────┼──────────────┼────────────────┤\n",
       "│ 1   │ 1.0         │ 1.0           │ 1.0          │ 1.0            │\n",
       "│ 2   │ 1.0         │ 1.0           │ 1.0          │ 2.0            │\n",
       "│ 3   │ 1.0         │ 1.0           │ 1.0          │ 3.0            │\n",
       "│ 4   │ 1.0         │ 1.0           │ 1.0          │ 4.0            │\n",
       "│ 5   │ 1.0         │ 1.0           │ 1.0          │ 5.0            │\n",
       "│ 6   │ 1.0         │ 1.0           │ 2.0          │ 1.0            │\n",
       "│ 7   │ 1.0         │ 1.0           │ 2.0          │ 2.0            │\n",
       "│ 8   │ 1.0         │ 1.0           │ 2.0          │ 3.0            │\n",
       "│ 9   │ 1.0         │ 1.0           │ 2.0          │ 4.0            │\n",
       "│ 10  │ 1.0         │ 1.0           │ 2.0          │ 5.0            │\n",
       "⋮\n",
       "│ 615 │ 5.0         │ 5.0           │ 3.0          │ 5.0            │\n",
       "│ 616 │ 5.0         │ 5.0           │ 4.0          │ 1.0            │\n",
       "│ 617 │ 5.0         │ 5.0           │ 4.0          │ 2.0            │\n",
       "│ 618 │ 5.0         │ 5.0           │ 4.0          │ 3.0            │\n",
       "│ 619 │ 5.0         │ 5.0           │ 4.0          │ 4.0            │\n",
       "│ 620 │ 5.0         │ 5.0           │ 4.0          │ 5.0            │\n",
       "│ 621 │ 5.0         │ 5.0           │ 5.0          │ 1.0            │\n",
       "│ 622 │ 5.0         │ 5.0           │ 5.0          │ 2.0            │\n",
       "│ 623 │ 5.0         │ 5.0           │ 5.0          │ 3.0            │\n",
       "│ 624 │ 5.0         │ 5.0           │ 5.0          │ 4.0            │\n",
       "│ 625 │ 5.0         │ 5.0           │ 5.0          │ 5.0            │)"
      ]
     },
     "execution_count": 7,
     "metadata": {},
     "output_type": "execute_result"
    }
   ],
   "source": [
    "y, X = unpack(data, ==(:Class_Name), colname->true)"
   ]
  },
  {
   "cell_type": "markdown",
   "metadata": {},
   "source": [
    "Partition train and test data accoring to class labels"
   ]
  },
  {
   "cell_type": "code",
   "execution_count": 8,
   "metadata": {},
   "outputs": [
    {
     "data": {
      "text/plain": [
       "([595, 102, 55, 568, 425, 389, 146, 63, 372, 250  …  195, 500, 571, 533, 112, 396, 297, 106, 303, 261], [444, 144, 546, 43, 19, 173, 365, 423, 27, 218  …  293, 614, 90, 471, 13, 134, 296, 79, 395, 415])"
      ]
     },
     "execution_count": 8,
     "metadata": {},
     "output_type": "execute_result"
    }
   ],
   "source": [
    "# data to use when trying to fit a single validation set\n",
    "train, test = partition(eachindex(y), 0.7, shuffle=true, rng=123, stratify=values(data[:Class_Name])) # gives 70:30 split"
   ]
  },
  {
   "cell_type": "code",
   "execution_count": 9,
   "metadata": {},
   "outputs": [
    {
     "data": {
      "text/plain": [
       "3-element Array{Float64,1}:\n",
       " 0.0776255707762557\n",
       " 0.4611872146118721\n",
       " 0.4611872146118721"
      ]
     },
     "execution_count": 9,
     "metadata": {},
     "output_type": "execute_result"
    }
   ],
   "source": [
    "train_counts = countmap(data[train,:Class_Name])\n",
    "collect(train_counts[i] / size(train)[1] for i in keys(train_counts))"
   ]
  },
  {
   "cell_type": "code",
   "execution_count": 10,
   "metadata": {},
   "outputs": [
    {
     "data": {
      "text/plain": [
       "3-element Array{Float64,1}:\n",
       " 0.08021390374331551\n",
       " 0.45989304812834225\n",
       " 0.45989304812834225"
      ]
     },
     "execution_count": 10,
     "metadata": {},
     "output_type": "execute_result"
    }
   ],
   "source": [
    "test_counts = countmap(data[test,:Class_Name])\n",
    "collect(test_counts[i] / size(test)[1] for i in keys(test_counts))"
   ]
  },
  {
   "cell_type": "markdown",
   "metadata": {},
   "source": [
    "# Five Learning Algorithms\n",
    "\n",
    "* Decision trees with some form of pruning\n",
    "* Neural networks\n",
    "* Boosting\n",
    "* Support Vector Machines\n",
    "* k-nearest neighbors\n",
    "\n",
    "\n",
    "##### Testing\n",
    "* Implement the algorithms\n",
    "* Design two *interesting* classification problems. For the purposes of this assignment, a classification problem is just a set of training examples and a set of test examples."
   ]
  },
  {
   "cell_type": "code",
   "execution_count": 11,
   "metadata": {
    "scrolled": true
   },
   "outputs": [
    {
     "data": {
      "text/plain": [
       "42-element Array{NamedTuple{(:name, :package_name, :is_supervised, :docstring, :hyperparameter_ranges, :hyperparameter_types, :hyperparameters, :implemented_methods, :is_pure_julia, :is_wrapper, :load_path, :package_license, :package_url, :package_uuid, :prediction_type, :supports_online, :supports_weights, :input_scitype, :target_scitype, :output_scitype),T} where T<:Tuple,1}:\n",
       " (name = AdaBoostClassifier, package_name = ScikitLearn, ... )\n",
       " (name = AdaBoostStumpClassifier, package_name = DecisionTree, ... )\n",
       " (name = BaggingClassifier, package_name = ScikitLearn, ... )\n",
       " (name = BayesianLDA, package_name = MultivariateStats, ... )\n",
       " (name = BayesianLDA, package_name = ScikitLearn, ... )\n",
       " (name = BayesianQDA, package_name = ScikitLearn, ... )\n",
       " (name = BayesianSubspaceLDA, package_name = MultivariateStats, ... )\n",
       " (name = ConstantClassifier, package_name = MLJModels, ... )\n",
       " (name = DecisionTreeClassifier, package_name = DecisionTree, ... )\n",
       " (name = DeterministicConstantClassifier, package_name = MLJModels, ... )\n",
       " (name = DummyClassifier, package_name = ScikitLearn, ... )\n",
       " (name = EvoTreeClassifier, package_name = EvoTrees, ... )\n",
       " (name = ExtraTreesClassifier, package_name = ScikitLearn, ... )\n",
       " ⋮\n",
       " (name = ProbabilisticSGDClassifier, package_name = ScikitLearn, ... )\n",
       " (name = RandomForestClassifier, package_name = DecisionTree, ... )\n",
       " (name = RandomForestClassifier, package_name = ScikitLearn, ... )\n",
       " (name = RidgeCVClassifier, package_name = ScikitLearn, ... )\n",
       " (name = RidgeClassifier, package_name = ScikitLearn, ... )\n",
       " (name = SGDClassifier, package_name = ScikitLearn, ... )\n",
       " (name = SVC, package_name = LIBSVM, ... )\n",
       " (name = SVMClassifier, package_name = ScikitLearn, ... )\n",
       " (name = SVMLinearClassifier, package_name = ScikitLearn, ... )\n",
       " (name = SVMNuClassifier, package_name = ScikitLearn, ... )\n",
       " (name = SubspaceLDA, package_name = MultivariateStats, ... )\n",
       " (name = XGBoostClassifier, package_name = XGBoost, ... )"
      ]
     },
     "execution_count": 11,
     "metadata": {},
     "output_type": "execute_result"
    }
   ],
   "source": [
    "models(matching(X,y))"
   ]
  },
  {
   "cell_type": "code",
   "execution_count": 12,
   "metadata": {},
   "outputs": [
    {
     "name": "stdout",
     "output_type": "stream",
     "text": [
      "import MLJScikitLearnInterface "
     ]
    },
    {
     "name": "stderr",
     "output_type": "stream",
     "text": [
      "┌ Info: Loading into module \"Main\": \n",
      "└ @ MLJModels /home/andrew/.julia/packages/MLJModels/mUBFt/src/loading.jl:70\n"
     ]
    },
    {
     "name": "stdout",
     "output_type": "stream",
     "text": [
      "✔\n",
      "import MLJScikitLearnInterface ✔\n"
     ]
    },
    {
     "data": {
      "text/plain": [
       "AdaBoostClassifier(\n",
       "    base_estimator = nothing,\n",
       "    n_estimators = 50,\n",
       "    learning_rate = 1.0,\n",
       "    algorithm = \"SAMME.R\",\n",
       "    random_state = nothing)\u001b[34m @335\u001b[39m"
      ]
     },
     "execution_count": 12,
     "metadata": {},
     "output_type": "execute_result"
    }
   ],
   "source": [
    "@load AdaBoostClassifier verbosity=2"
   ]
  },
  {
   "cell_type": "markdown",
   "metadata": {},
   "source": [
    "### Boosting\n",
    "* Implement or steal a boosted version of your decision trees. \n",
    "* As before, you will want to use some form of pruning, but presumably because you're using boosting you can afford to be much more aggressive about your pruning.\n",
    "\n",
    "**Chooses the hardest examples** talk about in write-up"
   ]
  },
  {
   "cell_type": "code",
   "execution_count": 13,
   "metadata": {},
   "outputs": [
    {
     "data": {
      "text/plain": [
       "AdaBoostClassifier(\n",
       "    base_estimator = nothing,\n",
       "    n_estimators = 50,\n",
       "    learning_rate = 1.0,\n",
       "    algorithm = \"SAMME.R\",\n",
       "    random_state = 123)\u001b[34m @887\u001b[39m"
      ]
     },
     "execution_count": 13,
     "metadata": {},
     "output_type": "execute_result"
    }
   ],
   "source": [
    "boost_model = AdaBoostClassifier(random_state=123)"
   ]
  },
  {
   "cell_type": "code",
   "execution_count": 14,
   "metadata": {},
   "outputs": [
    {
     "data": {
      "text/plain": [
       "\u001b[34mMachine{AdaBoostClassifier} @987\u001b[39m trained 0 times.\n",
       "  args: \n",
       "    1:\t\u001b[34mSource @137\u001b[39m ⏎ `Table{AbstractArray{Continuous,1}}`\n",
       "    2:\t\u001b[34mSource @071\u001b[39m ⏎ `AbstractArray{Multiclass{3},1}`\n"
      ]
     },
     "execution_count": 14,
     "metadata": {},
     "output_type": "execute_result"
    }
   ],
   "source": [
    "boost_mach = machine(boost_model, X, y)"
   ]
  },
  {
   "cell_type": "code",
   "execution_count": 15,
   "metadata": {},
   "outputs": [
    {
     "name": "stderr",
     "output_type": "stream",
     "text": [
      "┌ Info: Training \u001b[34mMachine{AdaBoostClassifier} @987\u001b[39m.\n",
      "└ @ MLJBase /home/andrew/.julia/packages/MLJBase/uKzAz/src/machines.jl:319\n"
     ]
    },
    {
     "data": {
      "text/plain": [
       "\u001b[34mMachine{AdaBoostClassifier} @987\u001b[39m trained 1 time.\n",
       "  args: \n",
       "    1:\t\u001b[34mSource @137\u001b[39m ⏎ `Table{AbstractArray{Continuous,1}}`\n",
       "    2:\t\u001b[34mSource @071\u001b[39m ⏎ `AbstractArray{Multiclass{3},1}`\n"
      ]
     },
     "execution_count": 15,
     "metadata": {},
     "output_type": "execute_result"
    }
   ],
   "source": [
    "fit!(boost_mach, rows=train, verbosity=2)"
   ]
  },
  {
   "cell_type": "code",
   "execution_count": 16,
   "metadata": {
    "scrolled": true
   },
   "outputs": [
    {
     "name": "stderr",
     "output_type": "stream",
     "text": [
      "\u001b[33mEvaluating over 6 folds: 100%[=========================] Time: 0:00:05\u001b[39m\n"
     ]
    },
    {
     "data": {
      "text/plain": [
       "┌\u001b[0m───────────────\u001b[0m┬\u001b[0m───────────────\u001b[0m┬\u001b[0m────────────────────────────────────────────\u001b[0m┐\u001b[0m\n",
       "│\u001b[0m\u001b[22m _.measure     \u001b[0m│\u001b[0m\u001b[22m _.measurement \u001b[0m│\u001b[0m\u001b[22m _.per_fold                                 \u001b[0m│\u001b[0m\n",
       "├\u001b[0m───────────────\u001b[0m┼\u001b[0m───────────────\u001b[0m┼\u001b[0m────────────────────────────────────────────\u001b[0m┤\u001b[0m\n",
       "│\u001b[0m cross_entropy \u001b[0m│\u001b[0m 1.0           \u001b[0m│\u001b[0m [1.01, 1.0, 1.0, 1.01, 1.0, 0.997]         \u001b[0m│\u001b[0m\n",
       "│\u001b[0m acc           \u001b[0m│\u001b[0m 0.907         \u001b[0m│\u001b[0m [0.838, 0.894, 0.913, 0.942, 0.923, 0.933] \u001b[0m│\u001b[0m\n",
       "└\u001b[0m───────────────\u001b[0m┴\u001b[0m───────────────\u001b[0m┴\u001b[0m────────────────────────────────────────────\u001b[0m┘\u001b[0m\n",
       "_.per_observation = [[[1.01, 1.01, ..., 1.03], [1.09, 1.07, ..., 0.93], [0.912, 1.01, ..., 1.07], [1.05, 0.917, ..., 1.08], [1.08, 0.928, ..., 0.937], [1.0, 1.08, ..., 1.1]], missing]\n",
       "_.fitted_params_per_fold = [ … ]\n",
       "_.report_per_fold = [ … ]\n"
      ]
     },
     "execution_count": 16,
     "metadata": {},
     "output_type": "execute_result"
    }
   ],
   "source": [
    "boost_acc = evaluate!(boost_mach, resampling=CV(shuffle=true), measure=[cross_entropy, acc], \n",
    "                      verbosity=1, check_measure=false)"
   ]
  },
  {
   "cell_type": "code",
   "execution_count": 17,
   "metadata": {},
   "outputs": [],
   "source": [
    "# evaluate!(boost_mach, resampling=CV(shuffle=true), measure=[tnr,tpr,fnr,fpr], verbosity=1, operation=predict_mode)"
   ]
  },
  {
   "cell_type": "code",
   "execution_count": 18,
   "metadata": {},
   "outputs": [],
   "source": [
    "fitted_params(boost_mach);"
   ]
  },
  {
   "cell_type": "markdown",
   "metadata": {},
   "source": [
    "### GridSearch \n",
    "number of estimators vs learning rate"
   ]
  },
  {
   "cell_type": "code",
   "execution_count": 172,
   "metadata": {},
   "outputs": [
    {
     "data": {
      "text/plain": [
       "MLJBase.NumericRange(Int64, :n_estimators, ... )"
      ]
     },
     "execution_count": 172,
     "metadata": {},
     "output_type": "execute_result"
    }
   ],
   "source": [
    "param1 = :learning_rate\n",
    "param2 = :n_estimators\n",
    "\n",
    "# r1 = range(boost_model, param1, lower=5*10^-1.5, upper=0.6, scale=:linear)\n",
    "# r2 = range(boost_model, param2, lower=1, upper=5, scale=:linear)\n",
    "r1 = range(boost_model, param1, lower=10^-2, upper=2*10^0, scale=:log10)\n",
    "r2 = range(boost_model, param2, lower=1, upper=50, scale=:linear)"
   ]
  },
  {
   "cell_type": "code",
   "execution_count": 173,
   "metadata": {},
   "outputs": [
    {
     "data": {
      "text/plain": [
       "ProbabilisticTunedModel(\n",
       "    model = AdaBoostClassifier(\n",
       "            base_estimator = nothing,\n",
       "            n_estimators = 50,\n",
       "            learning_rate = 1.0,\n",
       "            algorithm = \"SAMME.R\",\n",
       "            random_state = 123),\n",
       "    tuning = Grid(\n",
       "            goal = 250,\n",
       "            resolution = 10,\n",
       "            shuffle = true,\n",
       "            rng = Random._GLOBAL_RNG()),\n",
       "    resampling = CV(\n",
       "            nfolds = 6,\n",
       "            shuffle = false,\n",
       "            rng = Random._GLOBAL_RNG()),\n",
       "    measure = cross_entropy(\n",
       "            eps = 2.220446049250313e-16),\n",
       "    weights = nothing,\n",
       "    operation = MLJModelInterface.predict,\n",
       "    range = MLJBase.NumericRange{T,MLJBase.Bounded,Symbol} where T[\u001b[34mNumericRange{Float64,…} @504\u001b[39m, \u001b[34mNumericRange{Int64,…} @425\u001b[39m],\n",
       "    train_best = true,\n",
       "    repeats = 1,\n",
       "    n = nothing,\n",
       "    acceleration = CPUThreads{Int64}(1),\n",
       "    acceleration_resampling = CPU1{Nothing}(nothing),\n",
       "    check_measure = true)\u001b[34m @010\u001b[39m"
      ]
     },
     "execution_count": 173,
     "metadata": {},
     "output_type": "execute_result"
    }
   ],
   "source": [
    "self_tuning_boost_model = TunedModel(model=boost_model,\n",
    "                                    tuning=Grid(goal=250),\n",
    "                                    resampling=CV(), \n",
    "                                    measure=cross_entropy,\n",
    "                                    acceleration=CPUThreads(),\n",
    "                                    range=[r1, r2])"
   ]
  },
  {
   "cell_type": "code",
   "execution_count": 174,
   "metadata": {},
   "outputs": [
    {
     "data": {
      "text/plain": [
       "\u001b[34mMachine{ProbabilisticTunedModel{Grid,…}} @145\u001b[39m trained 0 times.\n",
       "  args: \n",
       "    1:\t\u001b[34mSource @481\u001b[39m ⏎ `Table{AbstractArray{Continuous,1}}`\n",
       "    2:\t\u001b[34mSource @051\u001b[39m ⏎ `AbstractArray{Multiclass{3},1}`\n"
      ]
     },
     "execution_count": 174,
     "metadata": {},
     "output_type": "execute_result"
    }
   ],
   "source": [
    "self_tuning_boost = machine(self_tuning_boost_model, X, y)"
   ]
  },
  {
   "cell_type": "code",
   "execution_count": 175,
   "metadata": {
    "scrolled": true
   },
   "outputs": [
    {
     "name": "stderr",
     "output_type": "stream",
     "text": [
      "┌ Info: Training \u001b[34mMachine{ProbabilisticTunedModel{Grid,…}} @145\u001b[39m.\n",
      "└ @ MLJBase /home/andrew/.julia/packages/MLJBase/uKzAz/src/machines.jl:319\n",
      "┌ Info: Attempting to evaluate 256 models.\n",
      "└ @ MLJTuning /home/andrew/.julia/packages/MLJTuning/Bbgvk/src/tuned_models.jl:494\n",
      "\u001b[33mEvaluating over 256 metamodels: 100%[=========================] Time: 0:00:52\u001b[39m\n"
     ]
    },
    {
     "data": {
      "text/plain": [
       "\u001b[34mMachine{ProbabilisticTunedModel{Grid,…}} @145\u001b[39m trained 1 time.\n",
       "  args: \n",
       "    1:\t\u001b[34mSource @481\u001b[39m ⏎ `Table{AbstractArray{Continuous,1}}`\n",
       "    2:\t\u001b[34mSource @051\u001b[39m ⏎ `AbstractArray{Multiclass{3},1}`\n"
      ]
     },
     "execution_count": 175,
     "metadata": {},
     "output_type": "execute_result"
    }
   ],
   "source": [
    "z = fit!(self_tuning_boost, rows=train)"
   ]
  },
  {
   "cell_type": "code",
   "execution_count": 176,
   "metadata": {},
   "outputs": [
    {
     "data": {
      "image/svg+xml": [
       "<?xml version=\"1.0\" encoding=\"utf-8\"?>\n",
       "<svg xmlns=\"http://www.w3.org/2000/svg\" xmlns:xlink=\"http://www.w3.org/1999/xlink\" width=\"600\" height=\"400\" viewBox=\"0 0 2400 1600\">\n",
       "<defs>\n",
       "  <clipPath id=\"clip970\">\n",
       "    <rect x=\"0\" y=\"0\" width=\"2400\" height=\"1600\"/>\n",
       "  </clipPath>\n",
       "</defs>\n",
       "<path clip-path=\"url(#clip970)\" d=\"\n",
       "M0 1600 L2400 1600 L2400 0 L0 0  Z\n",
       "  \" fill=\"#ffffff\" fill-rule=\"evenodd\" fill-opacity=\"1\"/>\n",
       "<defs>\n",
       "  <clipPath id=\"clip971\">\n",
       "    <rect x=\"480\" y=\"0\" width=\"1681\" height=\"1600\"/>\n",
       "  </clipPath>\n",
       "</defs>\n",
       "<path clip-path=\"url(#clip970)\" d=\"\n",
       "M202.459 1410.9 L2112.76 1410.9 L2112.76 47.2441 L202.459 47.2441  Z\n",
       "  \" fill=\"#ffffff\" fill-rule=\"evenodd\" fill-opacity=\"1\"/>\n",
       "<defs>\n",
       "  <clipPath id=\"clip972\">\n",
       "    <rect x=\"202\" y=\"47\" width=\"1911\" height=\"1365\"/>\n",
       "  </clipPath>\n",
       "</defs>\n",
       "<polyline clip-path=\"url(#clip972)\" style=\"stroke:#000000; stroke-width:2; stroke-opacity:0.1; fill:none\" points=\"\n",
       "  256.524,1410.9 256.524,47.2441 \n",
       "  \"/>\n",
       "<polyline clip-path=\"url(#clip972)\" style=\"stroke:#000000; stroke-width:2; stroke-opacity:0.1; fill:none\" points=\"\n",
       "  648.124,1410.9 648.124,47.2441 \n",
       "  \"/>\n",
       "<polyline clip-path=\"url(#clip972)\" style=\"stroke:#000000; stroke-width:2; stroke-opacity:0.1; fill:none\" points=\"\n",
       "  1039.72,1410.9 1039.72,47.2441 \n",
       "  \"/>\n",
       "<polyline clip-path=\"url(#clip972)\" style=\"stroke:#000000; stroke-width:2; stroke-opacity:0.1; fill:none\" points=\"\n",
       "  1431.32,1410.9 1431.32,47.2441 \n",
       "  \"/>\n",
       "<polyline clip-path=\"url(#clip972)\" style=\"stroke:#000000; stroke-width:2; stroke-opacity:0.1; fill:none\" points=\"\n",
       "  1822.92,1410.9 1822.92,47.2441 \n",
       "  \"/>\n",
       "<polyline clip-path=\"url(#clip972)\" style=\"stroke:#000000; stroke-width:2; stroke-opacity:0.1; fill:none\" points=\"\n",
       "  202.459,1398.56 2112.76,1398.56 \n",
       "  \"/>\n",
       "<polyline clip-path=\"url(#clip972)\" style=\"stroke:#000000; stroke-width:2; stroke-opacity:0.1; fill:none\" points=\"\n",
       "  202.459,1136.01 2112.76,1136.01 \n",
       "  \"/>\n",
       "<polyline clip-path=\"url(#clip972)\" style=\"stroke:#000000; stroke-width:2; stroke-opacity:0.1; fill:none\" points=\"\n",
       "  202.459,873.469 2112.76,873.469 \n",
       "  \"/>\n",
       "<polyline clip-path=\"url(#clip972)\" style=\"stroke:#000000; stroke-width:2; stroke-opacity:0.1; fill:none\" points=\"\n",
       "  202.459,610.926 2112.76,610.926 \n",
       "  \"/>\n",
       "<polyline clip-path=\"url(#clip972)\" style=\"stroke:#000000; stroke-width:2; stroke-opacity:0.1; fill:none\" points=\"\n",
       "  202.459,348.382 2112.76,348.382 \n",
       "  \"/>\n",
       "<polyline clip-path=\"url(#clip972)\" style=\"stroke:#000000; stroke-width:2; stroke-opacity:0.1; fill:none\" points=\"\n",
       "  202.459,85.838 2112.76,85.838 \n",
       "  \"/>\n",
       "<polyline clip-path=\"url(#clip970)\" style=\"stroke:#000000; stroke-width:4; stroke-opacity:1; fill:none\" points=\"\n",
       "  202.459,1410.9 2112.76,1410.9 \n",
       "  \"/>\n",
       "<polyline clip-path=\"url(#clip970)\" style=\"stroke:#000000; stroke-width:4; stroke-opacity:1; fill:none\" points=\"\n",
       "  202.459,1410.9 202.459,47.2441 \n",
       "  \"/>\n",
       "<polyline clip-path=\"url(#clip970)\" style=\"stroke:#000000; stroke-width:4; stroke-opacity:1; fill:none\" points=\"\n",
       "  256.524,1410.9 256.524,1394.53 \n",
       "  \"/>\n",
       "<polyline clip-path=\"url(#clip970)\" style=\"stroke:#000000; stroke-width:4; stroke-opacity:1; fill:none\" points=\"\n",
       "  648.124,1410.9 648.124,1394.53 \n",
       "  \"/>\n",
       "<polyline clip-path=\"url(#clip970)\" style=\"stroke:#000000; stroke-width:4; stroke-opacity:1; fill:none\" points=\"\n",
       "  1039.72,1410.9 1039.72,1394.53 \n",
       "  \"/>\n",
       "<polyline clip-path=\"url(#clip970)\" style=\"stroke:#000000; stroke-width:4; stroke-opacity:1; fill:none\" points=\"\n",
       "  1431.32,1410.9 1431.32,1394.53 \n",
       "  \"/>\n",
       "<polyline clip-path=\"url(#clip970)\" style=\"stroke:#000000; stroke-width:4; stroke-opacity:1; fill:none\" points=\"\n",
       "  1822.92,1410.9 1822.92,1394.53 \n",
       "  \"/>\n",
       "<polyline clip-path=\"url(#clip970)\" style=\"stroke:#000000; stroke-width:4; stroke-opacity:1; fill:none\" points=\"\n",
       "  202.459,1398.56 225.383,1398.56 \n",
       "  \"/>\n",
       "<polyline clip-path=\"url(#clip970)\" style=\"stroke:#000000; stroke-width:4; stroke-opacity:1; fill:none\" points=\"\n",
       "  202.459,1136.01 225.383,1136.01 \n",
       "  \"/>\n",
       "<polyline clip-path=\"url(#clip970)\" style=\"stroke:#000000; stroke-width:4; stroke-opacity:1; fill:none\" points=\"\n",
       "  202.459,873.469 225.383,873.469 \n",
       "  \"/>\n",
       "<polyline clip-path=\"url(#clip970)\" style=\"stroke:#000000; stroke-width:4; stroke-opacity:1; fill:none\" points=\"\n",
       "  202.459,610.926 225.383,610.926 \n",
       "  \"/>\n",
       "<polyline clip-path=\"url(#clip970)\" style=\"stroke:#000000; stroke-width:4; stroke-opacity:1; fill:none\" points=\"\n",
       "  202.459,348.382 225.383,348.382 \n",
       "  \"/>\n",
       "<polyline clip-path=\"url(#clip970)\" style=\"stroke:#000000; stroke-width:4; stroke-opacity:1; fill:none\" points=\"\n",
       "  202.459,85.838 225.383,85.838 \n",
       "  \"/>\n",
       "<path clip-path=\"url(#clip970)\" d=\"M 0 0 M196 1481.97 L203.639 1481.97 L203.639 1455.6 L195.329 1457.27 L195.329 1453.01 L203.592 1451.34 L208.268 1451.34 L208.268 1481.97 L215.907 1481.97 L215.907 1485.9 L196 1485.9 L196 1481.97 Z\" fill=\"#000000\" fill-rule=\"evenodd\" fill-opacity=\"1\" /><path clip-path=\"url(#clip970)\" d=\"M 0 0 M230.976 1454.42 Q227.365 1454.42 225.537 1457.99 Q223.731 1461.53 223.731 1468.66 Q223.731 1475.77 225.537 1479.33 Q227.365 1482.87 230.976 1482.87 Q234.611 1482.87 236.416 1479.33 Q238.245 1475.77 238.245 1468.66 Q238.245 1461.53 236.416 1457.99 Q234.611 1454.42 230.976 1454.42 M230.976 1450.72 Q236.787 1450.72 239.842 1455.33 Q242.921 1459.91 242.921 1468.66 Q242.921 1477.39 239.842 1481.99 Q236.787 1486.58 230.976 1486.58 Q225.166 1486.58 222.088 1481.99 Q219.032 1477.39 219.032 1468.66 Q219.032 1459.91 222.088 1455.33 Q225.166 1450.72 230.976 1450.72 Z\" fill=\"#000000\" fill-rule=\"evenodd\" fill-opacity=\"1\" /><path clip-path=\"url(#clip970)\" d=\"M 0 0 M242.921 1444.82 L267.032 1444.82 L267.032 1448.02 L242.921 1448.02 L242.921 1444.82 Z\" fill=\"#000000\" fill-rule=\"evenodd\" fill-opacity=\"1\" /><path clip-path=\"url(#clip970)\" d=\"M 0 0 M274.424 1455.3 L287.683 1455.3 L287.683 1458.49 L269.854 1458.49 L269.854 1455.3 Q272.016 1453.06 275.74 1449.3 Q279.483 1445.52 280.442 1444.43 Q282.267 1442.38 282.981 1440.96 Q283.715 1439.54 283.715 1438.16 Q283.715 1435.92 282.135 1434.51 Q280.574 1433.1 278.054 1433.1 Q276.267 1433.1 274.273 1433.72 Q272.299 1434.34 270.042 1435.6 L270.042 1431.77 Q272.336 1430.85 274.33 1430.38 Q276.323 1429.91 277.979 1429.91 Q282.342 1429.91 284.937 1432.09 Q287.533 1434.27 287.533 1437.92 Q287.533 1439.65 286.875 1441.21 Q286.235 1442.75 284.524 1444.86 Q284.053 1445.4 281.533 1448.02 Q279.013 1450.61 274.424 1455.3 Z\" fill=\"#000000\" fill-rule=\"evenodd\" fill-opacity=\"1\" /><path clip-path=\"url(#clip970)\" d=\"M 0 0 M291.802 1453.72 L295.771 1453.72 L295.771 1458.49 L291.802 1458.49 L291.802 1453.72 Z\" fill=\"#000000\" fill-rule=\"evenodd\" fill-opacity=\"1\" /><path clip-path=\"url(#clip970)\" d=\"M 0 0 M308.015 1432.91 Q305.081 1432.91 303.595 1435.81 Q302.128 1438.69 302.128 1444.48 Q302.128 1450.26 303.595 1453.15 Q305.081 1456.03 308.015 1456.03 Q310.967 1456.03 312.434 1453.15 Q313.92 1450.26 313.92 1444.48 Q313.92 1438.69 312.434 1435.81 Q310.967 1432.91 308.015 1432.91 M308.015 1429.91 Q312.735 1429.91 315.218 1433.65 Q317.719 1437.37 317.719 1444.48 Q317.719 1451.57 315.218 1455.31 Q312.735 1459.04 308.015 1459.04 Q303.294 1459.04 300.792 1455.31 Q298.31 1451.57 298.31 1444.48 Q298.31 1437.37 300.792 1433.65 Q303.294 1429.91 308.015 1429.91 Z\" fill=\"#000000\" fill-rule=\"evenodd\" fill-opacity=\"1\" /><path clip-path=\"url(#clip970)\" d=\"M 0 0 M587.854 1481.97 L595.493 1481.97 L595.493 1455.6 L587.182 1457.27 L587.182 1453.01 L595.446 1451.34 L600.122 1451.34 L600.122 1481.97 L607.761 1481.97 L607.761 1485.9 L587.854 1485.9 L587.854 1481.97 Z\" fill=\"#000000\" fill-rule=\"evenodd\" fill-opacity=\"1\" /><path clip-path=\"url(#clip970)\" d=\"M 0 0 M622.83 1454.42 Q619.219 1454.42 617.391 1457.99 Q615.585 1461.53 615.585 1468.66 Q615.585 1475.77 617.391 1479.33 Q619.219 1482.87 622.83 1482.87 Q626.465 1482.87 628.27 1479.33 Q630.099 1475.77 630.099 1468.66 Q630.099 1461.53 628.27 1457.99 Q626.465 1454.42 622.83 1454.42 M622.83 1450.72 Q628.641 1450.72 631.696 1455.33 Q634.775 1459.91 634.775 1468.66 Q634.775 1477.39 631.696 1481.99 Q628.641 1486.58 622.83 1486.58 Q617.02 1486.58 613.942 1481.99 Q610.886 1477.39 610.886 1468.66 Q610.886 1459.91 613.942 1455.33 Q617.02 1450.72 622.83 1450.72 Z\" fill=\"#000000\" fill-rule=\"evenodd\" fill-opacity=\"1\" /><path clip-path=\"url(#clip970)\" d=\"M 0 0 M634.775 1444.82 L658.886 1444.82 L658.886 1448.02 L634.775 1448.02 L634.775 1444.82 Z\" fill=\"#000000\" fill-rule=\"evenodd\" fill-opacity=\"1\" /><path clip-path=\"url(#clip970)\" d=\"M 0 0 M663.664 1455.3 L669.87 1455.3 L669.87 1433.87 L663.118 1435.23 L663.118 1431.77 L669.833 1430.41 L673.632 1430.41 L673.632 1455.3 L679.838 1455.3 L679.838 1458.49 L663.664 1458.49 L663.664 1455.3 Z\" fill=\"#000000\" fill-rule=\"evenodd\" fill-opacity=\"1\" /><path clip-path=\"url(#clip970)\" d=\"M 0 0 M683.957 1453.72 L687.926 1453.72 L687.926 1458.49 L683.957 1458.49 L683.957 1453.72 Z\" fill=\"#000000\" fill-rule=\"evenodd\" fill-opacity=\"1\" /><path clip-path=\"url(#clip970)\" d=\"M 0 0 M692.082 1430.41 L706.997 1430.41 L706.997 1433.61 L695.562 1433.61 L695.562 1440.49 Q696.389 1440.21 697.217 1440.08 Q698.044 1439.93 698.872 1439.93 Q703.574 1439.93 706.32 1442.51 Q709.066 1445.08 709.066 1449.48 Q709.066 1454.02 706.244 1456.54 Q703.423 1459.04 698.289 1459.04 Q696.521 1459.04 694.678 1458.74 Q692.853 1458.44 690.897 1457.84 L690.897 1454.02 Q692.59 1454.94 694.395 1455.39 Q696.201 1455.84 698.213 1455.84 Q701.467 1455.84 703.367 1454.13 Q705.266 1452.42 705.266 1449.48 Q705.266 1446.55 703.367 1444.84 Q701.467 1443.13 698.213 1443.13 Q696.69 1443.13 695.167 1443.47 Q693.662 1443.8 692.082 1444.52 L692.082 1430.41 Z\" fill=\"#000000\" fill-rule=\"evenodd\" fill-opacity=\"1\" /><path clip-path=\"url(#clip970)\" d=\"M 0 0 M979.049 1481.97 L986.688 1481.97 L986.688 1455.6 L978.378 1457.27 L978.378 1453.01 L986.642 1451.34 L991.318 1451.34 L991.318 1481.97 L998.957 1481.97 L998.957 1485.9 L979.049 1485.9 L979.049 1481.97 Z\" fill=\"#000000\" fill-rule=\"evenodd\" fill-opacity=\"1\" /><path clip-path=\"url(#clip970)\" d=\"M 0 0 M1014.03 1454.42 Q1010.42 1454.42 1008.59 1457.99 Q1006.78 1461.53 1006.78 1468.66 Q1006.78 1475.77 1008.59 1479.33 Q1010.42 1482.87 1014.03 1482.87 Q1017.66 1482.87 1019.47 1479.33 Q1021.29 1475.77 1021.29 1468.66 Q1021.29 1461.53 1019.47 1457.99 Q1017.66 1454.42 1014.03 1454.42 M1014.03 1450.72 Q1019.84 1450.72 1022.89 1455.33 Q1025.97 1459.91 1025.97 1468.66 Q1025.97 1477.39 1022.89 1481.99 Q1019.84 1486.58 1014.03 1486.58 Q1008.22 1486.58 1005.14 1481.99 Q1002.08 1477.39 1002.08 1468.66 Q1002.08 1459.91 1005.14 1455.33 Q1008.22 1450.72 1014.03 1450.72 Z\" fill=\"#000000\" fill-rule=\"evenodd\" fill-opacity=\"1\" /><path clip-path=\"url(#clip970)\" d=\"M 0 0 M1025.97 1444.82 L1050.08 1444.82 L1050.08 1448.02 L1025.97 1448.02 L1025.97 1444.82 Z\" fill=\"#000000\" fill-rule=\"evenodd\" fill-opacity=\"1\" /><path clip-path=\"url(#clip970)\" d=\"M 0 0 M1054.86 1455.3 L1061.07 1455.3 L1061.07 1433.87 L1054.31 1435.23 L1054.31 1431.77 L1061.03 1430.41 L1064.83 1430.41 L1064.83 1455.3 L1071.03 1455.3 L1071.03 1458.49 L1054.86 1458.49 L1054.86 1455.3 Z\" fill=\"#000000\" fill-rule=\"evenodd\" fill-opacity=\"1\" /><path clip-path=\"url(#clip970)\" d=\"M 0 0 M1075.15 1453.72 L1079.12 1453.72 L1079.12 1458.49 L1075.15 1458.49 L1075.15 1453.72 Z\" fill=\"#000000\" fill-rule=\"evenodd\" fill-opacity=\"1\" /><path clip-path=\"url(#clip970)\" d=\"M 0 0 M1091.37 1432.91 Q1088.43 1432.91 1086.95 1435.81 Q1085.48 1438.69 1085.48 1444.48 Q1085.48 1450.26 1086.95 1453.15 Q1088.43 1456.03 1091.37 1456.03 Q1094.32 1456.03 1095.78 1453.15 Q1097.27 1450.26 1097.27 1444.48 Q1097.27 1438.69 1095.78 1435.81 Q1094.32 1432.91 1091.37 1432.91 M1091.37 1429.91 Q1096.09 1429.91 1098.57 1433.65 Q1101.07 1437.37 1101.07 1444.48 Q1101.07 1451.57 1098.57 1455.31 Q1096.09 1459.04 1091.37 1459.04 Q1086.64 1459.04 1084.14 1455.31 Q1081.66 1451.57 1081.66 1444.48 Q1081.66 1437.37 1084.14 1433.65 Q1086.64 1429.91 1091.37 1429.91 Z\" fill=\"#000000\" fill-rule=\"evenodd\" fill-opacity=\"1\" /><path clip-path=\"url(#clip970)\" d=\"M 0 0 M1370.56 1481.97 L1378.19 1481.97 L1378.19 1455.6 L1369.88 1457.27 L1369.88 1453.01 L1378.15 1451.34 L1382.82 1451.34 L1382.82 1481.97 L1390.46 1481.97 L1390.46 1485.9 L1370.56 1485.9 L1370.56 1481.97 Z\" fill=\"#000000\" fill-rule=\"evenodd\" fill-opacity=\"1\" /><path clip-path=\"url(#clip970)\" d=\"M 0 0 M1405.53 1454.42 Q1401.92 1454.42 1400.09 1457.99 Q1398.29 1461.53 1398.29 1468.66 Q1398.29 1475.77 1400.09 1479.33 Q1401.92 1482.87 1405.53 1482.87 Q1409.17 1482.87 1410.97 1479.33 Q1412.8 1475.77 1412.8 1468.66 Q1412.8 1461.53 1410.97 1457.99 Q1409.17 1454.42 1405.53 1454.42 M1405.53 1450.72 Q1411.34 1450.72 1414.4 1455.33 Q1417.48 1459.91 1417.48 1468.66 Q1417.48 1477.39 1414.4 1481.99 Q1411.34 1486.58 1405.53 1486.58 Q1399.72 1486.58 1396.64 1481.99 Q1393.59 1477.39 1393.59 1468.66 Q1393.59 1459.91 1396.64 1455.33 Q1399.72 1450.72 1405.53 1450.72 Z\" fill=\"#000000\" fill-rule=\"evenodd\" fill-opacity=\"1\" /><path clip-path=\"url(#clip970)\" d=\"M 0 0 M1417.48 1444.82 L1441.59 1444.82 L1441.59 1448.02 L1417.48 1448.02 L1417.48 1444.82 Z\" fill=\"#000000\" fill-rule=\"evenodd\" fill-opacity=\"1\" /><path clip-path=\"url(#clip970)\" d=\"M 0 0 M1453.83 1432.91 Q1450.9 1432.91 1449.41 1435.81 Q1447.95 1438.69 1447.95 1444.48 Q1447.95 1450.26 1449.41 1453.15 Q1450.9 1456.03 1453.83 1456.03 Q1456.78 1456.03 1458.25 1453.15 Q1459.74 1450.26 1459.74 1444.48 Q1459.74 1438.69 1458.25 1435.81 Q1456.78 1432.91 1453.83 1432.91 M1453.83 1429.91 Q1458.55 1429.91 1461.04 1433.65 Q1463.54 1437.37 1463.54 1444.48 Q1463.54 1451.57 1461.04 1455.31 Q1458.55 1459.04 1453.83 1459.04 Q1449.11 1459.04 1446.61 1455.31 Q1444.13 1451.57 1444.13 1444.48 Q1444.13 1437.37 1446.61 1433.65 Q1449.11 1429.91 1453.83 1429.91 Z\" fill=\"#000000\" fill-rule=\"evenodd\" fill-opacity=\"1\" /><path clip-path=\"url(#clip970)\" d=\"M 0 0 M1467.66 1453.72 L1471.62 1453.72 L1471.62 1458.49 L1467.66 1458.49 L1467.66 1453.72 Z\" fill=\"#000000\" fill-rule=\"evenodd\" fill-opacity=\"1\" /><path clip-path=\"url(#clip970)\" d=\"M 0 0 M1475.78 1430.41 L1490.7 1430.41 L1490.7 1433.61 L1479.26 1433.61 L1479.26 1440.49 Q1480.09 1440.21 1480.92 1440.08 Q1481.74 1439.93 1482.57 1439.93 Q1487.27 1439.93 1490.02 1442.51 Q1492.76 1445.08 1492.76 1449.48 Q1492.76 1454.02 1489.94 1456.54 Q1487.12 1459.04 1481.99 1459.04 Q1480.22 1459.04 1478.38 1458.74 Q1476.55 1458.44 1474.6 1457.84 L1474.6 1454.02 Q1476.29 1454.94 1478.09 1455.39 Q1479.9 1455.84 1481.91 1455.84 Q1485.17 1455.84 1487.07 1454.13 Q1488.96 1452.42 1488.96 1449.48 Q1488.96 1446.55 1487.07 1444.84 Q1485.17 1443.13 1481.91 1443.13 Q1480.39 1443.13 1478.87 1443.47 Q1477.36 1443.8 1475.78 1444.52 L1475.78 1430.41 Z\" fill=\"#000000\" fill-rule=\"evenodd\" fill-opacity=\"1\" /><path clip-path=\"url(#clip970)\" d=\"M 0 0 M1775.08 1481.97 L1782.72 1481.97 L1782.72 1455.6 L1774.41 1457.27 L1774.41 1453.01 L1782.67 1451.34 L1787.34 1451.34 L1787.34 1481.97 L1794.98 1481.97 L1794.98 1485.9 L1775.08 1485.9 L1775.08 1481.97 Z\" fill=\"#000000\" fill-rule=\"evenodd\" fill-opacity=\"1\" /><path clip-path=\"url(#clip970)\" d=\"M 0 0 M1810.05 1454.42 Q1806.44 1454.42 1804.61 1457.99 Q1802.81 1461.53 1802.81 1468.66 Q1802.81 1475.77 1804.61 1479.33 Q1806.44 1482.87 1810.05 1482.87 Q1813.69 1482.87 1815.49 1479.33 Q1817.32 1475.77 1817.32 1468.66 Q1817.32 1461.53 1815.49 1457.99 Q1813.69 1454.42 1810.05 1454.42 M1810.05 1450.72 Q1815.86 1450.72 1818.92 1455.33 Q1822 1459.91 1822 1468.66 Q1822 1477.39 1818.92 1481.99 Q1815.86 1486.58 1810.05 1486.58 Q1804.24 1486.58 1801.16 1481.99 Q1798.11 1477.39 1798.11 1468.66 Q1798.11 1459.91 1801.16 1455.33 Q1804.24 1450.72 1810.05 1450.72 Z\" fill=\"#000000\" fill-rule=\"evenodd\" fill-opacity=\"1\" /><path clip-path=\"url(#clip970)\" d=\"M 0 0 M1831.7 1432.91 Q1828.77 1432.91 1827.28 1435.81 Q1825.82 1438.69 1825.82 1444.48 Q1825.82 1450.26 1827.28 1453.15 Q1828.77 1456.03 1831.7 1456.03 Q1834.66 1456.03 1836.12 1453.15 Q1837.61 1450.26 1837.61 1444.48 Q1837.61 1438.69 1836.12 1435.81 Q1834.66 1432.91 1831.7 1432.91 M1831.7 1429.91 Q1836.42 1429.91 1838.91 1433.65 Q1841.41 1437.37 1841.41 1444.48 Q1841.41 1451.57 1838.91 1455.31 Q1836.42 1459.04 1831.7 1459.04 Q1826.98 1459.04 1824.48 1455.31 Q1822 1451.57 1822 1444.48 Q1822 1437.37 1824.48 1433.65 Q1826.98 1429.91 1831.7 1429.91 Z\" fill=\"#000000\" fill-rule=\"evenodd\" fill-opacity=\"1\" /><path clip-path=\"url(#clip970)\" d=\"M 0 0 M1845.53 1453.72 L1849.49 1453.72 L1849.49 1458.49 L1845.53 1458.49 L1845.53 1453.72 Z\" fill=\"#000000\" fill-rule=\"evenodd\" fill-opacity=\"1\" /><path clip-path=\"url(#clip970)\" d=\"M 0 0 M1861.74 1432.91 Q1858.8 1432.91 1857.32 1435.81 Q1855.85 1438.69 1855.85 1444.48 Q1855.85 1450.26 1857.32 1453.15 Q1858.8 1456.03 1861.74 1456.03 Q1864.69 1456.03 1866.16 1453.15 Q1867.64 1450.26 1867.64 1444.48 Q1867.64 1438.69 1866.16 1435.81 Q1864.69 1432.91 1861.74 1432.91 M1861.74 1429.91 Q1866.46 1429.91 1868.94 1433.65 Q1871.44 1437.37 1871.44 1444.48 Q1871.44 1451.57 1868.94 1455.31 Q1866.46 1459.04 1861.74 1459.04 Q1857.02 1459.04 1854.52 1455.31 Q1852.03 1451.57 1852.03 1444.48 Q1852.03 1437.37 1854.52 1433.65 Q1857.02 1429.91 1861.74 1429.91 Z\" fill=\"#000000\" fill-rule=\"evenodd\" fill-opacity=\"1\" /><path clip-path=\"url(#clip970)\" d=\"M 0 0 M166.515 1384.36 Q162.903 1384.36 161.075 1387.92 Q159.269 1391.46 159.269 1398.59 Q159.269 1405.7 161.075 1409.26 Q162.903 1412.8 166.515 1412.8 Q170.149 1412.8 171.954 1409.26 Q173.783 1405.7 173.783 1398.59 Q173.783 1391.46 171.954 1387.92 Q170.149 1384.36 166.515 1384.36 M166.515 1380.65 Q172.325 1380.65 175.38 1385.26 Q178.459 1389.84 178.459 1398.59 Q178.459 1407.32 175.38 1411.93 Q172.325 1416.51 166.515 1416.51 Q160.704 1416.51 157.626 1411.93 Q154.57 1407.32 154.57 1398.59 Q154.57 1389.84 157.626 1385.26 Q160.704 1380.65 166.515 1380.65 Z\" fill=\"#000000\" fill-rule=\"evenodd\" fill-opacity=\"1\" /><path clip-path=\"url(#clip970)\" d=\"M 0 0 M131.538 1149.36 L139.177 1149.36 L139.177 1122.99 L130.867 1124.66 L130.867 1120.4 L139.13 1118.73 L143.806 1118.73 L143.806 1149.36 L151.445 1149.36 L151.445 1153.29 L131.538 1153.29 L131.538 1149.36 Z\" fill=\"#000000\" fill-rule=\"evenodd\" fill-opacity=\"1\" /><path clip-path=\"url(#clip970)\" d=\"M 0 0 M166.515 1121.81 Q162.903 1121.81 161.075 1125.38 Q159.269 1128.92 159.269 1136.05 Q159.269 1143.15 161.075 1146.72 Q162.903 1150.26 166.515 1150.26 Q170.149 1150.26 171.954 1146.72 Q173.783 1143.15 173.783 1136.05 Q173.783 1128.92 171.954 1125.38 Q170.149 1121.81 166.515 1121.81 M166.515 1118.11 Q172.325 1118.11 175.38 1122.71 Q178.459 1127.3 178.459 1136.05 Q178.459 1144.77 175.38 1149.38 Q172.325 1153.96 166.515 1153.96 Q160.704 1153.96 157.626 1149.38 Q154.57 1144.77 154.57 1136.05 Q154.57 1127.3 157.626 1122.71 Q160.704 1118.11 166.515 1118.11 Z\" fill=\"#000000\" fill-rule=\"evenodd\" fill-opacity=\"1\" /><path clip-path=\"url(#clip970)\" d=\"M 0 0 M135.126 886.814 L151.445 886.814 L151.445 890.749 L129.501 890.749 L129.501 886.814 Q132.163 884.06 136.746 879.43 Q141.353 874.777 142.533 873.435 Q144.779 870.912 145.658 869.176 Q146.561 867.416 146.561 865.726 Q146.561 862.972 144.617 861.236 Q142.695 859.5 139.593 859.5 Q137.394 859.5 134.941 860.264 Q132.51 861.027 129.732 862.578 L129.732 857.856 Q132.556 856.722 135.01 856.143 Q137.464 855.564 139.501 855.564 Q144.871 855.564 148.066 858.25 Q151.26 860.935 151.26 865.426 Q151.26 867.555 150.45 869.476 Q149.663 871.375 147.556 873.967 Q146.978 874.638 143.876 877.856 Q140.774 881.05 135.126 886.814 Z\" fill=\"#000000\" fill-rule=\"evenodd\" fill-opacity=\"1\" /><path clip-path=\"url(#clip970)\" d=\"M 0 0 M166.515 859.268 Q162.903 859.268 161.075 862.833 Q159.269 866.375 159.269 873.504 Q159.269 880.611 161.075 884.175 Q162.903 887.717 166.515 887.717 Q170.149 887.717 171.954 884.175 Q173.783 880.611 173.783 873.504 Q173.783 866.375 171.954 862.833 Q170.149 859.268 166.515 859.268 M166.515 855.564 Q172.325 855.564 175.38 860.171 Q178.459 864.754 178.459 873.504 Q178.459 882.231 175.38 886.837 Q172.325 891.421 166.515 891.421 Q160.704 891.421 157.626 886.837 Q154.57 882.231 154.57 873.504 Q154.57 864.754 157.626 860.171 Q160.704 855.564 166.515 855.564 Z\" fill=\"#000000\" fill-rule=\"evenodd\" fill-opacity=\"1\" /><path clip-path=\"url(#clip970)\" d=\"M 0 0 M144.316 609.571 Q147.672 610.289 149.547 612.558 Q151.445 614.826 151.445 618.159 Q151.445 623.275 147.927 626.076 Q144.408 628.877 137.927 628.877 Q135.751 628.877 133.436 628.437 Q131.144 628.02 128.691 627.164 L128.691 622.65 Q130.635 623.784 132.95 624.363 Q135.265 624.942 137.788 624.942 Q142.186 624.942 144.478 623.206 Q146.792 621.47 146.792 618.159 Q146.792 615.104 144.64 613.391 Q142.51 611.655 138.691 611.655 L134.663 611.655 L134.663 607.812 L138.876 607.812 Q142.325 607.812 144.154 606.447 Q145.982 605.058 145.982 602.465 Q145.982 599.803 144.084 598.391 Q142.209 596.956 138.691 596.956 Q136.769 596.956 134.57 597.372 Q132.371 597.789 129.732 598.669 L129.732 594.502 Q132.394 593.761 134.709 593.391 Q137.047 593.021 139.107 593.021 Q144.431 593.021 147.533 595.451 Q150.635 597.859 150.635 601.979 Q150.635 604.849 148.992 606.84 Q147.348 608.808 144.316 609.571 Z\" fill=\"#000000\" fill-rule=\"evenodd\" fill-opacity=\"1\" /><path clip-path=\"url(#clip970)\" d=\"M 0 0 M166.515 596.724 Q162.903 596.724 161.075 600.289 Q159.269 603.831 159.269 610.96 Q159.269 618.067 161.075 621.632 Q162.903 625.173 166.515 625.173 Q170.149 625.173 171.954 621.632 Q173.783 618.067 173.783 610.96 Q173.783 603.831 171.954 600.289 Q170.149 596.724 166.515 596.724 M166.515 593.021 Q172.325 593.021 175.38 597.627 Q178.459 602.21 178.459 610.96 Q178.459 619.687 175.38 624.294 Q172.325 628.877 166.515 628.877 Q160.704 628.877 157.626 624.294 Q154.57 619.687 154.57 610.96 Q154.57 602.21 157.626 597.627 Q160.704 593.021 166.515 593.021 Z\" fill=\"#000000\" fill-rule=\"evenodd\" fill-opacity=\"1\" /><path clip-path=\"url(#clip970)\" d=\"M 0 0 M141.862 335.176 L130.056 353.625 L141.862 353.625 L141.862 335.176 M140.635 331.102 L146.515 331.102 L146.515 353.625 L151.445 353.625 L151.445 357.514 L146.515 357.514 L146.515 365.662 L141.862 365.662 L141.862 357.514 L126.26 357.514 L126.26 353 L140.635 331.102 Z\" fill=\"#000000\" fill-rule=\"evenodd\" fill-opacity=\"1\" /><path clip-path=\"url(#clip970)\" d=\"M 0 0 M166.515 334.181 Q162.903 334.181 161.075 337.745 Q159.269 341.287 159.269 348.417 Q159.269 355.523 161.075 359.088 Q162.903 362.629 166.515 362.629 Q170.149 362.629 171.954 359.088 Q173.783 355.523 173.783 348.417 Q173.783 341.287 171.954 337.745 Q170.149 334.181 166.515 334.181 M166.515 330.477 Q172.325 330.477 175.38 335.083 Q178.459 339.667 178.459 348.417 Q178.459 357.143 175.38 361.75 Q172.325 366.333 166.515 366.333 Q160.704 366.333 157.626 361.75 Q154.57 357.143 154.57 348.417 Q154.57 339.667 157.626 335.083 Q160.704 330.477 166.515 330.477 Z\" fill=\"#000000\" fill-rule=\"evenodd\" fill-opacity=\"1\" /><path clip-path=\"url(#clip970)\" d=\"M 0 0 M130.543 68.558 L148.899 68.558 L148.899 72.4932 L134.825 72.4932 L134.825 80.9654 Q135.843 80.6182 136.862 80.4561 Q137.88 80.2709 138.899 80.2709 Q144.686 80.2709 148.066 83.4422 Q151.445 86.6135 151.445 92.0301 Q151.445 97.6088 147.973 100.711 Q144.501 103.789 138.181 103.789 Q136.005 103.789 133.737 103.419 Q131.492 103.049 129.084 102.308 L129.084 97.6088 Q131.168 98.7431 133.39 99.2986 Q135.612 99.8542 138.089 99.8542 Q142.093 99.8542 144.431 97.7477 Q146.769 95.6412 146.769 92.0301 Q146.769 88.419 144.431 86.3126 Q142.093 84.2061 138.089 84.2061 Q136.214 84.2061 134.339 84.6228 Q132.487 85.0394 130.543 85.9191 L130.543 68.558 Z\" fill=\"#000000\" fill-rule=\"evenodd\" fill-opacity=\"1\" /><path clip-path=\"url(#clip970)\" d=\"M 0 0 M166.515 71.6367 Q162.903 71.6367 161.075 75.2015 Q159.269 78.7432 159.269 85.8728 Q159.269 92.9792 161.075 96.544 Q162.903 100.086 166.515 100.086 Q170.149 100.086 171.954 96.544 Q173.783 92.9792 173.783 85.8728 Q173.783 78.7432 171.954 75.2015 Q170.149 71.6367 166.515 71.6367 M166.515 67.933 Q172.325 67.933 175.38 72.5395 Q178.459 77.1228 178.459 85.8728 Q178.459 94.5996 175.38 99.206 Q172.325 103.789 166.515 103.789 Q160.704 103.789 157.626 99.206 Q154.57 94.5996 154.57 85.8728 Q154.57 77.1228 157.626 72.5395 Q160.704 67.933 166.515 67.933 Z\" fill=\"#000000\" fill-rule=\"evenodd\" fill-opacity=\"1\" /><path clip-path=\"url(#clip970)\" d=\"M 0 0 M969.676 1512.66 L975.532 1512.66 L975.532 1562.19 L969.676 1562.19 L969.676 1512.66 Z\" fill=\"#000000\" fill-rule=\"evenodd\" fill-opacity=\"1\" /><path clip-path=\"url(#clip970)\" d=\"M 0 0 M1012.17 1542.9 L1012.17 1545.76 L985.24 1545.76 Q985.622 1551.81 988.868 1554.99 Q992.147 1558.14 997.971 1558.14 Q1001.35 1558.14 1004.5 1557.32 Q1007.68 1556.49 1010.8 1554.83 L1010.8 1560.37 Q1007.65 1561.71 1004.34 1562.41 Q1001.03 1563.11 997.621 1563.11 Q989.091 1563.11 984.094 1558.14 Q979.129 1553.18 979.129 1544.71 Q979.129 1535.96 983.84 1530.83 Q988.582 1525.68 996.603 1525.68 Q1003.8 1525.68 1007.97 1530.33 Q1012.17 1534.94 1012.17 1542.9 M1006.31 1541.18 Q1006.25 1536.37 1003.61 1533.51 Q1001 1530.64 996.666 1530.64 Q991.765 1530.64 988.805 1533.41 Q985.877 1536.18 985.431 1541.21 L1006.31 1541.18 Z\" fill=\"#000000\" fill-rule=\"evenodd\" fill-opacity=\"1\" /><path clip-path=\"url(#clip970)\" d=\"M 0 0 M1034.51 1544.27 Q1027.41 1544.27 1024.68 1545.89 Q1021.94 1547.51 1021.94 1551.43 Q1021.94 1554.55 1023.98 1556.39 Q1026.04 1558.21 1029.58 1558.21 Q1034.45 1558.21 1037.38 1554.77 Q1040.34 1551.3 1040.34 1545.57 L1040.34 1544.27 L1034.51 1544.27 M1046.19 1541.85 L1046.19 1562.19 L1040.34 1562.19 L1040.34 1556.77 Q1038.33 1560.02 1035.34 1561.58 Q1032.35 1563.11 1028.02 1563.11 Q1022.54 1563.11 1019.3 1560.05 Q1016.08 1556.97 1016.08 1551.81 Q1016.08 1545.79 1020.09 1542.74 Q1024.13 1539.68 1032.12 1539.68 L1040.34 1539.68 L1040.34 1539.11 Q1040.34 1535.07 1037.66 1532.87 Q1035.02 1530.64 1030.21 1530.64 Q1027.16 1530.64 1024.26 1531.38 Q1021.37 1532.11 1018.69 1533.57 L1018.69 1528.16 Q1021.91 1526.92 1024.93 1526.31 Q1027.95 1525.68 1030.82 1525.68 Q1038.55 1525.68 1042.37 1529.69 Q1046.19 1533.7 1046.19 1541.85 Z\" fill=\"#000000\" fill-rule=\"evenodd\" fill-opacity=\"1\" /><path clip-path=\"url(#clip970)\" d=\"M 0 0 M1072.99 1532.01 Q1072 1531.44 1070.83 1531.18 Q1069.68 1530.9 1068.28 1530.9 Q1063.32 1530.9 1060.64 1534.14 Q1058 1537.36 1058 1543.41 L1058 1562.19 L1052.11 1562.19 L1052.11 1526.54 L1058 1526.54 L1058 1532.08 Q1059.85 1528.83 1062.81 1527.27 Q1065.77 1525.68 1070 1525.68 Q1070.6 1525.68 1071.34 1525.77 Q1072.07 1525.84 1072.96 1526 L1072.99 1532.01 Z\" fill=\"#000000\" fill-rule=\"evenodd\" fill-opacity=\"1\" /><path clip-path=\"url(#clip970)\" d=\"M 0 0 M1107.62 1540.67 L1107.62 1562.19 L1101.76 1562.19 L1101.76 1540.86 Q1101.76 1535.8 1099.79 1533.29 Q1097.82 1530.77 1093.87 1530.77 Q1089.13 1530.77 1086.39 1533.79 Q1083.65 1536.82 1083.65 1542.04 L1083.65 1562.19 L1077.77 1562.19 L1077.77 1526.54 L1083.65 1526.54 L1083.65 1532.08 Q1085.75 1528.86 1088.59 1527.27 Q1091.45 1525.68 1095.18 1525.68 Q1101.32 1525.68 1104.47 1529.5 Q1107.62 1533.29 1107.62 1540.67 Z\" fill=\"#000000\" fill-rule=\"evenodd\" fill-opacity=\"1\" /><path clip-path=\"url(#clip970)\" d=\"M 0 0 M1113.76 1526.54 L1119.62 1526.54 L1119.62 1562.19 L1113.76 1562.19 L1113.76 1526.54 M1113.76 1512.66 L1119.62 1512.66 L1119.62 1520.08 L1113.76 1520.08 L1113.76 1512.66 Z\" fill=\"#000000\" fill-rule=\"evenodd\" fill-opacity=\"1\" /><path clip-path=\"url(#clip970)\" d=\"M 0 0 M1155.4 1540.67 L1155.4 1562.19 L1149.54 1562.19 L1149.54 1540.86 Q1149.54 1535.8 1147.57 1533.29 Q1145.59 1530.77 1141.65 1530.77 Q1136.9 1530.77 1134.17 1533.79 Q1131.43 1536.82 1131.43 1542.04 L1131.43 1562.19 L1125.54 1562.19 L1125.54 1526.54 L1131.43 1526.54 L1131.43 1532.08 Q1133.53 1528.86 1136.36 1527.27 Q1139.23 1525.68 1142.95 1525.68 Q1149.09 1525.68 1152.24 1529.5 Q1155.4 1533.29 1155.4 1540.67 Z\" fill=\"#000000\" fill-rule=\"evenodd\" fill-opacity=\"1\" /><path clip-path=\"url(#clip970)\" d=\"M 0 0 M1185 1543.95 Q1185 1537.58 1182.35 1534.08 Q1179.74 1530.58 1175 1530.58 Q1170.29 1530.58 1167.65 1534.08 Q1165.04 1537.58 1165.04 1543.95 Q1165.04 1550.28 1167.65 1553.78 Q1170.29 1557.28 1175 1557.28 Q1179.74 1557.28 1182.35 1553.78 Q1185 1550.28 1185 1543.95 M1190.85 1557.76 Q1190.85 1566.86 1186.81 1571.29 Q1182.77 1575.74 1174.43 1575.74 Q1171.34 1575.74 1168.6 1575.27 Q1165.87 1574.82 1163.29 1573.87 L1163.29 1568.17 Q1165.87 1569.57 1168.38 1570.24 Q1170.9 1570.91 1173.51 1570.91 Q1179.27 1570.91 1182.13 1567.88 Q1185 1564.89 1185 1558.81 L1185 1555.92 Q1183.18 1559.07 1180.35 1560.63 Q1177.52 1562.19 1173.57 1562.19 Q1167.01 1562.19 1163 1557.19 Q1158.99 1552.19 1158.99 1543.95 Q1158.99 1535.67 1163 1530.68 Q1167.01 1525.68 1173.57 1525.68 Q1177.52 1525.68 1180.35 1527.24 Q1183.18 1528.8 1185 1531.95 L1185 1526.54 L1190.85 1526.54 L1190.85 1557.76 Z\" fill=\"#000000\" fill-rule=\"evenodd\" fill-opacity=\"1\" /><path clip-path=\"url(#clip970)\" d=\"M 0 0 M1224.08 1573.01 L1224.08 1577.56 L1190.22 1577.56 L1190.22 1573.01 L1224.08 1573.01 Z\" fill=\"#000000\" fill-rule=\"evenodd\" fill-opacity=\"1\" /><path clip-path=\"url(#clip970)\" d=\"M 0 0 M1250.88 1532.01 Q1249.89 1531.44 1248.72 1531.18 Q1247.57 1530.9 1246.17 1530.9 Q1241.21 1530.9 1238.53 1534.14 Q1235.89 1537.36 1235.89 1543.41 L1235.89 1562.19 L1230 1562.19 L1230 1526.54 L1235.89 1526.54 L1235.89 1532.08 Q1237.74 1528.83 1240.7 1527.27 Q1243.66 1525.68 1247.89 1525.68 Q1248.49 1525.68 1249.23 1525.77 Q1249.96 1525.84 1250.85 1526 L1250.88 1532.01 Z\" fill=\"#000000\" fill-rule=\"evenodd\" fill-opacity=\"1\" /><path clip-path=\"url(#clip970)\" d=\"M 0 0 M1273.22 1544.27 Q1266.13 1544.27 1263.39 1545.89 Q1260.65 1547.51 1260.65 1551.43 Q1260.65 1554.55 1262.69 1556.39 Q1264.76 1558.21 1268.29 1558.21 Q1273.16 1558.21 1276.09 1554.77 Q1279.05 1551.3 1279.05 1545.57 L1279.05 1544.27 L1273.22 1544.27 M1284.91 1541.85 L1284.91 1562.19 L1279.05 1562.19 L1279.05 1556.77 Q1277.04 1560.02 1274.05 1561.58 Q1271.06 1563.11 1266.73 1563.11 Q1261.26 1563.11 1258.01 1560.05 Q1254.8 1556.97 1254.8 1551.81 Q1254.8 1545.79 1258.81 1542.74 Q1262.85 1539.68 1270.84 1539.68 L1279.05 1539.68 L1279.05 1539.11 Q1279.05 1535.07 1276.38 1532.87 Q1273.73 1530.64 1268.93 1530.64 Q1265.87 1530.64 1262.98 1531.38 Q1260.08 1532.11 1257.41 1533.57 L1257.41 1528.16 Q1260.62 1526.92 1263.64 1526.31 Q1266.67 1525.68 1269.53 1525.68 Q1277.27 1525.68 1281.09 1529.69 Q1284.91 1533.7 1284.91 1541.85 Z\" fill=\"#000000\" fill-rule=\"evenodd\" fill-opacity=\"1\" /><path clip-path=\"url(#clip970)\" d=\"M 0 0 M1296.84 1516.42 L1296.84 1526.54 L1308.9 1526.54 L1308.9 1531.09 L1296.84 1531.09 L1296.84 1550.44 Q1296.84 1554.8 1298.02 1556.04 Q1299.23 1557.28 1302.89 1557.28 L1308.9 1557.28 L1308.9 1562.19 L1302.89 1562.19 Q1296.11 1562.19 1293.53 1559.67 Q1290.95 1557.12 1290.95 1550.44 L1290.95 1531.09 L1286.66 1531.09 L1286.66 1526.54 L1290.95 1526.54 L1290.95 1516.42 L1296.84 1516.42 Z\" fill=\"#000000\" fill-rule=\"evenodd\" fill-opacity=\"1\" /><path clip-path=\"url(#clip970)\" d=\"M 0 0 M1345.54 1542.9 L1345.54 1545.76 L1318.61 1545.76 Q1318.99 1551.81 1322.24 1554.99 Q1325.52 1558.14 1331.34 1558.14 Q1334.72 1558.14 1337.87 1557.32 Q1341.05 1556.49 1344.17 1554.83 L1344.17 1560.37 Q1341.02 1561.71 1337.71 1562.41 Q1334.4 1563.11 1330.99 1563.11 Q1322.46 1563.11 1317.47 1558.14 Q1312.5 1553.18 1312.5 1544.71 Q1312.5 1535.96 1317.21 1530.83 Q1321.95 1525.68 1329.97 1525.68 Q1337.17 1525.68 1341.34 1530.33 Q1345.54 1534.94 1345.54 1542.9 M1339.68 1541.18 Q1339.62 1536.37 1336.98 1533.51 Q1334.37 1530.64 1330.04 1530.64 Q1325.14 1530.64 1322.18 1533.41 Q1319.25 1536.18 1318.8 1541.21 L1339.68 1541.18 Z\" fill=\"#000000\" fill-rule=\"evenodd\" fill-opacity=\"1\" /><path clip-path=\"url(#clip970)\" d=\"M 0 0 M66.4881 887.401 L88.0042 887.401 L88.0042 893.258 L66.679 893.258 Q61.6183 893.258 59.1038 895.231 Q56.5894 897.205 56.5894 901.151 Q56.5894 905.894 59.6131 908.631 Q62.6368 911.368 67.8567 911.368 L88.0042 911.368 L88.0042 917.257 L52.3562 917.257 L52.3562 911.368 L57.8944 911.368 Q54.6797 909.268 53.0883 906.435 Q51.4968 903.57 51.4968 899.846 Q51.4968 893.703 55.3163 890.552 Q59.1038 887.401 66.4881 887.401 Z\" fill=\"#000000\" fill-rule=\"evenodd\" fill-opacity=\"1\" /><path clip-path=\"url(#clip970)\" d=\"M 0 0 M98.8259 854.172 L103.377 854.172 L103.377 888.038 L98.8259 888.038 L98.8259 854.172 Z\" fill=\"#000000\" fill-rule=\"evenodd\" fill-opacity=\"1\" /><path clip-path=\"url(#clip970)\" d=\"M 0 0 M68.7161 817.538 L71.5806 817.538 L71.5806 844.465 Q77.6281 844.083 80.8109 840.836 Q83.9619 837.558 83.9619 831.733 Q83.9619 828.359 83.1344 825.208 Q82.3069 822.026 80.6518 818.906 L86.1899 818.906 Q87.5267 822.057 88.227 825.368 Q88.9272 828.678 88.9272 832.083 Q88.9272 840.613 83.9619 845.611 Q78.9967 850.576 70.5303 850.576 Q61.7774 850.576 56.6531 845.865 Q51.4968 841.123 51.4968 833.102 Q51.4968 825.909 56.1438 821.739 Q60.7589 817.538 68.7161 817.538 M66.9973 823.394 Q62.1912 823.458 59.3266 826.1 Q56.4621 828.71 56.4621 833.038 Q56.4621 837.94 59.2312 840.9 Q62.0002 843.828 67.0292 844.274 L66.9973 823.394 Z\" fill=\"#000000\" fill-rule=\"evenodd\" fill-opacity=\"1\" /><path clip-path=\"url(#clip970)\" d=\"M 0 0 M53.4065 788.669 L58.9447 788.669 Q57.6716 791.152 57.035 793.826 Q56.3984 796.499 56.3984 799.364 Q56.3984 803.724 57.7352 805.92 Q59.072 808.085 61.7456 808.085 Q63.7826 808.085 64.9603 806.525 Q66.1061 804.966 67.1565 800.255 L67.6021 798.25 Q68.9389 792.011 71.3897 789.401 Q73.8086 786.76 78.1691 786.76 Q83.1344 786.76 86.0308 790.706 Q88.9272 794.621 88.9272 801.496 Q88.9272 804.361 88.3543 807.48 Q87.8132 810.567 86.6992 814.005 L80.6518 814.005 Q82.3387 810.758 83.198 807.607 Q84.0256 804.456 84.0256 801.369 Q84.0256 797.231 82.6251 795.003 Q81.1929 792.775 78.6147 792.775 Q76.2276 792.775 74.9545 794.398 Q73.6813 795.99 72.5037 801.433 L72.0262 803.47 Q70.8804 808.912 68.5251 811.331 Q66.138 813.75 62.0002 813.75 Q56.9713 813.75 54.2341 810.185 Q51.4968 806.621 51.4968 800.064 Q51.4968 796.817 51.9743 793.953 Q52.4517 791.088 53.4065 788.669 Z\" fill=\"#000000\" fill-rule=\"evenodd\" fill-opacity=\"1\" /><path clip-path=\"url(#clip970)\" d=\"M 0 0 M42.2347 774.824 L52.3562 774.824 L52.3562 762.761 L56.9077 762.761 L56.9077 774.824 L76.2594 774.824 Q80.6199 774.824 81.8613 773.646 Q83.1026 772.437 83.1026 768.776 L83.1026 762.761 L88.0042 762.761 L88.0042 768.776 Q88.0042 775.556 85.4897 778.134 Q82.9434 780.712 76.2594 780.712 L56.9077 780.712 L56.9077 785.009 L52.3562 785.009 L52.3562 780.712 L42.2347 780.712 L42.2347 774.824 Z\" fill=\"#000000\" fill-rule=\"evenodd\" fill-opacity=\"1\" /><path clip-path=\"url(#clip970)\" d=\"M 0 0 M52.3562 756.618 L52.3562 750.762 L88.0042 750.762 L88.0042 756.618 L52.3562 756.618 M38.479 756.618 L38.479 750.762 L45.895 750.762 L45.895 756.618 L38.479 756.618 Z\" fill=\"#000000\" fill-rule=\"evenodd\" fill-opacity=\"1\" /><path clip-path=\"url(#clip970)\" d=\"M 0 0 M59.1993 716.864 Q55.2526 714.668 53.3747 711.612 Q51.4968 708.557 51.4968 704.419 Q51.4968 698.849 55.4117 695.825 Q59.2948 692.802 66.4881 692.802 L88.0042 692.802 L88.0042 698.69 L66.679 698.69 Q61.5546 698.69 59.072 700.504 Q56.5894 702.318 56.5894 706.042 Q56.5894 710.594 59.6131 713.236 Q62.6368 715.877 67.8567 715.877 L88.0042 715.877 L88.0042 721.766 L66.679 721.766 Q61.5228 721.766 59.072 723.58 Q56.5894 725.394 56.5894 729.182 Q56.5894 733.67 59.6449 736.311 Q62.6686 738.953 67.8567 738.953 L88.0042 738.953 L88.0042 744.841 L52.3562 744.841 L52.3562 738.953 L57.8944 738.953 Q54.616 736.948 53.0564 734.147 Q51.4968 731.346 51.4968 727.495 Q51.4968 723.612 53.4702 720.906 Q55.4436 718.169 59.1993 716.864 Z\" fill=\"#000000\" fill-rule=\"evenodd\" fill-opacity=\"1\" /><path clip-path=\"url(#clip970)\" d=\"M 0 0 M70.0847 670.458 Q70.0847 677.556 71.7079 680.293 Q73.3312 683.03 77.2461 683.03 Q80.3653 683.03 82.2114 680.993 Q84.0256 678.925 84.0256 675.392 Q84.0256 670.522 80.5881 667.594 Q77.1188 664.634 71.3897 664.634 L70.0847 664.634 L70.0847 670.458 M67.6657 658.777 L88.0042 658.777 L88.0042 664.634 L82.5933 664.634 Q85.8398 666.639 87.3994 669.631 Q88.9272 672.622 88.9272 676.951 Q88.9272 682.426 85.8716 685.672 Q82.7843 688.887 77.6281 688.887 Q71.6125 688.887 68.5569 684.876 Q65.5014 680.834 65.5014 672.845 L65.5014 664.634 L64.9285 664.634 Q60.8862 664.634 58.6901 667.307 Q56.4621 669.949 56.4621 674.755 Q56.4621 677.811 57.1941 680.707 Q57.9262 683.603 59.3903 686.277 L53.9795 686.277 Q52.7381 683.062 52.1334 680.039 Q51.4968 677.015 51.4968 674.15 Q51.4968 666.416 55.5072 662.596 Q59.5176 658.777 67.6657 658.777 Z\" fill=\"#000000\" fill-rule=\"evenodd\" fill-opacity=\"1\" /><path clip-path=\"url(#clip970)\" d=\"M 0 0 M42.2347 646.841 L52.3562 646.841 L52.3562 634.778 L56.9077 634.778 L56.9077 646.841 L76.2594 646.841 Q80.6199 646.841 81.8613 645.664 Q83.1026 644.454 83.1026 640.794 L83.1026 634.778 L88.0042 634.778 L88.0042 640.794 Q88.0042 647.573 85.4897 650.152 Q82.9434 652.73 76.2594 652.73 L56.9077 652.73 L56.9077 657.026 L52.3562 657.026 L52.3562 652.73 L42.2347 652.73 L42.2347 646.841 Z\" fill=\"#000000\" fill-rule=\"evenodd\" fill-opacity=\"1\" /><path clip-path=\"url(#clip970)\" d=\"M 0 0 M56.4621 614.822 Q56.4621 619.532 60.1542 622.27 Q63.8145 625.007 70.212 625.007 Q76.6095 625.007 80.3017 622.302 Q83.9619 619.564 83.9619 614.822 Q83.9619 610.143 80.2698 607.406 Q76.5777 604.669 70.212 604.669 Q63.8781 604.669 60.186 607.406 Q56.4621 610.143 56.4621 614.822 M51.4968 614.822 Q51.4968 607.183 56.4621 602.822 Q61.4273 598.462 70.212 598.462 Q78.9649 598.462 83.9619 602.822 Q88.9272 607.183 88.9272 614.822 Q88.9272 622.493 83.9619 626.853 Q78.9649 631.182 70.212 631.182 Q61.4273 631.182 56.4621 626.853 Q51.4968 622.493 51.4968 614.822 Z\" fill=\"#000000\" fill-rule=\"evenodd\" fill-opacity=\"1\" /><path clip-path=\"url(#clip970)\" d=\"M 0 0 M57.8307 571.662 Q57.2578 572.649 57.0032 573.827 Q56.7167 574.973 56.7167 576.373 Q56.7167 581.338 59.9632 584.012 Q63.1779 586.654 69.2253 586.654 L88.0042 586.654 L88.0042 592.542 L52.3562 592.542 L52.3562 586.654 L57.8944 586.654 Q54.6479 584.808 53.0883 581.847 Q51.4968 578.887 51.4968 574.654 Q51.4968 574.049 51.5923 573.317 Q51.656 572.585 51.8151 571.694 L57.8307 571.662 Z\" fill=\"#000000\" fill-rule=\"evenodd\" fill-opacity=\"1\" /><path clip-path=\"url(#clip970)\" d=\"M 0 0 M53.4065 542.794 L58.9447 542.794 Q57.6716 545.277 57.035 547.95 Q56.3984 550.624 56.3984 553.488 Q56.3984 557.849 57.7352 560.045 Q59.072 562.209 61.7456 562.209 Q63.7826 562.209 64.9603 560.65 Q66.1061 559.09 67.1565 554.379 L67.6021 552.374 Q68.9389 546.136 71.3897 543.526 Q73.8086 540.884 78.1691 540.884 Q83.1344 540.884 86.0308 544.831 Q88.9272 548.746 88.9272 555.621 Q88.9272 558.485 88.3543 561.605 Q87.8132 564.692 86.6992 568.129 L80.6518 568.129 Q82.3387 564.883 83.198 561.732 Q84.0256 558.581 84.0256 555.493 Q84.0256 551.356 82.6251 549.128 Q81.1929 546.9 78.6147 546.9 Q76.2276 546.9 74.9545 548.523 Q73.6813 550.114 72.5037 555.557 L72.0262 557.594 Q70.8804 563.037 68.5251 565.456 Q66.138 567.875 62.0002 567.875 Q56.9713 567.875 54.2341 564.31 Q51.4968 560.745 51.4968 554.188 Q51.4968 550.942 51.9743 548.077 Q52.4517 545.213 53.4065 542.794 Z\" fill=\"#000000\" fill-rule=\"evenodd\" fill-opacity=\"1\" /><circle clip-path=\"url(#clip972)\" cx=\"857.246\" cy=\"768.452\" r=\"9\" fill=\"#140a35\" fill-rule=\"evenodd\" fill-opacity=\"1\" stroke=\"#000000\" stroke-opacity=\"1\" stroke-width=\"3.2\"/>\n",
       "<circle clip-path=\"url(#clip972)\" cx=\"1457.97\" cy=\"348.382\" r=\"42\" fill=\"#eb6528\" fill-rule=\"evenodd\" fill-opacity=\"1\" stroke=\"#000000\" stroke-opacity=\"1\" stroke-width=\"3.2\"/>\n",
       "<circle clip-path=\"url(#clip972)\" cx=\"1217.68\" cy=\"1188.52\" r=\"7\" fill=\"#08061f\" fill-rule=\"evenodd\" fill-opacity=\"1\" stroke=\"#000000\" stroke-opacity=\"1\" stroke-width=\"3.2\"/>\n",
       "<circle clip-path=\"url(#clip972)\" cx=\"1457.97\" cy=\"952.233\" r=\"30\" fill=\"#aa2e5d\" fill-rule=\"evenodd\" fill-opacity=\"1\" stroke=\"#000000\" stroke-opacity=\"1\" stroke-width=\"3.2\"/>\n",
       "<circle clip-path=\"url(#clip972)\" cx=\"1578.11\" cy=\"85.838\" r=\"46\" fill=\"#f68012\" fill-rule=\"evenodd\" fill-opacity=\"1\" stroke=\"#000000\" stroke-opacity=\"1\" stroke-width=\"3.2\"/>\n",
       "<circle clip-path=\"url(#clip972)\" cx=\"1457.97\" cy=\"427.145\" r=\"41\" fill=\"#e75e2d\" fill-rule=\"evenodd\" fill-opacity=\"1\" stroke=\"#000000\" stroke-opacity=\"1\" stroke-width=\"3.2\"/>\n",
       "<circle clip-path=\"url(#clip972)\" cx=\"1217.68\" cy=\"847.215\" r=\"23\" fill=\"#751b6d\" fill-rule=\"evenodd\" fill-opacity=\"1\" stroke=\"#000000\" stroke-opacity=\"1\" stroke-width=\"3.2\"/>\n",
       "<circle clip-path=\"url(#clip972)\" cx=\"1097.54\" cy=\"348.382\" r=\"29\" fill=\"#a02a62\" fill-rule=\"evenodd\" fill-opacity=\"1\" stroke=\"#000000\" stroke-opacity=\"1\" stroke-width=\"3.2\"/>\n",
       "<circle clip-path=\"url(#clip972)\" cx=\"1578.11\" cy=\"847.215\" r=\"37\" fill=\"#d54940\" fill-rule=\"evenodd\" fill-opacity=\"1\" stroke=\"#000000\" stroke-opacity=\"1\" stroke-width=\"3.2\"/>\n",
       "<circle clip-path=\"url(#clip972)\" cx=\"737.102\" cy=\"85.838\" r=\"14\" fill=\"#3b0964\" fill-rule=\"evenodd\" fill-opacity=\"1\" stroke=\"#000000\" stroke-opacity=\"1\" stroke-width=\"3.2\"/>\n",
       "<circle clip-path=\"url(#clip972)\" cx=\"1818.4\" cy=\"269.619\" r=\"44\" fill=\"#f37719\" fill-rule=\"evenodd\" fill-opacity=\"1\" stroke=\"#000000\" stroke-opacity=\"1\" stroke-width=\"3.2\"/>\n",
       "<circle clip-path=\"url(#clip972)\" cx=\"256.524\" cy=\"348.382\" r=\"6\" fill=\"#060419\" fill-rule=\"evenodd\" fill-opacity=\"1\" stroke=\"#000000\" stroke-opacity=\"1\" stroke-width=\"3.2\"/>\n",
       "<circle clip-path=\"url(#clip972)\" cx=\"616.957\" cy=\"768.452\" r=\"5\" fill=\"#020210\" fill-rule=\"evenodd\" fill-opacity=\"1\" stroke=\"#000000\" stroke-opacity=\"1\" stroke-width=\"3.2\"/>\n",
       "<circle clip-path=\"url(#clip972)\" cx=\"1217.68\" cy=\"348.382\" r=\"34\" fill=\"#c33b4e\" fill-rule=\"evenodd\" fill-opacity=\"1\" stroke=\"#000000\" stroke-opacity=\"1\" stroke-width=\"3.2\"/>\n",
       "<circle clip-path=\"url(#clip972)\" cx=\"496.813\" cy=\"1031\" r=\"8\" fill=\"#0e082b\" fill-rule=\"evenodd\" fill-opacity=\"1\" stroke=\"#000000\" stroke-opacity=\"1\" stroke-width=\"3.2\"/>\n",
       "<circle clip-path=\"url(#clip972)\" cx=\"977.391\" cy=\"952.233\" r=\"9\" fill=\"#130a34\" fill-rule=\"evenodd\" fill-opacity=\"1\" stroke=\"#000000\" stroke-opacity=\"1\" stroke-width=\"3.2\"/>\n",
       "<circle clip-path=\"url(#clip972)\" cx=\"256.524\" cy=\"610.926\" r=\"7\" fill=\"#0b0725\" fill-rule=\"evenodd\" fill-opacity=\"1\" stroke=\"#000000\" stroke-opacity=\"1\" stroke-width=\"3.2\"/>\n",
       "<circle clip-path=\"url(#clip972)\" cx=\"1698.26\" cy=\"1372.3\" r=\"17\" fill=\"#4d0c6b\" fill-rule=\"evenodd\" fill-opacity=\"1\" stroke=\"#000000\" stroke-opacity=\"1\" stroke-width=\"3.2\"/>\n",
       "<circle clip-path=\"url(#clip972)\" cx=\"857.246\" cy=\"427.145\" r=\"15\" fill=\"#3f0966\" fill-rule=\"evenodd\" fill-opacity=\"1\" stroke=\"#000000\" stroke-opacity=\"1\" stroke-width=\"3.2\"/>\n",
       "<circle clip-path=\"url(#clip972)\" cx=\"1337.82\" cy=\"85.838\" r=\"41\" fill=\"#e8602b\" fill-rule=\"evenodd\" fill-opacity=\"1\" stroke=\"#000000\" stroke-opacity=\"1\" stroke-width=\"3.2\"/>\n",
       "<circle clip-path=\"url(#clip972)\" cx=\"1938.55\" cy=\"1031\" r=\"29\" fill=\"#a12b61\" fill-rule=\"evenodd\" fill-opacity=\"1\" stroke=\"#000000\" stroke-opacity=\"1\" stroke-width=\"3.2\"/>\n",
       "<circle clip-path=\"url(#clip972)\" cx=\"1457.97\" cy=\"505.908\" r=\"40\" fill=\"#e35932\" fill-rule=\"evenodd\" fill-opacity=\"1\" stroke=\"#000000\" stroke-opacity=\"1\" stroke-width=\"3.2\"/>\n",
       "<circle clip-path=\"url(#clip972)\" cx=\"977.391\" cy=\"1372.3\" r=\"17\" fill=\"#4d0c6b\" fill-rule=\"evenodd\" fill-opacity=\"1\" stroke=\"#000000\" stroke-opacity=\"1\" stroke-width=\"3.2\"/>\n",
       "<circle clip-path=\"url(#clip972)\" cx=\"737.102\" cy=\"505.908\" r=\"9\" fill=\"#160b3a\" fill-rule=\"evenodd\" fill-opacity=\"1\" stroke=\"#000000\" stroke-opacity=\"1\" stroke-width=\"3.2\"/>\n",
       "<circle clip-path=\"url(#clip972)\" cx=\"376.668\" cy=\"847.215\" r=\"8\" fill=\"#0d0829\" fill-rule=\"evenodd\" fill-opacity=\"1\" stroke=\"#000000\" stroke-opacity=\"1\" stroke-width=\"3.2\"/>\n",
       "<circle clip-path=\"url(#clip972)\" cx=\"1457.97\" cy=\"1293.54\" r=\"5\" fill=\"#02020f\" fill-rule=\"evenodd\" fill-opacity=\"1\" stroke=\"#000000\" stroke-opacity=\"1\" stroke-width=\"3.2\"/>\n",
       "<circle clip-path=\"url(#clip972)\" cx=\"1818.4\" cy=\"1109.76\" r=\"31\" fill=\"#b1315a\" fill-rule=\"evenodd\" fill-opacity=\"1\" stroke=\"#000000\" stroke-opacity=\"1\" stroke-width=\"3.2\"/>\n",
       "<circle clip-path=\"url(#clip972)\" cx=\"256.524\" cy=\"847.215\" r=\"9\" fill=\"#160b39\" fill-rule=\"evenodd\" fill-opacity=\"1\" stroke=\"#000000\" stroke-opacity=\"1\" stroke-width=\"3.2\"/>\n",
       "<circle clip-path=\"url(#clip972)\" cx=\"1337.82\" cy=\"1372.3\" r=\"17\" fill=\"#4d0c6b\" fill-rule=\"evenodd\" fill-opacity=\"1\" stroke=\"#000000\" stroke-opacity=\"1\" stroke-width=\"3.2\"/>\n",
       "<circle clip-path=\"url(#clip972)\" cx=\"1337.82\" cy=\"1293.54\" r=\"4\" fill=\"#010008\" fill-rule=\"evenodd\" fill-opacity=\"1\" stroke=\"#000000\" stroke-opacity=\"1\" stroke-width=\"3.2\"/>\n",
       "<circle clip-path=\"url(#clip972)\" cx=\"1698.26\" cy=\"1188.52\" r=\"26\" fill=\"#8d2368\" fill-rule=\"evenodd\" fill-opacity=\"1\" stroke=\"#000000\" stroke-opacity=\"1\" stroke-width=\"3.2\"/>\n",
       "<circle clip-path=\"url(#clip972)\" cx=\"616.957\" cy=\"1372.3\" r=\"17\" fill=\"#4d0c6b\" fill-rule=\"evenodd\" fill-opacity=\"1\" stroke=\"#000000\" stroke-opacity=\"1\" stroke-width=\"3.2\"/>\n",
       "<circle clip-path=\"url(#clip972)\" cx=\"1698.26\" cy=\"847.215\" r=\"39\" fill=\"#de5237\" fill-rule=\"evenodd\" fill-opacity=\"1\" stroke=\"#000000\" stroke-opacity=\"1\" stroke-width=\"3.2\"/>\n",
       "<circle clip-path=\"url(#clip972)\" cx=\"496.813\" cy=\"1109.76\" r=\"9\" fill=\"#160b39\" fill-rule=\"evenodd\" fill-opacity=\"1\" stroke=\"#000000\" stroke-opacity=\"1\" stroke-width=\"3.2\"/>\n",
       "<circle clip-path=\"url(#clip972)\" cx=\"857.246\" cy=\"689.689\" r=\"10\" fill=\"#1d0c45\" fill-rule=\"evenodd\" fill-opacity=\"1\" stroke=\"#000000\" stroke-opacity=\"1\" stroke-width=\"3.2\"/>\n",
       "<circle clip-path=\"url(#clip972)\" cx=\"737.102\" cy=\"610.926\" r=\"8\" fill=\"#0d0829\" fill-rule=\"evenodd\" fill-opacity=\"1\" stroke=\"#000000\" stroke-opacity=\"1\" stroke-width=\"3.2\"/>\n",
       "<circle clip-path=\"url(#clip972)\" cx=\"496.813\" cy=\"610.926\" r=\"5\" fill=\"#030210\" fill-rule=\"evenodd\" fill-opacity=\"1\" stroke=\"#000000\" stroke-opacity=\"1\" stroke-width=\"3.2\"/>\n",
       "<circle clip-path=\"url(#clip972)\" cx=\"1578.11\" cy=\"952.233\" r=\"34\" fill=\"#c43c4e\" fill-rule=\"evenodd\" fill-opacity=\"1\" stroke=\"#000000\" stroke-opacity=\"1\" stroke-width=\"3.2\"/>\n",
       "<circle clip-path=\"url(#clip972)\" cx=\"737.102\" cy=\"427.145\" r=\"10\" fill=\"#1c0c44\" fill-rule=\"evenodd\" fill-opacity=\"1\" stroke=\"#000000\" stroke-opacity=\"1\" stroke-width=\"3.2\"/>\n",
       "<circle clip-path=\"url(#clip972)\" cx=\"1337.82\" cy=\"847.215\" r=\"29\" fill=\"#a02a62\" fill-rule=\"evenodd\" fill-opacity=\"1\" stroke=\"#000000\" stroke-opacity=\"1\" stroke-width=\"3.2\"/>\n",
       "<circle clip-path=\"url(#clip972)\" cx=\"1698.26\" cy=\"348.382\" r=\"45\" fill=\"#f37918\" fill-rule=\"evenodd\" fill-opacity=\"1\" stroke=\"#000000\" stroke-opacity=\"1\" stroke-width=\"3.2\"/>\n",
       "<circle clip-path=\"url(#clip972)\" cx=\"1938.55\" cy=\"952.233\" r=\"31\" fill=\"#af305b\" fill-rule=\"evenodd\" fill-opacity=\"1\" stroke=\"#000000\" stroke-opacity=\"1\" stroke-width=\"3.2\"/>\n",
       "<circle clip-path=\"url(#clip972)\" cx=\"1818.4\" cy=\"505.908\" r=\"43\" fill=\"#ed6a23\" fill-rule=\"evenodd\" fill-opacity=\"1\" stroke=\"#000000\" stroke-opacity=\"1\" stroke-width=\"3.2\"/>\n",
       "<circle clip-path=\"url(#clip972)\" cx=\"2058.69\" cy=\"1372.3\" r=\"17\" fill=\"#4d0c6b\" fill-rule=\"evenodd\" fill-opacity=\"1\" stroke=\"#000000\" stroke-opacity=\"1\" stroke-width=\"3.2\"/>\n",
       "<circle clip-path=\"url(#clip972)\" cx=\"1337.82\" cy=\"269.619\" r=\"40\" fill=\"#e15634\" fill-rule=\"evenodd\" fill-opacity=\"1\" stroke=\"#000000\" stroke-opacity=\"1\" stroke-width=\"3.2\"/>\n",
       "<circle clip-path=\"url(#clip972)\" cx=\"977.391\" cy=\"1109.76\" r=\"5\" fill=\"#040315\" fill-rule=\"evenodd\" fill-opacity=\"1\" stroke=\"#000000\" stroke-opacity=\"1\" stroke-width=\"3.2\"/>\n",
       "<circle clip-path=\"url(#clip972)\" cx=\"1337.82\" cy=\"427.145\" r=\"38\" fill=\"#d74b3e\" fill-rule=\"evenodd\" fill-opacity=\"1\" stroke=\"#000000\" stroke-opacity=\"1\" stroke-width=\"3.2\"/>\n",
       "<circle clip-path=\"url(#clip972)\" cx=\"1097.54\" cy=\"1372.3\" r=\"17\" fill=\"#4d0c6b\" fill-rule=\"evenodd\" fill-opacity=\"1\" stroke=\"#000000\" stroke-opacity=\"1\" stroke-width=\"3.2\"/>\n",
       "<circle clip-path=\"url(#clip972)\" cx=\"256.524\" cy=\"1109.76\" r=\"14\" fill=\"#350960\" fill-rule=\"evenodd\" fill-opacity=\"1\" stroke=\"#000000\" stroke-opacity=\"1\" stroke-width=\"3.2\"/>\n",
       "<circle clip-path=\"url(#clip972)\" cx=\"496.813\" cy=\"952.233\" r=\"7\" fill=\"#090622\" fill-rule=\"evenodd\" fill-opacity=\"1\" stroke=\"#000000\" stroke-opacity=\"1\" stroke-width=\"3.2\"/>\n",
       "<circle clip-path=\"url(#clip972)\" cx=\"977.391\" cy=\"689.689\" r=\"15\" fill=\"#430a68\" fill-rule=\"evenodd\" fill-opacity=\"1\" stroke=\"#000000\" stroke-opacity=\"1\" stroke-width=\"3.2\"/>\n",
       "<circle clip-path=\"url(#clip972)\" cx=\"376.668\" cy=\"164.601\" r=\"5\" fill=\"#030210\" fill-rule=\"evenodd\" fill-opacity=\"1\" stroke=\"#000000\" stroke-opacity=\"1\" stroke-width=\"3.2\"/>\n",
       "<circle clip-path=\"url(#clip972)\" cx=\"1217.68\" cy=\"1293.54\" r=\"3\" fill=\"#000003\" fill-rule=\"evenodd\" fill-opacity=\"1\" stroke=\"#000000\" stroke-opacity=\"1\" stroke-width=\"3.2\"/>\n",
       "<circle clip-path=\"url(#clip972)\" cx=\"496.813\" cy=\"1372.3\" r=\"17\" fill=\"#4d0c6b\" fill-rule=\"evenodd\" fill-opacity=\"1\" stroke=\"#000000\" stroke-opacity=\"1\" stroke-width=\"3.2\"/>\n",
       "<circle clip-path=\"url(#clip972)\" cx=\"256.524\" cy=\"952.233\" r=\"11\" fill=\"#210b4b\" fill-rule=\"evenodd\" fill-opacity=\"1\" stroke=\"#000000\" stroke-opacity=\"1\" stroke-width=\"3.2\"/>\n",
       "<circle clip-path=\"url(#clip972)\" cx=\"737.102\" cy=\"689.689\" r=\"7\" fill=\"#090621\" fill-rule=\"evenodd\" fill-opacity=\"1\" stroke=\"#000000\" stroke-opacity=\"1\" stroke-width=\"3.2\"/>\n",
       "<circle clip-path=\"url(#clip972)\" cx=\"256.524\" cy=\"164.601\" r=\"5\" fill=\"#040315\" fill-rule=\"evenodd\" fill-opacity=\"1\" stroke=\"#000000\" stroke-opacity=\"1\" stroke-width=\"3.2\"/>\n",
       "<circle clip-path=\"url(#clip972)\" cx=\"1217.68\" cy=\"269.619\" r=\"36\" fill=\"#cb4148\" fill-rule=\"evenodd\" fill-opacity=\"1\" stroke=\"#000000\" stroke-opacity=\"1\" stroke-width=\"3.2\"/>\n",
       "<circle clip-path=\"url(#clip972)\" cx=\"857.246\" cy=\"348.382\" r=\"16\" fill=\"#490b6a\" fill-rule=\"evenodd\" fill-opacity=\"1\" stroke=\"#000000\" stroke-opacity=\"1\" stroke-width=\"3.2\"/>\n",
       "<circle clip-path=\"url(#clip972)\" cx=\"496.813\" cy=\"847.215\" r=\"6\" fill=\"#050316\" fill-rule=\"evenodd\" fill-opacity=\"1\" stroke=\"#000000\" stroke-opacity=\"1\" stroke-width=\"3.2\"/>\n",
       "<circle clip-path=\"url(#clip972)\" cx=\"737.102\" cy=\"1109.76\" r=\"5\" fill=\"#02010e\" fill-rule=\"evenodd\" fill-opacity=\"1\" stroke=\"#000000\" stroke-opacity=\"1\" stroke-width=\"3.2\"/>\n",
       "<circle clip-path=\"url(#clip972)\" cx=\"376.668\" cy=\"427.145\" r=\"5\" fill=\"#030211\" fill-rule=\"evenodd\" fill-opacity=\"1\" stroke=\"#000000\" stroke-opacity=\"1\" stroke-width=\"3.2\"/>\n",
       "<circle clip-path=\"url(#clip972)\" cx=\"857.246\" cy=\"1372.3\" r=\"17\" fill=\"#4d0c6b\" fill-rule=\"evenodd\" fill-opacity=\"1\" stroke=\"#000000\" stroke-opacity=\"1\" stroke-width=\"3.2\"/>\n",
       "<circle clip-path=\"url(#clip972)\" cx=\"1818.4\" cy=\"1031\" r=\"35\" fill=\"#c83e4b\" fill-rule=\"evenodd\" fill-opacity=\"1\" stroke=\"#000000\" stroke-opacity=\"1\" stroke-width=\"3.2\"/>\n",
       "<circle clip-path=\"url(#clip972)\" cx=\"376.668\" cy=\"348.382\" r=\"5\" fill=\"#030212\" fill-rule=\"evenodd\" fill-opacity=\"1\" stroke=\"#000000\" stroke-opacity=\"1\" stroke-width=\"3.2\"/>\n",
       "<circle clip-path=\"url(#clip972)\" cx=\"1698.26\" cy=\"952.233\" r=\"37\" fill=\"#d24643\" fill-rule=\"evenodd\" fill-opacity=\"1\" stroke=\"#000000\" stroke-opacity=\"1\" stroke-width=\"3.2\"/>\n",
       "<circle clip-path=\"url(#clip972)\" cx=\"1578.11\" cy=\"164.601\" r=\"45\" fill=\"#f57d15\" fill-rule=\"evenodd\" fill-opacity=\"1\" stroke=\"#000000\" stroke-opacity=\"1\" stroke-width=\"3.2\"/>\n",
       "<circle clip-path=\"url(#clip972)\" cx=\"1938.55\" cy=\"427.145\" r=\"37\" fill=\"#d44841\" fill-rule=\"evenodd\" fill-opacity=\"1\" stroke=\"#000000\" stroke-opacity=\"1\" stroke-width=\"3.2\"/>\n",
       "<circle clip-path=\"url(#clip972)\" cx=\"1818.4\" cy=\"768.452\" r=\"40\" fill=\"#e15634\" fill-rule=\"evenodd\" fill-opacity=\"1\" stroke=\"#000000\" stroke-opacity=\"1\" stroke-width=\"3.2\"/>\n",
       "<circle clip-path=\"url(#clip972)\" cx=\"977.391\" cy=\"1031\" r=\"6\" fill=\"#07051d\" fill-rule=\"evenodd\" fill-opacity=\"1\" stroke=\"#000000\" stroke-opacity=\"1\" stroke-width=\"3.2\"/>\n",
       "<circle clip-path=\"url(#clip972)\" cx=\"1217.68\" cy=\"85.838\" r=\"38\" fill=\"#d74b3e\" fill-rule=\"evenodd\" fill-opacity=\"1\" stroke=\"#000000\" stroke-opacity=\"1\" stroke-width=\"3.2\"/>\n",
       "<circle clip-path=\"url(#clip972)\" cx=\"1457.97\" cy=\"1372.3\" r=\"17\" fill=\"#4d0c6b\" fill-rule=\"evenodd\" fill-opacity=\"1\" stroke=\"#000000\" stroke-opacity=\"1\" stroke-width=\"3.2\"/>\n",
       "<circle clip-path=\"url(#clip972)\" cx=\"857.246\" cy=\"847.215\" r=\"7\" fill=\"#0c0727\" fill-rule=\"evenodd\" fill-opacity=\"1\" stroke=\"#000000\" stroke-opacity=\"1\" stroke-width=\"3.2\"/>\n",
       "<circle clip-path=\"url(#clip972)\" cx=\"1818.4\" cy=\"1188.52\" r=\"27\" fill=\"#952666\" fill-rule=\"evenodd\" fill-opacity=\"1\" stroke=\"#000000\" stroke-opacity=\"1\" stroke-width=\"3.2\"/>\n",
       "<circle clip-path=\"url(#clip972)\" cx=\"1578.11\" cy=\"269.619\" r=\"44\" fill=\"#f37719\" fill-rule=\"evenodd\" fill-opacity=\"1\" stroke=\"#000000\" stroke-opacity=\"1\" stroke-width=\"3.2\"/>\n",
       "<circle clip-path=\"url(#clip972)\" cx=\"256.524\" cy=\"768.452\" r=\"8\" fill=\"#120a31\" fill-rule=\"evenodd\" fill-opacity=\"1\" stroke=\"#000000\" stroke-opacity=\"1\" stroke-width=\"3.2\"/>\n",
       "<circle clip-path=\"url(#clip972)\" cx=\"1818.4\" cy=\"85.838\" r=\"45\" fill=\"#f57e13\" fill-rule=\"evenodd\" fill-opacity=\"1\" stroke=\"#000000\" stroke-opacity=\"1\" stroke-width=\"3.2\"/>\n",
       "<circle clip-path=\"url(#clip972)\" cx=\"256.524\" cy=\"1031\" r=\"12\" fill=\"#290b55\" fill-rule=\"evenodd\" fill-opacity=\"1\" stroke=\"#000000\" stroke-opacity=\"1\" stroke-width=\"3.2\"/>\n",
       "<circle clip-path=\"url(#clip972)\" cx=\"616.957\" cy=\"505.908\" r=\"6\" fill=\"#06041a\" fill-rule=\"evenodd\" fill-opacity=\"1\" stroke=\"#000000\" stroke-opacity=\"1\" stroke-width=\"3.2\"/>\n",
       "<circle clip-path=\"url(#clip972)\" cx=\"1818.4\" cy=\"847.215\" r=\"38\" fill=\"#db4f3b\" fill-rule=\"evenodd\" fill-opacity=\"1\" stroke=\"#000000\" stroke-opacity=\"1\" stroke-width=\"3.2\"/>\n",
       "<circle clip-path=\"url(#clip972)\" cx=\"2058.69\" cy=\"1293.54\" r=\"27\" fill=\"#8f2468\" fill-rule=\"evenodd\" fill-opacity=\"1\" stroke=\"#000000\" stroke-opacity=\"1\" stroke-width=\"3.2\"/>\n",
       "<circle clip-path=\"url(#clip972)\" cx=\"496.813\" cy=\"768.452\" r=\"5\" fill=\"#030313\" fill-rule=\"evenodd\" fill-opacity=\"1\" stroke=\"#000000\" stroke-opacity=\"1\" stroke-width=\"3.2\"/>\n",
       "<circle clip-path=\"url(#clip972)\" cx=\"2058.69\" cy=\"85.838\" r=\"61\" fill=\"#fcfea4\" fill-rule=\"evenodd\" fill-opacity=\"1\" stroke=\"#000000\" stroke-opacity=\"1\" stroke-width=\"3.2\"/>\n",
       "<circle clip-path=\"url(#clip972)\" cx=\"737.102\" cy=\"1372.3\" r=\"17\" fill=\"#4d0c6b\" fill-rule=\"evenodd\" fill-opacity=\"1\" stroke=\"#000000\" stroke-opacity=\"1\" stroke-width=\"3.2\"/>\n",
       "<circle clip-path=\"url(#clip972)\" cx=\"1097.54\" cy=\"1293.54\" r=\"7\" fill=\"#090620\" fill-rule=\"evenodd\" fill-opacity=\"1\" stroke=\"#000000\" stroke-opacity=\"1\" stroke-width=\"3.2\"/>\n",
       "<circle clip-path=\"url(#clip972)\" cx=\"376.668\" cy=\"85.838\" r=\"5\" fill=\"#030211\" fill-rule=\"evenodd\" fill-opacity=\"1\" stroke=\"#000000\" stroke-opacity=\"1\" stroke-width=\"3.2\"/>\n",
       "<circle clip-path=\"url(#clip972)\" cx=\"616.957\" cy=\"847.215\" r=\"5\" fill=\"#02020f\" fill-rule=\"evenodd\" fill-opacity=\"1\" stroke=\"#000000\" stroke-opacity=\"1\" stroke-width=\"3.2\"/>\n",
       "<circle clip-path=\"url(#clip972)\" cx=\"977.391\" cy=\"610.926\" r=\"17\" fill=\"#4f0d6c\" fill-rule=\"evenodd\" fill-opacity=\"1\" stroke=\"#000000\" stroke-opacity=\"1\" stroke-width=\"3.2\"/>\n",
       "<circle clip-path=\"url(#clip972)\" cx=\"977.391\" cy=\"768.452\" r=\"13\" fill=\"#34095f\" fill-rule=\"evenodd\" fill-opacity=\"1\" stroke=\"#000000\" stroke-opacity=\"1\" stroke-width=\"3.2\"/>\n",
       "<circle clip-path=\"url(#clip972)\" cx=\"1097.54\" cy=\"1031\" r=\"10\" fill=\"#1d0c44\" fill-rule=\"evenodd\" fill-opacity=\"1\" stroke=\"#000000\" stroke-opacity=\"1\" stroke-width=\"3.2\"/>\n",
       "<circle clip-path=\"url(#clip972)\" cx=\"1938.55\" cy=\"768.452\" r=\"34\" fill=\"#c03951\" fill-rule=\"evenodd\" fill-opacity=\"1\" stroke=\"#000000\" stroke-opacity=\"1\" stroke-width=\"3.2\"/>\n",
       "<circle clip-path=\"url(#clip972)\" cx=\"616.957\" cy=\"952.233\" r=\"5\" fill=\"#030211\" fill-rule=\"evenodd\" fill-opacity=\"1\" stroke=\"#000000\" stroke-opacity=\"1\" stroke-width=\"3.2\"/>\n",
       "<circle clip-path=\"url(#clip972)\" cx=\"1578.11\" cy=\"1293.54\" r=\"8\" fill=\"#10092f\" fill-rule=\"evenodd\" fill-opacity=\"1\" stroke=\"#000000\" stroke-opacity=\"1\" stroke-width=\"3.2\"/>\n",
       "<circle clip-path=\"url(#clip972)\" cx=\"1097.54\" cy=\"427.145\" r=\"28\" fill=\"#962666\" fill-rule=\"evenodd\" fill-opacity=\"1\" stroke=\"#000000\" stroke-opacity=\"1\" stroke-width=\"3.2\"/>\n",
       "<circle clip-path=\"url(#clip972)\" cx=\"977.391\" cy=\"348.382\" r=\"23\" fill=\"#751b6d\" fill-rule=\"evenodd\" fill-opacity=\"1\" stroke=\"#000000\" stroke-opacity=\"1\" stroke-width=\"3.2\"/>\n",
       "<circle clip-path=\"url(#clip972)\" cx=\"496.813\" cy=\"85.838\" r=\"6\" fill=\"#07051d\" fill-rule=\"evenodd\" fill-opacity=\"1\" stroke=\"#000000\" stroke-opacity=\"1\" stroke-width=\"3.2\"/>\n",
       "<circle clip-path=\"url(#clip972)\" cx=\"1337.82\" cy=\"1109.76\" r=\"17\" fill=\"#4b0b6b\" fill-rule=\"evenodd\" fill-opacity=\"1\" stroke=\"#000000\" stroke-opacity=\"1\" stroke-width=\"3.2\"/>\n",
       "<circle clip-path=\"url(#clip972)\" cx=\"1097.54\" cy=\"952.233\" r=\"13\" fill=\"#32095e\" fill-rule=\"evenodd\" fill-opacity=\"1\" stroke=\"#000000\" stroke-opacity=\"1\" stroke-width=\"3.2\"/>\n",
       "<circle clip-path=\"url(#clip972)\" cx=\"857.246\" cy=\"269.619\" r=\"18\" fill=\"#520e6c\" fill-rule=\"evenodd\" fill-opacity=\"1\" stroke=\"#000000\" stroke-opacity=\"1\" stroke-width=\"3.2\"/>\n",
       "<circle clip-path=\"url(#clip972)\" cx=\"857.246\" cy=\"505.908\" r=\"14\" fill=\"#360961\" fill-rule=\"evenodd\" fill-opacity=\"1\" stroke=\"#000000\" stroke-opacity=\"1\" stroke-width=\"3.2\"/>\n",
       "<circle clip-path=\"url(#clip972)\" cx=\"1818.4\" cy=\"1293.54\" r=\"17\" fill=\"#4e0c6b\" fill-rule=\"evenodd\" fill-opacity=\"1\" stroke=\"#000000\" stroke-opacity=\"1\" stroke-width=\"3.2\"/>\n",
       "<circle clip-path=\"url(#clip972)\" cx=\"376.668\" cy=\"1293.54\" r=\"15\" fill=\"#400967\" fill-rule=\"evenodd\" fill-opacity=\"1\" stroke=\"#000000\" stroke-opacity=\"1\" stroke-width=\"3.2\"/>\n",
       "<circle clip-path=\"url(#clip972)\" cx=\"1938.55\" cy=\"505.908\" r=\"37\" fill=\"#d14544\" fill-rule=\"evenodd\" fill-opacity=\"1\" stroke=\"#000000\" stroke-opacity=\"1\" stroke-width=\"3.2\"/>\n",
       "<circle clip-path=\"url(#clip972)\" cx=\"1217.68\" cy=\"505.908\" r=\"32\" fill=\"#b43358\" fill-rule=\"evenodd\" fill-opacity=\"1\" stroke=\"#000000\" stroke-opacity=\"1\" stroke-width=\"3.2\"/>\n",
       "<circle clip-path=\"url(#clip972)\" cx=\"1217.68\" cy=\"427.145\" r=\"33\" fill=\"#bd3753\" fill-rule=\"evenodd\" fill-opacity=\"1\" stroke=\"#000000\" stroke-opacity=\"1\" stroke-width=\"3.2\"/>\n",
       "<circle clip-path=\"url(#clip972)\" cx=\"1337.82\" cy=\"952.233\" r=\"26\" fill=\"#88216a\" fill-rule=\"evenodd\" fill-opacity=\"1\" stroke=\"#000000\" stroke-opacity=\"1\" stroke-width=\"3.2\"/>\n",
       "<circle clip-path=\"url(#clip972)\" cx=\"1457.97\" cy=\"847.215\" r=\"34\" fill=\"#c13a50\" fill-rule=\"evenodd\" fill-opacity=\"1\" stroke=\"#000000\" stroke-opacity=\"1\" stroke-width=\"3.2\"/>\n",
       "<circle clip-path=\"url(#clip972)\" cx=\"977.391\" cy=\"269.619\" r=\"24\" fill=\"#7f1e6c\" fill-rule=\"evenodd\" fill-opacity=\"1\" stroke=\"#000000\" stroke-opacity=\"1\" stroke-width=\"3.2\"/>\n",
       "<circle clip-path=\"url(#clip972)\" cx=\"1097.54\" cy=\"1109.76\" r=\"7\" fill=\"#0a0723\" fill-rule=\"evenodd\" fill-opacity=\"1\" stroke=\"#000000\" stroke-opacity=\"1\" stroke-width=\"3.2\"/>\n",
       "<circle clip-path=\"url(#clip972)\" cx=\"1457.97\" cy=\"610.926\" r=\"39\" fill=\"#dd5139\" fill-rule=\"evenodd\" fill-opacity=\"1\" stroke=\"#000000\" stroke-opacity=\"1\" stroke-width=\"3.2\"/>\n",
       "<circle clip-path=\"url(#clip972)\" cx=\"1457.97\" cy=\"269.619\" r=\"42\" fill=\"#ed6924\" fill-rule=\"evenodd\" fill-opacity=\"1\" stroke=\"#000000\" stroke-opacity=\"1\" stroke-width=\"3.2\"/>\n",
       "<circle clip-path=\"url(#clip972)\" cx=\"857.246\" cy=\"1293.54\" r=\"8\" fill=\"#110a31\" fill-rule=\"evenodd\" fill-opacity=\"1\" stroke=\"#000000\" stroke-opacity=\"1\" stroke-width=\"3.2\"/>\n",
       "<circle clip-path=\"url(#clip972)\" cx=\"1097.54\" cy=\"847.215\" r=\"17\" fill=\"#4c0c6b\" fill-rule=\"evenodd\" fill-opacity=\"1\" stroke=\"#000000\" stroke-opacity=\"1\" stroke-width=\"3.2\"/>\n",
       "<circle clip-path=\"url(#clip972)\" cx=\"1578.11\" cy=\"768.452\" r=\"39\" fill=\"#de5238\" fill-rule=\"evenodd\" fill-opacity=\"1\" stroke=\"#000000\" stroke-opacity=\"1\" stroke-width=\"3.2\"/>\n",
       "<circle clip-path=\"url(#clip972)\" cx=\"1457.97\" cy=\"164.601\" r=\"43\" fill=\"#ef6f20\" fill-rule=\"evenodd\" fill-opacity=\"1\" stroke=\"#000000\" stroke-opacity=\"1\" stroke-width=\"3.2\"/>\n",
       "<circle clip-path=\"url(#clip972)\" cx=\"1337.82\" cy=\"1031\" r=\"21\" fill=\"#6c176e\" fill-rule=\"evenodd\" fill-opacity=\"1\" stroke=\"#000000\" stroke-opacity=\"1\" stroke-width=\"3.2\"/>\n",
       "<circle clip-path=\"url(#clip972)\" cx=\"376.668\" cy=\"610.926\" r=\"6\" fill=\"#050417\" fill-rule=\"evenodd\" fill-opacity=\"1\" stroke=\"#000000\" stroke-opacity=\"1\" stroke-width=\"3.2\"/>\n",
       "<circle clip-path=\"url(#clip972)\" cx=\"737.102\" cy=\"164.601\" r=\"13\" fill=\"#34095f\" fill-rule=\"evenodd\" fill-opacity=\"1\" stroke=\"#000000\" stroke-opacity=\"1\" stroke-width=\"3.2\"/>\n",
       "<circle clip-path=\"url(#clip972)\" cx=\"496.813\" cy=\"348.382\" r=\"5\" fill=\"#040314\" fill-rule=\"evenodd\" fill-opacity=\"1\" stroke=\"#000000\" stroke-opacity=\"1\" stroke-width=\"3.2\"/>\n",
       "<circle clip-path=\"url(#clip972)\" cx=\"616.957\" cy=\"85.838\" r=\"10\" fill=\"#190b3e\" fill-rule=\"evenodd\" fill-opacity=\"1\" stroke=\"#000000\" stroke-opacity=\"1\" stroke-width=\"3.2\"/>\n",
       "<circle clip-path=\"url(#clip972)\" cx=\"1578.11\" cy=\"427.145\" r=\"43\" fill=\"#ef6d21\" fill-rule=\"evenodd\" fill-opacity=\"1\" stroke=\"#000000\" stroke-opacity=\"1\" stroke-width=\"3.2\"/>\n",
       "<circle clip-path=\"url(#clip972)\" cx=\"1337.82\" cy=\"1188.52\" r=\"11\" fill=\"#220b4c\" fill-rule=\"evenodd\" fill-opacity=\"1\" stroke=\"#000000\" stroke-opacity=\"1\" stroke-width=\"3.2\"/>\n",
       "<circle clip-path=\"url(#clip972)\" cx=\"1457.97\" cy=\"1188.52\" r=\"16\" fill=\"#460a69\" fill-rule=\"evenodd\" fill-opacity=\"1\" stroke=\"#000000\" stroke-opacity=\"1\" stroke-width=\"3.2\"/>\n",
       "<circle clip-path=\"url(#clip972)\" cx=\"977.391\" cy=\"505.908\" r=\"20\" fill=\"#5f126e\" fill-rule=\"evenodd\" fill-opacity=\"1\" stroke=\"#000000\" stroke-opacity=\"1\" stroke-width=\"3.2\"/>\n",
       "<circle clip-path=\"url(#clip972)\" cx=\"1698.26\" cy=\"85.838\" r=\"46\" fill=\"#f7860e\" fill-rule=\"evenodd\" fill-opacity=\"1\" stroke=\"#000000\" stroke-opacity=\"1\" stroke-width=\"3.2\"/>\n",
       "<circle clip-path=\"url(#clip972)\" cx=\"1337.82\" cy=\"505.908\" r=\"37\" fill=\"#d14544\" fill-rule=\"evenodd\" fill-opacity=\"1\" stroke=\"#000000\" stroke-opacity=\"1\" stroke-width=\"3.2\"/>\n",
       "<circle clip-path=\"url(#clip972)\" cx=\"256.524\" cy=\"427.145\" r=\"6\" fill=\"#07051d\" fill-rule=\"evenodd\" fill-opacity=\"1\" stroke=\"#000000\" stroke-opacity=\"1\" stroke-width=\"3.2\"/>\n",
       "<circle clip-path=\"url(#clip972)\" cx=\"1818.4\" cy=\"689.689\" r=\"41\" fill=\"#e65d2e\" fill-rule=\"evenodd\" fill-opacity=\"1\" stroke=\"#000000\" stroke-opacity=\"1\" stroke-width=\"3.2\"/>\n",
       "<circle clip-path=\"url(#clip972)\" cx=\"977.391\" cy=\"427.145\" r=\"21\" fill=\"#6b176e\" fill-rule=\"evenodd\" fill-opacity=\"1\" stroke=\"#000000\" stroke-opacity=\"1\" stroke-width=\"3.2\"/>\n",
       "<circle clip-path=\"url(#clip972)\" cx=\"1818.4\" cy=\"610.926\" r=\"42\" fill=\"#ea6329\" fill-rule=\"evenodd\" fill-opacity=\"1\" stroke=\"#000000\" stroke-opacity=\"1\" stroke-width=\"3.2\"/>\n",
       "<circle clip-path=\"url(#clip972)\" cx=\"1217.68\" cy=\"1372.3\" r=\"17\" fill=\"#4d0c6b\" fill-rule=\"evenodd\" fill-opacity=\"1\" stroke=\"#000000\" stroke-opacity=\"1\" stroke-width=\"3.2\"/>\n",
       "<circle clip-path=\"url(#clip972)\" cx=\"1698.26\" cy=\"505.908\" r=\"43\" fill=\"#f0701f\" fill-rule=\"evenodd\" fill-opacity=\"1\" stroke=\"#000000\" stroke-opacity=\"1\" stroke-width=\"3.2\"/>\n",
       "<circle clip-path=\"url(#clip972)\" cx=\"1698.26\" cy=\"1031\" r=\"35\" fill=\"#c63d4c\" fill-rule=\"evenodd\" fill-opacity=\"1\" stroke=\"#000000\" stroke-opacity=\"1\" stroke-width=\"3.2\"/>\n",
       "<circle clip-path=\"url(#clip972)\" cx=\"857.246\" cy=\"1188.52\" r=\"4\" fill=\"#01010b\" fill-rule=\"evenodd\" fill-opacity=\"1\" stroke=\"#000000\" stroke-opacity=\"1\" stroke-width=\"3.2\"/>\n",
       "<circle clip-path=\"url(#clip972)\" cx=\"1217.68\" cy=\"164.601\" r=\"37\" fill=\"#d24742\" fill-rule=\"evenodd\" fill-opacity=\"1\" stroke=\"#000000\" stroke-opacity=\"1\" stroke-width=\"3.2\"/>\n",
       "<circle clip-path=\"url(#clip972)\" cx=\"1578.11\" cy=\"689.689\" r=\"40\" fill=\"#e45a31\" fill-rule=\"evenodd\" fill-opacity=\"1\" stroke=\"#000000\" stroke-opacity=\"1\" stroke-width=\"3.2\"/>\n",
       "<circle clip-path=\"url(#clip972)\" cx=\"1097.54\" cy=\"1188.52\" r=\"5\" fill=\"#040313\" fill-rule=\"evenodd\" fill-opacity=\"1\" stroke=\"#000000\" stroke-opacity=\"1\" stroke-width=\"3.2\"/>\n",
       "<circle clip-path=\"url(#clip972)\" cx=\"616.957\" cy=\"1109.76\" r=\"7\" fill=\"#0b0725\" fill-rule=\"evenodd\" fill-opacity=\"1\" stroke=\"#000000\" stroke-opacity=\"1\" stroke-width=\"3.2\"/>\n",
       "<circle clip-path=\"url(#clip972)\" cx=\"1097.54\" cy=\"85.838\" r=\"33\" fill=\"#ba3654\" fill-rule=\"evenodd\" fill-opacity=\"1\" stroke=\"#000000\" stroke-opacity=\"1\" stroke-width=\"3.2\"/>\n",
       "<circle clip-path=\"url(#clip972)\" cx=\"1578.11\" cy=\"505.908\" r=\"42\" fill=\"#ec6825\" fill-rule=\"evenodd\" fill-opacity=\"1\" stroke=\"#000000\" stroke-opacity=\"1\" stroke-width=\"3.2\"/>\n",
       "<circle clip-path=\"url(#clip972)\" cx=\"977.391\" cy=\"85.838\" r=\"27\" fill=\"#922567\" fill-rule=\"evenodd\" fill-opacity=\"1\" stroke=\"#000000\" stroke-opacity=\"1\" stroke-width=\"3.2\"/>\n",
       "<circle clip-path=\"url(#clip972)\" cx=\"1578.11\" cy=\"1109.76\" r=\"28\" fill=\"#982765\" fill-rule=\"evenodd\" fill-opacity=\"1\" stroke=\"#000000\" stroke-opacity=\"1\" stroke-width=\"3.2\"/>\n",
       "<circle clip-path=\"url(#clip972)\" cx=\"256.524\" cy=\"1188.52\" r=\"15\" fill=\"#3e0965\" fill-rule=\"evenodd\" fill-opacity=\"1\" stroke=\"#000000\" stroke-opacity=\"1\" stroke-width=\"3.2\"/>\n",
       "<circle clip-path=\"url(#clip972)\" cx=\"616.957\" cy=\"1188.52\" r=\"9\" fill=\"#170b3b\" fill-rule=\"evenodd\" fill-opacity=\"1\" stroke=\"#000000\" stroke-opacity=\"1\" stroke-width=\"3.2\"/>\n",
       "<circle clip-path=\"url(#clip972)\" cx=\"1337.82\" cy=\"164.601\" r=\"41\" fill=\"#e55c2f\" fill-rule=\"evenodd\" fill-opacity=\"1\" stroke=\"#000000\" stroke-opacity=\"1\" stroke-width=\"3.2\"/>\n",
       "<circle clip-path=\"url(#clip972)\" cx=\"256.524\" cy=\"85.838\" r=\"5\" fill=\"#030313\" fill-rule=\"evenodd\" fill-opacity=\"1\" stroke=\"#000000\" stroke-opacity=\"1\" stroke-width=\"3.2\"/>\n",
       "<circle clip-path=\"url(#clip972)\" cx=\"256.524\" cy=\"505.908\" r=\"6\" fill=\"#08051f\" fill-rule=\"evenodd\" fill-opacity=\"1\" stroke=\"#000000\" stroke-opacity=\"1\" stroke-width=\"3.2\"/>\n",
       "<circle clip-path=\"url(#clip972)\" cx=\"1337.82\" cy=\"610.926\" r=\"35\" fill=\"#c73e4b\" fill-rule=\"evenodd\" fill-opacity=\"1\" stroke=\"#000000\" stroke-opacity=\"1\" stroke-width=\"3.2\"/>\n",
       "<circle clip-path=\"url(#clip972)\" cx=\"737.102\" cy=\"348.382\" r=\"11\" fill=\"#220b4c\" fill-rule=\"evenodd\" fill-opacity=\"1\" stroke=\"#000000\" stroke-opacity=\"1\" stroke-width=\"3.2\"/>\n",
       "<circle clip-path=\"url(#clip972)\" cx=\"1698.26\" cy=\"427.145\" r=\"44\" fill=\"#f2751b\" fill-rule=\"evenodd\" fill-opacity=\"1\" stroke=\"#000000\" stroke-opacity=\"1\" stroke-width=\"3.2\"/>\n",
       "<circle clip-path=\"url(#clip972)\" cx=\"1337.82\" cy=\"348.382\" r=\"39\" fill=\"#dd5138\" fill-rule=\"evenodd\" fill-opacity=\"1\" stroke=\"#000000\" stroke-opacity=\"1\" stroke-width=\"3.2\"/>\n",
       "<circle clip-path=\"url(#clip972)\" cx=\"1457.97\" cy=\"1031\" r=\"27\" fill=\"#932567\" fill-rule=\"evenodd\" fill-opacity=\"1\" stroke=\"#000000\" stroke-opacity=\"1\" stroke-width=\"3.2\"/>\n",
       "<circle clip-path=\"url(#clip972)\" cx=\"616.957\" cy=\"348.382\" r=\"7\" fill=\"#0d0828\" fill-rule=\"evenodd\" fill-opacity=\"1\" stroke=\"#000000\" stroke-opacity=\"1\" stroke-width=\"3.2\"/>\n",
       "<circle clip-path=\"url(#clip972)\" cx=\"977.391\" cy=\"1188.52\" r=\"3\" fill=\"#000003\" fill-rule=\"evenodd\" fill-opacity=\"1\" stroke=\"#000000\" stroke-opacity=\"1\" stroke-width=\"3.2\"/>\n",
       "<circle clip-path=\"url(#clip972)\" cx=\"857.246\" cy=\"85.838\" r=\"21\" fill=\"#66156e\" fill-rule=\"evenodd\" fill-opacity=\"1\" stroke=\"#000000\" stroke-opacity=\"1\" stroke-width=\"3.2\"/>\n",
       "<circle clip-path=\"url(#clip972)\" cx=\"1217.68\" cy=\"689.689\" r=\"28\" fill=\"#992864\" fill-rule=\"evenodd\" fill-opacity=\"1\" stroke=\"#000000\" stroke-opacity=\"1\" stroke-width=\"3.2\"/>\n",
       "<circle clip-path=\"url(#clip972)\" cx=\"376.668\" cy=\"1372.3\" r=\"17\" fill=\"#4d0c6b\" fill-rule=\"evenodd\" fill-opacity=\"1\" stroke=\"#000000\" stroke-opacity=\"1\" stroke-width=\"3.2\"/>\n",
       "<circle clip-path=\"url(#clip972)\" cx=\"256.524\" cy=\"689.689\" r=\"8\" fill=\"#0e082b\" fill-rule=\"evenodd\" fill-opacity=\"1\" stroke=\"#000000\" stroke-opacity=\"1\" stroke-width=\"3.2\"/>\n",
       "<circle clip-path=\"url(#clip972)\" cx=\"737.102\" cy=\"847.215\" r=\"5\" fill=\"#030312\" fill-rule=\"evenodd\" fill-opacity=\"1\" stroke=\"#000000\" stroke-opacity=\"1\" stroke-width=\"3.2\"/>\n",
       "<circle clip-path=\"url(#clip972)\" cx=\"2058.69\" cy=\"427.145\" r=\"56\" fill=\"#f4dc4e\" fill-rule=\"evenodd\" fill-opacity=\"1\" stroke=\"#000000\" stroke-opacity=\"1\" stroke-width=\"3.2\"/>\n",
       "<circle clip-path=\"url(#clip972)\" cx=\"737.102\" cy=\"768.452\" r=\"6\" fill=\"#050418\" fill-rule=\"evenodd\" fill-opacity=\"1\" stroke=\"#000000\" stroke-opacity=\"1\" stroke-width=\"3.2\"/>\n",
       "<circle clip-path=\"url(#clip972)\" cx=\"616.957\" cy=\"164.601\" r=\"9\" fill=\"#140b36\" fill-rule=\"evenodd\" fill-opacity=\"1\" stroke=\"#000000\" stroke-opacity=\"1\" stroke-width=\"3.2\"/>\n",
       "<circle clip-path=\"url(#clip972)\" cx=\"2058.69\" cy=\"348.382\" r=\"60\" fill=\"#f5f891\" fill-rule=\"evenodd\" fill-opacity=\"1\" stroke=\"#000000\" stroke-opacity=\"1\" stroke-width=\"3.2\"/>\n",
       "<circle clip-path=\"url(#clip972)\" cx=\"1097.54\" cy=\"505.908\" r=\"26\" fill=\"#8b2369\" fill-rule=\"evenodd\" fill-opacity=\"1\" stroke=\"#000000\" stroke-opacity=\"1\" stroke-width=\"3.2\"/>\n",
       "<circle clip-path=\"url(#clip972)\" cx=\"1938.55\" cy=\"847.215\" r=\"33\" fill=\"#bb3754\" fill-rule=\"evenodd\" fill-opacity=\"1\" stroke=\"#000000\" stroke-opacity=\"1\" stroke-width=\"3.2\"/>\n",
       "<circle clip-path=\"url(#clip972)\" cx=\"376.668\" cy=\"952.233\" r=\"8\" fill=\"#120a31\" fill-rule=\"evenodd\" fill-opacity=\"1\" stroke=\"#000000\" stroke-opacity=\"1\" stroke-width=\"3.2\"/>\n",
       "<circle clip-path=\"url(#clip972)\" cx=\"2058.69\" cy=\"1031\" r=\"50\" fill=\"#fba60b\" fill-rule=\"evenodd\" fill-opacity=\"1\" stroke=\"#000000\" stroke-opacity=\"1\" stroke-width=\"3.2\"/>\n",
       "<circle clip-path=\"url(#clip972)\" cx=\"1097.54\" cy=\"269.619\" r=\"30\" fill=\"#a92e5e\" fill-rule=\"evenodd\" fill-opacity=\"1\" stroke=\"#000000\" stroke-opacity=\"1\" stroke-width=\"3.2\"/>\n",
       "<circle clip-path=\"url(#clip972)\" cx=\"1698.26\" cy=\"610.926\" r=\"42\" fill=\"#ed6825\" fill-rule=\"evenodd\" fill-opacity=\"1\" stroke=\"#000000\" stroke-opacity=\"1\" stroke-width=\"3.2\"/>\n",
       "<circle clip-path=\"url(#clip972)\" cx=\"737.102\" cy=\"1293.54\" r=\"11\" fill=\"#240b4e\" fill-rule=\"evenodd\" fill-opacity=\"1\" stroke=\"#000000\" stroke-opacity=\"1\" stroke-width=\"3.2\"/>\n",
       "<circle clip-path=\"url(#clip972)\" cx=\"496.813\" cy=\"505.908\" r=\"5\" fill=\"#030210\" fill-rule=\"evenodd\" fill-opacity=\"1\" stroke=\"#000000\" stroke-opacity=\"1\" stroke-width=\"3.2\"/>\n",
       "<circle clip-path=\"url(#clip972)\" cx=\"1818.4\" cy=\"427.145\" r=\"43\" fill=\"#f06f1f\" fill-rule=\"evenodd\" fill-opacity=\"1\" stroke=\"#000000\" stroke-opacity=\"1\" stroke-width=\"3.2\"/>\n",
       "<circle clip-path=\"url(#clip972)\" cx=\"256.524\" cy=\"1293.54\" r=\"15\" fill=\"#400966\" fill-rule=\"evenodd\" fill-opacity=\"1\" stroke=\"#000000\" stroke-opacity=\"1\" stroke-width=\"3.2\"/>\n",
       "<circle clip-path=\"url(#clip972)\" cx=\"1938.55\" cy=\"689.689\" r=\"35\" fill=\"#c63d4d\" fill-rule=\"evenodd\" fill-opacity=\"1\" stroke=\"#000000\" stroke-opacity=\"1\" stroke-width=\"3.2\"/>\n",
       "<circle clip-path=\"url(#clip972)\" cx=\"496.813\" cy=\"427.145\" r=\"5\" fill=\"#030313\" fill-rule=\"evenodd\" fill-opacity=\"1\" stroke=\"#000000\" stroke-opacity=\"1\" stroke-width=\"3.2\"/>\n",
       "<circle clip-path=\"url(#clip972)\" cx=\"256.524\" cy=\"1372.3\" r=\"17\" fill=\"#4d0c6b\" fill-rule=\"evenodd\" fill-opacity=\"1\" stroke=\"#000000\" stroke-opacity=\"1\" stroke-width=\"3.2\"/>\n",
       "<circle clip-path=\"url(#clip972)\" cx=\"496.813\" cy=\"689.689\" r=\"5\" fill=\"#02020f\" fill-rule=\"evenodd\" fill-opacity=\"1\" stroke=\"#000000\" stroke-opacity=\"1\" stroke-width=\"3.2\"/>\n",
       "<circle clip-path=\"url(#clip972)\" cx=\"737.102\" cy=\"1031\" r=\"5\" fill=\"#02020e\" fill-rule=\"evenodd\" fill-opacity=\"1\" stroke=\"#000000\" stroke-opacity=\"1\" stroke-width=\"3.2\"/>\n",
       "<circle clip-path=\"url(#clip972)\" cx=\"737.102\" cy=\"269.619\" r=\"12\" fill=\"#2a0a55\" fill-rule=\"evenodd\" fill-opacity=\"1\" stroke=\"#000000\" stroke-opacity=\"1\" stroke-width=\"3.2\"/>\n",
       "<circle clip-path=\"url(#clip972)\" cx=\"376.668\" cy=\"689.689\" r=\"6\" fill=\"#06051b\" fill-rule=\"evenodd\" fill-opacity=\"1\" stroke=\"#000000\" stroke-opacity=\"1\" stroke-width=\"3.2\"/>\n",
       "<circle clip-path=\"url(#clip972)\" cx=\"256.524\" cy=\"269.619\" r=\"6\" fill=\"#050418\" fill-rule=\"evenodd\" fill-opacity=\"1\" stroke=\"#000000\" stroke-opacity=\"1\" stroke-width=\"3.2\"/>\n",
       "<circle clip-path=\"url(#clip972)\" cx=\"1097.54\" cy=\"164.601\" r=\"32\" fill=\"#b43358\" fill-rule=\"evenodd\" fill-opacity=\"1\" stroke=\"#000000\" stroke-opacity=\"1\" stroke-width=\"3.2\"/>\n",
       "<circle clip-path=\"url(#clip972)\" cx=\"2058.69\" cy=\"1109.76\" r=\"36\" fill=\"#cc4248\" fill-rule=\"evenodd\" fill-opacity=\"1\" stroke=\"#000000\" stroke-opacity=\"1\" stroke-width=\"3.2\"/>\n",
       "<circle clip-path=\"url(#clip972)\" cx=\"1938.55\" cy=\"85.838\" r=\"39\" fill=\"#e05435\" fill-rule=\"evenodd\" fill-opacity=\"1\" stroke=\"#000000\" stroke-opacity=\"1\" stroke-width=\"3.2\"/>\n",
       "<circle clip-path=\"url(#clip972)\" cx=\"1938.55\" cy=\"1109.76\" r=\"27\" fill=\"#922567\" fill-rule=\"evenodd\" fill-opacity=\"1\" stroke=\"#000000\" stroke-opacity=\"1\" stroke-width=\"3.2\"/>\n",
       "<circle clip-path=\"url(#clip972)\" cx=\"1217.68\" cy=\"952.233\" r=\"19\" fill=\"#5b116e\" fill-rule=\"evenodd\" fill-opacity=\"1\" stroke=\"#000000\" stroke-opacity=\"1\" stroke-width=\"3.2\"/>\n",
       "<circle clip-path=\"url(#clip972)\" cx=\"1457.97\" cy=\"768.452\" r=\"36\" fill=\"#cd4247\" fill-rule=\"evenodd\" fill-opacity=\"1\" stroke=\"#000000\" stroke-opacity=\"1\" stroke-width=\"3.2\"/>\n",
       "<circle clip-path=\"url(#clip972)\" cx=\"1457.97\" cy=\"1109.76\" r=\"23\" fill=\"#771b6d\" fill-rule=\"evenodd\" fill-opacity=\"1\" stroke=\"#000000\" stroke-opacity=\"1\" stroke-width=\"3.2\"/>\n",
       "<circle clip-path=\"url(#clip972)\" cx=\"1818.4\" cy=\"164.601\" r=\"45\" fill=\"#f47c15\" fill-rule=\"evenodd\" fill-opacity=\"1\" stroke=\"#000000\" stroke-opacity=\"1\" stroke-width=\"3.2\"/>\n",
       "<circle clip-path=\"url(#clip972)\" cx=\"496.813\" cy=\"269.619\" r=\"5\" fill=\"#040315\" fill-rule=\"evenodd\" fill-opacity=\"1\" stroke=\"#000000\" stroke-opacity=\"1\" stroke-width=\"3.2\"/>\n",
       "<circle clip-path=\"url(#clip972)\" cx=\"1938.55\" cy=\"1188.52\" r=\"25\" fill=\"#811f6b\" fill-rule=\"evenodd\" fill-opacity=\"1\" stroke=\"#000000\" stroke-opacity=\"1\" stroke-width=\"3.2\"/>\n",
       "<circle clip-path=\"url(#clip972)\" cx=\"1698.26\" cy=\"768.452\" r=\"40\" fill=\"#e55b30\" fill-rule=\"evenodd\" fill-opacity=\"1\" stroke=\"#000000\" stroke-opacity=\"1\" stroke-width=\"3.2\"/>\n",
       "<circle clip-path=\"url(#clip972)\" cx=\"616.957\" cy=\"610.926\" r=\"5\" fill=\"#040314\" fill-rule=\"evenodd\" fill-opacity=\"1\" stroke=\"#000000\" stroke-opacity=\"1\" stroke-width=\"3.2\"/>\n",
       "<circle clip-path=\"url(#clip972)\" cx=\"1217.68\" cy=\"1109.76\" r=\"11\" fill=\"#250b50\" fill-rule=\"evenodd\" fill-opacity=\"1\" stroke=\"#000000\" stroke-opacity=\"1\" stroke-width=\"3.2\"/>\n",
       "<circle clip-path=\"url(#clip972)\" cx=\"2058.69\" cy=\"505.908\" r=\"59\" fill=\"#f1f27f\" fill-rule=\"evenodd\" fill-opacity=\"1\" stroke=\"#000000\" stroke-opacity=\"1\" stroke-width=\"3.2\"/>\n",
       "<circle clip-path=\"url(#clip972)\" cx=\"2058.69\" cy=\"952.233\" r=\"46\" fill=\"#f68111\" fill-rule=\"evenodd\" fill-opacity=\"1\" stroke=\"#000000\" stroke-opacity=\"1\" stroke-width=\"3.2\"/>\n",
       "<circle clip-path=\"url(#clip972)\" cx=\"1818.4\" cy=\"348.382\" r=\"44\" fill=\"#f1731c\" fill-rule=\"evenodd\" fill-opacity=\"1\" stroke=\"#000000\" stroke-opacity=\"1\" stroke-width=\"3.2\"/>\n",
       "<circle clip-path=\"url(#clip972)\" cx=\"1578.11\" cy=\"348.382\" r=\"44\" fill=\"#f1731c\" fill-rule=\"evenodd\" fill-opacity=\"1\" stroke=\"#000000\" stroke-opacity=\"1\" stroke-width=\"3.2\"/>\n",
       "<circle clip-path=\"url(#clip972)\" cx=\"376.668\" cy=\"768.452\" r=\"7\" fill=\"#0a0622\" fill-rule=\"evenodd\" fill-opacity=\"1\" stroke=\"#000000\" stroke-opacity=\"1\" stroke-width=\"3.2\"/>\n",
       "<circle clip-path=\"url(#clip972)\" cx=\"1217.68\" cy=\"1031\" r=\"15\" fill=\"#430a68\" fill-rule=\"evenodd\" fill-opacity=\"1\" stroke=\"#000000\" stroke-opacity=\"1\" stroke-width=\"3.2\"/>\n",
       "<circle clip-path=\"url(#clip972)\" cx=\"1818.4\" cy=\"1372.3\" r=\"17\" fill=\"#4d0c6b\" fill-rule=\"evenodd\" fill-opacity=\"1\" stroke=\"#000000\" stroke-opacity=\"1\" stroke-width=\"3.2\"/>\n",
       "<circle clip-path=\"url(#clip972)\" cx=\"2058.69\" cy=\"164.601\" r=\"58\" fill=\"#f1ec6f\" fill-rule=\"evenodd\" fill-opacity=\"1\" stroke=\"#000000\" stroke-opacity=\"1\" stroke-width=\"3.2\"/>\n",
       "<circle clip-path=\"url(#clip972)\" cx=\"616.957\" cy=\"1031\" r=\"6\" fill=\"#050419\" fill-rule=\"evenodd\" fill-opacity=\"1\" stroke=\"#000000\" stroke-opacity=\"1\" stroke-width=\"3.2\"/>\n",
       "<circle clip-path=\"url(#clip972)\" cx=\"1097.54\" cy=\"610.926\" r=\"24\" fill=\"#7b1d6c\" fill-rule=\"evenodd\" fill-opacity=\"1\" stroke=\"#000000\" stroke-opacity=\"1\" stroke-width=\"3.2\"/>\n",
       "<circle clip-path=\"url(#clip972)\" cx=\"1938.55\" cy=\"1293.54\" r=\"18\" fill=\"#550f6d\" fill-rule=\"evenodd\" fill-opacity=\"1\" stroke=\"#000000\" stroke-opacity=\"1\" stroke-width=\"3.2\"/>\n",
       "<circle clip-path=\"url(#clip972)\" cx=\"1938.55\" cy=\"610.926\" r=\"35\" fill=\"#cb4049\" fill-rule=\"evenodd\" fill-opacity=\"1\" stroke=\"#000000\" stroke-opacity=\"1\" stroke-width=\"3.2\"/>\n",
       "<circle clip-path=\"url(#clip972)\" cx=\"857.246\" cy=\"610.926\" r=\"12\" fill=\"#280b53\" fill-rule=\"evenodd\" fill-opacity=\"1\" stroke=\"#000000\" stroke-opacity=\"1\" stroke-width=\"3.2\"/>\n",
       "<circle clip-path=\"url(#clip972)\" cx=\"2058.69\" cy=\"847.215\" r=\"49\" fill=\"#fb9f07\" fill-rule=\"evenodd\" fill-opacity=\"1\" stroke=\"#000000\" stroke-opacity=\"1\" stroke-width=\"3.2\"/>\n",
       "<circle clip-path=\"url(#clip972)\" cx=\"2058.69\" cy=\"768.452\" r=\"56\" fill=\"#f4dd50\" fill-rule=\"evenodd\" fill-opacity=\"1\" stroke=\"#000000\" stroke-opacity=\"1\" stroke-width=\"3.2\"/>\n",
       "<circle clip-path=\"url(#clip972)\" cx=\"1097.54\" cy=\"768.452\" r=\"19\" fill=\"#5d126e\" fill-rule=\"evenodd\" fill-opacity=\"1\" stroke=\"#000000\" stroke-opacity=\"1\" stroke-width=\"3.2\"/>\n",
       "<circle clip-path=\"url(#clip972)\" cx=\"857.246\" cy=\"1031\" r=\"5\" fill=\"#030211\" fill-rule=\"evenodd\" fill-opacity=\"1\" stroke=\"#000000\" stroke-opacity=\"1\" stroke-width=\"3.2\"/>\n",
       "<circle clip-path=\"url(#clip972)\" cx=\"857.246\" cy=\"1109.76\" r=\"5\" fill=\"#030212\" fill-rule=\"evenodd\" fill-opacity=\"1\" stroke=\"#000000\" stroke-opacity=\"1\" stroke-width=\"3.2\"/>\n",
       "<circle clip-path=\"url(#clip972)\" cx=\"1578.11\" cy=\"1372.3\" r=\"17\" fill=\"#4d0c6b\" fill-rule=\"evenodd\" fill-opacity=\"1\" stroke=\"#000000\" stroke-opacity=\"1\" stroke-width=\"3.2\"/>\n",
       "<circle clip-path=\"url(#clip972)\" cx=\"376.668\" cy=\"505.908\" r=\"5\" fill=\"#030313\" fill-rule=\"evenodd\" fill-opacity=\"1\" stroke=\"#000000\" stroke-opacity=\"1\" stroke-width=\"3.2\"/>\n",
       "<circle clip-path=\"url(#clip972)\" cx=\"977.391\" cy=\"164.601\" r=\"26\" fill=\"#8a2269\" fill-rule=\"evenodd\" fill-opacity=\"1\" stroke=\"#000000\" stroke-opacity=\"1\" stroke-width=\"3.2\"/>\n",
       "<circle clip-path=\"url(#clip972)\" cx=\"857.246\" cy=\"952.233\" r=\"6\" fill=\"#050418\" fill-rule=\"evenodd\" fill-opacity=\"1\" stroke=\"#000000\" stroke-opacity=\"1\" stroke-width=\"3.2\"/>\n",
       "<circle clip-path=\"url(#clip972)\" cx=\"1698.26\" cy=\"689.689\" r=\"41\" fill=\"#e9622a\" fill-rule=\"evenodd\" fill-opacity=\"1\" stroke=\"#000000\" stroke-opacity=\"1\" stroke-width=\"3.2\"/>\n",
       "<circle clip-path=\"url(#clip972)\" cx=\"977.391\" cy=\"1293.54\" r=\"6\" fill=\"#06041a\" fill-rule=\"evenodd\" fill-opacity=\"1\" stroke=\"#000000\" stroke-opacity=\"1\" stroke-width=\"3.2\"/>\n",
       "<circle clip-path=\"url(#clip972)\" cx=\"1818.4\" cy=\"952.233\" r=\"37\" fill=\"#d34742\" fill-rule=\"evenodd\" fill-opacity=\"1\" stroke=\"#000000\" stroke-opacity=\"1\" stroke-width=\"3.2\"/>\n",
       "<circle clip-path=\"url(#clip972)\" cx=\"1578.11\" cy=\"1188.52\" r=\"21\" fill=\"#6c176e\" fill-rule=\"evenodd\" fill-opacity=\"1\" stroke=\"#000000\" stroke-opacity=\"1\" stroke-width=\"3.2\"/>\n",
       "<circle clip-path=\"url(#clip972)\" cx=\"376.668\" cy=\"1031\" r=\"9\" fill=\"#170b3b\" fill-rule=\"evenodd\" fill-opacity=\"1\" stroke=\"#000000\" stroke-opacity=\"1\" stroke-width=\"3.2\"/>\n",
       "<circle clip-path=\"url(#clip972)\" cx=\"1457.97\" cy=\"689.689\" r=\"37\" fill=\"#d64a3f\" fill-rule=\"evenodd\" fill-opacity=\"1\" stroke=\"#000000\" stroke-opacity=\"1\" stroke-width=\"3.2\"/>\n",
       "<circle clip-path=\"url(#clip972)\" cx=\"1938.55\" cy=\"348.382\" r=\"38\" fill=\"#d74b3e\" fill-rule=\"evenodd\" fill-opacity=\"1\" stroke=\"#000000\" stroke-opacity=\"1\" stroke-width=\"3.2\"/>\n",
       "<circle clip-path=\"url(#clip972)\" cx=\"616.957\" cy=\"427.145\" r=\"6\" fill=\"#08061f\" fill-rule=\"evenodd\" fill-opacity=\"1\" stroke=\"#000000\" stroke-opacity=\"1\" stroke-width=\"3.2\"/>\n",
       "<circle clip-path=\"url(#clip972)\" cx=\"1698.26\" cy=\"164.601\" r=\"46\" fill=\"#f68210\" fill-rule=\"evenodd\" fill-opacity=\"1\" stroke=\"#000000\" stroke-opacity=\"1\" stroke-width=\"3.2\"/>\n",
       "<circle clip-path=\"url(#clip972)\" cx=\"1457.97\" cy=\"85.838\" r=\"44\" fill=\"#f1731c\" fill-rule=\"evenodd\" fill-opacity=\"1\" stroke=\"#000000\" stroke-opacity=\"1\" stroke-width=\"3.2\"/>\n",
       "<circle clip-path=\"url(#clip972)\" cx=\"496.813\" cy=\"1293.54\" r=\"15\" fill=\"#400966\" fill-rule=\"evenodd\" fill-opacity=\"1\" stroke=\"#000000\" stroke-opacity=\"1\" stroke-width=\"3.2\"/>\n",
       "<circle clip-path=\"url(#clip972)\" cx=\"1578.11\" cy=\"610.926\" r=\"41\" fill=\"#e8602c\" fill-rule=\"evenodd\" fill-opacity=\"1\" stroke=\"#000000\" stroke-opacity=\"1\" stroke-width=\"3.2\"/>\n",
       "<circle clip-path=\"url(#clip972)\" cx=\"737.102\" cy=\"1188.52\" r=\"7\" fill=\"#0b0725\" fill-rule=\"evenodd\" fill-opacity=\"1\" stroke=\"#000000\" stroke-opacity=\"1\" stroke-width=\"3.2\"/>\n",
       "<circle clip-path=\"url(#clip972)\" cx=\"2058.69\" cy=\"1188.52\" r=\"40\" fill=\"#e25832\" fill-rule=\"evenodd\" fill-opacity=\"1\" stroke=\"#000000\" stroke-opacity=\"1\" stroke-width=\"3.2\"/>\n",
       "<circle clip-path=\"url(#clip972)\" cx=\"496.813\" cy=\"164.601\" r=\"6\" fill=\"#06041a\" fill-rule=\"evenodd\" fill-opacity=\"1\" stroke=\"#000000\" stroke-opacity=\"1\" stroke-width=\"3.2\"/>\n",
       "<circle clip-path=\"url(#clip972)\" cx=\"616.957\" cy=\"689.689\" r=\"5\" fill=\"#030210\" fill-rule=\"evenodd\" fill-opacity=\"1\" stroke=\"#000000\" stroke-opacity=\"1\" stroke-width=\"3.2\"/>\n",
       "<circle clip-path=\"url(#clip972)\" cx=\"1938.55\" cy=\"269.619\" r=\"38\" fill=\"#da4f3b\" fill-rule=\"evenodd\" fill-opacity=\"1\" stroke=\"#000000\" stroke-opacity=\"1\" stroke-width=\"3.2\"/>\n",
       "<circle clip-path=\"url(#clip972)\" cx=\"737.102\" cy=\"952.233\" r=\"5\" fill=\"#030211\" fill-rule=\"evenodd\" fill-opacity=\"1\" stroke=\"#000000\" stroke-opacity=\"1\" stroke-width=\"3.2\"/>\n",
       "<circle clip-path=\"url(#clip972)\" cx=\"1337.82\" cy=\"689.689\" r=\"33\" fill=\"#bd3753\" fill-rule=\"evenodd\" fill-opacity=\"1\" stroke=\"#000000\" stroke-opacity=\"1\" stroke-width=\"3.2\"/>\n",
       "<circle clip-path=\"url(#clip972)\" cx=\"616.957\" cy=\"1293.54\" r=\"14\" fill=\"#3a0963\" fill-rule=\"evenodd\" fill-opacity=\"1\" stroke=\"#000000\" stroke-opacity=\"1\" stroke-width=\"3.2\"/>\n",
       "<circle clip-path=\"url(#clip972)\" cx=\"1337.82\" cy=\"768.452\" r=\"31\" fill=\"#b0315a\" fill-rule=\"evenodd\" fill-opacity=\"1\" stroke=\"#000000\" stroke-opacity=\"1\" stroke-width=\"3.2\"/>\n",
       "<circle clip-path=\"url(#clip972)\" cx=\"2058.69\" cy=\"610.926\" r=\"58\" fill=\"#f1ec6f\" fill-rule=\"evenodd\" fill-opacity=\"1\" stroke=\"#000000\" stroke-opacity=\"1\" stroke-width=\"3.2\"/>\n",
       "<circle clip-path=\"url(#clip972)\" cx=\"2058.69\" cy=\"689.689\" r=\"53\" fill=\"#fabe23\" fill-rule=\"evenodd\" fill-opacity=\"1\" stroke=\"#000000\" stroke-opacity=\"1\" stroke-width=\"3.2\"/>\n",
       "<circle clip-path=\"url(#clip972)\" cx=\"1938.55\" cy=\"1372.3\" r=\"17\" fill=\"#4d0c6b\" fill-rule=\"evenodd\" fill-opacity=\"1\" stroke=\"#000000\" stroke-opacity=\"1\" stroke-width=\"3.2\"/>\n",
       "<circle clip-path=\"url(#clip972)\" cx=\"496.813\" cy=\"1188.52\" r=\"12\" fill=\"#260b52\" fill-rule=\"evenodd\" fill-opacity=\"1\" stroke=\"#000000\" stroke-opacity=\"1\" stroke-width=\"3.2\"/>\n",
       "<circle clip-path=\"url(#clip972)\" cx=\"1698.26\" cy=\"1109.76\" r=\"31\" fill=\"#ac2f5c\" fill-rule=\"evenodd\" fill-opacity=\"1\" stroke=\"#000000\" stroke-opacity=\"1\" stroke-width=\"3.2\"/>\n",
       "<circle clip-path=\"url(#clip972)\" cx=\"1578.11\" cy=\"1031\" r=\"32\" fill=\"#b63457\" fill-rule=\"evenodd\" fill-opacity=\"1\" stroke=\"#000000\" stroke-opacity=\"1\" stroke-width=\"3.2\"/>\n",
       "<circle clip-path=\"url(#clip972)\" cx=\"1217.68\" cy=\"768.452\" r=\"26\" fill=\"#8a2269\" fill-rule=\"evenodd\" fill-opacity=\"1\" stroke=\"#000000\" stroke-opacity=\"1\" stroke-width=\"3.2\"/>\n",
       "<circle clip-path=\"url(#clip972)\" cx=\"1698.26\" cy=\"1293.54\" r=\"13\" fill=\"#31095c\" fill-rule=\"evenodd\" fill-opacity=\"1\" stroke=\"#000000\" stroke-opacity=\"1\" stroke-width=\"3.2\"/>\n",
       "<circle clip-path=\"url(#clip972)\" cx=\"1097.54\" cy=\"689.689\" r=\"22\" fill=\"#6e186e\" fill-rule=\"evenodd\" fill-opacity=\"1\" stroke=\"#000000\" stroke-opacity=\"1\" stroke-width=\"3.2\"/>\n",
       "<circle clip-path=\"url(#clip972)\" cx=\"2058.69\" cy=\"269.619\" r=\"57\" fill=\"#f2e762\" fill-rule=\"evenodd\" fill-opacity=\"1\" stroke=\"#000000\" stroke-opacity=\"1\" stroke-width=\"3.2\"/>\n",
       "<circle clip-path=\"url(#clip972)\" cx=\"616.957\" cy=\"269.619\" r=\"8\" fill=\"#0f092d\" fill-rule=\"evenodd\" fill-opacity=\"1\" stroke=\"#000000\" stroke-opacity=\"1\" stroke-width=\"3.2\"/>\n",
       "<circle clip-path=\"url(#clip972)\" cx=\"857.246\" cy=\"164.601\" r=\"19\" fill=\"#5e126e\" fill-rule=\"evenodd\" fill-opacity=\"1\" stroke=\"#000000\" stroke-opacity=\"1\" stroke-width=\"3.2\"/>\n",
       "<circle clip-path=\"url(#clip972)\" cx=\"376.668\" cy=\"1109.76\" r=\"12\" fill=\"#2a0b55\" fill-rule=\"evenodd\" fill-opacity=\"1\" stroke=\"#000000\" stroke-opacity=\"1\" stroke-width=\"3.2\"/>\n",
       "<circle clip-path=\"url(#clip972)\" cx=\"1217.68\" cy=\"610.926\" r=\"30\" fill=\"#a62d5f\" fill-rule=\"evenodd\" fill-opacity=\"1\" stroke=\"#000000\" stroke-opacity=\"1\" stroke-width=\"3.2\"/>\n",
       "<circle clip-path=\"url(#clip972)\" cx=\"376.668\" cy=\"1188.52\" r=\"13\" fill=\"#31095c\" fill-rule=\"evenodd\" fill-opacity=\"1\" stroke=\"#000000\" stroke-opacity=\"1\" stroke-width=\"3.2\"/>\n",
       "<circle clip-path=\"url(#clip972)\" cx=\"1698.26\" cy=\"269.619\" r=\"45\" fill=\"#f57d14\" fill-rule=\"evenodd\" fill-opacity=\"1\" stroke=\"#000000\" stroke-opacity=\"1\" stroke-width=\"3.2\"/>\n",
       "<circle clip-path=\"url(#clip972)\" cx=\"376.668\" cy=\"269.619\" r=\"5\" fill=\"#030210\" fill-rule=\"evenodd\" fill-opacity=\"1\" stroke=\"#000000\" stroke-opacity=\"1\" stroke-width=\"3.2\"/>\n",
       "<circle clip-path=\"url(#clip972)\" cx=\"977.391\" cy=\"847.215\" r=\"11\" fill=\"#220b4c\" fill-rule=\"evenodd\" fill-opacity=\"1\" stroke=\"#000000\" stroke-opacity=\"1\" stroke-width=\"3.2\"/>\n",
       "<circle clip-path=\"url(#clip972)\" cx=\"1938.55\" cy=\"164.601\" r=\"39\" fill=\"#dd5238\" fill-rule=\"evenodd\" fill-opacity=\"1\" stroke=\"#000000\" stroke-opacity=\"1\" stroke-width=\"3.2\"/>\n",
       "<defs>\n",
       "  <clipPath id=\"clip973\">\n",
       "    <rect x=\"2160\" y=\"47\" width=\"73\" height=\"1365\"/>\n",
       "  </clipPath>\n",
       "</defs>\n",
       "<g clip-path=\"url(#clip973)\">\n",
       "<image width=\"72\" height=\"1364\" xlink:href=\"data:image/png;base64,\n",
       "iVBORw0KGgoAAAANSUhEUgAAAEgAAAVUCAYAAABzwV4AAAAL0klEQVR4nO3dwY3sRhAFQY5Q/lsh\n",
       "L6XfLQtUeSQPERYsEg+zZJM7+/v3/H0f/tdfb/8AXydQECgIFAQKc+6/b/8Mn2ZBQaAgUBAozL1/\n",
       "3v4ZPs2CgkBBoCBQcCUdLCgIFAQKAgWBwly/xVYWFAQKAgWBwtzjQ3pjQUGgIFAQKLiSDhYUBAoC\n",
       "BYGCQMFvsWBBQaAgUBAoOA8KFhQECgIFgcI8rqRXFhQECgIFgYJAwXlQsKAgUBAoCBTmcR60sqAg\n",
       "UBAoCBTmOf+8/TN8mgUFgYJAQaAgUPBUI1hQECgIFAQKzoOCBQWBgkBBoOBDOlhQECgIFAQKAgXn\n",
       "QcGCgkBBoCBQmJ9bjZUFBYGCQEGgMM/xpf8bCwoCBYGCQEGg4FYjWFAQKAgUBApuNYIFBYGCQEGg\n",
       "4P2gYEFBoCBQECgIFObnVmNlQUGgIFAQKHiJM1hQECgIFAQKrqSDBQWBgkBBoCBQ8Og5WFAQKAgU\n",
       "BApuNYIFBYGCQEGg4Eo6WFAQKAgUBAoCBbcawYKCQEGgIFCY55y3f4ZPs6AgUBAoCBRcSQcLCgIF\n",
       "gYJAQaDgqUawoCBQECgIFHxIBwsKAgWBgkBhfg7tVxYUBAoCBYGCQMGtRrCgIFAQKAgUvB8ULCgI\n",
       "FAQKAgXnQcGCgkBBoCBQECg4DwoWFAQKAgWBgvOgYEFBoCBQECj4kA4WFAQKAgWBgkDBXz0HCwoC\n",
       "BYGCQMGtRrCgIFAQKAgUfEgHCwoCBYGCQEGg4LdYsKAgUBAoCBR8SAcLCgIFgYJAYZ7rQ3pjQUGg\n",
       "IFAQKAgU3GoECwoCBYGCQMGHdLCgIFAQKAgUfEgHCwoCBYGCQEGgMM+5b/8Mn2ZBQaAgUBAouNUI\n",
       "FhQECgIFgYIr6WBBQaAgUBAoCBTcagQLCgIFgYJAwa1GsKAgUBAoCBTmcSG9sqAgUBAoCBQECvNc\n",
       "txobCwoCBYGCQMGtRrCgIFAQKAgUfEgHCwoCBYGCQEGgML4Eb2dBQaAgUBAouNUIFhQECgIFgYIP\n",
       "6WBBQaAgUBAoCBTmOb+3f4ZPs6AgUBAoCBTmXh/SGwsKAgWBgkDBeVCwoCBQECgIFBx3BAsKAgWB\n",
       "gkBBoDD3aLRRJwgUBAoCBbcawYKCQEGgIFCYx5PVlQUFgYJAQaAgUJjrVmNlQUGgIFAQKMzj0H6l\n",
       "ThAoCBQECq6kgwUFgYJAQaAgUPBUI1hQECgIFAQKXuIM6gSBgkBBoOAlzmBBQaAgUBAoCBQ81QgW\n",
       "FAQKAgWBwtyr0UadIFAQKAgUnAcFCwoCBYGCQEGg4DwoWFAQKAgUBArzOA9aqRMECgIFgYIr6WBB\n",
       "QaAgUBAoCBT8FgsWFAQKAgWBgj/qDRYUBAoCBYGCP+oN6gSBgkBBoCBQ8P/mgwUFgYJAQaDg0D5Y\n",
       "UBAoCBQECr70P6gTBAoCBYGCQMF5ULCgIFAQKAgUnAcFCwoCBYGCQMGVdLCgIFAQKAgUBArecg3q\n",
       "BIGCQEGg4FYjWFAQKAgUBAoO7YMFBYGCQEGgIFBwqxEsKAgUBAoCBf+6JlhQECgIFAQK/glkUCcI\n",
       "FAQKAgWBgvOgYEFBoCBQECh49BwsKAgUBAoCBVfSwYKCQEGgIFAQKMzxW2xlQUGgIFAQKPij3qBO\n",
       "ECgIFAQKzoOCBQWBgkBBoCBQ8FssWFAQKAgUBAreDwoWFAQKAgWBgivpYEFBoCBQECgIFPwWCxYU\n",
       "BAoCBYGCr6YI6gSBgkBBoDDHof3KgoJAQaAgUBAoOA8KFhQECgIFgYIP6WBBQaAgUBAo+JAOFhQE\n",
       "CgIFgYJAwfcHBQsKAgWBgkDBrUawoCBQECgIFHxIBwsKAgWBgkBBoOBPEYI6QaAgUBAo+FOEYEFB\n",
       "oCBQECg4DwoWFAQKAgWBgkDBb7FgQUGgIFAQKHiJM1hQECgIFAQKrqSDBQWBgkBBoCBQmPv4Lbax\n",
       "oCBQECgIFJwHBQsKAgWBgkDBeVCwoCBQECgIFAQKbjWCBQWBgkBBoOBWI1hQECgIFAQKrqSDBQWB\n",
       "gkBBoCBQcKsRLCgIFAQKAgUf0sGCgkBBoCBQmONN+5UFBYGCQEGg4Eo6WFAQKAgUBAoCBY+egwUF\n",
       "gYJAQaAw9779I3ybBQWBgkBBoOBKOlhQECgIFAQKAgVf8hYsKAgUBAoCBbcawYKCQEGgIFDwflCw\n",
       "oCBQECgIFAQK/hQhWFAQKAgUBAreDwoWFAQKAgWBgkP7YEFBoCBQECgIFDzVCBYUBAoCBYGCQ/tg\n",
       "QUGgIFAQKDgPChYUBAoCBYGCQMGj52BBQaAgUBAoOA8KFhQECgIFgYInq8GCgkBBoCBQECjMefsn\n",
       "+DgLCgIFgYJAwa1GsKAgUBAoCBS8HxQsKAgUBAoCBYGC86BgQUGgIFAQKDgPChYUBAoCBYGCK+lg\n",
       "QUGgIFAQKAgU3GoECwoCBYGCQMGj52BBQaAgUBAojC9e2FlQECgIFAQKAgW3GsGCgkBBoCBQ8Og5\n",
       "WFAQKAgUBAqerAYLCgIFgYJAQaDgViNYUBAoCBQECm41ggUFgYJAQaAwxwtCKwsKAgWBgkBBoOA8\n",
       "KFhQECgIFAQKzoOCBQWBgkBBoOBKOlhQECgIFAQKAgX/bz5YUBAoCBQECv7ffLCgIFAQKAgUvB8U\n",
       "LCgIFAQKAgWBgm/BCxYUBAoCBYGCL3kLFhQECgIFgYInq8GCgkBBoCBQECh4yzVYUBAoCBQECv5e\n",
       "LFhQECgIFAQKrqSDBQWBgkBBoCBQ8JZrsKAgUBAoCBS8xBksKAgUBAoCBVfSwYKCQEGgIFAQKHjL\n",
       "NVhQECgIFAQKvj8oWFAQKAgUBArOg4IFBYGCQEGgIFDw6DlYUBAoCBQECm41ggUFgYJAQaDgSjpY\n",
       "UBAoCBQECgIFtxrBgoJAQaAgUPAhHSwoCBQECgIF50HBgoJAQaAgUBAouNUIFhQECgIFgYJbjWBB\n",
       "QaAgUBAouJIOFhQECgIFgYJAwfcHBQsKAgWBgkDBv64JFhQECgIFgYLzoGBBQaAgUBAoCBTmPn6N\n",
       "bSwoCBQECgIFtxrBgoJAQaAgUPBkNVhQECgIFAQKnqwGCwoCBYGCQEGg4DwoWFAQKAgUBAqerAYL\n",
       "CgIFgYJAwZV0sKAgUBAoCBQECr4/KFhQECgIFAQKc7wgtLKgIFAQKAgUvB8ULCgIFAQKAgWBwly3\n",
       "GisLCgIFgYJAwa1GsKAgUBAoCBQc2gcLCgIFgYJAQaDg/aBgQUGgIFAQKMzx92IrCwoCBYGCQMF5\n",
       "ULCgIFAQKAgUBAq+miJYUBAoCBQECt4PChYUBAoCBYGCQ/tgQUGgIFAQKAgUnAcFCwoCBYGCQGHO\n",
       "40RoY0FBoCBQECg4DwoWFAQKAgWBgkDBb7FgQUGgIFAQKDi0DxYUBAoCBYGCQ/tgQUGgIFAQKAgU\n",
       "5vzcamwsKAgUBAoCBbcawYKCQEGgIFCY60N6ZUFBoCBQECgIFNxqBAsKAgWBgkBhzs+H9MaCgkBB\n",
       "oCBQcCUdLCgIFAQKAgWBgqcawYKCQEGgIFBwqxEsKAgUBAoCBR/SwYKCQEGgIFAQKHj0HCwoCBQE\n",
       "CgKFuc+ft3+GT7OgIFAQKAgUnAcFCwoCBYGCQEGg4P2gYEFBoCBQECjMuc6DNhYUBAoCBYGCK+lg\n",
       "QUGgIFAQKAgU5nj0vLKgIFAQKAgU3GoECwoCBYGCQMGVdLCgIFAQKAgUBApzr1uNjQUFgYJAQaDg\n",
       "PChYUBAoCBQECl7iDBYUBAoCBYGCQMGtRrCgIFAQKAgU5rrVWFlQECgIFAQKrqSDBQWBgkBBoCBQ\n",
       "mOP9oJUFBYGCQEGg4PukgwUFgYJAQaDgTftgQUGgIFAQKAgUPNUIFhQECgIFgYJbjWBBQaAgUBAo\n",
       "+JAOFhQECgIFgYJAwaPnYEFBoCBQECi41QgWFAQKAgWBwjyerK4sKAgUBAoCBYGCW41gQUGgIFAQ\n",
       "KHiJM1hQECgIFAQK87iSXllQECgIFAQKAgXvBwULCgIFgYJAwaPnYEFBoCBQECg4DwoWFAQKAgWB\n",
       "gkBh7nPf/hk+zYKCQEGgIFBwHhQsKAgUBAoChXlcSa8sKAgUBAoChf8AJ8ztt7m0cDkAAAAASUVO\n",
       "RK5CYII=\n",
       "\" transform=\"translate(2161, 47)\"/>\n",
       "</g>\n",
       "<path clip-path=\"url(#clip970)\" d=\"M 0 0 M2280.7 1207.43 Q2277.09 1207.43 2275.26 1211 Q2273.45 1214.54 2273.45 1221.67 Q2273.45 1228.77 2275.26 1232.34 Q2277.09 1235.88 2280.7 1235.88 Q2284.33 1235.88 2286.14 1232.34 Q2287.97 1228.77 2287.97 1221.67 Q2287.97 1214.54 2286.14 1211 Q2284.33 1207.43 2280.7 1207.43 M2280.7 1203.73 Q2286.51 1203.73 2289.57 1208.34 Q2292.64 1212.92 2292.64 1221.67 Q2292.64 1230.4 2289.57 1235 Q2286.51 1239.59 2280.7 1239.59 Q2274.89 1239.59 2271.81 1235 Q2268.76 1230.4 2268.76 1221.67 Q2268.76 1212.92 2271.81 1208.34 Q2274.89 1203.73 2280.7 1203.73 Z\" fill=\"#000000\" fill-rule=\"evenodd\" fill-opacity=\"1\" /><path clip-path=\"url(#clip970)\" d=\"M 0 0 M2297.71 1233.03 L2302.6 1233.03 L2302.6 1238.91 L2297.71 1238.91 L2297.71 1233.03 Z\" fill=\"#000000\" fill-rule=\"evenodd\" fill-opacity=\"1\" /><path clip-path=\"url(#clip970)\" d=\"M 0 0 M2317.67 1222.5 Q2314.33 1222.5 2312.41 1224.28 Q2310.51 1226.07 2310.51 1229.19 Q2310.51 1232.32 2312.41 1234.1 Q2314.33 1235.88 2317.67 1235.88 Q2321 1235.88 2322.92 1234.1 Q2324.84 1232.29 2324.84 1229.19 Q2324.84 1226.07 2322.92 1224.28 Q2321.02 1222.5 2317.67 1222.5 M2312.99 1220.51 Q2309.98 1219.77 2308.29 1217.71 Q2306.63 1215.65 2306.63 1212.69 Q2306.63 1208.54 2309.57 1206.14 Q2312.53 1203.73 2317.67 1203.73 Q2322.83 1203.73 2325.77 1206.14 Q2328.71 1208.54 2328.71 1212.69 Q2328.71 1215.65 2327.02 1217.71 Q2325.35 1219.77 2322.37 1220.51 Q2325.75 1221.3 2327.62 1223.59 Q2329.52 1225.88 2329.52 1229.19 Q2329.52 1234.21 2326.44 1236.9 Q2323.39 1239.59 2317.67 1239.59 Q2311.95 1239.59 2308.87 1236.9 Q2305.82 1234.21 2305.82 1229.19 Q2305.82 1225.88 2307.71 1223.59 Q2309.61 1221.3 2312.99 1220.51 M2311.28 1213.13 Q2311.28 1215.81 2312.95 1217.32 Q2314.64 1218.82 2317.67 1218.82 Q2320.68 1218.82 2322.37 1217.32 Q2324.08 1215.81 2324.08 1213.13 Q2324.08 1210.44 2322.37 1208.94 Q2320.68 1207.43 2317.67 1207.43 Q2314.64 1207.43 2312.95 1208.94 Q2311.28 1210.44 2311.28 1213.13 Z\" fill=\"#000000\" fill-rule=\"evenodd\" fill-opacity=\"1\" /><path clip-path=\"url(#clip970)\" d=\"M 0 0 M2334.64 1204.35 L2352.99 1204.35 L2352.99 1208.29 L2338.92 1208.29 L2338.92 1216.76 Q2339.94 1216.41 2340.95 1216.25 Q2341.97 1216.07 2342.99 1216.07 Q2348.78 1216.07 2352.16 1219.24 Q2355.54 1222.41 2355.54 1227.83 Q2355.54 1233.4 2352.07 1236.51 Q2348.59 1239.59 2342.27 1239.59 Q2340.1 1239.59 2337.83 1239.21 Q2335.58 1238.84 2333.18 1238.1 L2333.18 1233.4 Q2335.26 1234.54 2337.48 1235.09 Q2339.7 1235.65 2342.18 1235.65 Q2346.19 1235.65 2348.52 1233.54 Q2350.86 1231.44 2350.86 1227.83 Q2350.86 1224.21 2348.52 1222.11 Q2346.19 1220 2342.18 1220 Q2340.31 1220 2338.43 1220.42 Q2336.58 1220.84 2334.64 1221.71 L2334.64 1204.35 Z\" fill=\"#000000\" fill-rule=\"evenodd\" fill-opacity=\"1\" /><path clip-path=\"url(#clip970)\" d=\"M 0 0 M2280.7 948.125 Q2277.09 948.125 2275.26 951.689 Q2273.45 955.231 2273.45 962.361 Q2273.45 969.467 2275.26 973.032 Q2277.09 976.574 2280.7 976.574 Q2284.33 976.574 2286.14 973.032 Q2287.97 969.467 2287.97 962.361 Q2287.97 955.231 2286.14 951.689 Q2284.33 948.125 2280.7 948.125 M2280.7 944.421 Q2286.51 944.421 2289.57 949.027 Q2292.64 953.611 2292.64 962.361 Q2292.64 971.088 2289.57 975.694 Q2286.51 980.277 2280.7 980.277 Q2274.89 980.277 2271.81 975.694 Q2268.76 971.088 2268.76 962.361 Q2268.76 953.611 2271.81 949.027 Q2274.89 944.421 2280.7 944.421 Z\" fill=\"#000000\" fill-rule=\"evenodd\" fill-opacity=\"1\" /><path clip-path=\"url(#clip970)\" d=\"M 0 0 M2297.71 973.726 L2302.6 973.726 L2302.6 979.606 L2297.71 979.606 L2297.71 973.726 Z\" fill=\"#000000\" fill-rule=\"evenodd\" fill-opacity=\"1\" /><path clip-path=\"url(#clip970)\" d=\"M 0 0 M2307.81 978.888 L2307.81 974.629 Q2309.57 975.462 2311.37 975.902 Q2313.18 976.342 2314.91 976.342 Q2319.54 976.342 2321.97 973.24 Q2324.43 970.115 2324.77 963.773 Q2323.43 965.763 2321.37 966.828 Q2319.31 967.893 2316.81 967.893 Q2311.63 967.893 2308.59 964.768 Q2305.58 961.62 2305.58 956.18 Q2305.58 950.856 2308.73 947.639 Q2311.88 944.421 2317.11 944.421 Q2323.11 944.421 2326.26 949.027 Q2329.43 953.611 2329.43 962.361 Q2329.43 970.532 2325.54 975.416 Q2321.67 980.277 2315.12 980.277 Q2313.36 980.277 2311.56 979.93 Q2309.75 979.583 2307.81 978.888 M2317.11 964.236 Q2320.26 964.236 2322.09 962.083 Q2323.94 959.93 2323.94 956.18 Q2323.94 952.453 2322.09 950.301 Q2320.26 948.125 2317.11 948.125 Q2313.96 948.125 2312.11 950.301 Q2310.28 952.453 2310.28 956.18 Q2310.28 959.93 2312.11 962.083 Q2313.96 964.236 2317.11 964.236 Z\" fill=\"#000000\" fill-rule=\"evenodd\" fill-opacity=\"1\" /><path clip-path=\"url(#clip970)\" d=\"M 0 0 M2344.5 948.125 Q2340.89 948.125 2339.06 951.689 Q2337.25 955.231 2337.25 962.361 Q2337.25 969.467 2339.06 973.032 Q2340.89 976.574 2344.5 976.574 Q2348.13 976.574 2349.94 973.032 Q2351.76 969.467 2351.76 962.361 Q2351.76 955.231 2349.94 951.689 Q2348.13 948.125 2344.5 948.125 M2344.5 944.421 Q2350.31 944.421 2353.36 949.027 Q2356.44 953.611 2356.44 962.361 Q2356.44 971.088 2353.36 975.694 Q2350.31 980.277 2344.5 980.277 Q2338.69 980.277 2335.61 975.694 Q2332.55 971.088 2332.55 962.361 Q2332.55 953.611 2335.61 949.027 Q2338.69 944.421 2344.5 944.421 Z\" fill=\"#000000\" fill-rule=\"evenodd\" fill-opacity=\"1\" /><path clip-path=\"url(#clip970)\" d=\"M 0 0 M2280.7 688.817 Q2277.09 688.817 2275.26 692.382 Q2273.45 695.923 2273.45 703.053 Q2273.45 710.159 2275.26 713.724 Q2277.09 717.266 2280.7 717.266 Q2284.33 717.266 2286.14 713.724 Q2287.97 710.159 2287.97 703.053 Q2287.97 695.923 2286.14 692.382 Q2284.33 688.817 2280.7 688.817 M2280.7 685.113 Q2286.51 685.113 2289.57 689.72 Q2292.64 694.303 2292.64 703.053 Q2292.64 711.78 2289.57 716.386 Q2286.51 720.969 2280.7 720.969 Q2274.89 720.969 2271.81 716.386 Q2268.76 711.78 2268.76 703.053 Q2268.76 694.303 2271.81 689.72 Q2274.89 685.113 2280.7 685.113 Z\" fill=\"#000000\" fill-rule=\"evenodd\" fill-opacity=\"1\" /><path clip-path=\"url(#clip970)\" d=\"M 0 0 M2297.71 714.419 L2302.6 714.419 L2302.6 720.298 L2297.71 720.298 L2297.71 714.419 Z\" fill=\"#000000\" fill-rule=\"evenodd\" fill-opacity=\"1\" /><path clip-path=\"url(#clip970)\" d=\"M 0 0 M2307.81 719.581 L2307.81 715.321 Q2309.57 716.155 2311.37 716.595 Q2313.18 717.034 2314.91 717.034 Q2319.54 717.034 2321.97 713.932 Q2324.43 710.807 2324.77 704.465 Q2323.43 706.456 2321.37 707.52 Q2319.31 708.585 2316.81 708.585 Q2311.63 708.585 2308.59 705.46 Q2305.58 702.312 2305.58 696.872 Q2305.58 691.548 2308.73 688.331 Q2311.88 685.113 2317.11 685.113 Q2323.11 685.113 2326.26 689.72 Q2329.43 694.303 2329.43 703.053 Q2329.43 711.224 2325.54 716.108 Q2321.67 720.969 2315.12 720.969 Q2313.36 720.969 2311.56 720.622 Q2309.75 720.275 2307.81 719.581 M2317.11 704.928 Q2320.26 704.928 2322.09 702.775 Q2323.94 700.622 2323.94 696.872 Q2323.94 693.146 2322.09 690.993 Q2320.26 688.817 2317.11 688.817 Q2313.96 688.817 2312.11 690.993 Q2310.28 693.146 2310.28 696.872 Q2310.28 700.622 2312.11 702.775 Q2313.96 704.928 2317.11 704.928 Z\" fill=\"#000000\" fill-rule=\"evenodd\" fill-opacity=\"1\" /><path clip-path=\"url(#clip970)\" d=\"M 0 0 M2334.54 685.738 L2352.9 685.738 L2352.9 689.673 L2338.82 689.673 L2338.82 698.146 Q2339.84 697.798 2340.86 697.636 Q2341.88 697.451 2342.9 697.451 Q2348.69 697.451 2352.07 700.622 Q2355.45 703.794 2355.45 709.21 Q2355.45 714.789 2351.97 717.891 Q2348.5 720.969 2342.18 720.969 Q2340.01 720.969 2337.74 720.599 Q2335.49 720.229 2333.08 719.488 L2333.08 714.789 Q2335.17 715.923 2337.39 716.479 Q2339.61 717.034 2342.09 717.034 Q2346.09 717.034 2348.43 714.928 Q2350.77 712.821 2350.77 709.21 Q2350.77 705.599 2348.43 703.493 Q2346.09 701.386 2342.09 701.386 Q2340.21 701.386 2338.34 701.803 Q2336.49 702.22 2334.54 703.099 L2334.54 685.738 Z\" fill=\"#000000\" fill-rule=\"evenodd\" fill-opacity=\"1\" /><path clip-path=\"url(#clip970)\" d=\"M 0 0 M2269.43 457.055 L2277.07 457.055 L2277.07 430.69 L2268.76 432.356 L2268.76 428.097 L2277.02 426.43 L2281.7 426.43 L2281.7 457.055 L2289.33 457.055 L2289.33 460.99 L2269.43 460.99 L2269.43 457.055 Z\" fill=\"#000000\" fill-rule=\"evenodd\" fill-opacity=\"1\" /><path clip-path=\"url(#clip970)\" d=\"M 0 0 M2294.4 455.111 L2299.29 455.111 L2299.29 460.99 L2294.4 460.99 L2294.4 455.111 Z\" fill=\"#000000\" fill-rule=\"evenodd\" fill-opacity=\"1\" /><path clip-path=\"url(#clip970)\" d=\"M 0 0 M2314.36 429.509 Q2310.75 429.509 2308.92 433.074 Q2307.11 436.616 2307.11 443.745 Q2307.11 450.852 2308.92 454.416 Q2310.75 457.958 2314.36 457.958 Q2317.99 457.958 2319.8 454.416 Q2321.63 450.852 2321.63 443.745 Q2321.63 436.616 2319.8 433.074 Q2317.99 429.509 2314.36 429.509 M2314.36 425.805 Q2320.17 425.805 2323.22 430.412 Q2326.3 434.995 2326.3 443.745 Q2326.3 452.472 2323.22 457.078 Q2320.17 461.662 2314.36 461.662 Q2308.55 461.662 2305.47 457.078 Q2302.41 452.472 2302.41 443.745 Q2302.41 434.995 2305.47 430.412 Q2308.55 425.805 2314.36 425.805 Z\" fill=\"#000000\" fill-rule=\"evenodd\" fill-opacity=\"1\" /><path clip-path=\"url(#clip970)\" d=\"M 0 0 M2341.37 429.509 Q2337.76 429.509 2335.93 433.074 Q2334.13 436.616 2334.13 443.745 Q2334.13 450.852 2335.93 454.416 Q2337.76 457.958 2341.37 457.958 Q2345.01 457.958 2346.81 454.416 Q2348.64 450.852 2348.64 443.745 Q2348.64 436.616 2346.81 433.074 Q2345.01 429.509 2341.37 429.509 M2341.37 425.805 Q2347.18 425.805 2350.24 430.412 Q2353.32 434.995 2353.32 443.745 Q2353.32 452.472 2350.24 457.078 Q2347.18 461.662 2341.37 461.662 Q2335.56 461.662 2332.48 457.078 Q2329.43 452.472 2329.43 443.745 Q2329.43 434.995 2332.48 430.412 Q2335.56 425.805 2341.37 425.805 Z\" fill=\"#000000\" fill-rule=\"evenodd\" fill-opacity=\"1\" /><path clip-path=\"url(#clip970)\" d=\"M 0 0 M2269.43 197.747 L2277.07 197.747 L2277.07 171.382 L2268.76 173.049 L2268.76 168.789 L2277.02 167.123 L2281.7 167.123 L2281.7 197.747 L2289.33 197.747 L2289.33 201.683 L2269.43 201.683 L2269.43 197.747 Z\" fill=\"#000000\" fill-rule=\"evenodd\" fill-opacity=\"1\" /><path clip-path=\"url(#clip970)\" d=\"M 0 0 M2294.4 195.803 L2299.29 195.803 L2299.29 201.683 L2294.4 201.683 L2294.4 195.803 Z\" fill=\"#000000\" fill-rule=\"evenodd\" fill-opacity=\"1\" /><path clip-path=\"url(#clip970)\" d=\"M 0 0 M2314.36 170.201 Q2310.75 170.201 2308.92 173.766 Q2307.11 177.308 2307.11 184.437 Q2307.11 191.544 2308.92 195.109 Q2310.75 198.65 2314.36 198.65 Q2317.99 198.65 2319.8 195.109 Q2321.63 191.544 2321.63 184.437 Q2321.63 177.308 2319.8 173.766 Q2317.99 170.201 2314.36 170.201 M2314.36 166.498 Q2320.17 166.498 2323.22 171.104 Q2326.3 175.687 2326.3 184.437 Q2326.3 193.164 2323.22 197.771 Q2320.17 202.354 2314.36 202.354 Q2308.55 202.354 2305.47 197.771 Q2302.41 193.164 2302.41 184.437 Q2302.41 175.687 2305.47 171.104 Q2308.55 166.498 2314.36 166.498 Z\" fill=\"#000000\" fill-rule=\"evenodd\" fill-opacity=\"1\" /><path clip-path=\"url(#clip970)\" d=\"M 0 0 M2331.42 167.123 L2349.77 167.123 L2349.77 171.058 L2335.7 171.058 L2335.7 179.53 Q2336.72 179.183 2337.74 179.021 Q2338.76 178.836 2339.77 178.836 Q2345.56 178.836 2348.94 182.007 Q2352.32 185.178 2352.32 190.595 Q2352.32 196.173 2348.85 199.275 Q2345.38 202.354 2339.06 202.354 Q2336.88 202.354 2334.61 201.984 Q2332.37 201.613 2329.96 200.872 L2329.96 196.173 Q2332.04 197.308 2334.26 197.863 Q2336.49 198.419 2338.96 198.419 Q2342.97 198.419 2345.31 196.312 Q2347.64 194.206 2347.64 190.595 Q2347.64 186.984 2345.31 184.877 Q2342.97 182.771 2338.96 182.771 Q2337.09 182.771 2335.21 183.187 Q2333.36 183.604 2331.42 184.484 L2331.42 167.123 Z\" fill=\"#000000\" fill-rule=\"evenodd\" fill-opacity=\"1\" /><polyline clip-path=\"url(#clip970)\" style=\"stroke:#000000; stroke-width:4; stroke-opacity:1; fill:none\" points=\"\n",
       "  2232.76,1410.9 2232.76,1225.26 2256.76,1225.26 2232.76,1225.26 2232.76,965.955 2256.76,965.955 2232.76,965.955 2232.76,706.647 2256.76,706.647 2232.76,706.647 \n",
       "  2232.76,447.339 2256.76,447.339 2232.76,447.339 2232.76,188.031 2256.76,188.031 2232.76,188.031 2232.76,47.2441 \n",
       "  \"/>\n",
       "</svg>\n"
      ]
     },
     "execution_count": 176,
     "metadata": {},
     "output_type": "execute_result"
    }
   ],
   "source": [
    "plot(self_tuning_boost)"
   ]
  },
  {
   "cell_type": "code",
   "execution_count": 162,
   "metadata": {},
   "outputs": [
    {
     "data": {
      "text/plain": [
       "AdaBoostClassifier(\n",
       "    base_estimator = nothing,\n",
       "    n_estimators = 5,\n",
       "    learning_rate = 0.15333333333333332,\n",
       "    algorithm = \"SAMME.R\",\n",
       "    random_state = 123)\u001b[34m @930\u001b[39m"
      ]
     },
     "execution_count": 162,
     "metadata": {},
     "output_type": "execute_result"
    }
   ],
   "source": [
    "best = fitted_params(self_tuning_boost)\n",
    "best.best_model"
   ]
  },
  {
   "cell_type": "code",
   "execution_count": 163,
   "metadata": {},
   "outputs": [
    {
     "data": {
      "text/plain": [
       "0.80937"
      ]
     },
     "execution_count": 163,
     "metadata": {},
     "output_type": "execute_result"
    }
   ],
   "source": [
    "best_loss = round(z.report.best_result.measurement[1],digits=5)"
   ]
  },
  {
   "cell_type": "code",
   "execution_count": 164,
   "metadata": {},
   "outputs": [
    {
     "data": {
      "text/plain": [
       "0.15333333333333332"
      ]
     },
     "execution_count": 164,
     "metadata": {},
     "output_type": "execute_result"
    }
   ],
   "source": [
    "best_n = best.best_model.n_estimators\n",
    "best_lr = best.best_model.learning_rate"
   ]
  },
  {
   "cell_type": "code",
   "execution_count": 177,
   "metadata": {},
   "outputs": [],
   "source": [
    "fn = \"Figures/Boost_MCC\"\n",
    "png(replace(fn,'.' => ','))"
   ]
  },
  {
   "cell_type": "markdown",
   "metadata": {},
   "source": [
    "### Learning Curves"
   ]
  },
  {
   "cell_type": "code",
   "execution_count": 165,
   "metadata": {
    "scrolled": true
   },
   "outputs": [
    {
     "name": "stdout",
     "output_type": "stream",
     "text": [
      "(d, train_metric, valid_metric) = (10, 1.0, 0.38636363636363635)\n",
      "(d, train_metric, valid_metric) = (15, 0.9333333333333333, 0.6477272727272727)\n",
      "(d, train_metric, valid_metric) = (20, 0.95, 0.6477272727272727)\n",
      "(d, train_metric, valid_metric) = (25, 0.88, 0.625)\n",
      "(d, train_metric, valid_metric) = (30, 0.8, 0.6363636363636364)\n",
      "(d, train_metric, valid_metric) = (35, 0.8, 0.6704545454545454)\n",
      "(d, train_metric, valid_metric) = (40, 0.85, 0.8181818181818182)\n",
      "(d, train_metric, valid_metric) = (45, 0.7555555555555555, 0.75)\n",
      "(d, train_metric, valid_metric) = (50, 0.78, 0.75)\n",
      "(d, train_metric, valid_metric) = (55, 0.8181818181818182, 0.8068181818181818)\n",
      "(d, train_metric, valid_metric) = (60, 0.8333333333333334, 0.8068181818181818)\n",
      "(d, train_metric, valid_metric) = (65, 0.8, 0.8068181818181818)\n",
      "(d, train_metric, valid_metric) = (70, 0.7857142857142857, 0.8068181818181818)\n",
      "(d, train_metric, valid_metric) = (75, 0.7866666666666666, 0.8068181818181818)\n",
      "(d, train_metric, valid_metric) = (80, 0.7625, 0.7727272727272727)\n",
      "(d, train_metric, valid_metric) = (85, 0.7529411764705882, 0.7727272727272727)\n",
      "(d, train_metric, valid_metric) = (90, 0.7555555555555555, 0.7727272727272727)\n",
      "(d, train_metric, valid_metric) = (95, 0.7684210526315789, 0.7727272727272727)\n",
      "(d, train_metric, valid_metric) = (100, 0.75, 0.7840909090909091)\n",
      "(d, train_metric, valid_metric) = (105, 0.7619047619047619, 0.7840909090909091)\n",
      "(d, train_metric, valid_metric) = (110, 0.7818181818181819, 0.7840909090909091)\n",
      "(d, train_metric, valid_metric) = (115, 0.7913043478260869, 0.7840909090909091)\n",
      "(d, train_metric, valid_metric) = (120, 0.7583333333333333, 0.8181818181818182)\n",
      "(d, train_metric, valid_metric) = (125, 0.784, 0.7840909090909091)\n",
      "(d, train_metric, valid_metric) = (130, 0.7769230769230769, 0.8181818181818182)\n",
      "(d, train_metric, valid_metric) = (135, 0.7555555555555555, 0.8181818181818182)\n",
      "(d, train_metric, valid_metric) = (140, 0.7714285714285715, 0.7840909090909091)\n",
      "(d, train_metric, valid_metric) = (145, 0.7793103448275862, 0.7727272727272727)\n",
      "(d, train_metric, valid_metric) = (150, 0.7866666666666666, 0.7727272727272727)\n",
      "(d, train_metric, valid_metric) = (155, 0.7290322580645161, 0.7159090909090909)\n",
      "(d, train_metric, valid_metric) = (160, 0.7625, 0.8181818181818182)\n",
      "(d, train_metric, valid_metric) = (165, 0.7636363636363637, 0.8181818181818182)\n",
      "(d, train_metric, valid_metric) = (170, 0.7647058823529411, 0.8181818181818182)\n",
      "(d, train_metric, valid_metric) = (175, 0.76, 0.8181818181818182)\n",
      "(d, train_metric, valid_metric) = (180, 0.7611111111111111, 0.8181818181818182)\n",
      "(d, train_metric, valid_metric) = (185, 0.7567567567567568, 0.8181818181818182)\n",
      "(d, train_metric, valid_metric) = (190, 0.7684210526315789, 0.8181818181818182)\n",
      "(d, train_metric, valid_metric) = (195, 0.7435897435897436, 0.7727272727272727)\n",
      "(d, train_metric, valid_metric) = (200, 0.78, 0.7386363636363636)\n",
      "(d, train_metric, valid_metric) = (205, 0.751219512195122, 0.7386363636363636)\n",
      "(d, train_metric, valid_metric) = (210, 0.7476190476190476, 0.7386363636363636)\n",
      "(d, train_metric, valid_metric) = (215, 0.7441860465116279, 0.7386363636363636)\n",
      "(d, train_metric, valid_metric) = (220, 0.6909090909090909, 0.6704545454545454)\n",
      "(d, train_metric, valid_metric) = (225, 0.7466666666666667, 0.7386363636363636)\n",
      "(d, train_metric, valid_metric) = (230, 0.7521739130434782, 0.7272727272727273)\n",
      "(d, train_metric, valid_metric) = (235, 0.7319148936170212, 0.7727272727272727)\n",
      "(d, train_metric, valid_metric) = (240, 0.7791666666666667, 0.8522727272727273)\n",
      "(d, train_metric, valid_metric) = (245, 0.7346938775510204, 0.7727272727272727)\n",
      "(d, train_metric, valid_metric) = (250, 0.772, 0.7840909090909091)\n",
      "(d, train_metric, valid_metric) = (255, 0.7686274509803922, 0.8068181818181818)\n",
      "(d, train_metric, valid_metric) = (260, 0.8076923076923077, 0.8409090909090909)\n",
      "(d, train_metric, valid_metric) = (265, 0.8037735849056604, 0.8409090909090909)\n",
      "(d, train_metric, valid_metric) = (270, 0.7962962962962963, 0.8181818181818182)\n",
      "(d, train_metric, valid_metric) = (275, 0.7709090909090909, 0.7727272727272727)\n",
      "(d, train_metric, valid_metric) = (280, 0.8035714285714286, 0.8181818181818182)\n",
      "(d, train_metric, valid_metric) = (285, 0.8070175438596491, 0.8181818181818182)\n",
      "(d, train_metric, valid_metric) = (290, 0.8068965517241379, 0.8181818181818182)\n",
      "(d, train_metric, valid_metric) = (295, 0.8067796610169492, 0.8181818181818182)\n",
      "(d, train_metric, valid_metric) = (300, 0.75, 0.6931818181818182)\n",
      "(d, train_metric, valid_metric) = (305, 0.8098360655737705, 0.8181818181818182)\n",
      "(d, train_metric, valid_metric) = (310, 0.8129032258064516, 0.8181818181818182)\n",
      "(d, train_metric, valid_metric) = (315, 0.7301587301587301, 0.7272727272727273)\n",
      "(d, train_metric, valid_metric) = (320, 0.725, 0.7272727272727273)\n",
      "(d, train_metric, valid_metric) = (325, 0.7661538461538462, 0.7386363636363636)\n",
      "(d, train_metric, valid_metric) = (330, 0.7242424242424242, 0.7272727272727273)\n",
      "(d, train_metric, valid_metric) = (335, 0.7820895522388059, 0.8068181818181818)\n",
      "(d, train_metric, valid_metric) = (340, 0.7676470588235295, 0.7386363636363636)\n",
      "(d, train_metric, valid_metric) = (345, 0.7507246376811594, 0.7613636363636364)\n",
      "(d, train_metric, valid_metric) = (350, 0.7314285714285714, 0.7272727272727273)\n"
     ]
    },
    {
     "data": {
      "text/plain": [
       "(10:5:350, Any[1.0, 0.9333333333333333, 0.95, 0.88, 0.8, 0.8, 0.85, 0.7555555555555555, 0.78, 0.8181818181818182  …  0.8098360655737705, 0.8129032258064516, 0.7301587301587301, 0.725, 0.7661538461538462, 0.7242424242424242, 0.7820895522388059, 0.7676470588235295, 0.7507246376811594, 0.7314285714285714], Any[0.38636363636363635, 0.6477272727272727, 0.6477272727272727, 0.625, 0.6363636363636364, 0.6704545454545454, 0.8181818181818182, 0.75, 0.75, 0.8068181818181818  …  0.8181818181818182, 0.8181818181818182, 0.7272727272727273, 0.7272727272727273, 0.7386363636363636, 0.7272727272727273, 0.8068181818181818, 0.7386363636363636, 0.7613636363636364, 0.7272727272727273])"
      ]
     },
     "execution_count": 165,
     "metadata": {},
     "output_type": "execute_result"
    }
   ],
   "source": [
    "data_schedule, training_losses, valid_losses = learn_curve(best.best_model, X[train,:], y[train], acc)"
   ]
  },
  {
   "cell_type": "code",
   "execution_count": 178,
   "metadata": {},
   "outputs": [
    {
     "data": {
      "image/svg+xml": [
       "<?xml version=\"1.0\" encoding=\"utf-8\"?>\n",
       "<svg xmlns=\"http://www.w3.org/2000/svg\" xmlns:xlink=\"http://www.w3.org/1999/xlink\" width=\"600\" height=\"400\" viewBox=\"0 0 2400 1600\">\n",
       "<defs>\n",
       "  <clipPath id=\"clip020\">\n",
       "    <rect x=\"0\" y=\"0\" width=\"2400\" height=\"1600\"/>\n",
       "  </clipPath>\n",
       "</defs>\n",
       "<path clip-path=\"url(#clip020)\" d=\"\n",
       "M0 1600 L2400 1600 L2400 0 L0 0  Z\n",
       "  \" fill=\"#ffffff\" fill-rule=\"evenodd\" fill-opacity=\"1\"/>\n",
       "<defs>\n",
       "  <clipPath id=\"clip021\">\n",
       "    <rect x=\"480\" y=\"0\" width=\"1681\" height=\"1600\"/>\n",
       "  </clipPath>\n",
       "</defs>\n",
       "<path clip-path=\"url(#clip020)\" d=\"\n",
       "M211.602 1423.18 L2352.76 1423.18 L2352.76 47.2441 L211.602 47.2441  Z\n",
       "  \" fill=\"#ffffff\" fill-rule=\"evenodd\" fill-opacity=\"1\"/>\n",
       "<defs>\n",
       "  <clipPath id=\"clip022\">\n",
       "    <rect x=\"211\" y=\"47\" width=\"2142\" height=\"1377\"/>\n",
       "  </clipPath>\n",
       "</defs>\n",
       "<polyline clip-path=\"url(#clip022)\" style=\"stroke:#000000; stroke-width:2; stroke-opacity:0.1; fill:none\" points=\"\n",
       "  212.791,1423.18 212.791,47.2441 \n",
       "  \"/>\n",
       "<polyline clip-path=\"url(#clip022)\" style=\"stroke:#000000; stroke-width:2; stroke-opacity:0.1; fill:none\" points=\"\n",
       "  806.895,1423.18 806.895,47.2441 \n",
       "  \"/>\n",
       "<polyline clip-path=\"url(#clip022)\" style=\"stroke:#000000; stroke-width:2; stroke-opacity:0.1; fill:none\" points=\"\n",
       "  1401,1423.18 1401,47.2441 \n",
       "  \"/>\n",
       "<polyline clip-path=\"url(#clip022)\" style=\"stroke:#000000; stroke-width:2; stroke-opacity:0.1; fill:none\" points=\"\n",
       "  1995.1,1423.18 1995.1,47.2441 \n",
       "  \"/>\n",
       "<polyline clip-path=\"url(#clip022)\" style=\"stroke:#000000; stroke-width:2; stroke-opacity:0.1; fill:none\" points=\"\n",
       "  211.602,1355.39 2352.76,1355.39 \n",
       "  \"/>\n",
       "<polyline clip-path=\"url(#clip022)\" style=\"stroke:#000000; stroke-width:2; stroke-opacity:0.1; fill:none\" points=\"\n",
       "  211.602,1143.86 2352.76,1143.86 \n",
       "  \"/>\n",
       "<polyline clip-path=\"url(#clip022)\" style=\"stroke:#000000; stroke-width:2; stroke-opacity:0.1; fill:none\" points=\"\n",
       "  211.602,932.324 2352.76,932.324 \n",
       "  \"/>\n",
       "<polyline clip-path=\"url(#clip022)\" style=\"stroke:#000000; stroke-width:2; stroke-opacity:0.1; fill:none\" points=\"\n",
       "  211.602,720.789 2352.76,720.789 \n",
       "  \"/>\n",
       "<polyline clip-path=\"url(#clip022)\" style=\"stroke:#000000; stroke-width:2; stroke-opacity:0.1; fill:none\" points=\"\n",
       "  211.602,509.255 2352.76,509.255 \n",
       "  \"/>\n",
       "<polyline clip-path=\"url(#clip022)\" style=\"stroke:#000000; stroke-width:2; stroke-opacity:0.1; fill:none\" points=\"\n",
       "  211.602,297.72 2352.76,297.72 \n",
       "  \"/>\n",
       "<polyline clip-path=\"url(#clip022)\" style=\"stroke:#000000; stroke-width:2; stroke-opacity:0.1; fill:none\" points=\"\n",
       "  211.602,86.1857 2352.76,86.1857 \n",
       "  \"/>\n",
       "<polyline clip-path=\"url(#clip020)\" style=\"stroke:#000000; stroke-width:4; stroke-opacity:1; fill:none\" points=\"\n",
       "  211.602,1423.18 2352.76,1423.18 \n",
       "  \"/>\n",
       "<polyline clip-path=\"url(#clip020)\" style=\"stroke:#000000; stroke-width:4; stroke-opacity:1; fill:none\" points=\"\n",
       "  211.602,1423.18 211.602,47.2441 \n",
       "  \"/>\n",
       "<polyline clip-path=\"url(#clip020)\" style=\"stroke:#000000; stroke-width:4; stroke-opacity:1; fill:none\" points=\"\n",
       "  212.791,1423.18 212.791,1406.67 \n",
       "  \"/>\n",
       "<polyline clip-path=\"url(#clip020)\" style=\"stroke:#000000; stroke-width:4; stroke-opacity:1; fill:none\" points=\"\n",
       "  806.895,1423.18 806.895,1406.67 \n",
       "  \"/>\n",
       "<polyline clip-path=\"url(#clip020)\" style=\"stroke:#000000; stroke-width:4; stroke-opacity:1; fill:none\" points=\"\n",
       "  1401,1423.18 1401,1406.67 \n",
       "  \"/>\n",
       "<polyline clip-path=\"url(#clip020)\" style=\"stroke:#000000; stroke-width:4; stroke-opacity:1; fill:none\" points=\"\n",
       "  1995.1,1423.18 1995.1,1406.67 \n",
       "  \"/>\n",
       "<polyline clip-path=\"url(#clip020)\" style=\"stroke:#000000; stroke-width:4; stroke-opacity:1; fill:none\" points=\"\n",
       "  211.602,1355.39 237.296,1355.39 \n",
       "  \"/>\n",
       "<polyline clip-path=\"url(#clip020)\" style=\"stroke:#000000; stroke-width:4; stroke-opacity:1; fill:none\" points=\"\n",
       "  211.602,1143.86 237.296,1143.86 \n",
       "  \"/>\n",
       "<polyline clip-path=\"url(#clip020)\" style=\"stroke:#000000; stroke-width:4; stroke-opacity:1; fill:none\" points=\"\n",
       "  211.602,932.324 237.296,932.324 \n",
       "  \"/>\n",
       "<polyline clip-path=\"url(#clip020)\" style=\"stroke:#000000; stroke-width:4; stroke-opacity:1; fill:none\" points=\"\n",
       "  211.602,720.789 237.296,720.789 \n",
       "  \"/>\n",
       "<polyline clip-path=\"url(#clip020)\" style=\"stroke:#000000; stroke-width:4; stroke-opacity:1; fill:none\" points=\"\n",
       "  211.602,509.255 237.296,509.255 \n",
       "  \"/>\n",
       "<polyline clip-path=\"url(#clip020)\" style=\"stroke:#000000; stroke-width:4; stroke-opacity:1; fill:none\" points=\"\n",
       "  211.602,297.72 237.296,297.72 \n",
       "  \"/>\n",
       "<polyline clip-path=\"url(#clip020)\" style=\"stroke:#000000; stroke-width:4; stroke-opacity:1; fill:none\" points=\"\n",
       "  211.602,86.1857 237.296,86.1857 \n",
       "  \"/>\n",
       "<path clip-path=\"url(#clip020)\" d=\"M 0 0 M212.791 1445.17 Q209.18 1445.17 207.351 1448.74 Q205.545 1452.28 205.545 1459.41 Q205.545 1466.51 207.351 1470.08 Q209.18 1473.62 212.791 1473.62 Q216.425 1473.62 218.23 1470.08 Q220.059 1466.51 220.059 1459.41 Q220.059 1452.28 218.23 1448.74 Q216.425 1445.17 212.791 1445.17 M212.791 1441.47 Q218.601 1441.47 221.656 1446.07 Q224.735 1450.66 224.735 1459.41 Q224.735 1468.13 221.656 1472.74 Q218.601 1477.32 212.791 1477.32 Q206.98 1477.32 203.902 1472.74 Q200.846 1468.13 200.846 1459.41 Q200.846 1450.66 203.902 1446.07 Q206.98 1441.47 212.791 1441.47 Z\" fill=\"#000000\" fill-rule=\"evenodd\" fill-opacity=\"1\" /><path clip-path=\"url(#clip020)\" d=\"M 0 0 M770.264 1472.72 L777.902 1472.72 L777.902 1446.35 L769.592 1448.02 L769.592 1443.76 L777.856 1442.09 L782.532 1442.09 L782.532 1472.72 L790.171 1472.72 L790.171 1476.65 L770.264 1476.65 L770.264 1472.72 Z\" fill=\"#000000\" fill-rule=\"evenodd\" fill-opacity=\"1\" /><path clip-path=\"url(#clip020)\" d=\"M 0 0 M805.24 1445.17 Q801.629 1445.17 799.801 1448.74 Q797.995 1452.28 797.995 1459.41 Q797.995 1466.51 799.801 1470.08 Q801.629 1473.62 805.24 1473.62 Q808.875 1473.62 810.68 1470.08 Q812.509 1466.51 812.509 1459.41 Q812.509 1452.28 810.68 1448.74 Q808.875 1445.17 805.24 1445.17 M805.24 1441.47 Q811.05 1441.47 814.106 1446.07 Q817.185 1450.66 817.185 1459.41 Q817.185 1468.13 814.106 1472.74 Q811.05 1477.32 805.24 1477.32 Q799.43 1477.32 796.351 1472.74 Q793.296 1468.13 793.296 1459.41 Q793.296 1450.66 796.351 1446.07 Q799.43 1441.47 805.24 1441.47 Z\" fill=\"#000000\" fill-rule=\"evenodd\" fill-opacity=\"1\" /><path clip-path=\"url(#clip020)\" d=\"M 0 0 M832.254 1445.17 Q828.643 1445.17 826.814 1448.74 Q825.009 1452.28 825.009 1459.41 Q825.009 1466.51 826.814 1470.08 Q828.643 1473.62 832.254 1473.62 Q835.888 1473.62 837.694 1470.08 Q839.523 1466.51 839.523 1459.41 Q839.523 1452.28 837.694 1448.74 Q835.888 1445.17 832.254 1445.17 M832.254 1441.47 Q838.064 1441.47 841.12 1446.07 Q844.198 1450.66 844.198 1459.41 Q844.198 1468.13 841.12 1472.74 Q838.064 1477.32 832.254 1477.32 Q826.444 1477.32 823.365 1472.74 Q820.31 1468.13 820.31 1459.41 Q820.31 1450.66 823.365 1446.07 Q826.444 1441.47 832.254 1441.47 Z\" fill=\"#000000\" fill-rule=\"evenodd\" fill-opacity=\"1\" /><path clip-path=\"url(#clip020)\" d=\"M 0 0 M1368.64 1472.72 L1384.96 1472.72 L1384.96 1476.65 L1363.01 1476.65 L1363.01 1472.72 Q1365.68 1469.96 1370.26 1465.33 Q1374.87 1460.68 1376.05 1459.34 Q1378.29 1456.81 1379.17 1455.08 Q1380.07 1453.32 1380.07 1451.63 Q1380.07 1448.87 1378.13 1447.14 Q1376.21 1445.4 1373.11 1445.4 Q1370.91 1445.4 1368.45 1446.17 Q1366.02 1446.93 1363.25 1448.48 L1363.25 1443.76 Q1366.07 1442.62 1368.52 1442.05 Q1370.98 1441.47 1373.01 1441.47 Q1378.38 1441.47 1381.58 1444.15 Q1384.77 1446.84 1384.77 1451.33 Q1384.77 1453.46 1383.96 1455.38 Q1383.18 1457.28 1381.07 1459.87 Q1380.49 1460.54 1377.39 1463.76 Q1374.29 1466.95 1368.64 1472.72 Z\" fill=\"#000000\" fill-rule=\"evenodd\" fill-opacity=\"1\" /><path clip-path=\"url(#clip020)\" d=\"M 0 0 M1400.03 1445.17 Q1396.42 1445.17 1394.59 1448.74 Q1392.78 1452.28 1392.78 1459.41 Q1392.78 1466.51 1394.59 1470.08 Q1396.42 1473.62 1400.03 1473.62 Q1403.66 1473.62 1405.47 1470.08 Q1407.3 1466.51 1407.3 1459.41 Q1407.3 1452.28 1405.47 1448.74 Q1403.66 1445.17 1400.03 1445.17 M1400.03 1441.47 Q1405.84 1441.47 1408.89 1446.07 Q1411.97 1450.66 1411.97 1459.41 Q1411.97 1468.13 1408.89 1472.74 Q1405.84 1477.32 1400.03 1477.32 Q1394.22 1477.32 1391.14 1472.74 Q1388.08 1468.13 1388.08 1459.41 Q1388.08 1450.66 1391.14 1446.07 Q1394.22 1441.47 1400.03 1441.47 Z\" fill=\"#000000\" fill-rule=\"evenodd\" fill-opacity=\"1\" /><path clip-path=\"url(#clip020)\" d=\"M 0 0 M1427.04 1445.17 Q1423.43 1445.17 1421.6 1448.74 Q1419.8 1452.28 1419.8 1459.41 Q1419.8 1466.51 1421.6 1470.08 Q1423.43 1473.62 1427.04 1473.62 Q1430.68 1473.62 1432.48 1470.08 Q1434.31 1466.51 1434.31 1459.41 Q1434.31 1452.28 1432.48 1448.74 Q1430.68 1445.17 1427.04 1445.17 M1427.04 1441.47 Q1432.85 1441.47 1435.91 1446.07 Q1438.99 1450.66 1438.99 1459.41 Q1438.99 1468.13 1435.91 1472.74 Q1432.85 1477.32 1427.04 1477.32 Q1421.23 1477.32 1418.15 1472.74 Q1415.1 1468.13 1415.1 1459.41 Q1415.1 1450.66 1418.15 1446.07 Q1421.23 1441.47 1427.04 1441.47 Z\" fill=\"#000000\" fill-rule=\"evenodd\" fill-opacity=\"1\" /><path clip-path=\"url(#clip020)\" d=\"M 0 0 M1972.34 1458.02 Q1975.7 1458.74 1977.57 1461 Q1979.47 1463.27 1979.47 1466.61 Q1979.47 1471.72 1975.95 1474.52 Q1972.43 1477.32 1965.95 1477.32 Q1963.77 1477.32 1961.46 1476.88 Q1959.17 1476.47 1956.71 1475.61 L1956.71 1471.1 Q1958.66 1472.23 1960.97 1472.81 Q1963.29 1473.39 1965.81 1473.39 Q1970.21 1473.39 1972.5 1471.65 Q1974.82 1469.92 1974.82 1466.61 Q1974.82 1463.55 1972.66 1461.84 Q1970.53 1460.1 1966.71 1460.1 L1962.69 1460.1 L1962.69 1456.26 L1966.9 1456.26 Q1970.35 1456.26 1972.18 1454.89 Q1974.01 1453.5 1974.01 1450.91 Q1974.01 1448.25 1972.11 1446.84 Q1970.23 1445.4 1966.71 1445.4 Q1964.79 1445.4 1962.59 1445.82 Q1960.39 1446.24 1957.76 1447.11 L1957.76 1442.95 Q1960.42 1442.21 1962.73 1441.84 Q1965.07 1441.47 1967.13 1441.47 Q1972.45 1441.47 1975.56 1443.9 Q1978.66 1446.3 1978.66 1450.43 Q1978.66 1453.3 1977.01 1455.29 Q1975.37 1457.25 1972.34 1458.02 Z\" fill=\"#000000\" fill-rule=\"evenodd\" fill-opacity=\"1\" /><path clip-path=\"url(#clip020)\" d=\"M 0 0 M1994.54 1445.17 Q1990.93 1445.17 1989.1 1448.74 Q1987.29 1452.28 1987.29 1459.41 Q1987.29 1466.51 1989.1 1470.08 Q1990.93 1473.62 1994.54 1473.62 Q1998.17 1473.62 1999.98 1470.08 Q2001.81 1466.51 2001.81 1459.41 Q2001.81 1452.28 1999.98 1448.74 Q1998.17 1445.17 1994.54 1445.17 M1994.54 1441.47 Q2000.35 1441.47 2003.4 1446.07 Q2006.48 1450.66 2006.48 1459.41 Q2006.48 1468.13 2003.4 1472.74 Q2000.35 1477.32 1994.54 1477.32 Q1988.73 1477.32 1985.65 1472.74 Q1982.59 1468.13 1982.59 1459.41 Q1982.59 1450.66 1985.65 1446.07 Q1988.73 1441.47 1994.54 1441.47 Z\" fill=\"#000000\" fill-rule=\"evenodd\" fill-opacity=\"1\" /><path clip-path=\"url(#clip020)\" d=\"M 0 0 M2021.55 1445.17 Q2017.94 1445.17 2016.11 1448.74 Q2014.31 1452.28 2014.31 1459.41 Q2014.31 1466.51 2016.11 1470.08 Q2017.94 1473.62 2021.55 1473.62 Q2025.19 1473.62 2026.99 1470.08 Q2028.82 1466.51 2028.82 1459.41 Q2028.82 1452.28 2026.99 1448.74 Q2025.19 1445.17 2021.55 1445.17 M2021.55 1441.47 Q2027.36 1441.47 2030.42 1446.07 Q2033.5 1450.66 2033.5 1459.41 Q2033.5 1468.13 2030.42 1472.74 Q2027.36 1477.32 2021.55 1477.32 Q2015.74 1477.32 2012.66 1472.74 Q2009.61 1468.13 2009.61 1459.41 Q2009.61 1450.66 2012.66 1446.07 Q2015.74 1441.47 2021.55 1441.47 Z\" fill=\"#000000\" fill-rule=\"evenodd\" fill-opacity=\"1\" /><path clip-path=\"url(#clip020)\" d=\"M 0 0 M138.205 1341.19 Q134.593 1341.19 132.765 1344.76 Q130.959 1348.3 130.959 1355.43 Q130.959 1362.53 132.765 1366.1 Q134.593 1369.64 138.205 1369.64 Q141.839 1369.64 143.644 1366.1 Q145.473 1362.53 145.473 1355.43 Q145.473 1348.3 143.644 1344.76 Q141.839 1341.19 138.205 1341.19 M138.205 1337.49 Q144.015 1337.49 147.07 1342.09 Q150.149 1346.68 150.149 1355.43 Q150.149 1364.15 147.07 1368.76 Q144.015 1373.34 138.205 1373.34 Q132.394 1373.34 129.316 1368.76 Q126.26 1364.15 126.26 1355.43 Q126.26 1346.68 129.316 1342.09 Q132.394 1337.49 138.205 1337.49 Z\" fill=\"#000000\" fill-rule=\"evenodd\" fill-opacity=\"1\" /><path clip-path=\"url(#clip020)\" d=\"M 0 0 M155.218 1366.79 L160.103 1366.79 L160.103 1372.67 L155.218 1372.67 L155.218 1366.79 Z\" fill=\"#000000\" fill-rule=\"evenodd\" fill-opacity=\"1\" /><path clip-path=\"url(#clip020)\" d=\"M 0 0 M178.019 1342.19 L166.214 1360.64 L178.019 1360.64 L178.019 1342.19 M176.792 1338.11 L182.672 1338.11 L182.672 1360.64 L187.602 1360.64 L187.602 1364.52 L182.672 1364.52 L182.672 1372.67 L178.019 1372.67 L178.019 1364.52 L162.417 1364.52 L162.417 1360.01 L176.792 1338.11 Z\" fill=\"#000000\" fill-rule=\"evenodd\" fill-opacity=\"1\" /><path clip-path=\"url(#clip020)\" d=\"M 0 0 M139.686 1129.66 Q136.075 1129.66 134.246 1133.22 Q132.441 1136.76 132.441 1143.89 Q132.441 1151 134.246 1154.56 Q136.075 1158.11 139.686 1158.11 Q143.32 1158.11 145.126 1154.56 Q146.954 1151 146.954 1143.89 Q146.954 1136.76 145.126 1133.22 Q143.32 1129.66 139.686 1129.66 M139.686 1125.95 Q145.496 1125.95 148.552 1130.56 Q151.63 1135.14 151.63 1143.89 Q151.63 1152.62 148.552 1157.23 Q145.496 1161.81 139.686 1161.81 Q133.876 1161.81 130.797 1157.23 Q127.742 1152.62 127.742 1143.89 Q127.742 1135.14 130.797 1130.56 Q133.876 1125.95 139.686 1125.95 Z\" fill=\"#000000\" fill-rule=\"evenodd\" fill-opacity=\"1\" /><path clip-path=\"url(#clip020)\" d=\"M 0 0 M156.7 1155.26 L161.584 1155.26 L161.584 1161.14 L156.7 1161.14 L156.7 1155.26 Z\" fill=\"#000000\" fill-rule=\"evenodd\" fill-opacity=\"1\" /><path clip-path=\"url(#clip020)\" d=\"M 0 0 M166.7 1126.58 L185.056 1126.58 L185.056 1130.51 L170.982 1130.51 L170.982 1138.99 Q172.001 1138.64 173.019 1138.48 Q174.038 1138.29 175.056 1138.29 Q180.843 1138.29 184.223 1141.46 Q187.602 1144.63 187.602 1150.05 Q187.602 1155.63 184.13 1158.73 Q180.658 1161.81 174.339 1161.81 Q172.163 1161.81 169.894 1161.44 Q167.649 1161.07 165.241 1160.33 L165.241 1155.63 Q167.325 1156.76 169.547 1157.32 Q171.769 1157.87 174.246 1157.87 Q178.251 1157.87 180.589 1155.77 Q182.927 1153.66 182.927 1150.05 Q182.927 1146.44 180.589 1144.33 Q178.251 1142.23 174.246 1142.23 Q172.371 1142.23 170.496 1142.64 Q168.644 1143.06 166.7 1143.94 L166.7 1126.58 Z\" fill=\"#000000\" fill-rule=\"evenodd\" fill-opacity=\"1\" /><path clip-path=\"url(#clip020)\" d=\"M 0 0 M138.529 918.122 Q134.918 918.122 133.089 921.687 Q131.283 925.229 131.283 932.358 Q131.283 939.465 133.089 943.03 Q134.918 946.571 138.529 946.571 Q142.163 946.571 143.968 943.03 Q145.797 939.465 145.797 932.358 Q145.797 925.229 143.968 921.687 Q142.163 918.122 138.529 918.122 M138.529 914.419 Q144.339 914.419 147.394 919.025 Q150.473 923.608 150.473 932.358 Q150.473 941.085 147.394 945.692 Q144.339 950.275 138.529 950.275 Q132.718 950.275 129.64 945.692 Q126.584 941.085 126.584 932.358 Q126.584 923.608 129.64 919.025 Q132.718 914.419 138.529 914.419 Z\" fill=\"#000000\" fill-rule=\"evenodd\" fill-opacity=\"1\" /><path clip-path=\"url(#clip020)\" d=\"M 0 0 M155.542 943.724 L160.427 943.724 L160.427 949.604 L155.542 949.604 L155.542 943.724 Z\" fill=\"#000000\" fill-rule=\"evenodd\" fill-opacity=\"1\" /><path clip-path=\"url(#clip020)\" d=\"M 0 0 M176.075 930.46 Q172.927 930.46 171.075 932.613 Q169.246 934.766 169.246 938.516 Q169.246 942.243 171.075 944.419 Q172.927 946.571 176.075 946.571 Q179.223 946.571 181.052 944.419 Q182.903 942.243 182.903 938.516 Q182.903 934.766 181.052 932.613 Q179.223 930.46 176.075 930.46 M185.357 915.808 L185.357 920.067 Q183.598 919.233 181.792 918.794 Q180.01 918.354 178.251 918.354 Q173.621 918.354 171.167 921.479 Q168.737 924.604 168.39 930.923 Q169.755 928.909 171.815 927.845 Q173.876 926.757 176.352 926.757 Q181.561 926.757 184.57 929.928 Q187.602 933.076 187.602 938.516 Q187.602 943.84 184.454 947.057 Q181.306 950.275 176.075 950.275 Q170.079 950.275 166.908 945.692 Q163.737 941.085 163.737 932.358 Q163.737 924.164 167.626 919.303 Q171.515 914.419 178.065 914.419 Q179.825 914.419 181.607 914.766 Q183.413 915.113 185.357 915.808 Z\" fill=\"#000000\" fill-rule=\"evenodd\" fill-opacity=\"1\" /><path clip-path=\"url(#clip020)\" d=\"M 0 0 M139.593 706.588 Q135.982 706.588 134.154 710.153 Q132.348 713.694 132.348 720.824 Q132.348 727.93 134.154 731.495 Q135.982 735.037 139.593 735.037 Q143.228 735.037 145.033 731.495 Q146.862 727.93 146.862 720.824 Q146.862 713.694 145.033 710.153 Q143.228 706.588 139.593 706.588 M139.593 702.884 Q145.404 702.884 148.459 707.491 Q151.538 712.074 151.538 720.824 Q151.538 729.551 148.459 734.157 Q145.404 738.74 139.593 738.74 Q133.783 738.74 130.705 734.157 Q127.649 729.551 127.649 720.824 Q127.649 712.074 130.705 707.491 Q133.783 702.884 139.593 702.884 Z\" fill=\"#000000\" fill-rule=\"evenodd\" fill-opacity=\"1\" /><path clip-path=\"url(#clip020)\" d=\"M 0 0 M156.607 732.19 L161.491 732.19 L161.491 738.069 L156.607 738.069 L156.607 732.19 Z\" fill=\"#000000\" fill-rule=\"evenodd\" fill-opacity=\"1\" /><path clip-path=\"url(#clip020)\" d=\"M 0 0 M165.38 703.509 L187.602 703.509 L187.602 705.5 L175.056 738.069 L170.172 738.069 L181.977 707.444 L165.38 707.444 L165.38 703.509 Z\" fill=\"#000000\" fill-rule=\"evenodd\" fill-opacity=\"1\" /><path clip-path=\"url(#clip020)\" d=\"M 0 0 M138.783 495.053 Q135.172 495.053 133.343 498.618 Q131.538 502.16 131.538 509.289 Q131.538 516.396 133.343 519.961 Q135.172 523.502 138.783 523.502 Q142.417 523.502 144.223 519.961 Q146.052 516.396 146.052 509.289 Q146.052 502.16 144.223 498.618 Q142.417 495.053 138.783 495.053 M138.783 491.35 Q144.593 491.35 147.649 495.956 Q150.728 500.539 150.728 509.289 Q150.728 518.016 147.649 522.623 Q144.593 527.206 138.783 527.206 Q132.973 527.206 129.894 522.623 Q126.839 518.016 126.839 509.289 Q126.839 500.539 129.894 495.956 Q132.973 491.35 138.783 491.35 Z\" fill=\"#000000\" fill-rule=\"evenodd\" fill-opacity=\"1\" /><path clip-path=\"url(#clip020)\" d=\"M 0 0 M155.797 520.655 L160.681 520.655 L160.681 526.535 L155.797 526.535 L155.797 520.655 Z\" fill=\"#000000\" fill-rule=\"evenodd\" fill-opacity=\"1\" /><path clip-path=\"url(#clip020)\" d=\"M 0 0 M175.751 510.123 Q172.417 510.123 170.496 511.905 Q168.598 513.688 168.598 516.812 Q168.598 519.937 170.496 521.72 Q172.417 523.502 175.751 523.502 Q179.084 523.502 181.005 521.72 Q182.927 519.914 182.927 516.812 Q182.927 513.688 181.005 511.905 Q179.107 510.123 175.751 510.123 M171.075 508.132 Q168.065 507.391 166.376 505.331 Q164.709 503.271 164.709 500.308 Q164.709 496.164 167.649 493.757 Q170.612 491.35 175.751 491.35 Q180.913 491.35 183.852 493.757 Q186.792 496.164 186.792 500.308 Q186.792 503.271 185.102 505.331 Q183.436 507.391 180.45 508.132 Q183.829 508.919 185.704 511.211 Q187.602 513.502 187.602 516.812 Q187.602 521.836 184.524 524.521 Q181.468 527.206 175.751 527.206 Q170.033 527.206 166.954 524.521 Q163.899 521.836 163.899 516.812 Q163.899 513.502 165.797 511.211 Q167.695 508.919 171.075 508.132 M169.362 500.748 Q169.362 503.433 171.028 504.938 Q172.718 506.442 175.751 506.442 Q178.76 506.442 180.45 504.938 Q182.163 503.433 182.163 500.748 Q182.163 498.063 180.45 496.558 Q178.76 495.053 175.751 495.053 Q172.718 495.053 171.028 496.558 Q169.362 498.063 169.362 500.748 Z\" fill=\"#000000\" fill-rule=\"evenodd\" fill-opacity=\"1\" /><path clip-path=\"url(#clip020)\" d=\"M 0 0 M138.876 283.519 Q135.265 283.519 133.436 287.084 Q131.63 290.625 131.63 297.755 Q131.63 304.861 133.436 308.426 Q135.265 311.968 138.876 311.968 Q142.51 311.968 144.316 308.426 Q146.144 304.861 146.144 297.755 Q146.144 290.625 144.316 287.084 Q142.51 283.519 138.876 283.519 M138.876 279.815 Q144.686 279.815 147.742 284.422 Q150.82 289.005 150.82 297.755 Q150.82 306.482 147.742 311.088 Q144.686 315.671 138.876 315.671 Q133.066 315.671 129.987 311.088 Q126.931 306.482 126.931 297.755 Q126.931 289.005 129.987 284.422 Q133.066 279.815 138.876 279.815 Z\" fill=\"#000000\" fill-rule=\"evenodd\" fill-opacity=\"1\" /><path clip-path=\"url(#clip020)\" d=\"M 0 0 M155.89 309.121 L160.774 309.121 L160.774 315 L155.89 315 L155.89 309.121 Z\" fill=\"#000000\" fill-rule=\"evenodd\" fill-opacity=\"1\" /><path clip-path=\"url(#clip020)\" d=\"M 0 0 M165.982 314.283 L165.982 310.023 Q167.741 310.857 169.547 311.296 Q171.353 311.736 173.089 311.736 Q177.718 311.736 180.149 308.634 Q182.602 305.509 182.95 299.167 Q181.607 301.158 179.547 302.222 Q177.487 303.287 174.987 303.287 Q169.802 303.287 166.769 300.162 Q163.76 297.014 163.76 291.574 Q163.76 286.25 166.908 283.033 Q170.056 279.815 175.288 279.815 Q181.283 279.815 184.431 284.422 Q187.602 289.005 187.602 297.755 Q187.602 305.926 183.714 310.81 Q179.848 315.671 173.297 315.671 Q171.538 315.671 169.732 315.324 Q167.927 314.977 165.982 314.283 M175.288 299.63 Q178.436 299.63 180.264 297.477 Q182.116 295.324 182.116 291.574 Q182.116 287.848 180.264 285.695 Q178.436 283.519 175.288 283.519 Q172.14 283.519 170.288 285.695 Q168.459 287.848 168.459 291.574 Q168.459 295.324 170.288 297.477 Q172.14 299.63 175.288 299.63 Z\" fill=\"#000000\" fill-rule=\"evenodd\" fill-opacity=\"1\" /><path clip-path=\"url(#clip020)\" d=\"M 0 0 M130.728 99.5305 L138.367 99.5305 L138.367 73.1649 L130.056 74.8316 L130.056 70.5723 L138.32 68.9057 L142.996 68.9057 L142.996 99.5305 L150.635 99.5305 L150.635 103.466 L130.728 103.466 L130.728 99.5305 Z\" fill=\"#000000\" fill-rule=\"evenodd\" fill-opacity=\"1\" /><path clip-path=\"url(#clip020)\" d=\"M 0 0 M155.704 97.5861 L160.589 97.5861 L160.589 103.466 L155.704 103.466 L155.704 97.5861 Z\" fill=\"#000000\" fill-rule=\"evenodd\" fill-opacity=\"1\" /><path clip-path=\"url(#clip020)\" d=\"M 0 0 M175.658 71.9844 Q172.047 71.9844 170.218 75.5492 Q168.413 79.0908 168.413 86.2204 Q168.413 93.3268 170.218 96.8916 Q172.047 100.433 175.658 100.433 Q179.292 100.433 181.098 96.8916 Q182.927 93.3268 182.927 86.2204 Q182.927 79.0908 181.098 75.5492 Q179.292 71.9844 175.658 71.9844 M175.658 68.2807 Q181.468 68.2807 184.524 72.8871 Q187.602 77.4704 187.602 86.2204 Q187.602 94.9472 184.524 99.5537 Q181.468 104.137 175.658 104.137 Q169.848 104.137 166.769 99.5537 Q163.714 94.9472 163.714 86.2204 Q163.714 77.4704 166.769 72.8871 Q169.848 68.2807 175.658 68.2807 Z\" fill=\"#000000\" fill-rule=\"evenodd\" fill-opacity=\"1\" /><path clip-path=\"url(#clip020)\" d=\"M 0 0 M870.955 1508.52 L879.612 1508.52 L900.682 1548.28 L900.682 1508.52 L906.921 1508.52 L906.921 1556.04 L898.263 1556.04 L877.193 1516.29 L877.193 1556.04 L870.955 1556.04 L870.955 1508.52 Z\" fill=\"#000000\" fill-rule=\"evenodd\" fill-opacity=\"1\" /><path clip-path=\"url(#clip020)\" d=\"M 0 0 M912.459 1541.98 L912.459 1520.4 L918.315 1520.4 L918.315 1541.75 Q918.315 1546.81 920.289 1549.36 Q922.262 1551.87 926.209 1551.87 Q930.951 1551.87 933.689 1548.85 Q936.458 1545.83 936.458 1540.61 L936.458 1520.4 L942.314 1520.4 L942.314 1556.04 L936.458 1556.04 L936.458 1550.57 Q934.325 1553.82 931.492 1555.41 Q928.691 1556.97 924.968 1556.97 Q918.825 1556.97 915.642 1553.15 Q912.459 1549.33 912.459 1541.98 M927.196 1519.54 L927.196 1519.54 Z\" fill=\"#000000\" fill-rule=\"evenodd\" fill-opacity=\"1\" /><path clip-path=\"url(#clip020)\" d=\"M 0 0 M976.211 1527.24 Q978.408 1523.29 981.463 1521.41 Q984.519 1519.54 988.656 1519.54 Q994.226 1519.54 997.25 1523.45 Q1000.27 1527.33 1000.27 1534.53 L1000.27 1556.04 L994.386 1556.04 L994.386 1534.72 Q994.386 1529.59 992.571 1527.11 Q990.757 1524.63 987.033 1524.63 Q982.482 1524.63 979.84 1527.65 Q977.198 1530.68 977.198 1535.9 L977.198 1556.04 L971.31 1556.04 L971.31 1534.72 Q971.31 1529.56 969.496 1527.11 Q967.681 1524.63 963.894 1524.63 Q959.406 1524.63 956.764 1527.68 Q954.122 1530.71 954.122 1535.9 L954.122 1556.04 L948.234 1556.04 L948.234 1520.4 L954.122 1520.4 L954.122 1525.93 Q956.128 1522.66 958.929 1521.1 Q961.729 1519.54 965.581 1519.54 Q969.464 1519.54 972.169 1521.51 Q974.907 1523.48 976.211 1527.24 Z\" fill=\"#000000\" fill-rule=\"evenodd\" fill-opacity=\"1\" /><path clip-path=\"url(#clip020)\" d=\"M 0 0 M1032.01 1538.25 Q1032.01 1531.79 1029.33 1528.13 Q1026.69 1524.44 1022.04 1524.44 Q1017.4 1524.44 1014.72 1528.13 Q1012.08 1531.79 1012.08 1538.25 Q1012.08 1544.71 1014.72 1548.4 Q1017.4 1552.07 1022.04 1552.07 Q1026.69 1552.07 1029.33 1548.4 Q1032.01 1544.71 1032.01 1538.25 M1012.08 1525.81 Q1013.93 1522.62 1016.73 1521.1 Q1019.56 1519.54 1023.48 1519.54 Q1029.97 1519.54 1034.01 1524.69 Q1038.09 1529.85 1038.09 1538.25 Q1038.09 1546.65 1034.01 1551.81 Q1029.97 1556.97 1023.48 1556.97 Q1019.56 1556.97 1016.73 1555.44 Q1013.93 1553.88 1012.08 1550.7 L1012.08 1556.04 L1006.19 1556.04 L1006.19 1506.52 L1012.08 1506.52 L1012.08 1525.81 Z\" fill=\"#000000\" fill-rule=\"evenodd\" fill-opacity=\"1\" /><path clip-path=\"url(#clip020)\" d=\"M 0 0 M1074.72 1536.76 L1074.72 1539.62 L1047.79 1539.62 Q1048.18 1545.67 1051.42 1548.85 Q1054.7 1552 1060.53 1552 Q1063.9 1552 1067.05 1551.17 Q1070.23 1550.35 1073.35 1548.69 L1073.35 1554.23 Q1070.2 1555.57 1066.89 1556.27 Q1063.58 1556.97 1060.18 1556.97 Q1051.65 1556.97 1046.65 1552 Q1041.68 1547.04 1041.68 1538.57 Q1041.68 1529.82 1046.39 1524.69 Q1051.14 1519.54 1059.16 1519.54 Q1066.35 1519.54 1070.52 1524.18 Q1074.72 1528.8 1074.72 1536.76 M1068.86 1535.04 Q1068.8 1530.23 1066.16 1527.37 Q1063.55 1524.5 1059.22 1524.5 Q1054.32 1524.5 1051.36 1527.27 Q1048.43 1530.04 1047.98 1535.07 L1068.86 1535.04 Z\" fill=\"#000000\" fill-rule=\"evenodd\" fill-opacity=\"1\" /><path clip-path=\"url(#clip020)\" d=\"M 0 0 M1101.52 1525.87 Q1100.53 1525.3 1099.36 1525.04 Q1098.21 1524.76 1096.81 1524.76 Q1091.84 1524.76 1089.17 1528 Q1086.53 1531.22 1086.53 1537.27 L1086.53 1556.04 L1080.64 1556.04 L1080.64 1520.4 L1086.53 1520.4 L1086.53 1525.93 Q1088.38 1522.69 1091.34 1521.13 Q1094.3 1519.54 1098.53 1519.54 Q1099.13 1519.54 1099.87 1519.63 Q1100.6 1519.7 1101.49 1519.85 L1101.52 1525.87 Z\" fill=\"#000000\" fill-rule=\"evenodd\" fill-opacity=\"1\" /><path clip-path=\"url(#clip020)\" d=\"M 0 0 M1142.2 1524.5 Q1137.49 1524.5 1134.75 1528.19 Q1132.01 1531.85 1132.01 1538.25 Q1132.01 1544.65 1134.72 1548.34 Q1137.45 1552 1142.2 1552 Q1146.88 1552 1149.61 1548.31 Q1152.35 1544.62 1152.35 1538.25 Q1152.35 1531.92 1149.61 1528.23 Q1146.88 1524.5 1142.2 1524.5 M1142.2 1519.54 Q1149.84 1519.54 1154.2 1524.5 Q1158.56 1529.47 1158.56 1538.25 Q1158.56 1547 1154.2 1552 Q1149.84 1556.97 1142.2 1556.97 Q1134.53 1556.97 1130.17 1552 Q1125.84 1547 1125.84 1538.25 Q1125.84 1529.47 1130.17 1524.5 Q1134.53 1519.54 1142.2 1519.54 Z\" fill=\"#000000\" fill-rule=\"evenodd\" fill-opacity=\"1\" /><path clip-path=\"url(#clip020)\" d=\"M 0 0 M1182.75 1506.52 L1182.75 1511.39 L1177.15 1511.39 Q1173.99 1511.39 1172.75 1512.66 Q1171.54 1513.93 1171.54 1517.24 L1171.54 1520.4 L1181.19 1520.4 L1181.19 1524.95 L1171.54 1524.95 L1171.54 1556.04 L1165.65 1556.04 L1165.65 1524.95 L1160.05 1524.95 L1160.05 1520.4 L1165.65 1520.4 L1165.65 1517.91 Q1165.65 1511.96 1168.42 1509.26 Q1171.19 1506.52 1177.21 1506.52 L1182.75 1506.52 Z\" fill=\"#000000\" fill-rule=\"evenodd\" fill-opacity=\"1\" /><path clip-path=\"url(#clip020)\" d=\"M 0 0 M1203.28 1508.52 L1243.48 1508.52 L1243.48 1513.93 L1226.61 1513.93 L1226.61 1556.04 L1220.15 1556.04 L1220.15 1513.93 L1203.28 1513.93 L1203.28 1508.52 Z\" fill=\"#000000\" fill-rule=\"evenodd\" fill-opacity=\"1\" /><path clip-path=\"url(#clip020)\" d=\"M 0 0 M1260.69 1525.87 Q1259.71 1525.3 1258.53 1525.04 Q1257.38 1524.76 1255.98 1524.76 Q1251.02 1524.76 1248.35 1528 Q1245.7 1531.22 1245.7 1537.27 L1245.7 1556.04 L1239.82 1556.04 L1239.82 1520.4 L1245.7 1520.4 L1245.7 1525.93 Q1247.55 1522.69 1250.51 1521.13 Q1253.47 1519.54 1257.7 1519.54 Q1258.31 1519.54 1259.04 1519.63 Q1259.77 1519.7 1260.66 1519.85 L1260.69 1525.87 Z\" fill=\"#000000\" fill-rule=\"evenodd\" fill-opacity=\"1\" /><path clip-path=\"url(#clip020)\" d=\"M 0 0 M1283.04 1538.12 Q1275.94 1538.12 1273.2 1539.75 Q1270.47 1541.37 1270.47 1545.29 Q1270.47 1548.4 1272.5 1550.25 Q1274.57 1552.07 1278.11 1552.07 Q1282.97 1552.07 1285.9 1548.63 Q1288.86 1545.16 1288.86 1539.43 L1288.86 1538.12 L1283.04 1538.12 M1294.72 1535.71 L1294.72 1556.04 L1288.86 1556.04 L1288.86 1550.63 Q1286.86 1553.88 1283.87 1555.44 Q1280.87 1556.97 1276.55 1556.97 Q1271.07 1556.97 1267.82 1553.91 Q1264.61 1550.82 1264.61 1545.67 Q1264.61 1539.65 1268.62 1536.6 Q1272.66 1533.54 1280.65 1533.54 L1288.86 1533.54 L1288.86 1532.97 Q1288.86 1528.93 1286.19 1526.73 Q1283.55 1524.5 1278.74 1524.5 Q1275.69 1524.5 1272.79 1525.23 Q1269.89 1525.97 1267.22 1527.43 L1267.22 1522.02 Q1270.43 1520.78 1273.46 1520.17 Q1276.48 1519.54 1279.35 1519.54 Q1287.08 1519.54 1290.9 1523.55 Q1294.72 1527.56 1294.72 1535.71 Z\" fill=\"#000000\" fill-rule=\"evenodd\" fill-opacity=\"1\" /><path clip-path=\"url(#clip020)\" d=\"M 0 0 M1300.86 1520.4 L1306.72 1520.4 L1306.72 1556.04 L1300.86 1556.04 L1300.86 1520.4 M1300.86 1506.52 L1306.72 1506.52 L1306.72 1513.93 L1300.86 1513.93 L1300.86 1506.52 Z\" fill=\"#000000\" fill-rule=\"evenodd\" fill-opacity=\"1\" /><path clip-path=\"url(#clip020)\" d=\"M 0 0 M1342.49 1534.53 L1342.49 1556.04 L1336.64 1556.04 L1336.64 1534.72 Q1336.64 1529.66 1334.66 1527.14 Q1332.69 1524.63 1328.74 1524.63 Q1324 1524.63 1321.26 1527.65 Q1318.53 1530.68 1318.53 1535.9 L1318.53 1556.04 L1312.64 1556.04 L1312.64 1520.4 L1318.53 1520.4 L1318.53 1525.93 Q1320.63 1522.72 1323.46 1521.13 Q1326.33 1519.54 1330.05 1519.54 Q1336.19 1519.54 1339.34 1523.36 Q1342.49 1527.14 1342.49 1534.53 Z\" fill=\"#000000\" fill-rule=\"evenodd\" fill-opacity=\"1\" /><path clip-path=\"url(#clip020)\" d=\"M 0 0 M1348.64 1520.4 L1354.49 1520.4 L1354.49 1556.04 L1348.64 1556.04 L1348.64 1520.4 M1348.64 1506.52 L1354.49 1506.52 L1354.49 1513.93 L1348.64 1513.93 L1348.64 1506.52 Z\" fill=\"#000000\" fill-rule=\"evenodd\" fill-opacity=\"1\" /><path clip-path=\"url(#clip020)\" d=\"M 0 0 M1390.27 1534.53 L1390.27 1556.04 L1384.41 1556.04 L1384.41 1534.72 Q1384.41 1529.66 1382.44 1527.14 Q1380.47 1524.63 1376.52 1524.63 Q1371.78 1524.63 1369.04 1527.65 Q1366.3 1530.68 1366.3 1535.9 L1366.3 1556.04 L1360.41 1556.04 L1360.41 1520.4 L1366.3 1520.4 L1366.3 1525.93 Q1368.4 1522.72 1371.24 1521.13 Q1374.1 1519.54 1377.82 1519.54 Q1383.97 1519.54 1387.12 1523.36 Q1390.27 1527.14 1390.27 1534.53 Z\" fill=\"#000000\" fill-rule=\"evenodd\" fill-opacity=\"1\" /><path clip-path=\"url(#clip020)\" d=\"M 0 0 M1419.87 1537.81 Q1419.87 1531.44 1417.23 1527.94 Q1414.62 1524.44 1409.88 1524.44 Q1405.16 1524.44 1402.52 1527.94 Q1399.91 1531.44 1399.91 1537.81 Q1399.91 1544.14 1402.52 1547.64 Q1405.16 1551.14 1409.88 1551.14 Q1414.62 1551.14 1417.23 1547.64 Q1419.87 1544.14 1419.87 1537.81 M1425.73 1551.62 Q1425.73 1560.72 1421.68 1565.15 Q1417.64 1569.6 1409.3 1569.6 Q1406.21 1569.6 1403.48 1569.13 Q1400.74 1568.68 1398.16 1567.72 L1398.16 1562.03 Q1400.74 1563.43 1403.25 1564.1 Q1405.77 1564.76 1408.38 1564.76 Q1414.14 1564.76 1417 1561.74 Q1419.87 1558.75 1419.87 1552.67 L1419.87 1549.77 Q1418.06 1552.92 1415.22 1554.48 Q1412.39 1556.04 1408.44 1556.04 Q1401.89 1556.04 1397.88 1551.05 Q1393.87 1546.05 1393.87 1537.81 Q1393.87 1529.53 1397.88 1524.53 Q1401.89 1519.54 1408.44 1519.54 Q1412.39 1519.54 1415.22 1521.1 Q1418.06 1522.66 1419.87 1525.81 L1419.87 1520.4 L1425.73 1520.4 L1425.73 1551.62 Z\" fill=\"#000000\" fill-rule=\"evenodd\" fill-opacity=\"1\" /><path clip-path=\"url(#clip020)\" d=\"M 0 0 M1481.33 1510.08 L1481.33 1516.35 Q1477.67 1514.6 1474.42 1513.74 Q1471.18 1512.88 1468.15 1512.88 Q1462.9 1512.88 1460.04 1514.92 Q1457.2 1516.96 1457.2 1520.71 Q1457.2 1523.87 1459.08 1525.49 Q1460.99 1527.08 1466.28 1528.07 L1470.16 1528.86 Q1477.35 1530.23 1480.76 1533.7 Q1484.19 1537.14 1484.19 1542.93 Q1484.19 1549.84 1479.55 1553.4 Q1474.93 1556.97 1465.99 1556.97 Q1462.62 1556.97 1458.8 1556.2 Q1455.01 1555.44 1450.93 1553.94 L1450.93 1547.32 Q1454.85 1549.52 1458.6 1550.63 Q1462.36 1551.75 1465.99 1551.75 Q1471.5 1551.75 1474.49 1549.58 Q1477.48 1547.42 1477.48 1543.41 Q1477.48 1539.91 1475.31 1537.93 Q1473.18 1535.96 1468.28 1534.97 L1464.37 1534.21 Q1457.17 1532.78 1453.96 1529.72 Q1450.74 1526.67 1450.74 1521.22 Q1450.74 1514.92 1455.17 1511.29 Q1459.62 1507.66 1467.42 1507.66 Q1470.76 1507.66 1474.23 1508.27 Q1477.7 1508.87 1481.33 1510.08 Z\" fill=\"#000000\" fill-rule=\"evenodd\" fill-opacity=\"1\" /><path clip-path=\"url(#clip020)\" d=\"M 0 0 M1506.54 1538.12 Q1499.44 1538.12 1496.7 1539.75 Q1493.97 1541.37 1493.97 1545.29 Q1493.97 1548.4 1496 1550.25 Q1498.07 1552.07 1501.61 1552.07 Q1506.47 1552.07 1509.4 1548.63 Q1512.36 1545.16 1512.36 1539.43 L1512.36 1538.12 L1506.54 1538.12 M1518.22 1535.71 L1518.22 1556.04 L1512.36 1556.04 L1512.36 1550.63 Q1510.36 1553.88 1507.37 1555.44 Q1504.37 1556.97 1500.05 1556.97 Q1494.57 1556.97 1491.32 1553.91 Q1488.11 1550.82 1488.11 1545.67 Q1488.11 1539.65 1492.12 1536.6 Q1496.16 1533.54 1504.15 1533.54 L1512.36 1533.54 L1512.36 1532.97 Q1512.36 1528.93 1509.69 1526.73 Q1507.05 1524.5 1502.24 1524.5 Q1499.19 1524.5 1496.29 1525.23 Q1493.39 1525.97 1490.72 1527.43 L1490.72 1522.02 Q1493.93 1520.78 1496.96 1520.17 Q1499.98 1519.54 1502.85 1519.54 Q1510.58 1519.54 1514.4 1523.55 Q1518.22 1527.56 1518.22 1535.71 Z\" fill=\"#000000\" fill-rule=\"evenodd\" fill-opacity=\"1\" /><path clip-path=\"url(#clip020)\" d=\"M 0 0 M1552.12 1527.24 Q1554.31 1523.29 1557.37 1521.41 Q1560.42 1519.54 1564.56 1519.54 Q1570.13 1519.54 1573.16 1523.45 Q1576.18 1527.33 1576.18 1534.53 L1576.18 1556.04 L1570.29 1556.04 L1570.29 1534.72 Q1570.29 1529.59 1568.48 1527.11 Q1566.66 1524.63 1562.94 1524.63 Q1558.39 1524.63 1555.75 1527.65 Q1553.1 1530.68 1553.1 1535.9 L1553.1 1556.04 L1547.22 1556.04 L1547.22 1534.72 Q1547.22 1529.56 1545.4 1527.11 Q1543.59 1524.63 1539.8 1524.63 Q1535.31 1524.63 1532.67 1527.68 Q1530.03 1530.71 1530.03 1535.9 L1530.03 1556.04 L1524.14 1556.04 L1524.14 1520.4 L1530.03 1520.4 L1530.03 1525.93 Q1532.03 1522.66 1534.83 1521.1 Q1537.63 1519.54 1541.49 1519.54 Q1545.37 1519.54 1548.07 1521.51 Q1550.81 1523.48 1552.12 1527.24 Z\" fill=\"#000000\" fill-rule=\"evenodd\" fill-opacity=\"1\" /><path clip-path=\"url(#clip020)\" d=\"M 0 0 M1587.99 1550.7 L1587.99 1569.6 L1582.1 1569.6 L1582.1 1520.4 L1587.99 1520.4 L1587.99 1525.81 Q1589.83 1522.62 1592.63 1521.1 Q1595.47 1519.54 1599.38 1519.54 Q1605.88 1519.54 1609.92 1524.69 Q1613.99 1529.85 1613.99 1538.25 Q1613.99 1546.65 1609.92 1551.81 Q1605.88 1556.97 1599.38 1556.97 Q1595.47 1556.97 1592.63 1555.44 Q1589.83 1553.88 1587.99 1550.7 M1607.91 1538.25 Q1607.91 1531.79 1605.24 1528.13 Q1602.6 1524.44 1597.95 1524.44 Q1593.3 1524.44 1590.63 1528.13 Q1587.99 1531.79 1587.99 1538.25 Q1587.99 1544.71 1590.63 1548.4 Q1593.3 1552.07 1597.95 1552.07 Q1602.6 1552.07 1605.24 1548.4 Q1607.91 1544.71 1607.91 1538.25 Z\" fill=\"#000000\" fill-rule=\"evenodd\" fill-opacity=\"1\" /><path clip-path=\"url(#clip020)\" d=\"M 0 0 M1620.13 1506.52 L1625.99 1506.52 L1625.99 1556.04 L1620.13 1556.04 L1620.13 1506.52 Z\" fill=\"#000000\" fill-rule=\"evenodd\" fill-opacity=\"1\" /><path clip-path=\"url(#clip020)\" d=\"M 0 0 M1662.63 1536.76 L1662.63 1539.62 L1635.7 1539.62 Q1636.08 1545.67 1639.33 1548.85 Q1642.61 1552 1648.43 1552 Q1651.8 1552 1654.95 1551.17 Q1658.14 1550.35 1661.26 1548.69 L1661.26 1554.23 Q1658.11 1555.57 1654.8 1556.27 Q1651.49 1556.97 1648.08 1556.97 Q1639.55 1556.97 1634.55 1552 Q1629.59 1547.04 1629.59 1538.57 Q1629.59 1529.82 1634.3 1524.69 Q1639.04 1519.54 1647.06 1519.54 Q1654.25 1519.54 1658.42 1524.18 Q1662.63 1528.8 1662.63 1536.76 M1656.77 1535.04 Q1656.71 1530.23 1654.06 1527.37 Q1651.45 1524.5 1647.13 1524.5 Q1642.22 1524.5 1639.26 1527.27 Q1636.34 1530.04 1635.89 1535.07 L1656.77 1535.04 Z\" fill=\"#000000\" fill-rule=\"evenodd\" fill-opacity=\"1\" /><path clip-path=\"url(#clip020)\" d=\"M 0 0 M1691.49 1521.45 L1691.49 1526.98 Q1689.01 1525.71 1686.34 1525.07 Q1683.66 1524.44 1680.8 1524.44 Q1676.44 1524.44 1674.24 1525.77 Q1672.08 1527.11 1672.08 1529.79 Q1672.08 1531.82 1673.64 1533 Q1675.2 1534.15 1679.91 1535.2 L1681.91 1535.64 Q1688.15 1536.98 1690.76 1539.43 Q1693.4 1541.85 1693.4 1546.21 Q1693.4 1551.17 1689.46 1554.07 Q1685.54 1556.97 1678.67 1556.97 Q1675.8 1556.97 1672.68 1556.39 Q1669.6 1555.85 1666.16 1554.74 L1666.16 1548.69 Q1669.41 1550.38 1672.56 1551.24 Q1675.71 1552.07 1678.79 1552.07 Q1682.93 1552.07 1685.16 1550.66 Q1687.39 1549.23 1687.39 1546.65 Q1687.39 1544.27 1685.76 1542.99 Q1684.17 1541.72 1678.73 1540.54 L1676.69 1540.07 Q1671.25 1538.92 1668.83 1536.56 Q1666.41 1534.18 1666.41 1530.04 Q1666.41 1525.01 1669.98 1522.27 Q1673.54 1519.54 1680.1 1519.54 Q1683.35 1519.54 1686.21 1520.01 Q1689.08 1520.49 1691.49 1521.45 Z\" fill=\"#000000\" fill-rule=\"evenodd\" fill-opacity=\"1\" /><path clip-path=\"url(#clip020)\" d=\"M 0 0 M44.1444 1026.82 L50.9239 1026.82 Q47.9002 1030.07 46.4043 1033.76 Q44.9083 1037.42 44.9083 1041.56 Q44.9083 1049.71 49.9054 1054.04 Q54.8707 1058.37 64.2919 1058.37 Q73.6813 1058.37 78.6784 1054.04 Q83.6436 1049.71 83.6436 1041.56 Q83.6436 1037.42 82.1477 1033.76 Q80.6518 1030.07 77.6281 1026.82 L84.3439 1026.82 Q86.6355 1030.2 87.7814 1033.99 Q88.9272 1037.74 88.9272 1041.94 Q88.9272 1052.73 82.3387 1058.94 Q75.7183 1065.15 64.2919 1065.15 Q52.8336 1065.15 46.2451 1058.94 Q39.6248 1052.73 39.6248 1041.94 Q39.6248 1037.68 40.7706 1033.92 Q41.8846 1030.14 44.1444 1026.82 Z\" fill=\"#000000\" fill-rule=\"evenodd\" fill-opacity=\"1\" /><path clip-path=\"url(#clip020)\" d=\"M 0 0 M38.479 1020.68 L38.479 1014.83 L88.0042 1014.83 L88.0042 1020.68 L38.479 1020.68 Z\" fill=\"#000000\" fill-rule=\"evenodd\" fill-opacity=\"1\" /><path clip-path=\"url(#clip020)\" d=\"M 0 0 M70.0847 992.482 Q70.0847 999.58 71.7079 1002.32 Q73.3312 1005.05 77.2461 1005.05 Q80.3653 1005.05 82.2114 1003.02 Q84.0256 1000.95 84.0256 997.415 Q84.0256 992.546 80.5881 989.617 Q77.1188 986.657 71.3897 986.657 L70.0847 986.657 L70.0847 992.482 M67.6657 980.801 L88.0042 980.801 L88.0042 986.657 L82.5933 986.657 Q85.8398 988.663 87.3994 991.654 Q88.9272 994.646 88.9272 998.975 Q88.9272 1004.45 85.8716 1007.7 Q82.7843 1010.91 77.6281 1010.91 Q71.6125 1010.91 68.5569 1006.9 Q65.5014 1002.86 65.5014 994.869 L65.5014 986.657 L64.9285 986.657 Q60.8862 986.657 58.6901 989.331 Q56.4621 991.973 56.4621 996.779 Q56.4621 999.834 57.1941 1002.73 Q57.9262 1005.63 59.3903 1008.3 L53.9795 1008.3 Q52.7381 1005.09 52.1334 1002.06 Q51.4968 999.039 51.4968 996.174 Q51.4968 988.44 55.5072 984.62 Q59.5176 980.801 67.6657 980.801 Z\" fill=\"#000000\" fill-rule=\"evenodd\" fill-opacity=\"1\" /><path clip-path=\"url(#clip020)\" d=\"M 0 0 M53.4065 951.932 L58.9447 951.932 Q57.6716 954.415 57.035 957.089 Q56.3984 959.762 56.3984 962.627 Q56.3984 966.987 57.7352 969.184 Q59.072 971.348 61.7456 971.348 Q63.7826 971.348 64.9603 969.788 Q66.1061 968.229 67.1565 963.518 L67.6021 961.513 Q68.9389 955.274 71.3897 952.665 Q73.8086 950.023 78.1691 950.023 Q83.1344 950.023 86.0308 953.969 Q88.9272 957.884 88.9272 964.759 Q88.9272 967.624 88.3543 970.743 Q87.8132 973.83 86.6992 977.268 L80.6518 977.268 Q82.3387 974.021 83.198 970.87 Q84.0256 967.719 84.0256 964.632 Q84.0256 960.494 82.6251 958.266 Q81.1929 956.038 78.6147 956.038 Q76.2276 956.038 74.9545 957.662 Q73.6813 959.253 72.5037 964.696 L72.0262 966.733 Q70.8804 972.175 68.5251 974.594 Q66.138 977.013 62.0002 977.013 Q56.9713 977.013 54.2341 973.449 Q51.4968 969.884 51.4968 963.327 Q51.4968 960.081 51.9743 957.216 Q52.4517 954.351 53.4065 951.932 Z\" fill=\"#000000\" fill-rule=\"evenodd\" fill-opacity=\"1\" /><path clip-path=\"url(#clip020)\" d=\"M 0 0 M53.4065 921.154 L58.9447 921.154 Q57.6716 923.637 57.035 926.31 Q56.3984 928.984 56.3984 931.849 Q56.3984 936.209 57.7352 938.405 Q59.072 940.57 61.7456 940.57 Q63.7826 940.57 64.9603 939.01 Q66.1061 937.45 67.1565 932.74 L67.6021 930.735 Q68.9389 924.496 71.3897 921.886 Q73.8086 919.245 78.1691 919.245 Q83.1344 919.245 86.0308 923.191 Q88.9272 927.106 88.9272 933.981 Q88.9272 936.846 88.3543 939.965 Q87.8132 943.052 86.6992 946.49 L80.6518 946.49 Q82.3387 943.243 83.198 940.092 Q84.0256 936.941 84.0256 933.854 Q84.0256 929.716 82.6251 927.488 Q81.1929 925.26 78.6147 925.26 Q76.2276 925.26 74.9545 926.883 Q73.6813 928.475 72.5037 933.918 L72.0262 935.955 Q70.8804 941.397 68.5251 943.816 Q66.138 946.235 62.0002 946.235 Q56.9713 946.235 54.2341 942.67 Q51.4968 939.106 51.4968 932.549 Q51.4968 929.302 51.9743 926.438 Q52.4517 923.573 53.4065 921.154 Z\" fill=\"#000000\" fill-rule=\"evenodd\" fill-opacity=\"1\" /><path clip-path=\"url(#clip020)\" d=\"M 0 0 M52.3562 913.102 L52.3562 907.245 L88.0042 907.245 L88.0042 913.102 L52.3562 913.102 M38.479 913.102 L38.479 907.245 L45.895 907.245 L45.895 913.102 L38.479 913.102 Z\" fill=\"#000000\" fill-rule=\"evenodd\" fill-opacity=\"1\" /><path clip-path=\"url(#clip020)\" d=\"M 0 0 M38.479 883.056 L43.3487 883.056 L43.3487 888.657 Q43.3487 891.808 44.6219 893.05 Q45.895 894.259 49.2052 894.259 L52.3562 894.259 L52.3562 884.615 L56.9077 884.615 L56.9077 894.259 L88.0042 894.259 L88.0042 900.147 L56.9077 900.147 L56.9077 905.749 L52.3562 905.749 L52.3562 900.147 L49.8736 900.147 Q43.9216 900.147 41.2162 897.378 Q38.479 894.609 38.479 888.594 L38.479 883.056 Z\" fill=\"#000000\" fill-rule=\"evenodd\" fill-opacity=\"1\" /><path clip-path=\"url(#clip020)\" d=\"M 0 0 M52.3562 876.913 L52.3562 871.056 L88.0042 871.056 L88.0042 876.913 L52.3562 876.913 M38.479 876.913 L38.479 871.056 L45.895 871.056 L45.895 876.913 L38.479 876.913 Z\" fill=\"#000000\" fill-rule=\"evenodd\" fill-opacity=\"1\" /><path clip-path=\"url(#clip020)\" d=\"M 0 0 M53.7248 839.259 L59.1993 839.259 Q57.8307 841.742 57.1623 844.257 Q56.4621 846.739 56.4621 849.285 Q56.4621 854.983 60.0905 858.134 Q63.6872 861.285 70.212 861.285 Q76.7369 861.285 80.3653 858.134 Q83.9619 854.983 83.9619 849.285 Q83.9619 846.739 83.2935 844.257 Q82.5933 841.742 81.2247 839.259 L86.6355 839.259 Q87.7814 841.71 88.3543 844.352 Q88.9272 846.962 88.9272 849.922 Q88.9272 857.975 83.8664 862.717 Q78.8057 867.46 70.212 867.46 Q61.491 867.46 56.4939 862.685 Q51.4968 857.879 51.4968 849.54 Q51.4968 846.835 52.0697 844.257 Q52.6108 841.678 53.7248 839.259 Z\" fill=\"#000000\" fill-rule=\"evenodd\" fill-opacity=\"1\" /><path clip-path=\"url(#clip020)\" d=\"M 0 0 M70.0847 816.916 Q70.0847 824.014 71.7079 826.751 Q73.3312 829.488 77.2461 829.488 Q80.3653 829.488 82.2114 827.451 Q84.0256 825.382 84.0256 821.849 Q84.0256 816.979 80.5881 814.051 Q77.1188 811.091 71.3897 811.091 L70.0847 811.091 L70.0847 816.916 M67.6657 805.235 L88.0042 805.235 L88.0042 811.091 L82.5933 811.091 Q85.8398 813.096 87.3994 816.088 Q88.9272 819.08 88.9272 823.409 Q88.9272 828.883 85.8716 832.13 Q82.7843 835.345 77.6281 835.345 Q71.6125 835.345 68.5569 831.334 Q65.5014 827.292 65.5014 819.303 L65.5014 811.091 L64.9285 811.091 Q60.8862 811.091 58.6901 813.765 Q56.4621 816.407 56.4621 821.213 Q56.4621 824.268 57.1941 827.165 Q57.9262 830.061 59.3903 832.735 L53.9795 832.735 Q52.7381 829.52 52.1334 826.496 Q51.4968 823.472 51.4968 820.608 Q51.4968 812.874 55.5072 809.054 Q59.5176 805.235 67.6657 805.235 Z\" fill=\"#000000\" fill-rule=\"evenodd\" fill-opacity=\"1\" /><path clip-path=\"url(#clip020)\" d=\"M 0 0 M42.2347 793.299 L52.3562 793.299 L52.3562 781.236 L56.9077 781.236 L56.9077 793.299 L76.2594 793.299 Q80.6199 793.299 81.8613 792.121 Q83.1026 790.912 83.1026 787.252 L83.1026 781.236 L88.0042 781.236 L88.0042 787.252 Q88.0042 794.031 85.4897 796.609 Q82.9434 799.187 76.2594 799.187 L56.9077 799.187 L56.9077 803.484 L52.3562 803.484 L52.3562 799.187 L42.2347 799.187 L42.2347 793.299 Z\" fill=\"#000000\" fill-rule=\"evenodd\" fill-opacity=\"1\" /><path clip-path=\"url(#clip020)\" d=\"M 0 0 M52.3562 775.093 L52.3562 769.237 L88.0042 769.237 L88.0042 775.093 L52.3562 775.093 M38.479 775.093 L38.479 769.237 L45.895 769.237 L45.895 775.093 L38.479 775.093 Z\" fill=\"#000000\" fill-rule=\"evenodd\" fill-opacity=\"1\" /><path clip-path=\"url(#clip020)\" d=\"M 0 0 M56.4621 749.28 Q56.4621 753.991 60.1542 756.728 Q63.8145 759.465 70.212 759.465 Q76.6095 759.465 80.3017 756.76 Q83.9619 754.023 83.9619 749.28 Q83.9619 744.601 80.2698 741.864 Q76.5777 739.127 70.212 739.127 Q63.8781 739.127 60.186 741.864 Q56.4621 744.601 56.4621 749.28 M51.4968 749.28 Q51.4968 741.641 56.4621 737.281 Q61.4273 732.92 70.212 732.92 Q78.9649 732.92 83.9619 737.281 Q88.9272 741.641 88.9272 749.28 Q88.9272 756.951 83.9619 761.311 Q78.9649 765.64 70.212 765.64 Q61.4273 765.64 56.4621 761.311 Q51.4968 756.951 51.4968 749.28 Z\" fill=\"#000000\" fill-rule=\"evenodd\" fill-opacity=\"1\" /><path clip-path=\"url(#clip020)\" d=\"M 0 0 M66.4881 697.145 L88.0042 697.145 L88.0042 703.001 L66.679 703.001 Q61.6183 703.001 59.1038 704.975 Q56.5894 706.948 56.5894 710.895 Q56.5894 715.637 59.6131 718.375 Q62.6368 721.112 67.8567 721.112 L88.0042 721.112 L88.0042 727 L52.3562 727 L52.3562 721.112 L57.8944 721.112 Q54.6797 719.011 53.0883 716.179 Q51.4968 713.314 51.4968 709.59 Q51.4968 703.447 55.3163 700.296 Q59.1038 697.145 66.4881 697.145 Z\" fill=\"#000000\" fill-rule=\"evenodd\" fill-opacity=\"1\" /><path clip-path=\"url(#clip020)\" d=\"M 0 0 M46.818 654.145 L70.4666 662.866 L70.4666 645.392 L46.818 654.145 M40.4842 657.773 L40.4842 650.484 L88.0042 632.374 L88.0042 639.058 L75.8138 643.387 L75.8138 664.807 L88.0042 669.136 L88.0042 675.915 L40.4842 657.773 Z\" fill=\"#000000\" fill-rule=\"evenodd\" fill-opacity=\"1\" /><path clip-path=\"url(#clip020)\" d=\"M 0 0 M53.7248 601.723 L59.1993 601.723 Q57.8307 604.206 57.1623 606.72 Q56.4621 609.203 56.4621 611.749 Q56.4621 617.446 60.0905 620.597 Q63.6872 623.748 70.212 623.748 Q76.7369 623.748 80.3653 620.597 Q83.9619 617.446 83.9619 611.749 Q83.9619 609.203 83.2935 606.72 Q82.5933 604.206 81.2247 601.723 L86.6355 601.723 Q87.7814 604.174 88.3543 606.816 Q88.9272 609.426 88.9272 612.386 Q88.9272 620.438 83.8664 625.181 Q78.8057 629.923 70.212 629.923 Q61.491 629.923 56.4939 625.149 Q51.4968 620.343 51.4968 612.004 Q51.4968 609.298 52.0697 606.72 Q52.6108 604.142 53.7248 601.723 Z\" fill=\"#000000\" fill-rule=\"evenodd\" fill-opacity=\"1\" /><path clip-path=\"url(#clip020)\" d=\"M 0 0 M53.7248 569.926 L59.1993 569.926 Q57.8307 572.409 57.1623 574.923 Q56.4621 577.406 56.4621 579.952 Q56.4621 585.65 60.0905 588.801 Q63.6872 591.952 70.212 591.952 Q76.7369 591.952 80.3653 588.801 Q83.9619 585.65 83.9619 579.952 Q83.9619 577.406 83.2935 574.923 Q82.5933 572.409 81.2247 569.926 L86.6355 569.926 Q87.7814 572.377 88.3543 575.019 Q88.9272 577.629 88.9272 580.589 Q88.9272 588.642 83.8664 593.384 Q78.8057 598.126 70.212 598.126 Q61.491 598.126 56.4939 593.352 Q51.4968 588.546 51.4968 580.207 Q51.4968 577.502 52.0697 574.923 Q52.6108 572.345 53.7248 569.926 Z\" fill=\"#000000\" fill-rule=\"evenodd\" fill-opacity=\"1\" /><path clip-path=\"url(#clip020)\" d=\"M 0 0 M73.9359 564.388 L52.3562 564.388 L52.3562 558.532 L73.7131 558.532 Q78.7739 558.532 81.3202 556.558 Q83.8346 554.585 83.8346 550.638 Q83.8346 545.896 80.8109 543.159 Q77.7872 540.39 72.5673 540.39 L52.3562 540.39 L52.3562 534.533 L88.0042 534.533 L88.0042 540.39 L82.5296 540.39 Q85.7762 542.522 87.3676 545.355 Q88.9272 548.156 88.9272 551.88 Q88.9272 558.023 85.1078 561.205 Q81.2883 564.388 73.9359 564.388 M51.4968 549.652 L51.4968 549.652 Z\" fill=\"#000000\" fill-rule=\"evenodd\" fill-opacity=\"1\" /><path clip-path=\"url(#clip020)\" d=\"M 0 0 M57.8307 507.733 Q57.2578 508.72 57.0032 509.898 Q56.7167 511.044 56.7167 512.444 Q56.7167 517.409 59.9632 520.083 Q63.1779 522.725 69.2253 522.725 L88.0042 522.725 L88.0042 528.613 L52.3562 528.613 L52.3562 522.725 L57.8944 522.725 Q54.6479 520.879 53.0883 517.919 Q51.4968 514.959 51.4968 510.725 Q51.4968 510.121 51.5923 509.389 Q51.656 508.656 51.8151 507.765 L57.8307 507.733 Z\" fill=\"#000000\" fill-rule=\"evenodd\" fill-opacity=\"1\" /><path clip-path=\"url(#clip020)\" d=\"M 0 0 M70.0847 485.39 Q70.0847 492.488 71.7079 495.225 Q73.3312 497.962 77.2461 497.962 Q80.3653 497.962 82.2114 495.925 Q84.0256 493.856 84.0256 490.323 Q84.0256 485.453 80.5881 482.525 Q77.1188 479.565 71.3897 479.565 L70.0847 479.565 L70.0847 485.39 M67.6657 473.709 L88.0042 473.709 L88.0042 479.565 L82.5933 479.565 Q85.8398 481.57 87.3994 484.562 Q88.9272 487.554 88.9272 491.883 Q88.9272 497.357 85.8716 500.604 Q82.7843 503.819 77.6281 503.819 Q71.6125 503.819 68.5569 499.808 Q65.5014 495.766 65.5014 487.777 L65.5014 479.565 L64.9285 479.565 Q60.8862 479.565 58.6901 482.239 Q56.4621 484.881 56.4621 489.687 Q56.4621 492.742 57.1941 495.639 Q57.9262 498.535 59.3903 501.209 L53.9795 501.209 Q52.7381 497.994 52.1334 494.97 Q51.4968 491.946 51.4968 489.082 Q51.4968 481.348 55.5072 477.528 Q59.5176 473.709 67.6657 473.709 Z\" fill=\"#000000\" fill-rule=\"evenodd\" fill-opacity=\"1\" /><path clip-path=\"url(#clip020)\" d=\"M 0 0 M53.7248 441.912 L59.1993 441.912 Q57.8307 444.395 57.1623 446.909 Q56.4621 449.392 56.4621 451.938 Q56.4621 457.635 60.0905 460.786 Q63.6872 463.937 70.212 463.937 Q76.7369 463.937 80.3653 460.786 Q83.9619 457.635 83.9619 451.938 Q83.9619 449.392 83.2935 446.909 Q82.5933 444.395 81.2247 441.912 L86.6355 441.912 Q87.7814 444.363 88.3543 447.005 Q88.9272 449.615 88.9272 452.575 Q88.9272 460.627 83.8664 465.37 Q78.8057 470.112 70.212 470.112 Q61.491 470.112 56.4939 465.338 Q51.4968 460.532 51.4968 452.193 Q51.4968 449.487 52.0697 446.909 Q52.6108 444.331 53.7248 441.912 Z\" fill=\"#000000\" fill-rule=\"evenodd\" fill-opacity=\"1\" /><path clip-path=\"url(#clip020)\" d=\"M 0 0 M91.3143 420.937 Q97.68 423.42 99.6216 425.775 Q101.563 428.13 101.563 432.077 L101.563 436.756 L96.6615 436.756 L96.6615 433.318 Q96.6615 430.899 95.5157 429.563 Q94.3699 428.226 90.1048 426.603 L87.4312 425.552 L52.3562 439.97 L52.3562 433.764 L80.238 422.624 L52.3562 411.484 L52.3562 405.277 L91.3143 420.937 Z\" fill=\"#000000\" fill-rule=\"evenodd\" fill-opacity=\"1\" /><polyline clip-path=\"url(#clip022)\" style=\"stroke:#009af9; stroke-width:4; stroke-opacity:1; fill:none\" points=\"\n",
       "  272.201,86.1857 301.906,227.209 331.612,191.953 361.317,340.027 391.022,509.255 420.727,509.255 450.433,403.487 480.138,603.27 509.843,551.562 539.548,470.794 \n",
       "  569.253,438.743 598.959,509.255 628.664,539.474 658.369,537.459 688.074,588.58 717.78,608.8 747.485,603.27 777.19,576.055 806.895,615.022 836.601,589.839 \n",
       "  866.306,547.715 896.011,527.649 925.716,597.394 955.422,543.1 985.127,558.07 1014.83,603.27 1044.54,569.693 1074.24,553.02 1103.95,537.459 1133.65,659.376 \n",
       "  1163.36,588.58 1193.06,586.176 1222.77,583.914 1252.47,593.868 1282.18,591.518 1311.88,600.729 1341.59,576.055 1371.29,628.582 1401,551.562 1430.71,612.442 \n",
       "  1460.41,620.058 1490.12,627.32 1519.82,740.02 1549.53,622.073 1579.23,610.423 1608.94,653.278 1638.64,553.324 1668.35,647.4 1698.05,568.484 1727.76,575.618 \n",
       "  1757.46,492.983 1787.17,501.272 1816.87,517.089 1846.58,570.792 1876.28,501.7 1905.99,494.41 1935.69,494.666 1965.4,494.913 1995.1,615.022 2024.81,488.448 \n",
       "  2054.52,481.96 2084.22,656.993 2113.93,667.906 2143.63,580.851 2173.34,669.508 2203.04,547.141 2232.75,577.692 2262.45,613.489 2292.16,654.307 \n",
       "  \"/>\n",
       "<polyline clip-path=\"url(#clip022)\" style=\"stroke:#e26f46; stroke-width:4; stroke-opacity:1; fill:none\" points=\"\n",
       "  272.201,1384.24 301.906,831.364 331.612,831.364 361.317,879.44 391.022,855.402 420.727,783.288 450.433,470.794 480.138,615.022 509.843,615.022 539.548,494.832 \n",
       "  569.253,494.832 598.959,494.832 628.664,494.832 658.369,494.832 688.074,566.946 717.78,566.946 747.485,566.946 777.19,566.946 806.895,542.908 836.601,542.908 \n",
       "  866.306,542.908 896.011,542.908 925.716,470.794 955.422,542.908 985.127,470.794 1014.83,470.794 1044.54,542.908 1074.24,566.946 1103.95,566.946 1133.65,687.136 \n",
       "  1163.36,470.794 1193.06,470.794 1222.77,470.794 1252.47,470.794 1282.18,470.794 1311.88,470.794 1341.59,470.794 1371.29,566.946 1401,639.06 1430.71,639.06 \n",
       "  1460.41,639.06 1490.12,639.06 1519.82,783.288 1549.53,639.06 1579.23,663.098 1608.94,566.946 1638.64,398.68 1668.35,566.946 1698.05,542.908 1727.76,494.832 \n",
       "  1757.46,422.718 1787.17,422.718 1816.87,470.794 1846.58,566.946 1876.28,470.794 1905.99,470.794 1935.69,470.794 1965.4,470.794 1995.1,735.212 2024.81,470.794 \n",
       "  2054.52,470.794 2084.22,663.098 2113.93,663.098 2143.63,639.06 2173.34,663.098 2203.04,494.832 2232.75,639.06 2262.45,590.984 2292.16,663.098 \n",
       "  \"/>\n",
       "<path clip-path=\"url(#clip020)\" d=\"\n",
       "M1844.15 1377.32 L2281.38 1377.32 L2281.38 1195.88 L1844.15 1195.88  Z\n",
       "  \" fill=\"#ffffff\" fill-rule=\"evenodd\" fill-opacity=\"1\"/>\n",
       "<polyline clip-path=\"url(#clip020)\" style=\"stroke:#000000; stroke-width:4; stroke-opacity:1; fill:none\" points=\"\n",
       "  1844.15,1377.32 2281.38,1377.32 2281.38,1195.88 1844.15,1195.88 1844.15,1377.32 \n",
       "  \"/>\n",
       "<polyline clip-path=\"url(#clip020)\" style=\"stroke:#009af9; stroke-width:4; stroke-opacity:1; fill:none\" points=\"\n",
       "  1867.94,1256.36 2010.68,1256.36 \n",
       "  \"/>\n",
       "<path clip-path=\"url(#clip020)\" d=\"M 0 0 M2034.48 1239.08 L2063.71 1239.08 L2063.71 1243.01 L2051.44 1243.01 L2051.44 1273.64 L2046.74 1273.64 L2046.74 1243.01 L2034.48 1243.01 L2034.48 1239.08 Z\" fill=\"#000000\" fill-rule=\"evenodd\" fill-opacity=\"1\" /><path clip-path=\"url(#clip020)\" d=\"M 0 0 M2076.23 1251.69 Q2075.52 1251.27 2074.66 1251.09 Q2073.83 1250.88 2072.81 1250.88 Q2069.2 1250.88 2067.25 1253.24 Q2065.33 1255.58 2065.33 1259.98 L2065.33 1273.64 L2061.05 1273.64 L2061.05 1247.71 L2065.33 1247.71 L2065.33 1251.74 Q2066.67 1249.38 2068.83 1248.24 Q2070.98 1247.08 2074.06 1247.08 Q2074.5 1247.08 2075.03 1247.15 Q2075.56 1247.2 2076.21 1247.32 L2076.23 1251.69 Z\" fill=\"#000000\" fill-rule=\"evenodd\" fill-opacity=\"1\" /><path clip-path=\"url(#clip020)\" d=\"M 0 0 M2092.48 1260.6 Q2087.32 1260.6 2085.33 1261.78 Q2083.34 1262.96 2083.34 1265.81 Q2083.34 1268.08 2084.82 1269.42 Q2086.33 1270.74 2088.9 1270.74 Q2092.44 1270.74 2094.57 1268.24 Q2096.72 1265.72 2096.72 1261.55 L2096.72 1260.6 L2092.48 1260.6 M2100.98 1258.84 L2100.98 1273.64 L2096.72 1273.64 L2096.72 1269.7 Q2095.26 1272.06 2093.09 1273.2 Q2090.91 1274.31 2087.76 1274.31 Q2083.78 1274.31 2081.42 1272.08 Q2079.08 1269.84 2079.08 1266.09 Q2079.08 1261.71 2082 1259.49 Q2084.94 1257.27 2090.75 1257.27 L2096.72 1257.27 L2096.72 1256.85 Q2096.72 1253.91 2094.78 1252.32 Q2092.85 1250.7 2089.36 1250.7 Q2087.14 1250.7 2085.03 1251.23 Q2082.92 1251.76 2080.98 1252.83 L2080.98 1248.89 Q2083.32 1247.99 2085.52 1247.55 Q2087.72 1247.08 2089.8 1247.08 Q2095.42 1247.08 2098.2 1250 Q2100.98 1252.92 2100.98 1258.84 Z\" fill=\"#000000\" fill-rule=\"evenodd\" fill-opacity=\"1\" /><path clip-path=\"url(#clip020)\" d=\"M 0 0 M2105.45 1247.71 L2109.71 1247.71 L2109.71 1273.64 L2105.45 1273.64 L2105.45 1247.71 M2105.45 1237.62 L2109.71 1237.62 L2109.71 1243.01 L2105.45 1243.01 L2105.45 1237.62 Z\" fill=\"#000000\" fill-rule=\"evenodd\" fill-opacity=\"1\" /><path clip-path=\"url(#clip020)\" d=\"M 0 0 M2135.72 1257.99 L2135.72 1273.64 L2131.47 1273.64 L2131.47 1258.13 Q2131.47 1254.45 2130.03 1252.62 Q2128.6 1250.79 2125.72 1250.79 Q2122.28 1250.79 2120.29 1252.99 Q2118.29 1255.19 2118.29 1258.98 L2118.29 1273.64 L2114.01 1273.64 L2114.01 1247.71 L2118.29 1247.71 L2118.29 1251.74 Q2119.82 1249.4 2121.88 1248.24 Q2123.97 1247.08 2126.67 1247.08 Q2131.14 1247.08 2133.43 1249.86 Q2135.72 1252.62 2135.72 1257.99 Z\" fill=\"#000000\" fill-rule=\"evenodd\" fill-opacity=\"1\" /><path clip-path=\"url(#clip020)\" d=\"M 0 0 M2140.19 1247.71 L2144.45 1247.71 L2144.45 1273.64 L2140.19 1273.64 L2140.19 1247.71 M2140.19 1237.62 L2144.45 1237.62 L2144.45 1243.01 L2140.19 1243.01 L2140.19 1237.62 Z\" fill=\"#000000\" fill-rule=\"evenodd\" fill-opacity=\"1\" /><path clip-path=\"url(#clip020)\" d=\"M 0 0 M2170.47 1257.99 L2170.47 1273.64 L2166.21 1273.64 L2166.21 1258.13 Q2166.21 1254.45 2164.78 1252.62 Q2163.34 1250.79 2160.47 1250.79 Q2157.02 1250.79 2155.03 1252.99 Q2153.04 1255.19 2153.04 1258.98 L2153.04 1273.64 L2148.76 1273.64 L2148.76 1247.71 L2153.04 1247.71 L2153.04 1251.74 Q2154.57 1249.4 2156.63 1248.24 Q2158.71 1247.08 2161.42 1247.08 Q2165.89 1247.08 2168.18 1249.86 Q2170.47 1252.62 2170.47 1257.99 Z\" fill=\"#000000\" fill-rule=\"evenodd\" fill-opacity=\"1\" /><path clip-path=\"url(#clip020)\" d=\"M 0 0 M2192 1260.37 Q2192 1255.74 2190.08 1253.2 Q2188.18 1250.65 2184.73 1250.65 Q2181.3 1250.65 2179.38 1253.2 Q2177.48 1255.74 2177.48 1260.37 Q2177.48 1264.98 2179.38 1267.52 Q2181.3 1270.07 2184.73 1270.07 Q2188.18 1270.07 2190.08 1267.52 Q2192 1264.98 2192 1260.37 M2196.26 1270.42 Q2196.26 1277.04 2193.32 1280.26 Q2190.38 1283.5 2184.31 1283.5 Q2182.07 1283.5 2180.08 1283.15 Q2178.09 1282.83 2176.21 1282.13 L2176.21 1277.99 Q2178.09 1279.01 2179.91 1279.49 Q2181.74 1279.98 2183.64 1279.98 Q2187.83 1279.98 2189.91 1277.78 Q2192 1275.6 2192 1271.18 L2192 1269.08 Q2190.68 1271.37 2188.62 1272.5 Q2186.56 1273.64 2183.69 1273.64 Q2178.92 1273.64 2176 1270 Q2173.09 1266.37 2173.09 1260.37 Q2173.09 1254.35 2176 1250.72 Q2178.92 1247.08 2183.69 1247.08 Q2186.56 1247.08 2188.62 1248.22 Q2190.68 1249.35 2192 1251.64 L2192 1247.71 L2196.26 1247.71 L2196.26 1270.42 Z\" fill=\"#000000\" fill-rule=\"evenodd\" fill-opacity=\"1\" /><polyline clip-path=\"url(#clip020)\" style=\"stroke:#e26f46; stroke-width:4; stroke-opacity:1; fill:none\" points=\"\n",
       "  1867.94,1316.84 2010.68,1316.84 \n",
       "  \"/>\n",
       "<path clip-path=\"url(#clip020)\" d=\"M 0 0 M2047.67 1334.12 L2034.48 1299.56 L2039.36 1299.56 L2050.31 1328.65 L2061.28 1299.56 L2066.14 1299.56 L2052.97 1334.12 L2047.67 1334.12 Z\" fill=\"#000000\" fill-rule=\"evenodd\" fill-opacity=\"1\" /><path clip-path=\"url(#clip020)\" d=\"M 0 0 M2078.71 1321.08 Q2073.55 1321.08 2071.56 1322.26 Q2069.57 1323.44 2069.57 1326.29 Q2069.57 1328.56 2071.05 1329.9 Q2072.55 1331.22 2075.12 1331.22 Q2078.66 1331.22 2080.79 1328.72 Q2082.95 1326.2 2082.95 1322.03 L2082.95 1321.08 L2078.71 1321.08 M2087.21 1319.32 L2087.21 1334.12 L2082.95 1334.12 L2082.95 1330.18 Q2081.49 1332.54 2079.31 1333.68 Q2077.14 1334.79 2073.99 1334.79 Q2070.01 1334.79 2067.65 1332.56 Q2065.31 1330.32 2065.31 1326.57 Q2065.31 1322.19 2068.23 1319.97 Q2071.16 1317.75 2076.98 1317.75 L2082.95 1317.75 L2082.95 1317.33 Q2082.95 1314.39 2081 1312.8 Q2079.08 1311.18 2075.59 1311.18 Q2073.36 1311.18 2071.26 1311.71 Q2069.15 1312.24 2067.21 1313.31 L2067.21 1309.37 Q2069.54 1308.47 2071.74 1308.03 Q2073.94 1307.56 2076.03 1307.56 Q2081.65 1307.56 2084.43 1310.48 Q2087.21 1313.4 2087.21 1319.32 Z\" fill=\"#000000\" fill-rule=\"evenodd\" fill-opacity=\"1\" /><path clip-path=\"url(#clip020)\" d=\"M 0 0 M2091.67 1298.1 L2095.93 1298.1 L2095.93 1334.12 L2091.67 1334.12 L2091.67 1298.1 Z\" fill=\"#000000\" fill-rule=\"evenodd\" fill-opacity=\"1\" /><path clip-path=\"url(#clip020)\" d=\"M 0 0 M2100.4 1308.19 L2104.66 1308.19 L2104.66 1334.12 L2100.4 1334.12 L2100.4 1308.19 M2100.4 1298.1 L2104.66 1298.1 L2104.66 1303.49 L2100.4 1303.49 L2100.4 1298.1 Z\" fill=\"#000000\" fill-rule=\"evenodd\" fill-opacity=\"1\" /><path clip-path=\"url(#clip020)\" d=\"M 0 0 M2126.19 1312.12 L2126.19 1298.1 L2130.45 1298.1 L2130.45 1334.12 L2126.19 1334.12 L2126.19 1330.23 Q2124.85 1332.54 2122.79 1333.68 Q2120.75 1334.79 2117.88 1334.79 Q2113.18 1334.79 2110.22 1331.04 Q2107.28 1327.29 2107.28 1321.18 Q2107.28 1315.06 2110.22 1311.31 Q2113.18 1307.56 2117.88 1307.56 Q2120.75 1307.56 2122.79 1308.7 Q2124.85 1309.81 2126.19 1312.12 M2111.67 1321.18 Q2111.67 1325.87 2113.6 1328.56 Q2115.54 1331.22 2118.92 1331.22 Q2122.3 1331.22 2124.24 1328.56 Q2126.19 1325.87 2126.19 1321.18 Q2126.19 1316.48 2124.24 1313.81 Q2122.3 1311.13 2118.92 1311.13 Q2115.54 1311.13 2113.6 1313.81 Q2111.67 1316.48 2111.67 1321.18 Z\" fill=\"#000000\" fill-rule=\"evenodd\" fill-opacity=\"1\" /><path clip-path=\"url(#clip020)\" d=\"M 0 0 M2146.7 1321.08 Q2141.53 1321.08 2139.54 1322.26 Q2137.55 1323.44 2137.55 1326.29 Q2137.55 1328.56 2139.03 1329.9 Q2140.54 1331.22 2143.11 1331.22 Q2146.65 1331.22 2148.78 1328.72 Q2150.93 1326.2 2150.93 1322.03 L2150.93 1321.08 L2146.7 1321.08 M2155.19 1319.32 L2155.19 1334.12 L2150.93 1334.12 L2150.93 1330.18 Q2149.47 1332.54 2147.3 1333.68 Q2145.12 1334.79 2141.97 1334.79 Q2137.99 1334.79 2135.63 1332.56 Q2133.29 1330.32 2133.29 1326.57 Q2133.29 1322.19 2136.21 1319.97 Q2139.15 1317.75 2144.96 1317.75 L2150.93 1317.75 L2150.93 1317.33 Q2150.93 1314.39 2148.99 1312.8 Q2147.07 1311.18 2143.57 1311.18 Q2141.35 1311.18 2139.24 1311.71 Q2137.14 1312.24 2135.19 1313.31 L2135.19 1309.37 Q2137.53 1308.47 2139.73 1308.03 Q2141.93 1307.56 2144.01 1307.56 Q2149.64 1307.56 2152.41 1310.48 Q2155.19 1313.4 2155.19 1319.32 Z\" fill=\"#000000\" fill-rule=\"evenodd\" fill-opacity=\"1\" /><path clip-path=\"url(#clip020)\" d=\"M 0 0 M2163.87 1300.83 L2163.87 1308.19 L2172.65 1308.19 L2172.65 1311.5 L2163.87 1311.5 L2163.87 1325.57 Q2163.87 1328.74 2164.73 1329.65 Q2165.61 1330.55 2168.27 1330.55 L2172.65 1330.55 L2172.65 1334.12 L2168.27 1334.12 Q2163.34 1334.12 2161.47 1332.29 Q2159.59 1330.43 2159.59 1325.57 L2159.59 1311.5 L2156.47 1311.5 L2156.47 1308.19 L2159.59 1308.19 L2159.59 1300.83 L2163.87 1300.83 Z\" fill=\"#000000\" fill-rule=\"evenodd\" fill-opacity=\"1\" /><path clip-path=\"url(#clip020)\" d=\"M 0 0 M2177.11 1308.19 L2181.37 1308.19 L2181.37 1334.12 L2177.11 1334.12 L2177.11 1308.19 M2177.11 1298.1 L2181.37 1298.1 L2181.37 1303.49 L2177.11 1303.49 L2177.11 1298.1 Z\" fill=\"#000000\" fill-rule=\"evenodd\" fill-opacity=\"1\" /><path clip-path=\"url(#clip020)\" d=\"M 0 0 M2195.89 1311.18 Q2192.46 1311.18 2190.47 1313.86 Q2188.48 1316.52 2188.48 1321.18 Q2188.48 1325.83 2190.45 1328.51 Q2192.44 1331.18 2195.89 1331.18 Q2199.29 1331.18 2201.28 1328.49 Q2203.27 1325.81 2203.27 1321.18 Q2203.27 1316.57 2201.28 1313.88 Q2199.29 1311.18 2195.89 1311.18 M2195.89 1307.56 Q2201.44 1307.56 2204.61 1311.18 Q2207.78 1314.79 2207.78 1321.18 Q2207.78 1327.54 2204.61 1331.18 Q2201.44 1334.79 2195.89 1334.79 Q2190.31 1334.79 2187.14 1331.18 Q2183.99 1327.54 2183.99 1321.18 Q2183.99 1314.79 2187.14 1311.18 Q2190.31 1307.56 2195.89 1307.56 Z\" fill=\"#000000\" fill-rule=\"evenodd\" fill-opacity=\"1\" /><path clip-path=\"url(#clip020)\" d=\"M 0 0 M2233.8 1318.47 L2233.8 1334.12 L2229.54 1334.12 L2229.54 1318.61 Q2229.54 1314.93 2228.11 1313.1 Q2226.67 1311.27 2223.8 1311.27 Q2220.35 1311.27 2218.36 1313.47 Q2216.37 1315.67 2216.37 1319.46 L2216.37 1334.12 L2212.09 1334.12 L2212.09 1308.19 L2216.37 1308.19 L2216.37 1312.22 Q2217.9 1309.88 2219.96 1308.72 Q2222.04 1307.56 2224.75 1307.56 Q2229.22 1307.56 2231.51 1310.34 Q2233.8 1313.1 2233.8 1318.47 Z\" fill=\"#000000\" fill-rule=\"evenodd\" fill-opacity=\"1\" /></svg>\n"
      ]
     },
     "execution_count": 178,
     "metadata": {},
     "output_type": "execute_result"
    }
   ],
   "source": [
    "plot(data_schedule, training_losses, label=\"Training\", legend=:bottomright)\n",
    "plot!(data_schedule, valid_losses, label=\"Validation\")\n",
    "xlabel!(\"Number of Training Samples\")\n",
    "ylabel!(\"Classification Accuracy\")"
   ]
  },
  {
   "cell_type": "code",
   "execution_count": 179,
   "metadata": {},
   "outputs": [],
   "source": [
    "fn = \"Figures/Boost_LC\"\n",
    "png(replace(fn,'.' => ','))"
   ]
  },
  {
   "cell_type": "markdown",
   "metadata": {},
   "source": [
    "# Final Results"
   ]
  },
  {
   "cell_type": "code",
   "execution_count": 180,
   "metadata": {},
   "outputs": [
    {
     "data": {
      "text/plain": [
       "AdaBoostClassifier(\n",
       "    base_estimator = nothing,\n",
       "    n_estimators = 5,\n",
       "    learning_rate = 0.15333333333333332,\n",
       "    algorithm = \"SAMME.R\",\n",
       "    random_state = 123)\u001b[34m @930\u001b[39m"
      ]
     },
     "execution_count": 180,
     "metadata": {},
     "output_type": "execute_result"
    }
   ],
   "source": [
    "final_boost_model = best.best_model"
   ]
  },
  {
   "cell_type": "code",
   "execution_count": 181,
   "metadata": {},
   "outputs": [
    {
     "data": {
      "text/plain": [
       "\u001b[34mMachine{AdaBoostClassifier} @211\u001b[39m trained 0 times.\n",
       "  args: \n",
       "    1:\t\u001b[34mSource @150\u001b[39m ⏎ `Table{AbstractArray{Continuous,1}}`\n",
       "    2:\t\u001b[34mSource @850\u001b[39m ⏎ `AbstractArray{Multiclass{3},1}`\n"
      ]
     },
     "execution_count": 181,
     "metadata": {},
     "output_type": "execute_result"
    }
   ],
   "source": [
    "Final_Boost = machine(final_boost_model, X, y)"
   ]
  },
  {
   "cell_type": "code",
   "execution_count": 182,
   "metadata": {},
   "outputs": [
    {
     "name": "stderr",
     "output_type": "stream",
     "text": [
      "┌ Info: Training \u001b[34mMachine{AdaBoostClassifier} @211\u001b[39m.\n",
      "└ @ MLJBase /home/andrew/.julia/packages/MLJBase/uKzAz/src/machines.jl:319\n"
     ]
    },
    {
     "data": {
      "text/plain": [
       "\u001b[34mMachine{AdaBoostClassifier} @211\u001b[39m trained 1 time.\n",
       "  args: \n",
       "    1:\t\u001b[34mSource @150\u001b[39m ⏎ `Table{AbstractArray{Continuous,1}}`\n",
       "    2:\t\u001b[34mSource @850\u001b[39m ⏎ `AbstractArray{Multiclass{3},1}`\n"
      ]
     },
     "execution_count": 182,
     "metadata": {},
     "output_type": "execute_result"
    }
   ],
   "source": [
    "fit!(Final_Boost, rows=train, verbosity=2)"
   ]
  },
  {
   "cell_type": "code",
   "execution_count": 183,
   "metadata": {},
   "outputs": [],
   "source": [
    "ŷ2 = MLJ.predict(Final_Boost, X[test,:]);"
   ]
  },
  {
   "cell_type": "code",
   "execution_count": 184,
   "metadata": {},
   "outputs": [
    {
     "data": {
      "text/plain": [
       "0.8099999038305038"
      ]
     },
     "execution_count": 184,
     "metadata": {},
     "output_type": "execute_result"
    }
   ],
   "source": [
    "cross_entropy(ŷ2, y[test]) |> mean"
   ]
  },
  {
   "cell_type": "code",
   "execution_count": 185,
   "metadata": {},
   "outputs": [
    {
     "data": {
      "text/plain": [
       "0.7700534759358288"
      ]
     },
     "execution_count": 185,
     "metadata": {},
     "output_type": "execute_result"
    }
   ],
   "source": [
    "acc(ŷ2, y[test])"
   ]
  },
  {
   "cell_type": "code",
   "execution_count": 186,
   "metadata": {},
   "outputs": [
    {
     "name": "stderr",
     "output_type": "stream",
     "text": [
      "┌ Warning: The classes are un-ordered,\n",
      "│ using order: [\"B\", \"L\", \"R\"].\n",
      "│ To suppress this warning, consider coercing to OrderedFactor.\n",
      "└ @ MLJBase /home/andrew/.julia/packages/MLJBase/uKzAz/src/measures/confusion_matrix.jl:87\n"
     ]
    },
    {
     "data": {
      "text/plain": [
       "              ┌─────────────────────────────────────────┐\n",
       "              │              Ground Truth               │\n",
       "┌─────────────┼─────────────┬─────────────┬─────────────┤\n",
       "│  Predicted  │      B      │      L      │      R      │\n",
       "├─────────────┼─────────────┼─────────────┼─────────────┤\n",
       "│      B      │      0      │      0      │      0      │\n",
       "├─────────────┼─────────────┼─────────────┼─────────────┤\n",
       "│      L      │      9      │     72      │     14      │\n",
       "├─────────────┼─────────────┼─────────────┼─────────────┤\n",
       "│      R      │      6      │     14      │     72      │\n",
       "└─────────────┴─────────────┴─────────────┴─────────────┘\n"
      ]
     },
     "execution_count": 186,
     "metadata": {},
     "output_type": "execute_result"
    }
   ],
   "source": [
    "c = confusion_matrix(mode.(ŷ2), y[test])"
   ]
  },
  {
   "cell_type": "code",
   "execution_count": 189,
   "metadata": {},
   "outputs": [
    {
     "data": {
      "text/plain": [
       "1.0"
      ]
     },
     "execution_count": 189,
     "metadata": {},
     "output_type": "execute_result"
    }
   ],
   "source": [
    "(9+6)/(9+6+0)"
   ]
  },
  {
   "cell_type": "code",
   "execution_count": 190,
   "metadata": {},
   "outputs": [
    {
     "data": {
      "text/plain": [
       "0.16279069767441862"
      ]
     },
     "execution_count": 190,
     "metadata": {},
     "output_type": "execute_result"
    }
   ],
   "source": [
    "(14)/(14+72+0)"
   ]
  },
  {
   "cell_type": "code",
   "execution_count": 191,
   "metadata": {},
   "outputs": [
    {
     "data": {
      "text/plain": [
       "0.22994652406417115"
      ]
     },
     "execution_count": 191,
     "metadata": {},
     "output_type": "execute_result"
    }
   ],
   "source": [
    "misclassification_rate(c)"
   ]
  },
  {
   "cell_type": "code",
   "execution_count": null,
   "metadata": {},
   "outputs": [],
   "source": []
  }
 ],
 "metadata": {
  "kernelspec": {
   "display_name": "Julia 1.5.0",
   "language": "julia",
   "name": "julia-1.5"
  },
  "language_info": {
   "file_extension": ".jl",
   "mimetype": "application/julia",
   "name": "julia",
   "version": "1.5.0"
  }
 },
 "nbformat": 4,
 "nbformat_minor": 4
}
