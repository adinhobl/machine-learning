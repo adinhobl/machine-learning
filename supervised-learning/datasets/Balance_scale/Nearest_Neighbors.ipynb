{
 "cells": [
  {
   "cell_type": "markdown",
   "metadata": {},
   "source": [
    "# Imports"
   ]
  },
  {
   "cell_type": "code",
   "execution_count": 1,
   "metadata": {
    "scrolled": true
   },
   "outputs": [],
   "source": [
    "using DataFrames\n",
    "using CSV\n",
    "using MLJ\n",
    "using Plots\n",
    "using StatsBase\n",
    "using Distances\n",
    "\n",
    "include(\"../../lib.jl\")\n",
    "\n",
    "ENV[\"LINES\"]=30;"
   ]
  },
  {
   "cell_type": "markdown",
   "metadata": {},
   "source": [
    "# Datasets"
   ]
  },
  {
   "cell_type": "code",
   "execution_count": 2,
   "metadata": {},
   "outputs": [
    {
     "data": {
      "text/html": [
       "<table class=\"data-frame\"><thead><tr><th></th><th>Class_Name</th><th>Left_Weight</th><th>Left_Distance</th><th>Right_Weight</th><th>Right_Distance</th></tr><tr><th></th><th>String</th><th>Int64</th><th>Int64</th><th>Int64</th><th>Int64</th></tr></thead><tbody><p>625 rows × 5 columns</p><tr><th>1</th><td>B</td><td>1</td><td>1</td><td>1</td><td>1</td></tr><tr><th>2</th><td>R</td><td>1</td><td>1</td><td>1</td><td>2</td></tr><tr><th>3</th><td>R</td><td>1</td><td>1</td><td>1</td><td>3</td></tr><tr><th>4</th><td>R</td><td>1</td><td>1</td><td>1</td><td>4</td></tr><tr><th>5</th><td>R</td><td>1</td><td>1</td><td>1</td><td>5</td></tr><tr><th>6</th><td>R</td><td>1</td><td>1</td><td>2</td><td>1</td></tr><tr><th>7</th><td>R</td><td>1</td><td>1</td><td>2</td><td>2</td></tr><tr><th>8</th><td>R</td><td>1</td><td>1</td><td>2</td><td>3</td></tr><tr><th>9</th><td>R</td><td>1</td><td>1</td><td>2</td><td>4</td></tr><tr><th>10</th><td>R</td><td>1</td><td>1</td><td>2</td><td>5</td></tr><tr><th>11</th><td>R</td><td>1</td><td>1</td><td>3</td><td>1</td></tr><tr><th>12</th><td>R</td><td>1</td><td>1</td><td>3</td><td>2</td></tr><tr><th>13</th><td>R</td><td>1</td><td>1</td><td>3</td><td>3</td></tr><tr><th>14</th><td>R</td><td>1</td><td>1</td><td>3</td><td>4</td></tr><tr><th>15</th><td>R</td><td>1</td><td>1</td><td>3</td><td>5</td></tr><tr><th>16</th><td>R</td><td>1</td><td>1</td><td>4</td><td>1</td></tr><tr><th>17</th><td>R</td><td>1</td><td>1</td><td>4</td><td>2</td></tr><tr><th>18</th><td>R</td><td>1</td><td>1</td><td>4</td><td>3</td></tr><tr><th>19</th><td>R</td><td>1</td><td>1</td><td>4</td><td>4</td></tr><tr><th>20</th><td>R</td><td>1</td><td>1</td><td>4</td><td>5</td></tr><tr><th>21</th><td>R</td><td>1</td><td>1</td><td>5</td><td>1</td></tr><tr><th>22</th><td>R</td><td>1</td><td>1</td><td>5</td><td>2</td></tr><tr><th>23</th><td>R</td><td>1</td><td>1</td><td>5</td><td>3</td></tr><tr><th>24</th><td>R</td><td>1</td><td>1</td><td>5</td><td>4</td></tr><tr><th>25</th><td>R</td><td>1</td><td>1</td><td>5</td><td>5</td></tr><tr><th>26</th><td>L</td><td>1</td><td>2</td><td>1</td><td>1</td></tr><tr><th>27</th><td>B</td><td>1</td><td>2</td><td>1</td><td>2</td></tr><tr><th>28</th><td>R</td><td>1</td><td>2</td><td>1</td><td>3</td></tr><tr><th>29</th><td>R</td><td>1</td><td>2</td><td>1</td><td>4</td></tr><tr><th>30</th><td>R</td><td>1</td><td>2</td><td>1</td><td>5</td></tr><tr><th>&vellip;</th><td>&vellip;</td><td>&vellip;</td><td>&vellip;</td><td>&vellip;</td><td>&vellip;</td></tr></tbody></table>"
      ],
      "text/latex": [
       "\\begin{tabular}{r|ccccc}\n",
       "\t& Class\\_Name & Left\\_Weight & Left\\_Distance & Right\\_Weight & Right\\_Distance\\\\\n",
       "\t\\hline\n",
       "\t& String & Int64 & Int64 & Int64 & Int64\\\\\n",
       "\t\\hline\n",
       "\t1 & B & 1 & 1 & 1 & 1 \\\\\n",
       "\t2 & R & 1 & 1 & 1 & 2 \\\\\n",
       "\t3 & R & 1 & 1 & 1 & 3 \\\\\n",
       "\t4 & R & 1 & 1 & 1 & 4 \\\\\n",
       "\t5 & R & 1 & 1 & 1 & 5 \\\\\n",
       "\t6 & R & 1 & 1 & 2 & 1 \\\\\n",
       "\t7 & R & 1 & 1 & 2 & 2 \\\\\n",
       "\t8 & R & 1 & 1 & 2 & 3 \\\\\n",
       "\t9 & R & 1 & 1 & 2 & 4 \\\\\n",
       "\t10 & R & 1 & 1 & 2 & 5 \\\\\n",
       "\t11 & R & 1 & 1 & 3 & 1 \\\\\n",
       "\t12 & R & 1 & 1 & 3 & 2 \\\\\n",
       "\t13 & R & 1 & 1 & 3 & 3 \\\\\n",
       "\t14 & R & 1 & 1 & 3 & 4 \\\\\n",
       "\t15 & R & 1 & 1 & 3 & 5 \\\\\n",
       "\t16 & R & 1 & 1 & 4 & 1 \\\\\n",
       "\t17 & R & 1 & 1 & 4 & 2 \\\\\n",
       "\t18 & R & 1 & 1 & 4 & 3 \\\\\n",
       "\t19 & R & 1 & 1 & 4 & 4 \\\\\n",
       "\t20 & R & 1 & 1 & 4 & 5 \\\\\n",
       "\t21 & R & 1 & 1 & 5 & 1 \\\\\n",
       "\t22 & R & 1 & 1 & 5 & 2 \\\\\n",
       "\t23 & R & 1 & 1 & 5 & 3 \\\\\n",
       "\t24 & R & 1 & 1 & 5 & 4 \\\\\n",
       "\t25 & R & 1 & 1 & 5 & 5 \\\\\n",
       "\t26 & L & 1 & 2 & 1 & 1 \\\\\n",
       "\t27 & B & 1 & 2 & 1 & 2 \\\\\n",
       "\t28 & R & 1 & 2 & 1 & 3 \\\\\n",
       "\t29 & R & 1 & 2 & 1 & 4 \\\\\n",
       "\t30 & R & 1 & 2 & 1 & 5 \\\\\n",
       "\t$\\dots$ & $\\dots$ & $\\dots$ & $\\dots$ & $\\dots$ & $\\dots$ \\\\\n",
       "\\end{tabular}\n"
      ],
      "text/plain": [
       "625×5 DataFrame. Omitted printing of 1 columns\n",
       "│ Row │ Class_Name │ Left_Weight │ Left_Distance │ Right_Weight │\n",
       "│     │ \u001b[90mString\u001b[39m     │ \u001b[90mInt64\u001b[39m       │ \u001b[90mInt64\u001b[39m         │ \u001b[90mInt64\u001b[39m        │\n",
       "├─────┼────────────┼─────────────┼───────────────┼──────────────┤\n",
       "│ 1   │ B          │ 1           │ 1             │ 1            │\n",
       "│ 2   │ R          │ 1           │ 1             │ 1            │\n",
       "│ 3   │ R          │ 1           │ 1             │ 1            │\n",
       "│ 4   │ R          │ 1           │ 1             │ 1            │\n",
       "│ 5   │ R          │ 1           │ 1             │ 1            │\n",
       "│ 6   │ R          │ 1           │ 1             │ 2            │\n",
       "│ 7   │ R          │ 1           │ 1             │ 2            │\n",
       "│ 8   │ R          │ 1           │ 1             │ 2            │\n",
       "│ 9   │ R          │ 1           │ 1             │ 2            │\n",
       "│ 10  │ R          │ 1           │ 1             │ 2            │\n",
       "⋮\n",
       "│ 615 │ L          │ 5           │ 5             │ 3            │\n",
       "│ 616 │ L          │ 5           │ 5             │ 4            │\n",
       "│ 617 │ L          │ 5           │ 5             │ 4            │\n",
       "│ 618 │ L          │ 5           │ 5             │ 4            │\n",
       "│ 619 │ L          │ 5           │ 5             │ 4            │\n",
       "│ 620 │ L          │ 5           │ 5             │ 4            │\n",
       "│ 621 │ L          │ 5           │ 5             │ 5            │\n",
       "│ 622 │ L          │ 5           │ 5             │ 5            │\n",
       "│ 623 │ L          │ 5           │ 5             │ 5            │\n",
       "│ 624 │ L          │ 5           │ 5             │ 5            │\n",
       "│ 625 │ B          │ 5           │ 5             │ 5            │"
      ]
     },
     "execution_count": 2,
     "metadata": {},
     "output_type": "execute_result"
    }
   ],
   "source": [
    "data = CSV.read(\"data.csv\")"
   ]
  },
  {
   "cell_type": "markdown",
   "metadata": {},
   "source": [
    "Look at class labels to see if dataset is imbalanced"
   ]
  },
  {
   "cell_type": "code",
   "execution_count": 3,
   "metadata": {},
   "outputs": [
    {
     "data": {
      "text/plain": [
       "Dict{String,Int64} with 3 entries:\n",
       "  \"B\" => 49\n",
       "  \"L\" => 288\n",
       "  \"R\" => 288"
      ]
     },
     "execution_count": 3,
     "metadata": {},
     "output_type": "execute_result"
    }
   ],
   "source": [
    "label_counts = countmap(data[:Class_Name])"
   ]
  },
  {
   "cell_type": "code",
   "execution_count": 4,
   "metadata": {},
   "outputs": [
    {
     "data": {
      "text/plain": [
       "3-element Array{Float64,1}:\n",
       " 0.0784\n",
       " 0.4608\n",
       " 0.4608"
      ]
     },
     "execution_count": 4,
     "metadata": {},
     "output_type": "execute_result"
    }
   ],
   "source": [
    "collect(label_counts[i] / size(data)[1] for i in keys(label_counts))"
   ]
  },
  {
   "cell_type": "markdown",
   "metadata": {},
   "source": [
    "Get data ready for training"
   ]
  },
  {
   "cell_type": "code",
   "execution_count": 5,
   "metadata": {
    "scrolled": true
   },
   "outputs": [
    {
     "data": {
      "text/html": [
       "<table class=\"data-frame\"><thead><tr><th></th><th>variable</th><th>mean</th><th>min</th><th>median</th><th>max</th><th>nunique</th><th>nmissing</th><th>eltype</th></tr><tr><th></th><th>Symbol</th><th>Union…</th><th>Any</th><th>Union…</th><th>Any</th><th>Union…</th><th>Nothing</th><th>DataType</th></tr></thead><tbody><p>5 rows × 8 columns</p><tr><th>1</th><td>Class_Name</td><td></td><td>B</td><td></td><td>R</td><td>3</td><td></td><td>String</td></tr><tr><th>2</th><td>Left_Weight</td><td>3.0</td><td>1</td><td>3.0</td><td>5</td><td></td><td></td><td>Int64</td></tr><tr><th>3</th><td>Left_Distance</td><td>3.0</td><td>1</td><td>3.0</td><td>5</td><td></td><td></td><td>Int64</td></tr><tr><th>4</th><td>Right_Weight</td><td>3.0</td><td>1</td><td>3.0</td><td>5</td><td></td><td></td><td>Int64</td></tr><tr><th>5</th><td>Right_Distance</td><td>3.0</td><td>1</td><td>3.0</td><td>5</td><td></td><td></td><td>Int64</td></tr></tbody></table>"
      ],
      "text/latex": [
       "\\begin{tabular}{r|cccccccc}\n",
       "\t& variable & mean & min & median & max & nunique & nmissing & eltype\\\\\n",
       "\t\\hline\n",
       "\t& Symbol & Union… & Any & Union… & Any & Union… & Nothing & DataType\\\\\n",
       "\t\\hline\n",
       "\t1 & Class\\_Name &  & B &  & R & 3 &  & String \\\\\n",
       "\t2 & Left\\_Weight & 3.0 & 1 & 3.0 & 5 &  &  & Int64 \\\\\n",
       "\t3 & Left\\_Distance & 3.0 & 1 & 3.0 & 5 &  &  & Int64 \\\\\n",
       "\t4 & Right\\_Weight & 3.0 & 1 & 3.0 & 5 &  &  & Int64 \\\\\n",
       "\t5 & Right\\_Distance & 3.0 & 1 & 3.0 & 5 &  &  & Int64 \\\\\n",
       "\\end{tabular}\n"
      ],
      "text/plain": [
       "5×8 DataFrame. Omitted printing of 1 columns\n",
       "│ Row │ variable       │ mean   │ min │ median │ max │ nunique │ nmissing │\n",
       "│     │ \u001b[90mSymbol\u001b[39m         │ \u001b[90mUnion…\u001b[39m │ \u001b[90mAny\u001b[39m │ \u001b[90mUnion…\u001b[39m │ \u001b[90mAny\u001b[39m │ \u001b[90mUnion…\u001b[39m  │ \u001b[90mNothing\u001b[39m  │\n",
       "├─────┼────────────────┼────────┼─────┼────────┼─────┼─────────┼──────────┤\n",
       "│ 1   │ Class_Name     │        │ B   │        │ R   │ 3       │          │\n",
       "│ 2   │ Left_Weight    │ 3.0    │ 1   │ 3.0    │ 5   │         │          │\n",
       "│ 3   │ Left_Distance  │ 3.0    │ 1   │ 3.0    │ 5   │         │          │\n",
       "│ 4   │ Right_Weight   │ 3.0    │ 1   │ 3.0    │ 5   │         │          │\n",
       "│ 5   │ Right_Distance │ 3.0    │ 1   │ 3.0    │ 5   │         │          │"
      ]
     },
     "execution_count": 5,
     "metadata": {},
     "output_type": "execute_result"
    }
   ],
   "source": [
    "describe(data)"
   ]
  },
  {
   "cell_type": "code",
   "execution_count": 6,
   "metadata": {
    "scrolled": true
   },
   "outputs": [
    {
     "data": {
      "text/plain": [
       "┌\u001b[0m────────────────\u001b[0m┬\u001b[0m─────────────────────────────────\u001b[0m┬\u001b[0m───────────────\u001b[0m┐\u001b[0m\n",
       "│\u001b[0m\u001b[22m _.names        \u001b[0m│\u001b[0m\u001b[22m _.types                         \u001b[0m│\u001b[0m\u001b[22m _.scitypes    \u001b[0m│\u001b[0m\n",
       "├\u001b[0m────────────────\u001b[0m┼\u001b[0m─────────────────────────────────\u001b[0m┼\u001b[0m───────────────\u001b[0m┤\u001b[0m\n",
       "│\u001b[0m Class_Name     \u001b[0m│\u001b[0m CategoricalValue{String,UInt32} \u001b[0m│\u001b[0m Multiclass{3} \u001b[0m│\u001b[0m\n",
       "│\u001b[0m Left_Weight    \u001b[0m│\u001b[0m Float64                         \u001b[0m│\u001b[0m Continuous    \u001b[0m│\u001b[0m\n",
       "│\u001b[0m Left_Distance  \u001b[0m│\u001b[0m Float64                         \u001b[0m│\u001b[0m Continuous    \u001b[0m│\u001b[0m\n",
       "│\u001b[0m Right_Weight   \u001b[0m│\u001b[0m Float64                         \u001b[0m│\u001b[0m Continuous    \u001b[0m│\u001b[0m\n",
       "│\u001b[0m Right_Distance \u001b[0m│\u001b[0m Float64                         \u001b[0m│\u001b[0m Continuous    \u001b[0m│\u001b[0m\n",
       "└\u001b[0m────────────────\u001b[0m┴\u001b[0m─────────────────────────────────\u001b[0m┴\u001b[0m───────────────\u001b[0m┘\u001b[0m\n",
       "_.nrows = 625\n"
      ]
     },
     "execution_count": 6,
     "metadata": {},
     "output_type": "execute_result"
    }
   ],
   "source": [
    "coerce!(data, :Class_Name=>Multiclass,\n",
    "              :Left_Weight=>Continuous,\n",
    "              :Right_Weight=>Continuous,\n",
    "              :Left_Distance=>Continuous,\n",
    "              :Right_Distance=>Continuous)\n",
    "schema(data)"
   ]
  },
  {
   "cell_type": "code",
   "execution_count": 7,
   "metadata": {
    "scrolled": true
   },
   "outputs": [
    {
     "data": {
      "text/plain": [
       "(CategoricalValue{String,UInt32}[\"B\", \"R\", \"R\", \"R\", \"R\", \"R\", \"R\", \"R\", \"R\", \"R\"  …  \"L\", \"L\", \"L\", \"L\", \"L\", \"L\", \"L\", \"L\", \"L\", \"B\"], 625×4 DataFrame\n",
       "│ Row │ Left_Weight │ Left_Distance │ Right_Weight │ Right_Distance │\n",
       "│     │ \u001b[90mFloat64\u001b[39m     │ \u001b[90mFloat64\u001b[39m       │ \u001b[90mFloat64\u001b[39m      │ \u001b[90mFloat64\u001b[39m        │\n",
       "├─────┼─────────────┼───────────────┼──────────────┼────────────────┤\n",
       "│ 1   │ 1.0         │ 1.0           │ 1.0          │ 1.0            │\n",
       "│ 2   │ 1.0         │ 1.0           │ 1.0          │ 2.0            │\n",
       "│ 3   │ 1.0         │ 1.0           │ 1.0          │ 3.0            │\n",
       "│ 4   │ 1.0         │ 1.0           │ 1.0          │ 4.0            │\n",
       "│ 5   │ 1.0         │ 1.0           │ 1.0          │ 5.0            │\n",
       "│ 6   │ 1.0         │ 1.0           │ 2.0          │ 1.0            │\n",
       "│ 7   │ 1.0         │ 1.0           │ 2.0          │ 2.0            │\n",
       "│ 8   │ 1.0         │ 1.0           │ 2.0          │ 3.0            │\n",
       "│ 9   │ 1.0         │ 1.0           │ 2.0          │ 4.0            │\n",
       "│ 10  │ 1.0         │ 1.0           │ 2.0          │ 5.0            │\n",
       "⋮\n",
       "│ 615 │ 5.0         │ 5.0           │ 3.0          │ 5.0            │\n",
       "│ 616 │ 5.0         │ 5.0           │ 4.0          │ 1.0            │\n",
       "│ 617 │ 5.0         │ 5.0           │ 4.0          │ 2.0            │\n",
       "│ 618 │ 5.0         │ 5.0           │ 4.0          │ 3.0            │\n",
       "│ 619 │ 5.0         │ 5.0           │ 4.0          │ 4.0            │\n",
       "│ 620 │ 5.0         │ 5.0           │ 4.0          │ 5.0            │\n",
       "│ 621 │ 5.0         │ 5.0           │ 5.0          │ 1.0            │\n",
       "│ 622 │ 5.0         │ 5.0           │ 5.0          │ 2.0            │\n",
       "│ 623 │ 5.0         │ 5.0           │ 5.0          │ 3.0            │\n",
       "│ 624 │ 5.0         │ 5.0           │ 5.0          │ 4.0            │\n",
       "│ 625 │ 5.0         │ 5.0           │ 5.0          │ 5.0            │)"
      ]
     },
     "execution_count": 7,
     "metadata": {},
     "output_type": "execute_result"
    }
   ],
   "source": [
    "y, X = unpack(data, ==(:Class_Name), colname->true)"
   ]
  },
  {
   "cell_type": "markdown",
   "metadata": {},
   "source": [
    "Partition train and test data accoring to class labels"
   ]
  },
  {
   "cell_type": "code",
   "execution_count": 67,
   "metadata": {},
   "outputs": [
    {
     "data": {
      "text/plain": [
       "([517, 192, 76, 304, 197, 593, 107, 463, 166, 425  …  68, 334, 268, 448, 407, 575, 69, 220, 167, 504], [516, 173, 615, 181, 52, 144, 238, 74, 372, 162  …  364, 22, 227, 384, 324, 54, 79, 277, 134, 600])"
      ]
     },
     "execution_count": 67,
     "metadata": {},
     "output_type": "execute_result"
    }
   ],
   "source": [
    "# data to use when trying to fit a single validation set\n",
    "train, test = partition(eachindex(y), 0.7, shuffle=true, rng=111, stratify=values(data[:Class_Name])) # gives 70:30 split"
   ]
  },
  {
   "cell_type": "code",
   "execution_count": 68,
   "metadata": {},
   "outputs": [
    {
     "data": {
      "text/plain": [
       "3-element Array{Float64,1}:\n",
       " 0.0776255707762557\n",
       " 0.4611872146118721\n",
       " 0.4611872146118721"
      ]
     },
     "execution_count": 68,
     "metadata": {},
     "output_type": "execute_result"
    }
   ],
   "source": [
    "train_counts = countmap(data[train,:Class_Name])\n",
    "collect(train_counts[i] / size(train)[1] for i in keys(train_counts))"
   ]
  },
  {
   "cell_type": "code",
   "execution_count": 69,
   "metadata": {},
   "outputs": [
    {
     "data": {
      "text/plain": [
       "3-element Array{Float64,1}:\n",
       " 0.08021390374331551\n",
       " 0.45989304812834225\n",
       " 0.45989304812834225"
      ]
     },
     "execution_count": 69,
     "metadata": {},
     "output_type": "execute_result"
    }
   ],
   "source": [
    "test_counts = countmap(data[test,:Class_Name])\n",
    "collect(test_counts[i] / size(test)[1] for i in keys(test_counts))"
   ]
  },
  {
   "cell_type": "markdown",
   "metadata": {},
   "source": [
    "# Five Learning Algorithms\n",
    "\n",
    "* Decision trees with some form of pruning\n",
    "* Neural networks\n",
    "* Boosting\n",
    "* Support Vector Machines\n",
    "* k-nearest neighbors\n",
    "\n",
    "\n",
    "##### Testing\n",
    "* Implement the algorithms\n",
    "* Design two *interesting* classification problems. For the purposes of this assignment, a classification problem is just a set of training examples and a set of test examples."
   ]
  },
  {
   "cell_type": "code",
   "execution_count": 70,
   "metadata": {
    "scrolled": true
   },
   "outputs": [
    {
     "data": {
      "text/plain": [
       "42-element Array{NamedTuple{(:name, :package_name, :is_supervised, :docstring, :hyperparameter_ranges, :hyperparameter_types, :hyperparameters, :implemented_methods, :is_pure_julia, :is_wrapper, :load_path, :package_license, :package_url, :package_uuid, :prediction_type, :supports_online, :supports_weights, :input_scitype, :target_scitype, :output_scitype),T} where T<:Tuple,1}:\n",
       " (name = AdaBoostClassifier, package_name = ScikitLearn, ... )\n",
       " (name = AdaBoostStumpClassifier, package_name = DecisionTree, ... )\n",
       " (name = BaggingClassifier, package_name = ScikitLearn, ... )\n",
       " (name = BayesianLDA, package_name = MultivariateStats, ... )\n",
       " (name = BayesianLDA, package_name = ScikitLearn, ... )\n",
       " (name = BayesianQDA, package_name = ScikitLearn, ... )\n",
       " (name = BayesianSubspaceLDA, package_name = MultivariateStats, ... )\n",
       " (name = ConstantClassifier, package_name = MLJModels, ... )\n",
       " (name = DecisionTreeClassifier, package_name = DecisionTree, ... )\n",
       " (name = DeterministicConstantClassifier, package_name = MLJModels, ... )\n",
       " (name = DummyClassifier, package_name = ScikitLearn, ... )\n",
       " (name = EvoTreeClassifier, package_name = EvoTrees, ... )\n",
       " (name = ExtraTreesClassifier, package_name = ScikitLearn, ... )\n",
       " ⋮\n",
       " (name = ProbabilisticSGDClassifier, package_name = ScikitLearn, ... )\n",
       " (name = RandomForestClassifier, package_name = DecisionTree, ... )\n",
       " (name = RandomForestClassifier, package_name = ScikitLearn, ... )\n",
       " (name = RidgeCVClassifier, package_name = ScikitLearn, ... )\n",
       " (name = RidgeClassifier, package_name = ScikitLearn, ... )\n",
       " (name = SGDClassifier, package_name = ScikitLearn, ... )\n",
       " (name = SVC, package_name = LIBSVM, ... )\n",
       " (name = SVMClassifier, package_name = ScikitLearn, ... )\n",
       " (name = SVMLinearClassifier, package_name = ScikitLearn, ... )\n",
       " (name = SVMNuClassifier, package_name = ScikitLearn, ... )\n",
       " (name = SubspaceLDA, package_name = MultivariateStats, ... )\n",
       " (name = XGBoostClassifier, package_name = XGBoost, ... )"
      ]
     },
     "execution_count": 70,
     "metadata": {},
     "output_type": "execute_result"
    }
   ],
   "source": [
    "models(matching(X,y))"
   ]
  },
  {
   "cell_type": "code",
   "execution_count": 71,
   "metadata": {},
   "outputs": [
    {
     "data": {
      "text/plain": [
       "KNNClassifier(\n",
       "    K = 5,\n",
       "    algorithm = :kdtree,\n",
       "    metric = Euclidean(0.0),\n",
       "    leafsize = 10,\n",
       "    reorder = true,\n",
       "    weights = :uniform)\u001b[34m @537\u001b[39m"
      ]
     },
     "execution_count": 71,
     "metadata": {},
     "output_type": "execute_result"
    }
   ],
   "source": [
    "@load KNNClassifier"
   ]
  },
  {
   "cell_type": "markdown",
   "metadata": {},
   "source": [
    "## K Nearest Neighbors\n",
    "* Use different values of k.\n",
    "\n",
    "1. https://alan-turing-institute.github.io/MLJ.jl/dev/composing_models/\n",
    "1. https://github.com/KristofferC/NearestNeighbors.jl"
   ]
  },
  {
   "cell_type": "code",
   "execution_count": 72,
   "metadata": {},
   "outputs": [
    {
     "data": {
      "text/plain": [
       "KNNClassifier(\n",
       "    K = 5,\n",
       "    algorithm = :kdtree,\n",
       "    metric = Euclidean(0.0),\n",
       "    leafsize = 10,\n",
       "    reorder = true,\n",
       "    weights = :uniform)\u001b[34m @565\u001b[39m"
      ]
     },
     "execution_count": 72,
     "metadata": {},
     "output_type": "execute_result"
    }
   ],
   "source": [
    "knn = KNNClassifier(K=5)"
   ]
  },
  {
   "cell_type": "code",
   "execution_count": 73,
   "metadata": {},
   "outputs": [
    {
     "data": {
      "text/plain": [
       "\u001b[34mMachine{KNNClassifier} @776\u001b[39m trained 0 times.\n",
       "  args: \n",
       "    1:\t\u001b[34mSource @859\u001b[39m ⏎ `Table{AbstractArray{Continuous,1}}`\n",
       "    2:\t\u001b[34mSource @184\u001b[39m ⏎ `AbstractArray{Multiclass{3},1}`\n"
      ]
     },
     "execution_count": 73,
     "metadata": {},
     "output_type": "execute_result"
    }
   ],
   "source": [
    "KNN = machine(knn, X, y)"
   ]
  },
  {
   "cell_type": "code",
   "execution_count": 74,
   "metadata": {},
   "outputs": [
    {
     "name": "stderr",
     "output_type": "stream",
     "text": [
      "┌ Info: Training \u001b[34mMachine{KNNClassifier} @776\u001b[39m.\n",
      "└ @ MLJBase /home/andrew/.julia/packages/MLJBase/uKzAz/src/machines.jl:319\n"
     ]
    },
    {
     "data": {
      "text/plain": [
       "\u001b[34mMachine{KNNClassifier} @776\u001b[39m trained 1 time.\n",
       "  args: \n",
       "    1:\t\u001b[34mSource @859\u001b[39m ⏎ `Table{AbstractArray{Continuous,1}}`\n",
       "    2:\t\u001b[34mSource @184\u001b[39m ⏎ `AbstractArray{Multiclass{3},1}`\n"
      ]
     },
     "execution_count": 74,
     "metadata": {},
     "output_type": "execute_result"
    }
   ],
   "source": [
    "fit!(KNN, rows=train)"
   ]
  },
  {
   "cell_type": "code",
   "execution_count": 75,
   "metadata": {},
   "outputs": [
    {
     "name": "stderr",
     "output_type": "stream",
     "text": [
      "\u001b[33mEvaluating over 6 folds: 100%[=========================] Time: 0:00:00\u001b[39m\n"
     ]
    },
    {
     "data": {
      "text/plain": [
       "┌\u001b[0m───────────────\u001b[0m┬\u001b[0m───────────────\u001b[0m┬\u001b[0m───────────────────────────────────────────\u001b[0m┐\u001b[0m\n",
       "│\u001b[0m\u001b[22m _.measure     \u001b[0m│\u001b[0m\u001b[22m _.measurement \u001b[0m│\u001b[0m\u001b[22m _.per_fold                                \u001b[0m│\u001b[0m\n",
       "├\u001b[0m───────────────\u001b[0m┼\u001b[0m───────────────\u001b[0m┼\u001b[0m───────────────────────────────────────────\u001b[0m┤\u001b[0m\n",
       "│\u001b[0m cross_entropy \u001b[0m│\u001b[0m 2.86          \u001b[0m│\u001b[0m [2.99, 3.33, 3.7, 0.842, 2.65, 3.65]      \u001b[0m│\u001b[0m\n",
       "│\u001b[0m acc           \u001b[0m│\u001b[0m 0.819         \u001b[0m│\u001b[0m [0.762, 0.817, 0.76, 0.913, 0.817, 0.846] \u001b[0m│\u001b[0m\n",
       "└\u001b[0m───────────────\u001b[0m┴\u001b[0m───────────────\u001b[0m┴\u001b[0m───────────────────────────────────────────\u001b[0m┘\u001b[0m\n",
       "_.per_observation = [[[0.223, 2.22e-16, ..., 2.22e-16], [2.22e-16, 2.22e-16, ..., 2.22e-16], [36.0, 2.22e-16, ..., 2.22e-16], [2.22e-16, 2.22e-16, ..., 0.511], [2.22e-16, 2.22e-16, ..., 0.511], [2.22e-16, 2.22e-16, ..., 2.22e-16]], missing]\n",
       "_.fitted_params_per_fold = [ … ]\n",
       "_.report_per_fold = [ … ]\n"
      ]
     },
     "execution_count": 75,
     "metadata": {},
     "output_type": "execute_result"
    }
   ],
   "source": [
    "knn_acc = evaluate!(KNN, resampling=CV(shuffle=true), measure=[cross_entropy, acc], verbosity=1)"
   ]
  },
  {
   "cell_type": "code",
   "execution_count": 76,
   "metadata": {},
   "outputs": [
    {
     "data": {
      "text/plain": [
       "(tree = NearestNeighbors.KDTree{StaticArrays.SArray{Tuple{4},Float64,1,4},Euclidean,Float64}\n",
       "  Number of points: 521\n",
       "  Dimensions: 4\n",
       "  Metric: Euclidean(0.0)\n",
       "  Reordered: true,)"
      ]
     },
     "execution_count": 76,
     "metadata": {},
     "output_type": "execute_result"
    }
   ],
   "source": [
    "fitted_params(KNN)"
   ]
  },
  {
   "cell_type": "markdown",
   "metadata": {},
   "source": [
    "### GridSearch / RandomSearch"
   ]
  },
  {
   "cell_type": "markdown",
   "metadata": {},
   "source": [
    "#### Euclidean"
   ]
  },
  {
   "cell_type": "code",
   "execution_count": 116,
   "metadata": {},
   "outputs": [
    {
     "data": {
      "text/plain": [
       "KNNClassifier(\n",
       "    K = 5,\n",
       "    algorithm = :kdtree,\n",
       "    metric = Euclidean(0.0),\n",
       "    leafsize = 10,\n",
       "    reorder = true,\n",
       "    weights = :uniform)\u001b[34m @286\u001b[39m"
      ]
     },
     "execution_count": 116,
     "metadata": {},
     "output_type": "execute_result"
    }
   ],
   "source": [
    "knn_grid = KNNClassifier()"
   ]
  },
  {
   "cell_type": "code",
   "execution_count": 117,
   "metadata": {},
   "outputs": [
    {
     "data": {
      "text/plain": [
       "MLJBase.NumericRange(Int64, :K, ... )"
      ]
     },
     "execution_count": 117,
     "metadata": {},
     "output_type": "execute_result"
    }
   ],
   "source": [
    "param1 = :K\n",
    "\n",
    "r1 = range(knn_grid, param1, lower=1, upper=9, scale=:linear)"
   ]
  },
  {
   "cell_type": "code",
   "execution_count": 118,
   "metadata": {},
   "outputs": [
    {
     "data": {
      "text/plain": [
       "ProbabilisticTunedModel(\n",
       "    model = KNNClassifier(\n",
       "            K = 5,\n",
       "            algorithm = :kdtree,\n",
       "            metric = Euclidean(0.0),\n",
       "            leafsize = 10,\n",
       "            reorder = true,\n",
       "            weights = :uniform),\n",
       "    tuning = Grid(\n",
       "            goal = 16,\n",
       "            resolution = 10,\n",
       "            shuffle = true,\n",
       "            rng = Random._GLOBAL_RNG()),\n",
       "    resampling = CV(\n",
       "            nfolds = 6,\n",
       "            shuffle = true,\n",
       "            rng = Random._GLOBAL_RNG()),\n",
       "    measure = accuracy(),\n",
       "    weights = nothing,\n",
       "    operation = MLJModelInterface.predict_mode,\n",
       "    range = MLJBase.NumericRange{Int64,MLJBase.Bounded,Symbol}[\u001b[34mNumericRange{Int64,…} @291\u001b[39m],\n",
       "    train_best = true,\n",
       "    repeats = 1,\n",
       "    n = nothing,\n",
       "    acceleration = CPUThreads{Int64}(1),\n",
       "    acceleration_resampling = CPU1{Nothing}(nothing),\n",
       "    check_measure = true)\u001b[34m @015\u001b[39m"
      ]
     },
     "execution_count": 118,
     "metadata": {},
     "output_type": "execute_result"
    }
   ],
   "source": [
    "self_tuning_knn_model = TunedModel(model=knn_grid,\n",
    "                                    tuning=Grid(goal=16),\n",
    "                                    resampling=CV(nfolds=6, shuffle=true), \n",
    "                                    measure=accuracy,\n",
    "                                    acceleration=CPUThreads(),\n",
    "                                    range=[r1],\n",
    "                                    operation=predict_mode)"
   ]
  },
  {
   "cell_type": "code",
   "execution_count": 119,
   "metadata": {},
   "outputs": [
    {
     "data": {
      "text/plain": [
       "\u001b[34mMachine{ProbabilisticTunedModel{Grid,…}} @725\u001b[39m trained 0 times.\n",
       "  args: \n",
       "    1:\t\u001b[34mSource @120\u001b[39m ⏎ `Table{AbstractArray{Continuous,1}}`\n",
       "    2:\t\u001b[34mSource @174\u001b[39m ⏎ `AbstractArray{Multiclass{3},1}`\n"
      ]
     },
     "execution_count": 119,
     "metadata": {},
     "output_type": "execute_result"
    }
   ],
   "source": [
    "self_tuning_knn = machine(self_tuning_knn_model, X, y)"
   ]
  },
  {
   "cell_type": "code",
   "execution_count": 120,
   "metadata": {
    "scrolled": true
   },
   "outputs": [
    {
     "name": "stderr",
     "output_type": "stream",
     "text": [
      "┌ Info: Training \u001b[34mMachine{ProbabilisticTunedModel{Grid,…}} @725\u001b[39m.\n",
      "└ @ MLJBase /home/andrew/.julia/packages/MLJBase/uKzAz/src/machines.jl:319\n",
      "┌ Info: Attempting to evaluate 9 models.\n",
      "└ @ MLJTuning /home/andrew/.julia/packages/MLJTuning/Bbgvk/src/tuned_models.jl:494\n",
      "\u001b[33mEvaluating over 9 metamodels: 100%[=========================] Time: 0:00:00\u001b[39m\n"
     ]
    },
    {
     "data": {
      "text/plain": [
       "\u001b[34mMachine{ProbabilisticTunedModel{Grid,…}} @725\u001b[39m trained 1 time.\n",
       "  args: \n",
       "    1:\t\u001b[34mSource @120\u001b[39m ⏎ `Table{AbstractArray{Continuous,1}}`\n",
       "    2:\t\u001b[34mSource @174\u001b[39m ⏎ `AbstractArray{Multiclass{3},1}`\n"
      ]
     },
     "execution_count": 120,
     "metadata": {},
     "output_type": "execute_result"
    }
   ],
   "source": [
    "z = fit!(self_tuning_knn, rows=train)"
   ]
  },
  {
   "cell_type": "code",
   "execution_count": 121,
   "metadata": {},
   "outputs": [
    {
     "data": {
      "text/plain": [
       "(best_model = \u001b[34mKNNClassifier @491\u001b[39m,\n",
       " best_fitted_params = (tree = NearestNeighbors.KDTree{StaticArrays.SArray{Tuple{4},Float64,1,4},Euclidean,Float64}\n",
       "  Number of points: 438\n",
       "  Dimensions: 4\n",
       "  Metric: Euclidean(0.0)\n",
       "  Reordered: true,),)"
      ]
     },
     "execution_count": 121,
     "metadata": {},
     "output_type": "execute_result"
    }
   ],
   "source": [
    "best = fitted_params(self_tuning_knn)\n",
    "best"
   ]
  },
  {
   "cell_type": "code",
   "execution_count": 122,
   "metadata": {
    "scrolled": true
   },
   "outputs": [
    {
     "data": {
      "text/plain": [
       "KNNClassifier(\n",
       "    K = 9,\n",
       "    algorithm = :kdtree,\n",
       "    metric = Euclidean(0.0),\n",
       "    leafsize = 10,\n",
       "    reorder = true,\n",
       "    weights = :uniform)\u001b[34m @491\u001b[39m"
      ]
     },
     "execution_count": 122,
     "metadata": {},
     "output_type": "execute_result"
    }
   ],
   "source": [
    "best.best_model"
   ]
  },
  {
   "cell_type": "markdown",
   "metadata": {},
   "source": [
    "**Learning Curves**"
   ]
  },
  {
   "cell_type": "code",
   "execution_count": 123,
   "metadata": {
    "scrolled": true
   },
   "outputs": [
    {
     "name": "stdout",
     "output_type": "stream",
     "text": [
      "(d, train_metric, valid_metric) = (10, 0.6, 0.38636363636363635)\n",
      "(d, train_metric, valid_metric) = (15, 0.6, 0.5113636363636364)\n",
      "(d, train_metric, valid_metric) = (20, 0.85, 0.6022727272727273)\n",
      "(d, train_metric, valid_metric) = (25, 0.84, 0.625)\n",
      "(d, train_metric, valid_metric) = (30, 0.7333333333333333, 0.5681818181818182)\n",
      "(d, train_metric, valid_metric) = (35, 0.8571428571428571, 0.6818181818181818)\n",
      "(d, train_metric, valid_metric) = (40, 0.9, 0.7272727272727273)\n",
      "(d, train_metric, valid_metric) = (45, 0.8888888888888888, 0.7613636363636364)\n",
      "(d, train_metric, valid_metric) = (50, 0.9, 0.7386363636363636)\n",
      "(d, train_metric, valid_metric) = (55, 0.9090909090909091, 0.7727272727272727)\n",
      "(d, train_metric, valid_metric) = (60, 0.9166666666666666, 0.7840909090909091)\n",
      "(d, train_metric, valid_metric) = (65, 0.9076923076923077, 0.7954545454545454)\n",
      "(d, train_metric, valid_metric) = (70, 0.9, 0.8068181818181818)\n",
      "(d, train_metric, valid_metric) = (75, 0.88, 0.8068181818181818)\n",
      "(d, train_metric, valid_metric) = (80, 0.9, 0.7727272727272727)\n",
      "(d, train_metric, valid_metric) = (85, 0.8941176470588236, 0.7727272727272727)\n",
      "(d, train_metric, valid_metric) = (90, 0.9, 0.7840909090909091)\n",
      "(d, train_metric, valid_metric) = (95, 0.8947368421052632, 0.7840909090909091)\n",
      "(d, train_metric, valid_metric) = (100, 0.91, 0.7954545454545454)\n",
      "(d, train_metric, valid_metric) = (105, 0.8952380952380953, 0.8068181818181818)\n",
      "(d, train_metric, valid_metric) = (110, 0.9, 0.8409090909090909)\n",
      "(d, train_metric, valid_metric) = (115, 0.8869565217391304, 0.7954545454545454)\n",
      "(d, train_metric, valid_metric) = (120, 0.8833333333333333, 0.8181818181818182)\n",
      "(d, train_metric, valid_metric) = (125, 0.904, 0.8295454545454546)\n",
      "(d, train_metric, valid_metric) = (130, 0.9076923076923077, 0.8409090909090909)\n",
      "(d, train_metric, valid_metric) = (135, 0.9037037037037037, 0.8409090909090909)\n",
      "(d, train_metric, valid_metric) = (140, 0.8928571428571429, 0.8295454545454546)\n",
      "(d, train_metric, valid_metric) = (145, 0.9103448275862069, 0.8181818181818182)\n",
      "(d, train_metric, valid_metric) = (150, 0.9066666666666666, 0.8522727272727273)\n",
      "(d, train_metric, valid_metric) = (155, 0.9032258064516129, 0.8522727272727273)\n",
      "(d, train_metric, valid_metric) = (160, 0.925, 0.8522727272727273)\n",
      "(d, train_metric, valid_metric) = (165, 0.9090909090909091, 0.8181818181818182)\n",
      "(d, train_metric, valid_metric) = (170, 0.9117647058823529, 0.8409090909090909)\n",
      "(d, train_metric, valid_metric) = (175, 0.9085714285714286, 0.8295454545454546)\n",
      "(d, train_metric, valid_metric) = (180, 0.9222222222222223, 0.8295454545454546)\n",
      "(d, train_metric, valid_metric) = (185, 0.9081081081081082, 0.8409090909090909)\n",
      "(d, train_metric, valid_metric) = (190, 0.9210526315789473, 0.8522727272727273)\n",
      "(d, train_metric, valid_metric) = (195, 0.9179487179487179, 0.8409090909090909)\n",
      "(d, train_metric, valid_metric) = (200, 0.925, 0.8409090909090909)\n",
      "(d, train_metric, valid_metric) = (205, 0.9317073170731708, 0.8409090909090909)\n",
      "(d, train_metric, valid_metric) = (210, 0.9238095238095239, 0.8409090909090909)\n",
      "(d, train_metric, valid_metric) = (215, 0.9162790697674419, 0.8636363636363636)\n",
      "(d, train_metric, valid_metric) = (220, 0.9136363636363637, 0.8522727272727273)\n",
      "(d, train_metric, valid_metric) = (225, 0.92, 0.8522727272727273)\n",
      "(d, train_metric, valid_metric) = (230, 0.9173913043478261, 0.8409090909090909)\n",
      "(d, train_metric, valid_metric) = (235, 0.9234042553191489, 0.8522727272727273)\n",
      "(d, train_metric, valid_metric) = (240, 0.9166666666666666, 0.8522727272727273)\n",
      "(d, train_metric, valid_metric) = (245, 0.9224489795918367, 0.8409090909090909)\n",
      "(d, train_metric, valid_metric) = (250, 0.912, 0.8522727272727273)\n",
      "(d, train_metric, valid_metric) = (255, 0.9176470588235294, 0.8409090909090909)\n",
      "(d, train_metric, valid_metric) = (260, 0.926923076923077, 0.8295454545454546)\n",
      "(d, train_metric, valid_metric) = (265, 0.9245283018867925, 0.8295454545454546)\n",
      "(d, train_metric, valid_metric) = (270, 0.9185185185185185, 0.8522727272727273)\n",
      "(d, train_metric, valid_metric) = (275, 0.9236363636363636, 0.8636363636363636)\n",
      "(d, train_metric, valid_metric) = (280, 0.9214285714285714, 0.8636363636363636)\n",
      "(d, train_metric, valid_metric) = (285, 0.9157894736842105, 0.8522727272727273)\n",
      "(d, train_metric, valid_metric) = (290, 0.906896551724138, 0.8522727272727273)\n",
      "(d, train_metric, valid_metric) = (295, 0.9152542372881356, 0.8522727272727273)\n",
      "(d, train_metric, valid_metric) = (300, 0.91, 0.8522727272727273)\n",
      "(d, train_metric, valid_metric) = (305, 0.9081967213114754, 0.8636363636363636)\n",
      "(d, train_metric, valid_metric) = (310, 0.9193548387096774, 0.8522727272727273)\n",
      "(d, train_metric, valid_metric) = (315, 0.9111111111111111, 0.8522727272727273)\n",
      "(d, train_metric, valid_metric) = (320, 0.90625, 0.8522727272727273)\n",
      "(d, train_metric, valid_metric) = (325, 0.9015384615384615, 0.8522727272727273)\n",
      "(d, train_metric, valid_metric) = (330, 0.9090909090909091, 0.8522727272727273)\n",
      "(d, train_metric, valid_metric) = (335, 0.9104477611940298, 0.8636363636363636)\n",
      "(d, train_metric, valid_metric) = (340, 0.9205882352941176, 0.8636363636363636)\n",
      "(d, train_metric, valid_metric) = (345, 0.9159420289855073, 0.8863636363636364)\n",
      "(d, train_metric, valid_metric) = (350, 0.9114285714285715, 0.8522727272727273)\n"
     ]
    },
    {
     "data": {
      "text/plain": [
       "(10:5:350, Any[0.6, 0.6, 0.85, 0.84, 0.7333333333333333, 0.8571428571428571, 0.9, 0.8888888888888888, 0.9, 0.9090909090909091  …  0.9081967213114754, 0.9193548387096774, 0.9111111111111111, 0.90625, 0.9015384615384615, 0.9090909090909091, 0.9104477611940298, 0.9205882352941176, 0.9159420289855073, 0.9114285714285715], Any[0.38636363636363635, 0.5113636363636364, 0.6022727272727273, 0.625, 0.5681818181818182, 0.6818181818181818, 0.7272727272727273, 0.7613636363636364, 0.7386363636363636, 0.7727272727272727  …  0.8636363636363636, 0.8522727272727273, 0.8522727272727273, 0.8522727272727273, 0.8522727272727273, 0.8522727272727273, 0.8636363636363636, 0.8636363636363636, 0.8863636363636364, 0.8522727272727273])"
      ]
     },
     "execution_count": 123,
     "metadata": {},
     "output_type": "execute_result"
    }
   ],
   "source": [
    "data_schedule, training_losses, valid_losses = learn_curve(best.best_model, X[train,:], y[train], acc)"
   ]
  },
  {
   "cell_type": "code",
   "execution_count": 124,
   "metadata": {},
   "outputs": [
    {
     "data": {
      "image/svg+xml": [
       "<?xml version=\"1.0\" encoding=\"utf-8\"?>\n",
       "<svg xmlns=\"http://www.w3.org/2000/svg\" xmlns:xlink=\"http://www.w3.org/1999/xlink\" width=\"600\" height=\"400\" viewBox=\"0 0 2400 1600\">\n",
       "<defs>\n",
       "  <clipPath id=\"clip430\">\n",
       "    <rect x=\"0\" y=\"0\" width=\"2400\" height=\"1600\"/>\n",
       "  </clipPath>\n",
       "</defs>\n",
       "<path clip-path=\"url(#clip430)\" d=\"\n",
       "M0 1600 L2400 1600 L2400 0 L0 0  Z\n",
       "  \" fill=\"#ffffff\" fill-rule=\"evenodd\" fill-opacity=\"1\"/>\n",
       "<defs>\n",
       "  <clipPath id=\"clip431\">\n",
       "    <rect x=\"480\" y=\"0\" width=\"1681\" height=\"1600\"/>\n",
       "  </clipPath>\n",
       "</defs>\n",
       "<path clip-path=\"url(#clip430)\" d=\"\n",
       "M211.602 1423.18 L2352.76 1423.18 L2352.76 123.472 L211.602 123.472  Z\n",
       "  \" fill=\"#ffffff\" fill-rule=\"evenodd\" fill-opacity=\"1\"/>\n",
       "<defs>\n",
       "  <clipPath id=\"clip432\">\n",
       "    <rect x=\"211\" y=\"123\" width=\"2142\" height=\"1301\"/>\n",
       "  </clipPath>\n",
       "</defs>\n",
       "<polyline clip-path=\"url(#clip432)\" style=\"stroke:#000000; stroke-width:2; stroke-opacity:0.1; fill:none\" points=\"\n",
       "  212.791,1423.18 212.791,123.472 \n",
       "  \"/>\n",
       "<polyline clip-path=\"url(#clip432)\" style=\"stroke:#000000; stroke-width:2; stroke-opacity:0.1; fill:none\" points=\"\n",
       "  806.895,1423.18 806.895,123.472 \n",
       "  \"/>\n",
       "<polyline clip-path=\"url(#clip432)\" style=\"stroke:#000000; stroke-width:2; stroke-opacity:0.1; fill:none\" points=\"\n",
       "  1401,1423.18 1401,123.472 \n",
       "  \"/>\n",
       "<polyline clip-path=\"url(#clip432)\" style=\"stroke:#000000; stroke-width:2; stroke-opacity:0.1; fill:none\" points=\"\n",
       "  1995.1,1423.18 1995.1,123.472 \n",
       "  \"/>\n",
       "<polyline clip-path=\"url(#clip432)\" style=\"stroke:#000000; stroke-width:2; stroke-opacity:0.1; fill:none\" points=\"\n",
       "  211.602,1355.74 2352.76,1355.74 \n",
       "  \"/>\n",
       "<polyline clip-path=\"url(#clip432)\" style=\"stroke:#000000; stroke-width:2; stroke-opacity:0.1; fill:none\" points=\"\n",
       "  211.602,1130.9 2352.76,1130.9 \n",
       "  \"/>\n",
       "<polyline clip-path=\"url(#clip432)\" style=\"stroke:#000000; stroke-width:2; stroke-opacity:0.1; fill:none\" points=\"\n",
       "  211.602,906.06 2352.76,906.06 \n",
       "  \"/>\n",
       "<polyline clip-path=\"url(#clip432)\" style=\"stroke:#000000; stroke-width:2; stroke-opacity:0.1; fill:none\" points=\"\n",
       "  211.602,681.222 2352.76,681.222 \n",
       "  \"/>\n",
       "<polyline clip-path=\"url(#clip432)\" style=\"stroke:#000000; stroke-width:2; stroke-opacity:0.1; fill:none\" points=\"\n",
       "  211.602,456.384 2352.76,456.384 \n",
       "  \"/>\n",
       "<polyline clip-path=\"url(#clip432)\" style=\"stroke:#000000; stroke-width:2; stroke-opacity:0.1; fill:none\" points=\"\n",
       "  211.602,231.546 2352.76,231.546 \n",
       "  \"/>\n",
       "<polyline clip-path=\"url(#clip430)\" style=\"stroke:#000000; stroke-width:4; stroke-opacity:1; fill:none\" points=\"\n",
       "  211.602,1423.18 2352.76,1423.18 \n",
       "  \"/>\n",
       "<polyline clip-path=\"url(#clip430)\" style=\"stroke:#000000; stroke-width:4; stroke-opacity:1; fill:none\" points=\"\n",
       "  211.602,1423.18 211.602,123.472 \n",
       "  \"/>\n",
       "<polyline clip-path=\"url(#clip430)\" style=\"stroke:#000000; stroke-width:4; stroke-opacity:1; fill:none\" points=\"\n",
       "  212.791,1423.18 212.791,1407.58 \n",
       "  \"/>\n",
       "<polyline clip-path=\"url(#clip430)\" style=\"stroke:#000000; stroke-width:4; stroke-opacity:1; fill:none\" points=\"\n",
       "  806.895,1423.18 806.895,1407.58 \n",
       "  \"/>\n",
       "<polyline clip-path=\"url(#clip430)\" style=\"stroke:#000000; stroke-width:4; stroke-opacity:1; fill:none\" points=\"\n",
       "  1401,1423.18 1401,1407.58 \n",
       "  \"/>\n",
       "<polyline clip-path=\"url(#clip430)\" style=\"stroke:#000000; stroke-width:4; stroke-opacity:1; fill:none\" points=\"\n",
       "  1995.1,1423.18 1995.1,1407.58 \n",
       "  \"/>\n",
       "<polyline clip-path=\"url(#clip430)\" style=\"stroke:#000000; stroke-width:4; stroke-opacity:1; fill:none\" points=\"\n",
       "  211.602,1355.74 237.296,1355.74 \n",
       "  \"/>\n",
       "<polyline clip-path=\"url(#clip430)\" style=\"stroke:#000000; stroke-width:4; stroke-opacity:1; fill:none\" points=\"\n",
       "  211.602,1130.9 237.296,1130.9 \n",
       "  \"/>\n",
       "<polyline clip-path=\"url(#clip430)\" style=\"stroke:#000000; stroke-width:4; stroke-opacity:1; fill:none\" points=\"\n",
       "  211.602,906.06 237.296,906.06 \n",
       "  \"/>\n",
       "<polyline clip-path=\"url(#clip430)\" style=\"stroke:#000000; stroke-width:4; stroke-opacity:1; fill:none\" points=\"\n",
       "  211.602,681.222 237.296,681.222 \n",
       "  \"/>\n",
       "<polyline clip-path=\"url(#clip430)\" style=\"stroke:#000000; stroke-width:4; stroke-opacity:1; fill:none\" points=\"\n",
       "  211.602,456.384 237.296,456.384 \n",
       "  \"/>\n",
       "<polyline clip-path=\"url(#clip430)\" style=\"stroke:#000000; stroke-width:4; stroke-opacity:1; fill:none\" points=\"\n",
       "  211.602,231.546 237.296,231.546 \n",
       "  \"/>\n",
       "<path clip-path=\"url(#clip430)\" d=\"M 0 0 M212.791 1445.17 Q209.18 1445.17 207.351 1448.74 Q205.545 1452.28 205.545 1459.41 Q205.545 1466.51 207.351 1470.08 Q209.18 1473.62 212.791 1473.62 Q216.425 1473.62 218.23 1470.08 Q220.059 1466.51 220.059 1459.41 Q220.059 1452.28 218.23 1448.74 Q216.425 1445.17 212.791 1445.17 M212.791 1441.47 Q218.601 1441.47 221.656 1446.07 Q224.735 1450.66 224.735 1459.41 Q224.735 1468.13 221.656 1472.74 Q218.601 1477.32 212.791 1477.32 Q206.98 1477.32 203.902 1472.74 Q200.846 1468.13 200.846 1459.41 Q200.846 1450.66 203.902 1446.07 Q206.98 1441.47 212.791 1441.47 Z\" fill=\"#000000\" fill-rule=\"evenodd\" fill-opacity=\"1\" /><path clip-path=\"url(#clip430)\" d=\"M 0 0 M770.264 1472.72 L777.902 1472.72 L777.902 1446.35 L769.592 1448.02 L769.592 1443.76 L777.856 1442.09 L782.532 1442.09 L782.532 1472.72 L790.171 1472.72 L790.171 1476.65 L770.264 1476.65 L770.264 1472.72 Z\" fill=\"#000000\" fill-rule=\"evenodd\" fill-opacity=\"1\" /><path clip-path=\"url(#clip430)\" d=\"M 0 0 M805.24 1445.17 Q801.629 1445.17 799.801 1448.74 Q797.995 1452.28 797.995 1459.41 Q797.995 1466.51 799.801 1470.08 Q801.629 1473.62 805.24 1473.62 Q808.875 1473.62 810.68 1470.08 Q812.509 1466.51 812.509 1459.41 Q812.509 1452.28 810.68 1448.74 Q808.875 1445.17 805.24 1445.17 M805.24 1441.47 Q811.05 1441.47 814.106 1446.07 Q817.185 1450.66 817.185 1459.41 Q817.185 1468.13 814.106 1472.74 Q811.05 1477.32 805.24 1477.32 Q799.43 1477.32 796.351 1472.74 Q793.296 1468.13 793.296 1459.41 Q793.296 1450.66 796.351 1446.07 Q799.43 1441.47 805.24 1441.47 Z\" fill=\"#000000\" fill-rule=\"evenodd\" fill-opacity=\"1\" /><path clip-path=\"url(#clip430)\" d=\"M 0 0 M832.254 1445.17 Q828.643 1445.17 826.814 1448.74 Q825.009 1452.28 825.009 1459.41 Q825.009 1466.51 826.814 1470.08 Q828.643 1473.62 832.254 1473.62 Q835.888 1473.62 837.694 1470.08 Q839.523 1466.51 839.523 1459.41 Q839.523 1452.28 837.694 1448.74 Q835.888 1445.17 832.254 1445.17 M832.254 1441.47 Q838.064 1441.47 841.12 1446.07 Q844.198 1450.66 844.198 1459.41 Q844.198 1468.13 841.12 1472.74 Q838.064 1477.32 832.254 1477.32 Q826.444 1477.32 823.365 1472.74 Q820.31 1468.13 820.31 1459.41 Q820.31 1450.66 823.365 1446.07 Q826.444 1441.47 832.254 1441.47 Z\" fill=\"#000000\" fill-rule=\"evenodd\" fill-opacity=\"1\" /><path clip-path=\"url(#clip430)\" d=\"M 0 0 M1368.64 1472.72 L1384.96 1472.72 L1384.96 1476.65 L1363.01 1476.65 L1363.01 1472.72 Q1365.68 1469.96 1370.26 1465.33 Q1374.87 1460.68 1376.05 1459.34 Q1378.29 1456.81 1379.17 1455.08 Q1380.07 1453.32 1380.07 1451.63 Q1380.07 1448.87 1378.13 1447.14 Q1376.21 1445.4 1373.11 1445.4 Q1370.91 1445.4 1368.45 1446.17 Q1366.02 1446.93 1363.25 1448.48 L1363.25 1443.76 Q1366.07 1442.62 1368.52 1442.05 Q1370.98 1441.47 1373.01 1441.47 Q1378.38 1441.47 1381.58 1444.15 Q1384.77 1446.84 1384.77 1451.33 Q1384.77 1453.46 1383.96 1455.38 Q1383.18 1457.28 1381.07 1459.87 Q1380.49 1460.54 1377.39 1463.76 Q1374.29 1466.95 1368.64 1472.72 Z\" fill=\"#000000\" fill-rule=\"evenodd\" fill-opacity=\"1\" /><path clip-path=\"url(#clip430)\" d=\"M 0 0 M1400.03 1445.17 Q1396.42 1445.17 1394.59 1448.74 Q1392.78 1452.28 1392.78 1459.41 Q1392.78 1466.51 1394.59 1470.08 Q1396.42 1473.62 1400.03 1473.62 Q1403.66 1473.62 1405.47 1470.08 Q1407.3 1466.51 1407.3 1459.41 Q1407.3 1452.28 1405.47 1448.74 Q1403.66 1445.17 1400.03 1445.17 M1400.03 1441.47 Q1405.84 1441.47 1408.89 1446.07 Q1411.97 1450.66 1411.97 1459.41 Q1411.97 1468.13 1408.89 1472.74 Q1405.84 1477.32 1400.03 1477.32 Q1394.22 1477.32 1391.14 1472.74 Q1388.08 1468.13 1388.08 1459.41 Q1388.08 1450.66 1391.14 1446.07 Q1394.22 1441.47 1400.03 1441.47 Z\" fill=\"#000000\" fill-rule=\"evenodd\" fill-opacity=\"1\" /><path clip-path=\"url(#clip430)\" d=\"M 0 0 M1427.04 1445.17 Q1423.43 1445.17 1421.6 1448.74 Q1419.8 1452.28 1419.8 1459.41 Q1419.8 1466.51 1421.6 1470.08 Q1423.43 1473.62 1427.04 1473.62 Q1430.68 1473.62 1432.48 1470.08 Q1434.31 1466.51 1434.31 1459.41 Q1434.31 1452.28 1432.48 1448.74 Q1430.68 1445.17 1427.04 1445.17 M1427.04 1441.47 Q1432.85 1441.47 1435.91 1446.07 Q1438.99 1450.66 1438.99 1459.41 Q1438.99 1468.13 1435.91 1472.74 Q1432.85 1477.32 1427.04 1477.32 Q1421.23 1477.32 1418.15 1472.74 Q1415.1 1468.13 1415.1 1459.41 Q1415.1 1450.66 1418.15 1446.07 Q1421.23 1441.47 1427.04 1441.47 Z\" fill=\"#000000\" fill-rule=\"evenodd\" fill-opacity=\"1\" /><path clip-path=\"url(#clip430)\" d=\"M 0 0 M1972.34 1458.02 Q1975.7 1458.74 1977.57 1461 Q1979.47 1463.27 1979.47 1466.61 Q1979.47 1471.72 1975.95 1474.52 Q1972.43 1477.32 1965.95 1477.32 Q1963.77 1477.32 1961.46 1476.88 Q1959.17 1476.47 1956.71 1475.61 L1956.71 1471.1 Q1958.66 1472.23 1960.97 1472.81 Q1963.29 1473.39 1965.81 1473.39 Q1970.21 1473.39 1972.5 1471.65 Q1974.82 1469.92 1974.82 1466.61 Q1974.82 1463.55 1972.66 1461.84 Q1970.53 1460.1 1966.71 1460.1 L1962.69 1460.1 L1962.69 1456.26 L1966.9 1456.26 Q1970.35 1456.26 1972.18 1454.89 Q1974.01 1453.5 1974.01 1450.91 Q1974.01 1448.25 1972.11 1446.84 Q1970.23 1445.4 1966.71 1445.4 Q1964.79 1445.4 1962.59 1445.82 Q1960.39 1446.24 1957.76 1447.11 L1957.76 1442.95 Q1960.42 1442.21 1962.73 1441.84 Q1965.07 1441.47 1967.13 1441.47 Q1972.45 1441.47 1975.56 1443.9 Q1978.66 1446.3 1978.66 1450.43 Q1978.66 1453.3 1977.01 1455.29 Q1975.37 1457.25 1972.34 1458.02 Z\" fill=\"#000000\" fill-rule=\"evenodd\" fill-opacity=\"1\" /><path clip-path=\"url(#clip430)\" d=\"M 0 0 M1994.54 1445.17 Q1990.93 1445.17 1989.1 1448.74 Q1987.29 1452.28 1987.29 1459.41 Q1987.29 1466.51 1989.1 1470.08 Q1990.93 1473.62 1994.54 1473.62 Q1998.17 1473.62 1999.98 1470.08 Q2001.81 1466.51 2001.81 1459.41 Q2001.81 1452.28 1999.98 1448.74 Q1998.17 1445.17 1994.54 1445.17 M1994.54 1441.47 Q2000.35 1441.47 2003.4 1446.07 Q2006.48 1450.66 2006.48 1459.41 Q2006.48 1468.13 2003.4 1472.74 Q2000.35 1477.32 1994.54 1477.32 Q1988.73 1477.32 1985.65 1472.74 Q1982.59 1468.13 1982.59 1459.41 Q1982.59 1450.66 1985.65 1446.07 Q1988.73 1441.47 1994.54 1441.47 Z\" fill=\"#000000\" fill-rule=\"evenodd\" fill-opacity=\"1\" /><path clip-path=\"url(#clip430)\" d=\"M 0 0 M2021.55 1445.17 Q2017.94 1445.17 2016.11 1448.74 Q2014.31 1452.28 2014.31 1459.41 Q2014.31 1466.51 2016.11 1470.08 Q2017.94 1473.62 2021.55 1473.62 Q2025.19 1473.62 2026.99 1470.08 Q2028.82 1466.51 2028.82 1459.41 Q2028.82 1452.28 2026.99 1448.74 Q2025.19 1445.17 2021.55 1445.17 M2021.55 1441.47 Q2027.36 1441.47 2030.42 1446.07 Q2033.5 1450.66 2033.5 1459.41 Q2033.5 1468.13 2030.42 1472.74 Q2027.36 1477.32 2021.55 1477.32 Q2015.74 1477.32 2012.66 1472.74 Q2009.61 1468.13 2009.61 1459.41 Q2009.61 1450.66 2012.66 1446.07 Q2015.74 1441.47 2021.55 1441.47 Z\" fill=\"#000000\" fill-rule=\"evenodd\" fill-opacity=\"1\" /><path clip-path=\"url(#clip430)\" d=\"M 0 0 M138.205 1341.53 Q134.593 1341.53 132.765 1345.1 Q130.959 1348.64 130.959 1355.77 Q130.959 1362.88 132.765 1366.44 Q134.593 1369.98 138.205 1369.98 Q141.839 1369.98 143.644 1366.44 Q145.473 1362.88 145.473 1355.77 Q145.473 1348.64 143.644 1345.1 Q141.839 1341.53 138.205 1341.53 M138.205 1337.83 Q144.015 1337.83 147.07 1342.44 Q150.149 1347.02 150.149 1355.77 Q150.149 1364.5 147.07 1369.1 Q144.015 1373.69 138.205 1373.69 Q132.394 1373.69 129.316 1369.1 Q126.26 1364.5 126.26 1355.77 Q126.26 1347.02 129.316 1342.44 Q132.394 1337.83 138.205 1337.83 Z\" fill=\"#000000\" fill-rule=\"evenodd\" fill-opacity=\"1\" /><path clip-path=\"url(#clip430)\" d=\"M 0 0 M155.218 1367.14 L160.103 1367.14 L160.103 1373.02 L155.218 1373.02 L155.218 1367.14 Z\" fill=\"#000000\" fill-rule=\"evenodd\" fill-opacity=\"1\" /><path clip-path=\"url(#clip430)\" d=\"M 0 0 M178.019 1342.53 L166.214 1360.98 L178.019 1360.98 L178.019 1342.53 M176.792 1338.46 L182.672 1338.46 L182.672 1360.98 L187.602 1360.98 L187.602 1364.87 L182.672 1364.87 L182.672 1373.02 L178.019 1373.02 L178.019 1364.87 L162.417 1364.87 L162.417 1360.35 L176.792 1338.46 Z\" fill=\"#000000\" fill-rule=\"evenodd\" fill-opacity=\"1\" /><path clip-path=\"url(#clip430)\" d=\"M 0 0 M139.686 1116.7 Q136.075 1116.7 134.246 1120.26 Q132.441 1123.8 132.441 1130.93 Q132.441 1138.04 134.246 1141.6 Q136.075 1145.15 139.686 1145.15 Q143.32 1145.15 145.126 1141.6 Q146.954 1138.04 146.954 1130.93 Q146.954 1123.8 145.126 1120.26 Q143.32 1116.7 139.686 1116.7 M139.686 1112.99 Q145.496 1112.99 148.552 1117.6 Q151.63 1122.18 151.63 1130.93 Q151.63 1139.66 148.552 1144.27 Q145.496 1148.85 139.686 1148.85 Q133.876 1148.85 130.797 1144.27 Q127.742 1139.66 127.742 1130.93 Q127.742 1122.18 130.797 1117.6 Q133.876 1112.99 139.686 1112.99 Z\" fill=\"#000000\" fill-rule=\"evenodd\" fill-opacity=\"1\" /><path clip-path=\"url(#clip430)\" d=\"M 0 0 M156.7 1142.3 L161.584 1142.3 L161.584 1148.18 L156.7 1148.18 L156.7 1142.3 Z\" fill=\"#000000\" fill-rule=\"evenodd\" fill-opacity=\"1\" /><path clip-path=\"url(#clip430)\" d=\"M 0 0 M166.7 1113.62 L185.056 1113.62 L185.056 1117.55 L170.982 1117.55 L170.982 1126.03 Q172.001 1125.68 173.019 1125.52 Q174.038 1125.33 175.056 1125.33 Q180.843 1125.33 184.223 1128.5 Q187.602 1131.67 187.602 1137.09 Q187.602 1142.67 184.13 1145.77 Q180.658 1148.85 174.339 1148.85 Q172.163 1148.85 169.894 1148.48 Q167.649 1148.11 165.241 1147.37 L165.241 1142.67 Q167.325 1143.8 169.547 1144.36 Q171.769 1144.91 174.246 1144.91 Q178.251 1144.91 180.589 1142.81 Q182.927 1140.7 182.927 1137.09 Q182.927 1133.48 180.589 1131.37 Q178.251 1129.27 174.246 1129.27 Q172.371 1129.27 170.496 1129.68 Q168.644 1130.1 166.7 1130.98 L166.7 1113.62 Z\" fill=\"#000000\" fill-rule=\"evenodd\" fill-opacity=\"1\" /><path clip-path=\"url(#clip430)\" d=\"M 0 0 M138.529 891.859 Q134.918 891.859 133.089 895.424 Q131.283 898.965 131.283 906.095 Q131.283 913.201 133.089 916.766 Q134.918 920.308 138.529 920.308 Q142.163 920.308 143.968 916.766 Q145.797 913.201 145.797 906.095 Q145.797 898.965 143.968 895.424 Q142.163 891.859 138.529 891.859 M138.529 888.155 Q144.339 888.155 147.394 892.762 Q150.473 897.345 150.473 906.095 Q150.473 914.822 147.394 919.428 Q144.339 924.011 138.529 924.011 Q132.718 924.011 129.64 919.428 Q126.584 914.822 126.584 906.095 Q126.584 897.345 129.64 892.762 Q132.718 888.155 138.529 888.155 Z\" fill=\"#000000\" fill-rule=\"evenodd\" fill-opacity=\"1\" /><path clip-path=\"url(#clip430)\" d=\"M 0 0 M155.542 917.461 L160.427 917.461 L160.427 923.34 L155.542 923.34 L155.542 917.461 Z\" fill=\"#000000\" fill-rule=\"evenodd\" fill-opacity=\"1\" /><path clip-path=\"url(#clip430)\" d=\"M 0 0 M176.075 904.197 Q172.927 904.197 171.075 906.349 Q169.246 908.502 169.246 912.252 Q169.246 915.979 171.075 918.155 Q172.927 920.308 176.075 920.308 Q179.223 920.308 181.052 918.155 Q182.903 915.979 182.903 912.252 Q182.903 908.502 181.052 906.349 Q179.223 904.197 176.075 904.197 M185.357 889.544 L185.357 893.803 Q183.598 892.97 181.792 892.53 Q180.01 892.09 178.251 892.09 Q173.621 892.09 171.167 895.215 Q168.737 898.34 168.39 904.66 Q169.755 902.646 171.815 901.581 Q173.876 900.493 176.352 900.493 Q181.561 900.493 184.57 903.664 Q187.602 906.812 187.602 912.252 Q187.602 917.576 184.454 920.794 Q181.306 924.011 176.075 924.011 Q170.079 924.011 166.908 919.428 Q163.737 914.822 163.737 906.095 Q163.737 897.9 167.626 893.039 Q171.515 888.155 178.065 888.155 Q179.825 888.155 181.607 888.502 Q183.413 888.85 185.357 889.544 Z\" fill=\"#000000\" fill-rule=\"evenodd\" fill-opacity=\"1\" /><path clip-path=\"url(#clip430)\" d=\"M 0 0 M139.593 667.021 Q135.982 667.021 134.154 670.586 Q132.348 674.127 132.348 681.257 Q132.348 688.363 134.154 691.928 Q135.982 695.47 139.593 695.47 Q143.228 695.47 145.033 691.928 Q146.862 688.363 146.862 681.257 Q146.862 674.127 145.033 670.586 Q143.228 667.021 139.593 667.021 M139.593 663.317 Q145.404 663.317 148.459 667.924 Q151.538 672.507 151.538 681.257 Q151.538 689.984 148.459 694.59 Q145.404 699.173 139.593 699.173 Q133.783 699.173 130.705 694.59 Q127.649 689.984 127.649 681.257 Q127.649 672.507 130.705 667.924 Q133.783 663.317 139.593 663.317 Z\" fill=\"#000000\" fill-rule=\"evenodd\" fill-opacity=\"1\" /><path clip-path=\"url(#clip430)\" d=\"M 0 0 M156.607 692.623 L161.491 692.623 L161.491 698.502 L156.607 698.502 L156.607 692.623 Z\" fill=\"#000000\" fill-rule=\"evenodd\" fill-opacity=\"1\" /><path clip-path=\"url(#clip430)\" d=\"M 0 0 M165.38 663.942 L187.602 663.942 L187.602 665.933 L175.056 698.502 L170.172 698.502 L181.977 667.877 L165.38 667.877 L165.38 663.942 Z\" fill=\"#000000\" fill-rule=\"evenodd\" fill-opacity=\"1\" /><path clip-path=\"url(#clip430)\" d=\"M 0 0 M138.783 442.183 Q135.172 442.183 133.343 445.748 Q131.538 449.289 131.538 456.419 Q131.538 463.525 133.343 467.09 Q135.172 470.632 138.783 470.632 Q142.417 470.632 144.223 467.09 Q146.052 463.525 146.052 456.419 Q146.052 449.289 144.223 445.748 Q142.417 442.183 138.783 442.183 M138.783 438.479 Q144.593 438.479 147.649 443.086 Q150.728 447.669 150.728 456.419 Q150.728 465.146 147.649 469.752 Q144.593 474.336 138.783 474.336 Q132.973 474.336 129.894 469.752 Q126.839 465.146 126.839 456.419 Q126.839 447.669 129.894 443.086 Q132.973 438.479 138.783 438.479 Z\" fill=\"#000000\" fill-rule=\"evenodd\" fill-opacity=\"1\" /><path clip-path=\"url(#clip430)\" d=\"M 0 0 M155.797 467.785 L160.681 467.785 L160.681 473.664 L155.797 473.664 L155.797 467.785 Z\" fill=\"#000000\" fill-rule=\"evenodd\" fill-opacity=\"1\" /><path clip-path=\"url(#clip430)\" d=\"M 0 0 M175.751 457.252 Q172.417 457.252 170.496 459.035 Q168.598 460.817 168.598 463.942 Q168.598 467.067 170.496 468.85 Q172.417 470.632 175.751 470.632 Q179.084 470.632 181.005 468.85 Q182.927 467.044 182.927 463.942 Q182.927 460.817 181.005 459.035 Q179.107 457.252 175.751 457.252 M171.075 455.262 Q168.065 454.521 166.376 452.461 Q164.709 450.401 164.709 447.438 Q164.709 443.294 167.649 440.887 Q170.612 438.479 175.751 438.479 Q180.913 438.479 183.852 440.887 Q186.792 443.294 186.792 447.438 Q186.792 450.401 185.102 452.461 Q183.436 454.521 180.45 455.262 Q183.829 456.049 185.704 458.34 Q187.602 460.632 187.602 463.942 Q187.602 468.965 184.524 471.65 Q181.468 474.336 175.751 474.336 Q170.033 474.336 166.954 471.65 Q163.899 468.965 163.899 463.942 Q163.899 460.632 165.797 458.34 Q167.695 456.049 171.075 455.262 M169.362 447.877 Q169.362 450.563 171.028 452.067 Q172.718 453.572 175.751 453.572 Q178.76 453.572 180.45 452.067 Q182.163 450.563 182.163 447.877 Q182.163 445.192 180.45 443.688 Q178.76 442.183 175.751 442.183 Q172.718 442.183 171.028 443.688 Q169.362 445.192 169.362 447.877 Z\" fill=\"#000000\" fill-rule=\"evenodd\" fill-opacity=\"1\" /><path clip-path=\"url(#clip430)\" d=\"M 0 0 M138.876 217.345 Q135.265 217.345 133.436 220.91 Q131.63 224.452 131.63 231.581 Q131.63 238.688 133.436 242.252 Q135.265 245.794 138.876 245.794 Q142.51 245.794 144.316 242.252 Q146.144 238.688 146.144 231.581 Q146.144 224.452 144.316 220.91 Q142.51 217.345 138.876 217.345 M138.876 213.641 Q144.686 213.641 147.742 218.248 Q150.82 222.831 150.82 231.581 Q150.82 240.308 147.742 244.914 Q144.686 249.498 138.876 249.498 Q133.066 249.498 129.987 244.914 Q126.931 240.308 126.931 231.581 Q126.931 222.831 129.987 218.248 Q133.066 213.641 138.876 213.641 Z\" fill=\"#000000\" fill-rule=\"evenodd\" fill-opacity=\"1\" /><path clip-path=\"url(#clip430)\" d=\"M 0 0 M155.89 242.947 L160.774 242.947 L160.774 248.826 L155.89 248.826 L155.89 242.947 Z\" fill=\"#000000\" fill-rule=\"evenodd\" fill-opacity=\"1\" /><path clip-path=\"url(#clip430)\" d=\"M 0 0 M165.982 248.109 L165.982 243.85 Q167.741 244.683 169.547 245.123 Q171.353 245.563 173.089 245.563 Q177.718 245.563 180.149 242.461 Q182.602 239.336 182.95 232.993 Q181.607 234.984 179.547 236.049 Q177.487 237.113 174.987 237.113 Q169.802 237.113 166.769 233.988 Q163.76 230.84 163.76 225.401 Q163.76 220.077 166.908 216.859 Q170.056 213.641 175.288 213.641 Q181.283 213.641 184.431 218.248 Q187.602 222.831 187.602 231.581 Q187.602 239.752 183.714 244.637 Q179.848 249.498 173.297 249.498 Q171.538 249.498 169.732 249.15 Q167.927 248.803 165.982 248.109 M175.288 233.456 Q178.436 233.456 180.264 231.303 Q182.116 229.151 182.116 225.401 Q182.116 221.674 180.264 219.521 Q178.436 217.345 175.288 217.345 Q172.14 217.345 170.288 219.521 Q168.459 221.674 168.459 225.401 Q168.459 229.151 170.288 231.303 Q172.14 233.456 175.288 233.456 Z\" fill=\"#000000\" fill-rule=\"evenodd\" fill-opacity=\"1\" /><path clip-path=\"url(#clip430)\" d=\"M 0 0 M1177.97 12.096 L1186.15 12.096 L1186.15 37.6572 L1213.29 12.096 L1223.83 12.096 L1193.81 40.2903 L1225.97 72.576 L1215.2 72.576 L1186.15 43.45 L1186.15 72.576 L1177.97 72.576 L1177.97 12.096 Z\" fill=\"#000000\" fill-rule=\"evenodd\" fill-opacity=\"1\" /><path clip-path=\"url(#clip430)\" d=\"M 0 0 M1261.13 34.9026 L1313.07 34.9026 L1313.07 41.7081 L1261.13 41.7081 L1261.13 34.9026 M1261.13 51.4303 L1313.07 51.4303 L1313.07 58.3168 L1261.13 58.3168 L1261.13 51.4303 Z\" fill=\"#000000\" fill-rule=\"evenodd\" fill-opacity=\"1\" /><path clip-path=\"url(#clip430)\" d=\"M 0 0 M1348.55 71.3202 L1348.55 63.8666 Q1351.63 65.3249 1354.79 66.0946 Q1357.95 66.8642 1360.99 66.8642 Q1369.09 66.8642 1373.34 61.436 Q1377.64 55.9673 1378.25 44.8678 Q1375.9 48.3516 1372.29 50.215 Q1368.69 52.0784 1364.31 52.0784 Q1355.24 52.0784 1349.93 46.6097 Q1344.66 41.1005 1344.66 31.5808 Q1344.66 22.2638 1350.17 16.633 Q1355.68 11.0023 1364.84 11.0023 Q1375.33 11.0023 1380.84 19.0636 Q1386.39 27.0843 1386.39 42.3968 Q1386.39 56.6965 1379.58 65.2439 Q1372.82 73.7508 1361.35 73.7508 Q1358.28 73.7508 1355.12 73.1431 Q1351.96 72.5355 1348.55 71.3202 M1364.84 45.678 Q1370.35 45.678 1373.55 41.9107 Q1376.79 38.1433 1376.79 31.5808 Q1376.79 25.0589 1373.55 21.2916 Q1370.35 17.4837 1364.84 17.4837 Q1359.33 17.4837 1356.09 21.2916 Q1352.89 25.0589 1352.89 31.5808 Q1352.89 38.1433 1356.09 41.9107 Q1359.33 45.678 1364.84 45.678 Z\" fill=\"#000000\" fill-rule=\"evenodd\" fill-opacity=\"1\" /><path clip-path=\"url(#clip430)\" d=\"M 0 0 M870.955 1508.52 L879.612 1508.52 L900.682 1548.28 L900.682 1508.52 L906.921 1508.52 L906.921 1556.04 L898.263 1556.04 L877.193 1516.29 L877.193 1556.04 L870.955 1556.04 L870.955 1508.52 Z\" fill=\"#000000\" fill-rule=\"evenodd\" fill-opacity=\"1\" /><path clip-path=\"url(#clip430)\" d=\"M 0 0 M912.459 1541.98 L912.459 1520.4 L918.315 1520.4 L918.315 1541.75 Q918.315 1546.81 920.289 1549.36 Q922.262 1551.87 926.209 1551.87 Q930.951 1551.87 933.689 1548.85 Q936.458 1545.83 936.458 1540.61 L936.458 1520.4 L942.314 1520.4 L942.314 1556.04 L936.458 1556.04 L936.458 1550.57 Q934.325 1553.82 931.492 1555.41 Q928.691 1556.97 924.968 1556.97 Q918.825 1556.97 915.642 1553.15 Q912.459 1549.33 912.459 1541.98 M927.196 1519.54 L927.196 1519.54 Z\" fill=\"#000000\" fill-rule=\"evenodd\" fill-opacity=\"1\" /><path clip-path=\"url(#clip430)\" d=\"M 0 0 M976.211 1527.24 Q978.408 1523.29 981.463 1521.41 Q984.519 1519.54 988.656 1519.54 Q994.226 1519.54 997.25 1523.45 Q1000.27 1527.33 1000.27 1534.53 L1000.27 1556.04 L994.386 1556.04 L994.386 1534.72 Q994.386 1529.59 992.571 1527.11 Q990.757 1524.63 987.033 1524.63 Q982.482 1524.63 979.84 1527.65 Q977.198 1530.68 977.198 1535.9 L977.198 1556.04 L971.31 1556.04 L971.31 1534.72 Q971.31 1529.56 969.496 1527.11 Q967.681 1524.63 963.894 1524.63 Q959.406 1524.63 956.764 1527.68 Q954.122 1530.71 954.122 1535.9 L954.122 1556.04 L948.234 1556.04 L948.234 1520.4 L954.122 1520.4 L954.122 1525.93 Q956.128 1522.66 958.929 1521.1 Q961.729 1519.54 965.581 1519.54 Q969.464 1519.54 972.169 1521.51 Q974.907 1523.48 976.211 1527.24 Z\" fill=\"#000000\" fill-rule=\"evenodd\" fill-opacity=\"1\" /><path clip-path=\"url(#clip430)\" d=\"M 0 0 M1032.01 1538.25 Q1032.01 1531.79 1029.33 1528.13 Q1026.69 1524.44 1022.04 1524.44 Q1017.4 1524.44 1014.72 1528.13 Q1012.08 1531.79 1012.08 1538.25 Q1012.08 1544.71 1014.72 1548.4 Q1017.4 1552.07 1022.04 1552.07 Q1026.69 1552.07 1029.33 1548.4 Q1032.01 1544.71 1032.01 1538.25 M1012.08 1525.81 Q1013.93 1522.62 1016.73 1521.1 Q1019.56 1519.54 1023.48 1519.54 Q1029.97 1519.54 1034.01 1524.69 Q1038.09 1529.85 1038.09 1538.25 Q1038.09 1546.65 1034.01 1551.81 Q1029.97 1556.97 1023.48 1556.97 Q1019.56 1556.97 1016.73 1555.44 Q1013.93 1553.88 1012.08 1550.7 L1012.08 1556.04 L1006.19 1556.04 L1006.19 1506.52 L1012.08 1506.52 L1012.08 1525.81 Z\" fill=\"#000000\" fill-rule=\"evenodd\" fill-opacity=\"1\" /><path clip-path=\"url(#clip430)\" d=\"M 0 0 M1074.72 1536.76 L1074.72 1539.62 L1047.79 1539.62 Q1048.18 1545.67 1051.42 1548.85 Q1054.7 1552 1060.53 1552 Q1063.9 1552 1067.05 1551.17 Q1070.23 1550.35 1073.35 1548.69 L1073.35 1554.23 Q1070.2 1555.57 1066.89 1556.27 Q1063.58 1556.97 1060.18 1556.97 Q1051.65 1556.97 1046.65 1552 Q1041.68 1547.04 1041.68 1538.57 Q1041.68 1529.82 1046.39 1524.69 Q1051.14 1519.54 1059.16 1519.54 Q1066.35 1519.54 1070.52 1524.18 Q1074.72 1528.8 1074.72 1536.76 M1068.86 1535.04 Q1068.8 1530.23 1066.16 1527.37 Q1063.55 1524.5 1059.22 1524.5 Q1054.32 1524.5 1051.36 1527.27 Q1048.43 1530.04 1047.98 1535.07 L1068.86 1535.04 Z\" fill=\"#000000\" fill-rule=\"evenodd\" fill-opacity=\"1\" /><path clip-path=\"url(#clip430)\" d=\"M 0 0 M1101.52 1525.87 Q1100.53 1525.3 1099.36 1525.04 Q1098.21 1524.76 1096.81 1524.76 Q1091.84 1524.76 1089.17 1528 Q1086.53 1531.22 1086.53 1537.27 L1086.53 1556.04 L1080.64 1556.04 L1080.64 1520.4 L1086.53 1520.4 L1086.53 1525.93 Q1088.38 1522.69 1091.34 1521.13 Q1094.3 1519.54 1098.53 1519.54 Q1099.13 1519.54 1099.87 1519.63 Q1100.6 1519.7 1101.49 1519.85 L1101.52 1525.87 Z\" fill=\"#000000\" fill-rule=\"evenodd\" fill-opacity=\"1\" /><path clip-path=\"url(#clip430)\" d=\"M 0 0 M1142.2 1524.5 Q1137.49 1524.5 1134.75 1528.19 Q1132.01 1531.85 1132.01 1538.25 Q1132.01 1544.65 1134.72 1548.34 Q1137.45 1552 1142.2 1552 Q1146.88 1552 1149.61 1548.31 Q1152.35 1544.62 1152.35 1538.25 Q1152.35 1531.92 1149.61 1528.23 Q1146.88 1524.5 1142.2 1524.5 M1142.2 1519.54 Q1149.84 1519.54 1154.2 1524.5 Q1158.56 1529.47 1158.56 1538.25 Q1158.56 1547 1154.2 1552 Q1149.84 1556.97 1142.2 1556.97 Q1134.53 1556.97 1130.17 1552 Q1125.84 1547 1125.84 1538.25 Q1125.84 1529.47 1130.17 1524.5 Q1134.53 1519.54 1142.2 1519.54 Z\" fill=\"#000000\" fill-rule=\"evenodd\" fill-opacity=\"1\" /><path clip-path=\"url(#clip430)\" d=\"M 0 0 M1182.75 1506.52 L1182.75 1511.39 L1177.15 1511.39 Q1173.99 1511.39 1172.75 1512.66 Q1171.54 1513.93 1171.54 1517.24 L1171.54 1520.4 L1181.19 1520.4 L1181.19 1524.95 L1171.54 1524.95 L1171.54 1556.04 L1165.65 1556.04 L1165.65 1524.95 L1160.05 1524.95 L1160.05 1520.4 L1165.65 1520.4 L1165.65 1517.91 Q1165.65 1511.96 1168.42 1509.26 Q1171.19 1506.52 1177.21 1506.52 L1182.75 1506.52 Z\" fill=\"#000000\" fill-rule=\"evenodd\" fill-opacity=\"1\" /><path clip-path=\"url(#clip430)\" d=\"M 0 0 M1203.28 1508.52 L1243.48 1508.52 L1243.48 1513.93 L1226.61 1513.93 L1226.61 1556.04 L1220.15 1556.04 L1220.15 1513.93 L1203.28 1513.93 L1203.28 1508.52 Z\" fill=\"#000000\" fill-rule=\"evenodd\" fill-opacity=\"1\" /><path clip-path=\"url(#clip430)\" d=\"M 0 0 M1260.69 1525.87 Q1259.71 1525.3 1258.53 1525.04 Q1257.38 1524.76 1255.98 1524.76 Q1251.02 1524.76 1248.35 1528 Q1245.7 1531.22 1245.7 1537.27 L1245.7 1556.04 L1239.82 1556.04 L1239.82 1520.4 L1245.7 1520.4 L1245.7 1525.93 Q1247.55 1522.69 1250.51 1521.13 Q1253.47 1519.54 1257.7 1519.54 Q1258.31 1519.54 1259.04 1519.63 Q1259.77 1519.7 1260.66 1519.85 L1260.69 1525.87 Z\" fill=\"#000000\" fill-rule=\"evenodd\" fill-opacity=\"1\" /><path clip-path=\"url(#clip430)\" d=\"M 0 0 M1283.04 1538.12 Q1275.94 1538.12 1273.2 1539.75 Q1270.47 1541.37 1270.47 1545.29 Q1270.47 1548.4 1272.5 1550.25 Q1274.57 1552.07 1278.11 1552.07 Q1282.97 1552.07 1285.9 1548.63 Q1288.86 1545.16 1288.86 1539.43 L1288.86 1538.12 L1283.04 1538.12 M1294.72 1535.71 L1294.72 1556.04 L1288.86 1556.04 L1288.86 1550.63 Q1286.86 1553.88 1283.87 1555.44 Q1280.87 1556.97 1276.55 1556.97 Q1271.07 1556.97 1267.82 1553.91 Q1264.61 1550.82 1264.61 1545.67 Q1264.61 1539.65 1268.62 1536.6 Q1272.66 1533.54 1280.65 1533.54 L1288.86 1533.54 L1288.86 1532.97 Q1288.86 1528.93 1286.19 1526.73 Q1283.55 1524.5 1278.74 1524.5 Q1275.69 1524.5 1272.79 1525.23 Q1269.89 1525.97 1267.22 1527.43 L1267.22 1522.02 Q1270.43 1520.78 1273.46 1520.17 Q1276.48 1519.54 1279.35 1519.54 Q1287.08 1519.54 1290.9 1523.55 Q1294.72 1527.56 1294.72 1535.71 Z\" fill=\"#000000\" fill-rule=\"evenodd\" fill-opacity=\"1\" /><path clip-path=\"url(#clip430)\" d=\"M 0 0 M1300.86 1520.4 L1306.72 1520.4 L1306.72 1556.04 L1300.86 1556.04 L1300.86 1520.4 M1300.86 1506.52 L1306.72 1506.52 L1306.72 1513.93 L1300.86 1513.93 L1300.86 1506.52 Z\" fill=\"#000000\" fill-rule=\"evenodd\" fill-opacity=\"1\" /><path clip-path=\"url(#clip430)\" d=\"M 0 0 M1342.49 1534.53 L1342.49 1556.04 L1336.64 1556.04 L1336.64 1534.72 Q1336.64 1529.66 1334.66 1527.14 Q1332.69 1524.63 1328.74 1524.63 Q1324 1524.63 1321.26 1527.65 Q1318.53 1530.68 1318.53 1535.9 L1318.53 1556.04 L1312.64 1556.04 L1312.64 1520.4 L1318.53 1520.4 L1318.53 1525.93 Q1320.63 1522.72 1323.46 1521.13 Q1326.33 1519.54 1330.05 1519.54 Q1336.19 1519.54 1339.34 1523.36 Q1342.49 1527.14 1342.49 1534.53 Z\" fill=\"#000000\" fill-rule=\"evenodd\" fill-opacity=\"1\" /><path clip-path=\"url(#clip430)\" d=\"M 0 0 M1348.64 1520.4 L1354.49 1520.4 L1354.49 1556.04 L1348.64 1556.04 L1348.64 1520.4 M1348.64 1506.52 L1354.49 1506.52 L1354.49 1513.93 L1348.64 1513.93 L1348.64 1506.52 Z\" fill=\"#000000\" fill-rule=\"evenodd\" fill-opacity=\"1\" /><path clip-path=\"url(#clip430)\" d=\"M 0 0 M1390.27 1534.53 L1390.27 1556.04 L1384.41 1556.04 L1384.41 1534.72 Q1384.41 1529.66 1382.44 1527.14 Q1380.47 1524.63 1376.52 1524.63 Q1371.78 1524.63 1369.04 1527.65 Q1366.3 1530.68 1366.3 1535.9 L1366.3 1556.04 L1360.41 1556.04 L1360.41 1520.4 L1366.3 1520.4 L1366.3 1525.93 Q1368.4 1522.72 1371.24 1521.13 Q1374.1 1519.54 1377.82 1519.54 Q1383.97 1519.54 1387.12 1523.36 Q1390.27 1527.14 1390.27 1534.53 Z\" fill=\"#000000\" fill-rule=\"evenodd\" fill-opacity=\"1\" /><path clip-path=\"url(#clip430)\" d=\"M 0 0 M1419.87 1537.81 Q1419.87 1531.44 1417.23 1527.94 Q1414.62 1524.44 1409.88 1524.44 Q1405.16 1524.44 1402.52 1527.94 Q1399.91 1531.44 1399.91 1537.81 Q1399.91 1544.14 1402.52 1547.64 Q1405.16 1551.14 1409.88 1551.14 Q1414.62 1551.14 1417.23 1547.64 Q1419.87 1544.14 1419.87 1537.81 M1425.73 1551.62 Q1425.73 1560.72 1421.68 1565.15 Q1417.64 1569.6 1409.3 1569.6 Q1406.21 1569.6 1403.48 1569.13 Q1400.74 1568.68 1398.16 1567.72 L1398.16 1562.03 Q1400.74 1563.43 1403.25 1564.1 Q1405.77 1564.76 1408.38 1564.76 Q1414.14 1564.76 1417 1561.74 Q1419.87 1558.75 1419.87 1552.67 L1419.87 1549.77 Q1418.06 1552.92 1415.22 1554.48 Q1412.39 1556.04 1408.44 1556.04 Q1401.89 1556.04 1397.88 1551.05 Q1393.87 1546.05 1393.87 1537.81 Q1393.87 1529.53 1397.88 1524.53 Q1401.89 1519.54 1408.44 1519.54 Q1412.39 1519.54 1415.22 1521.1 Q1418.06 1522.66 1419.87 1525.81 L1419.87 1520.4 L1425.73 1520.4 L1425.73 1551.62 Z\" fill=\"#000000\" fill-rule=\"evenodd\" fill-opacity=\"1\" /><path clip-path=\"url(#clip430)\" d=\"M 0 0 M1481.33 1510.08 L1481.33 1516.35 Q1477.67 1514.6 1474.42 1513.74 Q1471.18 1512.88 1468.15 1512.88 Q1462.9 1512.88 1460.04 1514.92 Q1457.2 1516.96 1457.2 1520.71 Q1457.2 1523.87 1459.08 1525.49 Q1460.99 1527.08 1466.28 1528.07 L1470.16 1528.86 Q1477.35 1530.23 1480.76 1533.7 Q1484.19 1537.14 1484.19 1542.93 Q1484.19 1549.84 1479.55 1553.4 Q1474.93 1556.97 1465.99 1556.97 Q1462.62 1556.97 1458.8 1556.2 Q1455.01 1555.44 1450.93 1553.94 L1450.93 1547.32 Q1454.85 1549.52 1458.6 1550.63 Q1462.36 1551.75 1465.99 1551.75 Q1471.5 1551.75 1474.49 1549.58 Q1477.48 1547.42 1477.48 1543.41 Q1477.48 1539.91 1475.31 1537.93 Q1473.18 1535.96 1468.28 1534.97 L1464.37 1534.21 Q1457.17 1532.78 1453.96 1529.72 Q1450.74 1526.67 1450.74 1521.22 Q1450.74 1514.92 1455.17 1511.29 Q1459.62 1507.66 1467.42 1507.66 Q1470.76 1507.66 1474.23 1508.27 Q1477.7 1508.87 1481.33 1510.08 Z\" fill=\"#000000\" fill-rule=\"evenodd\" fill-opacity=\"1\" /><path clip-path=\"url(#clip430)\" d=\"M 0 0 M1506.54 1538.12 Q1499.44 1538.12 1496.7 1539.75 Q1493.97 1541.37 1493.97 1545.29 Q1493.97 1548.4 1496 1550.25 Q1498.07 1552.07 1501.61 1552.07 Q1506.47 1552.07 1509.4 1548.63 Q1512.36 1545.16 1512.36 1539.43 L1512.36 1538.12 L1506.54 1538.12 M1518.22 1535.71 L1518.22 1556.04 L1512.36 1556.04 L1512.36 1550.63 Q1510.36 1553.88 1507.37 1555.44 Q1504.37 1556.97 1500.05 1556.97 Q1494.57 1556.97 1491.32 1553.91 Q1488.11 1550.82 1488.11 1545.67 Q1488.11 1539.65 1492.12 1536.6 Q1496.16 1533.54 1504.15 1533.54 L1512.36 1533.54 L1512.36 1532.97 Q1512.36 1528.93 1509.69 1526.73 Q1507.05 1524.5 1502.24 1524.5 Q1499.19 1524.5 1496.29 1525.23 Q1493.39 1525.97 1490.72 1527.43 L1490.72 1522.02 Q1493.93 1520.78 1496.96 1520.17 Q1499.98 1519.54 1502.85 1519.54 Q1510.58 1519.54 1514.4 1523.55 Q1518.22 1527.56 1518.22 1535.71 Z\" fill=\"#000000\" fill-rule=\"evenodd\" fill-opacity=\"1\" /><path clip-path=\"url(#clip430)\" d=\"M 0 0 M1552.12 1527.24 Q1554.31 1523.29 1557.37 1521.41 Q1560.42 1519.54 1564.56 1519.54 Q1570.13 1519.54 1573.16 1523.45 Q1576.18 1527.33 1576.18 1534.53 L1576.18 1556.04 L1570.29 1556.04 L1570.29 1534.72 Q1570.29 1529.59 1568.48 1527.11 Q1566.66 1524.63 1562.94 1524.63 Q1558.39 1524.63 1555.75 1527.65 Q1553.1 1530.68 1553.1 1535.9 L1553.1 1556.04 L1547.22 1556.04 L1547.22 1534.72 Q1547.22 1529.56 1545.4 1527.11 Q1543.59 1524.63 1539.8 1524.63 Q1535.31 1524.63 1532.67 1527.68 Q1530.03 1530.71 1530.03 1535.9 L1530.03 1556.04 L1524.14 1556.04 L1524.14 1520.4 L1530.03 1520.4 L1530.03 1525.93 Q1532.03 1522.66 1534.83 1521.1 Q1537.63 1519.54 1541.49 1519.54 Q1545.37 1519.54 1548.07 1521.51 Q1550.81 1523.48 1552.12 1527.24 Z\" fill=\"#000000\" fill-rule=\"evenodd\" fill-opacity=\"1\" /><path clip-path=\"url(#clip430)\" d=\"M 0 0 M1587.99 1550.7 L1587.99 1569.6 L1582.1 1569.6 L1582.1 1520.4 L1587.99 1520.4 L1587.99 1525.81 Q1589.83 1522.62 1592.63 1521.1 Q1595.47 1519.54 1599.38 1519.54 Q1605.88 1519.54 1609.92 1524.69 Q1613.99 1529.85 1613.99 1538.25 Q1613.99 1546.65 1609.92 1551.81 Q1605.88 1556.97 1599.38 1556.97 Q1595.47 1556.97 1592.63 1555.44 Q1589.83 1553.88 1587.99 1550.7 M1607.91 1538.25 Q1607.91 1531.79 1605.24 1528.13 Q1602.6 1524.44 1597.95 1524.44 Q1593.3 1524.44 1590.63 1528.13 Q1587.99 1531.79 1587.99 1538.25 Q1587.99 1544.71 1590.63 1548.4 Q1593.3 1552.07 1597.95 1552.07 Q1602.6 1552.07 1605.24 1548.4 Q1607.91 1544.71 1607.91 1538.25 Z\" fill=\"#000000\" fill-rule=\"evenodd\" fill-opacity=\"1\" /><path clip-path=\"url(#clip430)\" d=\"M 0 0 M1620.13 1506.52 L1625.99 1506.52 L1625.99 1556.04 L1620.13 1556.04 L1620.13 1506.52 Z\" fill=\"#000000\" fill-rule=\"evenodd\" fill-opacity=\"1\" /><path clip-path=\"url(#clip430)\" d=\"M 0 0 M1662.63 1536.76 L1662.63 1539.62 L1635.7 1539.62 Q1636.08 1545.67 1639.33 1548.85 Q1642.61 1552 1648.43 1552 Q1651.8 1552 1654.95 1551.17 Q1658.14 1550.35 1661.26 1548.69 L1661.26 1554.23 Q1658.11 1555.57 1654.8 1556.27 Q1651.49 1556.97 1648.08 1556.97 Q1639.55 1556.97 1634.55 1552 Q1629.59 1547.04 1629.59 1538.57 Q1629.59 1529.82 1634.3 1524.69 Q1639.04 1519.54 1647.06 1519.54 Q1654.25 1519.54 1658.42 1524.18 Q1662.63 1528.8 1662.63 1536.76 M1656.77 1535.04 Q1656.71 1530.23 1654.06 1527.37 Q1651.45 1524.5 1647.13 1524.5 Q1642.22 1524.5 1639.26 1527.27 Q1636.34 1530.04 1635.89 1535.07 L1656.77 1535.04 Z\" fill=\"#000000\" fill-rule=\"evenodd\" fill-opacity=\"1\" /><path clip-path=\"url(#clip430)\" d=\"M 0 0 M1691.49 1521.45 L1691.49 1526.98 Q1689.01 1525.71 1686.34 1525.07 Q1683.66 1524.44 1680.8 1524.44 Q1676.44 1524.44 1674.24 1525.77 Q1672.08 1527.11 1672.08 1529.79 Q1672.08 1531.82 1673.64 1533 Q1675.2 1534.15 1679.91 1535.2 L1681.91 1535.64 Q1688.15 1536.98 1690.76 1539.43 Q1693.4 1541.85 1693.4 1546.21 Q1693.4 1551.17 1689.46 1554.07 Q1685.54 1556.97 1678.67 1556.97 Q1675.8 1556.97 1672.68 1556.39 Q1669.6 1555.85 1666.16 1554.74 L1666.16 1548.69 Q1669.41 1550.38 1672.56 1551.24 Q1675.71 1552.07 1678.79 1552.07 Q1682.93 1552.07 1685.16 1550.66 Q1687.39 1549.23 1687.39 1546.65 Q1687.39 1544.27 1685.76 1542.99 Q1684.17 1541.72 1678.73 1540.54 L1676.69 1540.07 Q1671.25 1538.92 1668.83 1536.56 Q1666.41 1534.18 1666.41 1530.04 Q1666.41 1525.01 1669.98 1522.27 Q1673.54 1519.54 1680.1 1519.54 Q1683.35 1519.54 1686.21 1520.01 Q1689.08 1520.49 1691.49 1521.45 Z\" fill=\"#000000\" fill-rule=\"evenodd\" fill-opacity=\"1\" /><path clip-path=\"url(#clip430)\" d=\"M 0 0 M44.1444 1064.94 L50.9239 1064.94 Q47.9002 1068.19 46.4043 1071.88 Q44.9083 1075.54 44.9083 1079.68 Q44.9083 1087.82 49.9054 1092.15 Q54.8707 1096.48 64.2919 1096.48 Q73.6813 1096.48 78.6784 1092.15 Q83.6436 1087.82 83.6436 1079.68 Q83.6436 1075.54 82.1477 1071.88 Q80.6518 1068.19 77.6281 1064.94 L84.3439 1064.94 Q86.6355 1068.31 87.7814 1072.1 Q88.9272 1075.86 88.9272 1080.06 Q88.9272 1090.85 82.3387 1097.05 Q75.7183 1103.26 64.2919 1103.26 Q52.8336 1103.26 46.2451 1097.05 Q39.6248 1090.85 39.6248 1080.06 Q39.6248 1075.79 40.7706 1072.04 Q41.8846 1068.25 44.1444 1064.94 Z\" fill=\"#000000\" fill-rule=\"evenodd\" fill-opacity=\"1\" /><path clip-path=\"url(#clip430)\" d=\"M 0 0 M38.479 1058.8 L38.479 1052.94 L88.0042 1052.94 L88.0042 1058.8 L38.479 1058.8 Z\" fill=\"#000000\" fill-rule=\"evenodd\" fill-opacity=\"1\" /><path clip-path=\"url(#clip430)\" d=\"M 0 0 M70.0847 1030.6 Q70.0847 1037.69 71.7079 1040.43 Q73.3312 1043.17 77.2461 1043.17 Q80.3653 1043.17 82.2114 1041.13 Q84.0256 1039.06 84.0256 1035.53 Q84.0256 1030.66 80.5881 1027.73 Q77.1188 1024.77 71.3897 1024.77 L70.0847 1024.77 L70.0847 1030.6 M67.6657 1018.91 L88.0042 1018.91 L88.0042 1024.77 L82.5933 1024.77 Q85.8398 1026.78 87.3994 1029.77 Q88.9272 1032.76 88.9272 1037.09 Q88.9272 1042.56 85.8716 1045.81 Q82.7843 1049.02 77.6281 1049.02 Q71.6125 1049.02 68.5569 1045.01 Q65.5014 1040.97 65.5014 1032.98 L65.5014 1024.77 L64.9285 1024.77 Q60.8862 1024.77 58.6901 1027.44 Q56.4621 1030.09 56.4621 1034.89 Q56.4621 1037.95 57.1941 1040.84 Q57.9262 1043.74 59.3903 1046.41 L53.9795 1046.41 Q52.7381 1043.2 52.1334 1040.18 Q51.4968 1037.15 51.4968 1034.29 Q51.4968 1026.55 55.5072 1022.73 Q59.5176 1018.91 67.6657 1018.91 Z\" fill=\"#000000\" fill-rule=\"evenodd\" fill-opacity=\"1\" /><path clip-path=\"url(#clip430)\" d=\"M 0 0 M53.4065 990.046 L58.9447 990.046 Q57.6716 992.529 57.035 995.203 Q56.3984 997.876 56.3984 1000.74 Q56.3984 1005.1 57.7352 1007.3 Q59.072 1009.46 61.7456 1009.46 Q63.7826 1009.46 64.9603 1007.9 Q66.1061 1006.34 67.1565 1001.63 L67.6021 999.627 Q68.9389 993.388 71.3897 990.779 Q73.8086 988.137 78.1691 988.137 Q83.1344 988.137 86.0308 992.083 Q88.9272 995.998 88.9272 1002.87 Q88.9272 1005.74 88.3543 1008.86 Q87.8132 1011.94 86.6992 1015.38 L80.6518 1015.38 Q82.3387 1012.14 83.198 1008.98 Q84.0256 1005.83 84.0256 1002.75 Q84.0256 998.608 82.6251 996.38 Q81.1929 994.152 78.6147 994.152 Q76.2276 994.152 74.9545 995.776 Q73.6813 997.367 72.5037 1002.81 L72.0262 1004.85 Q70.8804 1010.29 68.5251 1012.71 Q66.138 1015.13 62.0002 1015.13 Q56.9713 1015.13 54.2341 1011.56 Q51.4968 1008 51.4968 1001.44 Q51.4968 998.195 51.9743 995.33 Q52.4517 992.465 53.4065 990.046 Z\" fill=\"#000000\" fill-rule=\"evenodd\" fill-opacity=\"1\" /><path clip-path=\"url(#clip430)\" d=\"M 0 0 M53.4065 959.268 L58.9447 959.268 Q57.6716 961.751 57.035 964.424 Q56.3984 967.098 56.3984 969.963 Q56.3984 974.323 57.7352 976.519 Q59.072 978.684 61.7456 978.684 Q63.7826 978.684 64.9603 977.124 Q66.1061 975.564 67.1565 970.854 L67.6021 968.849 Q68.9389 962.61 71.3897 960 Q73.8086 957.359 78.1691 957.359 Q83.1344 957.359 86.0308 961.305 Q88.9272 965.22 88.9272 972.095 Q88.9272 974.96 88.3543 978.079 Q87.8132 981.166 86.6992 984.604 L80.6518 984.604 Q82.3387 981.357 83.198 978.206 Q84.0256 975.055 84.0256 971.968 Q84.0256 967.83 82.6251 965.602 Q81.1929 963.374 78.6147 963.374 Q76.2276 963.374 74.9545 964.997 Q73.6813 966.589 72.5037 972.032 L72.0262 974.069 Q70.8804 979.511 68.5251 981.93 Q66.138 984.349 62.0002 984.349 Q56.9713 984.349 54.2341 980.784 Q51.4968 977.22 51.4968 970.663 Q51.4968 967.416 51.9743 964.552 Q52.4517 961.687 53.4065 959.268 Z\" fill=\"#000000\" fill-rule=\"evenodd\" fill-opacity=\"1\" /><path clip-path=\"url(#clip430)\" d=\"M 0 0 M52.3562 951.216 L52.3562 945.359 L88.0042 945.359 L88.0042 951.216 L52.3562 951.216 M38.479 951.216 L38.479 945.359 L45.895 945.359 L45.895 951.216 L38.479 951.216 Z\" fill=\"#000000\" fill-rule=\"evenodd\" fill-opacity=\"1\" /><path clip-path=\"url(#clip430)\" d=\"M 0 0 M38.479 921.17 L43.3487 921.17 L43.3487 926.771 Q43.3487 929.922 44.6219 931.164 Q45.895 932.373 49.2052 932.373 L52.3562 932.373 L52.3562 922.729 L56.9077 922.729 L56.9077 932.373 L88.0042 932.373 L88.0042 938.261 L56.9077 938.261 L56.9077 943.863 L52.3562 943.863 L52.3562 938.261 L49.8736 938.261 Q43.9216 938.261 41.2162 935.492 Q38.479 932.723 38.479 926.708 L38.479 921.17 Z\" fill=\"#000000\" fill-rule=\"evenodd\" fill-opacity=\"1\" /><path clip-path=\"url(#clip430)\" d=\"M 0 0 M52.3562 915.027 L52.3562 909.17 L88.0042 909.17 L88.0042 915.027 L52.3562 915.027 M38.479 915.027 L38.479 909.17 L45.895 909.17 L45.895 915.027 L38.479 915.027 Z\" fill=\"#000000\" fill-rule=\"evenodd\" fill-opacity=\"1\" /><path clip-path=\"url(#clip430)\" d=\"M 0 0 M53.7248 877.373 L59.1993 877.373 Q57.8307 879.856 57.1623 882.371 Q56.4621 884.853 56.4621 887.399 Q56.4621 893.097 60.0905 896.248 Q63.6872 899.399 70.212 899.399 Q76.7369 899.399 80.3653 896.248 Q83.9619 893.097 83.9619 887.399 Q83.9619 884.853 83.2935 882.371 Q82.5933 879.856 81.2247 877.373 L86.6355 877.373 Q87.7814 879.824 88.3543 882.466 Q88.9272 885.076 88.9272 888.036 Q88.9272 896.089 83.8664 900.831 Q78.8057 905.574 70.212 905.574 Q61.491 905.574 56.4939 900.799 Q51.4968 895.993 51.4968 887.654 Q51.4968 884.949 52.0697 882.371 Q52.6108 879.792 53.7248 877.373 Z\" fill=\"#000000\" fill-rule=\"evenodd\" fill-opacity=\"1\" /><path clip-path=\"url(#clip430)\" d=\"M 0 0 M70.0847 855.03 Q70.0847 862.128 71.7079 864.865 Q73.3312 867.602 77.2461 867.602 Q80.3653 867.602 82.2114 865.565 Q84.0256 863.496 84.0256 859.963 Q84.0256 855.093 80.5881 852.165 Q77.1188 849.205 71.3897 849.205 L70.0847 849.205 L70.0847 855.03 M67.6657 843.349 L88.0042 843.349 L88.0042 849.205 L82.5933 849.205 Q85.8398 851.21 87.3994 854.202 Q88.9272 857.194 88.9272 861.523 Q88.9272 866.997 85.8716 870.244 Q82.7843 873.459 77.6281 873.459 Q71.6125 873.459 68.5569 869.448 Q65.5014 865.406 65.5014 857.417 L65.5014 849.205 L64.9285 849.205 Q60.8862 849.205 58.6901 851.879 Q56.4621 854.521 56.4621 859.327 Q56.4621 862.382 57.1941 865.279 Q57.9262 868.175 59.3903 870.849 L53.9795 870.849 Q52.7381 867.634 52.1334 864.61 Q51.4968 861.587 51.4968 858.722 Q51.4968 850.988 55.5072 847.168 Q59.5176 843.349 67.6657 843.349 Z\" fill=\"#000000\" fill-rule=\"evenodd\" fill-opacity=\"1\" /><path clip-path=\"url(#clip430)\" d=\"M 0 0 M42.2347 831.413 L52.3562 831.413 L52.3562 819.35 L56.9077 819.35 L56.9077 831.413 L76.2594 831.413 Q80.6199 831.413 81.8613 830.235 Q83.1026 829.026 83.1026 825.366 L83.1026 819.35 L88.0042 819.35 L88.0042 825.366 Q88.0042 832.145 85.4897 834.723 Q82.9434 837.301 76.2594 837.301 L56.9077 837.301 L56.9077 841.598 L52.3562 841.598 L52.3562 837.301 L42.2347 837.301 L42.2347 831.413 Z\" fill=\"#000000\" fill-rule=\"evenodd\" fill-opacity=\"1\" /><path clip-path=\"url(#clip430)\" d=\"M 0 0 M52.3562 813.207 L52.3562 807.351 L88.0042 807.351 L88.0042 813.207 L52.3562 813.207 M38.479 813.207 L38.479 807.351 L45.895 807.351 L45.895 813.207 L38.479 813.207 Z\" fill=\"#000000\" fill-rule=\"evenodd\" fill-opacity=\"1\" /><path clip-path=\"url(#clip430)\" d=\"M 0 0 M56.4621 787.394 Q56.4621 792.105 60.1542 794.842 Q63.8145 797.579 70.212 797.579 Q76.6095 797.579 80.3017 794.874 Q83.9619 792.137 83.9619 787.394 Q83.9619 782.715 80.2698 779.978 Q76.5777 777.241 70.212 777.241 Q63.8781 777.241 60.186 779.978 Q56.4621 782.715 56.4621 787.394 M51.4968 787.394 Q51.4968 779.755 56.4621 775.395 Q61.4273 771.034 70.212 771.034 Q78.9649 771.034 83.9619 775.395 Q88.9272 779.755 88.9272 787.394 Q88.9272 795.065 83.9619 799.425 Q78.9649 803.754 70.212 803.754 Q61.4273 803.754 56.4621 799.425 Q51.4968 795.065 51.4968 787.394 Z\" fill=\"#000000\" fill-rule=\"evenodd\" fill-opacity=\"1\" /><path clip-path=\"url(#clip430)\" d=\"M 0 0 M66.4881 735.259 L88.0042 735.259 L88.0042 741.116 L66.679 741.116 Q61.6183 741.116 59.1038 743.089 Q56.5894 745.062 56.5894 749.009 Q56.5894 753.751 59.6131 756.489 Q62.6368 759.226 67.8567 759.226 L88.0042 759.226 L88.0042 765.114 L52.3562 765.114 L52.3562 759.226 L57.8944 759.226 Q54.6797 757.125 53.0883 754.293 Q51.4968 751.428 51.4968 747.704 Q51.4968 741.561 55.3163 738.41 Q59.1038 735.259 66.4881 735.259 Z\" fill=\"#000000\" fill-rule=\"evenodd\" fill-opacity=\"1\" /><path clip-path=\"url(#clip430)\" d=\"M 0 0 M46.818 692.259 L70.4666 700.98 L70.4666 683.506 L46.818 692.259 M40.4842 695.887 L40.4842 688.598 L88.0042 670.488 L88.0042 677.172 L75.8138 681.501 L75.8138 702.921 L88.0042 707.25 L88.0042 714.029 L40.4842 695.887 Z\" fill=\"#000000\" fill-rule=\"evenodd\" fill-opacity=\"1\" /><path clip-path=\"url(#clip430)\" d=\"M 0 0 M53.7248 639.837 L59.1993 639.837 Q57.8307 642.32 57.1623 644.834 Q56.4621 647.317 56.4621 649.863 Q56.4621 655.56 60.0905 658.711 Q63.6872 661.862 70.212 661.862 Q76.7369 661.862 80.3653 658.711 Q83.9619 655.56 83.9619 649.863 Q83.9619 647.317 83.2935 644.834 Q82.5933 642.32 81.2247 639.837 L86.6355 639.837 Q87.7814 642.288 88.3543 644.93 Q88.9272 647.54 88.9272 650.5 Q88.9272 658.552 83.8664 663.295 Q78.8057 668.037 70.212 668.037 Q61.491 668.037 56.4939 663.263 Q51.4968 658.457 51.4968 650.118 Q51.4968 647.412 52.0697 644.834 Q52.6108 642.256 53.7248 639.837 Z\" fill=\"#000000\" fill-rule=\"evenodd\" fill-opacity=\"1\" /><path clip-path=\"url(#clip430)\" d=\"M 0 0 M53.7248 608.04 L59.1993 608.04 Q57.8307 610.523 57.1623 613.037 Q56.4621 615.52 56.4621 618.066 Q56.4621 623.764 60.0905 626.915 Q63.6872 630.066 70.212 630.066 Q76.7369 630.066 80.3653 626.915 Q83.9619 623.764 83.9619 618.066 Q83.9619 615.52 83.2935 613.037 Q82.5933 610.523 81.2247 608.04 L86.6355 608.04 Q87.7814 610.491 88.3543 613.133 Q88.9272 615.743 88.9272 618.703 Q88.9272 626.756 83.8664 631.498 Q78.8057 636.24 70.212 636.24 Q61.491 636.24 56.4939 631.466 Q51.4968 626.66 51.4968 618.321 Q51.4968 615.616 52.0697 613.037 Q52.6108 610.459 53.7248 608.04 Z\" fill=\"#000000\" fill-rule=\"evenodd\" fill-opacity=\"1\" /><path clip-path=\"url(#clip430)\" d=\"M 0 0 M73.9359 602.502 L52.3562 602.502 L52.3562 596.646 L73.7131 596.646 Q78.7739 596.646 81.3202 594.672 Q83.8346 592.699 83.8346 588.752 Q83.8346 584.01 80.8109 581.273 Q77.7872 578.504 72.5673 578.504 L52.3562 578.504 L52.3562 572.647 L88.0042 572.647 L88.0042 578.504 L82.5296 578.504 Q85.7762 580.636 87.3676 583.469 Q88.9272 586.27 88.9272 589.994 Q88.9272 596.137 85.1078 599.319 Q81.2883 602.502 73.9359 602.502 M51.4968 587.766 L51.4968 587.766 Z\" fill=\"#000000\" fill-rule=\"evenodd\" fill-opacity=\"1\" /><path clip-path=\"url(#clip430)\" d=\"M 0 0 M57.8307 545.847 Q57.2578 546.834 57.0032 548.012 Q56.7167 549.158 56.7167 550.558 Q56.7167 555.523 59.9632 558.197 Q63.1779 560.839 69.2253 560.839 L88.0042 560.839 L88.0042 566.727 L52.3562 566.727 L52.3562 560.839 L57.8944 560.839 Q54.6479 558.993 53.0883 556.033 Q51.4968 553.073 51.4968 548.839 Q51.4968 548.235 51.5923 547.503 Q51.656 546.77 51.8151 545.879 L57.8307 545.847 Z\" fill=\"#000000\" fill-rule=\"evenodd\" fill-opacity=\"1\" /><path clip-path=\"url(#clip430)\" d=\"M 0 0 M70.0847 523.504 Q70.0847 530.602 71.7079 533.339 Q73.3312 536.076 77.2461 536.076 Q80.3653 536.076 82.2114 534.039 Q84.0256 531.97 84.0256 528.437 Q84.0256 523.567 80.5881 520.639 Q77.1188 517.679 71.3897 517.679 L70.0847 517.679 L70.0847 523.504 M67.6657 511.823 L88.0042 511.823 L88.0042 517.679 L82.5933 517.679 Q85.8398 519.684 87.3994 522.676 Q88.9272 525.668 88.9272 529.997 Q88.9272 535.471 85.8716 538.718 Q82.7843 541.933 77.6281 541.933 Q71.6125 541.933 68.5569 537.922 Q65.5014 533.88 65.5014 525.891 L65.5014 517.679 L64.9285 517.679 Q60.8862 517.679 58.6901 520.353 Q56.4621 522.995 56.4621 527.801 Q56.4621 530.856 57.1941 533.753 Q57.9262 536.649 59.3903 539.323 L53.9795 539.323 Q52.7381 536.108 52.1334 533.084 Q51.4968 530.061 51.4968 527.196 Q51.4968 519.462 55.5072 515.642 Q59.5176 511.823 67.6657 511.823 Z\" fill=\"#000000\" fill-rule=\"evenodd\" fill-opacity=\"1\" /><path clip-path=\"url(#clip430)\" d=\"M 0 0 M53.7248 480.026 L59.1993 480.026 Q57.8307 482.509 57.1623 485.023 Q56.4621 487.506 56.4621 490.052 Q56.4621 495.749 60.0905 498.9 Q63.6872 502.051 70.212 502.051 Q76.7369 502.051 80.3653 498.9 Q83.9619 495.749 83.9619 490.052 Q83.9619 487.506 83.2935 485.023 Q82.5933 482.509 81.2247 480.026 L86.6355 480.026 Q87.7814 482.477 88.3543 485.119 Q88.9272 487.729 88.9272 490.689 Q88.9272 498.741 83.8664 503.484 Q78.8057 508.226 70.212 508.226 Q61.491 508.226 56.4939 503.452 Q51.4968 498.646 51.4968 490.307 Q51.4968 487.601 52.0697 485.023 Q52.6108 482.445 53.7248 480.026 Z\" fill=\"#000000\" fill-rule=\"evenodd\" fill-opacity=\"1\" /><path clip-path=\"url(#clip430)\" d=\"M 0 0 M91.3143 459.051 Q97.68 461.534 99.6216 463.889 Q101.563 466.244 101.563 470.191 L101.563 474.87 L96.6615 474.87 L96.6615 471.432 Q96.6615 469.013 95.5157 467.677 Q94.3699 466.34 90.1048 464.717 L87.4312 463.666 L52.3562 478.085 L52.3562 471.878 L80.238 460.738 L52.3562 449.598 L52.3562 443.391 L91.3143 459.051 Z\" fill=\"#000000\" fill-rule=\"evenodd\" fill-opacity=\"1\" /><polyline clip-path=\"url(#clip432)\" style=\"stroke:#009af9; stroke-width:4; stroke-opacity:1; fill:none\" points=\"\n",
       "  272.201,906.06 301.906,906.06 331.612,343.965 361.317,366.449 391.022,606.276 420.727,327.905 450.433,231.546 480.138,256.528 509.843,231.546 539.548,211.107 \n",
       "  569.253,194.073 598.959,214.251 628.664,231.546 658.369,276.514 688.074,231.546 717.78,244.772 747.485,231.546 777.19,243.38 806.895,209.063 836.601,242.253 \n",
       "  866.306,231.546 896.011,260.873 925.716,269.019 955.422,222.553 985.127,214.251 1014.83,223.219 1044.54,247.606 1074.24,208.287 1103.95,216.557 1133.65,224.294 \n",
       "  1163.36,175.337 1193.06,211.107 1222.77,205.095 1252.47,212.275 1282.18,181.582 1311.88,213.316 1341.59,184.212 1371.29,191.191 1401,175.337 1430.71,160.256 \n",
       "  1460.41,178.014 1490.12,194.945 1519.82,200.887 1549.53,186.579 1579.23,192.444 1608.94,178.925 1638.64,194.073 1668.35,181.073 1698.05,204.566 1727.76,191.869 \n",
       "  1757.46,171.013 1787.17,176.397 1816.87,189.91 1846.58,178.403 1876.28,183.367 1905.99,196.046 1935.69,216.04 1965.4,197.249 1995.1,209.063 2024.81,213.117 \n",
       "  2054.52,188.029 2084.22,206.564 2113.93,217.494 2143.63,228.087 2173.34,211.107 2203.04,208.056 2232.75,185.256 2262.45,195.703 2292.16,205.851 \n",
       "  \"/>\n",
       "<polyline clip-path=\"url(#clip432)\" style=\"stroke:#e26f46; stroke-width:4; stroke-opacity:1; fill:none\" points=\"\n",
       "  272.201,1386.4 301.906,1105.35 331.612,900.95 361.317,849.851 391.022,977.599 420.727,722.102 450.433,619.903 480.138,543.253 509.843,594.353 539.548,517.704 \n",
       "  569.253,492.154 598.959,466.604 628.664,441.054 658.369,441.054 688.074,517.704 717.78,517.704 747.485,492.154 777.19,492.154 806.895,466.604 836.601,441.054 \n",
       "  866.306,364.405 896.011,466.604 925.716,415.505 955.422,389.955 985.127,364.405 1014.83,364.405 1044.54,389.955 1074.24,415.505 1103.95,338.855 1133.65,338.855 \n",
       "  1163.36,338.855 1193.06,415.505 1222.77,364.405 1252.47,389.955 1282.18,389.955 1311.88,364.405 1341.59,338.855 1371.29,364.405 1401,364.405 1430.71,364.405 \n",
       "  1460.41,364.405 1490.12,313.306 1519.82,338.855 1549.53,338.855 1579.23,364.405 1608.94,338.855 1638.64,338.855 1668.35,364.405 1698.05,338.855 1727.76,364.405 \n",
       "  1757.46,389.955 1787.17,389.955 1816.87,338.855 1846.58,313.306 1876.28,313.306 1905.99,338.855 1935.69,338.855 1965.4,338.855 1995.1,338.855 2024.81,313.306 \n",
       "  2054.52,338.855 2084.22,338.855 2113.93,338.855 2143.63,338.855 2173.34,338.855 2203.04,313.306 2232.75,313.306 2262.45,262.206 2292.16,338.855 \n",
       "  \"/>\n",
       "<path clip-path=\"url(#clip430)\" d=\"\n",
       "M1844.15 1379.86 L2281.38 1379.86 L2281.38 1198.42 L1844.15 1198.42  Z\n",
       "  \" fill=\"#ffffff\" fill-rule=\"evenodd\" fill-opacity=\"1\"/>\n",
       "<polyline clip-path=\"url(#clip430)\" style=\"stroke:#000000; stroke-width:4; stroke-opacity:1; fill:none\" points=\"\n",
       "  1844.15,1379.86 2281.38,1379.86 2281.38,1198.42 1844.15,1198.42 1844.15,1379.86 \n",
       "  \"/>\n",
       "<polyline clip-path=\"url(#clip430)\" style=\"stroke:#009af9; stroke-width:4; stroke-opacity:1; fill:none\" points=\"\n",
       "  1867.94,1258.9 2010.68,1258.9 \n",
       "  \"/>\n",
       "<path clip-path=\"url(#clip430)\" d=\"M 0 0 M2034.48 1241.62 L2063.71 1241.62 L2063.71 1245.55 L2051.44 1245.55 L2051.44 1276.18 L2046.74 1276.18 L2046.74 1245.55 L2034.48 1245.55 L2034.48 1241.62 Z\" fill=\"#000000\" fill-rule=\"evenodd\" fill-opacity=\"1\" /><path clip-path=\"url(#clip430)\" d=\"M 0 0 M2076.23 1254.23 Q2075.52 1253.82 2074.66 1253.63 Q2073.83 1253.42 2072.81 1253.42 Q2069.2 1253.42 2067.25 1255.78 Q2065.33 1258.12 2065.33 1262.52 L2065.33 1276.18 L2061.05 1276.18 L2061.05 1250.25 L2065.33 1250.25 L2065.33 1254.28 Q2066.67 1251.92 2068.83 1250.78 Q2070.98 1249.63 2074.06 1249.63 Q2074.5 1249.63 2075.03 1249.69 Q2075.56 1249.74 2076.21 1249.86 L2076.23 1254.23 Z\" fill=\"#000000\" fill-rule=\"evenodd\" fill-opacity=\"1\" /><path clip-path=\"url(#clip430)\" d=\"M 0 0 M2092.48 1263.14 Q2087.32 1263.14 2085.33 1264.32 Q2083.34 1265.51 2083.34 1268.35 Q2083.34 1270.62 2084.82 1271.96 Q2086.33 1273.28 2088.9 1273.28 Q2092.44 1273.28 2094.57 1270.78 Q2096.72 1268.26 2096.72 1264.09 L2096.72 1263.14 L2092.48 1263.14 M2100.98 1261.38 L2100.98 1276.18 L2096.72 1276.18 L2096.72 1272.24 Q2095.26 1274.6 2093.09 1275.74 Q2090.91 1276.85 2087.76 1276.85 Q2083.78 1276.85 2081.42 1274.63 Q2079.08 1272.38 2079.08 1268.63 Q2079.08 1264.26 2082 1262.03 Q2084.94 1259.81 2090.75 1259.81 L2096.72 1259.81 L2096.72 1259.39 Q2096.72 1256.45 2094.78 1254.86 Q2092.85 1253.24 2089.36 1253.24 Q2087.14 1253.24 2085.03 1253.77 Q2082.92 1254.3 2080.98 1255.37 L2080.98 1251.43 Q2083.32 1250.53 2085.52 1250.09 Q2087.72 1249.63 2089.8 1249.63 Q2095.42 1249.63 2098.2 1252.54 Q2100.98 1255.46 2100.98 1261.38 Z\" fill=\"#000000\" fill-rule=\"evenodd\" fill-opacity=\"1\" /><path clip-path=\"url(#clip430)\" d=\"M 0 0 M2105.45 1250.25 L2109.71 1250.25 L2109.71 1276.18 L2105.45 1276.18 L2105.45 1250.25 M2105.45 1240.16 L2109.71 1240.16 L2109.71 1245.55 L2105.45 1245.55 L2105.45 1240.16 Z\" fill=\"#000000\" fill-rule=\"evenodd\" fill-opacity=\"1\" /><path clip-path=\"url(#clip430)\" d=\"M 0 0 M2135.72 1260.53 L2135.72 1276.18 L2131.47 1276.18 L2131.47 1260.67 Q2131.47 1256.99 2130.03 1255.16 Q2128.6 1253.33 2125.72 1253.33 Q2122.28 1253.33 2120.29 1255.53 Q2118.29 1257.73 2118.29 1261.52 L2118.29 1276.18 L2114.01 1276.18 L2114.01 1250.25 L2118.29 1250.25 L2118.29 1254.28 Q2119.82 1251.94 2121.88 1250.78 Q2123.97 1249.63 2126.67 1249.63 Q2131.14 1249.63 2133.43 1252.4 Q2135.72 1255.16 2135.72 1260.53 Z\" fill=\"#000000\" fill-rule=\"evenodd\" fill-opacity=\"1\" /><path clip-path=\"url(#clip430)\" d=\"M 0 0 M2140.19 1250.25 L2144.45 1250.25 L2144.45 1276.18 L2140.19 1276.18 L2140.19 1250.25 M2140.19 1240.16 L2144.45 1240.16 L2144.45 1245.55 L2140.19 1245.55 L2140.19 1240.16 Z\" fill=\"#000000\" fill-rule=\"evenodd\" fill-opacity=\"1\" /><path clip-path=\"url(#clip430)\" d=\"M 0 0 M2170.47 1260.53 L2170.47 1276.18 L2166.21 1276.18 L2166.21 1260.67 Q2166.21 1256.99 2164.78 1255.16 Q2163.34 1253.33 2160.47 1253.33 Q2157.02 1253.33 2155.03 1255.53 Q2153.04 1257.73 2153.04 1261.52 L2153.04 1276.18 L2148.76 1276.18 L2148.76 1250.25 L2153.04 1250.25 L2153.04 1254.28 Q2154.57 1251.94 2156.63 1250.78 Q2158.71 1249.63 2161.42 1249.63 Q2165.89 1249.63 2168.18 1252.4 Q2170.47 1255.16 2170.47 1260.53 Z\" fill=\"#000000\" fill-rule=\"evenodd\" fill-opacity=\"1\" /><path clip-path=\"url(#clip430)\" d=\"M 0 0 M2192 1262.91 Q2192 1258.28 2190.08 1255.74 Q2188.18 1253.19 2184.73 1253.19 Q2181.3 1253.19 2179.38 1255.74 Q2177.48 1258.28 2177.48 1262.91 Q2177.48 1267.52 2179.38 1270.07 Q2181.3 1272.61 2184.73 1272.61 Q2188.18 1272.61 2190.08 1270.07 Q2192 1267.52 2192 1262.91 M2196.26 1272.96 Q2196.26 1279.58 2193.32 1282.8 Q2190.38 1286.04 2184.31 1286.04 Q2182.07 1286.04 2180.08 1285.69 Q2178.09 1285.37 2176.21 1284.67 L2176.21 1280.53 Q2178.09 1281.55 2179.91 1282.03 Q2181.74 1282.52 2183.64 1282.52 Q2187.83 1282.52 2189.91 1280.32 Q2192 1278.14 2192 1273.72 L2192 1271.62 Q2190.68 1273.91 2188.62 1275.04 Q2186.56 1276.18 2183.69 1276.18 Q2178.92 1276.18 2176 1272.54 Q2173.09 1268.91 2173.09 1262.91 Q2173.09 1256.89 2176 1253.26 Q2178.92 1249.63 2183.69 1249.63 Q2186.56 1249.63 2188.62 1250.76 Q2190.68 1251.89 2192 1254.19 L2192 1250.25 L2196.26 1250.25 L2196.26 1272.96 Z\" fill=\"#000000\" fill-rule=\"evenodd\" fill-opacity=\"1\" /><polyline clip-path=\"url(#clip430)\" style=\"stroke:#e26f46; stroke-width:4; stroke-opacity:1; fill:none\" points=\"\n",
       "  1867.94,1319.38 2010.68,1319.38 \n",
       "  \"/>\n",
       "<path clip-path=\"url(#clip430)\" d=\"M 0 0 M2047.67 1336.66 L2034.48 1302.1 L2039.36 1302.1 L2050.31 1331.19 L2061.28 1302.1 L2066.14 1302.1 L2052.97 1336.66 L2047.67 1336.66 Z\" fill=\"#000000\" fill-rule=\"evenodd\" fill-opacity=\"1\" /><path clip-path=\"url(#clip430)\" d=\"M 0 0 M2078.71 1323.62 Q2073.55 1323.62 2071.56 1324.8 Q2069.57 1325.99 2069.57 1328.83 Q2069.57 1331.1 2071.05 1332.44 Q2072.55 1333.76 2075.12 1333.76 Q2078.66 1333.76 2080.79 1331.26 Q2082.95 1328.74 2082.95 1324.57 L2082.95 1323.62 L2078.71 1323.62 M2087.21 1321.86 L2087.21 1336.66 L2082.95 1336.66 L2082.95 1332.72 Q2081.49 1335.08 2079.31 1336.22 Q2077.14 1337.33 2073.99 1337.33 Q2070.01 1337.33 2067.65 1335.11 Q2065.31 1332.86 2065.31 1329.11 Q2065.31 1324.74 2068.23 1322.51 Q2071.16 1320.29 2076.98 1320.29 L2082.95 1320.29 L2082.95 1319.87 Q2082.95 1316.93 2081 1315.34 Q2079.08 1313.72 2075.59 1313.72 Q2073.36 1313.72 2071.26 1314.25 Q2069.15 1314.78 2067.21 1315.85 L2067.21 1311.91 Q2069.54 1311.01 2071.74 1310.57 Q2073.94 1310.11 2076.03 1310.11 Q2081.65 1310.11 2084.43 1313.02 Q2087.21 1315.94 2087.21 1321.86 Z\" fill=\"#000000\" fill-rule=\"evenodd\" fill-opacity=\"1\" /><path clip-path=\"url(#clip430)\" d=\"M 0 0 M2091.67 1300.64 L2095.93 1300.64 L2095.93 1336.66 L2091.67 1336.66 L2091.67 1300.64 Z\" fill=\"#000000\" fill-rule=\"evenodd\" fill-opacity=\"1\" /><path clip-path=\"url(#clip430)\" d=\"M 0 0 M2100.4 1310.73 L2104.66 1310.73 L2104.66 1336.66 L2100.4 1336.66 L2100.4 1310.73 M2100.4 1300.64 L2104.66 1300.64 L2104.66 1306.03 L2100.4 1306.03 L2100.4 1300.64 Z\" fill=\"#000000\" fill-rule=\"evenodd\" fill-opacity=\"1\" /><path clip-path=\"url(#clip430)\" d=\"M 0 0 M2126.19 1314.67 L2126.19 1300.64 L2130.45 1300.64 L2130.45 1336.66 L2126.19 1336.66 L2126.19 1332.77 Q2124.85 1335.08 2122.79 1336.22 Q2120.75 1337.33 2117.88 1337.33 Q2113.18 1337.33 2110.22 1333.58 Q2107.28 1329.83 2107.28 1323.72 Q2107.28 1317.61 2110.22 1313.86 Q2113.18 1310.11 2117.88 1310.11 Q2120.75 1310.11 2122.79 1311.24 Q2124.85 1312.35 2126.19 1314.67 M2111.67 1323.72 Q2111.67 1328.42 2113.6 1331.1 Q2115.54 1333.76 2118.92 1333.76 Q2122.3 1333.76 2124.24 1331.1 Q2126.19 1328.42 2126.19 1323.72 Q2126.19 1319.02 2124.24 1316.36 Q2122.3 1313.67 2118.92 1313.67 Q2115.54 1313.67 2113.6 1316.36 Q2111.67 1319.02 2111.67 1323.72 Z\" fill=\"#000000\" fill-rule=\"evenodd\" fill-opacity=\"1\" /><path clip-path=\"url(#clip430)\" d=\"M 0 0 M2146.7 1323.62 Q2141.53 1323.62 2139.54 1324.8 Q2137.55 1325.99 2137.55 1328.83 Q2137.55 1331.1 2139.03 1332.44 Q2140.54 1333.76 2143.11 1333.76 Q2146.65 1333.76 2148.78 1331.26 Q2150.93 1328.74 2150.93 1324.57 L2150.93 1323.62 L2146.7 1323.62 M2155.19 1321.86 L2155.19 1336.66 L2150.93 1336.66 L2150.93 1332.72 Q2149.47 1335.08 2147.3 1336.22 Q2145.12 1337.33 2141.97 1337.33 Q2137.99 1337.33 2135.63 1335.11 Q2133.29 1332.86 2133.29 1329.11 Q2133.29 1324.74 2136.21 1322.51 Q2139.15 1320.29 2144.96 1320.29 L2150.93 1320.29 L2150.93 1319.87 Q2150.93 1316.93 2148.99 1315.34 Q2147.07 1313.72 2143.57 1313.72 Q2141.35 1313.72 2139.24 1314.25 Q2137.14 1314.78 2135.19 1315.85 L2135.19 1311.91 Q2137.53 1311.01 2139.73 1310.57 Q2141.93 1310.11 2144.01 1310.11 Q2149.64 1310.11 2152.41 1313.02 Q2155.19 1315.94 2155.19 1321.86 Z\" fill=\"#000000\" fill-rule=\"evenodd\" fill-opacity=\"1\" /><path clip-path=\"url(#clip430)\" d=\"M 0 0 M2163.87 1303.37 L2163.87 1310.73 L2172.65 1310.73 L2172.65 1314.04 L2163.87 1314.04 L2163.87 1328.11 Q2163.87 1331.29 2164.73 1332.19 Q2165.61 1333.09 2168.27 1333.09 L2172.65 1333.09 L2172.65 1336.66 L2168.27 1336.66 Q2163.34 1336.66 2161.47 1334.83 Q2159.59 1332.98 2159.59 1328.11 L2159.59 1314.04 L2156.47 1314.04 L2156.47 1310.73 L2159.59 1310.73 L2159.59 1303.37 L2163.87 1303.37 Z\" fill=\"#000000\" fill-rule=\"evenodd\" fill-opacity=\"1\" /><path clip-path=\"url(#clip430)\" d=\"M 0 0 M2177.11 1310.73 L2181.37 1310.73 L2181.37 1336.66 L2177.11 1336.66 L2177.11 1310.73 M2177.11 1300.64 L2181.37 1300.64 L2181.37 1306.03 L2177.11 1306.03 L2177.11 1300.64 Z\" fill=\"#000000\" fill-rule=\"evenodd\" fill-opacity=\"1\" /><path clip-path=\"url(#clip430)\" d=\"M 0 0 M2195.89 1313.72 Q2192.46 1313.72 2190.47 1316.4 Q2188.48 1319.06 2188.48 1323.72 Q2188.48 1328.37 2190.45 1331.05 Q2192.44 1333.72 2195.89 1333.72 Q2199.29 1333.72 2201.28 1331.03 Q2203.27 1328.35 2203.27 1323.72 Q2203.27 1319.11 2201.28 1316.42 Q2199.29 1313.72 2195.89 1313.72 M2195.89 1310.11 Q2201.44 1310.11 2204.61 1313.72 Q2207.78 1317.33 2207.78 1323.72 Q2207.78 1330.08 2204.61 1333.72 Q2201.44 1337.33 2195.89 1337.33 Q2190.31 1337.33 2187.14 1333.72 Q2183.99 1330.08 2183.99 1323.72 Q2183.99 1317.33 2187.14 1313.72 Q2190.31 1310.11 2195.89 1310.11 Z\" fill=\"#000000\" fill-rule=\"evenodd\" fill-opacity=\"1\" /><path clip-path=\"url(#clip430)\" d=\"M 0 0 M2233.8 1321.01 L2233.8 1336.66 L2229.54 1336.66 L2229.54 1321.15 Q2229.54 1317.47 2228.11 1315.64 Q2226.67 1313.81 2223.8 1313.81 Q2220.35 1313.81 2218.36 1316.01 Q2216.37 1318.21 2216.37 1322 L2216.37 1336.66 L2212.09 1336.66 L2212.09 1310.73 L2216.37 1310.73 L2216.37 1314.76 Q2217.9 1312.42 2219.96 1311.26 Q2222.04 1310.11 2224.75 1310.11 Q2229.22 1310.11 2231.51 1312.88 Q2233.8 1315.64 2233.8 1321.01 Z\" fill=\"#000000\" fill-rule=\"evenodd\" fill-opacity=\"1\" /></svg>\n"
      ]
     },
     "execution_count": 124,
     "metadata": {},
     "output_type": "execute_result"
    }
   ],
   "source": [
    "plot(data_schedule, training_losses, label=\"Training\", legend=:bottomright)\n",
    "plot!(data_schedule, valid_losses, label=\"Validation\")\n",
    "xlabel!(\"Number of Training Samples\")\n",
    "ylabel!(\"Classification Accuracy\")\n",
    "title!(\"K = $(best.best_model.K)\")"
   ]
  },
  {
   "cell_type": "code",
   "execution_count": 125,
   "metadata": {},
   "outputs": [],
   "source": [
    "fn = \"Figures/KNN_LC\"\n",
    "png(replace(fn,'.' => ','))"
   ]
  },
  {
   "cell_type": "code",
   "execution_count": 126,
   "metadata": {},
   "outputs": [
    {
     "data": {
      "text/plain": [
       "(parameter_names = [\"K\"],\n",
       " parameter_scales = [:linear],\n",
       " parameter_values = Any[5; 6; … ; 1; 4],\n",
       " measurements = [0.8356164383561645, 0.8698630136986302, 0.8995433789954337, 0.8310502283105023, 0.8835616438356163, 0.8744292237442922, 0.7625570776255709, 0.7876712328767125, 0.8264840182648404],)"
      ]
     },
     "execution_count": 126,
     "metadata": {},
     "output_type": "execute_result"
    }
   ],
   "source": [
    "self_tuning_knn.report.plotting"
   ]
  },
  {
   "cell_type": "code",
   "execution_count": 127,
   "metadata": {},
   "outputs": [
    {
     "data": {
      "image/svg+xml": [
       "<?xml version=\"1.0\" encoding=\"utf-8\"?>\n",
       "<svg xmlns=\"http://www.w3.org/2000/svg\" xmlns:xlink=\"http://www.w3.org/1999/xlink\" width=\"600\" height=\"400\" viewBox=\"0 0 2400 1600\">\n",
       "<defs>\n",
       "  <clipPath id=\"clip480\">\n",
       "    <rect x=\"0\" y=\"0\" width=\"2400\" height=\"1600\"/>\n",
       "  </clipPath>\n",
       "</defs>\n",
       "<path clip-path=\"url(#clip480)\" d=\"\n",
       "M0 1600 L2400 1600 L2400 0 L0 0  Z\n",
       "  \" fill=\"#ffffff\" fill-rule=\"evenodd\" fill-opacity=\"1\"/>\n",
       "<defs>\n",
       "  <clipPath id=\"clip481\">\n",
       "    <rect x=\"480\" y=\"0\" width=\"1681\" height=\"1600\"/>\n",
       "  </clipPath>\n",
       "</defs>\n",
       "<path clip-path=\"url(#clip480)\" d=\"\n",
       "M238.037 1423.18 L2352.76 1423.18 L2352.76 47.2441 L238.037 47.2441  Z\n",
       "  \" fill=\"#ffffff\" fill-rule=\"evenodd\" fill-opacity=\"1\"/>\n",
       "<defs>\n",
       "  <clipPath id=\"clip482\">\n",
       "    <rect x=\"238\" y=\"47\" width=\"2116\" height=\"1377\"/>\n",
       "  </clipPath>\n",
       "</defs>\n",
       "<polyline clip-path=\"url(#clip482)\" style=\"stroke:#000000; stroke-width:2; stroke-opacity:0.1; fill:none\" points=\"\n",
       "  638.853,1423.18 638.853,47.2441 \n",
       "  \"/>\n",
       "<polyline clip-path=\"url(#clip482)\" style=\"stroke:#000000; stroke-width:2; stroke-opacity:0.1; fill:none\" points=\"\n",
       "  1076.55,1423.18 1076.55,47.2441 \n",
       "  \"/>\n",
       "<polyline clip-path=\"url(#clip482)\" style=\"stroke:#000000; stroke-width:2; stroke-opacity:0.1; fill:none\" points=\"\n",
       "  1514.24,1423.18 1514.24,47.2441 \n",
       "  \"/>\n",
       "<polyline clip-path=\"url(#clip482)\" style=\"stroke:#000000; stroke-width:2; stroke-opacity:0.1; fill:none\" points=\"\n",
       "  1951.94,1423.18 1951.94,47.2441 \n",
       "  \"/>\n",
       "<polyline clip-path=\"url(#clip482)\" style=\"stroke:#000000; stroke-width:2; stroke-opacity:0.1; fill:none\" points=\"\n",
       "  238.037,1384.24 2352.76,1384.24 \n",
       "  \"/>\n",
       "<polyline clip-path=\"url(#clip482)\" style=\"stroke:#000000; stroke-width:2; stroke-opacity:0.1; fill:none\" points=\"\n",
       "  238.037,951.554 2352.76,951.554 \n",
       "  \"/>\n",
       "<polyline clip-path=\"url(#clip482)\" style=\"stroke:#000000; stroke-width:2; stroke-opacity:0.1; fill:none\" points=\"\n",
       "  238.037,518.87 2352.76,518.87 \n",
       "  \"/>\n",
       "<polyline clip-path=\"url(#clip482)\" style=\"stroke:#000000; stroke-width:2; stroke-opacity:0.1; fill:none\" points=\"\n",
       "  238.037,86.1857 2352.76,86.1857 \n",
       "  \"/>\n",
       "<polyline clip-path=\"url(#clip480)\" style=\"stroke:#000000; stroke-width:4; stroke-opacity:1; fill:none\" points=\"\n",
       "  238.037,1423.18 2352.76,1423.18 \n",
       "  \"/>\n",
       "<polyline clip-path=\"url(#clip480)\" style=\"stroke:#000000; stroke-width:4; stroke-opacity:1; fill:none\" points=\"\n",
       "  238.037,1423.18 238.037,47.2441 \n",
       "  \"/>\n",
       "<polyline clip-path=\"url(#clip480)\" style=\"stroke:#000000; stroke-width:4; stroke-opacity:1; fill:none\" points=\"\n",
       "  638.853,1423.18 638.853,1406.67 \n",
       "  \"/>\n",
       "<polyline clip-path=\"url(#clip480)\" style=\"stroke:#000000; stroke-width:4; stroke-opacity:1; fill:none\" points=\"\n",
       "  1076.55,1423.18 1076.55,1406.67 \n",
       "  \"/>\n",
       "<polyline clip-path=\"url(#clip480)\" style=\"stroke:#000000; stroke-width:4; stroke-opacity:1; fill:none\" points=\"\n",
       "  1514.24,1423.18 1514.24,1406.67 \n",
       "  \"/>\n",
       "<polyline clip-path=\"url(#clip480)\" style=\"stroke:#000000; stroke-width:4; stroke-opacity:1; fill:none\" points=\"\n",
       "  1951.94,1423.18 1951.94,1406.67 \n",
       "  \"/>\n",
       "<polyline clip-path=\"url(#clip480)\" style=\"stroke:#000000; stroke-width:4; stroke-opacity:1; fill:none\" points=\"\n",
       "  238.037,1384.24 263.414,1384.24 \n",
       "  \"/>\n",
       "<polyline clip-path=\"url(#clip480)\" style=\"stroke:#000000; stroke-width:4; stroke-opacity:1; fill:none\" points=\"\n",
       "  238.037,951.554 263.414,951.554 \n",
       "  \"/>\n",
       "<polyline clip-path=\"url(#clip480)\" style=\"stroke:#000000; stroke-width:4; stroke-opacity:1; fill:none\" points=\"\n",
       "  238.037,518.87 263.414,518.87 \n",
       "  \"/>\n",
       "<polyline clip-path=\"url(#clip480)\" style=\"stroke:#000000; stroke-width:4; stroke-opacity:1; fill:none\" points=\"\n",
       "  238.037,86.1857 263.414,86.1857 \n",
       "  \"/>\n",
       "<path clip-path=\"url(#clip480)\" d=\"M 0 0 M633.506 1472.72 L649.825 1472.72 L649.825 1476.65 L627.881 1476.65 L627.881 1472.72 Q630.543 1469.96 635.126 1465.33 Q639.733 1460.68 640.913 1459.34 Q643.159 1456.81 644.038 1455.08 Q644.941 1453.32 644.941 1451.63 Q644.941 1448.87 642.997 1447.14 Q641.075 1445.4 637.973 1445.4 Q635.774 1445.4 633.321 1446.17 Q630.89 1446.93 628.112 1448.48 L628.112 1443.76 Q630.936 1442.62 633.39 1442.05 Q635.844 1441.47 637.881 1441.47 Q643.251 1441.47 646.446 1444.15 Q649.64 1446.84 649.64 1451.33 Q649.64 1453.46 648.83 1455.38 Q648.043 1457.28 645.936 1459.87 Q645.358 1460.54 642.256 1463.76 Q639.154 1466.95 633.506 1472.72 Z\" fill=\"#000000\" fill-rule=\"evenodd\" fill-opacity=\"1\" /><path clip-path=\"url(#clip480)\" d=\"M 0 0 M1079.56 1446.17 L1067.75 1464.61 L1079.56 1464.61 L1079.56 1446.17 M1078.33 1442.09 L1084.21 1442.09 L1084.21 1464.61 L1089.14 1464.61 L1089.14 1468.5 L1084.21 1468.5 L1084.21 1476.65 L1079.56 1476.65 L1079.56 1468.5 L1063.96 1468.5 L1063.96 1463.99 L1078.33 1442.09 Z\" fill=\"#000000\" fill-rule=\"evenodd\" fill-opacity=\"1\" /><path clip-path=\"url(#clip480)\" d=\"M 0 0 M1514.65 1457.51 Q1511.5 1457.51 1509.65 1459.66 Q1507.82 1461.81 1507.82 1465.56 Q1507.82 1469.29 1509.65 1471.47 Q1511.5 1473.62 1514.65 1473.62 Q1517.8 1473.62 1519.63 1471.47 Q1521.48 1469.29 1521.48 1465.56 Q1521.48 1461.81 1519.63 1459.66 Q1517.8 1457.51 1514.65 1457.51 M1523.93 1442.86 L1523.93 1447.11 Q1522.17 1446.28 1520.37 1445.84 Q1518.58 1445.4 1516.83 1445.4 Q1512.2 1445.4 1509.74 1448.53 Q1507.31 1451.65 1506.96 1457.97 Q1508.33 1455.96 1510.39 1454.89 Q1512.45 1453.8 1514.93 1453.8 Q1520.14 1453.8 1523.14 1456.98 Q1526.18 1460.12 1526.18 1465.56 Q1526.18 1470.89 1523.03 1474.11 Q1519.88 1477.32 1514.65 1477.32 Q1508.65 1477.32 1505.48 1472.74 Q1502.31 1468.13 1502.31 1459.41 Q1502.31 1451.21 1506.2 1446.35 Q1510.09 1441.47 1516.64 1441.47 Q1518.4 1441.47 1520.18 1441.81 Q1521.99 1442.16 1523.93 1442.86 Z\" fill=\"#000000\" fill-rule=\"evenodd\" fill-opacity=\"1\" /><path clip-path=\"url(#clip480)\" d=\"M 0 0 M1951.94 1460.24 Q1948.61 1460.24 1946.69 1462.02 Q1944.79 1463.8 1944.79 1466.93 Q1944.79 1470.05 1946.69 1471.84 Q1948.61 1473.62 1951.94 1473.62 Q1955.27 1473.62 1957.19 1471.84 Q1959.12 1470.03 1959.12 1466.93 Q1959.12 1463.8 1957.19 1462.02 Q1955.3 1460.24 1951.94 1460.24 M1947.26 1458.25 Q1944.26 1457.51 1942.57 1455.45 Q1940.9 1453.39 1940.9 1450.43 Q1940.9 1446.28 1943.84 1443.87 Q1946.8 1441.47 1951.94 1441.47 Q1957.1 1441.47 1960.04 1443.87 Q1962.98 1446.28 1962.98 1450.43 Q1962.98 1453.39 1961.29 1455.45 Q1959.63 1457.51 1956.64 1458.25 Q1960.02 1459.04 1961.89 1461.33 Q1963.79 1463.62 1963.79 1466.93 Q1963.79 1471.95 1960.71 1474.64 Q1957.66 1477.32 1951.94 1477.32 Q1946.22 1477.32 1943.14 1474.64 Q1940.09 1471.95 1940.09 1466.93 Q1940.09 1463.62 1941.99 1461.33 Q1943.88 1459.04 1947.26 1458.25 M1945.55 1450.86 Q1945.55 1453.55 1947.22 1455.05 Q1948.91 1456.56 1951.94 1456.56 Q1954.95 1456.56 1956.64 1455.05 Q1958.35 1453.55 1958.35 1450.86 Q1958.35 1448.18 1956.64 1446.68 Q1954.95 1445.17 1951.94 1445.17 Q1948.91 1445.17 1947.22 1446.68 Q1945.55 1448.18 1945.55 1450.86 Z\" fill=\"#000000\" fill-rule=\"evenodd\" fill-opacity=\"1\" /><path clip-path=\"url(#clip480)\" d=\"M 0 0 M140.01 1370.04 Q136.399 1370.04 134.57 1373.6 Q132.765 1377.14 132.765 1384.27 Q132.765 1391.38 134.57 1394.94 Q136.399 1398.49 140.01 1398.49 Q143.644 1398.49 145.45 1394.94 Q147.279 1391.38 147.279 1384.27 Q147.279 1377.14 145.45 1373.6 Q143.644 1370.04 140.01 1370.04 M140.01 1366.33 Q145.82 1366.33 148.876 1370.94 Q151.954 1375.52 151.954 1384.27 Q151.954 1393 148.876 1397.61 Q145.82 1402.19 140.01 1402.19 Q134.2 1402.19 131.121 1397.61 Q128.066 1393 128.066 1384.27 Q128.066 1375.52 131.121 1370.94 Q134.2 1366.33 140.01 1366.33 Z\" fill=\"#000000\" fill-rule=\"evenodd\" fill-opacity=\"1\" /><path clip-path=\"url(#clip480)\" d=\"M 0 0 M157.024 1395.64 L161.908 1395.64 L161.908 1401.52 L157.024 1401.52 L157.024 1395.64 Z\" fill=\"#000000\" fill-rule=\"evenodd\" fill-opacity=\"1\" /><path clip-path=\"url(#clip480)\" d=\"M 0 0 M165.797 1366.96 L188.019 1366.96 L188.019 1368.95 L175.473 1401.52 L170.589 1401.52 L182.394 1370.89 L165.797 1370.89 L165.797 1366.96 Z\" fill=\"#000000\" fill-rule=\"evenodd\" fill-opacity=\"1\" /><path clip-path=\"url(#clip480)\" d=\"M 0 0 M193.135 1366.96 L211.491 1366.96 L211.491 1370.89 L197.417 1370.89 L197.417 1379.37 Q198.436 1379.02 199.454 1378.86 Q200.473 1378.67 201.491 1378.67 Q207.278 1378.67 210.658 1381.84 Q214.037 1385.01 214.037 1390.43 Q214.037 1396.01 210.565 1399.11 Q207.093 1402.19 200.774 1402.19 Q198.598 1402.19 196.329 1401.82 Q194.084 1401.45 191.676 1400.71 L191.676 1396.01 Q193.76 1397.14 195.982 1397.7 Q198.204 1398.25 200.681 1398.25 Q204.686 1398.25 207.024 1396.15 Q209.362 1394.04 209.362 1390.43 Q209.362 1386.82 207.024 1384.71 Q204.686 1382.61 200.681 1382.61 Q198.806 1382.61 196.931 1383.02 Q195.079 1383.44 193.135 1384.32 L193.135 1366.96 Z\" fill=\"#000000\" fill-rule=\"evenodd\" fill-opacity=\"1\" /><path clip-path=\"url(#clip480)\" d=\"M 0 0 M138.205 937.353 Q134.593 937.353 132.765 940.918 Q130.959 944.459 130.959 951.589 Q130.959 958.695 132.765 962.26 Q134.593 965.802 138.205 965.802 Q141.839 965.802 143.644 962.26 Q145.473 958.695 145.473 951.589 Q145.473 944.459 143.644 940.918 Q141.839 937.353 138.205 937.353 M138.205 933.649 Q144.015 933.649 147.07 938.256 Q150.149 942.839 150.149 951.589 Q150.149 960.316 147.07 964.922 Q144.015 969.505 138.205 969.505 Q132.394 969.505 129.316 964.922 Q126.26 960.316 126.26 951.589 Q126.26 942.839 129.316 938.256 Q132.394 933.649 138.205 933.649 Z\" fill=\"#000000\" fill-rule=\"evenodd\" fill-opacity=\"1\" /><path clip-path=\"url(#clip480)\" d=\"M 0 0 M155.218 962.954 L160.103 962.954 L160.103 968.834 L155.218 968.834 L155.218 962.954 Z\" fill=\"#000000\" fill-rule=\"evenodd\" fill-opacity=\"1\" /><path clip-path=\"url(#clip480)\" d=\"M 0 0 M175.172 952.422 Q171.839 952.422 169.917 954.205 Q168.019 955.987 168.019 959.112 Q168.019 962.237 169.917 964.019 Q171.839 965.802 175.172 965.802 Q178.505 965.802 180.427 964.019 Q182.348 962.214 182.348 959.112 Q182.348 955.987 180.427 954.205 Q178.528 952.422 175.172 952.422 M170.496 950.431 Q167.487 949.691 165.797 947.63 Q164.13 945.57 164.13 942.607 Q164.13 938.464 167.07 936.056 Q170.033 933.649 175.172 933.649 Q180.334 933.649 183.274 936.056 Q186.214 938.464 186.214 942.607 Q186.214 945.57 184.524 947.63 Q182.857 949.691 179.871 950.431 Q183.251 951.218 185.126 953.51 Q187.024 955.802 187.024 959.112 Q187.024 964.135 183.945 966.82 Q180.889 969.505 175.172 969.505 Q169.454 969.505 166.376 966.82 Q163.32 964.135 163.32 959.112 Q163.32 955.802 165.218 953.51 Q167.116 951.218 170.496 950.431 M168.783 943.047 Q168.783 945.732 170.45 947.237 Q172.14 948.742 175.172 948.742 Q178.181 948.742 179.871 947.237 Q181.584 945.732 181.584 943.047 Q181.584 940.362 179.871 938.857 Q178.181 937.353 175.172 937.353 Q172.14 937.353 170.45 938.857 Q168.783 940.362 168.783 943.047 Z\" fill=\"#000000\" fill-rule=\"evenodd\" fill-opacity=\"1\" /><path clip-path=\"url(#clip480)\" d=\"M 0 0 M202.093 937.353 Q198.482 937.353 196.653 940.918 Q194.848 944.459 194.848 951.589 Q194.848 958.695 196.653 962.26 Q198.482 965.802 202.093 965.802 Q205.727 965.802 207.533 962.26 Q209.362 958.695 209.362 951.589 Q209.362 944.459 207.533 940.918 Q205.727 937.353 202.093 937.353 M202.093 933.649 Q207.903 933.649 210.959 938.256 Q214.037 942.839 214.037 951.589 Q214.037 960.316 210.959 964.922 Q207.903 969.505 202.093 969.505 Q196.283 969.505 193.204 964.922 Q190.149 960.316 190.149 951.589 Q190.149 942.839 193.204 938.256 Q196.283 933.649 202.093 933.649 Z\" fill=\"#000000\" fill-rule=\"evenodd\" fill-opacity=\"1\" /><path clip-path=\"url(#clip480)\" d=\"M 0 0 M139.2 504.669 Q135.589 504.669 133.76 508.233 Q131.955 511.775 131.955 518.905 Q131.955 526.011 133.76 529.576 Q135.589 533.117 139.2 533.117 Q142.834 533.117 144.64 529.576 Q146.468 526.011 146.468 518.905 Q146.468 511.775 144.64 508.233 Q142.834 504.669 139.2 504.669 M139.2 500.965 Q145.01 500.965 148.066 505.571 Q151.144 510.155 151.144 518.905 Q151.144 527.631 148.066 532.238 Q145.01 536.821 139.2 536.821 Q133.39 536.821 130.311 532.238 Q127.256 527.631 127.256 518.905 Q127.256 510.155 130.311 505.571 Q133.39 500.965 139.2 500.965 Z\" fill=\"#000000\" fill-rule=\"evenodd\" fill-opacity=\"1\" /><path clip-path=\"url(#clip480)\" d=\"M 0 0 M156.214 530.27 L161.098 530.27 L161.098 536.15 L156.214 536.15 L156.214 530.27 Z\" fill=\"#000000\" fill-rule=\"evenodd\" fill-opacity=\"1\" /><path clip-path=\"url(#clip480)\" d=\"M 0 0 M176.167 519.738 Q172.834 519.738 170.913 521.52 Q169.015 523.303 169.015 526.428 Q169.015 529.553 170.913 531.335 Q172.834 533.117 176.167 533.117 Q179.501 533.117 181.422 531.335 Q183.343 529.53 183.343 526.428 Q183.343 523.303 181.422 521.52 Q179.524 519.738 176.167 519.738 M171.491 517.747 Q168.482 517.006 166.792 514.946 Q165.126 512.886 165.126 509.923 Q165.126 505.78 168.065 503.372 Q171.028 500.965 176.167 500.965 Q181.329 500.965 184.269 503.372 Q187.209 505.78 187.209 509.923 Q187.209 512.886 185.519 514.946 Q183.852 517.006 180.866 517.747 Q184.246 518.534 186.121 520.826 Q188.019 523.118 188.019 526.428 Q188.019 531.451 184.94 534.136 Q181.885 536.821 176.167 536.821 Q170.45 536.821 167.371 534.136 Q164.316 531.451 164.316 526.428 Q164.316 523.118 166.214 520.826 Q168.112 518.534 171.491 517.747 M169.778 510.363 Q169.778 513.048 171.445 514.553 Q173.135 516.057 176.167 516.057 Q179.177 516.057 180.866 514.553 Q182.579 513.048 182.579 510.363 Q182.579 507.678 180.866 506.173 Q179.177 504.669 176.167 504.669 Q173.135 504.669 171.445 506.173 Q169.778 507.678 169.778 510.363 Z\" fill=\"#000000\" fill-rule=\"evenodd\" fill-opacity=\"1\" /><path clip-path=\"url(#clip480)\" d=\"M 0 0 M193.135 501.59 L211.491 501.59 L211.491 505.525 L197.417 505.525 L197.417 513.997 Q198.436 513.65 199.454 513.488 Q200.473 513.303 201.491 513.303 Q207.278 513.303 210.658 516.474 Q214.037 519.645 214.037 525.062 Q214.037 530.641 210.565 533.742 Q207.093 536.821 200.774 536.821 Q198.598 536.821 196.329 536.451 Q194.084 536.08 191.676 535.34 L191.676 530.641 Q193.76 531.775 195.982 532.33 Q198.204 532.886 200.681 532.886 Q204.686 532.886 207.024 530.78 Q209.362 528.673 209.362 525.062 Q209.362 521.451 207.024 519.344 Q204.686 517.238 200.681 517.238 Q198.806 517.238 196.931 517.655 Q195.079 518.071 193.135 518.951 L193.135 501.59 Z\" fill=\"#000000\" fill-rule=\"evenodd\" fill-opacity=\"1\" /><path clip-path=\"url(#clip480)\" d=\"M 0 0 M138.297 71.9844 Q134.686 71.9844 132.857 75.5492 Q131.052 79.0908 131.052 86.2204 Q131.052 93.3268 132.857 96.8916 Q134.686 100.433 138.297 100.433 Q141.931 100.433 143.737 96.8916 Q145.566 93.3268 145.566 86.2204 Q145.566 79.0908 143.737 75.5492 Q141.931 71.9844 138.297 71.9844 M138.297 68.2807 Q144.107 68.2807 147.163 72.8871 Q150.242 77.4704 150.242 86.2204 Q150.242 94.9472 147.163 99.5537 Q144.107 104.137 138.297 104.137 Q132.487 104.137 129.408 99.5537 Q126.353 94.9472 126.353 86.2204 Q126.353 77.4704 129.408 72.8871 Q132.487 68.2807 138.297 68.2807 Z\" fill=\"#000000\" fill-rule=\"evenodd\" fill-opacity=\"1\" /><path clip-path=\"url(#clip480)\" d=\"M 0 0 M155.311 97.5861 L160.195 97.5861 L160.195 103.466 L155.311 103.466 L155.311 97.5861 Z\" fill=\"#000000\" fill-rule=\"evenodd\" fill-opacity=\"1\" /><path clip-path=\"url(#clip480)\" d=\"M 0 0 M165.403 102.748 L165.403 98.4888 Q167.163 99.3222 168.968 99.762 Q170.774 100.202 172.51 100.202 Q177.14 100.202 179.57 97.1 Q182.024 93.975 182.371 87.6324 Q181.028 89.6232 178.968 90.688 Q176.908 91.7528 174.408 91.7528 Q169.223 91.7528 166.19 88.6278 Q163.181 85.4797 163.181 80.0399 Q163.181 74.7158 166.329 71.4983 Q169.478 68.2807 174.709 68.2807 Q180.704 68.2807 183.852 72.8871 Q187.024 77.4704 187.024 86.2204 Q187.024 94.3916 183.135 99.2759 Q179.269 104.137 172.718 104.137 Q170.959 104.137 169.153 103.79 Q167.348 103.443 165.403 102.748 M174.709 88.0954 Q177.857 88.0954 179.686 85.9426 Q181.538 83.7899 181.538 80.0399 Q181.538 76.313 179.686 74.1603 Q177.857 71.9844 174.709 71.9844 Q171.561 71.9844 169.709 74.1603 Q167.88 76.313 167.88 80.0399 Q167.88 83.7899 169.709 85.9426 Q171.561 88.0954 174.709 88.0954 Z\" fill=\"#000000\" fill-rule=\"evenodd\" fill-opacity=\"1\" /><path clip-path=\"url(#clip480)\" d=\"M 0 0 M202.093 71.9844 Q198.482 71.9844 196.653 75.5492 Q194.848 79.0908 194.848 86.2204 Q194.848 93.3268 196.653 96.8916 Q198.482 100.433 202.093 100.433 Q205.727 100.433 207.533 96.8916 Q209.362 93.3268 209.362 86.2204 Q209.362 79.0908 207.533 75.5492 Q205.727 71.9844 202.093 71.9844 M202.093 68.2807 Q207.903 68.2807 210.959 72.8871 Q214.037 77.4704 214.037 86.2204 Q214.037 94.9472 210.959 99.5537 Q207.903 104.137 202.093 104.137 Q196.283 104.137 193.204 99.5537 Q190.149 94.9472 190.149 86.2204 Q190.149 77.4704 193.204 72.8871 Q196.283 68.2807 202.093 68.2807 Z\" fill=\"#000000\" fill-rule=\"evenodd\" fill-opacity=\"1\" /><path clip-path=\"url(#clip480)\" d=\"M 0 0 M1276.54 1508.52 L1282.97 1508.52 L1282.97 1528.61 L1304.29 1508.52 L1312.57 1508.52 L1288.98 1530.68 L1314.26 1556.04 L1305.79 1556.04 L1282.97 1533.16 L1282.97 1556.04 L1276.54 1556.04 L1276.54 1508.52 Z\" fill=\"#000000\" fill-rule=\"evenodd\" fill-opacity=\"1\" /><path clip-path=\"url(#clip480)\" d=\"M 0 0 M44.1444 1071.26 L50.9239 1071.26 Q47.9002 1074.5 46.4043 1078.2 Q44.9083 1081.86 44.9083 1085.99 Q44.9083 1094.14 49.9054 1098.47 Q54.8707 1102.8 64.2919 1102.8 Q73.6813 1102.8 78.6784 1098.47 Q83.6436 1094.14 83.6436 1085.99 Q83.6436 1081.86 82.1477 1078.2 Q80.6518 1074.5 77.6281 1071.26 L84.3439 1071.26 Q86.6355 1074.63 87.7814 1078.42 Q88.9272 1082.17 88.9272 1086.38 Q88.9272 1097.17 82.3387 1103.37 Q75.7183 1109.58 64.2919 1109.58 Q52.8336 1109.58 46.2451 1103.37 Q39.6248 1097.17 39.6248 1086.38 Q39.6248 1082.11 40.7706 1078.36 Q41.8846 1074.57 44.1444 1071.26 Z\" fill=\"#000000\" fill-rule=\"evenodd\" fill-opacity=\"1\" /><path clip-path=\"url(#clip480)\" d=\"M 0 0 M57.8307 1044.46 Q57.2578 1045.44 57.0032 1046.62 Q56.7167 1047.77 56.7167 1049.17 Q56.7167 1054.13 59.9632 1056.81 Q63.1779 1059.45 69.2253 1059.45 L88.0042 1059.45 L88.0042 1065.34 L52.3562 1065.34 L52.3562 1059.45 L57.8944 1059.45 Q54.6479 1057.6 53.0883 1054.64 Q51.4968 1051.68 51.4968 1047.45 Q51.4968 1046.85 51.5923 1046.11 Q51.656 1045.38 51.8151 1044.49 L57.8307 1044.46 Z\" fill=\"#000000\" fill-rule=\"evenodd\" fill-opacity=\"1\" /><path clip-path=\"url(#clip480)\" d=\"M 0 0 M56.4621 1025.93 Q56.4621 1030.64 60.1542 1033.38 Q63.8145 1036.12 70.212 1036.12 Q76.6095 1036.12 80.3017 1033.41 Q83.9619 1030.68 83.9619 1025.93 Q83.9619 1021.25 80.2698 1018.52 Q76.5777 1015.78 70.212 1015.78 Q63.8781 1015.78 60.186 1018.52 Q56.4621 1021.25 56.4621 1025.93 M51.4968 1025.93 Q51.4968 1018.29 56.4621 1013.93 Q61.4273 1009.57 70.212 1009.57 Q78.9649 1009.57 83.9619 1013.93 Q88.9272 1018.29 88.9272 1025.93 Q88.9272 1033.6 83.9619 1037.96 Q78.9649 1042.29 70.212 1042.29 Q61.4273 1042.29 56.4621 1037.96 Q51.4968 1033.6 51.4968 1025.93 Z\" fill=\"#000000\" fill-rule=\"evenodd\" fill-opacity=\"1\" /><path clip-path=\"url(#clip480)\" d=\"M 0 0 M53.4065 980.705 L58.9447 980.705 Q57.6716 983.188 57.035 985.862 Q56.3984 988.535 56.3984 991.4 Q56.3984 995.76 57.7352 997.957 Q59.072 1000.12 61.7456 1000.12 Q63.7826 1000.12 64.9603 998.561 Q66.1061 997.002 67.1565 992.291 L67.6021 990.286 Q68.9389 984.047 71.3897 981.438 Q73.8086 978.796 78.1691 978.796 Q83.1344 978.796 86.0308 982.742 Q88.9272 986.657 88.9272 993.532 Q88.9272 996.397 88.3543 999.516 Q87.8132 1002.6 86.6992 1006.04 L80.6518 1006.04 Q82.3387 1002.79 83.198 999.643 Q84.0256 996.492 84.0256 993.405 Q84.0256 989.267 82.6251 987.039 Q81.1929 984.811 78.6147 984.811 Q76.2276 984.811 74.9545 986.435 Q73.6813 988.026 72.5037 993.469 L72.0262 995.506 Q70.8804 1000.95 68.5251 1003.37 Q66.138 1005.79 62.0002 1005.79 Q56.9713 1005.79 54.2341 1002.22 Q51.4968 998.657 51.4968 992.1 Q51.4968 988.854 51.9743 985.989 Q52.4517 983.124 53.4065 980.705 Z\" fill=\"#000000\" fill-rule=\"evenodd\" fill-opacity=\"1\" /><path clip-path=\"url(#clip480)\" d=\"M 0 0 M53.4065 949.927 L58.9447 949.927 Q57.6716 952.41 57.035 955.083 Q56.3984 957.757 56.3984 960.622 Q56.3984 964.982 57.7352 967.178 Q59.072 969.343 61.7456 969.343 Q63.7826 969.343 64.9603 967.783 Q66.1061 966.223 67.1565 961.513 L67.6021 959.508 Q68.9389 953.269 71.3897 950.659 Q73.8086 948.018 78.1691 948.018 Q83.1344 948.018 86.0308 951.964 Q88.9272 955.879 88.9272 962.754 Q88.9272 965.619 88.3543 968.738 Q87.8132 971.825 86.6992 975.263 L80.6518 975.263 Q82.3387 972.016 83.198 968.865 Q84.0256 965.714 84.0256 962.627 Q84.0256 958.489 82.6251 956.261 Q81.1929 954.033 78.6147 954.033 Q76.2276 954.033 74.9545 955.656 Q73.6813 957.248 72.5037 962.69 L72.0262 964.728 Q70.8804 970.17 68.5251 972.589 Q66.138 975.008 62.0002 975.008 Q56.9713 975.008 54.2341 971.443 Q51.4968 967.879 51.4968 961.322 Q51.4968 958.075 51.9743 955.211 Q52.4517 952.346 53.4065 949.927 Z\" fill=\"#000000\" fill-rule=\"evenodd\" fill-opacity=\"1\" /><path clip-path=\"url(#clip480)\" d=\"M 0 0 M88.0042 908.646 L40.4842 926.788 L40.4842 920.072 L80.4926 905.017 L40.4842 889.93 L40.4842 883.246 L88.0042 901.357 L88.0042 908.646 Z\" fill=\"#000000\" fill-rule=\"evenodd\" fill-opacity=\"1\" /><path clip-path=\"url(#clip480)\" d=\"M 0 0 M70.0847 865.964 Q70.0847 873.061 71.7079 875.799 Q73.3312 878.536 77.2461 878.536 Q80.3653 878.536 82.2114 876.499 Q84.0256 874.43 84.0256 870.897 Q84.0256 866.027 80.5881 863.099 Q77.1188 860.139 71.3897 860.139 L70.0847 860.139 L70.0847 865.964 M67.6657 854.283 L88.0042 854.283 L88.0042 860.139 L82.5933 860.139 Q85.8398 862.144 87.3994 865.136 Q88.9272 868.128 88.9272 872.457 Q88.9272 877.931 85.8716 881.178 Q82.7843 884.392 77.6281 884.392 Q71.6125 884.392 68.5569 880.382 Q65.5014 876.34 65.5014 868.351 L65.5014 860.139 L64.9285 860.139 Q60.8862 860.139 58.6901 862.813 Q56.4621 865.454 56.4621 870.26 Q56.4621 873.316 57.1941 876.212 Q57.9262 879.109 59.3903 881.782 L53.9795 881.782 Q52.7381 878.568 52.1334 875.544 Q51.4968 872.52 51.4968 869.656 Q51.4968 861.921 55.5072 858.102 Q59.5176 854.283 67.6657 854.283 Z\" fill=\"#000000\" fill-rule=\"evenodd\" fill-opacity=\"1\" /><path clip-path=\"url(#clip480)\" d=\"M 0 0 M38.479 848.14 L38.479 842.283 L88.0042 842.283 L88.0042 848.14 L38.479 848.14 Z\" fill=\"#000000\" fill-rule=\"evenodd\" fill-opacity=\"1\" /><path clip-path=\"url(#clip480)\" d=\"M 0 0 M52.3562 836.14 L52.3562 830.284 L88.0042 830.284 L88.0042 836.14 L52.3562 836.14 M38.479 836.14 L38.479 830.284 L45.895 830.284 L45.895 836.14 L38.479 836.14 Z\" fill=\"#000000\" fill-rule=\"evenodd\" fill-opacity=\"1\" /><path clip-path=\"url(#clip480)\" d=\"M 0 0 M57.7671 800.683 L38.479 800.683 L38.479 794.827 L88.0042 794.827 L88.0042 800.683 L82.657 800.683 Q85.8398 802.529 87.3994 805.362 Q88.9272 808.163 88.9272 812.11 Q88.9272 818.571 83.771 822.645 Q78.6147 826.687 70.212 826.687 Q61.8093 826.687 56.6531 822.645 Q51.4968 818.571 51.4968 812.11 Q51.4968 808.163 53.0564 805.362 Q54.5842 802.529 57.7671 800.683 M70.212 820.64 Q76.6732 820.64 80.3653 817.998 Q84.0256 815.324 84.0256 810.677 Q84.0256 806.03 80.3653 803.357 Q76.6732 800.683 70.212 800.683 Q63.7508 800.683 60.0905 803.357 Q56.3984 806.03 56.3984 810.677 Q56.3984 815.324 60.0905 817.998 Q63.7508 820.64 70.212 820.64 Z\" fill=\"#000000\" fill-rule=\"evenodd\" fill-opacity=\"1\" /><path clip-path=\"url(#clip480)\" d=\"M 0 0 M70.0847 772.483 Q70.0847 779.581 71.7079 782.318 Q73.3312 785.055 77.2461 785.055 Q80.3653 785.055 82.2114 783.018 Q84.0256 780.95 84.0256 777.417 Q84.0256 772.547 80.5881 769.619 Q77.1188 766.659 71.3897 766.659 L70.0847 766.659 L70.0847 772.483 M67.6657 760.802 L88.0042 760.802 L88.0042 766.659 L82.5933 766.659 Q85.8398 768.664 87.3994 771.656 Q88.9272 774.648 88.9272 778.976 Q88.9272 784.451 85.8716 787.697 Q82.7843 790.912 77.6281 790.912 Q71.6125 790.912 68.5569 786.902 Q65.5014 782.859 65.5014 774.87 L65.5014 766.659 L64.9285 766.659 Q60.8862 766.659 58.6901 769.332 Q56.4621 771.974 56.4621 776.78 Q56.4621 779.836 57.1941 782.732 Q57.9262 785.628 59.3903 788.302 L53.9795 788.302 Q52.7381 785.087 52.1334 782.064 Q51.4968 779.04 51.4968 776.175 Q51.4968 768.441 55.5072 764.622 Q59.5176 760.802 67.6657 760.802 Z\" fill=\"#000000\" fill-rule=\"evenodd\" fill-opacity=\"1\" /><path clip-path=\"url(#clip480)\" d=\"M 0 0 M42.2347 748.866 L52.3562 748.866 L52.3562 736.803 L56.9077 736.803 L56.9077 748.866 L76.2594 748.866 Q80.6199 748.866 81.8613 747.689 Q83.1026 746.479 83.1026 742.819 L83.1026 736.803 L88.0042 736.803 L88.0042 742.819 Q88.0042 749.598 85.4897 752.177 Q82.9434 754.755 76.2594 754.755 L56.9077 754.755 L56.9077 759.052 L52.3562 759.052 L52.3562 754.755 L42.2347 754.755 L42.2347 748.866 Z\" fill=\"#000000\" fill-rule=\"evenodd\" fill-opacity=\"1\" /><path clip-path=\"url(#clip480)\" d=\"M 0 0 M52.3562 730.66 L52.3562 724.804 L88.0042 724.804 L88.0042 730.66 L52.3562 730.66 M38.479 730.66 L38.479 724.804 L45.895 724.804 L45.895 730.66 L38.479 730.66 Z\" fill=\"#000000\" fill-rule=\"evenodd\" fill-opacity=\"1\" /><path clip-path=\"url(#clip480)\" d=\"M 0 0 M56.4621 704.848 Q56.4621 709.558 60.1542 712.295 Q63.8145 715.033 70.212 715.033 Q76.6095 715.033 80.3017 712.327 Q83.9619 709.59 83.9619 704.848 Q83.9619 700.169 80.2698 697.431 Q76.5777 694.694 70.212 694.694 Q63.8781 694.694 60.186 697.431 Q56.4621 700.169 56.4621 704.848 M51.4968 704.848 Q51.4968 697.209 56.4621 692.848 Q61.4273 688.488 70.212 688.488 Q78.9649 688.488 83.9619 692.848 Q88.9272 697.209 88.9272 704.848 Q88.9272 712.518 83.9619 716.879 Q78.9649 721.207 70.212 721.207 Q61.4273 721.207 56.4621 716.879 Q51.4968 712.518 51.4968 704.848 Z\" fill=\"#000000\" fill-rule=\"evenodd\" fill-opacity=\"1\" /><path clip-path=\"url(#clip480)\" d=\"M 0 0 M66.4881 652.712 L88.0042 652.712 L88.0042 658.569 L66.679 658.569 Q61.6183 658.569 59.1038 660.542 Q56.5894 662.516 56.5894 666.462 Q56.5894 671.205 59.6131 673.942 Q62.6368 676.679 67.8567 676.679 L88.0042 676.679 L88.0042 682.568 L52.3562 682.568 L52.3562 676.679 L57.8944 676.679 Q54.6797 674.579 53.0883 671.746 Q51.4968 668.881 51.4968 665.157 Q51.4968 659.014 55.3163 655.863 Q59.1038 652.712 66.4881 652.712 Z\" fill=\"#000000\" fill-rule=\"evenodd\" fill-opacity=\"1\" /><path clip-path=\"url(#clip480)\" d=\"M 0 0 M46.818 609.712 L70.4666 618.433 L70.4666 600.959 L46.818 609.712 M40.4842 613.341 L40.4842 606.052 L88.0042 587.941 L88.0042 594.625 L75.8138 598.954 L75.8138 620.375 L88.0042 624.703 L88.0042 631.483 L40.4842 613.341 Z\" fill=\"#000000\" fill-rule=\"evenodd\" fill-opacity=\"1\" /><path clip-path=\"url(#clip480)\" d=\"M 0 0 M53.7248 557.29 L59.1993 557.29 Q57.8307 559.773 57.1623 562.288 Q56.4621 564.77 56.4621 567.316 Q56.4621 573.014 60.0905 576.165 Q63.6872 579.316 70.212 579.316 Q76.7369 579.316 80.3653 576.165 Q83.9619 573.014 83.9619 567.316 Q83.9619 564.77 83.2935 562.288 Q82.5933 559.773 81.2247 557.29 L86.6355 557.29 Q87.7814 559.741 88.3543 562.383 Q88.9272 564.993 88.9272 567.953 Q88.9272 576.006 83.8664 580.748 Q78.8057 585.491 70.212 585.491 Q61.491 585.491 56.4939 580.716 Q51.4968 575.91 51.4968 567.571 Q51.4968 564.866 52.0697 562.288 Q52.6108 559.709 53.7248 557.29 Z\" fill=\"#000000\" fill-rule=\"evenodd\" fill-opacity=\"1\" /><path clip-path=\"url(#clip480)\" d=\"M 0 0 M53.7248 525.494 L59.1993 525.494 Q57.8307 527.976 57.1623 530.491 Q56.4621 532.973 56.4621 535.52 Q56.4621 541.217 60.0905 544.368 Q63.6872 547.519 70.212 547.519 Q76.7369 547.519 80.3653 544.368 Q83.9619 541.217 83.9619 535.52 Q83.9619 532.973 83.2935 530.491 Q82.5933 527.976 81.2247 525.494 L86.6355 525.494 Q87.7814 527.945 88.3543 530.586 Q88.9272 533.196 88.9272 536.156 Q88.9272 544.209 83.8664 548.951 Q78.8057 553.694 70.212 553.694 Q61.491 553.694 56.4939 548.92 Q51.4968 544.113 51.4968 535.774 Q51.4968 533.069 52.0697 530.491 Q52.6108 527.913 53.7248 525.494 Z\" fill=\"#000000\" fill-rule=\"evenodd\" fill-opacity=\"1\" /><path clip-path=\"url(#clip480)\" d=\"M 0 0 M73.9359 519.956 L52.3562 519.956 L52.3562 514.099 L73.7131 514.099 Q78.7739 514.099 81.3202 512.126 Q83.8346 510.152 83.8346 506.206 Q83.8346 501.463 80.8109 498.726 Q77.7872 495.957 72.5673 495.957 L52.3562 495.957 L52.3562 490.1 L88.0042 490.1 L88.0042 495.957 L82.5296 495.957 Q85.7762 498.089 87.3676 500.922 Q88.9272 503.723 88.9272 507.447 Q88.9272 513.59 85.1078 516.773 Q81.2883 519.956 73.9359 519.956 M51.4968 505.219 L51.4968 505.219 Z\" fill=\"#000000\" fill-rule=\"evenodd\" fill-opacity=\"1\" /><path clip-path=\"url(#clip480)\" d=\"M 0 0 M57.8307 463.301 Q57.2578 464.287 57.0032 465.465 Q56.7167 466.611 56.7167 468.011 Q56.7167 472.977 59.9632 475.65 Q63.1779 478.292 69.2253 478.292 L88.0042 478.292 L88.0042 484.18 L52.3562 484.18 L52.3562 478.292 L57.8944 478.292 Q54.6479 476.446 53.0883 473.486 Q51.4968 470.526 51.4968 466.293 Q51.4968 465.688 51.5923 464.956 Q51.656 464.224 51.8151 463.333 L57.8307 463.301 Z\" fill=\"#000000\" fill-rule=\"evenodd\" fill-opacity=\"1\" /><path clip-path=\"url(#clip480)\" d=\"M 0 0 M70.0847 440.957 Q70.0847 448.055 71.7079 450.792 Q73.3312 453.529 77.2461 453.529 Q80.3653 453.529 82.2114 451.492 Q84.0256 449.424 84.0256 445.891 Q84.0256 441.021 80.5881 438.093 Q77.1188 435.133 71.3897 435.133 L70.0847 435.133 L70.0847 440.957 M67.6657 429.276 L88.0042 429.276 L88.0042 435.133 L82.5933 435.133 Q85.8398 437.138 87.3994 440.13 Q88.9272 443.122 88.9272 447.45 Q88.9272 452.925 85.8716 456.171 Q82.7843 459.386 77.6281 459.386 Q71.6125 459.386 68.5569 455.376 Q65.5014 451.333 65.5014 443.344 L65.5014 435.133 L64.9285 435.133 Q60.8862 435.133 58.6901 437.806 Q56.4621 440.448 56.4621 445.254 Q56.4621 448.31 57.1941 451.206 Q57.9262 454.102 59.3903 456.776 L53.9795 456.776 Q52.7381 453.561 52.1334 450.538 Q51.4968 447.514 51.4968 444.649 Q51.4968 436.915 55.5072 433.096 Q59.5176 429.276 67.6657 429.276 Z\" fill=\"#000000\" fill-rule=\"evenodd\" fill-opacity=\"1\" /><path clip-path=\"url(#clip480)\" d=\"M 0 0 M53.7248 397.479 L59.1993 397.479 Q57.8307 399.962 57.1623 402.476 Q56.4621 404.959 56.4621 407.505 Q56.4621 413.203 60.0905 416.354 Q63.6872 419.505 70.212 419.505 Q76.7369 419.505 80.3653 416.354 Q83.9619 413.203 83.9619 407.505 Q83.9619 404.959 83.2935 402.476 Q82.5933 399.962 81.2247 397.479 L86.6355 397.479 Q87.7814 399.93 88.3543 402.572 Q88.9272 405.182 88.9272 408.142 Q88.9272 416.195 83.8664 420.937 Q78.8057 425.679 70.212 425.679 Q61.491 425.679 56.4939 420.905 Q51.4968 416.099 51.4968 407.76 Q51.4968 405.055 52.0697 402.476 Q52.6108 399.898 53.7248 397.479 Z\" fill=\"#000000\" fill-rule=\"evenodd\" fill-opacity=\"1\" /><path clip-path=\"url(#clip480)\" d=\"M 0 0 M91.3143 376.504 Q97.68 378.987 99.6216 381.342 Q101.563 383.698 101.563 387.644 L101.563 392.323 L96.6615 392.323 L96.6615 388.886 Q96.6615 386.467 95.5157 385.13 Q94.3699 383.793 90.1048 382.17 L87.4312 381.12 L52.3562 395.538 L52.3562 389.331 L80.238 378.191 L52.3562 367.051 L52.3562 360.845 L91.3143 376.504 Z\" fill=\"#000000\" fill-rule=\"evenodd\" fill-opacity=\"1\" /><path clip-path=\"url(#clip482)\" d=\"\n",
       "M1229.74 643.341 L1229.74 7874.5 L1361.05 7874.5 L1361.05 643.341 L1229.74 643.341 L1229.74 643.341  Z\n",
       "  \" fill=\"#009af9\" fill-rule=\"evenodd\" fill-opacity=\"1\"/>\n",
       "<polyline clip-path=\"url(#clip482)\" style=\"stroke:#000000; stroke-width:4; stroke-opacity:1; fill:none\" points=\"\n",
       "  1229.74,643.341 1229.74,7874.5 1361.05,7874.5 1361.05,643.341 1229.74,643.341 \n",
       "  \"/>\n",
       "<path clip-path=\"url(#clip482)\" d=\"\n",
       "M1448.59 346.982 L1448.59 7874.5 L1579.9 7874.5 L1579.9 346.982 L1448.59 346.982 L1448.59 346.982  Z\n",
       "  \" fill=\"#009af9\" fill-rule=\"evenodd\" fill-opacity=\"1\"/>\n",
       "<polyline clip-path=\"url(#clip482)\" style=\"stroke:#000000; stroke-width:4; stroke-opacity:1; fill:none\" points=\"\n",
       "  1448.59,346.982 1448.59,7874.5 1579.9,7874.5 1579.9,346.982 1448.59,346.982 \n",
       "  \"/>\n",
       "<path clip-path=\"url(#clip482)\" d=\"\n",
       "M2105.13 90.1371 L2105.13 7874.5 L2236.44 7874.5 L2236.44 90.1371 L2105.13 90.1371 L2105.13 90.1371  Z\n",
       "  \" fill=\"#009af9\" fill-rule=\"evenodd\" fill-opacity=\"1\"/>\n",
       "<polyline clip-path=\"url(#clip482)\" style=\"stroke:#000000; stroke-width:4; stroke-opacity:1; fill:none\" points=\"\n",
       "  2105.13,90.1371 2105.13,7874.5 2236.44,7874.5 2236.44,90.1371 2105.13,90.1371 \n",
       "  \"/>\n",
       "<path clip-path=\"url(#clip482)\" d=\"\n",
       "M792.047 682.855 L792.047 7874.5 L923.355 7874.5 L923.355 682.855 L792.047 682.855 L792.047 682.855  Z\n",
       "  \" fill=\"#009af9\" fill-rule=\"evenodd\" fill-opacity=\"1\"/>\n",
       "<polyline clip-path=\"url(#clip482)\" style=\"stroke:#000000; stroke-width:4; stroke-opacity:1; fill:none\" points=\"\n",
       "  792.047,682.855 792.047,7874.5 923.355,7874.5 923.355,682.855 792.047,682.855 \n",
       "  \"/>\n",
       "<path clip-path=\"url(#clip482)\" d=\"\n",
       "M1886.29 228.438 L1886.29 7874.5 L2017.59 7874.5 L2017.59 228.438 L1886.29 228.438 L1886.29 228.438  Z\n",
       "  \" fill=\"#009af9\" fill-rule=\"evenodd\" fill-opacity=\"1\"/>\n",
       "<polyline clip-path=\"url(#clip482)\" style=\"stroke:#000000; stroke-width:4; stroke-opacity:1; fill:none\" points=\"\n",
       "  1886.29,228.438 1886.29,7874.5 2017.59,7874.5 2017.59,228.438 1886.29,228.438 \n",
       "  \"/>\n",
       "<path clip-path=\"url(#clip482)\" d=\"\n",
       "M1667.44 307.467 L1667.44 7874.5 L1798.75 7874.5 L1798.75 307.467 L1667.44 307.467 L1667.44 307.467  Z\n",
       "  \" fill=\"#009af9\" fill-rule=\"evenodd\" fill-opacity=\"1\"/>\n",
       "<polyline clip-path=\"url(#clip482)\" style=\"stroke:#000000; stroke-width:4; stroke-opacity:1; fill:none\" points=\"\n",
       "  1667.44,307.467 1667.44,7874.5 1798.75,7874.5 1798.75,307.467 1667.44,307.467 \n",
       "  \"/>\n",
       "<path clip-path=\"url(#clip482)\" d=\"\n",
       "M573.199 1275.57 L573.199 7874.5 L704.507 7874.5 L704.507 1275.57 L573.199 1275.57 L573.199 1275.57  Z\n",
       "  \" fill=\"#009af9\" fill-rule=\"evenodd\" fill-opacity=\"1\"/>\n",
       "<polyline clip-path=\"url(#clip482)\" style=\"stroke:#000000; stroke-width:4; stroke-opacity:1; fill:none\" points=\"\n",
       "  573.199,1275.57 573.199,7874.5 704.507,7874.5 704.507,1275.57 573.199,1275.57 \n",
       "  \"/>\n",
       "<path clip-path=\"url(#clip482)\" d=\"\n",
       "M354.351 1058.24 L354.351 7874.5 L485.659 7874.5 L485.659 1058.24 L354.351 1058.24 L354.351 1058.24  Z\n",
       "  \" fill=\"#009af9\" fill-rule=\"evenodd\" fill-opacity=\"1\"/>\n",
       "<polyline clip-path=\"url(#clip482)\" style=\"stroke:#000000; stroke-width:4; stroke-opacity:1; fill:none\" points=\"\n",
       "  354.351,1058.24 354.351,7874.5 485.659,7874.5 485.659,1058.24 354.351,1058.24 \n",
       "  \"/>\n",
       "<path clip-path=\"url(#clip482)\" d=\"\n",
       "M1010.89 722.37 L1010.89 7874.5 L1142.2 7874.5 L1142.2 722.37 L1010.89 722.37 L1010.89 722.37  Z\n",
       "  \" fill=\"#009af9\" fill-rule=\"evenodd\" fill-opacity=\"1\"/>\n",
       "<polyline clip-path=\"url(#clip482)\" style=\"stroke:#000000; stroke-width:4; stroke-opacity:1; fill:none\" points=\"\n",
       "  1010.89,722.37 1010.89,7874.5 1142.2,7874.5 1142.2,722.37 1010.89,722.37 \n",
       "  \"/>\n",
       "<path clip-path=\"url(#clip480)\" d=\"\n",
       "M1996.28 1377.32 L2282.27 1377.32 L2282.27 1256.36 L1996.28 1256.36  Z\n",
       "  \" fill=\"#ffffff\" fill-rule=\"evenodd\" fill-opacity=\"1\"/>\n",
       "<polyline clip-path=\"url(#clip480)\" style=\"stroke:#000000; stroke-width:4; stroke-opacity:1; fill:none\" points=\"\n",
       "  1996.28,1377.32 2282.27,1377.32 2282.27,1256.36 1996.28,1256.36 1996.28,1377.32 \n",
       "  \"/>\n",
       "<path clip-path=\"url(#clip480)\" d=\"\n",
       "M2019.78 1341.03 L2160.76 1341.03 L2160.76 1292.64 L2019.78 1292.64 L2019.78 1341.03  Z\n",
       "  \" fill=\"#009af9\" fill-rule=\"evenodd\" fill-opacity=\"1\"/>\n",
       "<polyline clip-path=\"url(#clip480)\" style=\"stroke:#000000; stroke-width:4; stroke-opacity:1; fill:none\" points=\"\n",
       "  2019.78,1341.03 2160.76,1341.03 2160.76,1292.64 2019.78,1292.64 2019.78,1341.03 \n",
       "  \"/>\n",
       "<path clip-path=\"url(#clip480)\" d=\"M 0 0 M2198.1 1336.52 Q2196.29 1341.15 2194.58 1342.56 Q2192.86 1343.98 2189.99 1343.98 L2186.59 1343.98 L2186.59 1340.41 L2189.09 1340.41 Q2190.85 1340.41 2191.82 1339.58 Q2192.79 1338.74 2193.98 1335.64 L2194.74 1333.7 L2184.25 1308.19 L2188.77 1308.19 L2196.87 1328.47 L2204.97 1308.19 L2209.48 1308.19 L2198.1 1336.52 Z\" fill=\"#000000\" fill-rule=\"evenodd\" fill-opacity=\"1\" /><path clip-path=\"url(#clip480)\" d=\"M 0 0 M2215.36 1330.18 L2223 1330.18 L2223 1303.81 L2214.69 1305.48 L2214.69 1301.22 L2222.96 1299.56 L2227.63 1299.56 L2227.63 1330.18 L2235.27 1330.18 L2235.27 1334.12 L2215.36 1334.12 L2215.36 1330.18 Z\" fill=\"#000000\" fill-rule=\"evenodd\" fill-opacity=\"1\" /></svg>\n"
      ]
     },
     "execution_count": 127,
     "metadata": {},
     "output_type": "execute_result"
    }
   ],
   "source": [
    "bar(self_tuning_knn.report.plotting.parameter_values[:,1], \n",
    "    self_tuning_knn.report.plotting.measurements,\n",
    "    bar_width=0.6,\n",
    "    ylims=[0.75, 0.9], legend=:bottomright)\n",
    "xlabel!(\"K\")\n",
    "ylabel!(\"Cross Validation Accuracy\")"
   ]
  },
  {
   "cell_type": "code",
   "execution_count": 128,
   "metadata": {},
   "outputs": [],
   "source": [
    "fn = \"Figures/KNN_MCC\"\n",
    "png(replace(fn,'.' => ','))"
   ]
  },
  {
   "cell_type": "markdown",
   "metadata": {},
   "source": [
    "#### Manhattan"
   ]
  },
  {
   "cell_type": "code",
   "execution_count": 90,
   "metadata": {},
   "outputs": [
    {
     "data": {
      "text/plain": [
       "KNNClassifier(\n",
       "    K = 5,\n",
       "    algorithm = :kdtree,\n",
       "    metric = Cityblock(),\n",
       "    leafsize = 10,\n",
       "    reorder = true,\n",
       "    weights = :uniform)\u001b[34m @447\u001b[39m"
      ]
     },
     "execution_count": 90,
     "metadata": {},
     "output_type": "execute_result"
    }
   ],
   "source": [
    "knn_grid = KNNClassifier(metric=Cityblock())"
   ]
  },
  {
   "cell_type": "code",
   "execution_count": 98,
   "metadata": {},
   "outputs": [
    {
     "data": {
      "text/plain": [
       "MLJBase.NumericRange(Int64, :K, ... )"
      ]
     },
     "execution_count": 98,
     "metadata": {},
     "output_type": "execute_result"
    }
   ],
   "source": [
    "param1 = :K\n",
    "\n",
    "r1 = range(knn_grid, param1, lower=1, upper=9, scale=:linear)"
   ]
  },
  {
   "cell_type": "code",
   "execution_count": 99,
   "metadata": {
    "scrolled": true
   },
   "outputs": [
    {
     "data": {
      "text/plain": [
       "ProbabilisticTunedModel(\n",
       "    model = KNNClassifier(\n",
       "            K = 5,\n",
       "            algorithm = :kdtree,\n",
       "            metric = Cityblock(),\n",
       "            leafsize = 10,\n",
       "            reorder = true,\n",
       "            weights = :uniform),\n",
       "    tuning = Grid(\n",
       "            goal = 15,\n",
       "            resolution = 10,\n",
       "            shuffle = true,\n",
       "            rng = Random._GLOBAL_RNG()),\n",
       "    resampling = CV(\n",
       "            nfolds = 6,\n",
       "            shuffle = true,\n",
       "            rng = Random._GLOBAL_RNG()),\n",
       "    measure = accuracy(),\n",
       "    weights = nothing,\n",
       "    operation = MLJModelInterface.predict_mode,\n",
       "    range = MLJBase.NumericRange{Int64,MLJBase.Bounded,Symbol}[\u001b[34mNumericRange{Int64,…} @291\u001b[39m],\n",
       "    train_best = true,\n",
       "    repeats = 1,\n",
       "    n = nothing,\n",
       "    acceleration = CPUThreads{Int64}(1),\n",
       "    acceleration_resampling = CPU1{Nothing}(nothing),\n",
       "    check_measure = true)\u001b[34m @471\u001b[39m"
      ]
     },
     "execution_count": 99,
     "metadata": {},
     "output_type": "execute_result"
    }
   ],
   "source": [
    "self_tuning_knn_model = TunedModel(model=knn_grid,\n",
    "                                    tuning=Grid(goal=15),\n",
    "                                    resampling=CV(nfolds=6, shuffle=true), \n",
    "                                    measure=accuracy,\n",
    "                                    acceleration=CPUThreads(),\n",
    "                                    range=[r1], \n",
    "                                    operation=predict_mode)"
   ]
  },
  {
   "cell_type": "code",
   "execution_count": 100,
   "metadata": {},
   "outputs": [
    {
     "data": {
      "text/plain": [
       "\u001b[34mMachine{ProbabilisticTunedModel{Grid,…}} @349\u001b[39m trained 0 times.\n",
       "  args: \n",
       "    1:\t\u001b[34mSource @673\u001b[39m ⏎ `Table{AbstractArray{Continuous,1}}`\n",
       "    2:\t\u001b[34mSource @660\u001b[39m ⏎ `AbstractArray{Multiclass{3},1}`\n"
      ]
     },
     "execution_count": 100,
     "metadata": {},
     "output_type": "execute_result"
    }
   ],
   "source": [
    "self_tuning_knn = machine(self_tuning_knn_model, X, y)"
   ]
  },
  {
   "cell_type": "code",
   "execution_count": 101,
   "metadata": {
    "scrolled": true
   },
   "outputs": [
    {
     "name": "stderr",
     "output_type": "stream",
     "text": [
      "┌ Info: Training \u001b[34mMachine{ProbabilisticTunedModel{Grid,…}} @349\u001b[39m.\n",
      "└ @ MLJBase /home/andrew/.julia/packages/MLJBase/uKzAz/src/machines.jl:319\n",
      "┌ Info: Attempting to evaluate 9 models.\n",
      "└ @ MLJTuning /home/andrew/.julia/packages/MLJTuning/Bbgvk/src/tuned_models.jl:494\n",
      "\u001b[33mEvaluating over 9 metamodels: 100%[=========================] Time: 0:00:00\u001b[39m\n"
     ]
    },
    {
     "data": {
      "text/plain": [
       "\u001b[34mMachine{ProbabilisticTunedModel{Grid,…}} @349\u001b[39m trained 1 time.\n",
       "  args: \n",
       "    1:\t\u001b[34mSource @673\u001b[39m ⏎ `Table{AbstractArray{Continuous,1}}`\n",
       "    2:\t\u001b[34mSource @660\u001b[39m ⏎ `AbstractArray{Multiclass{3},1}`\n"
      ]
     },
     "execution_count": 101,
     "metadata": {},
     "output_type": "execute_result"
    }
   ],
   "source": [
    "z = fit!(self_tuning_knn, rows=train)"
   ]
  },
  {
   "cell_type": "code",
   "execution_count": 102,
   "metadata": {},
   "outputs": [
    {
     "data": {
      "text/plain": [
       "(best_model = \u001b[34mKNNClassifier @163\u001b[39m,\n",
       " best_fitted_params = (tree = NearestNeighbors.KDTree{StaticArrays.SArray{Tuple{4},Float64,1,4},Euclidean,Float64}\n",
       "  Number of points: 438\n",
       "  Dimensions: 4\n",
       "  Metric: Euclidean(0.0)\n",
       "  Reordered: true,),)"
      ]
     },
     "execution_count": 102,
     "metadata": {},
     "output_type": "execute_result"
    }
   ],
   "source": [
    "best_Man = fitted_params(self_tuning_knn)\n",
    "best_Man"
   ]
  },
  {
   "cell_type": "code",
   "execution_count": 103,
   "metadata": {},
   "outputs": [
    {
     "data": {
      "text/plain": [
       "KNNClassifier(\n",
       "    K = 9,\n",
       "    algorithm = :kdtree,\n",
       "    metric = Cityblock(),\n",
       "    leafsize = 10,\n",
       "    reorder = true,\n",
       "    weights = :uniform)\u001b[34m @163\u001b[39m"
      ]
     },
     "execution_count": 103,
     "metadata": {},
     "output_type": "execute_result"
    }
   ],
   "source": [
    "best_Man.best_model"
   ]
  },
  {
   "cell_type": "markdown",
   "metadata": {},
   "source": [
    "**Learning Curves**"
   ]
  },
  {
   "cell_type": "code",
   "execution_count": 104,
   "metadata": {
    "scrolled": true
   },
   "outputs": [
    {
     "name": "stdout",
     "output_type": "stream",
     "text": [
      "(d, train_metric, valid_metric) = (10, 0.6, 0.38636363636363635)\n",
      "(d, train_metric, valid_metric) = (15, 0.6, 0.5113636363636364)\n",
      "(d, train_metric, valid_metric) = (20, 0.85, 0.6022727272727273)\n",
      "(d, train_metric, valid_metric) = (25, 0.84, 0.625)\n",
      "(d, train_metric, valid_metric) = (30, 0.7333333333333333, 0.5681818181818182)\n",
      "(d, train_metric, valid_metric) = (35, 0.8571428571428571, 0.6818181818181818)\n",
      "(d, train_metric, valid_metric) = (40, 0.9, 0.7272727272727273)\n",
      "(d, train_metric, valid_metric) = (45, 0.8888888888888888, 0.7613636363636364)\n",
      "(d, train_metric, valid_metric) = (50, 0.9, 0.7386363636363636)\n",
      "(d, train_metric, valid_metric) = (55, 0.9090909090909091, 0.7727272727272727)\n",
      "(d, train_metric, valid_metric) = (60, 0.9166666666666666, 0.7840909090909091)\n",
      "(d, train_metric, valid_metric) = (65, 0.9076923076923077, 0.7954545454545454)\n",
      "(d, train_metric, valid_metric) = (70, 0.9, 0.8068181818181818)\n",
      "(d, train_metric, valid_metric) = (75, 0.88, 0.8068181818181818)\n",
      "(d, train_metric, valid_metric) = (80, 0.9, 0.7727272727272727)\n",
      "(d, train_metric, valid_metric) = (85, 0.8941176470588236, 0.7727272727272727)\n",
      "(d, train_metric, valid_metric) = (90, 0.9, 0.7840909090909091)\n",
      "(d, train_metric, valid_metric) = (95, 0.8947368421052632, 0.7840909090909091)\n",
      "(d, train_metric, valid_metric) = (100, 0.91, 0.7954545454545454)\n",
      "(d, train_metric, valid_metric) = (105, 0.8952380952380953, 0.8068181818181818)\n",
      "(d, train_metric, valid_metric) = (110, 0.9, 0.8409090909090909)\n",
      "(d, train_metric, valid_metric) = (115, 0.8869565217391304, 0.7954545454545454)\n",
      "(d, train_metric, valid_metric) = (120, 0.8833333333333333, 0.8181818181818182)\n",
      "(d, train_metric, valid_metric) = (125, 0.904, 0.8295454545454546)\n",
      "(d, train_metric, valid_metric) = (130, 0.9076923076923077, 0.8409090909090909)\n",
      "(d, train_metric, valid_metric) = (135, 0.9037037037037037, 0.8409090909090909)\n",
      "(d, train_metric, valid_metric) = (140, 0.8928571428571429, 0.8295454545454546)\n",
      "(d, train_metric, valid_metric) = (145, 0.9103448275862069, 0.8181818181818182)\n",
      "(d, train_metric, valid_metric) = (150, 0.9066666666666666, 0.8522727272727273)\n",
      "(d, train_metric, valid_metric) = (155, 0.9032258064516129, 0.8522727272727273)\n",
      "(d, train_metric, valid_metric) = (160, 0.925, 0.8522727272727273)\n",
      "(d, train_metric, valid_metric) = (165, 0.9090909090909091, 0.8181818181818182)\n",
      "(d, train_metric, valid_metric) = (170, 0.9117647058823529, 0.8409090909090909)\n",
      "(d, train_metric, valid_metric) = (175, 0.9085714285714286, 0.8295454545454546)\n",
      "(d, train_metric, valid_metric) = (180, 0.9222222222222223, 0.8295454545454546)\n",
      "(d, train_metric, valid_metric) = (185, 0.9081081081081082, 0.8409090909090909)\n",
      "(d, train_metric, valid_metric) = (190, 0.9210526315789473, 0.8522727272727273)\n",
      "(d, train_metric, valid_metric) = (195, 0.9179487179487179, 0.8409090909090909)\n",
      "(d, train_metric, valid_metric) = (200, 0.925, 0.8409090909090909)\n",
      "(d, train_metric, valid_metric) = (205, 0.9317073170731708, 0.8409090909090909)\n",
      "(d, train_metric, valid_metric) = (210, 0.9238095238095239, 0.8409090909090909)\n",
      "(d, train_metric, valid_metric) = (215, 0.9162790697674419, 0.8636363636363636)\n",
      "(d, train_metric, valid_metric) = (220, 0.9136363636363637, 0.8522727272727273)\n",
      "(d, train_metric, valid_metric) = (225, 0.92, 0.8522727272727273)\n",
      "(d, train_metric, valid_metric) = (230, 0.9173913043478261, 0.8409090909090909)\n",
      "(d, train_metric, valid_metric) = (235, 0.9234042553191489, 0.8522727272727273)\n",
      "(d, train_metric, valid_metric) = (240, 0.9166666666666666, 0.8522727272727273)\n",
      "(d, train_metric, valid_metric) = (245, 0.9224489795918367, 0.8409090909090909)\n",
      "(d, train_metric, valid_metric) = (250, 0.912, 0.8522727272727273)\n",
      "(d, train_metric, valid_metric) = (255, 0.9176470588235294, 0.8409090909090909)\n",
      "(d, train_metric, valid_metric) = (260, 0.926923076923077, 0.8295454545454546)\n",
      "(d, train_metric, valid_metric) = (265, 0.9245283018867925, 0.8295454545454546)\n",
      "(d, train_metric, valid_metric) = (270, 0.9185185185185185, 0.8522727272727273)\n",
      "(d, train_metric, valid_metric) = (275, 0.9236363636363636, 0.8636363636363636)\n",
      "(d, train_metric, valid_metric) = (280, 0.9214285714285714, 0.8636363636363636)\n",
      "(d, train_metric, valid_metric) = (285, 0.9157894736842105, 0.8522727272727273)\n",
      "(d, train_metric, valid_metric) = (290, 0.906896551724138, 0.8522727272727273)\n",
      "(d, train_metric, valid_metric) = (295, 0.9152542372881356, 0.8522727272727273)\n",
      "(d, train_metric, valid_metric) = (300, 0.91, 0.8522727272727273)\n",
      "(d, train_metric, valid_metric) = (305, 0.9081967213114754, 0.8636363636363636)\n",
      "(d, train_metric, valid_metric) = (310, 0.9193548387096774, 0.8522727272727273)\n",
      "(d, train_metric, valid_metric) = (315, 0.9111111111111111, 0.8522727272727273)\n",
      "(d, train_metric, valid_metric) = (320, 0.90625, 0.8522727272727273)\n",
      "(d, train_metric, valid_metric) = (325, 0.9015384615384615, 0.8522727272727273)\n",
      "(d, train_metric, valid_metric) = (330, 0.9090909090909091, 0.8522727272727273)\n",
      "(d, train_metric, valid_metric) = (335, 0.9104477611940298, 0.8636363636363636)\n",
      "(d, train_metric, valid_metric) = (340, 0.9205882352941176, 0.8636363636363636)\n",
      "(d, train_metric, valid_metric) = (345, 0.9159420289855073, 0.8863636363636364)\n",
      "(d, train_metric, valid_metric) = (350, 0.9114285714285715, 0.8522727272727273)\n"
     ]
    },
    {
     "data": {
      "text/plain": [
       "(10:5:350, Any[0.6, 0.6, 0.85, 0.84, 0.7333333333333333, 0.8571428571428571, 0.9, 0.8888888888888888, 0.9, 0.9090909090909091  …  0.9081967213114754, 0.9193548387096774, 0.9111111111111111, 0.90625, 0.9015384615384615, 0.9090909090909091, 0.9104477611940298, 0.9205882352941176, 0.9159420289855073, 0.9114285714285715], Any[0.38636363636363635, 0.5113636363636364, 0.6022727272727273, 0.625, 0.5681818181818182, 0.6818181818181818, 0.7272727272727273, 0.7613636363636364, 0.7386363636363636, 0.7727272727272727  …  0.8636363636363636, 0.8522727272727273, 0.8522727272727273, 0.8522727272727273, 0.8522727272727273, 0.8522727272727273, 0.8636363636363636, 0.8636363636363636, 0.8863636363636364, 0.8522727272727273])"
      ]
     },
     "execution_count": 104,
     "metadata": {},
     "output_type": "execute_result"
    }
   ],
   "source": [
    "data_schedule, training_losses, valid_losses = learn_curve(best_Man.best_model, X[train,:], y[train], acc)"
   ]
  },
  {
   "cell_type": "code",
   "execution_count": 105,
   "metadata": {},
   "outputs": [
    {
     "data": {
      "image/svg+xml": [
       "<?xml version=\"1.0\" encoding=\"utf-8\"?>\n",
       "<svg xmlns=\"http://www.w3.org/2000/svg\" xmlns:xlink=\"http://www.w3.org/1999/xlink\" width=\"600\" height=\"400\" viewBox=\"0 0 2400 1600\">\n",
       "<defs>\n",
       "  <clipPath id=\"clip350\">\n",
       "    <rect x=\"0\" y=\"0\" width=\"2400\" height=\"1600\"/>\n",
       "  </clipPath>\n",
       "</defs>\n",
       "<path clip-path=\"url(#clip350)\" d=\"\n",
       "M0 1600 L2400 1600 L2400 0 L0 0  Z\n",
       "  \" fill=\"#ffffff\" fill-rule=\"evenodd\" fill-opacity=\"1\"/>\n",
       "<defs>\n",
       "  <clipPath id=\"clip351\">\n",
       "    <rect x=\"480\" y=\"0\" width=\"1681\" height=\"1600\"/>\n",
       "  </clipPath>\n",
       "</defs>\n",
       "<path clip-path=\"url(#clip350)\" d=\"\n",
       "M211.602 1423.18 L2352.76 1423.18 L2352.76 47.2441 L211.602 47.2441  Z\n",
       "  \" fill=\"#ffffff\" fill-rule=\"evenodd\" fill-opacity=\"1\"/>\n",
       "<defs>\n",
       "  <clipPath id=\"clip352\">\n",
       "    <rect x=\"211\" y=\"47\" width=\"2142\" height=\"1377\"/>\n",
       "  </clipPath>\n",
       "</defs>\n",
       "<polyline clip-path=\"url(#clip352)\" style=\"stroke:#000000; stroke-width:2; stroke-opacity:0.1; fill:none\" points=\"\n",
       "  212.791,1423.18 212.791,47.2441 \n",
       "  \"/>\n",
       "<polyline clip-path=\"url(#clip352)\" style=\"stroke:#000000; stroke-width:2; stroke-opacity:0.1; fill:none\" points=\"\n",
       "  806.895,1423.18 806.895,47.2441 \n",
       "  \"/>\n",
       "<polyline clip-path=\"url(#clip352)\" style=\"stroke:#000000; stroke-width:2; stroke-opacity:0.1; fill:none\" points=\"\n",
       "  1401,1423.18 1401,47.2441 \n",
       "  \"/>\n",
       "<polyline clip-path=\"url(#clip352)\" style=\"stroke:#000000; stroke-width:2; stroke-opacity:0.1; fill:none\" points=\"\n",
       "  1995.1,1423.18 1995.1,47.2441 \n",
       "  \"/>\n",
       "<polyline clip-path=\"url(#clip352)\" style=\"stroke:#000000; stroke-width:2; stroke-opacity:0.1; fill:none\" points=\"\n",
       "  211.602,1351.78 2352.76,1351.78 \n",
       "  \"/>\n",
       "<polyline clip-path=\"url(#clip352)\" style=\"stroke:#000000; stroke-width:2; stroke-opacity:0.1; fill:none\" points=\"\n",
       "  211.602,1113.76 2352.76,1113.76 \n",
       "  \"/>\n",
       "<polyline clip-path=\"url(#clip352)\" style=\"stroke:#000000; stroke-width:2; stroke-opacity:0.1; fill:none\" points=\"\n",
       "  211.602,875.731 2352.76,875.731 \n",
       "  \"/>\n",
       "<polyline clip-path=\"url(#clip352)\" style=\"stroke:#000000; stroke-width:2; stroke-opacity:0.1; fill:none\" points=\"\n",
       "  211.602,637.706 2352.76,637.706 \n",
       "  \"/>\n",
       "<polyline clip-path=\"url(#clip352)\" style=\"stroke:#000000; stroke-width:2; stroke-opacity:0.1; fill:none\" points=\"\n",
       "  211.602,399.682 2352.76,399.682 \n",
       "  \"/>\n",
       "<polyline clip-path=\"url(#clip352)\" style=\"stroke:#000000; stroke-width:2; stroke-opacity:0.1; fill:none\" points=\"\n",
       "  211.602,161.657 2352.76,161.657 \n",
       "  \"/>\n",
       "<polyline clip-path=\"url(#clip350)\" style=\"stroke:#000000; stroke-width:4; stroke-opacity:1; fill:none\" points=\"\n",
       "  211.602,1423.18 2352.76,1423.18 \n",
       "  \"/>\n",
       "<polyline clip-path=\"url(#clip350)\" style=\"stroke:#000000; stroke-width:4; stroke-opacity:1; fill:none\" points=\"\n",
       "  211.602,1423.18 211.602,47.2441 \n",
       "  \"/>\n",
       "<polyline clip-path=\"url(#clip350)\" style=\"stroke:#000000; stroke-width:4; stroke-opacity:1; fill:none\" points=\"\n",
       "  212.791,1423.18 212.791,1406.67 \n",
       "  \"/>\n",
       "<polyline clip-path=\"url(#clip350)\" style=\"stroke:#000000; stroke-width:4; stroke-opacity:1; fill:none\" points=\"\n",
       "  806.895,1423.18 806.895,1406.67 \n",
       "  \"/>\n",
       "<polyline clip-path=\"url(#clip350)\" style=\"stroke:#000000; stroke-width:4; stroke-opacity:1; fill:none\" points=\"\n",
       "  1401,1423.18 1401,1406.67 \n",
       "  \"/>\n",
       "<polyline clip-path=\"url(#clip350)\" style=\"stroke:#000000; stroke-width:4; stroke-opacity:1; fill:none\" points=\"\n",
       "  1995.1,1423.18 1995.1,1406.67 \n",
       "  \"/>\n",
       "<polyline clip-path=\"url(#clip350)\" style=\"stroke:#000000; stroke-width:4; stroke-opacity:1; fill:none\" points=\"\n",
       "  211.602,1351.78 237.296,1351.78 \n",
       "  \"/>\n",
       "<polyline clip-path=\"url(#clip350)\" style=\"stroke:#000000; stroke-width:4; stroke-opacity:1; fill:none\" points=\"\n",
       "  211.602,1113.76 237.296,1113.76 \n",
       "  \"/>\n",
       "<polyline clip-path=\"url(#clip350)\" style=\"stroke:#000000; stroke-width:4; stroke-opacity:1; fill:none\" points=\"\n",
       "  211.602,875.731 237.296,875.731 \n",
       "  \"/>\n",
       "<polyline clip-path=\"url(#clip350)\" style=\"stroke:#000000; stroke-width:4; stroke-opacity:1; fill:none\" points=\"\n",
       "  211.602,637.706 237.296,637.706 \n",
       "  \"/>\n",
       "<polyline clip-path=\"url(#clip350)\" style=\"stroke:#000000; stroke-width:4; stroke-opacity:1; fill:none\" points=\"\n",
       "  211.602,399.682 237.296,399.682 \n",
       "  \"/>\n",
       "<polyline clip-path=\"url(#clip350)\" style=\"stroke:#000000; stroke-width:4; stroke-opacity:1; fill:none\" points=\"\n",
       "  211.602,161.657 237.296,161.657 \n",
       "  \"/>\n",
       "<path clip-path=\"url(#clip350)\" d=\"M 0 0 M212.791 1445.17 Q209.18 1445.17 207.351 1448.74 Q205.545 1452.28 205.545 1459.41 Q205.545 1466.51 207.351 1470.08 Q209.18 1473.62 212.791 1473.62 Q216.425 1473.62 218.23 1470.08 Q220.059 1466.51 220.059 1459.41 Q220.059 1452.28 218.23 1448.74 Q216.425 1445.17 212.791 1445.17 M212.791 1441.47 Q218.601 1441.47 221.656 1446.07 Q224.735 1450.66 224.735 1459.41 Q224.735 1468.13 221.656 1472.74 Q218.601 1477.32 212.791 1477.32 Q206.98 1477.32 203.902 1472.74 Q200.846 1468.13 200.846 1459.41 Q200.846 1450.66 203.902 1446.07 Q206.98 1441.47 212.791 1441.47 Z\" fill=\"#000000\" fill-rule=\"evenodd\" fill-opacity=\"1\" /><path clip-path=\"url(#clip350)\" d=\"M 0 0 M770.264 1472.72 L777.902 1472.72 L777.902 1446.35 L769.592 1448.02 L769.592 1443.76 L777.856 1442.09 L782.532 1442.09 L782.532 1472.72 L790.171 1472.72 L790.171 1476.65 L770.264 1476.65 L770.264 1472.72 Z\" fill=\"#000000\" fill-rule=\"evenodd\" fill-opacity=\"1\" /><path clip-path=\"url(#clip350)\" d=\"M 0 0 M805.24 1445.17 Q801.629 1445.17 799.801 1448.74 Q797.995 1452.28 797.995 1459.41 Q797.995 1466.51 799.801 1470.08 Q801.629 1473.62 805.24 1473.62 Q808.875 1473.62 810.68 1470.08 Q812.509 1466.51 812.509 1459.41 Q812.509 1452.28 810.68 1448.74 Q808.875 1445.17 805.24 1445.17 M805.24 1441.47 Q811.05 1441.47 814.106 1446.07 Q817.185 1450.66 817.185 1459.41 Q817.185 1468.13 814.106 1472.74 Q811.05 1477.32 805.24 1477.32 Q799.43 1477.32 796.351 1472.74 Q793.296 1468.13 793.296 1459.41 Q793.296 1450.66 796.351 1446.07 Q799.43 1441.47 805.24 1441.47 Z\" fill=\"#000000\" fill-rule=\"evenodd\" fill-opacity=\"1\" /><path clip-path=\"url(#clip350)\" d=\"M 0 0 M832.254 1445.17 Q828.643 1445.17 826.814 1448.74 Q825.009 1452.28 825.009 1459.41 Q825.009 1466.51 826.814 1470.08 Q828.643 1473.62 832.254 1473.62 Q835.888 1473.62 837.694 1470.08 Q839.523 1466.51 839.523 1459.41 Q839.523 1452.28 837.694 1448.74 Q835.888 1445.17 832.254 1445.17 M832.254 1441.47 Q838.064 1441.47 841.12 1446.07 Q844.198 1450.66 844.198 1459.41 Q844.198 1468.13 841.12 1472.74 Q838.064 1477.32 832.254 1477.32 Q826.444 1477.32 823.365 1472.74 Q820.31 1468.13 820.31 1459.41 Q820.31 1450.66 823.365 1446.07 Q826.444 1441.47 832.254 1441.47 Z\" fill=\"#000000\" fill-rule=\"evenodd\" fill-opacity=\"1\" /><path clip-path=\"url(#clip350)\" d=\"M 0 0 M1368.64 1472.72 L1384.96 1472.72 L1384.96 1476.65 L1363.01 1476.65 L1363.01 1472.72 Q1365.68 1469.96 1370.26 1465.33 Q1374.87 1460.68 1376.05 1459.34 Q1378.29 1456.81 1379.17 1455.08 Q1380.07 1453.32 1380.07 1451.63 Q1380.07 1448.87 1378.13 1447.14 Q1376.21 1445.4 1373.11 1445.4 Q1370.91 1445.4 1368.45 1446.17 Q1366.02 1446.93 1363.25 1448.48 L1363.25 1443.76 Q1366.07 1442.62 1368.52 1442.05 Q1370.98 1441.47 1373.01 1441.47 Q1378.38 1441.47 1381.58 1444.15 Q1384.77 1446.84 1384.77 1451.33 Q1384.77 1453.46 1383.96 1455.38 Q1383.18 1457.28 1381.07 1459.87 Q1380.49 1460.54 1377.39 1463.76 Q1374.29 1466.95 1368.64 1472.72 Z\" fill=\"#000000\" fill-rule=\"evenodd\" fill-opacity=\"1\" /><path clip-path=\"url(#clip350)\" d=\"M 0 0 M1400.03 1445.17 Q1396.42 1445.17 1394.59 1448.74 Q1392.78 1452.28 1392.78 1459.41 Q1392.78 1466.51 1394.59 1470.08 Q1396.42 1473.62 1400.03 1473.62 Q1403.66 1473.62 1405.47 1470.08 Q1407.3 1466.51 1407.3 1459.41 Q1407.3 1452.28 1405.47 1448.74 Q1403.66 1445.17 1400.03 1445.17 M1400.03 1441.47 Q1405.84 1441.47 1408.89 1446.07 Q1411.97 1450.66 1411.97 1459.41 Q1411.97 1468.13 1408.89 1472.74 Q1405.84 1477.32 1400.03 1477.32 Q1394.22 1477.32 1391.14 1472.74 Q1388.08 1468.13 1388.08 1459.41 Q1388.08 1450.66 1391.14 1446.07 Q1394.22 1441.47 1400.03 1441.47 Z\" fill=\"#000000\" fill-rule=\"evenodd\" fill-opacity=\"1\" /><path clip-path=\"url(#clip350)\" d=\"M 0 0 M1427.04 1445.17 Q1423.43 1445.17 1421.6 1448.74 Q1419.8 1452.28 1419.8 1459.41 Q1419.8 1466.51 1421.6 1470.08 Q1423.43 1473.62 1427.04 1473.62 Q1430.68 1473.62 1432.48 1470.08 Q1434.31 1466.51 1434.31 1459.41 Q1434.31 1452.28 1432.48 1448.74 Q1430.68 1445.17 1427.04 1445.17 M1427.04 1441.47 Q1432.85 1441.47 1435.91 1446.07 Q1438.99 1450.66 1438.99 1459.41 Q1438.99 1468.13 1435.91 1472.74 Q1432.85 1477.32 1427.04 1477.32 Q1421.23 1477.32 1418.15 1472.74 Q1415.1 1468.13 1415.1 1459.41 Q1415.1 1450.66 1418.15 1446.07 Q1421.23 1441.47 1427.04 1441.47 Z\" fill=\"#000000\" fill-rule=\"evenodd\" fill-opacity=\"1\" /><path clip-path=\"url(#clip350)\" d=\"M 0 0 M1972.34 1458.02 Q1975.7 1458.74 1977.57 1461 Q1979.47 1463.27 1979.47 1466.61 Q1979.47 1471.72 1975.95 1474.52 Q1972.43 1477.32 1965.95 1477.32 Q1963.77 1477.32 1961.46 1476.88 Q1959.17 1476.47 1956.71 1475.61 L1956.71 1471.1 Q1958.66 1472.23 1960.97 1472.81 Q1963.29 1473.39 1965.81 1473.39 Q1970.21 1473.39 1972.5 1471.65 Q1974.82 1469.92 1974.82 1466.61 Q1974.82 1463.55 1972.66 1461.84 Q1970.53 1460.1 1966.71 1460.1 L1962.69 1460.1 L1962.69 1456.26 L1966.9 1456.26 Q1970.35 1456.26 1972.18 1454.89 Q1974.01 1453.5 1974.01 1450.91 Q1974.01 1448.25 1972.11 1446.84 Q1970.23 1445.4 1966.71 1445.4 Q1964.79 1445.4 1962.59 1445.82 Q1960.39 1446.24 1957.76 1447.11 L1957.76 1442.95 Q1960.42 1442.21 1962.73 1441.84 Q1965.07 1441.47 1967.13 1441.47 Q1972.45 1441.47 1975.56 1443.9 Q1978.66 1446.3 1978.66 1450.43 Q1978.66 1453.3 1977.01 1455.29 Q1975.37 1457.25 1972.34 1458.02 Z\" fill=\"#000000\" fill-rule=\"evenodd\" fill-opacity=\"1\" /><path clip-path=\"url(#clip350)\" d=\"M 0 0 M1994.54 1445.17 Q1990.93 1445.17 1989.1 1448.74 Q1987.29 1452.28 1987.29 1459.41 Q1987.29 1466.51 1989.1 1470.08 Q1990.93 1473.62 1994.54 1473.62 Q1998.17 1473.62 1999.98 1470.08 Q2001.81 1466.51 2001.81 1459.41 Q2001.81 1452.28 1999.98 1448.74 Q1998.17 1445.17 1994.54 1445.17 M1994.54 1441.47 Q2000.35 1441.47 2003.4 1446.07 Q2006.48 1450.66 2006.48 1459.41 Q2006.48 1468.13 2003.4 1472.74 Q2000.35 1477.32 1994.54 1477.32 Q1988.73 1477.32 1985.65 1472.74 Q1982.59 1468.13 1982.59 1459.41 Q1982.59 1450.66 1985.65 1446.07 Q1988.73 1441.47 1994.54 1441.47 Z\" fill=\"#000000\" fill-rule=\"evenodd\" fill-opacity=\"1\" /><path clip-path=\"url(#clip350)\" d=\"M 0 0 M2021.55 1445.17 Q2017.94 1445.17 2016.11 1448.74 Q2014.31 1452.28 2014.31 1459.41 Q2014.31 1466.51 2016.11 1470.08 Q2017.94 1473.62 2021.55 1473.62 Q2025.19 1473.62 2026.99 1470.08 Q2028.82 1466.51 2028.82 1459.41 Q2028.82 1452.28 2026.99 1448.74 Q2025.19 1445.17 2021.55 1445.17 M2021.55 1441.47 Q2027.36 1441.47 2030.42 1446.07 Q2033.5 1450.66 2033.5 1459.41 Q2033.5 1468.13 2030.42 1472.74 Q2027.36 1477.32 2021.55 1477.32 Q2015.74 1477.32 2012.66 1472.74 Q2009.61 1468.13 2009.61 1459.41 Q2009.61 1450.66 2012.66 1446.07 Q2015.74 1441.47 2021.55 1441.47 Z\" fill=\"#000000\" fill-rule=\"evenodd\" fill-opacity=\"1\" /><path clip-path=\"url(#clip350)\" d=\"M 0 0 M138.205 1337.58 Q134.593 1337.58 132.765 1341.14 Q130.959 1344.69 130.959 1351.82 Q130.959 1358.92 132.765 1362.49 Q134.593 1366.03 138.205 1366.03 Q141.839 1366.03 143.644 1362.49 Q145.473 1358.92 145.473 1351.82 Q145.473 1344.69 143.644 1341.14 Q141.839 1337.58 138.205 1337.58 M138.205 1333.88 Q144.015 1333.88 147.07 1338.48 Q150.149 1343.07 150.149 1351.82 Q150.149 1360.54 147.07 1365.15 Q144.015 1369.73 138.205 1369.73 Q132.394 1369.73 129.316 1365.15 Q126.26 1360.54 126.26 1351.82 Q126.26 1343.07 129.316 1338.48 Q132.394 1333.88 138.205 1333.88 Z\" fill=\"#000000\" fill-rule=\"evenodd\" fill-opacity=\"1\" /><path clip-path=\"url(#clip350)\" d=\"M 0 0 M155.218 1363.18 L160.103 1363.18 L160.103 1369.06 L155.218 1369.06 L155.218 1363.18 Z\" fill=\"#000000\" fill-rule=\"evenodd\" fill-opacity=\"1\" /><path clip-path=\"url(#clip350)\" d=\"M 0 0 M178.019 1338.57 L166.214 1357.02 L178.019 1357.02 L178.019 1338.57 M176.792 1334.5 L182.672 1334.5 L182.672 1357.02 L187.602 1357.02 L187.602 1360.91 L182.672 1360.91 L182.672 1369.06 L178.019 1369.06 L178.019 1360.91 L162.417 1360.91 L162.417 1356.4 L176.792 1334.5 Z\" fill=\"#000000\" fill-rule=\"evenodd\" fill-opacity=\"1\" /><path clip-path=\"url(#clip350)\" d=\"M 0 0 M139.686 1099.55 Q136.075 1099.55 134.246 1103.12 Q132.441 1106.66 132.441 1113.79 Q132.441 1120.9 134.246 1124.46 Q136.075 1128 139.686 1128 Q143.32 1128 145.126 1124.46 Q146.954 1120.9 146.954 1113.79 Q146.954 1106.66 145.126 1103.12 Q143.32 1099.55 139.686 1099.55 M139.686 1095.85 Q145.496 1095.85 148.552 1100.46 Q151.63 1105.04 151.63 1113.79 Q151.63 1122.52 148.552 1127.12 Q145.496 1131.71 139.686 1131.71 Q133.876 1131.71 130.797 1127.12 Q127.742 1122.52 127.742 1113.79 Q127.742 1105.04 130.797 1100.46 Q133.876 1095.85 139.686 1095.85 Z\" fill=\"#000000\" fill-rule=\"evenodd\" fill-opacity=\"1\" /><path clip-path=\"url(#clip350)\" d=\"M 0 0 M156.7 1125.16 L161.584 1125.16 L161.584 1131.04 L156.7 1131.04 L156.7 1125.16 Z\" fill=\"#000000\" fill-rule=\"evenodd\" fill-opacity=\"1\" /><path clip-path=\"url(#clip350)\" d=\"M 0 0 M166.7 1096.48 L185.056 1096.48 L185.056 1100.41 L170.982 1100.41 L170.982 1108.88 Q172.001 1108.54 173.019 1108.37 Q174.038 1108.19 175.056 1108.19 Q180.843 1108.19 184.223 1111.36 Q187.602 1114.53 187.602 1119.95 Q187.602 1125.53 184.13 1128.63 Q180.658 1131.71 174.339 1131.71 Q172.163 1131.71 169.894 1131.34 Q167.649 1130.97 165.241 1130.23 L165.241 1125.53 Q167.325 1126.66 169.547 1127.22 Q171.769 1127.77 174.246 1127.77 Q178.251 1127.77 180.589 1125.67 Q182.927 1123.56 182.927 1119.95 Q182.927 1116.34 180.589 1114.23 Q178.251 1112.12 174.246 1112.12 Q172.371 1112.12 170.496 1112.54 Q168.644 1112.96 166.7 1113.84 L166.7 1096.48 Z\" fill=\"#000000\" fill-rule=\"evenodd\" fill-opacity=\"1\" /><path clip-path=\"url(#clip350)\" d=\"M 0 0 M138.529 861.53 Q134.918 861.53 133.089 865.094 Q131.283 868.636 131.283 875.766 Q131.283 882.872 133.089 886.437 Q134.918 889.979 138.529 889.979 Q142.163 889.979 143.968 886.437 Q145.797 882.872 145.797 875.766 Q145.797 868.636 143.968 865.094 Q142.163 861.53 138.529 861.53 M138.529 857.826 Q144.339 857.826 147.394 862.432 Q150.473 867.016 150.473 875.766 Q150.473 884.493 147.394 889.099 Q144.339 893.682 138.529 893.682 Q132.718 893.682 129.64 889.099 Q126.584 884.493 126.584 875.766 Q126.584 867.016 129.64 862.432 Q132.718 857.826 138.529 857.826 Z\" fill=\"#000000\" fill-rule=\"evenodd\" fill-opacity=\"1\" /><path clip-path=\"url(#clip350)\" d=\"M 0 0 M155.542 887.131 L160.427 887.131 L160.427 893.011 L155.542 893.011 L155.542 887.131 Z\" fill=\"#000000\" fill-rule=\"evenodd\" fill-opacity=\"1\" /><path clip-path=\"url(#clip350)\" d=\"M 0 0 M176.075 873.868 Q172.927 873.868 171.075 876.02 Q169.246 878.173 169.246 881.923 Q169.246 885.65 171.075 887.826 Q172.927 889.979 176.075 889.979 Q179.223 889.979 181.052 887.826 Q182.903 885.65 182.903 881.923 Q182.903 878.173 181.052 876.02 Q179.223 873.868 176.075 873.868 M185.357 859.215 L185.357 863.474 Q183.598 862.641 181.792 862.201 Q180.01 861.761 178.251 861.761 Q173.621 861.761 171.167 864.886 Q168.737 868.011 168.39 874.331 Q169.755 872.317 171.815 871.252 Q173.876 870.164 176.352 870.164 Q181.561 870.164 184.57 873.335 Q187.602 876.483 187.602 881.923 Q187.602 887.247 184.454 890.465 Q181.306 893.682 176.075 893.682 Q170.079 893.682 166.908 889.099 Q163.737 884.493 163.737 875.766 Q163.737 867.571 167.626 862.71 Q171.515 857.826 178.065 857.826 Q179.825 857.826 181.607 858.173 Q183.413 858.52 185.357 859.215 Z\" fill=\"#000000\" fill-rule=\"evenodd\" fill-opacity=\"1\" /><path clip-path=\"url(#clip350)\" d=\"M 0 0 M139.593 623.505 Q135.982 623.505 134.154 627.07 Q132.348 630.611 132.348 637.741 Q132.348 644.847 134.154 648.412 Q135.982 651.954 139.593 651.954 Q143.228 651.954 145.033 648.412 Q146.862 644.847 146.862 637.741 Q146.862 630.611 145.033 627.07 Q143.228 623.505 139.593 623.505 M139.593 619.801 Q145.404 619.801 148.459 624.408 Q151.538 628.991 151.538 637.741 Q151.538 646.468 148.459 651.074 Q145.404 655.658 139.593 655.658 Q133.783 655.658 130.705 651.074 Q127.649 646.468 127.649 637.741 Q127.649 628.991 130.705 624.408 Q133.783 619.801 139.593 619.801 Z\" fill=\"#000000\" fill-rule=\"evenodd\" fill-opacity=\"1\" /><path clip-path=\"url(#clip350)\" d=\"M 0 0 M156.607 649.107 L161.491 649.107 L161.491 654.986 L156.607 654.986 L156.607 649.107 Z\" fill=\"#000000\" fill-rule=\"evenodd\" fill-opacity=\"1\" /><path clip-path=\"url(#clip350)\" d=\"M 0 0 M165.38 620.426 L187.602 620.426 L187.602 622.417 L175.056 654.986 L170.172 654.986 L181.977 624.361 L165.38 624.361 L165.38 620.426 Z\" fill=\"#000000\" fill-rule=\"evenodd\" fill-opacity=\"1\" /><path clip-path=\"url(#clip350)\" d=\"M 0 0 M138.783 385.48 Q135.172 385.48 133.343 389.045 Q131.538 392.587 131.538 399.716 Q131.538 406.823 133.343 410.388 Q135.172 413.929 138.783 413.929 Q142.417 413.929 144.223 410.388 Q146.052 406.823 146.052 399.716 Q146.052 392.587 144.223 389.045 Q142.417 385.48 138.783 385.48 M138.783 381.777 Q144.593 381.777 147.649 386.383 Q150.728 390.966 150.728 399.716 Q150.728 408.443 147.649 413.05 Q144.593 417.633 138.783 417.633 Q132.973 417.633 129.894 413.05 Q126.839 408.443 126.839 399.716 Q126.839 390.966 129.894 386.383 Q132.973 381.777 138.783 381.777 Z\" fill=\"#000000\" fill-rule=\"evenodd\" fill-opacity=\"1\" /><path clip-path=\"url(#clip350)\" d=\"M 0 0 M155.797 411.082 L160.681 411.082 L160.681 416.962 L155.797 416.962 L155.797 411.082 Z\" fill=\"#000000\" fill-rule=\"evenodd\" fill-opacity=\"1\" /><path clip-path=\"url(#clip350)\" d=\"M 0 0 M175.751 400.55 Q172.417 400.55 170.496 402.332 Q168.598 404.114 168.598 407.239 Q168.598 410.364 170.496 412.147 Q172.417 413.929 175.751 413.929 Q179.084 413.929 181.005 412.147 Q182.927 410.341 182.927 407.239 Q182.927 404.114 181.005 402.332 Q179.107 400.55 175.751 400.55 M171.075 398.559 Q168.065 397.818 166.376 395.758 Q164.709 393.698 164.709 390.735 Q164.709 386.591 167.649 384.184 Q170.612 381.777 175.751 381.777 Q180.913 381.777 183.852 384.184 Q186.792 386.591 186.792 390.735 Q186.792 393.698 185.102 395.758 Q183.436 397.818 180.45 398.559 Q183.829 399.346 185.704 401.638 Q187.602 403.929 187.602 407.239 Q187.602 412.263 184.524 414.948 Q181.468 417.633 175.751 417.633 Q170.033 417.633 166.954 414.948 Q163.899 412.263 163.899 407.239 Q163.899 403.929 165.797 401.638 Q167.695 399.346 171.075 398.559 M169.362 391.175 Q169.362 393.86 171.028 395.364 Q172.718 396.869 175.751 396.869 Q178.76 396.869 180.45 395.364 Q182.163 393.86 182.163 391.175 Q182.163 388.49 180.45 386.985 Q178.76 385.48 175.751 385.48 Q172.718 385.48 171.028 386.985 Q169.362 388.49 169.362 391.175 Z\" fill=\"#000000\" fill-rule=\"evenodd\" fill-opacity=\"1\" /><path clip-path=\"url(#clip350)\" d=\"M 0 0 M138.876 147.456 Q135.265 147.456 133.436 151.02 Q131.63 154.562 131.63 161.692 Q131.63 168.798 133.436 172.363 Q135.265 175.905 138.876 175.905 Q142.51 175.905 144.316 172.363 Q146.144 168.798 146.144 161.692 Q146.144 154.562 144.316 151.02 Q142.51 147.456 138.876 147.456 M138.876 143.752 Q144.686 143.752 147.742 148.358 Q150.82 152.942 150.82 161.692 Q150.82 170.418 147.742 175.025 Q144.686 179.608 138.876 179.608 Q133.066 179.608 129.987 175.025 Q126.931 170.418 126.931 161.692 Q126.931 152.942 129.987 148.358 Q133.066 143.752 138.876 143.752 Z\" fill=\"#000000\" fill-rule=\"evenodd\" fill-opacity=\"1\" /><path clip-path=\"url(#clip350)\" d=\"M 0 0 M155.89 173.057 L160.774 173.057 L160.774 178.937 L155.89 178.937 L155.89 173.057 Z\" fill=\"#000000\" fill-rule=\"evenodd\" fill-opacity=\"1\" /><path clip-path=\"url(#clip350)\" d=\"M 0 0 M165.982 178.219 L165.982 173.96 Q167.741 174.793 169.547 175.233 Q171.353 175.673 173.089 175.673 Q177.718 175.673 180.149 172.571 Q182.602 169.446 182.95 163.104 Q181.607 165.094 179.547 166.159 Q177.487 167.224 174.987 167.224 Q169.802 167.224 166.769 164.099 Q163.76 160.951 163.76 155.511 Q163.76 150.187 166.908 146.969 Q170.056 143.752 175.288 143.752 Q181.283 143.752 184.431 148.358 Q187.602 152.942 187.602 161.692 Q187.602 169.863 183.714 174.747 Q179.848 179.608 173.297 179.608 Q171.538 179.608 169.732 179.261 Q167.927 178.914 165.982 178.219 M175.288 163.567 Q178.436 163.567 180.264 161.414 Q182.116 159.261 182.116 155.511 Q182.116 151.784 180.264 149.632 Q178.436 147.456 175.288 147.456 Q172.14 147.456 170.288 149.632 Q168.459 151.784 168.459 155.511 Q168.459 159.261 170.288 161.414 Q172.14 163.567 175.288 163.567 Z\" fill=\"#000000\" fill-rule=\"evenodd\" fill-opacity=\"1\" /><path clip-path=\"url(#clip350)\" d=\"M 0 0 M870.955 1508.52 L879.612 1508.52 L900.682 1548.28 L900.682 1508.52 L906.921 1508.52 L906.921 1556.04 L898.263 1556.04 L877.193 1516.29 L877.193 1556.04 L870.955 1556.04 L870.955 1508.52 Z\" fill=\"#000000\" fill-rule=\"evenodd\" fill-opacity=\"1\" /><path clip-path=\"url(#clip350)\" d=\"M 0 0 M912.459 1541.98 L912.459 1520.4 L918.315 1520.4 L918.315 1541.75 Q918.315 1546.81 920.289 1549.36 Q922.262 1551.87 926.209 1551.87 Q930.951 1551.87 933.689 1548.85 Q936.458 1545.83 936.458 1540.61 L936.458 1520.4 L942.314 1520.4 L942.314 1556.04 L936.458 1556.04 L936.458 1550.57 Q934.325 1553.82 931.492 1555.41 Q928.691 1556.97 924.968 1556.97 Q918.825 1556.97 915.642 1553.15 Q912.459 1549.33 912.459 1541.98 M927.196 1519.54 L927.196 1519.54 Z\" fill=\"#000000\" fill-rule=\"evenodd\" fill-opacity=\"1\" /><path clip-path=\"url(#clip350)\" d=\"M 0 0 M976.211 1527.24 Q978.408 1523.29 981.463 1521.41 Q984.519 1519.54 988.656 1519.54 Q994.226 1519.54 997.25 1523.45 Q1000.27 1527.33 1000.27 1534.53 L1000.27 1556.04 L994.386 1556.04 L994.386 1534.72 Q994.386 1529.59 992.571 1527.11 Q990.757 1524.63 987.033 1524.63 Q982.482 1524.63 979.84 1527.65 Q977.198 1530.68 977.198 1535.9 L977.198 1556.04 L971.31 1556.04 L971.31 1534.72 Q971.31 1529.56 969.496 1527.11 Q967.681 1524.63 963.894 1524.63 Q959.406 1524.63 956.764 1527.68 Q954.122 1530.71 954.122 1535.9 L954.122 1556.04 L948.234 1556.04 L948.234 1520.4 L954.122 1520.4 L954.122 1525.93 Q956.128 1522.66 958.929 1521.1 Q961.729 1519.54 965.581 1519.54 Q969.464 1519.54 972.169 1521.51 Q974.907 1523.48 976.211 1527.24 Z\" fill=\"#000000\" fill-rule=\"evenodd\" fill-opacity=\"1\" /><path clip-path=\"url(#clip350)\" d=\"M 0 0 M1032.01 1538.25 Q1032.01 1531.79 1029.33 1528.13 Q1026.69 1524.44 1022.04 1524.44 Q1017.4 1524.44 1014.72 1528.13 Q1012.08 1531.79 1012.08 1538.25 Q1012.08 1544.71 1014.72 1548.4 Q1017.4 1552.07 1022.04 1552.07 Q1026.69 1552.07 1029.33 1548.4 Q1032.01 1544.71 1032.01 1538.25 M1012.08 1525.81 Q1013.93 1522.62 1016.73 1521.1 Q1019.56 1519.54 1023.48 1519.54 Q1029.97 1519.54 1034.01 1524.69 Q1038.09 1529.85 1038.09 1538.25 Q1038.09 1546.65 1034.01 1551.81 Q1029.97 1556.97 1023.48 1556.97 Q1019.56 1556.97 1016.73 1555.44 Q1013.93 1553.88 1012.08 1550.7 L1012.08 1556.04 L1006.19 1556.04 L1006.19 1506.52 L1012.08 1506.52 L1012.08 1525.81 Z\" fill=\"#000000\" fill-rule=\"evenodd\" fill-opacity=\"1\" /><path clip-path=\"url(#clip350)\" d=\"M 0 0 M1074.72 1536.76 L1074.72 1539.62 L1047.79 1539.62 Q1048.18 1545.67 1051.42 1548.85 Q1054.7 1552 1060.53 1552 Q1063.9 1552 1067.05 1551.17 Q1070.23 1550.35 1073.35 1548.69 L1073.35 1554.23 Q1070.2 1555.57 1066.89 1556.27 Q1063.58 1556.97 1060.18 1556.97 Q1051.65 1556.97 1046.65 1552 Q1041.68 1547.04 1041.68 1538.57 Q1041.68 1529.82 1046.39 1524.69 Q1051.14 1519.54 1059.16 1519.54 Q1066.35 1519.54 1070.52 1524.18 Q1074.72 1528.8 1074.72 1536.76 M1068.86 1535.04 Q1068.8 1530.23 1066.16 1527.37 Q1063.55 1524.5 1059.22 1524.5 Q1054.32 1524.5 1051.36 1527.27 Q1048.43 1530.04 1047.98 1535.07 L1068.86 1535.04 Z\" fill=\"#000000\" fill-rule=\"evenodd\" fill-opacity=\"1\" /><path clip-path=\"url(#clip350)\" d=\"M 0 0 M1101.52 1525.87 Q1100.53 1525.3 1099.36 1525.04 Q1098.21 1524.76 1096.81 1524.76 Q1091.84 1524.76 1089.17 1528 Q1086.53 1531.22 1086.53 1537.27 L1086.53 1556.04 L1080.64 1556.04 L1080.64 1520.4 L1086.53 1520.4 L1086.53 1525.93 Q1088.38 1522.69 1091.34 1521.13 Q1094.3 1519.54 1098.53 1519.54 Q1099.13 1519.54 1099.87 1519.63 Q1100.6 1519.7 1101.49 1519.85 L1101.52 1525.87 Z\" fill=\"#000000\" fill-rule=\"evenodd\" fill-opacity=\"1\" /><path clip-path=\"url(#clip350)\" d=\"M 0 0 M1142.2 1524.5 Q1137.49 1524.5 1134.75 1528.19 Q1132.01 1531.85 1132.01 1538.25 Q1132.01 1544.65 1134.72 1548.34 Q1137.45 1552 1142.2 1552 Q1146.88 1552 1149.61 1548.31 Q1152.35 1544.62 1152.35 1538.25 Q1152.35 1531.92 1149.61 1528.23 Q1146.88 1524.5 1142.2 1524.5 M1142.2 1519.54 Q1149.84 1519.54 1154.2 1524.5 Q1158.56 1529.47 1158.56 1538.25 Q1158.56 1547 1154.2 1552 Q1149.84 1556.97 1142.2 1556.97 Q1134.53 1556.97 1130.17 1552 Q1125.84 1547 1125.84 1538.25 Q1125.84 1529.47 1130.17 1524.5 Q1134.53 1519.54 1142.2 1519.54 Z\" fill=\"#000000\" fill-rule=\"evenodd\" fill-opacity=\"1\" /><path clip-path=\"url(#clip350)\" d=\"M 0 0 M1182.75 1506.52 L1182.75 1511.39 L1177.15 1511.39 Q1173.99 1511.39 1172.75 1512.66 Q1171.54 1513.93 1171.54 1517.24 L1171.54 1520.4 L1181.19 1520.4 L1181.19 1524.95 L1171.54 1524.95 L1171.54 1556.04 L1165.65 1556.04 L1165.65 1524.95 L1160.05 1524.95 L1160.05 1520.4 L1165.65 1520.4 L1165.65 1517.91 Q1165.65 1511.96 1168.42 1509.26 Q1171.19 1506.52 1177.21 1506.52 L1182.75 1506.52 Z\" fill=\"#000000\" fill-rule=\"evenodd\" fill-opacity=\"1\" /><path clip-path=\"url(#clip350)\" d=\"M 0 0 M1203.28 1508.52 L1243.48 1508.52 L1243.48 1513.93 L1226.61 1513.93 L1226.61 1556.04 L1220.15 1556.04 L1220.15 1513.93 L1203.28 1513.93 L1203.28 1508.52 Z\" fill=\"#000000\" fill-rule=\"evenodd\" fill-opacity=\"1\" /><path clip-path=\"url(#clip350)\" d=\"M 0 0 M1260.69 1525.87 Q1259.71 1525.3 1258.53 1525.04 Q1257.38 1524.76 1255.98 1524.76 Q1251.02 1524.76 1248.35 1528 Q1245.7 1531.22 1245.7 1537.27 L1245.7 1556.04 L1239.82 1556.04 L1239.82 1520.4 L1245.7 1520.4 L1245.7 1525.93 Q1247.55 1522.69 1250.51 1521.13 Q1253.47 1519.54 1257.7 1519.54 Q1258.31 1519.54 1259.04 1519.63 Q1259.77 1519.7 1260.66 1519.85 L1260.69 1525.87 Z\" fill=\"#000000\" fill-rule=\"evenodd\" fill-opacity=\"1\" /><path clip-path=\"url(#clip350)\" d=\"M 0 0 M1283.04 1538.12 Q1275.94 1538.12 1273.2 1539.75 Q1270.47 1541.37 1270.47 1545.29 Q1270.47 1548.4 1272.5 1550.25 Q1274.57 1552.07 1278.11 1552.07 Q1282.97 1552.07 1285.9 1548.63 Q1288.86 1545.16 1288.86 1539.43 L1288.86 1538.12 L1283.04 1538.12 M1294.72 1535.71 L1294.72 1556.04 L1288.86 1556.04 L1288.86 1550.63 Q1286.86 1553.88 1283.87 1555.44 Q1280.87 1556.97 1276.55 1556.97 Q1271.07 1556.97 1267.82 1553.91 Q1264.61 1550.82 1264.61 1545.67 Q1264.61 1539.65 1268.62 1536.6 Q1272.66 1533.54 1280.65 1533.54 L1288.86 1533.54 L1288.86 1532.97 Q1288.86 1528.93 1286.19 1526.73 Q1283.55 1524.5 1278.74 1524.5 Q1275.69 1524.5 1272.79 1525.23 Q1269.89 1525.97 1267.22 1527.43 L1267.22 1522.02 Q1270.43 1520.78 1273.46 1520.17 Q1276.48 1519.54 1279.35 1519.54 Q1287.08 1519.54 1290.9 1523.55 Q1294.72 1527.56 1294.72 1535.71 Z\" fill=\"#000000\" fill-rule=\"evenodd\" fill-opacity=\"1\" /><path clip-path=\"url(#clip350)\" d=\"M 0 0 M1300.86 1520.4 L1306.72 1520.4 L1306.72 1556.04 L1300.86 1556.04 L1300.86 1520.4 M1300.86 1506.52 L1306.72 1506.52 L1306.72 1513.93 L1300.86 1513.93 L1300.86 1506.52 Z\" fill=\"#000000\" fill-rule=\"evenodd\" fill-opacity=\"1\" /><path clip-path=\"url(#clip350)\" d=\"M 0 0 M1342.49 1534.53 L1342.49 1556.04 L1336.64 1556.04 L1336.64 1534.72 Q1336.64 1529.66 1334.66 1527.14 Q1332.69 1524.63 1328.74 1524.63 Q1324 1524.63 1321.26 1527.65 Q1318.53 1530.68 1318.53 1535.9 L1318.53 1556.04 L1312.64 1556.04 L1312.64 1520.4 L1318.53 1520.4 L1318.53 1525.93 Q1320.63 1522.72 1323.46 1521.13 Q1326.33 1519.54 1330.05 1519.54 Q1336.19 1519.54 1339.34 1523.36 Q1342.49 1527.14 1342.49 1534.53 Z\" fill=\"#000000\" fill-rule=\"evenodd\" fill-opacity=\"1\" /><path clip-path=\"url(#clip350)\" d=\"M 0 0 M1348.64 1520.4 L1354.49 1520.4 L1354.49 1556.04 L1348.64 1556.04 L1348.64 1520.4 M1348.64 1506.52 L1354.49 1506.52 L1354.49 1513.93 L1348.64 1513.93 L1348.64 1506.52 Z\" fill=\"#000000\" fill-rule=\"evenodd\" fill-opacity=\"1\" /><path clip-path=\"url(#clip350)\" d=\"M 0 0 M1390.27 1534.53 L1390.27 1556.04 L1384.41 1556.04 L1384.41 1534.72 Q1384.41 1529.66 1382.44 1527.14 Q1380.47 1524.63 1376.52 1524.63 Q1371.78 1524.63 1369.04 1527.65 Q1366.3 1530.68 1366.3 1535.9 L1366.3 1556.04 L1360.41 1556.04 L1360.41 1520.4 L1366.3 1520.4 L1366.3 1525.93 Q1368.4 1522.72 1371.24 1521.13 Q1374.1 1519.54 1377.82 1519.54 Q1383.97 1519.54 1387.12 1523.36 Q1390.27 1527.14 1390.27 1534.53 Z\" fill=\"#000000\" fill-rule=\"evenodd\" fill-opacity=\"1\" /><path clip-path=\"url(#clip350)\" d=\"M 0 0 M1419.87 1537.81 Q1419.87 1531.44 1417.23 1527.94 Q1414.62 1524.44 1409.88 1524.44 Q1405.16 1524.44 1402.52 1527.94 Q1399.91 1531.44 1399.91 1537.81 Q1399.91 1544.14 1402.52 1547.64 Q1405.16 1551.14 1409.88 1551.14 Q1414.62 1551.14 1417.23 1547.64 Q1419.87 1544.14 1419.87 1537.81 M1425.73 1551.62 Q1425.73 1560.72 1421.68 1565.15 Q1417.64 1569.6 1409.3 1569.6 Q1406.21 1569.6 1403.48 1569.13 Q1400.74 1568.68 1398.16 1567.72 L1398.16 1562.03 Q1400.74 1563.43 1403.25 1564.1 Q1405.77 1564.76 1408.38 1564.76 Q1414.14 1564.76 1417 1561.74 Q1419.87 1558.75 1419.87 1552.67 L1419.87 1549.77 Q1418.06 1552.92 1415.22 1554.48 Q1412.39 1556.04 1408.44 1556.04 Q1401.89 1556.04 1397.88 1551.05 Q1393.87 1546.05 1393.87 1537.81 Q1393.87 1529.53 1397.88 1524.53 Q1401.89 1519.54 1408.44 1519.54 Q1412.39 1519.54 1415.22 1521.1 Q1418.06 1522.66 1419.87 1525.81 L1419.87 1520.4 L1425.73 1520.4 L1425.73 1551.62 Z\" fill=\"#000000\" fill-rule=\"evenodd\" fill-opacity=\"1\" /><path clip-path=\"url(#clip350)\" d=\"M 0 0 M1481.33 1510.08 L1481.33 1516.35 Q1477.67 1514.6 1474.42 1513.74 Q1471.18 1512.88 1468.15 1512.88 Q1462.9 1512.88 1460.04 1514.92 Q1457.2 1516.96 1457.2 1520.71 Q1457.2 1523.87 1459.08 1525.49 Q1460.99 1527.08 1466.28 1528.07 L1470.16 1528.86 Q1477.35 1530.23 1480.76 1533.7 Q1484.19 1537.14 1484.19 1542.93 Q1484.19 1549.84 1479.55 1553.4 Q1474.93 1556.97 1465.99 1556.97 Q1462.62 1556.97 1458.8 1556.2 Q1455.01 1555.44 1450.93 1553.94 L1450.93 1547.32 Q1454.85 1549.52 1458.6 1550.63 Q1462.36 1551.75 1465.99 1551.75 Q1471.5 1551.75 1474.49 1549.58 Q1477.48 1547.42 1477.48 1543.41 Q1477.48 1539.91 1475.31 1537.93 Q1473.18 1535.96 1468.28 1534.97 L1464.37 1534.21 Q1457.17 1532.78 1453.96 1529.72 Q1450.74 1526.67 1450.74 1521.22 Q1450.74 1514.92 1455.17 1511.29 Q1459.62 1507.66 1467.42 1507.66 Q1470.76 1507.66 1474.23 1508.27 Q1477.7 1508.87 1481.33 1510.08 Z\" fill=\"#000000\" fill-rule=\"evenodd\" fill-opacity=\"1\" /><path clip-path=\"url(#clip350)\" d=\"M 0 0 M1506.54 1538.12 Q1499.44 1538.12 1496.7 1539.75 Q1493.97 1541.37 1493.97 1545.29 Q1493.97 1548.4 1496 1550.25 Q1498.07 1552.07 1501.61 1552.07 Q1506.47 1552.07 1509.4 1548.63 Q1512.36 1545.16 1512.36 1539.43 L1512.36 1538.12 L1506.54 1538.12 M1518.22 1535.71 L1518.22 1556.04 L1512.36 1556.04 L1512.36 1550.63 Q1510.36 1553.88 1507.37 1555.44 Q1504.37 1556.97 1500.05 1556.97 Q1494.57 1556.97 1491.32 1553.91 Q1488.11 1550.82 1488.11 1545.67 Q1488.11 1539.65 1492.12 1536.6 Q1496.16 1533.54 1504.15 1533.54 L1512.36 1533.54 L1512.36 1532.97 Q1512.36 1528.93 1509.69 1526.73 Q1507.05 1524.5 1502.24 1524.5 Q1499.19 1524.5 1496.29 1525.23 Q1493.39 1525.97 1490.72 1527.43 L1490.72 1522.02 Q1493.93 1520.78 1496.96 1520.17 Q1499.98 1519.54 1502.85 1519.54 Q1510.58 1519.54 1514.4 1523.55 Q1518.22 1527.56 1518.22 1535.71 Z\" fill=\"#000000\" fill-rule=\"evenodd\" fill-opacity=\"1\" /><path clip-path=\"url(#clip350)\" d=\"M 0 0 M1552.12 1527.24 Q1554.31 1523.29 1557.37 1521.41 Q1560.42 1519.54 1564.56 1519.54 Q1570.13 1519.54 1573.16 1523.45 Q1576.18 1527.33 1576.18 1534.53 L1576.18 1556.04 L1570.29 1556.04 L1570.29 1534.72 Q1570.29 1529.59 1568.48 1527.11 Q1566.66 1524.63 1562.94 1524.63 Q1558.39 1524.63 1555.75 1527.65 Q1553.1 1530.68 1553.1 1535.9 L1553.1 1556.04 L1547.22 1556.04 L1547.22 1534.72 Q1547.22 1529.56 1545.4 1527.11 Q1543.59 1524.63 1539.8 1524.63 Q1535.31 1524.63 1532.67 1527.68 Q1530.03 1530.71 1530.03 1535.9 L1530.03 1556.04 L1524.14 1556.04 L1524.14 1520.4 L1530.03 1520.4 L1530.03 1525.93 Q1532.03 1522.66 1534.83 1521.1 Q1537.63 1519.54 1541.49 1519.54 Q1545.37 1519.54 1548.07 1521.51 Q1550.81 1523.48 1552.12 1527.24 Z\" fill=\"#000000\" fill-rule=\"evenodd\" fill-opacity=\"1\" /><path clip-path=\"url(#clip350)\" d=\"M 0 0 M1587.99 1550.7 L1587.99 1569.6 L1582.1 1569.6 L1582.1 1520.4 L1587.99 1520.4 L1587.99 1525.81 Q1589.83 1522.62 1592.63 1521.1 Q1595.47 1519.54 1599.38 1519.54 Q1605.88 1519.54 1609.92 1524.69 Q1613.99 1529.85 1613.99 1538.25 Q1613.99 1546.65 1609.92 1551.81 Q1605.88 1556.97 1599.38 1556.97 Q1595.47 1556.97 1592.63 1555.44 Q1589.83 1553.88 1587.99 1550.7 M1607.91 1538.25 Q1607.91 1531.79 1605.24 1528.13 Q1602.6 1524.44 1597.95 1524.44 Q1593.3 1524.44 1590.63 1528.13 Q1587.99 1531.79 1587.99 1538.25 Q1587.99 1544.71 1590.63 1548.4 Q1593.3 1552.07 1597.95 1552.07 Q1602.6 1552.07 1605.24 1548.4 Q1607.91 1544.71 1607.91 1538.25 Z\" fill=\"#000000\" fill-rule=\"evenodd\" fill-opacity=\"1\" /><path clip-path=\"url(#clip350)\" d=\"M 0 0 M1620.13 1506.52 L1625.99 1506.52 L1625.99 1556.04 L1620.13 1556.04 L1620.13 1506.52 Z\" fill=\"#000000\" fill-rule=\"evenodd\" fill-opacity=\"1\" /><path clip-path=\"url(#clip350)\" d=\"M 0 0 M1662.63 1536.76 L1662.63 1539.62 L1635.7 1539.62 Q1636.08 1545.67 1639.33 1548.85 Q1642.61 1552 1648.43 1552 Q1651.8 1552 1654.95 1551.17 Q1658.14 1550.35 1661.26 1548.69 L1661.26 1554.23 Q1658.11 1555.57 1654.8 1556.27 Q1651.49 1556.97 1648.08 1556.97 Q1639.55 1556.97 1634.55 1552 Q1629.59 1547.04 1629.59 1538.57 Q1629.59 1529.82 1634.3 1524.69 Q1639.04 1519.54 1647.06 1519.54 Q1654.25 1519.54 1658.42 1524.18 Q1662.63 1528.8 1662.63 1536.76 M1656.77 1535.04 Q1656.71 1530.23 1654.06 1527.37 Q1651.45 1524.5 1647.13 1524.5 Q1642.22 1524.5 1639.26 1527.27 Q1636.34 1530.04 1635.89 1535.07 L1656.77 1535.04 Z\" fill=\"#000000\" fill-rule=\"evenodd\" fill-opacity=\"1\" /><path clip-path=\"url(#clip350)\" d=\"M 0 0 M1691.49 1521.45 L1691.49 1526.98 Q1689.01 1525.71 1686.34 1525.07 Q1683.66 1524.44 1680.8 1524.44 Q1676.44 1524.44 1674.24 1525.77 Q1672.08 1527.11 1672.08 1529.79 Q1672.08 1531.82 1673.64 1533 Q1675.2 1534.15 1679.91 1535.2 L1681.91 1535.64 Q1688.15 1536.98 1690.76 1539.43 Q1693.4 1541.85 1693.4 1546.21 Q1693.4 1551.17 1689.46 1554.07 Q1685.54 1556.97 1678.67 1556.97 Q1675.8 1556.97 1672.68 1556.39 Q1669.6 1555.85 1666.16 1554.74 L1666.16 1548.69 Q1669.41 1550.38 1672.56 1551.24 Q1675.71 1552.07 1678.79 1552.07 Q1682.93 1552.07 1685.16 1550.66 Q1687.39 1549.23 1687.39 1546.65 Q1687.39 1544.27 1685.76 1542.99 Q1684.17 1541.72 1678.73 1540.54 L1676.69 1540.07 Q1671.25 1538.92 1668.83 1536.56 Q1666.41 1534.18 1666.41 1530.04 Q1666.41 1525.01 1669.98 1522.27 Q1673.54 1519.54 1680.1 1519.54 Q1683.35 1519.54 1686.21 1520.01 Q1689.08 1520.49 1691.49 1521.45 Z\" fill=\"#000000\" fill-rule=\"evenodd\" fill-opacity=\"1\" /><path clip-path=\"url(#clip350)\" d=\"M 0 0 M44.1444 1026.82 L50.9239 1026.82 Q47.9002 1030.07 46.4043 1033.76 Q44.9083 1037.42 44.9083 1041.56 Q44.9083 1049.71 49.9054 1054.04 Q54.8707 1058.37 64.2919 1058.37 Q73.6813 1058.37 78.6784 1054.04 Q83.6436 1049.71 83.6436 1041.56 Q83.6436 1037.42 82.1477 1033.76 Q80.6518 1030.07 77.6281 1026.82 L84.3439 1026.82 Q86.6355 1030.2 87.7814 1033.99 Q88.9272 1037.74 88.9272 1041.94 Q88.9272 1052.73 82.3387 1058.94 Q75.7183 1065.15 64.2919 1065.15 Q52.8336 1065.15 46.2451 1058.94 Q39.6248 1052.73 39.6248 1041.94 Q39.6248 1037.68 40.7706 1033.92 Q41.8846 1030.14 44.1444 1026.82 Z\" fill=\"#000000\" fill-rule=\"evenodd\" fill-opacity=\"1\" /><path clip-path=\"url(#clip350)\" d=\"M 0 0 M38.479 1020.68 L38.479 1014.83 L88.0042 1014.83 L88.0042 1020.68 L38.479 1020.68 Z\" fill=\"#000000\" fill-rule=\"evenodd\" fill-opacity=\"1\" /><path clip-path=\"url(#clip350)\" d=\"M 0 0 M70.0847 992.482 Q70.0847 999.58 71.7079 1002.32 Q73.3312 1005.05 77.2461 1005.05 Q80.3653 1005.05 82.2114 1003.02 Q84.0256 1000.95 84.0256 997.415 Q84.0256 992.546 80.5881 989.617 Q77.1188 986.657 71.3897 986.657 L70.0847 986.657 L70.0847 992.482 M67.6657 980.801 L88.0042 980.801 L88.0042 986.657 L82.5933 986.657 Q85.8398 988.663 87.3994 991.654 Q88.9272 994.646 88.9272 998.975 Q88.9272 1004.45 85.8716 1007.7 Q82.7843 1010.91 77.6281 1010.91 Q71.6125 1010.91 68.5569 1006.9 Q65.5014 1002.86 65.5014 994.869 L65.5014 986.657 L64.9285 986.657 Q60.8862 986.657 58.6901 989.331 Q56.4621 991.973 56.4621 996.779 Q56.4621 999.834 57.1941 1002.73 Q57.9262 1005.63 59.3903 1008.3 L53.9795 1008.3 Q52.7381 1005.09 52.1334 1002.06 Q51.4968 999.039 51.4968 996.174 Q51.4968 988.44 55.5072 984.62 Q59.5176 980.801 67.6657 980.801 Z\" fill=\"#000000\" fill-rule=\"evenodd\" fill-opacity=\"1\" /><path clip-path=\"url(#clip350)\" d=\"M 0 0 M53.4065 951.932 L58.9447 951.932 Q57.6716 954.415 57.035 957.089 Q56.3984 959.762 56.3984 962.627 Q56.3984 966.987 57.7352 969.184 Q59.072 971.348 61.7456 971.348 Q63.7826 971.348 64.9603 969.788 Q66.1061 968.229 67.1565 963.518 L67.6021 961.513 Q68.9389 955.274 71.3897 952.665 Q73.8086 950.023 78.1691 950.023 Q83.1344 950.023 86.0308 953.969 Q88.9272 957.884 88.9272 964.759 Q88.9272 967.624 88.3543 970.743 Q87.8132 973.83 86.6992 977.268 L80.6518 977.268 Q82.3387 974.021 83.198 970.87 Q84.0256 967.719 84.0256 964.632 Q84.0256 960.494 82.6251 958.266 Q81.1929 956.038 78.6147 956.038 Q76.2276 956.038 74.9545 957.662 Q73.6813 959.253 72.5037 964.696 L72.0262 966.733 Q70.8804 972.175 68.5251 974.594 Q66.138 977.013 62.0002 977.013 Q56.9713 977.013 54.2341 973.449 Q51.4968 969.884 51.4968 963.327 Q51.4968 960.081 51.9743 957.216 Q52.4517 954.351 53.4065 951.932 Z\" fill=\"#000000\" fill-rule=\"evenodd\" fill-opacity=\"1\" /><path clip-path=\"url(#clip350)\" d=\"M 0 0 M53.4065 921.154 L58.9447 921.154 Q57.6716 923.637 57.035 926.31 Q56.3984 928.984 56.3984 931.849 Q56.3984 936.209 57.7352 938.405 Q59.072 940.57 61.7456 940.57 Q63.7826 940.57 64.9603 939.01 Q66.1061 937.45 67.1565 932.74 L67.6021 930.735 Q68.9389 924.496 71.3897 921.886 Q73.8086 919.245 78.1691 919.245 Q83.1344 919.245 86.0308 923.191 Q88.9272 927.106 88.9272 933.981 Q88.9272 936.846 88.3543 939.965 Q87.8132 943.052 86.6992 946.49 L80.6518 946.49 Q82.3387 943.243 83.198 940.092 Q84.0256 936.941 84.0256 933.854 Q84.0256 929.716 82.6251 927.488 Q81.1929 925.26 78.6147 925.26 Q76.2276 925.26 74.9545 926.883 Q73.6813 928.475 72.5037 933.918 L72.0262 935.955 Q70.8804 941.397 68.5251 943.816 Q66.138 946.235 62.0002 946.235 Q56.9713 946.235 54.2341 942.67 Q51.4968 939.106 51.4968 932.549 Q51.4968 929.302 51.9743 926.438 Q52.4517 923.573 53.4065 921.154 Z\" fill=\"#000000\" fill-rule=\"evenodd\" fill-opacity=\"1\" /><path clip-path=\"url(#clip350)\" d=\"M 0 0 M52.3562 913.102 L52.3562 907.245 L88.0042 907.245 L88.0042 913.102 L52.3562 913.102 M38.479 913.102 L38.479 907.245 L45.895 907.245 L45.895 913.102 L38.479 913.102 Z\" fill=\"#000000\" fill-rule=\"evenodd\" fill-opacity=\"1\" /><path clip-path=\"url(#clip350)\" d=\"M 0 0 M38.479 883.056 L43.3487 883.056 L43.3487 888.657 Q43.3487 891.808 44.6219 893.05 Q45.895 894.259 49.2052 894.259 L52.3562 894.259 L52.3562 884.615 L56.9077 884.615 L56.9077 894.259 L88.0042 894.259 L88.0042 900.147 L56.9077 900.147 L56.9077 905.749 L52.3562 905.749 L52.3562 900.147 L49.8736 900.147 Q43.9216 900.147 41.2162 897.378 Q38.479 894.609 38.479 888.594 L38.479 883.056 Z\" fill=\"#000000\" fill-rule=\"evenodd\" fill-opacity=\"1\" /><path clip-path=\"url(#clip350)\" d=\"M 0 0 M52.3562 876.913 L52.3562 871.056 L88.0042 871.056 L88.0042 876.913 L52.3562 876.913 M38.479 876.913 L38.479 871.056 L45.895 871.056 L45.895 876.913 L38.479 876.913 Z\" fill=\"#000000\" fill-rule=\"evenodd\" fill-opacity=\"1\" /><path clip-path=\"url(#clip350)\" d=\"M 0 0 M53.7248 839.259 L59.1993 839.259 Q57.8307 841.742 57.1623 844.257 Q56.4621 846.739 56.4621 849.285 Q56.4621 854.983 60.0905 858.134 Q63.6872 861.285 70.212 861.285 Q76.7369 861.285 80.3653 858.134 Q83.9619 854.983 83.9619 849.285 Q83.9619 846.739 83.2935 844.257 Q82.5933 841.742 81.2247 839.259 L86.6355 839.259 Q87.7814 841.71 88.3543 844.352 Q88.9272 846.962 88.9272 849.922 Q88.9272 857.975 83.8664 862.717 Q78.8057 867.46 70.212 867.46 Q61.491 867.46 56.4939 862.685 Q51.4968 857.879 51.4968 849.54 Q51.4968 846.835 52.0697 844.257 Q52.6108 841.678 53.7248 839.259 Z\" fill=\"#000000\" fill-rule=\"evenodd\" fill-opacity=\"1\" /><path clip-path=\"url(#clip350)\" d=\"M 0 0 M70.0847 816.916 Q70.0847 824.014 71.7079 826.751 Q73.3312 829.488 77.2461 829.488 Q80.3653 829.488 82.2114 827.451 Q84.0256 825.382 84.0256 821.849 Q84.0256 816.979 80.5881 814.051 Q77.1188 811.091 71.3897 811.091 L70.0847 811.091 L70.0847 816.916 M67.6657 805.235 L88.0042 805.235 L88.0042 811.091 L82.5933 811.091 Q85.8398 813.096 87.3994 816.088 Q88.9272 819.08 88.9272 823.409 Q88.9272 828.883 85.8716 832.13 Q82.7843 835.345 77.6281 835.345 Q71.6125 835.345 68.5569 831.334 Q65.5014 827.292 65.5014 819.303 L65.5014 811.091 L64.9285 811.091 Q60.8862 811.091 58.6901 813.765 Q56.4621 816.407 56.4621 821.213 Q56.4621 824.268 57.1941 827.165 Q57.9262 830.061 59.3903 832.735 L53.9795 832.735 Q52.7381 829.52 52.1334 826.496 Q51.4968 823.472 51.4968 820.608 Q51.4968 812.874 55.5072 809.054 Q59.5176 805.235 67.6657 805.235 Z\" fill=\"#000000\" fill-rule=\"evenodd\" fill-opacity=\"1\" /><path clip-path=\"url(#clip350)\" d=\"M 0 0 M42.2347 793.299 L52.3562 793.299 L52.3562 781.236 L56.9077 781.236 L56.9077 793.299 L76.2594 793.299 Q80.6199 793.299 81.8613 792.121 Q83.1026 790.912 83.1026 787.252 L83.1026 781.236 L88.0042 781.236 L88.0042 787.252 Q88.0042 794.031 85.4897 796.609 Q82.9434 799.187 76.2594 799.187 L56.9077 799.187 L56.9077 803.484 L52.3562 803.484 L52.3562 799.187 L42.2347 799.187 L42.2347 793.299 Z\" fill=\"#000000\" fill-rule=\"evenodd\" fill-opacity=\"1\" /><path clip-path=\"url(#clip350)\" d=\"M 0 0 M52.3562 775.093 L52.3562 769.237 L88.0042 769.237 L88.0042 775.093 L52.3562 775.093 M38.479 775.093 L38.479 769.237 L45.895 769.237 L45.895 775.093 L38.479 775.093 Z\" fill=\"#000000\" fill-rule=\"evenodd\" fill-opacity=\"1\" /><path clip-path=\"url(#clip350)\" d=\"M 0 0 M56.4621 749.28 Q56.4621 753.991 60.1542 756.728 Q63.8145 759.465 70.212 759.465 Q76.6095 759.465 80.3017 756.76 Q83.9619 754.023 83.9619 749.28 Q83.9619 744.601 80.2698 741.864 Q76.5777 739.127 70.212 739.127 Q63.8781 739.127 60.186 741.864 Q56.4621 744.601 56.4621 749.28 M51.4968 749.28 Q51.4968 741.641 56.4621 737.281 Q61.4273 732.92 70.212 732.92 Q78.9649 732.92 83.9619 737.281 Q88.9272 741.641 88.9272 749.28 Q88.9272 756.951 83.9619 761.311 Q78.9649 765.64 70.212 765.64 Q61.4273 765.64 56.4621 761.311 Q51.4968 756.951 51.4968 749.28 Z\" fill=\"#000000\" fill-rule=\"evenodd\" fill-opacity=\"1\" /><path clip-path=\"url(#clip350)\" d=\"M 0 0 M66.4881 697.145 L88.0042 697.145 L88.0042 703.001 L66.679 703.001 Q61.6183 703.001 59.1038 704.975 Q56.5894 706.948 56.5894 710.895 Q56.5894 715.637 59.6131 718.375 Q62.6368 721.112 67.8567 721.112 L88.0042 721.112 L88.0042 727 L52.3562 727 L52.3562 721.112 L57.8944 721.112 Q54.6797 719.011 53.0883 716.179 Q51.4968 713.314 51.4968 709.59 Q51.4968 703.447 55.3163 700.296 Q59.1038 697.145 66.4881 697.145 Z\" fill=\"#000000\" fill-rule=\"evenodd\" fill-opacity=\"1\" /><path clip-path=\"url(#clip350)\" d=\"M 0 0 M46.818 654.145 L70.4666 662.866 L70.4666 645.392 L46.818 654.145 M40.4842 657.773 L40.4842 650.484 L88.0042 632.374 L88.0042 639.058 L75.8138 643.387 L75.8138 664.807 L88.0042 669.136 L88.0042 675.915 L40.4842 657.773 Z\" fill=\"#000000\" fill-rule=\"evenodd\" fill-opacity=\"1\" /><path clip-path=\"url(#clip350)\" d=\"M 0 0 M53.7248 601.723 L59.1993 601.723 Q57.8307 604.206 57.1623 606.72 Q56.4621 609.203 56.4621 611.749 Q56.4621 617.446 60.0905 620.597 Q63.6872 623.748 70.212 623.748 Q76.7369 623.748 80.3653 620.597 Q83.9619 617.446 83.9619 611.749 Q83.9619 609.203 83.2935 606.72 Q82.5933 604.206 81.2247 601.723 L86.6355 601.723 Q87.7814 604.174 88.3543 606.816 Q88.9272 609.426 88.9272 612.386 Q88.9272 620.438 83.8664 625.181 Q78.8057 629.923 70.212 629.923 Q61.491 629.923 56.4939 625.149 Q51.4968 620.343 51.4968 612.004 Q51.4968 609.298 52.0697 606.72 Q52.6108 604.142 53.7248 601.723 Z\" fill=\"#000000\" fill-rule=\"evenodd\" fill-opacity=\"1\" /><path clip-path=\"url(#clip350)\" d=\"M 0 0 M53.7248 569.926 L59.1993 569.926 Q57.8307 572.409 57.1623 574.923 Q56.4621 577.406 56.4621 579.952 Q56.4621 585.65 60.0905 588.801 Q63.6872 591.952 70.212 591.952 Q76.7369 591.952 80.3653 588.801 Q83.9619 585.65 83.9619 579.952 Q83.9619 577.406 83.2935 574.923 Q82.5933 572.409 81.2247 569.926 L86.6355 569.926 Q87.7814 572.377 88.3543 575.019 Q88.9272 577.629 88.9272 580.589 Q88.9272 588.642 83.8664 593.384 Q78.8057 598.126 70.212 598.126 Q61.491 598.126 56.4939 593.352 Q51.4968 588.546 51.4968 580.207 Q51.4968 577.502 52.0697 574.923 Q52.6108 572.345 53.7248 569.926 Z\" fill=\"#000000\" fill-rule=\"evenodd\" fill-opacity=\"1\" /><path clip-path=\"url(#clip350)\" d=\"M 0 0 M73.9359 564.388 L52.3562 564.388 L52.3562 558.532 L73.7131 558.532 Q78.7739 558.532 81.3202 556.558 Q83.8346 554.585 83.8346 550.638 Q83.8346 545.896 80.8109 543.159 Q77.7872 540.39 72.5673 540.39 L52.3562 540.39 L52.3562 534.533 L88.0042 534.533 L88.0042 540.39 L82.5296 540.39 Q85.7762 542.522 87.3676 545.355 Q88.9272 548.156 88.9272 551.88 Q88.9272 558.023 85.1078 561.205 Q81.2883 564.388 73.9359 564.388 M51.4968 549.652 L51.4968 549.652 Z\" fill=\"#000000\" fill-rule=\"evenodd\" fill-opacity=\"1\" /><path clip-path=\"url(#clip350)\" d=\"M 0 0 M57.8307 507.733 Q57.2578 508.72 57.0032 509.898 Q56.7167 511.044 56.7167 512.444 Q56.7167 517.409 59.9632 520.083 Q63.1779 522.725 69.2253 522.725 L88.0042 522.725 L88.0042 528.613 L52.3562 528.613 L52.3562 522.725 L57.8944 522.725 Q54.6479 520.879 53.0883 517.919 Q51.4968 514.959 51.4968 510.725 Q51.4968 510.121 51.5923 509.389 Q51.656 508.656 51.8151 507.765 L57.8307 507.733 Z\" fill=\"#000000\" fill-rule=\"evenodd\" fill-opacity=\"1\" /><path clip-path=\"url(#clip350)\" d=\"M 0 0 M70.0847 485.39 Q70.0847 492.488 71.7079 495.225 Q73.3312 497.962 77.2461 497.962 Q80.3653 497.962 82.2114 495.925 Q84.0256 493.856 84.0256 490.323 Q84.0256 485.453 80.5881 482.525 Q77.1188 479.565 71.3897 479.565 L70.0847 479.565 L70.0847 485.39 M67.6657 473.709 L88.0042 473.709 L88.0042 479.565 L82.5933 479.565 Q85.8398 481.57 87.3994 484.562 Q88.9272 487.554 88.9272 491.883 Q88.9272 497.357 85.8716 500.604 Q82.7843 503.819 77.6281 503.819 Q71.6125 503.819 68.5569 499.808 Q65.5014 495.766 65.5014 487.777 L65.5014 479.565 L64.9285 479.565 Q60.8862 479.565 58.6901 482.239 Q56.4621 484.881 56.4621 489.687 Q56.4621 492.742 57.1941 495.639 Q57.9262 498.535 59.3903 501.209 L53.9795 501.209 Q52.7381 497.994 52.1334 494.97 Q51.4968 491.946 51.4968 489.082 Q51.4968 481.348 55.5072 477.528 Q59.5176 473.709 67.6657 473.709 Z\" fill=\"#000000\" fill-rule=\"evenodd\" fill-opacity=\"1\" /><path clip-path=\"url(#clip350)\" d=\"M 0 0 M53.7248 441.912 L59.1993 441.912 Q57.8307 444.395 57.1623 446.909 Q56.4621 449.392 56.4621 451.938 Q56.4621 457.635 60.0905 460.786 Q63.6872 463.937 70.212 463.937 Q76.7369 463.937 80.3653 460.786 Q83.9619 457.635 83.9619 451.938 Q83.9619 449.392 83.2935 446.909 Q82.5933 444.395 81.2247 441.912 L86.6355 441.912 Q87.7814 444.363 88.3543 447.005 Q88.9272 449.615 88.9272 452.575 Q88.9272 460.627 83.8664 465.37 Q78.8057 470.112 70.212 470.112 Q61.491 470.112 56.4939 465.338 Q51.4968 460.532 51.4968 452.193 Q51.4968 449.487 52.0697 446.909 Q52.6108 444.331 53.7248 441.912 Z\" fill=\"#000000\" fill-rule=\"evenodd\" fill-opacity=\"1\" /><path clip-path=\"url(#clip350)\" d=\"M 0 0 M91.3143 420.937 Q97.68 423.42 99.6216 425.775 Q101.563 428.13 101.563 432.077 L101.563 436.756 L96.6615 436.756 L96.6615 433.318 Q96.6615 430.899 95.5157 429.563 Q94.3699 428.226 90.1048 426.603 L87.4312 425.552 L52.3562 439.97 L52.3562 433.764 L80.238 422.624 L52.3562 411.484 L52.3562 405.277 L91.3143 420.937 Z\" fill=\"#000000\" fill-rule=\"evenodd\" fill-opacity=\"1\" /><polyline clip-path=\"url(#clip352)\" style=\"stroke:#009af9; stroke-width:4; stroke-opacity:1; fill:none\" points=\"\n",
       "  272.201,875.731 301.906,875.731 331.612,280.669 361.317,304.472 391.022,558.365 420.727,263.667 450.433,161.657 480.138,188.104 509.843,161.657 539.548,140.018 \n",
       "  569.253,121.986 598.959,143.347 628.664,161.657 658.369,209.262 688.074,161.657 717.78,175.658 747.485,161.657 777.19,174.185 806.895,137.854 836.601,172.991 \n",
       "  866.306,161.657 896.011,192.704 925.716,201.328 955.422,152.136 985.127,143.347 1014.83,152.841 1044.54,178.659 1074.24,137.034 1103.95,145.789 1133.65,153.979 \n",
       "  1163.36,102.151 1193.06,140.018 1222.77,133.654 1252.47,141.255 1282.18,108.763 1311.88,142.358 1341.59,111.546 1371.29,118.935 1401,102.151 1430.71,86.1857 \n",
       "  1460.41,104.984 1490.12,122.909 1519.82,129.199 1549.53,114.052 1579.23,120.261 1608.94,105.949 1638.64,121.986 1668.35,108.223 1698.05,133.094 1727.76,119.653 \n",
       "  1757.46,97.5733 1787.17,103.274 1816.87,117.578 1846.58,105.397 1876.28,110.652 1905.99,124.074 1935.69,145.241 1965.4,125.348 1995.1,137.854 2024.81,142.147 \n",
       "  2054.52,115.588 2084.22,135.21 2113.93,146.78 2143.63,157.995 2173.34,140.018 2203.04,136.789 2232.75,112.652 2262.45,123.711 2292.16,134.454 \n",
       "  \"/>\n",
       "<polyline clip-path=\"url(#clip352)\" style=\"stroke:#e26f46; stroke-width:4; stroke-opacity:1; fill:none\" points=\"\n",
       "  272.201,1384.24 301.906,1086.71 331.612,870.321 361.317,816.225 391.022,951.466 420.727,680.984 450.433,572.79 480.138,491.646 509.843,545.742 539.548,464.597 \n",
       "  569.253,437.549 598.959,410.501 628.664,383.453 658.369,383.453 688.074,464.597 717.78,464.597 747.485,437.549 777.19,437.549 806.895,410.501 836.601,383.453 \n",
       "  866.306,302.308 896.011,410.501 925.716,356.404 955.422,329.356 985.127,302.308 1014.83,302.308 1044.54,329.356 1074.24,356.404 1103.95,275.26 1133.65,275.26 \n",
       "  1163.36,275.26 1193.06,356.404 1222.77,302.308 1252.47,329.356 1282.18,329.356 1311.88,302.308 1341.59,275.26 1371.29,302.308 1401,302.308 1430.71,302.308 \n",
       "  1460.41,302.308 1490.12,248.211 1519.82,275.26 1549.53,275.26 1579.23,302.308 1608.94,275.26 1638.64,275.26 1668.35,302.308 1698.05,275.26 1727.76,302.308 \n",
       "  1757.46,329.356 1787.17,329.356 1816.87,275.26 1846.58,248.211 1876.28,248.211 1905.99,275.26 1935.69,275.26 1965.4,275.26 1995.1,275.26 2024.81,248.211 \n",
       "  2054.52,275.26 2084.22,275.26 2113.93,275.26 2143.63,275.26 2173.34,275.26 2203.04,248.211 2232.75,248.211 2262.45,194.115 2292.16,275.26 \n",
       "  \"/>\n",
       "<path clip-path=\"url(#clip350)\" d=\"\n",
       "M1844.15 1377.32 L2281.38 1377.32 L2281.38 1195.88 L1844.15 1195.88  Z\n",
       "  \" fill=\"#ffffff\" fill-rule=\"evenodd\" fill-opacity=\"1\"/>\n",
       "<polyline clip-path=\"url(#clip350)\" style=\"stroke:#000000; stroke-width:4; stroke-opacity:1; fill:none\" points=\"\n",
       "  1844.15,1377.32 2281.38,1377.32 2281.38,1195.88 1844.15,1195.88 1844.15,1377.32 \n",
       "  \"/>\n",
       "<polyline clip-path=\"url(#clip350)\" style=\"stroke:#009af9; stroke-width:4; stroke-opacity:1; fill:none\" points=\"\n",
       "  1867.94,1256.36 2010.68,1256.36 \n",
       "  \"/>\n",
       "<path clip-path=\"url(#clip350)\" d=\"M 0 0 M2034.48 1239.08 L2063.71 1239.08 L2063.71 1243.01 L2051.44 1243.01 L2051.44 1273.64 L2046.74 1273.64 L2046.74 1243.01 L2034.48 1243.01 L2034.48 1239.08 Z\" fill=\"#000000\" fill-rule=\"evenodd\" fill-opacity=\"1\" /><path clip-path=\"url(#clip350)\" d=\"M 0 0 M2076.23 1251.69 Q2075.52 1251.27 2074.66 1251.09 Q2073.83 1250.88 2072.81 1250.88 Q2069.2 1250.88 2067.25 1253.24 Q2065.33 1255.58 2065.33 1259.98 L2065.33 1273.64 L2061.05 1273.64 L2061.05 1247.71 L2065.33 1247.71 L2065.33 1251.74 Q2066.67 1249.38 2068.83 1248.24 Q2070.98 1247.08 2074.06 1247.08 Q2074.5 1247.08 2075.03 1247.15 Q2075.56 1247.2 2076.21 1247.32 L2076.23 1251.69 Z\" fill=\"#000000\" fill-rule=\"evenodd\" fill-opacity=\"1\" /><path clip-path=\"url(#clip350)\" d=\"M 0 0 M2092.48 1260.6 Q2087.32 1260.6 2085.33 1261.78 Q2083.34 1262.96 2083.34 1265.81 Q2083.34 1268.08 2084.82 1269.42 Q2086.33 1270.74 2088.9 1270.74 Q2092.44 1270.74 2094.57 1268.24 Q2096.72 1265.72 2096.72 1261.55 L2096.72 1260.6 L2092.48 1260.6 M2100.98 1258.84 L2100.98 1273.64 L2096.72 1273.64 L2096.72 1269.7 Q2095.26 1272.06 2093.09 1273.2 Q2090.91 1274.31 2087.76 1274.31 Q2083.78 1274.31 2081.42 1272.08 Q2079.08 1269.84 2079.08 1266.09 Q2079.08 1261.71 2082 1259.49 Q2084.94 1257.27 2090.75 1257.27 L2096.72 1257.27 L2096.72 1256.85 Q2096.72 1253.91 2094.78 1252.32 Q2092.85 1250.7 2089.36 1250.7 Q2087.14 1250.7 2085.03 1251.23 Q2082.92 1251.76 2080.98 1252.83 L2080.98 1248.89 Q2083.32 1247.99 2085.52 1247.55 Q2087.72 1247.08 2089.8 1247.08 Q2095.42 1247.08 2098.2 1250 Q2100.98 1252.92 2100.98 1258.84 Z\" fill=\"#000000\" fill-rule=\"evenodd\" fill-opacity=\"1\" /><path clip-path=\"url(#clip350)\" d=\"M 0 0 M2105.45 1247.71 L2109.71 1247.71 L2109.71 1273.64 L2105.45 1273.64 L2105.45 1247.71 M2105.45 1237.62 L2109.71 1237.62 L2109.71 1243.01 L2105.45 1243.01 L2105.45 1237.62 Z\" fill=\"#000000\" fill-rule=\"evenodd\" fill-opacity=\"1\" /><path clip-path=\"url(#clip350)\" d=\"M 0 0 M2135.72 1257.99 L2135.72 1273.64 L2131.47 1273.64 L2131.47 1258.13 Q2131.47 1254.45 2130.03 1252.62 Q2128.6 1250.79 2125.72 1250.79 Q2122.28 1250.79 2120.29 1252.99 Q2118.29 1255.19 2118.29 1258.98 L2118.29 1273.64 L2114.01 1273.64 L2114.01 1247.71 L2118.29 1247.71 L2118.29 1251.74 Q2119.82 1249.4 2121.88 1248.24 Q2123.97 1247.08 2126.67 1247.08 Q2131.14 1247.08 2133.43 1249.86 Q2135.72 1252.62 2135.72 1257.99 Z\" fill=\"#000000\" fill-rule=\"evenodd\" fill-opacity=\"1\" /><path clip-path=\"url(#clip350)\" d=\"M 0 0 M2140.19 1247.71 L2144.45 1247.71 L2144.45 1273.64 L2140.19 1273.64 L2140.19 1247.71 M2140.19 1237.62 L2144.45 1237.62 L2144.45 1243.01 L2140.19 1243.01 L2140.19 1237.62 Z\" fill=\"#000000\" fill-rule=\"evenodd\" fill-opacity=\"1\" /><path clip-path=\"url(#clip350)\" d=\"M 0 0 M2170.47 1257.99 L2170.47 1273.64 L2166.21 1273.64 L2166.21 1258.13 Q2166.21 1254.45 2164.78 1252.62 Q2163.34 1250.79 2160.47 1250.79 Q2157.02 1250.79 2155.03 1252.99 Q2153.04 1255.19 2153.04 1258.98 L2153.04 1273.64 L2148.76 1273.64 L2148.76 1247.71 L2153.04 1247.71 L2153.04 1251.74 Q2154.57 1249.4 2156.63 1248.24 Q2158.71 1247.08 2161.42 1247.08 Q2165.89 1247.08 2168.18 1249.86 Q2170.47 1252.62 2170.47 1257.99 Z\" fill=\"#000000\" fill-rule=\"evenodd\" fill-opacity=\"1\" /><path clip-path=\"url(#clip350)\" d=\"M 0 0 M2192 1260.37 Q2192 1255.74 2190.08 1253.2 Q2188.18 1250.65 2184.73 1250.65 Q2181.3 1250.65 2179.38 1253.2 Q2177.48 1255.74 2177.48 1260.37 Q2177.48 1264.98 2179.38 1267.52 Q2181.3 1270.07 2184.73 1270.07 Q2188.18 1270.07 2190.08 1267.52 Q2192 1264.98 2192 1260.37 M2196.26 1270.42 Q2196.26 1277.04 2193.32 1280.26 Q2190.38 1283.5 2184.31 1283.5 Q2182.07 1283.5 2180.08 1283.15 Q2178.09 1282.83 2176.21 1282.13 L2176.21 1277.99 Q2178.09 1279.01 2179.91 1279.49 Q2181.74 1279.98 2183.64 1279.98 Q2187.83 1279.98 2189.91 1277.78 Q2192 1275.6 2192 1271.18 L2192 1269.08 Q2190.68 1271.37 2188.62 1272.5 Q2186.56 1273.64 2183.69 1273.64 Q2178.92 1273.64 2176 1270 Q2173.09 1266.37 2173.09 1260.37 Q2173.09 1254.35 2176 1250.72 Q2178.92 1247.08 2183.69 1247.08 Q2186.56 1247.08 2188.62 1248.22 Q2190.68 1249.35 2192 1251.64 L2192 1247.71 L2196.26 1247.71 L2196.26 1270.42 Z\" fill=\"#000000\" fill-rule=\"evenodd\" fill-opacity=\"1\" /><polyline clip-path=\"url(#clip350)\" style=\"stroke:#e26f46; stroke-width:4; stroke-opacity:1; fill:none\" points=\"\n",
       "  1867.94,1316.84 2010.68,1316.84 \n",
       "  \"/>\n",
       "<path clip-path=\"url(#clip350)\" d=\"M 0 0 M2047.67 1334.12 L2034.48 1299.56 L2039.36 1299.56 L2050.31 1328.65 L2061.28 1299.56 L2066.14 1299.56 L2052.97 1334.12 L2047.67 1334.12 Z\" fill=\"#000000\" fill-rule=\"evenodd\" fill-opacity=\"1\" /><path clip-path=\"url(#clip350)\" d=\"M 0 0 M2078.71 1321.08 Q2073.55 1321.08 2071.56 1322.26 Q2069.57 1323.44 2069.57 1326.29 Q2069.57 1328.56 2071.05 1329.9 Q2072.55 1331.22 2075.12 1331.22 Q2078.66 1331.22 2080.79 1328.72 Q2082.95 1326.2 2082.95 1322.03 L2082.95 1321.08 L2078.71 1321.08 M2087.21 1319.32 L2087.21 1334.12 L2082.95 1334.12 L2082.95 1330.18 Q2081.49 1332.54 2079.31 1333.68 Q2077.14 1334.79 2073.99 1334.79 Q2070.01 1334.79 2067.65 1332.56 Q2065.31 1330.32 2065.31 1326.57 Q2065.31 1322.19 2068.23 1319.97 Q2071.16 1317.75 2076.98 1317.75 L2082.95 1317.75 L2082.95 1317.33 Q2082.95 1314.39 2081 1312.8 Q2079.08 1311.18 2075.59 1311.18 Q2073.36 1311.18 2071.26 1311.71 Q2069.15 1312.24 2067.21 1313.31 L2067.21 1309.37 Q2069.54 1308.47 2071.74 1308.03 Q2073.94 1307.56 2076.03 1307.56 Q2081.65 1307.56 2084.43 1310.48 Q2087.21 1313.4 2087.21 1319.32 Z\" fill=\"#000000\" fill-rule=\"evenodd\" fill-opacity=\"1\" /><path clip-path=\"url(#clip350)\" d=\"M 0 0 M2091.67 1298.1 L2095.93 1298.1 L2095.93 1334.12 L2091.67 1334.12 L2091.67 1298.1 Z\" fill=\"#000000\" fill-rule=\"evenodd\" fill-opacity=\"1\" /><path clip-path=\"url(#clip350)\" d=\"M 0 0 M2100.4 1308.19 L2104.66 1308.19 L2104.66 1334.12 L2100.4 1334.12 L2100.4 1308.19 M2100.4 1298.1 L2104.66 1298.1 L2104.66 1303.49 L2100.4 1303.49 L2100.4 1298.1 Z\" fill=\"#000000\" fill-rule=\"evenodd\" fill-opacity=\"1\" /><path clip-path=\"url(#clip350)\" d=\"M 0 0 M2126.19 1312.12 L2126.19 1298.1 L2130.45 1298.1 L2130.45 1334.12 L2126.19 1334.12 L2126.19 1330.23 Q2124.85 1332.54 2122.79 1333.68 Q2120.75 1334.79 2117.88 1334.79 Q2113.18 1334.79 2110.22 1331.04 Q2107.28 1327.29 2107.28 1321.18 Q2107.28 1315.06 2110.22 1311.31 Q2113.18 1307.56 2117.88 1307.56 Q2120.75 1307.56 2122.79 1308.7 Q2124.85 1309.81 2126.19 1312.12 M2111.67 1321.18 Q2111.67 1325.87 2113.6 1328.56 Q2115.54 1331.22 2118.92 1331.22 Q2122.3 1331.22 2124.24 1328.56 Q2126.19 1325.87 2126.19 1321.18 Q2126.19 1316.48 2124.24 1313.81 Q2122.3 1311.13 2118.92 1311.13 Q2115.54 1311.13 2113.6 1313.81 Q2111.67 1316.48 2111.67 1321.18 Z\" fill=\"#000000\" fill-rule=\"evenodd\" fill-opacity=\"1\" /><path clip-path=\"url(#clip350)\" d=\"M 0 0 M2146.7 1321.08 Q2141.53 1321.08 2139.54 1322.26 Q2137.55 1323.44 2137.55 1326.29 Q2137.55 1328.56 2139.03 1329.9 Q2140.54 1331.22 2143.11 1331.22 Q2146.65 1331.22 2148.78 1328.72 Q2150.93 1326.2 2150.93 1322.03 L2150.93 1321.08 L2146.7 1321.08 M2155.19 1319.32 L2155.19 1334.12 L2150.93 1334.12 L2150.93 1330.18 Q2149.47 1332.54 2147.3 1333.68 Q2145.12 1334.79 2141.97 1334.79 Q2137.99 1334.79 2135.63 1332.56 Q2133.29 1330.32 2133.29 1326.57 Q2133.29 1322.19 2136.21 1319.97 Q2139.15 1317.75 2144.96 1317.75 L2150.93 1317.75 L2150.93 1317.33 Q2150.93 1314.39 2148.99 1312.8 Q2147.07 1311.18 2143.57 1311.18 Q2141.35 1311.18 2139.24 1311.71 Q2137.14 1312.24 2135.19 1313.31 L2135.19 1309.37 Q2137.53 1308.47 2139.73 1308.03 Q2141.93 1307.56 2144.01 1307.56 Q2149.64 1307.56 2152.41 1310.48 Q2155.19 1313.4 2155.19 1319.32 Z\" fill=\"#000000\" fill-rule=\"evenodd\" fill-opacity=\"1\" /><path clip-path=\"url(#clip350)\" d=\"M 0 0 M2163.87 1300.83 L2163.87 1308.19 L2172.65 1308.19 L2172.65 1311.5 L2163.87 1311.5 L2163.87 1325.57 Q2163.87 1328.74 2164.73 1329.65 Q2165.61 1330.55 2168.27 1330.55 L2172.65 1330.55 L2172.65 1334.12 L2168.27 1334.12 Q2163.34 1334.12 2161.47 1332.29 Q2159.59 1330.43 2159.59 1325.57 L2159.59 1311.5 L2156.47 1311.5 L2156.47 1308.19 L2159.59 1308.19 L2159.59 1300.83 L2163.87 1300.83 Z\" fill=\"#000000\" fill-rule=\"evenodd\" fill-opacity=\"1\" /><path clip-path=\"url(#clip350)\" d=\"M 0 0 M2177.11 1308.19 L2181.37 1308.19 L2181.37 1334.12 L2177.11 1334.12 L2177.11 1308.19 M2177.11 1298.1 L2181.37 1298.1 L2181.37 1303.49 L2177.11 1303.49 L2177.11 1298.1 Z\" fill=\"#000000\" fill-rule=\"evenodd\" fill-opacity=\"1\" /><path clip-path=\"url(#clip350)\" d=\"M 0 0 M2195.89 1311.18 Q2192.46 1311.18 2190.47 1313.86 Q2188.48 1316.52 2188.48 1321.18 Q2188.48 1325.83 2190.45 1328.51 Q2192.44 1331.18 2195.89 1331.18 Q2199.29 1331.18 2201.28 1328.49 Q2203.27 1325.81 2203.27 1321.18 Q2203.27 1316.57 2201.28 1313.88 Q2199.29 1311.18 2195.89 1311.18 M2195.89 1307.56 Q2201.44 1307.56 2204.61 1311.18 Q2207.78 1314.79 2207.78 1321.18 Q2207.78 1327.54 2204.61 1331.18 Q2201.44 1334.79 2195.89 1334.79 Q2190.31 1334.79 2187.14 1331.18 Q2183.99 1327.54 2183.99 1321.18 Q2183.99 1314.79 2187.14 1311.18 Q2190.31 1307.56 2195.89 1307.56 Z\" fill=\"#000000\" fill-rule=\"evenodd\" fill-opacity=\"1\" /><path clip-path=\"url(#clip350)\" d=\"M 0 0 M2233.8 1318.47 L2233.8 1334.12 L2229.54 1334.12 L2229.54 1318.61 Q2229.54 1314.93 2228.11 1313.1 Q2226.67 1311.27 2223.8 1311.27 Q2220.35 1311.27 2218.36 1313.47 Q2216.37 1315.67 2216.37 1319.46 L2216.37 1334.12 L2212.09 1334.12 L2212.09 1308.19 L2216.37 1308.19 L2216.37 1312.22 Q2217.9 1309.88 2219.96 1308.72 Q2222.04 1307.56 2224.75 1307.56 Q2229.22 1307.56 2231.51 1310.34 Q2233.8 1313.1 2233.8 1318.47 Z\" fill=\"#000000\" fill-rule=\"evenodd\" fill-opacity=\"1\" /></svg>\n"
      ]
     },
     "execution_count": 105,
     "metadata": {},
     "output_type": "execute_result"
    }
   ],
   "source": [
    "plot(data_schedule, training_losses, label=\"Training\", legend=:bottomright)\n",
    "plot!(data_schedule, valid_losses, label=\"Validation\")\n",
    "xlabel!(\"Number of Training Samples\")\n",
    "ylabel!(\"Classification Accuracy\")"
   ]
  },
  {
   "cell_type": "code",
   "execution_count": 106,
   "metadata": {},
   "outputs": [
    {
     "data": {
      "image/svg+xml": [
       "<?xml version=\"1.0\" encoding=\"utf-8\"?>\n",
       "<svg xmlns=\"http://www.w3.org/2000/svg\" xmlns:xlink=\"http://www.w3.org/1999/xlink\" width=\"600\" height=\"400\" viewBox=\"0 0 2400 1600\">\n",
       "<defs>\n",
       "  <clipPath id=\"clip390\">\n",
       "    <rect x=\"0\" y=\"0\" width=\"2400\" height=\"1600\"/>\n",
       "  </clipPath>\n",
       "</defs>\n",
       "<path clip-path=\"url(#clip390)\" d=\"\n",
       "M0 1600 L2400 1600 L2400 0 L0 0  Z\n",
       "  \" fill=\"#ffffff\" fill-rule=\"evenodd\" fill-opacity=\"1\"/>\n",
       "<defs>\n",
       "  <clipPath id=\"clip391\">\n",
       "    <rect x=\"480\" y=\"0\" width=\"1681\" height=\"1600\"/>\n",
       "  </clipPath>\n",
       "</defs>\n",
       "<path clip-path=\"url(#clip390)\" d=\"\n",
       "M238.037 1423.18 L2352.76 1423.18 L2352.76 47.2441 L238.037 47.2441  Z\n",
       "  \" fill=\"#ffffff\" fill-rule=\"evenodd\" fill-opacity=\"1\"/>\n",
       "<defs>\n",
       "  <clipPath id=\"clip392\">\n",
       "    <rect x=\"238\" y=\"47\" width=\"2116\" height=\"1377\"/>\n",
       "  </clipPath>\n",
       "</defs>\n",
       "<polyline clip-path=\"url(#clip392)\" style=\"stroke:#000000; stroke-width:2; stroke-opacity:0.1; fill:none\" points=\"\n",
       "  638.853,1423.18 638.853,47.2441 \n",
       "  \"/>\n",
       "<polyline clip-path=\"url(#clip392)\" style=\"stroke:#000000; stroke-width:2; stroke-opacity:0.1; fill:none\" points=\"\n",
       "  1076.55,1423.18 1076.55,47.2441 \n",
       "  \"/>\n",
       "<polyline clip-path=\"url(#clip392)\" style=\"stroke:#000000; stroke-width:2; stroke-opacity:0.1; fill:none\" points=\"\n",
       "  1514.24,1423.18 1514.24,47.2441 \n",
       "  \"/>\n",
       "<polyline clip-path=\"url(#clip392)\" style=\"stroke:#000000; stroke-width:2; stroke-opacity:0.1; fill:none\" points=\"\n",
       "  1951.94,1423.18 1951.94,47.2441 \n",
       "  \"/>\n",
       "<polyline clip-path=\"url(#clip392)\" style=\"stroke:#000000; stroke-width:2; stroke-opacity:0.1; fill:none\" points=\"\n",
       "  238.037,1384.24 2352.76,1384.24 \n",
       "  \"/>\n",
       "<polyline clip-path=\"url(#clip392)\" style=\"stroke:#000000; stroke-width:2; stroke-opacity:0.1; fill:none\" points=\"\n",
       "  238.037,951.554 2352.76,951.554 \n",
       "  \"/>\n",
       "<polyline clip-path=\"url(#clip392)\" style=\"stroke:#000000; stroke-width:2; stroke-opacity:0.1; fill:none\" points=\"\n",
       "  238.037,518.87 2352.76,518.87 \n",
       "  \"/>\n",
       "<polyline clip-path=\"url(#clip392)\" style=\"stroke:#000000; stroke-width:2; stroke-opacity:0.1; fill:none\" points=\"\n",
       "  238.037,86.1857 2352.76,86.1857 \n",
       "  \"/>\n",
       "<polyline clip-path=\"url(#clip390)\" style=\"stroke:#000000; stroke-width:4; stroke-opacity:1; fill:none\" points=\"\n",
       "  238.037,1423.18 2352.76,1423.18 \n",
       "  \"/>\n",
       "<polyline clip-path=\"url(#clip390)\" style=\"stroke:#000000; stroke-width:4; stroke-opacity:1; fill:none\" points=\"\n",
       "  238.037,1423.18 238.037,47.2441 \n",
       "  \"/>\n",
       "<polyline clip-path=\"url(#clip390)\" style=\"stroke:#000000; stroke-width:4; stroke-opacity:1; fill:none\" points=\"\n",
       "  638.853,1423.18 638.853,1406.67 \n",
       "  \"/>\n",
       "<polyline clip-path=\"url(#clip390)\" style=\"stroke:#000000; stroke-width:4; stroke-opacity:1; fill:none\" points=\"\n",
       "  1076.55,1423.18 1076.55,1406.67 \n",
       "  \"/>\n",
       "<polyline clip-path=\"url(#clip390)\" style=\"stroke:#000000; stroke-width:4; stroke-opacity:1; fill:none\" points=\"\n",
       "  1514.24,1423.18 1514.24,1406.67 \n",
       "  \"/>\n",
       "<polyline clip-path=\"url(#clip390)\" style=\"stroke:#000000; stroke-width:4; stroke-opacity:1; fill:none\" points=\"\n",
       "  1951.94,1423.18 1951.94,1406.67 \n",
       "  \"/>\n",
       "<polyline clip-path=\"url(#clip390)\" style=\"stroke:#000000; stroke-width:4; stroke-opacity:1; fill:none\" points=\"\n",
       "  238.037,1384.24 263.414,1384.24 \n",
       "  \"/>\n",
       "<polyline clip-path=\"url(#clip390)\" style=\"stroke:#000000; stroke-width:4; stroke-opacity:1; fill:none\" points=\"\n",
       "  238.037,951.554 263.414,951.554 \n",
       "  \"/>\n",
       "<polyline clip-path=\"url(#clip390)\" style=\"stroke:#000000; stroke-width:4; stroke-opacity:1; fill:none\" points=\"\n",
       "  238.037,518.87 263.414,518.87 \n",
       "  \"/>\n",
       "<polyline clip-path=\"url(#clip390)\" style=\"stroke:#000000; stroke-width:4; stroke-opacity:1; fill:none\" points=\"\n",
       "  238.037,86.1857 263.414,86.1857 \n",
       "  \"/>\n",
       "<path clip-path=\"url(#clip390)\" d=\"M 0 0 M633.506 1472.72 L649.825 1472.72 L649.825 1476.65 L627.881 1476.65 L627.881 1472.72 Q630.543 1469.96 635.126 1465.33 Q639.733 1460.68 640.913 1459.34 Q643.159 1456.81 644.038 1455.08 Q644.941 1453.32 644.941 1451.63 Q644.941 1448.87 642.997 1447.14 Q641.075 1445.4 637.973 1445.4 Q635.774 1445.4 633.321 1446.17 Q630.89 1446.93 628.112 1448.48 L628.112 1443.76 Q630.936 1442.62 633.39 1442.05 Q635.844 1441.47 637.881 1441.47 Q643.251 1441.47 646.446 1444.15 Q649.64 1446.84 649.64 1451.33 Q649.64 1453.46 648.83 1455.38 Q648.043 1457.28 645.936 1459.87 Q645.358 1460.54 642.256 1463.76 Q639.154 1466.95 633.506 1472.72 Z\" fill=\"#000000\" fill-rule=\"evenodd\" fill-opacity=\"1\" /><path clip-path=\"url(#clip390)\" d=\"M 0 0 M1079.56 1446.17 L1067.75 1464.61 L1079.56 1464.61 L1079.56 1446.17 M1078.33 1442.09 L1084.21 1442.09 L1084.21 1464.61 L1089.14 1464.61 L1089.14 1468.5 L1084.21 1468.5 L1084.21 1476.65 L1079.56 1476.65 L1079.56 1468.5 L1063.96 1468.5 L1063.96 1463.99 L1078.33 1442.09 Z\" fill=\"#000000\" fill-rule=\"evenodd\" fill-opacity=\"1\" /><path clip-path=\"url(#clip390)\" d=\"M 0 0 M1514.65 1457.51 Q1511.5 1457.51 1509.65 1459.66 Q1507.82 1461.81 1507.82 1465.56 Q1507.82 1469.29 1509.65 1471.47 Q1511.5 1473.62 1514.65 1473.62 Q1517.8 1473.62 1519.63 1471.47 Q1521.48 1469.29 1521.48 1465.56 Q1521.48 1461.81 1519.63 1459.66 Q1517.8 1457.51 1514.65 1457.51 M1523.93 1442.86 L1523.93 1447.11 Q1522.17 1446.28 1520.37 1445.84 Q1518.58 1445.4 1516.83 1445.4 Q1512.2 1445.4 1509.74 1448.53 Q1507.31 1451.65 1506.96 1457.97 Q1508.33 1455.96 1510.39 1454.89 Q1512.45 1453.8 1514.93 1453.8 Q1520.14 1453.8 1523.14 1456.98 Q1526.18 1460.12 1526.18 1465.56 Q1526.18 1470.89 1523.03 1474.11 Q1519.88 1477.32 1514.65 1477.32 Q1508.65 1477.32 1505.48 1472.74 Q1502.31 1468.13 1502.31 1459.41 Q1502.31 1451.21 1506.2 1446.35 Q1510.09 1441.47 1516.64 1441.47 Q1518.4 1441.47 1520.18 1441.81 Q1521.99 1442.16 1523.93 1442.86 Z\" fill=\"#000000\" fill-rule=\"evenodd\" fill-opacity=\"1\" /><path clip-path=\"url(#clip390)\" d=\"M 0 0 M1951.94 1460.24 Q1948.61 1460.24 1946.69 1462.02 Q1944.79 1463.8 1944.79 1466.93 Q1944.79 1470.05 1946.69 1471.84 Q1948.61 1473.62 1951.94 1473.62 Q1955.27 1473.62 1957.19 1471.84 Q1959.12 1470.03 1959.12 1466.93 Q1959.12 1463.8 1957.19 1462.02 Q1955.3 1460.24 1951.94 1460.24 M1947.26 1458.25 Q1944.26 1457.51 1942.57 1455.45 Q1940.9 1453.39 1940.9 1450.43 Q1940.9 1446.28 1943.84 1443.87 Q1946.8 1441.47 1951.94 1441.47 Q1957.1 1441.47 1960.04 1443.87 Q1962.98 1446.28 1962.98 1450.43 Q1962.98 1453.39 1961.29 1455.45 Q1959.63 1457.51 1956.64 1458.25 Q1960.02 1459.04 1961.89 1461.33 Q1963.79 1463.62 1963.79 1466.93 Q1963.79 1471.95 1960.71 1474.64 Q1957.66 1477.32 1951.94 1477.32 Q1946.22 1477.32 1943.14 1474.64 Q1940.09 1471.95 1940.09 1466.93 Q1940.09 1463.62 1941.99 1461.33 Q1943.88 1459.04 1947.26 1458.25 M1945.55 1450.86 Q1945.55 1453.55 1947.22 1455.05 Q1948.91 1456.56 1951.94 1456.56 Q1954.95 1456.56 1956.64 1455.05 Q1958.35 1453.55 1958.35 1450.86 Q1958.35 1448.18 1956.64 1446.68 Q1954.95 1445.17 1951.94 1445.17 Q1948.91 1445.17 1947.22 1446.68 Q1945.55 1448.18 1945.55 1450.86 Z\" fill=\"#000000\" fill-rule=\"evenodd\" fill-opacity=\"1\" /><path clip-path=\"url(#clip390)\" d=\"M 0 0 M140.01 1370.04 Q136.399 1370.04 134.57 1373.6 Q132.765 1377.14 132.765 1384.27 Q132.765 1391.38 134.57 1394.94 Q136.399 1398.49 140.01 1398.49 Q143.644 1398.49 145.45 1394.94 Q147.279 1391.38 147.279 1384.27 Q147.279 1377.14 145.45 1373.6 Q143.644 1370.04 140.01 1370.04 M140.01 1366.33 Q145.82 1366.33 148.876 1370.94 Q151.954 1375.52 151.954 1384.27 Q151.954 1393 148.876 1397.61 Q145.82 1402.19 140.01 1402.19 Q134.2 1402.19 131.121 1397.61 Q128.066 1393 128.066 1384.27 Q128.066 1375.52 131.121 1370.94 Q134.2 1366.33 140.01 1366.33 Z\" fill=\"#000000\" fill-rule=\"evenodd\" fill-opacity=\"1\" /><path clip-path=\"url(#clip390)\" d=\"M 0 0 M157.024 1395.64 L161.908 1395.64 L161.908 1401.52 L157.024 1401.52 L157.024 1395.64 Z\" fill=\"#000000\" fill-rule=\"evenodd\" fill-opacity=\"1\" /><path clip-path=\"url(#clip390)\" d=\"M 0 0 M165.797 1366.96 L188.019 1366.96 L188.019 1368.95 L175.473 1401.52 L170.589 1401.52 L182.394 1370.89 L165.797 1370.89 L165.797 1366.96 Z\" fill=\"#000000\" fill-rule=\"evenodd\" fill-opacity=\"1\" /><path clip-path=\"url(#clip390)\" d=\"M 0 0 M193.135 1366.96 L211.491 1366.96 L211.491 1370.89 L197.417 1370.89 L197.417 1379.37 Q198.436 1379.02 199.454 1378.86 Q200.473 1378.67 201.491 1378.67 Q207.278 1378.67 210.658 1381.84 Q214.037 1385.01 214.037 1390.43 Q214.037 1396.01 210.565 1399.11 Q207.093 1402.19 200.774 1402.19 Q198.598 1402.19 196.329 1401.82 Q194.084 1401.45 191.676 1400.71 L191.676 1396.01 Q193.76 1397.14 195.982 1397.7 Q198.204 1398.25 200.681 1398.25 Q204.686 1398.25 207.024 1396.15 Q209.362 1394.04 209.362 1390.43 Q209.362 1386.82 207.024 1384.71 Q204.686 1382.61 200.681 1382.61 Q198.806 1382.61 196.931 1383.02 Q195.079 1383.44 193.135 1384.32 L193.135 1366.96 Z\" fill=\"#000000\" fill-rule=\"evenodd\" fill-opacity=\"1\" /><path clip-path=\"url(#clip390)\" d=\"M 0 0 M138.205 937.353 Q134.593 937.353 132.765 940.918 Q130.959 944.459 130.959 951.589 Q130.959 958.695 132.765 962.26 Q134.593 965.802 138.205 965.802 Q141.839 965.802 143.644 962.26 Q145.473 958.695 145.473 951.589 Q145.473 944.459 143.644 940.918 Q141.839 937.353 138.205 937.353 M138.205 933.649 Q144.015 933.649 147.07 938.256 Q150.149 942.839 150.149 951.589 Q150.149 960.316 147.07 964.922 Q144.015 969.505 138.205 969.505 Q132.394 969.505 129.316 964.922 Q126.26 960.316 126.26 951.589 Q126.26 942.839 129.316 938.256 Q132.394 933.649 138.205 933.649 Z\" fill=\"#000000\" fill-rule=\"evenodd\" fill-opacity=\"1\" /><path clip-path=\"url(#clip390)\" d=\"M 0 0 M155.218 962.954 L160.103 962.954 L160.103 968.834 L155.218 968.834 L155.218 962.954 Z\" fill=\"#000000\" fill-rule=\"evenodd\" fill-opacity=\"1\" /><path clip-path=\"url(#clip390)\" d=\"M 0 0 M175.172 952.422 Q171.839 952.422 169.917 954.205 Q168.019 955.987 168.019 959.112 Q168.019 962.237 169.917 964.019 Q171.839 965.802 175.172 965.802 Q178.505 965.802 180.427 964.019 Q182.348 962.214 182.348 959.112 Q182.348 955.987 180.427 954.205 Q178.528 952.422 175.172 952.422 M170.496 950.431 Q167.487 949.691 165.797 947.63 Q164.13 945.57 164.13 942.607 Q164.13 938.464 167.07 936.056 Q170.033 933.649 175.172 933.649 Q180.334 933.649 183.274 936.056 Q186.214 938.464 186.214 942.607 Q186.214 945.57 184.524 947.63 Q182.857 949.691 179.871 950.431 Q183.251 951.218 185.126 953.51 Q187.024 955.802 187.024 959.112 Q187.024 964.135 183.945 966.82 Q180.889 969.505 175.172 969.505 Q169.454 969.505 166.376 966.82 Q163.32 964.135 163.32 959.112 Q163.32 955.802 165.218 953.51 Q167.116 951.218 170.496 950.431 M168.783 943.047 Q168.783 945.732 170.45 947.237 Q172.14 948.742 175.172 948.742 Q178.181 948.742 179.871 947.237 Q181.584 945.732 181.584 943.047 Q181.584 940.362 179.871 938.857 Q178.181 937.353 175.172 937.353 Q172.14 937.353 170.45 938.857 Q168.783 940.362 168.783 943.047 Z\" fill=\"#000000\" fill-rule=\"evenodd\" fill-opacity=\"1\" /><path clip-path=\"url(#clip390)\" d=\"M 0 0 M202.093 937.353 Q198.482 937.353 196.653 940.918 Q194.848 944.459 194.848 951.589 Q194.848 958.695 196.653 962.26 Q198.482 965.802 202.093 965.802 Q205.727 965.802 207.533 962.26 Q209.362 958.695 209.362 951.589 Q209.362 944.459 207.533 940.918 Q205.727 937.353 202.093 937.353 M202.093 933.649 Q207.903 933.649 210.959 938.256 Q214.037 942.839 214.037 951.589 Q214.037 960.316 210.959 964.922 Q207.903 969.505 202.093 969.505 Q196.283 969.505 193.204 964.922 Q190.149 960.316 190.149 951.589 Q190.149 942.839 193.204 938.256 Q196.283 933.649 202.093 933.649 Z\" fill=\"#000000\" fill-rule=\"evenodd\" fill-opacity=\"1\" /><path clip-path=\"url(#clip390)\" d=\"M 0 0 M139.2 504.669 Q135.589 504.669 133.76 508.233 Q131.955 511.775 131.955 518.905 Q131.955 526.011 133.76 529.576 Q135.589 533.117 139.2 533.117 Q142.834 533.117 144.64 529.576 Q146.468 526.011 146.468 518.905 Q146.468 511.775 144.64 508.233 Q142.834 504.669 139.2 504.669 M139.2 500.965 Q145.01 500.965 148.066 505.571 Q151.144 510.155 151.144 518.905 Q151.144 527.631 148.066 532.238 Q145.01 536.821 139.2 536.821 Q133.39 536.821 130.311 532.238 Q127.256 527.631 127.256 518.905 Q127.256 510.155 130.311 505.571 Q133.39 500.965 139.2 500.965 Z\" fill=\"#000000\" fill-rule=\"evenodd\" fill-opacity=\"1\" /><path clip-path=\"url(#clip390)\" d=\"M 0 0 M156.214 530.27 L161.098 530.27 L161.098 536.15 L156.214 536.15 L156.214 530.27 Z\" fill=\"#000000\" fill-rule=\"evenodd\" fill-opacity=\"1\" /><path clip-path=\"url(#clip390)\" d=\"M 0 0 M176.167 519.738 Q172.834 519.738 170.913 521.52 Q169.015 523.303 169.015 526.428 Q169.015 529.553 170.913 531.335 Q172.834 533.117 176.167 533.117 Q179.501 533.117 181.422 531.335 Q183.343 529.53 183.343 526.428 Q183.343 523.303 181.422 521.52 Q179.524 519.738 176.167 519.738 M171.491 517.747 Q168.482 517.006 166.792 514.946 Q165.126 512.886 165.126 509.923 Q165.126 505.78 168.065 503.372 Q171.028 500.965 176.167 500.965 Q181.329 500.965 184.269 503.372 Q187.209 505.78 187.209 509.923 Q187.209 512.886 185.519 514.946 Q183.852 517.006 180.866 517.747 Q184.246 518.534 186.121 520.826 Q188.019 523.118 188.019 526.428 Q188.019 531.451 184.94 534.136 Q181.885 536.821 176.167 536.821 Q170.45 536.821 167.371 534.136 Q164.316 531.451 164.316 526.428 Q164.316 523.118 166.214 520.826 Q168.112 518.534 171.491 517.747 M169.778 510.363 Q169.778 513.048 171.445 514.553 Q173.135 516.057 176.167 516.057 Q179.177 516.057 180.866 514.553 Q182.579 513.048 182.579 510.363 Q182.579 507.678 180.866 506.173 Q179.177 504.669 176.167 504.669 Q173.135 504.669 171.445 506.173 Q169.778 507.678 169.778 510.363 Z\" fill=\"#000000\" fill-rule=\"evenodd\" fill-opacity=\"1\" /><path clip-path=\"url(#clip390)\" d=\"M 0 0 M193.135 501.59 L211.491 501.59 L211.491 505.525 L197.417 505.525 L197.417 513.997 Q198.436 513.65 199.454 513.488 Q200.473 513.303 201.491 513.303 Q207.278 513.303 210.658 516.474 Q214.037 519.645 214.037 525.062 Q214.037 530.641 210.565 533.742 Q207.093 536.821 200.774 536.821 Q198.598 536.821 196.329 536.451 Q194.084 536.08 191.676 535.34 L191.676 530.641 Q193.76 531.775 195.982 532.33 Q198.204 532.886 200.681 532.886 Q204.686 532.886 207.024 530.78 Q209.362 528.673 209.362 525.062 Q209.362 521.451 207.024 519.344 Q204.686 517.238 200.681 517.238 Q198.806 517.238 196.931 517.655 Q195.079 518.071 193.135 518.951 L193.135 501.59 Z\" fill=\"#000000\" fill-rule=\"evenodd\" fill-opacity=\"1\" /><path clip-path=\"url(#clip390)\" d=\"M 0 0 M138.297 71.9844 Q134.686 71.9844 132.857 75.5492 Q131.052 79.0908 131.052 86.2204 Q131.052 93.3268 132.857 96.8916 Q134.686 100.433 138.297 100.433 Q141.931 100.433 143.737 96.8916 Q145.566 93.3268 145.566 86.2204 Q145.566 79.0908 143.737 75.5492 Q141.931 71.9844 138.297 71.9844 M138.297 68.2807 Q144.107 68.2807 147.163 72.8871 Q150.242 77.4704 150.242 86.2204 Q150.242 94.9472 147.163 99.5537 Q144.107 104.137 138.297 104.137 Q132.487 104.137 129.408 99.5537 Q126.353 94.9472 126.353 86.2204 Q126.353 77.4704 129.408 72.8871 Q132.487 68.2807 138.297 68.2807 Z\" fill=\"#000000\" fill-rule=\"evenodd\" fill-opacity=\"1\" /><path clip-path=\"url(#clip390)\" d=\"M 0 0 M155.311 97.5861 L160.195 97.5861 L160.195 103.466 L155.311 103.466 L155.311 97.5861 Z\" fill=\"#000000\" fill-rule=\"evenodd\" fill-opacity=\"1\" /><path clip-path=\"url(#clip390)\" d=\"M 0 0 M165.403 102.748 L165.403 98.4888 Q167.163 99.3222 168.968 99.762 Q170.774 100.202 172.51 100.202 Q177.14 100.202 179.57 97.1 Q182.024 93.975 182.371 87.6324 Q181.028 89.6232 178.968 90.688 Q176.908 91.7528 174.408 91.7528 Q169.223 91.7528 166.19 88.6278 Q163.181 85.4797 163.181 80.0399 Q163.181 74.7158 166.329 71.4983 Q169.478 68.2807 174.709 68.2807 Q180.704 68.2807 183.852 72.8871 Q187.024 77.4704 187.024 86.2204 Q187.024 94.3916 183.135 99.2759 Q179.269 104.137 172.718 104.137 Q170.959 104.137 169.153 103.79 Q167.348 103.443 165.403 102.748 M174.709 88.0954 Q177.857 88.0954 179.686 85.9426 Q181.538 83.7899 181.538 80.0399 Q181.538 76.313 179.686 74.1603 Q177.857 71.9844 174.709 71.9844 Q171.561 71.9844 169.709 74.1603 Q167.88 76.313 167.88 80.0399 Q167.88 83.7899 169.709 85.9426 Q171.561 88.0954 174.709 88.0954 Z\" fill=\"#000000\" fill-rule=\"evenodd\" fill-opacity=\"1\" /><path clip-path=\"url(#clip390)\" d=\"M 0 0 M202.093 71.9844 Q198.482 71.9844 196.653 75.5492 Q194.848 79.0908 194.848 86.2204 Q194.848 93.3268 196.653 96.8916 Q198.482 100.433 202.093 100.433 Q205.727 100.433 207.533 96.8916 Q209.362 93.3268 209.362 86.2204 Q209.362 79.0908 207.533 75.5492 Q205.727 71.9844 202.093 71.9844 M202.093 68.2807 Q207.903 68.2807 210.959 72.8871 Q214.037 77.4704 214.037 86.2204 Q214.037 94.9472 210.959 99.5537 Q207.903 104.137 202.093 104.137 Q196.283 104.137 193.204 99.5537 Q190.149 94.9472 190.149 86.2204 Q190.149 77.4704 193.204 72.8871 Q196.283 68.2807 202.093 68.2807 Z\" fill=\"#000000\" fill-rule=\"evenodd\" fill-opacity=\"1\" /><path clip-path=\"url(#clip390)\" d=\"M 0 0 M1276.54 1508.52 L1282.97 1508.52 L1282.97 1528.61 L1304.29 1508.52 L1312.57 1508.52 L1288.98 1530.68 L1314.26 1556.04 L1305.79 1556.04 L1282.97 1533.16 L1282.97 1556.04 L1276.54 1556.04 L1276.54 1508.52 Z\" fill=\"#000000\" fill-rule=\"evenodd\" fill-opacity=\"1\" /><path clip-path=\"url(#clip390)\" d=\"M 0 0 M44.1444 1071.26 L50.9239 1071.26 Q47.9002 1074.5 46.4043 1078.2 Q44.9083 1081.86 44.9083 1085.99 Q44.9083 1094.14 49.9054 1098.47 Q54.8707 1102.8 64.2919 1102.8 Q73.6813 1102.8 78.6784 1098.47 Q83.6436 1094.14 83.6436 1085.99 Q83.6436 1081.86 82.1477 1078.2 Q80.6518 1074.5 77.6281 1071.26 L84.3439 1071.26 Q86.6355 1074.63 87.7814 1078.42 Q88.9272 1082.17 88.9272 1086.38 Q88.9272 1097.17 82.3387 1103.37 Q75.7183 1109.58 64.2919 1109.58 Q52.8336 1109.58 46.2451 1103.37 Q39.6248 1097.17 39.6248 1086.38 Q39.6248 1082.11 40.7706 1078.36 Q41.8846 1074.57 44.1444 1071.26 Z\" fill=\"#000000\" fill-rule=\"evenodd\" fill-opacity=\"1\" /><path clip-path=\"url(#clip390)\" d=\"M 0 0 M57.8307 1044.46 Q57.2578 1045.44 57.0032 1046.62 Q56.7167 1047.77 56.7167 1049.17 Q56.7167 1054.13 59.9632 1056.81 Q63.1779 1059.45 69.2253 1059.45 L88.0042 1059.45 L88.0042 1065.34 L52.3562 1065.34 L52.3562 1059.45 L57.8944 1059.45 Q54.6479 1057.6 53.0883 1054.64 Q51.4968 1051.68 51.4968 1047.45 Q51.4968 1046.85 51.5923 1046.11 Q51.656 1045.38 51.8151 1044.49 L57.8307 1044.46 Z\" fill=\"#000000\" fill-rule=\"evenodd\" fill-opacity=\"1\" /><path clip-path=\"url(#clip390)\" d=\"M 0 0 M56.4621 1025.93 Q56.4621 1030.64 60.1542 1033.38 Q63.8145 1036.12 70.212 1036.12 Q76.6095 1036.12 80.3017 1033.41 Q83.9619 1030.68 83.9619 1025.93 Q83.9619 1021.25 80.2698 1018.52 Q76.5777 1015.78 70.212 1015.78 Q63.8781 1015.78 60.186 1018.52 Q56.4621 1021.25 56.4621 1025.93 M51.4968 1025.93 Q51.4968 1018.29 56.4621 1013.93 Q61.4273 1009.57 70.212 1009.57 Q78.9649 1009.57 83.9619 1013.93 Q88.9272 1018.29 88.9272 1025.93 Q88.9272 1033.6 83.9619 1037.96 Q78.9649 1042.29 70.212 1042.29 Q61.4273 1042.29 56.4621 1037.96 Q51.4968 1033.6 51.4968 1025.93 Z\" fill=\"#000000\" fill-rule=\"evenodd\" fill-opacity=\"1\" /><path clip-path=\"url(#clip390)\" d=\"M 0 0 M53.4065 980.705 L58.9447 980.705 Q57.6716 983.188 57.035 985.862 Q56.3984 988.535 56.3984 991.4 Q56.3984 995.76 57.7352 997.957 Q59.072 1000.12 61.7456 1000.12 Q63.7826 1000.12 64.9603 998.561 Q66.1061 997.002 67.1565 992.291 L67.6021 990.286 Q68.9389 984.047 71.3897 981.438 Q73.8086 978.796 78.1691 978.796 Q83.1344 978.796 86.0308 982.742 Q88.9272 986.657 88.9272 993.532 Q88.9272 996.397 88.3543 999.516 Q87.8132 1002.6 86.6992 1006.04 L80.6518 1006.04 Q82.3387 1002.79 83.198 999.643 Q84.0256 996.492 84.0256 993.405 Q84.0256 989.267 82.6251 987.039 Q81.1929 984.811 78.6147 984.811 Q76.2276 984.811 74.9545 986.435 Q73.6813 988.026 72.5037 993.469 L72.0262 995.506 Q70.8804 1000.95 68.5251 1003.37 Q66.138 1005.79 62.0002 1005.79 Q56.9713 1005.79 54.2341 1002.22 Q51.4968 998.657 51.4968 992.1 Q51.4968 988.854 51.9743 985.989 Q52.4517 983.124 53.4065 980.705 Z\" fill=\"#000000\" fill-rule=\"evenodd\" fill-opacity=\"1\" /><path clip-path=\"url(#clip390)\" d=\"M 0 0 M53.4065 949.927 L58.9447 949.927 Q57.6716 952.41 57.035 955.083 Q56.3984 957.757 56.3984 960.622 Q56.3984 964.982 57.7352 967.178 Q59.072 969.343 61.7456 969.343 Q63.7826 969.343 64.9603 967.783 Q66.1061 966.223 67.1565 961.513 L67.6021 959.508 Q68.9389 953.269 71.3897 950.659 Q73.8086 948.018 78.1691 948.018 Q83.1344 948.018 86.0308 951.964 Q88.9272 955.879 88.9272 962.754 Q88.9272 965.619 88.3543 968.738 Q87.8132 971.825 86.6992 975.263 L80.6518 975.263 Q82.3387 972.016 83.198 968.865 Q84.0256 965.714 84.0256 962.627 Q84.0256 958.489 82.6251 956.261 Q81.1929 954.033 78.6147 954.033 Q76.2276 954.033 74.9545 955.656 Q73.6813 957.248 72.5037 962.69 L72.0262 964.728 Q70.8804 970.17 68.5251 972.589 Q66.138 975.008 62.0002 975.008 Q56.9713 975.008 54.2341 971.443 Q51.4968 967.879 51.4968 961.322 Q51.4968 958.075 51.9743 955.211 Q52.4517 952.346 53.4065 949.927 Z\" fill=\"#000000\" fill-rule=\"evenodd\" fill-opacity=\"1\" /><path clip-path=\"url(#clip390)\" d=\"M 0 0 M88.0042 908.646 L40.4842 926.788 L40.4842 920.072 L80.4926 905.017 L40.4842 889.93 L40.4842 883.246 L88.0042 901.357 L88.0042 908.646 Z\" fill=\"#000000\" fill-rule=\"evenodd\" fill-opacity=\"1\" /><path clip-path=\"url(#clip390)\" d=\"M 0 0 M70.0847 865.964 Q70.0847 873.061 71.7079 875.799 Q73.3312 878.536 77.2461 878.536 Q80.3653 878.536 82.2114 876.499 Q84.0256 874.43 84.0256 870.897 Q84.0256 866.027 80.5881 863.099 Q77.1188 860.139 71.3897 860.139 L70.0847 860.139 L70.0847 865.964 M67.6657 854.283 L88.0042 854.283 L88.0042 860.139 L82.5933 860.139 Q85.8398 862.144 87.3994 865.136 Q88.9272 868.128 88.9272 872.457 Q88.9272 877.931 85.8716 881.178 Q82.7843 884.392 77.6281 884.392 Q71.6125 884.392 68.5569 880.382 Q65.5014 876.34 65.5014 868.351 L65.5014 860.139 L64.9285 860.139 Q60.8862 860.139 58.6901 862.813 Q56.4621 865.454 56.4621 870.26 Q56.4621 873.316 57.1941 876.212 Q57.9262 879.109 59.3903 881.782 L53.9795 881.782 Q52.7381 878.568 52.1334 875.544 Q51.4968 872.52 51.4968 869.656 Q51.4968 861.921 55.5072 858.102 Q59.5176 854.283 67.6657 854.283 Z\" fill=\"#000000\" fill-rule=\"evenodd\" fill-opacity=\"1\" /><path clip-path=\"url(#clip390)\" d=\"M 0 0 M38.479 848.14 L38.479 842.283 L88.0042 842.283 L88.0042 848.14 L38.479 848.14 Z\" fill=\"#000000\" fill-rule=\"evenodd\" fill-opacity=\"1\" /><path clip-path=\"url(#clip390)\" d=\"M 0 0 M52.3562 836.14 L52.3562 830.284 L88.0042 830.284 L88.0042 836.14 L52.3562 836.14 M38.479 836.14 L38.479 830.284 L45.895 830.284 L45.895 836.14 L38.479 836.14 Z\" fill=\"#000000\" fill-rule=\"evenodd\" fill-opacity=\"1\" /><path clip-path=\"url(#clip390)\" d=\"M 0 0 M57.7671 800.683 L38.479 800.683 L38.479 794.827 L88.0042 794.827 L88.0042 800.683 L82.657 800.683 Q85.8398 802.529 87.3994 805.362 Q88.9272 808.163 88.9272 812.11 Q88.9272 818.571 83.771 822.645 Q78.6147 826.687 70.212 826.687 Q61.8093 826.687 56.6531 822.645 Q51.4968 818.571 51.4968 812.11 Q51.4968 808.163 53.0564 805.362 Q54.5842 802.529 57.7671 800.683 M70.212 820.64 Q76.6732 820.64 80.3653 817.998 Q84.0256 815.324 84.0256 810.677 Q84.0256 806.03 80.3653 803.357 Q76.6732 800.683 70.212 800.683 Q63.7508 800.683 60.0905 803.357 Q56.3984 806.03 56.3984 810.677 Q56.3984 815.324 60.0905 817.998 Q63.7508 820.64 70.212 820.64 Z\" fill=\"#000000\" fill-rule=\"evenodd\" fill-opacity=\"1\" /><path clip-path=\"url(#clip390)\" d=\"M 0 0 M70.0847 772.483 Q70.0847 779.581 71.7079 782.318 Q73.3312 785.055 77.2461 785.055 Q80.3653 785.055 82.2114 783.018 Q84.0256 780.95 84.0256 777.417 Q84.0256 772.547 80.5881 769.619 Q77.1188 766.659 71.3897 766.659 L70.0847 766.659 L70.0847 772.483 M67.6657 760.802 L88.0042 760.802 L88.0042 766.659 L82.5933 766.659 Q85.8398 768.664 87.3994 771.656 Q88.9272 774.648 88.9272 778.976 Q88.9272 784.451 85.8716 787.697 Q82.7843 790.912 77.6281 790.912 Q71.6125 790.912 68.5569 786.902 Q65.5014 782.859 65.5014 774.87 L65.5014 766.659 L64.9285 766.659 Q60.8862 766.659 58.6901 769.332 Q56.4621 771.974 56.4621 776.78 Q56.4621 779.836 57.1941 782.732 Q57.9262 785.628 59.3903 788.302 L53.9795 788.302 Q52.7381 785.087 52.1334 782.064 Q51.4968 779.04 51.4968 776.175 Q51.4968 768.441 55.5072 764.622 Q59.5176 760.802 67.6657 760.802 Z\" fill=\"#000000\" fill-rule=\"evenodd\" fill-opacity=\"1\" /><path clip-path=\"url(#clip390)\" d=\"M 0 0 M42.2347 748.866 L52.3562 748.866 L52.3562 736.803 L56.9077 736.803 L56.9077 748.866 L76.2594 748.866 Q80.6199 748.866 81.8613 747.689 Q83.1026 746.479 83.1026 742.819 L83.1026 736.803 L88.0042 736.803 L88.0042 742.819 Q88.0042 749.598 85.4897 752.177 Q82.9434 754.755 76.2594 754.755 L56.9077 754.755 L56.9077 759.052 L52.3562 759.052 L52.3562 754.755 L42.2347 754.755 L42.2347 748.866 Z\" fill=\"#000000\" fill-rule=\"evenodd\" fill-opacity=\"1\" /><path clip-path=\"url(#clip390)\" d=\"M 0 0 M52.3562 730.66 L52.3562 724.804 L88.0042 724.804 L88.0042 730.66 L52.3562 730.66 M38.479 730.66 L38.479 724.804 L45.895 724.804 L45.895 730.66 L38.479 730.66 Z\" fill=\"#000000\" fill-rule=\"evenodd\" fill-opacity=\"1\" /><path clip-path=\"url(#clip390)\" d=\"M 0 0 M56.4621 704.848 Q56.4621 709.558 60.1542 712.295 Q63.8145 715.033 70.212 715.033 Q76.6095 715.033 80.3017 712.327 Q83.9619 709.59 83.9619 704.848 Q83.9619 700.169 80.2698 697.431 Q76.5777 694.694 70.212 694.694 Q63.8781 694.694 60.186 697.431 Q56.4621 700.169 56.4621 704.848 M51.4968 704.848 Q51.4968 697.209 56.4621 692.848 Q61.4273 688.488 70.212 688.488 Q78.9649 688.488 83.9619 692.848 Q88.9272 697.209 88.9272 704.848 Q88.9272 712.518 83.9619 716.879 Q78.9649 721.207 70.212 721.207 Q61.4273 721.207 56.4621 716.879 Q51.4968 712.518 51.4968 704.848 Z\" fill=\"#000000\" fill-rule=\"evenodd\" fill-opacity=\"1\" /><path clip-path=\"url(#clip390)\" d=\"M 0 0 M66.4881 652.712 L88.0042 652.712 L88.0042 658.569 L66.679 658.569 Q61.6183 658.569 59.1038 660.542 Q56.5894 662.516 56.5894 666.462 Q56.5894 671.205 59.6131 673.942 Q62.6368 676.679 67.8567 676.679 L88.0042 676.679 L88.0042 682.568 L52.3562 682.568 L52.3562 676.679 L57.8944 676.679 Q54.6797 674.579 53.0883 671.746 Q51.4968 668.881 51.4968 665.157 Q51.4968 659.014 55.3163 655.863 Q59.1038 652.712 66.4881 652.712 Z\" fill=\"#000000\" fill-rule=\"evenodd\" fill-opacity=\"1\" /><path clip-path=\"url(#clip390)\" d=\"M 0 0 M46.818 609.712 L70.4666 618.433 L70.4666 600.959 L46.818 609.712 M40.4842 613.341 L40.4842 606.052 L88.0042 587.941 L88.0042 594.625 L75.8138 598.954 L75.8138 620.375 L88.0042 624.703 L88.0042 631.483 L40.4842 613.341 Z\" fill=\"#000000\" fill-rule=\"evenodd\" fill-opacity=\"1\" /><path clip-path=\"url(#clip390)\" d=\"M 0 0 M53.7248 557.29 L59.1993 557.29 Q57.8307 559.773 57.1623 562.288 Q56.4621 564.77 56.4621 567.316 Q56.4621 573.014 60.0905 576.165 Q63.6872 579.316 70.212 579.316 Q76.7369 579.316 80.3653 576.165 Q83.9619 573.014 83.9619 567.316 Q83.9619 564.77 83.2935 562.288 Q82.5933 559.773 81.2247 557.29 L86.6355 557.29 Q87.7814 559.741 88.3543 562.383 Q88.9272 564.993 88.9272 567.953 Q88.9272 576.006 83.8664 580.748 Q78.8057 585.491 70.212 585.491 Q61.491 585.491 56.4939 580.716 Q51.4968 575.91 51.4968 567.571 Q51.4968 564.866 52.0697 562.288 Q52.6108 559.709 53.7248 557.29 Z\" fill=\"#000000\" fill-rule=\"evenodd\" fill-opacity=\"1\" /><path clip-path=\"url(#clip390)\" d=\"M 0 0 M53.7248 525.494 L59.1993 525.494 Q57.8307 527.976 57.1623 530.491 Q56.4621 532.973 56.4621 535.52 Q56.4621 541.217 60.0905 544.368 Q63.6872 547.519 70.212 547.519 Q76.7369 547.519 80.3653 544.368 Q83.9619 541.217 83.9619 535.52 Q83.9619 532.973 83.2935 530.491 Q82.5933 527.976 81.2247 525.494 L86.6355 525.494 Q87.7814 527.945 88.3543 530.586 Q88.9272 533.196 88.9272 536.156 Q88.9272 544.209 83.8664 548.951 Q78.8057 553.694 70.212 553.694 Q61.491 553.694 56.4939 548.92 Q51.4968 544.113 51.4968 535.774 Q51.4968 533.069 52.0697 530.491 Q52.6108 527.913 53.7248 525.494 Z\" fill=\"#000000\" fill-rule=\"evenodd\" fill-opacity=\"1\" /><path clip-path=\"url(#clip390)\" d=\"M 0 0 M73.9359 519.956 L52.3562 519.956 L52.3562 514.099 L73.7131 514.099 Q78.7739 514.099 81.3202 512.126 Q83.8346 510.152 83.8346 506.206 Q83.8346 501.463 80.8109 498.726 Q77.7872 495.957 72.5673 495.957 L52.3562 495.957 L52.3562 490.1 L88.0042 490.1 L88.0042 495.957 L82.5296 495.957 Q85.7762 498.089 87.3676 500.922 Q88.9272 503.723 88.9272 507.447 Q88.9272 513.59 85.1078 516.773 Q81.2883 519.956 73.9359 519.956 M51.4968 505.219 L51.4968 505.219 Z\" fill=\"#000000\" fill-rule=\"evenodd\" fill-opacity=\"1\" /><path clip-path=\"url(#clip390)\" d=\"M 0 0 M57.8307 463.301 Q57.2578 464.287 57.0032 465.465 Q56.7167 466.611 56.7167 468.011 Q56.7167 472.977 59.9632 475.65 Q63.1779 478.292 69.2253 478.292 L88.0042 478.292 L88.0042 484.18 L52.3562 484.18 L52.3562 478.292 L57.8944 478.292 Q54.6479 476.446 53.0883 473.486 Q51.4968 470.526 51.4968 466.293 Q51.4968 465.688 51.5923 464.956 Q51.656 464.224 51.8151 463.333 L57.8307 463.301 Z\" fill=\"#000000\" fill-rule=\"evenodd\" fill-opacity=\"1\" /><path clip-path=\"url(#clip390)\" d=\"M 0 0 M70.0847 440.957 Q70.0847 448.055 71.7079 450.792 Q73.3312 453.529 77.2461 453.529 Q80.3653 453.529 82.2114 451.492 Q84.0256 449.424 84.0256 445.891 Q84.0256 441.021 80.5881 438.093 Q77.1188 435.133 71.3897 435.133 L70.0847 435.133 L70.0847 440.957 M67.6657 429.276 L88.0042 429.276 L88.0042 435.133 L82.5933 435.133 Q85.8398 437.138 87.3994 440.13 Q88.9272 443.122 88.9272 447.45 Q88.9272 452.925 85.8716 456.171 Q82.7843 459.386 77.6281 459.386 Q71.6125 459.386 68.5569 455.376 Q65.5014 451.333 65.5014 443.344 L65.5014 435.133 L64.9285 435.133 Q60.8862 435.133 58.6901 437.806 Q56.4621 440.448 56.4621 445.254 Q56.4621 448.31 57.1941 451.206 Q57.9262 454.102 59.3903 456.776 L53.9795 456.776 Q52.7381 453.561 52.1334 450.538 Q51.4968 447.514 51.4968 444.649 Q51.4968 436.915 55.5072 433.096 Q59.5176 429.276 67.6657 429.276 Z\" fill=\"#000000\" fill-rule=\"evenodd\" fill-opacity=\"1\" /><path clip-path=\"url(#clip390)\" d=\"M 0 0 M53.7248 397.479 L59.1993 397.479 Q57.8307 399.962 57.1623 402.476 Q56.4621 404.959 56.4621 407.505 Q56.4621 413.203 60.0905 416.354 Q63.6872 419.505 70.212 419.505 Q76.7369 419.505 80.3653 416.354 Q83.9619 413.203 83.9619 407.505 Q83.9619 404.959 83.2935 402.476 Q82.5933 399.962 81.2247 397.479 L86.6355 397.479 Q87.7814 399.93 88.3543 402.572 Q88.9272 405.182 88.9272 408.142 Q88.9272 416.195 83.8664 420.937 Q78.8057 425.679 70.212 425.679 Q61.491 425.679 56.4939 420.905 Q51.4968 416.099 51.4968 407.76 Q51.4968 405.055 52.0697 402.476 Q52.6108 399.898 53.7248 397.479 Z\" fill=\"#000000\" fill-rule=\"evenodd\" fill-opacity=\"1\" /><path clip-path=\"url(#clip390)\" d=\"M 0 0 M91.3143 376.504 Q97.68 378.987 99.6216 381.342 Q101.563 383.698 101.563 387.644 L101.563 392.323 L96.6615 392.323 L96.6615 388.886 Q96.6615 386.467 95.5157 385.13 Q94.3699 383.793 90.1048 382.17 L87.4312 381.12 L52.3562 395.538 L52.3562 389.331 L80.238 378.191 L52.3562 367.051 L52.3562 360.845 L91.3143 376.504 Z\" fill=\"#000000\" fill-rule=\"evenodd\" fill-opacity=\"1\" /><path clip-path=\"url(#clip392)\" d=\"\n",
       "M792.047 722.37 L792.047 7874.5 L923.355 7874.5 L923.355 722.37 L792.047 722.37 L792.047 722.37  Z\n",
       "  \" fill=\"#009af9\" fill-rule=\"evenodd\" fill-opacity=\"1\"/>\n",
       "<polyline clip-path=\"url(#clip392)\" style=\"stroke:#000000; stroke-width:4; stroke-opacity:1; fill:none\" points=\"\n",
       "  792.047,722.37 792.047,7874.5 923.355,7874.5 923.355,722.37 792.047,722.37 \n",
       "  \"/>\n",
       "<path clip-path=\"url(#clip392)\" d=\"\n",
       "M1010.89 801.399 L1010.89 7874.5 L1142.2 7874.5 L1142.2 801.399 L1010.89 801.399 L1010.89 801.399  Z\n",
       "  \" fill=\"#009af9\" fill-rule=\"evenodd\" fill-opacity=\"1\"/>\n",
       "<polyline clip-path=\"url(#clip392)\" style=\"stroke:#000000; stroke-width:4; stroke-opacity:1; fill:none\" points=\"\n",
       "  1010.89,801.399 1010.89,7874.5 1142.2,7874.5 1142.2,801.399 1010.89,801.399 \n",
       "  \"/>\n",
       "<path clip-path=\"url(#clip392)\" d=\"\n",
       "M1229.74 505.04 L1229.74 7874.5 L1361.05 7874.5 L1361.05 505.04 L1229.74 505.04 L1229.74 505.04  Z\n",
       "  \" fill=\"#009af9\" fill-rule=\"evenodd\" fill-opacity=\"1\"/>\n",
       "<polyline clip-path=\"url(#clip392)\" style=\"stroke:#000000; stroke-width:4; stroke-opacity:1; fill:none\" points=\"\n",
       "  1229.74,505.04 1229.74,7874.5 1361.05,7874.5 1361.05,505.04 1229.74,505.04 \n",
       "  \"/>\n",
       "<path clip-path=\"url(#clip392)\" d=\"\n",
       "M573.199 1512.66 L573.199 7874.5 L704.507 7874.5 L704.507 1512.66 L573.199 1512.66 L573.199 1512.66  Z\n",
       "  \" fill=\"#009af9\" fill-rule=\"evenodd\" fill-opacity=\"1\"/>\n",
       "<polyline clip-path=\"url(#clip392)\" style=\"stroke:#000000; stroke-width:4; stroke-opacity:1; fill:none\" points=\"\n",
       "  573.199,1512.66 573.199,7874.5 704.507,7874.5 704.507,1512.66 573.199,1512.66 \n",
       "  \"/>\n",
       "<path clip-path=\"url(#clip392)\" d=\"\n",
       "M1667.44 228.438 L1667.44 7874.5 L1798.75 7874.5 L1798.75 228.438 L1667.44 228.438 L1667.44 228.438  Z\n",
       "  \" fill=\"#009af9\" fill-rule=\"evenodd\" fill-opacity=\"1\"/>\n",
       "<polyline clip-path=\"url(#clip392)\" style=\"stroke:#000000; stroke-width:4; stroke-opacity:1; fill:none\" points=\"\n",
       "  1667.44,228.438 1667.44,7874.5 1798.75,7874.5 1798.75,228.438 1667.44,228.438 \n",
       "  \"/>\n",
       "<path clip-path=\"url(#clip392)\" d=\"\n",
       "M1448.59 346.982 L1448.59 7874.5 L1579.9 7874.5 L1579.9 346.982 L1448.59 346.982 L1448.59 346.982  Z\n",
       "  \" fill=\"#009af9\" fill-rule=\"evenodd\" fill-opacity=\"1\"/>\n",
       "<polyline clip-path=\"url(#clip392)\" style=\"stroke:#000000; stroke-width:4; stroke-opacity:1; fill:none\" points=\"\n",
       "  1448.59,346.982 1448.59,7874.5 1579.9,7874.5 1579.9,346.982 1448.59,346.982 \n",
       "  \"/>\n",
       "<path clip-path=\"url(#clip392)\" d=\"\n",
       "M2105.13 129.652 L2105.13 7874.5 L2236.44 7874.5 L2236.44 129.652 L2105.13 129.652 L2105.13 129.652  Z\n",
       "  \" fill=\"#009af9\" fill-rule=\"evenodd\" fill-opacity=\"1\"/>\n",
       "<polyline clip-path=\"url(#clip392)\" style=\"stroke:#000000; stroke-width:4; stroke-opacity:1; fill:none\" points=\"\n",
       "  2105.13,129.652 2105.13,7874.5 2236.44,7874.5 2236.44,129.652 2105.13,129.652 \n",
       "  \"/>\n",
       "<path clip-path=\"url(#clip392)\" d=\"\n",
       "M1886.29 287.71 L1886.29 7874.5 L2017.59 7874.5 L2017.59 287.71 L1886.29 287.71 L1886.29 287.71  Z\n",
       "  \" fill=\"#009af9\" fill-rule=\"evenodd\" fill-opacity=\"1\"/>\n",
       "<polyline clip-path=\"url(#clip392)\" style=\"stroke:#000000; stroke-width:4; stroke-opacity:1; fill:none\" points=\"\n",
       "  1886.29,287.71 1886.29,7874.5 2017.59,7874.5 2017.59,287.71 1886.29,287.71 \n",
       "  \"/>\n",
       "<path clip-path=\"url(#clip392)\" d=\"\n",
       "M354.351 998.972 L354.351 7874.5 L485.659 7874.5 L485.659 998.972 L354.351 998.972 L354.351 998.972  Z\n",
       "  \" fill=\"#009af9\" fill-rule=\"evenodd\" fill-opacity=\"1\"/>\n",
       "<polyline clip-path=\"url(#clip392)\" style=\"stroke:#000000; stroke-width:4; stroke-opacity:1; fill:none\" points=\"\n",
       "  354.351,998.972 354.351,7874.5 485.659,7874.5 485.659,998.972 354.351,998.972 \n",
       "  \"/>\n",
       "<path clip-path=\"url(#clip390)\" d=\"\n",
       "M1996.28 214.069 L2282.27 214.069 L2282.27 93.1086 L1996.28 93.1086  Z\n",
       "  \" fill=\"#ffffff\" fill-rule=\"evenodd\" fill-opacity=\"1\"/>\n",
       "<polyline clip-path=\"url(#clip390)\" style=\"stroke:#000000; stroke-width:4; stroke-opacity:1; fill:none\" points=\"\n",
       "  1996.28,214.069 2282.27,214.069 2282.27,93.1086 1996.28,93.1086 1996.28,214.069 \n",
       "  \"/>\n",
       "<path clip-path=\"url(#clip390)\" d=\"\n",
       "M2019.78 177.781 L2160.76 177.781 L2160.76 129.397 L2019.78 129.397 L2019.78 177.781  Z\n",
       "  \" fill=\"#009af9\" fill-rule=\"evenodd\" fill-opacity=\"1\"/>\n",
       "<polyline clip-path=\"url(#clip390)\" style=\"stroke:#000000; stroke-width:4; stroke-opacity:1; fill:none\" points=\"\n",
       "  2019.78,177.781 2160.76,177.781 2160.76,129.397 2019.78,129.397 2019.78,177.781 \n",
       "  \"/>\n",
       "<path clip-path=\"url(#clip390)\" d=\"M 0 0 M2198.1 173.276 Q2196.29 177.906 2194.58 179.318 Q2192.86 180.73 2189.99 180.73 L2186.59 180.73 L2186.59 177.165 L2189.09 177.165 Q2190.85 177.165 2191.82 176.332 Q2192.79 175.498 2193.98 172.396 L2194.74 170.452 L2184.25 144.943 L2188.77 144.943 L2196.87 165.221 L2204.97 144.943 L2209.48 144.943 L2198.1 173.276 Z\" fill=\"#000000\" fill-rule=\"evenodd\" fill-opacity=\"1\" /><path clip-path=\"url(#clip390)\" d=\"M 0 0 M2215.36 166.933 L2223 166.933 L2223 140.568 L2214.69 142.235 L2214.69 137.975 L2222.96 136.309 L2227.63 136.309 L2227.63 166.933 L2235.27 166.933 L2235.27 170.869 L2215.36 170.869 L2215.36 166.933 Z\" fill=\"#000000\" fill-rule=\"evenodd\" fill-opacity=\"1\" /></svg>\n"
      ]
     },
     "execution_count": 106,
     "metadata": {},
     "output_type": "execute_result"
    }
   ],
   "source": [
    "bar(self_tuning_knn.report.plotting.parameter_values[:,1], \n",
    "    self_tuning_knn.report.plotting.measurements,\n",
    "    bar_width=0.6,\n",
    "    ylims=[0.75, 0.9])\n",
    "    fillcolor=:red\n",
    "    fillalpha=0.2\n",
    "xlabel!(\"K\")\n",
    "ylabel!(\"Cross Validation Accuracy\")"
   ]
  },
  {
   "cell_type": "markdown",
   "metadata": {},
   "source": [
    "# Final Results"
   ]
  },
  {
   "cell_type": "code",
   "execution_count": 107,
   "metadata": {},
   "outputs": [
    {
     "data": {
      "text/plain": [
       "KNNClassifier(\n",
       "    K = 9,\n",
       "    algorithm = :kdtree,\n",
       "    metric = Euclidean(0.0),\n",
       "    leafsize = 10,\n",
       "    reorder = true,\n",
       "    weights = :uniform)\u001b[34m @377\u001b[39m"
      ]
     },
     "execution_count": 107,
     "metadata": {},
     "output_type": "execute_result"
    }
   ],
   "source": [
    "knn_final = KNNClassifier(K=best.best_model.K)"
   ]
  },
  {
   "cell_type": "code",
   "execution_count": 108,
   "metadata": {},
   "outputs": [
    {
     "data": {
      "text/plain": [
       "\u001b[34mMachine{KNNClassifier} @557\u001b[39m trained 0 times.\n",
       "  args: \n",
       "    1:\t\u001b[34mSource @357\u001b[39m ⏎ `Table{AbstractArray{Continuous,1}}`\n",
       "    2:\t\u001b[34mSource @368\u001b[39m ⏎ `AbstractArray{Multiclass{3},1}`\n"
      ]
     },
     "execution_count": 108,
     "metadata": {},
     "output_type": "execute_result"
    }
   ],
   "source": [
    "KNN_Final = machine(knn_final, X, y)"
   ]
  },
  {
   "cell_type": "code",
   "execution_count": 109,
   "metadata": {},
   "outputs": [
    {
     "name": "stderr",
     "output_type": "stream",
     "text": [
      "┌ Info: Training \u001b[34mMachine{KNNClassifier} @776\u001b[39m.\n",
      "└ @ MLJBase /home/andrew/.julia/packages/MLJBase/uKzAz/src/machines.jl:319\n"
     ]
    },
    {
     "data": {
      "text/plain": [
       "\u001b[34mMachine{KNNClassifier} @776\u001b[39m trained 8 times.\n",
       "  args: \n",
       "    1:\t\u001b[34mSource @859\u001b[39m ⏎ `Table{AbstractArray{Continuous,1}}`\n",
       "    2:\t\u001b[34mSource @184\u001b[39m ⏎ `AbstractArray{Multiclass{3},1}`\n"
      ]
     },
     "execution_count": 109,
     "metadata": {},
     "output_type": "execute_result"
    }
   ],
   "source": [
    "fit!(KNN, rows=train)"
   ]
  },
  {
   "cell_type": "code",
   "execution_count": 110,
   "metadata": {},
   "outputs": [],
   "source": [
    "ŷ = MLJ.predict(KNN, X[test,:]);"
   ]
  },
  {
   "cell_type": "code",
   "execution_count": 111,
   "metadata": {},
   "outputs": [
    {
     "data": {
      "text/plain": [
       "1.4481250610488916"
      ]
     },
     "execution_count": 111,
     "metadata": {},
     "output_type": "execute_result"
    }
   ],
   "source": [
    "cross_entropy(ŷ, y[test]) |> mean"
   ]
  },
  {
   "cell_type": "code",
   "execution_count": 112,
   "metadata": {},
   "outputs": [
    {
     "data": {
      "text/plain": [
       "0.8288770053475936"
      ]
     },
     "execution_count": 112,
     "metadata": {},
     "output_type": "execute_result"
    }
   ],
   "source": [
    "acc(ŷ, y[test])"
   ]
  },
  {
   "cell_type": "code",
   "execution_count": 113,
   "metadata": {},
   "outputs": [
    {
     "name": "stderr",
     "output_type": "stream",
     "text": [
      "┌ Warning: The classes are un-ordered,\n",
      "│ using order: [\"B\", \"L\", \"R\"].\n",
      "│ To suppress this warning, consider coercing to OrderedFactor.\n",
      "└ @ MLJBase /home/andrew/.julia/packages/MLJBase/uKzAz/src/measures/confusion_matrix.jl:87\n"
     ]
    },
    {
     "data": {
      "text/plain": [
       "              ┌─────────────────────────────────────────┐\n",
       "              │              Ground Truth               │\n",
       "┌─────────────┼─────────────┬─────────────┬─────────────┤\n",
       "│  Predicted  │      B      │      L      │      R      │\n",
       "├─────────────┼─────────────┼─────────────┼─────────────┤\n",
       "│      B      │      2      │      5      │      2      │\n",
       "├─────────────┼─────────────┼─────────────┼─────────────┤\n",
       "│      L      │     11      │     78      │      9      │\n",
       "├─────────────┼─────────────┼─────────────┼─────────────┤\n",
       "│      R      │      2      │      3      │     75      │\n",
       "└─────────────┴─────────────┴─────────────┴─────────────┘\n"
      ]
     },
     "execution_count": 113,
     "metadata": {},
     "output_type": "execute_result"
    }
   ],
   "source": [
    "c = confusion_matrix(mode.(ŷ), y[test])"
   ]
  },
  {
   "cell_type": "code",
   "execution_count": 129,
   "metadata": {},
   "outputs": [
    {
     "data": {
      "text/plain": [
       "0.8666666666666667"
      ]
     },
     "execution_count": 129,
     "metadata": {},
     "output_type": "execute_result"
    }
   ],
   "source": [
    "(11+2)/(11+2+2)"
   ]
  },
  {
   "cell_type": "code",
   "execution_count": 130,
   "metadata": {},
   "outputs": [
    {
     "data": {
      "text/plain": [
       "0.09302325581395349"
      ]
     },
     "execution_count": 130,
     "metadata": {},
     "output_type": "execute_result"
    }
   ],
   "source": [
    "(5+3)/(5+3+78)"
   ]
  },
  {
   "cell_type": "code",
   "execution_count": 131,
   "metadata": {},
   "outputs": [
    {
     "data": {
      "text/plain": [
       "0.12790697674418605"
      ]
     },
     "execution_count": 131,
     "metadata": {},
     "output_type": "execute_result"
    }
   ],
   "source": [
    "(2+9)/(2+9+75)"
   ]
  },
  {
   "cell_type": "code",
   "execution_count": 115,
   "metadata": {},
   "outputs": [
    {
     "data": {
      "text/plain": [
       "0.17112299465240643"
      ]
     },
     "execution_count": 115,
     "metadata": {},
     "output_type": "execute_result"
    }
   ],
   "source": [
    "misclassification_rate(c)"
   ]
  },
  {
   "cell_type": "code",
   "execution_count": null,
   "metadata": {},
   "outputs": [],
   "source": []
  }
 ],
 "metadata": {
  "kernelspec": {
   "display_name": "Julia 1.5.0",
   "language": "julia",
   "name": "julia-1.5"
  },
  "language_info": {
   "file_extension": ".jl",
   "mimetype": "application/julia",
   "name": "julia",
   "version": "1.5.0"
  }
 },
 "nbformat": 4,
 "nbformat_minor": 4
}
