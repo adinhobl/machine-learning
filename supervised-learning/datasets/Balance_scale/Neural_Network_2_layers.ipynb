{
 "cells": [
  {
   "cell_type": "markdown",
   "metadata": {},
   "source": [
    "# Imports"
   ]
  },
  {
   "cell_type": "code",
   "execution_count": 1,
   "metadata": {},
   "outputs": [],
   "source": [
    "using DataFrames\n",
    "using CSV\n",
    "using MLJ\n",
    "using Flux\n",
    "using Plots\n",
    "using StatsBase\n",
    "using MLJ: confusion_matrix\n",
    "\n",
    "include(\"../../lib.jl\")\n",
    "\n",
    "ENV[\"LINES\"]=30;"
   ]
  },
  {
   "cell_type": "code",
   "execution_count": 2,
   "metadata": {},
   "outputs": [
    {
     "ename": "LoadError",
     "evalue": "IOError: mkdir: file already exists (EEXIST)",
     "output_type": "error",
     "traceback": [
      "IOError: mkdir: file already exists (EEXIST)",
      "",
      "Stacktrace:",
      " [1] uv_error at ./libuv.jl:97 [inlined]",
      " [2] mkdir(::String; mode::UInt16) at ./file.jl:177",
      " [3] mkdir(::String) at ./file.jl:170",
      " [4] top-level scope at In[2]:1",
      " [5] include_string(::Function, ::Module, ::String, ::String) at ./loading.jl:1091"
     ]
    }
   ],
   "source": [
    "mkdir(\"./Figures\")"
   ]
  },
  {
   "cell_type": "markdown",
   "metadata": {},
   "source": [
    "# Datasets"
   ]
  },
  {
   "cell_type": "code",
   "execution_count": 3,
   "metadata": {},
   "outputs": [
    {
     "data": {
      "text/html": [
       "<table class=\"data-frame\"><thead><tr><th></th><th>Class_Name</th><th>Left_Weight</th><th>Left_Distance</th><th>Right_Weight</th><th>Right_Distance</th></tr><tr><th></th><th>String</th><th>Int64</th><th>Int64</th><th>Int64</th><th>Int64</th></tr></thead><tbody><p>625 rows × 5 columns</p><tr><th>1</th><td>B</td><td>1</td><td>1</td><td>1</td><td>1</td></tr><tr><th>2</th><td>R</td><td>1</td><td>1</td><td>1</td><td>2</td></tr><tr><th>3</th><td>R</td><td>1</td><td>1</td><td>1</td><td>3</td></tr><tr><th>4</th><td>R</td><td>1</td><td>1</td><td>1</td><td>4</td></tr><tr><th>5</th><td>R</td><td>1</td><td>1</td><td>1</td><td>5</td></tr><tr><th>6</th><td>R</td><td>1</td><td>1</td><td>2</td><td>1</td></tr><tr><th>7</th><td>R</td><td>1</td><td>1</td><td>2</td><td>2</td></tr><tr><th>8</th><td>R</td><td>1</td><td>1</td><td>2</td><td>3</td></tr><tr><th>9</th><td>R</td><td>1</td><td>1</td><td>2</td><td>4</td></tr><tr><th>10</th><td>R</td><td>1</td><td>1</td><td>2</td><td>5</td></tr><tr><th>11</th><td>R</td><td>1</td><td>1</td><td>3</td><td>1</td></tr><tr><th>12</th><td>R</td><td>1</td><td>1</td><td>3</td><td>2</td></tr><tr><th>13</th><td>R</td><td>1</td><td>1</td><td>3</td><td>3</td></tr><tr><th>14</th><td>R</td><td>1</td><td>1</td><td>3</td><td>4</td></tr><tr><th>15</th><td>R</td><td>1</td><td>1</td><td>3</td><td>5</td></tr><tr><th>16</th><td>R</td><td>1</td><td>1</td><td>4</td><td>1</td></tr><tr><th>17</th><td>R</td><td>1</td><td>1</td><td>4</td><td>2</td></tr><tr><th>18</th><td>R</td><td>1</td><td>1</td><td>4</td><td>3</td></tr><tr><th>19</th><td>R</td><td>1</td><td>1</td><td>4</td><td>4</td></tr><tr><th>20</th><td>R</td><td>1</td><td>1</td><td>4</td><td>5</td></tr><tr><th>21</th><td>R</td><td>1</td><td>1</td><td>5</td><td>1</td></tr><tr><th>22</th><td>R</td><td>1</td><td>1</td><td>5</td><td>2</td></tr><tr><th>23</th><td>R</td><td>1</td><td>1</td><td>5</td><td>3</td></tr><tr><th>24</th><td>R</td><td>1</td><td>1</td><td>5</td><td>4</td></tr><tr><th>25</th><td>R</td><td>1</td><td>1</td><td>5</td><td>5</td></tr><tr><th>26</th><td>L</td><td>1</td><td>2</td><td>1</td><td>1</td></tr><tr><th>27</th><td>B</td><td>1</td><td>2</td><td>1</td><td>2</td></tr><tr><th>28</th><td>R</td><td>1</td><td>2</td><td>1</td><td>3</td></tr><tr><th>29</th><td>R</td><td>1</td><td>2</td><td>1</td><td>4</td></tr><tr><th>30</th><td>R</td><td>1</td><td>2</td><td>1</td><td>5</td></tr><tr><th>&vellip;</th><td>&vellip;</td><td>&vellip;</td><td>&vellip;</td><td>&vellip;</td><td>&vellip;</td></tr></tbody></table>"
      ],
      "text/latex": [
       "\\begin{tabular}{r|ccccc}\n",
       "\t& Class\\_Name & Left\\_Weight & Left\\_Distance & Right\\_Weight & Right\\_Distance\\\\\n",
       "\t\\hline\n",
       "\t& String & Int64 & Int64 & Int64 & Int64\\\\\n",
       "\t\\hline\n",
       "\t1 & B & 1 & 1 & 1 & 1 \\\\\n",
       "\t2 & R & 1 & 1 & 1 & 2 \\\\\n",
       "\t3 & R & 1 & 1 & 1 & 3 \\\\\n",
       "\t4 & R & 1 & 1 & 1 & 4 \\\\\n",
       "\t5 & R & 1 & 1 & 1 & 5 \\\\\n",
       "\t6 & R & 1 & 1 & 2 & 1 \\\\\n",
       "\t7 & R & 1 & 1 & 2 & 2 \\\\\n",
       "\t8 & R & 1 & 1 & 2 & 3 \\\\\n",
       "\t9 & R & 1 & 1 & 2 & 4 \\\\\n",
       "\t10 & R & 1 & 1 & 2 & 5 \\\\\n",
       "\t11 & R & 1 & 1 & 3 & 1 \\\\\n",
       "\t12 & R & 1 & 1 & 3 & 2 \\\\\n",
       "\t13 & R & 1 & 1 & 3 & 3 \\\\\n",
       "\t14 & R & 1 & 1 & 3 & 4 \\\\\n",
       "\t15 & R & 1 & 1 & 3 & 5 \\\\\n",
       "\t16 & R & 1 & 1 & 4 & 1 \\\\\n",
       "\t17 & R & 1 & 1 & 4 & 2 \\\\\n",
       "\t18 & R & 1 & 1 & 4 & 3 \\\\\n",
       "\t19 & R & 1 & 1 & 4 & 4 \\\\\n",
       "\t20 & R & 1 & 1 & 4 & 5 \\\\\n",
       "\t21 & R & 1 & 1 & 5 & 1 \\\\\n",
       "\t22 & R & 1 & 1 & 5 & 2 \\\\\n",
       "\t23 & R & 1 & 1 & 5 & 3 \\\\\n",
       "\t24 & R & 1 & 1 & 5 & 4 \\\\\n",
       "\t25 & R & 1 & 1 & 5 & 5 \\\\\n",
       "\t26 & L & 1 & 2 & 1 & 1 \\\\\n",
       "\t27 & B & 1 & 2 & 1 & 2 \\\\\n",
       "\t28 & R & 1 & 2 & 1 & 3 \\\\\n",
       "\t29 & R & 1 & 2 & 1 & 4 \\\\\n",
       "\t30 & R & 1 & 2 & 1 & 5 \\\\\n",
       "\t$\\dots$ & $\\dots$ & $\\dots$ & $\\dots$ & $\\dots$ & $\\dots$ \\\\\n",
       "\\end{tabular}\n"
      ],
      "text/plain": [
       "625×5 DataFrame. Omitted printing of 1 columns\n",
       "│ Row │ Class_Name │ Left_Weight │ Left_Distance │ Right_Weight │\n",
       "│     │ \u001b[90mString\u001b[39m     │ \u001b[90mInt64\u001b[39m       │ \u001b[90mInt64\u001b[39m         │ \u001b[90mInt64\u001b[39m        │\n",
       "├─────┼────────────┼─────────────┼───────────────┼──────────────┤\n",
       "│ 1   │ B          │ 1           │ 1             │ 1            │\n",
       "│ 2   │ R          │ 1           │ 1             │ 1            │\n",
       "│ 3   │ R          │ 1           │ 1             │ 1            │\n",
       "│ 4   │ R          │ 1           │ 1             │ 1            │\n",
       "│ 5   │ R          │ 1           │ 1             │ 1            │\n",
       "│ 6   │ R          │ 1           │ 1             │ 2            │\n",
       "│ 7   │ R          │ 1           │ 1             │ 2            │\n",
       "│ 8   │ R          │ 1           │ 1             │ 2            │\n",
       "│ 9   │ R          │ 1           │ 1             │ 2            │\n",
       "│ 10  │ R          │ 1           │ 1             │ 2            │\n",
       "⋮\n",
       "│ 615 │ L          │ 5           │ 5             │ 3            │\n",
       "│ 616 │ L          │ 5           │ 5             │ 4            │\n",
       "│ 617 │ L          │ 5           │ 5             │ 4            │\n",
       "│ 618 │ L          │ 5           │ 5             │ 4            │\n",
       "│ 619 │ L          │ 5           │ 5             │ 4            │\n",
       "│ 620 │ L          │ 5           │ 5             │ 4            │\n",
       "│ 621 │ L          │ 5           │ 5             │ 5            │\n",
       "│ 622 │ L          │ 5           │ 5             │ 5            │\n",
       "│ 623 │ L          │ 5           │ 5             │ 5            │\n",
       "│ 624 │ L          │ 5           │ 5             │ 5            │\n",
       "│ 625 │ B          │ 5           │ 5             │ 5            │"
      ]
     },
     "execution_count": 3,
     "metadata": {},
     "output_type": "execute_result"
    }
   ],
   "source": [
    "data = CSV.read(\"data.csv\")"
   ]
  },
  {
   "cell_type": "code",
   "execution_count": 5,
   "metadata": {},
   "outputs": [
    {
     "data": {
      "text/html": [
       "<table class=\"data-frame\"><thead><tr><th></th><th>variable</th><th>mean</th><th>min</th><th>median</th><th>max</th><th>nunique</th><th>nmissing</th><th>eltype</th></tr><tr><th></th><th>Symbol</th><th>Union…</th><th>Any</th><th>Union…</th><th>Any</th><th>Union…</th><th>Nothing</th><th>DataType</th></tr></thead><tbody><p>5 rows × 8 columns</p><tr><th>1</th><td>Class_Name</td><td></td><td>B</td><td></td><td>R</td><td>3</td><td></td><td>String</td></tr><tr><th>2</th><td>Left_Weight</td><td>3.0</td><td>1</td><td>3.0</td><td>5</td><td></td><td></td><td>Int64</td></tr><tr><th>3</th><td>Left_Distance</td><td>3.0</td><td>1</td><td>3.0</td><td>5</td><td></td><td></td><td>Int64</td></tr><tr><th>4</th><td>Right_Weight</td><td>3.0</td><td>1</td><td>3.0</td><td>5</td><td></td><td></td><td>Int64</td></tr><tr><th>5</th><td>Right_Distance</td><td>3.0</td><td>1</td><td>3.0</td><td>5</td><td></td><td></td><td>Int64</td></tr></tbody></table>"
      ],
      "text/latex": [
       "\\begin{tabular}{r|cccccccc}\n",
       "\t& variable & mean & min & median & max & nunique & nmissing & eltype\\\\\n",
       "\t\\hline\n",
       "\t& Symbol & Union… & Any & Union… & Any & Union… & Nothing & DataType\\\\\n",
       "\t\\hline\n",
       "\t1 & Class\\_Name &  & B &  & R & 3 &  & String \\\\\n",
       "\t2 & Left\\_Weight & 3.0 & 1 & 3.0 & 5 &  &  & Int64 \\\\\n",
       "\t3 & Left\\_Distance & 3.0 & 1 & 3.0 & 5 &  &  & Int64 \\\\\n",
       "\t4 & Right\\_Weight & 3.0 & 1 & 3.0 & 5 &  &  & Int64 \\\\\n",
       "\t5 & Right\\_Distance & 3.0 & 1 & 3.0 & 5 &  &  & Int64 \\\\\n",
       "\\end{tabular}\n"
      ],
      "text/plain": [
       "5×8 DataFrame. Omitted printing of 1 columns\n",
       "│ Row │ variable       │ mean   │ min │ median │ max │ nunique │ nmissing │\n",
       "│     │ \u001b[90mSymbol\u001b[39m         │ \u001b[90mUnion…\u001b[39m │ \u001b[90mAny\u001b[39m │ \u001b[90mUnion…\u001b[39m │ \u001b[90mAny\u001b[39m │ \u001b[90mUnion…\u001b[39m  │ \u001b[90mNothing\u001b[39m  │\n",
       "├─────┼────────────────┼────────┼─────┼────────┼─────┼─────────┼──────────┤\n",
       "│ 1   │ Class_Name     │        │ B   │        │ R   │ 3       │          │\n",
       "│ 2   │ Left_Weight    │ 3.0    │ 1   │ 3.0    │ 5   │         │          │\n",
       "│ 3   │ Left_Distance  │ 3.0    │ 1   │ 3.0    │ 5   │         │          │\n",
       "│ 4   │ Right_Weight   │ 3.0    │ 1   │ 3.0    │ 5   │         │          │\n",
       "│ 5   │ Right_Distance │ 3.0    │ 1   │ 3.0    │ 5   │         │          │"
      ]
     },
     "execution_count": 5,
     "metadata": {},
     "output_type": "execute_result"
    }
   ],
   "source": [
    "describe(data)"
   ]
  },
  {
   "cell_type": "markdown",
   "metadata": {},
   "source": [
    "Look at class labels to see if dataset is imbalanced"
   ]
  },
  {
   "cell_type": "code",
   "execution_count": 6,
   "metadata": {},
   "outputs": [
    {
     "data": {
      "text/plain": [
       "Dict{String,Int64} with 3 entries:\n",
       "  \"B\" => 49\n",
       "  \"L\" => 288\n",
       "  \"R\" => 288"
      ]
     },
     "execution_count": 6,
     "metadata": {},
     "output_type": "execute_result"
    }
   ],
   "source": [
    "label_counts = countmap(data[:Class_Name])"
   ]
  },
  {
   "cell_type": "code",
   "execution_count": 7,
   "metadata": {},
   "outputs": [
    {
     "data": {
      "text/plain": [
       "3-element Array{Float64,1}:\n",
       " 0.0784\n",
       " 0.4608\n",
       " 0.4608"
      ]
     },
     "execution_count": 7,
     "metadata": {},
     "output_type": "execute_result"
    }
   ],
   "source": [
    "collect(label_counts[i] / size(data)[1] for i in keys(label_counts))"
   ]
  },
  {
   "cell_type": "markdown",
   "metadata": {},
   "source": [
    "Get data ready for training"
   ]
  },
  {
   "cell_type": "code",
   "execution_count": 8,
   "metadata": {},
   "outputs": [
    {
     "data": {
      "text/plain": [
       "┌\u001b[0m────────────────\u001b[0m┬\u001b[0m─────────────────────────────────\u001b[0m┬\u001b[0m───────────────\u001b[0m┐\u001b[0m\n",
       "│\u001b[0m\u001b[22m _.names        \u001b[0m│\u001b[0m\u001b[22m _.types                         \u001b[0m│\u001b[0m\u001b[22m _.scitypes    \u001b[0m│\u001b[0m\n",
       "├\u001b[0m────────────────\u001b[0m┼\u001b[0m─────────────────────────────────\u001b[0m┼\u001b[0m───────────────\u001b[0m┤\u001b[0m\n",
       "│\u001b[0m Class_Name     \u001b[0m│\u001b[0m CategoricalValue{String,UInt32} \u001b[0m│\u001b[0m Multiclass{3} \u001b[0m│\u001b[0m\n",
       "│\u001b[0m Left_Weight    \u001b[0m│\u001b[0m Float64                         \u001b[0m│\u001b[0m Continuous    \u001b[0m│\u001b[0m\n",
       "│\u001b[0m Left_Distance  \u001b[0m│\u001b[0m Float64                         \u001b[0m│\u001b[0m Continuous    \u001b[0m│\u001b[0m\n",
       "│\u001b[0m Right_Weight   \u001b[0m│\u001b[0m Float64                         \u001b[0m│\u001b[0m Continuous    \u001b[0m│\u001b[0m\n",
       "│\u001b[0m Right_Distance \u001b[0m│\u001b[0m Float64                         \u001b[0m│\u001b[0m Continuous    \u001b[0m│\u001b[0m\n",
       "└\u001b[0m────────────────\u001b[0m┴\u001b[0m─────────────────────────────────\u001b[0m┴\u001b[0m───────────────\u001b[0m┘\u001b[0m\n",
       "_.nrows = 625\n"
      ]
     },
     "execution_count": 8,
     "metadata": {},
     "output_type": "execute_result"
    }
   ],
   "source": [
    "coerce!(data, :Class_Name=>Multiclass,\n",
    "              :Left_Weight=>Continuous,\n",
    "              :Right_Weight=>Continuous,\n",
    "              :Left_Distance=>Continuous,\n",
    "              :Right_Distance=>Continuous)\n",
    "schema(data)"
   ]
  },
  {
   "cell_type": "code",
   "execution_count": 9,
   "metadata": {
    "scrolled": false
   },
   "outputs": [
    {
     "data": {
      "text/plain": [
       "(CategoricalValue{String,UInt32}[\"B\", \"R\", \"R\", \"R\", \"R\", \"R\", \"R\", \"R\", \"R\", \"R\"  …  \"L\", \"L\", \"L\", \"L\", \"L\", \"L\", \"L\", \"L\", \"L\", \"B\"], 625×4 DataFrame\n",
       "│ Row │ Left_Weight │ Left_Distance │ Right_Weight │ Right_Distance │\n",
       "│     │ \u001b[90mFloat64\u001b[39m     │ \u001b[90mFloat64\u001b[39m       │ \u001b[90mFloat64\u001b[39m      │ \u001b[90mFloat64\u001b[39m        │\n",
       "├─────┼─────────────┼───────────────┼──────────────┼────────────────┤\n",
       "│ 1   │ 1.0         │ 1.0           │ 1.0          │ 1.0            │\n",
       "│ 2   │ 1.0         │ 1.0           │ 1.0          │ 2.0            │\n",
       "│ 3   │ 1.0         │ 1.0           │ 1.0          │ 3.0            │\n",
       "│ 4   │ 1.0         │ 1.0           │ 1.0          │ 4.0            │\n",
       "│ 5   │ 1.0         │ 1.0           │ 1.0          │ 5.0            │\n",
       "│ 6   │ 1.0         │ 1.0           │ 2.0          │ 1.0            │\n",
       "│ 7   │ 1.0         │ 1.0           │ 2.0          │ 2.0            │\n",
       "│ 8   │ 1.0         │ 1.0           │ 2.0          │ 3.0            │\n",
       "│ 9   │ 1.0         │ 1.0           │ 2.0          │ 4.0            │\n",
       "│ 10  │ 1.0         │ 1.0           │ 2.0          │ 5.0            │\n",
       "⋮\n",
       "│ 615 │ 5.0         │ 5.0           │ 3.0          │ 5.0            │\n",
       "│ 616 │ 5.0         │ 5.0           │ 4.0          │ 1.0            │\n",
       "│ 617 │ 5.0         │ 5.0           │ 4.0          │ 2.0            │\n",
       "│ 618 │ 5.0         │ 5.0           │ 4.0          │ 3.0            │\n",
       "│ 619 │ 5.0         │ 5.0           │ 4.0          │ 4.0            │\n",
       "│ 620 │ 5.0         │ 5.0           │ 4.0          │ 5.0            │\n",
       "│ 621 │ 5.0         │ 5.0           │ 5.0          │ 1.0            │\n",
       "│ 622 │ 5.0         │ 5.0           │ 5.0          │ 2.0            │\n",
       "│ 623 │ 5.0         │ 5.0           │ 5.0          │ 3.0            │\n",
       "│ 624 │ 5.0         │ 5.0           │ 5.0          │ 4.0            │\n",
       "│ 625 │ 5.0         │ 5.0           │ 5.0          │ 5.0            │)"
      ]
     },
     "execution_count": 9,
     "metadata": {},
     "output_type": "execute_result"
    }
   ],
   "source": [
    "y, X = unpack(data, ==(:Class_Name), colname->true)"
   ]
  },
  {
   "cell_type": "markdown",
   "metadata": {},
   "source": [
    "Partition train and test data accoring to class labels"
   ]
  },
  {
   "cell_type": "code",
   "execution_count": 10,
   "metadata": {},
   "outputs": [
    {
     "data": {
      "text/plain": [
       "([595, 102, 55, 568, 425, 389, 146, 63, 372, 250  …  195, 500, 571, 533, 112, 396, 297, 106, 303, 261], [444, 144, 546, 43, 19, 173, 365, 423, 27, 218  …  293, 614, 90, 471, 13, 134, 296, 79, 395, 415])"
      ]
     },
     "execution_count": 10,
     "metadata": {},
     "output_type": "execute_result"
    }
   ],
   "source": [
    "# data to use when trying to fit a single validation set\n",
    "train, test = partition(eachindex(y), 0.7, shuffle=true, rng=123, stratify=values(data[:Class_Name])) # gives 70:30 split"
   ]
  },
  {
   "cell_type": "code",
   "execution_count": 11,
   "metadata": {
    "scrolled": false
   },
   "outputs": [
    {
     "data": {
      "text/plain": [
       "3-element Array{Float64,1}:\n",
       " 0.0776255707762557\n",
       " 0.4611872146118721\n",
       " 0.4611872146118721"
      ]
     },
     "execution_count": 11,
     "metadata": {},
     "output_type": "execute_result"
    }
   ],
   "source": [
    "train_counts = countmap(data[train,:Class_Name])\n",
    "collect(train_counts[i] / size(train)[1] for i in keys(train_counts))"
   ]
  },
  {
   "cell_type": "code",
   "execution_count": 12,
   "metadata": {
    "scrolled": false
   },
   "outputs": [
    {
     "data": {
      "text/plain": [
       "3-element Array{Float64,1}:\n",
       " 0.08021390374331551\n",
       " 0.45989304812834225\n",
       " 0.45989304812834225"
      ]
     },
     "execution_count": 12,
     "metadata": {},
     "output_type": "execute_result"
    }
   ],
   "source": [
    "test_counts = countmap(data[test,:Class_Name])\n",
    "collect(test_counts[i] / size(test)[1] for i in keys(test_counts))"
   ]
  },
  {
   "cell_type": "markdown",
   "metadata": {},
   "source": [
    "# Five Learning Algorithms\n",
    "\n",
    "* Decision trees with some form of pruning\n",
    "* Neural networks\n",
    "* Boosting\n",
    "* Support Vector Machines\n",
    "* k-nearest neighbors\n",
    "\n",
    "\n",
    "##### Testing\n",
    "* Implement the algorithms\n",
    "* Design two *interesting* classification problems. For the purposes of this assignment, a classification problem is just a set of training examples and a set of test examples."
   ]
  },
  {
   "cell_type": "code",
   "execution_count": 13,
   "metadata": {
    "scrolled": true
   },
   "outputs": [
    {
     "data": {
      "text/plain": [
       "42-element Array{NamedTuple{(:name, :package_name, :is_supervised, :docstring, :hyperparameter_ranges, :hyperparameter_types, :hyperparameters, :implemented_methods, :is_pure_julia, :is_wrapper, :load_path, :package_license, :package_url, :package_uuid, :prediction_type, :supports_online, :supports_weights, :input_scitype, :target_scitype, :output_scitype),T} where T<:Tuple,1}:\n",
       " (name = AdaBoostClassifier, package_name = ScikitLearn, ... )\n",
       " (name = AdaBoostStumpClassifier, package_name = DecisionTree, ... )\n",
       " (name = BaggingClassifier, package_name = ScikitLearn, ... )\n",
       " (name = BayesianLDA, package_name = MultivariateStats, ... )\n",
       " (name = BayesianLDA, package_name = ScikitLearn, ... )\n",
       " (name = BayesianQDA, package_name = ScikitLearn, ... )\n",
       " (name = BayesianSubspaceLDA, package_name = MultivariateStats, ... )\n",
       " (name = ConstantClassifier, package_name = MLJModels, ... )\n",
       " (name = DecisionTreeClassifier, package_name = DecisionTree, ... )\n",
       " (name = DeterministicConstantClassifier, package_name = MLJModels, ... )\n",
       " (name = DummyClassifier, package_name = ScikitLearn, ... )\n",
       " (name = EvoTreeClassifier, package_name = EvoTrees, ... )\n",
       " (name = ExtraTreesClassifier, package_name = ScikitLearn, ... )\n",
       " ⋮\n",
       " (name = ProbabilisticSGDClassifier, package_name = ScikitLearn, ... )\n",
       " (name = RandomForestClassifier, package_name = DecisionTree, ... )\n",
       " (name = RandomForestClassifier, package_name = ScikitLearn, ... )\n",
       " (name = RidgeCVClassifier, package_name = ScikitLearn, ... )\n",
       " (name = RidgeClassifier, package_name = ScikitLearn, ... )\n",
       " (name = SGDClassifier, package_name = ScikitLearn, ... )\n",
       " (name = SVC, package_name = LIBSVM, ... )\n",
       " (name = SVMClassifier, package_name = ScikitLearn, ... )\n",
       " (name = SVMLinearClassifier, package_name = ScikitLearn, ... )\n",
       " (name = SVMNuClassifier, package_name = ScikitLearn, ... )\n",
       " (name = SubspaceLDA, package_name = MultivariateStats, ... )\n",
       " (name = XGBoostClassifier, package_name = XGBoost, ... )"
      ]
     },
     "execution_count": 13,
     "metadata": {},
     "output_type": "execute_result"
    }
   ],
   "source": [
    "models(matching(X,y))"
   ]
  },
  {
   "cell_type": "code",
   "execution_count": 14,
   "metadata": {},
   "outputs": [
    {
     "name": "stdout",
     "output_type": "stream",
     "text": [
      "import MLJFlux ✔\n",
      "import "
     ]
    },
    {
     "name": "stderr",
     "output_type": "stream",
     "text": [
      "┌ Info: Loading into module \"Main\": \n",
      "└ @ MLJModels /home/andrew/.julia/packages/MLJModels/mUBFt/src/loading.jl:70\n"
     ]
    },
    {
     "name": "stdout",
     "output_type": "stream",
     "text": [
      "MLJFlux ✔\n"
     ]
    },
    {
     "data": {
      "text/plain": [
       "NeuralNetworkClassifier(\n",
       "    builder = Short(\n",
       "            n_hidden = 0,\n",
       "            dropout = 0.5,\n",
       "            σ = NNlib.σ),\n",
       "    finaliser = NNlib.softmax,\n",
       "    optimiser = ADAM(0.001, (0.9, 0.999), IdDict{Any,Any}()),\n",
       "    loss = Flux.crossentropy,\n",
       "    epochs = 10,\n",
       "    batch_size = 1,\n",
       "    lambda = 0.0,\n",
       "    alpha = 0.0,\n",
       "    optimiser_changes_trigger_retraining = false)\u001b[34m @538\u001b[39m"
      ]
     },
     "execution_count": 14,
     "metadata": {},
     "output_type": "execute_result"
    }
   ],
   "source": [
    "@load NeuralNetworkClassifier verbosity=2"
   ]
  },
  {
   "cell_type": "markdown",
   "metadata": {},
   "source": [
    "## Neural networks\n",
    "* Use favorite kind of network and training algorithm. \n",
    "* You may use networks of nodes with as many layers as you like and any activation function you see fit.\n",
    "\n",
    "1. https://github.com/alan-turing-institute/MLJFlux.jl/blob/master/examples/boston.ipynb\n",
    "1. https://github.com/alan-turing-institute/MLJFlux.jl\n",
    "1. https://alan-turing-institute.github.io/MLJ.jl/dev/transformers/"
   ]
  },
  {
   "cell_type": "code",
   "execution_count": 15,
   "metadata": {},
   "outputs": [],
   "source": [
    "# Define a custom network\n",
    "mutable struct CustomNN <:MLJFlux.Builder\n",
    "    n1 ::Int\n",
    "    n2 ::Int\n",
    "end"
   ]
  },
  {
   "cell_type": "code",
   "execution_count": 16,
   "metadata": {},
   "outputs": [],
   "source": [
    "function MLJFlux.build(nn::CustomNN, n_in, n_out)\n",
    "    return Chain(\n",
    "        Flux.Dense(n_in, nn.n1, σ),\n",
    "        Flux.Dense(nn.n1, nn.n2, σ),\n",
    "        Flux.Dense(nn.n2, n_out, σ),\n",
    "    )\n",
    "end"
   ]
  },
  {
   "cell_type": "code",
   "execution_count": 17,
   "metadata": {},
   "outputs": [
    {
     "data": {
      "text/plain": [
       "40"
      ]
     },
     "execution_count": 17,
     "metadata": {},
     "output_type": "execute_result"
    }
   ],
   "source": [
    "layer1 = 80\n",
    "layer2 = 40"
   ]
  },
  {
   "cell_type": "code",
   "execution_count": 18,
   "metadata": {},
   "outputs": [],
   "source": [
    "batch_sz = 16;"
   ]
  },
  {
   "cell_type": "code",
   "execution_count": 19,
   "metadata": {},
   "outputs": [],
   "source": [
    "max_epochs = 4000;"
   ]
  },
  {
   "cell_type": "markdown",
   "metadata": {},
   "source": [
    "### No-preprocessing"
   ]
  },
  {
   "cell_type": "code",
   "execution_count": 20,
   "metadata": {},
   "outputs": [
    {
     "data": {
      "text/plain": [
       "NeuralNetworkClassifier(\n",
       "    builder = CustomNN(\n",
       "            n1 = 80,\n",
       "            n2 = 40),\n",
       "    finaliser = NNlib.softmax,\n",
       "    optimiser = ADAM(0.001, (0.9, 0.999), IdDict{Any,Any}()),\n",
       "    loss = Flux.crossentropy,\n",
       "    epochs = 10,\n",
       "    batch_size = 1,\n",
       "    lambda = 0.0,\n",
       "    alpha = 0.0,\n",
       "    optimiser_changes_trigger_retraining = false)\u001b[34m @559\u001b[39m"
      ]
     },
     "execution_count": 20,
     "metadata": {},
     "output_type": "execute_result"
    }
   ],
   "source": [
    "nn = NeuralNetworkClassifier(builder=CustomNN(layer1,layer2))"
   ]
  },
  {
   "cell_type": "code",
   "execution_count": 21,
   "metadata": {},
   "outputs": [
    {
     "data": {
      "text/plain": [
       "\u001b[34mMachine{NeuralNetworkClassifier{CustomNN,…}} @945\u001b[39m trained 0 times.\n",
       "  args: \n",
       "    1:\t\u001b[34mSource @683\u001b[39m ⏎ `Table{AbstractArray{Continuous,1}}`\n",
       "    2:\t\u001b[34mSource @968\u001b[39m ⏎ `AbstractArray{Multiclass{3},1}`\n"
      ]
     },
     "execution_count": 21,
     "metadata": {},
     "output_type": "execute_result"
    }
   ],
   "source": [
    "Net = machine(nn, X, y)"
   ]
  },
  {
   "cell_type": "code",
   "execution_count": 22,
   "metadata": {},
   "outputs": [
    {
     "data": {
      "text/plain": [
       "0.01"
      ]
     },
     "execution_count": 22,
     "metadata": {},
     "output_type": "execute_result"
    }
   ],
   "source": [
    "nn.optimiser.eta = 0.001\n",
    "nn.epochs = 60\n",
    "nn.batch_size = batch_sz\n",
    "nn.lambda = 0.01"
   ]
  },
  {
   "cell_type": "code",
   "execution_count": 23,
   "metadata": {
    "scrolled": true
   },
   "outputs": [
    {
     "name": "stderr",
     "output_type": "stream",
     "text": [
      "┌ Info: Training \u001b[34mMachine{NeuralNetworkClassifier{CustomNN,…}} @945\u001b[39m.\n",
      "└ @ MLJBase /home/andrew/.julia/packages/MLJBase/uKzAz/src/machines.jl:319\n",
      "┌ Info: Loss is 0.977\n",
      "└ @ MLJFlux /home/andrew/.julia/packages/MLJFlux/rYILg/src/core.jl:95\n",
      "┌ Info: Loss is 0.9565\n",
      "└ @ MLJFlux /home/andrew/.julia/packages/MLJFlux/rYILg/src/core.jl:95\n",
      "┌ Info: Loss is 0.9506\n",
      "└ @ MLJFlux /home/andrew/.julia/packages/MLJFlux/rYILg/src/core.jl:95\n",
      "┌ Info: Loss is 0.9477\n",
      "└ @ MLJFlux /home/andrew/.julia/packages/MLJFlux/rYILg/src/core.jl:95\n",
      "┌ Info: Loss is 0.9456\n",
      "└ @ MLJFlux /home/andrew/.julia/packages/MLJFlux/rYILg/src/core.jl:95\n",
      "┌ Info: Loss is 0.9437\n",
      "└ @ MLJFlux /home/andrew/.julia/packages/MLJFlux/rYILg/src/core.jl:95\n",
      "┌ Info: Loss is 0.9417\n",
      "└ @ MLJFlux /home/andrew/.julia/packages/MLJFlux/rYILg/src/core.jl:95\n",
      "┌ Info: Loss is 0.939\n",
      "└ @ MLJFlux /home/andrew/.julia/packages/MLJFlux/rYILg/src/core.jl:95\n",
      "┌ Info: Loss is 0.9342\n",
      "└ @ MLJFlux /home/andrew/.julia/packages/MLJFlux/rYILg/src/core.jl:95\n",
      "┌ Info: Loss is 0.923\n",
      "└ @ MLJFlux /home/andrew/.julia/packages/MLJFlux/rYILg/src/core.jl:95\n",
      "┌ Info: Loss is 0.8992\n",
      "└ @ MLJFlux /home/andrew/.julia/packages/MLJFlux/rYILg/src/core.jl:95\n",
      "┌ Info: Loss is 0.857\n",
      "└ @ MLJFlux /home/andrew/.julia/packages/MLJFlux/rYILg/src/core.jl:95\n",
      "┌ Info: Loss is 0.8121\n",
      "└ @ MLJFlux /home/andrew/.julia/packages/MLJFlux/rYILg/src/core.jl:95\n",
      "┌ Info: Loss is 0.7774\n",
      "└ @ MLJFlux /home/andrew/.julia/packages/MLJFlux/rYILg/src/core.jl:95\n",
      "┌ Info: Loss is 0.7531\n",
      "└ @ MLJFlux /home/andrew/.julia/packages/MLJFlux/rYILg/src/core.jl:95\n",
      "┌ Info: Loss is 0.7362\n",
      "└ @ MLJFlux /home/andrew/.julia/packages/MLJFlux/rYILg/src/core.jl:95\n",
      "┌ Info: Loss is 0.7239\n",
      "└ @ MLJFlux /home/andrew/.julia/packages/MLJFlux/rYILg/src/core.jl:95\n",
      "┌ Info: Loss is 0.7146\n",
      "└ @ MLJFlux /home/andrew/.julia/packages/MLJFlux/rYILg/src/core.jl:95\n",
      "┌ Info: Loss is 0.7074\n",
      "└ @ MLJFlux /home/andrew/.julia/packages/MLJFlux/rYILg/src/core.jl:95\n",
      "┌ Info: Loss is 0.7017\n",
      "└ @ MLJFlux /home/andrew/.julia/packages/MLJFlux/rYILg/src/core.jl:95\n",
      "┌ Info: Loss is 0.697\n",
      "└ @ MLJFlux /home/andrew/.julia/packages/MLJFlux/rYILg/src/core.jl:95\n",
      "┌ Info: Loss is 0.6931\n",
      "└ @ MLJFlux /home/andrew/.julia/packages/MLJFlux/rYILg/src/core.jl:95\n",
      "┌ Info: Loss is 0.6898\n",
      "└ @ MLJFlux /home/andrew/.julia/packages/MLJFlux/rYILg/src/core.jl:95\n",
      "┌ Info: Loss is 0.687\n",
      "└ @ MLJFlux /home/andrew/.julia/packages/MLJFlux/rYILg/src/core.jl:95\n",
      "┌ Info: Loss is 0.6846\n",
      "└ @ MLJFlux /home/andrew/.julia/packages/MLJFlux/rYILg/src/core.jl:95\n",
      "┌ Info: Loss is 0.6824\n",
      "└ @ MLJFlux /home/andrew/.julia/packages/MLJFlux/rYILg/src/core.jl:95\n",
      "┌ Info: Loss is 0.6805\n",
      "└ @ MLJFlux /home/andrew/.julia/packages/MLJFlux/rYILg/src/core.jl:95\n",
      "┌ Info: Loss is 0.6788\n",
      "└ @ MLJFlux /home/andrew/.julia/packages/MLJFlux/rYILg/src/core.jl:95\n",
      "┌ Info: Loss is 0.6772\n",
      "└ @ MLJFlux /home/andrew/.julia/packages/MLJFlux/rYILg/src/core.jl:95\n",
      "┌ Info: Loss is 0.6758\n",
      "└ @ MLJFlux /home/andrew/.julia/packages/MLJFlux/rYILg/src/core.jl:95\n",
      "┌ Info: Loss is 0.6745\n",
      "└ @ MLJFlux /home/andrew/.julia/packages/MLJFlux/rYILg/src/core.jl:95\n",
      "┌ Info: Loss is 0.6734\n",
      "└ @ MLJFlux /home/andrew/.julia/packages/MLJFlux/rYILg/src/core.jl:95\n",
      "┌ Info: Loss is 0.6723\n",
      "└ @ MLJFlux /home/andrew/.julia/packages/MLJFlux/rYILg/src/core.jl:95\n",
      "┌ Info: Loss is 0.6713\n",
      "└ @ MLJFlux /home/andrew/.julia/packages/MLJFlux/rYILg/src/core.jl:95\n",
      "┌ Info: Loss is 0.6703\n",
      "└ @ MLJFlux /home/andrew/.julia/packages/MLJFlux/rYILg/src/core.jl:95\n",
      "┌ Info: Loss is 0.6694\n",
      "└ @ MLJFlux /home/andrew/.julia/packages/MLJFlux/rYILg/src/core.jl:95\n",
      "┌ Info: Loss is 0.6686\n",
      "└ @ MLJFlux /home/andrew/.julia/packages/MLJFlux/rYILg/src/core.jl:95\n",
      "┌ Info: Loss is 0.6678\n",
      "└ @ MLJFlux /home/andrew/.julia/packages/MLJFlux/rYILg/src/core.jl:95\n",
      "┌ Info: Loss is 0.6671\n",
      "└ @ MLJFlux /home/andrew/.julia/packages/MLJFlux/rYILg/src/core.jl:95\n",
      "┌ Info: Loss is 0.6664\n",
      "└ @ MLJFlux /home/andrew/.julia/packages/MLJFlux/rYILg/src/core.jl:95\n",
      "┌ Info: Loss is 0.6658\n",
      "└ @ MLJFlux /home/andrew/.julia/packages/MLJFlux/rYILg/src/core.jl:95\n",
      "┌ Info: Loss is 0.6651\n",
      "└ @ MLJFlux /home/andrew/.julia/packages/MLJFlux/rYILg/src/core.jl:95\n",
      "┌ Info: Loss is 0.6645\n",
      "└ @ MLJFlux /home/andrew/.julia/packages/MLJFlux/rYILg/src/core.jl:95\n",
      "┌ Info: Loss is 0.664\n",
      "└ @ MLJFlux /home/andrew/.julia/packages/MLJFlux/rYILg/src/core.jl:95\n",
      "┌ Info: Loss is 0.6634\n",
      "└ @ MLJFlux /home/andrew/.julia/packages/MLJFlux/rYILg/src/core.jl:95\n",
      "┌ Info: Loss is 0.6629\n",
      "└ @ MLJFlux /home/andrew/.julia/packages/MLJFlux/rYILg/src/core.jl:95\n",
      "┌ Info: Loss is 0.6624\n",
      "└ @ MLJFlux /home/andrew/.julia/packages/MLJFlux/rYILg/src/core.jl:95\n",
      "┌ Info: Loss is 0.662\n",
      "└ @ MLJFlux /home/andrew/.julia/packages/MLJFlux/rYILg/src/core.jl:95\n",
      "┌ Info: Loss is 0.6615\n",
      "└ @ MLJFlux /home/andrew/.julia/packages/MLJFlux/rYILg/src/core.jl:95\n",
      "┌ Info: Loss is 0.6611\n",
      "└ @ MLJFlux /home/andrew/.julia/packages/MLJFlux/rYILg/src/core.jl:95\n",
      "┌ Info: Loss is 0.6607\n",
      "└ @ MLJFlux /home/andrew/.julia/packages/MLJFlux/rYILg/src/core.jl:95\n",
      "┌ Info: Loss is 0.6603\n",
      "└ @ MLJFlux /home/andrew/.julia/packages/MLJFlux/rYILg/src/core.jl:95\n",
      "┌ Info: Loss is 0.6599\n",
      "└ @ MLJFlux /home/andrew/.julia/packages/MLJFlux/rYILg/src/core.jl:95\n",
      "┌ Info: Loss is 0.6595\n",
      "└ @ MLJFlux /home/andrew/.julia/packages/MLJFlux/rYILg/src/core.jl:95\n",
      "┌ Info: Loss is 0.6592\n",
      "└ @ MLJFlux /home/andrew/.julia/packages/MLJFlux/rYILg/src/core.jl:95\n",
      "┌ Info: Loss is 0.6588\n",
      "└ @ MLJFlux /home/andrew/.julia/packages/MLJFlux/rYILg/src/core.jl:95\n",
      "┌ Info: Loss is 0.6585\n",
      "└ @ MLJFlux /home/andrew/.julia/packages/MLJFlux/rYILg/src/core.jl:95\n",
      "┌ Info: Loss is 0.6582\n",
      "└ @ MLJFlux /home/andrew/.julia/packages/MLJFlux/rYILg/src/core.jl:95\n",
      "┌ Info: Loss is 0.6579\n",
      "└ @ MLJFlux /home/andrew/.julia/packages/MLJFlux/rYILg/src/core.jl:95\n",
      "┌ Info: Loss is 0.6576\n",
      "└ @ MLJFlux /home/andrew/.julia/packages/MLJFlux/rYILg/src/core.jl:95\n"
     ]
    },
    {
     "data": {
      "text/plain": [
       "\u001b[34mMachine{NeuralNetworkClassifier{CustomNN,…}} @945\u001b[39m trained 1 time.\n",
       "  args: \n",
       "    1:\t\u001b[34mSource @683\u001b[39m ⏎ `Table{AbstractArray{Continuous,1}}`\n",
       "    2:\t\u001b[34mSource @968\u001b[39m ⏎ `AbstractArray{Multiclass{3},1}`\n"
      ]
     },
     "execution_count": 23,
     "metadata": {},
     "output_type": "execute_result"
    }
   ],
   "source": [
    "fit!(Net, rows=train, verbosity=2)"
   ]
  },
  {
   "cell_type": "code",
   "execution_count": 24,
   "metadata": {},
   "outputs": [
    {
     "data": {
      "text/plain": [
       "100"
      ]
     },
     "execution_count": 24,
     "metadata": {},
     "output_type": "execute_result"
    }
   ],
   "source": [
    "nn.optimiser.eta = nn.optimiser.eta / 3\n",
    "nn.epochs = nn.epochs + 40"
   ]
  },
  {
   "cell_type": "code",
   "execution_count": 25,
   "metadata": {
    "scrolled": true
   },
   "outputs": [
    {
     "name": "stderr",
     "output_type": "stream",
     "text": [
      "┌ Info: Updating \u001b[34mMachine{NeuralNetworkClassifier{CustomNN,…}} @945\u001b[39m.\n",
      "└ @ MLJBase /home/andrew/.julia/packages/MLJBase/uKzAz/src/machines.jl:320\n",
      "┌ Info: Loss is 0.6573\n",
      "└ @ MLJFlux /home/andrew/.julia/packages/MLJFlux/rYILg/src/core.jl:95\n",
      "┌ Info: Loss is 0.6571\n",
      "└ @ MLJFlux /home/andrew/.julia/packages/MLJFlux/rYILg/src/core.jl:95\n",
      "┌ Info: Loss is 0.657\n",
      "└ @ MLJFlux /home/andrew/.julia/packages/MLJFlux/rYILg/src/core.jl:95\n",
      "┌ Info: Loss is 0.6568\n",
      "└ @ MLJFlux /home/andrew/.julia/packages/MLJFlux/rYILg/src/core.jl:95\n",
      "┌ Info: Loss is 0.6567\n",
      "└ @ MLJFlux /home/andrew/.julia/packages/MLJFlux/rYILg/src/core.jl:95\n",
      "┌ Info: Loss is 0.6565\n",
      "└ @ MLJFlux /home/andrew/.julia/packages/MLJFlux/rYILg/src/core.jl:95\n",
      "┌ Info: Loss is 0.6564\n",
      "└ @ MLJFlux /home/andrew/.julia/packages/MLJFlux/rYILg/src/core.jl:95\n",
      "┌ Info: Loss is 0.6563\n",
      "└ @ MLJFlux /home/andrew/.julia/packages/MLJFlux/rYILg/src/core.jl:95\n",
      "┌ Info: Loss is 0.6561\n",
      "└ @ MLJFlux /home/andrew/.julia/packages/MLJFlux/rYILg/src/core.jl:95\n",
      "┌ Info: Loss is 0.656\n",
      "└ @ MLJFlux /home/andrew/.julia/packages/MLJFlux/rYILg/src/core.jl:95\n",
      "┌ Info: Loss is 0.6559\n",
      "└ @ MLJFlux /home/andrew/.julia/packages/MLJFlux/rYILg/src/core.jl:95\n",
      "┌ Info: Loss is 0.6558\n",
      "└ @ MLJFlux /home/andrew/.julia/packages/MLJFlux/rYILg/src/core.jl:95\n",
      "┌ Info: Loss is 0.6556\n",
      "└ @ MLJFlux /home/andrew/.julia/packages/MLJFlux/rYILg/src/core.jl:95\n",
      "┌ Info: Loss is 0.6555\n",
      "└ @ MLJFlux /home/andrew/.julia/packages/MLJFlux/rYILg/src/core.jl:95\n",
      "┌ Info: Loss is 0.6554\n",
      "└ @ MLJFlux /home/andrew/.julia/packages/MLJFlux/rYILg/src/core.jl:95\n",
      "┌ Info: Loss is 0.6553\n",
      "└ @ MLJFlux /home/andrew/.julia/packages/MLJFlux/rYILg/src/core.jl:95\n",
      "┌ Info: Loss is 0.6552\n",
      "└ @ MLJFlux /home/andrew/.julia/packages/MLJFlux/rYILg/src/core.jl:95\n",
      "┌ Info: Loss is 0.6551\n",
      "└ @ MLJFlux /home/andrew/.julia/packages/MLJFlux/rYILg/src/core.jl:95\n",
      "┌ Info: Loss is 0.655\n",
      "└ @ MLJFlux /home/andrew/.julia/packages/MLJFlux/rYILg/src/core.jl:95\n",
      "┌ Info: Loss is 0.6549\n",
      "└ @ MLJFlux /home/andrew/.julia/packages/MLJFlux/rYILg/src/core.jl:95\n",
      "┌ Info: Loss is 0.6548\n",
      "└ @ MLJFlux /home/andrew/.julia/packages/MLJFlux/rYILg/src/core.jl:95\n",
      "┌ Info: Loss is 0.6547\n",
      "└ @ MLJFlux /home/andrew/.julia/packages/MLJFlux/rYILg/src/core.jl:95\n",
      "┌ Info: Loss is 0.6546\n",
      "└ @ MLJFlux /home/andrew/.julia/packages/MLJFlux/rYILg/src/core.jl:95\n",
      "┌ Info: Loss is 0.6545\n",
      "└ @ MLJFlux /home/andrew/.julia/packages/MLJFlux/rYILg/src/core.jl:95\n",
      "┌ Info: Loss is 0.6544\n",
      "└ @ MLJFlux /home/andrew/.julia/packages/MLJFlux/rYILg/src/core.jl:95\n",
      "┌ Info: Loss is 0.6543\n",
      "└ @ MLJFlux /home/andrew/.julia/packages/MLJFlux/rYILg/src/core.jl:95\n",
      "┌ Info: Loss is 0.6542\n",
      "└ @ MLJFlux /home/andrew/.julia/packages/MLJFlux/rYILg/src/core.jl:95\n",
      "┌ Info: Loss is 0.6541\n",
      "└ @ MLJFlux /home/andrew/.julia/packages/MLJFlux/rYILg/src/core.jl:95\n",
      "┌ Info: Loss is 0.654\n",
      "└ @ MLJFlux /home/andrew/.julia/packages/MLJFlux/rYILg/src/core.jl:95\n",
      "┌ Info: Loss is 0.6539\n",
      "└ @ MLJFlux /home/andrew/.julia/packages/MLJFlux/rYILg/src/core.jl:95\n",
      "┌ Info: Loss is 0.6538\n",
      "└ @ MLJFlux /home/andrew/.julia/packages/MLJFlux/rYILg/src/core.jl:95\n",
      "┌ Info: Loss is 0.6537\n",
      "└ @ MLJFlux /home/andrew/.julia/packages/MLJFlux/rYILg/src/core.jl:95\n",
      "┌ Info: Loss is 0.6537\n",
      "└ @ MLJFlux /home/andrew/.julia/packages/MLJFlux/rYILg/src/core.jl:95\n",
      "┌ Info: Loss is 0.6536\n",
      "└ @ MLJFlux /home/andrew/.julia/packages/MLJFlux/rYILg/src/core.jl:95\n",
      "┌ Info: Loss is 0.6535\n",
      "└ @ MLJFlux /home/andrew/.julia/packages/MLJFlux/rYILg/src/core.jl:95\n",
      "┌ Info: Loss is 0.6534\n",
      "└ @ MLJFlux /home/andrew/.julia/packages/MLJFlux/rYILg/src/core.jl:95\n",
      "┌ Info: Loss is 0.6533\n",
      "└ @ MLJFlux /home/andrew/.julia/packages/MLJFlux/rYILg/src/core.jl:95\n",
      "┌ Info: Loss is 0.6533\n",
      "└ @ MLJFlux /home/andrew/.julia/packages/MLJFlux/rYILg/src/core.jl:95\n",
      "┌ Info: Loss is 0.6532\n",
      "└ @ MLJFlux /home/andrew/.julia/packages/MLJFlux/rYILg/src/core.jl:95\n",
      "┌ Info: Loss is 0.6531\n",
      "└ @ MLJFlux /home/andrew/.julia/packages/MLJFlux/rYILg/src/core.jl:95\n"
     ]
    },
    {
     "data": {
      "text/plain": [
       "\u001b[34mMachine{NeuralNetworkClassifier{CustomNN,…}} @945\u001b[39m trained 2 times.\n",
       "  args: \n",
       "    1:\t\u001b[34mSource @683\u001b[39m ⏎ `Table{AbstractArray{Continuous,1}}`\n",
       "    2:\t\u001b[34mSource @968\u001b[39m ⏎ `AbstractArray{Multiclass{3},1}`\n"
      ]
     },
     "execution_count": 25,
     "metadata": {},
     "output_type": "execute_result"
    }
   ],
   "source": [
    "fit!(Net, rows=train, verbosity=2)"
   ]
  },
  {
   "cell_type": "code",
   "execution_count": 26,
   "metadata": {},
   "outputs": [
    {
     "name": "stderr",
     "output_type": "stream",
     "text": [
      "\u001b[33mEvaluating over 6 folds: 100%[=========================] Time: 0:00:09\u001b[39m\n"
     ]
    },
    {
     "data": {
      "text/plain": [
       "┌\u001b[0m───────────────\u001b[0m┬\u001b[0m───────────────\u001b[0m┬\u001b[0m───────────────────────────────────────────────────\u001b[0m┐\u001b[0m\n",
       "│\u001b[0m\u001b[22m _.measure     \u001b[0m│\u001b[0m\u001b[22m _.measurement \u001b[0m│\u001b[0m\u001b[22m _.per_fold                                        \u001b[0m│\u001b[0m\n",
       "├\u001b[0m───────────────\u001b[0m┼\u001b[0m───────────────\u001b[0m┼\u001b[0m───────────────────────────────────────────────────\u001b[0m┤\u001b[0m\n",
       "│\u001b[0m cross_entropy \u001b[0m│\u001b[0m 0.663         \u001b[0m│\u001b[0m Float32[0.649, 0.693, 0.659, 0.655, 0.675, 0.648] \u001b[0m│\u001b[0m\n",
       "│\u001b[0m acc           \u001b[0m│\u001b[0m 0.866         \u001b[0m│\u001b[0m [0.876, 0.827, 0.875, 0.885, 0.856, 0.875]        \u001b[0m│\u001b[0m\n",
       "└\u001b[0m───────────────\u001b[0m┴\u001b[0m───────────────\u001b[0m┴\u001b[0m───────────────────────────────────────────────────\u001b[0m┘\u001b[0m\n",
       "_.per_observation = [[[0.589, 0.554, ..., 1.07], [0.553, 0.555, ..., 0.557], [0.557, 0.553, ..., 0.554], [0.552, 0.554, ..., 1.51], [0.553, 0.574, ..., 0.553], [1.02, 0.581, ..., 0.556]], missing]\n",
       "_.fitted_params_per_fold = [ … ]\n",
       "_.report_per_fold = [ … ]\n"
      ]
     },
     "execution_count": 26,
     "metadata": {},
     "output_type": "execute_result"
    }
   ],
   "source": [
    "nn_acc = evaluate!(Net, resampling=CV(shuffle=true), measure=[cross_entropy, acc], verbosity=1)"
   ]
  },
  {
   "cell_type": "code",
   "execution_count": 27,
   "metadata": {},
   "outputs": [
    {
     "data": {
      "text/plain": [
       "(chain = Chain(Chain(Dense(4, 80, σ), Dense(80, 40, σ), Dense(40, 3, σ)), softmax),)"
      ]
     },
     "execution_count": 27,
     "metadata": {},
     "output_type": "execute_result"
    }
   ],
   "source": [
    "fitted_params(Net)"
   ]
  },
  {
   "cell_type": "code",
   "execution_count": 28,
   "metadata": {
    "scrolled": true
   },
   "outputs": [
    {
     "data": {
      "text/plain": [
       "(training_losses = Any[1.0465535f0, 1.009377f0, 0.9881669f0, 0.97590107f0, 0.9678866f0, 0.96199423f0, 0.9572262f0, 0.9530132f0, 0.9489472f0, 0.9446541f0  …  0.66407424f0, 0.663797f0, 0.6635255f0, 0.66325974f0, 0.6629996f0, 0.6627448f0, 0.66249514f0, 0.66225064f0, 0.6620111f0, 0.66177636f0],)"
      ]
     },
     "execution_count": 28,
     "metadata": {},
     "output_type": "execute_result"
    }
   ],
   "source": [
    "report(Net)"
   ]
  },
  {
   "cell_type": "markdown",
   "metadata": {},
   "source": [
    "### With Preprocessing"
   ]
  },
  {
   "cell_type": "markdown",
   "metadata": {},
   "source": [
    "Standardizing Inputs makes a huge difference.\n",
    "Before, I could only barely break below 0.4 training loss, but by standardizing inputs, I can easily get near 0.3."
   ]
  },
  {
   "cell_type": "code",
   "execution_count": 29,
   "metadata": {},
   "outputs": [
    {
     "name": "stderr",
     "output_type": "stream",
     "text": [
      "┌ Info: Training \u001b[34mMachine{Standardizer} @574\u001b[39m.\n",
      "└ @ MLJBase /home/andrew/.julia/packages/MLJBase/uKzAz/src/machines.jl:319\n"
     ]
    }
   ],
   "source": [
    "standardizer = Standardizer()\n",
    "stand = machine(standardizer, X[train,:]) #only want to standardize on training distribution\n",
    "fit!(stand)\n",
    "X_stand = MLJ.transform(stand, X);"
   ]
  },
  {
   "cell_type": "code",
   "execution_count": 30,
   "metadata": {},
   "outputs": [
    {
     "data": {
      "text/plain": [
       "\u001b[34mMachine{NeuralNetworkClassifier{CustomNN,…}} @945\u001b[39m trained 0 times.\n",
       "  args: \n",
       "    1:\t\u001b[34mSource @067\u001b[39m ⏎ `Table{AbstractArray{Continuous,1}}`\n",
       "    2:\t\u001b[34mSource @572\u001b[39m ⏎ `AbstractArray{Multiclass{3},1}`\n"
      ]
     },
     "execution_count": 30,
     "metadata": {},
     "output_type": "execute_result"
    }
   ],
   "source": [
    "Net = machine(nn, X_stand, y)"
   ]
  },
  {
   "cell_type": "markdown",
   "metadata": {},
   "source": [
    "### Learning Curve"
   ]
  },
  {
   "cell_type": "code",
   "execution_count": 31,
   "metadata": {},
   "outputs": [
    {
     "name": "stderr",
     "output_type": "stream",
     "text": [
      "┌ Info: Training \u001b[34mMachine{NeuralNetworkClassifier{CustomNN,…}} @945\u001b[39m.\n",
      "└ @ MLJBase /home/andrew/.julia/packages/MLJBase/uKzAz/src/machines.jl:319\n",
      "\u001b[33mOptimising neural net:100%[=========================] Time: 0:00:28\u001b[39m\n"
     ]
    },
    {
     "data": {
      "text/plain": [
       "\u001b[34mMachine{NeuralNetworkClassifier{CustomNN,…}} @945\u001b[39m trained 1 time.\n",
       "  args: \n",
       "    1:\t\u001b[34mSource @067\u001b[39m ⏎ `Table{AbstractArray{Continuous,1}}`\n",
       "    2:\t\u001b[34mSource @572\u001b[39m ⏎ `AbstractArray{Multiclass{3},1}`\n"
      ]
     },
     "execution_count": 31,
     "metadata": {},
     "output_type": "execute_result"
    }
   ],
   "source": [
    "Net.model.epochs = max_epochs\n",
    "fit!(Net, rows=train, verbosity=1, force=true)"
   ]
  },
  {
   "cell_type": "code",
   "execution_count": 32,
   "metadata": {},
   "outputs": [
    {
     "name": "stderr",
     "output_type": "stream",
     "text": [
      "\u001b[33mEvaluating over 6 folds: 100%[=========================] Time: 0:02:57\u001b[39m\n"
     ]
    },
    {
     "data": {
      "text/plain": [
       "┌\u001b[0m───────────────\u001b[0m┬\u001b[0m───────────────\u001b[0m┬\u001b[0m──────────────────────────────────────────────────\u001b[0m┐\u001b[0m\n",
       "│\u001b[0m\u001b[22m _.measure     \u001b[0m│\u001b[0m\u001b[22m _.measurement \u001b[0m│\u001b[0m\u001b[22m _.per_fold                                       \u001b[0m│\u001b[0m\n",
       "├\u001b[0m───────────────\u001b[0m┼\u001b[0m───────────────\u001b[0m┼\u001b[0m──────────────────────────────────────────────────\u001b[0m┤\u001b[0m\n",
       "│\u001b[0m cross_entropy \u001b[0m│\u001b[0m 0.624         \u001b[0m│\u001b[0m Float32[0.64, 0.624, 0.649, 0.599, 0.615, 0.614] \u001b[0m│\u001b[0m\n",
       "│\u001b[0m acc           \u001b[0m│\u001b[0m 0.901         \u001b[0m│\u001b[0m [0.857, 0.904, 0.865, 0.913, 0.933, 0.933]       \u001b[0m│\u001b[0m\n",
       "└\u001b[0m───────────────\u001b[0m┴\u001b[0m───────────────\u001b[0m┴\u001b[0m──────────────────────────────────────────────────\u001b[0m┘\u001b[0m\n",
       "_.per_observation = [[[0.551, 0.551, ..., 0.551], [0.551, 0.551, ..., 1.1], [0.551, 1.1, ..., 0.551], [0.551, 0.551, ..., 0.551], [0.551, 0.551, ..., 0.551], [0.551, 0.551, ..., 0.551]], missing]\n",
       "_.fitted_params_per_fold = [ … ]\n",
       "_.report_per_fold = [ … ]\n"
      ]
     },
     "execution_count": 32,
     "metadata": {},
     "output_type": "execute_result"
    }
   ],
   "source": [
    "nn_acc = evaluate!(Net, resampling=CV(shuffle=true), measure=[cross_entropy, acc], verbosity=1)"
   ]
  },
  {
   "cell_type": "code",
   "execution_count": 33,
   "metadata": {
    "scrolled": true
   },
   "outputs": [
    {
     "data": {
      "text/plain": [
       "MLJBase.NumericRange(Int64, :epochs, ... )"
      ]
     },
     "execution_count": 33,
     "metadata": {},
     "output_type": "execute_result"
    }
   ],
   "source": [
    "vals = collect(0:5:max_epochs)\n",
    "r = range(nn, :epochs, lower=1, upper=max_epochs, scale=:log10)"
   ]
  },
  {
   "cell_type": "code",
   "execution_count": 34,
   "metadata": {},
   "outputs": [
    {
     "name": "stderr",
     "output_type": "stream",
     "text": [
      "┌ Info: Training \u001b[34mMachine{ProbabilisticTunedModel{Grid,…}} @744\u001b[39m.\n",
      "└ @ MLJBase /home/andrew/.julia/packages/MLJBase/uKzAz/src/machines.jl:319\n",
      "┌ Info: Attempting to evaluate 28 models.\n",
      "└ @ MLJTuning /home/andrew/.julia/packages/MLJTuning/Bbgvk/src/tuned_models.jl:494\n",
      "\u001b[33mEvaluating over 28 metamodels: 100%[=========================] Time: 0:00:25\u001b[39m\n"
     ]
    },
    {
     "data": {
      "text/plain": [
       "(parameter_name = \"epochs\",\n",
       " parameter_scale = :log10,\n",
       " parameter_values = [1, 2, 3, 4, 6, 7, 10, 13, 17, 23  …  305, 406, 540, 719, 957, 1274, 1696, 2258, 3005, 4000],\n",
       " measurements = [1.1452142000198364, 1.1249732971191406, 1.1112523078918457, 1.1080005168914795, 1.0929901599884033, 1.1059246063232422, 1.0846154689788818, 1.0712698698043823, 1.0515507459640503, 1.024496078491211  …  0.6548386216163635, 0.6536785364151001, 0.6503954529762268, 0.6444751620292664, 0.6406800150871277, 0.6337181329727173, 0.6313996911048889, 0.6321199536323547, 0.622015118598938, 0.6166302561759949],)"
      ]
     },
     "execution_count": 34,
     "metadata": {},
     "output_type": "execute_result"
    }
   ],
   "source": [
    "curve = MLJ.learning_curve(Net, \n",
    "                        range=r, \n",
    "                        resampling=Holdout(fraction_train=0.7), \n",
    "#                         resampling=CV(nfolds=4), \n",
    "                        measure=cross_entropy, \n",
    "                        acceleration=CPUProcesses()\n",
    ")"
   ]
  },
  {
   "cell_type": "code",
   "execution_count": 35,
   "metadata": {},
   "outputs": [
    {
     "data": {
      "image/svg+xml": [
       "<?xml version=\"1.0\" encoding=\"utf-8\"?>\n",
       "<svg xmlns=\"http://www.w3.org/2000/svg\" xmlns:xlink=\"http://www.w3.org/1999/xlink\" width=\"600\" height=\"400\" viewBox=\"0 0 2400 1600\">\n",
       "<defs>\n",
       "  <clipPath id=\"clip690\">\n",
       "    <rect x=\"0\" y=\"0\" width=\"2400\" height=\"1600\"/>\n",
       "  </clipPath>\n",
       "</defs>\n",
       "<path clip-path=\"url(#clip690)\" d=\"\n",
       "M0 1600 L2400 1600 L2400 0 L0 0  Z\n",
       "  \" fill=\"#ffffff\" fill-rule=\"evenodd\" fill-opacity=\"1\"/>\n",
       "<defs>\n",
       "  <clipPath id=\"clip691\">\n",
       "    <rect x=\"480\" y=\"0\" width=\"1681\" height=\"1600\"/>\n",
       "  </clipPath>\n",
       "</defs>\n",
       "<path clip-path=\"url(#clip690)\" d=\"\n",
       "M211.024 1423.18 L2352.76 1423.18 L2352.76 47.2441 L211.024 47.2441  Z\n",
       "  \" fill=\"#ffffff\" fill-rule=\"evenodd\" fill-opacity=\"1\"/>\n",
       "<defs>\n",
       "  <clipPath id=\"clip692\">\n",
       "    <rect x=\"211\" y=\"47\" width=\"2143\" height=\"1377\"/>\n",
       "  </clipPath>\n",
       "</defs>\n",
       "<polyline clip-path=\"url(#clip692)\" style=\"stroke:#000000; stroke-width:2; stroke-opacity:0.1; fill:none\" points=\"\n",
       "  271.134,1423.18 271.134,47.2441 \n",
       "  \"/>\n",
       "<polyline clip-path=\"url(#clip692)\" style=\"stroke:#000000; stroke-width:2; stroke-opacity:0.1; fill:none\" points=\"\n",
       "  776.385,1423.18 776.385,47.2441 \n",
       "  \"/>\n",
       "<polyline clip-path=\"url(#clip692)\" style=\"stroke:#000000; stroke-width:2; stroke-opacity:0.1; fill:none\" points=\"\n",
       "  1281.64,1423.18 1281.64,47.2441 \n",
       "  \"/>\n",
       "<polyline clip-path=\"url(#clip692)\" style=\"stroke:#000000; stroke-width:2; stroke-opacity:0.1; fill:none\" points=\"\n",
       "  1786.89,1423.18 1786.89,47.2441 \n",
       "  \"/>\n",
       "<polyline clip-path=\"url(#clip692)\" style=\"stroke:#000000; stroke-width:2; stroke-opacity:0.1; fill:none\" points=\"\n",
       "  2292.14,1423.18 2292.14,47.2441 \n",
       "  \"/>\n",
       "<polyline clip-path=\"url(#clip692)\" style=\"stroke:#000000; stroke-width:2; stroke-opacity:0.1; fill:none\" points=\"\n",
       "  211.024,1179.51 2352.76,1179.51 \n",
       "  \"/>\n",
       "<polyline clip-path=\"url(#clip692)\" style=\"stroke:#000000; stroke-width:2; stroke-opacity:0.1; fill:none\" points=\"\n",
       "  211.024,933.934 2352.76,933.934 \n",
       "  \"/>\n",
       "<polyline clip-path=\"url(#clip692)\" style=\"stroke:#000000; stroke-width:2; stroke-opacity:0.1; fill:none\" points=\"\n",
       "  211.024,688.362 2352.76,688.362 \n",
       "  \"/>\n",
       "<polyline clip-path=\"url(#clip692)\" style=\"stroke:#000000; stroke-width:2; stroke-opacity:0.1; fill:none\" points=\"\n",
       "  211.024,442.791 2352.76,442.791 \n",
       "  \"/>\n",
       "<polyline clip-path=\"url(#clip692)\" style=\"stroke:#000000; stroke-width:2; stroke-opacity:0.1; fill:none\" points=\"\n",
       "  211.024,197.219 2352.76,197.219 \n",
       "  \"/>\n",
       "<polyline clip-path=\"url(#clip690)\" style=\"stroke:#000000; stroke-width:4; stroke-opacity:1; fill:none\" points=\"\n",
       "  211.024,1423.18 2352.76,1423.18 \n",
       "  \"/>\n",
       "<polyline clip-path=\"url(#clip690)\" style=\"stroke:#000000; stroke-width:4; stroke-opacity:1; fill:none\" points=\"\n",
       "  211.024,1423.18 211.024,47.2441 \n",
       "  \"/>\n",
       "<polyline clip-path=\"url(#clip690)\" style=\"stroke:#000000; stroke-width:4; stroke-opacity:1; fill:none\" points=\"\n",
       "  271.134,1423.18 271.134,1406.67 \n",
       "  \"/>\n",
       "<polyline clip-path=\"url(#clip690)\" style=\"stroke:#000000; stroke-width:4; stroke-opacity:1; fill:none\" points=\"\n",
       "  776.385,1423.18 776.385,1406.67 \n",
       "  \"/>\n",
       "<polyline clip-path=\"url(#clip690)\" style=\"stroke:#000000; stroke-width:4; stroke-opacity:1; fill:none\" points=\"\n",
       "  1281.64,1423.18 1281.64,1406.67 \n",
       "  \"/>\n",
       "<polyline clip-path=\"url(#clip690)\" style=\"stroke:#000000; stroke-width:4; stroke-opacity:1; fill:none\" points=\"\n",
       "  1786.89,1423.18 1786.89,1406.67 \n",
       "  \"/>\n",
       "<polyline clip-path=\"url(#clip690)\" style=\"stroke:#000000; stroke-width:4; stroke-opacity:1; fill:none\" points=\"\n",
       "  2292.14,1423.18 2292.14,1406.67 \n",
       "  \"/>\n",
       "<polyline clip-path=\"url(#clip690)\" style=\"stroke:#000000; stroke-width:4; stroke-opacity:1; fill:none\" points=\"\n",
       "  211.024,1179.51 236.725,1179.51 \n",
       "  \"/>\n",
       "<polyline clip-path=\"url(#clip690)\" style=\"stroke:#000000; stroke-width:4; stroke-opacity:1; fill:none\" points=\"\n",
       "  211.024,933.934 236.725,933.934 \n",
       "  \"/>\n",
       "<polyline clip-path=\"url(#clip690)\" style=\"stroke:#000000; stroke-width:4; stroke-opacity:1; fill:none\" points=\"\n",
       "  211.024,688.362 236.725,688.362 \n",
       "  \"/>\n",
       "<polyline clip-path=\"url(#clip690)\" style=\"stroke:#000000; stroke-width:4; stroke-opacity:1; fill:none\" points=\"\n",
       "  211.024,442.791 236.725,442.791 \n",
       "  \"/>\n",
       "<polyline clip-path=\"url(#clip690)\" style=\"stroke:#000000; stroke-width:4; stroke-opacity:1; fill:none\" points=\"\n",
       "  211.024,197.219 236.725,197.219 \n",
       "  \"/>\n",
       "<path clip-path=\"url(#clip690)\" d=\"M 0 0 M271.134 1445.17 Q267.522 1445.17 265.694 1448.74 Q263.888 1452.28 263.888 1459.41 Q263.888 1466.51 265.694 1470.08 Q267.522 1473.62 271.134 1473.62 Q274.768 1473.62 276.573 1470.08 Q278.402 1466.51 278.402 1459.41 Q278.402 1452.28 276.573 1448.74 Q274.768 1445.17 271.134 1445.17 M271.134 1441.47 Q276.944 1441.47 279.999 1446.07 Q283.078 1450.66 283.078 1459.41 Q283.078 1468.13 279.999 1472.74 Q276.944 1477.32 271.134 1477.32 Q265.323 1477.32 262.245 1472.74 Q259.189 1468.13 259.189 1459.41 Q259.189 1450.66 262.245 1446.07 Q265.323 1441.47 271.134 1441.47 Z\" fill=\"#000000\" fill-rule=\"evenodd\" fill-opacity=\"1\" /><path clip-path=\"url(#clip690)\" d=\"M 0 0 M726.247 1472.72 L733.886 1472.72 L733.886 1446.35 L725.575 1448.02 L725.575 1443.76 L733.839 1442.09 L738.515 1442.09 L738.515 1472.72 L746.154 1472.72 L746.154 1476.65 L726.247 1476.65 L726.247 1472.72 Z\" fill=\"#000000\" fill-rule=\"evenodd\" fill-opacity=\"1\" /><path clip-path=\"url(#clip690)\" d=\"M 0 0 M761.223 1445.17 Q757.612 1445.17 755.784 1448.74 Q753.978 1452.28 753.978 1459.41 Q753.978 1466.51 755.784 1470.08 Q757.612 1473.62 761.223 1473.62 Q764.858 1473.62 766.663 1470.08 Q768.492 1466.51 768.492 1459.41 Q768.492 1452.28 766.663 1448.74 Q764.858 1445.17 761.223 1445.17 M761.223 1441.47 Q767.034 1441.47 770.089 1446.07 Q773.168 1450.66 773.168 1459.41 Q773.168 1468.13 770.089 1472.74 Q767.034 1477.32 761.223 1477.32 Q755.413 1477.32 752.335 1472.74 Q749.279 1468.13 749.279 1459.41 Q749.279 1450.66 752.335 1446.07 Q755.413 1441.47 761.223 1441.47 Z\" fill=\"#000000\" fill-rule=\"evenodd\" fill-opacity=\"1\" /><path clip-path=\"url(#clip690)\" d=\"M 0 0 M788.237 1445.17 Q784.626 1445.17 782.797 1448.74 Q780.992 1452.28 780.992 1459.41 Q780.992 1466.51 782.797 1470.08 Q784.626 1473.62 788.237 1473.62 Q791.871 1473.62 793.677 1470.08 Q795.506 1466.51 795.506 1459.41 Q795.506 1452.28 793.677 1448.74 Q791.871 1445.17 788.237 1445.17 M788.237 1441.47 Q794.047 1441.47 797.103 1446.07 Q800.182 1450.66 800.182 1459.41 Q800.182 1468.13 797.103 1472.74 Q794.047 1477.32 788.237 1477.32 Q782.427 1477.32 779.348 1472.74 Q776.293 1468.13 776.293 1459.41 Q776.293 1450.66 779.348 1446.07 Q782.427 1441.47 788.237 1441.47 Z\" fill=\"#000000\" fill-rule=\"evenodd\" fill-opacity=\"1\" /><path clip-path=\"url(#clip690)\" d=\"M 0 0 M815.251 1445.17 Q811.64 1445.17 809.811 1448.74 Q808.006 1452.28 808.006 1459.41 Q808.006 1466.51 809.811 1470.08 Q811.64 1473.62 815.251 1473.62 Q818.885 1473.62 820.691 1470.08 Q822.519 1466.51 822.519 1459.41 Q822.519 1452.28 820.691 1448.74 Q818.885 1445.17 815.251 1445.17 M815.251 1441.47 Q821.061 1441.47 824.117 1446.07 Q827.195 1450.66 827.195 1459.41 Q827.195 1468.13 824.117 1472.74 Q821.061 1477.32 815.251 1477.32 Q809.441 1477.32 806.362 1472.74 Q803.307 1468.13 803.307 1459.41 Q803.307 1450.66 806.362 1446.07 Q809.441 1441.47 815.251 1441.47 Z\" fill=\"#000000\" fill-rule=\"evenodd\" fill-opacity=\"1\" /><path clip-path=\"url(#clip690)\" d=\"M 0 0 M1235.77 1472.72 L1252.09 1472.72 L1252.09 1476.65 L1230.14 1476.65 L1230.14 1472.72 Q1232.81 1469.96 1237.39 1465.33 Q1242 1460.68 1243.18 1459.34 Q1245.42 1456.81 1246.3 1455.08 Q1247.2 1453.32 1247.2 1451.63 Q1247.2 1448.87 1245.26 1447.14 Q1243.34 1445.4 1240.24 1445.4 Q1238.04 1445.4 1235.58 1446.17 Q1233.15 1446.93 1230.38 1448.48 L1230.38 1443.76 Q1233.2 1442.62 1235.65 1442.05 Q1238.11 1441.47 1240.14 1441.47 Q1245.51 1441.47 1248.71 1444.15 Q1251.9 1446.84 1251.9 1451.33 Q1251.9 1453.46 1251.09 1455.38 Q1250.31 1457.28 1248.2 1459.87 Q1247.62 1460.54 1244.52 1463.76 Q1241.42 1466.95 1235.77 1472.72 Z\" fill=\"#000000\" fill-rule=\"evenodd\" fill-opacity=\"1\" /><path clip-path=\"url(#clip690)\" d=\"M 0 0 M1267.16 1445.17 Q1263.55 1445.17 1261.72 1448.74 Q1259.91 1452.28 1259.91 1459.41 Q1259.91 1466.51 1261.72 1470.08 Q1263.55 1473.62 1267.16 1473.62 Q1270.79 1473.62 1272.6 1470.08 Q1274.43 1466.51 1274.43 1459.41 Q1274.43 1452.28 1272.6 1448.74 Q1270.79 1445.17 1267.16 1445.17 M1267.16 1441.47 Q1272.97 1441.47 1276.02 1446.07 Q1279.1 1450.66 1279.1 1459.41 Q1279.1 1468.13 1276.02 1472.74 Q1272.97 1477.32 1267.16 1477.32 Q1261.35 1477.32 1258.27 1472.74 Q1255.21 1468.13 1255.21 1459.41 Q1255.21 1450.66 1258.27 1446.07 Q1261.35 1441.47 1267.16 1441.47 Z\" fill=\"#000000\" fill-rule=\"evenodd\" fill-opacity=\"1\" /><path clip-path=\"url(#clip690)\" d=\"M 0 0 M1294.17 1445.17 Q1290.56 1445.17 1288.73 1448.74 Q1286.93 1452.28 1286.93 1459.41 Q1286.93 1466.51 1288.73 1470.08 Q1290.56 1473.62 1294.17 1473.62 Q1297.81 1473.62 1299.61 1470.08 Q1301.44 1466.51 1301.44 1459.41 Q1301.44 1452.28 1299.61 1448.74 Q1297.81 1445.17 1294.17 1445.17 M1294.17 1441.47 Q1299.98 1441.47 1303.04 1446.07 Q1306.12 1450.66 1306.12 1459.41 Q1306.12 1468.13 1303.04 1472.74 Q1299.98 1477.32 1294.17 1477.32 Q1288.36 1477.32 1285.28 1472.74 Q1282.23 1468.13 1282.23 1459.41 Q1282.23 1450.66 1285.28 1446.07 Q1288.36 1441.47 1294.17 1441.47 Z\" fill=\"#000000\" fill-rule=\"evenodd\" fill-opacity=\"1\" /><path clip-path=\"url(#clip690)\" d=\"M 0 0 M1321.19 1445.17 Q1317.57 1445.17 1315.75 1448.74 Q1313.94 1452.28 1313.94 1459.41 Q1313.94 1466.51 1315.75 1470.08 Q1317.57 1473.62 1321.19 1473.62 Q1324.82 1473.62 1326.63 1470.08 Q1328.45 1466.51 1328.45 1459.41 Q1328.45 1452.28 1326.63 1448.74 Q1324.82 1445.17 1321.19 1445.17 M1321.19 1441.47 Q1327 1441.47 1330.05 1446.07 Q1333.13 1450.66 1333.13 1459.41 Q1333.13 1468.13 1330.05 1472.74 Q1327 1477.32 1321.19 1477.32 Q1315.38 1477.32 1312.3 1472.74 Q1309.24 1468.13 1309.24 1459.41 Q1309.24 1450.66 1312.3 1446.07 Q1315.38 1441.47 1321.19 1441.47 Z\" fill=\"#000000\" fill-rule=\"evenodd\" fill-opacity=\"1\" /><path clip-path=\"url(#clip690)\" d=\"M 0 0 M1750.62 1458.02 Q1753.97 1458.74 1755.85 1461 Q1757.75 1463.27 1757.75 1466.61 Q1757.75 1471.72 1754.23 1474.52 Q1750.71 1477.32 1744.23 1477.32 Q1742.05 1477.32 1739.74 1476.88 Q1737.44 1476.47 1734.99 1475.61 L1734.99 1471.1 Q1736.94 1472.23 1739.25 1472.81 Q1741.57 1473.39 1744.09 1473.39 Q1748.49 1473.39 1750.78 1471.65 Q1753.09 1469.92 1753.09 1466.61 Q1753.09 1463.55 1750.94 1461.84 Q1748.81 1460.1 1744.99 1460.1 L1740.96 1460.1 L1740.96 1456.26 L1745.18 1456.26 Q1748.63 1456.26 1750.45 1454.89 Q1752.28 1453.5 1752.28 1450.91 Q1752.28 1448.25 1750.38 1446.84 Q1748.51 1445.4 1744.99 1445.4 Q1743.07 1445.4 1740.87 1445.82 Q1738.67 1446.24 1736.03 1447.11 L1736.03 1442.95 Q1738.69 1442.21 1741.01 1441.84 Q1743.35 1441.47 1745.41 1441.47 Q1750.73 1441.47 1753.83 1443.9 Q1756.94 1446.3 1756.94 1450.43 Q1756.94 1453.3 1755.29 1455.29 Q1753.65 1457.25 1750.62 1458.02 Z\" fill=\"#000000\" fill-rule=\"evenodd\" fill-opacity=\"1\" /><path clip-path=\"url(#clip690)\" d=\"M 0 0 M1772.82 1445.17 Q1769.2 1445.17 1767.38 1448.74 Q1765.57 1452.28 1765.57 1459.41 Q1765.57 1466.51 1767.38 1470.08 Q1769.2 1473.62 1772.82 1473.62 Q1776.45 1473.62 1778.25 1470.08 Q1780.08 1466.51 1780.08 1459.41 Q1780.08 1452.28 1778.25 1448.74 Q1776.45 1445.17 1772.82 1445.17 M1772.82 1441.47 Q1778.63 1441.47 1781.68 1446.07 Q1784.76 1450.66 1784.76 1459.41 Q1784.76 1468.13 1781.68 1472.74 Q1778.63 1477.32 1772.82 1477.32 Q1767 1477.32 1763.93 1472.74 Q1760.87 1468.13 1760.87 1459.41 Q1760.87 1450.66 1763.93 1446.07 Q1767 1441.47 1772.82 1441.47 Z\" fill=\"#000000\" fill-rule=\"evenodd\" fill-opacity=\"1\" /><path clip-path=\"url(#clip690)\" d=\"M 0 0 M1799.83 1445.17 Q1796.22 1445.17 1794.39 1448.74 Q1792.58 1452.28 1792.58 1459.41 Q1792.58 1466.51 1794.39 1470.08 Q1796.22 1473.62 1799.83 1473.62 Q1803.46 1473.62 1805.27 1470.08 Q1807.1 1466.51 1807.1 1459.41 Q1807.1 1452.28 1805.27 1448.74 Q1803.46 1445.17 1799.83 1445.17 M1799.83 1441.47 Q1805.64 1441.47 1808.69 1446.07 Q1811.77 1450.66 1811.77 1459.41 Q1811.77 1468.13 1808.69 1472.74 Q1805.64 1477.32 1799.83 1477.32 Q1794.02 1477.32 1790.94 1472.74 Q1787.88 1468.13 1787.88 1459.41 Q1787.88 1450.66 1790.94 1446.07 Q1794.02 1441.47 1799.83 1441.47 Z\" fill=\"#000000\" fill-rule=\"evenodd\" fill-opacity=\"1\" /><path clip-path=\"url(#clip690)\" d=\"M 0 0 M1826.84 1445.17 Q1823.23 1445.17 1821.4 1448.74 Q1819.6 1452.28 1819.6 1459.41 Q1819.6 1466.51 1821.4 1470.08 Q1823.23 1473.62 1826.84 1473.62 Q1830.48 1473.62 1832.28 1470.08 Q1834.11 1466.51 1834.11 1459.41 Q1834.11 1452.28 1832.28 1448.74 Q1830.48 1445.17 1826.84 1445.17 M1826.84 1441.47 Q1832.65 1441.47 1835.71 1446.07 Q1838.79 1450.66 1838.79 1459.41 Q1838.79 1468.13 1835.71 1472.74 Q1832.65 1477.32 1826.84 1477.32 Q1821.03 1477.32 1817.95 1472.74 Q1814.9 1468.13 1814.9 1459.41 Q1814.9 1450.66 1817.95 1446.07 Q1821.03 1441.47 1826.84 1441.47 Z\" fill=\"#000000\" fill-rule=\"evenodd\" fill-opacity=\"1\" /><path clip-path=\"url(#clip690)\" d=\"M 0 0 M2254.63 1446.17 L2242.82 1464.61 L2254.63 1464.61 L2254.63 1446.17 M2253.4 1442.09 L2259.28 1442.09 L2259.28 1464.61 L2264.21 1464.61 L2264.21 1468.5 L2259.28 1468.5 L2259.28 1476.65 L2254.63 1476.65 L2254.63 1468.5 L2239.03 1468.5 L2239.03 1463.99 L2253.4 1442.09 Z\" fill=\"#000000\" fill-rule=\"evenodd\" fill-opacity=\"1\" /><path clip-path=\"url(#clip690)\" d=\"M 0 0 M2279.28 1445.17 Q2275.67 1445.17 2273.84 1448.74 Q2272.04 1452.28 2272.04 1459.41 Q2272.04 1466.51 2273.84 1470.08 Q2275.67 1473.62 2279.28 1473.62 Q2282.92 1473.62 2284.72 1470.08 Q2286.55 1466.51 2286.55 1459.41 Q2286.55 1452.28 2284.72 1448.74 Q2282.92 1445.17 2279.28 1445.17 M2279.28 1441.47 Q2285.09 1441.47 2288.15 1446.07 Q2291.23 1450.66 2291.23 1459.41 Q2291.23 1468.13 2288.15 1472.74 Q2285.09 1477.32 2279.28 1477.32 Q2273.47 1477.32 2270.39 1472.74 Q2267.34 1468.13 2267.34 1459.41 Q2267.34 1450.66 2270.39 1446.07 Q2273.47 1441.47 2279.28 1441.47 Z\" fill=\"#000000\" fill-rule=\"evenodd\" fill-opacity=\"1\" /><path clip-path=\"url(#clip690)\" d=\"M 0 0 M2306.3 1445.17 Q2302.68 1445.17 2300.86 1448.74 Q2299.05 1452.28 2299.05 1459.41 Q2299.05 1466.51 2300.86 1470.08 Q2302.68 1473.62 2306.3 1473.62 Q2309.93 1473.62 2311.74 1470.08 Q2313.56 1466.51 2313.56 1459.41 Q2313.56 1452.28 2311.74 1448.74 Q2309.93 1445.17 2306.3 1445.17 M2306.3 1441.47 Q2312.11 1441.47 2315.16 1446.07 Q2318.24 1450.66 2318.24 1459.41 Q2318.24 1468.13 2315.16 1472.74 Q2312.11 1477.32 2306.3 1477.32 Q2300.49 1477.32 2297.41 1472.74 Q2294.35 1468.13 2294.35 1459.41 Q2294.35 1450.66 2297.41 1446.07 Q2300.49 1441.47 2306.3 1441.47 Z\" fill=\"#000000\" fill-rule=\"evenodd\" fill-opacity=\"1\" /><path clip-path=\"url(#clip690)\" d=\"M 0 0 M2333.31 1445.17 Q2329.7 1445.17 2327.87 1448.74 Q2326.06 1452.28 2326.06 1459.41 Q2326.06 1466.51 2327.87 1470.08 Q2329.7 1473.62 2333.31 1473.62 Q2336.94 1473.62 2338.75 1470.08 Q2340.58 1466.51 2340.58 1459.41 Q2340.58 1452.28 2338.75 1448.74 Q2336.94 1445.17 2333.31 1445.17 M2333.31 1441.47 Q2339.12 1441.47 2342.18 1446.07 Q2345.25 1450.66 2345.25 1459.41 Q2345.25 1468.13 2342.18 1472.74 Q2339.12 1477.32 2333.31 1477.32 Q2327.5 1477.32 2324.42 1472.74 Q2321.37 1468.13 2321.37 1459.41 Q2321.37 1450.66 2324.42 1446.07 Q2327.5 1441.47 2333.31 1441.47 Z\" fill=\"#000000\" fill-rule=\"evenodd\" fill-opacity=\"1\" /><path clip-path=\"url(#clip690)\" d=\"M 0 0 M139.015 1165.3 Q135.404 1165.3 133.575 1168.87 Q131.769 1172.41 131.769 1179.54 Q131.769 1186.65 133.575 1190.21 Q135.404 1193.75 139.015 1193.75 Q142.649 1193.75 144.455 1190.21 Q146.283 1186.65 146.283 1179.54 Q146.283 1172.41 144.455 1168.87 Q142.649 1165.3 139.015 1165.3 M139.015 1161.6 Q144.825 1161.6 147.88 1166.21 Q150.959 1170.79 150.959 1179.54 Q150.959 1188.27 147.88 1192.87 Q144.825 1197.46 139.015 1197.46 Q133.205 1197.46 130.126 1192.87 Q127.07 1188.27 127.07 1179.54 Q127.07 1170.79 130.126 1166.21 Q133.205 1161.6 139.015 1161.6 Z\" fill=\"#000000\" fill-rule=\"evenodd\" fill-opacity=\"1\" /><path clip-path=\"url(#clip690)\" d=\"M 0 0 M156.029 1190.91 L160.913 1190.91 L160.913 1196.79 L156.029 1196.79 L156.029 1190.91 Z\" fill=\"#000000\" fill-rule=\"evenodd\" fill-opacity=\"1\" /><path clip-path=\"url(#clip690)\" d=\"M 0 0 M164.802 1162.23 L187.024 1162.23 L187.024 1164.22 L174.477 1196.79 L169.593 1196.79 L181.399 1166.16 L164.802 1166.16 L164.802 1162.23 Z\" fill=\"#000000\" fill-rule=\"evenodd\" fill-opacity=\"1\" /><path clip-path=\"url(#clip690)\" d=\"M 0 0 M138.205 919.733 Q134.593 919.733 132.765 923.298 Q130.959 926.839 130.959 933.969 Q130.959 941.075 132.765 944.64 Q134.593 948.182 138.205 948.182 Q141.839 948.182 143.644 944.64 Q145.473 941.075 145.473 933.969 Q145.473 926.839 143.644 923.298 Q141.839 919.733 138.205 919.733 M138.205 916.029 Q144.015 916.029 147.07 920.636 Q150.149 925.219 150.149 933.969 Q150.149 942.696 147.07 947.302 Q144.015 951.885 138.205 951.885 Q132.394 951.885 129.316 947.302 Q126.26 942.696 126.26 933.969 Q126.26 925.219 129.316 920.636 Q132.394 916.029 138.205 916.029 Z\" fill=\"#000000\" fill-rule=\"evenodd\" fill-opacity=\"1\" /><path clip-path=\"url(#clip690)\" d=\"M 0 0 M155.218 945.334 L160.103 945.334 L160.103 951.214 L155.218 951.214 L155.218 945.334 Z\" fill=\"#000000\" fill-rule=\"evenodd\" fill-opacity=\"1\" /><path clip-path=\"url(#clip690)\" d=\"M 0 0 M175.172 934.802 Q171.839 934.802 169.917 936.585 Q168.019 938.367 168.019 941.492 Q168.019 944.617 169.917 946.399 Q171.839 948.182 175.172 948.182 Q178.505 948.182 180.427 946.399 Q182.348 944.594 182.348 941.492 Q182.348 938.367 180.427 936.585 Q178.528 934.802 175.172 934.802 M170.496 932.811 Q167.487 932.071 165.797 930.01 Q164.13 927.95 164.13 924.987 Q164.13 920.844 167.07 918.436 Q170.033 916.029 175.172 916.029 Q180.334 916.029 183.274 918.436 Q186.214 920.844 186.214 924.987 Q186.214 927.95 184.524 930.01 Q182.857 932.071 179.871 932.811 Q183.251 933.598 185.126 935.89 Q187.024 938.182 187.024 941.492 Q187.024 946.515 183.945 949.2 Q180.889 951.885 175.172 951.885 Q169.454 951.885 166.376 949.2 Q163.32 946.515 163.32 941.492 Q163.32 938.182 165.218 935.89 Q167.116 933.598 170.496 932.811 M168.783 925.427 Q168.783 928.112 170.45 929.617 Q172.14 931.122 175.172 931.122 Q178.181 931.122 179.871 929.617 Q181.584 928.112 181.584 925.427 Q181.584 922.742 179.871 921.237 Q178.181 919.733 175.172 919.733 Q172.14 919.733 170.45 921.237 Q168.783 922.742 168.783 925.427 Z\" fill=\"#000000\" fill-rule=\"evenodd\" fill-opacity=\"1\" /><path clip-path=\"url(#clip690)\" d=\"M 0 0 M138.297 674.161 Q134.686 674.161 132.857 677.726 Q131.052 681.267 131.052 688.397 Q131.052 695.504 132.857 699.068 Q134.686 702.61 138.297 702.61 Q141.931 702.61 143.737 699.068 Q145.566 695.504 145.566 688.397 Q145.566 681.267 143.737 677.726 Q141.931 674.161 138.297 674.161 M138.297 670.457 Q144.107 670.457 147.163 675.064 Q150.242 679.647 150.242 688.397 Q150.242 697.124 147.163 701.73 Q144.107 706.314 138.297 706.314 Q132.487 706.314 129.408 701.73 Q126.353 697.124 126.353 688.397 Q126.353 679.647 129.408 675.064 Q132.487 670.457 138.297 670.457 Z\" fill=\"#000000\" fill-rule=\"evenodd\" fill-opacity=\"1\" /><path clip-path=\"url(#clip690)\" d=\"M 0 0 M155.311 699.763 L160.195 699.763 L160.195 705.642 L155.311 705.642 L155.311 699.763 Z\" fill=\"#000000\" fill-rule=\"evenodd\" fill-opacity=\"1\" /><path clip-path=\"url(#clip690)\" d=\"M 0 0 M165.403 704.925 L165.403 700.666 Q167.163 701.499 168.968 701.939 Q170.774 702.378 172.51 702.378 Q177.14 702.378 179.57 699.277 Q182.024 696.152 182.371 689.809 Q181.028 691.8 178.968 692.865 Q176.908 693.929 174.408 693.929 Q169.223 693.929 166.19 690.804 Q163.181 687.656 163.181 682.217 Q163.181 676.893 166.329 673.675 Q169.478 670.457 174.709 670.457 Q180.704 670.457 183.852 675.064 Q187.024 679.647 187.024 688.397 Q187.024 696.568 183.135 701.453 Q179.269 706.314 172.718 706.314 Q170.959 706.314 169.153 705.966 Q167.348 705.619 165.403 704.925 M174.709 690.272 Q177.857 690.272 179.686 688.119 Q181.538 685.967 181.538 682.217 Q181.538 678.49 179.686 676.337 Q177.857 674.161 174.709 674.161 Q171.561 674.161 169.709 676.337 Q167.88 678.49 167.88 682.217 Q167.88 685.967 169.709 688.119 Q171.561 690.272 174.709 690.272 Z\" fill=\"#000000\" fill-rule=\"evenodd\" fill-opacity=\"1\" /><path clip-path=\"url(#clip690)\" d=\"M 0 0 M130.149 456.135 L137.788 456.135 L137.788 429.77 L129.478 431.437 L129.478 427.177 L137.742 425.511 L142.417 425.511 L142.417 456.135 L150.056 456.135 L150.056 460.071 L130.149 460.071 L130.149 456.135 Z\" fill=\"#000000\" fill-rule=\"evenodd\" fill-opacity=\"1\" /><path clip-path=\"url(#clip690)\" d=\"M 0 0 M155.126 454.191 L160.01 454.191 L160.01 460.071 L155.126 460.071 L155.126 454.191 Z\" fill=\"#000000\" fill-rule=\"evenodd\" fill-opacity=\"1\" /><path clip-path=\"url(#clip690)\" d=\"M 0 0 M175.079 428.589 Q171.468 428.589 169.64 432.154 Q167.834 435.696 167.834 442.825 Q167.834 449.932 169.64 453.497 Q171.468 457.038 175.079 457.038 Q178.714 457.038 180.519 453.497 Q182.348 449.932 182.348 442.825 Q182.348 435.696 180.519 432.154 Q178.714 428.589 175.079 428.589 M175.079 424.886 Q180.889 424.886 183.945 429.492 Q187.024 434.075 187.024 442.825 Q187.024 451.552 183.945 456.159 Q180.889 460.742 175.079 460.742 Q169.269 460.742 166.19 456.159 Q163.135 451.552 163.135 442.825 Q163.135 434.075 166.19 429.492 Q169.269 424.886 175.079 424.886 Z\" fill=\"#000000\" fill-rule=\"evenodd\" fill-opacity=\"1\" /><path clip-path=\"url(#clip690)\" d=\"M 0 0 M131.376 210.564 L139.015 210.564 L139.015 184.198 L130.705 185.865 L130.705 181.606 L138.968 179.939 L143.644 179.939 L143.644 210.564 L151.283 210.564 L151.283 214.499 L131.376 214.499 L131.376 210.564 Z\" fill=\"#000000\" fill-rule=\"evenodd\" fill-opacity=\"1\" /><path clip-path=\"url(#clip690)\" d=\"M 0 0 M156.353 208.619 L161.237 208.619 L161.237 214.499 L156.353 214.499 L156.353 208.619 Z\" fill=\"#000000\" fill-rule=\"evenodd\" fill-opacity=\"1\" /><path clip-path=\"url(#clip690)\" d=\"M 0 0 M167.116 210.564 L174.755 210.564 L174.755 184.198 L166.445 185.865 L166.445 181.606 L174.709 179.939 L179.385 179.939 L179.385 210.564 L187.024 210.564 L187.024 214.499 L167.116 214.499 L167.116 210.564 Z\" fill=\"#000000\" fill-rule=\"evenodd\" fill-opacity=\"1\" /><path clip-path=\"url(#clip690)\" d=\"M 0 0 M1212.17 1536.76 L1212.17 1539.62 L1185.24 1539.62 Q1185.62 1545.67 1188.87 1548.85 Q1192.15 1552 1197.97 1552 Q1201.35 1552 1204.5 1551.17 Q1207.68 1550.35 1210.8 1548.69 L1210.8 1554.23 Q1207.65 1555.57 1204.34 1556.27 Q1201.03 1556.97 1197.62 1556.97 Q1189.09 1556.97 1184.1 1552 Q1179.13 1547.04 1179.13 1538.57 Q1179.13 1529.82 1183.84 1524.69 Q1188.58 1519.54 1196.61 1519.54 Q1203.8 1519.54 1207.97 1524.18 Q1212.17 1528.8 1212.17 1536.76 M1206.31 1535.04 Q1206.25 1530.23 1203.61 1527.37 Q1201 1524.5 1196.67 1524.5 Q1191.77 1524.5 1188.81 1527.27 Q1185.88 1530.04 1185.43 1535.07 L1206.31 1535.04 Z\" fill=\"#000000\" fill-rule=\"evenodd\" fill-opacity=\"1\" /><path clip-path=\"url(#clip690)\" d=\"M 0 0 M1223.98 1550.7 L1223.98 1569.6 L1218.09 1569.6 L1218.09 1520.4 L1223.98 1520.4 L1223.98 1525.81 Q1225.82 1522.62 1228.62 1521.1 Q1231.46 1519.54 1235.37 1519.54 Q1241.87 1519.54 1245.91 1524.69 Q1249.98 1529.85 1249.98 1538.25 Q1249.98 1546.65 1245.91 1551.81 Q1241.87 1556.97 1235.37 1556.97 Q1231.46 1556.97 1228.62 1555.44 Q1225.82 1553.88 1223.98 1550.7 M1243.9 1538.25 Q1243.9 1531.79 1241.23 1528.13 Q1238.59 1524.44 1233.94 1524.44 Q1229.29 1524.44 1226.62 1528.13 Q1223.98 1531.79 1223.98 1538.25 Q1223.98 1544.71 1226.62 1548.4 Q1229.29 1552.07 1233.94 1552.07 Q1238.59 1552.07 1241.23 1548.4 Q1243.9 1544.71 1243.9 1538.25 Z\" fill=\"#000000\" fill-rule=\"evenodd\" fill-opacity=\"1\" /><path clip-path=\"url(#clip690)\" d=\"M 0 0 M1269.94 1524.5 Q1265.23 1524.5 1262.49 1528.19 Q1259.75 1531.85 1259.75 1538.25 Q1259.75 1544.65 1262.46 1548.34 Q1265.2 1552 1269.94 1552 Q1274.62 1552 1277.35 1548.31 Q1280.09 1544.62 1280.09 1538.25 Q1280.09 1531.92 1277.35 1528.23 Q1274.62 1524.5 1269.94 1524.5 M1269.94 1519.54 Q1277.58 1519.54 1281.94 1524.5 Q1286.3 1529.47 1286.3 1538.25 Q1286.3 1547 1281.94 1552 Q1277.58 1556.97 1269.94 1556.97 Q1262.27 1556.97 1257.91 1552 Q1253.58 1547 1253.58 1538.25 Q1253.58 1529.47 1257.91 1524.5 Q1262.27 1519.54 1269.94 1519.54 Z\" fill=\"#000000\" fill-rule=\"evenodd\" fill-opacity=\"1\" /><path clip-path=\"url(#clip690)\" d=\"M 0 0 M1318.09 1521.76 L1318.09 1527.24 Q1315.61 1525.87 1313.1 1525.2 Q1310.62 1524.5 1308.07 1524.5 Q1302.37 1524.5 1299.22 1528.13 Q1296.07 1531.73 1296.07 1538.25 Q1296.07 1544.78 1299.22 1548.4 Q1302.37 1552 1308.07 1552 Q1310.62 1552 1313.1 1551.33 Q1315.61 1550.63 1318.09 1549.26 L1318.09 1554.68 Q1315.64 1555.82 1313 1556.39 Q1310.39 1556.97 1307.43 1556.97 Q1299.38 1556.97 1294.64 1551.91 Q1289.89 1546.85 1289.89 1538.25 Q1289.89 1529.53 1294.67 1524.53 Q1299.48 1519.54 1307.81 1519.54 Q1310.52 1519.54 1313.1 1520.11 Q1315.68 1520.65 1318.09 1521.76 Z\" fill=\"#000000\" fill-rule=\"evenodd\" fill-opacity=\"1\" /><path clip-path=\"url(#clip690)\" d=\"M 0 0 M1353.87 1534.53 L1353.87 1556.04 L1348.01 1556.04 L1348.01 1534.72 Q1348.01 1529.66 1346.04 1527.14 Q1344.07 1524.63 1340.12 1524.63 Q1335.38 1524.63 1332.64 1527.65 Q1329.9 1530.68 1329.9 1535.9 L1329.9 1556.04 L1324.01 1556.04 L1324.01 1506.52 L1329.9 1506.52 L1329.9 1525.93 Q1332 1522.72 1334.84 1521.13 Q1337.7 1519.54 1341.43 1519.54 Q1347.57 1519.54 1350.72 1523.36 Q1353.87 1527.14 1353.87 1534.53 Z\" fill=\"#000000\" fill-rule=\"evenodd\" fill-opacity=\"1\" /><path clip-path=\"url(#clip690)\" d=\"M 0 0 M1382.74 1521.45 L1382.74 1526.98 Q1380.26 1525.71 1377.58 1525.07 Q1374.91 1524.44 1372.04 1524.44 Q1367.68 1524.44 1365.49 1525.77 Q1363.32 1527.11 1363.32 1529.79 Q1363.32 1531.82 1364.88 1533 Q1366.44 1534.15 1371.15 1535.2 L1373.16 1535.64 Q1379.4 1536.98 1382.01 1539.43 Q1384.65 1541.85 1384.65 1546.21 Q1384.65 1551.17 1380.7 1554.07 Q1376.79 1556.97 1369.91 1556.97 Q1367.05 1556.97 1363.93 1556.39 Q1360.84 1555.85 1357.4 1554.74 L1357.4 1548.69 Q1360.65 1550.38 1363.8 1551.24 Q1366.95 1552.07 1370.04 1552.07 Q1374.18 1552.07 1376.4 1550.66 Q1378.63 1549.23 1378.63 1546.65 Q1378.63 1544.27 1377.01 1542.99 Q1375.42 1541.72 1369.98 1540.54 L1367.94 1540.07 Q1362.5 1538.92 1360.08 1536.56 Q1357.66 1534.18 1357.66 1530.04 Q1357.66 1525.01 1361.22 1522.27 Q1364.79 1519.54 1371.34 1519.54 Q1374.59 1519.54 1377.45 1520.01 Q1380.32 1520.49 1382.74 1521.45 Z\" fill=\"#000000\" fill-rule=\"evenodd\" fill-opacity=\"1\" /><path clip-path=\"url(#clip690)\" d=\"M 0 0 M44.1444 904.492 L50.9239 904.492 Q47.9002 907.739 46.4043 911.431 Q44.9083 915.091 44.9083 919.229 Q44.9083 927.377 49.9054 931.705 Q54.8707 936.034 64.2919 936.034 Q73.6813 936.034 78.6784 931.705 Q83.6436 927.377 83.6436 919.229 Q83.6436 915.091 82.1477 911.431 Q80.6518 907.739 77.6281 904.492 L84.3439 904.492 Q86.6355 907.866 87.7814 911.653 Q88.9272 915.409 88.9272 919.611 Q88.9272 930.4 82.3387 936.607 Q75.7183 942.814 64.2919 942.814 Q52.8336 942.814 46.2451 936.607 Q39.6248 930.4 39.6248 919.611 Q39.6248 915.346 40.7706 911.59 Q41.8846 907.802 44.1444 904.492 Z\" fill=\"#000000\" fill-rule=\"evenodd\" fill-opacity=\"1\" /><path clip-path=\"url(#clip690)\" d=\"M 0 0 M57.8307 877.692 Q57.2578 878.679 57.0032 879.857 Q56.7167 881.003 56.7167 882.403 Q56.7167 887.368 59.9632 890.042 Q63.1779 892.684 69.2253 892.684 L88.0042 892.684 L88.0042 898.572 L52.3562 898.572 L52.3562 892.684 L57.8944 892.684 Q54.6479 890.838 53.0883 887.878 Q51.4968 884.917 51.4968 880.684 Q51.4968 880.08 51.5923 879.347 Q51.656 878.615 51.8151 877.724 L57.8307 877.692 Z\" fill=\"#000000\" fill-rule=\"evenodd\" fill-opacity=\"1\" /><path clip-path=\"url(#clip690)\" d=\"M 0 0 M56.4621 859.168 Q56.4621 863.879 60.1542 866.616 Q63.8145 869.353 70.212 869.353 Q76.6095 869.353 80.3017 866.648 Q83.9619 863.911 83.9619 859.168 Q83.9619 854.489 80.2698 851.752 Q76.5777 849.015 70.212 849.015 Q63.8781 849.015 60.186 851.752 Q56.4621 854.489 56.4621 859.168 M51.4968 859.168 Q51.4968 851.529 56.4621 847.169 Q61.4273 842.808 70.212 842.808 Q78.9649 842.808 83.9619 847.169 Q88.9272 851.529 88.9272 859.168 Q88.9272 866.839 83.9619 871.199 Q78.9649 875.528 70.212 875.528 Q61.4273 875.528 56.4621 871.199 Q51.4968 866.839 51.4968 859.168 Z\" fill=\"#000000\" fill-rule=\"evenodd\" fill-opacity=\"1\" /><path clip-path=\"url(#clip690)\" d=\"M 0 0 M53.4065 813.94 L58.9447 813.94 Q57.6716 816.422 57.035 819.096 Q56.3984 821.77 56.3984 824.634 Q56.3984 828.995 57.7352 831.191 Q59.072 833.355 61.7456 833.355 Q63.7826 833.355 64.9603 831.796 Q66.1061 830.236 67.1565 825.525 L67.6021 823.52 Q68.9389 817.282 71.3897 814.672 Q73.8086 812.03 78.1691 812.03 Q83.1344 812.03 86.0308 815.977 Q88.9272 819.892 88.9272 826.767 Q88.9272 829.631 88.3543 832.751 Q87.8132 835.838 86.6992 839.275 L80.6518 839.275 Q82.3387 836.029 83.198 832.878 Q84.0256 829.727 84.0256 826.639 Q84.0256 822.502 82.6251 820.274 Q81.1929 818.046 78.6147 818.046 Q76.2276 818.046 74.9545 819.669 Q73.6813 821.26 72.5037 826.703 L72.0262 828.74 Q70.8804 834.183 68.5251 836.602 Q66.138 839.021 62.0002 839.021 Q56.9713 839.021 54.2341 835.456 Q51.4968 831.891 51.4968 825.334 Q51.4968 822.088 51.9743 819.223 Q52.4517 816.359 53.4065 813.94 Z\" fill=\"#000000\" fill-rule=\"evenodd\" fill-opacity=\"1\" /><path clip-path=\"url(#clip690)\" d=\"M 0 0 M53.4065 783.162 L58.9447 783.162 Q57.6716 785.644 57.035 788.318 Q56.3984 790.991 56.3984 793.856 Q56.3984 798.217 57.7352 800.413 Q59.072 802.577 61.7456 802.577 Q63.7826 802.577 64.9603 801.017 Q66.1061 799.458 67.1565 794.747 L67.6021 792.742 Q68.9389 786.504 71.3897 783.894 Q73.8086 781.252 78.1691 781.252 Q83.1344 781.252 86.0308 785.199 Q88.9272 789.114 88.9272 795.989 Q88.9272 798.853 88.3543 801.972 Q87.8132 805.06 86.6992 808.497 L80.6518 808.497 Q82.3387 805.251 83.198 802.1 Q84.0256 798.949 84.0256 795.861 Q84.0256 791.724 82.6251 789.496 Q81.1929 787.268 78.6147 787.268 Q76.2276 787.268 74.9545 788.891 Q73.6813 790.482 72.5037 795.925 L72.0262 797.962 Q70.8804 803.405 68.5251 805.824 Q66.138 808.243 62.0002 808.243 Q56.9713 808.243 54.2341 804.678 Q51.4968 801.113 51.4968 794.556 Q51.4968 791.31 51.9743 788.445 Q52.4517 785.581 53.4065 783.162 Z\" fill=\"#000000\" fill-rule=\"evenodd\" fill-opacity=\"1\" /><path clip-path=\"url(#clip690)\" d=\"M 0 0 M40.4842 754.134 L40.4842 724.088 L45.895 724.088 L45.895 747.705 L59.9632 747.705 L59.9632 725.075 L65.3741 725.075 L65.3741 747.705 L82.5933 747.705 L82.5933 723.515 L88.0042 723.515 L88.0042 754.134 L40.4842 754.134 Z\" fill=\"#000000\" fill-rule=\"evenodd\" fill-opacity=\"1\" /><path clip-path=\"url(#clip690)\" d=\"M 0 0 M66.4881 687.74 L88.0042 687.74 L88.0042 693.596 L66.679 693.596 Q61.6183 693.596 59.1038 695.57 Q56.5894 697.543 56.5894 701.49 Q56.5894 706.232 59.6131 708.969 Q62.6368 711.707 67.8567 711.707 L88.0042 711.707 L88.0042 717.595 L52.3562 717.595 L52.3562 711.707 L57.8944 711.707 Q54.6797 709.606 53.0883 706.773 Q51.4968 703.909 51.4968 700.185 Q51.4968 694.042 55.3163 690.891 Q59.1038 687.74 66.4881 687.74 Z\" fill=\"#000000\" fill-rule=\"evenodd\" fill-opacity=\"1\" /><path clip-path=\"url(#clip690)\" d=\"M 0 0 M42.2347 675.804 L52.3562 675.804 L52.3562 663.741 L56.9077 663.741 L56.9077 675.804 L76.2594 675.804 Q80.6199 675.804 81.8613 674.626 Q83.1026 673.417 83.1026 669.757 L83.1026 663.741 L88.0042 663.741 L88.0042 669.757 Q88.0042 676.536 85.4897 679.114 Q82.9434 681.692 76.2594 681.692 L56.9077 681.692 L56.9077 685.989 L52.3562 685.989 L52.3562 681.692 L42.2347 681.692 L42.2347 675.804 Z\" fill=\"#000000\" fill-rule=\"evenodd\" fill-opacity=\"1\" /><path clip-path=\"url(#clip690)\" d=\"M 0 0 M57.8307 636.941 Q57.2578 637.928 57.0032 639.106 Q56.7167 640.252 56.7167 641.652 Q56.7167 646.617 59.9632 649.291 Q63.1779 651.933 69.2253 651.933 L88.0042 651.933 L88.0042 657.821 L52.3562 657.821 L52.3562 651.933 L57.8944 651.933 Q54.6479 650.087 53.0883 647.127 Q51.4968 644.166 51.4968 639.933 Q51.4968 639.329 51.5923 638.596 Q51.656 637.864 51.8151 636.973 L57.8307 636.941 Z\" fill=\"#000000\" fill-rule=\"evenodd\" fill-opacity=\"1\" /><path clip-path=\"url(#clip690)\" d=\"M 0 0 M56.4621 618.417 Q56.4621 623.128 60.1542 625.865 Q63.8145 628.602 70.212 628.602 Q76.6095 628.602 80.3017 625.897 Q83.9619 623.16 83.9619 618.417 Q83.9619 613.738 80.2698 611.001 Q76.5777 608.264 70.212 608.264 Q63.8781 608.264 60.186 611.001 Q56.4621 613.738 56.4621 618.417 M51.4968 618.417 Q51.4968 610.778 56.4621 606.418 Q61.4273 602.057 70.212 602.057 Q78.9649 602.057 83.9619 606.418 Q88.9272 610.778 88.9272 618.417 Q88.9272 626.088 83.9619 630.448 Q78.9649 634.777 70.212 634.777 Q61.4273 634.777 56.4621 630.448 Q51.4968 626.088 51.4968 618.417 Z\" fill=\"#000000\" fill-rule=\"evenodd\" fill-opacity=\"1\" /><path clip-path=\"url(#clip690)\" d=\"M 0 0 M82.657 590.249 L101.563 590.249 L101.563 596.137 L52.3562 596.137 L52.3562 590.249 L57.7671 590.249 Q54.5842 588.403 53.0564 585.602 Q51.4968 582.769 51.4968 578.854 Q51.4968 572.361 56.6531 568.319 Q61.8093 564.245 70.212 564.245 Q78.6147 564.245 83.771 568.319 Q88.9272 572.361 88.9272 578.854 Q88.9272 582.769 87.3994 585.602 Q85.8398 588.403 82.657 590.249 M70.212 570.324 Q63.7508 570.324 60.0905 572.998 Q56.3984 575.64 56.3984 580.287 Q56.3984 584.934 60.0905 587.607 Q63.7508 590.249 70.212 590.249 Q76.6732 590.249 80.3653 587.607 Q84.0256 584.934 84.0256 580.287 Q84.0256 575.64 80.3653 572.998 Q76.6732 570.324 70.212 570.324 Z\" fill=\"#000000\" fill-rule=\"evenodd\" fill-opacity=\"1\" /><path clip-path=\"url(#clip690)\" d=\"M 0 0 M91.3143 543.27 Q97.68 545.753 99.6216 548.108 Q101.563 550.463 101.563 554.41 L101.563 559.089 L96.6615 559.089 L96.6615 555.651 Q96.6615 553.232 95.5157 551.896 Q94.3699 550.559 90.1048 548.935 L87.4312 547.885 L52.3562 562.303 L52.3562 556.097 L80.238 544.957 L52.3562 533.817 L52.3562 527.61 L91.3143 543.27 Z\" fill=\"#000000\" fill-rule=\"evenodd\" fill-opacity=\"1\" /><polyline clip-path=\"url(#clip692)\" style=\"stroke:#009af9; stroke-width:8; stroke-opacity:1; fill:none\" points=\"\n",
       "  271.639,86.1857 272.144,135.892 272.649,169.586 273.155,177.572 274.165,214.433 274.67,182.67 276.186,234.999 277.702,267.772 279.723,316.197 282.754,382.635 \n",
       "  286.796,474.516 291.849,750.978 298.922,1003.87 308.017,1163.5 320.143,1246.57 336.311,1266.79 358.037,1277.72 386.836,1286.24 425.235,1290.41 476.266,1293.26 \n",
       "  543.97,1301.32 634.41,1315.86 754.66,1325.18 914.824,1342.28 1128.04,1347.97 1411.99,1346.2 1789.42,1371.01 2292.14,1384.24 \n",
       "  \"/>\n",
       "<polyline clip-path=\"url(#clip692)\" style=\"stroke:#e26f46; stroke-width:8; stroke-opacity:1; fill:none\" points=\"\n",
       "  271.639,352.548 272.144,435.971 272.649,482.015 273.155,508.736 273.66,525.842 274.165,537.872 274.67,547.032 275.176,554.512 275.681,561.04 276.186,567.133 \n",
       "  276.691,573.23 277.197,579.787 277.702,587.358 278.207,596.695 278.712,608.851 279.218,625.226 279.723,647.325 280.228,675.921 280.733,710.12 281.239,747.853 \n",
       "  281.744,787.058 282.249,826.028 282.754,863.453 283.26,898.464 283.765,930.598 284.27,959.7 284.775,985.828 285.281,1009.17 285.786,1029.98 286.291,1048.52 \n",
       "  286.796,1065.06 287.302,1079.84 287.807,1093.09 288.312,1104.99 288.817,1115.73 289.323,1125.44 289.828,1134.26 290.333,1142.29 290.838,1149.63 291.344,1156.36 \n",
       "  291.849,1162.54 292.354,1168.25 292.859,1173.52 293.365,1178.41 293.87,1182.95 294.375,1187.19 294.88,1191.15 295.386,1194.86 295.891,1198.34 296.396,1201.61 \n",
       "  296.901,1204.7 297.407,1207.61 297.912,1210.37 298.417,1212.98 298.922,1215.46 299.428,1217.83 299.933,1220.07 300.438,1222.22 300.943,1224.27 301.449,1226.23 \n",
       "  301.954,1228.11 302.459,1229.92 302.964,1231.65 303.47,1233.31 303.975,1234.91 304.48,1236.45 304.985,1237.94 305.491,1239.38 305.996,1240.76 306.501,1242.1 \n",
       "  307.006,1243.4 307.512,1244.65 308.017,1245.86 308.522,1247.04 309.027,1248.18 309.533,1249.29 310.038,1250.37 310.543,1251.41 311.048,1252.43 311.554,1253.42 \n",
       "  312.059,1254.38 312.564,1255.32 313.069,1256.23 313.575,1257.12 314.08,1257.99 314.585,1258.84 315.09,1259.67 315.596,1260.47 316.101,1261.26 316.606,1262.03 \n",
       "  317.111,1262.79 317.617,1263.52 318.122,1264.24 318.627,1264.95 319.132,1265.64 319.638,1266.31 320.143,1266.97 320.648,1267.62 321.153,1268.25 321.659,1268.87 \n",
       "  322.164,1269.48 322.669,1270.08 323.174,1270.66 323.68,1271.23 324.185,1271.79 324.69,1272.34 325.195,1272.88 325.701,1273.41 326.206,1273.92 326.711,1274.43 \n",
       "  327.216,1274.93 327.722,1275.42 328.227,1275.9 328.732,1276.37 329.237,1276.83 329.743,1277.28 330.248,1277.72 330.753,1278.16 331.258,1278.59 331.764,1279.01 \n",
       "  332.269,1279.42 332.774,1279.83 333.28,1280.22 333.785,1280.61 334.29,1281 334.795,1281.37 335.301,1281.74 335.806,1282.11 336.311,1282.46 336.816,1282.81 \n",
       "  337.322,1283.16 337.827,1283.5 338.332,1283.83 338.837,1284.16 339.343,1284.48 339.848,1284.79 340.353,1285.11 340.858,1285.41 341.364,1285.71 341.869,1286.01 \n",
       "  342.374,1286.3 342.879,1286.58 343.385,1286.86 343.89,1287.14 344.395,1287.41 344.9,1287.68 345.406,1287.94 345.911,1288.2 346.416,1288.46 346.921,1288.71 \n",
       "  347.427,1288.95 347.932,1289.19 348.437,1289.43 348.942,1289.67 349.448,1289.9 349.953,1290.13 350.458,1290.35 350.963,1290.57 351.469,1290.79 351.974,1291 \n",
       "  352.479,1291.21 352.984,1291.42 353.49,1291.62 353.995,1291.83 354.5,1292.02 355.005,1292.22 355.511,1292.41 356.016,1292.6 356.521,1292.78 357.026,1292.97 \n",
       "  357.532,1293.15 358.037,1293.33 358.542,1293.5 359.047,1293.67 359.553,1293.84 360.058,1294.01 360.563,1294.18 361.068,1294.34 361.574,1294.5 362.079,1294.66 \n",
       "  362.584,1294.81 363.089,1294.96 363.595,1295.12 364.1,1295.26 364.605,1295.41 365.11,1295.56 365.616,1295.7 366.121,1295.84 366.626,1295.98 367.131,1296.11 \n",
       "  367.637,1296.25 368.142,1296.38 368.647,1296.51 369.152,1296.64 369.658,1296.76 370.163,1296.89 370.668,1297.01 371.173,1297.13 371.679,1297.25 372.184,1297.37 \n",
       "  372.689,1297.49 373.194,1297.6 373.7,1297.72 374.205,1297.83 374.71,1297.94 375.215,1298.05 375.721,1298.15 376.226,1298.26 376.731,1298.36 377.236,1298.46 \n",
       "  377.742,1298.56 378.247,1298.66 378.752,1298.76 379.257,1298.86 379.763,1298.95 380.268,1299.05 380.773,1299.14 381.278,1299.23 381.784,1299.32 382.289,1299.41 \n",
       "  382.794,1299.5 383.299,1299.59 383.805,1299.67 384.31,1299.76 384.815,1299.84 385.32,1299.92 385.826,1300 386.331,1300.08 386.836,1300.16 387.341,1300.24 \n",
       "  387.847,1300.31 388.352,1300.39 388.857,1300.46 389.362,1300.54 389.868,1300.61 390.373,1300.68 390.878,1300.75 391.383,1300.82 391.889,1300.89 392.394,1300.95 \n",
       "  392.899,1301.02 393.404,1301.09 393.91,1301.15 394.415,1301.22 394.92,1301.28 395.425,1301.34 395.931,1301.4 396.436,1301.46 396.941,1301.52 397.446,1301.58 \n",
       "  397.952,1301.64 398.457,1301.7 398.962,1301.75 399.467,1301.81 399.973,1301.86 400.478,1301.92 400.983,1301.97 401.489,1302.02 401.994,1302.08 402.499,1302.13 \n",
       "  403.004,1302.18 403.51,1302.23 404.015,1302.28 404.52,1302.33 405.025,1302.37 405.531,1302.42 406.036,1302.47 406.541,1302.51 407.046,1302.56 407.552,1302.6 \n",
       "  408.057,1302.65 408.562,1302.69 409.067,1302.74 409.573,1302.78 410.078,1302.82 410.583,1302.86 411.088,1302.9 411.594,1302.94 412.099,1302.98 412.604,1303.02 \n",
       "  413.109,1303.06 413.615,1303.1 414.12,1303.14 414.625,1303.17 415.13,1303.21 415.636,1303.25 416.141,1303.28 416.646,1303.32 417.151,1303.35 417.657,1303.39 \n",
       "  418.162,1303.42 418.667,1303.45 419.172,1303.49 419.678,1303.52 420.183,1303.55 420.688,1303.58 421.193,1303.61 421.699,1303.65 422.204,1303.68 422.709,1303.71 \n",
       "  423.214,1303.74 423.72,1303.77 424.225,1303.8 424.73,1303.82 425.235,1303.85 425.741,1303.88 426.246,1303.91 426.751,1303.94 427.256,1303.96 427.762,1303.99 \n",
       "  428.267,1304.02 428.772,1304.04 429.277,1304.07 429.783,1304.09 430.288,1304.12 430.793,1304.14 431.298,1304.17 431.804,1304.19 432.309,1304.22 432.814,1304.24 \n",
       "  433.319,1304.26 433.825,1304.28 434.33,1304.31 434.835,1304.33 435.34,1304.35 435.846,1304.37 436.351,1304.39 436.856,1304.41 437.361,1304.43 437.867,1304.45 \n",
       "  438.372,1304.47 438.877,1304.49 439.382,1304.51 439.888,1304.53 440.393,1304.55 440.898,1304.57 441.403,1304.59 441.909,1304.61 442.414,1304.62 442.919,1304.64 \n",
       "  443.424,1304.66 443.93,1304.68 444.435,1304.69 444.94,1304.71 445.445,1304.73 445.951,1304.74 446.456,1304.76 446.961,1304.77 447.466,1304.79 447.972,1304.8 \n",
       "  448.477,1304.82 448.982,1304.84 449.487,1304.85 449.993,1304.86 450.498,1304.88 451.003,1304.89 451.508,1304.91 452.014,1304.92 452.519,1304.93 453.024,1304.95 \n",
       "  453.529,1304.96 454.035,1304.97 454.54,1304.99 455.045,1305 455.55,1305.01 456.056,1305.03 456.561,1305.04 457.066,1305.05 457.571,1305.06 458.077,1305.07 \n",
       "  458.582,1305.09 459.087,1305.1 459.592,1305.11 460.098,1305.12 460.603,1305.13 461.108,1305.14 461.613,1305.15 462.119,1305.16 462.624,1305.17 463.129,1305.18 \n",
       "  463.634,1305.19 464.14,1305.2 464.645,1305.21 465.15,1305.22 465.655,1305.23 466.161,1305.24 466.666,1305.25 467.171,1305.26 467.676,1305.27 468.182,1305.28 \n",
       "  468.687,1305.29 469.192,1305.3 469.697,1305.31 470.203,1305.32 470.708,1305.33 471.213,1305.33 471.719,1305.34 472.224,1305.35 472.729,1305.36 473.234,1305.37 \n",
       "  473.74,1305.38 474.245,1305.38 474.75,1305.39 475.255,1305.4 475.761,1305.41 476.266,1305.42 476.771,1305.42 477.276,1305.43 477.782,1305.44 478.287,1305.45 \n",
       "  478.792,1305.46 479.297,1305.46 479.803,1305.47 480.308,1305.48 480.813,1305.49 481.318,1305.5 481.824,1305.5 482.329,1305.51 482.834,1305.52 483.339,1305.53 \n",
       "  483.845,1305.54 484.35,1305.55 484.855,1305.56 485.36,1305.57 485.866,1305.58 486.371,1305.59 486.876,1305.6 487.381,1305.62 487.887,1305.63 488.392,1305.64 \n",
       "  488.897,1305.66 489.402,1305.67 489.908,1305.69 490.413,1305.71 490.918,1305.73 491.423,1305.75 491.929,1305.78 492.434,1305.8 492.939,1305.83 493.444,1305.86 \n",
       "  493.95,1305.89 494.455,1305.93 494.96,1305.97 495.465,1306.01 495.971,1306.06 496.476,1306.1 496.981,1306.16 497.486,1306.22 497.992,1306.28 498.497,1306.35 \n",
       "  499.002,1306.42 499.507,1306.5 500.013,1306.58 500.518,1306.66 501.023,1306.75 501.528,1306.83 502.034,1306.92 502.539,1307 503.044,1307.08 503.549,1307.15 \n",
       "  504.055,1307.21 504.56,1307.27 505.065,1307.33 505.57,1307.38 506.076,1307.42 506.581,1307.46 507.086,1307.5 507.591,1307.53 508.097,1307.56 508.602,1307.59 \n",
       "  509.107,1307.61 509.612,1307.64 510.118,1307.66 510.623,1307.68 511.128,1307.7 511.633,1307.72 512.139,1307.74 512.644,1307.76 513.149,1307.78 513.654,1307.79 \n",
       "  514.16,1307.81 514.665,1307.82 515.17,1307.84 515.675,1307.85 516.181,1307.87 516.686,1307.88 517.191,1307.89 517.696,1307.91 518.202,1307.92 518.707,1307.93 \n",
       "  519.212,1307.94 519.717,1307.96 520.223,1307.97 520.728,1307.98 521.233,1307.99 521.738,1308 522.244,1308.01 522.749,1308.02 523.254,1308.03 523.759,1308.04 \n",
       "  524.265,1308.05 524.77,1308.06 525.275,1308.07 525.78,1308.08 526.286,1308.09 526.791,1308.1 527.296,1308.11 527.801,1308.12 528.307,1308.13 528.812,1308.14 \n",
       "  529.317,1308.15 529.822,1308.16 530.328,1308.17 530.833,1308.18 531.338,1308.18 531.843,1308.19 532.349,1308.2 532.854,1308.21 533.359,1308.22 533.864,1308.23 \n",
       "  534.37,1308.23 534.875,1308.24 535.38,1308.25 535.885,1308.26 536.391,1308.27 536.896,1308.27 537.401,1308.28 537.906,1308.29 538.412,1308.3 538.917,1308.31 \n",
       "  539.422,1308.31 539.928,1308.32 540.433,1308.33 540.938,1308.34 541.443,1308.34 541.949,1308.35 542.454,1308.36 542.959,1308.36 543.464,1308.37 543.97,1308.38 \n",
       "  544.475,1308.39 544.98,1308.39 545.485,1308.4 545.991,1308.41 546.496,1308.41 547.001,1308.42 547.506,1308.43 548.012,1308.43 548.517,1308.44 549.022,1308.45 \n",
       "  549.527,1308.45 550.033,1308.46 550.538,1308.47 551.043,1308.47 551.548,1308.48 552.054,1308.49 552.559,1308.49 553.064,1308.5 553.569,1308.51 554.075,1308.51 \n",
       "  554.58,1308.52 555.085,1308.53 555.59,1308.53 556.096,1308.54 556.601,1308.55 557.106,1308.55 557.611,1308.56 558.117,1308.56 558.622,1308.57 559.127,1308.58 \n",
       "  559.632,1308.58 560.138,1308.59 560.643,1308.6 561.148,1308.6 561.653,1308.61 562.159,1308.61 562.664,1308.62 563.169,1308.63 563.674,1308.63 564.18,1308.64 \n",
       "  564.685,1308.64 565.19,1308.65 565.695,1308.66 566.201,1308.66 566.706,1308.67 567.211,1308.67 567.716,1308.68 568.222,1308.69 568.727,1308.69 569.232,1308.7 \n",
       "  569.737,1308.7 570.243,1308.71 570.748,1308.72 571.253,1308.72 571.758,1308.73 572.264,1308.73 572.769,1308.74 573.274,1308.75 573.779,1308.75 574.285,1308.76 \n",
       "  574.79,1308.76 575.295,1308.77 575.8,1308.78 576.306,1308.78 576.811,1308.79 577.316,1308.79 577.821,1308.8 578.327,1308.8 578.832,1308.81 579.337,1308.82 \n",
       "  579.842,1308.82 580.348,1308.83 580.853,1308.83 581.358,1308.84 581.863,1308.84 582.369,1308.85 582.874,1308.86 583.379,1308.86 583.884,1308.87 584.39,1308.87 \n",
       "  584.895,1308.88 585.4,1308.89 585.905,1308.89 586.411,1308.9 586.916,1308.9 587.421,1308.91 587.926,1308.91 588.432,1308.92 588.937,1308.93 589.442,1308.93 \n",
       "  589.947,1308.94 590.453,1308.94 590.958,1308.95 591.463,1308.95 591.968,1308.96 592.474,1308.97 592.979,1308.97 593.484,1308.98 593.989,1308.98 594.495,1308.99 \n",
       "  595,1308.99 595.505,1309 596.01,1309.01 596.516,1309.01 597.021,1309.02 597.526,1309.02 598.031,1309.03 598.537,1309.04 599.042,1309.04 599.547,1309.05 \n",
       "  600.052,1309.05 600.558,1309.06 601.063,1309.06 601.568,1309.07 602.073,1309.08 602.579,1309.08 603.084,1309.09 603.589,1309.09 604.094,1309.1 604.6,1309.1 \n",
       "  605.105,1309.11 605.61,1309.12 606.115,1309.12 606.621,1309.13 607.126,1309.13 607.631,1309.14 608.137,1309.15 608.642,1309.15 609.147,1309.16 609.652,1309.16 \n",
       "  610.158,1309.17 610.663,1309.18 611.168,1309.18 611.673,1309.19 612.179,1309.19 612.684,1309.2 613.189,1309.21 613.694,1309.21 614.2,1309.22 614.705,1309.22 \n",
       "  615.21,1309.23 615.715,1309.24 616.221,1309.24 616.726,1309.25 617.231,1309.26 617.736,1309.26 618.242,1309.27 618.747,1309.27 619.252,1309.28 619.757,1309.29 \n",
       "  620.263,1309.29 620.768,1309.3 621.273,1309.31 621.778,1309.31 622.284,1309.32 622.789,1309.32 623.294,1309.33 623.799,1309.34 624.305,1309.34 624.81,1309.35 \n",
       "  625.315,1309.36 625.82,1309.36 626.326,1309.37 626.831,1309.38 627.336,1309.38 627.841,1309.39 628.347,1309.39 628.852,1309.4 629.357,1309.41 629.862,1309.41 \n",
       "  630.368,1309.42 630.873,1309.43 631.378,1309.43 631.883,1309.44 632.389,1309.45 632.894,1309.45 633.399,1309.46 633.904,1309.47 634.41,1309.47 634.915,1309.48 \n",
       "  635.42,1309.49 635.925,1309.49 636.431,1309.5 636.936,1309.51 637.441,1309.52 637.946,1309.52 638.452,1309.53 638.957,1309.54 639.462,1309.54 639.967,1309.55 \n",
       "  640.473,1309.56 640.978,1309.56 641.483,1309.57 641.988,1309.58 642.494,1309.59 642.999,1309.59 643.504,1309.6 644.009,1309.61 644.515,1309.61 645.02,1309.62 \n",
       "  645.525,1309.63 646.03,1309.64 646.536,1309.64 647.041,1309.65 647.546,1309.66 648.051,1309.67 648.557,1309.67 649.062,1309.68 649.567,1309.69 650.072,1309.7 \n",
       "  650.578,1309.7 651.083,1309.71 651.588,1309.72 652.093,1309.73 652.599,1309.74 653.104,1309.74 653.609,1309.75 654.114,1309.76 654.62,1309.77 655.125,1309.77 \n",
       "  655.63,1309.78 656.135,1309.79 656.641,1309.8 657.146,1309.81 657.651,1309.81 658.156,1309.82 658.662,1309.83 659.167,1309.84 659.672,1309.85 660.177,1309.86 \n",
       "  660.683,1309.86 661.188,1309.87 661.693,1309.88 662.198,1309.89 662.704,1309.9 663.209,1309.91 663.714,1309.92 664.219,1309.92 664.725,1309.93 665.23,1309.94 \n",
       "  665.735,1309.95 666.24,1309.96 666.746,1309.97 667.251,1309.98 667.756,1309.99 668.261,1310 668.767,1310.01 669.272,1310.01 669.777,1310.02 670.282,1310.03 \n",
       "  670.788,1310.04 671.293,1310.05 671.798,1310.06 672.303,1310.07 672.809,1310.08 673.314,1310.09 673.819,1310.1 674.324,1310.11 674.83,1310.12 675.335,1310.13 \n",
       "  675.84,1310.14 676.345,1310.15 676.851,1310.16 677.356,1310.17 677.861,1310.18 678.367,1310.19 678.872,1310.2 679.377,1310.21 679.882,1310.22 680.388,1310.23 \n",
       "  680.893,1310.24 681.398,1310.25 681.903,1310.26 682.409,1310.27 682.914,1310.28 683.419,1310.29 683.924,1310.31 684.43,1310.32 684.935,1310.33 685.44,1310.34 \n",
       "  685.945,1310.35 686.451,1310.36 686.956,1310.37 687.461,1310.38 687.966,1310.4 688.472,1310.41 688.977,1310.42 689.482,1310.43 689.987,1310.44 690.493,1310.45 \n",
       "  690.998,1310.47 691.503,1310.48 692.008,1310.49 692.514,1310.5 693.019,1310.51 693.524,1310.53 694.029,1310.54 694.535,1310.55 695.04,1310.56 695.545,1310.58 \n",
       "  696.05,1310.59 696.556,1310.6 697.061,1310.62 697.566,1310.63 698.071,1310.64 698.577,1310.65 699.082,1310.67 699.587,1310.68 700.092,1310.69 700.598,1310.71 \n",
       "  701.103,1310.72 701.608,1310.74 702.113,1310.75 702.619,1310.76 703.124,1310.78 703.629,1310.79 704.134,1310.81 704.64,1310.82 705.145,1310.84 705.65,1310.85 \n",
       "  706.155,1310.86 706.661,1310.88 707.166,1310.89 707.671,1310.91 708.176,1310.92 708.682,1310.94 709.187,1310.95 709.692,1310.97 710.197,1310.99 710.703,1311 \n",
       "  711.208,1311.02 711.713,1311.03 712.218,1311.05 712.724,1311.06 713.229,1311.08 713.734,1311.1 714.239,1311.11 714.745,1311.13 715.25,1311.15 715.755,1311.16 \n",
       "  716.26,1311.18 716.766,1311.2 717.271,1311.21 717.776,1311.23 718.281,1311.25 718.787,1311.27 719.292,1311.28 719.797,1311.3 720.302,1311.32 720.808,1311.34 \n",
       "  721.313,1311.36 721.818,1311.37 722.323,1311.39 722.829,1311.41 723.334,1311.43 723.839,1311.45 724.344,1311.47 724.85,1311.49 725.355,1311.5 725.86,1311.52 \n",
       "  726.365,1311.54 726.871,1311.56 727.376,1311.58 727.881,1311.6 728.386,1311.62 728.892,1311.64 729.397,1311.66 729.902,1311.68 730.407,1311.7 730.913,1311.72 \n",
       "  731.418,1311.75 731.923,1311.77 732.428,1311.79 732.934,1311.81 733.439,1311.83 733.944,1311.85 734.449,1311.87 734.955,1311.89 735.46,1311.92 735.965,1311.94 \n",
       "  736.47,1311.96 736.976,1311.98 737.481,1312.01 737.986,1312.03 738.491,1312.05 738.997,1312.07 739.502,1312.1 740.007,1312.12 740.512,1312.14 741.018,1312.17 \n",
       "  741.523,1312.19 742.028,1312.22 742.533,1312.24 743.039,1312.26 743.544,1312.29 744.049,1312.31 744.554,1312.34 745.06,1312.36 745.565,1312.39 746.07,1312.41 \n",
       "  746.576,1312.44 747.081,1312.46 747.586,1312.49 748.091,1312.51 748.597,1312.54 749.102,1312.57 749.607,1312.59 750.112,1312.62 750.618,1312.64 751.123,1312.67 \n",
       "  751.628,1312.7 752.133,1312.73 752.639,1312.75 753.144,1312.78 753.649,1312.81 754.154,1312.84 754.66,1312.86 755.165,1312.89 755.67,1312.92 756.175,1312.95 \n",
       "  756.681,1312.98 757.186,1313 757.691,1313.03 758.196,1313.06 758.702,1313.09 759.207,1313.12 759.712,1313.15 760.217,1313.18 760.723,1313.21 761.228,1313.24 \n",
       "  761.733,1313.27 762.238,1313.3 762.744,1313.33 763.249,1313.36 763.754,1313.39 764.259,1313.42 764.765,1313.45 765.27,1313.49 765.775,1313.52 766.28,1313.55 \n",
       "  766.786,1313.58 767.291,1313.61 767.796,1313.65 768.301,1313.68 768.807,1313.71 769.312,1313.74 769.817,1313.78 770.322,1313.81 770.828,1313.84 771.333,1313.88 \n",
       "  771.838,1313.91 772.343,1313.94 772.849,1313.98 773.354,1314.01 773.859,1314.05 774.364,1314.08 774.87,1314.11 775.375,1314.15 775.88,1314.18 776.385,1314.22 \n",
       "  776.891,1314.25 777.396,1314.29 777.901,1314.33 778.406,1314.36 778.912,1314.4 779.417,1314.43 779.922,1314.47 780.427,1314.51 780.933,1314.54 781.438,1314.58 \n",
       "  781.943,1314.62 782.448,1314.65 782.954,1314.69 783.459,1314.73 783.964,1314.77 784.469,1314.8 784.975,1314.84 785.48,1314.88 785.985,1314.92 786.49,1314.96 \n",
       "  786.996,1314.99 787.501,1315.03 788.006,1315.07 788.511,1315.11 789.017,1315.15 789.522,1315.19 790.027,1315.23 790.532,1315.27 791.038,1315.31 791.543,1315.35 \n",
       "  792.048,1315.39 792.553,1315.43 793.059,1315.47 793.564,1315.51 794.069,1315.55 794.574,1315.59 795.08,1315.63 795.585,1315.67 796.09,1315.71 796.595,1315.75 \n",
       "  797.101,1315.8 797.606,1315.84 798.111,1315.88 798.616,1315.92 799.122,1315.96 799.627,1316.01 800.132,1316.05 800.637,1316.09 801.143,1316.13 801.648,1316.18 \n",
       "  802.153,1316.22 802.658,1316.26 803.164,1316.3 803.669,1316.35 804.174,1316.39 804.679,1316.43 805.185,1316.48 805.69,1316.52 806.195,1316.57 806.7,1316.61 \n",
       "  807.206,1316.65 807.711,1316.7 808.216,1316.74 808.721,1316.79 809.227,1316.83 809.732,1316.88 810.237,1316.92 810.742,1316.96 811.248,1317.01 811.753,1317.05 \n",
       "  812.258,1317.1 812.763,1317.14 813.269,1317.19 813.774,1317.24 814.279,1317.28 814.784,1317.33 815.29,1317.37 815.795,1317.42 816.3,1317.46 816.806,1317.51 \n",
       "  817.311,1317.55 817.816,1317.6 818.321,1317.65 818.827,1317.69 819.332,1317.74 819.837,1317.79 820.342,1317.83 820.848,1317.88 821.353,1317.92 821.858,1317.97 \n",
       "  822.363,1318.02 822.869,1318.06 823.374,1318.11 823.879,1318.16 824.384,1318.2 824.89,1318.25 825.395,1318.3 825.9,1318.34 826.405,1318.39 826.911,1318.44 \n",
       "  827.416,1318.48 827.921,1318.53 828.426,1318.58 828.932,1318.63 829.437,1318.67 829.942,1318.72 830.447,1318.77 830.953,1318.81 831.458,1318.86 831.963,1318.91 \n",
       "  832.468,1318.95 832.974,1319 833.479,1319.05 833.984,1319.1 834.489,1319.14 834.995,1319.19 835.5,1319.24 836.005,1319.28 836.51,1319.33 837.016,1319.38 \n",
       "  837.521,1319.42 838.026,1319.47 838.531,1319.52 839.037,1319.56 839.542,1319.61 840.047,1319.66 840.552,1319.71 841.058,1319.75 841.563,1319.8 842.068,1319.85 \n",
       "  842.573,1319.89 843.079,1319.94 843.584,1319.99 844.089,1320.03 844.594,1320.08 845.1,1320.13 845.605,1320.17 846.11,1320.22 846.615,1320.26 847.121,1320.31 \n",
       "  847.626,1320.36 848.131,1320.4 848.636,1320.45 849.142,1320.49 849.647,1320.54 850.152,1320.59 850.657,1320.63 851.163,1320.68 851.668,1320.72 852.173,1320.77 \n",
       "  852.678,1320.82 853.184,1320.86 853.689,1320.91 854.194,1320.95 854.699,1321 855.205,1321.05 855.71,1321.09 856.215,1321.14 856.72,1321.18 857.226,1321.23 \n",
       "  857.731,1321.28 858.236,1321.33 858.741,1321.37 859.247,1321.42 859.752,1321.47 860.257,1321.53 860.762,1321.58 861.268,1321.64 861.773,1321.7 862.278,1321.77 \n",
       "  862.783,1321.84 863.289,1321.93 863.794,1322.02 864.299,1322.14 864.804,1322.27 865.31,1322.42 865.815,1322.57 866.32,1322.73 866.825,1322.88 867.331,1323.03 \n",
       "  867.836,1323.16 868.341,1323.29 868.846,1323.4 869.352,1323.51 869.857,1323.61 870.362,1323.71 870.867,1323.8 871.373,1323.89 871.878,1323.98 872.383,1324.06 \n",
       "  872.888,1324.14 873.394,1324.22 873.899,1324.3 874.404,1324.38 874.909,1324.45 875.415,1324.52 875.92,1324.59 876.425,1324.66 876.93,1324.73 877.436,1324.8 \n",
       "  877.941,1324.87 878.446,1324.93 878.951,1325 879.457,1325.06 879.962,1325.13 880.467,1325.19 880.972,1325.25 881.478,1325.31 881.983,1325.37 882.488,1325.43 \n",
       "  882.993,1325.49 883.499,1325.55 884.004,1325.6 884.509,1325.66 885.015,1325.72 885.52,1325.77 886.025,1325.83 886.53,1325.88 887.036,1325.94 887.541,1325.99 \n",
       "  888.046,1326.04 888.551,1326.09 889.057,1326.14 889.562,1326.19 890.067,1326.25 890.572,1326.3 891.078,1326.34 891.583,1326.39 892.088,1326.44 892.593,1326.49 \n",
       "  893.099,1326.54 893.604,1326.58 894.109,1326.63 894.614,1326.68 895.12,1326.72 895.625,1326.77 896.13,1326.81 896.635,1326.86 897.141,1326.9 897.646,1326.94 \n",
       "  898.151,1326.99 898.656,1327.03 899.162,1327.07 899.667,1327.12 900.172,1327.16 900.677,1327.2 901.183,1327.24 901.688,1327.28 902.193,1327.32 902.698,1327.36 \n",
       "  903.204,1327.4 903.709,1327.44 904.214,1327.48 904.719,1327.52 905.225,1327.55 905.73,1327.59 906.235,1327.63 906.74,1327.67 907.246,1327.7 907.751,1327.74 \n",
       "  908.256,1327.78 908.761,1327.81 909.267,1327.85 909.772,1327.89 910.277,1327.92 910.782,1327.96 911.288,1327.99 911.793,1328.02 912.298,1328.06 912.803,1328.09 \n",
       "  913.309,1328.13 913.814,1328.16 914.319,1328.19 914.824,1328.23 915.33,1328.26 915.835,1328.29 916.34,1328.32 916.845,1328.36 917.351,1328.39 917.856,1328.42 \n",
       "  918.361,1328.45 918.866,1328.48 919.372,1328.51 919.877,1328.54 920.382,1328.57 920.887,1328.6 921.393,1328.63 921.898,1328.66 922.403,1328.69 922.908,1328.72 \n",
       "  923.414,1328.75 923.919,1328.78 924.424,1328.81 924.929,1328.84 925.435,1328.87 925.94,1328.89 926.445,1328.92 926.95,1328.95 927.456,1328.98 927.961,1329 \n",
       "  928.466,1329.03 928.971,1329.06 929.477,1329.09 929.982,1329.11 930.487,1329.14 930.992,1329.16 931.498,1329.19 932.003,1329.22 932.508,1329.24 933.013,1329.27 \n",
       "  933.519,1329.29 934.024,1329.32 934.529,1329.34 935.034,1329.37 935.54,1329.39 936.045,1329.42 936.55,1329.44 937.055,1329.47 937.561,1329.49 938.066,1329.52 \n",
       "  938.571,1329.54 939.076,1329.56 939.582,1329.59 940.087,1329.61 940.592,1329.64 941.097,1329.66 941.603,1329.68 942.108,1329.71 942.613,1329.73 943.118,1329.75 \n",
       "  943.624,1329.77 944.129,1329.8 944.634,1329.82 945.139,1329.84 945.645,1329.86 946.15,1329.88 946.655,1329.91 947.16,1329.93 947.666,1329.95 948.171,1329.97 \n",
       "  948.676,1329.99 949.181,1330.01 949.687,1330.04 950.192,1330.06 950.697,1330.08 951.202,1330.1 951.708,1330.12 952.213,1330.14 952.718,1330.16 953.223,1330.18 \n",
       "  953.729,1330.2 954.234,1330.22 954.739,1330.24 955.245,1330.26 955.75,1330.28 956.255,1330.3 956.76,1330.32 957.266,1330.34 957.771,1330.36 958.276,1330.38 \n",
       "  958.781,1330.4 959.287,1330.42 959.792,1330.44 960.297,1330.46 960.802,1330.48 961.308,1330.49 961.813,1330.51 962.318,1330.53 962.823,1330.55 963.329,1330.57 \n",
       "  963.834,1330.59 964.339,1330.61 964.844,1330.62 965.35,1330.64 965.855,1330.66 966.36,1330.68 966.865,1330.7 967.371,1330.71 967.876,1330.73 968.381,1330.75 \n",
       "  968.886,1330.77 969.392,1330.78 969.897,1330.8 970.402,1330.82 970.907,1330.83 971.413,1330.85 971.918,1330.87 972.423,1330.89 972.928,1330.9 973.434,1330.92 \n",
       "  973.939,1330.94 974.444,1330.95 974.949,1330.97 975.455,1330.99 975.96,1331 976.465,1331.02 976.97,1331.03 977.476,1331.05 977.981,1331.07 978.486,1331.08 \n",
       "  978.991,1331.1 979.497,1331.11 980.002,1331.13 980.507,1331.15 981.012,1331.16 981.518,1331.18 982.023,1331.19 982.528,1331.21 983.033,1331.22 983.539,1331.24 \n",
       "  984.044,1331.25 984.549,1331.27 985.054,1331.28 985.56,1331.3 986.065,1331.31 986.57,1331.33 987.075,1331.34 987.581,1331.36 988.086,1331.37 988.591,1331.39 \n",
       "  989.096,1331.4 989.602,1331.42 990.107,1331.43 990.612,1331.45 991.117,1331.46 991.623,1331.47 992.128,1331.49 992.633,1331.5 993.138,1331.52 993.644,1331.53 \n",
       "  994.149,1331.55 994.654,1331.56 995.159,1331.57 995.665,1331.59 996.17,1331.6 996.675,1331.61 997.18,1331.63 997.686,1331.64 998.191,1331.65 998.696,1331.67 \n",
       "  999.201,1331.68 999.707,1331.69 1000.21,1331.71 1000.72,1331.72 1001.22,1331.73 1001.73,1331.75 1002.23,1331.76 1002.74,1331.77 1003.24,1331.79 1003.75,1331.8 \n",
       "  1004.25,1331.81 1004.76,1331.82 1005.26,1331.84 1005.77,1331.85 1006.27,1331.86 1006.78,1331.87 1007.29,1331.89 1007.79,1331.9 1008.3,1331.91 1008.8,1331.92 \n",
       "  1009.31,1331.94 1009.81,1331.95 1010.32,1331.96 1010.82,1331.97 1011.33,1331.98 1011.83,1332 1012.34,1332.01 1012.84,1332.02 1013.35,1332.03 1013.85,1332.04 \n",
       "  1014.36,1332.06 1014.86,1332.07 1015.37,1332.08 1015.87,1332.09 1016.38,1332.1 1016.89,1332.11 1017.39,1332.13 1017.9,1332.14 1018.4,1332.15 1018.91,1332.16 \n",
       "  1019.41,1332.17 1019.92,1332.18 1020.42,1332.19 1020.93,1332.2 1021.43,1332.21 1021.94,1332.23 1022.44,1332.24 1022.95,1332.25 1023.45,1332.26 1023.96,1332.27 \n",
       "  1024.46,1332.28 1024.97,1332.29 1025.47,1332.3 1025.98,1332.31 1026.49,1332.32 1026.99,1332.33 1027.5,1332.34 1028,1332.35 1028.51,1332.36 1029.01,1332.38 \n",
       "  1029.52,1332.39 1030.02,1332.4 1030.53,1332.41 1031.03,1332.42 1031.54,1332.43 1032.04,1332.44 1032.55,1332.45 1033.05,1332.46 1033.56,1332.47 1034.06,1332.48 \n",
       "  1034.57,1332.49 1035.07,1332.5 1035.58,1332.51 1036.08,1332.52 1036.59,1332.52 1037.1,1332.53 1037.6,1332.54 1038.11,1332.55 1038.61,1332.56 1039.12,1332.57 \n",
       "  1039.62,1332.58 1040.13,1332.59 1040.63,1332.6 1041.14,1332.61 1041.64,1332.62 1042.15,1332.63 1042.65,1332.64 1043.16,1332.65 1043.66,1332.66 1044.17,1332.67 \n",
       "  1044.67,1332.67 1045.18,1332.68 1045.68,1332.69 1046.19,1332.7 1046.7,1332.71 1047.2,1332.72 1047.71,1332.73 1048.21,1332.74 1048.72,1332.75 1049.22,1332.75 \n",
       "  1049.73,1332.76 1050.23,1332.77 1050.74,1332.78 1051.24,1332.79 1051.75,1332.8 1052.25,1332.81 1052.76,1332.81 1053.26,1332.82 1053.77,1332.83 1054.27,1332.84 \n",
       "  1054.78,1332.85 1055.28,1332.86 1055.79,1332.86 1056.29,1332.87 1056.8,1332.88 1057.31,1332.89 1057.81,1332.9 1058.32,1332.9 1058.82,1332.91 1059.33,1332.92 \n",
       "  1059.83,1332.93 1060.34,1332.94 1060.84,1332.94 1061.35,1332.95 1061.85,1332.96 1062.36,1332.97 1062.86,1332.97 1063.37,1332.98 1063.87,1332.99 1064.38,1333 \n",
       "  1064.88,1333 1065.39,1333.01 1065.89,1333.02 1066.4,1333.03 1066.91,1333.03 1067.41,1333.04 1067.92,1333.05 1068.42,1333.06 1068.93,1333.06 1069.43,1333.07 \n",
       "  1069.94,1333.08 1070.44,1333.08 1070.95,1333.09 1071.45,1333.1 1071.96,1333.11 1072.46,1333.11 1072.97,1333.12 1073.47,1333.13 1073.98,1333.13 1074.48,1333.14 \n",
       "  1074.99,1333.15 1075.49,1333.15 1076,1333.16 1076.5,1333.17 1077.01,1333.17 1077.52,1333.18 1078.02,1333.19 1078.53,1333.19 1079.03,1333.2 1079.54,1333.21 \n",
       "  1080.04,1333.21 1080.55,1333.22 1081.05,1333.23 1081.56,1333.23 1082.06,1333.24 1082.57,1333.25 1083.07,1333.25 1083.58,1333.26 1084.08,1333.26 1084.59,1333.27 \n",
       "  1085.09,1333.28 1085.6,1333.28 1086.1,1333.29 1086.61,1333.3 1087.12,1333.3 1087.62,1333.31 1088.13,1333.31 1088.63,1333.32 1089.14,1333.33 1089.64,1333.33 \n",
       "  1090.15,1333.34 1090.65,1333.34 1091.16,1333.35 1091.66,1333.36 1092.17,1333.36 1092.67,1333.37 1093.18,1333.37 1093.68,1333.38 1094.19,1333.38 1094.69,1333.39 \n",
       "  1095.2,1333.4 1095.7,1333.4 1096.21,1333.41 1096.72,1333.41 1097.22,1333.42 1097.73,1333.42 1098.23,1333.43 1098.74,1333.43 1099.24,1333.44 1099.75,1333.44 \n",
       "  1100.25,1333.45 1100.76,1333.46 1101.26,1333.46 1101.77,1333.47 1102.27,1333.47 1102.78,1333.48 1103.28,1333.48 1103.79,1333.49 1104.29,1333.49 1104.8,1333.5 \n",
       "  1105.3,1333.5 1105.81,1333.51 1106.31,1333.51 1106.82,1333.52 1107.33,1333.52 1107.83,1333.53 1108.34,1333.53 1108.84,1333.54 1109.35,1333.54 1109.85,1333.55 \n",
       "  1110.36,1333.55 1110.86,1333.56 1111.37,1333.56 1111.87,1333.57 1112.38,1333.57 1112.88,1333.58 1113.39,1333.58 1113.89,1333.59 1114.4,1333.59 1114.9,1333.6 \n",
       "  1115.41,1333.6 1115.91,1333.61 1116.42,1333.61 1116.93,1333.61 1117.43,1333.62 1117.94,1333.62 1118.44,1333.63 1118.95,1333.63 1119.45,1333.64 1119.96,1333.64 \n",
       "  1120.46,1333.65 1120.97,1333.65 1121.47,1333.66 1121.98,1333.66 1122.48,1333.66 1122.99,1333.67 1123.49,1333.67 1124,1333.68 1124.5,1333.68 1125.01,1333.69 \n",
       "  1125.51,1333.69 1126.02,1333.69 1126.52,1333.7 1127.03,1333.7 1127.54,1333.71 1128.04,1333.71 1128.55,1333.72 1129.05,1333.72 1129.56,1333.72 1130.06,1333.73 \n",
       "  1130.57,1333.73 1131.07,1333.74 1131.58,1333.74 1132.08,1333.74 1132.59,1333.75 1133.09,1333.75 1133.6,1333.76 1134.1,1333.76 1134.61,1333.77 1135.11,1333.77 \n",
       "  1135.62,1333.77 1136.12,1333.78 1136.63,1333.78 1137.14,1333.78 1137.64,1333.79 1138.15,1333.79 1138.65,1333.8 1139.16,1333.8 1139.66,1333.8 1140.17,1333.81 \n",
       "  1140.67,1333.81 1141.18,1333.82 1141.68,1333.82 1142.19,1333.82 1142.69,1333.83 1143.2,1333.83 1143.7,1333.83 1144.21,1333.84 1144.71,1333.84 1145.22,1333.85 \n",
       "  1145.72,1333.85 1146.23,1333.85 1146.73,1333.86 1147.24,1333.86 1147.75,1333.86 1148.25,1333.87 1148.76,1333.87 1149.26,1333.88 1149.77,1333.88 1150.27,1333.88 \n",
       "  1150.78,1333.89 1151.28,1333.89 1151.79,1333.89 1152.29,1333.9 1152.8,1333.9 1153.3,1333.9 1153.81,1333.91 1154.31,1333.91 1154.82,1333.91 1155.32,1333.92 \n",
       "  1155.83,1333.92 1156.33,1333.92 1156.84,1333.93 1157.35,1333.93 1157.85,1333.93 1158.36,1333.94 1158.86,1333.94 1159.37,1333.94 1159.87,1333.95 1160.38,1333.95 \n",
       "  1160.88,1333.95 1161.39,1333.96 1161.89,1333.96 1162.4,1333.96 1162.9,1333.97 1163.41,1333.97 1163.91,1333.97 1164.42,1333.98 1164.92,1333.98 1165.43,1333.98 \n",
       "  1165.93,1333.99 1166.44,1333.99 1166.95,1333.99 1167.45,1334 1167.96,1334 1168.46,1334 1168.97,1334.01 1169.47,1334.01 1169.98,1334.01 1170.48,1334.02 \n",
       "  1170.99,1334.02 1171.49,1334.02 1172,1334.03 1172.5,1334.03 1173.01,1334.03 1173.51,1334.03 1174.02,1334.04 1174.52,1334.04 1175.03,1334.04 1175.53,1334.05 \n",
       "  1176.04,1334.05 1176.54,1334.05 1177.05,1334.06 1177.56,1334.06 1178.06,1334.06 1178.57,1334.06 1179.07,1334.07 1179.58,1334.07 1180.08,1334.07 1180.59,1334.08 \n",
       "  1181.09,1334.08 1181.6,1334.08 1182.1,1334.09 1182.61,1334.09 1183.11,1334.09 1183.62,1334.09 1184.12,1334.1 1184.63,1334.1 1185.13,1334.1 1185.64,1334.11 \n",
       "  1186.14,1334.11 1186.65,1334.11 1187.16,1334.11 1187.66,1334.12 1188.17,1334.12 1188.67,1334.12 1189.18,1334.13 1189.68,1334.13 1190.19,1334.13 1190.69,1334.13 \n",
       "  1191.2,1334.14 1191.7,1334.14 1192.21,1334.14 1192.71,1334.14 1193.22,1334.15 1193.72,1334.15 1194.23,1334.15 1194.73,1334.16 1195.24,1334.16 1195.74,1334.16 \n",
       "  1196.25,1334.16 1196.75,1334.17 1197.26,1334.17 1197.77,1334.17 1198.27,1334.17 1198.78,1334.18 1199.28,1334.18 1199.79,1334.18 1200.29,1334.19 1200.8,1334.19 \n",
       "  1201.3,1334.19 1201.81,1334.19 1202.31,1334.2 1202.82,1334.2 1203.32,1334.2 1203.83,1334.2 1204.33,1334.21 1204.84,1334.21 1205.34,1334.21 1205.85,1334.21 \n",
       "  1206.35,1334.22 1206.86,1334.22 1207.37,1334.22 1207.87,1334.22 1208.38,1334.23 1208.88,1334.23 1209.39,1334.23 1209.89,1334.23 1210.4,1334.24 1210.9,1334.24 \n",
       "  1211.41,1334.24 1211.91,1334.24 1212.42,1334.25 1212.92,1334.25 1213.43,1334.25 1213.93,1334.25 1214.44,1334.26 1214.94,1334.26 1215.45,1334.26 1215.95,1334.26 \n",
       "  1216.46,1334.27 1216.96,1334.27 1217.47,1334.27 1217.98,1334.27 1218.48,1334.28 1218.99,1334.28 1219.49,1334.28 1220,1334.28 1220.5,1334.29 1221.01,1334.29 \n",
       "  1221.51,1334.29 1222.02,1334.29 1222.52,1334.3 1223.03,1334.3 1223.53,1334.3 1224.04,1334.3 1224.54,1334.3 1225.05,1334.31 1225.55,1334.31 1226.06,1334.31 \n",
       "  1226.56,1334.31 1227.07,1334.32 1227.58,1334.32 1228.08,1334.32 1228.59,1334.32 1229.09,1334.33 1229.6,1334.33 1230.1,1334.33 1230.61,1334.33 1231.11,1334.33 \n",
       "  1231.62,1334.34 1232.12,1334.34 1232.63,1334.34 1233.13,1334.34 1233.64,1334.35 1234.14,1334.35 1234.65,1334.35 1235.15,1334.35 1235.66,1334.36 1236.16,1334.36 \n",
       "  1236.67,1334.36 1237.18,1334.36 1237.68,1334.36 1238.19,1334.37 1238.69,1334.37 1239.2,1334.37 1239.7,1334.37 1240.21,1334.37 1240.71,1334.38 1241.22,1334.38 \n",
       "  1241.72,1334.38 1242.23,1334.38 1242.73,1334.39 1243.24,1334.39 1243.74,1334.39 1244.25,1334.39 1244.75,1334.39 1245.26,1334.4 1245.76,1334.4 1246.27,1334.4 \n",
       "  1246.77,1334.4 1247.28,1334.4 1247.79,1334.41 1248.29,1334.41 1248.8,1334.41 1249.3,1334.41 1249.81,1334.42 1250.31,1334.42 1250.82,1334.42 1251.32,1334.42 \n",
       "  1251.83,1334.42 1252.33,1334.43 1252.84,1334.43 1253.34,1334.43 1253.85,1334.43 1254.35,1334.43 1254.86,1334.44 1255.36,1334.44 1255.87,1334.44 1256.37,1334.44 \n",
       "  1256.88,1334.44 1257.39,1334.45 1257.89,1334.45 1258.4,1334.45 1258.9,1334.45 1259.41,1334.45 1259.91,1334.46 1260.42,1334.46 1260.92,1334.46 1261.43,1334.46 \n",
       "  1261.93,1334.46 1262.44,1334.47 1262.94,1334.47 1263.45,1334.47 1263.95,1334.47 1264.46,1334.47 1264.96,1334.48 1265.47,1334.48 1265.97,1334.48 1266.48,1334.48 \n",
       "  1266.98,1334.48 1267.49,1334.49 1268,1334.49 1268.5,1334.49 1269.01,1334.49 1269.51,1334.49 1270.02,1334.5 1270.52,1334.5 1271.03,1334.5 1271.53,1334.5 \n",
       "  1272.04,1334.5 1272.54,1334.5 1273.05,1334.51 1273.55,1334.51 1274.06,1334.51 1274.56,1334.51 1275.07,1334.51 1275.57,1334.52 1276.08,1334.52 1276.58,1334.52 \n",
       "  1277.09,1334.52 1277.6,1334.52 1278.1,1334.52 1278.61,1334.53 1279.11,1334.53 1279.62,1334.53 1280.12,1334.53 1280.63,1334.53 1281.13,1334.54 1281.64,1334.54 \n",
       "  1282.14,1334.54 1282.65,1334.54 1283.15,1334.54 1283.66,1334.54 1284.16,1334.55 1284.67,1334.55 1285.17,1334.55 1285.68,1334.55 1286.18,1334.55 1286.69,1334.56 \n",
       "  1287.19,1334.56 1287.7,1334.56 1288.21,1334.56 1288.71,1334.56 1289.22,1334.56 1289.72,1334.57 1290.23,1334.57 1290.73,1334.57 1291.24,1334.57 1291.74,1334.57 \n",
       "  1292.25,1334.57 1292.75,1334.58 1293.26,1334.58 1293.76,1334.58 1294.27,1334.58 1294.77,1334.58 1295.28,1334.59 1295.78,1334.59 1296.29,1334.59 1296.79,1334.59 \n",
       "  1297.3,1334.59 1297.81,1334.59 1298.31,1334.6 1298.82,1334.6 1299.32,1334.6 1299.83,1334.6 1300.33,1334.6 1300.84,1334.6 1301.34,1334.61 1301.85,1334.61 \n",
       "  1302.35,1334.61 1302.86,1334.61 1303.36,1334.61 1303.87,1334.61 1304.37,1334.62 1304.88,1334.62 1305.38,1334.62 1305.89,1334.62 1306.39,1334.62 1306.9,1334.62 \n",
       "  1307.41,1334.62 1307.91,1334.63 1308.42,1334.63 1308.92,1334.63 1309.43,1334.63 1309.93,1334.63 1310.44,1334.63 1310.94,1334.64 1311.45,1334.64 1311.95,1334.64 \n",
       "  1312.46,1334.64 1312.96,1334.64 1313.47,1334.64 1313.97,1334.65 1314.48,1334.65 1314.98,1334.65 1315.49,1334.65 1315.99,1334.65 1316.5,1334.65 1317,1334.66 \n",
       "  1317.51,1334.66 1318.02,1334.66 1318.52,1334.66 1319.03,1334.66 1319.53,1334.66 1320.04,1334.66 1320.54,1334.67 1321.05,1334.67 1321.55,1334.67 1322.06,1334.67 \n",
       "  1322.56,1334.67 1323.07,1334.67 1323.57,1334.68 1324.08,1334.68 1324.58,1334.68 1325.09,1334.68 1325.59,1334.68 1326.1,1334.68 1326.6,1334.68 1327.11,1334.69 \n",
       "  1327.62,1334.69 1328.12,1334.69 1328.63,1334.69 1329.13,1334.69 1329.64,1334.69 1330.14,1334.69 1330.65,1334.7 1331.15,1334.7 1331.66,1334.7 1332.16,1334.7 \n",
       "  1332.67,1334.7 1333.17,1334.7 1333.68,1334.7 1334.18,1334.71 1334.69,1334.71 1335.19,1334.71 1335.7,1334.71 1336.2,1334.71 1336.71,1334.71 1337.21,1334.72 \n",
       "  1337.72,1334.72 1338.23,1334.72 1338.73,1334.72 1339.24,1334.72 1339.74,1334.72 1340.25,1334.72 1340.75,1334.73 1341.26,1334.73 1341.76,1334.73 1342.27,1334.73 \n",
       "  1342.77,1334.73 1343.28,1334.73 1343.78,1334.73 1344.29,1334.74 1344.79,1334.74 1345.3,1334.74 1345.8,1334.74 1346.31,1334.74 1346.81,1334.74 1347.32,1334.74 \n",
       "  1347.83,1334.75 1348.33,1334.75 1348.84,1334.75 1349.34,1334.75 1349.85,1334.75 1350.35,1334.75 1350.86,1334.75 1351.36,1334.75 1351.87,1334.76 1352.37,1334.76 \n",
       "  1352.88,1334.76 1353.38,1334.76 1353.89,1334.76 1354.39,1334.76 1354.9,1334.76 1355.4,1334.77 1355.91,1334.77 1356.41,1334.77 1356.92,1334.77 1357.42,1334.77 \n",
       "  1357.93,1334.77 1358.44,1334.77 1358.94,1334.77 1359.45,1334.78 1359.95,1334.78 1360.46,1334.78 1360.96,1334.78 1361.47,1334.78 1361.97,1334.78 1362.48,1334.78 \n",
       "  1362.98,1334.78 1363.49,1334.79 1363.99,1334.79 1364.5,1334.79 1365,1334.79 1365.51,1334.79 1366.01,1334.79 1366.52,1334.79 1367.02,1334.79 1367.53,1334.8 \n",
       "  1368.04,1334.8 1368.54,1334.8 1369.05,1334.8 1369.55,1334.8 1370.06,1334.8 1370.56,1334.8 1371.07,1334.8 1371.57,1334.81 1372.08,1334.81 1372.58,1334.81 \n",
       "  1373.09,1334.81 1373.59,1334.81 1374.1,1334.81 1374.6,1334.81 1375.11,1334.81 1375.61,1334.82 1376.12,1334.82 1376.62,1334.82 1377.13,1334.82 1377.64,1334.82 \n",
       "  1378.14,1334.82 1378.65,1334.82 1379.15,1334.82 1379.66,1334.83 1380.16,1334.83 1380.67,1334.83 1381.17,1334.83 1381.68,1334.83 1382.18,1334.83 1382.69,1334.83 \n",
       "  1383.19,1334.83 1383.7,1334.84 1384.2,1334.84 1384.71,1334.84 1385.21,1334.84 1385.72,1334.84 1386.22,1334.84 1386.73,1334.84 1387.23,1334.84 1387.74,1334.84 \n",
       "  1388.25,1334.85 1388.75,1334.85 1389.26,1334.85 1389.76,1334.85 1390.27,1334.85 1390.77,1334.85 1391.28,1334.85 1391.78,1334.85 1392.29,1334.85 1392.79,1334.86 \n",
       "  1393.3,1334.86 1393.8,1334.86 1394.31,1334.86 1394.81,1334.86 1395.32,1334.86 1395.82,1334.86 1396.33,1334.86 1396.83,1334.86 1397.34,1334.87 1397.85,1334.87 \n",
       "  1398.35,1334.87 1398.86,1334.87 1399.36,1334.87 1399.87,1334.87 1400.37,1334.87 1400.88,1334.87 1401.38,1334.87 1401.89,1334.88 1402.39,1334.88 1402.9,1334.88 \n",
       "  1403.4,1334.88 1403.91,1334.88 1404.41,1334.88 1404.92,1334.88 1405.42,1334.88 1405.93,1334.88 1406.43,1334.89 1406.94,1334.89 1407.44,1334.89 1407.95,1334.89 \n",
       "  1408.46,1334.89 1408.96,1334.89 1409.47,1334.89 1409.97,1334.89 1410.48,1334.89 1410.98,1334.89 1411.49,1334.9 1411.99,1334.9 1412.5,1334.9 1413,1334.9 \n",
       "  1413.51,1334.9 1414.01,1334.9 1414.52,1334.9 1415.02,1334.9 1415.53,1334.9 1416.03,1334.91 1416.54,1334.91 1417.04,1334.91 1417.55,1334.91 1418.06,1334.91 \n",
       "  1418.56,1334.91 1419.07,1334.91 1419.57,1334.91 1420.08,1334.91 1420.58,1334.91 1421.09,1334.92 1421.59,1334.92 1422.1,1334.92 1422.6,1334.92 1423.11,1334.92 \n",
       "  1423.61,1334.92 1424.12,1334.92 1424.62,1334.92 1425.13,1334.92 1425.63,1334.92 1426.14,1334.93 1426.64,1334.93 1427.15,1334.93 1427.65,1334.93 1428.16,1334.93 \n",
       "  1428.67,1334.93 1429.17,1334.93 1429.68,1334.93 1430.18,1334.93 1430.69,1334.93 1431.19,1334.93 1431.7,1334.94 1432.2,1334.94 1432.71,1334.94 1433.21,1334.94 \n",
       "  1433.72,1334.94 1434.22,1334.94 1434.73,1334.94 1435.23,1334.94 1435.74,1334.94 1436.24,1334.94 1436.75,1334.94 1437.25,1334.95 1437.76,1334.95 1438.27,1334.95 \n",
       "  1438.77,1334.95 1439.28,1334.95 1439.78,1334.95 1440.29,1334.95 1440.79,1334.95 1441.3,1334.95 1441.8,1334.95 1442.31,1334.95 1442.81,1334.96 1443.32,1334.96 \n",
       "  1443.82,1334.96 1444.33,1334.96 1444.83,1334.96 1445.34,1334.96 1445.84,1334.96 1446.35,1334.96 1446.85,1334.96 1447.36,1334.96 1447.87,1334.96 1448.37,1334.97 \n",
       "  1448.88,1334.97 1449.38,1334.97 1449.89,1334.97 1450.39,1334.97 1450.9,1334.97 1451.4,1334.97 1451.91,1334.97 1452.41,1334.97 1452.92,1334.97 1453.42,1334.97 \n",
       "  1453.93,1334.97 1454.43,1334.98 1454.94,1334.98 1455.44,1334.98 1455.95,1334.98 1456.45,1334.98 1456.96,1334.98 1457.46,1334.98 1457.97,1334.98 1458.48,1334.98 \n",
       "  1458.98,1334.98 1459.49,1334.98 1459.99,1334.98 1460.5,1334.99 1461,1334.99 1461.51,1334.99 1462.01,1334.99 1462.52,1334.99 1463.02,1334.99 1463.53,1334.99 \n",
       "  1464.03,1334.99 1464.54,1334.99 1465.04,1334.99 1465.55,1334.99 1466.05,1334.99 1466.56,1334.99 1467.06,1335 1467.57,1335 1468.08,1335 1468.58,1335 \n",
       "  1469.09,1335 1469.59,1335 1470.1,1335 1470.6,1335 1471.11,1335 1471.61,1335 1472.12,1335 1472.62,1335 1473.13,1335 1473.63,1335.01 \n",
       "  1474.14,1335.01 1474.64,1335.01 1475.15,1335.01 1475.65,1335.01 1476.16,1335.01 1476.66,1335.01 1477.17,1335.01 1477.67,1335.01 1478.18,1335.01 1478.69,1335.01 \n",
       "  1479.19,1335.01 1479.7,1335.01 1480.2,1335.01 1480.71,1335.02 1481.21,1335.02 1481.72,1335.02 1482.22,1335.02 1482.73,1335.02 1483.23,1335.02 1483.74,1335.02 \n",
       "  1484.24,1335.02 1484.75,1335.02 1485.25,1335.02 1485.76,1335.02 1486.26,1335.02 1486.77,1335.02 1487.27,1335.02 1487.78,1335.03 1488.29,1335.03 1488.79,1335.03 \n",
       "  1489.3,1335.03 1489.8,1335.03 1490.31,1335.03 1490.81,1335.03 1491.32,1335.03 1491.82,1335.03 1492.33,1335.03 1492.83,1335.03 1493.34,1335.03 1493.84,1335.03 \n",
       "  1494.35,1335.03 1494.85,1335.03 1495.36,1335.04 1495.86,1335.04 1496.37,1335.04 1496.87,1335.04 1497.38,1335.04 1497.88,1335.04 1498.39,1335.04 1498.9,1335.04 \n",
       "  1499.4,1335.04 1499.91,1335.04 1500.41,1335.04 1500.92,1335.04 1501.42,1335.04 1501.93,1335.04 1502.43,1335.04 1502.94,1335.04 1503.44,1335.05 1503.95,1335.05 \n",
       "  1504.45,1335.05 1504.96,1335.05 1505.46,1335.05 1505.97,1335.05 1506.47,1335.05 1506.98,1335.05 1507.48,1335.05 1507.99,1335.05 1508.5,1335.05 1509,1335.05 \n",
       "  1509.51,1335.05 1510.01,1335.05 1510.52,1335.05 1511.02,1335.05 1511.53,1335.06 1512.03,1335.06 1512.54,1335.06 1513.04,1335.06 1513.55,1335.06 1514.05,1335.06 \n",
       "  1514.56,1335.06 1515.06,1335.06 1515.57,1335.06 1516.07,1335.06 1516.58,1335.06 1517.08,1335.06 1517.59,1335.06 1518.1,1335.06 1518.6,1335.06 1519.11,1335.06 \n",
       "  1519.61,1335.06 1520.12,1335.06 1520.62,1335.06 1521.13,1335.07 1521.63,1335.07 1522.14,1335.07 1522.64,1335.07 1523.15,1335.07 1523.65,1335.07 1524.16,1335.07 \n",
       "  1524.66,1335.07 1525.17,1335.07 1525.67,1335.07 1526.18,1335.07 1526.68,1335.07 1527.19,1335.07 1527.69,1335.07 1528.2,1335.07 1528.71,1335.07 1529.21,1335.07 \n",
       "  1529.72,1335.07 1530.22,1335.07 1530.73,1335.08 1531.23,1335.08 1531.74,1335.08 1532.24,1335.08 1532.75,1335.08 1533.25,1335.08 1533.76,1335.08 1534.26,1335.08 \n",
       "  1534.77,1335.08 1535.27,1335.08 1535.78,1335.08 1536.28,1335.08 1536.79,1335.08 1537.29,1335.08 1537.8,1335.08 1538.31,1335.08 1538.81,1335.08 1539.32,1335.08 \n",
       "  1539.82,1335.08 1540.33,1335.09 1540.83,1335.09 1541.34,1335.09 1541.84,1335.09 1542.35,1335.09 1542.85,1335.09 1543.36,1335.09 1543.86,1335.09 1544.37,1335.09 \n",
       "  1544.87,1335.09 1545.38,1335.09 1545.88,1335.09 1546.39,1335.09 1546.89,1335.09 1547.4,1335.09 1547.9,1335.09 1548.41,1335.09 1548.92,1335.09 1549.42,1335.09 \n",
       "  1549.93,1335.09 1550.43,1335.09 1550.94,1335.09 1551.44,1335.1 1551.95,1335.1 1552.45,1335.1 1552.96,1335.1 1553.46,1335.1 1553.97,1335.1 1554.47,1335.1 \n",
       "  1554.98,1335.1 1555.48,1335.1 1555.99,1335.1 1556.49,1335.1 1557,1335.1 1557.5,1335.1 1558.01,1335.1 1558.52,1335.1 1559.02,1335.1 1559.53,1335.1 \n",
       "  1560.03,1335.1 1560.54,1335.1 1561.04,1335.1 1561.55,1335.1 1562.05,1335.1 1562.56,1335.1 1563.06,1335.1 1563.57,1335.1 1564.07,1335.11 1564.58,1335.11 \n",
       "  1565.08,1335.11 1565.59,1335.11 1566.09,1335.11 1566.6,1335.11 1567.1,1335.11 1567.61,1335.11 1568.11,1335.11 1568.62,1335.11 1569.13,1335.11 1569.63,1335.11 \n",
       "  1570.14,1335.11 1570.64,1335.11 1571.15,1335.11 1571.65,1335.11 1572.16,1335.11 1572.66,1335.11 1573.17,1335.11 1573.67,1335.11 1574.18,1335.11 1574.68,1335.11 \n",
       "  1575.19,1335.11 1575.69,1335.11 1576.2,1335.11 1576.7,1335.11 1577.21,1335.12 1577.71,1335.12 1578.22,1335.12 1578.73,1335.12 1579.23,1335.12 1579.74,1335.12 \n",
       "  1580.24,1335.12 1580.75,1335.12 1581.25,1335.12 1581.76,1335.12 1582.26,1335.12 1582.77,1335.12 1583.27,1335.12 1583.78,1335.12 1584.28,1335.12 1584.79,1335.12 \n",
       "  1585.29,1335.12 1585.8,1335.12 1586.3,1335.12 1586.81,1335.12 1587.31,1335.12 1587.82,1335.12 1588.33,1335.12 1588.83,1335.12 1589.34,1335.12 1589.84,1335.12 \n",
       "  1590.35,1335.12 1590.85,1335.12 1591.36,1335.12 1591.86,1335.12 1592.37,1335.12 1592.87,1335.12 1593.38,1335.13 1593.88,1335.13 1594.39,1335.13 1594.89,1335.13 \n",
       "  1595.4,1335.13 1595.9,1335.13 1596.41,1335.13 1596.91,1335.13 1597.42,1335.13 1597.92,1335.13 1598.43,1335.13 1598.94,1335.13 1599.44,1335.13 1599.95,1335.13 \n",
       "  1600.45,1335.13 1600.96,1335.13 1601.46,1335.13 1601.97,1335.13 1602.47,1335.13 1602.98,1335.13 1603.48,1335.13 1603.99,1335.13 1604.49,1335.13 1605,1335.13 \n",
       "  1605.5,1335.13 1606.01,1335.13 1606.51,1335.13 1607.02,1335.13 1607.52,1335.13 1608.03,1335.13 1608.54,1335.13 1609.04,1335.13 1609.55,1335.13 1610.05,1335.13 \n",
       "  1610.56,1335.13 1611.06,1335.14 1611.57,1335.14 1612.07,1335.14 1612.58,1335.14 1613.08,1335.14 1613.59,1335.14 1614.09,1335.14 1614.6,1335.14 1615.1,1335.14 \n",
       "  1615.61,1335.14 1616.11,1335.14 1616.62,1335.14 1617.12,1335.14 1617.63,1335.14 1618.13,1335.14 1618.64,1335.14 1619.15,1335.14 1619.65,1335.14 1620.16,1335.14 \n",
       "  1620.66,1335.14 1621.17,1335.14 1621.67,1335.14 1622.18,1335.14 1622.68,1335.14 1623.19,1335.14 1623.69,1335.14 1624.2,1335.14 1624.7,1335.14 1625.21,1335.14 \n",
       "  1625.71,1335.14 1626.22,1335.14 1626.72,1335.14 1627.23,1335.14 1627.73,1335.14 1628.24,1335.14 1628.75,1335.14 1629.25,1335.14 1629.76,1335.14 1630.26,1335.14 \n",
       "  1630.77,1335.14 1631.27,1335.14 1631.78,1335.14 1632.28,1335.15 1632.79,1335.15 1633.29,1335.15 1633.8,1335.15 1634.3,1335.15 1634.81,1335.15 1635.31,1335.15 \n",
       "  1635.82,1335.15 1636.32,1335.15 1636.83,1335.15 1637.33,1335.15 1637.84,1335.15 1638.34,1335.15 1638.85,1335.15 1639.36,1335.15 1639.86,1335.15 1640.37,1335.15 \n",
       "  1640.87,1335.15 1641.38,1335.15 1641.88,1335.15 1642.39,1335.15 1642.89,1335.15 1643.4,1335.15 1643.9,1335.15 1644.41,1335.15 1644.91,1335.15 1645.42,1335.15 \n",
       "  1645.92,1335.15 1646.43,1335.15 1646.93,1335.15 1647.44,1335.15 1647.94,1335.15 1648.45,1335.15 1648.96,1335.15 1649.46,1335.15 1649.97,1335.15 1650.47,1335.15 \n",
       "  1650.98,1335.15 1651.48,1335.15 1651.99,1335.15 1652.49,1335.15 1653,1335.15 1653.5,1335.15 1654.01,1335.15 1654.51,1335.15 1655.02,1335.15 1655.52,1335.15 \n",
       "  1656.03,1335.15 1656.53,1335.15 1657.04,1335.15 1657.54,1335.15 1658.05,1335.15 1658.56,1335.16 1659.06,1335.16 1659.57,1335.16 1660.07,1335.16 1660.58,1335.16 \n",
       "  1661.08,1335.16 1661.59,1335.16 1662.09,1335.16 1662.6,1335.16 1663.1,1335.16 1663.61,1335.16 1664.11,1335.16 1664.62,1335.16 1665.12,1335.16 1665.63,1335.16 \n",
       "  1666.13,1335.16 1666.64,1335.16 1667.14,1335.16 1667.65,1335.16 1668.15,1335.16 1668.66,1335.16 1669.17,1335.16 1669.67,1335.16 1670.18,1335.16 1670.68,1335.16 \n",
       "  1671.19,1335.16 1671.69,1335.16 1672.2,1335.16 1672.7,1335.16 1673.21,1335.16 1673.71,1335.16 1674.22,1335.16 1674.72,1335.16 1675.23,1335.16 1675.73,1335.16 \n",
       "  1676.24,1335.16 1676.74,1335.16 1677.25,1335.16 1677.75,1335.16 1678.26,1335.16 1678.77,1335.16 1679.27,1335.16 1679.78,1335.16 1680.28,1335.16 1680.79,1335.16 \n",
       "  1681.29,1335.16 1681.8,1335.16 1682.3,1335.16 1682.81,1335.16 1683.31,1335.16 1683.82,1335.16 1684.32,1335.16 1684.83,1335.16 1685.33,1335.16 1685.84,1335.16 \n",
       "  1686.34,1335.16 1686.85,1335.16 1687.35,1335.16 1687.86,1335.16 1688.36,1335.16 1688.87,1335.16 1689.38,1335.16 1689.88,1335.16 1690.39,1335.16 1690.89,1335.16 \n",
       "  1691.4,1335.16 1691.9,1335.16 1692.41,1335.16 1692.91,1335.16 1693.42,1335.16 1693.92,1335.16 1694.43,1335.17 1694.93,1335.17 1695.44,1335.17 1695.94,1335.17 \n",
       "  1696.45,1335.17 1696.95,1335.17 1697.46,1335.17 1697.96,1335.17 1698.47,1335.17 1698.98,1335.17 1699.48,1335.17 1699.99,1335.17 1700.49,1335.17 1701,1335.17 \n",
       "  1701.5,1335.17 1702.01,1335.17 1702.51,1335.17 1703.02,1335.17 1703.52,1335.17 1704.03,1335.17 1704.53,1335.17 1705.04,1335.17 1705.54,1335.17 1706.05,1335.17 \n",
       "  1706.55,1335.17 1707.06,1335.17 1707.56,1335.17 1708.07,1335.17 1708.57,1335.17 1709.08,1335.17 1709.59,1335.17 1710.09,1335.17 1710.6,1335.17 1711.1,1335.17 \n",
       "  1711.61,1335.17 1712.11,1335.17 1712.62,1335.17 1713.12,1335.17 1713.63,1335.17 1714.13,1335.17 1714.64,1335.17 1715.14,1335.17 1715.65,1335.17 1716.15,1335.17 \n",
       "  1716.66,1335.17 1717.16,1335.17 1717.67,1335.17 1718.17,1335.17 1718.68,1335.17 1719.19,1335.17 1719.69,1335.17 1720.2,1335.17 1720.7,1335.17 1721.21,1335.17 \n",
       "  1721.71,1335.17 1722.22,1335.17 1722.72,1335.17 1723.23,1335.17 1723.73,1335.17 1724.24,1335.17 1724.74,1335.17 1725.25,1335.17 1725.75,1335.17 1726.26,1335.17 \n",
       "  1726.76,1335.17 1727.27,1335.17 1727.77,1335.17 1728.28,1335.17 1728.79,1335.17 1729.29,1335.17 1729.8,1335.17 1730.3,1335.17 1730.81,1335.17 1731.31,1335.17 \n",
       "  1731.82,1335.17 1732.32,1335.17 1732.83,1335.17 1733.33,1335.17 1733.84,1335.17 1734.34,1335.17 1734.85,1335.17 1735.35,1335.17 1735.86,1335.17 1736.36,1335.17 \n",
       "  1736.87,1335.17 1737.37,1335.17 1737.88,1335.17 1738.38,1335.17 1738.89,1335.17 1739.4,1335.17 1739.9,1335.17 1740.41,1335.17 1740.91,1335.17 1741.42,1335.17 \n",
       "  1741.92,1335.17 1742.43,1335.17 1742.93,1335.17 1743.44,1335.17 1743.94,1335.17 1744.45,1335.17 1744.95,1335.17 1745.46,1335.17 1745.96,1335.17 1746.47,1335.17 \n",
       "  1746.97,1335.17 1747.48,1335.17 1747.98,1335.17 1748.49,1335.17 1749,1335.18 1749.5,1335.18 1750.01,1335.18 1750.51,1335.18 1751.02,1335.18 1751.52,1335.18 \n",
       "  1752.03,1335.18 1752.53,1335.18 1753.04,1335.18 1753.54,1335.18 1754.05,1335.18 1754.55,1335.18 1755.06,1335.18 1755.56,1335.18 1756.07,1335.18 1756.57,1335.18 \n",
       "  1757.08,1335.18 1757.58,1335.18 1758.09,1335.18 1758.59,1335.18 1759.1,1335.18 1759.61,1335.18 1760.11,1335.18 1760.62,1335.18 1761.12,1335.18 1761.63,1335.18 \n",
       "  1762.13,1335.18 1762.64,1335.18 1763.14,1335.18 1763.65,1335.18 1764.15,1335.18 1764.66,1335.18 1765.16,1335.18 1765.67,1335.18 1766.17,1335.18 1766.68,1335.18 \n",
       "  1767.18,1335.18 1767.69,1335.18 1768.19,1335.18 1768.7,1335.18 1769.21,1335.18 1769.71,1335.18 1770.22,1335.18 1770.72,1335.18 1771.23,1335.18 1771.73,1335.18 \n",
       "  1772.24,1335.18 1772.74,1335.18 1773.25,1335.18 1773.75,1335.18 1774.26,1335.18 1774.76,1335.18 1775.27,1335.18 1775.77,1335.18 1776.28,1335.18 1776.78,1335.18 \n",
       "  1777.29,1335.18 1777.79,1335.18 1778.3,1335.18 1778.8,1335.18 1779.31,1335.18 1779.82,1335.18 1780.32,1335.18 1780.83,1335.18 1781.33,1335.18 1781.84,1335.18 \n",
       "  1782.34,1335.18 1782.85,1335.18 1783.35,1335.18 1783.86,1335.18 1784.36,1335.18 1784.87,1335.18 1785.37,1335.18 1785.88,1335.18 1786.38,1335.18 1786.89,1335.18 \n",
       "  1787.39,1335.18 1787.9,1335.18 1788.4,1335.18 1788.91,1335.18 1789.42,1335.18 1789.92,1335.18 1790.43,1335.18 1790.93,1335.18 1791.44,1335.18 1791.94,1335.18 \n",
       "  1792.45,1335.18 1792.95,1335.18 1793.46,1335.18 1793.96,1335.18 1794.47,1335.18 1794.97,1335.18 1795.48,1335.18 1795.98,1335.18 1796.49,1335.18 1796.99,1335.18 \n",
       "  1797.5,1335.18 1798,1335.18 1798.51,1335.18 1799.02,1335.18 1799.52,1335.18 1800.03,1335.18 1800.53,1335.18 1801.04,1335.18 1801.54,1335.18 1802.05,1335.18 \n",
       "  1802.55,1335.18 1803.06,1335.18 1803.56,1335.18 1804.07,1335.18 1804.57,1335.18 1805.08,1335.18 1805.58,1335.18 1806.09,1335.18 1806.59,1335.18 1807.1,1335.18 \n",
       "  1807.6,1335.18 1808.11,1335.18 1808.61,1335.18 1809.12,1335.18 1809.63,1335.18 1810.13,1335.18 1810.64,1335.18 1811.14,1335.18 1811.65,1335.18 1812.15,1335.18 \n",
       "  1812.66,1335.18 1813.16,1335.18 1813.67,1335.18 1814.17,1335.18 1814.68,1335.18 1815.18,1335.18 1815.69,1335.18 1816.19,1335.18 1816.7,1335.18 1817.2,1335.18 \n",
       "  1817.71,1335.18 1818.21,1335.18 1818.72,1335.18 1819.23,1335.18 1819.73,1335.18 1820.24,1335.18 1820.74,1335.18 1821.25,1335.18 1821.75,1335.18 1822.26,1335.18 \n",
       "  1822.76,1335.18 1823.27,1335.18 1823.77,1335.18 1824.28,1335.18 1824.78,1335.18 1825.29,1335.18 1825.79,1335.18 1826.3,1335.18 1826.8,1335.18 1827.31,1335.18 \n",
       "  1827.81,1335.18 1828.32,1335.18 1828.82,1335.18 1829.33,1335.18 1829.84,1335.18 1830.34,1335.18 1830.85,1335.18 1831.35,1335.18 1831.86,1335.18 1832.36,1335.18 \n",
       "  1832.87,1335.18 1833.37,1335.18 1833.88,1335.18 1834.38,1335.18 1834.89,1335.18 1835.39,1335.18 1835.9,1335.18 1836.4,1335.18 1836.91,1335.18 1837.41,1335.18 \n",
       "  1837.92,1335.18 1838.42,1335.18 1838.93,1335.18 1839.44,1335.18 1839.94,1335.18 1840.45,1335.18 1840.95,1335.18 1841.46,1335.18 1841.96,1335.18 1842.47,1335.18 \n",
       "  1842.97,1335.18 1843.48,1335.18 1843.98,1335.18 1844.49,1335.18 1844.99,1335.18 1845.5,1335.18 1846,1335.18 1846.51,1335.18 1847.01,1335.18 1847.52,1335.18 \n",
       "  1848.02,1335.18 1848.53,1335.18 1849.03,1335.18 1849.54,1335.18 1850.05,1335.18 1850.55,1335.18 1851.06,1335.18 1851.56,1335.18 1852.07,1335.18 1852.57,1335.18 \n",
       "  1853.08,1335.18 1853.58,1335.18 1854.09,1335.18 1854.59,1335.18 1855.1,1335.18 1855.6,1335.18 1856.11,1335.18 1856.61,1335.18 1857.12,1335.18 1857.62,1335.18 \n",
       "  1858.13,1335.18 1858.63,1335.18 1859.14,1335.18 1859.65,1335.18 1860.15,1335.18 1860.66,1335.18 1861.16,1335.18 1861.67,1335.18 1862.17,1335.18 1862.68,1335.18 \n",
       "  1863.18,1335.18 1863.69,1335.18 1864.19,1335.18 1864.7,1335.18 1865.2,1335.18 1865.71,1335.18 1866.21,1335.18 1866.72,1335.18 1867.22,1335.18 1867.73,1335.18 \n",
       "  1868.23,1335.18 1868.74,1335.18 1869.25,1335.18 1869.75,1335.18 1870.26,1335.18 1870.76,1335.18 1871.27,1335.18 1871.77,1335.18 1872.28,1335.18 1872.78,1335.18 \n",
       "  1873.29,1335.18 1873.79,1335.18 1874.3,1335.18 1874.8,1335.18 1875.31,1335.18 1875.81,1335.18 1876.32,1335.18 1876.82,1335.18 1877.33,1335.18 1877.83,1335.18 \n",
       "  1878.34,1335.18 1878.84,1335.18 1879.35,1335.18 1879.86,1335.18 1880.36,1335.18 1880.87,1335.18 1881.37,1335.18 1881.88,1335.18 1882.38,1335.18 1882.89,1335.18 \n",
       "  1883.39,1335.19 1883.9,1335.19 1884.4,1335.19 1884.91,1335.19 1885.41,1335.19 1885.92,1335.19 1886.42,1335.19 1886.93,1335.19 1887.43,1335.19 1887.94,1335.19 \n",
       "  1888.44,1335.19 1888.95,1335.19 1889.46,1335.19 1889.96,1335.19 1890.47,1335.19 1890.97,1335.19 1891.48,1335.19 1891.98,1335.19 1892.49,1335.19 1892.99,1335.19 \n",
       "  1893.5,1335.19 1894,1335.19 1894.51,1335.19 1895.01,1335.19 1895.52,1335.19 1896.02,1335.19 1896.53,1335.19 1897.03,1335.19 1897.54,1335.19 1898.04,1335.19 \n",
       "  1898.55,1335.19 1899.05,1335.19 1899.56,1335.19 1900.07,1335.19 1900.57,1335.19 1901.08,1335.19 1901.58,1335.19 1902.09,1335.19 1902.59,1335.19 1903.1,1335.19 \n",
       "  1903.6,1335.19 1904.11,1335.19 1904.61,1335.19 1905.12,1335.19 1905.62,1335.19 1906.13,1335.19 1906.63,1335.19 1907.14,1335.19 1907.64,1335.19 1908.15,1335.19 \n",
       "  1908.65,1335.19 1909.16,1335.19 1909.67,1335.19 1910.17,1335.19 1910.68,1335.19 1911.18,1335.19 1911.69,1335.19 1912.19,1335.19 1912.7,1335.19 1913.2,1335.19 \n",
       "  1913.71,1335.19 1914.21,1335.19 1914.72,1335.19 1915.22,1335.19 1915.73,1335.19 1916.23,1335.19 1916.74,1335.19 1917.24,1335.19 1917.75,1335.19 1918.25,1335.19 \n",
       "  1918.76,1335.19 1919.26,1335.19 1919.77,1335.19 1920.28,1335.19 1920.78,1335.19 1921.29,1335.19 1921.79,1335.19 1922.3,1335.19 1922.8,1335.19 1923.31,1335.19 \n",
       "  1923.81,1335.19 1924.32,1335.19 1924.82,1335.19 1925.33,1335.19 1925.83,1335.19 1926.34,1335.19 1926.84,1335.19 1927.35,1335.19 1927.85,1335.19 1928.36,1335.19 \n",
       "  1928.86,1335.19 1929.37,1335.19 1929.88,1335.19 1930.38,1335.19 1930.89,1335.19 1931.39,1335.19 1931.9,1335.19 1932.4,1335.19 1932.91,1335.19 1933.41,1335.19 \n",
       "  1933.92,1335.19 1934.42,1335.19 1934.93,1335.19 1935.43,1335.19 1935.94,1335.19 1936.44,1335.19 1936.95,1335.19 1937.45,1335.19 1937.96,1335.19 1938.46,1335.19 \n",
       "  1938.97,1335.19 1939.48,1335.19 1939.98,1335.19 1940.49,1335.19 1940.99,1335.19 1941.5,1335.19 1942,1335.19 1942.51,1335.19 1943.01,1335.19 1943.52,1335.19 \n",
       "  1944.02,1335.19 1944.53,1335.19 1945.03,1335.19 1945.54,1335.19 1946.04,1335.19 1946.55,1335.19 1947.05,1335.19 1947.56,1335.19 1948.06,1335.19 1948.57,1335.19 \n",
       "  1949.07,1335.19 1949.58,1335.19 1950.09,1335.19 1950.59,1335.19 1951.1,1335.19 1951.6,1335.19 1952.11,1335.19 1952.61,1335.19 1953.12,1335.19 1953.62,1335.19 \n",
       "  1954.13,1335.19 1954.63,1335.19 1955.14,1335.19 1955.64,1335.19 1956.15,1335.19 1956.65,1335.19 1957.16,1335.19 1957.66,1335.19 1958.17,1335.19 1958.67,1335.19 \n",
       "  1959.18,1335.19 1959.69,1335.19 1960.19,1335.19 1960.7,1335.19 1961.2,1335.19 1961.71,1335.19 1962.21,1335.19 1962.72,1335.19 1963.22,1335.19 1963.73,1335.19 \n",
       "  1964.23,1335.19 1964.74,1335.19 1965.24,1335.19 1965.75,1335.19 1966.25,1335.19 1966.76,1335.19 1967.26,1335.19 1967.77,1335.19 1968.27,1335.19 1968.78,1335.19 \n",
       "  1969.28,1335.19 1969.79,1335.19 1970.3,1335.19 1970.8,1335.19 1971.31,1335.19 1971.81,1335.19 1972.32,1335.19 1972.82,1335.19 1973.33,1335.19 1973.83,1335.19 \n",
       "  1974.34,1335.19 1974.84,1335.19 1975.35,1335.19 1975.85,1335.19 1976.36,1335.19 1976.86,1335.19 1977.37,1335.19 1977.87,1335.19 1978.38,1335.19 1978.88,1335.19 \n",
       "  1979.39,1335.19 1979.9,1335.19 1980.4,1335.19 1980.91,1335.19 1981.41,1335.19 1981.92,1335.19 1982.42,1335.19 1982.93,1335.19 1983.43,1335.19 1983.94,1335.19 \n",
       "  1984.44,1335.19 1984.95,1335.19 1985.45,1335.19 1985.96,1335.19 1986.46,1335.19 1986.97,1335.19 1987.47,1335.19 1987.98,1335.19 1988.48,1335.19 1988.99,1335.19 \n",
       "  1989.49,1335.19 1990,1335.19 1990.51,1335.19 1991.01,1335.19 1991.52,1335.19 1992.02,1335.19 1992.53,1335.19 1993.03,1335.19 1993.54,1335.19 1994.04,1335.19 \n",
       "  1994.55,1335.19 1995.05,1335.19 1995.56,1335.19 1996.06,1335.19 1996.57,1335.19 1997.07,1335.19 1997.58,1335.19 1998.08,1335.19 1998.59,1335.19 1999.09,1335.19 \n",
       "  1999.6,1335.19 2000.11,1335.19 2000.61,1335.19 2001.12,1335.19 2001.62,1335.19 2002.13,1335.19 2002.63,1335.19 2003.14,1335.19 2003.64,1335.19 2004.15,1335.19 \n",
       "  2004.65,1335.19 2005.16,1335.19 2005.66,1335.19 2006.17,1335.19 2006.67,1335.19 2007.18,1335.19 2007.68,1335.19 2008.19,1335.19 2008.69,1335.19 2009.2,1335.19 \n",
       "  2009.71,1335.19 2010.21,1335.19 2010.72,1335.19 2011.22,1335.19 2011.73,1335.19 2012.23,1335.19 2012.74,1335.19 2013.24,1335.19 2013.75,1335.19 2014.25,1335.19 \n",
       "  2014.76,1335.19 2015.26,1335.19 2015.77,1335.36 2016.27,1338.33 2016.78,1344.6 2017.28,1352.93 2017.79,1354.77 2018.29,1356.31 2018.8,1357.9 2019.3,1359.18 \n",
       "  2019.81,1359.53 2020.32,1359.73 2020.82,1359.89 2021.33,1360.03 2021.83,1360.13 2022.34,1360.22 2022.84,1360.3 2023.35,1360.37 2023.85,1360.43 2024.36,1360.48 \n",
       "  2024.86,1360.53 2025.37,1360.58 2025.87,1360.62 2026.38,1360.66 2026.88,1360.7 2027.39,1360.73 2027.89,1360.76 2028.4,1360.79 2028.9,1360.82 2029.41,1360.84 \n",
       "  2029.92,1360.87 2030.42,1360.89 2030.93,1360.91 2031.43,1360.93 2031.94,1360.96 2032.44,1360.97 2032.95,1360.99 2033.45,1361.01 2033.96,1361.03 2034.46,1361.05 \n",
       "  2034.97,1361.06 2035.47,1361.08 2035.98,1361.09 2036.48,1361.11 2036.99,1361.12 2037.49,1361.13 2038,1361.15 2038.5,1361.16 2039.01,1361.17 2039.51,1361.18 \n",
       "  2040.02,1361.19 2040.53,1361.2 2041.03,1361.22 2041.54,1361.23 2042.04,1361.24 2042.55,1361.25 2043.05,1361.26 2043.56,1361.27 2044.06,1361.28 2044.57,1361.28 \n",
       "  2045.07,1361.29 2045.58,1361.3 2046.08,1361.31 2046.59,1361.32 2047.09,1361.33 2047.6,1361.33 2048.1,1361.34 2048.61,1361.35 2049.11,1361.36 2049.62,1361.36 \n",
       "  2050.13,1361.37 2050.63,1361.38 2051.14,1361.38 2051.64,1361.39 2052.15,1361.4 2052.65,1361.4 2053.16,1361.41 2053.66,1361.42 2054.17,1361.42 2054.67,1361.43 \n",
       "  2055.18,1361.43 2055.68,1361.44 2056.19,1361.45 2056.69,1361.45 2057.2,1361.46 2057.7,1361.46 2058.21,1361.47 2058.71,1361.47 2059.22,1361.48 2059.73,1361.48 \n",
       "  2060.23,1361.49 2060.74,1361.49 2061.24,1361.5 2061.75,1361.5 2062.25,1361.51 2062.76,1361.51 2063.26,1361.52 2063.77,1361.52 2064.27,1361.52 2064.78,1361.53 \n",
       "  2065.28,1361.53 2065.79,1361.54 2066.29,1361.54 2066.8,1361.54 2067.3,1361.55 2067.81,1361.55 2068.31,1361.56 2068.82,1361.56 2069.32,1361.56 2069.83,1361.57 \n",
       "  2070.34,1361.57 2070.84,1361.58 2071.35,1361.58 2071.85,1361.58 2072.36,1361.59 2072.86,1361.59 2073.37,1361.59 2073.87,1361.6 2074.38,1361.6 2074.88,1361.6 \n",
       "  2075.39,1361.61 2075.89,1361.61 2076.4,1361.61 2076.9,1361.61 2077.41,1361.62 2077.91,1361.62 2078.42,1361.62 2078.92,1361.63 2079.43,1361.63 2079.94,1361.63 \n",
       "  2080.44,1361.64 2080.95,1361.64 2081.45,1361.64 2081.96,1361.64 2082.46,1361.65 2082.97,1361.65 2083.47,1361.65 2083.98,1361.65 2084.48,1361.66 2084.99,1361.66 \n",
       "  2085.49,1361.66 2086,1361.66 2086.5,1361.67 2087.01,1361.67 2087.51,1361.67 2088.02,1361.67 2088.52,1361.68 2089.03,1361.68 2089.53,1361.68 2090.04,1361.68 \n",
       "  2090.55,1361.68 2091.05,1361.69 2091.56,1361.69 2092.06,1361.69 2092.57,1361.69 2093.07,1361.69 2093.58,1361.7 2094.08,1361.7 2094.59,1361.7 2095.09,1361.7 \n",
       "  2095.6,1361.7 2096.1,1361.71 2096.61,1361.71 2097.11,1361.71 2097.62,1361.71 2098.12,1361.71 2098.63,1361.72 2099.13,1361.72 2099.64,1361.72 2100.15,1361.72 \n",
       "  2100.65,1361.72 2101.16,1361.72 2101.66,1361.73 2102.17,1361.73 2102.67,1361.73 2103.18,1361.73 2103.68,1361.73 2104.19,1361.73 2104.69,1361.74 2105.2,1361.74 \n",
       "  2105.7,1361.74 2106.21,1361.74 2106.71,1361.74 2107.22,1361.74 2107.72,1361.74 2108.23,1361.75 2108.73,1361.75 2109.24,1361.75 2109.74,1361.75 2110.25,1361.75 \n",
       "  2110.76,1361.75 2111.26,1361.75 2111.77,1361.76 2112.27,1361.76 2112.78,1361.76 2113.28,1361.76 2113.79,1361.76 2114.29,1361.76 2114.8,1361.76 2115.3,1361.76 \n",
       "  2115.81,1361.77 2116.31,1361.77 2116.82,1361.77 2117.32,1361.77 2117.83,1361.77 2118.33,1361.77 2118.84,1361.77 2119.34,1361.77 2119.85,1361.77 2120.36,1361.78 \n",
       "  2120.86,1361.78 2121.37,1361.78 2121.87,1361.78 2122.38,1361.78 2122.88,1361.78 2123.39,1361.78 2123.89,1361.78 2124.4,1361.78 2124.9,1361.78 2125.41,1361.79 \n",
       "  2125.91,1361.79 2126.42,1361.79 2126.92,1361.79 2127.43,1361.79 2127.93,1361.79 2128.44,1361.79 2128.94,1361.79 2129.45,1361.79 2129.96,1361.79 2130.46,1361.79 \n",
       "  2130.97,1361.79 2131.47,1361.8 2131.98,1361.8 2132.48,1361.8 2132.99,1361.8 2133.49,1361.8 2134,1361.8 2134.5,1361.8 2135.01,1361.8 2135.51,1361.8 \n",
       "  2136.02,1361.8 2136.52,1361.8 2137.03,1361.8 2137.53,1361.8 2138.04,1361.81 2138.54,1361.81 2139.05,1361.81 2139.55,1361.81 2140.06,1361.81 2140.57,1361.81 \n",
       "  2141.07,1361.81 2141.58,1361.81 2142.08,1361.81 2142.59,1361.81 2143.09,1361.81 2143.6,1361.81 2144.1,1361.81 2144.61,1361.81 2145.11,1361.81 2145.62,1361.82 \n",
       "  2146.12,1361.82 2146.63,1361.82 2147.13,1361.82 2147.64,1361.82 2148.14,1361.82 2148.65,1361.82 2149.15,1361.82 2149.66,1361.82 2150.17,1361.82 2150.67,1361.82 \n",
       "  2151.18,1361.82 2151.68,1361.82 2152.19,1361.82 2152.69,1361.82 2153.2,1361.82 2153.7,1361.82 2154.21,1361.82 2154.71,1361.82 2155.22,1361.83 2155.72,1361.83 \n",
       "  2156.23,1361.83 2156.73,1361.83 2157.24,1361.83 2157.74,1361.83 2158.25,1361.83 2158.75,1361.83 2159.26,1361.83 2159.76,1361.83 2160.27,1361.83 2160.78,1361.83 \n",
       "  2161.28,1361.83 2161.79,1361.83 2162.29,1361.83 2162.8,1361.83 2163.3,1361.83 2163.81,1361.83 2164.31,1361.83 2164.82,1361.83 2165.32,1361.83 2165.83,1361.83 \n",
       "  2166.33,1361.83 2166.84,1361.83 2167.34,1361.83 2167.85,1361.84 2168.35,1361.84 2168.86,1361.84 2169.36,1361.84 2169.87,1361.84 2170.38,1361.84 2170.88,1361.84 \n",
       "  2171.39,1361.84 2171.89,1361.84 2172.4,1361.84 2172.9,1361.84 2173.41,1361.84 2173.91,1361.84 2174.42,1361.84 2174.92,1361.84 2175.43,1361.84 2175.93,1361.84 \n",
       "  2176.44,1361.84 2176.94,1361.84 2177.45,1361.84 2177.95,1361.84 2178.46,1361.84 2178.96,1361.84 2179.47,1361.84 2179.97,1361.84 2180.48,1361.84 2180.99,1361.84 \n",
       "  2181.49,1361.84 2182,1361.84 2182.5,1361.84 2183.01,1361.84 2183.51,1361.84 2184.02,1361.84 2184.52,1361.84 2185.03,1361.84 2185.53,1361.84 2186.04,1361.85 \n",
       "  2186.54,1361.85 2187.05,1361.85 2187.55,1361.85 2188.06,1361.85 2188.56,1361.85 2189.07,1361.85 2189.57,1361.85 2190.08,1361.85 2190.59,1361.85 2191.09,1361.85 \n",
       "  2191.6,1361.85 2192.1,1361.85 2192.61,1361.85 2193.11,1361.85 2193.62,1361.85 2194.12,1361.85 2194.63,1361.85 2195.13,1361.85 2195.64,1361.85 2196.14,1361.85 \n",
       "  2196.65,1361.85 2197.15,1361.85 2197.66,1361.85 2198.16,1361.85 2198.67,1361.85 2199.17,1361.85 2199.68,1361.85 2200.19,1361.85 2200.69,1361.85 2201.2,1361.85 \n",
       "  2201.7,1361.85 2202.21,1361.85 2202.71,1361.85 2203.22,1361.85 2203.72,1361.85 2204.23,1361.85 2204.73,1361.85 2205.24,1361.85 2205.74,1361.85 2206.25,1361.85 \n",
       "  2206.75,1361.85 2207.26,1361.85 2207.76,1361.85 2208.27,1361.85 2208.77,1361.85 2209.28,1361.85 2209.78,1361.85 2210.29,1361.85 2210.8,1361.85 2211.3,1361.85 \n",
       "  2211.81,1361.85 2212.31,1361.85 2212.82,1361.85 2213.32,1361.85 2213.83,1361.85 2214.33,1361.85 2214.84,1361.85 2215.34,1361.85 2215.85,1361.85 2216.35,1361.85 \n",
       "  2216.86,1361.85 2217.36,1361.85 2217.87,1361.85 2218.37,1361.86 2218.88,1361.86 2219.38,1361.86 2219.89,1361.86 2220.4,1361.86 2220.9,1361.86 2221.41,1361.86 \n",
       "  2221.91,1361.86 2222.42,1361.86 2222.92,1361.86 2223.43,1361.86 2223.93,1361.86 2224.44,1361.86 2224.94,1361.86 2225.45,1361.86 2225.95,1361.86 2226.46,1361.86 \n",
       "  2226.96,1361.86 2227.47,1361.86 2227.97,1361.86 2228.48,1361.86 2228.98,1361.86 2229.49,1361.86 2229.99,1361.86 2230.5,1361.86 2231.01,1361.86 2231.51,1361.86 \n",
       "  2232.02,1361.86 2232.52,1361.86 2233.03,1361.86 2233.53,1361.86 2234.04,1361.86 2234.54,1361.86 2235.05,1361.86 2235.55,1361.86 2236.06,1361.86 2236.56,1361.86 \n",
       "  2237.07,1361.86 2237.57,1361.86 2238.08,1361.86 2238.58,1361.86 2239.09,1361.86 2239.59,1361.86 2240.1,1361.86 2240.61,1361.86 2241.11,1361.86 2241.62,1361.86 \n",
       "  2242.12,1361.86 2242.63,1361.86 2243.13,1361.86 2243.64,1361.86 2244.14,1361.86 2244.65,1361.86 2245.15,1361.86 2245.66,1361.86 2246.16,1361.86 2246.67,1361.86 \n",
       "  2247.17,1361.86 2247.68,1361.86 2248.18,1361.86 2248.69,1361.86 2249.19,1361.86 2249.7,1361.86 2250.2,1361.86 2250.71,1361.86 2251.22,1361.86 2251.72,1361.86 \n",
       "  2252.23,1361.86 2252.73,1361.86 2253.24,1361.86 2253.74,1361.86 2254.25,1361.86 2254.75,1361.86 2255.26,1361.86 2255.76,1361.86 2256.27,1361.86 2256.77,1361.86 \n",
       "  2257.28,1361.86 2257.78,1361.86 2258.29,1361.86 2258.79,1361.86 2259.3,1361.86 2259.8,1361.86 2260.31,1361.86 2260.82,1361.86 2261.32,1361.86 2261.83,1361.86 \n",
       "  2262.33,1361.86 2262.84,1361.86 2263.34,1361.86 2263.85,1361.86 2264.35,1361.86 2264.86,1361.86 2265.36,1361.86 2265.87,1361.86 2266.37,1361.86 2266.88,1361.86 \n",
       "  2267.38,1361.86 2267.89,1361.86 2268.39,1361.86 2268.9,1361.86 2269.4,1361.86 2269.91,1361.86 2270.42,1361.86 2270.92,1361.86 2271.43,1361.86 2271.93,1361.86 \n",
       "  2272.44,1361.86 2272.94,1361.86 2273.45,1361.86 2273.95,1361.86 2274.46,1361.86 2274.96,1361.86 2275.47,1361.86 2275.97,1361.86 2276.48,1361.86 2276.98,1361.86 \n",
       "  2277.49,1361.86 2277.99,1361.86 2278.5,1361.86 2279,1361.86 2279.51,1361.86 2280.01,1361.86 2280.52,1361.86 2281.03,1361.86 2281.53,1361.86 2282.04,1361.86 \n",
       "  2282.54,1361.86 2283.05,1361.86 2283.55,1361.86 2284.06,1361.86 2284.56,1361.86 2285.07,1361.86 2285.57,1361.86 2286.08,1361.86 2286.58,1361.86 2287.09,1361.86 \n",
       "  2287.59,1361.86 2288.1,1361.86 2288.6,1361.86 2289.11,1361.86 2289.61,1361.86 2290.12,1361.86 2290.63,1361.86 2291.13,1361.86 2291.64,1361.86 2292.14,1361.86 \n",
       "  \n",
       "  \"/>\n",
       "<path clip-path=\"url(#clip690)\" d=\"\n",
       "M1844.07 274.549 L2281.36 274.549 L2281.36 93.1086 L1844.07 93.1086  Z\n",
       "  \" fill=\"#ffffff\" fill-rule=\"evenodd\" fill-opacity=\"1\"/>\n",
       "<polyline clip-path=\"url(#clip690)\" style=\"stroke:#000000; stroke-width:4; stroke-opacity:1; fill:none\" points=\"\n",
       "  1844.07,274.549 2281.36,274.549 2281.36,93.1086 1844.07,93.1086 1844.07,274.549 \n",
       "  \"/>\n",
       "<polyline clip-path=\"url(#clip690)\" style=\"stroke:#009af9; stroke-width:4; stroke-opacity:1; fill:none\" points=\"\n",
       "  1867.86,153.589 2010.65,153.589 \n",
       "  \"/>\n",
       "<path clip-path=\"url(#clip690)\" d=\"M 0 0 M2047.64 170.869 L2034.44 136.309 L2039.33 136.309 L2050.28 165.406 L2061.25 136.309 L2066.11 136.309 L2052.94 170.869 L2047.64 170.869 Z\" fill=\"#000000\" fill-rule=\"evenodd\" fill-opacity=\"1\" /><path clip-path=\"url(#clip690)\" d=\"M 0 0 M2078.68 157.836 Q2073.52 157.836 2071.53 159.017 Q2069.54 160.197 2069.54 163.045 Q2069.54 165.313 2071.02 166.656 Q2072.52 167.975 2075.09 167.975 Q2078.63 167.975 2080.76 165.475 Q2082.92 162.952 2082.92 158.785 L2082.92 157.836 L2078.68 157.836 M2087.17 156.077 L2087.17 170.869 L2082.92 170.869 L2082.92 166.933 Q2081.46 169.295 2079.28 170.429 Q2077.1 171.54 2073.96 171.54 Q2069.98 171.54 2067.61 169.318 Q2065.28 167.072 2065.28 163.322 Q2065.28 158.947 2068.19 156.725 Q2071.13 154.503 2076.94 154.503 L2082.92 154.503 L2082.92 154.086 Q2082.92 151.147 2080.97 149.549 Q2079.05 147.929 2075.55 147.929 Q2073.33 147.929 2071.23 148.461 Q2069.12 148.994 2067.17 150.059 L2067.17 146.123 Q2069.51 145.221 2071.71 144.781 Q2073.91 144.318 2075.99 144.318 Q2081.62 144.318 2084.4 147.234 Q2087.17 150.151 2087.17 156.077 Z\" fill=\"#000000\" fill-rule=\"evenodd\" fill-opacity=\"1\" /><path clip-path=\"url(#clip690)\" d=\"M 0 0 M2091.64 134.85 L2095.9 134.85 L2095.9 170.869 L2091.64 170.869 L2091.64 134.85 Z\" fill=\"#000000\" fill-rule=\"evenodd\" fill-opacity=\"1\" /><path clip-path=\"url(#clip690)\" d=\"M 0 0 M2100.37 144.943 L2104.63 144.943 L2104.63 170.869 L2100.37 170.869 L2100.37 144.943 M2100.37 134.85 L2104.63 134.85 L2104.63 140.244 L2100.37 140.244 L2100.37 134.85 Z\" fill=\"#000000\" fill-rule=\"evenodd\" fill-opacity=\"1\" /><path clip-path=\"url(#clip690)\" d=\"M 0 0 M2126.16 148.878 L2126.16 134.85 L2130.41 134.85 L2130.41 170.869 L2126.16 170.869 L2126.16 166.98 Q2124.81 169.295 2122.75 170.429 Q2120.72 171.54 2117.85 171.54 Q2113.15 171.54 2110.18 167.79 Q2107.24 164.04 2107.24 157.929 Q2107.24 151.818 2110.18 148.068 Q2113.15 144.318 2117.85 144.318 Q2120.72 144.318 2122.75 145.452 Q2124.81 146.563 2126.16 148.878 M2111.64 157.929 Q2111.64 162.628 2113.56 165.313 Q2115.51 167.975 2118.89 167.975 Q2122.27 167.975 2124.21 165.313 Q2126.16 162.628 2126.16 157.929 Q2126.16 153.23 2124.21 150.568 Q2122.27 147.883 2118.89 147.883 Q2115.51 147.883 2113.56 150.568 Q2111.64 153.23 2111.64 157.929 Z\" fill=\"#000000\" fill-rule=\"evenodd\" fill-opacity=\"1\" /><path clip-path=\"url(#clip690)\" d=\"M 0 0 M2146.66 157.836 Q2141.5 157.836 2139.51 159.017 Q2137.52 160.197 2137.52 163.045 Q2137.52 165.313 2139 166.656 Q2140.51 167.975 2143.08 167.975 Q2146.62 167.975 2148.75 165.475 Q2150.9 162.952 2150.9 158.785 L2150.9 157.836 L2146.66 157.836 M2155.16 156.077 L2155.16 170.869 L2150.9 170.869 L2150.9 166.933 Q2149.44 169.295 2147.27 170.429 Q2145.09 171.54 2141.94 171.54 Q2137.96 171.54 2135.6 169.318 Q2133.26 167.072 2133.26 163.322 Q2133.26 158.947 2136.18 156.725 Q2139.12 154.503 2144.93 154.503 L2150.9 154.503 L2150.9 154.086 Q2150.9 151.147 2148.96 149.549 Q2147.04 147.929 2143.54 147.929 Q2141.32 147.929 2139.21 148.461 Q2137.1 148.994 2135.16 150.059 L2135.16 146.123 Q2137.5 145.221 2139.7 144.781 Q2141.9 144.318 2143.98 144.318 Q2149.6 144.318 2152.38 147.234 Q2155.16 150.151 2155.16 156.077 Z\" fill=\"#000000\" fill-rule=\"evenodd\" fill-opacity=\"1\" /><path clip-path=\"url(#clip690)\" d=\"M 0 0 M2163.84 137.582 L2163.84 144.943 L2172.61 144.943 L2172.61 148.253 L2163.84 148.253 L2163.84 162.327 Q2163.84 165.498 2164.7 166.401 Q2165.58 167.304 2168.24 167.304 L2172.61 167.304 L2172.61 170.869 L2168.24 170.869 Q2163.31 170.869 2161.43 169.04 Q2159.56 167.188 2159.56 162.327 L2159.56 148.253 L2156.43 148.253 L2156.43 144.943 L2159.56 144.943 L2159.56 137.582 L2163.84 137.582 Z\" fill=\"#000000\" fill-rule=\"evenodd\" fill-opacity=\"1\" /><path clip-path=\"url(#clip690)\" d=\"M 0 0 M2177.08 144.943 L2181.34 144.943 L2181.34 170.869 L2177.08 170.869 L2177.08 144.943 M2177.08 134.85 L2181.34 134.85 L2181.34 140.244 L2177.08 140.244 L2177.08 134.85 Z\" fill=\"#000000\" fill-rule=\"evenodd\" fill-opacity=\"1\" /><path clip-path=\"url(#clip690)\" d=\"M 0 0 M2195.85 147.929 Q2192.43 147.929 2190.44 150.614 Q2188.45 153.276 2188.45 157.929 Q2188.45 162.582 2190.41 165.267 Q2192.41 167.929 2195.85 167.929 Q2199.26 167.929 2201.25 165.244 Q2203.24 162.558 2203.24 157.929 Q2203.24 153.322 2201.25 150.637 Q2199.26 147.929 2195.85 147.929 M2195.85 144.318 Q2201.41 144.318 2204.58 147.929 Q2207.75 151.54 2207.75 157.929 Q2207.75 164.295 2204.58 167.929 Q2201.41 171.54 2195.85 171.54 Q2190.28 171.54 2187.1 167.929 Q2183.96 164.295 2183.96 157.929 Q2183.96 151.54 2187.1 147.929 Q2190.28 144.318 2195.85 144.318 Z\" fill=\"#000000\" fill-rule=\"evenodd\" fill-opacity=\"1\" /><path clip-path=\"url(#clip690)\" d=\"M 0 0 M2233.77 155.221 L2233.77 170.869 L2229.51 170.869 L2229.51 155.359 Q2229.51 151.679 2228.08 149.85 Q2226.64 148.022 2223.77 148.022 Q2220.32 148.022 2218.33 150.221 Q2216.34 152.42 2216.34 156.216 L2216.34 170.869 L2212.06 170.869 L2212.06 144.943 L2216.34 144.943 L2216.34 148.971 Q2217.87 146.633 2219.93 145.475 Q2222.01 144.318 2224.72 144.318 Q2229.19 144.318 2231.48 147.096 Q2233.77 149.85 2233.77 155.221 Z\" fill=\"#000000\" fill-rule=\"evenodd\" fill-opacity=\"1\" /><polyline clip-path=\"url(#clip690)\" style=\"stroke:#e26f46; stroke-width:4; stroke-opacity:1; fill:none\" points=\"\n",
       "  1867.86,214.069 2010.65,214.069 \n",
       "  \"/>\n",
       "<path clip-path=\"url(#clip690)\" d=\"M 0 0 M2034.44 196.789 L2063.68 196.789 L2063.68 200.724 L2051.41 200.724 L2051.41 231.349 L2046.71 231.349 L2046.71 200.724 L2034.44 200.724 L2034.44 196.789 Z\" fill=\"#000000\" fill-rule=\"evenodd\" fill-opacity=\"1\" /><path clip-path=\"url(#clip690)\" d=\"M 0 0 M2076.2 209.404 Q2075.48 208.988 2074.63 208.802 Q2073.79 208.594 2072.78 208.594 Q2069.17 208.594 2067.22 210.955 Q2065.3 213.293 2065.3 217.691 L2065.3 231.349 L2061.02 231.349 L2061.02 205.423 L2065.3 205.423 L2065.3 209.451 Q2066.64 207.089 2068.79 205.955 Q2070.95 204.798 2074.03 204.798 Q2074.47 204.798 2075 204.867 Q2075.53 204.914 2076.18 205.029 L2076.2 209.404 Z\" fill=\"#000000\" fill-rule=\"evenodd\" fill-opacity=\"1\" /><path clip-path=\"url(#clip690)\" d=\"M 0 0 M2092.45 218.316 Q2087.29 218.316 2085.3 219.497 Q2083.31 220.677 2083.31 223.525 Q2083.31 225.793 2084.79 227.136 Q2086.29 228.455 2088.86 228.455 Q2092.41 228.455 2094.54 225.955 Q2096.69 223.432 2096.69 219.265 L2096.69 218.316 L2092.45 218.316 M2100.95 216.557 L2100.95 231.349 L2096.69 231.349 L2096.69 227.413 Q2095.23 229.775 2093.05 230.909 Q2090.88 232.02 2087.73 232.02 Q2083.75 232.02 2081.39 229.798 Q2079.05 227.552 2079.05 223.802 Q2079.05 219.427 2081.97 217.205 Q2084.91 214.983 2090.72 214.983 L2096.69 214.983 L2096.69 214.566 Q2096.69 211.627 2094.74 210.029 Q2092.82 208.409 2089.33 208.409 Q2087.1 208.409 2085 208.941 Q2082.89 209.474 2080.95 210.539 L2080.95 206.603 Q2083.29 205.701 2085.48 205.261 Q2087.68 204.798 2089.77 204.798 Q2095.39 204.798 2098.17 207.714 Q2100.95 210.631 2100.95 216.557 Z\" fill=\"#000000\" fill-rule=\"evenodd\" fill-opacity=\"1\" /><path clip-path=\"url(#clip690)\" d=\"M 0 0 M2105.41 205.423 L2109.67 205.423 L2109.67 231.349 L2105.41 231.349 L2105.41 205.423 M2105.41 195.33 L2109.67 195.33 L2109.67 200.724 L2105.41 200.724 L2105.41 195.33 Z\" fill=\"#000000\" fill-rule=\"evenodd\" fill-opacity=\"1\" /><path clip-path=\"url(#clip690)\" d=\"M 0 0 M2135.69 215.701 L2135.69 231.349 L2131.43 231.349 L2131.43 215.839 Q2131.43 212.159 2130 210.33 Q2128.56 208.502 2125.69 208.502 Q2122.24 208.502 2120.25 210.701 Q2118.26 212.9 2118.26 216.696 L2118.26 231.349 L2113.98 231.349 L2113.98 205.423 L2118.26 205.423 L2118.26 209.451 Q2119.79 207.113 2121.85 205.955 Q2123.93 204.798 2126.64 204.798 Q2131.11 204.798 2133.4 207.576 Q2135.69 210.33 2135.69 215.701 Z\" fill=\"#000000\" fill-rule=\"evenodd\" fill-opacity=\"1\" /><path clip-path=\"url(#clip690)\" d=\"M 0 0 M2140.16 205.423 L2144.42 205.423 L2144.42 231.349 L2140.16 231.349 L2140.16 205.423 M2140.16 195.33 L2144.42 195.33 L2144.42 200.724 L2140.16 200.724 L2140.16 195.33 Z\" fill=\"#000000\" fill-rule=\"evenodd\" fill-opacity=\"1\" /><path clip-path=\"url(#clip690)\" d=\"M 0 0 M2170.44 215.701 L2170.44 231.349 L2166.18 231.349 L2166.18 215.839 Q2166.18 212.159 2164.74 210.33 Q2163.31 208.502 2160.44 208.502 Q2156.99 208.502 2155 210.701 Q2153.01 212.9 2153.01 216.696 L2153.01 231.349 L2148.72 231.349 L2148.72 205.423 L2153.01 205.423 L2153.01 209.451 Q2154.54 207.113 2156.6 205.955 Q2158.68 204.798 2161.39 204.798 Q2165.85 204.798 2168.15 207.576 Q2170.44 210.33 2170.44 215.701 Z\" fill=\"#000000\" fill-rule=\"evenodd\" fill-opacity=\"1\" /><path clip-path=\"url(#clip690)\" d=\"M 0 0 M2191.97 218.085 Q2191.97 213.455 2190.04 210.909 Q2188.15 208.363 2184.7 208.363 Q2181.27 208.363 2179.35 210.909 Q2177.45 213.455 2177.45 218.085 Q2177.45 222.691 2179.35 225.238 Q2181.27 227.784 2184.7 227.784 Q2188.15 227.784 2190.04 225.238 Q2191.97 222.691 2191.97 218.085 M2196.22 228.131 Q2196.22 234.751 2193.28 237.969 Q2190.35 241.21 2184.28 241.21 Q2182.03 241.21 2180.04 240.862 Q2178.05 240.538 2176.18 239.844 L2176.18 235.7 Q2178.05 236.719 2179.88 237.205 Q2181.71 237.691 2183.61 237.691 Q2187.8 237.691 2189.88 235.492 Q2191.97 233.316 2191.97 228.895 L2191.97 226.788 Q2190.65 229.08 2188.59 230.214 Q2186.53 231.349 2183.66 231.349 Q2178.89 231.349 2175.97 227.714 Q2173.05 224.08 2173.05 218.085 Q2173.05 212.066 2175.97 208.432 Q2178.89 204.798 2183.66 204.798 Q2186.53 204.798 2188.59 205.932 Q2190.65 207.066 2191.97 209.358 L2191.97 205.423 L2196.22 205.423 L2196.22 228.131 Z\" fill=\"#000000\" fill-rule=\"evenodd\" fill-opacity=\"1\" /></svg>\n"
      ]
     },
     "execution_count": 35,
     "metadata": {},
     "output_type": "execute_result"
    }
   ],
   "source": [
    "plot(curve.parameter_values,\n",
    "     curve.measurements,\n",
    "     xlab=curve.parameter_name,\n",
    "     ylab=\"Cross Entropy\",\n",
    "     label=\"Validation\", lw=2)\n",
    "plot!(Net.report.training_losses, label=\"Training\", lw=2)"
   ]
  },
  {
   "cell_type": "code",
   "execution_count": 36,
   "metadata": {},
   "outputs": [
    {
     "data": {
      "text/plain": [
       "(0.00033, 0.61663, 4000)"
      ]
     },
     "execution_count": 36,
     "metadata": {},
     "output_type": "execute_result"
    }
   ],
   "source": [
    "a = round(nn.optimiser.eta, digits=5)\n",
    "b = round(minimum(curve.measurements), digits=5)\n",
    "best_epochs = curve.parameter_values[argmin(curve.measurements)]\n",
    "a,b, best_epochs"
   ]
  },
  {
   "cell_type": "code",
   "execution_count": 37,
   "metadata": {},
   "outputs": [],
   "source": [
    "fn = \"Figures/LearningCurve_NN_hidden:$(layer1)x$(layer2)_epochs:$(nn.epochs)_lr:$(a)_loss:$(b)_labmda:$(nn.lambda)\"\n",
    "png(replace(fn,'.' => ','))"
   ]
  },
  {
   "cell_type": "markdown",
   "metadata": {},
   "source": [
    "### GridSearch for Hidden Layer Size 1"
   ]
  },
  {
   "cell_type": "code",
   "execution_count": 48,
   "metadata": {},
   "outputs": [
    {
     "data": {
      "text/plain": [
       "\u001b[34mMachine{NeuralNetworkClassifier{CustomNN,…}} @171\u001b[39m trained 0 times.\n",
       "  args: \n",
       "    1:\t\u001b[34mSource @200\u001b[39m ⏎ `Table{AbstractArray{Continuous,1}}`\n",
       "    2:\t\u001b[34mSource @045\u001b[39m ⏎ `AbstractArray{Multiclass{3},1}`\n"
      ]
     },
     "execution_count": 48,
     "metadata": {},
     "output_type": "execute_result"
    }
   ],
   "source": [
    "Net = machine(nn, X_stand, y)"
   ]
  },
  {
   "cell_type": "code",
   "execution_count": 49,
   "metadata": {},
   "outputs": [
    {
     "data": {
      "text/plain": [
       "MLJBase.NumericRange(Int64, :(builder.n1), ... )"
      ]
     },
     "execution_count": 49,
     "metadata": {},
     "output_type": "execute_result"
    }
   ],
   "source": [
    "param1 = :epochs\n",
    "param2 = :(builder.n1)\n",
    "# param2 = :(builder.n2)\n",
    "\n",
    "r1 = range(nn, param1, lower=10, upper=4000, scale=:log10)\n",
    "# r1 = range(nn, param1, lower=1, upper=100, scale=:linear)\n",
    "r2 = range(nn, param2, lower=10, upper=100, scale=:linear)"
   ]
  },
  {
   "cell_type": "code",
   "execution_count": 50,
   "metadata": {
    "scrolled": true
   },
   "outputs": [
    {
     "data": {
      "text/plain": [
       "ProbabilisticTunedModel(\n",
       "    model = NeuralNetworkClassifier(\n",
       "            builder = \u001b[34mCustomNN @556\u001b[39m,\n",
       "            finaliser = NNlib.softmax,\n",
       "            optimiser = ADAM(0.0003333333333333333, (0.9, 0.999), IdDict{Any,Any}()),\n",
       "            loss = Flux.crossentropy,\n",
       "            epochs = 4000,\n",
       "            batch_size = 16,\n",
       "            lambda = 0.01,\n",
       "            alpha = 0.0,\n",
       "            optimiser_changes_trigger_retraining = false),\n",
       "    tuning = Grid(\n",
       "            goal = 64,\n",
       "            resolution = 10,\n",
       "            shuffle = true,\n",
       "            rng = Random._GLOBAL_RNG()),\n",
       "    resampling = Holdout(\n",
       "            fraction_train = 0.7,\n",
       "            shuffle = false,\n",
       "            rng = Random._GLOBAL_RNG()),\n",
       "    measure = cross_entropy(\n",
       "            eps = 2.220446049250313e-16),\n",
       "    weights = nothing,\n",
       "    operation = MLJModelInterface.predict,\n",
       "    range = MLJBase.NumericRange{Int64,MLJBase.Bounded,Symbol}[\u001b[34mNumericRange{Int64,…} @460\u001b[39m, \u001b[34mNumericRange{Int64,…} @065\u001b[39m],\n",
       "    train_best = true,\n",
       "    repeats = 1,\n",
       "    n = nothing,\n",
       "    acceleration = CPUThreads{Int64}(1),\n",
       "    acceleration_resampling = CPU1{Nothing}(nothing),\n",
       "    check_measure = true)\u001b[34m @452\u001b[39m"
      ]
     },
     "execution_count": 50,
     "metadata": {},
     "output_type": "execute_result"
    }
   ],
   "source": [
    "self_tuning_nn_model = TunedModel(model=nn,\n",
    "                                    tuning=Grid(goal=64),\n",
    "                                    resampling=Holdout(fraction_train=0.7), \n",
    "                                    measure=cross_entropy,\n",
    "                                    acceleration=CPUThreads(),\n",
    "                                    range=[r1, r2])"
   ]
  },
  {
   "cell_type": "code",
   "execution_count": 51,
   "metadata": {},
   "outputs": [
    {
     "data": {
      "text/plain": [
       "\u001b[34mMachine{ProbabilisticTunedModel{Grid,…}} @615\u001b[39m trained 0 times.\n",
       "  args: \n",
       "    1:\t\u001b[34mSource @682\u001b[39m ⏎ `Table{AbstractArray{Continuous,1}}`\n",
       "    2:\t\u001b[34mSource @609\u001b[39m ⏎ `AbstractArray{Multiclass{3},1}`\n"
      ]
     },
     "execution_count": 51,
     "metadata": {},
     "output_type": "execute_result"
    }
   ],
   "source": [
    "self_tuning_nn = machine(self_tuning_nn_model, X_stand, y)"
   ]
  },
  {
   "cell_type": "code",
   "execution_count": 52,
   "metadata": {},
   "outputs": [
    {
     "name": "stderr",
     "output_type": "stream",
     "text": [
      "┌ Info: Training \u001b[34mMachine{ProbabilisticTunedModel{Grid,…}} @615\u001b[39m.\n",
      "└ @ MLJBase /home/andrew/.julia/packages/MLJBase/uKzAz/src/machines.jl:319\n",
      "┌ Info: Attempting to evaluate 64 models.\n",
      "└ @ MLJTuning /home/andrew/.julia/packages/MLJTuning/Bbgvk/src/tuned_models.jl:494\n",
      "\u001b[33mEvaluating over 64 metamodels: 100%[=========================] Time: 0:03:39\u001b[39m\n"
     ]
    },
    {
     "data": {
      "text/plain": [
       "\u001b[34mMachine{ProbabilisticTunedModel{Grid,…}} @615\u001b[39m trained 1 time.\n",
       "  args: \n",
       "    1:\t\u001b[34mSource @682\u001b[39m ⏎ `Table{AbstractArray{Continuous,1}}`\n",
       "    2:\t\u001b[34mSource @609\u001b[39m ⏎ `AbstractArray{Multiclass{3},1}`\n"
      ]
     },
     "execution_count": 52,
     "metadata": {},
     "output_type": "execute_result"
    }
   ],
   "source": [
    "z = fit!(self_tuning_nn, rows=train)"
   ]
  },
  {
   "cell_type": "code",
   "execution_count": 53,
   "metadata": {
    "scrolled": true
   },
   "outputs": [
    {
     "data": {
      "image/svg+xml": [
       "<?xml version=\"1.0\" encoding=\"utf-8\"?>\n",
       "<svg xmlns=\"http://www.w3.org/2000/svg\" xmlns:xlink=\"http://www.w3.org/1999/xlink\" width=\"600\" height=\"400\" viewBox=\"0 0 2400 1600\">\n",
       "<defs>\n",
       "  <clipPath id=\"clip780\">\n",
       "    <rect x=\"0\" y=\"0\" width=\"2400\" height=\"1600\"/>\n",
       "  </clipPath>\n",
       "</defs>\n",
       "<path clip-path=\"url(#clip780)\" d=\"\n",
       "M0 1600 L2400 1600 L2400 0 L0 0  Z\n",
       "  \" fill=\"#ffffff\" fill-rule=\"evenodd\" fill-opacity=\"1\"/>\n",
       "<defs>\n",
       "  <clipPath id=\"clip781\">\n",
       "    <rect x=\"480\" y=\"0\" width=\"1681\" height=\"1600\"/>\n",
       "  </clipPath>\n",
       "</defs>\n",
       "<path clip-path=\"url(#clip780)\" d=\"\n",
       "M224.866 1410.9 L2112.76 1410.9 L2112.76 47.2441 L224.866 47.2441  Z\n",
       "  \" fill=\"#ffffff\" fill-rule=\"evenodd\" fill-opacity=\"1\"/>\n",
       "<defs>\n",
       "  <clipPath id=\"clip782\">\n",
       "    <rect x=\"224\" y=\"47\" width=\"1889\" height=\"1365\"/>\n",
       "  </clipPath>\n",
       "</defs>\n",
       "<polyline clip-path=\"url(#clip782)\" style=\"stroke:#000000; stroke-width:2; stroke-opacity:0.1; fill:none\" points=\"\n",
       "  278.297,1410.9 278.297,47.2441 \n",
       "  \"/>\n",
       "<polyline clip-path=\"url(#clip782)\" style=\"stroke:#000000; stroke-width:2; stroke-opacity:0.1; fill:none\" points=\"\n",
       "  620.531,1410.9 620.531,47.2441 \n",
       "  \"/>\n",
       "<polyline clip-path=\"url(#clip782)\" style=\"stroke:#000000; stroke-width:2; stroke-opacity:0.1; fill:none\" points=\"\n",
       "  962.766,1410.9 962.766,47.2441 \n",
       "  \"/>\n",
       "<polyline clip-path=\"url(#clip782)\" style=\"stroke:#000000; stroke-width:2; stroke-opacity:0.1; fill:none\" points=\"\n",
       "  1305,1410.9 1305,47.2441 \n",
       "  \"/>\n",
       "<polyline clip-path=\"url(#clip782)\" style=\"stroke:#000000; stroke-width:2; stroke-opacity:0.1; fill:none\" points=\"\n",
       "  1647.23,1410.9 1647.23,47.2441 \n",
       "  \"/>\n",
       "<polyline clip-path=\"url(#clip782)\" style=\"stroke:#000000; stroke-width:2; stroke-opacity:0.1; fill:none\" points=\"\n",
       "  1989.47,1410.9 1989.47,47.2441 \n",
       "  \"/>\n",
       "<polyline clip-path=\"url(#clip782)\" style=\"stroke:#000000; stroke-width:2; stroke-opacity:0.1; fill:none\" points=\"\n",
       "  224.866,1229.36 2112.76,1229.36 \n",
       "  \"/>\n",
       "<polyline clip-path=\"url(#clip782)\" style=\"stroke:#000000; stroke-width:2; stroke-opacity:0.1; fill:none\" points=\"\n",
       "  224.866,943.481 2112.76,943.481 \n",
       "  \"/>\n",
       "<polyline clip-path=\"url(#clip782)\" style=\"stroke:#000000; stroke-width:2; stroke-opacity:0.1; fill:none\" points=\"\n",
       "  224.866,657.6 2112.76,657.6 \n",
       "  \"/>\n",
       "<polyline clip-path=\"url(#clip782)\" style=\"stroke:#000000; stroke-width:2; stroke-opacity:0.1; fill:none\" points=\"\n",
       "  224.866,371.719 2112.76,371.719 \n",
       "  \"/>\n",
       "<polyline clip-path=\"url(#clip782)\" style=\"stroke:#000000; stroke-width:2; stroke-opacity:0.1; fill:none\" points=\"\n",
       "  224.866,85.838 2112.76,85.838 \n",
       "  \"/>\n",
       "<polyline clip-path=\"url(#clip780)\" style=\"stroke:#000000; stroke-width:4; stroke-opacity:1; fill:none\" points=\"\n",
       "  224.866,1410.9 2112.76,1410.9 \n",
       "  \"/>\n",
       "<polyline clip-path=\"url(#clip780)\" style=\"stroke:#000000; stroke-width:4; stroke-opacity:1; fill:none\" points=\"\n",
       "  224.866,1410.9 224.866,47.2441 \n",
       "  \"/>\n",
       "<polyline clip-path=\"url(#clip780)\" style=\"stroke:#000000; stroke-width:4; stroke-opacity:1; fill:none\" points=\"\n",
       "  278.297,1410.9 278.297,1394.53 \n",
       "  \"/>\n",
       "<polyline clip-path=\"url(#clip780)\" style=\"stroke:#000000; stroke-width:4; stroke-opacity:1; fill:none\" points=\"\n",
       "  620.531,1410.9 620.531,1394.53 \n",
       "  \"/>\n",
       "<polyline clip-path=\"url(#clip780)\" style=\"stroke:#000000; stroke-width:4; stroke-opacity:1; fill:none\" points=\"\n",
       "  962.766,1410.9 962.766,1394.53 \n",
       "  \"/>\n",
       "<polyline clip-path=\"url(#clip780)\" style=\"stroke:#000000; stroke-width:4; stroke-opacity:1; fill:none\" points=\"\n",
       "  1305,1410.9 1305,1394.53 \n",
       "  \"/>\n",
       "<polyline clip-path=\"url(#clip780)\" style=\"stroke:#000000; stroke-width:4; stroke-opacity:1; fill:none\" points=\"\n",
       "  1647.23,1410.9 1647.23,1394.53 \n",
       "  \"/>\n",
       "<polyline clip-path=\"url(#clip780)\" style=\"stroke:#000000; stroke-width:4; stroke-opacity:1; fill:none\" points=\"\n",
       "  1989.47,1410.9 1989.47,1394.53 \n",
       "  \"/>\n",
       "<polyline clip-path=\"url(#clip780)\" style=\"stroke:#000000; stroke-width:4; stroke-opacity:1; fill:none\" points=\"\n",
       "  224.866,1229.36 247.521,1229.36 \n",
       "  \"/>\n",
       "<polyline clip-path=\"url(#clip780)\" style=\"stroke:#000000; stroke-width:4; stroke-opacity:1; fill:none\" points=\"\n",
       "  224.866,943.481 247.521,943.481 \n",
       "  \"/>\n",
       "<polyline clip-path=\"url(#clip780)\" style=\"stroke:#000000; stroke-width:4; stroke-opacity:1; fill:none\" points=\"\n",
       "  224.866,657.6 247.521,657.6 \n",
       "  \"/>\n",
       "<polyline clip-path=\"url(#clip780)\" style=\"stroke:#000000; stroke-width:4; stroke-opacity:1; fill:none\" points=\"\n",
       "  224.866,371.719 247.521,371.719 \n",
       "  \"/>\n",
       "<polyline clip-path=\"url(#clip780)\" style=\"stroke:#000000; stroke-width:4; stroke-opacity:1; fill:none\" points=\"\n",
       "  224.866,85.838 247.521,85.838 \n",
       "  \"/>\n",
       "<path clip-path=\"url(#clip780)\" d=\"M 0 0 M231.794 1481.97 L239.433 1481.97 L239.433 1455.6 L231.123 1457.27 L231.123 1453.01 L239.387 1451.34 L244.063 1451.34 L244.063 1481.97 L251.701 1481.97 L251.701 1485.9 L231.794 1485.9 L231.794 1481.97 Z\" fill=\"#000000\" fill-rule=\"evenodd\" fill-opacity=\"1\" /><path clip-path=\"url(#clip780)\" d=\"M 0 0 M266.771 1454.42 Q263.16 1454.42 261.331 1457.99 Q259.525 1461.53 259.525 1468.66 Q259.525 1475.77 261.331 1479.33 Q263.16 1482.87 266.771 1482.87 Q270.405 1482.87 272.211 1479.33 Q274.039 1475.77 274.039 1468.66 Q274.039 1461.53 272.211 1457.99 Q270.405 1454.42 266.771 1454.42 M266.771 1450.72 Q272.581 1450.72 275.637 1455.33 Q278.715 1459.91 278.715 1468.66 Q278.715 1477.39 275.637 1481.99 Q272.581 1486.58 266.771 1486.58 Q260.961 1486.58 257.882 1481.99 Q254.826 1477.39 254.826 1468.66 Q254.826 1459.91 257.882 1455.33 Q260.961 1450.72 266.771 1450.72 Z\" fill=\"#000000\" fill-rule=\"evenodd\" fill-opacity=\"1\" /><path clip-path=\"url(#clip780)\" d=\"M 0 0 M279.261 1455.3 L285.467 1455.3 L285.467 1433.87 L278.715 1435.23 L278.715 1431.77 L285.43 1430.41 L289.229 1430.41 L289.229 1455.3 L295.435 1455.3 L295.435 1458.49 L279.261 1458.49 L279.261 1455.3 Z\" fill=\"#000000\" fill-rule=\"evenodd\" fill-opacity=\"1\" /><path clip-path=\"url(#clip780)\" d=\"M 0 0 M299.554 1453.72 L303.523 1453.72 L303.523 1458.49 L299.554 1458.49 L299.554 1453.72 Z\" fill=\"#000000\" fill-rule=\"evenodd\" fill-opacity=\"1\" /><path clip-path=\"url(#clip780)\" d=\"M 0 0 M315.766 1432.91 Q312.832 1432.91 311.347 1435.81 Q309.88 1438.69 309.88 1444.48 Q309.88 1450.26 311.347 1453.15 Q312.832 1456.03 315.766 1456.03 Q318.719 1456.03 320.186 1453.15 Q321.672 1450.26 321.672 1444.48 Q321.672 1438.69 320.186 1435.81 Q318.719 1432.91 315.766 1432.91 M315.766 1429.91 Q320.487 1429.91 322.97 1433.65 Q325.471 1437.37 325.471 1444.48 Q325.471 1451.57 322.97 1455.31 Q320.487 1459.04 315.766 1459.04 Q311.046 1459.04 308.544 1455.31 Q306.062 1451.57 306.062 1444.48 Q306.062 1437.37 308.544 1433.65 Q311.046 1429.91 315.766 1429.91 Z\" fill=\"#000000\" fill-rule=\"evenodd\" fill-opacity=\"1\" /><path clip-path=\"url(#clip780)\" d=\"M 0 0 M574.433 1481.97 L582.072 1481.97 L582.072 1455.6 L573.761 1457.27 L573.761 1453.01 L582.025 1451.34 L586.701 1451.34 L586.701 1481.97 L594.34 1481.97 L594.34 1485.9 L574.433 1485.9 L574.433 1481.97 Z\" fill=\"#000000\" fill-rule=\"evenodd\" fill-opacity=\"1\" /><path clip-path=\"url(#clip780)\" d=\"M 0 0 M609.409 1454.42 Q605.798 1454.42 603.97 1457.99 Q602.164 1461.53 602.164 1468.66 Q602.164 1475.77 603.97 1479.33 Q605.798 1482.87 609.409 1482.87 Q613.044 1482.87 614.849 1479.33 Q616.678 1475.77 616.678 1468.66 Q616.678 1461.53 614.849 1457.99 Q613.044 1454.42 609.409 1454.42 M609.409 1450.72 Q615.22 1450.72 618.275 1455.33 Q621.354 1459.91 621.354 1468.66 Q621.354 1477.39 618.275 1481.99 Q615.22 1486.58 609.409 1486.58 Q603.599 1486.58 600.521 1481.99 Q597.465 1477.39 597.465 1468.66 Q597.465 1459.91 600.521 1455.33 Q603.599 1450.72 609.409 1450.72 Z\" fill=\"#000000\" fill-rule=\"evenodd\" fill-opacity=\"1\" /><path clip-path=\"url(#clip780)\" d=\"M 0 0 M621.899 1455.3 L628.106 1455.3 L628.106 1433.87 L621.354 1435.23 L621.354 1431.77 L628.068 1430.41 L631.867 1430.41 L631.867 1455.3 L638.074 1455.3 L638.074 1458.49 L621.899 1458.49 L621.899 1455.3 Z\" fill=\"#000000\" fill-rule=\"evenodd\" fill-opacity=\"1\" /><path clip-path=\"url(#clip780)\" d=\"M 0 0 M642.193 1453.72 L646.161 1453.72 L646.161 1458.49 L642.193 1458.49 L642.193 1453.72 Z\" fill=\"#000000\" fill-rule=\"evenodd\" fill-opacity=\"1\" /><path clip-path=\"url(#clip780)\" d=\"M 0 0 M650.318 1430.41 L665.232 1430.41 L665.232 1433.61 L653.797 1433.61 L653.797 1440.49 Q654.625 1440.21 655.452 1440.08 Q656.28 1439.93 657.107 1439.93 Q661.809 1439.93 664.555 1442.51 Q667.301 1445.08 667.301 1449.48 Q667.301 1454.02 664.48 1456.54 Q661.659 1459.04 656.524 1459.04 Q654.756 1459.04 652.913 1458.74 Q651.089 1458.44 649.133 1457.84 L649.133 1454.02 Q650.826 1454.94 652.631 1455.39 Q654.437 1455.84 656.449 1455.84 Q659.703 1455.84 661.602 1454.13 Q663.502 1452.42 663.502 1449.48 Q663.502 1446.55 661.602 1444.84 Q659.703 1443.13 656.449 1443.13 Q654.926 1443.13 653.402 1443.47 Q651.898 1443.8 650.318 1444.52 L650.318 1430.41 Z\" fill=\"#000000\" fill-rule=\"evenodd\" fill-opacity=\"1\" /><path clip-path=\"url(#clip780)\" d=\"M 0 0 M915.708 1481.97 L923.347 1481.97 L923.347 1455.6 L915.036 1457.27 L915.036 1453.01 L923.3 1451.34 L927.976 1451.34 L927.976 1481.97 L935.615 1481.97 L935.615 1485.9 L915.708 1485.9 L915.708 1481.97 Z\" fill=\"#000000\" fill-rule=\"evenodd\" fill-opacity=\"1\" /><path clip-path=\"url(#clip780)\" d=\"M 0 0 M950.684 1454.42 Q947.073 1454.42 945.245 1457.99 Q943.439 1461.53 943.439 1468.66 Q943.439 1475.77 945.245 1479.33 Q947.073 1482.87 950.684 1482.87 Q954.319 1482.87 956.124 1479.33 Q957.953 1475.77 957.953 1468.66 Q957.953 1461.53 956.124 1457.99 Q954.319 1454.42 950.684 1454.42 M950.684 1450.72 Q956.495 1450.72 959.55 1455.33 Q962.629 1459.91 962.629 1468.66 Q962.629 1477.39 959.55 1481.99 Q956.495 1486.58 950.684 1486.58 Q944.874 1486.58 941.796 1481.99 Q938.74 1477.39 938.74 1468.66 Q938.74 1459.91 941.796 1455.33 Q944.874 1450.72 950.684 1450.72 Z\" fill=\"#000000\" fill-rule=\"evenodd\" fill-opacity=\"1\" /><path clip-path=\"url(#clip780)\" d=\"M 0 0 M967.199 1455.3 L980.459 1455.3 L980.459 1458.49 L962.629 1458.49 L962.629 1455.3 Q964.792 1453.06 968.516 1449.3 Q972.258 1445.52 973.218 1444.43 Q975.042 1442.38 975.757 1440.96 Q976.49 1439.54 976.49 1438.16 Q976.49 1435.92 974.91 1434.51 Q973.349 1433.1 970.829 1433.1 Q969.042 1433.1 967.049 1433.72 Q965.074 1434.34 962.817 1435.6 L962.817 1431.77 Q965.111 1430.85 967.105 1430.38 Q969.099 1429.91 970.754 1429.91 Q975.117 1429.91 977.713 1432.09 Q980.308 1434.27 980.308 1437.92 Q980.308 1439.65 979.65 1441.21 Q979.01 1442.75 977.299 1444.86 Q976.829 1445.4 974.308 1448.02 Q971.788 1450.61 967.199 1455.3 Z\" fill=\"#000000\" fill-rule=\"evenodd\" fill-opacity=\"1\" /><path clip-path=\"url(#clip780)\" d=\"M 0 0 M984.577 1453.72 L988.546 1453.72 L988.546 1458.49 L984.577 1458.49 L984.577 1453.72 Z\" fill=\"#000000\" fill-rule=\"evenodd\" fill-opacity=\"1\" /><path clip-path=\"url(#clip780)\" d=\"M 0 0 M1000.79 1432.91 Q997.856 1432.91 996.37 1435.81 Q994.903 1438.69 994.903 1444.48 Q994.903 1450.26 996.37 1453.15 Q997.856 1456.03 1000.79 1456.03 Q1003.74 1456.03 1005.21 1453.15 Q1006.7 1450.26 1006.7 1444.48 Q1006.7 1438.69 1005.21 1435.81 Q1003.74 1432.91 1000.79 1432.91 M1000.79 1429.91 Q1005.51 1429.91 1007.99 1433.65 Q1010.49 1437.37 1010.49 1444.48 Q1010.49 1451.57 1007.99 1455.31 Q1005.51 1459.04 1000.79 1459.04 Q996.069 1459.04 993.568 1455.31 Q991.085 1451.57 991.085 1444.48 Q991.085 1437.37 993.568 1433.65 Q996.069 1429.91 1000.79 1429.91 Z\" fill=\"#000000\" fill-rule=\"evenodd\" fill-opacity=\"1\" /><path clip-path=\"url(#clip780)\" d=\"M 0 0 M1258.35 1481.97 L1265.99 1481.97 L1265.99 1455.6 L1257.68 1457.27 L1257.68 1453.01 L1265.94 1451.34 L1270.61 1451.34 L1270.61 1481.97 L1278.25 1481.97 L1278.25 1485.9 L1258.35 1485.9 L1258.35 1481.97 Z\" fill=\"#000000\" fill-rule=\"evenodd\" fill-opacity=\"1\" /><path clip-path=\"url(#clip780)\" d=\"M 0 0 M1293.32 1454.42 Q1289.71 1454.42 1287.88 1457.99 Q1286.08 1461.53 1286.08 1468.66 Q1286.08 1475.77 1287.88 1479.33 Q1289.71 1482.87 1293.32 1482.87 Q1296.96 1482.87 1298.76 1479.33 Q1300.59 1475.77 1300.59 1468.66 Q1300.59 1461.53 1298.76 1457.99 Q1296.96 1454.42 1293.32 1454.42 M1293.32 1450.72 Q1299.13 1450.72 1302.19 1455.33 Q1305.27 1459.91 1305.27 1468.66 Q1305.27 1477.39 1302.19 1481.99 Q1299.13 1486.58 1293.32 1486.58 Q1287.51 1486.58 1284.43 1481.99 Q1281.38 1477.39 1281.38 1468.66 Q1281.38 1459.91 1284.43 1455.33 Q1287.51 1450.72 1293.32 1450.72 Z\" fill=\"#000000\" fill-rule=\"evenodd\" fill-opacity=\"1\" /><path clip-path=\"url(#clip780)\" d=\"M 0 0 M1309.84 1455.3 L1323.1 1455.3 L1323.1 1458.49 L1305.27 1458.49 L1305.27 1455.3 Q1307.43 1453.06 1311.15 1449.3 Q1314.9 1445.52 1315.86 1444.43 Q1317.68 1442.38 1318.4 1440.96 Q1319.13 1439.54 1319.13 1438.16 Q1319.13 1435.92 1317.55 1434.51 Q1315.99 1433.1 1313.47 1433.1 Q1311.68 1433.1 1309.69 1433.72 Q1307.71 1434.34 1305.46 1435.6 L1305.46 1431.77 Q1307.75 1430.85 1309.74 1430.38 Q1311.74 1429.91 1313.39 1429.91 Q1317.76 1429.91 1320.35 1432.09 Q1322.95 1434.27 1322.95 1437.92 Q1322.95 1439.65 1322.29 1441.21 Q1321.65 1442.75 1319.94 1444.86 Q1319.47 1445.4 1316.95 1448.02 Q1314.43 1450.61 1309.84 1455.3 Z\" fill=\"#000000\" fill-rule=\"evenodd\" fill-opacity=\"1\" /><path clip-path=\"url(#clip780)\" d=\"M 0 0 M1327.22 1453.72 L1331.18 1453.72 L1331.18 1458.49 L1327.22 1458.49 L1327.22 1453.72 Z\" fill=\"#000000\" fill-rule=\"evenodd\" fill-opacity=\"1\" /><path clip-path=\"url(#clip780)\" d=\"M 0 0 M1335.34 1430.41 L1350.26 1430.41 L1350.26 1433.61 L1338.82 1433.61 L1338.82 1440.49 Q1339.65 1440.21 1340.48 1440.08 Q1341.3 1439.93 1342.13 1439.93 Q1346.83 1439.93 1349.58 1442.51 Q1352.32 1445.08 1352.32 1449.48 Q1352.32 1454.02 1349.5 1456.54 Q1346.68 1459.04 1341.55 1459.04 Q1339.78 1459.04 1337.94 1458.74 Q1336.11 1458.44 1334.16 1457.84 L1334.16 1454.02 Q1335.85 1454.94 1337.65 1455.39 Q1339.46 1455.84 1341.47 1455.84 Q1344.73 1455.84 1346.63 1454.13 Q1348.53 1452.42 1348.53 1449.48 Q1348.53 1446.55 1346.63 1444.84 Q1344.73 1443.13 1341.47 1443.13 Q1339.95 1443.13 1338.43 1443.47 Q1336.92 1443.8 1335.34 1444.52 L1335.34 1430.41 Z\" fill=\"#000000\" fill-rule=\"evenodd\" fill-opacity=\"1\" /><path clip-path=\"url(#clip780)\" d=\"M 0 0 M1599.85 1481.97 L1607.49 1481.97 L1607.49 1455.6 L1599.18 1457.27 L1599.18 1453.01 L1607.44 1451.34 L1612.12 1451.34 L1612.12 1481.97 L1619.75 1481.97 L1619.75 1485.9 L1599.85 1485.9 L1599.85 1481.97 Z\" fill=\"#000000\" fill-rule=\"evenodd\" fill-opacity=\"1\" /><path clip-path=\"url(#clip780)\" d=\"M 0 0 M1634.82 1454.42 Q1631.21 1454.42 1629.38 1457.99 Q1627.58 1461.53 1627.58 1468.66 Q1627.58 1475.77 1629.38 1479.33 Q1631.21 1482.87 1634.82 1482.87 Q1638.46 1482.87 1640.26 1479.33 Q1642.09 1475.77 1642.09 1468.66 Q1642.09 1461.53 1640.26 1457.99 Q1638.46 1454.42 1634.82 1454.42 M1634.82 1450.72 Q1640.63 1450.72 1643.69 1455.33 Q1646.77 1459.91 1646.77 1468.66 Q1646.77 1477.39 1643.69 1481.99 Q1640.63 1486.58 1634.82 1486.58 Q1629.01 1486.58 1625.93 1481.99 Q1622.88 1477.39 1622.88 1468.66 Q1622.88 1459.91 1625.93 1455.33 Q1629.01 1450.72 1634.82 1450.72 Z\" fill=\"#000000\" fill-rule=\"evenodd\" fill-opacity=\"1\" /><path clip-path=\"url(#clip780)\" d=\"M 0 0 M1659.46 1443.35 Q1662.19 1443.94 1663.71 1445.78 Q1665.26 1447.62 1665.26 1450.33 Q1665.26 1454.49 1662.4 1456.76 Q1659.54 1459.04 1654.27 1459.04 Q1652.5 1459.04 1650.62 1458.68 Q1648.76 1458.34 1646.77 1457.65 L1646.77 1453.98 Q1648.35 1454.9 1650.23 1455.37 Q1652.11 1455.84 1654.16 1455.84 Q1657.73 1455.84 1659.6 1454.43 Q1661.48 1453.02 1661.48 1450.33 Q1661.48 1447.85 1659.73 1446.46 Q1658 1445.05 1654.89 1445.05 L1651.62 1445.05 L1651.62 1441.92 L1655.04 1441.92 Q1657.85 1441.92 1659.33 1440.81 Q1660.82 1439.69 1660.82 1437.58 Q1660.82 1435.42 1659.28 1434.27 Q1657.75 1433.1 1654.89 1433.1 Q1653.33 1433.1 1651.55 1433.44 Q1649.76 1433.78 1647.61 1434.49 L1647.61 1431.11 Q1649.78 1430.51 1651.66 1430.21 Q1653.56 1429.91 1655.23 1429.91 Q1659.56 1429.91 1662.08 1431.88 Q1664.6 1433.84 1664.6 1437.18 Q1664.6 1439.52 1663.26 1441.13 Q1661.93 1442.73 1659.46 1443.35 Z\" fill=\"#000000\" fill-rule=\"evenodd\" fill-opacity=\"1\" /><path clip-path=\"url(#clip780)\" d=\"M 0 0 M1669.38 1453.72 L1673.34 1453.72 L1673.34 1458.49 L1669.38 1458.49 L1669.38 1453.72 Z\" fill=\"#000000\" fill-rule=\"evenodd\" fill-opacity=\"1\" /><path clip-path=\"url(#clip780)\" d=\"M 0 0 M1685.59 1432.91 Q1682.65 1432.91 1681.17 1435.81 Q1679.7 1438.69 1679.7 1444.48 Q1679.7 1450.26 1681.17 1453.15 Q1682.65 1456.03 1685.59 1456.03 Q1688.54 1456.03 1690.01 1453.15 Q1691.49 1450.26 1691.49 1444.48 Q1691.49 1438.69 1690.01 1435.81 Q1688.54 1432.91 1685.59 1432.91 M1685.59 1429.91 Q1690.31 1429.91 1692.79 1433.65 Q1695.29 1437.37 1695.29 1444.48 Q1695.29 1451.57 1692.79 1455.31 Q1690.31 1459.04 1685.59 1459.04 Q1680.87 1459.04 1678.37 1455.31 Q1675.88 1451.57 1675.88 1444.48 Q1675.88 1437.37 1678.37 1433.65 Q1680.87 1429.91 1685.59 1429.91 Z\" fill=\"#000000\" fill-rule=\"evenodd\" fill-opacity=\"1\" /><path clip-path=\"url(#clip780)\" d=\"M 0 0 M1942.49 1481.97 L1950.12 1481.97 L1950.12 1455.6 L1941.81 1457.27 L1941.81 1453.01 L1950.08 1451.34 L1954.75 1451.34 L1954.75 1481.97 L1962.39 1481.97 L1962.39 1485.9 L1942.49 1485.9 L1942.49 1481.97 Z\" fill=\"#000000\" fill-rule=\"evenodd\" fill-opacity=\"1\" /><path clip-path=\"url(#clip780)\" d=\"M 0 0 M1977.46 1454.42 Q1973.85 1454.42 1972.02 1457.99 Q1970.22 1461.53 1970.22 1468.66 Q1970.22 1475.77 1972.02 1479.33 Q1973.85 1482.87 1977.46 1482.87 Q1981.1 1482.87 1982.9 1479.33 Q1984.73 1475.77 1984.73 1468.66 Q1984.73 1461.53 1982.9 1457.99 Q1981.1 1454.42 1977.46 1454.42 M1977.46 1450.72 Q1983.27 1450.72 1986.33 1455.33 Q1989.41 1459.91 1989.41 1468.66 Q1989.41 1477.39 1986.33 1481.99 Q1983.27 1486.58 1977.46 1486.58 Q1971.65 1486.58 1968.57 1481.99 Q1965.52 1477.39 1965.52 1468.66 Q1965.52 1459.91 1968.57 1455.33 Q1971.65 1450.72 1977.46 1450.72 Z\" fill=\"#000000\" fill-rule=\"evenodd\" fill-opacity=\"1\" /><path clip-path=\"url(#clip780)\" d=\"M 0 0 M2002.1 1443.35 Q2004.83 1443.94 2006.35 1445.78 Q2007.89 1447.62 2007.89 1450.33 Q2007.89 1454.49 2005.04 1456.76 Q2002.18 1459.04 1996.91 1459.04 Q1995.14 1459.04 1993.26 1458.68 Q1991.4 1458.34 1989.41 1457.65 L1989.41 1453.98 Q1990.99 1454.9 1992.87 1455.37 Q1994.75 1455.84 1996.8 1455.84 Q2000.37 1455.84 2002.23 1454.43 Q2004.11 1453.02 2004.11 1450.33 Q2004.11 1447.85 2002.37 1446.46 Q2000.63 1445.05 1997.53 1445.05 L1994.26 1445.05 L1994.26 1441.92 L1997.68 1441.92 Q2000.48 1441.92 2001.97 1440.81 Q2003.46 1439.69 2003.46 1437.58 Q2003.46 1435.42 2001.91 1434.27 Q2000.39 1433.1 1997.53 1433.1 Q1995.97 1433.1 1994.18 1433.44 Q1992.4 1433.78 1990.25 1434.49 L1990.25 1431.11 Q1992.42 1430.51 1994.3 1430.21 Q1996.2 1429.91 1997.87 1429.91 Q2002.2 1429.91 2004.72 1431.88 Q2007.24 1433.84 2007.24 1437.18 Q2007.24 1439.52 2005.9 1441.13 Q2004.57 1442.73 2002.1 1443.35 Z\" fill=\"#000000\" fill-rule=\"evenodd\" fill-opacity=\"1\" /><path clip-path=\"url(#clip780)\" d=\"M 0 0 M2012.01 1453.72 L2015.98 1453.72 L2015.98 1458.49 L2012.01 1458.49 L2012.01 1453.72 Z\" fill=\"#000000\" fill-rule=\"evenodd\" fill-opacity=\"1\" /><path clip-path=\"url(#clip780)\" d=\"M 0 0 M2020.14 1430.41 L2035.05 1430.41 L2035.05 1433.61 L2023.62 1433.61 L2023.62 1440.49 Q2024.45 1440.21 2025.27 1440.08 Q2026.1 1439.93 2026.93 1439.93 Q2031.63 1439.93 2034.38 1442.51 Q2037.12 1445.08 2037.12 1449.48 Q2037.12 1454.02 2034.3 1456.54 Q2031.48 1459.04 2026.35 1459.04 Q2024.58 1459.04 2022.73 1458.74 Q2020.91 1458.44 2018.95 1457.84 L2018.95 1454.02 Q2020.65 1454.94 2022.45 1455.39 Q2024.26 1455.84 2026.27 1455.84 Q2029.52 1455.84 2031.42 1454.13 Q2033.32 1452.42 2033.32 1449.48 Q2033.32 1446.55 2031.42 1444.84 Q2029.52 1443.13 2026.27 1443.13 Q2024.75 1443.13 2023.22 1443.47 Q2021.72 1443.8 2020.14 1444.52 L2020.14 1430.41 Z\" fill=\"#000000\" fill-rule=\"evenodd\" fill-opacity=\"1\" /><path clip-path=\"url(#clip780)\" d=\"M 0 0 M157.533 1242.71 L173.852 1242.71 L173.852 1246.64 L151.908 1246.64 L151.908 1242.71 Q154.57 1239.95 159.153 1235.32 Q163.76 1230.67 164.941 1229.33 Q167.186 1226.8 168.065 1225.07 Q168.968 1223.31 168.968 1221.62 Q168.968 1218.86 167.024 1217.13 Q165.103 1215.39 162.001 1215.39 Q159.802 1215.39 157.348 1216.16 Q154.917 1216.92 152.14 1218.47 L152.14 1213.75 Q154.964 1212.61 157.417 1212.04 Q159.871 1211.46 161.908 1211.46 Q167.278 1211.46 170.473 1214.14 Q173.667 1216.83 173.667 1221.32 Q173.667 1223.45 172.857 1225.37 Q172.07 1227.27 169.964 1229.86 Q169.385 1230.53 166.283 1233.75 Q163.181 1236.94 157.533 1242.71 Z\" fill=\"#000000\" fill-rule=\"evenodd\" fill-opacity=\"1\" /><path clip-path=\"url(#clip780)\" d=\"M 0 0 M188.922 1215.16 Q185.311 1215.16 183.482 1218.73 Q181.677 1222.27 181.677 1229.4 Q181.677 1236.5 183.482 1240.07 Q185.311 1243.61 188.922 1243.61 Q192.556 1243.61 194.362 1240.07 Q196.19 1236.5 196.19 1229.4 Q196.19 1222.27 194.362 1218.73 Q192.556 1215.16 188.922 1215.16 M188.922 1211.46 Q194.732 1211.46 197.788 1216.06 Q200.866 1220.65 200.866 1229.4 Q200.866 1238.12 197.788 1242.73 Q194.732 1247.31 188.922 1247.31 Q183.112 1247.31 180.033 1242.73 Q176.977 1238.12 176.977 1229.4 Q176.977 1220.65 180.033 1216.06 Q183.112 1211.46 188.922 1211.46 Z\" fill=\"#000000\" fill-rule=\"evenodd\" fill-opacity=\"1\" /><path clip-path=\"url(#clip780)\" d=\"M 0 0 M164.269 930.275 L152.464 948.724 L164.269 948.724 L164.269 930.275 M163.042 926.201 L168.922 926.201 L168.922 948.724 L173.852 948.724 L173.852 952.613 L168.922 952.613 L168.922 960.761 L164.269 960.761 L164.269 952.613 L148.667 952.613 L148.667 948.099 L163.042 926.201 Z\" fill=\"#000000\" fill-rule=\"evenodd\" fill-opacity=\"1\" /><path clip-path=\"url(#clip780)\" d=\"M 0 0 M188.922 929.28 Q185.311 929.28 183.482 932.845 Q181.677 936.386 181.677 943.516 Q181.677 950.622 183.482 954.187 Q185.311 957.729 188.922 957.729 Q192.556 957.729 194.362 954.187 Q196.19 950.622 196.19 943.516 Q196.19 936.386 194.362 932.845 Q192.556 929.28 188.922 929.28 M188.922 925.576 Q194.732 925.576 197.788 930.183 Q200.866 934.766 200.866 943.516 Q200.866 952.243 197.788 956.849 Q194.732 961.432 188.922 961.432 Q183.112 961.432 180.033 956.849 Q176.977 952.243 176.977 943.516 Q176.977 934.766 180.033 930.183 Q183.112 925.576 188.922 925.576 Z\" fill=\"#000000\" fill-rule=\"evenodd\" fill-opacity=\"1\" /><path clip-path=\"url(#clip780)\" d=\"M 0 0 M162.325 655.737 Q159.177 655.737 157.325 657.889 Q155.496 660.042 155.496 663.792 Q155.496 667.519 157.325 669.695 Q159.177 671.848 162.325 671.848 Q165.473 671.848 167.302 669.695 Q169.153 667.519 169.153 663.792 Q169.153 660.042 167.302 657.889 Q165.473 655.737 162.325 655.737 M171.607 641.084 L171.607 645.343 Q169.848 644.51 168.042 644.07 Q166.26 643.63 164.501 643.63 Q159.871 643.63 157.417 646.755 Q154.987 649.88 154.64 656.2 Q156.005 654.186 158.066 653.121 Q160.126 652.033 162.603 652.033 Q167.811 652.033 170.82 655.204 Q173.852 658.352 173.852 663.792 Q173.852 669.116 170.704 672.334 Q167.556 675.551 162.325 675.551 Q156.329 675.551 153.158 670.968 Q149.987 666.362 149.987 657.635 Q149.987 649.44 153.876 644.579 Q157.765 639.695 164.316 639.695 Q166.075 639.695 167.857 640.042 Q169.663 640.39 171.607 641.084 Z\" fill=\"#000000\" fill-rule=\"evenodd\" fill-opacity=\"1\" /><path clip-path=\"url(#clip780)\" d=\"M 0 0 M188.922 643.399 Q185.311 643.399 183.482 646.964 Q181.677 650.505 181.677 657.635 Q181.677 664.741 183.482 668.306 Q185.311 671.848 188.922 671.848 Q192.556 671.848 194.362 668.306 Q196.19 664.741 196.19 657.635 Q196.19 650.505 194.362 646.964 Q192.556 643.399 188.922 643.399 M188.922 639.695 Q194.732 639.695 197.788 644.302 Q200.866 648.885 200.866 657.635 Q200.866 666.362 197.788 670.968 Q194.732 675.551 188.922 675.551 Q183.112 675.551 180.033 670.968 Q176.977 666.362 176.977 657.635 Q176.977 648.885 180.033 644.302 Q183.112 639.695 188.922 639.695 Z\" fill=\"#000000\" fill-rule=\"evenodd\" fill-opacity=\"1\" /><path clip-path=\"url(#clip780)\" d=\"M 0 0 M162.001 372.587 Q158.667 372.587 156.746 374.37 Q154.848 376.152 154.848 379.277 Q154.848 382.402 156.746 384.184 Q158.667 385.967 162.001 385.967 Q165.334 385.967 167.255 384.184 Q169.177 382.379 169.177 379.277 Q169.177 376.152 167.255 374.37 Q165.357 372.587 162.001 372.587 M157.325 370.596 Q154.316 369.856 152.626 367.795 Q150.959 365.735 150.959 362.772 Q150.959 358.629 153.899 356.221 Q156.862 353.814 162.001 353.814 Q167.163 353.814 170.103 356.221 Q173.042 358.629 173.042 362.772 Q173.042 365.735 171.353 367.795 Q169.686 369.856 166.7 370.596 Q170.079 371.383 171.954 373.675 Q173.852 375.967 173.852 379.277 Q173.852 384.3 170.774 386.985 Q167.718 389.67 162.001 389.67 Q156.283 389.67 153.204 386.985 Q150.149 384.3 150.149 379.277 Q150.149 375.967 152.047 373.675 Q153.945 371.383 157.325 370.596 M155.612 363.212 Q155.612 365.897 157.279 367.402 Q158.968 368.907 162.001 368.907 Q165.01 368.907 166.7 367.402 Q168.413 365.897 168.413 363.212 Q168.413 360.527 166.7 359.022 Q165.01 357.518 162.001 357.518 Q158.968 357.518 157.279 359.022 Q155.612 360.527 155.612 363.212 Z\" fill=\"#000000\" fill-rule=\"evenodd\" fill-opacity=\"1\" /><path clip-path=\"url(#clip780)\" d=\"M 0 0 M188.922 357.518 Q185.311 357.518 183.482 361.083 Q181.677 364.624 181.677 371.754 Q181.677 378.86 183.482 382.425 Q185.311 385.967 188.922 385.967 Q192.556 385.967 194.362 382.425 Q196.19 378.86 196.19 371.754 Q196.19 364.624 194.362 361.083 Q192.556 357.518 188.922 357.518 M188.922 353.814 Q194.732 353.814 197.788 358.421 Q200.866 363.004 200.866 371.754 Q200.866 380.481 197.788 385.087 Q194.732 389.67 188.922 389.67 Q183.112 389.67 180.033 385.087 Q176.977 380.481 176.977 371.754 Q176.977 363.004 180.033 358.421 Q183.112 353.814 188.922 353.814 Z\" fill=\"#000000\" fill-rule=\"evenodd\" fill-opacity=\"1\" /><path clip-path=\"url(#clip780)\" d=\"M 0 0 M126.931 99.1829 L134.57 99.1829 L134.57 72.8173 L126.26 74.4839 L126.26 70.2247 L134.524 68.558 L139.2 68.558 L139.2 99.1829 L146.839 99.1829 L146.839 103.118 L126.931 103.118 L126.931 99.1829 Z\" fill=\"#000000\" fill-rule=\"evenodd\" fill-opacity=\"1\" /><path clip-path=\"url(#clip780)\" d=\"M 0 0 M161.908 71.6367 Q158.297 71.6367 156.468 75.2015 Q154.663 78.7432 154.663 85.8728 Q154.663 92.9792 156.468 96.544 Q158.297 100.086 161.908 100.086 Q165.542 100.086 167.348 96.544 Q169.177 92.9792 169.177 85.8728 Q169.177 78.7432 167.348 75.2015 Q165.542 71.6367 161.908 71.6367 M161.908 67.933 Q167.718 67.933 170.774 72.5395 Q173.852 77.1228 173.852 85.8728 Q173.852 94.5996 170.774 99.206 Q167.718 103.789 161.908 103.789 Q156.098 103.789 153.019 99.206 Q149.964 94.5996 149.964 85.8728 Q149.964 77.1228 153.019 72.5395 Q156.098 67.933 161.908 67.933 Z\" fill=\"#000000\" fill-rule=\"evenodd\" fill-opacity=\"1\" /><path clip-path=\"url(#clip780)\" d=\"M 0 0 M188.922 71.6367 Q185.311 71.6367 183.482 75.2015 Q181.677 78.7432 181.677 85.8728 Q181.677 92.9792 183.482 96.544 Q185.311 100.086 188.922 100.086 Q192.556 100.086 194.362 96.544 Q196.19 92.9792 196.19 85.8728 Q196.19 78.7432 194.362 75.2015 Q192.556 71.6367 188.922 71.6367 M188.922 67.933 Q194.732 67.933 197.788 72.5395 Q200.866 77.1228 200.866 85.8728 Q200.866 94.5996 197.788 99.206 Q194.732 103.789 188.922 103.789 Q183.112 103.789 180.033 99.206 Q176.977 94.5996 176.977 85.8728 Q176.977 77.1228 180.033 72.5395 Q183.112 67.933 188.922 67.933 Z\" fill=\"#000000\" fill-rule=\"evenodd\" fill-opacity=\"1\" /><path clip-path=\"url(#clip780)\" d=\"M 0 0 M1099.09 1542.9 L1099.09 1545.76 L1072.16 1545.76 Q1072.55 1551.81 1075.79 1554.99 Q1079.07 1558.14 1084.9 1558.14 Q1088.27 1558.14 1091.42 1557.32 Q1094.6 1556.49 1097.72 1554.83 L1097.72 1560.37 Q1094.57 1561.71 1091.26 1562.41 Q1087.95 1563.11 1084.55 1563.11 Q1076.01 1563.11 1071.02 1558.14 Q1066.05 1553.18 1066.05 1544.71 Q1066.05 1535.96 1070.76 1530.83 Q1075.51 1525.68 1083.53 1525.68 Q1090.72 1525.68 1094.89 1530.33 Q1099.09 1534.94 1099.09 1542.9 M1093.23 1541.18 Q1093.17 1536.37 1090.53 1533.51 Q1087.92 1530.64 1083.59 1530.64 Q1078.69 1530.64 1075.73 1533.41 Q1072.8 1536.18 1072.35 1541.21 L1093.23 1541.18 Z\" fill=\"#000000\" fill-rule=\"evenodd\" fill-opacity=\"1\" /><path clip-path=\"url(#clip780)\" d=\"M 0 0 M1110.9 1556.84 L1110.9 1575.74 L1105.01 1575.74 L1105.01 1526.54 L1110.9 1526.54 L1110.9 1531.95 Q1112.75 1528.77 1115.55 1527.24 Q1118.38 1525.68 1122.29 1525.68 Q1128.79 1525.68 1132.83 1530.83 Q1136.9 1535.99 1136.9 1544.39 Q1136.9 1552.8 1132.83 1557.95 Q1128.79 1563.11 1122.29 1563.11 Q1118.38 1563.11 1115.55 1561.58 Q1112.75 1560.02 1110.9 1556.84 M1130.82 1544.39 Q1130.82 1537.93 1128.15 1534.27 Q1125.51 1530.58 1120.86 1530.58 Q1116.21 1530.58 1113.54 1534.27 Q1110.9 1537.93 1110.9 1544.39 Q1110.9 1550.85 1113.54 1554.55 Q1116.21 1558.21 1120.86 1558.21 Q1125.51 1558.21 1128.15 1554.55 Q1130.82 1550.85 1130.82 1544.39 Z\" fill=\"#000000\" fill-rule=\"evenodd\" fill-opacity=\"1\" /><path clip-path=\"url(#clip780)\" d=\"M 0 0 M1156.86 1530.64 Q1152.15 1530.64 1149.41 1534.34 Q1146.67 1538 1146.67 1544.39 Q1146.67 1550.79 1149.38 1554.48 Q1152.12 1558.14 1156.86 1558.14 Q1161.54 1558.14 1164.28 1554.45 Q1167.01 1550.76 1167.01 1544.39 Q1167.01 1538.06 1164.28 1534.37 Q1161.54 1530.64 1156.86 1530.64 M1156.86 1525.68 Q1164.5 1525.68 1168.86 1530.64 Q1173.22 1535.61 1173.22 1544.39 Q1173.22 1553.15 1168.86 1558.14 Q1164.5 1563.11 1156.86 1563.11 Q1149.19 1563.11 1144.83 1558.14 Q1140.5 1553.15 1140.5 1544.39 Q1140.5 1535.61 1144.83 1530.64 Q1149.19 1525.68 1156.86 1525.68 Z\" fill=\"#000000\" fill-rule=\"evenodd\" fill-opacity=\"1\" /><path clip-path=\"url(#clip780)\" d=\"M 0 0 M1205.02 1527.91 L1205.02 1533.38 Q1202.53 1532.01 1200.02 1531.34 Q1197.54 1530.64 1194.99 1530.64 Q1189.29 1530.64 1186.14 1534.27 Q1182.99 1537.87 1182.99 1544.39 Q1182.99 1550.92 1186.14 1554.55 Q1189.29 1558.14 1194.99 1558.14 Q1197.54 1558.14 1200.02 1557.47 Q1202.53 1556.77 1205.02 1555.41 L1205.02 1560.82 Q1202.57 1561.96 1199.92 1562.54 Q1197.31 1563.11 1194.35 1563.11 Q1186.3 1563.11 1181.56 1558.05 Q1176.82 1552.99 1176.82 1544.39 Q1176.82 1535.67 1181.59 1530.68 Q1186.4 1525.68 1194.74 1525.68 Q1197.44 1525.68 1200.02 1526.25 Q1202.6 1526.79 1205.02 1527.91 Z\" fill=\"#000000\" fill-rule=\"evenodd\" fill-opacity=\"1\" /><path clip-path=\"url(#clip780)\" d=\"M 0 0 M1240.79 1540.67 L1240.79 1562.19 L1234.93 1562.19 L1234.93 1540.86 Q1234.93 1535.8 1232.96 1533.29 Q1230.99 1530.77 1227.04 1530.77 Q1222.3 1530.77 1219.56 1533.79 Q1216.82 1536.82 1216.82 1542.04 L1216.82 1562.19 L1210.94 1562.19 L1210.94 1512.66 L1216.82 1512.66 L1216.82 1532.08 Q1218.93 1528.86 1221.76 1527.27 Q1224.62 1525.68 1228.35 1525.68 Q1234.49 1525.68 1237.64 1529.5 Q1240.79 1533.29 1240.79 1540.67 Z\" fill=\"#000000\" fill-rule=\"evenodd\" fill-opacity=\"1\" /><path clip-path=\"url(#clip780)\" d=\"M 0 0 M1269.66 1527.59 L1269.66 1533.13 Q1267.18 1531.85 1264.5 1531.22 Q1261.83 1530.58 1258.97 1530.58 Q1254.6 1530.58 1252.41 1531.92 Q1250.24 1533.25 1250.24 1535.93 Q1250.24 1537.96 1251.8 1539.14 Q1253.36 1540.29 1258.07 1541.34 L1260.08 1541.78 Q1266.32 1543.12 1268.93 1545.57 Q1271.57 1547.99 1271.57 1552.35 Q1271.57 1557.32 1267.62 1560.21 Q1263.71 1563.11 1256.83 1563.11 Q1253.97 1563.11 1250.85 1562.54 Q1247.76 1561.99 1244.32 1560.88 L1244.32 1554.83 Q1247.57 1556.52 1250.72 1557.38 Q1253.87 1558.21 1256.96 1558.21 Q1261.1 1558.21 1263.33 1556.81 Q1265.55 1555.37 1265.55 1552.8 Q1265.55 1550.41 1263.93 1549.14 Q1262.34 1547.86 1256.9 1546.68 L1254.86 1546.21 Q1249.42 1545.06 1247 1542.71 Q1244.58 1540.32 1244.58 1536.18 Q1244.58 1531.15 1248.14 1528.42 Q1251.71 1525.68 1258.27 1525.68 Q1261.51 1525.68 1264.38 1526.16 Q1267.24 1526.63 1269.66 1527.59 Z\" fill=\"#000000\" fill-rule=\"evenodd\" fill-opacity=\"1\" /><path clip-path=\"url(#clip780)\" d=\"M 0 0 M70.212 837.813 Q63.7508 837.813 60.0905 840.486 Q56.3984 843.128 56.3984 847.775 Q56.3984 852.422 60.0905 855.095 Q63.7508 857.737 70.212 857.737 Q76.6732 857.737 80.3653 855.095 Q84.0256 852.422 84.0256 847.775 Q84.0256 843.128 80.3653 840.486 Q76.6732 837.813 70.212 837.813 M57.7671 857.737 Q54.5842 855.891 53.0564 853.09 Q51.4968 850.258 51.4968 846.343 Q51.4968 839.85 56.6531 835.807 Q61.8093 831.733 70.212 831.733 Q78.6147 831.733 83.771 835.807 Q88.9272 839.85 88.9272 846.343 Q88.9272 850.258 87.3994 853.09 Q85.8398 855.891 82.657 857.737 L88.0042 857.737 L88.0042 863.625 L38.479 863.625 L38.479 857.737 L57.7671 857.737 Z\" fill=\"#000000\" fill-rule=\"evenodd\" fill-opacity=\"1\" /><path clip-path=\"url(#clip780)\" d=\"M 0 0 M73.9359 826.195 L52.3562 826.195 L52.3562 820.339 L73.7131 820.339 Q78.7739 820.339 81.3202 818.365 Q83.8346 816.392 83.8346 812.445 Q83.8346 807.703 80.8109 804.966 Q77.7872 802.196 72.5673 802.196 L52.3562 802.196 L52.3562 796.34 L88.0042 796.34 L88.0042 802.196 L82.5296 802.196 Q85.7762 804.329 87.3676 807.162 Q88.9272 809.963 88.9272 813.687 Q88.9272 819.829 85.1078 823.012 Q81.2883 826.195 73.9359 826.195 M51.4968 811.459 L51.4968 811.459 Z\" fill=\"#000000\" fill-rule=\"evenodd\" fill-opacity=\"1\" /><path clip-path=\"url(#clip780)\" d=\"M 0 0 M52.3562 790.197 L52.3562 784.341 L88.0042 784.341 L88.0042 790.197 L52.3562 790.197 M38.479 790.197 L38.479 784.341 L45.895 784.341 L45.895 790.197 L38.479 790.197 Z\" fill=\"#000000\" fill-rule=\"evenodd\" fill-opacity=\"1\" /><path clip-path=\"url(#clip780)\" d=\"M 0 0 M38.479 778.198 L38.479 772.341 L88.0042 772.341 L88.0042 778.198 L38.479 778.198 Z\" fill=\"#000000\" fill-rule=\"evenodd\" fill-opacity=\"1\" /><path clip-path=\"url(#clip780)\" d=\"M 0 0 M57.7671 742.741 L38.479 742.741 L38.479 736.884 L88.0042 736.884 L88.0042 742.741 L82.657 742.741 Q85.8398 744.587 87.3994 747.42 Q88.9272 750.22 88.9272 754.167 Q88.9272 760.628 83.771 764.702 Q78.6147 768.745 70.212 768.745 Q61.8093 768.745 56.6531 764.702 Q51.4968 760.628 51.4968 754.167 Q51.4968 750.22 53.0564 747.42 Q54.5842 744.587 57.7671 742.741 M70.212 762.697 Q76.6732 762.697 80.3653 760.055 Q84.0256 757.382 84.0256 752.735 Q84.0256 748.088 80.3653 745.414 Q76.6732 742.741 70.212 742.741 Q63.7508 742.741 60.0905 745.414 Q56.3984 748.088 56.3984 752.735 Q56.3984 757.382 60.0905 760.055 Q63.7508 762.697 70.212 762.697 Z\" fill=\"#000000\" fill-rule=\"evenodd\" fill-opacity=\"1\" /><path clip-path=\"url(#clip780)\" d=\"M 0 0 M68.7161 700.25 L71.5806 700.25 L71.5806 727.177 Q77.6281 726.795 80.8109 723.548 Q83.9619 720.27 83.9619 714.445 Q83.9619 711.071 83.1344 707.92 Q82.3069 704.737 80.6518 701.618 L86.1899 701.618 Q87.5267 704.769 88.227 708.079 Q88.9272 711.39 88.9272 714.795 Q88.9272 723.325 83.9619 728.322 Q78.9967 733.288 70.5303 733.288 Q61.7774 733.288 56.6531 728.577 Q51.4968 723.835 51.4968 715.814 Q51.4968 708.621 56.1438 704.451 Q60.7589 700.25 68.7161 700.25 M66.9973 706.106 Q62.1912 706.17 59.3266 708.812 Q56.4621 711.421 56.4621 715.75 Q56.4621 720.652 59.2312 723.612 Q62.0002 726.54 67.0292 726.986 L66.9973 706.106 Z\" fill=\"#000000\" fill-rule=\"evenodd\" fill-opacity=\"1\" /><path clip-path=\"url(#clip780)\" d=\"M 0 0 M57.8307 673.45 Q57.2578 674.437 57.0032 675.614 Q56.7167 676.76 56.7167 678.161 Q56.7167 683.126 59.9632 685.799 Q63.1779 688.441 69.2253 688.441 L88.0042 688.441 L88.0042 694.33 L52.3562 694.33 L52.3562 688.441 L57.8944 688.441 Q54.6479 686.595 53.0883 683.635 Q51.4968 680.675 51.4968 676.442 Q51.4968 675.837 51.5923 675.105 Q51.656 674.373 51.8151 673.482 L57.8307 673.45 Z\" fill=\"#000000\" fill-rule=\"evenodd\" fill-opacity=\"1\" /><path clip-path=\"url(#clip780)\" d=\"M 0 0 M79.9197 672.463 L79.9197 665.748 L88.0042 665.748 L88.0042 672.463 L79.9197 672.463 Z\" fill=\"#000000\" fill-rule=\"evenodd\" fill-opacity=\"1\" /><path clip-path=\"url(#clip780)\" d=\"M 0 0 M66.4881 629.972 L88.0042 629.972 L88.0042 635.829 L66.679 635.829 Q61.6183 635.829 59.1038 637.802 Q56.5894 639.775 56.5894 643.722 Q56.5894 648.465 59.6131 651.202 Q62.6368 653.939 67.8567 653.939 L88.0042 653.939 L88.0042 659.827 L52.3562 659.827 L52.3562 653.939 L57.8944 653.939 Q54.6797 651.838 53.0883 649.006 Q51.4968 646.141 51.4968 642.417 Q51.4968 636.274 55.3163 633.123 Q59.1038 629.972 66.4881 629.972 Z\" fill=\"#000000\" fill-rule=\"evenodd\" fill-opacity=\"1\" /><path clip-path=\"url(#clip780)\" d=\"M 0 0 M82.5933 621.888 L82.5933 611.384 L46.3406 611.384 L48.6323 622.811 L42.7758 622.811 L40.4842 611.448 L40.4842 605.019 L82.5933 605.019 L82.5933 594.515 L88.0042 594.515 L88.0042 621.888 L82.5933 621.888 Z\" fill=\"#000000\" fill-rule=\"evenodd\" fill-opacity=\"1\" /><circle clip-path=\"url(#clip782)\" cx=\"785.052\" cy=\"85.838\" r=\"15\" fill=\"#3c0964\" fill-rule=\"evenodd\" fill-opacity=\"1\" stroke=\"#000000\" stroke-opacity=\"1\" stroke-width=\"3.2\"/>\n",
       "<circle clip-path=\"url(#clip782)\" cx=\"1040.76\" cy=\"271.661\" r=\"9\" fill=\"#110a31\" fill-rule=\"evenodd\" fill-opacity=\"1\" stroke=\"#000000\" stroke-opacity=\"1\" stroke-width=\"3.2\"/>\n",
       "<circle clip-path=\"url(#clip782)\" cx=\"278.297\" cy=\"643.306\" r=\"51\" fill=\"#fbae13\" fill-rule=\"evenodd\" fill-opacity=\"1\" stroke=\"#000000\" stroke-opacity=\"1\" stroke-width=\"3.2\"/>\n",
       "<circle clip-path=\"url(#clip782)\" cx=\"538.54\" cy=\"814.835\" r=\"47\" fill=\"#f7840f\" fill-rule=\"evenodd\" fill-opacity=\"1\" stroke=\"#000000\" stroke-opacity=\"1\" stroke-width=\"3.2\"/>\n",
       "<circle clip-path=\"url(#clip782)\" cx=\"1040.76\" cy=\"85.838\" r=\"8\" fill=\"#110930\" fill-rule=\"evenodd\" fill-opacity=\"1\" stroke=\"#000000\" stroke-opacity=\"1\" stroke-width=\"3.2\"/>\n",
       "<circle clip-path=\"url(#clip782)\" cx=\"2059.33\" cy=\"1372.3\" r=\"4\" fill=\"#02010c\" fill-rule=\"evenodd\" fill-opacity=\"1\" stroke=\"#000000\" stroke-opacity=\"1\" stroke-width=\"3.2\"/>\n",
       "<circle clip-path=\"url(#clip782)\" cx=\"1804.97\" cy=\"643.306\" r=\"5\" fill=\"#02020e\" fill-rule=\"evenodd\" fill-opacity=\"1\" stroke=\"#000000\" stroke-opacity=\"1\" stroke-width=\"3.2\"/>\n",
       "<circle clip-path=\"url(#clip782)\" cx=\"2059.33\" cy=\"1000.66\" r=\"4\" fill=\"#010008\" fill-rule=\"evenodd\" fill-opacity=\"1\" stroke=\"#000000\" stroke-opacity=\"1\" stroke-width=\"3.2\"/>\n",
       "<circle clip-path=\"url(#clip782)\" cx=\"785.052\" cy=\"1000.66\" r=\"25\" fill=\"#7c1d6c\" fill-rule=\"evenodd\" fill-opacity=\"1\" stroke=\"#000000\" stroke-opacity=\"1\" stroke-width=\"3.2\"/>\n",
       "<circle clip-path=\"url(#clip782)\" cx=\"278.297\" cy=\"814.835\" r=\"51\" fill=\"#fbae12\" fill-rule=\"evenodd\" fill-opacity=\"1\" stroke=\"#000000\" stroke-opacity=\"1\" stroke-width=\"3.2\"/>\n",
       "<circle clip-path=\"url(#clip782)\" cx=\"1296.2\" cy=\"457.483\" r=\"7\" fill=\"#090621\" fill-rule=\"evenodd\" fill-opacity=\"1\" stroke=\"#000000\" stroke-opacity=\"1\" stroke-width=\"3.2\"/>\n",
       "<circle clip-path=\"url(#clip782)\" cx=\"278.297\" cy=\"457.483\" r=\"50\" fill=\"#fba50a\" fill-rule=\"evenodd\" fill-opacity=\"1\" stroke=\"#000000\" stroke-opacity=\"1\" stroke-width=\"3.2\"/>\n",
       "<circle clip-path=\"url(#clip782)\" cx=\"1040.76\" cy=\"457.483\" r=\"9\" fill=\"#110a30\" fill-rule=\"evenodd\" fill-opacity=\"1\" stroke=\"#000000\" stroke-opacity=\"1\" stroke-width=\"3.2\"/>\n",
       "<circle clip-path=\"url(#clip782)\" cx=\"1040.76\" cy=\"1372.3\" r=\"13\" fill=\"#2a0a56\" fill-rule=\"evenodd\" fill-opacity=\"1\" stroke=\"#000000\" stroke-opacity=\"1\" stroke-width=\"3.2\"/>\n",
       "<circle clip-path=\"url(#clip782)\" cx=\"1550.41\" cy=\"1000.66\" r=\"6\" fill=\"#07051c\" fill-rule=\"evenodd\" fill-opacity=\"1\" stroke=\"#000000\" stroke-opacity=\"1\" stroke-width=\"3.2\"/>\n",
       "<circle clip-path=\"url(#clip782)\" cx=\"785.052\" cy=\"457.483\" r=\"18\" fill=\"#530e6c\" fill-rule=\"evenodd\" fill-opacity=\"1\" stroke=\"#000000\" stroke-opacity=\"1\" stroke-width=\"3.2\"/>\n",
       "<circle clip-path=\"url(#clip782)\" cx=\"2059.33\" cy=\"85.838\" r=\"4\" fill=\"#010008\" fill-rule=\"evenodd\" fill-opacity=\"1\" stroke=\"#000000\" stroke-opacity=\"1\" stroke-width=\"3.2\"/>\n",
       "<circle clip-path=\"url(#clip782)\" cx=\"1296.2\" cy=\"1186.48\" r=\"7\" fill=\"#0a0723\" fill-rule=\"evenodd\" fill-opacity=\"1\" stroke=\"#000000\" stroke-opacity=\"1\" stroke-width=\"3.2\"/>\n",
       "<circle clip-path=\"url(#clip782)\" cx=\"1804.97\" cy=\"271.661\" r=\"5\" fill=\"#02010d\" fill-rule=\"evenodd\" fill-opacity=\"1\" stroke=\"#000000\" stroke-opacity=\"1\" stroke-width=\"3.2\"/>\n",
       "<circle clip-path=\"url(#clip782)\" cx=\"2059.33\" cy=\"457.483\" r=\"4\" fill=\"#010008\" fill-rule=\"evenodd\" fill-opacity=\"1\" stroke=\"#000000\" stroke-opacity=\"1\" stroke-width=\"3.2\"/>\n",
       "<circle clip-path=\"url(#clip782)\" cx=\"1804.97\" cy=\"457.483\" r=\"5\" fill=\"#02010d\" fill-rule=\"evenodd\" fill-opacity=\"1\" stroke=\"#000000\" stroke-opacity=\"1\" stroke-width=\"3.2\"/>\n",
       "<circle clip-path=\"url(#clip782)\" cx=\"1296.2\" cy=\"643.306\" r=\"7\" fill=\"#090621\" fill-rule=\"evenodd\" fill-opacity=\"1\" stroke=\"#000000\" stroke-opacity=\"1\" stroke-width=\"3.2\"/>\n",
       "<circle clip-path=\"url(#clip782)\" cx=\"1550.41\" cy=\"1372.3\" r=\"6\" fill=\"#06041a\" fill-rule=\"evenodd\" fill-opacity=\"1\" stroke=\"#000000\" stroke-opacity=\"1\" stroke-width=\"3.2\"/>\n",
       "<circle clip-path=\"url(#clip782)\" cx=\"785.052\" cy=\"814.835\" r=\"21\" fill=\"#64156e\" fill-rule=\"evenodd\" fill-opacity=\"1\" stroke=\"#000000\" stroke-opacity=\"1\" stroke-width=\"3.2\"/>\n",
       "<circle clip-path=\"url(#clip782)\" cx=\"785.052\" cy=\"271.661\" r=\"16\" fill=\"#440a68\" fill-rule=\"evenodd\" fill-opacity=\"1\" stroke=\"#000000\" stroke-opacity=\"1\" stroke-width=\"3.2\"/>\n",
       "<circle clip-path=\"url(#clip782)\" cx=\"538.54\" cy=\"1372.3\" r=\"48\" fill=\"#f98c09\" fill-rule=\"evenodd\" fill-opacity=\"1\" stroke=\"#000000\" stroke-opacity=\"1\" stroke-width=\"3.2\"/>\n",
       "<circle clip-path=\"url(#clip782)\" cx=\"1040.76\" cy=\"1186.48\" r=\"10\" fill=\"#1b0c42\" fill-rule=\"evenodd\" fill-opacity=\"1\" stroke=\"#000000\" stroke-opacity=\"1\" stroke-width=\"3.2\"/>\n",
       "<circle clip-path=\"url(#clip782)\" cx=\"2059.33\" cy=\"1186.48\" r=\"3\" fill=\"#000005\" fill-rule=\"evenodd\" fill-opacity=\"1\" stroke=\"#000000\" stroke-opacity=\"1\" stroke-width=\"3.2\"/>\n",
       "<circle clip-path=\"url(#clip782)\" cx=\"1804.97\" cy=\"814.835\" r=\"5\" fill=\"#02020f\" fill-rule=\"evenodd\" fill-opacity=\"1\" stroke=\"#000000\" stroke-opacity=\"1\" stroke-width=\"3.2\"/>\n",
       "<circle clip-path=\"url(#clip782)\" cx=\"1296.2\" cy=\"814.835\" r=\"7\" fill=\"#090621\" fill-rule=\"evenodd\" fill-opacity=\"1\" stroke=\"#000000\" stroke-opacity=\"1\" stroke-width=\"3.2\"/>\n",
       "<circle clip-path=\"url(#clip782)\" cx=\"1804.97\" cy=\"1000.66\" r=\"5\" fill=\"#030212\" fill-rule=\"evenodd\" fill-opacity=\"1\" stroke=\"#000000\" stroke-opacity=\"1\" stroke-width=\"3.2\"/>\n",
       "<circle clip-path=\"url(#clip782)\" cx=\"1550.41\" cy=\"85.838\" r=\"6\" fill=\"#050417\" fill-rule=\"evenodd\" fill-opacity=\"1\" stroke=\"#000000\" stroke-opacity=\"1\" stroke-width=\"3.2\"/>\n",
       "<circle clip-path=\"url(#clip782)\" cx=\"538.54\" cy=\"1000.66\" r=\"47\" fill=\"#f7840f\" fill-rule=\"evenodd\" fill-opacity=\"1\" stroke=\"#000000\" stroke-opacity=\"1\" stroke-width=\"3.2\"/>\n",
       "<circle clip-path=\"url(#clip782)\" cx=\"278.297\" cy=\"271.661\" r=\"50\" fill=\"#fba60b\" fill-rule=\"evenodd\" fill-opacity=\"1\" stroke=\"#000000\" stroke-opacity=\"1\" stroke-width=\"3.2\"/>\n",
       "<circle clip-path=\"url(#clip782)\" cx=\"1550.41\" cy=\"271.661\" r=\"6\" fill=\"#060419\" fill-rule=\"evenodd\" fill-opacity=\"1\" stroke=\"#000000\" stroke-opacity=\"1\" stroke-width=\"3.2\"/>\n",
       "<circle clip-path=\"url(#clip782)\" cx=\"538.54\" cy=\"643.306\" r=\"47\" fill=\"#f7850e\" fill-rule=\"evenodd\" fill-opacity=\"1\" stroke=\"#000000\" stroke-opacity=\"1\" stroke-width=\"3.2\"/>\n",
       "<circle clip-path=\"url(#clip782)\" cx=\"1804.97\" cy=\"1186.48\" r=\"5\" fill=\"#030210\" fill-rule=\"evenodd\" fill-opacity=\"1\" stroke=\"#000000\" stroke-opacity=\"1\" stroke-width=\"3.2\"/>\n",
       "<circle clip-path=\"url(#clip782)\" cx=\"2059.33\" cy=\"271.661\" r=\"4\" fill=\"#010008\" fill-rule=\"evenodd\" fill-opacity=\"1\" stroke=\"#000000\" stroke-opacity=\"1\" stroke-width=\"3.2\"/>\n",
       "<circle clip-path=\"url(#clip782)\" cx=\"538.54\" cy=\"457.483\" r=\"46\" fill=\"#f68210\" fill-rule=\"evenodd\" fill-opacity=\"1\" stroke=\"#000000\" stroke-opacity=\"1\" stroke-width=\"3.2\"/>\n",
       "<circle clip-path=\"url(#clip782)\" cx=\"538.54\" cy=\"271.661\" r=\"45\" fill=\"#f2751b\" fill-rule=\"evenodd\" fill-opacity=\"1\" stroke=\"#000000\" stroke-opacity=\"1\" stroke-width=\"3.2\"/>\n",
       "<circle clip-path=\"url(#clip782)\" cx=\"1804.97\" cy=\"85.838\" r=\"5\" fill=\"#02010d\" fill-rule=\"evenodd\" fill-opacity=\"1\" stroke=\"#000000\" stroke-opacity=\"1\" stroke-width=\"3.2\"/>\n",
       "<circle clip-path=\"url(#clip782)\" cx=\"785.052\" cy=\"643.306\" r=\"20\" fill=\"#5d126e\" fill-rule=\"evenodd\" fill-opacity=\"1\" stroke=\"#000000\" stroke-opacity=\"1\" stroke-width=\"3.2\"/>\n",
       "<circle clip-path=\"url(#clip782)\" cx=\"1296.2\" cy=\"85.838\" r=\"7\" fill=\"#08061f\" fill-rule=\"evenodd\" fill-opacity=\"1\" stroke=\"#000000\" stroke-opacity=\"1\" stroke-width=\"3.2\"/>\n",
       "<circle clip-path=\"url(#clip782)\" cx=\"278.297\" cy=\"1000.66\" r=\"53\" fill=\"#fabf25\" fill-rule=\"evenodd\" fill-opacity=\"1\" stroke=\"#000000\" stroke-opacity=\"1\" stroke-width=\"3.2\"/>\n",
       "<circle clip-path=\"url(#clip782)\" cx=\"2059.33\" cy=\"643.306\" r=\"4\" fill=\"#010008\" fill-rule=\"evenodd\" fill-opacity=\"1\" stroke=\"#000000\" stroke-opacity=\"1\" stroke-width=\"3.2\"/>\n",
       "<circle clip-path=\"url(#clip782)\" cx=\"785.052\" cy=\"1372.3\" r=\"44\" fill=\"#f0701f\" fill-rule=\"evenodd\" fill-opacity=\"1\" stroke=\"#000000\" stroke-opacity=\"1\" stroke-width=\"3.2\"/>\n",
       "<circle clip-path=\"url(#clip782)\" cx=\"2059.33\" cy=\"814.835\" r=\"3\" fill=\"#000003\" fill-rule=\"evenodd\" fill-opacity=\"1\" stroke=\"#000000\" stroke-opacity=\"1\" stroke-width=\"3.2\"/>\n",
       "<circle clip-path=\"url(#clip782)\" cx=\"538.54\" cy=\"85.838\" r=\"45\" fill=\"#f3761a\" fill-rule=\"evenodd\" fill-opacity=\"1\" stroke=\"#000000\" stroke-opacity=\"1\" stroke-width=\"3.2\"/>\n",
       "<circle clip-path=\"url(#clip782)\" cx=\"278.297\" cy=\"1372.3\" r=\"61\" fill=\"#fcfea4\" fill-rule=\"evenodd\" fill-opacity=\"1\" stroke=\"#000000\" stroke-opacity=\"1\" stroke-width=\"3.2\"/>\n",
       "<circle clip-path=\"url(#clip782)\" cx=\"785.052\" cy=\"1186.48\" r=\"30\" fill=\"#a32b61\" fill-rule=\"evenodd\" fill-opacity=\"1\" stroke=\"#000000\" stroke-opacity=\"1\" stroke-width=\"3.2\"/>\n",
       "<circle clip-path=\"url(#clip782)\" cx=\"1804.97\" cy=\"1372.3\" r=\"5\" fill=\"#030212\" fill-rule=\"evenodd\" fill-opacity=\"1\" stroke=\"#000000\" stroke-opacity=\"1\" stroke-width=\"3.2\"/>\n",
       "<circle clip-path=\"url(#clip782)\" cx=\"538.54\" cy=\"1186.48\" r=\"48\" fill=\"#fa9207\" fill-rule=\"evenodd\" fill-opacity=\"1\" stroke=\"#000000\" stroke-opacity=\"1\" stroke-width=\"3.2\"/>\n",
       "<circle clip-path=\"url(#clip782)\" cx=\"1550.41\" cy=\"1186.48\" r=\"7\" fill=\"#08051f\" fill-rule=\"evenodd\" fill-opacity=\"1\" stroke=\"#000000\" stroke-opacity=\"1\" stroke-width=\"3.2\"/>\n",
       "<circle clip-path=\"url(#clip782)\" cx=\"1296.2\" cy=\"271.661\" r=\"7\" fill=\"#090620\" fill-rule=\"evenodd\" fill-opacity=\"1\" stroke=\"#000000\" stroke-opacity=\"1\" stroke-width=\"3.2\"/>\n",
       "<circle clip-path=\"url(#clip782)\" cx=\"1550.41\" cy=\"814.835\" r=\"6\" fill=\"#06051b\" fill-rule=\"evenodd\" fill-opacity=\"1\" stroke=\"#000000\" stroke-opacity=\"1\" stroke-width=\"3.2\"/>\n",
       "<circle clip-path=\"url(#clip782)\" cx=\"1296.2\" cy=\"1372.3\" r=\"7\" fill=\"#0b0725\" fill-rule=\"evenodd\" fill-opacity=\"1\" stroke=\"#000000\" stroke-opacity=\"1\" stroke-width=\"3.2\"/>\n",
       "<circle clip-path=\"url(#clip782)\" cx=\"278.297\" cy=\"1186.48\" r=\"53\" fill=\"#fbba1f\" fill-rule=\"evenodd\" fill-opacity=\"1\" stroke=\"#000000\" stroke-opacity=\"1\" stroke-width=\"3.2\"/>\n",
       "<circle clip-path=\"url(#clip782)\" cx=\"1550.41\" cy=\"643.306\" r=\"6\" fill=\"#050419\" fill-rule=\"evenodd\" fill-opacity=\"1\" stroke=\"#000000\" stroke-opacity=\"1\" stroke-width=\"3.2\"/>\n",
       "<circle clip-path=\"url(#clip782)\" cx=\"1040.76\" cy=\"643.306\" r=\"9\" fill=\"#130a35\" fill-rule=\"evenodd\" fill-opacity=\"1\" stroke=\"#000000\" stroke-opacity=\"1\" stroke-width=\"3.2\"/>\n",
       "<circle clip-path=\"url(#clip782)\" cx=\"1040.76\" cy=\"1000.66\" r=\"10\" fill=\"#160b3a\" fill-rule=\"evenodd\" fill-opacity=\"1\" stroke=\"#000000\" stroke-opacity=\"1\" stroke-width=\"3.2\"/>\n",
       "<circle clip-path=\"url(#clip782)\" cx=\"1296.2\" cy=\"1000.66\" r=\"7\" fill=\"#090621\" fill-rule=\"evenodd\" fill-opacity=\"1\" stroke=\"#000000\" stroke-opacity=\"1\" stroke-width=\"3.2\"/>\n",
       "<circle clip-path=\"url(#clip782)\" cx=\"1040.76\" cy=\"814.835\" r=\"9\" fill=\"#130a34\" fill-rule=\"evenodd\" fill-opacity=\"1\" stroke=\"#000000\" stroke-opacity=\"1\" stroke-width=\"3.2\"/>\n",
       "<circle clip-path=\"url(#clip782)\" cx=\"1550.41\" cy=\"457.483\" r=\"6\" fill=\"#050418\" fill-rule=\"evenodd\" fill-opacity=\"1\" stroke=\"#000000\" stroke-opacity=\"1\" stroke-width=\"3.2\"/>\n",
       "<circle clip-path=\"url(#clip782)\" cx=\"278.297\" cy=\"85.838\" r=\"48\" fill=\"#fa9306\" fill-rule=\"evenodd\" fill-opacity=\"1\" stroke=\"#000000\" stroke-opacity=\"1\" stroke-width=\"3.2\"/>\n",
       "<defs>\n",
       "  <clipPath id=\"clip783\">\n",
       "    <rect x=\"2160\" y=\"47\" width=\"73\" height=\"1365\"/>\n",
       "  </clipPath>\n",
       "</defs>\n",
       "<g clip-path=\"url(#clip783)\">\n",
       "<image width=\"72\" height=\"1364\" xlink:href=\"data:image/png;base64,\n",
       "iVBORw0KGgoAAAANSUhEUgAAAEgAAAVUCAYAAABzwV4AAAAL0klEQVR4nO3dwY3sRhAFQY5Q/lsh\n",
       "L6XfLQtUeSQPERYsEg+zZJM7+/v3/H0f/tdfb/8AXydQECgIFAQKc+6/b/8Mn2ZBQaAgUBAozL1/\n",
       "3v4ZPs2CgkBBoCBQcCUdLCgIFAQKAgWBwly/xVYWFAQKAgWBwtzjQ3pjQUGgIFAQKLiSDhYUBAoC\n",
       "BYGCQMFvsWBBQaAgUBAoOA8KFhQECgIFgcI8rqRXFhQECgIFgYJAwXlQsKAgUBAoCBTmcR60sqAg\n",
       "UBAoCBTmOf+8/TN8mgUFgYJAQaAgUPBUI1hQECgIFAQKzoOCBQWBgkBBoOBDOlhQECgIFAQKAgXn\n",
       "QcGCgkBBoCBQmJ9bjZUFBYGCQEGgMM/xpf8bCwoCBYGCQEGg4FYjWFAQKAgUBApuNYIFBYGCQEGg\n",
       "4P2gYEFBoCBQECgIFObnVmNlQUGgIFAQKHiJM1hQECgIFAQKrqSDBQWBgkBBoCBQ8Og5WFAQKAgU\n",
       "BApuNYIFBYGCQEGg4Eo6WFAQKAgUBAoCBbcawYKCQEGgIFCY55y3f4ZPs6AgUBAoCBRcSQcLCgIF\n",
       "gYJAQaDgqUawoCBQECgIFHxIBwsKAgWBgkBhfg7tVxYUBAoCBYGCQMGtRrCgIFAQKAgUvB8ULCgI\n",
       "FAQKAgXnQcGCgkBBoCBQECg4DwoWFAQKAgWBgvOgYEFBoCBQECj4kA4WFAQKAgWBgkDBXz0HCwoC\n",
       "BYGCQMGtRrCgIFAQKAgUfEgHCwoCBYGCQEGg4LdYsKAgUBAoCBR8SAcLCgIFgYJAYZ7rQ3pjQUGg\n",
       "IFAQKAgU3GoECwoCBYGCQMGHdLCgIFAQKAgUfEgHCwoCBYGCQEGgMM+5b/8Mn2ZBQaAgUBAouNUI\n",
       "FhQECgIFgYIr6WBBQaAgUBAoCBTcagQLCgIFgYJAwa1GsKAgUBAoCBTmcSG9sqAgUBAoCBQECvNc\n",
       "txobCwoCBYGCQMGtRrCgIFAQKAgUfEgHCwoCBYGCQEGgML4Eb2dBQaAgUBAouNUIFhQECgIFgYIP\n",
       "6WBBQaAgUBAoCBTmOb+3f4ZPs6AgUBAoCBTmXh/SGwsKAgWBgkDBeVCwoCBQECgIFBx3BAsKAgWB\n",
       "gkBBoDD3aLRRJwgUBAoCBbcawYKCQEGgIFCYx5PVlQUFgYJAQaAgUJjrVmNlQUGgIFAQKMzj0H6l\n",
       "ThAoCBQECq6kgwUFgYJAQaAgUPBUI1hQECgIFAQKXuIM6gSBgkBBoOAlzmBBQaAgUBAoCBQ81QgW\n",
       "FAQKAgWBwtyr0UadIFAQKAgUnAcFCwoCBYGCQEGg4DwoWFAQKAgUBArzOA9aqRMECgIFgYIr6WBB\n",
       "QaAgUBAoCBT8FgsWFAQKAgWBgj/qDRYUBAoCBYGCP+oN6gSBgkBBoCBQ8P/mgwUFgYJAQaDg0D5Y\n",
       "UBAoCBQECr70P6gTBAoCBYGCQMF5ULCgIFAQKAgUnAcFCwoCBYGCQMGVdLCgIFAQKAgUBArecg3q\n",
       "BIGCQEGg4FYjWFAQKAgUBAoO7YMFBYGCQEGgIFBwqxEsKAgUBAoCBf+6JlhQECgIFAQK/glkUCcI\n",
       "FAQKAgWBgvOgYEFBoCBQECh49BwsKAgUBAoCBVfSwYKCQEGgIFAQKMzxW2xlQUGgIFAQKPij3qBO\n",
       "ECgIFAQKzoOCBQWBgkBBoCBQ8FssWFAQKAgUBAreDwoWFAQKAgWBgivpYEFBoCBQECgIFPwWCxYU\n",
       "BAoCBYGCr6YI6gSBgkBBoDDHof3KgoJAQaAgUBAoOA8KFhQECgIFgYIP6WBBQaAgUBAo+JAOFhQE\n",
       "CgIFgYJAwfcHBQsKAgWBgkDBrUawoCBQECgIFHxIBwsKAgWBgkBBoOBPEYI6QaAgUBAo+FOEYEFB\n",
       "oCBQECg4DwoWFAQKAgWBgkDBb7FgQUGgIFAQKHiJM1hQECgIFAQKrqSDBQWBgkBBoCBQmPv4Lbax\n",
       "oCBQECgIFJwHBQsKAgWBgkDBeVCwoCBQECgIFAQKbjWCBQWBgkBBoOBWI1hQECgIFAQKrqSDBQWB\n",
       "gkBBoCBQcKsRLCgIFAQKAgUf0sGCgkBBoCBQmONN+5UFBYGCQEGg4Eo6WFAQKAgUBAoCBY+egwUF\n",
       "gYJAQaAw9779I3ybBQWBgkBBoOBKOlhQECgIFAQKAgVf8hYsKAgUBAoCBbcawYKCQEGgIFDwflCw\n",
       "oCBQECgIFAQK/hQhWFAQKAgUBAreDwoWFAQKAgWBgkP7YEFBoCBQECgIFDzVCBYUBAoCBYGCQ/tg\n",
       "QUGgIFAQKDgPChYUBAoCBYGCQMGj52BBQaAgUBAoOA8KFhQECgIFgYInq8GCgkBBoCBQECjMefsn\n",
       "+DgLCgIFgYJAwa1GsKAgUBAoCBS8HxQsKAgUBAoCBYGC86BgQUGgIFAQKDgPChYUBAoCBYGCK+lg\n",
       "QUGgIFAQKAgU3GoECwoCBYGCQMGj52BBQaAgUBAojC9e2FlQECgIFAQKAgW3GsGCgkBBoCBQ8Og5\n",
       "WFAQKAgUBAqerAYLCgIFgYJAQaDgViNYUBAoCBQECm41ggUFgYJAQaAwxwtCKwsKAgWBgkBBoOA8\n",
       "KFhQECgIFAQKzoOCBQWBgkBBoOBKOlhQECgIFAQKAgX/bz5YUBAoCBQECv7ffLCgIFAQKAgUvB8U\n",
       "LCgIFAQKAgWBgm/BCxYUBAoCBYGCL3kLFhQECgIFgYInq8GCgkBBoCBQECh4yzVYUBAoCBQECv5e\n",
       "LFhQECgIFAQKrqSDBQWBgkBBoCBQ8JZrsKAgUBAoCBS8xBksKAgUBAoCBVfSwYKCQEGgIFAQKHjL\n",
       "NVhQECgIFAQKvj8oWFAQKAgUBArOg4IFBYGCQEGgIFDw6DlYUBAoCBQECm41ggUFgYJAQaDgSjpY\n",
       "UBAoCBQECgIFtxrBgoJAQaAgUPAhHSwoCBQECgIF50HBgoJAQaAgUBAouNUIFhQECgIFgYJbjWBB\n",
       "QaAgUBAouJIOFhQECgIFgYJAwfcHBQsKAgWBgkDBv64JFhQECgIFgYLzoGBBQaAgUBAoCBTmPn6N\n",
       "bSwoCBQECgIFtxrBgoJAQaAgUPBkNVhQECgIFAQKnqwGCwoCBYGCQEGg4DwoWFAQKAgUBAqerAYL\n",
       "CgIFgYJAwZV0sKAgUBAoCBQECr4/KFhQECgIFAQKc7wgtLKgIFAQKAgUvB8ULCgIFAQKAgWBwly3\n",
       "GisLCgIFgYJAwa1GsKAgUBAoCBQc2gcLCgIFgYJAQaDg/aBgQUGgIFAQKMzx92IrCwoCBYGCQMF5\n",
       "ULCgIFAQKAgUBAq+miJYUBAoCBQECt4PChYUBAoCBYGCQ/tgQUGgIFAQKAgUnAcFCwoCBYGCQGHO\n",
       "40RoY0FBoCBQECg4DwoWFAQKAgWBgkDBb7FgQUGgIFAQKDi0DxYUBAoCBYGCQ/tgQUGgIFAQKAgU\n",
       "5vzcamwsKAgUBAoCBbcawYKCQEGgIFCY60N6ZUFBoCBQECgIFNxqBAsKAgWBgkBhzs+H9MaCgkBB\n",
       "oCBQcCUdLCgIFAQKAgWBgqcawYKCQEGgIFBwqxEsKAgUBAoCBR/SwYKCQEGgIFAQKHj0HCwoCBQE\n",
       "CgKFuc+ft3+GT7OgIFAQKAgUnAcFCwoCBYGCQEGg4P2gYEFBoCBQECjMuc6DNhYUBAoCBYGCK+lg\n",
       "QUGgIFAQKAgU5nj0vLKgIFAQKAgU3GoECwoCBYGCQMGVdLCgIFAQKAgUBApzr1uNjQUFgYJAQaDg\n",
       "PChYUBAoCBQECl7iDBYUBAoCBYGCQMGtRrCgIFAQKAgU5rrVWFlQECgIFAQKrqSDBQWBgkBBoCBQ\n",
       "mOP9oJUFBYGCQEGg4PukgwUFgYJAQaDgTftgQUGgIFAQKAgUPNUIFhQECgIFgYJbjWBBQaAgUBAo\n",
       "+JAOFhQECgIFgYJAwaPnYEFBoCBQECi41QgWFAQKAgWBwjyerK4sKAgUBAoCBYGCW41gQUGgIFAQ\n",
       "KHiJM1hQECgIFAQK87iSXllQECgIFAQKAgXvBwULCgIFgYJAwaPnYEFBoCBQECg4DwoWFAQKAgWB\n",
       "gkBh7nPf/hk+zYKCQEGgIFBwHhQsKAgUBAoChXlcSa8sKAgUBAoChf8AJ8ztt7m0cDkAAAAASUVO\n",
       "RK5CYII=\n",
       "\" transform=\"translate(2161, 47)\"/>\n",
       "</g>\n",
       "<path clip-path=\"url(#clip780)\" d=\"M 0 0 M2280.7 1365.33 Q2277.09 1365.33 2275.26 1368.89 Q2273.45 1372.43 2273.45 1379.56 Q2273.45 1386.67 2275.26 1390.23 Q2277.09 1393.78 2280.7 1393.78 Q2284.33 1393.78 2286.14 1390.23 Q2287.97 1386.67 2287.97 1379.56 Q2287.97 1372.43 2286.14 1368.89 Q2284.33 1365.33 2280.7 1365.33 M2280.7 1361.62 Q2286.51 1361.62 2289.57 1366.23 Q2292.64 1370.81 2292.64 1379.56 Q2292.64 1388.29 2289.57 1392.9 Q2286.51 1397.48 2280.7 1397.48 Q2274.89 1397.48 2271.81 1392.9 Q2268.76 1388.29 2268.76 1379.56 Q2268.76 1370.81 2271.81 1366.23 Q2274.89 1361.62 2280.7 1361.62 Z\" fill=\"#000000\" fill-rule=\"evenodd\" fill-opacity=\"1\" /><path clip-path=\"url(#clip780)\" d=\"M 0 0 M2297.71 1390.93 L2302.6 1390.93 L2302.6 1396.81 L2297.71 1396.81 L2297.71 1390.93 Z\" fill=\"#000000\" fill-rule=\"evenodd\" fill-opacity=\"1\" /><path clip-path=\"url(#clip780)\" d=\"M 0 0 M2318.25 1377.66 Q2315.1 1377.66 2313.25 1379.82 Q2311.42 1381.97 2311.42 1385.72 Q2311.42 1389.45 2313.25 1391.62 Q2315.1 1393.78 2318.25 1393.78 Q2321.39 1393.78 2323.22 1391.62 Q2325.08 1389.45 2325.08 1385.72 Q2325.08 1381.97 2323.22 1379.82 Q2321.39 1377.66 2318.25 1377.66 M2327.53 1363.01 L2327.53 1367.27 Q2325.77 1366.44 2323.96 1366 Q2322.18 1365.56 2320.42 1365.56 Q2315.79 1365.56 2313.34 1368.68 Q2310.91 1371.81 2310.56 1378.13 Q2311.93 1376.11 2313.99 1375.05 Q2316.05 1373.96 2318.52 1373.96 Q2323.73 1373.96 2326.74 1377.13 Q2329.77 1380.28 2329.77 1385.72 Q2329.77 1391.04 2326.63 1394.26 Q2323.48 1397.48 2318.25 1397.48 Q2312.25 1397.48 2309.08 1392.9 Q2305.91 1388.29 2305.91 1379.56 Q2305.91 1371.37 2309.8 1366.51 Q2313.69 1361.62 2320.24 1361.62 Q2322 1361.62 2323.78 1361.97 Q2325.58 1362.32 2327.53 1363.01 Z\" fill=\"#000000\" fill-rule=\"evenodd\" fill-opacity=\"1\" /><path clip-path=\"url(#clip780)\" d=\"M 0 0 M2334.89 1362.25 L2353.25 1362.25 L2353.25 1366.18 L2339.17 1366.18 L2339.17 1374.66 Q2340.19 1374.31 2341.21 1374.15 Q2342.23 1373.96 2343.25 1373.96 Q2349.03 1373.96 2352.41 1377.13 Q2355.79 1380.3 2355.79 1385.72 Q2355.79 1391.3 2352.32 1394.4 Q2348.85 1397.48 2342.53 1397.48 Q2340.35 1397.48 2338.08 1397.11 Q2335.84 1396.74 2333.43 1396 L2333.43 1391.3 Q2335.51 1392.43 2337.74 1392.99 Q2339.96 1393.54 2342.44 1393.54 Q2346.44 1393.54 2348.78 1391.44 Q2351.12 1389.33 2351.12 1385.72 Q2351.12 1382.11 2348.78 1380 Q2346.44 1377.9 2342.44 1377.9 Q2340.56 1377.9 2338.69 1378.31 Q2336.83 1378.73 2334.89 1379.61 L2334.89 1362.25 Z\" fill=\"#000000\" fill-rule=\"evenodd\" fill-opacity=\"1\" /><path clip-path=\"url(#clip780)\" d=\"M 0 0 M2280.7 1197.89 Q2277.09 1197.89 2275.26 1201.45 Q2273.45 1205 2273.45 1212.13 Q2273.45 1219.23 2275.26 1222.8 Q2277.09 1226.34 2280.7 1226.34 Q2284.33 1226.34 2286.14 1222.8 Q2287.97 1219.23 2287.97 1212.13 Q2287.97 1205 2286.14 1201.45 Q2284.33 1197.89 2280.7 1197.89 M2280.7 1194.19 Q2286.51 1194.19 2289.57 1198.79 Q2292.64 1203.38 2292.64 1212.13 Q2292.64 1220.85 2289.57 1225.46 Q2286.51 1230.04 2280.7 1230.04 Q2274.89 1230.04 2271.81 1225.46 Q2268.76 1220.85 2268.76 1212.13 Q2268.76 1203.38 2271.81 1198.79 Q2274.89 1194.19 2280.7 1194.19 Z\" fill=\"#000000\" fill-rule=\"evenodd\" fill-opacity=\"1\" /><path clip-path=\"url(#clip780)\" d=\"M 0 0 M2297.71 1223.49 L2302.6 1223.49 L2302.6 1229.37 L2297.71 1229.37 L2297.71 1223.49 Z\" fill=\"#000000\" fill-rule=\"evenodd\" fill-opacity=\"1\" /><path clip-path=\"url(#clip780)\" d=\"M 0 0 M2306.49 1194.81 L2328.71 1194.81 L2328.71 1196.8 L2316.16 1229.37 L2311.28 1229.37 L2323.08 1198.75 L2306.49 1198.75 L2306.49 1194.81 Z\" fill=\"#000000\" fill-rule=\"evenodd\" fill-opacity=\"1\" /><path clip-path=\"url(#clip780)\" d=\"M 0 0 M2343.78 1197.89 Q2340.17 1197.89 2338.34 1201.45 Q2336.53 1205 2336.53 1212.13 Q2336.53 1219.23 2338.34 1222.8 Q2340.17 1226.34 2343.78 1226.34 Q2347.41 1226.34 2349.22 1222.8 Q2351.05 1219.23 2351.05 1212.13 Q2351.05 1205 2349.22 1201.45 Q2347.41 1197.89 2343.78 1197.89 M2343.78 1194.19 Q2349.59 1194.19 2352.64 1198.79 Q2355.72 1203.38 2355.72 1212.13 Q2355.72 1220.85 2352.64 1225.46 Q2349.59 1230.04 2343.78 1230.04 Q2337.97 1230.04 2334.89 1225.46 Q2331.83 1220.85 2331.83 1212.13 Q2331.83 1203.38 2334.89 1198.79 Q2337.97 1194.19 2343.78 1194.19 Z\" fill=\"#000000\" fill-rule=\"evenodd\" fill-opacity=\"1\" /><path clip-path=\"url(#clip780)\" d=\"M 0 0 M2280.7 1030.45 Q2277.09 1030.45 2275.26 1034.02 Q2273.45 1037.56 2273.45 1044.69 Q2273.45 1051.8 2275.26 1055.36 Q2277.09 1058.9 2280.7 1058.9 Q2284.33 1058.9 2286.14 1055.36 Q2287.97 1051.8 2287.97 1044.69 Q2287.97 1037.56 2286.14 1034.02 Q2284.33 1030.45 2280.7 1030.45 M2280.7 1026.75 Q2286.51 1026.75 2289.57 1031.36 Q2292.64 1035.94 2292.64 1044.69 Q2292.64 1053.42 2289.57 1058.02 Q2286.51 1062.61 2280.7 1062.61 Q2274.89 1062.61 2271.81 1058.02 Q2268.76 1053.42 2268.76 1044.69 Q2268.76 1035.94 2271.81 1031.36 Q2274.89 1026.75 2280.7 1026.75 Z\" fill=\"#000000\" fill-rule=\"evenodd\" fill-opacity=\"1\" /><path clip-path=\"url(#clip780)\" d=\"M 0 0 M2297.71 1056.05 L2302.6 1056.05 L2302.6 1061.93 L2297.71 1061.93 L2297.71 1056.05 Z\" fill=\"#000000\" fill-rule=\"evenodd\" fill-opacity=\"1\" /><path clip-path=\"url(#clip780)\" d=\"M 0 0 M2306.49 1027.37 L2328.71 1027.37 L2328.71 1029.37 L2316.16 1061.93 L2311.28 1061.93 L2323.08 1031.31 L2306.49 1031.31 L2306.49 1027.37 Z\" fill=\"#000000\" fill-rule=\"evenodd\" fill-opacity=\"1\" /><path clip-path=\"url(#clip780)\" d=\"M 0 0 M2333.83 1027.37 L2352.18 1027.37 L2352.18 1031.31 L2338.11 1031.31 L2338.11 1039.78 Q2339.13 1039.43 2340.14 1039.27 Q2341.16 1039.09 2342.18 1039.09 Q2347.97 1039.09 2351.35 1042.26 Q2354.73 1045.43 2354.73 1050.85 Q2354.73 1056.43 2351.26 1059.53 Q2347.78 1062.61 2341.46 1062.61 Q2339.29 1062.61 2337.02 1062.24 Q2334.77 1061.87 2332.37 1061.12 L2332.37 1056.43 Q2334.45 1057.56 2336.67 1058.12 Q2338.89 1058.67 2341.37 1058.67 Q2345.38 1058.67 2347.71 1056.56 Q2350.05 1054.46 2350.05 1050.85 Q2350.05 1047.24 2347.71 1045.13 Q2345.38 1043.02 2341.37 1043.02 Q2339.5 1043.02 2337.62 1043.44 Q2335.77 1043.86 2333.83 1044.74 L2333.83 1027.37 Z\" fill=\"#000000\" fill-rule=\"evenodd\" fill-opacity=\"1\" /><path clip-path=\"url(#clip780)\" d=\"M 0 0 M2280.7 863.017 Q2277.09 863.017 2275.26 866.581 Q2273.45 870.123 2273.45 877.253 Q2273.45 884.359 2275.26 887.924 Q2277.09 891.466 2280.7 891.466 Q2284.33 891.466 2286.14 887.924 Q2287.97 884.359 2287.97 877.253 Q2287.97 870.123 2286.14 866.581 Q2284.33 863.017 2280.7 863.017 M2280.7 859.313 Q2286.51 859.313 2289.57 863.919 Q2292.64 868.503 2292.64 877.253 Q2292.64 885.98 2289.57 890.586 Q2286.51 895.169 2280.7 895.169 Q2274.89 895.169 2271.81 890.586 Q2268.76 885.98 2268.76 877.253 Q2268.76 868.503 2271.81 863.919 Q2274.89 859.313 2280.7 859.313 Z\" fill=\"#000000\" fill-rule=\"evenodd\" fill-opacity=\"1\" /><path clip-path=\"url(#clip780)\" d=\"M 0 0 M2297.71 888.618 L2302.6 888.618 L2302.6 894.498 L2297.71 894.498 L2297.71 888.618 Z\" fill=\"#000000\" fill-rule=\"evenodd\" fill-opacity=\"1\" /><path clip-path=\"url(#clip780)\" d=\"M 0 0 M2317.67 878.086 Q2314.33 878.086 2312.41 879.868 Q2310.51 881.651 2310.51 884.776 Q2310.51 887.901 2312.41 889.683 Q2314.33 891.466 2317.67 891.466 Q2321 891.466 2322.92 889.683 Q2324.84 887.878 2324.84 884.776 Q2324.84 881.651 2322.92 879.868 Q2321.02 878.086 2317.67 878.086 M2312.99 876.095 Q2309.98 875.355 2308.29 873.294 Q2306.63 871.234 2306.63 868.271 Q2306.63 864.128 2309.57 861.72 Q2312.53 859.313 2317.67 859.313 Q2322.83 859.313 2325.77 861.72 Q2328.71 864.128 2328.71 868.271 Q2328.71 871.234 2327.02 873.294 Q2325.35 875.355 2322.37 876.095 Q2325.75 876.882 2327.62 879.174 Q2329.52 881.466 2329.52 884.776 Q2329.52 889.799 2326.44 892.484 Q2323.39 895.169 2317.67 895.169 Q2311.95 895.169 2308.87 892.484 Q2305.82 889.799 2305.82 884.776 Q2305.82 881.466 2307.71 879.174 Q2309.61 876.882 2312.99 876.095 M2311.28 868.711 Q2311.28 871.396 2312.95 872.901 Q2314.64 874.406 2317.67 874.406 Q2320.68 874.406 2322.37 872.901 Q2324.08 871.396 2324.08 868.711 Q2324.08 866.026 2322.37 864.521 Q2320.68 863.017 2317.67 863.017 Q2314.64 863.017 2312.95 864.521 Q2311.28 866.026 2311.28 868.711 Z\" fill=\"#000000\" fill-rule=\"evenodd\" fill-opacity=\"1\" /><path clip-path=\"url(#clip780)\" d=\"M 0 0 M2344.59 863.017 Q2340.98 863.017 2339.15 866.581 Q2337.34 870.123 2337.34 877.253 Q2337.34 884.359 2339.15 887.924 Q2340.98 891.466 2344.59 891.466 Q2348.22 891.466 2350.03 887.924 Q2351.86 884.359 2351.86 877.253 Q2351.86 870.123 2350.03 866.581 Q2348.22 863.017 2344.59 863.017 M2344.59 859.313 Q2350.4 859.313 2353.45 863.919 Q2356.53 868.503 2356.53 877.253 Q2356.53 885.98 2353.45 890.586 Q2350.4 895.169 2344.59 895.169 Q2338.78 895.169 2335.7 890.586 Q2332.64 885.98 2332.64 877.253 Q2332.64 868.503 2335.7 863.919 Q2338.78 859.313 2344.59 859.313 Z\" fill=\"#000000\" fill-rule=\"evenodd\" fill-opacity=\"1\" /><path clip-path=\"url(#clip780)\" d=\"M 0 0 M2280.7 695.58 Q2277.09 695.58 2275.26 699.145 Q2273.45 702.687 2273.45 709.816 Q2273.45 716.923 2275.26 720.487 Q2277.09 724.029 2280.7 724.029 Q2284.33 724.029 2286.14 720.487 Q2287.97 716.923 2287.97 709.816 Q2287.97 702.687 2286.14 699.145 Q2284.33 695.58 2280.7 695.58 M2280.7 691.876 Q2286.51 691.876 2289.57 696.483 Q2292.64 701.066 2292.64 709.816 Q2292.64 718.543 2289.57 723.149 Q2286.51 727.733 2280.7 727.733 Q2274.89 727.733 2271.81 723.149 Q2268.76 718.543 2268.76 709.816 Q2268.76 701.066 2271.81 696.483 Q2274.89 691.876 2280.7 691.876 Z\" fill=\"#000000\" fill-rule=\"evenodd\" fill-opacity=\"1\" /><path clip-path=\"url(#clip780)\" d=\"M 0 0 M2297.71 721.182 L2302.6 721.182 L2302.6 727.061 L2297.71 727.061 L2297.71 721.182 Z\" fill=\"#000000\" fill-rule=\"evenodd\" fill-opacity=\"1\" /><path clip-path=\"url(#clip780)\" d=\"M 0 0 M2317.67 710.649 Q2314.33 710.649 2312.41 712.432 Q2310.51 714.214 2310.51 717.339 Q2310.51 720.464 2312.41 722.247 Q2314.33 724.029 2317.67 724.029 Q2321 724.029 2322.92 722.247 Q2324.84 720.441 2324.84 717.339 Q2324.84 714.214 2322.92 712.432 Q2321.02 710.649 2317.67 710.649 M2312.99 708.659 Q2309.98 707.918 2308.29 705.858 Q2306.63 703.798 2306.63 700.835 Q2306.63 696.691 2309.57 694.284 Q2312.53 691.876 2317.67 691.876 Q2322.83 691.876 2325.77 694.284 Q2328.71 696.691 2328.71 700.835 Q2328.71 703.798 2327.02 705.858 Q2325.35 707.918 2322.37 708.659 Q2325.75 709.446 2327.62 711.737 Q2329.52 714.029 2329.52 717.339 Q2329.52 722.362 2326.44 725.048 Q2323.39 727.733 2317.67 727.733 Q2311.95 727.733 2308.87 725.048 Q2305.82 722.362 2305.82 717.339 Q2305.82 714.029 2307.71 711.737 Q2309.61 709.446 2312.99 708.659 M2311.28 701.275 Q2311.28 703.96 2312.95 705.464 Q2314.64 706.969 2317.67 706.969 Q2320.68 706.969 2322.37 705.464 Q2324.08 703.96 2324.08 701.275 Q2324.08 698.589 2322.37 697.085 Q2320.68 695.58 2317.67 695.58 Q2314.64 695.58 2312.95 697.085 Q2311.28 698.589 2311.28 701.275 Z\" fill=\"#000000\" fill-rule=\"evenodd\" fill-opacity=\"1\" /><path clip-path=\"url(#clip780)\" d=\"M 0 0 M2334.64 692.501 L2352.99 692.501 L2352.99 696.437 L2338.92 696.437 L2338.92 704.909 Q2339.94 704.562 2340.95 704.4 Q2341.97 704.214 2342.99 704.214 Q2348.78 704.214 2352.16 707.386 Q2355.54 710.557 2355.54 715.974 Q2355.54 721.552 2352.07 724.654 Q2348.59 727.733 2342.27 727.733 Q2340.1 727.733 2337.83 727.362 Q2335.58 726.992 2333.18 726.251 L2333.18 721.552 Q2335.26 722.686 2337.48 723.242 Q2339.7 723.798 2342.18 723.798 Q2346.19 723.798 2348.52 721.691 Q2350.86 719.585 2350.86 715.974 Q2350.86 712.362 2348.52 710.256 Q2346.19 708.149 2342.18 708.149 Q2340.31 708.149 2338.43 708.566 Q2336.58 708.983 2334.64 709.862 L2334.64 692.501 Z\" fill=\"#000000\" fill-rule=\"evenodd\" fill-opacity=\"1\" /><path clip-path=\"url(#clip780)\" d=\"M 0 0 M2280.7 528.144 Q2277.09 528.144 2275.26 531.708 Q2273.45 535.25 2273.45 542.38 Q2273.45 549.486 2275.26 553.051 Q2277.09 556.592 2280.7 556.592 Q2284.33 556.592 2286.14 553.051 Q2287.97 549.486 2287.97 542.38 Q2287.97 535.25 2286.14 531.708 Q2284.33 528.144 2280.7 528.144 M2280.7 524.44 Q2286.51 524.44 2289.57 529.046 Q2292.64 533.63 2292.64 542.38 Q2292.64 551.106 2289.57 555.713 Q2286.51 560.296 2280.7 560.296 Q2274.89 560.296 2271.81 555.713 Q2268.76 551.106 2268.76 542.38 Q2268.76 533.63 2271.81 529.046 Q2274.89 524.44 2280.7 524.44 Z\" fill=\"#000000\" fill-rule=\"evenodd\" fill-opacity=\"1\" /><path clip-path=\"url(#clip780)\" d=\"M 0 0 M2297.71 553.745 L2302.6 553.745 L2302.6 559.625 L2297.71 559.625 L2297.71 553.745 Z\" fill=\"#000000\" fill-rule=\"evenodd\" fill-opacity=\"1\" /><path clip-path=\"url(#clip780)\" d=\"M 0 0 M2307.81 558.907 L2307.81 554.648 Q2309.57 555.481 2311.37 555.921 Q2313.18 556.361 2314.91 556.361 Q2319.54 556.361 2321.97 553.259 Q2324.43 550.134 2324.77 543.792 Q2323.43 545.782 2321.37 546.847 Q2319.31 547.912 2316.81 547.912 Q2311.63 547.912 2308.59 544.787 Q2305.58 541.639 2305.58 536.199 Q2305.58 530.875 2308.73 527.657 Q2311.88 524.44 2317.11 524.44 Q2323.11 524.44 2326.26 529.046 Q2329.43 533.63 2329.43 542.38 Q2329.43 550.551 2325.54 555.435 Q2321.67 560.296 2315.12 560.296 Q2313.36 560.296 2311.56 559.949 Q2309.75 559.602 2307.81 558.907 M2317.11 544.255 Q2320.26 544.255 2322.09 542.102 Q2323.94 539.949 2323.94 536.199 Q2323.94 532.472 2322.09 530.319 Q2320.26 528.144 2317.11 528.144 Q2313.96 528.144 2312.11 530.319 Q2310.28 532.472 2310.28 536.199 Q2310.28 539.949 2312.11 542.102 Q2313.96 544.255 2317.11 544.255 Z\" fill=\"#000000\" fill-rule=\"evenodd\" fill-opacity=\"1\" /><path clip-path=\"url(#clip780)\" d=\"M 0 0 M2344.5 528.144 Q2340.89 528.144 2339.06 531.708 Q2337.25 535.25 2337.25 542.38 Q2337.25 549.486 2339.06 553.051 Q2340.89 556.592 2344.5 556.592 Q2348.13 556.592 2349.94 553.051 Q2351.76 549.486 2351.76 542.38 Q2351.76 535.25 2349.94 531.708 Q2348.13 528.144 2344.5 528.144 M2344.5 524.44 Q2350.31 524.44 2353.36 529.046 Q2356.44 533.63 2356.44 542.38 Q2356.44 551.106 2353.36 555.713 Q2350.31 560.296 2344.5 560.296 Q2338.69 560.296 2335.61 555.713 Q2332.55 551.106 2332.55 542.38 Q2332.55 533.63 2335.61 529.046 Q2338.69 524.44 2344.5 524.44 Z\" fill=\"#000000\" fill-rule=\"evenodd\" fill-opacity=\"1\" /><path clip-path=\"url(#clip780)\" d=\"M 0 0 M2280.7 360.707 Q2277.09 360.707 2275.26 364.272 Q2273.45 367.813 2273.45 374.943 Q2273.45 382.049 2275.26 385.614 Q2277.09 389.156 2280.7 389.156 Q2284.33 389.156 2286.14 385.614 Q2287.97 382.049 2287.97 374.943 Q2287.97 367.813 2286.14 364.272 Q2284.33 360.707 2280.7 360.707 M2280.7 357.003 Q2286.51 357.003 2289.57 361.61 Q2292.64 366.193 2292.64 374.943 Q2292.64 383.67 2289.57 388.276 Q2286.51 392.86 2280.7 392.86 Q2274.89 392.86 2271.81 388.276 Q2268.76 383.67 2268.76 374.943 Q2268.76 366.193 2271.81 361.61 Q2274.89 357.003 2280.7 357.003 Z\" fill=\"#000000\" fill-rule=\"evenodd\" fill-opacity=\"1\" /><path clip-path=\"url(#clip780)\" d=\"M 0 0 M2297.71 386.309 L2302.6 386.309 L2302.6 392.188 L2297.71 392.188 L2297.71 386.309 Z\" fill=\"#000000\" fill-rule=\"evenodd\" fill-opacity=\"1\" /><path clip-path=\"url(#clip780)\" d=\"M 0 0 M2307.81 391.471 L2307.81 387.211 Q2309.57 388.045 2311.37 388.485 Q2313.18 388.924 2314.91 388.924 Q2319.54 388.924 2321.97 385.823 Q2324.43 382.698 2324.77 376.355 Q2323.43 378.346 2321.37 379.411 Q2319.31 380.475 2316.81 380.475 Q2311.63 380.475 2308.59 377.35 Q2305.58 374.202 2305.58 368.762 Q2305.58 363.438 2308.73 360.221 Q2311.88 357.003 2317.11 357.003 Q2323.11 357.003 2326.26 361.61 Q2329.43 366.193 2329.43 374.943 Q2329.43 383.114 2325.54 387.998 Q2321.67 392.86 2315.12 392.86 Q2313.36 392.86 2311.56 392.512 Q2309.75 392.165 2307.81 391.471 M2317.11 376.818 Q2320.26 376.818 2322.09 374.665 Q2323.94 372.512 2323.94 368.762 Q2323.94 365.036 2322.09 362.883 Q2320.26 360.707 2317.11 360.707 Q2313.96 360.707 2312.11 362.883 Q2310.28 365.036 2310.28 368.762 Q2310.28 372.512 2312.11 374.665 Q2313.96 376.818 2317.11 376.818 Z\" fill=\"#000000\" fill-rule=\"evenodd\" fill-opacity=\"1\" /><path clip-path=\"url(#clip780)\" d=\"M 0 0 M2334.54 357.628 L2352.9 357.628 L2352.9 361.563 L2338.82 361.563 L2338.82 370.036 Q2339.84 369.688 2340.86 369.526 Q2341.88 369.341 2342.9 369.341 Q2348.69 369.341 2352.07 372.512 Q2355.45 375.684 2355.45 381.1 Q2355.45 386.679 2351.97 389.781 Q2348.5 392.86 2342.18 392.86 Q2340.01 392.86 2337.74 392.489 Q2335.49 392.119 2333.08 391.378 L2333.08 386.679 Q2335.17 387.813 2337.39 388.369 Q2339.61 388.924 2342.09 388.924 Q2346.09 388.924 2348.43 386.818 Q2350.77 384.711 2350.77 381.1 Q2350.77 377.489 2348.43 375.383 Q2346.09 373.276 2342.09 373.276 Q2340.21 373.276 2338.34 373.693 Q2336.49 374.11 2334.54 374.989 L2334.54 357.628 Z\" fill=\"#000000\" fill-rule=\"evenodd\" fill-opacity=\"1\" /><path clip-path=\"url(#clip780)\" d=\"M 0 0 M2269.43 220.817 L2277.07 220.817 L2277.07 194.451 L2268.76 196.118 L2268.76 191.858 L2277.02 190.192 L2281.7 190.192 L2281.7 220.817 L2289.33 220.817 L2289.33 224.752 L2269.43 224.752 L2269.43 220.817 Z\" fill=\"#000000\" fill-rule=\"evenodd\" fill-opacity=\"1\" /><path clip-path=\"url(#clip780)\" d=\"M 0 0 M2294.4 218.872 L2299.29 218.872 L2299.29 224.752 L2294.4 224.752 L2294.4 218.872 Z\" fill=\"#000000\" fill-rule=\"evenodd\" fill-opacity=\"1\" /><path clip-path=\"url(#clip780)\" d=\"M 0 0 M2314.36 193.27 Q2310.75 193.27 2308.92 196.835 Q2307.11 200.377 2307.11 207.506 Q2307.11 214.613 2308.92 218.178 Q2310.75 221.719 2314.36 221.719 Q2317.99 221.719 2319.8 218.178 Q2321.63 214.613 2321.63 207.506 Q2321.63 200.377 2319.8 196.835 Q2317.99 193.27 2314.36 193.27 M2314.36 189.567 Q2320.17 189.567 2323.22 194.173 Q2326.3 198.756 2326.3 207.506 Q2326.3 216.233 2323.22 220.84 Q2320.17 225.423 2314.36 225.423 Q2308.55 225.423 2305.47 220.84 Q2302.41 216.233 2302.41 207.506 Q2302.41 198.756 2305.47 194.173 Q2308.55 189.567 2314.36 189.567 Z\" fill=\"#000000\" fill-rule=\"evenodd\" fill-opacity=\"1\" /><path clip-path=\"url(#clip780)\" d=\"M 0 0 M2341.37 193.27 Q2337.76 193.27 2335.93 196.835 Q2334.13 200.377 2334.13 207.506 Q2334.13 214.613 2335.93 218.178 Q2337.76 221.719 2341.37 221.719 Q2345.01 221.719 2346.81 218.178 Q2348.64 214.613 2348.64 207.506 Q2348.64 200.377 2346.81 196.835 Q2345.01 193.27 2341.37 193.27 M2341.37 189.567 Q2347.18 189.567 2350.24 194.173 Q2353.32 198.756 2353.32 207.506 Q2353.32 216.233 2350.24 220.84 Q2347.18 225.423 2341.37 225.423 Q2335.56 225.423 2332.48 220.84 Q2329.43 216.233 2329.43 207.506 Q2329.43 198.756 2332.48 194.173 Q2335.56 189.567 2341.37 189.567 Z\" fill=\"#000000\" fill-rule=\"evenodd\" fill-opacity=\"1\" /><polyline clip-path=\"url(#clip780)\" style=\"stroke:#000000; stroke-width:4; stroke-opacity:1; fill:none\" points=\"\n",
       "  2232.76,1410.9 2232.76,1383.16 2256.76,1383.16 2232.76,1383.16 2232.76,1215.72 2256.76,1215.72 2232.76,1215.72 2232.76,1048.28 2256.76,1048.28 2232.76,1048.28 \n",
       "  2232.76,880.847 2256.76,880.847 2232.76,880.847 2232.76,713.41 2256.76,713.41 2232.76,713.41 2232.76,545.974 2256.76,545.974 2232.76,545.974 2232.76,378.537 \n",
       "  2256.76,378.537 2232.76,378.537 2232.76,211.1 2256.76,211.1 2232.76,211.1 2232.76,47.2441 \n",
       "  \"/>\n",
       "</svg>\n"
      ]
     },
     "execution_count": 53,
     "metadata": {},
     "output_type": "execute_result"
    }
   ],
   "source": [
    "plot(self_tuning_nn)"
   ]
  },
  {
   "cell_type": "code",
   "execution_count": 54,
   "metadata": {},
   "outputs": [
    {
     "data": {
      "text/plain": [
       "(best_model = \u001b[34mNeuralNetworkClassifier{CustomNN,…} @340\u001b[39m,\n",
       " best_fitted_params = (chain = Chain(Chain(Dense(4, 49, σ), Dense(49, 40, σ), Dense(40, 3, σ)), softmax),),)"
      ]
     },
     "execution_count": 54,
     "metadata": {},
     "output_type": "execute_result"
    }
   ],
   "source": [
    "best = fitted_params(self_tuning_nn)\n",
    "best"
   ]
  },
  {
   "cell_type": "code",
   "execution_count": 55,
   "metadata": {},
   "outputs": [
    {
     "data": {
      "text/plain": [
       "NeuralNetworkClassifier(\n",
       "    builder = CustomNN(\n",
       "            n1 = 49,\n",
       "            n2 = 40),\n",
       "    finaliser = NNlib.softmax,\n",
       "    optimiser = ADAM(0.0003333333333333333, (0.9, 0.999), IdDict{Any,Any}()),\n",
       "    loss = Flux.crossentropy,\n",
       "    epochs = 4000,\n",
       "    batch_size = 16,\n",
       "    lambda = 0.01,\n",
       "    alpha = 0.0,\n",
       "    optimiser_changes_trigger_retraining = false)\u001b[34m @340\u001b[39m"
      ]
     },
     "execution_count": 55,
     "metadata": {},
     "output_type": "execute_result"
    }
   ],
   "source": [
    "best.best_model"
   ]
  },
  {
   "cell_type": "code",
   "execution_count": 56,
   "metadata": {
    "scrolled": true
   },
   "outputs": [
    {
     "data": {
      "text/plain": [
       "0.64171624f0"
      ]
     },
     "execution_count": 56,
     "metadata": {},
     "output_type": "execute_result"
    }
   ],
   "source": [
    "best_loss = z.report.best_result.measurement[1]"
   ]
  },
  {
   "cell_type": "code",
   "execution_count": 57,
   "metadata": {
    "scrolled": true
   },
   "outputs": [
    {
     "data": {
      "text/plain": [
       "49"
      ]
     },
     "execution_count": 57,
     "metadata": {},
     "output_type": "execute_result"
    }
   ],
   "source": [
    "best_n1 = best.best_model.builder.n1"
   ]
  },
  {
   "cell_type": "code",
   "execution_count": 58,
   "metadata": {},
   "outputs": [],
   "source": [
    "fn = \"Figures/Grid_NN_$(param1):$(best.best_model.epochs)_x_$(param2):$(best_n1)_bestloss:$(best_loss)\"\n",
    "f = replace(fn,'.' => ',')\n",
    "png(f)"
   ]
  },
  {
   "cell_type": "markdown",
   "metadata": {},
   "source": [
    "### GridSearch for Hidden Layer Size 2"
   ]
  },
  {
   "cell_type": "code",
   "execution_count": 59,
   "metadata": {
    "scrolled": false
   },
   "outputs": [
    {
     "data": {
      "text/plain": [
       "NeuralNetworkClassifier(\n",
       "    builder = CustomNN(\n",
       "            n1 = 49,\n",
       "            n2 = 40),\n",
       "    finaliser = NNlib.softmax,\n",
       "    optimiser = ADAM(0.001, (0.9, 0.999), IdDict{Any,Any}()),\n",
       "    loss = Flux.crossentropy,\n",
       "    epochs = 10,\n",
       "    batch_size = 1,\n",
       "    lambda = 0.0,\n",
       "    alpha = 0.0,\n",
       "    optimiser_changes_trigger_retraining = false)\u001b[34m @820\u001b[39m"
      ]
     },
     "execution_count": 59,
     "metadata": {},
     "output_type": "execute_result"
    }
   ],
   "source": [
    "nn = NeuralNetworkClassifier(builder=CustomNN(best_n1,layer2))"
   ]
  },
  {
   "cell_type": "code",
   "execution_count": 60,
   "metadata": {},
   "outputs": [
    {
     "data": {
      "text/plain": [
       "0.01"
      ]
     },
     "execution_count": 60,
     "metadata": {},
     "output_type": "execute_result"
    }
   ],
   "source": [
    "nn.optimiser.eta = 0.001\n",
    "nn.epochs = 60\n",
    "nn.batch_size = batch_sz\n",
    "nn.lambda = 0.01"
   ]
  },
  {
   "cell_type": "code",
   "execution_count": 61,
   "metadata": {},
   "outputs": [
    {
     "data": {
      "text/plain": [
       "\u001b[34mMachine{NeuralNetworkClassifier{CustomNN,…}} @600\u001b[39m trained 0 times.\n",
       "  args: \n",
       "    1:\t\u001b[34mSource @555\u001b[39m ⏎ `Table{AbstractArray{Continuous,1}}`\n",
       "    2:\t\u001b[34mSource @792\u001b[39m ⏎ `AbstractArray{Multiclass{3},1}`\n"
      ]
     },
     "execution_count": 61,
     "metadata": {},
     "output_type": "execute_result"
    }
   ],
   "source": [
    "Net = machine(nn, X_stand, y)"
   ]
  },
  {
   "cell_type": "code",
   "execution_count": 62,
   "metadata": {},
   "outputs": [
    {
     "data": {
      "text/plain": [
       "MLJBase.NumericRange(Int64, :(builder.n2), ... )"
      ]
     },
     "execution_count": 62,
     "metadata": {},
     "output_type": "execute_result"
    }
   ],
   "source": [
    "param1 = :epochs\n",
    "# param1 = :(builder.n1)\n",
    "param2 = :(builder.n2)\n",
    "\n",
    "r1 = range(nn, param1, lower=10, upper=4000, scale=:log10)\n",
    "# r1 = range(nn, param1, lower=1, upper=100, scale=:linear)\n",
    "r2 = range(nn, param2, lower=5, upper=best_n1, scale=:linear)"
   ]
  },
  {
   "cell_type": "code",
   "execution_count": 63,
   "metadata": {
    "scrolled": true
   },
   "outputs": [
    {
     "data": {
      "text/plain": [
       "ProbabilisticTunedModel(\n",
       "    model = NeuralNetworkClassifier(\n",
       "            builder = \u001b[34mCustomNN @025\u001b[39m,\n",
       "            finaliser = NNlib.softmax,\n",
       "            optimiser = ADAM(0.001, (0.9, 0.999), IdDict{Any,Any}()),\n",
       "            loss = Flux.crossentropy,\n",
       "            epochs = 60,\n",
       "            batch_size = 16,\n",
       "            lambda = 0.01,\n",
       "            alpha = 0.0,\n",
       "            optimiser_changes_trigger_retraining = false),\n",
       "    tuning = Grid(\n",
       "            goal = 64,\n",
       "            resolution = 10,\n",
       "            shuffle = true,\n",
       "            rng = Random._GLOBAL_RNG()),\n",
       "    resampling = Holdout(\n",
       "            fraction_train = 0.7,\n",
       "            shuffle = false,\n",
       "            rng = Random._GLOBAL_RNG()),\n",
       "    measure = cross_entropy(\n",
       "            eps = 2.220446049250313e-16),\n",
       "    weights = nothing,\n",
       "    operation = MLJModelInterface.predict,\n",
       "    range = MLJBase.NumericRange{Int64,MLJBase.Bounded,Symbol}[\u001b[34mNumericRange{Int64,…} @460\u001b[39m, \u001b[34mNumericRange{Int64,…} @963\u001b[39m],\n",
       "    train_best = true,\n",
       "    repeats = 1,\n",
       "    n = nothing,\n",
       "    acceleration = CPUThreads{Int64}(1),\n",
       "    acceleration_resampling = CPU1{Nothing}(nothing),\n",
       "    check_measure = true)\u001b[34m @672\u001b[39m"
      ]
     },
     "execution_count": 63,
     "metadata": {},
     "output_type": "execute_result"
    }
   ],
   "source": [
    "self_tuning_nn_model = TunedModel(model=nn,\n",
    "                                    tuning=Grid(goal=64),\n",
    "                                    resampling=Holdout(fraction_train=0.7), \n",
    "                                    measure=cross_entropy,\n",
    "                                    acceleration=CPUThreads(),\n",
    "                                    range=[r1, r2])"
   ]
  },
  {
   "cell_type": "code",
   "execution_count": 64,
   "metadata": {},
   "outputs": [
    {
     "data": {
      "text/plain": [
       "\u001b[34mMachine{ProbabilisticTunedModel{Grid,…}} @021\u001b[39m trained 0 times.\n",
       "  args: \n",
       "    1:\t\u001b[34mSource @996\u001b[39m ⏎ `Table{AbstractArray{Continuous,1}}`\n",
       "    2:\t\u001b[34mSource @535\u001b[39m ⏎ `AbstractArray{Multiclass{3},1}`\n"
      ]
     },
     "execution_count": 64,
     "metadata": {},
     "output_type": "execute_result"
    }
   ],
   "source": [
    "self_tuning_nn = machine(self_tuning_nn_model, X_stand, y)"
   ]
  },
  {
   "cell_type": "code",
   "execution_count": 65,
   "metadata": {},
   "outputs": [
    {
     "name": "stderr",
     "output_type": "stream",
     "text": [
      "┌ Info: Training \u001b[34mMachine{ProbabilisticTunedModel{Grid,…}} @021\u001b[39m.\n",
      "└ @ MLJBase /home/andrew/.julia/packages/MLJBase/uKzAz/src/machines.jl:319\n",
      "┌ Info: Attempting to evaluate 64 models.\n",
      "└ @ MLJTuning /home/andrew/.julia/packages/MLJTuning/Bbgvk/src/tuned_models.jl:494\n",
      "\u001b[33mEvaluating over 64 metamodels: 100%[=========================] Time: 0:03:16\u001b[39m\n"
     ]
    },
    {
     "data": {
      "text/plain": [
       "\u001b[34mMachine{ProbabilisticTunedModel{Grid,…}} @021\u001b[39m trained 1 time.\n",
       "  args: \n",
       "    1:\t\u001b[34mSource @996\u001b[39m ⏎ `Table{AbstractArray{Continuous,1}}`\n",
       "    2:\t\u001b[34mSource @535\u001b[39m ⏎ `AbstractArray{Multiclass{3},1}`\n"
      ]
     },
     "execution_count": 65,
     "metadata": {},
     "output_type": "execute_result"
    }
   ],
   "source": [
    "z = fit!(self_tuning_nn, rows=train)"
   ]
  },
  {
   "cell_type": "code",
   "execution_count": 66,
   "metadata": {
    "scrolled": false
   },
   "outputs": [
    {
     "data": {
      "image/svg+xml": [
       "<?xml version=\"1.0\" encoding=\"utf-8\"?>\n",
       "<svg xmlns=\"http://www.w3.org/2000/svg\" xmlns:xlink=\"http://www.w3.org/1999/xlink\" width=\"600\" height=\"400\" viewBox=\"0 0 2400 1600\">\n",
       "<defs>\n",
       "  <clipPath id=\"clip830\">\n",
       "    <rect x=\"0\" y=\"0\" width=\"2400\" height=\"1600\"/>\n",
       "  </clipPath>\n",
       "</defs>\n",
       "<path clip-path=\"url(#clip830)\" d=\"\n",
       "M0 1600 L2400 1600 L2400 0 L0 0  Z\n",
       "  \" fill=\"#ffffff\" fill-rule=\"evenodd\" fill-opacity=\"1\"/>\n",
       "<defs>\n",
       "  <clipPath id=\"clip831\">\n",
       "    <rect x=\"480\" y=\"0\" width=\"1681\" height=\"1600\"/>\n",
       "  </clipPath>\n",
       "</defs>\n",
       "<path clip-path=\"url(#clip830)\" d=\"\n",
       "M202.459 1410.9 L2112.76 1410.9 L2112.76 47.2441 L202.459 47.2441  Z\n",
       "  \" fill=\"#ffffff\" fill-rule=\"evenodd\" fill-opacity=\"1\"/>\n",
       "<defs>\n",
       "  <clipPath id=\"clip832\">\n",
       "    <rect x=\"202\" y=\"47\" width=\"1911\" height=\"1365\"/>\n",
       "  </clipPath>\n",
       "</defs>\n",
       "<polyline clip-path=\"url(#clip832)\" style=\"stroke:#000000; stroke-width:2; stroke-opacity:0.1; fill:none\" points=\"\n",
       "  256.524,1410.9 256.524,47.2441 \n",
       "  \"/>\n",
       "<polyline clip-path=\"url(#clip832)\" style=\"stroke:#000000; stroke-width:2; stroke-opacity:0.1; fill:none\" points=\"\n",
       "  602.82,1410.9 602.82,47.2441 \n",
       "  \"/>\n",
       "<polyline clip-path=\"url(#clip832)\" style=\"stroke:#000000; stroke-width:2; stroke-opacity:0.1; fill:none\" points=\"\n",
       "  949.116,1410.9 949.116,47.2441 \n",
       "  \"/>\n",
       "<polyline clip-path=\"url(#clip832)\" style=\"stroke:#000000; stroke-width:2; stroke-opacity:0.1; fill:none\" points=\"\n",
       "  1295.41,1410.9 1295.41,47.2441 \n",
       "  \"/>\n",
       "<polyline clip-path=\"url(#clip832)\" style=\"stroke:#000000; stroke-width:2; stroke-opacity:0.1; fill:none\" points=\"\n",
       "  1641.71,1410.9 1641.71,47.2441 \n",
       "  \"/>\n",
       "<polyline clip-path=\"url(#clip832)\" style=\"stroke:#000000; stroke-width:2; stroke-opacity:0.1; fill:none\" points=\"\n",
       "  1988,1410.9 1988,47.2441 \n",
       "  \"/>\n",
       "<polyline clip-path=\"url(#clip832)\" style=\"stroke:#000000; stroke-width:2; stroke-opacity:0.1; fill:none\" points=\"\n",
       "  202.459,1226.11 2112.76,1226.11 \n",
       "  \"/>\n",
       "<polyline clip-path=\"url(#clip832)\" style=\"stroke:#000000; stroke-width:2; stroke-opacity:0.1; fill:none\" points=\"\n",
       "  202.459,933.735 2112.76,933.735 \n",
       "  \"/>\n",
       "<polyline clip-path=\"url(#clip832)\" style=\"stroke:#000000; stroke-width:2; stroke-opacity:0.1; fill:none\" points=\"\n",
       "  202.459,641.357 2112.76,641.357 \n",
       "  \"/>\n",
       "<polyline clip-path=\"url(#clip832)\" style=\"stroke:#000000; stroke-width:2; stroke-opacity:0.1; fill:none\" points=\"\n",
       "  202.459,348.979 2112.76,348.979 \n",
       "  \"/>\n",
       "<polyline clip-path=\"url(#clip832)\" style=\"stroke:#000000; stroke-width:2; stroke-opacity:0.1; fill:none\" points=\"\n",
       "  202.459,56.6002 2112.76,56.6002 \n",
       "  \"/>\n",
       "<polyline clip-path=\"url(#clip830)\" style=\"stroke:#000000; stroke-width:4; stroke-opacity:1; fill:none\" points=\"\n",
       "  202.459,1410.9 2112.76,1410.9 \n",
       "  \"/>\n",
       "<polyline clip-path=\"url(#clip830)\" style=\"stroke:#000000; stroke-width:4; stroke-opacity:1; fill:none\" points=\"\n",
       "  202.459,1410.9 202.459,47.2441 \n",
       "  \"/>\n",
       "<polyline clip-path=\"url(#clip830)\" style=\"stroke:#000000; stroke-width:4; stroke-opacity:1; fill:none\" points=\"\n",
       "  256.524,1410.9 256.524,1394.53 \n",
       "  \"/>\n",
       "<polyline clip-path=\"url(#clip830)\" style=\"stroke:#000000; stroke-width:4; stroke-opacity:1; fill:none\" points=\"\n",
       "  602.82,1410.9 602.82,1394.53 \n",
       "  \"/>\n",
       "<polyline clip-path=\"url(#clip830)\" style=\"stroke:#000000; stroke-width:4; stroke-opacity:1; fill:none\" points=\"\n",
       "  949.116,1410.9 949.116,1394.53 \n",
       "  \"/>\n",
       "<polyline clip-path=\"url(#clip830)\" style=\"stroke:#000000; stroke-width:4; stroke-opacity:1; fill:none\" points=\"\n",
       "  1295.41,1410.9 1295.41,1394.53 \n",
       "  \"/>\n",
       "<polyline clip-path=\"url(#clip830)\" style=\"stroke:#000000; stroke-width:4; stroke-opacity:1; fill:none\" points=\"\n",
       "  1641.71,1410.9 1641.71,1394.53 \n",
       "  \"/>\n",
       "<polyline clip-path=\"url(#clip830)\" style=\"stroke:#000000; stroke-width:4; stroke-opacity:1; fill:none\" points=\"\n",
       "  1988,1410.9 1988,1394.53 \n",
       "  \"/>\n",
       "<polyline clip-path=\"url(#clip830)\" style=\"stroke:#000000; stroke-width:4; stroke-opacity:1; fill:none\" points=\"\n",
       "  202.459,1226.11 225.383,1226.11 \n",
       "  \"/>\n",
       "<polyline clip-path=\"url(#clip830)\" style=\"stroke:#000000; stroke-width:4; stroke-opacity:1; fill:none\" points=\"\n",
       "  202.459,933.735 225.383,933.735 \n",
       "  \"/>\n",
       "<polyline clip-path=\"url(#clip830)\" style=\"stroke:#000000; stroke-width:4; stroke-opacity:1; fill:none\" points=\"\n",
       "  202.459,641.357 225.383,641.357 \n",
       "  \"/>\n",
       "<polyline clip-path=\"url(#clip830)\" style=\"stroke:#000000; stroke-width:4; stroke-opacity:1; fill:none\" points=\"\n",
       "  202.459,348.979 225.383,348.979 \n",
       "  \"/>\n",
       "<polyline clip-path=\"url(#clip830)\" style=\"stroke:#000000; stroke-width:4; stroke-opacity:1; fill:none\" points=\"\n",
       "  202.459,56.6002 225.383,56.6002 \n",
       "  \"/>\n",
       "<path clip-path=\"url(#clip830)\" d=\"M 0 0 M210.021 1481.97 L217.66 1481.97 L217.66 1455.6 L209.35 1457.27 L209.35 1453.01 L217.614 1451.34 L222.289 1451.34 L222.289 1481.97 L229.928 1481.97 L229.928 1485.9 L210.021 1485.9 L210.021 1481.97 Z\" fill=\"#000000\" fill-rule=\"evenodd\" fill-opacity=\"1\" /><path clip-path=\"url(#clip830)\" d=\"M 0 0 M244.998 1454.42 Q241.387 1454.42 239.558 1457.99 Q237.752 1461.53 237.752 1468.66 Q237.752 1475.77 239.558 1479.33 Q241.387 1482.87 244.998 1482.87 Q248.632 1482.87 250.437 1479.33 Q252.266 1475.77 252.266 1468.66 Q252.266 1461.53 250.437 1457.99 Q248.632 1454.42 244.998 1454.42 M244.998 1450.72 Q250.808 1450.72 253.863 1455.33 Q256.942 1459.91 256.942 1468.66 Q256.942 1477.39 253.863 1481.99 Q250.808 1486.58 244.998 1486.58 Q239.188 1486.58 236.109 1481.99 Q233.053 1477.39 233.053 1468.66 Q233.053 1459.91 236.109 1455.33 Q239.188 1450.72 244.998 1450.72 Z\" fill=\"#000000\" fill-rule=\"evenodd\" fill-opacity=\"1\" /><path clip-path=\"url(#clip830)\" d=\"M 0 0 M257.487 1455.3 L263.694 1455.3 L263.694 1433.87 L256.942 1435.23 L256.942 1431.77 L263.656 1430.41 L267.456 1430.41 L267.456 1455.3 L273.662 1455.3 L273.662 1458.49 L257.487 1458.49 L257.487 1455.3 Z\" fill=\"#000000\" fill-rule=\"evenodd\" fill-opacity=\"1\" /><path clip-path=\"url(#clip830)\" d=\"M 0 0 M277.781 1453.72 L281.75 1453.72 L281.75 1458.49 L277.781 1458.49 L277.781 1453.72 Z\" fill=\"#000000\" fill-rule=\"evenodd\" fill-opacity=\"1\" /><path clip-path=\"url(#clip830)\" d=\"M 0 0 M293.993 1432.91 Q291.059 1432.91 289.574 1435.81 Q288.107 1438.69 288.107 1444.48 Q288.107 1450.26 289.574 1453.15 Q291.059 1456.03 293.993 1456.03 Q296.946 1456.03 298.413 1453.15 Q299.899 1450.26 299.899 1444.48 Q299.899 1438.69 298.413 1435.81 Q296.946 1432.91 293.993 1432.91 M293.993 1429.91 Q298.714 1429.91 301.197 1433.65 Q303.698 1437.37 303.698 1444.48 Q303.698 1451.57 301.197 1455.31 Q298.714 1459.04 293.993 1459.04 Q289.273 1459.04 286.771 1455.31 Q284.289 1451.57 284.289 1444.48 Q284.289 1437.37 286.771 1433.65 Q289.273 1429.91 293.993 1429.91 Z\" fill=\"#000000\" fill-rule=\"evenodd\" fill-opacity=\"1\" /><path clip-path=\"url(#clip830)\" d=\"M 0 0 M556.722 1481.97 L564.36 1481.97 L564.36 1455.6 L556.05 1457.27 L556.05 1453.01 L564.314 1451.34 L568.99 1451.34 L568.99 1481.97 L576.629 1481.97 L576.629 1485.9 L556.722 1485.9 L556.722 1481.97 Z\" fill=\"#000000\" fill-rule=\"evenodd\" fill-opacity=\"1\" /><path clip-path=\"url(#clip830)\" d=\"M 0 0 M591.698 1454.42 Q588.087 1454.42 586.258 1457.99 Q584.453 1461.53 584.453 1468.66 Q584.453 1475.77 586.258 1479.33 Q588.087 1482.87 591.698 1482.87 Q595.332 1482.87 597.138 1479.33 Q598.967 1475.77 598.967 1468.66 Q598.967 1461.53 597.138 1457.99 Q595.332 1454.42 591.698 1454.42 M591.698 1450.72 Q597.508 1450.72 600.564 1455.33 Q603.643 1459.91 603.643 1468.66 Q603.643 1477.39 600.564 1481.99 Q597.508 1486.58 591.698 1486.58 Q585.888 1486.58 582.809 1481.99 Q579.754 1477.39 579.754 1468.66 Q579.754 1459.91 582.809 1455.33 Q585.888 1450.72 591.698 1450.72 Z\" fill=\"#000000\" fill-rule=\"evenodd\" fill-opacity=\"1\" /><path clip-path=\"url(#clip830)\" d=\"M 0 0 M604.188 1455.3 L610.395 1455.3 L610.395 1433.87 L603.643 1435.23 L603.643 1431.77 L610.357 1430.41 L614.156 1430.41 L614.156 1455.3 L620.363 1455.3 L620.363 1458.49 L604.188 1458.49 L604.188 1455.3 Z\" fill=\"#000000\" fill-rule=\"evenodd\" fill-opacity=\"1\" /><path clip-path=\"url(#clip830)\" d=\"M 0 0 M624.482 1453.72 L628.45 1453.72 L628.45 1458.49 L624.482 1458.49 L624.482 1453.72 Z\" fill=\"#000000\" fill-rule=\"evenodd\" fill-opacity=\"1\" /><path clip-path=\"url(#clip830)\" d=\"M 0 0 M632.607 1430.41 L647.521 1430.41 L647.521 1433.61 L636.086 1433.61 L636.086 1440.49 Q636.914 1440.21 637.741 1440.08 Q638.569 1439.93 639.396 1439.93 Q644.098 1439.93 646.844 1442.51 Q649.59 1445.08 649.59 1449.48 Q649.59 1454.02 646.769 1456.54 Q643.948 1459.04 638.813 1459.04 Q637.045 1459.04 635.202 1458.74 Q633.378 1458.44 631.422 1457.84 L631.422 1454.02 Q633.114 1454.94 634.92 1455.39 Q636.725 1455.84 638.738 1455.84 Q641.992 1455.84 643.891 1454.13 Q645.791 1452.42 645.791 1449.48 Q645.791 1446.55 643.891 1444.84 Q641.992 1443.13 638.738 1443.13 Q637.214 1443.13 635.691 1443.47 Q634.186 1443.8 632.607 1444.52 L632.607 1430.41 Z\" fill=\"#000000\" fill-rule=\"evenodd\" fill-opacity=\"1\" /><path clip-path=\"url(#clip830)\" d=\"M 0 0 M902.059 1481.97 L909.697 1481.97 L909.697 1455.6 L901.387 1457.27 L901.387 1453.01 L909.651 1451.34 L914.327 1451.34 L914.327 1481.97 L921.966 1481.97 L921.966 1485.9 L902.059 1485.9 L902.059 1481.97 Z\" fill=\"#000000\" fill-rule=\"evenodd\" fill-opacity=\"1\" /><path clip-path=\"url(#clip830)\" d=\"M 0 0 M937.035 1454.42 Q933.424 1454.42 931.595 1457.99 Q929.79 1461.53 929.79 1468.66 Q929.79 1475.77 931.595 1479.33 Q933.424 1482.87 937.035 1482.87 Q940.669 1482.87 942.475 1479.33 Q944.304 1475.77 944.304 1468.66 Q944.304 1461.53 942.475 1457.99 Q940.669 1454.42 937.035 1454.42 M937.035 1450.72 Q942.845 1450.72 945.901 1455.33 Q948.98 1459.91 948.98 1468.66 Q948.98 1477.39 945.901 1481.99 Q942.845 1486.58 937.035 1486.58 Q931.225 1486.58 928.146 1481.99 Q925.091 1477.39 925.091 1468.66 Q925.091 1459.91 928.146 1455.33 Q931.225 1450.72 937.035 1450.72 Z\" fill=\"#000000\" fill-rule=\"evenodd\" fill-opacity=\"1\" /><path clip-path=\"url(#clip830)\" d=\"M 0 0 M953.55 1455.3 L966.809 1455.3 L966.809 1458.49 L948.98 1458.49 L948.98 1455.3 Q951.143 1453.06 954.866 1449.3 Q958.609 1445.52 959.568 1444.43 Q961.393 1442.38 962.107 1440.96 Q962.841 1439.54 962.841 1438.16 Q962.841 1435.92 961.261 1434.51 Q959.7 1433.1 957.18 1433.1 Q955.393 1433.1 953.399 1433.72 Q951.425 1434.34 949.168 1435.6 L949.168 1431.77 Q951.462 1430.85 953.456 1430.38 Q955.45 1429.91 957.105 1429.91 Q961.468 1429.91 964.063 1432.09 Q966.659 1434.27 966.659 1437.92 Q966.659 1439.65 966.001 1441.21 Q965.361 1442.75 963.65 1444.86 Q963.179 1445.4 960.659 1448.02 Q958.139 1450.61 953.55 1455.3 Z\" fill=\"#000000\" fill-rule=\"evenodd\" fill-opacity=\"1\" /><path clip-path=\"url(#clip830)\" d=\"M 0 0 M970.928 1453.72 L974.897 1453.72 L974.897 1458.49 L970.928 1458.49 L970.928 1453.72 Z\" fill=\"#000000\" fill-rule=\"evenodd\" fill-opacity=\"1\" /><path clip-path=\"url(#clip830)\" d=\"M 0 0 M987.141 1432.91 Q984.207 1432.91 982.721 1435.81 Q981.254 1438.69 981.254 1444.48 Q981.254 1450.26 982.721 1453.15 Q984.207 1456.03 987.141 1456.03 Q990.093 1456.03 991.56 1453.15 Q993.046 1450.26 993.046 1444.48 Q993.046 1438.69 991.56 1435.81 Q990.093 1432.91 987.141 1432.91 M987.141 1429.91 Q991.861 1429.91 994.344 1433.65 Q996.845 1437.37 996.845 1444.48 Q996.845 1451.57 994.344 1455.31 Q991.861 1459.04 987.141 1459.04 Q982.42 1459.04 979.918 1455.31 Q977.436 1451.57 977.436 1444.48 Q977.436 1437.37 979.918 1433.65 Q982.42 1429.91 987.141 1429.91 Z\" fill=\"#000000\" fill-rule=\"evenodd\" fill-opacity=\"1\" /><path clip-path=\"url(#clip830)\" d=\"M 0 0 M1248.76 1481.97 L1256.4 1481.97 L1256.4 1455.6 L1248.09 1457.27 L1248.09 1453.01 L1256.35 1451.34 L1261.03 1451.34 L1261.03 1481.97 L1268.67 1481.97 L1268.67 1485.9 L1248.76 1485.9 L1248.76 1481.97 Z\" fill=\"#000000\" fill-rule=\"evenodd\" fill-opacity=\"1\" /><path clip-path=\"url(#clip830)\" d=\"M 0 0 M1283.74 1454.42 Q1280.12 1454.42 1278.3 1457.99 Q1276.49 1461.53 1276.49 1468.66 Q1276.49 1475.77 1278.3 1479.33 Q1280.12 1482.87 1283.74 1482.87 Q1287.37 1482.87 1289.18 1479.33 Q1291 1475.77 1291 1468.66 Q1291 1461.53 1289.18 1457.99 Q1287.37 1454.42 1283.74 1454.42 M1283.74 1450.72 Q1289.55 1450.72 1292.6 1455.33 Q1295.68 1459.91 1295.68 1468.66 Q1295.68 1477.39 1292.6 1481.99 Q1289.55 1486.58 1283.74 1486.58 Q1277.93 1486.58 1274.85 1481.99 Q1271.79 1477.39 1271.79 1468.66 Q1271.79 1459.91 1274.85 1455.33 Q1277.93 1450.72 1283.74 1450.72 Z\" fill=\"#000000\" fill-rule=\"evenodd\" fill-opacity=\"1\" /><path clip-path=\"url(#clip830)\" d=\"M 0 0 M1300.25 1455.3 L1313.51 1455.3 L1313.51 1458.49 L1295.68 1458.49 L1295.68 1455.3 Q1297.84 1453.06 1301.57 1449.3 Q1305.31 1445.52 1306.27 1444.43 Q1308.09 1442.38 1308.81 1440.96 Q1309.54 1439.54 1309.54 1438.16 Q1309.54 1435.92 1307.96 1434.51 Q1306.4 1433.1 1303.88 1433.1 Q1302.09 1433.1 1300.1 1433.72 Q1298.13 1434.34 1295.87 1435.6 L1295.87 1431.77 Q1298.16 1430.85 1300.16 1430.38 Q1302.15 1429.91 1303.81 1429.91 Q1308.17 1429.91 1310.76 1432.09 Q1313.36 1434.27 1313.36 1437.92 Q1313.36 1439.65 1312.7 1441.21 Q1312.06 1442.75 1310.35 1444.86 Q1309.88 1445.4 1307.36 1448.02 Q1304.84 1450.61 1300.25 1455.3 Z\" fill=\"#000000\" fill-rule=\"evenodd\" fill-opacity=\"1\" /><path clip-path=\"url(#clip830)\" d=\"M 0 0 M1317.63 1453.72 L1321.6 1453.72 L1321.6 1458.49 L1317.63 1458.49 L1317.63 1453.72 Z\" fill=\"#000000\" fill-rule=\"evenodd\" fill-opacity=\"1\" /><path clip-path=\"url(#clip830)\" d=\"M 0 0 M1325.75 1430.41 L1340.67 1430.41 L1340.67 1433.61 L1329.23 1433.61 L1329.23 1440.49 Q1330.06 1440.21 1330.89 1440.08 Q1331.72 1439.93 1332.54 1439.93 Q1337.25 1439.93 1339.99 1442.51 Q1342.74 1445.08 1342.74 1449.48 Q1342.74 1454.02 1339.92 1456.54 Q1337.09 1459.04 1331.96 1459.04 Q1330.19 1459.04 1328.35 1458.74 Q1326.52 1458.44 1324.57 1457.84 L1324.57 1454.02 Q1326.26 1454.94 1328.07 1455.39 Q1329.87 1455.84 1331.89 1455.84 Q1335.14 1455.84 1337.04 1454.13 Q1338.94 1452.42 1338.94 1449.48 Q1338.94 1446.55 1337.04 1444.84 Q1335.14 1443.13 1331.89 1443.13 Q1330.36 1443.13 1328.84 1443.47 Q1327.33 1443.8 1325.75 1444.52 L1325.75 1430.41 Z\" fill=\"#000000\" fill-rule=\"evenodd\" fill-opacity=\"1\" /><path clip-path=\"url(#clip830)\" d=\"M 0 0 M1594.32 1481.97 L1601.96 1481.97 L1601.96 1455.6 L1593.65 1457.27 L1593.65 1453.01 L1601.91 1451.34 L1606.59 1451.34 L1606.59 1481.97 L1614.23 1481.97 L1614.23 1485.9 L1594.32 1485.9 L1594.32 1481.97 Z\" fill=\"#000000\" fill-rule=\"evenodd\" fill-opacity=\"1\" /><path clip-path=\"url(#clip830)\" d=\"M 0 0 M1629.3 1454.42 Q1625.69 1454.42 1623.86 1457.99 Q1622.05 1461.53 1622.05 1468.66 Q1622.05 1475.77 1623.86 1479.33 Q1625.69 1482.87 1629.3 1482.87 Q1632.93 1482.87 1634.74 1479.33 Q1636.57 1475.77 1636.57 1468.66 Q1636.57 1461.53 1634.74 1457.99 Q1632.93 1454.42 1629.3 1454.42 M1629.3 1450.72 Q1635.11 1450.72 1638.16 1455.33 Q1641.24 1459.91 1641.24 1468.66 Q1641.24 1477.39 1638.16 1481.99 Q1635.11 1486.58 1629.3 1486.58 Q1623.49 1486.58 1620.41 1481.99 Q1617.35 1477.39 1617.35 1468.66 Q1617.35 1459.91 1620.41 1455.33 Q1623.49 1450.72 1629.3 1450.72 Z\" fill=\"#000000\" fill-rule=\"evenodd\" fill-opacity=\"1\" /><path clip-path=\"url(#clip830)\" d=\"M 0 0 M1653.94 1443.35 Q1656.67 1443.94 1658.19 1445.78 Q1659.73 1447.62 1659.73 1450.33 Q1659.73 1454.49 1656.87 1456.76 Q1654.01 1459.04 1648.75 1459.04 Q1646.98 1459.04 1645.1 1458.68 Q1643.24 1458.34 1641.24 1457.65 L1641.24 1453.98 Q1642.82 1454.9 1644.7 1455.37 Q1646.58 1455.84 1648.63 1455.84 Q1652.21 1455.84 1654.07 1454.43 Q1655.95 1453.02 1655.95 1450.33 Q1655.95 1447.85 1654.2 1446.46 Q1652.47 1445.05 1649.37 1445.05 L1646.1 1445.05 L1646.1 1441.92 L1649.52 1441.92 Q1652.32 1441.92 1653.81 1440.81 Q1655.29 1439.69 1655.29 1437.58 Q1655.29 1435.42 1653.75 1434.27 Q1652.23 1433.1 1649.37 1433.1 Q1647.81 1433.1 1646.02 1433.44 Q1644.23 1433.78 1642.09 1434.49 L1642.09 1431.11 Q1644.25 1430.51 1646.13 1430.21 Q1648.03 1429.91 1649.71 1429.91 Q1654.03 1429.91 1656.55 1431.88 Q1659.07 1433.84 1659.07 1437.18 Q1659.07 1439.52 1657.74 1441.13 Q1656.4 1442.73 1653.94 1443.35 Z\" fill=\"#000000\" fill-rule=\"evenodd\" fill-opacity=\"1\" /><path clip-path=\"url(#clip830)\" d=\"M 0 0 M1663.85 1453.72 L1667.82 1453.72 L1667.82 1458.49 L1663.85 1458.49 L1663.85 1453.72 Z\" fill=\"#000000\" fill-rule=\"evenodd\" fill-opacity=\"1\" /><path clip-path=\"url(#clip830)\" d=\"M 0 0 M1680.06 1432.91 Q1677.13 1432.91 1675.64 1435.81 Q1674.18 1438.69 1674.18 1444.48 Q1674.18 1450.26 1675.64 1453.15 Q1677.13 1456.03 1680.06 1456.03 Q1683.01 1456.03 1684.48 1453.15 Q1685.97 1450.26 1685.97 1444.48 Q1685.97 1438.69 1684.48 1435.81 Q1683.01 1432.91 1680.06 1432.91 M1680.06 1429.91 Q1684.78 1429.91 1687.27 1433.65 Q1689.77 1437.37 1689.77 1444.48 Q1689.77 1451.57 1687.27 1455.31 Q1684.78 1459.04 1680.06 1459.04 Q1675.34 1459.04 1672.84 1455.31 Q1670.36 1451.57 1670.36 1444.48 Q1670.36 1437.37 1672.84 1433.65 Q1675.34 1429.91 1680.06 1429.91 Z\" fill=\"#000000\" fill-rule=\"evenodd\" fill-opacity=\"1\" /><path clip-path=\"url(#clip830)\" d=\"M 0 0 M1941.02 1481.97 L1948.66 1481.97 L1948.66 1455.6 L1940.35 1457.27 L1940.35 1453.01 L1948.61 1451.34 L1953.29 1451.34 L1953.29 1481.97 L1960.93 1481.97 L1960.93 1485.9 L1941.02 1485.9 L1941.02 1481.97 Z\" fill=\"#000000\" fill-rule=\"evenodd\" fill-opacity=\"1\" /><path clip-path=\"url(#clip830)\" d=\"M 0 0 M1976 1454.42 Q1972.39 1454.42 1970.56 1457.99 Q1968.75 1461.53 1968.75 1468.66 Q1968.75 1475.77 1970.56 1479.33 Q1972.39 1482.87 1976 1482.87 Q1979.63 1482.87 1981.44 1479.33 Q1983.27 1475.77 1983.27 1468.66 Q1983.27 1461.53 1981.44 1457.99 Q1979.63 1454.42 1976 1454.42 M1976 1450.72 Q1981.81 1450.72 1984.86 1455.33 Q1987.94 1459.91 1987.94 1468.66 Q1987.94 1477.39 1984.86 1481.99 Q1981.81 1486.58 1976 1486.58 Q1970.19 1486.58 1967.11 1481.99 Q1964.05 1477.39 1964.05 1468.66 Q1964.05 1459.91 1967.11 1455.33 Q1970.19 1450.72 1976 1450.72 Z\" fill=\"#000000\" fill-rule=\"evenodd\" fill-opacity=\"1\" /><path clip-path=\"url(#clip830)\" d=\"M 0 0 M2000.64 1443.35 Q2003.37 1443.94 2004.89 1445.78 Q2006.43 1447.62 2006.43 1450.33 Q2006.43 1454.49 2003.57 1456.76 Q2000.71 1459.04 1995.45 1459.04 Q1993.68 1459.04 1991.8 1458.68 Q1989.94 1458.34 1987.94 1457.65 L1987.94 1453.98 Q1989.52 1454.9 1991.4 1455.37 Q1993.28 1455.84 1995.33 1455.84 Q1998.91 1455.84 2000.77 1454.43 Q2002.65 1453.02 2002.65 1450.33 Q2002.65 1447.85 2000.9 1446.46 Q1999.17 1445.05 1996.07 1445.05 L1992.8 1445.05 L1992.8 1441.92 L1996.22 1441.92 Q1999.02 1441.92 2000.51 1440.81 Q2001.99 1439.69 2001.99 1437.58 Q2001.99 1435.42 2000.45 1434.27 Q1998.93 1433.1 1996.07 1433.1 Q1994.51 1433.1 1992.72 1433.44 Q1990.93 1433.78 1988.79 1434.49 L1988.79 1431.11 Q1990.95 1430.51 1992.83 1430.21 Q1994.73 1429.91 1996.41 1429.91 Q2000.73 1429.91 2003.25 1431.88 Q2005.77 1433.84 2005.77 1437.18 Q2005.77 1439.52 2004.44 1441.13 Q2003.1 1442.73 2000.64 1443.35 Z\" fill=\"#000000\" fill-rule=\"evenodd\" fill-opacity=\"1\" /><path clip-path=\"url(#clip830)\" d=\"M 0 0 M2010.55 1453.72 L2014.52 1453.72 L2014.52 1458.49 L2010.55 1458.49 L2010.55 1453.72 Z\" fill=\"#000000\" fill-rule=\"evenodd\" fill-opacity=\"1\" /><path clip-path=\"url(#clip830)\" d=\"M 0 0 M2018.68 1430.41 L2033.59 1430.41 L2033.59 1433.61 L2022.15 1433.61 L2022.15 1440.49 Q2022.98 1440.21 2023.81 1440.08 Q2024.64 1439.93 2025.46 1439.93 Q2030.17 1439.93 2032.91 1442.51 Q2035.66 1445.08 2035.66 1449.48 Q2035.66 1454.02 2032.84 1456.54 Q2030.02 1459.04 2024.88 1459.04 Q2023.11 1459.04 2021.27 1458.74 Q2019.45 1458.44 2017.49 1457.84 L2017.49 1454.02 Q2019.18 1454.94 2020.99 1455.39 Q2022.79 1455.84 2024.81 1455.84 Q2028.06 1455.84 2029.96 1454.13 Q2031.86 1452.42 2031.86 1449.48 Q2031.86 1446.55 2029.96 1444.84 Q2028.06 1443.13 2024.81 1443.13 Q2023.28 1443.13 2021.76 1443.47 Q2020.26 1443.8 2018.68 1444.52 L2018.68 1430.41 Z\" fill=\"#000000\" fill-rule=\"evenodd\" fill-opacity=\"1\" /><path clip-path=\"url(#clip830)\" d=\"M 0 0 M131.538 1239.46 L139.177 1239.46 L139.177 1213.09 L130.867 1214.76 L130.867 1210.5 L139.13 1208.83 L143.806 1208.83 L143.806 1239.46 L151.445 1239.46 L151.445 1243.39 L131.538 1243.39 L131.538 1239.46 Z\" fill=\"#000000\" fill-rule=\"evenodd\" fill-opacity=\"1\" /><path clip-path=\"url(#clip830)\" d=\"M 0 0 M166.515 1211.91 Q162.903 1211.91 161.075 1215.48 Q159.269 1219.02 159.269 1226.15 Q159.269 1233.25 161.075 1236.82 Q162.903 1240.36 166.515 1240.36 Q170.149 1240.36 171.954 1236.82 Q173.783 1233.25 173.783 1226.15 Q173.783 1219.02 171.954 1215.48 Q170.149 1211.91 166.515 1211.91 M166.515 1208.21 Q172.325 1208.21 175.38 1212.81 Q178.459 1217.4 178.459 1226.15 Q178.459 1234.88 175.38 1239.48 Q172.325 1244.06 166.515 1244.06 Q160.704 1244.06 157.626 1239.48 Q154.57 1234.88 154.57 1226.15 Q154.57 1217.4 157.626 1212.81 Q160.704 1208.21 166.515 1208.21 Z\" fill=\"#000000\" fill-rule=\"evenodd\" fill-opacity=\"1\" /><path clip-path=\"url(#clip830)\" d=\"M 0 0 M135.126 947.08 L151.445 947.08 L151.445 951.015 L129.501 951.015 L129.501 947.08 Q132.163 944.325 136.746 939.696 Q141.353 935.043 142.533 933.7 Q144.779 931.177 145.658 929.441 Q146.561 927.682 146.561 925.992 Q146.561 923.238 144.617 921.501 Q142.695 919.765 139.593 919.765 Q137.394 919.765 134.941 920.529 Q132.51 921.293 129.732 922.844 L129.732 918.122 Q132.556 916.988 135.01 916.409 Q137.464 915.83 139.501 915.83 Q144.871 915.83 148.066 918.515 Q151.26 921.201 151.26 925.691 Q151.26 927.821 150.45 929.742 Q149.663 931.64 147.556 934.233 Q146.978 934.904 143.876 938.122 Q140.774 941.316 135.126 947.08 Z\" fill=\"#000000\" fill-rule=\"evenodd\" fill-opacity=\"1\" /><path clip-path=\"url(#clip830)\" d=\"M 0 0 M166.515 919.534 Q162.903 919.534 161.075 923.099 Q159.269 926.64 159.269 933.77 Q159.269 940.876 161.075 944.441 Q162.903 947.983 166.515 947.983 Q170.149 947.983 171.954 944.441 Q173.783 940.876 173.783 933.77 Q173.783 926.64 171.954 923.099 Q170.149 919.534 166.515 919.534 M166.515 915.83 Q172.325 915.83 175.38 920.437 Q178.459 925.02 178.459 933.77 Q178.459 942.497 175.38 947.103 Q172.325 951.686 166.515 951.686 Q160.704 951.686 157.626 947.103 Q154.57 942.497 154.57 933.77 Q154.57 925.02 157.626 920.437 Q160.704 915.83 166.515 915.83 Z\" fill=\"#000000\" fill-rule=\"evenodd\" fill-opacity=\"1\" /><path clip-path=\"url(#clip830)\" d=\"M 0 0 M144.316 640.003 Q147.672 640.72 149.547 642.989 Q151.445 645.257 151.445 648.591 Q151.445 653.706 147.927 656.507 Q144.408 659.308 137.927 659.308 Q135.751 659.308 133.436 658.868 Q131.144 658.452 128.691 657.595 L128.691 653.081 Q130.635 654.216 132.95 654.794 Q135.265 655.373 137.788 655.373 Q142.186 655.373 144.478 653.637 Q146.792 651.901 146.792 648.591 Q146.792 645.535 144.64 643.822 Q142.51 642.086 138.691 642.086 L134.663 642.086 L134.663 638.243 L138.876 638.243 Q142.325 638.243 144.154 636.878 Q145.982 635.489 145.982 632.896 Q145.982 630.234 144.084 628.822 Q142.209 627.387 138.691 627.387 Q136.769 627.387 134.57 627.804 Q132.371 628.22 129.732 629.1 L129.732 624.933 Q132.394 624.193 134.709 623.822 Q137.047 623.452 139.107 623.452 Q144.431 623.452 147.533 625.882 Q150.635 628.29 150.635 632.41 Q150.635 635.281 148.992 637.271 Q147.348 639.239 144.316 640.003 Z\" fill=\"#000000\" fill-rule=\"evenodd\" fill-opacity=\"1\" /><path clip-path=\"url(#clip830)\" d=\"M 0 0 M166.515 627.156 Q162.903 627.156 161.075 630.72 Q159.269 634.262 159.269 641.392 Q159.269 648.498 161.075 652.063 Q162.903 655.604 166.515 655.604 Q170.149 655.604 171.954 652.063 Q173.783 648.498 173.783 641.392 Q173.783 634.262 171.954 630.72 Q170.149 627.156 166.515 627.156 M166.515 623.452 Q172.325 623.452 175.38 628.058 Q178.459 632.642 178.459 641.392 Q178.459 650.118 175.38 654.725 Q172.325 659.308 166.515 659.308 Q160.704 659.308 157.626 654.725 Q154.57 650.118 154.57 641.392 Q154.57 632.642 157.626 628.058 Q160.704 623.452 166.515 623.452 Z\" fill=\"#000000\" fill-rule=\"evenodd\" fill-opacity=\"1\" /><path clip-path=\"url(#clip830)\" d=\"M 0 0 M141.862 335.773 L130.056 354.222 L141.862 354.222 L141.862 335.773 M140.635 331.699 L146.515 331.699 L146.515 354.222 L151.445 354.222 L151.445 358.11 L146.515 358.11 L146.515 366.259 L141.862 366.259 L141.862 358.11 L126.26 358.11 L126.26 353.597 L140.635 331.699 Z\" fill=\"#000000\" fill-rule=\"evenodd\" fill-opacity=\"1\" /><path clip-path=\"url(#clip830)\" d=\"M 0 0 M166.515 334.777 Q162.903 334.777 161.075 338.342 Q159.269 341.884 159.269 349.013 Q159.269 356.12 161.075 359.684 Q162.903 363.226 166.515 363.226 Q170.149 363.226 171.954 359.684 Q173.783 356.12 173.783 349.013 Q173.783 341.884 171.954 338.342 Q170.149 334.777 166.515 334.777 M166.515 331.074 Q172.325 331.074 175.38 335.68 Q178.459 340.263 178.459 349.013 Q178.459 357.74 175.38 362.347 Q172.325 366.93 166.515 366.93 Q160.704 366.93 157.626 362.347 Q154.57 357.74 154.57 349.013 Q154.57 340.263 157.626 335.68 Q160.704 331.074 166.515 331.074 Z\" fill=\"#000000\" fill-rule=\"evenodd\" fill-opacity=\"1\" /><path clip-path=\"url(#clip830)\" d=\"M 0 0 M130.543 39.3202 L148.899 39.3202 L148.899 43.2554 L134.825 43.2554 L134.825 51.7275 Q135.843 51.3803 136.862 51.2183 Q137.88 51.0331 138.899 51.0331 Q144.686 51.0331 148.066 54.2044 Q151.445 57.3757 151.445 62.7923 Q151.445 68.371 147.973 71.4728 Q144.501 74.5515 138.181 74.5515 Q136.005 74.5515 133.737 74.1811 Q131.492 73.8108 129.084 73.07 L129.084 68.371 Q131.168 69.5052 133.39 70.0608 Q135.612 70.6163 138.089 70.6163 Q142.093 70.6163 144.431 68.5099 Q146.769 66.4034 146.769 62.7923 Q146.769 59.1812 144.431 57.0747 Q142.093 54.9683 138.089 54.9683 Q136.214 54.9683 134.339 55.3849 Q132.487 55.8016 130.543 56.6812 L130.543 39.3202 Z\" fill=\"#000000\" fill-rule=\"evenodd\" fill-opacity=\"1\" /><path clip-path=\"url(#clip830)\" d=\"M 0 0 M166.515 42.3989 Q162.903 42.3989 161.075 45.9637 Q159.269 49.5053 159.269 56.6349 Q159.269 63.7414 161.075 67.3062 Q162.903 70.8478 166.515 70.8478 Q170.149 70.8478 171.954 67.3062 Q173.783 63.7414 173.783 56.6349 Q173.783 49.5053 171.954 45.9637 Q170.149 42.3989 166.515 42.3989 M166.515 38.6952 Q172.325 38.6952 175.38 43.3017 Q178.459 47.885 178.459 56.6349 Q178.459 65.3617 175.38 69.9682 Q172.325 74.5515 166.515 74.5515 Q160.704 74.5515 157.626 69.9682 Q154.57 65.3617 154.57 56.6349 Q154.57 47.885 157.626 43.3017 Q160.704 38.6952 166.515 38.6952 Z\" fill=\"#000000\" fill-rule=\"evenodd\" fill-opacity=\"1\" /><path clip-path=\"url(#clip830)\" d=\"M 0 0 M1087.89 1542.9 L1087.89 1545.76 L1060.96 1545.76 Q1061.34 1551.81 1064.59 1554.99 Q1067.87 1558.14 1073.69 1558.14 Q1077.07 1558.14 1080.22 1557.32 Q1083.4 1556.49 1086.52 1554.83 L1086.52 1560.37 Q1083.37 1561.71 1080.06 1562.41 Q1076.75 1563.11 1073.34 1563.11 Q1064.81 1563.11 1059.81 1558.14 Q1054.85 1553.18 1054.85 1544.71 Q1054.85 1535.96 1059.56 1530.83 Q1064.3 1525.68 1072.32 1525.68 Q1079.52 1525.68 1083.69 1530.33 Q1087.89 1534.94 1087.89 1542.9 M1082.03 1541.18 Q1081.97 1536.37 1079.33 1533.51 Q1076.72 1530.64 1072.39 1530.64 Q1067.48 1530.64 1064.52 1533.41 Q1061.6 1536.18 1061.15 1541.21 L1082.03 1541.18 Z\" fill=\"#000000\" fill-rule=\"evenodd\" fill-opacity=\"1\" /><path clip-path=\"url(#clip830)\" d=\"M 0 0 M1099.7 1556.84 L1099.7 1575.74 L1093.81 1575.74 L1093.81 1526.54 L1099.7 1526.54 L1099.7 1531.95 Q1101.54 1528.77 1104.34 1527.24 Q1107.18 1525.68 1111.09 1525.68 Q1117.58 1525.68 1121.63 1530.83 Q1125.7 1535.99 1125.7 1544.39 Q1125.7 1552.8 1121.63 1557.95 Q1117.58 1563.11 1111.09 1563.11 Q1107.18 1563.11 1104.34 1561.58 Q1101.54 1560.02 1099.7 1556.84 M1119.62 1544.39 Q1119.62 1537.93 1116.95 1534.27 Q1114.3 1530.58 1109.66 1530.58 Q1105.01 1530.58 1102.34 1534.27 Q1099.7 1537.93 1099.7 1544.39 Q1099.7 1550.85 1102.34 1554.55 Q1105.01 1558.21 1109.66 1558.21 Q1114.3 1558.21 1116.95 1554.55 Q1119.62 1550.85 1119.62 1544.39 Z\" fill=\"#000000\" fill-rule=\"evenodd\" fill-opacity=\"1\" /><path clip-path=\"url(#clip830)\" d=\"M 0 0 M1145.66 1530.64 Q1140.95 1530.64 1138.21 1534.34 Q1135.47 1538 1135.47 1544.39 Q1135.47 1550.79 1138.18 1554.48 Q1140.91 1558.14 1145.66 1558.14 Q1150.33 1558.14 1153.07 1554.45 Q1155.81 1550.76 1155.81 1544.39 Q1155.81 1538.06 1153.07 1534.37 Q1150.33 1530.64 1145.66 1530.64 M1145.66 1525.68 Q1153.29 1525.68 1157.66 1530.64 Q1162.02 1535.61 1162.02 1544.39 Q1162.02 1553.15 1157.66 1558.14 Q1153.29 1563.11 1145.66 1563.11 Q1137.99 1563.11 1133.62 1558.14 Q1129.3 1553.15 1129.3 1544.39 Q1129.3 1535.61 1133.62 1530.64 Q1137.99 1525.68 1145.66 1525.68 Z\" fill=\"#000000\" fill-rule=\"evenodd\" fill-opacity=\"1\" /><path clip-path=\"url(#clip830)\" d=\"M 0 0 M1193.81 1527.91 L1193.81 1533.38 Q1191.33 1532.01 1188.82 1531.34 Q1186.33 1530.64 1183.79 1530.64 Q1178.09 1530.64 1174.94 1534.27 Q1171.79 1537.87 1171.79 1544.39 Q1171.79 1550.92 1174.94 1554.55 Q1178.09 1558.14 1183.79 1558.14 Q1186.33 1558.14 1188.82 1557.47 Q1191.33 1556.77 1193.81 1555.41 L1193.81 1560.82 Q1191.36 1561.96 1188.72 1562.54 Q1186.11 1563.11 1183.15 1563.11 Q1175.1 1563.11 1170.35 1558.05 Q1165.61 1552.99 1165.61 1544.39 Q1165.61 1535.67 1170.39 1530.68 Q1175.19 1525.68 1183.53 1525.68 Q1186.24 1525.68 1188.82 1526.25 Q1191.39 1526.79 1193.81 1527.91 Z\" fill=\"#000000\" fill-rule=\"evenodd\" fill-opacity=\"1\" /><path clip-path=\"url(#clip830)\" d=\"M 0 0 M1229.59 1540.67 L1229.59 1562.19 L1223.73 1562.19 L1223.73 1540.86 Q1223.73 1535.8 1221.76 1533.29 Q1219.78 1530.77 1215.84 1530.77 Q1211.1 1530.77 1208.36 1533.79 Q1205.62 1536.82 1205.62 1542.04 L1205.62 1562.19 L1199.73 1562.19 L1199.73 1512.66 L1205.62 1512.66 L1205.62 1532.08 Q1207.72 1528.86 1210.55 1527.27 Q1213.42 1525.68 1217.14 1525.68 Q1223.29 1525.68 1226.44 1529.5 Q1229.59 1533.29 1229.59 1540.67 Z\" fill=\"#000000\" fill-rule=\"evenodd\" fill-opacity=\"1\" /><path clip-path=\"url(#clip830)\" d=\"M 0 0 M1258.46 1527.59 L1258.46 1533.13 Q1255.97 1531.85 1253.3 1531.22 Q1250.63 1530.58 1247.76 1530.58 Q1243.4 1530.58 1241.21 1531.92 Q1239.04 1533.25 1239.04 1535.93 Q1239.04 1537.96 1240.6 1539.14 Q1242.16 1540.29 1246.87 1541.34 L1248.88 1541.78 Q1255.11 1543.12 1257.72 1545.57 Q1260.37 1547.99 1260.37 1552.35 Q1260.37 1557.32 1256.42 1560.21 Q1252.5 1563.11 1245.63 1563.11 Q1242.76 1563.11 1239.65 1562.54 Q1236.56 1561.99 1233.12 1560.88 L1233.12 1554.83 Q1236.37 1556.52 1239.52 1557.38 Q1242.67 1558.21 1245.76 1558.21 Q1249.89 1558.21 1252.12 1556.81 Q1254.35 1555.37 1254.35 1552.8 Q1254.35 1550.41 1252.73 1549.14 Q1251.14 1547.86 1245.69 1546.68 L1243.66 1546.21 Q1238.21 1545.06 1235.79 1542.71 Q1233.38 1540.32 1233.38 1536.18 Q1233.38 1531.15 1236.94 1528.42 Q1240.5 1525.68 1247.06 1525.68 Q1250.31 1525.68 1253.17 1526.16 Q1256.04 1526.63 1258.46 1527.59 Z\" fill=\"#000000\" fill-rule=\"evenodd\" fill-opacity=\"1\" /><path clip-path=\"url(#clip830)\" d=\"M 0 0 M70.212 837.558 Q63.7508 837.558 60.0905 840.232 Q56.3984 842.873 56.3984 847.52 Q56.3984 852.167 60.0905 854.841 Q63.7508 857.483 70.212 857.483 Q76.6732 857.483 80.3653 854.841 Q84.0256 852.167 84.0256 847.52 Q84.0256 842.873 80.3653 840.232 Q76.6732 837.558 70.212 837.558 M57.7671 857.483 Q54.5842 855.637 53.0564 852.836 Q51.4968 850.003 51.4968 846.088 Q51.4968 839.595 56.6531 835.553 Q61.8093 831.479 70.212 831.479 Q78.6147 831.479 83.771 835.553 Q88.9272 839.595 88.9272 846.088 Q88.9272 850.003 87.3994 852.836 Q85.8398 855.637 82.657 857.483 L88.0042 857.483 L88.0042 863.371 L38.479 863.371 L38.479 857.483 L57.7671 857.483 Z\" fill=\"#000000\" fill-rule=\"evenodd\" fill-opacity=\"1\" /><path clip-path=\"url(#clip830)\" d=\"M 0 0 M73.9359 825.941 L52.3562 825.941 L52.3562 820.084 L73.7131 820.084 Q78.7739 820.084 81.3202 818.111 Q83.8346 816.137 83.8346 812.191 Q83.8346 807.448 80.8109 804.711 Q77.7872 801.942 72.5673 801.942 L52.3562 801.942 L52.3562 796.085 L88.0042 796.085 L88.0042 801.942 L82.5296 801.942 Q85.7762 804.074 87.3676 806.907 Q88.9272 809.708 88.9272 813.432 Q88.9272 819.575 85.1078 822.758 Q81.2883 825.941 73.9359 825.941 M51.4968 811.204 L51.4968 811.204 Z\" fill=\"#000000\" fill-rule=\"evenodd\" fill-opacity=\"1\" /><path clip-path=\"url(#clip830)\" d=\"M 0 0 M52.3562 789.942 L52.3562 784.086 L88.0042 784.086 L88.0042 789.942 L52.3562 789.942 M38.479 789.942 L38.479 784.086 L45.895 784.086 L45.895 789.942 L38.479 789.942 Z\" fill=\"#000000\" fill-rule=\"evenodd\" fill-opacity=\"1\" /><path clip-path=\"url(#clip830)\" d=\"M 0 0 M38.479 777.943 L38.479 772.087 L88.0042 772.087 L88.0042 777.943 L38.479 777.943 Z\" fill=\"#000000\" fill-rule=\"evenodd\" fill-opacity=\"1\" /><path clip-path=\"url(#clip830)\" d=\"M 0 0 M57.7671 742.486 L38.479 742.486 L38.479 736.63 L88.0042 736.63 L88.0042 742.486 L82.657 742.486 Q85.8398 744.332 87.3994 747.165 Q88.9272 749.966 88.9272 753.913 Q88.9272 760.374 83.771 764.448 Q78.6147 768.49 70.212 768.49 Q61.8093 768.49 56.6531 764.448 Q51.4968 760.374 51.4968 753.913 Q51.4968 749.966 53.0564 747.165 Q54.5842 744.332 57.7671 742.486 M70.212 762.443 Q76.6732 762.443 80.3653 759.801 Q84.0256 757.127 84.0256 752.48 Q84.0256 747.833 80.3653 745.16 Q76.6732 742.486 70.212 742.486 Q63.7508 742.486 60.0905 745.16 Q56.3984 747.833 56.3984 752.48 Q56.3984 757.127 60.0905 759.801 Q63.7508 762.443 70.212 762.443 Z\" fill=\"#000000\" fill-rule=\"evenodd\" fill-opacity=\"1\" /><path clip-path=\"url(#clip830)\" d=\"M 0 0 M68.7161 699.995 L71.5806 699.995 L71.5806 726.922 Q77.6281 726.54 80.8109 723.293 Q83.9619 720.015 83.9619 714.191 Q83.9619 710.817 83.1344 707.666 Q82.3069 704.483 80.6518 701.364 L86.1899 701.364 Q87.5267 704.515 88.227 707.825 Q88.9272 711.135 88.9272 714.541 Q88.9272 723.071 83.9619 728.068 Q78.9967 733.033 70.5303 733.033 Q61.7774 733.033 56.6531 728.322 Q51.4968 723.58 51.4968 715.559 Q51.4968 708.366 56.1438 704.196 Q60.7589 699.995 68.7161 699.995 M66.9973 705.851 Q62.1912 705.915 59.3266 708.557 Q56.4621 711.167 56.4621 715.495 Q56.4621 720.397 59.2312 723.357 Q62.0002 726.285 67.0292 726.731 L66.9973 705.851 Z\" fill=\"#000000\" fill-rule=\"evenodd\" fill-opacity=\"1\" /><path clip-path=\"url(#clip830)\" d=\"M 0 0 M57.8307 673.195 Q57.2578 674.182 57.0032 675.36 Q56.7167 676.506 56.7167 677.906 Q56.7167 682.871 59.9632 685.545 Q63.1779 688.187 69.2253 688.187 L88.0042 688.187 L88.0042 694.075 L52.3562 694.075 L52.3562 688.187 L57.8944 688.187 Q54.6479 686.341 53.0883 683.381 Q51.4968 680.42 51.4968 676.187 Q51.4968 675.583 51.5923 674.85 Q51.656 674.118 51.8151 673.227 L57.8307 673.195 Z\" fill=\"#000000\" fill-rule=\"evenodd\" fill-opacity=\"1\" /><path clip-path=\"url(#clip830)\" d=\"M 0 0 M79.9197 672.209 L79.9197 665.493 L88.0042 665.493 L88.0042 672.209 L79.9197 672.209 Z\" fill=\"#000000\" fill-rule=\"evenodd\" fill-opacity=\"1\" /><path clip-path=\"url(#clip830)\" d=\"M 0 0 M66.4881 629.718 L88.0042 629.718 L88.0042 635.574 L66.679 635.574 Q61.6183 635.574 59.1038 637.547 Q56.5894 639.521 56.5894 643.468 Q56.5894 648.21 59.6131 650.947 Q62.6368 653.684 67.8567 653.684 L88.0042 653.684 L88.0042 659.573 L52.3562 659.573 L52.3562 653.684 L57.8944 653.684 Q54.6797 651.584 53.0883 648.751 Q51.4968 645.886 51.4968 642.163 Q51.4968 636.02 55.3163 632.869 Q59.1038 629.718 66.4881 629.718 Z\" fill=\"#000000\" fill-rule=\"evenodd\" fill-opacity=\"1\" /><path clip-path=\"url(#clip830)\" d=\"M 0 0 M82.5933 617.209 L82.5933 594.77 L88.0042 594.77 L88.0042 624.943 L82.5933 624.943 Q78.8057 621.283 72.44 614.981 Q66.0425 608.647 64.1964 607.024 Q60.7271 603.936 58.34 602.727 Q55.921 601.486 53.5975 601.486 Q49.8099 601.486 47.4228 604.159 Q45.0356 606.801 45.0356 611.066 Q45.0356 614.09 46.086 617.464 Q47.1363 620.806 49.2688 624.625 L42.7758 624.625 Q41.2162 620.742 40.4205 617.368 Q39.6248 613.994 39.6248 611.193 Q39.6248 603.809 43.3169 599.417 Q47.009 595.025 53.1837 595.025 Q56.112 595.025 58.7537 596.138 Q61.3637 597.221 64.9285 600.117 Q65.8515 600.913 70.2757 605.178 Q74.668 609.443 82.5933 617.209 Z\" fill=\"#000000\" fill-rule=\"evenodd\" fill-opacity=\"1\" /><circle clip-path=\"url(#clip832)\" cx=\"1286.5\" cy=\"1196.88\" r=\"10\" fill=\"#190b3e\" fill-rule=\"evenodd\" fill-opacity=\"1\" stroke=\"#000000\" stroke-opacity=\"1\" stroke-width=\"3.2\"/>\n",
       "<circle clip-path=\"url(#clip832)\" cx=\"519.855\" cy=\"1372.3\" r=\"43\" fill=\"#ed6924\" fill-rule=\"evenodd\" fill-opacity=\"1\" stroke=\"#000000\" stroke-opacity=\"1\" stroke-width=\"3.2\"/>\n",
       "<circle clip-path=\"url(#clip832)\" cx=\"2058.69\" cy=\"85.838\" r=\"7\" fill=\"#0a0723\" fill-rule=\"evenodd\" fill-opacity=\"1\" stroke=\"#000000\" stroke-opacity=\"1\" stroke-width=\"3.2\"/>\n",
       "<circle clip-path=\"url(#clip832)\" cx=\"2058.69\" cy=\"641.357\" r=\"8\" fill=\"#0e082a\" fill-rule=\"evenodd\" fill-opacity=\"1\" stroke=\"#000000\" stroke-opacity=\"1\" stroke-width=\"3.2\"/>\n",
       "<circle clip-path=\"url(#clip832)\" cx=\"1801.32\" cy=\"641.357\" r=\"7\" fill=\"#0a0723\" fill-rule=\"evenodd\" fill-opacity=\"1\" stroke=\"#000000\" stroke-opacity=\"1\" stroke-width=\"3.2\"/>\n",
       "<circle clip-path=\"url(#clip832)\" cx=\"2058.69\" cy=\"261.265\" r=\"6\" fill=\"#06051b\" fill-rule=\"evenodd\" fill-opacity=\"1\" stroke=\"#000000\" stroke-opacity=\"1\" stroke-width=\"3.2\"/>\n",
       "<circle clip-path=\"url(#clip832)\" cx=\"1543.73\" cy=\"992.211\" r=\"8\" fill=\"#0d0829\" fill-rule=\"evenodd\" fill-opacity=\"1\" stroke=\"#000000\" stroke-opacity=\"1\" stroke-width=\"3.2\"/>\n",
       "<circle clip-path=\"url(#clip832)\" cx=\"1801.32\" cy=\"261.265\" r=\"7\" fill=\"#0a0723\" fill-rule=\"evenodd\" fill-opacity=\"1\" stroke=\"#000000\" stroke-opacity=\"1\" stroke-width=\"3.2\"/>\n",
       "<circle clip-path=\"url(#clip832)\" cx=\"256.524\" cy=\"1372.3\" r=\"61\" fill=\"#fcfea4\" fill-rule=\"evenodd\" fill-opacity=\"1\" stroke=\"#000000\" stroke-opacity=\"1\" stroke-width=\"3.2\"/>\n",
       "<circle clip-path=\"url(#clip832)\" cx=\"769.294\" cy=\"816.784\" r=\"13\" fill=\"#2e0a5a\" fill-rule=\"evenodd\" fill-opacity=\"1\" stroke=\"#000000\" stroke-opacity=\"1\" stroke-width=\"3.2\"/>\n",
       "<circle clip-path=\"url(#clip832)\" cx=\"1543.73\" cy=\"1372.3\" r=\"8\" fill=\"#0e082b\" fill-rule=\"evenodd\" fill-opacity=\"1\" stroke=\"#000000\" stroke-opacity=\"1\" stroke-width=\"3.2\"/>\n",
       "<circle clip-path=\"url(#clip832)\" cx=\"769.294\" cy=\"261.265\" r=\"12\" fill=\"#270b52\" fill-rule=\"evenodd\" fill-opacity=\"1\" stroke=\"#000000\" stroke-opacity=\"1\" stroke-width=\"3.2\"/>\n",
       "<circle clip-path=\"url(#clip832)\" cx=\"1028.03\" cy=\"261.265\" r=\"10\" fill=\"#1a0b40\" fill-rule=\"evenodd\" fill-opacity=\"1\" stroke=\"#000000\" stroke-opacity=\"1\" stroke-width=\"3.2\"/>\n",
       "<circle clip-path=\"url(#clip832)\" cx=\"1028.03\" cy=\"85.838\" r=\"10\" fill=\"#1a0b40\" fill-rule=\"evenodd\" fill-opacity=\"1\" stroke=\"#000000\" stroke-opacity=\"1\" stroke-width=\"3.2\"/>\n",
       "<circle clip-path=\"url(#clip832)\" cx=\"1028.03\" cy=\"992.211\" r=\"11\" fill=\"#1e0c46\" fill-rule=\"evenodd\" fill-opacity=\"1\" stroke=\"#000000\" stroke-opacity=\"1\" stroke-width=\"3.2\"/>\n",
       "<circle clip-path=\"url(#clip832)\" cx=\"519.855\" cy=\"816.784\" r=\"31\" fill=\"#a72d5f\" fill-rule=\"evenodd\" fill-opacity=\"1\" stroke=\"#000000\" stroke-opacity=\"1\" stroke-width=\"3.2\"/>\n",
       "<circle clip-path=\"url(#clip832)\" cx=\"256.524\" cy=\"816.784\" r=\"52\" fill=\"#fbb51a\" fill-rule=\"evenodd\" fill-opacity=\"1\" stroke=\"#000000\" stroke-opacity=\"1\" stroke-width=\"3.2\"/>\n",
       "<circle clip-path=\"url(#clip832)\" cx=\"2058.69\" cy=\"992.211\" r=\"8\" fill=\"#0e082a\" fill-rule=\"evenodd\" fill-opacity=\"1\" stroke=\"#000000\" stroke-opacity=\"1\" stroke-width=\"3.2\"/>\n",
       "<circle clip-path=\"url(#clip832)\" cx=\"256.524\" cy=\"1196.88\" r=\"54\" fill=\"#f8cb35\" fill-rule=\"evenodd\" fill-opacity=\"1\" stroke=\"#000000\" stroke-opacity=\"1\" stroke-width=\"3.2\"/>\n",
       "<circle clip-path=\"url(#clip832)\" cx=\"769.294\" cy=\"641.357\" r=\"12\" fill=\"#290b54\" fill-rule=\"evenodd\" fill-opacity=\"1\" stroke=\"#000000\" stroke-opacity=\"1\" stroke-width=\"3.2\"/>\n",
       "<circle clip-path=\"url(#clip832)\" cx=\"2058.69\" cy=\"465.93\" r=\"7\" fill=\"#0a0723\" fill-rule=\"evenodd\" fill-opacity=\"1\" stroke=\"#000000\" stroke-opacity=\"1\" stroke-width=\"3.2\"/>\n",
       "<circle clip-path=\"url(#clip832)\" cx=\"519.855\" cy=\"261.265\" r=\"18\" fill=\"#4e0c6b\" fill-rule=\"evenodd\" fill-opacity=\"1\" stroke=\"#000000\" stroke-opacity=\"1\" stroke-width=\"3.2\"/>\n",
       "<circle clip-path=\"url(#clip832)\" cx=\"1286.5\" cy=\"85.838\" r=\"9\" fill=\"#140a36\" fill-rule=\"evenodd\" fill-opacity=\"1\" stroke=\"#000000\" stroke-opacity=\"1\" stroke-width=\"3.2\"/>\n",
       "<circle clip-path=\"url(#clip832)\" cx=\"769.294\" cy=\"85.838\" r=\"12\" fill=\"#240b4e\" fill-rule=\"evenodd\" fill-opacity=\"1\" stroke=\"#000000\" stroke-opacity=\"1\" stroke-width=\"3.2\"/>\n",
       "<circle clip-path=\"url(#clip832)\" cx=\"256.524\" cy=\"261.265\" r=\"49\" fill=\"#fb9b06\" fill-rule=\"evenodd\" fill-opacity=\"1\" stroke=\"#000000\" stroke-opacity=\"1\" stroke-width=\"3.2\"/>\n",
       "<circle clip-path=\"url(#clip832)\" cx=\"256.524\" cy=\"85.838\" r=\"47\" fill=\"#f7840f\" fill-rule=\"evenodd\" fill-opacity=\"1\" stroke=\"#000000\" stroke-opacity=\"1\" stroke-width=\"3.2\"/>\n",
       "<circle clip-path=\"url(#clip832)\" cx=\"519.855\" cy=\"992.211\" r=\"28\" fill=\"#912567\" fill-rule=\"evenodd\" fill-opacity=\"1\" stroke=\"#000000\" stroke-opacity=\"1\" stroke-width=\"3.2\"/>\n",
       "<circle clip-path=\"url(#clip832)\" cx=\"1286.5\" cy=\"1372.3\" r=\"11\" fill=\"#200c48\" fill-rule=\"evenodd\" fill-opacity=\"1\" stroke=\"#000000\" stroke-opacity=\"1\" stroke-width=\"3.2\"/>\n",
       "<circle clip-path=\"url(#clip832)\" cx=\"769.294\" cy=\"1196.88\" r=\"16\" fill=\"#420968\" fill-rule=\"evenodd\" fill-opacity=\"1\" stroke=\"#000000\" stroke-opacity=\"1\" stroke-width=\"3.2\"/>\n",
       "<circle clip-path=\"url(#clip832)\" cx=\"769.294\" cy=\"465.93\" r=\"12\" fill=\"#260b51\" fill-rule=\"evenodd\" fill-opacity=\"1\" stroke=\"#000000\" stroke-opacity=\"1\" stroke-width=\"3.2\"/>\n",
       "<circle clip-path=\"url(#clip832)\" cx=\"1286.5\" cy=\"641.357\" r=\"9\" fill=\"#160b38\" fill-rule=\"evenodd\" fill-opacity=\"1\" stroke=\"#000000\" stroke-opacity=\"1\" stroke-width=\"3.2\"/>\n",
       "<circle clip-path=\"url(#clip832)\" cx=\"1543.73\" cy=\"465.93\" r=\"7\" fill=\"#0c0726\" fill-rule=\"evenodd\" fill-opacity=\"1\" stroke=\"#000000\" stroke-opacity=\"1\" stroke-width=\"3.2\"/>\n",
       "<circle clip-path=\"url(#clip832)\" cx=\"519.855\" cy=\"641.357\" r=\"23\" fill=\"#741a6d\" fill-rule=\"evenodd\" fill-opacity=\"1\" stroke=\"#000000\" stroke-opacity=\"1\" stroke-width=\"3.2\"/>\n",
       "<circle clip-path=\"url(#clip832)\" cx=\"1028.03\" cy=\"465.93\" r=\"10\" fill=\"#1c0c43\" fill-rule=\"evenodd\" fill-opacity=\"1\" stroke=\"#000000\" stroke-opacity=\"1\" stroke-width=\"3.2\"/>\n",
       "<circle clip-path=\"url(#clip832)\" cx=\"519.855\" cy=\"1196.88\" r=\"37\" fill=\"#d04544\" fill-rule=\"evenodd\" fill-opacity=\"1\" stroke=\"#000000\" stroke-opacity=\"1\" stroke-width=\"3.2\"/>\n",
       "<circle clip-path=\"url(#clip832)\" cx=\"1801.32\" cy=\"992.211\" r=\"7\" fill=\"#0a0723\" fill-rule=\"evenodd\" fill-opacity=\"1\" stroke=\"#000000\" stroke-opacity=\"1\" stroke-width=\"3.2\"/>\n",
       "<circle clip-path=\"url(#clip832)\" cx=\"256.524\" cy=\"641.357\" r=\"52\" fill=\"#fbb115\" fill-rule=\"evenodd\" fill-opacity=\"1\" stroke=\"#000000\" stroke-opacity=\"1\" stroke-width=\"3.2\"/>\n",
       "<circle clip-path=\"url(#clip832)\" cx=\"2058.69\" cy=\"1372.3\" r=\"3\" fill=\"#000003\" fill-rule=\"evenodd\" fill-opacity=\"1\" stroke=\"#000000\" stroke-opacity=\"1\" stroke-width=\"3.2\"/>\n",
       "<circle clip-path=\"url(#clip832)\" cx=\"1543.73\" cy=\"1196.88\" r=\"8\" fill=\"#0e082a\" fill-rule=\"evenodd\" fill-opacity=\"1\" stroke=\"#000000\" stroke-opacity=\"1\" stroke-width=\"3.2\"/>\n",
       "<circle clip-path=\"url(#clip832)\" cx=\"1028.03\" cy=\"1372.3\" r=\"14\" fill=\"#34095f\" fill-rule=\"evenodd\" fill-opacity=\"1\" stroke=\"#000000\" stroke-opacity=\"1\" stroke-width=\"3.2\"/>\n",
       "<circle clip-path=\"url(#clip832)\" cx=\"1028.03\" cy=\"641.357\" r=\"10\" fill=\"#1c0c43\" fill-rule=\"evenodd\" fill-opacity=\"1\" stroke=\"#000000\" stroke-opacity=\"1\" stroke-width=\"3.2\"/>\n",
       "<circle clip-path=\"url(#clip832)\" cx=\"1543.73\" cy=\"85.838\" r=\"8\" fill=\"#0d0828\" fill-rule=\"evenodd\" fill-opacity=\"1\" stroke=\"#000000\" stroke-opacity=\"1\" stroke-width=\"3.2\"/>\n",
       "<circle clip-path=\"url(#clip832)\" cx=\"1286.5\" cy=\"992.211\" r=\"9\" fill=\"#160b38\" fill-rule=\"evenodd\" fill-opacity=\"1\" stroke=\"#000000\" stroke-opacity=\"1\" stroke-width=\"3.2\"/>\n",
       "<circle clip-path=\"url(#clip832)\" cx=\"1801.32\" cy=\"816.784\" r=\"6\" fill=\"#050419\" fill-rule=\"evenodd\" fill-opacity=\"1\" stroke=\"#000000\" stroke-opacity=\"1\" stroke-width=\"3.2\"/>\n",
       "<circle clip-path=\"url(#clip832)\" cx=\"1801.32\" cy=\"1196.88\" r=\"7\" fill=\"#0b0725\" fill-rule=\"evenodd\" fill-opacity=\"1\" stroke=\"#000000\" stroke-opacity=\"1\" stroke-width=\"3.2\"/>\n",
       "<circle clip-path=\"url(#clip832)\" cx=\"769.294\" cy=\"1372.3\" r=\"26\" fill=\"#84206b\" fill-rule=\"evenodd\" fill-opacity=\"1\" stroke=\"#000000\" stroke-opacity=\"1\" stroke-width=\"3.2\"/>\n",
       "<circle clip-path=\"url(#clip832)\" cx=\"519.855\" cy=\"85.838\" r=\"17\" fill=\"#480b6a\" fill-rule=\"evenodd\" fill-opacity=\"1\" stroke=\"#000000\" stroke-opacity=\"1\" stroke-width=\"3.2\"/>\n",
       "<circle clip-path=\"url(#clip832)\" cx=\"256.524\" cy=\"465.93\" r=\"52\" fill=\"#fbb317\" fill-rule=\"evenodd\" fill-opacity=\"1\" stroke=\"#000000\" stroke-opacity=\"1\" stroke-width=\"3.2\"/>\n",
       "<circle clip-path=\"url(#clip832)\" cx=\"1543.73\" cy=\"641.357\" r=\"8\" fill=\"#0c0827\" fill-rule=\"evenodd\" fill-opacity=\"1\" stroke=\"#000000\" stroke-opacity=\"1\" stroke-width=\"3.2\"/>\n",
       "<circle clip-path=\"url(#clip832)\" cx=\"2058.69\" cy=\"1196.88\" r=\"3\" fill=\"#000004\" fill-rule=\"evenodd\" fill-opacity=\"1\" stroke=\"#000000\" stroke-opacity=\"1\" stroke-width=\"3.2\"/>\n",
       "<circle clip-path=\"url(#clip832)\" cx=\"1801.32\" cy=\"1372.3\" r=\"7\" fill=\"#08051e\" fill-rule=\"evenodd\" fill-opacity=\"1\" stroke=\"#000000\" stroke-opacity=\"1\" stroke-width=\"3.2\"/>\n",
       "<circle clip-path=\"url(#clip832)\" cx=\"1028.03\" cy=\"1196.88\" r=\"12\" fill=\"#260b51\" fill-rule=\"evenodd\" fill-opacity=\"1\" stroke=\"#000000\" stroke-opacity=\"1\" stroke-width=\"3.2\"/>\n",
       "<circle clip-path=\"url(#clip832)\" cx=\"1286.5\" cy=\"261.265\" r=\"9\" fill=\"#140a36\" fill-rule=\"evenodd\" fill-opacity=\"1\" stroke=\"#000000\" stroke-opacity=\"1\" stroke-width=\"3.2\"/>\n",
       "<circle clip-path=\"url(#clip832)\" cx=\"1801.32\" cy=\"465.93\" r=\"7\" fill=\"#0a0723\" fill-rule=\"evenodd\" fill-opacity=\"1\" stroke=\"#000000\" stroke-opacity=\"1\" stroke-width=\"3.2\"/>\n",
       "<circle clip-path=\"url(#clip832)\" cx=\"256.524\" cy=\"992.211\" r=\"56\" fill=\"#f5d745\" fill-rule=\"evenodd\" fill-opacity=\"1\" stroke=\"#000000\" stroke-opacity=\"1\" stroke-width=\"3.2\"/>\n",
       "<circle clip-path=\"url(#clip832)\" cx=\"1286.5\" cy=\"816.784\" r=\"9\" fill=\"#140a36\" fill-rule=\"evenodd\" fill-opacity=\"1\" stroke=\"#000000\" stroke-opacity=\"1\" stroke-width=\"3.2\"/>\n",
       "<circle clip-path=\"url(#clip832)\" cx=\"1801.32\" cy=\"85.838\" r=\"8\" fill=\"#0c0827\" fill-rule=\"evenodd\" fill-opacity=\"1\" stroke=\"#000000\" stroke-opacity=\"1\" stroke-width=\"3.2\"/>\n",
       "<circle clip-path=\"url(#clip832)\" cx=\"769.294\" cy=\"992.211\" r=\"14\" fill=\"#34095f\" fill-rule=\"evenodd\" fill-opacity=\"1\" stroke=\"#000000\" stroke-opacity=\"1\" stroke-width=\"3.2\"/>\n",
       "<circle clip-path=\"url(#clip832)\" cx=\"1543.73\" cy=\"261.265\" r=\"7\" fill=\"#0b0726\" fill-rule=\"evenodd\" fill-opacity=\"1\" stroke=\"#000000\" stroke-opacity=\"1\" stroke-width=\"3.2\"/>\n",
       "<circle clip-path=\"url(#clip832)\" cx=\"1028.03\" cy=\"816.784\" r=\"11\" fill=\"#1d0c45\" fill-rule=\"evenodd\" fill-opacity=\"1\" stroke=\"#000000\" stroke-opacity=\"1\" stroke-width=\"3.2\"/>\n",
       "<circle clip-path=\"url(#clip832)\" cx=\"1543.73\" cy=\"816.784\" r=\"8\" fill=\"#0c0827\" fill-rule=\"evenodd\" fill-opacity=\"1\" stroke=\"#000000\" stroke-opacity=\"1\" stroke-width=\"3.2\"/>\n",
       "<circle clip-path=\"url(#clip832)\" cx=\"2058.69\" cy=\"816.784\" r=\"7\" fill=\"#0a0724\" fill-rule=\"evenodd\" fill-opacity=\"1\" stroke=\"#000000\" stroke-opacity=\"1\" stroke-width=\"3.2\"/>\n",
       "<circle clip-path=\"url(#clip832)\" cx=\"1286.5\" cy=\"465.93\" r=\"9\" fill=\"#150b37\" fill-rule=\"evenodd\" fill-opacity=\"1\" stroke=\"#000000\" stroke-opacity=\"1\" stroke-width=\"3.2\"/>\n",
       "<circle clip-path=\"url(#clip832)\" cx=\"519.855\" cy=\"465.93\" r=\"21\" fill=\"#61136e\" fill-rule=\"evenodd\" fill-opacity=\"1\" stroke=\"#000000\" stroke-opacity=\"1\" stroke-width=\"3.2\"/>\n",
       "<defs>\n",
       "  <clipPath id=\"clip833\">\n",
       "    <rect x=\"2160\" y=\"47\" width=\"73\" height=\"1365\"/>\n",
       "  </clipPath>\n",
       "</defs>\n",
       "<g clip-path=\"url(#clip833)\">\n",
       "<image width=\"72\" height=\"1364\" xlink:href=\"data:image/png;base64,\n",
       "iVBORw0KGgoAAAANSUhEUgAAAEgAAAVUCAYAAABzwV4AAAAL0klEQVR4nO3dwY3sRhAFQY5Q/lsh\n",
       "L6XfLQtUeSQPERYsEg+zZJM7+/v3/H0f/tdfb/8AXydQECgIFAQKc+6/b/8Mn2ZBQaAgUBAozL1/\n",
       "3v4ZPs2CgkBBoCBQcCUdLCgIFAQKAgWBwly/xVYWFAQKAgWBwtzjQ3pjQUGgIFAQKLiSDhYUBAoC\n",
       "BYGCQMFvsWBBQaAgUBAoOA8KFhQECgIFgcI8rqRXFhQECgIFgYJAwXlQsKAgUBAoCBTmcR60sqAg\n",
       "UBAoCBTmOf+8/TN8mgUFgYJAQaAgUPBUI1hQECgIFAQKzoOCBQWBgkBBoOBDOlhQECgIFAQKAgXn\n",
       "QcGCgkBBoCBQmJ9bjZUFBYGCQEGgMM/xpf8bCwoCBYGCQEGg4FYjWFAQKAgUBApuNYIFBYGCQEGg\n",
       "4P2gYEFBoCBQECgIFObnVmNlQUGgIFAQKHiJM1hQECgIFAQKrqSDBQWBgkBBoCBQ8Og5WFAQKAgU\n",
       "BApuNYIFBYGCQEGg4Eo6WFAQKAgUBAoCBbcawYKCQEGgIFCY55y3f4ZPs6AgUBAoCBRcSQcLCgIF\n",
       "gYJAQaDgqUawoCBQECgIFHxIBwsKAgWBgkBhfg7tVxYUBAoCBYGCQMGtRrCgIFAQKAgUvB8ULCgI\n",
       "FAQKAgXnQcGCgkBBoCBQECg4DwoWFAQKAgWBgvOgYEFBoCBQECj4kA4WFAQKAgWBgkDBXz0HCwoC\n",
       "BYGCQMGtRrCgIFAQKAgUfEgHCwoCBYGCQEGg4LdYsKAgUBAoCBR8SAcLCgIFgYJAYZ7rQ3pjQUGg\n",
       "IFAQKAgU3GoECwoCBYGCQMGHdLCgIFAQKAgUfEgHCwoCBYGCQEGgMM+5b/8Mn2ZBQaAgUBAouNUI\n",
       "FhQECgIFgYIr6WBBQaAgUBAoCBTcagQLCgIFgYJAwa1GsKAgUBAoCBTmcSG9sqAgUBAoCBQECvNc\n",
       "txobCwoCBYGCQMGtRrCgIFAQKAgUfEgHCwoCBYGCQEGgML4Eb2dBQaAgUBAouNUIFhQECgIFgYIP\n",
       "6WBBQaAgUBAoCBTmOb+3f4ZPs6AgUBAoCBTmXh/SGwsKAgWBgkDBeVCwoCBQECgIFBx3BAsKAgWB\n",
       "gkBBoDD3aLRRJwgUBAoCBbcawYKCQEGgIFCYx5PVlQUFgYJAQaAgUJjrVmNlQUGgIFAQKMzj0H6l\n",
       "ThAoCBQECq6kgwUFgYJAQaAgUPBUI1hQECgIFAQKXuIM6gSBgkBBoOAlzmBBQaAgUBAoCBQ81QgW\n",
       "FAQKAgWBwtyr0UadIFAQKAgUnAcFCwoCBYGCQEGg4DwoWFAQKAgUBArzOA9aqRMECgIFgYIr6WBB\n",
       "QaAgUBAoCBT8FgsWFAQKAgWBgj/qDRYUBAoCBYGCP+oN6gSBgkBBoCBQ8P/mgwUFgYJAQaDg0D5Y\n",
       "UBAoCBQECr70P6gTBAoCBYGCQMF5ULCgIFAQKAgUnAcFCwoCBYGCQMGVdLCgIFAQKAgUBArecg3q\n",
       "BIGCQEGg4FYjWFAQKAgUBAoO7YMFBYGCQEGgIFBwqxEsKAgUBAoCBf+6JlhQECgIFAQK/glkUCcI\n",
       "FAQKAgWBgvOgYEFBoCBQECh49BwsKAgUBAoCBVfSwYKCQEGgIFAQKMzxW2xlQUGgIFAQKPij3qBO\n",
       "ECgIFAQKzoOCBQWBgkBBoCBQ8FssWFAQKAgUBAreDwoWFAQKAgWBgivpYEFBoCBQECgIFPwWCxYU\n",
       "BAoCBYGCr6YI6gSBgkBBoDDHof3KgoJAQaAgUBAoOA8KFhQECgIFgYIP6WBBQaAgUBAo+JAOFhQE\n",
       "CgIFgYJAwfcHBQsKAgWBgkDBrUawoCBQECgIFHxIBwsKAgWBgkBBoOBPEYI6QaAgUBAo+FOEYEFB\n",
       "oCBQECg4DwoWFAQKAgWBgkDBb7FgQUGgIFAQKHiJM1hQECgIFAQKrqSDBQWBgkBBoCBQmPv4Lbax\n",
       "oCBQECgIFJwHBQsKAgWBgkDBeVCwoCBQECgIFAQKbjWCBQWBgkBBoOBWI1hQECgIFAQKrqSDBQWB\n",
       "gkBBoCBQcKsRLCgIFAQKAgUf0sGCgkBBoCBQmONN+5UFBYGCQEGg4Eo6WFAQKAgUBAoCBY+egwUF\n",
       "gYJAQaAw9779I3ybBQWBgkBBoOBKOlhQECgIFAQKAgVf8hYsKAgUBAoCBbcawYKCQEGgIFDwflCw\n",
       "oCBQECgIFAQK/hQhWFAQKAgUBAreDwoWFAQKAgWBgkP7YEFBoCBQECgIFDzVCBYUBAoCBYGCQ/tg\n",
       "QUGgIFAQKDgPChYUBAoCBYGCQMGj52BBQaAgUBAoOA8KFhQECgIFgYInq8GCgkBBoCBQECjMefsn\n",
       "+DgLCgIFgYJAwa1GsKAgUBAoCBS8HxQsKAgUBAoCBYGC86BgQUGgIFAQKDgPChYUBAoCBYGCK+lg\n",
       "QUGgIFAQKAgU3GoECwoCBYGCQMGj52BBQaAgUBAojC9e2FlQECgIFAQKAgW3GsGCgkBBoCBQ8Og5\n",
       "WFAQKAgUBAqerAYLCgIFgYJAQaDgViNYUBAoCBQECm41ggUFgYJAQaAwxwtCKwsKAgWBgkBBoOA8\n",
       "KFhQECgIFAQKzoOCBQWBgkBBoOBKOlhQECgIFAQKAgX/bz5YUBAoCBQECv7ffLCgIFAQKAgUvB8U\n",
       "LCgIFAQKAgWBgm/BCxYUBAoCBYGCL3kLFhQECgIFgYInq8GCgkBBoCBQECh4yzVYUBAoCBQECv5e\n",
       "LFhQECgIFAQKrqSDBQWBgkBBoCBQ8JZrsKAgUBAoCBS8xBksKAgUBAoCBVfSwYKCQEGgIFAQKHjL\n",
       "NVhQECgIFAQKvj8oWFAQKAgUBArOg4IFBYGCQEGgIFDw6DlYUBAoCBQECm41ggUFgYJAQaDgSjpY\n",
       "UBAoCBQECgIFtxrBgoJAQaAgUPAhHSwoCBQECgIF50HBgoJAQaAgUBAouNUIFhQECgIFgYJbjWBB\n",
       "QaAgUBAouJIOFhQECgIFgYJAwfcHBQsKAgWBgkDBv64JFhQECgIFgYLzoGBBQaAgUBAoCBTmPn6N\n",
       "bSwoCBQECgIFtxrBgoJAQaAgUPBkNVhQECgIFAQKnqwGCwoCBYGCQEGg4DwoWFAQKAgUBAqerAYL\n",
       "CgIFgYJAwZV0sKAgUBAoCBQECr4/KFhQECgIFAQKc7wgtLKgIFAQKAgUvB8ULCgIFAQKAgWBwly3\n",
       "GisLCgIFgYJAwa1GsKAgUBAoCBQc2gcLCgIFgYJAQaDg/aBgQUGgIFAQKMzx92IrCwoCBYGCQMF5\n",
       "ULCgIFAQKAgUBAq+miJYUBAoCBQECt4PChYUBAoCBYGCQ/tgQUGgIFAQKAgUnAcFCwoCBYGCQGHO\n",
       "40RoY0FBoCBQECg4DwoWFAQKAgWBgkDBb7FgQUGgIFAQKDi0DxYUBAoCBYGCQ/tgQUGgIFAQKAgU\n",
       "5vzcamwsKAgUBAoCBbcawYKCQEGgIFCY60N6ZUFBoCBQECgIFNxqBAsKAgWBgkBhzs+H9MaCgkBB\n",
       "oCBQcCUdLCgIFAQKAgWBgqcawYKCQEGgIFBwqxEsKAgUBAoCBR/SwYKCQEGgIFAQKHj0HCwoCBQE\n",
       "CgKFuc+ft3+GT7OgIFAQKAgUnAcFCwoCBYGCQEGg4P2gYEFBoCBQECjMuc6DNhYUBAoCBYGCK+lg\n",
       "QUGgIFAQKAgU5nj0vLKgIFAQKAgU3GoECwoCBYGCQMGVdLCgIFAQKAgUBApzr1uNjQUFgYJAQaDg\n",
       "PChYUBAoCBQECl7iDBYUBAoCBYGCQMGtRrCgIFAQKAgU5rrVWFlQECgIFAQKrqSDBQWBgkBBoCBQ\n",
       "mOP9oJUFBYGCQEGg4PukgwUFgYJAQaDgTftgQUGgIFAQKAgUPNUIFhQECgIFgYJbjWBBQaAgUBAo\n",
       "+JAOFhQECgIFgYJAwaPnYEFBoCBQECi41QgWFAQKAgWBwjyerK4sKAgUBAoCBYGCW41gQUGgIFAQ\n",
       "KHiJM1hQECgIFAQK87iSXllQECgIFAQKAgXvBwULCgIFgYJAwaPnYEFBoCBQECg4DwoWFAQKAgWB\n",
       "gkBh7nPf/hk+zYKCQEGgIFBwHhQsKAgUBAoChXlcSa8sKAgUBAoChf8AJ8ztt7m0cDkAAAAASUVO\n",
       "RK5CYII=\n",
       "\" transform=\"translate(2161, 47)\"/>\n",
       "</g>\n",
       "<path clip-path=\"url(#clip830)\" d=\"M 0 0 M2280.7 1295.89 Q2277.09 1295.89 2275.26 1299.46 Q2273.45 1303 2273.45 1310.13 Q2273.45 1317.24 2275.26 1320.8 Q2277.09 1324.34 2280.7 1324.34 Q2284.33 1324.34 2286.14 1320.8 Q2287.97 1317.24 2287.97 1310.13 Q2287.97 1303 2286.14 1299.46 Q2284.33 1295.89 2280.7 1295.89 M2280.7 1292.19 Q2286.51 1292.19 2289.57 1296.8 Q2292.64 1301.38 2292.64 1310.13 Q2292.64 1318.86 2289.57 1323.46 Q2286.51 1328.05 2280.7 1328.05 Q2274.89 1328.05 2271.81 1323.46 Q2268.76 1318.86 2268.76 1310.13 Q2268.76 1301.38 2271.81 1296.8 Q2274.89 1292.19 2280.7 1292.19 Z\" fill=\"#000000\" fill-rule=\"evenodd\" fill-opacity=\"1\" /><path clip-path=\"url(#clip830)\" d=\"M 0 0 M2297.71 1321.5 L2302.6 1321.5 L2302.6 1327.38 L2297.71 1327.38 L2297.71 1321.5 Z\" fill=\"#000000\" fill-rule=\"evenodd\" fill-opacity=\"1\" /><path clip-path=\"url(#clip830)\" d=\"M 0 0 M2318.25 1308.23 Q2315.1 1308.23 2313.25 1310.38 Q2311.42 1312.54 2311.42 1316.29 Q2311.42 1320.01 2313.25 1322.19 Q2315.1 1324.34 2318.25 1324.34 Q2321.39 1324.34 2323.22 1322.19 Q2325.08 1320.01 2325.08 1316.29 Q2325.08 1312.54 2323.22 1310.38 Q2321.39 1308.23 2318.25 1308.23 M2327.53 1293.58 L2327.53 1297.84 Q2325.77 1297.01 2323.96 1296.57 Q2322.18 1296.13 2320.42 1296.13 Q2315.79 1296.13 2313.34 1299.25 Q2310.91 1302.38 2310.56 1308.69 Q2311.93 1306.68 2313.99 1305.62 Q2316.05 1304.53 2318.52 1304.53 Q2323.73 1304.53 2326.74 1307.7 Q2329.77 1310.85 2329.77 1316.29 Q2329.77 1321.61 2326.63 1324.83 Q2323.48 1328.05 2318.25 1328.05 Q2312.25 1328.05 2309.08 1323.46 Q2305.91 1318.86 2305.91 1310.13 Q2305.91 1301.94 2309.8 1297.07 Q2313.69 1292.19 2320.24 1292.19 Q2322 1292.19 2323.78 1292.54 Q2325.58 1292.88 2327.53 1293.58 Z\" fill=\"#000000\" fill-rule=\"evenodd\" fill-opacity=\"1\" /><path clip-path=\"url(#clip830)\" d=\"M 0 0 M2334.89 1292.82 L2353.25 1292.82 L2353.25 1296.75 L2339.17 1296.75 L2339.17 1305.22 Q2340.19 1304.88 2341.21 1304.71 Q2342.23 1304.53 2343.25 1304.53 Q2349.03 1304.53 2352.41 1307.7 Q2355.79 1310.87 2355.79 1316.29 Q2355.79 1321.87 2352.32 1324.97 Q2348.85 1328.05 2342.53 1328.05 Q2340.35 1328.05 2338.08 1327.68 Q2335.84 1327.31 2333.43 1326.57 L2333.43 1321.87 Q2335.51 1323 2337.74 1323.56 Q2339.96 1324.11 2342.44 1324.11 Q2346.44 1324.11 2348.78 1322.01 Q2351.12 1319.9 2351.12 1316.29 Q2351.12 1312.68 2348.78 1310.57 Q2346.44 1308.46 2342.44 1308.46 Q2340.56 1308.46 2338.69 1308.88 Q2336.83 1309.3 2334.89 1310.18 L2334.89 1292.82 Z\" fill=\"#000000\" fill-rule=\"evenodd\" fill-opacity=\"1\" /><path clip-path=\"url(#clip830)\" d=\"M 0 0 M2280.7 1115.18 Q2277.09 1115.18 2275.26 1118.75 Q2273.45 1122.29 2273.45 1129.42 Q2273.45 1136.53 2275.26 1140.09 Q2277.09 1143.63 2280.7 1143.63 Q2284.33 1143.63 2286.14 1140.09 Q2287.97 1136.53 2287.97 1129.42 Q2287.97 1122.29 2286.14 1118.75 Q2284.33 1115.18 2280.7 1115.18 M2280.7 1111.48 Q2286.51 1111.48 2289.57 1116.09 Q2292.64 1120.67 2292.64 1129.42 Q2292.64 1138.15 2289.57 1142.75 Q2286.51 1147.34 2280.7 1147.34 Q2274.89 1147.34 2271.81 1142.75 Q2268.76 1138.15 2268.76 1129.42 Q2268.76 1120.67 2271.81 1116.09 Q2274.89 1111.48 2280.7 1111.48 Z\" fill=\"#000000\" fill-rule=\"evenodd\" fill-opacity=\"1\" /><path clip-path=\"url(#clip830)\" d=\"M 0 0 M2297.71 1140.79 L2302.6 1140.79 L2302.6 1146.67 L2297.71 1146.67 L2297.71 1140.79 Z\" fill=\"#000000\" fill-rule=\"evenodd\" fill-opacity=\"1\" /><path clip-path=\"url(#clip830)\" d=\"M 0 0 M2306.49 1112.11 L2328.71 1112.11 L2328.71 1114.1 L2316.16 1146.67 L2311.28 1146.67 L2323.08 1116.04 L2306.49 1116.04 L2306.49 1112.11 Z\" fill=\"#000000\" fill-rule=\"evenodd\" fill-opacity=\"1\" /><path clip-path=\"url(#clip830)\" d=\"M 0 0 M2343.78 1115.18 Q2340.17 1115.18 2338.34 1118.75 Q2336.53 1122.29 2336.53 1129.42 Q2336.53 1136.53 2338.34 1140.09 Q2340.17 1143.63 2343.78 1143.63 Q2347.41 1143.63 2349.22 1140.09 Q2351.05 1136.53 2351.05 1129.42 Q2351.05 1122.29 2349.22 1118.75 Q2347.41 1115.18 2343.78 1115.18 M2343.78 1111.48 Q2349.59 1111.48 2352.64 1116.09 Q2355.72 1120.67 2355.72 1129.42 Q2355.72 1138.15 2352.64 1142.75 Q2349.59 1147.34 2343.78 1147.34 Q2337.97 1147.34 2334.89 1142.75 Q2331.83 1138.15 2331.83 1129.42 Q2331.83 1120.67 2334.89 1116.09 Q2337.97 1111.48 2343.78 1111.48 Z\" fill=\"#000000\" fill-rule=\"evenodd\" fill-opacity=\"1\" /><path clip-path=\"url(#clip830)\" d=\"M 0 0 M2280.7 934.475 Q2277.09 934.475 2275.26 938.04 Q2273.45 941.581 2273.45 948.711 Q2273.45 955.817 2275.26 959.382 Q2277.09 962.924 2280.7 962.924 Q2284.33 962.924 2286.14 959.382 Q2287.97 955.817 2287.97 948.711 Q2287.97 941.581 2286.14 938.04 Q2284.33 934.475 2280.7 934.475 M2280.7 930.771 Q2286.51 930.771 2289.57 935.378 Q2292.64 939.961 2292.64 948.711 Q2292.64 957.438 2289.57 962.044 Q2286.51 966.628 2280.7 966.628 Q2274.89 966.628 2271.81 962.044 Q2268.76 957.438 2268.76 948.711 Q2268.76 939.961 2271.81 935.378 Q2274.89 930.771 2280.7 930.771 Z\" fill=\"#000000\" fill-rule=\"evenodd\" fill-opacity=\"1\" /><path clip-path=\"url(#clip830)\" d=\"M 0 0 M2297.71 960.077 L2302.6 960.077 L2302.6 965.956 L2297.71 965.956 L2297.71 960.077 Z\" fill=\"#000000\" fill-rule=\"evenodd\" fill-opacity=\"1\" /><path clip-path=\"url(#clip830)\" d=\"M 0 0 M2306.49 931.396 L2328.71 931.396 L2328.71 933.387 L2316.16 965.956 L2311.28 965.956 L2323.08 935.331 L2306.49 935.331 L2306.49 931.396 Z\" fill=\"#000000\" fill-rule=\"evenodd\" fill-opacity=\"1\" /><path clip-path=\"url(#clip830)\" d=\"M 0 0 M2333.83 931.396 L2352.18 931.396 L2352.18 935.331 L2338.11 935.331 L2338.11 943.804 Q2339.13 943.456 2340.14 943.294 Q2341.16 943.109 2342.18 943.109 Q2347.97 943.109 2351.35 946.28 Q2354.73 949.452 2354.73 954.868 Q2354.73 960.447 2351.26 963.549 Q2347.78 966.628 2341.46 966.628 Q2339.29 966.628 2337.02 966.257 Q2334.77 965.887 2332.37 965.146 L2332.37 960.447 Q2334.45 961.581 2336.67 962.137 Q2338.89 962.692 2341.37 962.692 Q2345.38 962.692 2347.71 960.586 Q2350.05 958.479 2350.05 954.868 Q2350.05 951.257 2347.71 949.151 Q2345.38 947.044 2341.37 947.044 Q2339.5 947.044 2337.62 947.461 Q2335.77 947.878 2333.83 948.757 L2333.83 931.396 Z\" fill=\"#000000\" fill-rule=\"evenodd\" fill-opacity=\"1\" /><path clip-path=\"url(#clip830)\" d=\"M 0 0 M2280.7 753.765 Q2277.09 753.765 2275.26 757.33 Q2273.45 760.872 2273.45 768.001 Q2273.45 775.108 2275.26 778.673 Q2277.09 782.214 2280.7 782.214 Q2284.33 782.214 2286.14 778.673 Q2287.97 775.108 2287.97 768.001 Q2287.97 760.872 2286.14 757.33 Q2284.33 753.765 2280.7 753.765 M2280.7 750.062 Q2286.51 750.062 2289.57 754.668 Q2292.64 759.251 2292.64 768.001 Q2292.64 776.728 2289.57 781.335 Q2286.51 785.918 2280.7 785.918 Q2274.89 785.918 2271.81 781.335 Q2268.76 776.728 2268.76 768.001 Q2268.76 759.251 2271.81 754.668 Q2274.89 750.062 2280.7 750.062 Z\" fill=\"#000000\" fill-rule=\"evenodd\" fill-opacity=\"1\" /><path clip-path=\"url(#clip830)\" d=\"M 0 0 M2297.71 779.367 L2302.6 779.367 L2302.6 785.247 L2297.71 785.247 L2297.71 779.367 Z\" fill=\"#000000\" fill-rule=\"evenodd\" fill-opacity=\"1\" /><path clip-path=\"url(#clip830)\" d=\"M 0 0 M2317.67 768.835 Q2314.33 768.835 2312.41 770.617 Q2310.51 772.4 2310.51 775.525 Q2310.51 778.649 2312.41 780.432 Q2314.33 782.214 2317.67 782.214 Q2321 782.214 2322.92 780.432 Q2324.84 778.626 2324.84 775.525 Q2324.84 772.4 2322.92 770.617 Q2321.02 768.835 2317.67 768.835 M2312.99 766.844 Q2309.98 766.103 2308.29 764.043 Q2306.63 761.983 2306.63 759.02 Q2306.63 754.876 2309.57 752.469 Q2312.53 750.062 2317.67 750.062 Q2322.83 750.062 2325.77 752.469 Q2328.71 754.876 2328.71 759.02 Q2328.71 761.983 2327.02 764.043 Q2325.35 766.103 2322.37 766.844 Q2325.75 767.631 2327.62 769.923 Q2329.52 772.214 2329.52 775.525 Q2329.52 780.548 2326.44 783.233 Q2323.39 785.918 2317.67 785.918 Q2311.95 785.918 2308.87 783.233 Q2305.82 780.548 2305.82 775.525 Q2305.82 772.214 2307.71 769.923 Q2309.61 767.631 2312.99 766.844 M2311.28 759.46 Q2311.28 762.145 2312.95 763.65 Q2314.64 765.154 2317.67 765.154 Q2320.68 765.154 2322.37 763.65 Q2324.08 762.145 2324.08 759.46 Q2324.08 756.775 2322.37 755.27 Q2320.68 753.765 2317.67 753.765 Q2314.64 753.765 2312.95 755.27 Q2311.28 756.775 2311.28 759.46 Z\" fill=\"#000000\" fill-rule=\"evenodd\" fill-opacity=\"1\" /><path clip-path=\"url(#clip830)\" d=\"M 0 0 M2344.59 753.765 Q2340.98 753.765 2339.15 757.33 Q2337.34 760.872 2337.34 768.001 Q2337.34 775.108 2339.15 778.673 Q2340.98 782.214 2344.59 782.214 Q2348.22 782.214 2350.03 778.673 Q2351.86 775.108 2351.86 768.001 Q2351.86 760.872 2350.03 757.33 Q2348.22 753.765 2344.59 753.765 M2344.59 750.062 Q2350.4 750.062 2353.45 754.668 Q2356.53 759.251 2356.53 768.001 Q2356.53 776.728 2353.45 781.335 Q2350.4 785.918 2344.59 785.918 Q2338.78 785.918 2335.7 781.335 Q2332.64 776.728 2332.64 768.001 Q2332.64 759.251 2335.7 754.668 Q2338.78 750.062 2344.59 750.062 Z\" fill=\"#000000\" fill-rule=\"evenodd\" fill-opacity=\"1\" /><path clip-path=\"url(#clip830)\" d=\"M 0 0 M2280.7 573.056 Q2277.09 573.056 2275.26 576.621 Q2273.45 580.162 2273.45 587.292 Q2273.45 594.398 2275.26 597.963 Q2277.09 601.505 2280.7 601.505 Q2284.33 601.505 2286.14 597.963 Q2287.97 594.398 2287.97 587.292 Q2287.97 580.162 2286.14 576.621 Q2284.33 573.056 2280.7 573.056 M2280.7 569.352 Q2286.51 569.352 2289.57 573.959 Q2292.64 578.542 2292.64 587.292 Q2292.64 596.019 2289.57 600.625 Q2286.51 605.208 2280.7 605.208 Q2274.89 605.208 2271.81 600.625 Q2268.76 596.019 2268.76 587.292 Q2268.76 578.542 2271.81 573.959 Q2274.89 569.352 2280.7 569.352 Z\" fill=\"#000000\" fill-rule=\"evenodd\" fill-opacity=\"1\" /><path clip-path=\"url(#clip830)\" d=\"M 0 0 M2297.71 598.658 L2302.6 598.658 L2302.6 604.537 L2297.71 604.537 L2297.71 598.658 Z\" fill=\"#000000\" fill-rule=\"evenodd\" fill-opacity=\"1\" /><path clip-path=\"url(#clip830)\" d=\"M 0 0 M2317.67 588.125 Q2314.33 588.125 2312.41 589.908 Q2310.51 591.69 2310.51 594.815 Q2310.51 597.94 2312.41 599.722 Q2314.33 601.505 2317.67 601.505 Q2321 601.505 2322.92 599.722 Q2324.84 597.917 2324.84 594.815 Q2324.84 591.69 2322.92 589.908 Q2321.02 588.125 2317.67 588.125 M2312.99 586.134 Q2309.98 585.394 2308.29 583.334 Q2306.63 581.273 2306.63 578.31 Q2306.63 574.167 2309.57 571.76 Q2312.53 569.352 2317.67 569.352 Q2322.83 569.352 2325.77 571.76 Q2328.71 574.167 2328.71 578.31 Q2328.71 581.273 2327.02 583.334 Q2325.35 585.394 2322.37 586.134 Q2325.75 586.921 2327.62 589.213 Q2329.52 591.505 2329.52 594.815 Q2329.52 599.838 2326.44 602.523 Q2323.39 605.208 2317.67 605.208 Q2311.95 605.208 2308.87 602.523 Q2305.82 599.838 2305.82 594.815 Q2305.82 591.505 2307.71 589.213 Q2309.61 586.921 2312.99 586.134 M2311.28 578.75 Q2311.28 581.435 2312.95 582.94 Q2314.64 584.445 2317.67 584.445 Q2320.68 584.445 2322.37 582.94 Q2324.08 581.435 2324.08 578.75 Q2324.08 576.065 2322.37 574.56 Q2320.68 573.056 2317.67 573.056 Q2314.64 573.056 2312.95 574.56 Q2311.28 576.065 2311.28 578.75 Z\" fill=\"#000000\" fill-rule=\"evenodd\" fill-opacity=\"1\" /><path clip-path=\"url(#clip830)\" d=\"M 0 0 M2334.64 569.977 L2352.99 569.977 L2352.99 573.912 L2338.92 573.912 L2338.92 582.384 Q2339.94 582.037 2340.95 581.875 Q2341.97 581.69 2342.99 581.69 Q2348.78 581.69 2352.16 584.861 Q2355.54 588.033 2355.54 593.449 Q2355.54 599.028 2352.07 602.13 Q2348.59 605.208 2342.27 605.208 Q2340.1 605.208 2337.83 604.838 Q2335.58 604.468 2333.18 603.727 L2333.18 599.028 Q2335.26 600.162 2337.48 600.718 Q2339.7 601.273 2342.18 601.273 Q2346.19 601.273 2348.52 599.167 Q2350.86 597.06 2350.86 593.449 Q2350.86 589.838 2348.52 587.732 Q2346.19 585.625 2342.18 585.625 Q2340.31 585.625 2338.43 586.042 Q2336.58 586.459 2334.64 587.338 L2334.64 569.977 Z\" fill=\"#000000\" fill-rule=\"evenodd\" fill-opacity=\"1\" /><path clip-path=\"url(#clip830)\" d=\"M 0 0 M2280.7 392.346 Q2277.09 392.346 2275.26 395.911 Q2273.45 399.453 2273.45 406.582 Q2273.45 413.689 2275.26 417.254 Q2277.09 420.795 2280.7 420.795 Q2284.33 420.795 2286.14 417.254 Q2287.97 413.689 2287.97 406.582 Q2287.97 399.453 2286.14 395.911 Q2284.33 392.346 2280.7 392.346 M2280.7 388.643 Q2286.51 388.643 2289.57 393.249 Q2292.64 397.832 2292.64 406.582 Q2292.64 415.309 2289.57 419.916 Q2286.51 424.499 2280.7 424.499 Q2274.89 424.499 2271.81 419.916 Q2268.76 415.309 2268.76 406.582 Q2268.76 397.832 2271.81 393.249 Q2274.89 388.643 2280.7 388.643 Z\" fill=\"#000000\" fill-rule=\"evenodd\" fill-opacity=\"1\" /><path clip-path=\"url(#clip830)\" d=\"M 0 0 M2297.71 417.948 L2302.6 417.948 L2302.6 423.828 L2297.71 423.828 L2297.71 417.948 Z\" fill=\"#000000\" fill-rule=\"evenodd\" fill-opacity=\"1\" /><path clip-path=\"url(#clip830)\" d=\"M 0 0 M2307.81 423.11 L2307.81 418.851 Q2309.57 419.684 2311.37 420.124 Q2313.18 420.564 2314.91 420.564 Q2319.54 420.564 2321.97 417.462 Q2324.43 414.337 2324.77 407.994 Q2323.43 409.985 2321.37 411.05 Q2319.31 412.115 2316.81 412.115 Q2311.63 412.115 2308.59 408.99 Q2305.58 405.842 2305.58 400.402 Q2305.58 395.078 2308.73 391.86 Q2311.88 388.643 2317.11 388.643 Q2323.11 388.643 2326.26 393.249 Q2329.43 397.832 2329.43 406.582 Q2329.43 414.754 2325.54 419.638 Q2321.67 424.499 2315.12 424.499 Q2313.36 424.499 2311.56 424.152 Q2309.75 423.804 2307.81 423.11 M2317.11 408.457 Q2320.26 408.457 2322.09 406.304 Q2323.94 404.152 2323.94 400.402 Q2323.94 396.675 2322.09 394.522 Q2320.26 392.346 2317.11 392.346 Q2313.96 392.346 2312.11 394.522 Q2310.28 396.675 2310.28 400.402 Q2310.28 404.152 2312.11 406.304 Q2313.96 408.457 2317.11 408.457 Z\" fill=\"#000000\" fill-rule=\"evenodd\" fill-opacity=\"1\" /><path clip-path=\"url(#clip830)\" d=\"M 0 0 M2344.5 392.346 Q2340.89 392.346 2339.06 395.911 Q2337.25 399.453 2337.25 406.582 Q2337.25 413.689 2339.06 417.254 Q2340.89 420.795 2344.5 420.795 Q2348.13 420.795 2349.94 417.254 Q2351.76 413.689 2351.76 406.582 Q2351.76 399.453 2349.94 395.911 Q2348.13 392.346 2344.5 392.346 M2344.5 388.643 Q2350.31 388.643 2353.36 393.249 Q2356.44 397.832 2356.44 406.582 Q2356.44 415.309 2353.36 419.916 Q2350.31 424.499 2344.5 424.499 Q2338.69 424.499 2335.61 419.916 Q2332.55 415.309 2332.55 406.582 Q2332.55 397.832 2335.61 393.249 Q2338.69 388.643 2344.5 388.643 Z\" fill=\"#000000\" fill-rule=\"evenodd\" fill-opacity=\"1\" /><path clip-path=\"url(#clip830)\" d=\"M 0 0 M2280.7 211.637 Q2277.09 211.637 2275.26 215.201 Q2273.45 218.743 2273.45 225.873 Q2273.45 232.979 2275.26 236.544 Q2277.09 240.086 2280.7 240.086 Q2284.33 240.086 2286.14 236.544 Q2287.97 232.979 2287.97 225.873 Q2287.97 218.743 2286.14 215.201 Q2284.33 211.637 2280.7 211.637 M2280.7 207.933 Q2286.51 207.933 2289.57 212.539 Q2292.64 217.123 2292.64 225.873 Q2292.64 234.6 2289.57 239.206 Q2286.51 243.789 2280.7 243.789 Q2274.89 243.789 2271.81 239.206 Q2268.76 234.6 2268.76 225.873 Q2268.76 217.123 2271.81 212.539 Q2274.89 207.933 2280.7 207.933 Z\" fill=\"#000000\" fill-rule=\"evenodd\" fill-opacity=\"1\" /><path clip-path=\"url(#clip830)\" d=\"M 0 0 M2297.71 237.238 L2302.6 237.238 L2302.6 243.118 L2297.71 243.118 L2297.71 237.238 Z\" fill=\"#000000\" fill-rule=\"evenodd\" fill-opacity=\"1\" /><path clip-path=\"url(#clip830)\" d=\"M 0 0 M2307.81 242.4 L2307.81 238.141 Q2309.57 238.974 2311.37 239.414 Q2313.18 239.854 2314.91 239.854 Q2319.54 239.854 2321.97 236.752 Q2324.43 233.627 2324.77 227.285 Q2323.43 229.275 2321.37 230.34 Q2319.31 231.405 2316.81 231.405 Q2311.63 231.405 2308.59 228.28 Q2305.58 225.132 2305.58 219.692 Q2305.58 214.368 2308.73 211.151 Q2311.88 207.933 2317.11 207.933 Q2323.11 207.933 2326.26 212.539 Q2329.43 217.123 2329.43 225.873 Q2329.43 234.044 2325.54 238.928 Q2321.67 243.789 2315.12 243.789 Q2313.36 243.789 2311.56 243.442 Q2309.75 243.095 2307.81 242.4 M2317.11 227.748 Q2320.26 227.748 2322.09 225.595 Q2323.94 223.442 2323.94 219.692 Q2323.94 215.965 2322.09 213.813 Q2320.26 211.637 2317.11 211.637 Q2313.96 211.637 2312.11 213.813 Q2310.28 215.965 2310.28 219.692 Q2310.28 223.442 2312.11 225.595 Q2313.96 227.748 2317.11 227.748 Z\" fill=\"#000000\" fill-rule=\"evenodd\" fill-opacity=\"1\" /><path clip-path=\"url(#clip830)\" d=\"M 0 0 M2334.54 208.558 L2352.9 208.558 L2352.9 212.493 L2338.82 212.493 L2338.82 220.965 Q2339.84 220.618 2340.86 220.456 Q2341.88 220.271 2342.9 220.271 Q2348.69 220.271 2352.07 223.442 Q2355.45 226.613 2355.45 232.03 Q2355.45 237.609 2351.97 240.711 Q2348.5 243.789 2342.18 243.789 Q2340.01 243.789 2337.74 243.419 Q2335.49 243.049 2333.08 242.308 L2333.08 237.609 Q2335.17 238.743 2337.39 239.299 Q2339.61 239.854 2342.09 239.854 Q2346.09 239.854 2348.43 237.748 Q2350.77 235.641 2350.77 232.03 Q2350.77 228.419 2348.43 226.313 Q2346.09 224.206 2342.09 224.206 Q2340.21 224.206 2338.34 224.623 Q2336.49 225.039 2334.54 225.919 L2334.54 208.558 Z\" fill=\"#000000\" fill-rule=\"evenodd\" fill-opacity=\"1\" /><path clip-path=\"url(#clip830)\" d=\"M 0 0 M2269.43 58.4733 L2277.07 58.4733 L2277.07 32.1077 L2268.76 33.7743 L2268.76 29.5151 L2277.02 27.8484 L2281.7 27.8484 L2281.7 58.4733 L2289.33 58.4733 L2289.33 62.4084 L2269.43 62.4084 L2269.43 58.4733 Z\" fill=\"#000000\" fill-rule=\"evenodd\" fill-opacity=\"1\" /><path clip-path=\"url(#clip830)\" d=\"M 0 0 M2294.4 56.5288 L2299.29 56.5288 L2299.29 62.4084 L2294.4 62.4084 L2294.4 56.5288 Z\" fill=\"#000000\" fill-rule=\"evenodd\" fill-opacity=\"1\" /><path clip-path=\"url(#clip830)\" d=\"M 0 0 M2314.36 30.9271 Q2310.75 30.9271 2308.92 34.4919 Q2307.11 38.0336 2307.11 45.1631 Q2307.11 52.2696 2308.92 55.8344 Q2310.75 59.376 2314.36 59.376 Q2317.99 59.376 2319.8 55.8344 Q2321.63 52.2696 2321.63 45.1631 Q2321.63 38.0336 2319.8 34.4919 Q2317.99 30.9271 2314.36 30.9271 M2314.36 27.2234 Q2320.17 27.2234 2323.22 31.8299 Q2326.3 36.4132 2326.3 45.1631 Q2326.3 53.8899 2323.22 58.4964 Q2320.17 63.0797 2314.36 63.0797 Q2308.55 63.0797 2305.47 58.4964 Q2302.41 53.8899 2302.41 45.1631 Q2302.41 36.4132 2305.47 31.8299 Q2308.55 27.2234 2314.36 27.2234 Z\" fill=\"#000000\" fill-rule=\"evenodd\" fill-opacity=\"1\" /><path clip-path=\"url(#clip830)\" d=\"M 0 0 M2341.37 30.9271 Q2337.76 30.9271 2335.93 34.4919 Q2334.13 38.0336 2334.13 45.1631 Q2334.13 52.2696 2335.93 55.8344 Q2337.76 59.376 2341.37 59.376 Q2345.01 59.376 2346.81 55.8344 Q2348.64 52.2696 2348.64 45.1631 Q2348.64 38.0336 2346.81 34.4919 Q2345.01 30.9271 2341.37 30.9271 M2341.37 27.2234 Q2347.18 27.2234 2350.24 31.8299 Q2353.32 36.4132 2353.32 45.1631 Q2353.32 53.8899 2350.24 58.4964 Q2347.18 63.0797 2341.37 63.0797 Q2335.56 63.0797 2332.48 58.4964 Q2329.43 53.8899 2329.43 45.1631 Q2329.43 36.4132 2332.48 31.8299 Q2335.56 27.2234 2341.37 27.2234 Z\" fill=\"#000000\" fill-rule=\"evenodd\" fill-opacity=\"1\" /><polyline clip-path=\"url(#clip830)\" style=\"stroke:#000000; stroke-width:4; stroke-opacity:1; fill:none\" points=\"\n",
       "  2232.76,1410.9 2232.76,1313.72 2256.76,1313.72 2232.76,1313.72 2232.76,1133.01 2256.76,1133.01 2232.76,1133.01 2232.76,952.305 2256.76,952.305 2232.76,952.305 \n",
       "  2232.76,771.595 2256.76,771.595 2232.76,771.595 2232.76,590.886 2256.76,590.886 2232.76,590.886 2232.76,410.176 2256.76,410.176 2232.76,410.176 2232.76,229.467 \n",
       "  2256.76,229.467 2232.76,229.467 2232.76,48.7572 2256.76,48.7572 2232.76,48.7572 2232.76,47.2441 \n",
       "  \"/>\n",
       "</svg>\n"
      ]
     },
     "execution_count": 66,
     "metadata": {},
     "output_type": "execute_result"
    }
   ],
   "source": [
    "plot(self_tuning_nn)"
   ]
  },
  {
   "cell_type": "code",
   "execution_count": 67,
   "metadata": {},
   "outputs": [
    {
     "data": {
      "text/plain": [
       "(best_model = \u001b[34mNeuralNetworkClassifier{CustomNN,…} @407\u001b[39m,\n",
       " best_fitted_params = (chain = Chain(Chain(Dense(4, 49, σ), Dense(49, 5, σ), Dense(5, 3, σ)), softmax),),)"
      ]
     },
     "execution_count": 67,
     "metadata": {},
     "output_type": "execute_result"
    }
   ],
   "source": [
    "best = fitted_params(self_tuning_nn)\n",
    "best"
   ]
  },
  {
   "cell_type": "code",
   "execution_count": 68,
   "metadata": {},
   "outputs": [
    {
     "data": {
      "text/plain": [
       "NeuralNetworkClassifier(\n",
       "    builder = CustomNN(\n",
       "            n1 = 49,\n",
       "            n2 = 5),\n",
       "    finaliser = NNlib.softmax,\n",
       "    optimiser = ADAM(0.001, (0.9, 0.999), IdDict{Any,Any}()),\n",
       "    loss = Flux.crossentropy,\n",
       "    epochs = 4000,\n",
       "    batch_size = 16,\n",
       "    lambda = 0.01,\n",
       "    alpha = 0.0,\n",
       "    optimiser_changes_trigger_retraining = false)\u001b[34m @407\u001b[39m"
      ]
     },
     "execution_count": 68,
     "metadata": {},
     "output_type": "execute_result"
    }
   ],
   "source": [
    "best.best_model"
   ]
  },
  {
   "cell_type": "code",
   "execution_count": 69,
   "metadata": {
    "scrolled": true
   },
   "outputs": [
    {
     "data": {
      "text/plain": [
       "0.62311363f0"
      ]
     },
     "execution_count": 69,
     "metadata": {},
     "output_type": "execute_result"
    }
   ],
   "source": [
    "best_loss = z.report.best_result.measurement[1]"
   ]
  },
  {
   "cell_type": "code",
   "execution_count": 70,
   "metadata": {
    "scrolled": true
   },
   "outputs": [
    {
     "data": {
      "text/plain": [
       "5"
      ]
     },
     "execution_count": 70,
     "metadata": {},
     "output_type": "execute_result"
    }
   ],
   "source": [
    "best_n2 = best.best_model.builder.n2"
   ]
  },
  {
   "cell_type": "code",
   "execution_count": 71,
   "metadata": {},
   "outputs": [],
   "source": [
    "fn = \"Figures/Grid_NN_$(param1):$(best.best_model.epochs)_x_$(param2):$(best_n2)_bestloss:$(best_loss)\"\n",
    "png(replace(fn,'.' => ','))"
   ]
  },
  {
   "cell_type": "markdown",
   "metadata": {},
   "source": [
    "### GridSearch for Learning Rate"
   ]
  },
  {
   "cell_type": "code",
   "execution_count": 72,
   "metadata": {
    "scrolled": true
   },
   "outputs": [
    {
     "data": {
      "text/plain": [
       "NeuralNetworkClassifier(\n",
       "    builder = CustomNN(\n",
       "            n1 = 49,\n",
       "            n2 = 5),\n",
       "    finaliser = NNlib.softmax,\n",
       "    optimiser = ADAM(0.001, (0.9, 0.999), IdDict{Any,Any}()),\n",
       "    loss = Flux.crossentropy,\n",
       "    epochs = 10,\n",
       "    batch_size = 1,\n",
       "    lambda = 0.0,\n",
       "    alpha = 0.0,\n",
       "    optimiser_changes_trigger_retraining = false)\u001b[34m @737\u001b[39m"
      ]
     },
     "execution_count": 72,
     "metadata": {},
     "output_type": "execute_result"
    }
   ],
   "source": [
    "nn = NeuralNetworkClassifier(builder=CustomNN(best_n1,best_n2))"
   ]
  },
  {
   "cell_type": "code",
   "execution_count": 73,
   "metadata": {},
   "outputs": [
    {
     "data": {
      "text/plain": [
       "0.01"
      ]
     },
     "execution_count": 73,
     "metadata": {},
     "output_type": "execute_result"
    }
   ],
   "source": [
    "nn.optimiser.eta = 0.001\n",
    "nn.epochs = 60\n",
    "nn.batch_size = batch_sz\n",
    "nn.lambda = 0.01"
   ]
  },
  {
   "cell_type": "code",
   "execution_count": 74,
   "metadata": {},
   "outputs": [
    {
     "data": {
      "text/plain": [
       "\u001b[34mMachine{NeuralNetworkClassifier{CustomNN,…}} @384\u001b[39m trained 0 times.\n",
       "  args: \n",
       "    1:\t\u001b[34mSource @872\u001b[39m ⏎ `Table{AbstractArray{Continuous,1}}`\n",
       "    2:\t\u001b[34mSource @121\u001b[39m ⏎ `AbstractArray{Multiclass{3},1}`\n"
      ]
     },
     "execution_count": 74,
     "metadata": {},
     "output_type": "execute_result"
    }
   ],
   "source": [
    "Net = machine(nn, X_stand, y)"
   ]
  },
  {
   "cell_type": "code",
   "execution_count": 75,
   "metadata": {},
   "outputs": [
    {
     "name": "stderr",
     "output_type": "stream",
     "text": [
      "┌ Info: Training \u001b[34mMachine{NeuralNetworkClassifier{CustomNN,…}} @384\u001b[39m.\n",
      "└ @ MLJBase /home/andrew/.julia/packages/MLJBase/uKzAz/src/machines.jl:319\n",
      "\u001b[33mOptimising neural net:100%[=========================] Time: 0:00:00\u001b[39m\n"
     ]
    },
    {
     "data": {
      "text/plain": [
       "\u001b[34mMachine{NeuralNetworkClassifier{CustomNN,…}} @384\u001b[39m trained 1 time.\n",
       "  args: \n",
       "    1:\t\u001b[34mSource @872\u001b[39m ⏎ `Table{AbstractArray{Continuous,1}}`\n",
       "    2:\t\u001b[34mSource @121\u001b[39m ⏎ `AbstractArray{Multiclass{3},1}`\n"
      ]
     },
     "execution_count": 75,
     "metadata": {},
     "output_type": "execute_result"
    }
   ],
   "source": [
    "fit!(Net, rows=train, verbosity=1, force=true)"
   ]
  },
  {
   "cell_type": "code",
   "execution_count": 76,
   "metadata": {},
   "outputs": [
    {
     "data": {
      "text/plain": [
       "MLJBase.NumericRange(Float64, :(optimiser.eta), ... )"
      ]
     },
     "execution_count": 76,
     "metadata": {},
     "output_type": "execute_result"
    }
   ],
   "source": [
    "param1 = :epochs\n",
    "param2 = :(optimiser.eta)\n",
    "\n",
    "r1 = range(nn, param1, lower=10, upper=4000, scale=:linear)\n",
    "r2 = range(nn, param2, lower=0.0001, upper=0.1, scale=:log10)"
   ]
  },
  {
   "cell_type": "code",
   "execution_count": 77,
   "metadata": {
    "scrolled": true
   },
   "outputs": [
    {
     "data": {
      "text/plain": [
       "ProbabilisticTunedModel(\n",
       "    model = NeuralNetworkClassifier(\n",
       "            builder = \u001b[34mCustomNN @054\u001b[39m,\n",
       "            finaliser = NNlib.softmax,\n",
       "            optimiser = ADAM(0.001, (0.9, 0.999), IdDict{Any,Any}()),\n",
       "            loss = Flux.crossentropy,\n",
       "            epochs = 60,\n",
       "            batch_size = 16,\n",
       "            lambda = 0.01,\n",
       "            alpha = 0.0,\n",
       "            optimiser_changes_trigger_retraining = false),\n",
       "    tuning = Grid(\n",
       "            goal = 50,\n",
       "            resolution = 10,\n",
       "            shuffle = true,\n",
       "            rng = Random._GLOBAL_RNG()),\n",
       "    resampling = Holdout(\n",
       "            fraction_train = 0.7,\n",
       "            shuffle = false,\n",
       "            rng = Random._GLOBAL_RNG()),\n",
       "    measure = cross_entropy(\n",
       "            eps = 2.220446049250313e-16),\n",
       "    weights = nothing,\n",
       "    operation = MLJModelInterface.predict,\n",
       "    range = MLJBase.NumericRange{T,MLJBase.Bounded,Symbol} where T[\u001b[34mNumericRange{Int64,…} @308\u001b[39m, \u001b[34mNumericRange{Float64,…} @857\u001b[39m],\n",
       "    train_best = true,\n",
       "    repeats = 1,\n",
       "    n = nothing,\n",
       "    acceleration = CPUThreads{Int64}(1),\n",
       "    acceleration_resampling = CPU1{Nothing}(nothing),\n",
       "    check_measure = true)\u001b[34m @345\u001b[39m"
      ]
     },
     "execution_count": 77,
     "metadata": {},
     "output_type": "execute_result"
    }
   ],
   "source": [
    "self_tuning_nn_model = TunedModel(model=nn,\n",
    "                                    tuning=Grid(goal=50),\n",
    "                                    resampling=Holdout(fraction_train=0.7), \n",
    "                                    measure=cross_entropy,\n",
    "                                    acceleration=CPUThreads(),\n",
    "                                    range=[r1, r2])"
   ]
  },
  {
   "cell_type": "code",
   "execution_count": 78,
   "metadata": {},
   "outputs": [
    {
     "data": {
      "text/plain": [
       "\u001b[34mMachine{ProbabilisticTunedModel{Grid,…}} @482\u001b[39m trained 0 times.\n",
       "  args: \n",
       "    1:\t\u001b[34mSource @868\u001b[39m ⏎ `Table{AbstractArray{Continuous,1}}`\n",
       "    2:\t\u001b[34mSource @771\u001b[39m ⏎ `AbstractArray{Multiclass{3},1}`\n"
      ]
     },
     "execution_count": 78,
     "metadata": {},
     "output_type": "execute_result"
    }
   ],
   "source": [
    "self_tuning_nn = machine(self_tuning_nn_model, X_stand, y)"
   ]
  },
  {
   "cell_type": "code",
   "execution_count": 79,
   "metadata": {},
   "outputs": [
    {
     "name": "stderr",
     "output_type": "stream",
     "text": [
      "┌ Info: Training \u001b[34mMachine{ProbabilisticTunedModel{Grid,…}} @482\u001b[39m.\n",
      "└ @ MLJBase /home/andrew/.julia/packages/MLJBase/uKzAz/src/machines.jl:319\n",
      "┌ Info: Attempting to evaluate 49 models.\n",
      "└ @ MLJTuning /home/andrew/.julia/packages/MLJTuning/Bbgvk/src/tuned_models.jl:494\n",
      "\u001b[33mEvaluating over 49 metamodels: 100%[=========================] Time: 0:03:07\u001b[39m\n"
     ]
    },
    {
     "data": {
      "text/plain": [
       "\u001b[34mMachine{ProbabilisticTunedModel{Grid,…}} @482\u001b[39m trained 1 time.\n",
       "  args: \n",
       "    1:\t\u001b[34mSource @868\u001b[39m ⏎ `Table{AbstractArray{Continuous,1}}`\n",
       "    2:\t\u001b[34mSource @771\u001b[39m ⏎ `AbstractArray{Multiclass{3},1}`\n"
      ]
     },
     "execution_count": 79,
     "metadata": {},
     "output_type": "execute_result"
    }
   ],
   "source": [
    "z = fit!(self_tuning_nn, rows=train)"
   ]
  },
  {
   "cell_type": "code",
   "execution_count": 80,
   "metadata": {
    "scrolled": false
   },
   "outputs": [
    {
     "data": {
      "image/svg+xml": [
       "<?xml version=\"1.0\" encoding=\"utf-8\"?>\n",
       "<svg xmlns=\"http://www.w3.org/2000/svg\" xmlns:xlink=\"http://www.w3.org/1999/xlink\" width=\"600\" height=\"400\" viewBox=\"0 0 2400 1600\">\n",
       "<defs>\n",
       "  <clipPath id=\"clip880\">\n",
       "    <rect x=\"0\" y=\"0\" width=\"2400\" height=\"1600\"/>\n",
       "  </clipPath>\n",
       "</defs>\n",
       "<path clip-path=\"url(#clip880)\" d=\"\n",
       "M0 1600 L2400 1600 L2400 0 L0 0  Z\n",
       "  \" fill=\"#ffffff\" fill-rule=\"evenodd\" fill-opacity=\"1\"/>\n",
       "<defs>\n",
       "  <clipPath id=\"clip881\">\n",
       "    <rect x=\"480\" y=\"0\" width=\"1681\" height=\"1600\"/>\n",
       "  </clipPath>\n",
       "</defs>\n",
       "<path clip-path=\"url(#clip880)\" d=\"\n",
       "M244.308 1423.18 L2112.76 1423.18 L2112.76 47.2441 L244.308 47.2441  Z\n",
       "  \" fill=\"#ffffff\" fill-rule=\"evenodd\" fill-opacity=\"1\"/>\n",
       "<defs>\n",
       "  <clipPath id=\"clip882\">\n",
       "    <rect x=\"244\" y=\"47\" width=\"1869\" height=\"1377\"/>\n",
       "  </clipPath>\n",
       "</defs>\n",
       "<polyline clip-path=\"url(#clip882)\" style=\"stroke:#000000; stroke-width:2; stroke-opacity:0.1; fill:none\" points=\"\n",
       "  292.771,1423.18 292.771,47.2441 \n",
       "  \"/>\n",
       "<polyline clip-path=\"url(#clip882)\" style=\"stroke:#000000; stroke-width:2; stroke-opacity:0.1; fill:none\" points=\"\n",
       "  734.547,1423.18 734.547,47.2441 \n",
       "  \"/>\n",
       "<polyline clip-path=\"url(#clip882)\" style=\"stroke:#000000; stroke-width:2; stroke-opacity:0.1; fill:none\" points=\"\n",
       "  1176.32,1423.18 1176.32,47.2441 \n",
       "  \"/>\n",
       "<polyline clip-path=\"url(#clip882)\" style=\"stroke:#000000; stroke-width:2; stroke-opacity:0.1; fill:none\" points=\"\n",
       "  1618.1,1423.18 1618.1,47.2441 \n",
       "  \"/>\n",
       "<polyline clip-path=\"url(#clip882)\" style=\"stroke:#000000; stroke-width:2; stroke-opacity:0.1; fill:none\" points=\"\n",
       "  2059.88,1423.18 2059.88,47.2441 \n",
       "  \"/>\n",
       "<polyline clip-path=\"url(#clip882)\" style=\"stroke:#000000; stroke-width:2; stroke-opacity:0.1; fill:none\" points=\"\n",
       "  244.308,1384.24 2112.76,1384.24 \n",
       "  \"/>\n",
       "<polyline clip-path=\"url(#clip882)\" style=\"stroke:#000000; stroke-width:2; stroke-opacity:0.1; fill:none\" points=\"\n",
       "  244.308,951.554 2112.76,951.554 \n",
       "  \"/>\n",
       "<polyline clip-path=\"url(#clip882)\" style=\"stroke:#000000; stroke-width:2; stroke-opacity:0.1; fill:none\" points=\"\n",
       "  244.308,518.87 2112.76,518.87 \n",
       "  \"/>\n",
       "<polyline clip-path=\"url(#clip882)\" style=\"stroke:#000000; stroke-width:2; stroke-opacity:0.1; fill:none\" points=\"\n",
       "  244.308,86.1857 2112.76,86.1857 \n",
       "  \"/>\n",
       "<polyline clip-path=\"url(#clip880)\" style=\"stroke:#000000; stroke-width:4; stroke-opacity:1; fill:none\" points=\"\n",
       "  244.308,1423.18 2112.76,1423.18 \n",
       "  \"/>\n",
       "<polyline clip-path=\"url(#clip880)\" style=\"stroke:#000000; stroke-width:4; stroke-opacity:1; fill:none\" points=\"\n",
       "  244.308,1423.18 244.308,47.2441 \n",
       "  \"/>\n",
       "<polyline clip-path=\"url(#clip880)\" style=\"stroke:#000000; stroke-width:4; stroke-opacity:1; fill:none\" points=\"\n",
       "  292.771,1423.18 292.771,1406.67 \n",
       "  \"/>\n",
       "<polyline clip-path=\"url(#clip880)\" style=\"stroke:#000000; stroke-width:4; stroke-opacity:1; fill:none\" points=\"\n",
       "  734.547,1423.18 734.547,1406.67 \n",
       "  \"/>\n",
       "<polyline clip-path=\"url(#clip880)\" style=\"stroke:#000000; stroke-width:4; stroke-opacity:1; fill:none\" points=\"\n",
       "  1176.32,1423.18 1176.32,1406.67 \n",
       "  \"/>\n",
       "<polyline clip-path=\"url(#clip880)\" style=\"stroke:#000000; stroke-width:4; stroke-opacity:1; fill:none\" points=\"\n",
       "  1618.1,1423.18 1618.1,1406.67 \n",
       "  \"/>\n",
       "<polyline clip-path=\"url(#clip880)\" style=\"stroke:#000000; stroke-width:4; stroke-opacity:1; fill:none\" points=\"\n",
       "  2059.88,1423.18 2059.88,1406.67 \n",
       "  \"/>\n",
       "<polyline clip-path=\"url(#clip880)\" style=\"stroke:#000000; stroke-width:4; stroke-opacity:1; fill:none\" points=\"\n",
       "  244.308,1384.24 266.729,1384.24 \n",
       "  \"/>\n",
       "<polyline clip-path=\"url(#clip880)\" style=\"stroke:#000000; stroke-width:4; stroke-opacity:1; fill:none\" points=\"\n",
       "  244.308,951.554 266.729,951.554 \n",
       "  \"/>\n",
       "<polyline clip-path=\"url(#clip880)\" style=\"stroke:#000000; stroke-width:4; stroke-opacity:1; fill:none\" points=\"\n",
       "  244.308,518.87 266.729,518.87 \n",
       "  \"/>\n",
       "<polyline clip-path=\"url(#clip880)\" style=\"stroke:#000000; stroke-width:4; stroke-opacity:1; fill:none\" points=\"\n",
       "  244.308,86.1857 266.729,86.1857 \n",
       "  \"/>\n",
       "<path clip-path=\"url(#clip880)\" d=\"M 0 0 M292.771 1445.17 Q289.159 1445.17 287.331 1448.74 Q285.525 1452.28 285.525 1459.41 Q285.525 1466.51 287.331 1470.08 Q289.159 1473.62 292.771 1473.62 Q296.405 1473.62 298.21 1470.08 Q300.039 1466.51 300.039 1459.41 Q300.039 1452.28 298.21 1448.74 Q296.405 1445.17 292.771 1445.17 M292.771 1441.47 Q298.581 1441.47 301.636 1446.07 Q304.715 1450.66 304.715 1459.41 Q304.715 1468.13 301.636 1472.74 Q298.581 1477.32 292.771 1477.32 Q286.96 1477.32 283.882 1472.74 Q280.826 1468.13 280.826 1459.41 Q280.826 1450.66 283.882 1446.07 Q286.96 1441.47 292.771 1441.47 Z\" fill=\"#000000\" fill-rule=\"evenodd\" fill-opacity=\"1\" /><path clip-path=\"url(#clip880)\" d=\"M 0 0 M684.408 1472.72 L692.047 1472.72 L692.047 1446.35 L683.737 1448.02 L683.737 1443.76 L692.001 1442.09 L696.677 1442.09 L696.677 1472.72 L704.315 1472.72 L704.315 1476.65 L684.408 1476.65 L684.408 1472.72 Z\" fill=\"#000000\" fill-rule=\"evenodd\" fill-opacity=\"1\" /><path clip-path=\"url(#clip880)\" d=\"M 0 0 M719.385 1445.17 Q715.774 1445.17 713.945 1448.74 Q712.139 1452.28 712.139 1459.41 Q712.139 1466.51 713.945 1470.08 Q715.774 1473.62 719.385 1473.62 Q723.019 1473.62 724.825 1470.08 Q726.653 1466.51 726.653 1459.41 Q726.653 1452.28 724.825 1448.74 Q723.019 1445.17 719.385 1445.17 M719.385 1441.47 Q725.195 1441.47 728.25 1446.07 Q731.329 1450.66 731.329 1459.41 Q731.329 1468.13 728.25 1472.74 Q725.195 1477.32 719.385 1477.32 Q713.575 1477.32 710.496 1472.74 Q707.44 1468.13 707.44 1459.41 Q707.44 1450.66 710.496 1446.07 Q713.575 1441.47 719.385 1441.47 Z\" fill=\"#000000\" fill-rule=\"evenodd\" fill-opacity=\"1\" /><path clip-path=\"url(#clip880)\" d=\"M 0 0 M746.399 1445.17 Q742.787 1445.17 740.959 1448.74 Q739.153 1452.28 739.153 1459.41 Q739.153 1466.51 740.959 1470.08 Q742.787 1473.62 746.399 1473.62 Q750.033 1473.62 751.838 1470.08 Q753.667 1466.51 753.667 1459.41 Q753.667 1452.28 751.838 1448.74 Q750.033 1445.17 746.399 1445.17 M746.399 1441.47 Q752.209 1441.47 755.264 1446.07 Q758.343 1450.66 758.343 1459.41 Q758.343 1468.13 755.264 1472.74 Q752.209 1477.32 746.399 1477.32 Q740.588 1477.32 737.51 1472.74 Q734.454 1468.13 734.454 1459.41 Q734.454 1450.66 737.51 1446.07 Q740.588 1441.47 746.399 1441.47 Z\" fill=\"#000000\" fill-rule=\"evenodd\" fill-opacity=\"1\" /><path clip-path=\"url(#clip880)\" d=\"M 0 0 M773.412 1445.17 Q769.801 1445.17 767.972 1448.74 Q766.167 1452.28 766.167 1459.41 Q766.167 1466.51 767.972 1470.08 Q769.801 1473.62 773.412 1473.62 Q777.046 1473.62 778.852 1470.08 Q780.681 1466.51 780.681 1459.41 Q780.681 1452.28 778.852 1448.74 Q777.046 1445.17 773.412 1445.17 M773.412 1441.47 Q779.222 1441.47 782.278 1446.07 Q785.357 1450.66 785.357 1459.41 Q785.357 1468.13 782.278 1472.74 Q779.222 1477.32 773.412 1477.32 Q767.602 1477.32 764.523 1472.74 Q761.468 1468.13 761.468 1459.41 Q761.468 1450.66 764.523 1446.07 Q767.602 1441.47 773.412 1441.47 Z\" fill=\"#000000\" fill-rule=\"evenodd\" fill-opacity=\"1\" /><path clip-path=\"url(#clip880)\" d=\"M 0 0 M1130.46 1472.72 L1146.77 1472.72 L1146.77 1476.65 L1124.83 1476.65 L1124.83 1472.72 Q1127.49 1469.96 1132.08 1465.33 Q1136.68 1460.68 1137.86 1459.34 Q1140.11 1456.81 1140.99 1455.08 Q1141.89 1453.32 1141.89 1451.63 Q1141.89 1448.87 1139.95 1447.14 Q1138.02 1445.4 1134.92 1445.4 Q1132.72 1445.4 1130.27 1446.17 Q1127.84 1446.93 1125.06 1448.48 L1125.06 1443.76 Q1127.89 1442.62 1130.34 1442.05 Q1132.79 1441.47 1134.83 1441.47 Q1140.2 1441.47 1143.39 1444.15 Q1146.59 1446.84 1146.59 1451.33 Q1146.59 1453.46 1145.78 1455.38 Q1144.99 1457.28 1142.89 1459.87 Q1142.31 1460.54 1139.21 1463.76 Q1136.1 1466.95 1130.46 1472.72 Z\" fill=\"#000000\" fill-rule=\"evenodd\" fill-opacity=\"1\" /><path clip-path=\"url(#clip880)\" d=\"M 0 0 M1161.84 1445.17 Q1158.23 1445.17 1156.4 1448.74 Q1154.6 1452.28 1154.6 1459.41 Q1154.6 1466.51 1156.4 1470.08 Q1158.23 1473.62 1161.84 1473.62 Q1165.48 1473.62 1167.28 1470.08 Q1169.11 1466.51 1169.11 1459.41 Q1169.11 1452.28 1167.28 1448.74 Q1165.48 1445.17 1161.84 1445.17 M1161.84 1441.47 Q1167.65 1441.47 1170.71 1446.07 Q1173.79 1450.66 1173.79 1459.41 Q1173.79 1468.13 1170.71 1472.74 Q1167.65 1477.32 1161.84 1477.32 Q1156.03 1477.32 1152.95 1472.74 Q1149.9 1468.13 1149.9 1459.41 Q1149.9 1450.66 1152.95 1446.07 Q1156.03 1441.47 1161.84 1441.47 Z\" fill=\"#000000\" fill-rule=\"evenodd\" fill-opacity=\"1\" /><path clip-path=\"url(#clip880)\" d=\"M 0 0 M1188.86 1445.17 Q1185.25 1445.17 1183.42 1448.74 Q1181.61 1452.28 1181.61 1459.41 Q1181.61 1466.51 1183.42 1470.08 Q1185.25 1473.62 1188.86 1473.62 Q1192.49 1473.62 1194.3 1470.08 Q1196.13 1466.51 1196.13 1459.41 Q1196.13 1452.28 1194.3 1448.74 Q1192.49 1445.17 1188.86 1445.17 M1188.86 1441.47 Q1194.67 1441.47 1197.72 1446.07 Q1200.8 1450.66 1200.8 1459.41 Q1200.8 1468.13 1197.72 1472.74 Q1194.67 1477.32 1188.86 1477.32 Q1183.05 1477.32 1179.97 1472.74 Q1176.91 1468.13 1176.91 1459.41 Q1176.91 1450.66 1179.97 1446.07 Q1183.05 1441.47 1188.86 1441.47 Z\" fill=\"#000000\" fill-rule=\"evenodd\" fill-opacity=\"1\" /><path clip-path=\"url(#clip880)\" d=\"M 0 0 M1215.87 1445.17 Q1212.26 1445.17 1210.43 1448.74 Q1208.63 1452.28 1208.63 1459.41 Q1208.63 1466.51 1210.43 1470.08 Q1212.26 1473.62 1215.87 1473.62 Q1219.51 1473.62 1221.31 1470.08 Q1223.14 1466.51 1223.14 1459.41 Q1223.14 1452.28 1221.31 1448.74 Q1219.51 1445.17 1215.87 1445.17 M1215.87 1441.47 Q1221.68 1441.47 1224.74 1446.07 Q1227.82 1450.66 1227.82 1459.41 Q1227.82 1468.13 1224.74 1472.74 Q1221.68 1477.32 1215.87 1477.32 Q1210.06 1477.32 1206.98 1472.74 Q1203.93 1468.13 1203.93 1459.41 Q1203.93 1450.66 1206.98 1446.07 Q1210.06 1441.47 1215.87 1441.47 Z\" fill=\"#000000\" fill-rule=\"evenodd\" fill-opacity=\"1\" /><path clip-path=\"url(#clip880)\" d=\"M 0 0 M1581.83 1458.02 Q1585.18 1458.74 1587.06 1461 Q1588.96 1463.27 1588.96 1466.61 Q1588.96 1471.72 1585.44 1474.52 Q1581.92 1477.32 1575.44 1477.32 Q1573.26 1477.32 1570.95 1476.88 Q1568.65 1476.47 1566.2 1475.61 L1566.2 1471.1 Q1568.15 1472.23 1570.46 1472.81 Q1572.78 1473.39 1575.3 1473.39 Q1579.7 1473.39 1581.99 1471.65 Q1584.3 1469.92 1584.3 1466.61 Q1584.3 1463.55 1582.15 1461.84 Q1580.02 1460.1 1576.2 1460.1 L1572.17 1460.1 L1572.17 1456.26 L1576.39 1456.26 Q1579.84 1456.26 1581.66 1454.89 Q1583.49 1453.5 1583.49 1450.91 Q1583.49 1448.25 1581.59 1446.84 Q1579.72 1445.4 1576.2 1445.4 Q1574.28 1445.4 1572.08 1445.82 Q1569.88 1446.24 1567.24 1447.11 L1567.24 1442.95 Q1569.9 1442.21 1572.22 1441.84 Q1574.56 1441.47 1576.62 1441.47 Q1581.94 1441.47 1585.04 1443.9 Q1588.15 1446.3 1588.15 1450.43 Q1588.15 1453.3 1586.5 1455.29 Q1584.86 1457.25 1581.83 1458.02 Z\" fill=\"#000000\" fill-rule=\"evenodd\" fill-opacity=\"1\" /><path clip-path=\"url(#clip880)\" d=\"M 0 0 M1604.03 1445.17 Q1600.41 1445.17 1598.59 1448.74 Q1596.78 1452.28 1596.78 1459.41 Q1596.78 1466.51 1598.59 1470.08 Q1600.41 1473.62 1604.03 1473.62 Q1607.66 1473.62 1609.46 1470.08 Q1611.29 1466.51 1611.29 1459.41 Q1611.29 1452.28 1609.46 1448.74 Q1607.66 1445.17 1604.03 1445.17 M1604.03 1441.47 Q1609.84 1441.47 1612.89 1446.07 Q1615.97 1450.66 1615.97 1459.41 Q1615.97 1468.13 1612.89 1472.74 Q1609.84 1477.32 1604.03 1477.32 Q1598.21 1477.32 1595.14 1472.74 Q1592.08 1468.13 1592.08 1459.41 Q1592.08 1450.66 1595.14 1446.07 Q1598.21 1441.47 1604.03 1441.47 Z\" fill=\"#000000\" fill-rule=\"evenodd\" fill-opacity=\"1\" /><path clip-path=\"url(#clip880)\" d=\"M 0 0 M1631.04 1445.17 Q1627.43 1445.17 1625.6 1448.74 Q1623.79 1452.28 1623.79 1459.41 Q1623.79 1466.51 1625.6 1470.08 Q1627.43 1473.62 1631.04 1473.62 Q1634.67 1473.62 1636.48 1470.08 Q1638.31 1466.51 1638.31 1459.41 Q1638.31 1452.28 1636.48 1448.74 Q1634.67 1445.17 1631.04 1445.17 M1631.04 1441.47 Q1636.85 1441.47 1639.9 1446.07 Q1642.98 1450.66 1642.98 1459.41 Q1642.98 1468.13 1639.9 1472.74 Q1636.85 1477.32 1631.04 1477.32 Q1625.23 1477.32 1622.15 1472.74 Q1619.09 1468.13 1619.09 1459.41 Q1619.09 1450.66 1622.15 1446.07 Q1625.23 1441.47 1631.04 1441.47 Z\" fill=\"#000000\" fill-rule=\"evenodd\" fill-opacity=\"1\" /><path clip-path=\"url(#clip880)\" d=\"M 0 0 M1658.05 1445.17 Q1654.44 1445.17 1652.61 1448.74 Q1650.81 1452.28 1650.81 1459.41 Q1650.81 1466.51 1652.61 1470.08 Q1654.44 1473.62 1658.05 1473.62 Q1661.69 1473.62 1663.49 1470.08 Q1665.32 1466.51 1665.32 1459.41 Q1665.32 1452.28 1663.49 1448.74 Q1661.69 1445.17 1658.05 1445.17 M1658.05 1441.47 Q1663.86 1441.47 1666.92 1446.07 Q1670 1450.66 1670 1459.41 Q1670 1468.13 1666.92 1472.74 Q1663.86 1477.32 1658.05 1477.32 Q1652.24 1477.32 1649.16 1472.74 Q1646.11 1468.13 1646.11 1459.41 Q1646.11 1450.66 1649.16 1446.07 Q1652.24 1441.47 1658.05 1441.47 Z\" fill=\"#000000\" fill-rule=\"evenodd\" fill-opacity=\"1\" /><path clip-path=\"url(#clip880)\" d=\"M 0 0 M2022.36 1446.17 L2010.56 1464.61 L2022.36 1464.61 L2022.36 1446.17 M2021.14 1442.09 L2027.02 1442.09 L2027.02 1464.61 L2031.95 1464.61 L2031.95 1468.5 L2027.02 1468.5 L2027.02 1476.65 L2022.36 1476.65 L2022.36 1468.5 L2006.76 1468.5 L2006.76 1463.99 L2021.14 1442.09 Z\" fill=\"#000000\" fill-rule=\"evenodd\" fill-opacity=\"1\" /><path clip-path=\"url(#clip880)\" d=\"M 0 0 M2047.02 1445.17 Q2043.41 1445.17 2041.58 1448.74 Q2039.77 1452.28 2039.77 1459.41 Q2039.77 1466.51 2041.58 1470.08 Q2043.41 1473.62 2047.02 1473.62 Q2050.65 1473.62 2052.46 1470.08 Q2054.29 1466.51 2054.29 1459.41 Q2054.29 1452.28 2052.46 1448.74 Q2050.65 1445.17 2047.02 1445.17 M2047.02 1441.47 Q2052.83 1441.47 2055.88 1446.07 Q2058.96 1450.66 2058.96 1459.41 Q2058.96 1468.13 2055.88 1472.74 Q2052.83 1477.32 2047.02 1477.32 Q2041.21 1477.32 2038.13 1472.74 Q2035.07 1468.13 2035.07 1459.41 Q2035.07 1450.66 2038.13 1446.07 Q2041.21 1441.47 2047.02 1441.47 Z\" fill=\"#000000\" fill-rule=\"evenodd\" fill-opacity=\"1\" /><path clip-path=\"url(#clip880)\" d=\"M 0 0 M2074.03 1445.17 Q2070.42 1445.17 2068.59 1448.74 Q2066.78 1452.28 2066.78 1459.41 Q2066.78 1466.51 2068.59 1470.08 Q2070.42 1473.62 2074.03 1473.62 Q2077.66 1473.62 2079.47 1470.08 Q2081.3 1466.51 2081.3 1459.41 Q2081.3 1452.28 2079.47 1448.74 Q2077.66 1445.17 2074.03 1445.17 M2074.03 1441.47 Q2079.84 1441.47 2082.9 1446.07 Q2085.97 1450.66 2085.97 1459.41 Q2085.97 1468.13 2082.9 1472.74 Q2079.84 1477.32 2074.03 1477.32 Q2068.22 1477.32 2065.14 1472.74 Q2062.09 1468.13 2062.09 1459.41 Q2062.09 1450.66 2065.14 1446.07 Q2068.22 1441.47 2074.03 1441.47 Z\" fill=\"#000000\" fill-rule=\"evenodd\" fill-opacity=\"1\" /><path clip-path=\"url(#clip880)\" d=\"M 0 0 M2101.04 1445.17 Q2097.43 1445.17 2095.6 1448.74 Q2093.8 1452.28 2093.8 1459.41 Q2093.8 1466.51 2095.6 1470.08 Q2097.43 1473.62 2101.04 1473.62 Q2104.68 1473.62 2106.48 1470.08 Q2108.31 1466.51 2108.31 1459.41 Q2108.31 1452.28 2106.48 1448.74 Q2104.68 1445.17 2101.04 1445.17 M2101.04 1441.47 Q2106.85 1441.47 2109.91 1446.07 Q2112.99 1450.66 2112.99 1459.41 Q2112.99 1468.13 2109.91 1472.74 Q2106.85 1477.32 2101.04 1477.32 Q2095.23 1477.32 2092.16 1472.74 Q2089.1 1468.13 2089.1 1459.41 Q2089.1 1450.66 2092.16 1446.07 Q2095.23 1441.47 2101.04 1441.47 Z\" fill=\"#000000\" fill-rule=\"evenodd\" fill-opacity=\"1\" /><path clip-path=\"url(#clip880)\" d=\"M 0 0 M126.931 1404.03 L134.57 1404.03 L134.57 1377.67 L126.26 1379.33 L126.26 1375.07 L134.524 1373.41 L139.2 1373.41 L139.2 1404.03 L146.839 1404.03 L146.839 1407.97 L126.931 1407.97 L126.931 1404.03 Z\" fill=\"#000000\" fill-rule=\"evenodd\" fill-opacity=\"1\" /><path clip-path=\"url(#clip880)\" d=\"M 0 0 M161.908 1376.48 Q158.297 1376.48 156.468 1380.05 Q154.663 1383.59 154.663 1390.72 Q154.663 1397.83 156.468 1401.39 Q158.297 1404.93 161.908 1404.93 Q165.542 1404.93 167.348 1401.39 Q169.177 1397.83 169.177 1390.72 Q169.177 1383.59 167.348 1380.05 Q165.542 1376.48 161.908 1376.48 M161.908 1372.78 Q167.718 1372.78 170.774 1377.39 Q173.852 1381.97 173.852 1390.72 Q173.852 1399.45 170.774 1404.05 Q167.718 1408.64 161.908 1408.64 Q156.098 1408.64 153.019 1404.05 Q149.964 1399.45 149.964 1390.72 Q149.964 1381.97 153.019 1377.39 Q156.098 1372.78 161.908 1372.78 Z\" fill=\"#000000\" fill-rule=\"evenodd\" fill-opacity=\"1\" /><path clip-path=\"url(#clip880)\" d=\"M 0 0 M173.852 1366.88 L197.964 1366.88 L197.964 1370.08 L173.852 1370.08 L173.852 1366.88 Z\" fill=\"#000000\" fill-rule=\"evenodd\" fill-opacity=\"1\" /><path clip-path=\"url(#clip880)\" d=\"M 0 0 M212.521 1355.79 L202.929 1370.78 L212.521 1370.78 L212.521 1355.79 M211.524 1352.48 L216.302 1352.48 L216.302 1370.78 L220.308 1370.78 L220.308 1373.94 L216.302 1373.94 L216.302 1380.56 L212.521 1380.56 L212.521 1373.94 L199.845 1373.94 L199.845 1370.27 L211.524 1352.48 Z\" fill=\"#000000\" fill-rule=\"evenodd\" fill-opacity=\"1\" /><path clip-path=\"url(#clip880)\" d=\"M 0 0 M127.853 971.347 L135.492 971.347 L135.492 944.981 L127.182 946.648 L127.182 942.388 L135.446 940.722 L140.121 940.722 L140.121 971.347 L147.76 971.347 L147.76 975.282 L127.853 975.282 L127.853 971.347 Z\" fill=\"#000000\" fill-rule=\"evenodd\" fill-opacity=\"1\" /><path clip-path=\"url(#clip880)\" d=\"M 0 0 M162.83 943.8 Q159.219 943.8 157.39 947.365 Q155.584 950.907 155.584 958.036 Q155.584 965.143 157.39 968.708 Q159.219 972.249 162.83 972.249 Q166.464 972.249 168.269 968.708 Q170.098 965.143 170.098 958.036 Q170.098 950.907 168.269 947.365 Q166.464 943.8 162.83 943.8 M162.83 940.097 Q168.64 940.097 171.695 944.703 Q174.774 949.286 174.774 958.036 Q174.774 966.763 171.695 971.37 Q168.64 975.953 162.83 975.953 Q157.02 975.953 153.941 971.37 Q150.885 966.763 150.885 958.036 Q150.885 949.286 153.941 944.703 Q157.02 940.097 162.83 940.097 Z\" fill=\"#000000\" fill-rule=\"evenodd\" fill-opacity=\"1\" /><path clip-path=\"url(#clip880)\" d=\"M 0 0 M174.774 934.198 L198.886 934.198 L198.886 937.395 L174.774 937.395 L174.774 934.198 Z\" fill=\"#000000\" fill-rule=\"evenodd\" fill-opacity=\"1\" /><path clip-path=\"url(#clip880)\" d=\"M 0 0 M214.515 932.731 Q217.242 933.314 218.765 935.157 Q220.308 937 220.308 939.709 Q220.308 943.865 217.449 946.141 Q214.59 948.417 209.324 948.417 Q207.556 948.417 205.675 948.059 Q203.813 947.721 201.82 947.025 L201.82 943.357 Q203.4 944.279 205.28 944.749 Q207.161 945.219 209.211 945.219 Q212.785 945.219 214.647 943.809 Q216.527 942.398 216.527 939.709 Q216.527 937.226 214.778 935.834 Q213.048 934.424 209.945 934.424 L206.672 934.424 L206.672 931.302 L210.095 931.302 Q212.897 931.302 214.383 930.192 Q215.869 929.063 215.869 926.957 Q215.869 924.794 214.327 923.647 Q212.803 922.481 209.945 922.481 Q208.384 922.481 206.597 922.819 Q204.81 923.158 202.666 923.873 L202.666 920.487 Q204.829 919.885 206.71 919.584 Q208.609 919.283 210.283 919.283 Q214.609 919.283 217.129 921.258 Q219.649 923.214 219.649 926.562 Q219.649 928.894 218.314 930.512 Q216.979 932.11 214.515 932.731 Z\" fill=\"#000000\" fill-rule=\"evenodd\" fill-opacity=\"1\" /><path clip-path=\"url(#clip880)\" d=\"M 0 0 M128.624 538.662 L136.263 538.662 L136.263 512.297 L127.953 513.963 L127.953 509.704 L136.217 508.037 L140.893 508.037 L140.893 538.662 L148.531 538.662 L148.531 542.597 L128.624 542.597 L128.624 538.662 Z\" fill=\"#000000\" fill-rule=\"evenodd\" fill-opacity=\"1\" /><path clip-path=\"url(#clip880)\" d=\"M 0 0 M163.601 511.116 Q159.99 511.116 158.161 514.681 Q156.355 518.223 156.355 525.352 Q156.355 532.459 158.161 536.023 Q159.99 539.565 163.601 539.565 Q167.235 539.565 169.041 536.023 Q170.869 532.459 170.869 525.352 Q170.869 518.223 169.041 514.681 Q167.235 511.116 163.601 511.116 M163.601 507.412 Q169.411 507.412 172.467 512.019 Q175.545 516.602 175.545 525.352 Q175.545 534.079 172.467 538.685 Q169.411 543.269 163.601 543.269 Q157.791 543.269 154.712 538.685 Q151.656 534.079 151.656 525.352 Q151.656 516.602 154.712 512.019 Q157.791 507.412 163.601 507.412 Z\" fill=\"#000000\" fill-rule=\"evenodd\" fill-opacity=\"1\" /><path clip-path=\"url(#clip880)\" d=\"M 0 0 M175.545 501.514 L199.657 501.514 L199.657 504.711 L175.545 504.711 L175.545 501.514 Z\" fill=\"#000000\" fill-rule=\"evenodd\" fill-opacity=\"1\" /><path clip-path=\"url(#clip880)\" d=\"M 0 0 M207.048 511.99 L220.308 511.99 L220.308 515.187 L202.478 515.187 L202.478 511.99 Q204.641 509.752 208.365 505.99 Q212.107 502.21 213.067 501.119 Q214.891 499.069 215.606 497.658 Q216.339 496.229 216.339 494.856 Q216.339 492.618 214.759 491.207 Q213.198 489.797 210.678 489.797 Q208.891 489.797 206.898 490.417 Q204.923 491.038 202.666 492.298 L202.666 488.461 Q204.961 487.54 206.954 487.069 Q208.948 486.599 210.603 486.599 Q214.966 486.599 217.562 488.781 Q220.157 490.963 220.157 494.611 Q220.157 496.342 219.499 497.903 Q218.859 499.445 217.148 501.551 Q216.678 502.097 214.158 504.711 Q211.637 507.307 207.048 511.99 Z\" fill=\"#000000\" fill-rule=\"evenodd\" fill-opacity=\"1\" /><path clip-path=\"url(#clip880)\" d=\"M 0 0 M128.323 105.978 L135.962 105.978 L135.962 79.6125 L127.652 81.2792 L127.652 77.0199 L135.916 75.3533 L140.592 75.3533 L140.592 105.978 L148.231 105.978 L148.231 109.913 L128.323 109.913 L128.323 105.978 Z\" fill=\"#000000\" fill-rule=\"evenodd\" fill-opacity=\"1\" /><path clip-path=\"url(#clip880)\" d=\"M 0 0 M163.3 78.432 Q159.689 78.432 157.86 81.9968 Q156.055 85.5384 156.055 92.668 Q156.055 99.7744 157.86 103.339 Q159.689 106.881 163.3 106.881 Q166.934 106.881 168.74 103.339 Q170.568 99.7744 170.568 92.668 Q170.568 85.5384 168.74 81.9968 Q166.934 78.432 163.3 78.432 M163.3 74.7283 Q169.11 74.7283 172.166 79.3347 Q175.244 83.918 175.244 92.668 Q175.244 101.395 172.166 106.001 Q169.11 110.585 163.3 110.585 Q157.49 110.585 154.411 106.001 Q151.356 101.395 151.356 92.668 Q151.356 83.918 154.411 79.3347 Q157.49 74.7283 163.3 74.7283 Z\" fill=\"#000000\" fill-rule=\"evenodd\" fill-opacity=\"1\" /><path clip-path=\"url(#clip880)\" d=\"M 0 0 M175.244 68.8296 L199.356 68.8296 L199.356 72.0269 L175.244 72.0269 L175.244 68.8296 Z\" fill=\"#000000\" fill-rule=\"evenodd\" fill-opacity=\"1\" /><path clip-path=\"url(#clip880)\" d=\"M 0 0 M204.133 79.3056 L210.34 79.3056 L210.34 57.8835 L203.588 59.2377 L203.588 55.777 L210.302 54.4229 L214.101 54.4229 L214.101 79.3056 L220.308 79.3056 L220.308 82.5029 L204.133 82.5029 L204.133 79.3056 Z\" fill=\"#000000\" fill-rule=\"evenodd\" fill-opacity=\"1\" /><path clip-path=\"url(#clip880)\" d=\"M 0 0 M1108.81 1536.76 L1108.81 1539.62 L1081.88 1539.62 Q1082.27 1545.67 1085.51 1548.85 Q1088.79 1552 1094.62 1552 Q1097.99 1552 1101.14 1551.17 Q1104.32 1550.35 1107.44 1548.69 L1107.44 1554.23 Q1104.29 1555.57 1100.98 1556.27 Q1097.67 1556.97 1094.27 1556.97 Q1085.74 1556.97 1080.74 1552 Q1075.77 1547.04 1075.77 1538.57 Q1075.77 1529.82 1080.48 1524.69 Q1085.23 1519.54 1093.25 1519.54 Q1100.44 1519.54 1104.61 1524.18 Q1108.81 1528.8 1108.81 1536.76 M1102.95 1535.04 Q1102.89 1530.23 1100.25 1527.37 Q1097.64 1524.5 1093.31 1524.5 Q1088.41 1524.5 1085.45 1527.27 Q1082.52 1530.04 1082.08 1535.07 L1102.95 1535.04 Z\" fill=\"#000000\" fill-rule=\"evenodd\" fill-opacity=\"1\" /><path clip-path=\"url(#clip880)\" d=\"M 0 0 M1120.62 1550.7 L1120.62 1569.6 L1114.73 1569.6 L1114.73 1520.4 L1120.62 1520.4 L1120.62 1525.81 Q1122.47 1522.62 1125.27 1521.1 Q1128.1 1519.54 1132.01 1519.54 Q1138.51 1519.54 1142.55 1524.69 Q1146.62 1529.85 1146.62 1538.25 Q1146.62 1546.65 1142.55 1551.81 Q1138.51 1556.97 1132.01 1556.97 Q1128.1 1556.97 1125.27 1555.44 Q1122.47 1553.88 1120.62 1550.7 M1140.54 1538.25 Q1140.54 1531.79 1137.87 1528.13 Q1135.23 1524.44 1130.58 1524.44 Q1125.94 1524.44 1123.26 1528.13 Q1120.62 1531.79 1120.62 1538.25 Q1120.62 1544.71 1123.26 1548.4 Q1125.94 1552.07 1130.58 1552.07 Q1135.23 1552.07 1137.87 1548.4 Q1140.54 1544.71 1140.54 1538.25 Z\" fill=\"#000000\" fill-rule=\"evenodd\" fill-opacity=\"1\" /><path clip-path=\"url(#clip880)\" d=\"M 0 0 M1166.58 1524.5 Q1161.87 1524.5 1159.13 1528.19 Q1156.4 1531.85 1156.4 1538.25 Q1156.4 1544.65 1159.1 1548.34 Q1161.84 1552 1166.58 1552 Q1171.26 1552 1174 1548.31 Q1176.73 1544.62 1176.73 1538.25 Q1176.73 1531.92 1174 1528.23 Q1171.26 1524.5 1166.58 1524.5 M1166.58 1519.54 Q1174.22 1519.54 1178.58 1524.5 Q1182.94 1529.47 1182.94 1538.25 Q1182.94 1547 1178.58 1552 Q1174.22 1556.97 1166.58 1556.97 Q1158.91 1556.97 1154.55 1552 Q1150.22 1547 1150.22 1538.25 Q1150.22 1529.47 1154.55 1524.5 Q1158.91 1519.54 1166.58 1519.54 Z\" fill=\"#000000\" fill-rule=\"evenodd\" fill-opacity=\"1\" /><path clip-path=\"url(#clip880)\" d=\"M 0 0 M1214.74 1521.76 L1214.74 1527.24 Q1212.25 1525.87 1209.74 1525.2 Q1207.26 1524.5 1204.71 1524.5 Q1199.01 1524.5 1195.86 1528.13 Q1192.71 1531.73 1192.71 1538.25 Q1192.71 1544.78 1195.86 1548.4 Q1199.01 1552 1204.71 1552 Q1207.26 1552 1209.74 1551.33 Q1212.25 1550.63 1214.74 1549.26 L1214.74 1554.68 Q1212.29 1555.82 1209.64 1556.39 Q1207.03 1556.97 1204.07 1556.97 Q1196.02 1556.97 1191.28 1551.91 Q1186.54 1546.85 1186.54 1538.25 Q1186.54 1529.53 1191.31 1524.53 Q1196.12 1519.54 1204.46 1519.54 Q1207.16 1519.54 1209.74 1520.11 Q1212.32 1520.65 1214.74 1521.76 Z\" fill=\"#000000\" fill-rule=\"evenodd\" fill-opacity=\"1\" /><path clip-path=\"url(#clip880)\" d=\"M 0 0 M1250.51 1534.53 L1250.51 1556.04 L1244.66 1556.04 L1244.66 1534.72 Q1244.66 1529.66 1242.68 1527.14 Q1240.71 1524.63 1236.76 1524.63 Q1232.02 1524.63 1229.28 1527.65 Q1226.55 1530.68 1226.55 1535.9 L1226.55 1556.04 L1220.66 1556.04 L1220.66 1506.52 L1226.55 1506.52 L1226.55 1525.93 Q1228.65 1522.72 1231.48 1521.13 Q1234.34 1519.54 1238.07 1519.54 Q1244.21 1519.54 1247.36 1523.36 Q1250.51 1527.14 1250.51 1534.53 Z\" fill=\"#000000\" fill-rule=\"evenodd\" fill-opacity=\"1\" /><path clip-path=\"url(#clip880)\" d=\"M 0 0 M1279.38 1521.45 L1279.38 1526.98 Q1276.9 1525.71 1274.22 1525.07 Q1271.55 1524.44 1268.69 1524.44 Q1264.33 1524.44 1262.13 1525.77 Q1259.97 1527.11 1259.97 1529.79 Q1259.97 1531.82 1261.52 1533 Q1263.08 1534.15 1267.79 1535.2 L1269.8 1535.64 Q1276.04 1536.98 1278.65 1539.43 Q1281.29 1541.85 1281.29 1546.21 Q1281.29 1551.17 1277.34 1554.07 Q1273.43 1556.97 1266.55 1556.97 Q1263.69 1556.97 1260.57 1556.39 Q1257.48 1555.85 1254.04 1554.74 L1254.04 1548.69 Q1257.29 1550.38 1260.44 1551.24 Q1263.59 1552.07 1266.68 1552.07 Q1270.82 1552.07 1273.05 1550.66 Q1275.27 1549.23 1275.27 1546.65 Q1275.27 1544.27 1273.65 1542.99 Q1272.06 1541.72 1266.62 1540.54 L1264.58 1540.07 Q1259.14 1538.92 1256.72 1536.56 Q1254.3 1534.18 1254.3 1530.04 Q1254.3 1525.01 1257.86 1522.27 Q1261.43 1519.54 1267.99 1519.54 Q1271.23 1519.54 1274.1 1520.01 Q1276.96 1520.49 1279.38 1521.45 Z\" fill=\"#000000\" fill-rule=\"evenodd\" fill-opacity=\"1\" /><path clip-path=\"url(#clip880)\" d=\"M 0 0 M56.4621 905.383 Q56.4621 910.094 60.1542 912.831 Q63.8145 915.568 70.212 915.568 Q76.6095 915.568 80.3017 912.863 Q83.9619 910.126 83.9619 905.383 Q83.9619 900.704 80.2698 897.967 Q76.5777 895.23 70.212 895.23 Q63.8781 895.23 60.186 897.967 Q56.4621 900.704 56.4621 905.383 M51.4968 905.383 Q51.4968 897.744 56.4621 893.384 Q61.4273 889.023 70.212 889.023 Q78.9649 889.023 83.9619 893.384 Q88.9272 897.744 88.9272 905.383 Q88.9272 913.054 83.9619 917.414 Q78.9649 921.743 70.212 921.743 Q61.4273 921.743 56.4621 917.414 Q51.4968 913.054 51.4968 905.383 Z\" fill=\"#000000\" fill-rule=\"evenodd\" fill-opacity=\"1\" /><path clip-path=\"url(#clip880)\" d=\"M 0 0 M82.657 877.215 L101.563 877.215 L101.563 883.103 L52.3562 883.103 L52.3562 877.215 L57.7671 877.215 Q54.5842 875.369 53.0564 872.568 Q51.4968 869.735 51.4968 865.82 Q51.4968 859.327 56.6531 855.285 Q61.8093 851.211 70.212 851.211 Q78.6147 851.211 83.771 855.285 Q88.9272 859.327 88.9272 865.82 Q88.9272 869.735 87.3994 872.568 Q85.8398 875.369 82.657 877.215 M70.212 857.29 Q63.7508 857.29 60.0905 859.964 Q56.3984 862.606 56.3984 867.253 Q56.3984 871.9 60.0905 874.573 Q63.7508 877.215 70.212 877.215 Q76.6732 877.215 80.3653 874.573 Q84.0256 871.9 84.0256 867.253 Q84.0256 862.606 80.3653 859.964 Q76.6732 857.29 70.212 857.29 Z\" fill=\"#000000\" fill-rule=\"evenodd\" fill-opacity=\"1\" /><path clip-path=\"url(#clip880)\" d=\"M 0 0 M42.2347 839.275 L52.3562 839.275 L52.3562 827.212 L56.9077 827.212 L56.9077 839.275 L76.2594 839.275 Q80.6199 839.275 81.8613 838.098 Q83.1026 836.888 83.1026 833.228 L83.1026 827.212 L88.0042 827.212 L88.0042 833.228 Q88.0042 840.007 85.4897 842.586 Q82.9434 845.164 76.2594 845.164 L56.9077 845.164 L56.9077 849.46 L52.3562 849.46 L52.3562 845.164 L42.2347 845.164 L42.2347 839.275 Z\" fill=\"#000000\" fill-rule=\"evenodd\" fill-opacity=\"1\" /><path clip-path=\"url(#clip880)\" d=\"M 0 0 M52.3562 821.069 L52.3562 815.213 L88.0042 815.213 L88.0042 821.069 L52.3562 821.069 M38.479 821.069 L38.479 815.213 L45.895 815.213 L45.895 821.069 L38.479 821.069 Z\" fill=\"#000000\" fill-rule=\"evenodd\" fill-opacity=\"1\" /><path clip-path=\"url(#clip880)\" d=\"M 0 0 M59.1993 781.316 Q55.2526 779.119 53.3747 776.064 Q51.4968 773.008 51.4968 768.871 Q51.4968 763.301 55.4117 760.277 Q59.2948 757.253 66.4881 757.253 L88.0042 757.253 L88.0042 763.142 L66.679 763.142 Q61.5546 763.142 59.072 764.956 Q56.5894 766.77 56.5894 770.494 Q56.5894 775.045 59.6131 777.687 Q62.6368 780.329 67.8567 780.329 L88.0042 780.329 L88.0042 786.217 L66.679 786.217 Q61.5228 786.217 59.072 788.031 Q56.5894 789.846 56.5894 793.633 Q56.5894 798.121 59.6449 800.763 Q62.6686 803.405 67.8567 803.405 L88.0042 803.405 L88.0042 809.293 L52.3562 809.293 L52.3562 803.405 L57.8944 803.405 Q54.616 801.399 53.0564 798.598 Q51.4968 795.798 51.4968 791.946 Q51.4968 788.063 53.4702 785.358 Q55.4436 782.621 59.1993 781.316 Z\" fill=\"#000000\" fill-rule=\"evenodd\" fill-opacity=\"1\" /><path clip-path=\"url(#clip880)\" d=\"M 0 0 M52.3562 751.11 L52.3562 745.254 L88.0042 745.254 L88.0042 751.11 L52.3562 751.11 M38.479 751.11 L38.479 745.254 L45.895 745.254 L45.895 751.11 L38.479 751.11 Z\" fill=\"#000000\" fill-rule=\"evenodd\" fill-opacity=\"1\" /><path clip-path=\"url(#clip880)\" d=\"M 0 0 M53.4065 716.385 L58.9447 716.385 Q57.6716 718.868 57.035 721.542 Q56.3984 724.215 56.3984 727.08 Q56.3984 731.44 57.7352 733.636 Q59.072 735.801 61.7456 735.801 Q63.7826 735.801 64.9603 734.241 Q66.1061 732.682 67.1565 727.971 L67.6021 725.966 Q68.9389 719.727 71.3897 717.117 Q73.8086 714.476 78.1691 714.476 Q83.1344 714.476 86.0308 718.422 Q88.9272 722.337 88.9272 729.212 Q88.9272 732.077 88.3543 735.196 Q87.8132 738.283 86.6992 741.721 L80.6518 741.721 Q82.3387 738.474 83.198 735.323 Q84.0256 732.172 84.0256 729.085 Q84.0256 724.947 82.6251 722.719 Q81.1929 720.491 78.6147 720.491 Q76.2276 720.491 74.9545 722.115 Q73.6813 723.706 72.5037 729.149 L72.0262 731.186 Q70.8804 736.628 68.5251 739.047 Q66.138 741.466 62.0002 741.466 Q56.9713 741.466 54.2341 737.901 Q51.4968 734.337 51.4968 727.78 Q51.4968 724.533 51.9743 721.669 Q52.4517 718.804 53.4065 716.385 Z\" fill=\"#000000\" fill-rule=\"evenodd\" fill-opacity=\"1\" /><path clip-path=\"url(#clip880)\" d=\"M 0 0 M68.7161 677.841 L71.5806 677.841 L71.5806 704.768 Q77.6281 704.386 80.8109 701.14 Q83.9619 697.861 83.9619 692.037 Q83.9619 688.663 83.1344 685.512 Q82.3069 682.329 80.6518 679.21 L86.1899 679.21 Q87.5267 682.361 88.227 685.671 Q88.9272 688.981 88.9272 692.387 Q88.9272 700.917 83.9619 705.914 Q78.9967 710.879 70.5303 710.879 Q61.7774 710.879 56.6531 706.168 Q51.4968 701.426 51.4968 693.405 Q51.4968 686.212 56.1438 682.042 Q60.7589 677.841 68.7161 677.841 M66.9973 683.697 Q62.1912 683.761 59.3266 686.403 Q56.4621 689.013 56.4621 693.342 Q56.4621 698.243 59.2312 701.203 Q62.0002 704.131 67.0292 704.577 L66.9973 683.697 Z\" fill=\"#000000\" fill-rule=\"evenodd\" fill-opacity=\"1\" /><path clip-path=\"url(#clip880)\" d=\"M 0 0 M57.8307 651.041 Q57.2578 652.028 57.0032 653.206 Q56.7167 654.352 56.7167 655.752 Q56.7167 660.717 59.9632 663.391 Q63.1779 666.033 69.2253 666.033 L88.0042 666.033 L88.0042 671.921 L52.3562 671.921 L52.3562 666.033 L57.8944 666.033 Q54.6479 664.187 53.0883 661.227 Q51.4968 658.266 51.4968 654.033 Q51.4968 653.429 51.5923 652.696 Q51.656 651.964 51.8151 651.073 L57.8307 651.041 Z\" fill=\"#000000\" fill-rule=\"evenodd\" fill-opacity=\"1\" /><path clip-path=\"url(#clip880)\" d=\"M 0 0 M79.9197 650.055 L79.9197 643.339 L88.0042 643.339 L88.0042 650.055 L79.9197 650.055 Z\" fill=\"#000000\" fill-rule=\"evenodd\" fill-opacity=\"1\" /><path clip-path=\"url(#clip880)\" d=\"M 0 0 M68.7161 606.704 L71.5806 606.704 L71.5806 633.631 Q77.6281 633.249 80.8109 630.003 Q83.9619 626.724 83.9619 620.9 Q83.9619 617.526 83.1344 614.375 Q82.3069 611.192 80.6518 608.073 L86.1899 608.073 Q87.5267 611.224 88.227 614.534 Q88.9272 617.844 88.9272 621.25 Q88.9272 629.78 83.9619 634.777 Q78.9967 639.742 70.5303 639.742 Q61.7774 639.742 56.6531 635.032 Q51.4968 630.289 51.4968 622.268 Q51.4968 615.075 56.1438 610.906 Q60.7589 606.704 68.7161 606.704 M66.9973 612.561 Q62.1912 612.624 59.3266 615.266 Q56.4621 617.876 56.4621 622.205 Q56.4621 627.106 59.2312 630.066 Q62.0002 632.995 67.0292 633.44 L66.9973 612.561 Z\" fill=\"#000000\" fill-rule=\"evenodd\" fill-opacity=\"1\" /><path clip-path=\"url(#clip880)\" d=\"M 0 0 M42.2347 594.769 L52.3562 594.769 L52.3562 582.706 L56.9077 582.706 L56.9077 594.769 L76.2594 594.769 Q80.6199 594.769 81.8613 593.591 Q83.1026 592.381 83.1026 588.721 L83.1026 582.706 L88.0042 582.706 L88.0042 588.721 Q88.0042 595.501 85.4897 598.079 Q82.9434 600.657 76.2594 600.657 L56.9077 600.657 L56.9077 604.954 L52.3562 604.954 L52.3562 600.657 L42.2347 600.657 L42.2347 594.769 Z\" fill=\"#000000\" fill-rule=\"evenodd\" fill-opacity=\"1\" /><path clip-path=\"url(#clip880)\" d=\"M 0 0 M70.0847 560.362 Q70.0847 567.46 71.7079 570.197 Q73.3312 572.934 77.2461 572.934 Q80.3653 572.934 82.2114 570.897 Q84.0256 568.828 84.0256 565.295 Q84.0256 560.426 80.5881 557.497 Q77.1188 554.537 71.3897 554.537 L70.0847 554.537 L70.0847 560.362 M67.6657 548.681 L88.0042 548.681 L88.0042 554.537 L82.5933 554.537 Q85.8398 556.542 87.3994 559.534 Q88.9272 562.526 88.9272 566.855 Q88.9272 572.329 85.8716 575.576 Q82.7843 578.791 77.6281 578.791 Q71.6125 578.791 68.5569 574.78 Q65.5014 570.738 65.5014 562.749 L65.5014 554.537 L64.9285 554.537 Q60.8862 554.537 58.6901 557.211 Q56.4621 559.853 56.4621 564.659 Q56.4621 567.714 57.1941 570.611 Q57.9262 573.507 59.3903 576.181 L53.9795 576.181 Q52.7381 572.966 52.1334 569.942 Q51.4968 566.919 51.4968 564.054 Q51.4968 556.32 55.5072 552.5 Q59.5176 548.681 67.6657 548.681 Z\" fill=\"#000000\" fill-rule=\"evenodd\" fill-opacity=\"1\" /><circle clip-path=\"url(#clip882)\" cx=\"297.188\" cy=\"951.554\" r=\"46\" fill=\"#f57d15\" fill-rule=\"evenodd\" fill-opacity=\"1\" stroke=\"#000000\" stroke-opacity=\"1\" stroke-width=\"3.2\"/>\n",
       "<circle clip-path=\"url(#clip882)\" cx=\"1766.09\" cy=\"1384.24\" r=\"11\" fill=\"#1b0c42\" fill-rule=\"evenodd\" fill-opacity=\"1\" stroke=\"#000000\" stroke-opacity=\"1\" stroke-width=\"3.2\"/>\n",
       "<circle clip-path=\"url(#clip882)\" cx=\"590.969\" cy=\"1384.24\" r=\"16\" fill=\"#430a68\" fill-rule=\"evenodd\" fill-opacity=\"1\" stroke=\"#000000\" stroke-opacity=\"1\" stroke-width=\"3.2\"/>\n",
       "<circle clip-path=\"url(#clip882)\" cx=\"1766.09\" cy=\"86.1857\" r=\"10\" fill=\"#150b38\" fill-rule=\"evenodd\" fill-opacity=\"1\" stroke=\"#000000\" stroke-opacity=\"1\" stroke-width=\"3.2\"/>\n",
       "<circle clip-path=\"url(#clip882)\" cx=\"1766.09\" cy=\"518.87\" r=\"10\" fill=\"#150b38\" fill-rule=\"evenodd\" fill-opacity=\"1\" stroke=\"#000000\" stroke-opacity=\"1\" stroke-width=\"3.2\"/>\n",
       "<circle clip-path=\"url(#clip882)\" cx=\"590.969\" cy=\"735.212\" r=\"9\" fill=\"#10092f\" fill-rule=\"evenodd\" fill-opacity=\"1\" stroke=\"#000000\" stroke-opacity=\"1\" stroke-width=\"3.2\"/>\n",
       "<circle clip-path=\"url(#clip882)\" cx=\"590.969\" cy=\"951.554\" r=\"9\" fill=\"#10092f\" fill-rule=\"evenodd\" fill-opacity=\"1\" stroke=\"#000000\" stroke-opacity=\"1\" stroke-width=\"3.2\"/>\n",
       "<circle clip-path=\"url(#clip882)\" cx=\"1178.53\" cy=\"518.87\" r=\"8\" fill=\"#0e082b\" fill-rule=\"evenodd\" fill-opacity=\"1\" stroke=\"#000000\" stroke-opacity=\"1\" stroke-width=\"3.2\"/>\n",
       "<circle clip-path=\"url(#clip882)\" cx=\"2059.88\" cy=\"735.212\" r=\"7\" fill=\"#07051d\" fill-rule=\"evenodd\" fill-opacity=\"1\" stroke=\"#000000\" stroke-opacity=\"1\" stroke-width=\"3.2\"/>\n",
       "<circle clip-path=\"url(#clip882)\" cx=\"1472.31\" cy=\"302.528\" r=\"6\" fill=\"#06041a\" fill-rule=\"evenodd\" fill-opacity=\"1\" stroke=\"#000000\" stroke-opacity=\"1\" stroke-width=\"3.2\"/>\n",
       "<circle clip-path=\"url(#clip882)\" cx=\"2059.88\" cy=\"86.1857\" r=\"6\" fill=\"#06051b\" fill-rule=\"evenodd\" fill-opacity=\"1\" stroke=\"#000000\" stroke-opacity=\"1\" stroke-width=\"3.2\"/>\n",
       "<circle clip-path=\"url(#clip882)\" cx=\"1178.53\" cy=\"1384.24\" r=\"11\" fill=\"#1e0c47\" fill-rule=\"evenodd\" fill-opacity=\"1\" stroke=\"#000000\" stroke-opacity=\"1\" stroke-width=\"3.2\"/>\n",
       "<circle clip-path=\"url(#clip882)\" cx=\"1472.31\" cy=\"1167.9\" r=\"10\" fill=\"#170b3a\" fill-rule=\"evenodd\" fill-opacity=\"1\" stroke=\"#000000\" stroke-opacity=\"1\" stroke-width=\"3.2\"/>\n",
       "<circle clip-path=\"url(#clip882)\" cx=\"884.751\" cy=\"951.554\" r=\"8\" fill=\"#0c0726\" fill-rule=\"evenodd\" fill-opacity=\"1\" stroke=\"#000000\" stroke-opacity=\"1\" stroke-width=\"3.2\"/>\n",
       "<circle clip-path=\"url(#clip882)\" cx=\"1178.53\" cy=\"1167.9\" r=\"8\" fill=\"#0c0726\" fill-rule=\"evenodd\" fill-opacity=\"1\" stroke=\"#000000\" stroke-opacity=\"1\" stroke-width=\"3.2\"/>\n",
       "<circle clip-path=\"url(#clip882)\" cx=\"884.751\" cy=\"302.528\" r=\"7\" fill=\"#07051d\" fill-rule=\"evenodd\" fill-opacity=\"1\" stroke=\"#000000\" stroke-opacity=\"1\" stroke-width=\"3.2\"/>\n",
       "<circle clip-path=\"url(#clip882)\" cx=\"884.751\" cy=\"86.1857\" r=\"7\" fill=\"#07051d\" fill-rule=\"evenodd\" fill-opacity=\"1\" stroke=\"#000000\" stroke-opacity=\"1\" stroke-width=\"3.2\"/>\n",
       "<circle clip-path=\"url(#clip882)\" cx=\"1472.31\" cy=\"735.212\" r=\"7\" fill=\"#07051d\" fill-rule=\"evenodd\" fill-opacity=\"1\" stroke=\"#000000\" stroke-opacity=\"1\" stroke-width=\"3.2\"/>\n",
       "<circle clip-path=\"url(#clip882)\" cx=\"1178.53\" cy=\"951.554\" r=\"6\" fill=\"#040316\" fill-rule=\"evenodd\" fill-opacity=\"1\" stroke=\"#000000\" stroke-opacity=\"1\" stroke-width=\"3.2\"/>\n",
       "<circle clip-path=\"url(#clip882)\" cx=\"590.969\" cy=\"1167.9\" r=\"11\" fill=\"#200c49\" fill-rule=\"evenodd\" fill-opacity=\"1\" stroke=\"#000000\" stroke-opacity=\"1\" stroke-width=\"3.2\"/>\n",
       "<circle clip-path=\"url(#clip882)\" cx=\"1178.53\" cy=\"735.212\" r=\"5\" fill=\"#020210\" fill-rule=\"evenodd\" fill-opacity=\"1\" stroke=\"#000000\" stroke-opacity=\"1\" stroke-width=\"3.2\"/>\n",
       "<circle clip-path=\"url(#clip882)\" cx=\"884.751\" cy=\"518.87\" r=\"5\" fill=\"#02020e\" fill-rule=\"evenodd\" fill-opacity=\"1\" stroke=\"#000000\" stroke-opacity=\"1\" stroke-width=\"3.2\"/>\n",
       "<circle clip-path=\"url(#clip882)\" cx=\"297.188\" cy=\"1384.24\" r=\"61\" fill=\"#fcfea4\" fill-rule=\"evenodd\" fill-opacity=\"1\" stroke=\"#000000\" stroke-opacity=\"1\" stroke-width=\"3.2\"/>\n",
       "<circle clip-path=\"url(#clip882)\" cx=\"297.188\" cy=\"735.212\" r=\"61\" fill=\"#fcfea4\" fill-rule=\"evenodd\" fill-opacity=\"1\" stroke=\"#000000\" stroke-opacity=\"1\" stroke-width=\"3.2\"/>\n",
       "<circle clip-path=\"url(#clip882)\" cx=\"2059.88\" cy=\"951.554\" r=\"8\" fill=\"#0d0828\" fill-rule=\"evenodd\" fill-opacity=\"1\" stroke=\"#000000\" stroke-opacity=\"1\" stroke-width=\"3.2\"/>\n",
       "<circle clip-path=\"url(#clip882)\" cx=\"884.751\" cy=\"1384.24\" r=\"12\" fill=\"#250b50\" fill-rule=\"evenodd\" fill-opacity=\"1\" stroke=\"#000000\" stroke-opacity=\"1\" stroke-width=\"3.2\"/>\n",
       "<circle clip-path=\"url(#clip882)\" cx=\"1766.09\" cy=\"302.528\" r=\"4\" fill=\"#000006\" fill-rule=\"evenodd\" fill-opacity=\"1\" stroke=\"#000000\" stroke-opacity=\"1\" stroke-width=\"3.2\"/>\n",
       "<circle clip-path=\"url(#clip882)\" cx=\"2059.88\" cy=\"518.87\" r=\"3\" fill=\"#000003\" fill-rule=\"evenodd\" fill-opacity=\"1\" stroke=\"#000000\" stroke-opacity=\"1\" stroke-width=\"3.2\"/>\n",
       "<circle clip-path=\"url(#clip882)\" cx=\"1766.09\" cy=\"735.212\" r=\"5\" fill=\"#040314\" fill-rule=\"evenodd\" fill-opacity=\"1\" stroke=\"#000000\" stroke-opacity=\"1\" stroke-width=\"3.2\"/>\n",
       "<circle clip-path=\"url(#clip882)\" cx=\"297.188\" cy=\"302.528\" r=\"13\" fill=\"#2b0a57\" fill-rule=\"evenodd\" fill-opacity=\"1\" stroke=\"#000000\" stroke-opacity=\"1\" stroke-width=\"3.2\"/>\n",
       "<circle clip-path=\"url(#clip882)\" cx=\"590.969\" cy=\"302.528\" r=\"5\" fill=\"#02010c\" fill-rule=\"evenodd\" fill-opacity=\"1\" stroke=\"#000000\" stroke-opacity=\"1\" stroke-width=\"3.2\"/>\n",
       "<circle clip-path=\"url(#clip882)\" cx=\"1472.31\" cy=\"1384.24\" r=\"5\" fill=\"#02010c\" fill-rule=\"evenodd\" fill-opacity=\"1\" stroke=\"#000000\" stroke-opacity=\"1\" stroke-width=\"3.2\"/>\n",
       "<circle clip-path=\"url(#clip882)\" cx=\"1472.31\" cy=\"518.87\" r=\"5\" fill=\"#02010c\" fill-rule=\"evenodd\" fill-opacity=\"1\" stroke=\"#000000\" stroke-opacity=\"1\" stroke-width=\"3.2\"/>\n",
       "<circle clip-path=\"url(#clip882)\" cx=\"1472.31\" cy=\"951.554\" r=\"5\" fill=\"#02010c\" fill-rule=\"evenodd\" fill-opacity=\"1\" stroke=\"#000000\" stroke-opacity=\"1\" stroke-width=\"3.2\"/>\n",
       "<circle clip-path=\"url(#clip882)\" cx=\"297.188\" cy=\"1167.9\" r=\"60\" fill=\"#f5f891\" fill-rule=\"evenodd\" fill-opacity=\"1\" stroke=\"#000000\" stroke-opacity=\"1\" stroke-width=\"3.2\"/>\n",
       "<circle clip-path=\"url(#clip882)\" cx=\"1178.53\" cy=\"86.1857\" r=\"12\" fill=\"#230b4d\" fill-rule=\"evenodd\" fill-opacity=\"1\" stroke=\"#000000\" stroke-opacity=\"1\" stroke-width=\"3.2\"/>\n",
       "<circle clip-path=\"url(#clip882)\" cx=\"1178.53\" cy=\"302.528\" r=\"12\" fill=\"#230b4d\" fill-rule=\"evenodd\" fill-opacity=\"1\" stroke=\"#000000\" stroke-opacity=\"1\" stroke-width=\"3.2\"/>\n",
       "<circle clip-path=\"url(#clip882)\" cx=\"297.188\" cy=\"518.87\" r=\"17\" fill=\"#490b6a\" fill-rule=\"evenodd\" fill-opacity=\"1\" stroke=\"#000000\" stroke-opacity=\"1\" stroke-width=\"3.2\"/>\n",
       "<circle clip-path=\"url(#clip882)\" cx=\"590.969\" cy=\"86.1857\" r=\"4\" fill=\"#01010a\" fill-rule=\"evenodd\" fill-opacity=\"1\" stroke=\"#000000\" stroke-opacity=\"1\" stroke-width=\"3.2\"/>\n",
       "<circle clip-path=\"url(#clip882)\" cx=\"1472.31\" cy=\"86.1857\" r=\"4\" fill=\"#000005\" fill-rule=\"evenodd\" fill-opacity=\"1\" stroke=\"#000000\" stroke-opacity=\"1\" stroke-width=\"3.2\"/>\n",
       "<circle clip-path=\"url(#clip882)\" cx=\"297.188\" cy=\"86.1857\" r=\"10\" fill=\"#1a0c41\" fill-rule=\"evenodd\" fill-opacity=\"1\" stroke=\"#000000\" stroke-opacity=\"1\" stroke-width=\"3.2\"/>\n",
       "<circle clip-path=\"url(#clip882)\" cx=\"2059.88\" cy=\"1384.24\" r=\"6\" fill=\"#07051c\" fill-rule=\"evenodd\" fill-opacity=\"1\" stroke=\"#000000\" stroke-opacity=\"1\" stroke-width=\"3.2\"/>\n",
       "<circle clip-path=\"url(#clip882)\" cx=\"884.751\" cy=\"735.212\" r=\"8\" fill=\"#0e082b\" fill-rule=\"evenodd\" fill-opacity=\"1\" stroke=\"#000000\" stroke-opacity=\"1\" stroke-width=\"3.2\"/>\n",
       "<circle clip-path=\"url(#clip882)\" cx=\"590.969\" cy=\"518.87\" r=\"9\" fill=\"#11092f\" fill-rule=\"evenodd\" fill-opacity=\"1\" stroke=\"#000000\" stroke-opacity=\"1\" stroke-width=\"3.2\"/>\n",
       "<circle clip-path=\"url(#clip882)\" cx=\"1766.09\" cy=\"951.554\" r=\"8\" fill=\"#0c0726\" fill-rule=\"evenodd\" fill-opacity=\"1\" stroke=\"#000000\" stroke-opacity=\"1\" stroke-width=\"3.2\"/>\n",
       "<circle clip-path=\"url(#clip882)\" cx=\"1766.09\" cy=\"1167.9\" r=\"8\" fill=\"#0c0726\" fill-rule=\"evenodd\" fill-opacity=\"1\" stroke=\"#000000\" stroke-opacity=\"1\" stroke-width=\"3.2\"/>\n",
       "<circle clip-path=\"url(#clip882)\" cx=\"2059.88\" cy=\"1167.9\" r=\"7\" fill=\"#0b0724\" fill-rule=\"evenodd\" fill-opacity=\"1\" stroke=\"#000000\" stroke-opacity=\"1\" stroke-width=\"3.2\"/>\n",
       "<circle clip-path=\"url(#clip882)\" cx=\"884.751\" cy=\"1167.9\" r=\"9\" fill=\"#120a31\" fill-rule=\"evenodd\" fill-opacity=\"1\" stroke=\"#000000\" stroke-opacity=\"1\" stroke-width=\"3.2\"/>\n",
       "<circle clip-path=\"url(#clip882)\" cx=\"2059.88\" cy=\"302.528\" r=\"4\" fill=\"#000005\" fill-rule=\"evenodd\" fill-opacity=\"1\" stroke=\"#000000\" stroke-opacity=\"1\" stroke-width=\"3.2\"/>\n",
       "<defs>\n",
       "  <clipPath id=\"clip883\">\n",
       "    <rect x=\"2160\" y=\"47\" width=\"73\" height=\"1377\"/>\n",
       "  </clipPath>\n",
       "</defs>\n",
       "<g clip-path=\"url(#clip883)\">\n",
       "<image width=\"72\" height=\"1376\" xlink:href=\"data:image/png;base64,\n",
       "iVBORw0KGgoAAAANSUhEUgAAAEgAAAVgCAYAAADsKhu7AAAL6UlEQVR4nO3dwZEjNxBFQVBR/lsh\n",
       "L6UFZIHqHclDpgUTL35wCXTP7Off+/c7/K+/vv0D/DqBgkBBoCBQmPv+/fbP8NMsKAgUBAoChXnv\n",
       "z7d/hp9mQUGgIFAQKAgUHDWCBQWBgkBBoDDPh/TKgoJAQaAgUJh3fUhvLCgIFAQKAgWBgqNGsKAg\n",
       "UBAoCBR8SAcLCgIFgYJAwX1QsKAgUBAoCBQECnMcNVYWFAQKAgWBgvugYEFBoCBQECgIFOa4MFtZ\n",
       "UBAoCBQECnPuP9/+GX6aBQWBgkBBoODSPlhQECgIFAQKAgX3QcGCgkBBoCBQ8CEdLCgIFAQKAgX3\n",
       "QcGCgkBBoCBQECjMx1FjZUFBoCBQECjMuf5XhI0FBYGCQEGgIFBw1AgWFAQKAgWBgqNGsKAgUBAo\n",
       "CBS8HxQsKAgUBAoCBYHCfBw1VhYUBAoCBYGCt1yDBQWBgkBBoOCbdLCgIFAQKAgUBAoePQcLCgIF\n",
       "gYJAwVEjWFAQKAgUBAoCBUeNYEFBoCBQECg4agQLCgIFgYJAYc693/4ZfpoFBYGCQEGgIFBw1AgW\n",
       "FAQKAgWBgkv7YEFBoCBQECj4kA4WFAQKAgWBgkBhPp5qrCwoCBQECgIFR41gQUGgIFAQKAgUvEAV\n",
       "LCgIFAQKAgX3QcGCgkBBoCBQcB8ULCgIFAQKAgWBgvugYEFBoCBQECj4kA4WFAQKAgWBgl/qDRYU\n",
       "BAoCBYGCQMFRI1hQECgIFAQKPqSDBQWBgkBBoCBQ8K9YsKAgUBAoCBR8SAcLCgIFgYJAYc7zIb2x\n",
       "oCBQECgIFAQKjhrBgoJAQaAgUPAhHSwoCBQECgIFH9LBgoJAQaAgUBAozLnv2z/DT7OgIFAQKAgU\n",
       "HDWCBQWBgkBBoCBQcNQIFhQECgIFgYKjRrCgIFAQKAgUfJMOFhQECgIFgYJAYY6TxsqCgkBBoCBQ\n",
       "mPMcNTYWFAQKAgWBgm/SwYKCQEGgIFAQKPhXLFhQECgIFAQK44/g7SwoCBQECgIFgYKjRrCgIFAQ\n",
       "KAgUfEgHCwoCBYGCQGHO/Xz7Z/hpFhQECgIFgYJAYd7zr9jGgoJAQaAgUHAfFCwoCBQECgIF90HB\n",
       "goJAQaAgUBAozLsabdQJAgWBgkDBUSNYUBAoCBQECgKFOR49rywoCBQECgKFeY4aKwsKAgWBgkBh\n",
       "jkv7lTpBoCBQECgIFBw1ggUFgYJAQaDg0j5YUBAoCBQECl7iDOoEgYJAQaAgUPCWa7CgIFAQKAgU\n",
       "XNoHCwoCBYGCQEGgMO9ptFEnCBQECgIF90HBgoJAQaAgUHAfFCwoCBQECgIFgcIc90ErdYJAQaAg\n",
       "UHDUCBYUBAoCBYGCD+lgQUGgIFAQKAgU/NZzsKAgUBAoCBT81nNQJwgUBAoCBYHCPEeNlQUFgYJA\n",
       "QaDgqUawoCBQECgIFPyvCEGdIFAQKAgUBArug4IFBYGCQEGg4D4oWFAQKAgUBAq+SQcLCgIFgYJA\n",
       "QaDgLdegThAoCBQECo4awYKCQEGgIFAQKHiqESwoCBQECgIFR41gQUGgIFAQKPiva4IFBYGCQEGg\n",
       "IFDwv2QGdYJAQaAgUHAfFCwoCBQECgIFT1aDBQWBgkBBoCBQcNQIFhQECgIFgcJcH9IrCwoCBYGC\n",
       "QEGg4LeegzpBoCBQECi4DwoWFAQKAgWBgg/pYEFBoCBQECgIFLxAFSwoCBQECgIFR41gQUGgIFAQ\n",
       "KPiQDhYUBAoCBYGCQMGfpgjqBIGCQEGgMNel/cqCgkBBoCBQECi4MAsWFAQKAgWBgg/pYEFBoCBQ\n",
       "ECj4kA4WFAQKAgWBgkDBH1gKFhQECgIFgYKjRrCgIFAQKAgUfEgHCwoCBYGCQEGg4FcRgjpBoCBQ\n",
       "ECj4VYRgQUGgIFAQKAgUXJgFCwoCBYGCQMGHdLCgIFAQKAgUvMQZLCgIFAQKAgWBgqNGsKAgUBAo\n",
       "CBTmHR/SGwsKAgWBgkDBfVCwoCBQECgIFAQK7oOCBQWBgkBBoOCoESwoCBQECgIFgYKjRrCgIFAQ\n",
       "KAgUHDWCBQWBgkBBoOCbdLCgIFAQKAgUBAr+FQsWFAQKAgWBwly/irCyoCBQECgIFHyTDhYUBAoC\n",
       "BYGCQMGj52BBQaAgUBAozHvf/hF+mwUFgYJAQaAgUHDUCBYUBAoCBYGCv4IXLCgIFAQKAgXfpIMF\n",
       "BYGCQEGgIFDwAlWwoCBQECgIFPwqQrCgIFAQKAgUvB8ULCgIFAQKAgWBgqcawYKCQEGgIFBwaR8s\n",
       "KAgUBAoCBYGCpxrBgoJAQaAgUHAfFCwoCBQECgIFj56DBQWBgkBBoCBQcB8ULCgIFAQKAgWPnoMF\n",
       "BYGCQEGgMPfbP8GPs6AgUBAoCBQECo4awYKCQEGgIFDwflCwoCBQECgIFAQKLsyCBQWBgkBBoOA+\n",
       "KFhQECgIFAQKvkkHCwoCBYGCQEGg4KgRLCgIFAQKAgWPnoMFBYGCQEGgMP4yxc6CgkBBoCBQECg4\n",
       "agQLCgIFgYJAwaPnYEFBoCBQECgIFDx6DhYUBAoCBYGCo0awoCBQECgIFHyTDhYUBAoCBYGCQGGu\n",
       "N6hWFhQECgIFgYL7oGBBQaAgUBAouA8KFhQECgIFgYJAwVEjWFAQKAgUBArzXNqvLCgIFAQKAgWB\n",
       "wtzjwmxjQUGgIFAQKHg/KFhQECgIFAQK/gpesKAgUBAoCBQECv4KXrCgIFAQKAgUPHoOFhQECgIF\n",
       "gYKXOIMFBYGCQEGgIFDwC3XBgoJAQaAgUHDUCBYUBAoCBYGCQMFbrsGCgkBBoCBQ8JZrsKAgUBAo\n",
       "CBR8kw4WFAQKAgWBgkDBW67BgoJAQaAgUPD3g4IFBYGCQEGg4D4oWFAQKAgUBAoCBY+egwUFgYJA\n",
       "QaDgqBEsKAgUBAoCBYGCo0awoCBQECgIFBw1ggUFgYJAQaDgQzpYUBAoCBQECgIF90HBgoJAQaAg\n",
       "UHDUCBYUBAoCBYGCb9LBgoJAQaAgUBAoOGoECwoCBYGCQMHfDwoWFAQKAgWBgkDB/+0TLCgIFAQK\n",
       "AgX3QcGCgkBBoCBQmHd8Sm8sKAgUBAoCBYGCo0awoCBQECgIFDx6DhYUBAoCBYGCJ6vBgoJAQaAg\n",
       "UBAouA8KFhQECgIFgYJHz8GCgkBBoCBQECg4agQLCgIFgYJAwR9YChYUBAoCBYHCXC8IrSwoCBQE\n",
       "CgIFgYIXqIIFBYGCQEGgMM9RY2VBQaAgUBAo+CYdLCgIFAQKAgWBgqcawYKCQEGgIFDwflCwoCBQ\n",
       "ECgIFAQKc/1C3cqCgkBBoCBQcB8ULCgIFAQKAgV/miJYUBAoCBQECgIFL1AFCwoCBYGCQMGlfbCg\n",
       "IFAQKAgU3AcFCwoCBYGCQEGgMPe4EdpYUBAoCBQECu6DggUFgYJAQaAgUPCvWLCgIFAQKAgUPNUI\n",
       "FhQECgIFgYJL+2BBQaAgUBAoCBTmfhw1NhYUBAoCBYGCo0awoCBQECgIFOb5kF5ZUBAoCBQECgIF\n",
       "R41gQUGgIFAQKMz9+JDeWFAQKAgUBAoCBUeNYEFBoCBQECh4qhEsKAgUBAoCBd+kgwUFgYJAQaAg\n",
       "UPCvWLCgIFAQKAgUPHoOFhQECgIFgcK88+fbP8NPs6AgUBAoCBQECu6DggUFgYJAQaDg/aBgQUGg\n",
       "IFAQKAgU5j4XZhsLCgIFgYJAwVEjWFAQKAgUBApzPXpeWVAQKAgUBAoCBUeNYEFBoCBQECg4agQL\n",
       "CgIFgYJAYd7zTXpjQUGgIFAQKAgU3AcFCwoCBYGCQMFLnMGCgkBBoCBQECg4agQLCgIFgYJAYZ6j\n",
       "xsqCgkBBoCBQ8E06WFAQKAgUBAoChbleoFpZUBAoCBQECv7gdrCgIFAQKAgU/CpCsKAgUBAoCBQE\n",
       "Cp5qBAsKAgWBgkDBUSNYUBAoCBQECgIF/4oFCwoCBYGCQMGj52BBQaAgUBAo+CYdLCgIFAQKAgWB\n",
       "whyPnlcWFAQKAgWBgqNGsKAgUBAoCBS8xBksKAgUBAoCBYHCHEeNlQUFgYJAQaDg/aBgQUGgIFAQ\n",
       "KAgUPHoOFhQECgIFgYL7oGBBQaAgUBAozDvv2z/DT7OgIFAQKAgUBArug4IFBYGCQEGgMMdRY2VB\n",
       "QaAgUBAo/AdhU+3PqlcPeQAAAABJRU5ErkJggg==\n",
       "\" transform=\"translate(2161, 47)\"/>\n",
       "</g>\n",
       "<path clip-path=\"url(#clip880)\" d=\"M 0 0 M2280.7 1293.4 Q2277.09 1293.4 2275.26 1296.97 Q2273.45 1300.51 2273.45 1307.64 Q2273.45 1314.75 2275.26 1318.31 Q2277.09 1321.85 2280.7 1321.85 Q2284.33 1321.85 2286.14 1318.31 Q2287.97 1314.75 2287.97 1307.64 Q2287.97 1300.51 2286.14 1296.97 Q2284.33 1293.4 2280.7 1293.4 M2280.7 1289.7 Q2286.51 1289.7 2289.57 1294.31 Q2292.64 1298.89 2292.64 1307.64 Q2292.64 1316.37 2289.57 1320.97 Q2286.51 1325.56 2280.7 1325.56 Q2274.89 1325.56 2271.81 1320.97 Q2268.76 1316.37 2268.76 1307.64 Q2268.76 1298.89 2271.81 1294.31 Q2274.89 1289.7 2280.7 1289.7 Z\" fill=\"#000000\" fill-rule=\"evenodd\" fill-opacity=\"1\" /><path clip-path=\"url(#clip880)\" d=\"M 0 0 M2297.71 1319.01 L2302.6 1319.01 L2302.6 1324.89 L2297.71 1324.89 L2297.71 1319.01 Z\" fill=\"#000000\" fill-rule=\"evenodd\" fill-opacity=\"1\" /><path clip-path=\"url(#clip880)\" d=\"M 0 0 M2318.25 1305.74 Q2315.1 1305.74 2313.25 1307.89 Q2311.42 1310.05 2311.42 1313.8 Q2311.42 1317.52 2313.25 1319.7 Q2315.1 1321.85 2318.25 1321.85 Q2321.39 1321.85 2323.22 1319.7 Q2325.08 1317.52 2325.08 1313.8 Q2325.08 1310.05 2323.22 1307.89 Q2321.39 1305.74 2318.25 1305.74 M2327.53 1291.09 L2327.53 1295.35 Q2325.77 1294.52 2323.96 1294.08 Q2322.18 1293.64 2320.42 1293.64 Q2315.79 1293.64 2313.34 1296.76 Q2310.91 1299.89 2310.56 1306.21 Q2311.93 1304.19 2313.99 1303.13 Q2316.05 1302.04 2318.52 1302.04 Q2323.73 1302.04 2326.74 1305.21 Q2329.77 1308.36 2329.77 1313.8 Q2329.77 1319.12 2326.63 1322.34 Q2323.48 1325.56 2318.25 1325.56 Q2312.25 1325.56 2309.08 1320.97 Q2305.91 1316.37 2305.91 1307.64 Q2305.91 1299.45 2309.8 1294.58 Q2313.69 1289.7 2320.24 1289.7 Q2322 1289.7 2323.78 1290.05 Q2325.58 1290.4 2327.53 1291.09 Z\" fill=\"#000000\" fill-rule=\"evenodd\" fill-opacity=\"1\" /><path clip-path=\"url(#clip880)\" d=\"M 0 0 M2334.89 1290.33 L2353.25 1290.33 L2353.25 1294.26 L2339.17 1294.26 L2339.17 1302.73 Q2340.19 1302.39 2341.21 1302.22 Q2342.23 1302.04 2343.25 1302.04 Q2349.03 1302.04 2352.41 1305.21 Q2355.79 1308.38 2355.79 1313.8 Q2355.79 1319.38 2352.32 1322.48 Q2348.85 1325.56 2342.53 1325.56 Q2340.35 1325.56 2338.08 1325.19 Q2335.84 1324.82 2333.43 1324.08 L2333.43 1319.38 Q2335.51 1320.51 2337.74 1321.07 Q2339.96 1321.62 2342.44 1321.62 Q2346.44 1321.62 2348.78 1319.52 Q2351.12 1317.41 2351.12 1313.8 Q2351.12 1310.19 2348.78 1308.08 Q2346.44 1305.97 2342.44 1305.97 Q2340.56 1305.97 2338.69 1306.39 Q2336.83 1306.81 2334.89 1307.69 L2334.89 1290.33 Z\" fill=\"#000000\" fill-rule=\"evenodd\" fill-opacity=\"1\" /><path clip-path=\"url(#clip880)\" d=\"M 0 0 M2280.7 1155.12 Q2277.09 1155.12 2275.26 1158.69 Q2273.45 1162.23 2273.45 1169.36 Q2273.45 1176.47 2275.26 1180.03 Q2277.09 1183.57 2280.7 1183.57 Q2284.33 1183.57 2286.14 1180.03 Q2287.97 1176.47 2287.97 1169.36 Q2287.97 1162.23 2286.14 1158.69 Q2284.33 1155.12 2280.7 1155.12 M2280.7 1151.42 Q2286.51 1151.42 2289.57 1156.03 Q2292.64 1160.61 2292.64 1169.36 Q2292.64 1178.09 2289.57 1182.69 Q2286.51 1187.28 2280.7 1187.28 Q2274.89 1187.28 2271.81 1182.69 Q2268.76 1178.09 2268.76 1169.36 Q2268.76 1160.61 2271.81 1156.03 Q2274.89 1151.42 2280.7 1151.42 Z\" fill=\"#000000\" fill-rule=\"evenodd\" fill-opacity=\"1\" /><path clip-path=\"url(#clip880)\" d=\"M 0 0 M2297.71 1180.73 L2302.6 1180.73 L2302.6 1186.6 L2297.71 1186.6 L2297.71 1180.73 Z\" fill=\"#000000\" fill-rule=\"evenodd\" fill-opacity=\"1\" /><path clip-path=\"url(#clip880)\" d=\"M 0 0 M2306.49 1152.04 L2328.71 1152.04 L2328.71 1154.04 L2316.16 1186.6 L2311.28 1186.6 L2323.08 1155.98 L2306.49 1155.98 L2306.49 1152.04 Z\" fill=\"#000000\" fill-rule=\"evenodd\" fill-opacity=\"1\" /><path clip-path=\"url(#clip880)\" d=\"M 0 0 M2343.78 1155.12 Q2340.17 1155.12 2338.34 1158.69 Q2336.53 1162.23 2336.53 1169.36 Q2336.53 1176.47 2338.34 1180.03 Q2340.17 1183.57 2343.78 1183.57 Q2347.41 1183.57 2349.22 1180.03 Q2351.05 1176.47 2351.05 1169.36 Q2351.05 1162.23 2349.22 1158.69 Q2347.41 1155.12 2343.78 1155.12 M2343.78 1151.42 Q2349.59 1151.42 2352.64 1156.03 Q2355.72 1160.61 2355.72 1169.36 Q2355.72 1178.09 2352.64 1182.69 Q2349.59 1187.28 2343.78 1187.28 Q2337.97 1187.28 2334.89 1182.69 Q2331.83 1178.09 2331.83 1169.36 Q2331.83 1160.61 2334.89 1156.03 Q2337.97 1151.42 2343.78 1151.42 Z\" fill=\"#000000\" fill-rule=\"evenodd\" fill-opacity=\"1\" /><path clip-path=\"url(#clip880)\" d=\"M 0 0 M2280.7 1016.84 Q2277.09 1016.84 2275.26 1020.41 Q2273.45 1023.95 2273.45 1031.08 Q2273.45 1038.18 2275.26 1041.75 Q2277.09 1045.29 2280.7 1045.29 Q2284.33 1045.29 2286.14 1041.75 Q2287.97 1038.18 2287.97 1031.08 Q2287.97 1023.95 2286.14 1020.41 Q2284.33 1016.84 2280.7 1016.84 M2280.7 1013.14 Q2286.51 1013.14 2289.57 1017.75 Q2292.64 1022.33 2292.64 1031.08 Q2292.64 1039.81 2289.57 1044.41 Q2286.51 1049 2280.7 1049 Q2274.89 1049 2271.81 1044.41 Q2268.76 1039.81 2268.76 1031.08 Q2268.76 1022.33 2271.81 1017.75 Q2274.89 1013.14 2280.7 1013.14 Z\" fill=\"#000000\" fill-rule=\"evenodd\" fill-opacity=\"1\" /><path clip-path=\"url(#clip880)\" d=\"M 0 0 M2297.71 1042.44 L2302.6 1042.44 L2302.6 1048.32 L2297.71 1048.32 L2297.71 1042.44 Z\" fill=\"#000000\" fill-rule=\"evenodd\" fill-opacity=\"1\" /><path clip-path=\"url(#clip880)\" d=\"M 0 0 M2306.49 1013.76 L2328.71 1013.76 L2328.71 1015.75 L2316.16 1048.32 L2311.28 1048.32 L2323.08 1017.7 L2306.49 1017.7 L2306.49 1013.76 Z\" fill=\"#000000\" fill-rule=\"evenodd\" fill-opacity=\"1\" /><path clip-path=\"url(#clip880)\" d=\"M 0 0 M2333.83 1013.76 L2352.18 1013.76 L2352.18 1017.7 L2338.11 1017.7 L2338.11 1026.17 Q2339.13 1025.82 2340.14 1025.66 Q2341.16 1025.48 2342.18 1025.48 Q2347.97 1025.48 2351.35 1028.65 Q2354.73 1031.82 2354.73 1037.24 Q2354.73 1042.81 2351.26 1045.92 Q2347.78 1049 2341.46 1049 Q2339.29 1049 2337.02 1048.62 Q2334.77 1048.25 2332.37 1047.51 L2332.37 1042.81 Q2334.45 1043.95 2336.67 1044.5 Q2338.89 1045.06 2341.37 1045.06 Q2345.38 1045.06 2347.71 1042.95 Q2350.05 1040.85 2350.05 1037.24 Q2350.05 1033.62 2347.71 1031.52 Q2345.38 1029.41 2341.37 1029.41 Q2339.5 1029.41 2337.62 1029.83 Q2335.77 1030.25 2333.83 1031.12 L2333.83 1013.76 Z\" fill=\"#000000\" fill-rule=\"evenodd\" fill-opacity=\"1\" /><path clip-path=\"url(#clip880)\" d=\"M 0 0 M2280.7 878.562 Q2277.09 878.562 2275.26 882.126 Q2273.45 885.668 2273.45 892.798 Q2273.45 899.904 2275.26 903.469 Q2277.09 907.011 2280.7 907.011 Q2284.33 907.011 2286.14 903.469 Q2287.97 899.904 2287.97 892.798 Q2287.97 885.668 2286.14 882.126 Q2284.33 878.562 2280.7 878.562 M2280.7 874.858 Q2286.51 874.858 2289.57 879.464 Q2292.64 884.048 2292.64 892.798 Q2292.64 901.524 2289.57 906.131 Q2286.51 910.714 2280.7 910.714 Q2274.89 910.714 2271.81 906.131 Q2268.76 901.524 2268.76 892.798 Q2268.76 884.048 2271.81 879.464 Q2274.89 874.858 2280.7 874.858 Z\" fill=\"#000000\" fill-rule=\"evenodd\" fill-opacity=\"1\" /><path clip-path=\"url(#clip880)\" d=\"M 0 0 M2297.71 904.163 L2302.6 904.163 L2302.6 910.043 L2297.71 910.043 L2297.71 904.163 Z\" fill=\"#000000\" fill-rule=\"evenodd\" fill-opacity=\"1\" /><path clip-path=\"url(#clip880)\" d=\"M 0 0 M2317.67 893.631 Q2314.33 893.631 2312.41 895.413 Q2310.51 897.196 2310.51 900.321 Q2310.51 903.446 2312.41 905.228 Q2314.33 907.011 2317.67 907.011 Q2321 907.011 2322.92 905.228 Q2324.84 903.423 2324.84 900.321 Q2324.84 897.196 2322.92 895.413 Q2321.02 893.631 2317.67 893.631 M2312.99 891.64 Q2309.98 890.899 2308.29 888.839 Q2306.63 886.779 2306.63 883.816 Q2306.63 879.673 2309.57 877.265 Q2312.53 874.858 2317.67 874.858 Q2322.83 874.858 2325.77 877.265 Q2328.71 879.673 2328.71 883.816 Q2328.71 886.779 2327.02 888.839 Q2325.35 890.899 2322.37 891.64 Q2325.75 892.427 2327.62 894.719 Q2329.52 897.011 2329.52 900.321 Q2329.52 905.344 2326.44 908.029 Q2323.39 910.714 2317.67 910.714 Q2311.95 910.714 2308.87 908.029 Q2305.82 905.344 2305.82 900.321 Q2305.82 897.011 2307.71 894.719 Q2309.61 892.427 2312.99 891.64 M2311.28 884.256 Q2311.28 886.941 2312.95 888.446 Q2314.64 889.95 2317.67 889.95 Q2320.68 889.95 2322.37 888.446 Q2324.08 886.941 2324.08 884.256 Q2324.08 881.571 2322.37 880.066 Q2320.68 878.562 2317.67 878.562 Q2314.64 878.562 2312.95 880.066 Q2311.28 881.571 2311.28 884.256 Z\" fill=\"#000000\" fill-rule=\"evenodd\" fill-opacity=\"1\" /><path clip-path=\"url(#clip880)\" d=\"M 0 0 M2344.59 878.562 Q2340.98 878.562 2339.15 882.126 Q2337.34 885.668 2337.34 892.798 Q2337.34 899.904 2339.15 903.469 Q2340.98 907.011 2344.59 907.011 Q2348.22 907.011 2350.03 903.469 Q2351.86 899.904 2351.86 892.798 Q2351.86 885.668 2350.03 882.126 Q2348.22 878.562 2344.59 878.562 M2344.59 874.858 Q2350.4 874.858 2353.45 879.464 Q2356.53 884.048 2356.53 892.798 Q2356.53 901.524 2353.45 906.131 Q2350.4 910.714 2344.59 910.714 Q2338.78 910.714 2335.7 906.131 Q2332.64 901.524 2332.64 892.798 Q2332.64 884.048 2335.7 879.464 Q2338.78 874.858 2344.59 874.858 Z\" fill=\"#000000\" fill-rule=\"evenodd\" fill-opacity=\"1\" /><path clip-path=\"url(#clip880)\" d=\"M 0 0 M2280.7 740.281 Q2277.09 740.281 2275.26 743.845 Q2273.45 747.387 2273.45 754.517 Q2273.45 761.623 2275.26 765.188 Q2277.09 768.73 2280.7 768.73 Q2284.33 768.73 2286.14 765.188 Q2287.97 761.623 2287.97 754.517 Q2287.97 747.387 2286.14 743.845 Q2284.33 740.281 2280.7 740.281 M2280.7 736.577 Q2286.51 736.577 2289.57 741.183 Q2292.64 745.767 2292.64 754.517 Q2292.64 763.244 2289.57 767.85 Q2286.51 772.433 2280.7 772.433 Q2274.89 772.433 2271.81 767.85 Q2268.76 763.244 2268.76 754.517 Q2268.76 745.767 2271.81 741.183 Q2274.89 736.577 2280.7 736.577 Z\" fill=\"#000000\" fill-rule=\"evenodd\" fill-opacity=\"1\" /><path clip-path=\"url(#clip880)\" d=\"M 0 0 M2297.71 765.882 L2302.6 765.882 L2302.6 771.762 L2297.71 771.762 L2297.71 765.882 Z\" fill=\"#000000\" fill-rule=\"evenodd\" fill-opacity=\"1\" /><path clip-path=\"url(#clip880)\" d=\"M 0 0 M2317.67 755.35 Q2314.33 755.35 2312.41 757.132 Q2310.51 758.915 2310.51 762.04 Q2310.51 765.165 2312.41 766.947 Q2314.33 768.73 2317.67 768.73 Q2321 768.73 2322.92 766.947 Q2324.84 765.142 2324.84 762.04 Q2324.84 758.915 2322.92 757.132 Q2321.02 755.35 2317.67 755.35 M2312.99 753.359 Q2309.98 752.619 2308.29 750.558 Q2306.63 748.498 2306.63 745.535 Q2306.63 741.392 2309.57 738.984 Q2312.53 736.577 2317.67 736.577 Q2322.83 736.577 2325.77 738.984 Q2328.71 741.392 2328.71 745.535 Q2328.71 748.498 2327.02 750.558 Q2325.35 752.619 2322.37 753.359 Q2325.75 754.146 2327.62 756.438 Q2329.52 758.73 2329.52 762.04 Q2329.52 767.063 2326.44 769.748 Q2323.39 772.433 2317.67 772.433 Q2311.95 772.433 2308.87 769.748 Q2305.82 767.063 2305.82 762.04 Q2305.82 758.73 2307.71 756.438 Q2309.61 754.146 2312.99 753.359 M2311.28 745.975 Q2311.28 748.66 2312.95 750.165 Q2314.64 751.67 2317.67 751.67 Q2320.68 751.67 2322.37 750.165 Q2324.08 748.66 2324.08 745.975 Q2324.08 743.29 2322.37 741.785 Q2320.68 740.281 2317.67 740.281 Q2314.64 740.281 2312.95 741.785 Q2311.28 743.29 2311.28 745.975 Z\" fill=\"#000000\" fill-rule=\"evenodd\" fill-opacity=\"1\" /><path clip-path=\"url(#clip880)\" d=\"M 0 0 M2334.64 737.202 L2352.99 737.202 L2352.99 741.137 L2338.92 741.137 L2338.92 749.609 Q2339.94 749.262 2340.95 749.1 Q2341.97 748.915 2342.99 748.915 Q2348.78 748.915 2352.16 752.086 Q2355.54 755.257 2355.54 760.674 Q2355.54 766.253 2352.07 769.355 Q2348.59 772.433 2342.27 772.433 Q2340.1 772.433 2337.83 772.063 Q2335.58 771.693 2333.18 770.952 L2333.18 766.253 Q2335.26 767.387 2337.48 767.943 Q2339.7 768.498 2342.18 768.498 Q2346.19 768.498 2348.52 766.392 Q2350.86 764.285 2350.86 760.674 Q2350.86 757.063 2348.52 754.957 Q2346.19 752.85 2342.18 752.85 Q2340.31 752.85 2338.43 753.267 Q2336.58 753.683 2334.64 754.563 L2334.64 737.202 Z\" fill=\"#000000\" fill-rule=\"evenodd\" fill-opacity=\"1\" /><path clip-path=\"url(#clip880)\" d=\"M 0 0 M2280.7 602 Q2277.09 602 2275.26 605.565 Q2273.45 609.106 2273.45 616.236 Q2273.45 623.342 2275.26 626.907 Q2277.09 630.449 2280.7 630.449 Q2284.33 630.449 2286.14 626.907 Q2287.97 623.342 2287.97 616.236 Q2287.97 609.106 2286.14 605.565 Q2284.33 602 2280.7 602 M2280.7 598.296 Q2286.51 598.296 2289.57 602.903 Q2292.64 607.486 2292.64 616.236 Q2292.64 624.963 2289.57 629.569 Q2286.51 634.152 2280.7 634.152 Q2274.89 634.152 2271.81 629.569 Q2268.76 624.963 2268.76 616.236 Q2268.76 607.486 2271.81 602.903 Q2274.89 598.296 2280.7 598.296 Z\" fill=\"#000000\" fill-rule=\"evenodd\" fill-opacity=\"1\" /><path clip-path=\"url(#clip880)\" d=\"M 0 0 M2297.71 627.601 L2302.6 627.601 L2302.6 633.481 L2297.71 633.481 L2297.71 627.601 Z\" fill=\"#000000\" fill-rule=\"evenodd\" fill-opacity=\"1\" /><path clip-path=\"url(#clip880)\" d=\"M 0 0 M2307.81 632.764 L2307.81 628.504 Q2309.57 629.338 2311.37 629.777 Q2313.18 630.217 2314.91 630.217 Q2319.54 630.217 2321.97 627.115 Q2324.43 623.99 2324.77 617.648 Q2323.43 619.639 2321.37 620.703 Q2319.31 621.768 2316.81 621.768 Q2311.63 621.768 2308.59 618.643 Q2305.58 615.495 2305.58 610.055 Q2305.58 604.731 2308.73 601.514 Q2311.88 598.296 2317.11 598.296 Q2323.11 598.296 2326.26 602.903 Q2329.43 607.486 2329.43 616.236 Q2329.43 624.407 2325.54 629.291 Q2321.67 634.152 2315.12 634.152 Q2313.36 634.152 2311.56 633.805 Q2309.75 633.458 2307.81 632.764 M2317.11 618.111 Q2320.26 618.111 2322.09 615.958 Q2323.94 613.805 2323.94 610.055 Q2323.94 606.328 2322.09 604.176 Q2320.26 602 2317.11 602 Q2313.96 602 2312.11 604.176 Q2310.28 606.328 2310.28 610.055 Q2310.28 613.805 2312.11 615.958 Q2313.96 618.111 2317.11 618.111 Z\" fill=\"#000000\" fill-rule=\"evenodd\" fill-opacity=\"1\" /><path clip-path=\"url(#clip880)\" d=\"M 0 0 M2344.5 602 Q2340.89 602 2339.06 605.565 Q2337.25 609.106 2337.25 616.236 Q2337.25 623.342 2339.06 626.907 Q2340.89 630.449 2344.5 630.449 Q2348.13 630.449 2349.94 626.907 Q2351.76 623.342 2351.76 616.236 Q2351.76 609.106 2349.94 605.565 Q2348.13 602 2344.5 602 M2344.5 598.296 Q2350.31 598.296 2353.36 602.903 Q2356.44 607.486 2356.44 616.236 Q2356.44 624.963 2353.36 629.569 Q2350.31 634.152 2344.5 634.152 Q2338.69 634.152 2335.61 629.569 Q2332.55 624.963 2332.55 616.236 Q2332.55 607.486 2335.61 602.903 Q2338.69 598.296 2344.5 598.296 Z\" fill=\"#000000\" fill-rule=\"evenodd\" fill-opacity=\"1\" /><path clip-path=\"url(#clip880)\" d=\"M 0 0 M2280.7 463.719 Q2277.09 463.719 2275.26 467.284 Q2273.45 470.825 2273.45 477.955 Q2273.45 485.061 2275.26 488.626 Q2277.09 492.168 2280.7 492.168 Q2284.33 492.168 2286.14 488.626 Q2287.97 485.061 2287.97 477.955 Q2287.97 470.825 2286.14 467.284 Q2284.33 463.719 2280.7 463.719 M2280.7 460.015 Q2286.51 460.015 2289.57 464.622 Q2292.64 469.205 2292.64 477.955 Q2292.64 486.682 2289.57 491.288 Q2286.51 495.871 2280.7 495.871 Q2274.89 495.871 2271.81 491.288 Q2268.76 486.682 2268.76 477.955 Q2268.76 469.205 2271.81 464.622 Q2274.89 460.015 2280.7 460.015 Z\" fill=\"#000000\" fill-rule=\"evenodd\" fill-opacity=\"1\" /><path clip-path=\"url(#clip880)\" d=\"M 0 0 M2297.71 489.321 L2302.6 489.321 L2302.6 495.2 L2297.71 495.2 L2297.71 489.321 Z\" fill=\"#000000\" fill-rule=\"evenodd\" fill-opacity=\"1\" /><path clip-path=\"url(#clip880)\" d=\"M 0 0 M2307.81 494.483 L2307.81 490.223 Q2309.57 491.057 2311.37 491.497 Q2313.18 491.936 2314.91 491.936 Q2319.54 491.936 2321.97 488.834 Q2324.43 485.709 2324.77 479.367 Q2323.43 481.358 2321.37 482.422 Q2319.31 483.487 2316.81 483.487 Q2311.63 483.487 2308.59 480.362 Q2305.58 477.214 2305.58 471.774 Q2305.58 466.45 2308.73 463.233 Q2311.88 460.015 2317.11 460.015 Q2323.11 460.015 2326.26 464.622 Q2329.43 469.205 2329.43 477.955 Q2329.43 486.126 2325.54 491.01 Q2321.67 495.871 2315.12 495.871 Q2313.36 495.871 2311.56 495.524 Q2309.75 495.177 2307.81 494.483 M2317.11 479.83 Q2320.26 479.83 2322.09 477.677 Q2323.94 475.524 2323.94 471.774 Q2323.94 468.048 2322.09 465.895 Q2320.26 463.719 2317.11 463.719 Q2313.96 463.719 2312.11 465.895 Q2310.28 468.048 2310.28 471.774 Q2310.28 475.524 2312.11 477.677 Q2313.96 479.83 2317.11 479.83 Z\" fill=\"#000000\" fill-rule=\"evenodd\" fill-opacity=\"1\" /><path clip-path=\"url(#clip880)\" d=\"M 0 0 M2334.54 460.64 L2352.9 460.64 L2352.9 464.575 L2338.82 464.575 L2338.82 473.048 Q2339.84 472.7 2340.86 472.538 Q2341.88 472.353 2342.9 472.353 Q2348.69 472.353 2352.07 475.524 Q2355.45 478.696 2355.45 484.112 Q2355.45 489.691 2351.97 492.793 Q2348.5 495.871 2342.18 495.871 Q2340.01 495.871 2337.74 495.501 Q2335.49 495.131 2333.08 494.39 L2333.08 489.691 Q2335.17 490.825 2337.39 491.381 Q2339.61 491.936 2342.09 491.936 Q2346.09 491.936 2348.43 489.83 Q2350.77 487.723 2350.77 484.112 Q2350.77 480.501 2348.43 478.395 Q2346.09 476.288 2342.09 476.288 Q2340.21 476.288 2338.34 476.705 Q2336.49 477.122 2334.54 478.001 L2334.54 460.64 Z\" fill=\"#000000\" fill-rule=\"evenodd\" fill-opacity=\"1\" /><path clip-path=\"url(#clip880)\" d=\"M 0 0 M2269.43 352.984 L2277.07 352.984 L2277.07 326.619 L2268.76 328.285 L2268.76 324.026 L2277.02 322.359 L2281.7 322.359 L2281.7 352.984 L2289.33 352.984 L2289.33 356.919 L2269.43 356.919 L2269.43 352.984 Z\" fill=\"#000000\" fill-rule=\"evenodd\" fill-opacity=\"1\" /><path clip-path=\"url(#clip880)\" d=\"M 0 0 M2294.4 351.04 L2299.29 351.04 L2299.29 356.919 L2294.4 356.919 L2294.4 351.04 Z\" fill=\"#000000\" fill-rule=\"evenodd\" fill-opacity=\"1\" /><path clip-path=\"url(#clip880)\" d=\"M 0 0 M2314.36 325.438 Q2310.75 325.438 2308.92 329.003 Q2307.11 332.544 2307.11 339.674 Q2307.11 346.78 2308.92 350.345 Q2310.75 353.887 2314.36 353.887 Q2317.99 353.887 2319.8 350.345 Q2321.63 346.78 2321.63 339.674 Q2321.63 332.544 2319.8 329.003 Q2317.99 325.438 2314.36 325.438 M2314.36 321.734 Q2320.17 321.734 2323.22 326.341 Q2326.3 330.924 2326.3 339.674 Q2326.3 348.401 2323.22 353.007 Q2320.17 357.591 2314.36 357.591 Q2308.55 357.591 2305.47 353.007 Q2302.41 348.401 2302.41 339.674 Q2302.41 330.924 2305.47 326.341 Q2308.55 321.734 2314.36 321.734 Z\" fill=\"#000000\" fill-rule=\"evenodd\" fill-opacity=\"1\" /><path clip-path=\"url(#clip880)\" d=\"M 0 0 M2341.37 325.438 Q2337.76 325.438 2335.93 329.003 Q2334.13 332.544 2334.13 339.674 Q2334.13 346.78 2335.93 350.345 Q2337.76 353.887 2341.37 353.887 Q2345.01 353.887 2346.81 350.345 Q2348.64 346.78 2348.64 339.674 Q2348.64 332.544 2346.81 329.003 Q2345.01 325.438 2341.37 325.438 M2341.37 321.734 Q2347.18 321.734 2350.24 326.341 Q2353.32 330.924 2353.32 339.674 Q2353.32 348.401 2350.24 353.007 Q2347.18 357.591 2341.37 357.591 Q2335.56 357.591 2332.48 353.007 Q2329.43 348.401 2329.43 339.674 Q2329.43 330.924 2332.48 326.341 Q2335.56 321.734 2341.37 321.734 Z\" fill=\"#000000\" fill-rule=\"evenodd\" fill-opacity=\"1\" /><path clip-path=\"url(#clip880)\" d=\"M 0 0 M2269.43 214.703 L2277.07 214.703 L2277.07 188.338 L2268.76 190.004 L2268.76 185.745 L2277.02 184.078 L2281.7 184.078 L2281.7 214.703 L2289.33 214.703 L2289.33 218.638 L2269.43 218.638 L2269.43 214.703 Z\" fill=\"#000000\" fill-rule=\"evenodd\" fill-opacity=\"1\" /><path clip-path=\"url(#clip880)\" d=\"M 0 0 M2294.4 212.759 L2299.29 212.759 L2299.29 218.638 L2294.4 218.638 L2294.4 212.759 Z\" fill=\"#000000\" fill-rule=\"evenodd\" fill-opacity=\"1\" /><path clip-path=\"url(#clip880)\" d=\"M 0 0 M2314.36 187.157 Q2310.75 187.157 2308.92 190.722 Q2307.11 194.264 2307.11 201.393 Q2307.11 208.5 2308.92 212.064 Q2310.75 215.606 2314.36 215.606 Q2317.99 215.606 2319.8 212.064 Q2321.63 208.5 2321.63 201.393 Q2321.63 194.264 2319.8 190.722 Q2317.99 187.157 2314.36 187.157 M2314.36 183.453 Q2320.17 183.453 2323.22 188.06 Q2326.3 192.643 2326.3 201.393 Q2326.3 210.12 2323.22 214.726 Q2320.17 219.31 2314.36 219.31 Q2308.55 219.31 2305.47 214.726 Q2302.41 210.12 2302.41 201.393 Q2302.41 192.643 2305.47 188.06 Q2308.55 183.453 2314.36 183.453 Z\" fill=\"#000000\" fill-rule=\"evenodd\" fill-opacity=\"1\" /><path clip-path=\"url(#clip880)\" d=\"M 0 0 M2331.42 184.078 L2349.77 184.078 L2349.77 188.014 L2335.7 188.014 L2335.7 196.486 Q2336.72 196.138 2337.74 195.976 Q2338.76 195.791 2339.77 195.791 Q2345.56 195.791 2348.94 198.963 Q2352.32 202.134 2352.32 207.55 Q2352.32 213.129 2348.85 216.231 Q2345.38 219.31 2339.06 219.31 Q2336.88 219.31 2334.61 218.939 Q2332.37 218.569 2329.96 217.828 L2329.96 213.129 Q2332.04 214.263 2334.26 214.819 Q2336.49 215.375 2338.96 215.375 Q2342.97 215.375 2345.31 213.268 Q2347.64 211.162 2347.64 207.55 Q2347.64 203.939 2345.31 201.833 Q2342.97 199.726 2338.96 199.726 Q2337.09 199.726 2335.21 200.143 Q2333.36 200.56 2331.42 201.439 L2331.42 184.078 Z\" fill=\"#000000\" fill-rule=\"evenodd\" fill-opacity=\"1\" /><path clip-path=\"url(#clip880)\" d=\"M 0 0 M2269.43 76.4223 L2277.07 76.4223 L2277.07 50.0567 L2268.76 51.7234 L2268.76 47.4641 L2277.02 45.7975 L2281.7 45.7975 L2281.7 76.4223 L2289.33 76.4223 L2289.33 80.3575 L2269.43 80.3575 L2269.43 76.4223 Z\" fill=\"#000000\" fill-rule=\"evenodd\" fill-opacity=\"1\" /><path clip-path=\"url(#clip880)\" d=\"M 0 0 M2294.4 74.4779 L2299.29 74.4779 L2299.29 80.3575 L2294.4 80.3575 L2294.4 74.4779 Z\" fill=\"#000000\" fill-rule=\"evenodd\" fill-opacity=\"1\" /><path clip-path=\"url(#clip880)\" d=\"M 0 0 M2305.17 76.4223 L2312.81 76.4223 L2312.81 50.0567 L2304.5 51.7234 L2304.5 47.4641 L2312.76 45.7975 L2317.44 45.7975 L2317.44 76.4223 L2325.08 76.4223 L2325.08 80.3575 L2305.17 80.3575 L2305.17 76.4223 Z\" fill=\"#000000\" fill-rule=\"evenodd\" fill-opacity=\"1\" /><path clip-path=\"url(#clip880)\" d=\"M 0 0 M2340.14 48.8762 Q2336.53 48.8762 2334.7 52.4409 Q2332.9 55.9826 2332.9 63.1122 Q2332.9 70.2186 2334.7 73.7834 Q2336.53 77.3251 2340.14 77.3251 Q2343.78 77.3251 2345.58 73.7834 Q2347.41 70.2186 2347.41 63.1122 Q2347.41 55.9826 2345.58 52.4409 Q2343.78 48.8762 2340.14 48.8762 M2340.14 45.1725 Q2345.95 45.1725 2349.01 49.7789 Q2352.09 54.3622 2352.09 63.1122 Q2352.09 71.839 2349.01 76.4454 Q2345.95 81.0288 2340.14 81.0288 Q2334.33 81.0288 2331.26 76.4454 Q2328.2 71.839 2328.2 63.1122 Q2328.2 54.3622 2331.26 49.7789 Q2334.33 45.1725 2340.14 45.1725 Z\" fill=\"#000000\" fill-rule=\"evenodd\" fill-opacity=\"1\" /><polyline clip-path=\"url(#clip880)\" style=\"stroke:#000000; stroke-width:4; stroke-opacity:1; fill:none\" points=\"\n",
       "  2232.76,1423.18 2232.76,1311.23 2256.76,1311.23 2232.76,1311.23 2232.76,1172.95 2256.76,1172.95 2232.76,1172.95 2232.76,1034.67 2256.76,1034.67 2232.76,1034.67 \n",
       "  2232.76,896.392 2256.76,896.392 2232.76,896.392 2232.76,758.111 2256.76,758.111 2232.76,758.111 2232.76,619.83 2256.76,619.83 2232.76,619.83 2232.76,481.549 \n",
       "  2256.76,481.549 2232.76,481.549 2232.76,343.268 2256.76,343.268 2232.76,343.268 2232.76,204.987 2256.76,204.987 2232.76,204.987 2232.76,66.7063 2256.76,66.7063 \n",
       "  2232.76,66.7063 2232.76,47.2441 \n",
       "  \"/>\n",
       "</svg>\n"
      ]
     },
     "execution_count": 80,
     "metadata": {},
     "output_type": "execute_result"
    }
   ],
   "source": [
    "plot(self_tuning_nn)"
   ]
  },
  {
   "cell_type": "code",
   "execution_count": 81,
   "metadata": {},
   "outputs": [
    {
     "data": {
      "text/plain": [
       "(best_model = \u001b[34mNeuralNetworkClassifier{CustomNN,…} @832\u001b[39m,\n",
       " best_fitted_params = (chain = Chain(Chain(Dense(4, 49, σ), Dense(49, 5, σ), Dense(5, 3, σ)), softmax),),)"
      ]
     },
     "execution_count": 81,
     "metadata": {},
     "output_type": "execute_result"
    }
   ],
   "source": [
    "best = fitted_params(self_tuning_nn)\n",
    "best"
   ]
  },
  {
   "cell_type": "code",
   "execution_count": 82,
   "metadata": {},
   "outputs": [
    {
     "data": {
      "text/plain": [
       "NeuralNetworkClassifier(\n",
       "    builder = CustomNN(\n",
       "            n1 = 49,\n",
       "            n2 = 5),\n",
       "    finaliser = NNlib.softmax,\n",
       "    optimiser = ADAM(0.01, (0.9, 0.999), IdDict{Any,Any}()),\n",
       "    loss = Flux.crossentropy,\n",
       "    epochs = 4000,\n",
       "    batch_size = 16,\n",
       "    lambda = 0.01,\n",
       "    alpha = 0.0,\n",
       "    optimiser_changes_trigger_retraining = false)\u001b[34m @832\u001b[39m"
      ]
     },
     "execution_count": 82,
     "metadata": {},
     "output_type": "execute_result"
    }
   ],
   "source": [
    "best.best_model"
   ]
  },
  {
   "cell_type": "code",
   "execution_count": 83,
   "metadata": {
    "scrolled": true
   },
   "outputs": [
    {
     "data": {
      "text/plain": [
       "0.60952246f0"
      ]
     },
     "execution_count": 83,
     "metadata": {},
     "output_type": "execute_result"
    }
   ],
   "source": [
    "best_loss = z.report.best_result.measurement[1]"
   ]
  },
  {
   "cell_type": "code",
   "execution_count": 84,
   "metadata": {},
   "outputs": [
    {
     "data": {
      "text/plain": [
       "0.01"
      ]
     },
     "execution_count": 84,
     "metadata": {},
     "output_type": "execute_result"
    }
   ],
   "source": [
    "best_eta = round(best.best_model.optimiser.eta, digits=5)"
   ]
  },
  {
   "cell_type": "code",
   "execution_count": 85,
   "metadata": {},
   "outputs": [],
   "source": [
    "fn = \"Figures/Grid_NN_$(param1):$(best.best_model.epochs)_x_$(param2):$(best_eta)_bestloss:$(best_loss)_hidden:$b\"\n",
    "png(replace(fn,'.' => ','))"
   ]
  },
  {
   "cell_type": "markdown",
   "metadata": {},
   "source": [
    "### GridSearch for Regularization"
   ]
  },
  {
   "cell_type": "code",
   "execution_count": 86,
   "metadata": {
    "scrolled": true
   },
   "outputs": [
    {
     "data": {
      "text/plain": [
       "NeuralNetworkClassifier(\n",
       "    builder = CustomNN(\n",
       "            n1 = 49,\n",
       "            n2 = 5),\n",
       "    finaliser = NNlib.softmax,\n",
       "    optimiser = ADAM(0.001, (0.9, 0.999), IdDict{Any,Any}()),\n",
       "    loss = Flux.crossentropy,\n",
       "    epochs = 10,\n",
       "    batch_size = 1,\n",
       "    lambda = 0.0,\n",
       "    alpha = 0.0,\n",
       "    optimiser_changes_trigger_retraining = false)\u001b[34m @058\u001b[39m"
      ]
     },
     "execution_count": 86,
     "metadata": {},
     "output_type": "execute_result"
    }
   ],
   "source": [
    "nn = NeuralNetworkClassifier(builder=CustomNN(best_n1,best_n2))"
   ]
  },
  {
   "cell_type": "code",
   "execution_count": 87,
   "metadata": {},
   "outputs": [
    {
     "data": {
      "text/plain": [
       "0.01"
      ]
     },
     "execution_count": 87,
     "metadata": {},
     "output_type": "execute_result"
    }
   ],
   "source": [
    "nn.optimiser.eta = best_eta\n",
    "nn.epochs = 60\n",
    "nn.batch_size = batch_sz\n",
    "nn.lambda = 0.01"
   ]
  },
  {
   "cell_type": "code",
   "execution_count": 88,
   "metadata": {},
   "outputs": [
    {
     "data": {
      "text/plain": [
       "\u001b[34mMachine{NeuralNetworkClassifier{CustomNN,…}} @586\u001b[39m trained 0 times.\n",
       "  args: \n",
       "    1:\t\u001b[34mSource @455\u001b[39m ⏎ `Table{AbstractArray{Continuous,1}}`\n",
       "    2:\t\u001b[34mSource @862\u001b[39m ⏎ `AbstractArray{Multiclass{3},1}`\n"
      ]
     },
     "execution_count": 88,
     "metadata": {},
     "output_type": "execute_result"
    }
   ],
   "source": [
    "Net = machine(nn, X_stand, y)"
   ]
  },
  {
   "cell_type": "code",
   "execution_count": 89,
   "metadata": {},
   "outputs": [
    {
     "data": {
      "text/plain": [
       "MLJBase.NumericRange(Float64, :lambda, ... )"
      ]
     },
     "execution_count": 89,
     "metadata": {},
     "output_type": "execute_result"
    }
   ],
   "source": [
    "param1 = :epochs\n",
    "param2 = :lambda\n",
    "\n",
    "r1 = range(nn, param1, lower=100, upper=4000, scale=:linear)\n",
    "r2 = range(nn, param2, lower=0.0001, upper=10, scale=:log10)"
   ]
  },
  {
   "cell_type": "code",
   "execution_count": 90,
   "metadata": {
    "scrolled": true
   },
   "outputs": [
    {
     "data": {
      "text/plain": [
       "ProbabilisticTunedModel(\n",
       "    model = NeuralNetworkClassifier(\n",
       "            builder = \u001b[34mCustomNN @669\u001b[39m,\n",
       "            finaliser = NNlib.softmax,\n",
       "            optimiser = ADAM(0.01, (0.9, 0.999), IdDict{Any,Any}()),\n",
       "            loss = Flux.crossentropy,\n",
       "            epochs = 60,\n",
       "            batch_size = 16,\n",
       "            lambda = 0.01,\n",
       "            alpha = 0.0,\n",
       "            optimiser_changes_trigger_retraining = false),\n",
       "    tuning = Grid(\n",
       "            goal = 50,\n",
       "            resolution = 10,\n",
       "            shuffle = true,\n",
       "            rng = Random._GLOBAL_RNG()),\n",
       "    resampling = Holdout(\n",
       "            fraction_train = 0.7,\n",
       "            shuffle = false,\n",
       "            rng = Random._GLOBAL_RNG()),\n",
       "    measure = cross_entropy(\n",
       "            eps = 2.220446049250313e-16),\n",
       "    weights = nothing,\n",
       "    operation = MLJModelInterface.predict,\n",
       "    range = MLJBase.NumericRange{T,MLJBase.Bounded,Symbol} where T[\u001b[34mNumericRange{Int64,…} @841\u001b[39m, \u001b[34mNumericRange{Float64,…} @334\u001b[39m],\n",
       "    train_best = true,\n",
       "    repeats = 1,\n",
       "    n = nothing,\n",
       "    acceleration = CPUThreads{Int64}(1),\n",
       "    acceleration_resampling = CPU1{Nothing}(nothing),\n",
       "    check_measure = true)\u001b[34m @619\u001b[39m"
      ]
     },
     "execution_count": 90,
     "metadata": {},
     "output_type": "execute_result"
    }
   ],
   "source": [
    "self_tuning_nn_model = TunedModel(model=nn,\n",
    "                                    tuning=Grid(goal=50),\n",
    "                                    resampling=Holdout(fraction_train=0.7), \n",
    "                                    measure=cross_entropy,\n",
    "                                    acceleration=CPUThreads(),\n",
    "                                    range=[r1, r2])"
   ]
  },
  {
   "cell_type": "code",
   "execution_count": 91,
   "metadata": {},
   "outputs": [
    {
     "data": {
      "text/plain": [
       "\u001b[34mMachine{ProbabilisticTunedModel{Grid,…}} @314\u001b[39m trained 0 times.\n",
       "  args: \n",
       "    1:\t\u001b[34mSource @502\u001b[39m ⏎ `Table{AbstractArray{Continuous,1}}`\n",
       "    2:\t\u001b[34mSource @296\u001b[39m ⏎ `AbstractArray{Multiclass{3},1}`\n"
      ]
     },
     "execution_count": 91,
     "metadata": {},
     "output_type": "execute_result"
    }
   ],
   "source": [
    "self_tuning_nn = machine(self_tuning_nn_model, X_stand, y)"
   ]
  },
  {
   "cell_type": "code",
   "execution_count": 92,
   "metadata": {},
   "outputs": [
    {
     "name": "stderr",
     "output_type": "stream",
     "text": [
      "┌ Info: Training \u001b[34mMachine{ProbabilisticTunedModel{Grid,…}} @314\u001b[39m.\n",
      "└ @ MLJBase /home/andrew/.julia/packages/MLJBase/uKzAz/src/machines.jl:319\n",
      "┌ Info: Attempting to evaluate 49 models.\n",
      "└ @ MLJTuning /home/andrew/.julia/packages/MLJTuning/Bbgvk/src/tuned_models.jl:494\n",
      "\u001b[33mEvaluating over 49 metamodels: 100%[=========================] Time: 0:05:06\u001b[39m\n"
     ]
    },
    {
     "data": {
      "text/plain": [
       "\u001b[34mMachine{ProbabilisticTunedModel{Grid,…}} @314\u001b[39m trained 1 time.\n",
       "  args: \n",
       "    1:\t\u001b[34mSource @502\u001b[39m ⏎ `Table{AbstractArray{Continuous,1}}`\n",
       "    2:\t\u001b[34mSource @296\u001b[39m ⏎ `AbstractArray{Multiclass{3},1}`\n"
      ]
     },
     "execution_count": 92,
     "metadata": {},
     "output_type": "execute_result"
    }
   ],
   "source": [
    "z = fit!(self_tuning_nn, rows=train)"
   ]
  },
  {
   "cell_type": "code",
   "execution_count": 93,
   "metadata": {
    "scrolled": false
   },
   "outputs": [
    {
     "data": {
      "image/svg+xml": [
       "<?xml version=\"1.0\" encoding=\"utf-8\"?>\n",
       "<svg xmlns=\"http://www.w3.org/2000/svg\" xmlns:xlink=\"http://www.w3.org/1999/xlink\" width=\"600\" height=\"400\" viewBox=\"0 0 2400 1600\">\n",
       "<defs>\n",
       "  <clipPath id=\"clip930\">\n",
       "    <rect x=\"0\" y=\"0\" width=\"2400\" height=\"1600\"/>\n",
       "  </clipPath>\n",
       "</defs>\n",
       "<path clip-path=\"url(#clip930)\" d=\"\n",
       "M0 1600 L2400 1600 L2400 0 L0 0  Z\n",
       "  \" fill=\"#ffffff\" fill-rule=\"evenodd\" fill-opacity=\"1\"/>\n",
       "<defs>\n",
       "  <clipPath id=\"clip931\">\n",
       "    <rect x=\"480\" y=\"0\" width=\"1681\" height=\"1600\"/>\n",
       "  </clipPath>\n",
       "</defs>\n",
       "<path clip-path=\"url(#clip930)\" d=\"\n",
       "M244.308 1423.18 L2112.76 1423.18 L2112.76 47.2441 L244.308 47.2441  Z\n",
       "  \" fill=\"#ffffff\" fill-rule=\"evenodd\" fill-opacity=\"1\"/>\n",
       "<defs>\n",
       "  <clipPath id=\"clip932\">\n",
       "    <rect x=\"244\" y=\"47\" width=\"1869\" height=\"1377\"/>\n",
       "  </clipPath>\n",
       "</defs>\n",
       "<polyline clip-path=\"url(#clip932)\" style=\"stroke:#000000; stroke-width:2; stroke-opacity:0.1; fill:none\" points=\"\n",
       "  251.991,1423.18 251.991,47.2441 \n",
       "  \"/>\n",
       "<polyline clip-path=\"url(#clip932)\" style=\"stroke:#000000; stroke-width:2; stroke-opacity:0.1; fill:none\" points=\"\n",
       "  703.962,1423.18 703.962,47.2441 \n",
       "  \"/>\n",
       "<polyline clip-path=\"url(#clip932)\" style=\"stroke:#000000; stroke-width:2; stroke-opacity:0.1; fill:none\" points=\"\n",
       "  1155.93,1423.18 1155.93,47.2441 \n",
       "  \"/>\n",
       "<polyline clip-path=\"url(#clip932)\" style=\"stroke:#000000; stroke-width:2; stroke-opacity:0.1; fill:none\" points=\"\n",
       "  1607.9,1423.18 1607.9,47.2441 \n",
       "  \"/>\n",
       "<polyline clip-path=\"url(#clip932)\" style=\"stroke:#000000; stroke-width:2; stroke-opacity:0.1; fill:none\" points=\"\n",
       "  2059.88,1423.18 2059.88,47.2441 \n",
       "  \"/>\n",
       "<polyline clip-path=\"url(#clip932)\" style=\"stroke:#000000; stroke-width:2; stroke-opacity:0.1; fill:none\" points=\"\n",
       "  244.308,1384.24 2112.76,1384.24 \n",
       "  \"/>\n",
       "<polyline clip-path=\"url(#clip932)\" style=\"stroke:#000000; stroke-width:2; stroke-opacity:0.1; fill:none\" points=\"\n",
       "  244.308,1124.63 2112.76,1124.63 \n",
       "  \"/>\n",
       "<polyline clip-path=\"url(#clip932)\" style=\"stroke:#000000; stroke-width:2; stroke-opacity:0.1; fill:none\" points=\"\n",
       "  244.308,865.017 2112.76,865.017 \n",
       "  \"/>\n",
       "<polyline clip-path=\"url(#clip932)\" style=\"stroke:#000000; stroke-width:2; stroke-opacity:0.1; fill:none\" points=\"\n",
       "  244.308,605.407 2112.76,605.407 \n",
       "  \"/>\n",
       "<polyline clip-path=\"url(#clip932)\" style=\"stroke:#000000; stroke-width:2; stroke-opacity:0.1; fill:none\" points=\"\n",
       "  244.308,345.796 2112.76,345.796 \n",
       "  \"/>\n",
       "<polyline clip-path=\"url(#clip932)\" style=\"stroke:#000000; stroke-width:2; stroke-opacity:0.1; fill:none\" points=\"\n",
       "  244.308,86.1857 2112.76,86.1857 \n",
       "  \"/>\n",
       "<polyline clip-path=\"url(#clip930)\" style=\"stroke:#000000; stroke-width:4; stroke-opacity:1; fill:none\" points=\"\n",
       "  244.308,1423.18 2112.76,1423.18 \n",
       "  \"/>\n",
       "<polyline clip-path=\"url(#clip930)\" style=\"stroke:#000000; stroke-width:4; stroke-opacity:1; fill:none\" points=\"\n",
       "  244.308,1423.18 244.308,47.2441 \n",
       "  \"/>\n",
       "<polyline clip-path=\"url(#clip930)\" style=\"stroke:#000000; stroke-width:4; stroke-opacity:1; fill:none\" points=\"\n",
       "  251.991,1423.18 251.991,1406.67 \n",
       "  \"/>\n",
       "<polyline clip-path=\"url(#clip930)\" style=\"stroke:#000000; stroke-width:4; stroke-opacity:1; fill:none\" points=\"\n",
       "  703.962,1423.18 703.962,1406.67 \n",
       "  \"/>\n",
       "<polyline clip-path=\"url(#clip930)\" style=\"stroke:#000000; stroke-width:4; stroke-opacity:1; fill:none\" points=\"\n",
       "  1155.93,1423.18 1155.93,1406.67 \n",
       "  \"/>\n",
       "<polyline clip-path=\"url(#clip930)\" style=\"stroke:#000000; stroke-width:4; stroke-opacity:1; fill:none\" points=\"\n",
       "  1607.9,1423.18 1607.9,1406.67 \n",
       "  \"/>\n",
       "<polyline clip-path=\"url(#clip930)\" style=\"stroke:#000000; stroke-width:4; stroke-opacity:1; fill:none\" points=\"\n",
       "  2059.88,1423.18 2059.88,1406.67 \n",
       "  \"/>\n",
       "<polyline clip-path=\"url(#clip930)\" style=\"stroke:#000000; stroke-width:4; stroke-opacity:1; fill:none\" points=\"\n",
       "  244.308,1384.24 266.729,1384.24 \n",
       "  \"/>\n",
       "<polyline clip-path=\"url(#clip930)\" style=\"stroke:#000000; stroke-width:4; stroke-opacity:1; fill:none\" points=\"\n",
       "  244.308,1124.63 266.729,1124.63 \n",
       "  \"/>\n",
       "<polyline clip-path=\"url(#clip930)\" style=\"stroke:#000000; stroke-width:4; stroke-opacity:1; fill:none\" points=\"\n",
       "  244.308,865.017 266.729,865.017 \n",
       "  \"/>\n",
       "<polyline clip-path=\"url(#clip930)\" style=\"stroke:#000000; stroke-width:4; stroke-opacity:1; fill:none\" points=\"\n",
       "  244.308,605.407 266.729,605.407 \n",
       "  \"/>\n",
       "<polyline clip-path=\"url(#clip930)\" style=\"stroke:#000000; stroke-width:4; stroke-opacity:1; fill:none\" points=\"\n",
       "  244.308,345.796 266.729,345.796 \n",
       "  \"/>\n",
       "<polyline clip-path=\"url(#clip930)\" style=\"stroke:#000000; stroke-width:4; stroke-opacity:1; fill:none\" points=\"\n",
       "  244.308,86.1857 266.729,86.1857 \n",
       "  \"/>\n",
       "<path clip-path=\"url(#clip930)\" d=\"M 0 0 M251.991 1445.17 Q248.38 1445.17 246.551 1448.74 Q244.746 1452.28 244.746 1459.41 Q244.746 1466.51 246.551 1470.08 Q248.38 1473.62 251.991 1473.62 Q255.625 1473.62 257.431 1470.08 Q259.26 1466.51 259.26 1459.41 Q259.26 1452.28 257.431 1448.74 Q255.625 1445.17 251.991 1445.17 M251.991 1441.47 Q257.801 1441.47 260.857 1446.07 Q263.936 1450.66 263.936 1459.41 Q263.936 1468.13 260.857 1472.74 Q257.801 1477.32 251.991 1477.32 Q246.181 1477.32 243.102 1472.74 Q240.047 1468.13 240.047 1459.41 Q240.047 1450.66 243.102 1446.07 Q246.181 1441.47 251.991 1441.47 Z\" fill=\"#000000\" fill-rule=\"evenodd\" fill-opacity=\"1\" /><path clip-path=\"url(#clip930)\" d=\"M 0 0 M653.824 1472.72 L661.462 1472.72 L661.462 1446.35 L653.152 1448.02 L653.152 1443.76 L661.416 1442.09 L666.092 1442.09 L666.092 1472.72 L673.731 1472.72 L673.731 1476.65 L653.824 1476.65 L653.824 1472.72 Z\" fill=\"#000000\" fill-rule=\"evenodd\" fill-opacity=\"1\" /><path clip-path=\"url(#clip930)\" d=\"M 0 0 M688.8 1445.17 Q685.189 1445.17 683.36 1448.74 Q681.555 1452.28 681.555 1459.41 Q681.555 1466.51 683.36 1470.08 Q685.189 1473.62 688.8 1473.62 Q692.435 1473.62 694.24 1470.08 Q696.069 1466.51 696.069 1459.41 Q696.069 1452.28 694.24 1448.74 Q692.435 1445.17 688.8 1445.17 M688.8 1441.47 Q694.61 1441.47 697.666 1446.07 Q700.745 1450.66 700.745 1459.41 Q700.745 1468.13 697.666 1472.74 Q694.61 1477.32 688.8 1477.32 Q682.99 1477.32 679.911 1472.74 Q676.856 1468.13 676.856 1459.41 Q676.856 1450.66 679.911 1446.07 Q682.99 1441.47 688.8 1441.47 Z\" fill=\"#000000\" fill-rule=\"evenodd\" fill-opacity=\"1\" /><path clip-path=\"url(#clip930)\" d=\"M 0 0 M715.814 1445.17 Q712.203 1445.17 710.374 1448.74 Q708.569 1452.28 708.569 1459.41 Q708.569 1466.51 710.374 1470.08 Q712.203 1473.62 715.814 1473.62 Q719.448 1473.62 721.254 1470.08 Q723.082 1466.51 723.082 1459.41 Q723.082 1452.28 721.254 1448.74 Q719.448 1445.17 715.814 1445.17 M715.814 1441.47 Q721.624 1441.47 724.68 1446.07 Q727.758 1450.66 727.758 1459.41 Q727.758 1468.13 724.68 1472.74 Q721.624 1477.32 715.814 1477.32 Q710.004 1477.32 706.925 1472.74 Q703.87 1468.13 703.87 1459.41 Q703.87 1450.66 706.925 1446.07 Q710.004 1441.47 715.814 1441.47 Z\" fill=\"#000000\" fill-rule=\"evenodd\" fill-opacity=\"1\" /><path clip-path=\"url(#clip930)\" d=\"M 0 0 M742.828 1445.17 Q739.217 1445.17 737.388 1448.74 Q735.582 1452.28 735.582 1459.41 Q735.582 1466.51 737.388 1470.08 Q739.217 1473.62 742.828 1473.62 Q746.462 1473.62 748.268 1470.08 Q750.096 1466.51 750.096 1459.41 Q750.096 1452.28 748.268 1448.74 Q746.462 1445.17 742.828 1445.17 M742.828 1441.47 Q748.638 1441.47 751.693 1446.07 Q754.772 1450.66 754.772 1459.41 Q754.772 1468.13 751.693 1472.74 Q748.638 1477.32 742.828 1477.32 Q737.018 1477.32 733.939 1472.74 Q730.883 1468.13 730.883 1459.41 Q730.883 1450.66 733.939 1446.07 Q737.018 1441.47 742.828 1441.47 Z\" fill=\"#000000\" fill-rule=\"evenodd\" fill-opacity=\"1\" /><path clip-path=\"url(#clip930)\" d=\"M 0 0 M1110.07 1472.72 L1126.38 1472.72 L1126.38 1476.65 L1104.44 1476.65 L1104.44 1472.72 Q1107.1 1469.96 1111.69 1465.33 Q1116.29 1460.68 1117.47 1459.34 Q1119.72 1456.81 1120.6 1455.08 Q1121.5 1453.32 1121.5 1451.63 Q1121.5 1448.87 1119.56 1447.14 Q1117.63 1445.4 1114.53 1445.4 Q1112.33 1445.4 1109.88 1446.17 Q1107.45 1446.93 1104.67 1448.48 L1104.67 1443.76 Q1107.5 1442.62 1109.95 1442.05 Q1112.4 1441.47 1114.44 1441.47 Q1119.81 1441.47 1123.01 1444.15 Q1126.2 1446.84 1126.2 1451.33 Q1126.2 1453.46 1125.39 1455.38 Q1124.6 1457.28 1122.5 1459.87 Q1121.92 1460.54 1118.82 1463.76 Q1115.71 1466.95 1110.07 1472.72 Z\" fill=\"#000000\" fill-rule=\"evenodd\" fill-opacity=\"1\" /><path clip-path=\"url(#clip930)\" d=\"M 0 0 M1141.45 1445.17 Q1137.84 1445.17 1136.01 1448.74 Q1134.21 1452.28 1134.21 1459.41 Q1134.21 1466.51 1136.01 1470.08 Q1137.84 1473.62 1141.45 1473.62 Q1145.09 1473.62 1146.89 1470.08 Q1148.72 1466.51 1148.72 1459.41 Q1148.72 1452.28 1146.89 1448.74 Q1145.09 1445.17 1141.45 1445.17 M1141.45 1441.47 Q1147.26 1441.47 1150.32 1446.07 Q1153.4 1450.66 1153.4 1459.41 Q1153.4 1468.13 1150.32 1472.74 Q1147.26 1477.32 1141.45 1477.32 Q1135.64 1477.32 1132.57 1472.74 Q1129.51 1468.13 1129.51 1459.41 Q1129.51 1450.66 1132.57 1446.07 Q1135.64 1441.47 1141.45 1441.47 Z\" fill=\"#000000\" fill-rule=\"evenodd\" fill-opacity=\"1\" /><path clip-path=\"url(#clip930)\" d=\"M 0 0 M1168.47 1445.17 Q1164.86 1445.17 1163.03 1448.74 Q1161.22 1452.28 1161.22 1459.41 Q1161.22 1466.51 1163.03 1470.08 Q1164.86 1473.62 1168.47 1473.62 Q1172.1 1473.62 1173.91 1470.08 Q1175.74 1466.51 1175.74 1459.41 Q1175.74 1452.28 1173.91 1448.74 Q1172.1 1445.17 1168.47 1445.17 M1168.47 1441.47 Q1174.28 1441.47 1177.33 1446.07 Q1180.41 1450.66 1180.41 1459.41 Q1180.41 1468.13 1177.33 1472.74 Q1174.28 1477.32 1168.47 1477.32 Q1162.66 1477.32 1159.58 1472.74 Q1156.52 1468.13 1156.52 1459.41 Q1156.52 1450.66 1159.58 1446.07 Q1162.66 1441.47 1168.47 1441.47 Z\" fill=\"#000000\" fill-rule=\"evenodd\" fill-opacity=\"1\" /><path clip-path=\"url(#clip930)\" d=\"M 0 0 M1195.48 1445.17 Q1191.87 1445.17 1190.04 1448.74 Q1188.24 1452.28 1188.24 1459.41 Q1188.24 1466.51 1190.04 1470.08 Q1191.87 1473.62 1195.48 1473.62 Q1199.12 1473.62 1200.92 1470.08 Q1202.75 1466.51 1202.75 1459.41 Q1202.75 1452.28 1200.92 1448.74 Q1199.12 1445.17 1195.48 1445.17 M1195.48 1441.47 Q1201.29 1441.47 1204.35 1446.07 Q1207.43 1450.66 1207.43 1459.41 Q1207.43 1468.13 1204.35 1472.74 Q1201.29 1477.32 1195.48 1477.32 Q1189.67 1477.32 1186.59 1472.74 Q1183.54 1468.13 1183.54 1459.41 Q1183.54 1450.66 1186.59 1446.07 Q1189.67 1441.47 1195.48 1441.47 Z\" fill=\"#000000\" fill-rule=\"evenodd\" fill-opacity=\"1\" /><path clip-path=\"url(#clip930)\" d=\"M 0 0 M1571.63 1458.02 Q1574.99 1458.74 1576.86 1461 Q1578.76 1463.27 1578.76 1466.61 Q1578.76 1471.72 1575.24 1474.52 Q1571.72 1477.32 1565.24 1477.32 Q1563.07 1477.32 1560.75 1476.88 Q1558.46 1476.47 1556.01 1475.61 L1556.01 1471.1 Q1557.95 1472.23 1560.27 1472.81 Q1562.58 1473.39 1565.1 1473.39 Q1569.5 1473.39 1571.79 1471.65 Q1574.11 1469.92 1574.11 1466.61 Q1574.11 1463.55 1571.96 1461.84 Q1569.83 1460.1 1566.01 1460.1 L1561.98 1460.1 L1561.98 1456.26 L1566.19 1456.26 Q1569.64 1456.26 1571.47 1454.89 Q1573.3 1453.5 1573.3 1450.91 Q1573.3 1448.25 1571.4 1446.84 Q1569.52 1445.4 1566.01 1445.4 Q1564.09 1445.4 1561.89 1445.82 Q1559.69 1446.24 1557.05 1447.11 L1557.05 1442.95 Q1559.71 1442.21 1562.02 1441.84 Q1564.36 1441.47 1566.42 1441.47 Q1571.75 1441.47 1574.85 1443.9 Q1577.95 1446.3 1577.95 1450.43 Q1577.95 1453.3 1576.31 1455.29 Q1574.66 1457.25 1571.63 1458.02 Z\" fill=\"#000000\" fill-rule=\"evenodd\" fill-opacity=\"1\" /><path clip-path=\"url(#clip930)\" d=\"M 0 0 M1593.83 1445.17 Q1590.22 1445.17 1588.39 1448.74 Q1586.58 1452.28 1586.58 1459.41 Q1586.58 1466.51 1588.39 1470.08 Q1590.22 1473.62 1593.83 1473.62 Q1597.46 1473.62 1599.27 1470.08 Q1601.1 1466.51 1601.1 1459.41 Q1601.1 1452.28 1599.27 1448.74 Q1597.46 1445.17 1593.83 1445.17 M1593.83 1441.47 Q1599.64 1441.47 1602.7 1446.07 Q1605.77 1450.66 1605.77 1459.41 Q1605.77 1468.13 1602.7 1472.74 Q1599.64 1477.32 1593.83 1477.32 Q1588.02 1477.32 1584.94 1472.74 Q1581.89 1468.13 1581.89 1459.41 Q1581.89 1450.66 1584.94 1446.07 Q1588.02 1441.47 1593.83 1441.47 Z\" fill=\"#000000\" fill-rule=\"evenodd\" fill-opacity=\"1\" /><path clip-path=\"url(#clip930)\" d=\"M 0 0 M1620.84 1445.17 Q1617.23 1445.17 1615.4 1448.74 Q1613.6 1452.28 1613.6 1459.41 Q1613.6 1466.51 1615.4 1470.08 Q1617.23 1473.62 1620.84 1473.62 Q1624.48 1473.62 1626.28 1470.08 Q1628.11 1466.51 1628.11 1459.41 Q1628.11 1452.28 1626.28 1448.74 Q1624.48 1445.17 1620.84 1445.17 M1620.84 1441.47 Q1626.65 1441.47 1629.71 1446.07 Q1632.79 1450.66 1632.79 1459.41 Q1632.79 1468.13 1629.71 1472.74 Q1626.65 1477.32 1620.84 1477.32 Q1615.03 1477.32 1611.96 1472.74 Q1608.9 1468.13 1608.9 1459.41 Q1608.9 1450.66 1611.96 1446.07 Q1615.03 1441.47 1620.84 1441.47 Z\" fill=\"#000000\" fill-rule=\"evenodd\" fill-opacity=\"1\" /><path clip-path=\"url(#clip930)\" d=\"M 0 0 M1647.86 1445.17 Q1644.25 1445.17 1642.42 1448.74 Q1640.61 1452.28 1640.61 1459.41 Q1640.61 1466.51 1642.42 1470.08 Q1644.25 1473.62 1647.86 1473.62 Q1651.49 1473.62 1653.3 1470.08 Q1655.13 1466.51 1655.13 1459.41 Q1655.13 1452.28 1653.3 1448.74 Q1651.49 1445.17 1647.86 1445.17 M1647.86 1441.47 Q1653.67 1441.47 1656.72 1446.07 Q1659.8 1450.66 1659.8 1459.41 Q1659.8 1468.13 1656.72 1472.74 Q1653.67 1477.32 1647.86 1477.32 Q1642.05 1477.32 1638.97 1472.74 Q1635.91 1468.13 1635.91 1459.41 Q1635.91 1450.66 1638.97 1446.07 Q1642.05 1441.47 1647.86 1441.47 Z\" fill=\"#000000\" fill-rule=\"evenodd\" fill-opacity=\"1\" /><path clip-path=\"url(#clip930)\" d=\"M 0 0 M2022.36 1446.17 L2010.56 1464.61 L2022.36 1464.61 L2022.36 1446.17 M2021.14 1442.09 L2027.02 1442.09 L2027.02 1464.61 L2031.95 1464.61 L2031.95 1468.5 L2027.02 1468.5 L2027.02 1476.65 L2022.36 1476.65 L2022.36 1468.5 L2006.76 1468.5 L2006.76 1463.99 L2021.14 1442.09 Z\" fill=\"#000000\" fill-rule=\"evenodd\" fill-opacity=\"1\" /><path clip-path=\"url(#clip930)\" d=\"M 0 0 M2047.02 1445.17 Q2043.41 1445.17 2041.58 1448.74 Q2039.77 1452.28 2039.77 1459.41 Q2039.77 1466.51 2041.58 1470.08 Q2043.41 1473.62 2047.02 1473.62 Q2050.65 1473.62 2052.46 1470.08 Q2054.29 1466.51 2054.29 1459.41 Q2054.29 1452.28 2052.46 1448.74 Q2050.65 1445.17 2047.02 1445.17 M2047.02 1441.47 Q2052.83 1441.47 2055.88 1446.07 Q2058.96 1450.66 2058.96 1459.41 Q2058.96 1468.13 2055.88 1472.74 Q2052.83 1477.32 2047.02 1477.32 Q2041.21 1477.32 2038.13 1472.74 Q2035.07 1468.13 2035.07 1459.41 Q2035.07 1450.66 2038.13 1446.07 Q2041.21 1441.47 2047.02 1441.47 Z\" fill=\"#000000\" fill-rule=\"evenodd\" fill-opacity=\"1\" /><path clip-path=\"url(#clip930)\" d=\"M 0 0 M2074.03 1445.17 Q2070.42 1445.17 2068.59 1448.74 Q2066.78 1452.28 2066.78 1459.41 Q2066.78 1466.51 2068.59 1470.08 Q2070.42 1473.62 2074.03 1473.62 Q2077.66 1473.62 2079.47 1470.08 Q2081.3 1466.51 2081.3 1459.41 Q2081.3 1452.28 2079.47 1448.74 Q2077.66 1445.17 2074.03 1445.17 M2074.03 1441.47 Q2079.84 1441.47 2082.9 1446.07 Q2085.97 1450.66 2085.97 1459.41 Q2085.97 1468.13 2082.9 1472.74 Q2079.84 1477.32 2074.03 1477.32 Q2068.22 1477.32 2065.14 1472.74 Q2062.09 1468.13 2062.09 1459.41 Q2062.09 1450.66 2065.14 1446.07 Q2068.22 1441.47 2074.03 1441.47 Z\" fill=\"#000000\" fill-rule=\"evenodd\" fill-opacity=\"1\" /><path clip-path=\"url(#clip930)\" d=\"M 0 0 M2101.04 1445.17 Q2097.43 1445.17 2095.6 1448.74 Q2093.8 1452.28 2093.8 1459.41 Q2093.8 1466.51 2095.6 1470.08 Q2097.43 1473.62 2101.04 1473.62 Q2104.68 1473.62 2106.48 1470.08 Q2108.31 1466.51 2108.31 1459.41 Q2108.31 1452.28 2106.48 1448.74 Q2104.68 1445.17 2101.04 1445.17 M2101.04 1441.47 Q2106.85 1441.47 2109.91 1446.07 Q2112.99 1450.66 2112.99 1459.41 Q2112.99 1468.13 2109.91 1472.74 Q2106.85 1477.32 2101.04 1477.32 Q2095.23 1477.32 2092.16 1472.74 Q2089.1 1468.13 2089.1 1459.41 Q2089.1 1450.66 2092.16 1446.07 Q2095.23 1441.47 2101.04 1441.47 Z\" fill=\"#000000\" fill-rule=\"evenodd\" fill-opacity=\"1\" /><path clip-path=\"url(#clip930)\" d=\"M 0 0 M126.931 1404.03 L134.57 1404.03 L134.57 1377.67 L126.26 1379.33 L126.26 1375.07 L134.524 1373.41 L139.2 1373.41 L139.2 1404.03 L146.839 1404.03 L146.839 1407.97 L126.931 1407.97 L126.931 1404.03 Z\" fill=\"#000000\" fill-rule=\"evenodd\" fill-opacity=\"1\" /><path clip-path=\"url(#clip930)\" d=\"M 0 0 M161.908 1376.48 Q158.297 1376.48 156.468 1380.05 Q154.663 1383.59 154.663 1390.72 Q154.663 1397.83 156.468 1401.39 Q158.297 1404.93 161.908 1404.93 Q165.542 1404.93 167.348 1401.39 Q169.177 1397.83 169.177 1390.72 Q169.177 1383.59 167.348 1380.05 Q165.542 1376.48 161.908 1376.48 M161.908 1372.78 Q167.718 1372.78 170.774 1377.39 Q173.852 1381.97 173.852 1390.72 Q173.852 1399.45 170.774 1404.05 Q167.718 1408.64 161.908 1408.64 Q156.098 1408.64 153.019 1404.05 Q149.964 1399.45 149.964 1390.72 Q149.964 1381.97 153.019 1377.39 Q156.098 1372.78 161.908 1372.78 Z\" fill=\"#000000\" fill-rule=\"evenodd\" fill-opacity=\"1\" /><path clip-path=\"url(#clip930)\" d=\"M 0 0 M173.852 1366.88 L197.964 1366.88 L197.964 1370.08 L173.852 1370.08 L173.852 1366.88 Z\" fill=\"#000000\" fill-rule=\"evenodd\" fill-opacity=\"1\" /><path clip-path=\"url(#clip930)\" d=\"M 0 0 M212.521 1355.79 L202.929 1370.78 L212.521 1370.78 L212.521 1355.79 M211.524 1352.48 L216.302 1352.48 L216.302 1370.78 L220.308 1370.78 L220.308 1373.94 L216.302 1373.94 L216.302 1380.56 L212.521 1380.56 L212.521 1373.94 L199.845 1373.94 L199.845 1370.27 L211.524 1352.48 Z\" fill=\"#000000\" fill-rule=\"evenodd\" fill-opacity=\"1\" /><path clip-path=\"url(#clip930)\" d=\"M 0 0 M127.853 1144.42 L135.492 1144.42 L135.492 1118.05 L127.182 1119.72 L127.182 1115.46 L135.446 1113.8 L140.121 1113.8 L140.121 1144.42 L147.76 1144.42 L147.76 1148.36 L127.853 1148.36 L127.853 1144.42 Z\" fill=\"#000000\" fill-rule=\"evenodd\" fill-opacity=\"1\" /><path clip-path=\"url(#clip930)\" d=\"M 0 0 M162.83 1116.87 Q159.219 1116.87 157.39 1120.44 Q155.584 1123.98 155.584 1131.11 Q155.584 1138.22 157.39 1141.78 Q159.219 1145.32 162.83 1145.32 Q166.464 1145.32 168.269 1141.78 Q170.098 1138.22 170.098 1131.11 Q170.098 1123.98 168.269 1120.44 Q166.464 1116.87 162.83 1116.87 M162.83 1113.17 Q168.64 1113.17 171.695 1117.78 Q174.774 1122.36 174.774 1131.11 Q174.774 1139.84 171.695 1144.44 Q168.64 1149.03 162.83 1149.03 Q157.02 1149.03 153.941 1144.44 Q150.885 1139.84 150.885 1131.11 Q150.885 1122.36 153.941 1117.78 Q157.02 1113.17 162.83 1113.17 Z\" fill=\"#000000\" fill-rule=\"evenodd\" fill-opacity=\"1\" /><path clip-path=\"url(#clip930)\" d=\"M 0 0 M174.774 1107.27 L198.886 1107.27 L198.886 1110.47 L174.774 1110.47 L174.774 1107.27 Z\" fill=\"#000000\" fill-rule=\"evenodd\" fill-opacity=\"1\" /><path clip-path=\"url(#clip930)\" d=\"M 0 0 M214.515 1105.8 Q217.242 1106.39 218.765 1108.23 Q220.308 1110.07 220.308 1112.78 Q220.308 1116.94 217.449 1119.21 Q214.59 1121.49 209.324 1121.49 Q207.556 1121.49 205.675 1121.13 Q203.813 1120.79 201.82 1120.1 L201.82 1116.43 Q203.4 1117.35 205.28 1117.82 Q207.161 1118.29 209.211 1118.29 Q212.785 1118.29 214.647 1116.88 Q216.527 1115.47 216.527 1112.78 Q216.527 1110.3 214.778 1108.91 Q213.048 1107.5 209.945 1107.5 L206.672 1107.5 L206.672 1104.38 L210.095 1104.38 Q212.897 1104.38 214.383 1103.27 Q215.869 1102.14 215.869 1100.03 Q215.869 1097.87 214.327 1096.72 Q212.803 1095.55 209.945 1095.55 Q208.384 1095.55 206.597 1095.89 Q204.81 1096.23 202.666 1096.95 L202.666 1093.56 Q204.829 1092.96 206.71 1092.66 Q208.609 1092.36 210.283 1092.36 Q214.609 1092.36 217.129 1094.33 Q219.649 1096.29 219.649 1099.64 Q219.649 1101.97 218.314 1103.59 Q216.979 1105.18 214.515 1105.8 Z\" fill=\"#000000\" fill-rule=\"evenodd\" fill-opacity=\"1\" /><path clip-path=\"url(#clip930)\" d=\"M 0 0 M128.624 884.81 L136.263 884.81 L136.263 858.444 L127.953 860.111 L127.953 855.851 L136.217 854.185 L140.893 854.185 L140.893 884.81 L148.531 884.81 L148.531 888.745 L128.624 888.745 L128.624 884.81 Z\" fill=\"#000000\" fill-rule=\"evenodd\" fill-opacity=\"1\" /><path clip-path=\"url(#clip930)\" d=\"M 0 0 M163.601 857.264 Q159.99 857.264 158.161 860.828 Q156.355 864.37 156.355 871.5 Q156.355 878.606 158.161 882.171 Q159.99 885.712 163.601 885.712 Q167.235 885.712 169.041 882.171 Q170.869 878.606 170.869 871.5 Q170.869 864.37 169.041 860.828 Q167.235 857.264 163.601 857.264 M163.601 853.56 Q169.411 853.56 172.467 858.166 Q175.545 862.75 175.545 871.5 Q175.545 880.226 172.467 884.833 Q169.411 889.416 163.601 889.416 Q157.791 889.416 154.712 884.833 Q151.656 880.226 151.656 871.5 Q151.656 862.75 154.712 858.166 Q157.791 853.56 163.601 853.56 Z\" fill=\"#000000\" fill-rule=\"evenodd\" fill-opacity=\"1\" /><path clip-path=\"url(#clip930)\" d=\"M 0 0 M175.545 847.661 L199.657 847.661 L199.657 850.859 L175.545 850.859 L175.545 847.661 Z\" fill=\"#000000\" fill-rule=\"evenodd\" fill-opacity=\"1\" /><path clip-path=\"url(#clip930)\" d=\"M 0 0 M207.048 858.137 L220.308 858.137 L220.308 861.334 L202.478 861.334 L202.478 858.137 Q204.641 855.899 208.365 852.137 Q212.107 848.357 213.067 847.266 Q214.891 845.216 215.606 843.806 Q216.339 842.376 216.339 841.003 Q216.339 838.765 214.759 837.355 Q213.198 835.944 210.678 835.944 Q208.891 835.944 206.898 836.565 Q204.923 837.185 202.666 838.445 L202.666 834.609 Q204.961 833.687 206.954 833.217 Q208.948 832.747 210.603 832.747 Q214.966 832.747 217.562 834.928 Q220.157 837.11 220.157 840.759 Q220.157 842.489 219.499 844.05 Q218.859 845.592 217.148 847.699 Q216.678 848.244 214.158 850.859 Q211.637 853.454 207.048 858.137 Z\" fill=\"#000000\" fill-rule=\"evenodd\" fill-opacity=\"1\" /><path clip-path=\"url(#clip930)\" d=\"M 0 0 M128.323 625.199 L135.962 625.199 L135.962 598.834 L127.652 600.5 L127.652 596.241 L135.916 594.574 L140.592 594.574 L140.592 625.199 L148.231 625.199 L148.231 629.134 L128.323 629.134 L128.323 625.199 Z\" fill=\"#000000\" fill-rule=\"evenodd\" fill-opacity=\"1\" /><path clip-path=\"url(#clip930)\" d=\"M 0 0 M163.3 597.653 Q159.689 597.653 157.86 601.218 Q156.055 604.759 156.055 611.889 Q156.055 618.995 157.86 622.56 Q159.689 626.102 163.3 626.102 Q166.934 626.102 168.74 622.56 Q170.568 618.995 170.568 611.889 Q170.568 604.759 168.74 601.218 Q166.934 597.653 163.3 597.653 M163.3 593.949 Q169.11 593.949 172.166 598.556 Q175.244 603.139 175.244 611.889 Q175.244 620.616 172.166 625.222 Q169.11 629.806 163.3 629.806 Q157.49 629.806 154.411 625.222 Q151.356 620.616 151.356 611.889 Q151.356 603.139 154.411 598.556 Q157.49 593.949 163.3 593.949 Z\" fill=\"#000000\" fill-rule=\"evenodd\" fill-opacity=\"1\" /><path clip-path=\"url(#clip930)\" d=\"M 0 0 M175.244 588.051 L199.356 588.051 L199.356 591.248 L175.244 591.248 L175.244 588.051 Z\" fill=\"#000000\" fill-rule=\"evenodd\" fill-opacity=\"1\" /><path clip-path=\"url(#clip930)\" d=\"M 0 0 M204.133 598.527 L210.34 598.527 L210.34 577.105 L203.588 578.459 L203.588 574.998 L210.302 573.644 L214.101 573.644 L214.101 598.527 L220.308 598.527 L220.308 601.724 L204.133 601.724 L204.133 598.527 Z\" fill=\"#000000\" fill-rule=\"evenodd\" fill-opacity=\"1\" /><path clip-path=\"url(#clip930)\" d=\"M 0 0 M153.977 365.589 L161.616 365.589 L161.616 339.223 L153.306 340.89 L153.306 336.63 L161.57 334.964 L166.245 334.964 L166.245 365.589 L173.884 365.589 L173.884 369.524 L153.977 369.524 L153.977 365.589 Z\" fill=\"#000000\" fill-rule=\"evenodd\" fill-opacity=\"1\" /><path clip-path=\"url(#clip930)\" d=\"M 0 0 M188.954 338.042 Q185.343 338.042 183.514 341.607 Q181.708 345.149 181.708 352.279 Q181.708 359.385 183.514 362.95 Q185.343 366.491 188.954 366.491 Q192.588 366.491 194.393 362.95 Q196.222 359.385 196.222 352.279 Q196.222 345.149 194.393 341.607 Q192.588 338.042 188.954 338.042 M188.954 334.339 Q194.764 334.339 197.819 338.945 Q200.898 343.529 200.898 352.279 Q200.898 361.005 197.819 365.612 Q194.764 370.195 188.954 370.195 Q183.144 370.195 180.065 365.612 Q177.009 361.005 177.009 352.279 Q177.009 343.529 180.065 338.945 Q183.144 334.339 188.954 334.339 Z\" fill=\"#000000\" fill-rule=\"evenodd\" fill-opacity=\"1\" /><path clip-path=\"url(#clip930)\" d=\"M 0 0 M210.603 316.535 Q207.669 316.535 206.183 319.431 Q204.716 322.309 204.716 328.102 Q204.716 333.876 206.183 336.772 Q207.669 339.65 210.603 339.65 Q213.556 339.65 215.023 336.772 Q216.509 333.876 216.509 328.102 Q216.509 322.309 215.023 319.431 Q213.556 316.535 210.603 316.535 M210.603 313.526 Q215.324 313.526 217.806 317.268 Q220.308 320.992 220.308 328.102 Q220.308 335.192 217.806 338.935 Q215.324 342.659 210.603 342.659 Q205.882 342.659 203.381 338.935 Q200.898 335.192 200.898 328.102 Q200.898 320.992 203.381 317.268 Q205.882 313.526 210.603 313.526 Z\" fill=\"#000000\" fill-rule=\"evenodd\" fill-opacity=\"1\" /><path clip-path=\"url(#clip930)\" d=\"M 0 0 M156.667 105.978 L164.305 105.978 L164.305 79.6125 L155.995 81.2792 L155.995 77.0199 L164.259 75.3533 L168.935 75.3533 L168.935 105.978 L176.574 105.978 L176.574 109.913 L156.667 109.913 L156.667 105.978 Z\" fill=\"#000000\" fill-rule=\"evenodd\" fill-opacity=\"1\" /><path clip-path=\"url(#clip930)\" d=\"M 0 0 M191.643 78.432 Q188.032 78.432 186.203 81.9968 Q184.398 85.5384 184.398 92.668 Q184.398 99.7744 186.203 103.339 Q188.032 106.881 191.643 106.881 Q195.277 106.881 197.083 103.339 Q198.912 99.7744 198.912 92.668 Q198.912 85.5384 197.083 81.9968 Q195.277 78.432 191.643 78.432 M191.643 74.7283 Q197.453 74.7283 200.509 79.3347 Q203.588 83.918 203.588 92.668 Q203.588 101.395 200.509 106.001 Q197.453 110.585 191.643 110.585 Q185.833 110.585 182.754 106.001 Q179.699 101.395 179.699 92.668 Q179.699 83.918 182.754 79.3347 Q185.833 74.7283 191.643 74.7283 Z\" fill=\"#000000\" fill-rule=\"evenodd\" fill-opacity=\"1\" /><path clip-path=\"url(#clip930)\" d=\"M 0 0 M204.133 79.3056 L210.34 79.3056 L210.34 57.8835 L203.588 59.2377 L203.588 55.777 L210.302 54.4229 L214.101 54.4229 L214.101 79.3056 L220.308 79.3056 L220.308 82.5029 L204.133 82.5029 L204.133 79.3056 Z\" fill=\"#000000\" fill-rule=\"evenodd\" fill-opacity=\"1\" /><path clip-path=\"url(#clip930)\" d=\"M 0 0 M1108.81 1536.76 L1108.81 1539.62 L1081.88 1539.62 Q1082.27 1545.67 1085.51 1548.85 Q1088.79 1552 1094.62 1552 Q1097.99 1552 1101.14 1551.17 Q1104.32 1550.35 1107.44 1548.69 L1107.44 1554.23 Q1104.29 1555.57 1100.98 1556.27 Q1097.67 1556.97 1094.27 1556.97 Q1085.74 1556.97 1080.74 1552 Q1075.77 1547.04 1075.77 1538.57 Q1075.77 1529.82 1080.48 1524.69 Q1085.23 1519.54 1093.25 1519.54 Q1100.44 1519.54 1104.61 1524.18 Q1108.81 1528.8 1108.81 1536.76 M1102.95 1535.04 Q1102.89 1530.23 1100.25 1527.37 Q1097.64 1524.5 1093.31 1524.5 Q1088.41 1524.5 1085.45 1527.27 Q1082.52 1530.04 1082.08 1535.07 L1102.95 1535.04 Z\" fill=\"#000000\" fill-rule=\"evenodd\" fill-opacity=\"1\" /><path clip-path=\"url(#clip930)\" d=\"M 0 0 M1120.62 1550.7 L1120.62 1569.6 L1114.73 1569.6 L1114.73 1520.4 L1120.62 1520.4 L1120.62 1525.81 Q1122.47 1522.62 1125.27 1521.1 Q1128.1 1519.54 1132.01 1519.54 Q1138.51 1519.54 1142.55 1524.69 Q1146.62 1529.85 1146.62 1538.25 Q1146.62 1546.65 1142.55 1551.81 Q1138.51 1556.97 1132.01 1556.97 Q1128.1 1556.97 1125.27 1555.44 Q1122.47 1553.88 1120.62 1550.7 M1140.54 1538.25 Q1140.54 1531.79 1137.87 1528.13 Q1135.23 1524.44 1130.58 1524.44 Q1125.94 1524.44 1123.26 1528.13 Q1120.62 1531.79 1120.62 1538.25 Q1120.62 1544.71 1123.26 1548.4 Q1125.94 1552.07 1130.58 1552.07 Q1135.23 1552.07 1137.87 1548.4 Q1140.54 1544.71 1140.54 1538.25 Z\" fill=\"#000000\" fill-rule=\"evenodd\" fill-opacity=\"1\" /><path clip-path=\"url(#clip930)\" d=\"M 0 0 M1166.58 1524.5 Q1161.87 1524.5 1159.13 1528.19 Q1156.4 1531.85 1156.4 1538.25 Q1156.4 1544.65 1159.1 1548.34 Q1161.84 1552 1166.58 1552 Q1171.26 1552 1174 1548.31 Q1176.73 1544.62 1176.73 1538.25 Q1176.73 1531.92 1174 1528.23 Q1171.26 1524.5 1166.58 1524.5 M1166.58 1519.54 Q1174.22 1519.54 1178.58 1524.5 Q1182.94 1529.47 1182.94 1538.25 Q1182.94 1547 1178.58 1552 Q1174.22 1556.97 1166.58 1556.97 Q1158.91 1556.97 1154.55 1552 Q1150.22 1547 1150.22 1538.25 Q1150.22 1529.47 1154.55 1524.5 Q1158.91 1519.54 1166.58 1519.54 Z\" fill=\"#000000\" fill-rule=\"evenodd\" fill-opacity=\"1\" /><path clip-path=\"url(#clip930)\" d=\"M 0 0 M1214.74 1521.76 L1214.74 1527.24 Q1212.25 1525.87 1209.74 1525.2 Q1207.26 1524.5 1204.71 1524.5 Q1199.01 1524.5 1195.86 1528.13 Q1192.71 1531.73 1192.71 1538.25 Q1192.71 1544.78 1195.86 1548.4 Q1199.01 1552 1204.71 1552 Q1207.26 1552 1209.74 1551.33 Q1212.25 1550.63 1214.74 1549.26 L1214.74 1554.68 Q1212.29 1555.82 1209.64 1556.39 Q1207.03 1556.97 1204.07 1556.97 Q1196.02 1556.97 1191.28 1551.91 Q1186.54 1546.85 1186.54 1538.25 Q1186.54 1529.53 1191.31 1524.53 Q1196.12 1519.54 1204.46 1519.54 Q1207.16 1519.54 1209.74 1520.11 Q1212.32 1520.65 1214.74 1521.76 Z\" fill=\"#000000\" fill-rule=\"evenodd\" fill-opacity=\"1\" /><path clip-path=\"url(#clip930)\" d=\"M 0 0 M1250.51 1534.53 L1250.51 1556.04 L1244.66 1556.04 L1244.66 1534.72 Q1244.66 1529.66 1242.68 1527.14 Q1240.71 1524.63 1236.76 1524.63 Q1232.02 1524.63 1229.28 1527.65 Q1226.55 1530.68 1226.55 1535.9 L1226.55 1556.04 L1220.66 1556.04 L1220.66 1506.52 L1226.55 1506.52 L1226.55 1525.93 Q1228.65 1522.72 1231.48 1521.13 Q1234.34 1519.54 1238.07 1519.54 Q1244.21 1519.54 1247.36 1523.36 Q1250.51 1527.14 1250.51 1534.53 Z\" fill=\"#000000\" fill-rule=\"evenodd\" fill-opacity=\"1\" /><path clip-path=\"url(#clip930)\" d=\"M 0 0 M1279.38 1521.45 L1279.38 1526.98 Q1276.9 1525.71 1274.22 1525.07 Q1271.55 1524.44 1268.69 1524.44 Q1264.33 1524.44 1262.13 1525.77 Q1259.97 1527.11 1259.97 1529.79 Q1259.97 1531.82 1261.52 1533 Q1263.08 1534.15 1267.79 1535.2 L1269.8 1535.64 Q1276.04 1536.98 1278.65 1539.43 Q1281.29 1541.85 1281.29 1546.21 Q1281.29 1551.17 1277.34 1554.07 Q1273.43 1556.97 1266.55 1556.97 Q1263.69 1556.97 1260.57 1556.39 Q1257.48 1555.85 1254.04 1554.74 L1254.04 1548.69 Q1257.29 1550.38 1260.44 1551.24 Q1263.59 1552.07 1266.68 1552.07 Q1270.82 1552.07 1273.05 1550.66 Q1275.27 1549.23 1275.27 1546.65 Q1275.27 1544.27 1273.65 1542.99 Q1272.06 1541.72 1266.62 1540.54 L1264.58 1540.07 Q1259.14 1538.92 1256.72 1536.56 Q1254.3 1534.18 1254.3 1530.04 Q1254.3 1525.01 1257.86 1522.27 Q1261.43 1519.54 1267.99 1519.54 Q1271.23 1519.54 1274.1 1520.01 Q1276.96 1520.49 1279.38 1521.45 Z\" fill=\"#000000\" fill-rule=\"evenodd\" fill-opacity=\"1\" /><path clip-path=\"url(#clip930)\" d=\"M 0 0 M38.479 837.779 L38.479 831.923 L88.0042 831.923 L88.0042 837.779 L38.479 837.779 Z\" fill=\"#000000\" fill-rule=\"evenodd\" fill-opacity=\"1\" /><path clip-path=\"url(#clip930)\" d=\"M 0 0 M70.0847 809.579 Q70.0847 816.677 71.7079 819.414 Q73.3312 822.152 77.2461 822.152 Q80.3653 822.152 82.2114 820.115 Q84.0256 818.046 84.0256 814.513 Q84.0256 809.643 80.5881 806.715 Q77.1188 803.755 71.3897 803.755 L70.0847 803.755 L70.0847 809.579 M67.6657 797.898 L88.0042 797.898 L88.0042 803.755 L82.5933 803.755 Q85.8398 805.76 87.3994 808.752 Q88.9272 811.744 88.9272 816.072 Q88.9272 821.547 85.8716 824.793 Q82.7843 828.008 77.6281 828.008 Q71.6125 828.008 68.5569 823.998 Q65.5014 819.955 65.5014 811.966 L65.5014 803.755 L64.9285 803.755 Q60.8862 803.755 58.6901 806.428 Q56.4621 809.07 56.4621 813.876 Q56.4621 816.932 57.1941 819.828 Q57.9262 822.725 59.3903 825.398 L53.9795 825.398 Q52.7381 822.183 52.1334 819.16 Q51.4968 816.136 51.4968 813.271 Q51.4968 805.537 55.5072 801.718 Q59.5176 797.898 67.6657 797.898 Z\" fill=\"#000000\" fill-rule=\"evenodd\" fill-opacity=\"1\" /><path clip-path=\"url(#clip930)\" d=\"M 0 0 M59.1993 764.001 Q55.2526 761.805 53.3747 758.749 Q51.4968 755.694 51.4968 751.556 Q51.4968 745.986 55.4117 742.962 Q59.2948 739.939 66.4881 739.939 L88.0042 739.939 L88.0042 745.827 L66.679 745.827 Q61.5546 745.827 59.072 747.641 Q56.5894 749.455 56.5894 753.179 Q56.5894 757.731 59.6131 760.372 Q62.6368 763.014 67.8567 763.014 L88.0042 763.014 L88.0042 768.902 L66.679 768.902 Q61.5228 768.902 59.072 770.717 Q56.5894 772.531 56.5894 776.319 Q56.5894 780.806 59.6449 783.448 Q62.6686 786.09 67.8567 786.09 L88.0042 786.09 L88.0042 791.978 L52.3562 791.978 L52.3562 786.09 L57.8944 786.09 Q54.616 784.085 53.0564 781.284 Q51.4968 778.483 51.4968 774.632 Q51.4968 770.749 53.4702 768.043 Q55.4436 765.306 59.1993 764.001 Z\" fill=\"#000000\" fill-rule=\"evenodd\" fill-opacity=\"1\" /><path clip-path=\"url(#clip930)\" d=\"M 0 0 M70.212 708.205 Q63.7508 708.205 60.0905 710.879 Q56.3984 713.521 56.3984 718.168 Q56.3984 722.815 60.0905 725.488 Q63.7508 728.13 70.212 728.13 Q76.6732 728.13 80.3653 725.488 Q84.0256 722.815 84.0256 718.168 Q84.0256 713.521 80.3653 710.879 Q76.6732 708.205 70.212 708.205 M57.7671 728.13 Q54.5842 726.284 53.0564 723.483 Q51.4968 720.65 51.4968 716.736 Q51.4968 710.242 56.6531 706.2 Q61.8093 702.126 70.212 702.126 Q78.6147 702.126 83.771 706.2 Q88.9272 710.242 88.9272 716.736 Q88.9272 720.65 87.3994 723.483 Q85.8398 726.284 82.657 728.13 L88.0042 728.13 L88.0042 734.018 L38.479 734.018 L38.479 728.13 L57.7671 728.13 Z\" fill=\"#000000\" fill-rule=\"evenodd\" fill-opacity=\"1\" /><path clip-path=\"url(#clip930)\" d=\"M 0 0 M57.7671 672.526 L38.479 672.526 L38.479 666.669 L88.0042 666.669 L88.0042 672.526 L82.657 672.526 Q85.8398 674.372 87.3994 677.204 Q88.9272 680.005 88.9272 683.952 Q88.9272 690.413 83.771 694.487 Q78.6147 698.53 70.212 698.53 Q61.8093 698.53 56.6531 694.487 Q51.4968 690.413 51.4968 683.952 Q51.4968 680.005 53.0564 677.204 Q54.5842 674.372 57.7671 672.526 M70.212 692.482 Q76.6732 692.482 80.3653 689.84 Q84.0256 687.167 84.0256 682.52 Q84.0256 677.873 80.3653 675.199 Q76.6732 672.526 70.212 672.526 Q63.7508 672.526 60.0905 675.199 Q56.3984 677.873 56.3984 682.52 Q56.3984 687.167 60.0905 689.84 Q63.7508 692.482 70.212 692.482 Z\" fill=\"#000000\" fill-rule=\"evenodd\" fill-opacity=\"1\" /><path clip-path=\"url(#clip930)\" d=\"M 0 0 M70.0847 644.326 Q70.0847 651.423 71.7079 654.161 Q73.3312 656.898 77.2461 656.898 Q80.3653 656.898 82.2114 654.861 Q84.0256 652.792 84.0256 649.259 Q84.0256 644.389 80.5881 641.461 Q77.1188 638.501 71.3897 638.501 L70.0847 638.501 L70.0847 644.326 M67.6657 632.645 L88.0042 632.645 L88.0042 638.501 L82.5933 638.501 Q85.8398 640.506 87.3994 643.498 Q88.9272 646.49 88.9272 650.819 Q88.9272 656.293 85.8716 659.54 Q82.7843 662.754 77.6281 662.754 Q71.6125 662.754 68.5569 658.744 Q65.5014 654.702 65.5014 646.713 L65.5014 638.501 L64.9285 638.501 Q60.8862 638.501 58.6901 641.175 Q56.4621 643.816 56.4621 648.622 Q56.4621 651.678 57.1941 654.574 Q57.9262 657.471 59.3903 660.144 L53.9795 660.144 Q52.7381 656.93 52.1334 653.906 Q51.4968 650.882 51.4968 648.018 Q51.4968 640.283 55.5072 636.464 Q59.5176 632.645 67.6657 632.645 Z\" fill=\"#000000\" fill-rule=\"evenodd\" fill-opacity=\"1\" /><circle clip-path=\"url(#clip932)\" cx=\"2059.88\" cy=\"518.87\" r=\"33\" fill=\"#c23a4f\" fill-rule=\"evenodd\" fill-opacity=\"1\" stroke=\"#000000\" stroke-opacity=\"1\" stroke-width=\"3.2\"/>\n",
       "<circle clip-path=\"url(#clip932)\" cx=\"1178.53\" cy=\"518.87\" r=\"36\" fill=\"#d44841\" fill-rule=\"evenodd\" fill-opacity=\"1\" stroke=\"#000000\" stroke-opacity=\"1\" stroke-width=\"3.2\"/>\n",
       "<circle clip-path=\"url(#clip932)\" cx=\"590.969\" cy=\"951.554\" r=\"25\" fill=\"#89226a\" fill-rule=\"evenodd\" fill-opacity=\"1\" stroke=\"#000000\" stroke-opacity=\"1\" stroke-width=\"3.2\"/>\n",
       "<circle clip-path=\"url(#clip932)\" cx=\"1178.53\" cy=\"735.212\" r=\"30\" fill=\"#ae305b\" fill-rule=\"evenodd\" fill-opacity=\"1\" stroke=\"#000000\" stroke-opacity=\"1\" stroke-width=\"3.2\"/>\n",
       "<circle clip-path=\"url(#clip932)\" cx=\"1766.09\" cy=\"1167.9\" r=\"61\" fill=\"#fcfea4\" fill-rule=\"evenodd\" fill-opacity=\"1\" stroke=\"#000000\" stroke-opacity=\"1\" stroke-width=\"3.2\"/>\n",
       "<circle clip-path=\"url(#clip932)\" cx=\"297.188\" cy=\"302.528\" r=\"51\" fill=\"#fbae12\" fill-rule=\"evenodd\" fill-opacity=\"1\" stroke=\"#000000\" stroke-opacity=\"1\" stroke-width=\"3.2\"/>\n",
       "<circle clip-path=\"url(#clip932)\" cx=\"2059.88\" cy=\"1167.9\" r=\"34\" fill=\"#c33b4e\" fill-rule=\"evenodd\" fill-opacity=\"1\" stroke=\"#000000\" stroke-opacity=\"1\" stroke-width=\"3.2\"/>\n",
       "<circle clip-path=\"url(#clip932)\" cx=\"2059.88\" cy=\"951.554\" r=\"11\" fill=\"#270b53\" fill-rule=\"evenodd\" fill-opacity=\"1\" stroke=\"#000000\" stroke-opacity=\"1\" stroke-width=\"3.2\"/>\n",
       "<circle clip-path=\"url(#clip932)\" cx=\"590.969\" cy=\"518.87\" r=\"48\" fill=\"#fb9b06\" fill-rule=\"evenodd\" fill-opacity=\"1\" stroke=\"#000000\" stroke-opacity=\"1\" stroke-width=\"3.2\"/>\n",
       "<circle clip-path=\"url(#clip932)\" cx=\"1178.53\" cy=\"1384.24\" r=\"20\" fill=\"#65156e\" fill-rule=\"evenodd\" fill-opacity=\"1\" stroke=\"#000000\" stroke-opacity=\"1\" stroke-width=\"3.2\"/>\n",
       "<circle clip-path=\"url(#clip932)\" cx=\"590.969\" cy=\"302.528\" r=\"21\" fill=\"#6e186e\" fill-rule=\"evenodd\" fill-opacity=\"1\" stroke=\"#000000\" stroke-opacity=\"1\" stroke-width=\"3.2\"/>\n",
       "<circle clip-path=\"url(#clip932)\" cx=\"2059.88\" cy=\"735.212\" r=\"20\" fill=\"#65156e\" fill-rule=\"evenodd\" fill-opacity=\"1\" stroke=\"#000000\" stroke-opacity=\"1\" stroke-width=\"3.2\"/>\n",
       "<circle clip-path=\"url(#clip932)\" cx=\"2059.88\" cy=\"302.528\" r=\"18\" fill=\"#550f6d\" fill-rule=\"evenodd\" fill-opacity=\"1\" stroke=\"#000000\" stroke-opacity=\"1\" stroke-width=\"3.2\"/>\n",
       "<circle clip-path=\"url(#clip932)\" cx=\"1472.31\" cy=\"86.1857\" r=\"38\" fill=\"#da4f3b\" fill-rule=\"evenodd\" fill-opacity=\"1\" stroke=\"#000000\" stroke-opacity=\"1\" stroke-width=\"3.2\"/>\n",
       "<circle clip-path=\"url(#clip932)\" cx=\"297.188\" cy=\"735.212\" r=\"43\" fill=\"#f06f20\" fill-rule=\"evenodd\" fill-opacity=\"1\" stroke=\"#000000\" stroke-opacity=\"1\" stroke-width=\"3.2\"/>\n",
       "<circle clip-path=\"url(#clip932)\" cx=\"884.751\" cy=\"302.528\" r=\"11\" fill=\"#240b4e\" fill-rule=\"evenodd\" fill-opacity=\"1\" stroke=\"#000000\" stroke-opacity=\"1\" stroke-width=\"3.2\"/>\n",
       "<circle clip-path=\"url(#clip932)\" cx=\"1766.09\" cy=\"302.528\" r=\"26\" fill=\"#922567\" fill-rule=\"evenodd\" fill-opacity=\"1\" stroke=\"#000000\" stroke-opacity=\"1\" stroke-width=\"3.2\"/>\n",
       "<circle clip-path=\"url(#clip932)\" cx=\"1766.09\" cy=\"951.554\" r=\"32\" fill=\"#b83556\" fill-rule=\"evenodd\" fill-opacity=\"1\" stroke=\"#000000\" stroke-opacity=\"1\" stroke-width=\"3.2\"/>\n",
       "<circle clip-path=\"url(#clip932)\" cx=\"297.188\" cy=\"951.554\" r=\"44\" fill=\"#f37818\" fill-rule=\"evenodd\" fill-opacity=\"1\" stroke=\"#000000\" stroke-opacity=\"1\" stroke-width=\"3.2\"/>\n",
       "<circle clip-path=\"url(#clip932)\" cx=\"1472.31\" cy=\"1384.24\" r=\"35\" fill=\"#cc4248\" fill-rule=\"evenodd\" fill-opacity=\"1\" stroke=\"#000000\" stroke-opacity=\"1\" stroke-width=\"3.2\"/>\n",
       "<circle clip-path=\"url(#clip932)\" cx=\"884.751\" cy=\"1167.9\" r=\"3\" fill=\"#000003\" fill-rule=\"evenodd\" fill-opacity=\"1\" stroke=\"#000000\" stroke-opacity=\"1\" stroke-width=\"3.2\"/>\n",
       "<circle clip-path=\"url(#clip932)\" cx=\"884.751\" cy=\"1384.24\" r=\"20\" fill=\"#66156e\" fill-rule=\"evenodd\" fill-opacity=\"1\" stroke=\"#000000\" stroke-opacity=\"1\" stroke-width=\"3.2\"/>\n",
       "<circle clip-path=\"url(#clip932)\" cx=\"590.969\" cy=\"1167.9\" r=\"35\" fill=\"#ce4346\" fill-rule=\"evenodd\" fill-opacity=\"1\" stroke=\"#000000\" stroke-opacity=\"1\" stroke-width=\"3.2\"/>\n",
       "<circle clip-path=\"url(#clip932)\" cx=\"884.751\" cy=\"951.554\" r=\"17\" fill=\"#4f0d6c\" fill-rule=\"evenodd\" fill-opacity=\"1\" stroke=\"#000000\" stroke-opacity=\"1\" stroke-width=\"3.2\"/>\n",
       "<circle clip-path=\"url(#clip932)\" cx=\"590.969\" cy=\"735.212\" r=\"23\" fill=\"#7d1e6c\" fill-rule=\"evenodd\" fill-opacity=\"1\" stroke=\"#000000\" stroke-opacity=\"1\" stroke-width=\"3.2\"/>\n",
       "<circle clip-path=\"url(#clip932)\" cx=\"1472.31\" cy=\"1167.9\" r=\"31\" fill=\"#b1315a\" fill-rule=\"evenodd\" fill-opacity=\"1\" stroke=\"#000000\" stroke-opacity=\"1\" stroke-width=\"3.2\"/>\n",
       "<circle clip-path=\"url(#clip932)\" cx=\"1766.09\" cy=\"518.87\" r=\"18\" fill=\"#5a116d\" fill-rule=\"evenodd\" fill-opacity=\"1\" stroke=\"#000000\" stroke-opacity=\"1\" stroke-width=\"3.2\"/>\n",
       "<circle clip-path=\"url(#clip932)\" cx=\"1472.31\" cy=\"735.212\" r=\"17\" fill=\"#530e6d\" fill-rule=\"evenodd\" fill-opacity=\"1\" stroke=\"#000000\" stroke-opacity=\"1\" stroke-width=\"3.2\"/>\n",
       "<circle clip-path=\"url(#clip932)\" cx=\"1472.31\" cy=\"951.554\" r=\"28\" fill=\"#9f2a62\" fill-rule=\"evenodd\" fill-opacity=\"1\" stroke=\"#000000\" stroke-opacity=\"1\" stroke-width=\"3.2\"/>\n",
       "<circle clip-path=\"url(#clip932)\" cx=\"1472.31\" cy=\"518.87\" r=\"33\" fill=\"#c13a4f\" fill-rule=\"evenodd\" fill-opacity=\"1\" stroke=\"#000000\" stroke-opacity=\"1\" stroke-width=\"3.2\"/>\n",
       "<circle clip-path=\"url(#clip932)\" cx=\"1766.09\" cy=\"735.212\" r=\"19\" fill=\"#5c126e\" fill-rule=\"evenodd\" fill-opacity=\"1\" stroke=\"#000000\" stroke-opacity=\"1\" stroke-width=\"3.2\"/>\n",
       "<circle clip-path=\"url(#clip932)\" cx=\"1178.53\" cy=\"951.554\" r=\"41\" fill=\"#ea6428\" fill-rule=\"evenodd\" fill-opacity=\"1\" stroke=\"#000000\" stroke-opacity=\"1\" stroke-width=\"3.2\"/>\n",
       "<circle clip-path=\"url(#clip932)\" cx=\"1178.53\" cy=\"302.528\" r=\"16\" fill=\"#4b0c6b\" fill-rule=\"evenodd\" fill-opacity=\"1\" stroke=\"#000000\" stroke-opacity=\"1\" stroke-width=\"3.2\"/>\n",
       "<circle clip-path=\"url(#clip932)\" cx=\"1178.53\" cy=\"1167.9\" r=\"31\" fill=\"#b23259\" fill-rule=\"evenodd\" fill-opacity=\"1\" stroke=\"#000000\" stroke-opacity=\"1\" stroke-width=\"3.2\"/>\n",
       "<circle clip-path=\"url(#clip932)\" cx=\"2059.88\" cy=\"86.1857\" r=\"48\" fill=\"#fb9b06\" fill-rule=\"evenodd\" fill-opacity=\"1\" stroke=\"#000000\" stroke-opacity=\"1\" stroke-width=\"3.2\"/>\n",
       "<circle clip-path=\"url(#clip932)\" cx=\"297.188\" cy=\"1167.9\" r=\"49\" fill=\"#fba007\" fill-rule=\"evenodd\" fill-opacity=\"1\" stroke=\"#000000\" stroke-opacity=\"1\" stroke-width=\"3.2\"/>\n",
       "<circle clip-path=\"url(#clip932)\" cx=\"884.751\" cy=\"86.1857\" r=\"48\" fill=\"#fb9b06\" fill-rule=\"evenodd\" fill-opacity=\"1\" stroke=\"#000000\" stroke-opacity=\"1\" stroke-width=\"3.2\"/>\n",
       "<circle clip-path=\"url(#clip932)\" cx=\"590.969\" cy=\"1384.24\" r=\"40\" fill=\"#e75f2c\" fill-rule=\"evenodd\" fill-opacity=\"1\" stroke=\"#000000\" stroke-opacity=\"1\" stroke-width=\"3.2\"/>\n",
       "<circle clip-path=\"url(#clip932)\" cx=\"297.188\" cy=\"518.87\" r=\"50\" fill=\"#fbab10\" fill-rule=\"evenodd\" fill-opacity=\"1\" stroke=\"#000000\" stroke-opacity=\"1\" stroke-width=\"3.2\"/>\n",
       "<circle clip-path=\"url(#clip932)\" cx=\"1472.31\" cy=\"302.528\" r=\"25\" fill=\"#892269\" fill-rule=\"evenodd\" fill-opacity=\"1\" stroke=\"#000000\" stroke-opacity=\"1\" stroke-width=\"3.2\"/>\n",
       "<circle clip-path=\"url(#clip932)\" cx=\"1178.53\" cy=\"86.1857\" r=\"31\" fill=\"#b1325a\" fill-rule=\"evenodd\" fill-opacity=\"1\" stroke=\"#000000\" stroke-opacity=\"1\" stroke-width=\"3.2\"/>\n",
       "<circle clip-path=\"url(#clip932)\" cx=\"297.188\" cy=\"86.1857\" r=\"39\" fill=\"#df5336\" fill-rule=\"evenodd\" fill-opacity=\"1\" stroke=\"#000000\" stroke-opacity=\"1\" stroke-width=\"3.2\"/>\n",
       "<circle clip-path=\"url(#clip932)\" cx=\"297.188\" cy=\"1384.24\" r=\"48\" fill=\"#fa9706\" fill-rule=\"evenodd\" fill-opacity=\"1\" stroke=\"#000000\" stroke-opacity=\"1\" stroke-width=\"3.2\"/>\n",
       "<circle clip-path=\"url(#clip932)\" cx=\"884.751\" cy=\"518.87\" r=\"31\" fill=\"#b43358\" fill-rule=\"evenodd\" fill-opacity=\"1\" stroke=\"#000000\" stroke-opacity=\"1\" stroke-width=\"3.2\"/>\n",
       "<circle clip-path=\"url(#clip932)\" cx=\"590.969\" cy=\"86.1857\" r=\"48\" fill=\"#fb9a06\" fill-rule=\"evenodd\" fill-opacity=\"1\" stroke=\"#000000\" stroke-opacity=\"1\" stroke-width=\"3.2\"/>\n",
       "<circle clip-path=\"url(#clip932)\" cx=\"884.751\" cy=\"735.212\" r=\"23\" fill=\"#791c6d\" fill-rule=\"evenodd\" fill-opacity=\"1\" stroke=\"#000000\" stroke-opacity=\"1\" stroke-width=\"3.2\"/>\n",
       "<circle clip-path=\"url(#clip932)\" cx=\"1766.09\" cy=\"86.1857\" r=\"23\" fill=\"#7c1d6c\" fill-rule=\"evenodd\" fill-opacity=\"1\" stroke=\"#000000\" stroke-opacity=\"1\" stroke-width=\"3.2\"/>\n",
       "<circle clip-path=\"url(#clip932)\" cx=\"2059.88\" cy=\"1384.24\" r=\"48\" fill=\"#fb9b06\" fill-rule=\"evenodd\" fill-opacity=\"1\" stroke=\"#000000\" stroke-opacity=\"1\" stroke-width=\"3.2\"/>\n",
       "<circle clip-path=\"url(#clip932)\" cx=\"1766.09\" cy=\"1384.24\" r=\"17\" fill=\"#500d6c\" fill-rule=\"evenodd\" fill-opacity=\"1\" stroke=\"#000000\" stroke-opacity=\"1\" stroke-width=\"3.2\"/>\n",
       "<defs>\n",
       "  <clipPath id=\"clip933\">\n",
       "    <rect x=\"2160\" y=\"47\" width=\"73\" height=\"1377\"/>\n",
       "  </clipPath>\n",
       "</defs>\n",
       "<g clip-path=\"url(#clip933)\">\n",
       "<image width=\"72\" height=\"1376\" xlink:href=\"data:image/png;base64,\n",
       "iVBORw0KGgoAAAANSUhEUgAAAEgAAAVgCAYAAADsKhu7AAAL6UlEQVR4nO3dwZEjNxBFQVBR/lsh\n",
       "L6UFZIHqHclDpgUTL35wCXTP7Off+/c7/K+/vv0D/DqBgkBBoCBQmPv+/fbP8NMsKAgUBAoChXnv\n",
       "z7d/hp9mQUGgIFAQKAgUHDWCBQWBgkBBoDDPh/TKgoJAQaAgUJh3fUhvLCgIFAQKAgWBgqNGsKAg\n",
       "UBAoCBR8SAcLCgIFgYJAwX1QsKAgUBAoCBQECnMcNVYWFAQKAgWBgvugYEFBoCBQECgIFOa4MFtZ\n",
       "UBAoCBQECnPuP9/+GX6aBQWBgkBBoODSPlhQECgIFAQKAgX3QcGCgkBBoCBQ8CEdLCgIFAQKAgX3\n",
       "QcGCgkBBoCBQECjMx1FjZUFBoCBQECjMuf5XhI0FBYGCQEGgIFBw1AgWFAQKAgWBgqNGsKAgUBAo\n",
       "CBS8HxQsKAgUBAoCBYHCfBw1VhYUBAoCBYGCt1yDBQWBgkBBoOCbdLCgIFAQKAgUBAoePQcLCgIF\n",
       "gYJAwVEjWFAQKAgUBAoCBUeNYEFBoCBQECg4agQLCgIFgYJAYc693/4ZfpoFBYGCQEGgIFBw1AgW\n",
       "FAQKAgWBgkv7YEFBoCBQECj4kA4WFAQKAgWBgkBhPp5qrCwoCBQECgIFR41gQUGgIFAQKAgUvEAV\n",
       "LCgIFAQKAgX3QcGCgkBBoCBQcB8ULCgIFAQKAgWBgvugYEFBoCBQECj4kA4WFAQKAgWBgl/qDRYU\n",
       "BAoCBYGCQMFRI1hQECgIFAQKPqSDBQWBgkBBoCBQ8K9YsKAgUBAoCBR8SAcLCgIFgYJAYc7zIb2x\n",
       "oCBQECgIFAQKjhrBgoJAQaAgUPAhHSwoCBQECgIFH9LBgoJAQaAgUBAozLnv2z/DT7OgIFAQKAgU\n",
       "HDWCBQWBgkBBoCBQcNQIFhQECgIFgYKjRrCgIFAQKAgUfJMOFhQECgIFgYJAYY6TxsqCgkBBoCBQ\n",
       "mPMcNTYWFAQKAgWBgm/SwYKCQEGgIFAQKPhXLFhQECgIFAQK44/g7SwoCBQECgIFgYKjRrCgIFAQ\n",
       "KAgUfEgHCwoCBYGCQGHO/Xz7Z/hpFhQECgIFgYJAYd7zr9jGgoJAQaAgUHAfFCwoCBQECgIF90HB\n",
       "goJAQaAgUBAozLsabdQJAgWBgkDBUSNYUBAoCBQECgKFOR49rywoCBQECgKFeY4aKwsKAgWBgkBh\n",
       "jkv7lTpBoCBQECgIFBw1ggUFgYJAQaDg0j5YUBAoCBQECl7iDOoEgYJAQaAgUPCWa7CgIFAQKAgU\n",
       "XNoHCwoCBYGCQEGgMO9ptFEnCBQECgIF90HBgoJAQaAgUHAfFCwoCBQECgIFgcIc90ErdYJAQaAg\n",
       "UHDUCBYUBAoCBYGCD+lgQUGgIFAQKAgU/NZzsKAgUBAoCBT81nNQJwgUBAoCBYHCPEeNlQUFgYJA\n",
       "QaDgqUawoCBQECgIFPyvCEGdIFAQKAgUBArug4IFBYGCQEGg4D4oWFAQKAgUBAq+SQcLCgIFgYJA\n",
       "QaDgLdegThAoCBQECo4awYKCQEGgIFAQKHiqESwoCBQECgIFR41gQUGgIFAQKPiva4IFBYGCQEGg\n",
       "IFDwv2QGdYJAQaAgUHAfFCwoCBQECgIFT1aDBQWBgkBBoCBQcNQIFhQECgIFgcJcH9IrCwoCBYGC\n",
       "QEGg4LeegzpBoCBQECi4DwoWFAQKAgWBgg/pYEFBoCBQECgIFLxAFSwoCBQECgIFR41gQUGgIFAQ\n",
       "KPiQDhYUBAoCBYGCQMGfpgjqBIGCQEGgMNel/cqCgkBBoCBQECi4MAsWFAQKAgWBgg/pYEFBoCBQ\n",
       "ECj4kA4WFAQKAgWBgkDBH1gKFhQECgIFgYKjRrCgIFAQKAgUfEgHCwoCBYGCQEGg4FcRgjpBoCBQ\n",
       "ECj4VYRgQUGgIFAQKAgUXJgFCwoCBYGCQMGHdLCgIFAQKAgUvMQZLCgIFAQKAgWBgqNGsKAgUBAo\n",
       "CBTmHR/SGwsKAgWBgkDBfVCwoCBQECgIFAQK7oOCBQWBgkBBoOCoESwoCBQECgIFgYKjRrCgIFAQ\n",
       "KAgUHDWCBQWBgkBBoOCbdLCgIFAQKAgUBAr+FQsWFAQKAgWBwly/irCyoCBQECgIFHyTDhYUBAoC\n",
       "BYGCQMGj52BBQaAgUBAozHvf/hF+mwUFgYJAQaAgUHDUCBYUBAoCBYGCv4IXLCgIFAQKAgXfpIMF\n",
       "BYGCQEGgIFDwAlWwoCBQECgIFPwqQrCgIFAQKAgUvB8ULCgIFAQKAgWBgqcawYKCQEGgIFBwaR8s\n",
       "KAgUBAoCBYGCpxrBgoJAQaAgUHAfFCwoCBQECgIFj56DBQWBgkBBoCBQcB8ULCgIFAQKAgWPnoMF\n",
       "BYGCQEGgMPfbP8GPs6AgUBAoCBQECo4awYKCQEGgIFDwflCwoCBQECgIFAQKLsyCBQWBgkBBoOA+\n",
       "KFhQECgIFAQKvkkHCwoCBYGCQEGg4KgRLCgIFAQKAgWPnoMFBYGCQEGgMP4yxc6CgkBBoCBQECg4\n",
       "agQLCgIFgYJAwaPnYEFBoCBQECgIFDx6DhYUBAoCBYGCo0awoCBQECgIFHyTDhYUBAoCBYGCQGGu\n",
       "N6hWFhQECgIFgYL7oGBBQaAgUBAouA8KFhQECgIFgYJAwVEjWFAQKAgUBArzXNqvLCgIFAQKAgWB\n",
       "wtzjwmxjQUGgIFAQKHg/KFhQECgIFAQK/gpesKAgUBAoCBQECv4KXrCgIFAQKAgUPHoOFhQECgIF\n",
       "gYKXOIMFBYGCQEGgIFDwC3XBgoJAQaAgUHDUCBYUBAoCBYGCQMFbrsGCgkBBoCBQ8JZrsKAgUBAo\n",
       "CBR8kw4WFAQKAgWBgkDBW67BgoJAQaAgUPD3g4IFBYGCQEGg4D4oWFAQKAgUBAoCBY+egwUFgYJA\n",
       "QaDgqBEsKAgUBAoCBYGCo0awoCBQECgIFBw1ggUFgYJAQaDgQzpYUBAoCBQECgIF90HBgoJAQaAg\n",
       "UHDUCBYUBAoCBYGCb9LBgoJAQaAgUBAoOGoECwoCBYGCQMHfDwoWFAQKAgWBgkDB/+0TLCgIFAQK\n",
       "AgX3QcGCgkBBoCBQmHd8Sm8sKAgUBAoCBYGCo0awoCBQECgIFDx6DhYUBAoCBYGCJ6vBgoJAQaAg\n",
       "UBAouA8KFhQECgIFgYJHz8GCgkBBoCBQECg4agQLCgIFgYJAwR9YChYUBAoCBYHCXC8IrSwoCBQE\n",
       "CgIFgYIXqIIFBYGCQEGgMM9RY2VBQaAgUBAo+CYdLCgIFAQKAgWBgqcawYKCQEGgIFDwflCwoCBQ\n",
       "ECgIFAQKc/1C3cqCgkBBoCBQcB8ULCgIFAQKAgV/miJYUBAoCBQECgIFL1AFCwoCBYGCQMGlfbCg\n",
       "IFAQKAgU3AcFCwoCBYGCQEGgMPe4EdpYUBAoCBQECu6DggUFgYJAQaAgUPCvWLCgIFAQKAgUPNUI\n",
       "FhQECgIFgYJL+2BBQaAgUBAoCBTmfhw1NhYUBAoCBYGCo0awoCBQECgIFOb5kF5ZUBAoCBQECgIF\n",
       "R41gQUGgIFAQKMz9+JDeWFAQKAgUBAoCBUeNYEFBoCBQECh4qhEsKAgUBAoCBd+kgwUFgYJAQaAg\n",
       "UPCvWLCgIFAQKAgUPHoOFhQECgIFgcK88+fbP8NPs6AgUBAoCBQECu6DggUFgYJAQaDg/aBgQUGg\n",
       "IFAQKAgU5j4XZhsLCgIFgYJAwVEjWFAQKAgUBApzPXpeWVAQKAgUBAoCBUeNYEFBoCBQECg4agQL\n",
       "CgIFgYJAYd7zTXpjQUGgIFAQKAgU3AcFCwoCBYGCQMFLnMGCgkBBoCBQECg4agQLCgIFgYJAYZ6j\n",
       "xsqCgkBBoCBQ8E06WFAQKAgUBAoChbleoFpZUBAoCBQECv7gdrCgIFAQKAgU/CpCsKAgUBAoCBQE\n",
       "Cp5qBAsKAgWBgkDBUSNYUBAoCBQECgIF/4oFCwoCBYGCQMGj52BBQaAgUBAo+CYdLCgIFAQKAgWB\n",
       "whyPnlcWFAQKAgWBgqNGsKAgUBAoCBS8xBksKAgUBAoCBYHCHEeNlQUFgYJAQaDg/aBgQUGgIFAQ\n",
       "KAgUPHoOFhQECgIFgYL7oGBBQaAgUBAozDvv2z/DT7OgIFAQKAgUBArug4IFBYGCQEGgMMdRY2VB\n",
       "QaAgUBAo/AdhU+3PqlcPeQAAAABJRU5ErkJggg==\n",
       "\" transform=\"translate(2161, 47)\"/>\n",
       "</g>\n",
       "<path clip-path=\"url(#clip930)\" d=\"M 0 0 M2280.7 1286.21 Q2277.09 1286.21 2275.26 1289.77 Q2273.45 1293.32 2273.45 1300.44 Q2273.45 1307.55 2275.26 1311.12 Q2277.09 1314.66 2280.7 1314.66 Q2284.33 1314.66 2286.14 1311.12 Q2287.97 1307.55 2287.97 1300.44 Q2287.97 1293.32 2286.14 1289.77 Q2284.33 1286.21 2280.7 1286.21 M2280.7 1282.5 Q2286.51 1282.5 2289.57 1287.11 Q2292.64 1291.69 2292.64 1300.44 Q2292.64 1309.17 2289.57 1313.78 Q2286.51 1318.36 2280.7 1318.36 Q2274.89 1318.36 2271.81 1313.78 Q2268.76 1309.17 2268.76 1300.44 Q2268.76 1291.69 2271.81 1287.11 Q2274.89 1282.5 2280.7 1282.5 Z\" fill=\"#000000\" fill-rule=\"evenodd\" fill-opacity=\"1\" /><path clip-path=\"url(#clip930)\" d=\"M 0 0 M2297.71 1311.81 L2302.6 1311.81 L2302.6 1317.69 L2297.71 1317.69 L2297.71 1311.81 Z\" fill=\"#000000\" fill-rule=\"evenodd\" fill-opacity=\"1\" /><path clip-path=\"url(#clip930)\" d=\"M 0 0 M2318.25 1298.55 Q2315.1 1298.55 2313.25 1300.7 Q2311.42 1302.85 2311.42 1306.6 Q2311.42 1310.33 2313.25 1312.5 Q2315.1 1314.66 2318.25 1314.66 Q2321.39 1314.66 2323.22 1312.5 Q2325.08 1310.33 2325.08 1306.6 Q2325.08 1302.85 2323.22 1300.7 Q2321.39 1298.55 2318.25 1298.55 M2327.53 1283.89 L2327.53 1288.15 Q2325.77 1287.32 2323.96 1286.88 Q2322.18 1286.44 2320.42 1286.44 Q2315.79 1286.44 2313.34 1289.57 Q2310.91 1292.69 2310.56 1299.01 Q2311.93 1297 2313.99 1295.93 Q2316.05 1294.84 2318.52 1294.84 Q2323.73 1294.84 2326.74 1298.01 Q2329.77 1301.16 2329.77 1306.6 Q2329.77 1311.93 2326.63 1315.14 Q2323.48 1318.36 2318.25 1318.36 Q2312.25 1318.36 2309.08 1313.78 Q2305.91 1309.17 2305.91 1300.44 Q2305.91 1292.25 2309.8 1287.39 Q2313.69 1282.5 2320.24 1282.5 Q2322 1282.5 2323.78 1282.85 Q2325.58 1283.2 2327.53 1283.89 Z\" fill=\"#000000\" fill-rule=\"evenodd\" fill-opacity=\"1\" /><path clip-path=\"url(#clip930)\" d=\"M 0 0 M2335.65 1313.75 L2343.29 1313.75 L2343.29 1287.39 L2334.98 1289.06 L2334.98 1284.8 L2343.25 1283.13 L2347.92 1283.13 L2347.92 1313.75 L2355.56 1313.75 L2355.56 1317.69 L2335.65 1317.69 L2335.65 1313.75 Z\" fill=\"#000000\" fill-rule=\"evenodd\" fill-opacity=\"1\" /><path clip-path=\"url(#clip930)\" d=\"M 0 0 M2280.7 1051.98 Q2277.09 1051.98 2275.26 1055.54 Q2273.45 1059.08 2273.45 1066.21 Q2273.45 1073.32 2275.26 1076.88 Q2277.09 1080.43 2280.7 1080.43 Q2284.33 1080.43 2286.14 1076.88 Q2287.97 1073.32 2287.97 1066.21 Q2287.97 1059.08 2286.14 1055.54 Q2284.33 1051.98 2280.7 1051.98 M2280.7 1048.27 Q2286.51 1048.27 2289.57 1052.88 Q2292.64 1057.46 2292.64 1066.21 Q2292.64 1074.94 2289.57 1079.55 Q2286.51 1084.13 2280.7 1084.13 Q2274.89 1084.13 2271.81 1079.55 Q2268.76 1074.94 2268.76 1066.21 Q2268.76 1057.46 2271.81 1052.88 Q2274.89 1048.27 2280.7 1048.27 Z\" fill=\"#000000\" fill-rule=\"evenodd\" fill-opacity=\"1\" /><path clip-path=\"url(#clip930)\" d=\"M 0 0 M2297.71 1077.58 L2302.6 1077.58 L2302.6 1083.46 L2297.71 1083.46 L2297.71 1077.58 Z\" fill=\"#000000\" fill-rule=\"evenodd\" fill-opacity=\"1\" /><path clip-path=\"url(#clip930)\" d=\"M 0 0 M2318.25 1064.31 Q2315.1 1064.31 2313.25 1066.47 Q2311.42 1068.62 2311.42 1072.37 Q2311.42 1076.1 2313.25 1078.27 Q2315.1 1080.43 2318.25 1080.43 Q2321.39 1080.43 2323.22 1078.27 Q2325.08 1076.1 2325.08 1072.37 Q2325.08 1068.62 2323.22 1066.47 Q2321.39 1064.31 2318.25 1064.31 M2327.53 1049.66 L2327.53 1053.92 Q2325.77 1053.09 2323.96 1052.65 Q2322.18 1052.21 2320.42 1052.21 Q2315.79 1052.21 2313.34 1055.33 Q2310.91 1058.46 2310.56 1064.78 Q2311.93 1062.76 2313.99 1061.7 Q2316.05 1060.61 2318.52 1060.61 Q2323.73 1060.61 2326.74 1063.78 Q2329.77 1066.93 2329.77 1072.37 Q2329.77 1077.69 2326.63 1080.91 Q2323.48 1084.13 2318.25 1084.13 Q2312.25 1084.13 2309.08 1079.55 Q2305.91 1074.94 2305.91 1066.21 Q2305.91 1058.02 2309.8 1053.16 Q2313.69 1048.27 2320.24 1048.27 Q2322 1048.27 2323.78 1048.62 Q2325.58 1048.97 2327.53 1049.66 Z\" fill=\"#000000\" fill-rule=\"evenodd\" fill-opacity=\"1\" /><path clip-path=\"url(#clip930)\" d=\"M 0 0 M2338.87 1079.52 L2355.19 1079.52 L2355.19 1083.46 L2333.25 1083.46 L2333.25 1079.52 Q2335.91 1076.77 2340.49 1072.14 Q2345.1 1067.49 2346.28 1066.14 Q2348.52 1063.62 2349.4 1061.88 Q2350.31 1060.13 2350.31 1058.44 Q2350.31 1055.68 2348.36 1053.94 Q2346.44 1052.21 2343.34 1052.21 Q2341.14 1052.21 2338.69 1052.97 Q2336.26 1053.74 2333.48 1055.29 L2333.48 1050.56 Q2336.3 1049.43 2338.76 1048.85 Q2341.21 1048.27 2343.25 1048.27 Q2348.62 1048.27 2351.81 1050.96 Q2355.01 1053.64 2355.01 1058.13 Q2355.01 1060.26 2354.2 1062.19 Q2353.41 1064.08 2351.3 1066.68 Q2350.72 1067.35 2347.62 1070.56 Q2344.52 1073.76 2338.87 1079.52 Z\" fill=\"#000000\" fill-rule=\"evenodd\" fill-opacity=\"1\" /><path clip-path=\"url(#clip930)\" d=\"M 0 0 M2280.7 817.745 Q2277.09 817.745 2275.26 821.31 Q2273.45 824.852 2273.45 831.981 Q2273.45 839.088 2275.26 842.653 Q2277.09 846.194 2280.7 846.194 Q2284.33 846.194 2286.14 842.653 Q2287.97 839.088 2287.97 831.981 Q2287.97 824.852 2286.14 821.31 Q2284.33 817.745 2280.7 817.745 M2280.7 814.042 Q2286.51 814.042 2289.57 818.648 Q2292.64 823.231 2292.64 831.981 Q2292.64 840.708 2289.57 845.315 Q2286.51 849.898 2280.7 849.898 Q2274.89 849.898 2271.81 845.315 Q2268.76 840.708 2268.76 831.981 Q2268.76 823.231 2271.81 818.648 Q2274.89 814.042 2280.7 814.042 Z\" fill=\"#000000\" fill-rule=\"evenodd\" fill-opacity=\"1\" /><path clip-path=\"url(#clip930)\" d=\"M 0 0 M2297.71 843.347 L2302.6 843.347 L2302.6 849.227 L2297.71 849.227 L2297.71 843.347 Z\" fill=\"#000000\" fill-rule=\"evenodd\" fill-opacity=\"1\" /><path clip-path=\"url(#clip930)\" d=\"M 0 0 M2318.25 830.083 Q2315.1 830.083 2313.25 832.236 Q2311.42 834.389 2311.42 838.139 Q2311.42 841.866 2313.25 844.041 Q2315.1 846.194 2318.25 846.194 Q2321.39 846.194 2323.22 844.041 Q2325.08 841.866 2325.08 838.139 Q2325.08 834.389 2323.22 832.236 Q2321.39 830.083 2318.25 830.083 M2327.53 815.43 L2327.53 819.69 Q2325.77 818.856 2323.96 818.417 Q2322.18 817.977 2320.42 817.977 Q2315.79 817.977 2313.34 821.102 Q2310.91 824.227 2310.56 830.546 Q2311.93 828.532 2313.99 827.467 Q2316.05 826.38 2318.52 826.38 Q2323.73 826.38 2326.74 829.551 Q2329.77 832.699 2329.77 838.139 Q2329.77 843.463 2326.63 846.68 Q2323.48 849.898 2318.25 849.898 Q2312.25 849.898 2309.08 845.315 Q2305.91 840.708 2305.91 831.981 Q2305.91 823.787 2309.8 818.926 Q2313.69 814.042 2320.24 814.042 Q2322 814.042 2323.78 814.389 Q2325.58 814.736 2327.53 815.43 Z\" fill=\"#000000\" fill-rule=\"evenodd\" fill-opacity=\"1\" /><path clip-path=\"url(#clip930)\" d=\"M 0 0 M2349.01 830.592 Q2352.37 831.31 2354.24 833.579 Q2356.14 835.847 2356.14 839.18 Q2356.14 844.296 2352.62 847.097 Q2349.1 849.898 2342.62 849.898 Q2340.45 849.898 2338.13 849.458 Q2335.84 849.041 2333.39 848.185 L2333.39 843.671 Q2335.33 844.805 2337.64 845.384 Q2339.96 845.963 2342.48 845.963 Q2346.88 845.963 2349.17 844.227 Q2351.49 842.491 2351.49 839.18 Q2351.49 836.125 2349.33 834.412 Q2347.2 832.676 2343.39 832.676 L2339.36 832.676 L2339.36 828.833 L2343.57 828.833 Q2347.02 828.833 2348.85 827.467 Q2350.68 826.079 2350.68 823.486 Q2350.68 820.824 2348.78 819.412 Q2346.9 817.977 2343.39 817.977 Q2341.46 817.977 2339.26 818.393 Q2337.07 818.81 2334.43 819.69 L2334.43 815.523 Q2337.09 814.782 2339.4 814.412 Q2341.74 814.042 2343.8 814.042 Q2349.13 814.042 2352.23 816.472 Q2355.33 818.88 2355.33 823 Q2355.33 825.87 2353.69 827.861 Q2352.04 829.829 2349.01 830.592 Z\" fill=\"#000000\" fill-rule=\"evenodd\" fill-opacity=\"1\" /><path clip-path=\"url(#clip930)\" d=\"M 0 0 M2280.7 583.514 Q2277.09 583.514 2275.26 587.078 Q2273.45 590.62 2273.45 597.75 Q2273.45 604.856 2275.26 608.421 Q2277.09 611.963 2280.7 611.963 Q2284.33 611.963 2286.14 608.421 Q2287.97 604.856 2287.97 597.75 Q2287.97 590.62 2286.14 587.078 Q2284.33 583.514 2280.7 583.514 M2280.7 579.81 Q2286.51 579.81 2289.57 584.416 Q2292.64 589 2292.64 597.75 Q2292.64 606.476 2289.57 611.083 Q2286.51 615.666 2280.7 615.666 Q2274.89 615.666 2271.81 611.083 Q2268.76 606.476 2268.76 597.75 Q2268.76 589 2271.81 584.416 Q2274.89 579.81 2280.7 579.81 Z\" fill=\"#000000\" fill-rule=\"evenodd\" fill-opacity=\"1\" /><path clip-path=\"url(#clip930)\" d=\"M 0 0 M2297.71 609.115 L2302.6 609.115 L2302.6 614.995 L2297.71 614.995 L2297.71 609.115 Z\" fill=\"#000000\" fill-rule=\"evenodd\" fill-opacity=\"1\" /><path clip-path=\"url(#clip930)\" d=\"M 0 0 M2318.25 595.852 Q2315.1 595.852 2313.25 598.004 Q2311.42 600.157 2311.42 603.907 Q2311.42 607.634 2313.25 609.81 Q2315.1 611.963 2318.25 611.963 Q2321.39 611.963 2323.22 609.81 Q2325.08 607.634 2325.08 603.907 Q2325.08 600.157 2323.22 598.004 Q2321.39 595.852 2318.25 595.852 M2327.53 581.199 L2327.53 585.458 Q2325.77 584.625 2323.96 584.185 Q2322.18 583.745 2320.42 583.745 Q2315.79 583.745 2313.34 586.87 Q2310.91 589.995 2310.56 596.315 Q2311.93 594.301 2313.99 593.236 Q2316.05 592.148 2318.52 592.148 Q2323.73 592.148 2326.74 595.319 Q2329.77 598.467 2329.77 603.907 Q2329.77 609.231 2326.63 612.449 Q2323.48 615.666 2318.25 615.666 Q2312.25 615.666 2309.08 611.083 Q2305.91 606.476 2305.91 597.75 Q2305.91 589.555 2309.8 584.694 Q2313.69 579.81 2320.24 579.81 Q2322 579.81 2323.78 580.157 Q2325.58 580.504 2327.53 581.199 Z\" fill=\"#000000\" fill-rule=\"evenodd\" fill-opacity=\"1\" /><path clip-path=\"url(#clip930)\" d=\"M 0 0 M2347.69 584.509 L2335.89 602.958 L2347.69 602.958 L2347.69 584.509 M2346.46 580.435 L2352.34 580.435 L2352.34 602.958 L2357.27 602.958 L2357.27 606.847 L2352.34 606.847 L2352.34 614.995 L2347.69 614.995 L2347.69 606.847 L2332.09 606.847 L2332.09 602.333 L2346.46 580.435 Z\" fill=\"#000000\" fill-rule=\"evenodd\" fill-opacity=\"1\" /><path clip-path=\"url(#clip930)\" d=\"M 0 0 M2280.7 349.282 Q2277.09 349.282 2275.26 352.847 Q2273.45 356.388 2273.45 363.518 Q2273.45 370.624 2275.26 374.189 Q2277.09 377.731 2280.7 377.731 Q2284.33 377.731 2286.14 374.189 Q2287.97 370.624 2287.97 363.518 Q2287.97 356.388 2286.14 352.847 Q2284.33 349.282 2280.7 349.282 M2280.7 345.578 Q2286.51 345.578 2289.57 350.185 Q2292.64 354.768 2292.64 363.518 Q2292.64 372.245 2289.57 376.851 Q2286.51 381.435 2280.7 381.435 Q2274.89 381.435 2271.81 376.851 Q2268.76 372.245 2268.76 363.518 Q2268.76 354.768 2271.81 350.185 Q2274.89 345.578 2280.7 345.578 Z\" fill=\"#000000\" fill-rule=\"evenodd\" fill-opacity=\"1\" /><path clip-path=\"url(#clip930)\" d=\"M 0 0 M2297.71 374.884 L2302.6 374.884 L2302.6 380.763 L2297.71 380.763 L2297.71 374.884 Z\" fill=\"#000000\" fill-rule=\"evenodd\" fill-opacity=\"1\" /><path clip-path=\"url(#clip930)\" d=\"M 0 0 M2318.25 361.62 Q2315.1 361.62 2313.25 363.773 Q2311.42 365.925 2311.42 369.675 Q2311.42 373.402 2313.25 375.578 Q2315.1 377.731 2318.25 377.731 Q2321.39 377.731 2323.22 375.578 Q2325.08 373.402 2325.08 369.675 Q2325.08 365.925 2323.22 363.773 Q2321.39 361.62 2318.25 361.62 M2327.53 346.967 L2327.53 351.226 Q2325.77 350.393 2323.96 349.953 Q2322.18 349.513 2320.42 349.513 Q2315.79 349.513 2313.34 352.638 Q2310.91 355.763 2310.56 362.083 Q2311.93 360.069 2313.99 359.004 Q2316.05 357.916 2318.52 357.916 Q2323.73 357.916 2326.74 361.088 Q2329.77 364.236 2329.77 369.675 Q2329.77 374.999 2326.63 378.217 Q2323.48 381.435 2318.25 381.435 Q2312.25 381.435 2309.08 376.851 Q2305.91 372.245 2305.91 363.518 Q2305.91 355.324 2309.8 350.463 Q2313.69 345.578 2320.24 345.578 Q2322 345.578 2323.78 345.926 Q2325.58 346.273 2327.53 346.967 Z\" fill=\"#000000\" fill-rule=\"evenodd\" fill-opacity=\"1\" /><path clip-path=\"url(#clip930)\" d=\"M 0 0 M2334.89 346.203 L2353.25 346.203 L2353.25 350.138 L2339.17 350.138 L2339.17 358.611 Q2340.19 358.263 2341.21 358.101 Q2342.23 357.916 2343.25 357.916 Q2349.03 357.916 2352.41 361.088 Q2355.79 364.259 2355.79 369.675 Q2355.79 375.254 2352.32 378.356 Q2348.85 381.435 2342.53 381.435 Q2340.35 381.435 2338.08 381.064 Q2335.84 380.694 2333.43 379.953 L2333.43 375.254 Q2335.51 376.388 2337.74 376.944 Q2339.96 377.499 2342.44 377.499 Q2346.44 377.499 2348.78 375.393 Q2351.12 373.287 2351.12 369.675 Q2351.12 366.064 2348.78 363.958 Q2346.44 361.851 2342.44 361.851 Q2340.56 361.851 2338.69 362.268 Q2336.83 362.685 2334.89 363.564 L2334.89 346.203 Z\" fill=\"#000000\" fill-rule=\"evenodd\" fill-opacity=\"1\" /><path clip-path=\"url(#clip930)\" d=\"M 0 0 M2280.7 115.05 Q2277.09 115.05 2275.26 118.615 Q2273.45 122.157 2273.45 129.286 Q2273.45 136.393 2275.26 139.958 Q2277.09 143.499 2280.7 143.499 Q2284.33 143.499 2286.14 139.958 Q2287.97 136.393 2287.97 129.286 Q2287.97 122.157 2286.14 118.615 Q2284.33 115.05 2280.7 115.05 M2280.7 111.347 Q2286.51 111.347 2289.57 115.953 Q2292.64 120.536 2292.64 129.286 Q2292.64 138.013 2289.57 142.62 Q2286.51 147.203 2280.7 147.203 Q2274.89 147.203 2271.81 142.62 Q2268.76 138.013 2268.76 129.286 Q2268.76 120.536 2271.81 115.953 Q2274.89 111.347 2280.7 111.347 Z\" fill=\"#000000\" fill-rule=\"evenodd\" fill-opacity=\"1\" /><path clip-path=\"url(#clip930)\" d=\"M 0 0 M2297.71 140.652 L2302.6 140.652 L2302.6 146.532 L2297.71 146.532 L2297.71 140.652 Z\" fill=\"#000000\" fill-rule=\"evenodd\" fill-opacity=\"1\" /><path clip-path=\"url(#clip930)\" d=\"M 0 0 M2318.25 127.388 Q2315.1 127.388 2313.25 129.541 Q2311.42 131.694 2311.42 135.444 Q2311.42 139.171 2313.25 141.347 Q2315.1 143.499 2318.25 143.499 Q2321.39 143.499 2323.22 141.347 Q2325.08 139.171 2325.08 135.444 Q2325.08 131.694 2323.22 129.541 Q2321.39 127.388 2318.25 127.388 M2327.53 112.736 L2327.53 116.995 Q2325.77 116.161 2323.96 115.722 Q2322.18 115.282 2320.42 115.282 Q2315.79 115.282 2313.34 118.407 Q2310.91 121.532 2310.56 127.851 Q2311.93 125.837 2313.99 124.773 Q2316.05 123.685 2318.52 123.685 Q2323.73 123.685 2326.74 126.856 Q2329.77 130.004 2329.77 135.444 Q2329.77 140.768 2326.63 143.985 Q2323.48 147.203 2318.25 147.203 Q2312.25 147.203 2309.08 142.62 Q2305.91 138.013 2305.91 129.286 Q2305.91 121.092 2309.8 116.231 Q2313.69 111.347 2320.24 111.347 Q2322 111.347 2323.78 111.694 Q2325.58 112.041 2327.53 112.736 Z\" fill=\"#000000\" fill-rule=\"evenodd\" fill-opacity=\"1\" /><path clip-path=\"url(#clip930)\" d=\"M 0 0 M2345.42 127.388 Q2342.27 127.388 2340.42 129.541 Q2338.59 131.694 2338.59 135.444 Q2338.59 139.171 2340.42 141.347 Q2342.27 143.499 2345.42 143.499 Q2348.57 143.499 2350.4 141.347 Q2352.25 139.171 2352.25 135.444 Q2352.25 131.694 2350.4 129.541 Q2348.57 127.388 2345.42 127.388 M2354.7 112.736 L2354.7 116.995 Q2352.95 116.161 2351.14 115.722 Q2349.36 115.282 2347.6 115.282 Q2342.97 115.282 2340.51 118.407 Q2338.08 121.532 2337.74 127.851 Q2339.1 125.837 2341.16 124.773 Q2343.22 123.685 2345.7 123.685 Q2350.91 123.685 2353.92 126.856 Q2356.95 130.004 2356.95 135.444 Q2356.95 140.768 2353.8 143.985 Q2350.65 147.203 2345.42 147.203 Q2339.43 147.203 2336.26 142.62 Q2333.08 138.013 2333.08 129.286 Q2333.08 121.092 2336.97 116.231 Q2340.86 111.347 2347.41 111.347 Q2349.17 111.347 2350.95 111.694 Q2352.76 112.041 2354.7 112.736 Z\" fill=\"#000000\" fill-rule=\"evenodd\" fill-opacity=\"1\" /><polyline clip-path=\"url(#clip930)\" style=\"stroke:#000000; stroke-width:4; stroke-opacity:1; fill:none\" points=\"\n",
       "  2232.76,1423.18 2232.76,1304.04 2256.76,1304.04 2232.76,1304.04 2232.76,1069.81 2256.76,1069.81 2232.76,1069.81 2232.76,835.575 2256.76,835.575 2232.76,835.575 \n",
       "  2232.76,601.344 2256.76,601.344 2232.76,601.344 2232.76,367.112 2256.76,367.112 2232.76,367.112 2232.76,132.88 2256.76,132.88 2232.76,132.88 2232.76,47.2441 \n",
       "  \n",
       "  \"/>\n",
       "</svg>\n"
      ]
     },
     "execution_count": 93,
     "metadata": {},
     "output_type": "execute_result"
    }
   ],
   "source": [
    "plot(self_tuning_nn)"
   ]
  },
  {
   "cell_type": "code",
   "execution_count": 94,
   "metadata": {},
   "outputs": [
    {
     "data": {
      "text/plain": [
       "(best_model = \u001b[34mNeuralNetworkClassifier{CustomNN,…} @324\u001b[39m,\n",
       " best_fitted_params = (chain = Chain(Chain(Dense(4, 49, σ), Dense(49, 5, σ), Dense(5, 3, σ)), softmax),),)"
      ]
     },
     "execution_count": 94,
     "metadata": {},
     "output_type": "execute_result"
    }
   ],
   "source": [
    "best = fitted_params(self_tuning_nn)\n",
    "best"
   ]
  },
  {
   "cell_type": "code",
   "execution_count": 95,
   "metadata": {},
   "outputs": [
    {
     "data": {
      "text/plain": [
       "NeuralNetworkClassifier(\n",
       "    builder = CustomNN(\n",
       "            n1 = 49,\n",
       "            n2 = 5),\n",
       "    finaliser = NNlib.softmax,\n",
       "    optimiser = ADAM(0.01, (0.9, 0.999), IdDict{Any,Any}()),\n",
       "    loss = Flux.crossentropy,\n",
       "    epochs = 1400,\n",
       "    batch_size = 16,\n",
       "    lambda = 0.0006812920690579615,\n",
       "    alpha = 0.0,\n",
       "    optimiser_changes_trigger_retraining = false)\u001b[34m @324\u001b[39m"
      ]
     },
     "execution_count": 95,
     "metadata": {},
     "output_type": "execute_result"
    }
   ],
   "source": [
    "best.best_model"
   ]
  },
  {
   "cell_type": "code",
   "execution_count": 96,
   "metadata": {
    "scrolled": true
   },
   "outputs": [
    {
     "data": {
      "text/plain": [
       "0.60491353f0"
      ]
     },
     "execution_count": 96,
     "metadata": {},
     "output_type": "execute_result"
    }
   ],
   "source": [
    "best_loss = z.report.best_result.measurement[1]"
   ]
  },
  {
   "cell_type": "code",
   "execution_count": 97,
   "metadata": {},
   "outputs": [
    {
     "data": {
      "text/plain": [
       "0.0006812920690579615"
      ]
     },
     "execution_count": 97,
     "metadata": {},
     "output_type": "execute_result"
    }
   ],
   "source": [
    "best_lambda = best.best_model.lambda"
   ]
  },
  {
   "cell_type": "code",
   "execution_count": 98,
   "metadata": {},
   "outputs": [],
   "source": [
    "fn = \"Figures/Grid_NN_$(param1):$(best.best_model.epochs)_x_$(param2):$(best_lambda)_bestloss:$(best_loss)\"\n",
    "png(replace(fn,'.' => ','))"
   ]
  },
  {
   "cell_type": "markdown",
   "metadata": {},
   "source": [
    "### Learning Curve"
   ]
  },
  {
   "cell_type": "code",
   "execution_count": 99,
   "metadata": {},
   "outputs": [
    {
     "data": {
      "text/plain": [
       "NeuralNetworkClassifier(\n",
       "    builder = CustomNN(\n",
       "            n1 = 49,\n",
       "            n2 = 5),\n",
       "    finaliser = NNlib.softmax,\n",
       "    optimiser = ADAM(0.01, (0.9, 0.999), IdDict{Any,Any}()),\n",
       "    loss = Flux.crossentropy,\n",
       "    epochs = 4000,\n",
       "    batch_size = 16,\n",
       "    lambda = 0.0006812920690579615,\n",
       "    alpha = 0.0,\n",
       "    optimiser_changes_trigger_retraining = false)\u001b[34m @968\u001b[39m"
      ]
     },
     "execution_count": 99,
     "metadata": {},
     "output_type": "execute_result"
    }
   ],
   "source": [
    "lc_model = NeuralNetworkClassifier(builder=CustomNN(best_n1,best_n2))\n",
    "lc_model.optimiser.eta = best_eta;\n",
    "lc_model.lambda = best_lambda\n",
    "lc_model.epochs = max_epochs\n",
    "lc_model.batch_size = batch_sz\n",
    "lc_model"
   ]
  },
  {
   "cell_type": "code",
   "execution_count": 100,
   "metadata": {},
   "outputs": [],
   "source": [
    "# lc_model = NeuralNetworkClassifier(builder=CustomNN(80,80))\n",
    "# lc_model.optimiser.eta = 0.001;\n",
    "# lc_model.lambda = best_lambda\n",
    "# lc_model.epochs = 3000\n",
    "# lc_model.batch_size = 8"
   ]
  },
  {
   "cell_type": "code",
   "execution_count": 103,
   "metadata": {},
   "outputs": [
    {
     "data": {
      "text/plain": [
       "mce (generic function with 1 method)"
      ]
     },
     "execution_count": 103,
     "metadata": {},
     "output_type": "execute_result"
    }
   ],
   "source": [
    "mce(x,y) = mean(cross_entropy(x,y))"
   ]
  },
  {
   "cell_type": "code",
   "execution_count": 104,
   "metadata": {
    "scrolled": true
   },
   "outputs": [
    {
     "name": "stdout",
     "output_type": "stream",
     "text": [
      "(d, train_metric, valid_metric) = (10, 0.55175465f0, 0.90735054f0)\n",
      "(d, train_metric, valid_metric) = (15, 0.5517857f0, 0.8533822f0)\n",
      "(d, train_metric, valid_metric) = (20, 0.5788382f0, 0.72008127f0)\n",
      "(d, train_metric, valid_metric) = (25, 0.55146396f0, 0.7136448f0)\n",
      "(d, train_metric, valid_metric) = (30, 0.5514829f0, 0.67770183f0)\n",
      "(d, train_metric, valid_metric) = (35, 0.6139821f0, 0.6528931f0)\n",
      "(d, train_metric, valid_metric) = (40, 0.55145013f0, 0.6649284f0)\n",
      "(d, train_metric, valid_metric) = (45, 0.5514527f0, 0.6629966f0)\n",
      "(d, train_metric, valid_metric) = (50, 0.5514456f0, 0.66460997f0)\n",
      "(d, train_metric, valid_metric) = (55, 0.5514457f0, 0.66499937f0)\n",
      "(d, train_metric, valid_metric) = (60, 0.55144554f0, 0.68097883f0)\n",
      "(d, train_metric, valid_metric) = (65, 0.55144495f0, 0.61828834f0)\n",
      "(d, train_metric, valid_metric) = (70, 0.5514449f0, 0.631122f0)\n",
      "(d, train_metric, valid_metric) = (75, 0.56477815f0, 0.63158756f0)\n",
      "(d, train_metric, valid_metric) = (80, 0.5514448f0, 0.61973184f0)\n",
      "(d, train_metric, valid_metric) = (85, 0.55144477f0, 0.6190944f0)\n",
      "(d, train_metric, valid_metric) = (90, 0.6244005f0, 0.60063344f0)\n",
      "(d, train_metric, valid_metric) = (95, 0.5514448f0, 0.6196233f0)\n",
      "(d, train_metric, valid_metric) = (100, 0.55144477f0, 0.61923575f0)\n",
      "(d, train_metric, valid_metric) = (105, 0.61397815f0, 0.5957732f0)\n",
      "(d, train_metric, valid_metric) = (110, 0.6111357f0, 0.6010913f0)\n",
      "(d, train_metric, valid_metric) = (115, 0.55144477f0, 0.60647595f0)\n",
      "(d, train_metric, valid_metric) = (120, 0.61072123f0, 0.60704404f0)\n",
      "(d, train_metric, valid_metric) = (125, 0.55144477f0, 0.5855619f0)\n",
      "(d, train_metric, valid_metric) = (130, 0.6061615f0, 0.5982582f0)\n",
      "(d, train_metric, valid_metric) = (135, 0.55144465f0, 0.5853277f0)\n",
      "(d, train_metric, valid_metric) = (140, 0.5514447f0, 0.5856171f0)\n",
      "(d, train_metric, valid_metric) = (145, 0.5514447f0, 0.58553094f0)\n",
      "(d, train_metric, valid_metric) = (150, 0.551445f0, 0.61477923f0)\n",
      "(d, train_metric, valid_metric) = (155, 0.60439646f0, 0.6065033f0)\n",
      "(d, train_metric, valid_metric) = (160, 0.5514447f0, 0.60250205f0)\n",
      "(d, train_metric, valid_metric) = (165, 0.60450345f0, 0.602952f0)\n",
      "(d, train_metric, valid_metric) = (170, 0.551445f0, 0.61436003f0)\n",
      "(d, train_metric, valid_metric) = (175, 0.60147154f0, 0.60515827f0)\n",
      "(d, train_metric, valid_metric) = (180, 0.55144477f0, 0.60531354f0)\n",
      "(d, train_metric, valid_metric) = (185, 0.55144477f0, 0.60827076f0)\n",
      "(d, train_metric, valid_metric) = (190, 0.55144477f0, 0.60678935f0)\n",
      "(d, train_metric, valid_metric) = (195, 0.5991466f0, 0.58963907f0)\n",
      "(d, train_metric, valid_metric) = (200, 0.6029547f0, 0.59599715f0)\n",
      "(d, train_metric, valid_metric) = (205, 0.5514447f0, 0.5875503f0)\n",
      "(d, train_metric, valid_metric) = (210, 0.5514451f0, 0.594563f0)\n",
      "(d, train_metric, valid_metric) = (215, 0.5653983f0, 0.6078508f0)\n",
      "(d, train_metric, valid_metric) = (220, 0.55144644f0, 0.59216505f0)\n",
      "(d, train_metric, valid_metric) = (225, 0.5514447f0, 0.5969353f0)\n",
      "(d, train_metric, valid_metric) = (230, 0.55144536f0, 0.5857923f0)\n",
      "(d, train_metric, valid_metric) = (235, 0.6003403f0, 0.6012582f0)\n",
      "(d, train_metric, valid_metric) = (240, 0.5514445f0, 0.5936354f0)\n",
      "(d, train_metric, valid_metric) = (245, 0.55144435f0, 0.5924793f0)\n",
      "(d, train_metric, valid_metric) = (250, 0.5594443f0, 0.5993652f0)\n",
      "(d, train_metric, valid_metric) = (255, 0.5514444f0, 0.5890105f0)\n",
      "(d, train_metric, valid_metric) = (260, 0.60195243f0, 0.6001162f0)\n",
      "(d, train_metric, valid_metric) = (265, 0.63709825f0, 0.62538797f0)\n",
      "(d, train_metric, valid_metric) = (270, 0.6041347f0, 0.5947304f0)\n",
      "(d, train_metric, valid_metric) = (275, 0.60317653f0, 0.6053101f0)\n",
      "(d, train_metric, valid_metric) = (280, 0.5514441f0, 0.59069616f0)\n",
      "(d, train_metric, valid_metric) = (285, 0.55495316f0, 0.6178125f0)\n",
      "(d, train_metric, valid_metric) = (290, 0.60238796f0, 0.6164959f0)\n",
      "(d, train_metric, valid_metric) = (295, 0.5548351f0, 0.59742403f0)\n",
      "(d, train_metric, valid_metric) = (300, 0.5514445f0, 0.5915212f0)\n",
      "(d, train_metric, valid_metric) = (305, 0.554723f0, 0.5968993f0)\n",
      "(d, train_metric, valid_metric) = (310, 0.55144423f0, 0.59687144f0)\n",
      "(d, train_metric, valid_metric) = (315, 0.5546191f0, 0.5908252f0)\n",
      "(d, train_metric, valid_metric) = (320, 0.554569f0, 0.58797306f0)\n",
      "(d, train_metric, valid_metric) = (325, 0.55452156f0, 0.5966907f0)\n",
      "(d, train_metric, valid_metric) = (330, 0.60118705f0, 0.592176f0)\n",
      "(d, train_metric, valid_metric) = (335, 0.5988112f0, 0.5955035f0)\n",
      "(d, train_metric, valid_metric) = (340, 0.5602681f0, 0.59741527f0)\n",
      "(d, train_metric, valid_metric) = (345, 0.602607f0, 0.5956202f0)\n",
      "(d, train_metric, valid_metric) = (350, 0.59834665f0, 0.58545643f0)\n"
     ]
    },
    {
     "data": {
      "text/plain": [
       "(10:5:350, Any[0.55175465f0, 0.5517857f0, 0.5788382f0, 0.55146396f0, 0.5514829f0, 0.6139821f0, 0.55145013f0, 0.5514527f0, 0.5514456f0, 0.5514457f0  …  0.554723f0, 0.55144423f0, 0.5546191f0, 0.554569f0, 0.55452156f0, 0.60118705f0, 0.5988112f0, 0.5602681f0, 0.602607f0, 0.59834665f0], Any[0.90735054f0, 0.8533822f0, 0.72008127f0, 0.7136448f0, 0.67770183f0, 0.6528931f0, 0.6649284f0, 0.6629966f0, 0.66460997f0, 0.66499937f0  …  0.5968993f0, 0.59687144f0, 0.5908252f0, 0.58797306f0, 0.5966907f0, 0.592176f0, 0.5955035f0, 0.59741527f0, 0.5956202f0, 0.58545643f0])"
      ]
     },
     "execution_count": 104,
     "metadata": {},
     "output_type": "execute_result"
    }
   ],
   "source": [
    "data_schedule, training_losses, valid_losses = learn_curve(lc_model, X[train,:], y[train], mce, step=5)"
   ]
  },
  {
   "cell_type": "code",
   "execution_count": 107,
   "metadata": {
    "scrolled": false
   },
   "outputs": [
    {
     "data": {
      "image/svg+xml": [
       "<?xml version=\"1.0\" encoding=\"utf-8\"?>\n",
       "<svg xmlns=\"http://www.w3.org/2000/svg\" xmlns:xlink=\"http://www.w3.org/1999/xlink\" width=\"600\" height=\"400\" viewBox=\"0 0 2400 1600\">\n",
       "<defs>\n",
       "  <clipPath id=\"clip980\">\n",
       "    <rect x=\"0\" y=\"0\" width=\"2400\" height=\"1600\"/>\n",
       "  </clipPath>\n",
       "</defs>\n",
       "<path clip-path=\"url(#clip980)\" d=\"\n",
       "M0 1600 L2400 1600 L2400 0 L0 0  Z\n",
       "  \" fill=\"#ffffff\" fill-rule=\"evenodd\" fill-opacity=\"1\"/>\n",
       "<defs>\n",
       "  <clipPath id=\"clip981\">\n",
       "    <rect x=\"480\" y=\"0\" width=\"1681\" height=\"1600\"/>\n",
       "  </clipPath>\n",
       "</defs>\n",
       "<path clip-path=\"url(#clip980)\" d=\"\n",
       "M211.278 1423.18 L2352.76 1423.18 L2352.76 47.2441 L211.278 47.2441  Z\n",
       "  \" fill=\"#ffffff\" fill-rule=\"evenodd\" fill-opacity=\"1\"/>\n",
       "<defs>\n",
       "  <clipPath id=\"clip982\">\n",
       "    <rect x=\"211\" y=\"47\" width=\"2142\" height=\"1377\"/>\n",
       "  </clipPath>\n",
       "</defs>\n",
       "<polyline clip-path=\"url(#clip982)\" style=\"stroke:#000000; stroke-width:2; stroke-opacity:0.1; fill:none\" points=\"\n",
       "  212.467,1423.18 212.467,47.2441 \n",
       "  \"/>\n",
       "<polyline clip-path=\"url(#clip982)\" style=\"stroke:#000000; stroke-width:2; stroke-opacity:0.1; fill:none\" points=\"\n",
       "  806.661,1423.18 806.661,47.2441 \n",
       "  \"/>\n",
       "<polyline clip-path=\"url(#clip982)\" style=\"stroke:#000000; stroke-width:2; stroke-opacity:0.1; fill:none\" points=\"\n",
       "  1400.86,1423.18 1400.86,47.2441 \n",
       "  \"/>\n",
       "<polyline clip-path=\"url(#clip982)\" style=\"stroke:#000000; stroke-width:2; stroke-opacity:0.1; fill:none\" points=\"\n",
       "  1995.05,1423.18 1995.05,47.2441 \n",
       "  \"/>\n",
       "<polyline clip-path=\"url(#clip982)\" style=\"stroke:#000000; stroke-width:2; stroke-opacity:0.1; fill:none\" points=\"\n",
       "  211.278,1207.15 2352.76,1207.15 \n",
       "  \"/>\n",
       "<polyline clip-path=\"url(#clip982)\" style=\"stroke:#000000; stroke-width:2; stroke-opacity:0.1; fill:none\" points=\"\n",
       "  211.278,842.429 2352.76,842.429 \n",
       "  \"/>\n",
       "<polyline clip-path=\"url(#clip982)\" style=\"stroke:#000000; stroke-width:2; stroke-opacity:0.1; fill:none\" points=\"\n",
       "  211.278,477.712 2352.76,477.712 \n",
       "  \"/>\n",
       "<polyline clip-path=\"url(#clip982)\" style=\"stroke:#000000; stroke-width:2; stroke-opacity:0.1; fill:none\" points=\"\n",
       "  211.278,112.994 2352.76,112.994 \n",
       "  \"/>\n",
       "<polyline clip-path=\"url(#clip980)\" style=\"stroke:#000000; stroke-width:4; stroke-opacity:1; fill:none\" points=\"\n",
       "  211.278,1423.18 2352.76,1423.18 \n",
       "  \"/>\n",
       "<polyline clip-path=\"url(#clip980)\" style=\"stroke:#000000; stroke-width:4; stroke-opacity:1; fill:none\" points=\"\n",
       "  211.278,1423.18 211.278,47.2441 \n",
       "  \"/>\n",
       "<polyline clip-path=\"url(#clip980)\" style=\"stroke:#000000; stroke-width:4; stroke-opacity:1; fill:none\" points=\"\n",
       "  212.467,1423.18 212.467,1406.67 \n",
       "  \"/>\n",
       "<polyline clip-path=\"url(#clip980)\" style=\"stroke:#000000; stroke-width:4; stroke-opacity:1; fill:none\" points=\"\n",
       "  806.661,1423.18 806.661,1406.67 \n",
       "  \"/>\n",
       "<polyline clip-path=\"url(#clip980)\" style=\"stroke:#000000; stroke-width:4; stroke-opacity:1; fill:none\" points=\"\n",
       "  1400.86,1423.18 1400.86,1406.67 \n",
       "  \"/>\n",
       "<polyline clip-path=\"url(#clip980)\" style=\"stroke:#000000; stroke-width:4; stroke-opacity:1; fill:none\" points=\"\n",
       "  1995.05,1423.18 1995.05,1406.67 \n",
       "  \"/>\n",
       "<polyline clip-path=\"url(#clip980)\" style=\"stroke:#000000; stroke-width:4; stroke-opacity:1; fill:none\" points=\"\n",
       "  211.278,1207.15 236.976,1207.15 \n",
       "  \"/>\n",
       "<polyline clip-path=\"url(#clip980)\" style=\"stroke:#000000; stroke-width:4; stroke-opacity:1; fill:none\" points=\"\n",
       "  211.278,842.429 236.976,842.429 \n",
       "  \"/>\n",
       "<polyline clip-path=\"url(#clip980)\" style=\"stroke:#000000; stroke-width:4; stroke-opacity:1; fill:none\" points=\"\n",
       "  211.278,477.712 236.976,477.712 \n",
       "  \"/>\n",
       "<polyline clip-path=\"url(#clip980)\" style=\"stroke:#000000; stroke-width:4; stroke-opacity:1; fill:none\" points=\"\n",
       "  211.278,112.994 236.976,112.994 \n",
       "  \"/>\n",
       "<path clip-path=\"url(#clip980)\" d=\"M 0 0 M212.467 1445.17 Q208.856 1445.17 207.027 1448.74 Q205.221 1452.28 205.221 1459.41 Q205.221 1466.51 207.027 1470.08 Q208.856 1473.62 212.467 1473.62 Q216.101 1473.62 217.907 1470.08 Q219.735 1466.51 219.735 1459.41 Q219.735 1452.28 217.907 1448.74 Q216.101 1445.17 212.467 1445.17 M212.467 1441.47 Q218.277 1441.47 221.332 1446.07 Q224.411 1450.66 224.411 1459.41 Q224.411 1468.13 221.332 1472.74 Q218.277 1477.32 212.467 1477.32 Q206.657 1477.32 203.578 1472.74 Q200.522 1468.13 200.522 1459.41 Q200.522 1450.66 203.578 1446.07 Q206.657 1441.47 212.467 1441.47 Z\" fill=\"#000000\" fill-rule=\"evenodd\" fill-opacity=\"1\" /><path clip-path=\"url(#clip980)\" d=\"M 0 0 M770.03 1472.72 L777.668 1472.72 L777.668 1446.35 L769.358 1448.02 L769.358 1443.76 L777.622 1442.09 L782.298 1442.09 L782.298 1472.72 L789.937 1472.72 L789.937 1476.65 L770.03 1476.65 L770.03 1472.72 Z\" fill=\"#000000\" fill-rule=\"evenodd\" fill-opacity=\"1\" /><path clip-path=\"url(#clip980)\" d=\"M 0 0 M805.006 1445.17 Q801.395 1445.17 799.567 1448.74 Q797.761 1452.28 797.761 1459.41 Q797.761 1466.51 799.567 1470.08 Q801.395 1473.62 805.006 1473.62 Q808.641 1473.62 810.446 1470.08 Q812.275 1466.51 812.275 1459.41 Q812.275 1452.28 810.446 1448.74 Q808.641 1445.17 805.006 1445.17 M805.006 1441.47 Q810.816 1441.47 813.872 1446.07 Q816.951 1450.66 816.951 1459.41 Q816.951 1468.13 813.872 1472.74 Q810.816 1477.32 805.006 1477.32 Q799.196 1477.32 796.117 1472.74 Q793.062 1468.13 793.062 1459.41 Q793.062 1450.66 796.117 1446.07 Q799.196 1441.47 805.006 1441.47 Z\" fill=\"#000000\" fill-rule=\"evenodd\" fill-opacity=\"1\" /><path clip-path=\"url(#clip980)\" d=\"M 0 0 M832.02 1445.17 Q828.409 1445.17 826.58 1448.74 Q824.775 1452.28 824.775 1459.41 Q824.775 1466.51 826.58 1470.08 Q828.409 1473.62 832.02 1473.62 Q835.654 1473.62 837.46 1470.08 Q839.289 1466.51 839.289 1459.41 Q839.289 1452.28 837.46 1448.74 Q835.654 1445.17 832.02 1445.17 M832.02 1441.47 Q837.83 1441.47 840.886 1446.07 Q843.964 1450.66 843.964 1459.41 Q843.964 1468.13 840.886 1472.74 Q837.83 1477.32 832.02 1477.32 Q826.21 1477.32 823.131 1472.74 Q820.076 1468.13 820.076 1459.41 Q820.076 1450.66 823.131 1446.07 Q826.21 1441.47 832.02 1441.47 Z\" fill=\"#000000\" fill-rule=\"evenodd\" fill-opacity=\"1\" /><path clip-path=\"url(#clip980)\" d=\"M 0 0 M1368.5 1472.72 L1384.81 1472.72 L1384.81 1476.65 L1362.87 1476.65 L1362.87 1472.72 Q1365.53 1469.96 1370.12 1465.33 Q1374.72 1460.68 1375.9 1459.34 Q1378.15 1456.81 1379.03 1455.08 Q1379.93 1453.32 1379.93 1451.63 Q1379.93 1448.87 1377.99 1447.14 Q1376.06 1445.4 1372.96 1445.4 Q1370.76 1445.4 1368.31 1446.17 Q1365.88 1446.93 1363.1 1448.48 L1363.1 1443.76 Q1365.93 1442.62 1368.38 1442.05 Q1370.83 1441.47 1372.87 1441.47 Q1378.24 1441.47 1381.43 1444.15 Q1384.63 1446.84 1384.63 1451.33 Q1384.63 1453.46 1383.82 1455.38 Q1383.03 1457.28 1380.93 1459.87 Q1380.35 1460.54 1377.25 1463.76 Q1374.14 1466.95 1368.5 1472.72 Z\" fill=\"#000000\" fill-rule=\"evenodd\" fill-opacity=\"1\" /><path clip-path=\"url(#clip980)\" d=\"M 0 0 M1399.88 1445.17 Q1396.27 1445.17 1394.44 1448.74 Q1392.64 1452.28 1392.64 1459.41 Q1392.64 1466.51 1394.44 1470.08 Q1396.27 1473.62 1399.88 1473.62 Q1403.52 1473.62 1405.32 1470.08 Q1407.15 1466.51 1407.15 1459.41 Q1407.15 1452.28 1405.32 1448.74 Q1403.52 1445.17 1399.88 1445.17 M1399.88 1441.47 Q1405.69 1441.47 1408.75 1446.07 Q1411.83 1450.66 1411.83 1459.41 Q1411.83 1468.13 1408.75 1472.74 Q1405.69 1477.32 1399.88 1477.32 Q1394.07 1477.32 1391 1472.74 Q1387.94 1468.13 1387.94 1459.41 Q1387.94 1450.66 1391 1446.07 Q1394.07 1441.47 1399.88 1441.47 Z\" fill=\"#000000\" fill-rule=\"evenodd\" fill-opacity=\"1\" /><path clip-path=\"url(#clip980)\" d=\"M 0 0 M1426.9 1445.17 Q1423.29 1445.17 1421.46 1448.74 Q1419.65 1452.28 1419.65 1459.41 Q1419.65 1466.51 1421.46 1470.08 Q1423.29 1473.62 1426.9 1473.62 Q1430.53 1473.62 1432.34 1470.08 Q1434.17 1466.51 1434.17 1459.41 Q1434.17 1452.28 1432.34 1448.74 Q1430.53 1445.17 1426.9 1445.17 M1426.9 1441.47 Q1432.71 1441.47 1435.76 1446.07 Q1438.84 1450.66 1438.84 1459.41 Q1438.84 1468.13 1435.76 1472.74 Q1432.71 1477.32 1426.9 1477.32 Q1421.09 1477.32 1418.01 1472.74 Q1414.95 1468.13 1414.95 1459.41 Q1414.95 1450.66 1418.01 1446.07 Q1421.09 1441.47 1426.9 1441.47 Z\" fill=\"#000000\" fill-rule=\"evenodd\" fill-opacity=\"1\" /><path clip-path=\"url(#clip980)\" d=\"M 0 0 M1972.28 1458.02 Q1975.64 1458.74 1977.52 1461 Q1979.41 1463.27 1979.41 1466.61 Q1979.41 1471.72 1975.9 1474.52 Q1972.38 1477.32 1965.9 1477.32 Q1963.72 1477.32 1961.41 1476.88 Q1959.11 1476.47 1956.66 1475.61 L1956.66 1471.1 Q1958.6 1472.23 1960.92 1472.81 Q1963.23 1473.39 1965.76 1473.39 Q1970.16 1473.39 1972.45 1471.65 Q1974.76 1469.92 1974.76 1466.61 Q1974.76 1463.55 1972.61 1461.84 Q1970.48 1460.1 1966.66 1460.1 L1962.63 1460.1 L1962.63 1456.26 L1966.84 1456.26 Q1970.29 1456.26 1972.12 1454.89 Q1973.95 1453.5 1973.95 1450.91 Q1973.95 1448.25 1972.05 1446.84 Q1970.18 1445.4 1966.66 1445.4 Q1964.74 1445.4 1962.54 1445.82 Q1960.34 1446.24 1957.7 1447.11 L1957.7 1442.95 Q1960.36 1442.21 1962.68 1441.84 Q1965.02 1441.47 1967.08 1441.47 Q1972.4 1441.47 1975.5 1443.9 Q1978.6 1446.3 1978.6 1450.43 Q1978.6 1453.3 1976.96 1455.29 Q1975.32 1457.25 1972.28 1458.02 Z\" fill=\"#000000\" fill-rule=\"evenodd\" fill-opacity=\"1\" /><path clip-path=\"url(#clip980)\" d=\"M 0 0 M1994.48 1445.17 Q1990.87 1445.17 1989.04 1448.74 Q1987.24 1452.28 1987.24 1459.41 Q1987.24 1466.51 1989.04 1470.08 Q1990.87 1473.62 1994.48 1473.62 Q1998.12 1473.62 1999.92 1470.08 Q2001.75 1466.51 2001.75 1459.41 Q2001.75 1452.28 1999.92 1448.74 Q1998.12 1445.17 1994.48 1445.17 M1994.48 1441.47 Q2000.29 1441.47 2003.35 1446.07 Q2006.43 1450.66 2006.43 1459.41 Q2006.43 1468.13 2003.35 1472.74 Q2000.29 1477.32 1994.48 1477.32 Q1988.67 1477.32 1985.59 1472.74 Q1982.54 1468.13 1982.54 1459.41 Q1982.54 1450.66 1985.59 1446.07 Q1988.67 1441.47 1994.48 1441.47 Z\" fill=\"#000000\" fill-rule=\"evenodd\" fill-opacity=\"1\" /><path clip-path=\"url(#clip980)\" d=\"M 0 0 M2021.5 1445.17 Q2017.89 1445.17 2016.06 1448.74 Q2014.25 1452.28 2014.25 1459.41 Q2014.25 1466.51 2016.06 1470.08 Q2017.89 1473.62 2021.5 1473.62 Q2025.13 1473.62 2026.94 1470.08 Q2028.77 1466.51 2028.77 1459.41 Q2028.77 1452.28 2026.94 1448.74 Q2025.13 1445.17 2021.5 1445.17 M2021.5 1441.47 Q2027.31 1441.47 2030.36 1446.07 Q2033.44 1450.66 2033.44 1459.41 Q2033.44 1468.13 2030.36 1472.74 Q2027.31 1477.32 2021.5 1477.32 Q2015.69 1477.32 2012.61 1472.74 Q2009.55 1468.13 2009.55 1459.41 Q2009.55 1450.66 2012.61 1446.07 Q2015.69 1441.47 2021.5 1441.47 Z\" fill=\"#000000\" fill-rule=\"evenodd\" fill-opacity=\"1\" /><path clip-path=\"url(#clip980)\" d=\"M 0 0 M138.205 1192.95 Q134.593 1192.95 132.765 1196.51 Q130.959 1200.05 130.959 1207.18 Q130.959 1214.29 132.765 1217.85 Q134.593 1221.39 138.205 1221.39 Q141.839 1221.39 143.644 1217.85 Q145.473 1214.29 145.473 1207.18 Q145.473 1200.05 143.644 1196.51 Q141.839 1192.95 138.205 1192.95 M138.205 1189.24 Q144.015 1189.24 147.07 1193.85 Q150.149 1198.43 150.149 1207.18 Q150.149 1215.91 147.07 1220.51 Q144.015 1225.1 138.205 1225.1 Q132.394 1225.1 129.316 1220.51 Q126.26 1215.91 126.26 1207.18 Q126.26 1198.43 129.316 1193.85 Q132.394 1189.24 138.205 1189.24 Z\" fill=\"#000000\" fill-rule=\"evenodd\" fill-opacity=\"1\" /><path clip-path=\"url(#clip980)\" d=\"M 0 0 M155.218 1218.55 L160.103 1218.55 L160.103 1224.43 L155.218 1224.43 L155.218 1218.55 Z\" fill=\"#000000\" fill-rule=\"evenodd\" fill-opacity=\"1\" /><path clip-path=\"url(#clip980)\" d=\"M 0 0 M175.751 1205.28 Q172.603 1205.28 170.751 1207.44 Q168.922 1209.59 168.922 1213.34 Q168.922 1217.07 170.751 1219.24 Q172.603 1221.39 175.751 1221.39 Q178.899 1221.39 180.727 1219.24 Q182.579 1217.07 182.579 1213.34 Q182.579 1209.59 180.727 1207.44 Q178.899 1205.28 175.751 1205.28 M185.033 1190.63 L185.033 1194.89 Q183.274 1194.06 181.468 1193.62 Q179.686 1193.18 177.927 1193.18 Q173.297 1193.18 170.843 1196.3 Q168.413 1199.43 168.065 1205.75 Q169.431 1203.73 171.491 1202.67 Q173.552 1201.58 176.028 1201.58 Q181.237 1201.58 184.246 1204.75 Q187.278 1207.9 187.278 1213.34 Q187.278 1218.66 184.13 1221.88 Q180.982 1225.1 175.751 1225.1 Q169.755 1225.1 166.584 1220.51 Q163.413 1215.91 163.413 1207.18 Q163.413 1198.99 167.302 1194.13 Q171.19 1189.24 177.741 1189.24 Q179.501 1189.24 181.283 1189.59 Q183.089 1189.94 185.033 1190.63 Z\" fill=\"#000000\" fill-rule=\"evenodd\" fill-opacity=\"1\" /><path clip-path=\"url(#clip980)\" d=\"M 0 0 M139.269 828.228 Q135.658 828.228 133.83 831.793 Q132.024 835.334 132.024 842.464 Q132.024 849.57 133.83 853.135 Q135.658 856.677 139.269 856.677 Q142.904 856.677 144.709 853.135 Q146.538 849.57 146.538 842.464 Q146.538 835.334 144.709 831.793 Q142.904 828.228 139.269 828.228 M139.269 824.524 Q145.08 824.524 148.135 829.131 Q151.214 833.714 151.214 842.464 Q151.214 851.191 148.135 855.797 Q145.08 860.38 139.269 860.38 Q133.459 860.38 130.381 855.797 Q127.325 851.191 127.325 842.464 Q127.325 833.714 130.381 829.131 Q133.459 824.524 139.269 824.524 Z\" fill=\"#000000\" fill-rule=\"evenodd\" fill-opacity=\"1\" /><path clip-path=\"url(#clip980)\" d=\"M 0 0 M156.283 853.83 L161.167 853.83 L161.167 859.709 L156.283 859.709 L156.283 853.83 Z\" fill=\"#000000\" fill-rule=\"evenodd\" fill-opacity=\"1\" /><path clip-path=\"url(#clip980)\" d=\"M 0 0 M165.056 825.149 L187.278 825.149 L187.278 827.14 L174.732 859.709 L169.848 859.709 L181.653 829.084 L165.056 829.084 L165.056 825.149 Z\" fill=\"#000000\" fill-rule=\"evenodd\" fill-opacity=\"1\" /><path clip-path=\"url(#clip980)\" d=\"M 0 0 M138.459 463.51 Q134.848 463.51 133.019 467.075 Q131.214 470.617 131.214 477.746 Q131.214 484.853 133.019 488.418 Q134.848 491.959 138.459 491.959 Q142.093 491.959 143.899 488.418 Q145.728 484.853 145.728 477.746 Q145.728 470.617 143.899 467.075 Q142.093 463.51 138.459 463.51 M138.459 459.807 Q144.269 459.807 147.325 464.413 Q150.404 468.997 150.404 477.746 Q150.404 486.473 147.325 491.08 Q144.269 495.663 138.459 495.663 Q132.649 495.663 129.57 491.08 Q126.515 486.473 126.515 477.746 Q126.515 468.997 129.57 464.413 Q132.649 459.807 138.459 459.807 Z\" fill=\"#000000\" fill-rule=\"evenodd\" fill-opacity=\"1\" /><path clip-path=\"url(#clip980)\" d=\"M 0 0 M155.473 489.112 L160.357 489.112 L160.357 494.992 L155.473 494.992 L155.473 489.112 Z\" fill=\"#000000\" fill-rule=\"evenodd\" fill-opacity=\"1\" /><path clip-path=\"url(#clip980)\" d=\"M 0 0 M175.427 478.58 Q172.093 478.58 170.172 480.362 Q168.274 482.145 168.274 485.27 Q168.274 488.395 170.172 490.177 Q172.093 491.959 175.427 491.959 Q178.76 491.959 180.681 490.177 Q182.602 488.371 182.602 485.27 Q182.602 482.145 180.681 480.362 Q178.783 478.58 175.427 478.58 M170.751 476.589 Q167.741 475.848 166.052 473.788 Q164.385 471.728 164.385 468.765 Q164.385 464.622 167.325 462.214 Q170.288 459.807 175.427 459.807 Q180.589 459.807 183.528 462.214 Q186.468 464.622 186.468 468.765 Q186.468 471.728 184.778 473.788 Q183.112 475.848 180.126 476.589 Q183.505 477.376 185.38 479.668 Q187.278 481.959 187.278 485.27 Q187.278 490.293 184.2 492.978 Q181.144 495.663 175.427 495.663 Q169.709 495.663 166.63 492.978 Q163.575 490.293 163.575 485.27 Q163.575 481.959 165.473 479.668 Q167.371 477.376 170.751 476.589 M169.038 469.205 Q169.038 471.89 170.704 473.395 Q172.394 474.899 175.427 474.899 Q178.436 474.899 180.126 473.395 Q181.839 471.89 181.839 469.205 Q181.839 466.52 180.126 465.015 Q178.436 463.51 175.427 463.51 Q172.394 463.51 170.704 465.015 Q169.038 466.52 169.038 469.205 Z\" fill=\"#000000\" fill-rule=\"evenodd\" fill-opacity=\"1\" /><path clip-path=\"url(#clip980)\" d=\"M 0 0 M138.552 98.7931 Q134.941 98.7931 133.112 102.358 Q131.306 105.9 131.306 113.029 Q131.306 120.136 133.112 123.7 Q134.941 127.242 138.552 127.242 Q142.186 127.242 143.992 123.7 Q145.82 120.136 145.82 113.029 Q145.82 105.9 143.992 102.358 Q142.186 98.7931 138.552 98.7931 M138.552 95.0894 Q144.362 95.0894 147.417 99.6958 Q150.496 104.279 150.496 113.029 Q150.496 121.756 147.417 126.362 Q144.362 130.946 138.552 130.946 Q132.742 130.946 129.663 126.362 Q126.607 121.756 126.607 113.029 Q126.607 104.279 129.663 99.6958 Q132.742 95.0894 138.552 95.0894 Z\" fill=\"#000000\" fill-rule=\"evenodd\" fill-opacity=\"1\" /><path clip-path=\"url(#clip980)\" d=\"M 0 0 M155.566 124.395 L160.45 124.395 L160.45 130.274 L155.566 130.274 L155.566 124.395 Z\" fill=\"#000000\" fill-rule=\"evenodd\" fill-opacity=\"1\" /><path clip-path=\"url(#clip980)\" d=\"M 0 0 M165.658 129.557 L165.658 125.298 Q167.417 126.131 169.223 126.571 Q171.028 127.01 172.765 127.01 Q177.394 127.01 179.825 123.909 Q182.278 120.784 182.626 114.441 Q181.283 116.432 179.223 117.497 Q177.163 118.561 174.663 118.561 Q169.478 118.561 166.445 115.436 Q163.436 112.288 163.436 106.849 Q163.436 101.525 166.584 98.3069 Q169.732 95.0894 174.964 95.0894 Q180.959 95.0894 184.107 99.6958 Q187.278 104.279 187.278 113.029 Q187.278 121.2 183.389 126.085 Q179.524 130.946 172.973 130.946 Q171.214 130.946 169.408 130.598 Q167.603 130.251 165.658 129.557 M174.964 114.904 Q178.112 114.904 179.94 112.751 Q181.792 110.599 181.792 106.849 Q181.792 103.122 179.94 100.969 Q178.112 98.7931 174.964 98.7931 Q171.815 98.7931 169.964 100.969 Q168.135 103.122 168.135 106.849 Q168.135 110.599 169.964 112.751 Q171.815 114.904 174.964 114.904 Z\" fill=\"#000000\" fill-rule=\"evenodd\" fill-opacity=\"1\" /><path clip-path=\"url(#clip980)\" d=\"M 0 0 M870.792 1508.52 L879.45 1508.52 L900.52 1548.28 L900.52 1508.52 L906.759 1508.52 L906.759 1556.04 L898.101 1556.04 L877.031 1516.29 L877.031 1556.04 L870.792 1556.04 L870.792 1508.52 Z\" fill=\"#000000\" fill-rule=\"evenodd\" fill-opacity=\"1\" /><path clip-path=\"url(#clip980)\" d=\"M 0 0 M912.297 1541.98 L912.297 1520.4 L918.153 1520.4 L918.153 1541.75 Q918.153 1546.81 920.127 1549.36 Q922.1 1551.87 926.047 1551.87 Q930.789 1551.87 933.527 1548.85 Q936.296 1545.83 936.296 1540.61 L936.296 1520.4 L942.152 1520.4 L942.152 1556.04 L936.296 1556.04 L936.296 1550.57 Q934.163 1553.82 931.33 1555.41 Q928.529 1556.97 924.805 1556.97 Q918.663 1556.97 915.48 1553.15 Q912.297 1549.33 912.297 1541.98 M927.033 1519.54 L927.033 1519.54 Z\" fill=\"#000000\" fill-rule=\"evenodd\" fill-opacity=\"1\" /><path clip-path=\"url(#clip980)\" d=\"M 0 0 M976.049 1527.24 Q978.246 1523.29 981.301 1521.41 Q984.357 1519.54 988.494 1519.54 Q994.064 1519.54 997.088 1523.45 Q1000.11 1527.33 1000.11 1534.53 L1000.11 1556.04 L994.224 1556.04 L994.224 1534.72 Q994.224 1529.59 992.409 1527.11 Q990.595 1524.63 986.871 1524.63 Q982.32 1524.63 979.678 1527.65 Q977.036 1530.68 977.036 1535.9 L977.036 1556.04 L971.148 1556.04 L971.148 1534.72 Q971.148 1529.56 969.334 1527.11 Q967.519 1524.63 963.732 1524.63 Q959.244 1524.63 956.602 1527.68 Q953.96 1530.71 953.96 1535.9 L953.96 1556.04 L948.072 1556.04 L948.072 1520.4 L953.96 1520.4 L953.96 1525.93 Q955.966 1522.66 958.767 1521.1 Q961.567 1519.54 965.419 1519.54 Q969.302 1519.54 972.007 1521.51 Q974.744 1523.48 976.049 1527.24 Z\" fill=\"#000000\" fill-rule=\"evenodd\" fill-opacity=\"1\" /><path clip-path=\"url(#clip980)\" d=\"M 0 0 M1031.84 1538.25 Q1031.84 1531.79 1029.17 1528.13 Q1026.53 1524.44 1021.88 1524.44 Q1017.24 1524.44 1014.56 1528.13 Q1011.92 1531.79 1011.92 1538.25 Q1011.92 1544.71 1014.56 1548.4 Q1017.24 1552.07 1021.88 1552.07 Q1026.53 1552.07 1029.17 1548.4 Q1031.84 1544.71 1031.84 1538.25 M1011.92 1525.81 Q1013.77 1522.62 1016.57 1521.1 Q1019.4 1519.54 1023.31 1519.54 Q1029.81 1519.54 1033.85 1524.69 Q1037.92 1529.85 1037.92 1538.25 Q1037.92 1546.65 1033.85 1551.81 Q1029.81 1556.97 1023.31 1556.97 Q1019.4 1556.97 1016.57 1555.44 Q1013.77 1553.88 1011.92 1550.7 L1011.92 1556.04 L1006.03 1556.04 L1006.03 1506.52 L1011.92 1506.52 L1011.92 1525.81 Z\" fill=\"#000000\" fill-rule=\"evenodd\" fill-opacity=\"1\" /><path clip-path=\"url(#clip980)\" d=\"M 0 0 M1074.56 1536.76 L1074.56 1539.62 L1047.63 1539.62 Q1048.01 1545.67 1051.26 1548.85 Q1054.54 1552 1060.36 1552 Q1063.74 1552 1066.89 1551.17 Q1070.07 1550.35 1073.19 1548.69 L1073.19 1554.23 Q1070.04 1555.57 1066.73 1556.27 Q1063.42 1556.97 1060.01 1556.97 Q1051.48 1556.97 1046.49 1552 Q1041.52 1547.04 1041.52 1538.57 Q1041.52 1529.82 1046.23 1524.69 Q1050.97 1519.54 1058.99 1519.54 Q1066.19 1519.54 1070.36 1524.18 Q1074.56 1528.8 1074.56 1536.76 M1068.7 1535.04 Q1068.64 1530.23 1066 1527.37 Q1063.39 1524.5 1059.06 1524.5 Q1054.16 1524.5 1051.2 1527.27 Q1048.27 1530.04 1047.82 1535.07 L1068.7 1535.04 Z\" fill=\"#000000\" fill-rule=\"evenodd\" fill-opacity=\"1\" /><path clip-path=\"url(#clip980)\" d=\"M 0 0 M1101.36 1525.87 Q1100.37 1525.3 1099.19 1525.04 Q1098.05 1524.76 1096.65 1524.76 Q1091.68 1524.76 1089.01 1528 Q1086.37 1531.22 1086.37 1537.27 L1086.37 1556.04 L1080.48 1556.04 L1080.48 1520.4 L1086.37 1520.4 L1086.37 1525.93 Q1088.21 1522.69 1091.17 1521.13 Q1094.13 1519.54 1098.37 1519.54 Q1098.97 1519.54 1099.7 1519.63 Q1100.44 1519.7 1101.33 1519.85 L1101.36 1525.87 Z\" fill=\"#000000\" fill-rule=\"evenodd\" fill-opacity=\"1\" /><path clip-path=\"url(#clip980)\" d=\"M 0 0 M1142.04 1524.5 Q1137.32 1524.5 1134.59 1528.19 Q1131.85 1531.85 1131.85 1538.25 Q1131.85 1544.65 1134.56 1548.34 Q1137.29 1552 1142.04 1552 Q1146.71 1552 1149.45 1548.31 Q1152.19 1544.62 1152.19 1538.25 Q1152.19 1531.92 1149.45 1528.23 Q1146.71 1524.5 1142.04 1524.5 M1142.04 1519.54 Q1149.67 1519.54 1154.03 1524.5 Q1158.4 1529.47 1158.4 1538.25 Q1158.4 1547 1154.03 1552 Q1149.67 1556.97 1142.04 1556.97 Q1134.36 1556.97 1130 1552 Q1125.68 1547 1125.68 1538.25 Q1125.68 1529.47 1130 1524.5 Q1134.36 1519.54 1142.04 1519.54 Z\" fill=\"#000000\" fill-rule=\"evenodd\" fill-opacity=\"1\" /><path clip-path=\"url(#clip980)\" d=\"M 0 0 M1182.58 1506.52 L1182.58 1511.39 L1176.98 1511.39 Q1173.83 1511.39 1172.59 1512.66 Q1171.38 1513.93 1171.38 1517.24 L1171.38 1520.4 L1181.03 1520.4 L1181.03 1524.95 L1171.38 1524.95 L1171.38 1556.04 L1165.49 1556.04 L1165.49 1524.95 L1159.89 1524.95 L1159.89 1520.4 L1165.49 1520.4 L1165.49 1517.91 Q1165.49 1511.96 1168.26 1509.26 Q1171.03 1506.52 1177.05 1506.52 L1182.58 1506.52 Z\" fill=\"#000000\" fill-rule=\"evenodd\" fill-opacity=\"1\" /><path clip-path=\"url(#clip980)\" d=\"M 0 0 M1203.11 1508.52 L1243.31 1508.52 L1243.31 1513.93 L1226.44 1513.93 L1226.44 1556.04 L1219.98 1556.04 L1219.98 1513.93 L1203.11 1513.93 L1203.11 1508.52 Z\" fill=\"#000000\" fill-rule=\"evenodd\" fill-opacity=\"1\" /><path clip-path=\"url(#clip980)\" d=\"M 0 0 M1260.53 1525.87 Q1259.55 1525.3 1258.37 1525.04 Q1257.22 1524.76 1255.82 1524.76 Q1250.86 1524.76 1248.18 1528 Q1245.54 1531.22 1245.54 1537.27 L1245.54 1556.04 L1239.65 1556.04 L1239.65 1520.4 L1245.54 1520.4 L1245.54 1525.93 Q1247.39 1522.69 1250.35 1521.13 Q1253.31 1519.54 1257.54 1519.54 Q1258.15 1519.54 1258.88 1519.63 Q1259.61 1519.7 1260.5 1519.85 L1260.53 1525.87 Z\" fill=\"#000000\" fill-rule=\"evenodd\" fill-opacity=\"1\" /><path clip-path=\"url(#clip980)\" d=\"M 0 0 M1282.88 1538.12 Q1275.78 1538.12 1273.04 1539.75 Q1270.3 1541.37 1270.3 1545.29 Q1270.3 1548.4 1272.34 1550.25 Q1274.41 1552.07 1277.94 1552.07 Q1282.81 1552.07 1285.74 1548.63 Q1288.7 1545.16 1288.7 1539.43 L1288.7 1538.12 L1282.88 1538.12 M1294.56 1535.71 L1294.56 1556.04 L1288.7 1556.04 L1288.7 1550.63 Q1286.7 1553.88 1283.7 1555.44 Q1280.71 1556.97 1276.38 1556.97 Q1270.91 1556.97 1267.66 1553.91 Q1264.45 1550.82 1264.45 1545.67 Q1264.45 1539.65 1268.46 1536.6 Q1272.5 1533.54 1280.49 1533.54 L1288.7 1533.54 L1288.7 1532.97 Q1288.7 1528.93 1286.03 1526.73 Q1283.39 1524.5 1278.58 1524.5 Q1275.52 1524.5 1272.63 1525.23 Q1269.73 1525.97 1267.06 1527.43 L1267.06 1522.02 Q1270.27 1520.78 1273.3 1520.17 Q1276.32 1519.54 1279.18 1519.54 Q1286.92 1519.54 1290.74 1523.55 Q1294.56 1527.56 1294.56 1535.71 Z\" fill=\"#000000\" fill-rule=\"evenodd\" fill-opacity=\"1\" /><path clip-path=\"url(#clip980)\" d=\"M 0 0 M1300.7 1520.4 L1306.56 1520.4 L1306.56 1556.04 L1300.7 1556.04 L1300.7 1520.4 M1300.7 1506.52 L1306.56 1506.52 L1306.56 1513.93 L1300.7 1513.93 L1300.7 1506.52 Z\" fill=\"#000000\" fill-rule=\"evenodd\" fill-opacity=\"1\" /><path clip-path=\"url(#clip980)\" d=\"M 0 0 M1342.33 1534.53 L1342.33 1556.04 L1336.48 1556.04 L1336.48 1534.72 Q1336.48 1529.66 1334.5 1527.14 Q1332.53 1524.63 1328.58 1524.63 Q1323.84 1524.63 1321.1 1527.65 Q1318.37 1530.68 1318.37 1535.9 L1318.37 1556.04 L1312.48 1556.04 L1312.48 1520.4 L1318.37 1520.4 L1318.37 1525.93 Q1320.47 1522.72 1323.3 1521.13 Q1326.16 1519.54 1329.89 1519.54 Q1336.03 1519.54 1339.18 1523.36 Q1342.33 1527.14 1342.33 1534.53 Z\" fill=\"#000000\" fill-rule=\"evenodd\" fill-opacity=\"1\" /><path clip-path=\"url(#clip980)\" d=\"M 0 0 M1348.48 1520.4 L1354.33 1520.4 L1354.33 1556.04 L1348.48 1556.04 L1348.48 1520.4 M1348.48 1506.52 L1354.33 1506.52 L1354.33 1513.93 L1348.48 1513.93 L1348.48 1506.52 Z\" fill=\"#000000\" fill-rule=\"evenodd\" fill-opacity=\"1\" /><path clip-path=\"url(#clip980)\" d=\"M 0 0 M1390.11 1534.53 L1390.11 1556.04 L1384.25 1556.04 L1384.25 1534.72 Q1384.25 1529.66 1382.28 1527.14 Q1380.3 1524.63 1376.36 1524.63 Q1371.61 1524.63 1368.88 1527.65 Q1366.14 1530.68 1366.14 1535.9 L1366.14 1556.04 L1360.25 1556.04 L1360.25 1520.4 L1366.14 1520.4 L1366.14 1525.93 Q1368.24 1522.72 1371.07 1521.13 Q1373.94 1519.54 1377.66 1519.54 Q1383.8 1519.54 1386.96 1523.36 Q1390.11 1527.14 1390.11 1534.53 Z\" fill=\"#000000\" fill-rule=\"evenodd\" fill-opacity=\"1\" /><path clip-path=\"url(#clip980)\" d=\"M 0 0 M1419.71 1537.81 Q1419.71 1531.44 1417.07 1527.94 Q1414.46 1524.44 1409.71 1524.44 Q1405 1524.44 1402.36 1527.94 Q1399.75 1531.44 1399.75 1537.81 Q1399.75 1544.14 1402.36 1547.64 Q1405 1551.14 1409.71 1551.14 Q1414.46 1551.14 1417.07 1547.64 Q1419.71 1544.14 1419.71 1537.81 M1425.56 1551.62 Q1425.56 1560.72 1421.52 1565.15 Q1417.48 1569.6 1409.14 1569.6 Q1406.05 1569.6 1403.32 1569.13 Q1400.58 1568.68 1398 1567.72 L1398 1562.03 Q1400.58 1563.43 1403.09 1564.1 Q1405.61 1564.76 1408.22 1564.76 Q1413.98 1564.76 1416.84 1561.74 Q1419.71 1558.75 1419.71 1552.67 L1419.71 1549.77 Q1417.89 1552.92 1415.06 1554.48 Q1412.23 1556.04 1408.28 1556.04 Q1401.72 1556.04 1397.71 1551.05 Q1393.7 1546.05 1393.7 1537.81 Q1393.7 1529.53 1397.71 1524.53 Q1401.72 1519.54 1408.28 1519.54 Q1412.23 1519.54 1415.06 1521.1 Q1417.89 1522.66 1419.71 1525.81 L1419.71 1520.4 L1425.56 1520.4 L1425.56 1551.62 Z\" fill=\"#000000\" fill-rule=\"evenodd\" fill-opacity=\"1\" /><path clip-path=\"url(#clip980)\" d=\"M 0 0 M1481.17 1510.08 L1481.17 1516.35 Q1477.51 1514.6 1474.26 1513.74 Q1471.01 1512.88 1467.99 1512.88 Q1462.74 1512.88 1459.87 1514.92 Q1457.04 1516.96 1457.04 1520.71 Q1457.04 1523.87 1458.92 1525.49 Q1460.83 1527.08 1466.11 1528.07 L1470 1528.86 Q1477.19 1530.23 1480.6 1533.7 Q1484.03 1537.14 1484.03 1542.93 Q1484.03 1549.84 1479.39 1553.4 Q1474.77 1556.97 1465.83 1556.97 Q1462.45 1556.97 1458.63 1556.2 Q1454.85 1555.44 1450.77 1553.94 L1450.77 1547.32 Q1454.69 1549.52 1458.44 1550.63 Q1462.2 1551.75 1465.83 1551.75 Q1471.33 1551.75 1474.33 1549.58 Q1477.32 1547.42 1477.32 1543.41 Q1477.32 1539.91 1475.15 1537.93 Q1473.02 1535.96 1468.12 1534.97 L1464.2 1534.21 Q1457.01 1532.78 1453.8 1529.72 Q1450.58 1526.67 1450.58 1521.22 Q1450.58 1514.92 1455.01 1511.29 Q1459.46 1507.66 1467.26 1507.66 Q1470.6 1507.66 1474.07 1508.27 Q1477.54 1508.87 1481.17 1510.08 Z\" fill=\"#000000\" fill-rule=\"evenodd\" fill-opacity=\"1\" /><path clip-path=\"url(#clip980)\" d=\"M 0 0 M1506.38 1538.12 Q1499.28 1538.12 1496.54 1539.75 Q1493.8 1541.37 1493.8 1545.29 Q1493.8 1548.4 1495.84 1550.25 Q1497.91 1552.07 1501.44 1552.07 Q1506.31 1552.07 1509.24 1548.63 Q1512.2 1545.16 1512.2 1539.43 L1512.2 1538.12 L1506.38 1538.12 M1518.06 1535.71 L1518.06 1556.04 L1512.2 1556.04 L1512.2 1550.63 Q1510.2 1553.88 1507.2 1555.44 Q1504.21 1556.97 1499.88 1556.97 Q1494.41 1556.97 1491.16 1553.91 Q1487.95 1550.82 1487.95 1545.67 Q1487.95 1539.65 1491.96 1536.6 Q1496 1533.54 1503.99 1533.54 L1512.2 1533.54 L1512.2 1532.97 Q1512.2 1528.93 1509.53 1526.73 Q1506.89 1524.5 1502.08 1524.5 Q1499.02 1524.5 1496.13 1525.23 Q1493.23 1525.97 1490.56 1527.43 L1490.56 1522.02 Q1493.77 1520.78 1496.8 1520.17 Q1499.82 1519.54 1502.68 1519.54 Q1510.42 1519.54 1514.24 1523.55 Q1518.06 1527.56 1518.06 1535.71 Z\" fill=\"#000000\" fill-rule=\"evenodd\" fill-opacity=\"1\" /><path clip-path=\"url(#clip980)\" d=\"M 0 0 M1551.95 1527.24 Q1554.15 1523.29 1557.21 1521.41 Q1560.26 1519.54 1564.4 1519.54 Q1569.97 1519.54 1572.99 1523.45 Q1576.02 1527.33 1576.02 1534.53 L1576.02 1556.04 L1570.13 1556.04 L1570.13 1534.72 Q1570.13 1529.59 1568.31 1527.11 Q1566.5 1524.63 1562.78 1524.63 Q1558.23 1524.63 1555.58 1527.65 Q1552.94 1530.68 1552.94 1535.9 L1552.94 1556.04 L1547.05 1556.04 L1547.05 1534.72 Q1547.05 1529.56 1545.24 1527.11 Q1543.42 1524.63 1539.64 1524.63 Q1535.15 1524.63 1532.51 1527.68 Q1529.87 1530.71 1529.87 1535.9 L1529.87 1556.04 L1523.98 1556.04 L1523.98 1520.4 L1529.87 1520.4 L1529.87 1525.93 Q1531.87 1522.66 1534.67 1521.1 Q1537.47 1519.54 1541.32 1519.54 Q1545.21 1519.54 1547.91 1521.51 Q1550.65 1523.48 1551.95 1527.24 Z\" fill=\"#000000\" fill-rule=\"evenodd\" fill-opacity=\"1\" /><path clip-path=\"url(#clip980)\" d=\"M 0 0 M1587.83 1550.7 L1587.83 1569.6 L1581.94 1569.6 L1581.94 1520.4 L1587.83 1520.4 L1587.83 1525.81 Q1589.67 1522.62 1592.47 1521.1 Q1595.31 1519.54 1599.22 1519.54 Q1605.71 1519.54 1609.76 1524.69 Q1613.83 1529.85 1613.83 1538.25 Q1613.83 1546.65 1609.76 1551.81 Q1605.71 1556.97 1599.22 1556.97 Q1595.31 1556.97 1592.47 1555.44 Q1589.67 1553.88 1587.83 1550.7 M1607.75 1538.25 Q1607.75 1531.79 1605.08 1528.13 Q1602.43 1524.44 1597.79 1524.44 Q1593.14 1524.44 1590.47 1528.13 Q1587.83 1531.79 1587.83 1538.25 Q1587.83 1544.71 1590.47 1548.4 Q1593.14 1552.07 1597.79 1552.07 Q1602.43 1552.07 1605.08 1548.4 Q1607.75 1544.71 1607.75 1538.25 Z\" fill=\"#000000\" fill-rule=\"evenodd\" fill-opacity=\"1\" /><path clip-path=\"url(#clip980)\" d=\"M 0 0 M1619.97 1506.52 L1625.83 1506.52 L1625.83 1556.04 L1619.97 1556.04 L1619.97 1506.52 Z\" fill=\"#000000\" fill-rule=\"evenodd\" fill-opacity=\"1\" /><path clip-path=\"url(#clip980)\" d=\"M 0 0 M1662.46 1536.76 L1662.46 1539.62 L1635.54 1539.62 Q1635.92 1545.67 1639.17 1548.85 Q1642.44 1552 1648.27 1552 Q1651.64 1552 1654.79 1551.17 Q1657.98 1550.35 1661.09 1548.69 L1661.09 1554.23 Q1657.94 1555.57 1654.63 1556.27 Q1651.32 1556.97 1647.92 1556.97 Q1639.39 1556.97 1634.39 1552 Q1629.43 1547.04 1629.43 1538.57 Q1629.43 1529.82 1634.14 1524.69 Q1638.88 1519.54 1646.9 1519.54 Q1654.09 1519.54 1658.26 1524.18 Q1662.46 1528.8 1662.46 1536.76 M1656.61 1535.04 Q1656.54 1530.23 1653.9 1527.37 Q1651.29 1524.5 1646.96 1524.5 Q1642.06 1524.5 1639.1 1527.27 Q1636.17 1530.04 1635.73 1535.07 L1656.61 1535.04 Z\" fill=\"#000000\" fill-rule=\"evenodd\" fill-opacity=\"1\" /><path clip-path=\"url(#clip980)\" d=\"M 0 0 M1691.33 1521.45 L1691.33 1526.98 Q1688.85 1525.71 1686.18 1525.07 Q1683.5 1524.44 1680.64 1524.44 Q1676.28 1524.44 1674.08 1525.77 Q1671.92 1527.11 1671.92 1529.79 Q1671.92 1531.82 1673.48 1533 Q1675.04 1534.15 1679.75 1535.2 L1681.75 1535.64 Q1687.99 1536.98 1690.6 1539.43 Q1693.24 1541.85 1693.24 1546.21 Q1693.24 1551.17 1689.3 1554.07 Q1685.38 1556.97 1678.51 1556.97 Q1675.64 1556.97 1672.52 1556.39 Q1669.43 1555.85 1666 1554.74 L1666 1548.69 Q1669.24 1550.38 1672.39 1551.24 Q1675.55 1552.07 1678.63 1552.07 Q1682.77 1552.07 1685 1550.66 Q1687.23 1549.23 1687.23 1546.65 Q1687.23 1544.27 1685.6 1542.99 Q1684.01 1541.72 1678.57 1540.54 L1676.53 1540.07 Q1671.09 1538.92 1668.67 1536.56 Q1666.25 1534.18 1666.25 1530.04 Q1666.25 1525.01 1669.82 1522.27 Q1673.38 1519.54 1679.94 1519.54 Q1683.18 1519.54 1686.05 1520.01 Q1688.91 1520.49 1691.33 1521.45 Z\" fill=\"#000000\" fill-rule=\"evenodd\" fill-opacity=\"1\" /><path clip-path=\"url(#clip980)\" d=\"M 0 0 M44.1444 904.492 L50.9239 904.492 Q47.9002 907.739 46.4043 911.431 Q44.9083 915.091 44.9083 919.229 Q44.9083 927.377 49.9054 931.705 Q54.8707 936.034 64.2919 936.034 Q73.6813 936.034 78.6784 931.705 Q83.6436 927.377 83.6436 919.229 Q83.6436 915.091 82.1477 911.431 Q80.6518 907.739 77.6281 904.492 L84.3439 904.492 Q86.6355 907.866 87.7814 911.653 Q88.9272 915.409 88.9272 919.611 Q88.9272 930.4 82.3387 936.607 Q75.7183 942.814 64.2919 942.814 Q52.8336 942.814 46.2451 936.607 Q39.6248 930.4 39.6248 919.611 Q39.6248 915.346 40.7706 911.59 Q41.8846 907.802 44.1444 904.492 Z\" fill=\"#000000\" fill-rule=\"evenodd\" fill-opacity=\"1\" /><path clip-path=\"url(#clip980)\" d=\"M 0 0 M57.8307 877.692 Q57.2578 878.679 57.0032 879.857 Q56.7167 881.003 56.7167 882.403 Q56.7167 887.368 59.9632 890.042 Q63.1779 892.684 69.2253 892.684 L88.0042 892.684 L88.0042 898.572 L52.3562 898.572 L52.3562 892.684 L57.8944 892.684 Q54.6479 890.838 53.0883 887.878 Q51.4968 884.917 51.4968 880.684 Q51.4968 880.08 51.5923 879.347 Q51.656 878.615 51.8151 877.724 L57.8307 877.692 Z\" fill=\"#000000\" fill-rule=\"evenodd\" fill-opacity=\"1\" /><path clip-path=\"url(#clip980)\" d=\"M 0 0 M56.4621 859.168 Q56.4621 863.879 60.1542 866.616 Q63.8145 869.353 70.212 869.353 Q76.6095 869.353 80.3017 866.648 Q83.9619 863.911 83.9619 859.168 Q83.9619 854.489 80.2698 851.752 Q76.5777 849.015 70.212 849.015 Q63.8781 849.015 60.186 851.752 Q56.4621 854.489 56.4621 859.168 M51.4968 859.168 Q51.4968 851.529 56.4621 847.169 Q61.4273 842.808 70.212 842.808 Q78.9649 842.808 83.9619 847.169 Q88.9272 851.529 88.9272 859.168 Q88.9272 866.839 83.9619 871.199 Q78.9649 875.528 70.212 875.528 Q61.4273 875.528 56.4621 871.199 Q51.4968 866.839 51.4968 859.168 Z\" fill=\"#000000\" fill-rule=\"evenodd\" fill-opacity=\"1\" /><path clip-path=\"url(#clip980)\" d=\"M 0 0 M53.4065 813.94 L58.9447 813.94 Q57.6716 816.422 57.035 819.096 Q56.3984 821.77 56.3984 824.634 Q56.3984 828.995 57.7352 831.191 Q59.072 833.355 61.7456 833.355 Q63.7826 833.355 64.9603 831.796 Q66.1061 830.236 67.1565 825.525 L67.6021 823.52 Q68.9389 817.282 71.3897 814.672 Q73.8086 812.03 78.1691 812.03 Q83.1344 812.03 86.0308 815.977 Q88.9272 819.892 88.9272 826.767 Q88.9272 829.631 88.3543 832.751 Q87.8132 835.838 86.6992 839.275 L80.6518 839.275 Q82.3387 836.029 83.198 832.878 Q84.0256 829.727 84.0256 826.639 Q84.0256 822.502 82.6251 820.274 Q81.1929 818.046 78.6147 818.046 Q76.2276 818.046 74.9545 819.669 Q73.6813 821.26 72.5037 826.703 L72.0262 828.74 Q70.8804 834.183 68.5251 836.602 Q66.138 839.021 62.0002 839.021 Q56.9713 839.021 54.2341 835.456 Q51.4968 831.891 51.4968 825.334 Q51.4968 822.088 51.9743 819.223 Q52.4517 816.359 53.4065 813.94 Z\" fill=\"#000000\" fill-rule=\"evenodd\" fill-opacity=\"1\" /><path clip-path=\"url(#clip980)\" d=\"M 0 0 M53.4065 783.162 L58.9447 783.162 Q57.6716 785.644 57.035 788.318 Q56.3984 790.991 56.3984 793.856 Q56.3984 798.217 57.7352 800.413 Q59.072 802.577 61.7456 802.577 Q63.7826 802.577 64.9603 801.017 Q66.1061 799.458 67.1565 794.747 L67.6021 792.742 Q68.9389 786.504 71.3897 783.894 Q73.8086 781.252 78.1691 781.252 Q83.1344 781.252 86.0308 785.199 Q88.9272 789.114 88.9272 795.989 Q88.9272 798.853 88.3543 801.972 Q87.8132 805.06 86.6992 808.497 L80.6518 808.497 Q82.3387 805.251 83.198 802.1 Q84.0256 798.949 84.0256 795.861 Q84.0256 791.724 82.6251 789.496 Q81.1929 787.268 78.6147 787.268 Q76.2276 787.268 74.9545 788.891 Q73.6813 790.482 72.5037 795.925 L72.0262 797.962 Q70.8804 803.405 68.5251 805.824 Q66.138 808.243 62.0002 808.243 Q56.9713 808.243 54.2341 804.678 Q51.4968 801.113 51.4968 794.556 Q51.4968 791.31 51.9743 788.445 Q52.4517 785.581 53.4065 783.162 Z\" fill=\"#000000\" fill-rule=\"evenodd\" fill-opacity=\"1\" /><path clip-path=\"url(#clip980)\" d=\"M 0 0 M40.4842 754.134 L40.4842 724.088 L45.895 724.088 L45.895 747.705 L59.9632 747.705 L59.9632 725.075 L65.3741 725.075 L65.3741 747.705 L82.5933 747.705 L82.5933 723.515 L88.0042 723.515 L88.0042 754.134 L40.4842 754.134 Z\" fill=\"#000000\" fill-rule=\"evenodd\" fill-opacity=\"1\" /><path clip-path=\"url(#clip980)\" d=\"M 0 0 M66.4881 687.74 L88.0042 687.74 L88.0042 693.596 L66.679 693.596 Q61.6183 693.596 59.1038 695.57 Q56.5894 697.543 56.5894 701.49 Q56.5894 706.232 59.6131 708.969 Q62.6368 711.707 67.8567 711.707 L88.0042 711.707 L88.0042 717.595 L52.3562 717.595 L52.3562 711.707 L57.8944 711.707 Q54.6797 709.606 53.0883 706.773 Q51.4968 703.909 51.4968 700.185 Q51.4968 694.042 55.3163 690.891 Q59.1038 687.74 66.4881 687.74 Z\" fill=\"#000000\" fill-rule=\"evenodd\" fill-opacity=\"1\" /><path clip-path=\"url(#clip980)\" d=\"M 0 0 M42.2347 675.804 L52.3562 675.804 L52.3562 663.741 L56.9077 663.741 L56.9077 675.804 L76.2594 675.804 Q80.6199 675.804 81.8613 674.626 Q83.1026 673.417 83.1026 669.757 L83.1026 663.741 L88.0042 663.741 L88.0042 669.757 Q88.0042 676.536 85.4897 679.114 Q82.9434 681.692 76.2594 681.692 L56.9077 681.692 L56.9077 685.989 L52.3562 685.989 L52.3562 681.692 L42.2347 681.692 L42.2347 675.804 Z\" fill=\"#000000\" fill-rule=\"evenodd\" fill-opacity=\"1\" /><path clip-path=\"url(#clip980)\" d=\"M 0 0 M57.8307 636.941 Q57.2578 637.928 57.0032 639.106 Q56.7167 640.252 56.7167 641.652 Q56.7167 646.617 59.9632 649.291 Q63.1779 651.933 69.2253 651.933 L88.0042 651.933 L88.0042 657.821 L52.3562 657.821 L52.3562 651.933 L57.8944 651.933 Q54.6479 650.087 53.0883 647.127 Q51.4968 644.166 51.4968 639.933 Q51.4968 639.329 51.5923 638.596 Q51.656 637.864 51.8151 636.973 L57.8307 636.941 Z\" fill=\"#000000\" fill-rule=\"evenodd\" fill-opacity=\"1\" /><path clip-path=\"url(#clip980)\" d=\"M 0 0 M56.4621 618.417 Q56.4621 623.128 60.1542 625.865 Q63.8145 628.602 70.212 628.602 Q76.6095 628.602 80.3017 625.897 Q83.9619 623.16 83.9619 618.417 Q83.9619 613.738 80.2698 611.001 Q76.5777 608.264 70.212 608.264 Q63.8781 608.264 60.186 611.001 Q56.4621 613.738 56.4621 618.417 M51.4968 618.417 Q51.4968 610.778 56.4621 606.418 Q61.4273 602.057 70.212 602.057 Q78.9649 602.057 83.9619 606.418 Q88.9272 610.778 88.9272 618.417 Q88.9272 626.088 83.9619 630.448 Q78.9649 634.777 70.212 634.777 Q61.4273 634.777 56.4621 630.448 Q51.4968 626.088 51.4968 618.417 Z\" fill=\"#000000\" fill-rule=\"evenodd\" fill-opacity=\"1\" /><path clip-path=\"url(#clip980)\" d=\"M 0 0 M82.657 590.249 L101.563 590.249 L101.563 596.137 L52.3562 596.137 L52.3562 590.249 L57.7671 590.249 Q54.5842 588.403 53.0564 585.602 Q51.4968 582.769 51.4968 578.854 Q51.4968 572.361 56.6531 568.319 Q61.8093 564.245 70.212 564.245 Q78.6147 564.245 83.771 568.319 Q88.9272 572.361 88.9272 578.854 Q88.9272 582.769 87.3994 585.602 Q85.8398 588.403 82.657 590.249 M70.212 570.324 Q63.7508 570.324 60.0905 572.998 Q56.3984 575.64 56.3984 580.287 Q56.3984 584.934 60.0905 587.607 Q63.7508 590.249 70.212 590.249 Q76.6732 590.249 80.3653 587.607 Q84.0256 584.934 84.0256 580.287 Q84.0256 575.64 80.3653 572.998 Q76.6732 570.324 70.212 570.324 Z\" fill=\"#000000\" fill-rule=\"evenodd\" fill-opacity=\"1\" /><path clip-path=\"url(#clip980)\" d=\"M 0 0 M91.3143 543.27 Q97.68 545.753 99.6216 548.108 Q101.563 550.463 101.563 554.41 L101.563 559.089 L96.6615 559.089 L96.6615 555.651 Q96.6615 553.232 95.5157 551.896 Q94.3699 550.559 90.1048 548.935 L87.4312 547.885 L52.3562 562.303 L52.3562 556.097 L80.238 544.957 L52.3562 533.817 L52.3562 527.61 L91.3143 543.27 Z\" fill=\"#000000\" fill-rule=\"evenodd\" fill-opacity=\"1\" /><polyline clip-path=\"url(#clip982)\" style=\"stroke:#009af9; stroke-width:4; stroke-opacity:1; fill:none\" points=\"\n",
       "  271.886,1383.11 301.596,1382.99 331.306,1284.33 361.015,1384.17 390.725,1384.1 420.435,1156.15 450.145,1384.22 479.854,1384.21 509.564,1384.23 539.274,1384.23 \n",
       "  568.984,1384.23 598.693,1384.24 628.403,1384.24 658.113,1335.61 687.822,1384.24 717.532,1384.24 747.242,1118.15 776.952,1384.24 806.661,1384.24 836.371,1156.17 \n",
       "  866.081,1166.53 895.791,1384.24 925.5,1168.04 955.21,1384.24 984.92,1184.67 1014.63,1384.24 1044.34,1384.24 1074.05,1384.24 1103.76,1384.24 1133.47,1191.11 \n",
       "  1163.18,1384.24 1192.89,1190.72 1222.6,1384.24 1252.31,1201.78 1282.02,1384.24 1311.73,1384.24 1341.44,1384.24 1371.15,1210.26 1400.86,1196.37 1430.57,1384.24 \n",
       "  1460.28,1384.23 1489.99,1333.35 1519.69,1384.23 1549.4,1384.24 1579.11,1384.23 1608.82,1205.91 1638.53,1384.24 1668.24,1384.24 1697.95,1355.06 1727.66,1384.24 \n",
       "  1757.37,1200.03 1787.08,1071.84 1816.79,1192.07 1846.5,1195.56 1876.21,1384.24 1905.92,1371.44 1935.63,1198.44 1965.34,1371.87 1995.05,1384.24 2024.76,1372.28 \n",
       "  2054.47,1384.24 2084.18,1372.66 2113.89,1372.84 2143.6,1373.01 2173.31,1202.82 2203.02,1211.48 2232.73,1352.06 2262.44,1197.64 2292.15,1213.18 \n",
       "  \"/>\n",
       "<polyline clip-path=\"url(#clip982)\" style=\"stroke:#e26f46; stroke-width:4; stroke-opacity:1; fill:none\" points=\"\n",
       "  271.886,86.1857 301.596,283.018 331.306,769.189 361.015,792.664 390.725,923.754 420.435,1014.24 450.145,970.341 479.854,977.387 509.564,971.503 539.274,970.083 \n",
       "  568.984,911.803 598.693,1140.45 628.403,1093.64 658.113,1091.94 687.822,1135.18 717.532,1137.51 747.242,1204.84 776.952,1135.58 806.661,1136.99 836.371,1222.56 \n",
       "  866.081,1203.17 895.791,1183.53 925.5,1181.46 955.21,1259.8 984.92,1213.5 1014.63,1260.66 1044.34,1259.6 1074.05,1259.92 1103.76,1153.24 1133.47,1183.43 \n",
       "  1163.18,1198.02 1192.89,1196.38 1222.6,1154.77 1252.31,1188.33 1282.02,1187.77 1311.73,1176.98 1341.44,1182.38 1371.15,1244.93 1400.86,1221.75 1430.57,1252.55 \n",
       "  1460.28,1226.98 1489.99,1178.51 1519.69,1235.72 1549.4,1218.32 1579.11,1258.96 1608.82,1202.56 1638.53,1230.36 1668.24,1234.58 1697.95,1209.46 1727.66,1247.23 \n",
       "  1757.37,1206.72 1787.08,1114.55 1816.79,1226.37 1846.5,1187.78 1876.21,1241.08 1905.92,1142.18 1935.63,1146.98 1965.34,1216.54 1995.05,1238.07 2024.76,1218.46 \n",
       "  2054.47,1218.56 2084.18,1240.61 2113.89,1251.01 2143.6,1219.22 2173.31,1235.68 2203.02,1223.55 2232.73,1216.57 2262.44,1223.12 2292.15,1260.19 \n",
       "  \"/>\n",
       "<path clip-path=\"url(#clip980)\" d=\"\n",
       "M1844.1 274.549 L2281.37 274.549 L2281.37 93.1086 L1844.1 93.1086  Z\n",
       "  \" fill=\"#ffffff\" fill-rule=\"evenodd\" fill-opacity=\"1\"/>\n",
       "<polyline clip-path=\"url(#clip980)\" style=\"stroke:#000000; stroke-width:4; stroke-opacity:1; fill:none\" points=\"\n",
       "  1844.1,274.549 2281.37,274.549 2281.37,93.1086 1844.1,93.1086 1844.1,274.549 \n",
       "  \"/>\n",
       "<polyline clip-path=\"url(#clip980)\" style=\"stroke:#009af9; stroke-width:4; stroke-opacity:1; fill:none\" points=\"\n",
       "  1867.9,153.589 2010.66,153.589 \n",
       "  \"/>\n",
       "<path clip-path=\"url(#clip980)\" d=\"M 0 0 M2034.46 136.309 L2063.69 136.309 L2063.69 140.244 L2051.42 140.244 L2051.42 170.869 L2046.73 170.869 L2046.73 140.244 L2034.46 140.244 L2034.46 136.309 Z\" fill=\"#000000\" fill-rule=\"evenodd\" fill-opacity=\"1\" /><path clip-path=\"url(#clip980)\" d=\"M 0 0 M2076.22 148.924 Q2075.5 148.508 2074.64 148.322 Q2073.81 148.114 2072.79 148.114 Q2069.18 148.114 2067.23 150.475 Q2065.31 152.813 2065.31 157.211 L2065.31 170.869 L2061.03 170.869 L2061.03 144.943 L2065.31 144.943 L2065.31 148.971 Q2066.66 146.609 2068.81 145.475 Q2070.96 144.318 2074.04 144.318 Q2074.48 144.318 2075.01 144.387 Q2075.55 144.434 2076.19 144.549 L2076.22 148.924 Z\" fill=\"#000000\" fill-rule=\"evenodd\" fill-opacity=\"1\" /><path clip-path=\"url(#clip980)\" d=\"M 0 0 M2092.47 157.836 Q2087.3 157.836 2085.31 159.017 Q2083.32 160.197 2083.32 163.045 Q2083.32 165.313 2084.8 166.656 Q2086.31 167.975 2088.88 167.975 Q2092.42 167.975 2094.55 165.475 Q2096.7 162.952 2096.7 158.785 L2096.7 157.836 L2092.47 157.836 M2100.96 156.077 L2100.96 170.869 L2096.7 170.869 L2096.7 166.933 Q2095.24 169.295 2093.07 170.429 Q2090.89 171.54 2087.74 171.54 Q2083.76 171.54 2081.4 169.318 Q2079.06 167.072 2079.06 163.322 Q2079.06 158.947 2081.98 156.725 Q2084.92 154.503 2090.73 154.503 L2096.7 154.503 L2096.7 154.086 Q2096.7 151.147 2094.76 149.549 Q2092.84 147.929 2089.34 147.929 Q2087.12 147.929 2085.01 148.461 Q2082.91 148.994 2080.96 150.059 L2080.96 146.123 Q2083.3 145.221 2085.5 144.781 Q2087.7 144.318 2089.78 144.318 Q2095.41 144.318 2098.18 147.234 Q2100.96 150.151 2100.96 156.077 Z\" fill=\"#000000\" fill-rule=\"evenodd\" fill-opacity=\"1\" /><path clip-path=\"url(#clip980)\" d=\"M 0 0 M2105.43 144.943 L2109.69 144.943 L2109.69 170.869 L2105.43 170.869 L2105.43 144.943 M2105.43 134.85 L2109.69 134.85 L2109.69 140.244 L2105.43 140.244 L2105.43 134.85 Z\" fill=\"#000000\" fill-rule=\"evenodd\" fill-opacity=\"1\" /><path clip-path=\"url(#clip980)\" d=\"M 0 0 M2135.71 155.221 L2135.71 170.869 L2131.45 170.869 L2131.45 155.359 Q2131.45 151.679 2130.01 149.85 Q2128.58 148.022 2125.71 148.022 Q2122.26 148.022 2120.27 150.221 Q2118.28 152.42 2118.28 156.216 L2118.28 170.869 L2113.99 170.869 L2113.99 144.943 L2118.28 144.943 L2118.28 148.971 Q2119.8 146.633 2121.86 145.475 Q2123.95 144.318 2126.66 144.318 Q2131.12 144.318 2133.42 147.096 Q2135.71 149.85 2135.71 155.221 Z\" fill=\"#000000\" fill-rule=\"evenodd\" fill-opacity=\"1\" /><path clip-path=\"url(#clip980)\" d=\"M 0 0 M2140.17 144.943 L2144.43 144.943 L2144.43 170.869 L2140.17 170.869 L2140.17 144.943 M2140.17 134.85 L2144.43 134.85 L2144.43 140.244 L2140.17 140.244 L2140.17 134.85 Z\" fill=\"#000000\" fill-rule=\"evenodd\" fill-opacity=\"1\" /><path clip-path=\"url(#clip980)\" d=\"M 0 0 M2170.45 155.221 L2170.45 170.869 L2166.19 170.869 L2166.19 155.359 Q2166.19 151.679 2164.76 149.85 Q2163.32 148.022 2160.45 148.022 Q2157 148.022 2155.01 150.221 Q2153.02 152.42 2153.02 156.216 L2153.02 170.869 L2148.74 170.869 L2148.74 144.943 L2153.02 144.943 L2153.02 148.971 Q2154.55 146.633 2156.61 145.475 Q2158.69 144.318 2161.4 144.318 Q2165.87 144.318 2168.16 147.096 Q2170.45 149.85 2170.45 155.221 Z\" fill=\"#000000\" fill-rule=\"evenodd\" fill-opacity=\"1\" /><path clip-path=\"url(#clip980)\" d=\"M 0 0 M2191.98 157.605 Q2191.98 152.975 2190.06 150.429 Q2188.16 147.883 2184.71 147.883 Q2181.29 147.883 2179.36 150.429 Q2177.47 152.975 2177.47 157.605 Q2177.47 162.211 2179.36 164.758 Q2181.29 167.304 2184.71 167.304 Q2188.16 167.304 2190.06 164.758 Q2191.98 162.211 2191.98 157.605 M2196.24 167.651 Q2196.24 174.271 2193.3 177.489 Q2190.36 180.73 2184.29 180.73 Q2182.05 180.73 2180.06 180.382 Q2178.07 180.058 2176.19 179.364 L2176.19 175.22 Q2178.07 176.239 2179.9 176.725 Q2181.73 177.211 2183.62 177.211 Q2187.81 177.211 2189.9 175.012 Q2191.98 172.836 2191.98 168.415 L2191.98 166.308 Q2190.66 168.6 2188.6 169.734 Q2186.54 170.869 2183.67 170.869 Q2178.9 170.869 2175.98 167.234 Q2173.07 163.6 2173.07 157.605 Q2173.07 151.586 2175.98 147.952 Q2178.9 144.318 2183.67 144.318 Q2186.54 144.318 2188.6 145.452 Q2190.66 146.586 2191.98 148.878 L2191.98 144.943 L2196.24 144.943 L2196.24 167.651 Z\" fill=\"#000000\" fill-rule=\"evenodd\" fill-opacity=\"1\" /><polyline clip-path=\"url(#clip980)\" style=\"stroke:#e26f46; stroke-width:4; stroke-opacity:1; fill:none\" points=\"\n",
       "  1867.9,214.069 2010.66,214.069 \n",
       "  \"/>\n",
       "<path clip-path=\"url(#clip980)\" d=\"M 0 0 M2047.65 231.349 L2034.46 196.789 L2039.34 196.789 L2050.29 225.886 L2061.26 196.789 L2066.12 196.789 L2052.95 231.349 L2047.65 231.349 Z\" fill=\"#000000\" fill-rule=\"evenodd\" fill-opacity=\"1\" /><path clip-path=\"url(#clip980)\" d=\"M 0 0 M2078.69 218.316 Q2073.53 218.316 2071.54 219.497 Q2069.55 220.677 2069.55 223.525 Q2069.55 225.793 2071.03 227.136 Q2072.54 228.455 2075.11 228.455 Q2078.65 228.455 2080.78 225.955 Q2082.93 223.432 2082.93 219.265 L2082.93 218.316 L2078.69 218.316 M2087.19 216.557 L2087.19 231.349 L2082.93 231.349 L2082.93 227.413 Q2081.47 229.775 2079.3 230.909 Q2077.12 232.02 2073.97 232.02 Q2069.99 232.02 2067.63 229.798 Q2065.29 227.552 2065.29 223.802 Q2065.29 219.427 2068.21 217.205 Q2071.15 214.983 2076.96 214.983 L2082.93 214.983 L2082.93 214.566 Q2082.93 211.627 2080.98 210.029 Q2079.06 208.409 2075.57 208.409 Q2073.35 208.409 2071.24 208.941 Q2069.13 209.474 2067.19 210.539 L2067.19 206.603 Q2069.53 205.701 2071.73 205.261 Q2073.92 204.798 2076.01 204.798 Q2081.63 204.798 2084.41 207.714 Q2087.19 210.631 2087.19 216.557 Z\" fill=\"#000000\" fill-rule=\"evenodd\" fill-opacity=\"1\" /><path clip-path=\"url(#clip980)\" d=\"M 0 0 M2091.66 195.33 L2095.92 195.33 L2095.92 231.349 L2091.66 231.349 L2091.66 195.33 Z\" fill=\"#000000\" fill-rule=\"evenodd\" fill-opacity=\"1\" /><path clip-path=\"url(#clip980)\" d=\"M 0 0 M2100.38 205.423 L2104.64 205.423 L2104.64 231.349 L2100.38 231.349 L2100.38 205.423 M2100.38 195.33 L2104.64 195.33 L2104.64 200.724 L2100.38 200.724 L2100.38 195.33 Z\" fill=\"#000000\" fill-rule=\"evenodd\" fill-opacity=\"1\" /><path clip-path=\"url(#clip980)\" d=\"M 0 0 M2126.17 209.358 L2126.17 195.33 L2130.43 195.33 L2130.43 231.349 L2126.17 231.349 L2126.17 227.46 Q2124.83 229.775 2122.77 230.909 Q2120.73 232.02 2117.86 232.02 Q2113.16 232.02 2110.2 228.27 Q2107.26 224.52 2107.26 218.409 Q2107.26 212.298 2110.2 208.548 Q2113.16 204.798 2117.86 204.798 Q2120.73 204.798 2122.77 205.932 Q2124.83 207.043 2126.17 209.358 M2111.66 218.409 Q2111.66 223.108 2113.58 225.793 Q2115.52 228.455 2118.9 228.455 Q2122.28 228.455 2124.23 225.793 Q2126.17 223.108 2126.17 218.409 Q2126.17 213.71 2124.23 211.048 Q2122.28 208.363 2118.9 208.363 Q2115.52 208.363 2113.58 211.048 Q2111.66 213.71 2111.66 218.409 Z\" fill=\"#000000\" fill-rule=\"evenodd\" fill-opacity=\"1\" /><path clip-path=\"url(#clip980)\" d=\"M 0 0 M2146.68 218.316 Q2141.52 218.316 2139.53 219.497 Q2137.54 220.677 2137.54 223.525 Q2137.54 225.793 2139.02 227.136 Q2140.52 228.455 2143.09 228.455 Q2146.63 228.455 2148.76 225.955 Q2150.92 223.432 2150.92 219.265 L2150.92 218.316 L2146.68 218.316 M2155.17 216.557 L2155.17 231.349 L2150.92 231.349 L2150.92 227.413 Q2149.46 229.775 2147.28 230.909 Q2145.1 232.02 2141.96 232.02 Q2137.98 232.02 2135.61 229.798 Q2133.28 227.552 2133.28 223.802 Q2133.28 219.427 2136.19 217.205 Q2139.13 214.983 2144.94 214.983 L2150.92 214.983 L2150.92 214.566 Q2150.92 211.627 2148.97 210.029 Q2147.05 208.409 2143.55 208.409 Q2141.33 208.409 2139.23 208.941 Q2137.12 209.474 2135.17 210.539 L2135.17 206.603 Q2137.51 205.701 2139.71 205.261 Q2141.91 204.798 2143.99 204.798 Q2149.62 204.798 2152.4 207.714 Q2155.17 210.631 2155.17 216.557 Z\" fill=\"#000000\" fill-rule=\"evenodd\" fill-opacity=\"1\" /><path clip-path=\"url(#clip980)\" d=\"M 0 0 M2163.85 198.062 L2163.85 205.423 L2172.63 205.423 L2172.63 208.733 L2163.85 208.733 L2163.85 222.807 Q2163.85 225.978 2164.71 226.881 Q2165.59 227.784 2168.25 227.784 L2172.63 227.784 L2172.63 231.349 L2168.25 231.349 Q2163.32 231.349 2161.45 229.52 Q2159.57 227.668 2159.57 222.807 L2159.57 208.733 L2156.45 208.733 L2156.45 205.423 L2159.57 205.423 L2159.57 198.062 L2163.85 198.062 Z\" fill=\"#000000\" fill-rule=\"evenodd\" fill-opacity=\"1\" /><path clip-path=\"url(#clip980)\" d=\"M 0 0 M2177.1 205.423 L2181.35 205.423 L2181.35 231.349 L2177.1 231.349 L2177.1 205.423 M2177.1 195.33 L2181.35 195.33 L2181.35 200.724 L2177.1 200.724 L2177.1 195.33 Z\" fill=\"#000000\" fill-rule=\"evenodd\" fill-opacity=\"1\" /><path clip-path=\"url(#clip980)\" d=\"M 0 0 M2195.87 208.409 Q2192.44 208.409 2190.45 211.094 Q2188.46 213.756 2188.46 218.409 Q2188.46 223.062 2190.43 225.747 Q2192.42 228.409 2195.87 228.409 Q2199.27 228.409 2201.26 225.724 Q2203.25 223.038 2203.25 218.409 Q2203.25 213.802 2201.26 211.117 Q2199.27 208.409 2195.87 208.409 M2195.87 204.798 Q2201.42 204.798 2204.6 208.409 Q2207.77 212.02 2207.77 218.409 Q2207.77 224.775 2204.6 228.409 Q2201.42 232.02 2195.87 232.02 Q2190.29 232.02 2187.12 228.409 Q2183.97 224.775 2183.97 218.409 Q2183.97 212.02 2187.12 208.409 Q2190.29 204.798 2195.87 204.798 Z\" fill=\"#000000\" fill-rule=\"evenodd\" fill-opacity=\"1\" /><path clip-path=\"url(#clip980)\" d=\"M 0 0 M2233.78 215.701 L2233.78 231.349 L2229.53 231.349 L2229.53 215.839 Q2229.53 212.159 2228.09 210.33 Q2226.66 208.502 2223.78 208.502 Q2220.34 208.502 2218.35 210.701 Q2216.35 212.9 2216.35 216.696 L2216.35 231.349 L2212.07 231.349 L2212.07 205.423 L2216.35 205.423 L2216.35 209.451 Q2217.88 207.113 2219.94 205.955 Q2222.03 204.798 2224.73 204.798 Q2229.2 204.798 2231.49 207.576 Q2233.78 210.33 2233.78 215.701 Z\" fill=\"#000000\" fill-rule=\"evenodd\" fill-opacity=\"1\" /></svg>\n"
      ]
     },
     "execution_count": 107,
     "metadata": {},
     "output_type": "execute_result"
    }
   ],
   "source": [
    "plot(data_schedule, training_losses, label=\"Training\")\n",
    "plot!(data_schedule, valid_losses, label=\"Validation\")\n",
    "xlabel!(\"Number of Training Samples\")\n",
    "ylabel!(\"Cross Entropy\")"
   ]
  },
  {
   "cell_type": "code",
   "execution_count": 108,
   "metadata": {},
   "outputs": [],
   "source": [
    "png(\"Figures/loss_curve_NN\")"
   ]
  },
  {
   "cell_type": "markdown",
   "metadata": {},
   "source": [
    "#### Learning Curve"
   ]
  },
  {
   "cell_type": "code",
   "execution_count": 109,
   "metadata": {},
   "outputs": [
    {
     "name": "stderr",
     "output_type": "stream",
     "text": [
      "┌ Info: Training \u001b[34mMachine{NeuralNetworkClassifier{CustomNN,…}} @791\u001b[39m.\n",
      "└ @ MLJBase /home/andrew/.julia/packages/MLJBase/uKzAz/src/machines.jl:319\n",
      "\u001b[33mOptimising neural net:100%[=========================] Time: 0:00:20\u001b[39m\n"
     ]
    },
    {
     "data": {
      "text/plain": [
       "\u001b[34mMachine{NeuralNetworkClassifier{CustomNN,…}} @791\u001b[39m trained 1 time.\n",
       "  args: \n",
       "    1:\t\u001b[34mSource @107\u001b[39m ⏎ `Table{AbstractArray{Continuous,1}}`\n",
       "    2:\t\u001b[34mSource @964\u001b[39m ⏎ `AbstractArray{Multiclass{3},1}`\n"
      ]
     },
     "execution_count": 109,
     "metadata": {},
     "output_type": "execute_result"
    }
   ],
   "source": [
    "Net = machine(lc_model, X_stand, y)\n",
    "Net.model.epochs = max_epochs\n",
    "fit!(Net, rows=train, verbosity=1, force=true)"
   ]
  },
  {
   "cell_type": "code",
   "execution_count": 110,
   "metadata": {},
   "outputs": [
    {
     "name": "stderr",
     "output_type": "stream",
     "text": [
      "\u001b[33mEvaluating over 6 folds: 100%[=========================] Time: 0:02:06\u001b[39m\n"
     ]
    },
    {
     "data": {
      "text/plain": [
       "┌\u001b[0m───────────────\u001b[0m┬\u001b[0m───────────────\u001b[0m┬\u001b[0m───────────────────────────────────────────────────\u001b[0m┐\u001b[0m\n",
       "│\u001b[0m\u001b[22m _.measure     \u001b[0m│\u001b[0m\u001b[22m _.measurement \u001b[0m│\u001b[0m\u001b[22m _.per_fold                                        \u001b[0m│\u001b[0m\n",
       "├\u001b[0m───────────────\u001b[0m┼\u001b[0m───────────────\u001b[0m┼\u001b[0m───────────────────────────────────────────────────\u001b[0m┤\u001b[0m\n",
       "│\u001b[0m cross_entropy \u001b[0m│\u001b[0m 0.577         \u001b[0m│\u001b[0m Float32[0.558, 0.572, 0.561, 0.571, 0.588, 0.611] \u001b[0m│\u001b[0m\n",
       "│\u001b[0m acc           \u001b[0m│\u001b[0m 0.973         \u001b[0m│\u001b[0m [0.99, 0.981, 0.99, 0.981, 0.962, 0.933]          \u001b[0m│\u001b[0m\n",
       "└\u001b[0m───────────────\u001b[0m┴\u001b[0m───────────────\u001b[0m┴\u001b[0m───────────────────────────────────────────────────\u001b[0m┘\u001b[0m\n",
       "_.per_observation = [[[0.551, 0.551, ..., 0.551], [0.551, 0.551, ..., 0.556], [0.551, 0.551, ..., 0.551], [0.551, 0.551, ..., 0.551], [0.855, 0.551, ..., 0.551], [0.551, 0.551, ..., 0.551]], missing]\n",
       "_.fitted_params_per_fold = [ … ]\n",
       "_.report_per_fold = [ … ]\n"
      ]
     },
     "execution_count": 110,
     "metadata": {},
     "output_type": "execute_result"
    }
   ],
   "source": [
    "nn_acc = evaluate!(Net, resampling=CV(shuffle=true), measure=[cross_entropy, acc], verbosity=1)"
   ]
  },
  {
   "cell_type": "code",
   "execution_count": 111,
   "metadata": {
    "scrolled": true
   },
   "outputs": [
    {
     "data": {
      "text/plain": [
       "MLJBase.NumericRange(Int64, :epochs, ... )"
      ]
     },
     "execution_count": 111,
     "metadata": {},
     "output_type": "execute_result"
    }
   ],
   "source": [
    "r = range(nn, :epochs, lower=1, upper=max_epochs, scale=:log10)"
   ]
  },
  {
   "cell_type": "code",
   "execution_count": 112,
   "metadata": {},
   "outputs": [
    {
     "name": "stderr",
     "output_type": "stream",
     "text": [
      "┌ Info: Training \u001b[34mMachine{ProbabilisticTunedModel{Grid,…}} @011\u001b[39m.\n",
      "└ @ MLJBase /home/andrew/.julia/packages/MLJBase/uKzAz/src/machines.jl:319\n",
      "┌ Info: Attempting to evaluate 147 models.\n",
      "└ @ MLJTuning /home/andrew/.julia/packages/MLJTuning/Bbgvk/src/tuned_models.jl:494\n",
      "\u001b[33mEvaluating over 147 metamodels: 100%[=========================] Time: 0:00:18\u001b[39m\n"
     ]
    },
    {
     "data": {
      "text/plain": [
       "(parameter_name = \"epochs\",\n",
       " parameter_scale = :log10,\n",
       " parameter_values = [1, 2, 3, 4, 5, 6, 7, 8, 9, 10  …  2749, 2866, 2988, 3115, 3248, 3386, 3530, 3680, 3837, 4000],\n",
       " measurements = [1.144365906715393, 1.1488560438156128, 1.1440534591674805, 1.125603437423706, 1.039614200592041, 0.9025471806526184, 0.8521921634674072, 0.8018137812614441, 0.7746290564537048, 0.7525851130485535  …  0.6394069194793701, 0.6381062269210815, 0.638211727142334, 0.6402894258499146, 0.6406204104423523, 0.6417611241340637, 0.6359323263168335, 0.6395517587661743, 0.6380242705345154, 0.6387748122215271],)"
      ]
     },
     "execution_count": 112,
     "metadata": {},
     "output_type": "execute_result"
    }
   ],
   "source": [
    "curve = MLJ.learning_curve(Net, \n",
    "                        range=r, \n",
    "                        resampling=Holdout(fraction_train=0.7), \n",
    "#                         resampling=CV(nfolds=4), \n",
    "                        measure=cross_entropy, \n",
    "                        acceleration=CPUProcesses(),\n",
    "                        resolution=200\n",
    ")"
   ]
  },
  {
   "cell_type": "code",
   "execution_count": 113,
   "metadata": {},
   "outputs": [
    {
     "data": {
      "image/svg+xml": [
       "<?xml version=\"1.0\" encoding=\"utf-8\"?>\n",
       "<svg xmlns=\"http://www.w3.org/2000/svg\" xmlns:xlink=\"http://www.w3.org/1999/xlink\" width=\"600\" height=\"400\" viewBox=\"0 0 2400 1600\">\n",
       "<defs>\n",
       "  <clipPath id=\"clip030\">\n",
       "    <rect x=\"0\" y=\"0\" width=\"2400\" height=\"1600\"/>\n",
       "  </clipPath>\n",
       "</defs>\n",
       "<path clip-path=\"url(#clip030)\" d=\"\n",
       "M0 1600 L2400 1600 L2400 0 L0 0  Z\n",
       "  \" fill=\"#ffffff\" fill-rule=\"evenodd\" fill-opacity=\"1\"/>\n",
       "<defs>\n",
       "  <clipPath id=\"clip031\">\n",
       "    <rect x=\"480\" y=\"0\" width=\"1681\" height=\"1600\"/>\n",
       "  </clipPath>\n",
       "</defs>\n",
       "<path clip-path=\"url(#clip030)\" d=\"\n",
       "M211.278 1423.18 L2352.76 1423.18 L2352.76 47.2441 L211.278 47.2441  Z\n",
       "  \" fill=\"#ffffff\" fill-rule=\"evenodd\" fill-opacity=\"1\"/>\n",
       "<defs>\n",
       "  <clipPath id=\"clip032\">\n",
       "    <rect x=\"211\" y=\"47\" width=\"2142\" height=\"1377\"/>\n",
       "  </clipPath>\n",
       "</defs>\n",
       "<polyline clip-path=\"url(#clip032)\" style=\"stroke:#000000; stroke-width:2; stroke-opacity:0.1; fill:none\" points=\"\n",
       "  271.381,1423.18 271.381,47.2441 \n",
       "  \"/>\n",
       "<polyline clip-path=\"url(#clip032)\" style=\"stroke:#000000; stroke-width:2; stroke-opacity:0.1; fill:none\" points=\"\n",
       "  776.573,1423.18 776.573,47.2441 \n",
       "  \"/>\n",
       "<polyline clip-path=\"url(#clip032)\" style=\"stroke:#000000; stroke-width:2; stroke-opacity:0.1; fill:none\" points=\"\n",
       "  1281.76,1423.18 1281.76,47.2441 \n",
       "  \"/>\n",
       "<polyline clip-path=\"url(#clip032)\" style=\"stroke:#000000; stroke-width:2; stroke-opacity:0.1; fill:none\" points=\"\n",
       "  1786.96,1423.18 1786.96,47.2441 \n",
       "  \"/>\n",
       "<polyline clip-path=\"url(#clip032)\" style=\"stroke:#000000; stroke-width:2; stroke-opacity:0.1; fill:none\" points=\"\n",
       "  2292.15,1423.18 2292.15,47.2441 \n",
       "  \"/>\n",
       "<polyline clip-path=\"url(#clip032)\" style=\"stroke:#000000; stroke-width:2; stroke-opacity:0.1; fill:none\" points=\"\n",
       "  211.278,1278.74 2352.76,1278.74 \n",
       "  \"/>\n",
       "<polyline clip-path=\"url(#clip032)\" style=\"stroke:#000000; stroke-width:2; stroke-opacity:0.1; fill:none\" points=\"\n",
       "  211.278,1061.46 2352.76,1061.46 \n",
       "  \"/>\n",
       "<polyline clip-path=\"url(#clip032)\" style=\"stroke:#000000; stroke-width:2; stroke-opacity:0.1; fill:none\" points=\"\n",
       "  211.278,844.179 2352.76,844.179 \n",
       "  \"/>\n",
       "<polyline clip-path=\"url(#clip032)\" style=\"stroke:#000000; stroke-width:2; stroke-opacity:0.1; fill:none\" points=\"\n",
       "  211.278,626.899 2352.76,626.899 \n",
       "  \"/>\n",
       "<polyline clip-path=\"url(#clip032)\" style=\"stroke:#000000; stroke-width:2; stroke-opacity:0.1; fill:none\" points=\"\n",
       "  211.278,409.619 2352.76,409.619 \n",
       "  \"/>\n",
       "<polyline clip-path=\"url(#clip032)\" style=\"stroke:#000000; stroke-width:2; stroke-opacity:0.1; fill:none\" points=\"\n",
       "  211.278,192.34 2352.76,192.34 \n",
       "  \"/>\n",
       "<polyline clip-path=\"url(#clip030)\" style=\"stroke:#000000; stroke-width:4; stroke-opacity:1; fill:none\" points=\"\n",
       "  211.278,1423.18 2352.76,1423.18 \n",
       "  \"/>\n",
       "<polyline clip-path=\"url(#clip030)\" style=\"stroke:#000000; stroke-width:4; stroke-opacity:1; fill:none\" points=\"\n",
       "  211.278,1423.18 211.278,47.2441 \n",
       "  \"/>\n",
       "<polyline clip-path=\"url(#clip030)\" style=\"stroke:#000000; stroke-width:4; stroke-opacity:1; fill:none\" points=\"\n",
       "  271.381,1423.18 271.381,1406.67 \n",
       "  \"/>\n",
       "<polyline clip-path=\"url(#clip030)\" style=\"stroke:#000000; stroke-width:4; stroke-opacity:1; fill:none\" points=\"\n",
       "  776.573,1423.18 776.573,1406.67 \n",
       "  \"/>\n",
       "<polyline clip-path=\"url(#clip030)\" style=\"stroke:#000000; stroke-width:4; stroke-opacity:1; fill:none\" points=\"\n",
       "  1281.76,1423.18 1281.76,1406.67 \n",
       "  \"/>\n",
       "<polyline clip-path=\"url(#clip030)\" style=\"stroke:#000000; stroke-width:4; stroke-opacity:1; fill:none\" points=\"\n",
       "  1786.96,1423.18 1786.96,1406.67 \n",
       "  \"/>\n",
       "<polyline clip-path=\"url(#clip030)\" style=\"stroke:#000000; stroke-width:4; stroke-opacity:1; fill:none\" points=\"\n",
       "  2292.15,1423.18 2292.15,1406.67 \n",
       "  \"/>\n",
       "<polyline clip-path=\"url(#clip030)\" style=\"stroke:#000000; stroke-width:4; stroke-opacity:1; fill:none\" points=\"\n",
       "  211.278,1278.74 236.976,1278.74 \n",
       "  \"/>\n",
       "<polyline clip-path=\"url(#clip030)\" style=\"stroke:#000000; stroke-width:4; stroke-opacity:1; fill:none\" points=\"\n",
       "  211.278,1061.46 236.976,1061.46 \n",
       "  \"/>\n",
       "<polyline clip-path=\"url(#clip030)\" style=\"stroke:#000000; stroke-width:4; stroke-opacity:1; fill:none\" points=\"\n",
       "  211.278,844.179 236.976,844.179 \n",
       "  \"/>\n",
       "<polyline clip-path=\"url(#clip030)\" style=\"stroke:#000000; stroke-width:4; stroke-opacity:1; fill:none\" points=\"\n",
       "  211.278,626.899 236.976,626.899 \n",
       "  \"/>\n",
       "<polyline clip-path=\"url(#clip030)\" style=\"stroke:#000000; stroke-width:4; stroke-opacity:1; fill:none\" points=\"\n",
       "  211.278,409.619 236.976,409.619 \n",
       "  \"/>\n",
       "<polyline clip-path=\"url(#clip030)\" style=\"stroke:#000000; stroke-width:4; stroke-opacity:1; fill:none\" points=\"\n",
       "  211.278,192.34 236.976,192.34 \n",
       "  \"/>\n",
       "<path clip-path=\"url(#clip030)\" d=\"M 0 0 M271.381 1445.17 Q267.77 1445.17 265.941 1448.74 Q264.136 1452.28 264.136 1459.41 Q264.136 1466.51 265.941 1470.08 Q267.77 1473.62 271.381 1473.62 Q275.015 1473.62 276.821 1470.08 Q278.649 1466.51 278.649 1459.41 Q278.649 1452.28 276.821 1448.74 Q275.015 1445.17 271.381 1445.17 M271.381 1441.47 Q277.191 1441.47 280.247 1446.07 Q283.325 1450.66 283.325 1459.41 Q283.325 1468.13 280.247 1472.74 Q277.191 1477.32 271.381 1477.32 Q265.571 1477.32 262.492 1472.74 Q259.437 1468.13 259.437 1459.41 Q259.437 1450.66 262.492 1446.07 Q265.571 1441.47 271.381 1441.47 Z\" fill=\"#000000\" fill-rule=\"evenodd\" fill-opacity=\"1\" /><path clip-path=\"url(#clip030)\" d=\"M 0 0 M726.434 1472.72 L734.073 1472.72 L734.073 1446.35 L725.763 1448.02 L725.763 1443.76 L734.027 1442.09 L738.703 1442.09 L738.703 1472.72 L746.341 1472.72 L746.341 1476.65 L726.434 1476.65 L726.434 1472.72 Z\" fill=\"#000000\" fill-rule=\"evenodd\" fill-opacity=\"1\" /><path clip-path=\"url(#clip030)\" d=\"M 0 0 M761.411 1445.17 Q757.8 1445.17 755.971 1448.74 Q754.165 1452.28 754.165 1459.41 Q754.165 1466.51 755.971 1470.08 Q757.8 1473.62 761.411 1473.62 Q765.045 1473.62 766.851 1470.08 Q768.679 1466.51 768.679 1459.41 Q768.679 1452.28 766.851 1448.74 Q765.045 1445.17 761.411 1445.17 M761.411 1441.47 Q767.221 1441.47 770.277 1446.07 Q773.355 1450.66 773.355 1459.41 Q773.355 1468.13 770.277 1472.74 Q767.221 1477.32 761.411 1477.32 Q755.601 1477.32 752.522 1472.74 Q749.466 1468.13 749.466 1459.41 Q749.466 1450.66 752.522 1446.07 Q755.601 1441.47 761.411 1441.47 Z\" fill=\"#000000\" fill-rule=\"evenodd\" fill-opacity=\"1\" /><path clip-path=\"url(#clip030)\" d=\"M 0 0 M788.425 1445.17 Q784.813 1445.17 782.985 1448.74 Q781.179 1452.28 781.179 1459.41 Q781.179 1466.51 782.985 1470.08 Q784.813 1473.62 788.425 1473.62 Q792.059 1473.62 793.864 1470.08 Q795.693 1466.51 795.693 1459.41 Q795.693 1452.28 793.864 1448.74 Q792.059 1445.17 788.425 1445.17 M788.425 1441.47 Q794.235 1441.47 797.29 1446.07 Q800.369 1450.66 800.369 1459.41 Q800.369 1468.13 797.29 1472.74 Q794.235 1477.32 788.425 1477.32 Q782.614 1477.32 779.536 1472.74 Q776.48 1468.13 776.48 1459.41 Q776.48 1450.66 779.536 1446.07 Q782.614 1441.47 788.425 1441.47 Z\" fill=\"#000000\" fill-rule=\"evenodd\" fill-opacity=\"1\" /><path clip-path=\"url(#clip030)\" d=\"M 0 0 M815.438 1445.17 Q811.827 1445.17 809.999 1448.74 Q808.193 1452.28 808.193 1459.41 Q808.193 1466.51 809.999 1470.08 Q811.827 1473.62 815.438 1473.62 Q819.073 1473.62 820.878 1470.08 Q822.707 1466.51 822.707 1459.41 Q822.707 1452.28 820.878 1448.74 Q819.073 1445.17 815.438 1445.17 M815.438 1441.47 Q821.248 1441.47 824.304 1446.07 Q827.383 1450.66 827.383 1459.41 Q827.383 1468.13 824.304 1472.74 Q821.248 1477.32 815.438 1477.32 Q809.628 1477.32 806.549 1472.74 Q803.494 1468.13 803.494 1459.41 Q803.494 1450.66 806.549 1446.07 Q809.628 1441.47 815.438 1441.47 Z\" fill=\"#000000\" fill-rule=\"evenodd\" fill-opacity=\"1\" /><path clip-path=\"url(#clip030)\" d=\"M 0 0 M1235.9 1472.72 L1252.22 1472.72 L1252.22 1476.65 L1230.27 1476.65 L1230.27 1472.72 Q1232.93 1469.96 1237.52 1465.33 Q1242.12 1460.68 1243.3 1459.34 Q1245.55 1456.81 1246.43 1455.08 Q1247.33 1453.32 1247.33 1451.63 Q1247.33 1448.87 1245.39 1447.14 Q1243.47 1445.4 1240.36 1445.4 Q1238.17 1445.4 1235.71 1446.17 Q1233.28 1446.93 1230.5 1448.48 L1230.5 1443.76 Q1233.33 1442.62 1235.78 1442.05 Q1238.23 1441.47 1240.27 1441.47 Q1245.64 1441.47 1248.84 1444.15 Q1252.03 1446.84 1252.03 1451.33 Q1252.03 1453.46 1251.22 1455.38 Q1250.43 1457.28 1248.33 1459.87 Q1247.75 1460.54 1244.65 1463.76 Q1241.54 1466.95 1235.9 1472.72 Z\" fill=\"#000000\" fill-rule=\"evenodd\" fill-opacity=\"1\" /><path clip-path=\"url(#clip030)\" d=\"M 0 0 M1267.29 1445.17 Q1263.67 1445.17 1261.85 1448.74 Q1260.04 1452.28 1260.04 1459.41 Q1260.04 1466.51 1261.85 1470.08 Q1263.67 1473.62 1267.29 1473.62 Q1270.92 1473.62 1272.73 1470.08 Q1274.55 1466.51 1274.55 1459.41 Q1274.55 1452.28 1272.73 1448.74 Q1270.92 1445.17 1267.29 1445.17 M1267.29 1441.47 Q1273.1 1441.47 1276.15 1446.07 Q1279.23 1450.66 1279.23 1459.41 Q1279.23 1468.13 1276.15 1472.74 Q1273.1 1477.32 1267.29 1477.32 Q1261.48 1477.32 1258.4 1472.74 Q1255.34 1468.13 1255.34 1459.41 Q1255.34 1450.66 1258.4 1446.07 Q1261.48 1441.47 1267.29 1441.47 Z\" fill=\"#000000\" fill-rule=\"evenodd\" fill-opacity=\"1\" /><path clip-path=\"url(#clip030)\" d=\"M 0 0 M1294.3 1445.17 Q1290.69 1445.17 1288.86 1448.74 Q1287.05 1452.28 1287.05 1459.41 Q1287.05 1466.51 1288.86 1470.08 Q1290.69 1473.62 1294.3 1473.62 Q1297.93 1473.62 1299.74 1470.08 Q1301.57 1466.51 1301.57 1459.41 Q1301.57 1452.28 1299.74 1448.74 Q1297.93 1445.17 1294.3 1445.17 M1294.3 1441.47 Q1300.11 1441.47 1303.16 1446.07 Q1306.24 1450.66 1306.24 1459.41 Q1306.24 1468.13 1303.16 1472.74 Q1300.11 1477.32 1294.3 1477.32 Q1288.49 1477.32 1285.41 1472.74 Q1282.35 1468.13 1282.35 1459.41 Q1282.35 1450.66 1285.41 1446.07 Q1288.49 1441.47 1294.3 1441.47 Z\" fill=\"#000000\" fill-rule=\"evenodd\" fill-opacity=\"1\" /><path clip-path=\"url(#clip030)\" d=\"M 0 0 M1321.31 1445.17 Q1317.7 1445.17 1315.87 1448.74 Q1314.07 1452.28 1314.07 1459.41 Q1314.07 1466.51 1315.87 1470.08 Q1317.7 1473.62 1321.31 1473.62 Q1324.95 1473.62 1326.75 1470.08 Q1328.58 1466.51 1328.58 1459.41 Q1328.58 1452.28 1326.75 1448.74 Q1324.95 1445.17 1321.31 1445.17 M1321.31 1441.47 Q1327.12 1441.47 1330.18 1446.07 Q1333.26 1450.66 1333.26 1459.41 Q1333.26 1468.13 1330.18 1472.74 Q1327.12 1477.32 1321.31 1477.32 Q1315.5 1477.32 1312.42 1472.74 Q1309.37 1468.13 1309.37 1459.41 Q1309.37 1450.66 1312.42 1446.07 Q1315.5 1441.47 1321.31 1441.47 Z\" fill=\"#000000\" fill-rule=\"evenodd\" fill-opacity=\"1\" /><path clip-path=\"url(#clip030)\" d=\"M 0 0 M1750.68 1458.02 Q1754.04 1458.74 1755.91 1461 Q1757.81 1463.27 1757.81 1466.61 Q1757.81 1471.72 1754.29 1474.52 Q1750.78 1477.32 1744.29 1477.32 Q1742.12 1477.32 1739.8 1476.88 Q1737.51 1476.47 1735.06 1475.61 L1735.06 1471.1 Q1737 1472.23 1739.32 1472.81 Q1741.63 1473.39 1744.16 1473.39 Q1748.55 1473.39 1750.85 1471.65 Q1753.16 1469.92 1753.16 1466.61 Q1753.16 1463.55 1751.01 1461.84 Q1748.88 1460.1 1745.06 1460.1 L1741.03 1460.1 L1741.03 1456.26 L1745.24 1456.26 Q1748.69 1456.26 1750.52 1454.89 Q1752.35 1453.5 1752.35 1450.91 Q1752.35 1448.25 1750.45 1446.84 Q1748.58 1445.4 1745.06 1445.4 Q1743.14 1445.4 1740.94 1445.82 Q1738.74 1446.24 1736.1 1447.11 L1736.1 1442.95 Q1738.76 1442.21 1741.08 1441.84 Q1743.41 1441.47 1745.48 1441.47 Q1750.8 1441.47 1753.9 1443.9 Q1757 1446.3 1757 1450.43 Q1757 1453.3 1755.36 1455.29 Q1753.72 1457.25 1750.68 1458.02 Z\" fill=\"#000000\" fill-rule=\"evenodd\" fill-opacity=\"1\" /><path clip-path=\"url(#clip030)\" d=\"M 0 0 M1772.88 1445.17 Q1769.27 1445.17 1767.44 1448.74 Q1765.64 1452.28 1765.64 1459.41 Q1765.64 1466.51 1767.44 1470.08 Q1769.27 1473.62 1772.88 1473.62 Q1776.52 1473.62 1778.32 1470.08 Q1780.15 1466.51 1780.15 1459.41 Q1780.15 1452.28 1778.32 1448.74 Q1776.52 1445.17 1772.88 1445.17 M1772.88 1441.47 Q1778.69 1441.47 1781.75 1446.07 Q1784.83 1450.66 1784.83 1459.41 Q1784.83 1468.13 1781.75 1472.74 Q1778.69 1477.32 1772.88 1477.32 Q1767.07 1477.32 1763.99 1472.74 Q1760.94 1468.13 1760.94 1459.41 Q1760.94 1450.66 1763.99 1446.07 Q1767.07 1441.47 1772.88 1441.47 Z\" fill=\"#000000\" fill-rule=\"evenodd\" fill-opacity=\"1\" /><path clip-path=\"url(#clip030)\" d=\"M 0 0 M1799.9 1445.17 Q1796.28 1445.17 1794.46 1448.74 Q1792.65 1452.28 1792.65 1459.41 Q1792.65 1466.51 1794.46 1470.08 Q1796.28 1473.62 1799.9 1473.62 Q1803.53 1473.62 1805.34 1470.08 Q1807.16 1466.51 1807.16 1459.41 Q1807.16 1452.28 1805.34 1448.74 Q1803.53 1445.17 1799.9 1445.17 M1799.9 1441.47 Q1805.71 1441.47 1808.76 1446.07 Q1811.84 1450.66 1811.84 1459.41 Q1811.84 1468.13 1808.76 1472.74 Q1805.71 1477.32 1799.9 1477.32 Q1794.09 1477.32 1791.01 1472.74 Q1787.95 1468.13 1787.95 1459.41 Q1787.95 1450.66 1791.01 1446.07 Q1794.09 1441.47 1799.9 1441.47 Z\" fill=\"#000000\" fill-rule=\"evenodd\" fill-opacity=\"1\" /><path clip-path=\"url(#clip030)\" d=\"M 0 0 M1826.91 1445.17 Q1823.3 1445.17 1821.47 1448.74 Q1819.66 1452.28 1819.66 1459.41 Q1819.66 1466.51 1821.47 1470.08 Q1823.3 1473.62 1826.91 1473.62 Q1830.54 1473.62 1832.35 1470.08 Q1834.18 1466.51 1834.18 1459.41 Q1834.18 1452.28 1832.35 1448.74 Q1830.54 1445.17 1826.91 1445.17 M1826.91 1441.47 Q1832.72 1441.47 1835.78 1446.07 Q1838.85 1450.66 1838.85 1459.41 Q1838.85 1468.13 1835.78 1472.74 Q1832.72 1477.32 1826.91 1477.32 Q1821.1 1477.32 1818.02 1472.74 Q1814.97 1468.13 1814.97 1459.41 Q1814.97 1450.66 1818.02 1446.07 Q1821.1 1441.47 1826.91 1441.47 Z\" fill=\"#000000\" fill-rule=\"evenodd\" fill-opacity=\"1\" /><path clip-path=\"url(#clip030)\" d=\"M 0 0 M2254.64 1446.17 L2242.83 1464.61 L2254.64 1464.61 L2254.64 1446.17 M2253.41 1442.09 L2259.29 1442.09 L2259.29 1464.61 L2264.22 1464.61 L2264.22 1468.5 L2259.29 1468.5 L2259.29 1476.65 L2254.64 1476.65 L2254.64 1468.5 L2239.03 1468.5 L2239.03 1463.99 L2253.41 1442.09 Z\" fill=\"#000000\" fill-rule=\"evenodd\" fill-opacity=\"1\" /><path clip-path=\"url(#clip030)\" d=\"M 0 0 M2279.29 1445.17 Q2275.68 1445.17 2273.85 1448.74 Q2272.04 1452.28 2272.04 1459.41 Q2272.04 1466.51 2273.85 1470.08 Q2275.68 1473.62 2279.29 1473.62 Q2282.92 1473.62 2284.73 1470.08 Q2286.56 1466.51 2286.56 1459.41 Q2286.56 1452.28 2284.73 1448.74 Q2282.92 1445.17 2279.29 1445.17 M2279.29 1441.47 Q2285.1 1441.47 2288.16 1446.07 Q2291.23 1450.66 2291.23 1459.41 Q2291.23 1468.13 2288.16 1472.74 Q2285.1 1477.32 2279.29 1477.32 Q2273.48 1477.32 2270.4 1472.74 Q2267.34 1468.13 2267.34 1459.41 Q2267.34 1450.66 2270.4 1446.07 Q2273.48 1441.47 2279.29 1441.47 Z\" fill=\"#000000\" fill-rule=\"evenodd\" fill-opacity=\"1\" /><path clip-path=\"url(#clip030)\" d=\"M 0 0 M2306.3 1445.17 Q2302.69 1445.17 2300.86 1448.74 Q2299.06 1452.28 2299.06 1459.41 Q2299.06 1466.51 2300.86 1470.08 Q2302.69 1473.62 2306.3 1473.62 Q2309.94 1473.62 2311.74 1470.08 Q2313.57 1466.51 2313.57 1459.41 Q2313.57 1452.28 2311.74 1448.74 Q2309.94 1445.17 2306.3 1445.17 M2306.3 1441.47 Q2312.11 1441.47 2315.17 1446.07 Q2318.25 1450.66 2318.25 1459.41 Q2318.25 1468.13 2315.17 1472.74 Q2312.11 1477.32 2306.3 1477.32 Q2300.49 1477.32 2297.41 1472.74 Q2294.36 1468.13 2294.36 1459.41 Q2294.36 1450.66 2297.41 1446.07 Q2300.49 1441.47 2306.3 1441.47 Z\" fill=\"#000000\" fill-rule=\"evenodd\" fill-opacity=\"1\" /><path clip-path=\"url(#clip030)\" d=\"M 0 0 M2333.32 1445.17 Q2329.71 1445.17 2327.88 1448.74 Q2326.07 1452.28 2326.07 1459.41 Q2326.07 1466.51 2327.88 1470.08 Q2329.71 1473.62 2333.32 1473.62 Q2336.95 1473.62 2338.76 1470.08 Q2340.59 1466.51 2340.59 1459.41 Q2340.59 1452.28 2338.76 1448.74 Q2336.95 1445.17 2333.32 1445.17 M2333.32 1441.47 Q2339.13 1441.47 2342.18 1446.07 Q2345.26 1450.66 2345.26 1459.41 Q2345.26 1468.13 2342.18 1472.74 Q2339.13 1477.32 2333.32 1477.32 Q2327.51 1477.32 2324.43 1472.74 Q2321.37 1468.13 2321.37 1459.41 Q2321.37 1450.66 2324.43 1446.07 Q2327.51 1441.47 2333.32 1441.47 Z\" fill=\"#000000\" fill-rule=\"evenodd\" fill-opacity=\"1\" /><path clip-path=\"url(#clip030)\" d=\"M 0 0 M138.205 1264.54 Q134.593 1264.54 132.765 1268.1 Q130.959 1271.64 130.959 1278.77 Q130.959 1285.88 132.765 1289.44 Q134.593 1292.99 138.205 1292.99 Q141.839 1292.99 143.644 1289.44 Q145.473 1285.88 145.473 1278.77 Q145.473 1271.64 143.644 1268.1 Q141.839 1264.54 138.205 1264.54 M138.205 1260.83 Q144.015 1260.83 147.07 1265.44 Q150.149 1270.02 150.149 1278.77 Q150.149 1287.5 147.07 1292.11 Q144.015 1296.69 138.205 1296.69 Q132.394 1296.69 129.316 1292.11 Q126.26 1287.5 126.26 1278.77 Q126.26 1270.02 129.316 1265.44 Q132.394 1260.83 138.205 1260.83 Z\" fill=\"#000000\" fill-rule=\"evenodd\" fill-opacity=\"1\" /><path clip-path=\"url(#clip030)\" d=\"M 0 0 M155.218 1290.14 L160.103 1290.14 L160.103 1296.02 L155.218 1296.02 L155.218 1290.14 Z\" fill=\"#000000\" fill-rule=\"evenodd\" fill-opacity=\"1\" /><path clip-path=\"url(#clip030)\" d=\"M 0 0 M175.751 1276.87 Q172.603 1276.87 170.751 1279.03 Q168.922 1281.18 168.922 1284.93 Q168.922 1288.66 170.751 1290.83 Q172.603 1292.99 175.751 1292.99 Q178.899 1292.99 180.727 1290.83 Q182.579 1288.66 182.579 1284.93 Q182.579 1281.18 180.727 1279.03 Q178.899 1276.87 175.751 1276.87 M185.033 1262.22 L185.033 1266.48 Q183.274 1265.65 181.468 1265.21 Q179.686 1264.77 177.927 1264.77 Q173.297 1264.77 170.843 1267.89 Q168.413 1271.02 168.065 1277.34 Q169.431 1275.32 171.491 1274.26 Q173.552 1273.17 176.028 1273.17 Q181.237 1273.17 184.246 1276.34 Q187.278 1279.49 187.278 1284.93 Q187.278 1290.25 184.13 1293.47 Q180.982 1296.69 175.751 1296.69 Q169.755 1296.69 166.584 1292.11 Q163.413 1287.5 163.413 1278.77 Q163.413 1270.58 167.302 1265.72 Q171.19 1260.83 177.741 1260.83 Q179.501 1260.83 181.283 1261.18 Q183.089 1261.53 185.033 1262.22 Z\" fill=\"#000000\" fill-rule=\"evenodd\" fill-opacity=\"1\" /><path clip-path=\"url(#clip030)\" d=\"M 0 0 M139.269 1047.26 Q135.658 1047.26 133.83 1050.82 Q132.024 1054.36 132.024 1061.49 Q132.024 1068.6 133.83 1072.16 Q135.658 1075.71 139.269 1075.71 Q142.904 1075.71 144.709 1072.16 Q146.538 1068.6 146.538 1061.49 Q146.538 1054.36 144.709 1050.82 Q142.904 1047.26 139.269 1047.26 M139.269 1043.55 Q145.08 1043.55 148.135 1048.16 Q151.214 1052.74 151.214 1061.49 Q151.214 1070.22 148.135 1074.83 Q145.08 1079.41 139.269 1079.41 Q133.459 1079.41 130.381 1074.83 Q127.325 1070.22 127.325 1061.49 Q127.325 1052.74 130.381 1048.16 Q133.459 1043.55 139.269 1043.55 Z\" fill=\"#000000\" fill-rule=\"evenodd\" fill-opacity=\"1\" /><path clip-path=\"url(#clip030)\" d=\"M 0 0 M156.283 1072.86 L161.167 1072.86 L161.167 1078.74 L156.283 1078.74 L156.283 1072.86 Z\" fill=\"#000000\" fill-rule=\"evenodd\" fill-opacity=\"1\" /><path clip-path=\"url(#clip030)\" d=\"M 0 0 M165.056 1044.18 L187.278 1044.18 L187.278 1046.17 L174.732 1078.74 L169.848 1078.74 L181.653 1048.11 L165.056 1048.11 L165.056 1044.18 Z\" fill=\"#000000\" fill-rule=\"evenodd\" fill-opacity=\"1\" /><path clip-path=\"url(#clip030)\" d=\"M 0 0 M138.459 829.977 Q134.848 829.977 133.019 833.542 Q131.214 837.084 131.214 844.213 Q131.214 851.32 133.019 854.885 Q134.848 858.426 138.459 858.426 Q142.093 858.426 143.899 854.885 Q145.728 851.32 145.728 844.213 Q145.728 837.084 143.899 833.542 Q142.093 829.977 138.459 829.977 M138.459 826.274 Q144.269 826.274 147.325 830.88 Q150.404 835.463 150.404 844.213 Q150.404 852.94 147.325 857.547 Q144.269 862.13 138.459 862.13 Q132.649 862.13 129.57 857.547 Q126.515 852.94 126.515 844.213 Q126.515 835.463 129.57 830.88 Q132.649 826.274 138.459 826.274 Z\" fill=\"#000000\" fill-rule=\"evenodd\" fill-opacity=\"1\" /><path clip-path=\"url(#clip030)\" d=\"M 0 0 M155.473 855.579 L160.357 855.579 L160.357 861.459 L155.473 861.459 L155.473 855.579 Z\" fill=\"#000000\" fill-rule=\"evenodd\" fill-opacity=\"1\" /><path clip-path=\"url(#clip030)\" d=\"M 0 0 M175.427 845.047 Q172.093 845.047 170.172 846.829 Q168.274 848.611 168.274 851.736 Q168.274 854.861 170.172 856.644 Q172.093 858.426 175.427 858.426 Q178.76 858.426 180.681 856.644 Q182.602 854.838 182.602 851.736 Q182.602 848.611 180.681 846.829 Q178.783 845.047 175.427 845.047 M170.751 843.056 Q167.741 842.315 166.052 840.255 Q164.385 838.195 164.385 835.232 Q164.385 831.088 167.325 828.681 Q170.288 826.274 175.427 826.274 Q180.589 826.274 183.528 828.681 Q186.468 831.088 186.468 835.232 Q186.468 838.195 184.778 840.255 Q183.112 842.315 180.126 843.056 Q183.505 843.843 185.38 846.135 Q187.278 848.426 187.278 851.736 Q187.278 856.76 184.2 859.445 Q181.144 862.13 175.427 862.13 Q169.709 862.13 166.63 859.445 Q163.575 856.76 163.575 851.736 Q163.575 848.426 165.473 846.135 Q167.371 843.843 170.751 843.056 M169.038 835.672 Q169.038 838.357 170.704 839.862 Q172.394 841.366 175.427 841.366 Q178.436 841.366 180.126 839.862 Q181.839 838.357 181.839 835.672 Q181.839 832.987 180.126 831.482 Q178.436 829.977 175.427 829.977 Q172.394 829.977 170.704 831.482 Q169.038 832.987 169.038 835.672 Z\" fill=\"#000000\" fill-rule=\"evenodd\" fill-opacity=\"1\" /><path clip-path=\"url(#clip030)\" d=\"M 0 0 M138.552 612.698 Q134.941 612.698 133.112 616.263 Q131.306 619.804 131.306 626.934 Q131.306 634.04 133.112 637.605 Q134.941 641.147 138.552 641.147 Q142.186 641.147 143.992 637.605 Q145.82 634.04 145.82 626.934 Q145.82 619.804 143.992 616.263 Q142.186 612.698 138.552 612.698 M138.552 608.994 Q144.362 608.994 147.417 613.601 Q150.496 618.184 150.496 626.934 Q150.496 635.661 147.417 640.267 Q144.362 644.85 138.552 644.85 Q132.742 644.85 129.663 640.267 Q126.607 635.661 126.607 626.934 Q126.607 618.184 129.663 613.601 Q132.742 608.994 138.552 608.994 Z\" fill=\"#000000\" fill-rule=\"evenodd\" fill-opacity=\"1\" /><path clip-path=\"url(#clip030)\" d=\"M 0 0 M155.566 638.299 L160.45 638.299 L160.45 644.179 L155.566 644.179 L155.566 638.299 Z\" fill=\"#000000\" fill-rule=\"evenodd\" fill-opacity=\"1\" /><path clip-path=\"url(#clip030)\" d=\"M 0 0 M165.658 643.461 L165.658 639.202 Q167.417 640.036 169.223 640.475 Q171.028 640.915 172.765 640.915 Q177.394 640.915 179.825 637.813 Q182.278 634.688 182.626 628.346 Q181.283 630.337 179.223 631.401 Q177.163 632.466 174.663 632.466 Q169.478 632.466 166.445 629.341 Q163.436 626.193 163.436 620.753 Q163.436 615.429 166.584 612.212 Q169.732 608.994 174.964 608.994 Q180.959 608.994 184.107 613.601 Q187.278 618.184 187.278 626.934 Q187.278 635.105 183.389 639.989 Q179.524 644.85 172.973 644.85 Q171.214 644.85 169.408 644.503 Q167.603 644.156 165.658 643.461 M174.964 628.809 Q178.112 628.809 179.94 626.656 Q181.792 624.503 181.792 620.753 Q181.792 617.026 179.94 614.874 Q178.112 612.698 174.964 612.698 Q171.815 612.698 169.964 614.874 Q168.135 617.026 168.135 620.753 Q168.135 624.503 169.964 626.656 Q171.815 628.809 174.964 628.809 Z\" fill=\"#000000\" fill-rule=\"evenodd\" fill-opacity=\"1\" /><path clip-path=\"url(#clip030)\" d=\"M 0 0 M130.404 422.964 L138.043 422.964 L138.043 396.599 L129.732 398.265 L129.732 394.006 L137.996 392.339 L142.672 392.339 L142.672 422.964 L150.311 422.964 L150.311 426.899 L130.404 426.899 L130.404 422.964 Z\" fill=\"#000000\" fill-rule=\"evenodd\" fill-opacity=\"1\" /><path clip-path=\"url(#clip030)\" d=\"M 0 0 M155.38 421.02 L160.265 421.02 L160.265 426.899 L155.38 426.899 L155.38 421.02 Z\" fill=\"#000000\" fill-rule=\"evenodd\" fill-opacity=\"1\" /><path clip-path=\"url(#clip030)\" d=\"M 0 0 M175.334 395.418 Q171.723 395.418 169.894 398.983 Q168.089 402.525 168.089 409.654 Q168.089 416.761 169.894 420.325 Q171.723 423.867 175.334 423.867 Q178.968 423.867 180.774 420.325 Q182.602 416.761 182.602 409.654 Q182.602 402.525 180.774 398.983 Q178.968 395.418 175.334 395.418 M175.334 391.714 Q181.144 391.714 184.2 396.321 Q187.278 400.904 187.278 409.654 Q187.278 418.381 184.2 422.987 Q181.144 427.571 175.334 427.571 Q169.524 427.571 166.445 422.987 Q163.39 418.381 163.39 409.654 Q163.39 400.904 166.445 396.321 Q169.524 391.714 175.334 391.714 Z\" fill=\"#000000\" fill-rule=\"evenodd\" fill-opacity=\"1\" /><path clip-path=\"url(#clip030)\" d=\"M 0 0 M131.63 205.685 L139.269 205.685 L139.269 179.319 L130.959 180.986 L130.959 176.727 L139.223 175.06 L143.899 175.06 L143.899 205.685 L151.538 205.685 L151.538 209.62 L131.63 209.62 L131.63 205.685 Z\" fill=\"#000000\" fill-rule=\"evenodd\" fill-opacity=\"1\" /><path clip-path=\"url(#clip030)\" d=\"M 0 0 M156.607 203.74 L161.491 203.74 L161.491 209.62 L156.607 209.62 L156.607 203.74 Z\" fill=\"#000000\" fill-rule=\"evenodd\" fill-opacity=\"1\" /><path clip-path=\"url(#clip030)\" d=\"M 0 0 M167.371 205.685 L175.01 205.685 L175.01 179.319 L166.7 180.986 L166.7 176.727 L174.964 175.06 L179.64 175.06 L179.64 205.685 L187.278 205.685 L187.278 209.62 L167.371 209.62 L167.371 205.685 Z\" fill=\"#000000\" fill-rule=\"evenodd\" fill-opacity=\"1\" /><path clip-path=\"url(#clip030)\" d=\"M 0 0 M1212.3 1536.76 L1212.3 1539.62 L1185.37 1539.62 Q1185.75 1545.67 1189 1548.85 Q1192.28 1552 1198.1 1552 Q1201.48 1552 1204.63 1551.17 Q1207.81 1550.35 1210.93 1548.69 L1210.93 1554.23 Q1207.78 1555.57 1204.47 1556.27 Q1201.16 1556.97 1197.75 1556.97 Q1189.22 1556.97 1184.22 1552 Q1179.26 1547.04 1179.26 1538.57 Q1179.26 1529.82 1183.97 1524.69 Q1188.71 1519.54 1196.73 1519.54 Q1203.93 1519.54 1208.1 1524.18 Q1212.3 1528.8 1212.3 1536.76 M1206.44 1535.04 Q1206.38 1530.23 1203.73 1527.37 Q1201.12 1524.5 1196.8 1524.5 Q1191.89 1524.5 1188.93 1527.27 Q1186.01 1530.04 1185.56 1535.07 L1206.44 1535.04 Z\" fill=\"#000000\" fill-rule=\"evenodd\" fill-opacity=\"1\" /><path clip-path=\"url(#clip030)\" d=\"M 0 0 M1224.11 1550.7 L1224.11 1569.6 L1218.22 1569.6 L1218.22 1520.4 L1224.11 1520.4 L1224.11 1525.81 Q1225.95 1522.62 1228.75 1521.1 Q1231.58 1519.54 1235.5 1519.54 Q1241.99 1519.54 1246.03 1524.69 Q1250.11 1529.85 1250.11 1538.25 Q1250.11 1546.65 1246.03 1551.81 Q1241.99 1556.97 1235.5 1556.97 Q1231.58 1556.97 1228.75 1555.44 Q1225.95 1553.88 1224.11 1550.7 M1244.03 1538.25 Q1244.03 1531.79 1241.36 1528.13 Q1238.71 1524.44 1234.07 1524.44 Q1229.42 1524.44 1226.75 1528.13 Q1224.11 1531.79 1224.11 1538.25 Q1224.11 1544.71 1226.75 1548.4 Q1229.42 1552.07 1234.07 1552.07 Q1238.71 1552.07 1241.36 1548.4 Q1244.03 1544.71 1244.03 1538.25 Z\" fill=\"#000000\" fill-rule=\"evenodd\" fill-opacity=\"1\" /><path clip-path=\"url(#clip030)\" d=\"M 0 0 M1270.07 1524.5 Q1265.35 1524.5 1262.62 1528.19 Q1259.88 1531.85 1259.88 1538.25 Q1259.88 1544.65 1262.59 1548.34 Q1265.32 1552 1270.07 1552 Q1274.74 1552 1277.48 1548.31 Q1280.22 1544.62 1280.22 1538.25 Q1280.22 1531.92 1277.48 1528.23 Q1274.74 1524.5 1270.07 1524.5 M1270.07 1519.54 Q1277.7 1519.54 1282.06 1524.5 Q1286.43 1529.47 1286.43 1538.25 Q1286.43 1547 1282.06 1552 Q1277.7 1556.97 1270.07 1556.97 Q1262.39 1556.97 1258.03 1552 Q1253.71 1547 1253.71 1538.25 Q1253.71 1529.47 1258.03 1524.5 Q1262.39 1519.54 1270.07 1519.54 Z\" fill=\"#000000\" fill-rule=\"evenodd\" fill-opacity=\"1\" /><path clip-path=\"url(#clip030)\" d=\"M 0 0 M1318.22 1521.76 L1318.22 1527.24 Q1315.74 1525.87 1313.23 1525.2 Q1310.74 1524.5 1308.2 1524.5 Q1302.5 1524.5 1299.35 1528.13 Q1296.2 1531.73 1296.2 1538.25 Q1296.2 1544.78 1299.35 1548.4 Q1302.5 1552 1308.2 1552 Q1310.74 1552 1313.23 1551.33 Q1315.74 1550.63 1318.22 1549.26 L1318.22 1554.68 Q1315.77 1555.82 1313.13 1556.39 Q1310.52 1556.97 1307.56 1556.97 Q1299.51 1556.97 1294.76 1551.91 Q1290.02 1546.85 1290.02 1538.25 Q1290.02 1529.53 1294.8 1524.53 Q1299.6 1519.54 1307.94 1519.54 Q1310.65 1519.54 1313.23 1520.11 Q1315.8 1520.65 1318.22 1521.76 Z\" fill=\"#000000\" fill-rule=\"evenodd\" fill-opacity=\"1\" /><path clip-path=\"url(#clip030)\" d=\"M 0 0 M1354 1534.53 L1354 1556.04 L1348.14 1556.04 L1348.14 1534.72 Q1348.14 1529.66 1346.17 1527.14 Q1344.19 1524.63 1340.25 1524.63 Q1335.5 1524.63 1332.77 1527.65 Q1330.03 1530.68 1330.03 1535.9 L1330.03 1556.04 L1324.14 1556.04 L1324.14 1506.52 L1330.03 1506.52 L1330.03 1525.93 Q1332.13 1522.72 1334.96 1521.13 Q1337.83 1519.54 1341.55 1519.54 Q1347.7 1519.54 1350.85 1523.36 Q1354 1527.14 1354 1534.53 Z\" fill=\"#000000\" fill-rule=\"evenodd\" fill-opacity=\"1\" /><path clip-path=\"url(#clip030)\" d=\"M 0 0 M1382.87 1521.45 L1382.87 1526.98 Q1380.38 1525.71 1377.71 1525.07 Q1375.04 1524.44 1372.17 1524.44 Q1367.81 1524.44 1365.61 1525.77 Q1363.45 1527.11 1363.45 1529.79 Q1363.45 1531.82 1365.01 1533 Q1366.57 1534.15 1371.28 1535.2 L1373.29 1535.64 Q1379.52 1536.98 1382.13 1539.43 Q1384.78 1541.85 1384.78 1546.21 Q1384.78 1551.17 1380.83 1554.07 Q1376.91 1556.97 1370.04 1556.97 Q1367.17 1556.97 1364.06 1556.39 Q1360.97 1555.85 1357.53 1554.74 L1357.53 1548.69 Q1360.78 1550.38 1363.93 1551.24 Q1367.08 1552.07 1370.17 1552.07 Q1374.3 1552.07 1376.53 1550.66 Q1378.76 1549.23 1378.76 1546.65 Q1378.76 1544.27 1377.14 1542.99 Q1375.55 1541.72 1370.1 1540.54 L1368.07 1540.07 Q1362.62 1538.92 1360.2 1536.56 Q1357.78 1534.18 1357.78 1530.04 Q1357.78 1525.01 1361.35 1522.27 Q1364.91 1519.54 1371.47 1519.54 Q1374.72 1519.54 1377.58 1520.01 Q1380.45 1520.49 1382.87 1521.45 Z\" fill=\"#000000\" fill-rule=\"evenodd\" fill-opacity=\"1\" /><path clip-path=\"url(#clip030)\" d=\"M 0 0 M44.1444 904.492 L50.9239 904.492 Q47.9002 907.739 46.4043 911.431 Q44.9083 915.091 44.9083 919.229 Q44.9083 927.377 49.9054 931.705 Q54.8707 936.034 64.2919 936.034 Q73.6813 936.034 78.6784 931.705 Q83.6436 927.377 83.6436 919.229 Q83.6436 915.091 82.1477 911.431 Q80.6518 907.739 77.6281 904.492 L84.3439 904.492 Q86.6355 907.866 87.7814 911.653 Q88.9272 915.409 88.9272 919.611 Q88.9272 930.4 82.3387 936.607 Q75.7183 942.814 64.2919 942.814 Q52.8336 942.814 46.2451 936.607 Q39.6248 930.4 39.6248 919.611 Q39.6248 915.346 40.7706 911.59 Q41.8846 907.802 44.1444 904.492 Z\" fill=\"#000000\" fill-rule=\"evenodd\" fill-opacity=\"1\" /><path clip-path=\"url(#clip030)\" d=\"M 0 0 M57.8307 877.692 Q57.2578 878.679 57.0032 879.857 Q56.7167 881.003 56.7167 882.403 Q56.7167 887.368 59.9632 890.042 Q63.1779 892.684 69.2253 892.684 L88.0042 892.684 L88.0042 898.572 L52.3562 898.572 L52.3562 892.684 L57.8944 892.684 Q54.6479 890.838 53.0883 887.878 Q51.4968 884.917 51.4968 880.684 Q51.4968 880.08 51.5923 879.347 Q51.656 878.615 51.8151 877.724 L57.8307 877.692 Z\" fill=\"#000000\" fill-rule=\"evenodd\" fill-opacity=\"1\" /><path clip-path=\"url(#clip030)\" d=\"M 0 0 M56.4621 859.168 Q56.4621 863.879 60.1542 866.616 Q63.8145 869.353 70.212 869.353 Q76.6095 869.353 80.3017 866.648 Q83.9619 863.911 83.9619 859.168 Q83.9619 854.489 80.2698 851.752 Q76.5777 849.015 70.212 849.015 Q63.8781 849.015 60.186 851.752 Q56.4621 854.489 56.4621 859.168 M51.4968 859.168 Q51.4968 851.529 56.4621 847.169 Q61.4273 842.808 70.212 842.808 Q78.9649 842.808 83.9619 847.169 Q88.9272 851.529 88.9272 859.168 Q88.9272 866.839 83.9619 871.199 Q78.9649 875.528 70.212 875.528 Q61.4273 875.528 56.4621 871.199 Q51.4968 866.839 51.4968 859.168 Z\" fill=\"#000000\" fill-rule=\"evenodd\" fill-opacity=\"1\" /><path clip-path=\"url(#clip030)\" d=\"M 0 0 M53.4065 813.94 L58.9447 813.94 Q57.6716 816.422 57.035 819.096 Q56.3984 821.77 56.3984 824.634 Q56.3984 828.995 57.7352 831.191 Q59.072 833.355 61.7456 833.355 Q63.7826 833.355 64.9603 831.796 Q66.1061 830.236 67.1565 825.525 L67.6021 823.52 Q68.9389 817.282 71.3897 814.672 Q73.8086 812.03 78.1691 812.03 Q83.1344 812.03 86.0308 815.977 Q88.9272 819.892 88.9272 826.767 Q88.9272 829.631 88.3543 832.751 Q87.8132 835.838 86.6992 839.275 L80.6518 839.275 Q82.3387 836.029 83.198 832.878 Q84.0256 829.727 84.0256 826.639 Q84.0256 822.502 82.6251 820.274 Q81.1929 818.046 78.6147 818.046 Q76.2276 818.046 74.9545 819.669 Q73.6813 821.26 72.5037 826.703 L72.0262 828.74 Q70.8804 834.183 68.5251 836.602 Q66.138 839.021 62.0002 839.021 Q56.9713 839.021 54.2341 835.456 Q51.4968 831.891 51.4968 825.334 Q51.4968 822.088 51.9743 819.223 Q52.4517 816.359 53.4065 813.94 Z\" fill=\"#000000\" fill-rule=\"evenodd\" fill-opacity=\"1\" /><path clip-path=\"url(#clip030)\" d=\"M 0 0 M53.4065 783.162 L58.9447 783.162 Q57.6716 785.644 57.035 788.318 Q56.3984 790.991 56.3984 793.856 Q56.3984 798.217 57.7352 800.413 Q59.072 802.577 61.7456 802.577 Q63.7826 802.577 64.9603 801.017 Q66.1061 799.458 67.1565 794.747 L67.6021 792.742 Q68.9389 786.504 71.3897 783.894 Q73.8086 781.252 78.1691 781.252 Q83.1344 781.252 86.0308 785.199 Q88.9272 789.114 88.9272 795.989 Q88.9272 798.853 88.3543 801.972 Q87.8132 805.06 86.6992 808.497 L80.6518 808.497 Q82.3387 805.251 83.198 802.1 Q84.0256 798.949 84.0256 795.861 Q84.0256 791.724 82.6251 789.496 Q81.1929 787.268 78.6147 787.268 Q76.2276 787.268 74.9545 788.891 Q73.6813 790.482 72.5037 795.925 L72.0262 797.962 Q70.8804 803.405 68.5251 805.824 Q66.138 808.243 62.0002 808.243 Q56.9713 808.243 54.2341 804.678 Q51.4968 801.113 51.4968 794.556 Q51.4968 791.31 51.9743 788.445 Q52.4517 785.581 53.4065 783.162 Z\" fill=\"#000000\" fill-rule=\"evenodd\" fill-opacity=\"1\" /><path clip-path=\"url(#clip030)\" d=\"M 0 0 M40.4842 754.134 L40.4842 724.088 L45.895 724.088 L45.895 747.705 L59.9632 747.705 L59.9632 725.075 L65.3741 725.075 L65.3741 747.705 L82.5933 747.705 L82.5933 723.515 L88.0042 723.515 L88.0042 754.134 L40.4842 754.134 Z\" fill=\"#000000\" fill-rule=\"evenodd\" fill-opacity=\"1\" /><path clip-path=\"url(#clip030)\" d=\"M 0 0 M66.4881 687.74 L88.0042 687.74 L88.0042 693.596 L66.679 693.596 Q61.6183 693.596 59.1038 695.57 Q56.5894 697.543 56.5894 701.49 Q56.5894 706.232 59.6131 708.969 Q62.6368 711.707 67.8567 711.707 L88.0042 711.707 L88.0042 717.595 L52.3562 717.595 L52.3562 711.707 L57.8944 711.707 Q54.6797 709.606 53.0883 706.773 Q51.4968 703.909 51.4968 700.185 Q51.4968 694.042 55.3163 690.891 Q59.1038 687.74 66.4881 687.74 Z\" fill=\"#000000\" fill-rule=\"evenodd\" fill-opacity=\"1\" /><path clip-path=\"url(#clip030)\" d=\"M 0 0 M42.2347 675.804 L52.3562 675.804 L52.3562 663.741 L56.9077 663.741 L56.9077 675.804 L76.2594 675.804 Q80.6199 675.804 81.8613 674.626 Q83.1026 673.417 83.1026 669.757 L83.1026 663.741 L88.0042 663.741 L88.0042 669.757 Q88.0042 676.536 85.4897 679.114 Q82.9434 681.692 76.2594 681.692 L56.9077 681.692 L56.9077 685.989 L52.3562 685.989 L52.3562 681.692 L42.2347 681.692 L42.2347 675.804 Z\" fill=\"#000000\" fill-rule=\"evenodd\" fill-opacity=\"1\" /><path clip-path=\"url(#clip030)\" d=\"M 0 0 M57.8307 636.941 Q57.2578 637.928 57.0032 639.106 Q56.7167 640.252 56.7167 641.652 Q56.7167 646.617 59.9632 649.291 Q63.1779 651.933 69.2253 651.933 L88.0042 651.933 L88.0042 657.821 L52.3562 657.821 L52.3562 651.933 L57.8944 651.933 Q54.6479 650.087 53.0883 647.127 Q51.4968 644.166 51.4968 639.933 Q51.4968 639.329 51.5923 638.596 Q51.656 637.864 51.8151 636.973 L57.8307 636.941 Z\" fill=\"#000000\" fill-rule=\"evenodd\" fill-opacity=\"1\" /><path clip-path=\"url(#clip030)\" d=\"M 0 0 M56.4621 618.417 Q56.4621 623.128 60.1542 625.865 Q63.8145 628.602 70.212 628.602 Q76.6095 628.602 80.3017 625.897 Q83.9619 623.16 83.9619 618.417 Q83.9619 613.738 80.2698 611.001 Q76.5777 608.264 70.212 608.264 Q63.8781 608.264 60.186 611.001 Q56.4621 613.738 56.4621 618.417 M51.4968 618.417 Q51.4968 610.778 56.4621 606.418 Q61.4273 602.057 70.212 602.057 Q78.9649 602.057 83.9619 606.418 Q88.9272 610.778 88.9272 618.417 Q88.9272 626.088 83.9619 630.448 Q78.9649 634.777 70.212 634.777 Q61.4273 634.777 56.4621 630.448 Q51.4968 626.088 51.4968 618.417 Z\" fill=\"#000000\" fill-rule=\"evenodd\" fill-opacity=\"1\" /><path clip-path=\"url(#clip030)\" d=\"M 0 0 M82.657 590.249 L101.563 590.249 L101.563 596.137 L52.3562 596.137 L52.3562 590.249 L57.7671 590.249 Q54.5842 588.403 53.0564 585.602 Q51.4968 582.769 51.4968 578.854 Q51.4968 572.361 56.6531 568.319 Q61.8093 564.245 70.212 564.245 Q78.6147 564.245 83.771 568.319 Q88.9272 572.361 88.9272 578.854 Q88.9272 582.769 87.3994 585.602 Q85.8398 588.403 82.657 590.249 M70.212 570.324 Q63.7508 570.324 60.0905 572.998 Q56.3984 575.64 56.3984 580.287 Q56.3984 584.934 60.0905 587.607 Q63.7508 590.249 70.212 590.249 Q76.6732 590.249 80.3653 587.607 Q84.0256 584.934 84.0256 580.287 Q84.0256 575.64 80.3653 572.998 Q76.6732 570.324 70.212 570.324 Z\" fill=\"#000000\" fill-rule=\"evenodd\" fill-opacity=\"1\" /><path clip-path=\"url(#clip030)\" d=\"M 0 0 M91.3143 543.27 Q97.68 545.753 99.6216 548.108 Q101.563 550.463 101.563 554.41 L101.563 559.089 L96.6615 559.089 L96.6615 555.651 Q96.6615 553.232 95.5157 551.896 Q94.3699 550.559 90.1048 548.935 L87.4312 547.885 L52.3562 562.303 L52.3562 556.097 L80.238 544.957 L52.3562 533.817 L52.3562 527.61 L91.3143 543.27 Z\" fill=\"#000000\" fill-rule=\"evenodd\" fill-opacity=\"1\" /><polyline clip-path=\"url(#clip032)\" style=\"stroke:#009af9; stroke-width:8; stroke-opacity:1; fill:none\" points=\"\n",
       "  271.886,95.9418 272.391,86.1857 272.897,96.6207 273.402,136.709 273.907,323.546 274.412,621.365 274.917,730.776 275.423,840.238 275.928,899.305 276.433,947.201 \n",
       "  276.938,981.684 277.443,1010.02 277.949,1038.03 278.454,1063.17 278.959,1082.44 279.464,1096.17 279.969,1106.48 280.474,1115.88 280.98,1124.71 281.485,1132.53 \n",
       "  281.99,1139.39 282.495,1145.37 283,1150.58 283.506,1155.26 284.011,1159.79 284.516,1164.53 285.021,1169.4 285.526,1173.56 286.032,1176.29 286.537,1178.07 \n",
       "  287.547,1171.74 288.052,1167.71 289.063,1167.42 289.568,1160.3 290.578,1168.78 291.083,1174.82 292.094,1162.85 293.104,1182.58 293.609,1185.82 294.62,1182.93 \n",
       "  295.63,1167.4 296.641,1171.05 297.651,1166.03 299.167,1189.23 300.177,1176.53 301.187,1185.49 302.703,1189 304.218,1197.57 305.229,1192.61 306.744,1206.17 \n",
       "  308.26,1202.99 309.776,1202.65 311.796,1206.69 313.312,1201.07 314.828,1204.69 316.848,1212.7 318.869,1198.8 320.89,1200.29 322.911,1197.03 324.931,1196.1 \n",
       "  327.457,1190.15 329.983,1184.77 332.509,1197.36 335.035,1196.42 337.561,1186.93 340.592,1220.95 343.623,1202.97 346.655,1212.06 349.686,1227.38 353.222,1217.81 \n",
       "  356.253,1224.09 360.295,1232.23 363.831,1244.49 367.873,1238.82 371.914,1201.1 375.956,1190.48 380.502,1191.47 385.049,1185.43 390.101,1194.94 395.153,1186.17 \n",
       "  400.71,1194.96 405.762,1186.37 411.824,1178.9 417.887,1178.35 423.949,1184.8 430.516,1194.54 437.084,1188.56 444.157,1178.49 451.734,1186.34 459.312,1183 \n",
       "  467.395,1189.77 475.478,1178.31 484.067,1177.12 493.16,1180.64 502.759,1181.7 512.357,1175.57 522.967,1177.81 533.576,1188.19 544.69,1185.46 556.309,1180.47 \n",
       "  568.434,1178.57 581.064,1171.25 594.199,1171.4 607.839,1177.93 622.489,1175.57 637.14,1173.87 652.801,1179.36 668.967,1181.27 686.143,1181.82 703.825,1180.78 \n",
       "  722.012,1186.31 741.209,1189.19 761.417,1179.85 782.13,1191.49 803.853,1178.15 826.587,1180.21 850.331,1175.68 874.58,1183.86 900.345,1191.76 927.12,1181.86 \n",
       "  954.905,1187.76 984.207,1180.04 1014.52,1190.9 1046.35,1183.19 1079.18,1187.55 1113.54,1184.54 1149.4,1191.89 1186.79,1190.98 1225.69,1186.77 1266.1,1198.95 \n",
       "  1308.54,1188.15 1353,1201.04 1398.97,1198.91 1446.96,1187.68 1496.98,1201.04 1549.01,1183.8 1603.57,1192.32 1660.15,1193.11 1719.26,1195.94 1780.89,1195.71 \n",
       "  1845.05,1191.2 1912.24,1190.48 1981.96,1188 2054.71,1200.66 2130.49,1192.8 2209.8,1196.12 2292.15,1194.49 \n",
       "  \"/>\n",
       "<polyline clip-path=\"url(#clip032)\" style=\"stroke:#e26f46; stroke-width:8; stroke-opacity:1; fill:none\" points=\"\n",
       "  271.886,470.057 272.391,674.849 272.897,829.811 273.402,945.264 273.907,1026.63 274.412,1061.59 274.917,1083.98 275.423,1100.02 275.928,1111 276.433,1119.34 \n",
       "  276.938,1126.31 277.443,1132.37 277.949,1137.94 278.454,1142.87 278.959,1147.23 279.464,1151.15 279.969,1154.7 280.474,1157.93 280.98,1160.9 281.485,1163.67 \n",
       "  281.99,1166.27 282.495,1168.77 283,1171.31 283.506,1174.1 284.011,1177.38 284.516,1180.68 285.021,1183.35 285.526,1185.61 286.032,1187.85 286.537,1190.14 \n",
       "  287.042,1192.43 287.547,1194.69 288.052,1196.88 288.558,1198.96 289.063,1200.93 289.568,1202.77 290.073,1204.51 290.578,1206.15 291.083,1207.72 291.589,1209.24 \n",
       "  292.094,1210.77 292.599,1212.36 293.104,1214.1 293.609,1216.1 294.115,1218.47 294.62,1221.3 295.125,1224.57 295.63,1228.1 296.135,1231.73 296.641,1235.39 \n",
       "  297.146,1239.07 297.651,1242.72 298.156,1246.96 298.661,1250.39 299.167,1253.07 299.672,1255.38 300.177,1257.69 300.682,1259.88 301.187,1261.89 301.693,1263.6 \n",
       "  302.198,1265.06 302.703,1266.32 303.208,1267.47 303.713,1268.55 304.218,1269.57 304.724,1270.54 305.229,1271.5 305.734,1272.49 306.239,1273.53 306.744,1274.51 \n",
       "  307.25,1275.22 307.755,1275.99 308.26,1276.99 308.765,1278.04 309.27,1279.04 309.776,1280 310.281,1280.95 310.786,1281.92 311.291,1282.87 311.796,1283.8 \n",
       "  312.302,1284.86 312.807,1286.72 313.312,1291.03 313.817,1295.77 314.322,1294.92 314.828,1298.56 315.333,1303.15 315.838,1310.3 316.343,1306.36 316.848,1299.85 \n",
       "  317.353,1307.21 317.859,1303.02 318.364,1310.74 318.869,1314 319.374,1315.29 319.879,1314.94 320.385,1315.67 320.89,1316.15 321.395,1316.41 321.9,1316.88 \n",
       "  322.405,1317.65 322.911,1318.52 323.416,1319.31 323.921,1319.91 324.426,1320.38 324.931,1320.89 325.437,1321.39 325.942,1321.8 326.447,1322.29 326.952,1322.99 \n",
       "  327.457,1323.98 327.962,1324.98 328.468,1325.35 328.973,1325.66 329.478,1326.03 329.983,1326.35 330.488,1326.64 330.994,1326.94 331.499,1327.23 332.004,1327.5 \n",
       "  332.509,1327.77 333.014,1328.02 333.52,1328.27 334.025,1328.51 334.53,1328.75 335.035,1328.98 335.54,1329.2 336.046,1329.42 336.551,1329.63 337.056,1329.84 \n",
       "  337.561,1330.04 338.066,1330.24 338.572,1330.44 339.077,1330.63 339.582,1330.82 340.087,1331.01 340.592,1331.19 341.097,1331.38 341.603,1331.56 342.108,1331.75 \n",
       "  342.613,1331.94 343.118,1332.13 343.623,1332.33 344.129,1332.55 344.634,1332.78 345.139,1333.04 345.644,1333.31 346.149,1333.59 346.655,1333.87 347.16,1334.14 \n",
       "  347.665,1334.37 348.17,1334.59 348.675,1334.79 349.181,1334.99 349.686,1335.2 350.191,1335.39 350.696,1335.57 351.201,1335.74 351.707,1335.94 352.212,1336.15 \n",
       "  352.717,1336.35 353.222,1336.49 353.727,1336.66 354.232,1336.85 354.738,1337.14 355.243,1337.3 355.748,1337.04 356.253,1337.12 356.758,1337.03 357.264,1337.51 \n",
       "  357.769,1337.14 358.274,1336.84 358.779,1336.1 359.284,1335.65 359.79,1336.63 360.295,1336.19 360.8,1333.82 361.305,1324.68 361.81,1335.46 362.316,1335.35 \n",
       "  362.821,1337.73 363.326,1337.45 363.831,1337.56 364.336,1338.23 364.841,1338.12 365.347,1337.7 365.852,1336.9 366.357,1334.29 366.862,1338.18 367.367,1335.35 \n",
       "  367.873,1332.75 368.378,1337.95 368.883,1338.29 369.388,1339.28 369.893,1338.11 370.399,1339.04 370.904,1338.48 371.409,1339.25 371.914,1339.26 372.419,1339.7 \n",
       "  372.925,1339.85 373.43,1339.9 373.935,1340.15 374.44,1339.23 374.945,1341.09 375.451,1341.12 375.956,1340.99 376.461,1326.62 376.966,1325.76 377.471,1340.97 \n",
       "  377.976,1337.19 378.482,1334.12 378.987,1341.73 379.492,1341.2 379.997,1342.04 380.502,1342.47 381.008,1342.68 381.513,1342.72 382.018,1342.77 382.523,1342.8 \n",
       "  383.028,1342.84 383.534,1342.88 384.039,1342.94 384.544,1343.01 385.049,1343.12 385.554,1343.23 386.06,1343.46 386.565,1343.5 387.07,1343.84 387.575,1342.93 \n",
       "  388.08,1343.93 388.586,1342.81 389.091,1343.89 389.596,1343.31 390.101,1342.86 390.606,1343.76 391.111,1344.14 391.617,1343.98 392.122,1343.44 392.627,1343.08 \n",
       "  393.132,1343.19 393.637,1343.64 394.143,1344.34 394.648,1344.38 395.153,1344.08 395.658,1343.11 396.163,1344.24 396.669,1343.71 397.174,1344.15 397.679,1343.85 \n",
       "  398.184,1344.35 398.689,1344.01 399.195,1344.49 399.7,1344.12 400.205,1344.4 400.71,1344.28 401.215,1344.45 401.72,1344.53 402.226,1344.9 402.731,1344.84 \n",
       "  403.236,1344.77 403.741,1344.83 404.246,1344.95 404.752,1344.94 405.257,1345 405.762,1345 406.267,1345.05 406.772,1345.05 407.278,1345.09 407.783,1345.08 \n",
       "  408.288,1345.12 408.793,1345.11 409.298,1345.15 409.804,1345.14 410.309,1345.17 410.814,1345.16 411.319,1345.19 411.824,1345.18 412.33,1345.21 412.835,1345.21 \n",
       "  413.34,1345.24 413.845,1345.23 414.35,1345.27 414.855,1345.28 415.361,1345.36 415.866,1345.69 416.371,1343.33 416.876,1313.79 417.381,1316.3 417.887,1337.08 \n",
       "  418.392,1330.67 418.897,1339.96 419.402,1341.79 419.907,1342.93 420.413,1344.36 420.918,1345.34 421.423,1343.96 421.928,1347.32 422.433,1347.48 422.939,1347.53 \n",
       "  423.444,1347.58 423.949,1347.67 424.454,1347.87 424.959,1348.25 425.464,1348.73 425.97,1349.13 426.475,1349.41 426.98,1349.48 427.485,1349.58 427.99,1349.62 \n",
       "  428.496,1349.65 429.001,1349.67 429.506,1349.69 430.011,1349.71 430.516,1349.73 431.022,1349.75 431.527,1349.76 432.032,1349.78 432.537,1349.8 433.042,1349.81 \n",
       "  433.548,1349.83 434.053,1349.85 434.558,1349.87 435.063,1349.89 435.568,1349.92 436.074,1349.95 436.579,1349.99 437.084,1350.04 437.589,1350.11 438.094,1350.23 \n",
       "  438.599,1350.46 439.105,1350.99 439.61,1352.69 440.115,1357.45 440.62,1361.63 441.125,1363.35 441.631,1364.19 442.136,1364.69 442.641,1365.03 443.146,1365.28 \n",
       "  443.651,1365.48 444.157,1365.64 444.662,1365.77 445.167,1365.88 445.672,1365.98 446.177,1366.07 446.683,1366.15 447.188,1366.22 447.693,1366.28 448.198,1366.34 \n",
       "  448.703,1366.4 449.209,1366.45 449.714,1366.49 450.219,1366.54 450.724,1366.58 451.229,1366.62 451.734,1366.66 452.24,1366.7 452.745,1366.75 453.25,1366.81 \n",
       "  453.755,1366.99 454.26,1369.54 454.766,1366.62 455.271,1303.39 455.776,1362.05 456.281,1366.64 456.786,1366.74 457.292,1370.6 457.797,1370.81 458.302,1370.94 \n",
       "  458.807,1370.98 459.312,1371.01 459.818,1371.03 460.323,1371.05 460.828,1371.07 461.333,1371.09 461.838,1371.1 462.343,1371.12 462.849,1371.13 463.354,1371.15 \n",
       "  463.859,1371.16 464.364,1371.17 464.869,1371.19 465.375,1371.2 465.88,1371.21 466.385,1371.22 466.89,1371.23 467.395,1371.24 467.901,1371.25 468.406,1371.26 \n",
       "  468.911,1371.27 469.416,1371.28 469.921,1371.29 470.427,1371.3 470.932,1371.31 471.437,1371.32 471.942,1371.33 472.447,1371.34 472.953,1371.35 473.458,1371.36 \n",
       "  473.963,1371.36 474.468,1371.37 474.973,1371.38 475.478,1371.39 475.984,1371.39 476.489,1371.4 476.994,1371.41 477.499,1371.42 478.004,1371.42 478.51,1371.43 \n",
       "  479.015,1371.44 479.52,1371.44 480.025,1371.45 480.53,1371.46 481.036,1371.46 481.541,1371.47 482.046,1371.47 482.551,1371.48 483.056,1371.49 483.562,1371.49 \n",
       "  484.067,1371.5 484.572,1371.5 485.077,1371.51 485.582,1371.51 486.088,1371.52 486.593,1371.53 487.098,1371.53 487.603,1371.54 488.108,1371.54 488.613,1371.55 \n",
       "  489.119,1371.55 489.624,1371.55 490.129,1371.56 490.634,1371.56 491.139,1371.57 491.645,1371.57 492.15,1371.58 492.655,1371.58 493.16,1371.59 493.665,1371.59 \n",
       "  494.171,1371.59 494.676,1371.6 495.181,1371.6 495.686,1371.61 496.191,1371.61 496.697,1371.61 497.202,1371.62 497.707,1371.62 498.212,1371.63 498.717,1371.63 \n",
       "  499.222,1371.63 499.728,1371.64 500.233,1371.64 500.738,1371.64 501.243,1371.65 501.748,1371.65 502.254,1371.65 502.759,1371.66 503.264,1371.66 503.769,1371.66 \n",
       "  504.274,1371.67 504.78,1371.67 505.285,1371.67 505.79,1371.68 506.295,1371.68 506.8,1371.68 507.306,1371.68 507.811,1371.69 508.316,1371.69 508.821,1371.69 \n",
       "  509.326,1371.69 509.832,1371.7 510.337,1371.7 510.842,1371.7 511.347,1371.7 511.852,1371.71 512.357,1371.71 512.863,1371.71 513.368,1371.72 513.873,1371.72 \n",
       "  514.378,1371.72 514.883,1371.72 515.389,1371.72 515.894,1371.73 516.399,1371.73 516.904,1371.73 517.409,1371.73 517.915,1371.74 518.42,1371.74 518.925,1371.74 \n",
       "  519.43,1371.74 519.935,1371.74 520.441,1371.75 520.946,1371.75 521.451,1371.75 521.956,1371.75 522.461,1371.75 522.967,1371.76 523.472,1371.76 523.977,1371.76 \n",
       "  524.482,1371.76 524.987,1371.76 525.492,1371.77 525.998,1371.77 526.503,1371.77 527.008,1371.77 527.513,1371.77 528.018,1371.77 528.524,1371.78 529.029,1371.78 \n",
       "  529.534,1371.78 530.039,1371.78 530.544,1371.78 531.05,1371.78 531.555,1371.78 532.06,1371.79 532.565,1371.79 533.07,1371.79 533.576,1371.79 534.081,1371.79 \n",
       "  534.586,1371.79 535.091,1371.79 535.596,1371.8 536.101,1371.8 536.607,1371.8 537.112,1371.8 537.617,1371.8 538.122,1371.8 538.627,1371.8 539.133,1371.81 \n",
       "  539.638,1371.81 540.143,1371.81 540.648,1371.81 541.153,1371.81 541.659,1371.81 542.164,1371.81 542.669,1371.81 543.174,1371.82 543.679,1371.82 544.185,1371.82 \n",
       "  544.69,1371.82 545.195,1371.82 545.7,1371.82 546.205,1371.82 546.711,1371.82 547.216,1371.82 547.721,1371.82 548.226,1371.83 548.731,1371.83 549.236,1371.83 \n",
       "  549.742,1371.83 550.247,1371.83 550.752,1371.83 551.257,1371.83 551.762,1371.83 552.268,1371.83 552.773,1371.83 553.278,1371.84 553.783,1371.84 554.288,1371.84 \n",
       "  554.794,1371.84 555.299,1371.84 555.804,1371.84 556.309,1371.84 556.814,1371.84 557.32,1371.84 557.825,1371.84 558.33,1371.84 558.835,1371.84 559.34,1371.84 \n",
       "  559.846,1371.85 560.351,1371.85 560.856,1371.85 561.361,1371.85 561.866,1371.85 562.371,1371.85 562.877,1371.85 563.382,1371.85 563.887,1371.85 564.392,1371.85 \n",
       "  564.897,1371.85 565.403,1371.85 565.908,1371.85 566.413,1371.85 566.918,1371.85 567.423,1371.85 567.929,1371.86 568.434,1371.86 568.939,1371.86 569.444,1371.86 \n",
       "  569.949,1371.86 570.455,1371.86 570.96,1371.86 571.465,1371.86 571.97,1371.86 572.475,1371.86 572.98,1371.86 573.486,1371.86 573.991,1371.86 574.496,1371.86 \n",
       "  575.001,1371.86 575.506,1371.86 576.012,1371.86 576.517,1371.86 577.022,1371.86 577.527,1371.87 578.032,1371.87 578.538,1371.87 579.043,1371.87 579.548,1371.87 \n",
       "  580.053,1371.87 580.558,1371.87 581.064,1371.87 581.569,1371.87 582.074,1371.87 582.579,1371.87 583.084,1371.87 583.59,1371.87 584.095,1371.87 584.6,1371.87 \n",
       "  585.105,1371.87 585.61,1371.87 586.115,1371.87 586.621,1371.87 587.126,1371.87 587.631,1371.87 588.136,1371.87 588.641,1371.87 589.147,1371.87 589.652,1371.87 \n",
       "  590.157,1371.87 590.662,1371.87 591.167,1371.87 591.673,1371.87 592.178,1371.87 592.683,1371.88 593.188,1371.88 593.693,1371.88 594.199,1371.88 594.704,1371.88 \n",
       "  595.209,1371.88 595.714,1371.88 596.219,1371.88 596.725,1371.88 597.23,1371.88 597.735,1371.88 598.24,1371.88 598.745,1371.88 599.25,1371.88 599.756,1371.88 \n",
       "  600.261,1371.88 600.766,1371.88 601.271,1371.88 601.776,1371.88 602.282,1371.88 602.787,1371.88 603.292,1371.88 603.797,1371.88 604.302,1371.88 604.808,1371.88 \n",
       "  605.313,1371.96 605.818,1338.66 606.323,1325.62 606.828,1340.45 607.334,1303.67 607.839,1353.85 608.344,1363.08 608.849,1365.54 609.354,1376.23 609.859,1374.96 \n",
       "  610.365,1368.82 610.87,1379.88 611.375,1379.95 611.88,1380.07 612.385,1380.06 612.891,1380.08 613.396,1380.09 613.901,1380.09 614.406,1380.1 614.911,1380.1 \n",
       "  615.417,1380.11 615.922,1380.14 616.427,1380.3 616.932,1379.7 617.437,1375.41 617.943,1378.69 618.448,1375.52 618.953,1380.39 619.458,1380.76 619.963,1380.2 \n",
       "  620.469,1380.13 620.974,1380.69 621.479,1380.12 621.984,1380.08 622.489,1380.08 622.994,1380.09 623.5,1380.09 624.005,1380.09 624.51,1380.09 625.015,1380.09 \n",
       "  625.52,1380.09 626.026,1380.1 626.531,1380.1 627.036,1380.1 627.541,1380.1 628.046,1380.1 628.552,1380.1 629.057,1380.1 629.562,1380.1 630.067,1380.1 \n",
       "  630.572,1380.1 631.078,1380.11 631.583,1380.11 632.088,1380.11 632.593,1380.12 633.098,1380.2 633.604,1380.39 634.109,1380.92 634.614,1380.09 635.119,1380.1 \n",
       "  635.624,1380.1 636.129,1380.1 636.635,1380.1 637.14,1380.11 637.645,1380.11 638.15,1380.11 638.655,1380.11 639.161,1380.12 639.666,1380.12 640.171,1380.14 \n",
       "  640.676,1380.22 641.181,1380.83 641.687,1380.14 642.192,1381.29 642.697,1381.43 643.202,1380.38 643.707,1380.11 644.213,1380.11 644.718,1380.12 645.223,1380.13 \n",
       "  645.728,1380.2 646.233,1381.53 646.738,1380.19 647.244,1380.08 647.749,1380.09 648.254,1380.1 648.759,1380.1 649.264,1380.1 649.77,1380.11 650.275,1380.11 \n",
       "  650.78,1380.12 651.285,1380.14 651.79,1380.24 652.296,1380.13 652.801,1380.05 653.306,1380.11 653.811,1380.67 654.316,1379.95 654.822,1380 655.327,1373.04 \n",
       "  655.832,1370.54 656.337,1348.54 656.842,1351.17 657.348,1342.16 657.853,1357.88 658.358,1378.2 658.863,1381.3 659.368,1381.51 659.873,1379.9 660.379,1380.25 \n",
       "  660.884,1380.63 661.389,1380.06 661.894,1380 662.399,1380.07 662.905,1380.07 663.41,1380.08 663.915,1380.08 664.42,1380.08 664.925,1380.08 665.431,1380.09 \n",
       "  665.936,1380.09 666.441,1380.12 666.946,1380.39 667.451,1377.82 667.957,1377.23 668.462,1379.5 668.967,1378.45 669.472,1380.92 669.977,1380.28 670.483,1379.93 \n",
       "  670.988,1379.98 671.493,1380.03 671.998,1380.05 672.503,1380.07 673.008,1380.07 673.514,1380.08 674.019,1380.09 674.524,1380.09 675.029,1380.09 675.534,1380.1 \n",
       "  676.04,1380.1 676.545,1380.1 677.05,1380.1 677.555,1380.1 678.06,1380.11 678.566,1380.11 679.071,1380.11 679.576,1380.12 680.081,1380.12 680.586,1380.14 \n",
       "  681.092,1380.21 681.597,1381.54 682.102,1380.09 682.607,1381.14 683.112,1380.1 683.617,1380.08 684.123,1380.09 684.628,1380.09 685.133,1380.09 685.638,1380.09 \n",
       "  686.143,1380.09 686.649,1380.09 687.154,1380.09 687.659,1380.09 688.164,1380.09 688.669,1380.09 689.175,1380.1 689.68,1380.1 690.185,1380.1 690.69,1380.1 \n",
       "  691.195,1380.1 691.701,1380.1 692.206,1380.1 692.711,1380.1 693.216,1380.1 693.721,1380.1 694.227,1380.1 694.732,1380.1 695.237,1380.1 695.742,1380.1 \n",
       "  696.247,1380.1 696.752,1380.1 697.258,1380.1 697.763,1380.1 698.268,1380.1 698.773,1380.1 699.278,1380.1 699.784,1380.1 700.289,1380.1 700.794,1380.1 \n",
       "  701.299,1380.1 701.804,1380.1 702.31,1380.1 702.815,1380.1 703.32,1380.1 703.825,1380.1 704.33,1380.1 704.836,1380.1 705.341,1380.1 705.846,1380.1 \n",
       "  706.351,1380.1 706.856,1380.1 707.362,1380.1 707.867,1380.1 708.372,1380.11 708.877,1380.11 709.382,1380.11 709.887,1380.11 710.393,1380.11 710.898,1380.11 \n",
       "  711.403,1380.11 711.908,1380.11 712.413,1380.11 712.919,1380.11 713.424,1380.11 713.929,1380.11 714.434,1380.11 714.939,1380.11 715.445,1380.11 715.95,1380.12 \n",
       "  716.455,1380.13 716.96,1380.2 717.465,1380.1 717.971,1310.13 718.476,1299.66 718.981,1255.96 719.486,1334.97 719.991,1367.5 720.496,1371.78 721.002,1372 \n",
       "  721.507,1373.55 722.012,1373.83 722.517,1375.85 723.022,1375.86 723.528,1376.24 724.033,1379.8 724.538,1380.02 725.043,1380.07 725.548,1380.09 726.054,1380.15 \n",
       "  726.559,1381.05 727.064,1380.07 727.569,1380.06 728.074,1380.07 728.58,1380.07 729.085,1380.08 729.59,1380.08 730.095,1380.08 730.6,1380.08 731.106,1380.08 \n",
       "  731.611,1380.09 732.116,1380.09 732.621,1380.09 733.126,1380.09 733.631,1380.09 734.137,1380.09 734.642,1380.1 735.147,1380.1 735.652,1380.1 736.157,1380.1 \n",
       "  736.663,1380.1 737.168,1380.11 737.673,1380.12 738.178,1380.18 738.683,1381.43 739.189,1380.07 739.694,1361.35 740.199,1380.05 740.704,1380.03 741.209,1380.06 \n",
       "  741.715,1380.07 742.22,1380.08 742.725,1380.08 743.23,1380.08 743.735,1380.09 744.24,1380.09 744.746,1380.09 745.251,1380.09 745.756,1380.09 746.261,1380.09 \n",
       "  746.766,1380.09 747.272,1380.09 747.777,1380.09 748.282,1380.1 748.787,1380.1 749.292,1380.1 749.798,1380.1 750.303,1380.1 750.808,1380.1 751.313,1380.1 \n",
       "  751.818,1380.1 752.324,1380.1 752.829,1380.1 753.334,1380.1 753.839,1380.1 754.344,1380.1 754.85,1380.1 755.355,1380.1 755.86,1380.1 756.365,1380.1 \n",
       "  756.87,1380.1 757.375,1380.1 757.881,1380.1 758.386,1380.1 758.891,1380.1 759.396,1380.1 759.901,1380.1 760.407,1380.1 760.912,1380.1 761.417,1380.1 \n",
       "  761.922,1380.1 762.427,1380.1 762.933,1380.1 763.438,1380.1 763.943,1380.1 764.448,1380.1 764.953,1380.1 765.459,1380.1 765.964,1380.1 766.469,1380.1 \n",
       "  766.974,1380.1 767.479,1380.11 767.985,1380.11 768.49,1380.11 768.995,1380.11 769.5,1380.11 770.005,1380.11 770.51,1380.11 771.016,1380.11 771.521,1380.11 \n",
       "  772.026,1380.11 772.531,1380.11 773.036,1380.11 773.542,1380.11 774.047,1380.11 774.552,1380.11 775.057,1380.11 775.562,1380.11 776.068,1380.11 776.573,1380.11 \n",
       "  777.078,1380.11 777.583,1380.11 778.088,1380.11 778.594,1380.11 779.099,1380.11 779.604,1380.11 780.109,1380.11 780.614,1380.11 781.119,1380.11 781.625,1380.11 \n",
       "  782.13,1380.12 782.635,1380.12 783.14,1380.14 783.645,1381.49 784.151,1369.89 784.656,1378.19 785.161,1323.17 785.666,1374.76 786.171,1341.62 786.677,1378.62 \n",
       "  787.182,1379.29 787.687,1381.04 788.192,1380 788.697,1379.95 789.203,1380 789.708,1380.02 790.213,1380.04 790.718,1380.05 791.223,1380.05 791.729,1380.06 \n",
       "  792.234,1380.06 792.739,1380.07 793.244,1380.07 793.749,1380.07 794.254,1380.07 794.76,1380.08 795.265,1380.08 795.77,1380.08 796.275,1380.08 796.78,1380.08 \n",
       "  797.286,1380.08 797.791,1380.09 798.296,1380.09 798.801,1380.09 799.306,1380.09 799.812,1380.09 800.317,1380.09 800.822,1380.09 801.327,1380.09 801.832,1380.09 \n",
       "  802.338,1380.1 802.843,1380.1 803.348,1380.1 803.853,1380.1 804.358,1380.1 804.864,1380.1 805.369,1380.1 805.874,1380.11 806.379,1380.11 806.884,1380.11 \n",
       "  807.389,1380.12 807.895,1380.13 808.4,1380.17 808.905,1381 809.41,1379.99 809.915,1380.07 810.421,1373.68 810.926,1381.34 811.431,1380.35 811.936,1380 \n",
       "  812.441,1380.08 812.947,1380.13 813.452,1380.16 813.957,1380.32 814.462,1380.56 814.967,1380.07 815.473,1380.09 815.978,1380.1 816.483,1380.11 816.988,1380.11 \n",
       "  817.493,1380.12 817.998,1380.12 818.504,1380.14 819.009,1380.19 819.514,1380.87 820.019,1379.74 820.524,1380.11 821.03,1380.34 821.535,1379.75 822.04,1380.05 \n",
       "  822.545,1380.27 823.05,1380.09 823.556,1380.1 824.061,1380.11 824.566,1380.12 825.071,1380.14 825.576,1380.22 826.082,1381.84 826.587,1377.91 827.092,1373.85 \n",
       "  827.597,1367.61 828.102,1344.42 828.608,1361.66 829.113,1371.4 829.618,1381.03 830.123,1380.72 830.628,1380.7 831.133,1380.01 831.639,1380.04 832.144,1380.11 \n",
       "  832.649,1381.83 833.154,1380.52 833.659,1380.02 834.165,1380.03 834.67,1380.05 835.175,1380.09 835.68,1380.94 836.185,1380.98 836.691,1380.3 837.196,1381.87 \n",
       "  837.701,1380.94 838.206,1380.11 838.711,1380.17 839.217,1380.55 839.722,1380.16 840.227,1379.97 840.732,1381.57 841.237,1381.89 841.743,1381.89 842.248,1381.89 \n",
       "  842.753,1381.89 843.258,1381.89 843.763,1381.86 844.268,1380.1 844.774,1381.67 845.279,1381.65 845.784,1381.81 846.289,1381.66 846.794,1380.13 847.3,1376.73 \n",
       "  847.805,1381.6 848.31,1381.68 848.815,1381.85 849.32,1381.86 849.826,1381.87 850.331,1381.87 850.836,1381.88 851.341,1381.88 851.846,1381.89 852.352,1381.89 \n",
       "  852.857,1381.89 853.362,1381.89 853.867,1381.9 854.372,1381.9 854.877,1381.9 855.383,1381.9 855.888,1381.9 856.393,1381.9 856.898,1381.9 857.403,1381.9 \n",
       "  857.909,1381.91 858.414,1381.91 858.919,1381.91 859.424,1381.91 859.929,1381.91 860.435,1381.91 860.94,1381.91 861.445,1381.91 861.95,1381.91 862.455,1381.91 \n",
       "  862.961,1381.91 863.466,1381.91 863.971,1381.91 864.476,1381.91 864.981,1381.91 865.487,1381.88 865.992,1380.11 866.497,1381.87 867.002,1380.03 867.507,1377.48 \n",
       "  868.012,1372.37 868.518,1369.8 869.023,1375.87 869.528,1380.22 870.033,1377.83 870.538,1380.14 871.044,1381.62 871.549,1381.88 872.054,1381.88 872.559,1381.88 \n",
       "  873.064,1381.87 873.57,1381.36 874.075,1380.97 874.58,1380.97 875.085,1380.07 875.59,1380.4 876.096,1381.85 876.601,1380.44 877.106,1381.88 877.611,1380.15 \n",
       "  878.116,1380.01 878.622,1381.62 879.127,1381.91 879.632,1381.91 880.137,1381.91 880.642,1381.91 881.147,1381.91 881.653,1381.91 882.158,1381.9 882.663,1381.82 \n",
       "  883.168,1380.06 883.673,1381.13 884.179,1381.8 884.684,1380.64 885.189,1380.29 885.694,1380.11 886.199,1380.11 886.705,1380.12 887.21,1380.13 887.715,1380.14 \n",
       "  888.22,1380.17 888.725,1380.32 889.231,1381.9 889.736,1381.08 890.241,1380.14 890.746,1380.16 891.251,1380.23 891.756,1381 892.262,1381.22 892.767,1380.09 \n",
       "  893.272,1381.73 893.777,1381.91 894.282,1381.92 894.788,1381.92 895.293,1381.92 895.798,1381.92 896.303,1381.92 896.808,1381.92 897.314,1381.92 897.819,1381.92 \n",
       "  898.324,1381.92 898.829,1381.92 899.334,1381.92 899.84,1381.92 900.345,1381.92 900.85,1381.92 901.355,1381.92 901.86,1381.92 902.366,1381.92 902.871,1381.92 \n",
       "  903.376,1381.92 903.881,1381.91 904.386,1380.65 904.891,1380.14 905.397,1380.17 905.902,1380.4 906.407,1380.06 906.912,1380.87 907.417,1381.92 907.923,1381.92 \n",
       "  908.428,1381.9 908.933,1380.06 909.438,1379.94 909.943,1381.39 910.449,1380.44 910.954,1379.91 911.459,1377.08 911.964,1378.28 912.469,1375.23 912.975,1379.81 \n",
       "  913.48,1381.85 913.985,1381.17 914.49,1377.86 914.995,1374.68 915.501,1381.58 916.006,1380.04 916.511,1380.41 917.016,1380.25 917.521,1380 918.026,1380.57 \n",
       "  918.532,1381.18 919.037,1380.05 919.542,1380.06 920.047,1380.08 920.552,1380.14 921.058,1381.74 921.563,1381.92 922.068,1381.92 922.573,1381.92 923.078,1381.92 \n",
       "  923.584,1381.92 924.089,1381.92 924.594,1381.92 925.099,1381.92 925.604,1381.92 926.11,1381.92 926.615,1381.92 927.12,1381.92 927.625,1381.92 928.13,1381.92 \n",
       "  928.635,1381.92 929.141,1381.92 929.646,1381.93 930.151,1381.93 930.656,1381.93 931.161,1381.93 931.667,1381.93 932.172,1381.93 932.677,1381.93 933.182,1381.93 \n",
       "  933.687,1381.93 934.193,1381.93 934.698,1381.93 935.203,1381.93 935.708,1381.93 936.213,1381.93 936.719,1381.93 937.224,1381.93 937.729,1381.93 938.234,1381.93 \n",
       "  938.739,1381.93 939.245,1381.93 939.75,1381.93 940.255,1381.93 940.76,1381.93 941.265,1381.93 941.77,1381.93 942.276,1381.93 942.781,1381.93 943.286,1381.93 \n",
       "  943.791,1381.93 944.296,1381.93 944.802,1381.93 945.307,1381.93 945.812,1381.93 946.317,1381.93 946.822,1381.93 947.328,1381.94 947.833,1381.94 948.338,1381.94 \n",
       "  948.843,1381.94 949.348,1381.93 949.854,1381.84 950.359,1378.38 950.864,1367.07 951.369,1364.49 951.874,1379.23 952.38,1380.12 952.885,1380.25 953.39,1380.6 \n",
       "  953.895,1380.05 954.4,1380.08 954.905,1380.96 955.411,1381.9 955.916,1381.9 956.421,1381.91 956.926,1381.91 957.431,1381.91 957.937,1381.91 958.442,1381.92 \n",
       "  958.947,1381.92 959.452,1381.92 959.957,1381.92 960.463,1381.92 960.968,1381.92 961.473,1381.92 961.978,1381.92 962.483,1381.92 962.989,1381.93 963.494,1381.93 \n",
       "  963.999,1381.92 964.504,1381.88 965.009,1380.09 965.514,1381.28 966.02,1381.92 966.525,1381.9 967.03,1380.16 967.535,1380.09 968.04,1380.09 968.546,1380.1 \n",
       "  969.051,1380.1 969.556,1380.1 970.061,1380.1 970.566,1380.1 971.072,1380.1 971.577,1380.11 972.082,1380.11 972.587,1380.11 973.092,1380.11 973.598,1380.11 \n",
       "  974.103,1380.11 974.608,1380.11 975.113,1380.11 975.618,1380.11 976.124,1380.11 976.629,1380.11 977.134,1380.11 977.639,1380.12 978.144,1380.12 978.649,1380.12 \n",
       "  979.155,1380.12 979.66,1380.12 980.165,1380.13 980.67,1380.13 981.175,1380.14 981.681,1380.16 982.186,1380.29 982.691,1381.55 983.196,1381.79 983.701,1380.54 \n",
       "  984.207,1378.56 984.712,1365.11 985.217,1372.85 985.722,1363.95 986.227,1376.19 986.733,1381.49 987.238,1354.01 987.743,1380.34 988.248,1379.77 988.753,1379.87 \n",
       "  989.259,1379.93 989.764,1379.98 990.269,1380.03 990.774,1380.87 991.279,1381.27 991.784,1381.53 992.29,1381.89 992.795,1381.89 993.3,1381.9 993.805,1381.9 \n",
       "  994.31,1381.91 994.816,1381.91 995.321,1381.91 995.826,1381.92 996.331,1381.92 996.836,1381.92 997.342,1381.92 997.847,1381.92 998.352,1381.92 998.857,1381.93 \n",
       "  999.362,1381.93 999.868,1381.93 1000.37,1381.93 1000.88,1381.93 1001.38,1381.93 1001.89,1381.93 1002.39,1381.93 1002.9,1381.93 1003.4,1381.93 1003.91,1381.93 \n",
       "  1004.41,1381.93 1004.92,1381.94 1005.42,1381.94 1005.93,1381.94 1006.44,1381.94 1006.94,1381.94 1007.45,1381.94 1007.95,1381.94 1008.46,1381.94 1008.96,1381.94 \n",
       "  1009.47,1381.94 1009.97,1381.94 1010.48,1381.94 1010.98,1381.94 1011.49,1381.94 1011.99,1381.94 1012.5,1381.94 1013,1381.94 1013.51,1381.94 1014.01,1381.94 \n",
       "  1014.52,1381.94 1015.02,1381.94 1015.53,1381.94 1016.03,1381.94 1016.54,1381.94 1017.04,1381.94 1017.55,1381.94 1018.05,1381.94 1018.56,1381.83 1019.06,1379.61 \n",
       "  1019.57,1379.89 1020.08,1380.18 1020.58,1378.9 1021.09,1354.54 1021.59,1344.84 1022.1,1373.55 1022.6,1347.44 1023.11,1349.87 1023.61,1377.06 1024.12,1379.78 \n",
       "  1024.62,1380.2 1025.13,1380.27 1025.63,1380.07 1026.14,1380.09 1026.64,1380.1 1027.15,1380.1 1027.65,1380.11 1028.16,1380.11 1028.66,1380.11 1029.17,1380.11 \n",
       "  1029.67,1380.12 1030.18,1380.12 1030.68,1380.12 1031.19,1380.13 1031.69,1380.13 1032.2,1380.14 1032.7,1380.15 1033.21,1380.19 1033.72,1380.46 1034.22,1380.12 \n",
       "  1034.73,1380.05 1035.23,1381.93 1035.74,1381.94 1036.24,1381.94 1036.75,1381.94 1037.25,1381.94 1037.76,1381.94 1038.26,1381.94 1038.77,1381.94 1039.27,1381.94 \n",
       "  1039.78,1381.94 1040.28,1381.94 1040.79,1381.94 1041.29,1381.94 1041.8,1381.94 1042.3,1381.94 1042.81,1381.94 1043.31,1381.94 1043.82,1381.94 1044.32,1381.94 \n",
       "  1044.83,1381.94 1045.33,1381.94 1045.84,1381.94 1046.35,1381.94 1046.85,1381.94 1047.36,1381.95 1047.86,1381.95 1048.37,1381.95 1048.87,1381.95 1049.38,1381.95 \n",
       "  1049.88,1381.95 1050.39,1381.95 1050.89,1381.95 1051.4,1381.94 1051.9,1381.92 1052.41,1380.08 1052.91,1371.01 1053.42,1380.07 1053.92,1373.63 1054.43,1374.05 \n",
       "  1054.93,1381.5 1055.44,1381.81 1055.94,1381.86 1056.45,1381.89 1056.95,1381.9 1057.46,1381.91 1057.96,1381.92 1058.47,1381.92 1058.97,1381.92 1059.48,1381.93 \n",
       "  1059.99,1381.93 1060.49,1381.93 1061,1381.93 1061.5,1381.93 1062.01,1381.93 1062.51,1381.94 1063.02,1381.94 1063.52,1381.94 1064.03,1381.94 1064.53,1381.94 \n",
       "  1065.04,1381.94 1065.54,1381.94 1066.05,1381.94 1066.55,1381.94 1067.06,1381.94 1067.56,1381.94 1068.07,1381.94 1068.57,1381.94 1069.08,1381.94 1069.58,1381.94 \n",
       "  1070.09,1381.94 1070.59,1381.94 1071.1,1381.95 1071.6,1381.95 1072.11,1381.95 1072.62,1381.95 1073.12,1381.95 1073.63,1381.95 1074.13,1381.95 1074.64,1381.95 \n",
       "  1075.14,1381.95 1075.65,1381.95 1076.15,1381.95 1076.66,1381.95 1077.16,1381.95 1077.67,1381.95 1078.17,1381.95 1078.68,1381.95 1079.18,1381.95 1079.69,1381.95 \n",
       "  1080.19,1381.95 1080.7,1381.95 1081.2,1381.95 1081.71,1381.95 1082.21,1381.95 1082.72,1381.95 1083.22,1381.95 1083.73,1381.95 1084.23,1381.95 1084.74,1381.95 \n",
       "  1085.24,1381.95 1085.75,1381.95 1086.26,1381.95 1086.76,1381.95 1087.27,1381.62 1087.77,1380.11 1088.28,1378.52 1088.78,1377.7 1089.29,1381.94 1089.79,1380.26 \n",
       "  1090.3,1380.07 1090.8,1380.07 1091.31,1380.08 1091.81,1380.08 1092.32,1380.08 1092.82,1380.08 1093.33,1380.09 1093.83,1380.09 1094.34,1380.09 1094.84,1380.09 \n",
       "  1095.35,1380.09 1095.85,1380.09 1096.36,1380.09 1096.86,1380.1 1097.37,1380.1 1097.87,1380.1 1098.38,1380.1 1098.89,1380.1 1099.39,1380.1 1099.9,1380.1 \n",
       "  1100.4,1380.11 1100.91,1380.11 1101.41,1380.16 1101.92,1381.88 1102.42,1381.27 1102.93,1381.94 1103.43,1379.78 1103.94,1380.12 1104.44,1371.76 1104.95,1349.23 \n",
       "  1105.45,1365.99 1105.96,1379.2 1106.46,1379.32 1106.97,1376.95 1107.47,1379.84 1107.98,1359.86 1108.48,1378.97 1108.99,1380.03 1109.49,1380.3 1110,1380.46 \n",
       "  1110.5,1380.06 1111.01,1380.08 1111.51,1380.09 1112.02,1380.1 1112.53,1380.1 1113.03,1380.11 1113.54,1380.11 1114.04,1380.11 1114.55,1380.12 1115.05,1380.13 \n",
       "  1115.56,1380.13 1116.06,1380.15 1116.57,1380.17 1117.07,1380.23 1117.58,1380.7 1118.08,1381.49 1118.59,1379.97 1119.09,1381.55 1119.6,1381.92 1120.1,1381.92 \n",
       "  1120.61,1381.93 1121.11,1381.93 1121.62,1381.93 1122.12,1381.93 1122.63,1381.93 1123.13,1381.93 1123.64,1381.93 1124.14,1381.94 1124.65,1381.94 1125.16,1381.94 \n",
       "  1125.66,1381.94 1126.17,1381.94 1126.67,1381.94 1127.18,1381.94 1127.68,1381.94 1128.19,1381.94 1128.69,1381.94 1129.2,1381.94 1129.7,1381.95 1130.21,1381.95 \n",
       "  1130.71,1381.95 1131.22,1381.95 1131.72,1381.95 1132.23,1381.95 1132.73,1381.95 1133.24,1381.95 1133.74,1381.95 1134.25,1381.95 1134.75,1381.95 1135.26,1381.95 \n",
       "  1135.76,1381.95 1136.27,1381.95 1136.77,1381.95 1137.28,1381.95 1137.78,1381.95 1138.29,1381.95 1138.8,1381.95 1139.3,1381.96 1139.81,1381.96 1140.31,1381.96 \n",
       "  1140.82,1381.96 1141.32,1381.96 1141.83,1381.96 1142.33,1381.96 1142.84,1381.96 1143.34,1381.96 1143.85,1381.96 1144.35,1381.96 1144.86,1381.96 1145.36,1381.96 \n",
       "  1145.87,1381.96 1146.37,1381.96 1146.88,1381.96 1147.38,1381.96 1147.89,1381.96 1148.39,1381.96 1148.9,1381.96 1149.4,1381.96 1149.91,1381.96 1150.41,1381.96 \n",
       "  1150.92,1381.96 1151.43,1381.96 1151.93,1381.96 1152.44,1381.96 1152.94,1381.96 1153.45,1381.96 1153.95,1381.96 1154.46,1381.96 1154.96,1381.96 1155.47,1381.96 \n",
       "  1155.97,1381.96 1156.48,1381.96 1156.98,1381.96 1157.49,1381.96 1157.99,1381.96 1158.5,1381.96 1159,1381.96 1159.51,1381.96 1160.01,1381.96 1160.52,1381.96 \n",
       "  1161.02,1381.96 1161.53,1381.96 1162.03,1381.96 1162.54,1381.96 1163.04,1381.96 1163.55,1381.96 1164.05,1381.96 1164.56,1381.96 1165.07,1381.96 1165.57,1380.22 \n",
       "  1166.08,1380.11 1166.58,1380.12 1167.09,1380.12 1167.59,1380.12 1168.1,1380.13 1168.6,1380.14 1169.11,1380.24 1169.61,1377.15 1170.12,1369.95 1170.62,1350.83 \n",
       "  1171.13,1378.39 1171.63,1369.3 1172.14,1374.24 1172.64,1357.68 1173.15,1375.82 1173.65,1380.04 1174.16,1380.07 1174.66,1380.08 1175.17,1380.09 1175.67,1380.1 \n",
       "  1176.18,1380.1 1176.68,1380.11 1177.19,1380.11 1177.7,1380.12 1178.2,1380.12 1178.71,1380.13 1179.21,1380.14 1179.72,1380.17 1180.22,1380.26 1180.73,1381.72 \n",
       "  1181.23,1381.91 1181.74,1381.92 1182.24,1381.92 1182.75,1381.93 1183.25,1381.93 1183.76,1381.93 1184.26,1381.94 1184.77,1381.94 1185.27,1381.94 1185.78,1381.94 \n",
       "  1186.28,1381.94 1186.79,1381.94 1187.29,1381.94 1187.8,1381.95 1188.3,1381.95 1188.81,1381.95 1189.31,1381.95 1189.82,1381.95 1190.32,1381.95 1190.83,1381.95 \n",
       "  1191.34,1381.95 1191.84,1381.95 1192.35,1381.95 1192.85,1381.95 1193.36,1381.95 1193.86,1381.95 1194.37,1381.95 1194.87,1381.96 1195.38,1381.96 1195.88,1381.96 \n",
       "  1196.39,1381.96 1196.89,1381.96 1197.4,1381.96 1197.9,1381.96 1198.41,1381.96 1198.91,1381.96 1199.42,1381.96 1199.92,1381.96 1200.43,1381.96 1200.93,1381.96 \n",
       "  1201.44,1381.96 1201.94,1381.96 1202.45,1381.96 1202.95,1381.96 1203.46,1381.96 1203.97,1381.96 1204.47,1381.96 1204.98,1381.96 1205.48,1381.96 1205.99,1381.96 \n",
       "  1206.49,1381.96 1207,1381.96 1207.5,1381.96 1208.01,1381.96 1208.51,1381.96 1209.02,1381.96 1209.52,1381.96 1210.03,1381.96 1210.53,1381.96 1211.04,1381.96 \n",
       "  1211.54,1381.96 1212.05,1381.96 1212.55,1381.96 1213.06,1381.96 1213.56,1381.96 1214.07,1381.96 1214.57,1381.96 1215.08,1381.97 1215.58,1381.97 1216.09,1381.97 \n",
       "  1216.59,1381.97 1217.1,1381.97 1217.61,1381.97 1218.11,1381.97 1218.62,1381.97 1219.12,1381.97 1219.63,1381.97 1220.13,1381.97 1220.64,1381.97 1221.14,1381.97 \n",
       "  1221.65,1381.97 1222.15,1381.97 1222.66,1381.97 1223.16,1381.97 1223.67,1381.97 1224.17,1381.97 1224.68,1381.88 1225.18,1366.34 1225.69,1375.65 1226.19,1373.3 \n",
       "  1226.7,1372.09 1227.2,1379.91 1227.71,1379.21 1228.21,1381.83 1228.72,1381.94 1229.22,1381.95 1229.73,1381.95 1230.23,1381.95 1230.74,1381.95 1231.25,1381.95 \n",
       "  1231.75,1381.95 1232.26,1381.95 1232.76,1381.96 1233.27,1381.96 1233.77,1381.96 1234.28,1381.96 1234.78,1381.96 1235.29,1381.96 1235.79,1381.96 1236.3,1381.96 \n",
       "  1236.8,1381.96 1237.31,1381.96 1237.81,1381.96 1238.32,1381.96 1238.82,1381.96 1239.33,1381.96 1239.83,1381.96 1240.34,1381.96 1240.84,1381.96 1241.35,1381.96 \n",
       "  1241.85,1381.96 1242.36,1381.96 1242.86,1381.96 1243.37,1381.96 1243.88,1381.96 1244.38,1381.96 1244.89,1381.96 1245.39,1381.96 1245.9,1381.96 1246.4,1381.96 \n",
       "  1246.91,1381.96 1247.41,1381.96 1247.92,1381.96 1248.42,1381.97 1248.93,1381.97 1249.43,1381.97 1249.94,1381.97 1250.44,1381.97 1250.95,1381.97 1251.45,1381.97 \n",
       "  1251.96,1381.97 1252.46,1381.97 1252.97,1381.97 1253.47,1381.97 1253.98,1381.97 1254.48,1381.97 1254.99,1381.97 1255.49,1381.97 1256,1381.97 1256.5,1381.97 \n",
       "  1257.01,1381.97 1257.52,1381.97 1258.02,1381.97 1258.53,1381.97 1259.03,1381.97 1259.54,1381.97 1260.04,1381.97 1260.55,1381.97 1261.05,1381.97 1261.56,1381.97 \n",
       "  1262.06,1381.97 1262.57,1381.97 1263.07,1381.97 1263.58,1381.97 1264.08,1381.97 1264.59,1381.97 1265.09,1381.97 1265.6,1381.97 1266.1,1381.97 1266.61,1381.97 \n",
       "  1267.11,1381.94 1267.62,1380.1 1268.12,1363.82 1268.63,1371.46 1269.13,1381.47 1269.64,1380.09 1270.15,1380.09 1270.65,1380.13 1271.16,1380.19 1271.66,1381.59 \n",
       "  1272.17,1381.96 1272.67,1381.96 1273.18,1381.96 1273.68,1381.96 1274.19,1381.96 1274.69,1381.96 1275.2,1381.96 1275.7,1381.96 1276.21,1381.96 1276.71,1381.96 \n",
       "  1277.22,1381.96 1277.72,1381.97 1278.23,1381.97 1278.73,1381.97 1279.24,1381.97 1279.74,1381.97 1280.25,1381.97 1280.75,1381.97 1281.26,1381.97 1281.76,1381.97 \n",
       "  1282.27,1381.97 1282.77,1381.97 1283.28,1381.97 1283.79,1381.97 1284.29,1381.97 1284.8,1381.97 1285.3,1381.97 1285.81,1381.97 1286.31,1381.97 1286.82,1381.97 \n",
       "  1287.32,1381.97 1287.83,1381.97 1288.33,1381.97 1288.84,1381.97 1289.34,1381.97 1289.85,1381.97 1290.35,1381.97 1290.86,1381.97 1291.36,1381.97 1291.87,1381.97 \n",
       "  1292.37,1381.97 1292.88,1381.97 1293.38,1381.97 1293.89,1381.97 1294.39,1381.97 1294.9,1381.97 1295.4,1381.97 1295.91,1381.97 1296.42,1381.97 1296.92,1381.97 \n",
       "  1297.43,1381.97 1297.93,1381.97 1298.44,1381.97 1298.94,1381.97 1299.45,1381.97 1299.95,1381.97 1300.46,1381.97 1300.96,1381.97 1301.47,1381.97 1301.97,1381.97 \n",
       "  1302.48,1381.97 1302.98,1381.97 1303.49,1381.97 1303.99,1381.97 1304.5,1381.97 1305,1381.97 1305.51,1381.97 1306.01,1381.97 1306.52,1381.97 1307.02,1381.97 \n",
       "  1307.53,1381.97 1308.03,1381.97 1308.54,1381.97 1309.04,1381.97 1309.55,1381.97 1310.06,1381.97 1310.56,1381.97 1311.07,1381.97 1311.57,1381.97 1312.08,1380.21 \n",
       "  1312.58,1380.12 1313.09,1381.92 1313.59,1381.79 1314.1,1381.97 1314.6,1381.97 1315.11,1381.96 1315.61,1379.21 1316.12,1374.61 1316.62,1364.46 1317.13,1345.6 \n",
       "  1317.63,1356.85 1318.14,1346.86 1318.64,1352.59 1319.15,1379.46 1319.65,1377.87 1320.16,1379.02 1320.66,1376.47 1321.17,1377.64 1321.67,1378.41 1322.18,1381.27 \n",
       "  1322.69,1380.16 1323.19,1380.02 1323.7,1380.06 1324.2,1380.08 1324.71,1380.08 1325.21,1380.09 1325.72,1380.09 1326.22,1380.1 1326.73,1380.1 1327.23,1380.1 \n",
       "  1327.74,1380.1 1328.24,1380.1 1328.75,1380.1 1329.25,1380.11 1329.76,1380.11 1330.26,1380.11 1330.77,1380.11 1331.27,1380.11 1331.78,1380.11 1332.28,1380.11 \n",
       "  1332.79,1380.12 1333.29,1380.12 1333.8,1380.12 1334.3,1380.12 1334.81,1380.13 1335.31,1380.14 1335.82,1380.16 1336.33,1380.27 1336.83,1381.94 1337.34,1380.55 \n",
       "  1337.84,1380.12 1338.35,1380.23 1338.85,1381.91 1339.36,1381.94 1339.86,1381.95 1340.37,1381.95 1340.87,1381.95 1341.38,1381.95 1341.88,1381.95 1342.39,1381.95 \n",
       "  1342.89,1381.96 1343.4,1381.96 1343.9,1381.96 1344.41,1381.96 1344.91,1381.96 1345.42,1381.96 1345.92,1381.96 1346.43,1381.96 1346.93,1381.96 1347.44,1381.96 \n",
       "  1347.94,1381.96 1348.45,1381.96 1348.96,1381.96 1349.46,1381.96 1349.97,1381.96 1350.47,1381.96 1350.98,1381.96 1351.48,1381.96 1351.99,1381.96 1352.49,1381.96 \n",
       "  1353,1381.96 1353.5,1381.96 1354.01,1381.96 1354.51,1381.97 1355.02,1381.97 1355.52,1381.97 1356.03,1381.97 1356.53,1381.97 1357.04,1381.97 1357.54,1381.97 \n",
       "  1358.05,1381.97 1358.55,1381.97 1359.06,1381.97 1359.56,1381.97 1360.07,1381.97 1360.57,1381.97 1361.08,1381.97 1361.58,1381.97 1362.09,1381.97 1362.6,1381.97 \n",
       "  1363.1,1381.97 1363.61,1381.97 1364.11,1381.97 1364.62,1381.97 1365.12,1381.97 1365.63,1381.97 1366.13,1381.97 1366.64,1381.97 1367.14,1381.97 1367.65,1381.97 \n",
       "  1368.15,1381.97 1368.66,1381.97 1369.16,1381.97 1369.67,1381.97 1370.17,1381.97 1370.68,1381.97 1371.18,1381.97 1371.69,1381.97 1372.19,1381.97 1372.7,1381.97 \n",
       "  1373.2,1381.97 1373.71,1381.97 1374.21,1381.97 1374.72,1381.97 1375.23,1381.97 1375.73,1381.97 1376.24,1381.97 1376.74,1381.97 1377.25,1381.97 1377.75,1381.97 \n",
       "  1378.26,1381.97 1378.76,1381.97 1379.27,1381.97 1379.77,1381.97 1380.28,1381.97 1380.78,1381.97 1381.29,1381.97 1381.79,1381.97 1382.3,1381.97 1382.8,1381.97 \n",
       "  1383.31,1381.97 1383.81,1381.97 1384.32,1381.97 1384.82,1381.97 1385.33,1381.97 1385.83,1381.97 1386.34,1381.97 1386.84,1381.97 1387.35,1381.97 1387.85,1381.97 \n",
       "  1388.36,1381.97 1388.87,1381.97 1389.37,1381.97 1389.88,1381.97 1390.38,1381.97 1390.89,1381.97 1391.39,1380.3 1391.9,1380.12 1392.4,1380.12 1392.91,1380.13 \n",
       "  1393.41,1380.3 1393.92,1362.33 1394.42,1371.78 1394.93,1369.38 1395.43,1357.59 1395.94,1381.37 1396.44,1381.67 1396.95,1381.74 1397.45,1381.79 1397.96,1381.82 \n",
       "  1398.46,1381.85 1398.97,1381.88 1399.47,1381.91 1399.98,1381.93 1400.48,1381.94 1400.99,1381.95 1401.49,1381.95 1402,1381.95 1402.51,1381.96 1403.01,1381.96 \n",
       "  1403.52,1381.96 1404.02,1381.96 1404.53,1381.96 1405.03,1381.96 1405.54,1381.96 1406.04,1381.96 1406.55,1381.96 1407.05,1381.96 1407.56,1381.97 1408.06,1381.97 \n",
       "  1408.57,1381.97 1409.07,1381.97 1409.58,1381.97 1410.08,1381.97 1410.59,1381.97 1411.09,1381.97 1411.6,1381.97 1412.1,1381.97 1412.61,1381.97 1413.11,1381.97 \n",
       "  1413.62,1381.97 1414.12,1381.97 1414.63,1381.97 1415.14,1381.97 1415.64,1381.97 1416.15,1381.97 1416.65,1381.97 1417.16,1381.97 1417.66,1381.97 1418.17,1381.97 \n",
       "  1418.67,1381.97 1419.18,1381.97 1419.68,1381.97 1420.19,1381.97 1420.69,1381.97 1421.2,1381.97 1421.7,1381.97 1422.21,1381.97 1422.71,1381.97 1423.22,1381.97 \n",
       "  1423.72,1381.97 1424.23,1381.97 1424.73,1381.97 1425.24,1381.97 1425.74,1381.97 1426.25,1381.97 1426.75,1381.97 1427.26,1381.97 1427.76,1381.97 1428.27,1381.97 \n",
       "  1428.78,1381.97 1429.28,1381.97 1429.79,1381.97 1430.29,1381.97 1430.8,1381.98 1431.3,1381.98 1431.81,1381.98 1432.31,1381.98 1432.82,1381.98 1433.32,1381.98 \n",
       "  1433.83,1381.98 1434.33,1381.98 1434.84,1381.98 1435.34,1381.98 1435.85,1381.98 1436.35,1381.98 1436.86,1381.98 1437.36,1381.98 1437.87,1381.98 1438.37,1381.98 \n",
       "  1438.88,1381.98 1439.38,1381.98 1439.89,1381.98 1440.39,1381.98 1440.9,1381.98 1441.41,1381.98 1441.91,1381.98 1442.42,1381.98 1442.92,1381.98 1443.43,1381.98 \n",
       "  1443.93,1381.98 1444.44,1381.98 1444.94,1381.98 1445.45,1381.98 1445.95,1381.98 1446.46,1381.98 1446.96,1381.98 1447.47,1381.98 1447.97,1381.98 1448.48,1381.98 \n",
       "  1448.98,1381.98 1449.49,1381.98 1449.99,1381.98 1450.5,1381.98 1451,1381.98 1451.51,1381.98 1452.01,1381.98 1452.52,1381.98 1453.02,1381.98 1453.53,1381.98 \n",
       "  1454.03,1381.98 1454.54,1381.98 1455.05,1381.98 1455.55,1381.98 1456.06,1381.98 1456.56,1381.98 1457.07,1381.98 1457.57,1381.98 1458.08,1381.98 1458.58,1381.98 \n",
       "  1459.09,1381.98 1459.59,1381.98 1460.1,1381.98 1460.6,1381.98 1461.11,1381.98 1461.61,1381.98 1462.12,1381.98 1462.62,1381.98 1463.13,1381.98 1463.63,1381.98 \n",
       "  1464.14,1381.98 1464.64,1381.98 1465.15,1381.98 1465.65,1381.98 1466.16,1381.98 1466.66,1381.98 1467.17,1381.98 1467.68,1381.98 1468.18,1381.98 1468.69,1381.98 \n",
       "  1469.19,1381.98 1469.7,1381.97 1470.2,1361.44 1470.71,1347.4 1471.21,1358.61 1471.72,1377.95 1472.22,1380.21 1472.73,1381 1473.23,1381.91 1473.74,1381.89 \n",
       "  1474.24,1381.95 1474.75,1381.96 1475.25,1381.96 1475.76,1381.96 1476.26,1381.96 1476.77,1381.96 1477.27,1381.96 1477.78,1381.97 1478.28,1381.97 1478.79,1381.97 \n",
       "  1479.29,1381.97 1479.8,1381.97 1480.3,1381.97 1480.81,1381.97 1481.32,1381.97 1481.82,1381.97 1482.33,1381.97 1482.83,1381.97 1483.34,1381.97 1483.84,1381.97 \n",
       "  1484.35,1381.97 1484.85,1381.97 1485.36,1381.97 1485.86,1381.97 1486.37,1381.97 1486.87,1381.97 1487.38,1381.97 1487.88,1381.97 1488.39,1381.97 1488.89,1381.97 \n",
       "  1489.4,1381.97 1489.9,1381.97 1490.41,1381.97 1490.91,1381.97 1491.42,1381.97 1491.92,1381.97 1492.43,1381.97 1492.93,1381.97 1493.44,1381.98 1493.95,1381.98 \n",
       "  1494.45,1381.98 1494.96,1381.98 1495.46,1381.98 1495.97,1381.98 1496.47,1381.98 1496.98,1381.98 1497.48,1381.98 1497.99,1381.98 1498.49,1381.98 1499,1381.98 \n",
       "  1499.5,1381.98 1500.01,1381.98 1500.51,1381.98 1501.02,1381.98 1501.52,1381.98 1502.03,1381.98 1502.53,1381.98 1503.04,1381.98 1503.54,1381.98 1504.05,1381.98 \n",
       "  1504.55,1381.98 1505.06,1381.98 1505.56,1381.98 1506.07,1381.98 1506.57,1381.98 1507.08,1381.98 1507.59,1381.98 1508.09,1381.98 1508.6,1381.98 1509.1,1381.98 \n",
       "  1509.61,1381.98 1510.11,1381.98 1510.62,1381.98 1511.12,1381.98 1511.63,1381.98 1512.13,1381.98 1512.64,1381.98 1513.14,1381.98 1513.65,1381.98 1514.15,1381.98 \n",
       "  1514.66,1381.98 1515.16,1381.98 1515.67,1381.98 1516.17,1381.98 1516.68,1381.98 1517.18,1381.98 1517.69,1381.98 1518.19,1381.98 1518.7,1381.98 1519.2,1381.98 \n",
       "  1519.71,1381.98 1520.22,1381.98 1520.72,1381.98 1521.23,1381.98 1521.73,1381.98 1522.24,1381.98 1522.74,1381.98 1523.25,1381.98 1523.75,1381.98 1524.26,1381.98 \n",
       "  1524.76,1381.98 1525.27,1381.98 1525.77,1381.98 1526.28,1381.98 1526.78,1381.98 1527.29,1381.98 1527.79,1381.98 1528.3,1381.98 1528.8,1381.98 1529.31,1381.98 \n",
       "  1529.81,1381.98 1530.32,1381.98 1530.82,1381.98 1531.33,1381.98 1531.83,1381.98 1532.34,1381.98 1532.84,1381.98 1533.35,1381.98 1533.86,1381.98 1534.36,1381.98 \n",
       "  1534.87,1381.98 1535.37,1381.98 1535.88,1381.98 1536.38,1381.98 1536.89,1381.98 1537.39,1381.98 1537.9,1381.98 1538.4,1381.98 1538.91,1381.98 1539.41,1381.98 \n",
       "  1539.92,1381.98 1540.42,1381.98 1540.93,1381.98 1541.43,1381.98 1541.94,1381.98 1542.44,1381.98 1542.95,1381.98 1543.45,1381.98 1543.96,1381.98 1544.46,1381.98 \n",
       "  1544.97,1381.98 1545.47,1381.98 1545.98,1381.98 1546.49,1381.98 1546.99,1381.98 1547.5,1381.98 1548,1381.98 1548.51,1381.98 1549.01,1381.98 1549.52,1381.98 \n",
       "  1550.02,1381.98 1550.53,1381.98 1551.03,1381.98 1551.54,1381.98 1552.04,1381.98 1552.55,1381.98 1553.05,1381.98 1553.56,1381.98 1554.06,1381.98 1554.57,1381.98 \n",
       "  1555.07,1381.98 1555.58,1381.98 1556.08,1381.98 1556.59,1381.98 1557.09,1381.98 1557.6,1381.98 1558.1,1381.98 1558.61,1381.98 1559.11,1381.98 1559.62,1381.98 \n",
       "  1560.13,1381.98 1560.63,1381.98 1561.14,1381.98 1561.64,1381.98 1562.15,1381.98 1562.65,1381.98 1563.16,1381.98 1563.66,1381.94 1564.17,1349.3 1564.67,1363.87 \n",
       "  1565.18,1375.3 1565.68,1374.65 1566.19,1378.64 1566.69,1359.08 1567.2,1381.95 1567.7,1381.95 1568.21,1381.96 1568.71,1381.96 1569.22,1381.96 1569.72,1381.96 \n",
       "  1570.23,1381.96 1570.73,1381.96 1571.24,1381.97 1571.74,1381.97 1572.25,1381.97 1572.75,1381.97 1573.26,1381.97 1573.77,1381.97 1574.27,1381.97 1574.78,1381.97 \n",
       "  1575.28,1381.97 1575.79,1381.97 1576.29,1381.97 1576.8,1381.97 1577.3,1381.97 1577.81,1381.97 1578.31,1381.97 1578.82,1381.97 1579.32,1381.97 1579.83,1381.97 \n",
       "  1580.33,1381.97 1580.84,1381.97 1581.34,1381.97 1581.85,1381.97 1582.35,1381.97 1582.86,1381.97 1583.36,1381.97 1583.87,1381.97 1584.37,1381.97 1584.88,1381.97 \n",
       "  1585.38,1381.97 1585.89,1381.97 1586.4,1381.97 1586.9,1381.97 1587.41,1381.97 1587.91,1381.97 1588.42,1381.98 1588.92,1381.98 1589.43,1381.98 1589.93,1381.98 \n",
       "  1590.44,1381.98 1590.94,1381.98 1591.45,1381.98 1591.95,1381.98 1592.46,1381.98 1592.96,1381.98 1593.47,1381.98 1593.97,1381.98 1594.48,1381.98 1594.98,1381.98 \n",
       "  1595.49,1381.98 1595.99,1381.98 1596.5,1381.98 1597,1381.98 1597.51,1381.98 1598.01,1381.98 1598.52,1381.98 1599.02,1381.98 1599.53,1381.98 1600.04,1381.98 \n",
       "  1600.54,1381.98 1601.05,1381.98 1601.55,1381.98 1602.06,1381.98 1602.56,1381.98 1603.07,1381.98 1603.57,1381.98 1604.08,1381.98 1604.58,1381.98 1605.09,1381.98 \n",
       "  1605.59,1381.98 1606.1,1381.98 1606.6,1381.98 1607.11,1381.98 1607.61,1381.98 1608.12,1381.98 1608.62,1381.98 1609.13,1381.98 1609.63,1381.98 1610.14,1381.98 \n",
       "  1610.64,1381.98 1611.15,1381.98 1611.65,1381.98 1612.16,1381.98 1612.67,1381.98 1613.17,1381.98 1613.68,1381.98 1614.18,1381.98 1614.69,1381.98 1615.19,1381.98 \n",
       "  1615.7,1381.98 1616.2,1381.98 1616.71,1381.98 1617.21,1381.98 1617.72,1381.98 1618.22,1381.98 1618.73,1381.98 1619.23,1381.98 1619.74,1381.98 1620.24,1381.98 \n",
       "  1620.75,1381.98 1621.25,1381.98 1621.76,1381.98 1622.26,1381.98 1622.77,1381.98 1623.27,1381.98 1623.78,1381.98 1624.28,1381.98 1624.79,1381.98 1625.29,1381.98 \n",
       "  1625.8,1381.98 1626.31,1381.98 1626.81,1381.98 1627.32,1381.98 1627.82,1381.98 1628.33,1381.98 1628.83,1381.98 1629.34,1381.98 1629.84,1381.98 1630.35,1381.98 \n",
       "  1630.85,1381.98 1631.36,1381.98 1631.86,1381.98 1632.37,1381.98 1632.87,1381.98 1633.38,1381.98 1633.88,1381.98 1634.39,1381.98 1634.89,1381.98 1635.4,1381.98 \n",
       "  1635.9,1381.98 1636.41,1381.98 1636.91,1381.98 1637.42,1381.98 1637.92,1381.98 1638.43,1381.98 1638.94,1381.98 1639.44,1381.98 1639.95,1381.98 1640.45,1381.98 \n",
       "  1640.96,1381.98 1641.46,1381.98 1641.97,1381.98 1642.47,1381.98 1642.98,1381.98 1643.48,1381.98 1643.99,1381.98 1644.49,1381.98 1645,1381.98 1645.5,1381.98 \n",
       "  1646.01,1381.98 1646.51,1381.98 1647.02,1381.98 1647.52,1381.98 1648.03,1381.98 1648.53,1381.98 1649.04,1381.98 1649.54,1381.98 1650.05,1381.98 1650.55,1381.98 \n",
       "  1651.06,1381.98 1651.56,1381.98 1652.07,1381.98 1652.58,1381.98 1653.08,1381.98 1653.59,1381.98 1654.09,1381.98 1654.6,1381.98 1655.1,1381.98 1655.61,1381.98 \n",
       "  1656.11,1381.98 1656.62,1381.98 1657.12,1381.98 1657.63,1381.98 1658.13,1381.98 1658.64,1381.98 1659.14,1381.98 1659.65,1381.98 1660.15,1381.98 1660.66,1381.98 \n",
       "  1661.16,1381.98 1661.67,1381.98 1662.17,1381.98 1662.68,1381.98 1663.18,1381.98 1663.69,1381.98 1664.19,1381.98 1664.7,1381.98 1665.21,1381.98 1665.71,1381.98 \n",
       "  1666.22,1381.98 1666.72,1381.98 1667.23,1381.98 1667.73,1381.98 1668.24,1381.98 1668.74,1381.98 1669.25,1381.98 1669.75,1381.98 1670.26,1381.98 1670.76,1381.98 \n",
       "  1671.27,1381.98 1671.77,1381.98 1672.28,1381.98 1672.78,1381.98 1673.29,1381.98 1673.79,1381.98 1674.3,1381.98 1674.8,1381.98 1675.31,1381.98 1675.81,1381.98 \n",
       "  1676.32,1381.98 1676.82,1381.98 1677.33,1381.98 1677.83,1381.98 1678.34,1381.98 1678.85,1381.98 1679.35,1381.98 1679.86,1381.98 1680.36,1381.98 1680.87,1381.84 \n",
       "  1681.37,1356.24 1681.88,1374.81 1682.38,1377.82 1682.89,1381.63 1683.39,1379.65 1683.9,1372.88 1684.4,1379.65 1684.91,1381.94 1685.41,1377.44 1685.92,1378.16 \n",
       "  1686.42,1378.52 1686.93,1379.28 1687.43,1377.19 1687.94,1381.96 1688.44,1381.96 1688.95,1381.96 1689.45,1381.96 1689.96,1381.96 1690.46,1381.96 1690.97,1381.97 \n",
       "  1691.48,1381.97 1691.98,1381.97 1692.49,1381.97 1692.99,1381.97 1693.5,1381.97 1694,1381.97 1694.51,1381.97 1695.01,1381.97 1695.52,1381.97 1696.02,1381.97 \n",
       "  1696.53,1381.97 1697.03,1381.97 1697.54,1381.97 1698.04,1381.97 1698.55,1381.97 1699.05,1381.97 1699.56,1381.97 1700.06,1381.97 1700.57,1381.97 1701.07,1381.97 \n",
       "  1701.58,1381.98 1702.08,1381.98 1702.59,1381.98 1703.09,1381.98 1703.6,1381.98 1704.1,1381.98 1704.61,1381.98 1705.12,1381.98 1705.62,1381.98 1706.13,1381.98 \n",
       "  1706.63,1381.98 1707.14,1381.98 1707.64,1381.98 1708.15,1381.98 1708.65,1381.98 1709.16,1381.98 1709.66,1381.98 1710.17,1381.98 1710.67,1381.98 1711.18,1381.98 \n",
       "  1711.68,1381.98 1712.19,1381.98 1712.69,1381.98 1713.2,1381.98 1713.7,1381.98 1714.21,1381.98 1714.71,1381.98 1715.22,1381.98 1715.72,1381.98 1716.23,1381.98 \n",
       "  1716.73,1381.98 1717.24,1381.98 1717.75,1381.98 1718.25,1381.98 1718.76,1381.98 1719.26,1381.98 1719.77,1381.98 1720.27,1381.99 1720.78,1381.99 1721.28,1381.99 \n",
       "  1721.79,1381.99 1722.29,1382 1722.8,1382.01 1723.3,1382.06 1723.81,1382.3 1724.31,1383.06 1724.82,1383.64 1725.32,1383.87 1725.83,1383.96 1726.33,1384.01 \n",
       "  1726.84,1384.05 1727.34,1384.08 1727.85,1384.1 1728.35,1384.11 1728.86,1384.13 1729.36,1384.14 1729.87,1384.15 1730.37,1384.15 1730.88,1384.16 1731.39,1384.17 \n",
       "  1731.89,1384.17 1732.4,1384.17 1732.9,1384.18 1733.41,1384.18 1733.91,1384.19 1734.42,1384.19 1734.92,1384.19 1735.43,1384.19 1735.93,1384.19 1736.44,1384.2 \n",
       "  1736.94,1384.2 1737.45,1384.2 1737.95,1384.2 1738.46,1384.2 1738.96,1384.2 1739.47,1384.21 1739.97,1384.21 1740.48,1384.21 1740.98,1384.21 1741.49,1384.21 \n",
       "  1741.99,1384.21 1742.5,1384.21 1743,1384.21 1743.51,1384.21 1744.01,1384.21 1744.52,1384.21 1745.03,1384.22 1745.53,1384.22 1746.04,1384.22 1746.54,1384.22 \n",
       "  1747.05,1384.22 1747.55,1384.22 1748.06,1384.22 1748.56,1384.22 1749.07,1384.22 1749.57,1384.22 1750.08,1384.22 1750.58,1384.22 1751.09,1384.22 1751.59,1384.22 \n",
       "  1752.1,1384.22 1752.6,1384.22 1753.11,1384.22 1753.61,1384.22 1754.12,1384.22 1754.62,1384.22 1755.13,1384.22 1755.63,1384.22 1756.14,1384.22 1756.64,1384.22 \n",
       "  1757.15,1384.22 1757.66,1384.22 1758.16,1384.23 1758.67,1384.23 1759.17,1384.23 1759.68,1384.23 1760.18,1384.23 1760.69,1384.23 1761.19,1384.23 1761.7,1384.23 \n",
       "  1762.2,1384.23 1762.71,1384.23 1763.21,1384.23 1763.72,1384.23 1764.22,1384.23 1764.73,1384.23 1765.23,1384.23 1765.74,1384.23 1766.24,1384.23 1766.75,1384.23 \n",
       "  1767.25,1384.23 1767.76,1384.23 1768.26,1384.23 1768.77,1384.23 1769.27,1384.23 1769.78,1384.23 1770.28,1384.23 1770.79,1384.23 1771.3,1384.23 1771.8,1384.23 \n",
       "  1772.31,1384.23 1772.81,1384.23 1773.32,1384.23 1773.82,1384.23 1774.33,1384.23 1774.83,1384.23 1775.34,1384.23 1775.84,1384.23 1776.35,1384.23 1776.85,1384.23 \n",
       "  1777.36,1384.23 1777.86,1384.23 1778.37,1384.23 1778.87,1384.23 1779.38,1384.23 1779.88,1384.23 1780.39,1384.23 1780.89,1384.23 1781.4,1384.23 1781.9,1384.23 \n",
       "  1782.41,1384.23 1782.91,1384.23 1783.42,1384.23 1783.93,1384.23 1784.43,1384.23 1784.94,1384.23 1785.44,1384.23 1785.95,1384.23 1786.45,1384.23 1786.96,1384.23 \n",
       "  1787.46,1384.23 1787.97,1384.23 1788.47,1384.23 1788.98,1384.23 1789.48,1384.23 1789.99,1384.23 1790.49,1384.23 1791,1384.23 1791.5,1384.23 1792.01,1384.23 \n",
       "  1792.51,1384.23 1793.02,1384.23 1793.52,1384.23 1794.03,1384.23 1794.53,1384.23 1795.04,1384.23 1795.54,1384.23 1796.05,1384.23 1796.55,1384.23 1797.06,1384.23 \n",
       "  1797.57,1384.23 1798.07,1384.23 1798.58,1384.23 1799.08,1384.23 1799.59,1384.23 1800.09,1384.23 1800.6,1384.23 1801.1,1384.23 1801.61,1384.23 1802.11,1384.23 \n",
       "  1802.62,1384.23 1803.12,1384.23 1803.63,1384.23 1804.13,1384.23 1804.64,1384.23 1805.14,1384.24 1805.65,1384.24 1806.15,1384.24 1806.66,1384.24 1807.16,1384.24 \n",
       "  1807.67,1384.24 1808.17,1384.24 1808.68,1384.24 1809.18,1384.24 1809.69,1384.24 1810.2,1384.24 1810.7,1384.24 1811.21,1384.24 1811.71,1384.24 1812.22,1384.24 \n",
       "  1812.72,1384.24 1813.23,1384.24 1813.73,1384.24 1814.24,1384.24 1814.74,1384.24 1815.25,1384.24 1815.75,1384.24 1816.26,1384.24 1816.76,1384.24 1817.27,1384.24 \n",
       "  1817.77,1384.24 1818.28,1384.24 1818.78,1384.24 1819.29,1384.24 1819.79,1384.24 1820.3,1384.24 1820.8,1384.24 1821.31,1384.24 1821.81,1384.24 1822.32,1384.24 \n",
       "  1822.82,1384.24 1823.33,1384.24 1823.84,1384.24 1824.34,1384.24 1824.85,1384.24 1825.35,1384.24 1825.86,1384.24 1826.36,1384.24 1826.87,1384.24 1827.37,1384.24 \n",
       "  1827.88,1384.24 1828.38,1384.24 1828.89,1384.24 1829.39,1384.24 1829.9,1384.24 1830.4,1384.24 1830.91,1384.24 1831.41,1384.24 1831.92,1384.24 1832.42,1384.24 \n",
       "  1832.93,1384.24 1833.43,1384.24 1833.94,1384.24 1834.44,1384.24 1834.95,1384.24 1835.45,1384.24 1835.96,1384.24 1836.47,1384.24 1836.97,1384.24 1837.48,1384.24 \n",
       "  1837.98,1384.24 1838.49,1384.24 1838.99,1384.24 1839.5,1384.24 1840,1384.24 1840.51,1384.24 1841.01,1384.24 1841.52,1384.24 1842.02,1384.24 1842.53,1384.24 \n",
       "  1843.03,1384.24 1843.54,1384.24 1844.04,1384.24 1844.55,1384.24 1845.05,1384.24 1845.56,1384.24 1846.06,1384.24 1846.57,1384.24 1847.07,1384.24 1847.58,1384.24 \n",
       "  1848.08,1384.24 1848.59,1384.24 1849.09,1384.24 1849.6,1384.24 1850.11,1384.24 1850.61,1384.24 1851.12,1384.24 1851.62,1384.24 1852.13,1384.24 1852.63,1384.24 \n",
       "  1853.14,1384.24 1853.64,1384.24 1854.15,1384.24 1854.65,1384.24 1855.16,1384.24 1855.66,1384.24 1856.17,1384.24 1856.67,1384.24 1857.18,1384.24 1857.68,1384.24 \n",
       "  1858.19,1384.24 1858.69,1384.24 1859.2,1384.24 1859.7,1384.24 1860.21,1384.24 1860.71,1384.24 1861.22,1384.24 1861.72,1384.24 1862.23,1384.24 1862.74,1384.24 \n",
       "  1863.24,1384.24 1863.75,1384.24 1864.25,1384.24 1864.76,1384.24 1865.26,1384.24 1865.77,1384.24 1866.27,1384.24 1866.78,1384.24 1867.28,1384.24 1867.79,1384.24 \n",
       "  1868.29,1384.24 1868.8,1384.24 1869.3,1384.24 1869.81,1384.24 1870.31,1384.24 1870.82,1384.24 1871.32,1384.24 1871.83,1384.24 1872.33,1384.24 1872.84,1384.24 \n",
       "  1873.34,1384.24 1873.85,1384.24 1874.35,1384.24 1874.86,1384.24 1875.36,1384.24 1875.87,1384.24 1876.38,1384.24 1876.88,1384.24 1877.39,1384.24 1877.89,1384.24 \n",
       "  1878.4,1384.24 1878.9,1384.24 1879.41,1384.24 1879.91,1384.24 1880.42,1384.24 1880.92,1384.24 1881.43,1384.24 1881.93,1384.24 1882.44,1384.24 1882.94,1384.24 \n",
       "  1883.45,1384.24 1883.95,1384.24 1884.46,1384.24 1884.96,1384.24 1885.47,1384.24 1885.97,1384.24 1886.48,1384.24 1886.98,1384.24 1887.49,1384.24 1887.99,1384.24 \n",
       "  1888.5,1384.24 1889.01,1384.24 1889.51,1384.24 1890.02,1384.24 1890.52,1384.24 1891.03,1384.24 1891.53,1384.24 1892.04,1384.24 1892.54,1384.24 1893.05,1384.24 \n",
       "  1893.55,1384.24 1894.06,1384.24 1894.56,1384.24 1895.07,1384.24 1895.57,1384.24 1896.08,1384.24 1896.58,1384.24 1897.09,1384.24 1897.59,1384.24 1898.1,1384.24 \n",
       "  1898.6,1384.24 1899.11,1384.24 1899.61,1384.24 1900.12,1384.24 1900.62,1384.24 1901.13,1384.24 1901.63,1384.24 1902.14,1384.24 1902.65,1384.24 1903.15,1384.24 \n",
       "  1903.66,1384.24 1904.16,1384.24 1904.67,1384.24 1905.17,1384.24 1905.68,1384.24 1906.18,1384.24 1906.69,1384.24 1907.19,1384.24 1907.7,1384.24 1908.2,1384.24 \n",
       "  1908.71,1384.24 1909.21,1384.24 1909.72,1384.24 1910.22,1384.24 1910.73,1384.24 1911.23,1384.24 1911.74,1384.24 1912.24,1384.24 1912.75,1384.24 1913.25,1384.24 \n",
       "  1913.76,1384.24 1914.26,1384.24 1914.77,1384.24 1915.27,1384.24 1915.78,1384.24 1916.29,1384.24 1916.79,1384.24 1917.3,1384.24 1917.8,1384.24 1918.31,1384.24 \n",
       "  1918.81,1384.24 1919.32,1384.24 1919.82,1384.24 1920.33,1384.24 1920.83,1384.24 1921.34,1384.24 1921.84,1384.24 1922.35,1384.24 1922.85,1384.24 1923.36,1384.24 \n",
       "  1923.86,1384.24 1924.37,1384.24 1924.87,1384.24 1925.38,1384.24 1925.88,1384.24 1926.39,1384.24 1926.89,1384.24 1927.4,1384.24 1927.9,1384.24 1928.41,1384.24 \n",
       "  1928.92,1384.24 1929.42,1384.24 1929.93,1384.24 1930.43,1384.24 1930.94,1384.24 1931.44,1384.24 1931.95,1384.24 1932.45,1384.24 1932.96,1384.24 1933.46,1384.24 \n",
       "  1933.97,1384.24 1934.47,1384.24 1934.98,1384.24 1935.48,1384.24 1935.99,1384.24 1936.49,1384.24 1937,1384.24 1937.5,1384.24 1938.01,1384.24 1938.51,1384.24 \n",
       "  1939.02,1384.24 1939.52,1384.24 1940.03,1384.24 1940.53,1384.24 1941.04,1384.24 1941.54,1384.24 1942.05,1384.24 1942.56,1384.24 1943.06,1384.24 1943.57,1384.24 \n",
       "  1944.07,1384.24 1944.58,1384.24 1945.08,1384.24 1945.59,1384.24 1946.09,1384.24 1946.6,1384.24 1947.1,1384.24 1947.61,1384.24 1948.11,1384.24 1948.62,1384.24 \n",
       "  1949.12,1384.24 1949.63,1384.24 1950.13,1384.24 1950.64,1384.24 1951.14,1384.24 1951.65,1384.24 1952.15,1384.24 1952.66,1384.24 1953.16,1384.24 1953.67,1384.24 \n",
       "  1954.17,1384.24 1954.68,1384.24 1955.19,1384.24 1955.69,1384.24 1956.2,1384.24 1956.7,1384.24 1957.21,1384.24 1957.71,1384.24 1958.22,1384.24 1958.72,1384.24 \n",
       "  1959.23,1384.24 1959.73,1384.24 1960.24,1384.24 1960.74,1384.24 1961.25,1384.24 1961.75,1384.24 1962.26,1384.24 1962.76,1384.24 1963.27,1384.24 1963.77,1384.24 \n",
       "  1964.28,1384.24 1964.78,1384.24 1965.29,1384.24 1965.79,1384.24 1966.3,1384.24 1966.8,1384.24 1967.31,1384.24 1967.81,1384.24 1968.32,1384.24 1968.83,1384.24 \n",
       "  1969.33,1384.24 1969.84,1384.24 1970.34,1384.24 1970.85,1384.24 1971.35,1384.24 1971.86,1384.24 1972.36,1384.24 1972.87,1384.24 1973.37,1384.24 1973.88,1384.24 \n",
       "  1974.38,1384.24 1974.89,1384.24 1975.39,1384.24 1975.9,1384.24 1976.4,1384.24 1976.91,1384.24 1977.41,1384.24 1977.92,1384.24 1978.42,1384.24 1978.93,1384.24 \n",
       "  1979.43,1384.24 1979.94,1384.24 1980.44,1384.24 1980.95,1384.24 1981.46,1384.24 1981.96,1384.24 1982.47,1384.24 1982.97,1384.24 1983.48,1384.24 1983.98,1384.24 \n",
       "  1984.49,1384.24 1984.99,1384.24 1985.5,1384.24 1986,1384.24 1986.51,1384.24 1987.01,1384.24 1987.52,1384.24 1988.02,1384.24 1988.53,1384.24 1989.03,1384.24 \n",
       "  1989.54,1384.24 1990.04,1384.24 1990.55,1384.24 1991.05,1384.24 1991.56,1384.24 1992.06,1384.24 1992.57,1384.24 1993.07,1384.24 1993.58,1384.24 1994.08,1384.24 \n",
       "  1994.59,1384.24 1995.1,1384.24 1995.6,1384.24 1996.11,1384.24 1996.61,1384.24 1997.12,1384.24 1997.62,1384.24 1998.13,1384.24 1998.63,1384.24 1999.14,1384.24 \n",
       "  1999.64,1384.24 2000.15,1384.24 2000.65,1384.24 2001.16,1384.24 2001.66,1384.24 2002.17,1384.24 2002.67,1384.24 2003.18,1384.24 2003.68,1384.24 2004.19,1384.24 \n",
       "  2004.69,1384.24 2005.2,1384.24 2005.7,1384.24 2006.21,1384.24 2006.71,1384.24 2007.22,1384.24 2007.73,1384.24 2008.23,1384.24 2008.74,1384.24 2009.24,1384.24 \n",
       "  2009.75,1384.24 2010.25,1384.24 2010.76,1384.24 2011.26,1384.24 2011.77,1384.24 2012.27,1384.24 2012.78,1384.24 2013.28,1384.24 2013.79,1384.24 2014.29,1384.24 \n",
       "  2014.8,1384.24 2015.3,1384.24 2015.81,1384.24 2016.31,1384.24 2016.82,1384.24 2017.32,1384.24 2017.83,1384.24 2018.33,1384.24 2018.84,1384.24 2019.34,1384.24 \n",
       "  2019.85,1384.24 2020.35,1384.24 2020.86,1384.24 2021.37,1384.24 2021.87,1384.24 2022.38,1384.24 2022.88,1384.24 2023.39,1384.24 2023.89,1384.24 2024.4,1384.24 \n",
       "  2024.9,1384.24 2025.41,1384.24 2025.91,1384.24 2026.42,1384.24 2026.92,1384.24 2027.43,1384.24 2027.93,1384.24 2028.44,1384.24 2028.94,1384.24 2029.45,1384.24 \n",
       "  2029.95,1384.24 2030.46,1384.24 2030.96,1384.24 2031.47,1384.24 2031.97,1384.24 2032.48,1384.24 2032.98,1384.24 2033.49,1384.24 2034,1384.24 2034.5,1384.24 \n",
       "  2035.01,1384.24 2035.51,1384.24 2036.02,1384.24 2036.52,1384.24 2037.03,1384.24 2037.53,1384.24 2038.04,1384.24 2038.54,1384.24 2039.05,1384.24 2039.55,1384.24 \n",
       "  2040.06,1384.24 2040.56,1384.24 2041.07,1384.24 2041.57,1384.24 2042.08,1384.24 2042.58,1384.24 2043.09,1384.24 2043.59,1384.24 2044.1,1384.24 2044.6,1384.24 \n",
       "  2045.11,1384.24 2045.61,1384.24 2046.12,1384.24 2046.62,1384.24 2047.13,1384.24 2047.64,1384.24 2048.14,1384.24 2048.65,1384.24 2049.15,1384.24 2049.66,1384.24 \n",
       "  2050.16,1384.24 2050.67,1384.24 2051.17,1384.24 2051.68,1384.24 2052.18,1384.24 2052.69,1384.24 2053.19,1384.24 2053.7,1384.24 2054.2,1384.24 2054.71,1384.24 \n",
       "  2055.21,1384.24 2055.72,1384.24 2056.22,1384.24 2056.73,1384.24 2057.23,1384.24 2057.74,1384.24 2058.24,1384.24 2058.75,1384.24 2059.25,1384.24 2059.76,1384.24 \n",
       "  2060.27,1384.24 2060.77,1384.24 2061.28,1384.24 2061.78,1384.24 2062.29,1384.24 2062.79,1384.24 2063.3,1384.24 2063.8,1384.24 2064.31,1384.24 2064.81,1384.24 \n",
       "  2065.32,1384.24 2065.82,1384.24 2066.33,1384.24 2066.83,1384.24 2067.34,1384.24 2067.84,1384.24 2068.35,1384.24 2068.85,1384.24 2069.36,1384.24 2069.86,1384.24 \n",
       "  2070.37,1384.24 2070.87,1384.24 2071.38,1384.24 2071.88,1384.24 2072.39,1384.24 2072.89,1384.24 2073.4,1384.24 2073.91,1384.24 2074.41,1384.24 2074.92,1384.24 \n",
       "  2075.42,1384.24 2075.93,1384.24 2076.43,1384.24 2076.94,1384.24 2077.44,1384.24 2077.95,1384.24 2078.45,1384.24 2078.96,1384.24 2079.46,1384.24 2079.97,1384.24 \n",
       "  2080.47,1384.24 2080.98,1384.24 2081.48,1384.24 2081.99,1384.24 2082.49,1384.24 2083,1384.24 2083.5,1384.24 2084.01,1384.24 2084.51,1384.24 2085.02,1384.24 \n",
       "  2085.52,1384.24 2086.03,1384.24 2086.54,1384.24 2087.04,1384.24 2087.55,1384.24 2088.05,1384.24 2088.56,1384.24 2089.06,1384.24 2089.57,1384.24 2090.07,1384.24 \n",
       "  2090.58,1384.24 2091.08,1384.24 2091.59,1384.24 2092.09,1384.24 2092.6,1384.24 2093.1,1384.24 2093.61,1384.24 2094.11,1384.24 2094.62,1384.24 2095.12,1384.24 \n",
       "  2095.63,1384.24 2096.13,1384.24 2096.64,1384.24 2097.14,1384.24 2097.65,1384.24 2098.15,1384.24 2098.66,1384.24 2099.16,1384.24 2099.67,1384.24 2100.18,1384.24 \n",
       "  2100.68,1384.24 2101.19,1384.24 2101.69,1384.24 2102.2,1384.24 2102.7,1384.24 2103.21,1384.24 2103.71,1384.24 2104.22,1384.24 2104.72,1384.24 2105.23,1384.24 \n",
       "  2105.73,1384.24 2106.24,1384.24 2106.74,1384.24 2107.25,1384.24 2107.75,1384.24 2108.26,1384.24 2108.76,1384.24 2109.27,1384.24 2109.77,1384.24 2110.28,1384.24 \n",
       "  2110.78,1384.24 2111.29,1384.24 2111.79,1384.24 2112.3,1384.24 2112.8,1384.24 2113.31,1384.24 2113.82,1384.24 2114.32,1384.24 2114.83,1384.24 2115.33,1384.24 \n",
       "  2115.84,1384.24 2116.34,1384.24 2116.85,1384.24 2117.35,1384.24 2117.86,1384.24 2118.36,1384.24 2118.87,1384.24 2119.37,1384.24 2119.88,1384.24 2120.38,1384.24 \n",
       "  2120.89,1384.24 2121.39,1384.24 2121.9,1384.24 2122.4,1384.24 2122.91,1384.24 2123.41,1384.24 2123.92,1384.24 2124.42,1384.24 2124.93,1384.24 2125.43,1384.24 \n",
       "  2125.94,1384.24 2126.45,1384.24 2126.95,1384.24 2127.46,1384.24 2127.96,1384.24 2128.47,1384.24 2128.97,1384.24 2129.48,1384.24 2129.98,1384.24 2130.49,1384.24 \n",
       "  2130.99,1384.24 2131.5,1384.24 2132,1384.24 2132.51,1384.24 2133.01,1384.24 2133.52,1384.24 2134.02,1384.24 2134.53,1384.24 2135.03,1384.24 2135.54,1384.24 \n",
       "  2136.04,1384.24 2136.55,1384.24 2137.05,1384.24 2137.56,1384.24 2138.06,1384.24 2138.57,1384.24 2139.07,1384.24 2139.58,1384.24 2140.09,1384.24 2140.59,1384.24 \n",
       "  2141.1,1384.24 2141.6,1384.24 2142.11,1384.24 2142.61,1384.24 2143.12,1384.24 2143.62,1384.24 2144.13,1384.24 2144.63,1384.24 2145.14,1384.24 2145.64,1384.24 \n",
       "  2146.15,1384.24 2146.65,1384.24 2147.16,1384.24 2147.66,1384.24 2148.17,1384.24 2148.67,1384.24 2149.18,1384.24 2149.68,1384.24 2150.19,1384.24 2150.69,1384.24 \n",
       "  2151.2,1384.24 2151.7,1384.24 2152.21,1384.24 2152.72,1384.24 2153.22,1384.24 2153.73,1384.24 2154.23,1384.24 2154.74,1384.24 2155.24,1384.24 2155.75,1384.24 \n",
       "  2156.25,1384.24 2156.76,1384.24 2157.26,1384.24 2157.77,1384.24 2158.27,1384.24 2158.78,1384.24 2159.28,1384.24 2159.79,1384.24 2160.29,1384.24 2160.8,1384.24 \n",
       "  2161.3,1384.24 2161.81,1384.24 2162.31,1384.24 2162.82,1384.24 2163.32,1384.24 2163.83,1384.24 2164.33,1384.24 2164.84,1384.24 2165.34,1384.24 2165.85,1384.24 \n",
       "  2166.36,1384.24 2166.86,1384.24 2167.37,1384.24 2167.87,1384.24 2168.38,1384.24 2168.88,1384.24 2169.39,1384.24 2169.89,1384.24 2170.4,1384.24 2170.9,1384.24 \n",
       "  2171.41,1384.24 2171.91,1384.24 2172.42,1384.24 2172.92,1384.24 2173.43,1384.24 2173.93,1384.24 2174.44,1384.24 2174.94,1384.24 2175.45,1384.24 2175.95,1384.24 \n",
       "  2176.46,1384.24 2176.96,1384.24 2177.47,1384.24 2177.97,1384.24 2178.48,1384.24 2178.99,1384.24 2179.49,1384.24 2180,1384.24 2180.5,1384.24 2181.01,1384.24 \n",
       "  2181.51,1384.24 2182.02,1384.24 2182.52,1384.24 2183.03,1384.24 2183.53,1384.24 2184.04,1384.24 2184.54,1384.24 2185.05,1384.24 2185.55,1384.24 2186.06,1384.24 \n",
       "  2186.56,1384.24 2187.07,1384.24 2187.57,1384.24 2188.08,1384.24 2188.58,1384.24 2189.09,1384.24 2189.59,1384.24 2190.1,1384.24 2190.6,1384.24 2191.11,1384.24 \n",
       "  2191.61,1384.24 2192.12,1384.24 2192.63,1384.24 2193.13,1384.24 2193.64,1384.24 2194.14,1384.24 2194.65,1384.24 2195.15,1384.24 2195.66,1384.24 2196.16,1384.24 \n",
       "  2196.67,1384.24 2197.17,1384.24 2197.68,1384.24 2198.18,1384.24 2198.69,1384.24 2199.19,1384.24 2199.7,1384.24 2200.2,1384.24 2200.71,1384.24 2201.21,1384.24 \n",
       "  2201.72,1384.24 2202.22,1384.24 2202.73,1384.24 2203.23,1384.24 2203.74,1384.24 2204.24,1384.24 2204.75,1384.24 2205.26,1384.24 2205.76,1384.24 2206.27,1384.24 \n",
       "  2206.77,1384.24 2207.28,1384.24 2207.78,1384.24 2208.29,1384.24 2208.79,1384.24 2209.3,1384.24 2209.8,1384.24 2210.31,1384.24 2210.81,1384.24 2211.32,1384.24 \n",
       "  2211.82,1384.24 2212.33,1384.24 2212.83,1384.24 2213.34,1384.24 2213.84,1384.24 2214.35,1384.24 2214.85,1384.24 2215.36,1384.24 2215.86,1384.24 2216.37,1384.24 \n",
       "  2216.87,1384.24 2217.38,1384.24 2217.88,1384.24 2218.39,1384.24 2218.9,1384.24 2219.4,1384.24 2219.91,1384.24 2220.41,1384.24 2220.92,1384.24 2221.42,1384.24 \n",
       "  2221.93,1384.24 2222.43,1384.24 2222.94,1384.24 2223.44,1384.24 2223.95,1384.24 2224.45,1384.24 2224.96,1384.24 2225.46,1384.24 2225.97,1384.24 2226.47,1384.24 \n",
       "  2226.98,1384.24 2227.48,1384.24 2227.99,1384.24 2228.49,1384.24 2229,1384.24 2229.5,1384.24 2230.01,1384.24 2230.51,1384.24 2231.02,1384.24 2231.53,1384.24 \n",
       "  2232.03,1384.24 2232.54,1384.24 2233.04,1384.24 2233.55,1384.24 2234.05,1384.24 2234.56,1384.24 2235.06,1384.24 2235.57,1384.24 2236.07,1384.24 2236.58,1384.24 \n",
       "  2237.08,1384.24 2237.59,1384.24 2238.09,1384.24 2238.6,1384.24 2239.1,1384.24 2239.61,1384.24 2240.11,1384.24 2240.62,1384.24 2241.12,1384.24 2241.63,1384.24 \n",
       "  2242.13,1384.24 2242.64,1384.24 2243.14,1384.24 2243.65,1384.24 2244.15,1384.24 2244.66,1384.24 2245.17,1384.24 2245.67,1384.24 2246.18,1384.24 2246.68,1384.24 \n",
       "  2247.19,1384.24 2247.69,1384.24 2248.2,1384.24 2248.7,1384.24 2249.21,1384.24 2249.71,1384.24 2250.22,1384.24 2250.72,1384.24 2251.23,1384.24 2251.73,1384.24 \n",
       "  2252.24,1384.24 2252.74,1384.24 2253.25,1384.24 2253.75,1384.24 2254.26,1384.24 2254.76,1384.24 2255.27,1384.24 2255.77,1384.24 2256.28,1384.24 2256.78,1384.24 \n",
       "  2257.29,1384.24 2257.8,1384.24 2258.3,1384.24 2258.81,1384.24 2259.31,1384.24 2259.82,1384.24 2260.32,1384.24 2260.83,1384.24 2261.33,1384.24 2261.84,1384.24 \n",
       "  2262.34,1384.24 2262.85,1384.24 2263.35,1384.24 2263.86,1384.24 2264.36,1384.24 2264.87,1384.24 2265.37,1384.24 2265.88,1384.24 2266.38,1384.24 2266.89,1384.24 \n",
       "  2267.39,1384.24 2267.9,1384.24 2268.4,1384.24 2268.91,1384.24 2269.41,1384.24 2269.92,1384.24 2270.42,1384.24 2270.93,1384.24 2271.44,1384.24 2271.94,1384.24 \n",
       "  2272.45,1384.24 2272.95,1384.24 2273.46,1384.24 2273.96,1384.24 2274.47,1384.24 2274.97,1384.24 2275.48,1384.24 2275.98,1384.24 2276.49,1384.24 2276.99,1384.24 \n",
       "  2277.5,1384.24 2278,1384.24 2278.51,1384.24 2279.01,1384.24 2279.52,1384.24 2280.02,1384.24 2280.53,1384.24 2281.03,1384.24 2281.54,1384.24 2282.04,1384.24 \n",
       "  2282.55,1384.24 2283.05,1384.24 2283.56,1384.24 2284.06,1384.24 2284.57,1384.24 2285.08,1384.24 2285.58,1384.24 2286.09,1384.24 2286.59,1384.24 2287.1,1384.24 \n",
       "  2287.6,1384.24 2288.11,1384.24 2288.61,1384.24 2289.12,1384.24 2289.62,1384.24 2290.13,1384.24 2290.63,1384.24 2291.14,1384.24 2291.64,1384.24 2292.15,1384.24 \n",
       "  \n",
       "  \"/>\n",
       "<path clip-path=\"url(#clip030)\" d=\"\n",
       "M1844.1 274.549 L2281.37 274.549 L2281.37 93.1086 L1844.1 93.1086  Z\n",
       "  \" fill=\"#ffffff\" fill-rule=\"evenodd\" fill-opacity=\"1\"/>\n",
       "<polyline clip-path=\"url(#clip030)\" style=\"stroke:#000000; stroke-width:4; stroke-opacity:1; fill:none\" points=\"\n",
       "  1844.1,274.549 2281.37,274.549 2281.37,93.1086 1844.1,93.1086 1844.1,274.549 \n",
       "  \"/>\n",
       "<polyline clip-path=\"url(#clip030)\" style=\"stroke:#009af9; stroke-width:4; stroke-opacity:1; fill:none\" points=\"\n",
       "  1867.9,153.589 2010.66,153.589 \n",
       "  \"/>\n",
       "<path clip-path=\"url(#clip030)\" d=\"M 0 0 M2047.65 170.869 L2034.46 136.309 L2039.34 136.309 L2050.29 165.406 L2061.26 136.309 L2066.12 136.309 L2052.95 170.869 L2047.65 170.869 Z\" fill=\"#000000\" fill-rule=\"evenodd\" fill-opacity=\"1\" /><path clip-path=\"url(#clip030)\" d=\"M 0 0 M2078.69 157.836 Q2073.53 157.836 2071.54 159.017 Q2069.55 160.197 2069.55 163.045 Q2069.55 165.313 2071.03 166.656 Q2072.54 167.975 2075.11 167.975 Q2078.65 167.975 2080.78 165.475 Q2082.93 162.952 2082.93 158.785 L2082.93 157.836 L2078.69 157.836 M2087.19 156.077 L2087.19 170.869 L2082.93 170.869 L2082.93 166.933 Q2081.47 169.295 2079.3 170.429 Q2077.12 171.54 2073.97 171.54 Q2069.99 171.54 2067.63 169.318 Q2065.29 167.072 2065.29 163.322 Q2065.29 158.947 2068.21 156.725 Q2071.15 154.503 2076.96 154.503 L2082.93 154.503 L2082.93 154.086 Q2082.93 151.147 2080.98 149.549 Q2079.06 147.929 2075.57 147.929 Q2073.35 147.929 2071.24 148.461 Q2069.13 148.994 2067.19 150.059 L2067.19 146.123 Q2069.53 145.221 2071.73 144.781 Q2073.92 144.318 2076.01 144.318 Q2081.63 144.318 2084.41 147.234 Q2087.19 150.151 2087.19 156.077 Z\" fill=\"#000000\" fill-rule=\"evenodd\" fill-opacity=\"1\" /><path clip-path=\"url(#clip030)\" d=\"M 0 0 M2091.66 134.85 L2095.92 134.85 L2095.92 170.869 L2091.66 170.869 L2091.66 134.85 Z\" fill=\"#000000\" fill-rule=\"evenodd\" fill-opacity=\"1\" /><path clip-path=\"url(#clip030)\" d=\"M 0 0 M2100.38 144.943 L2104.64 144.943 L2104.64 170.869 L2100.38 170.869 L2100.38 144.943 M2100.38 134.85 L2104.64 134.85 L2104.64 140.244 L2100.38 140.244 L2100.38 134.85 Z\" fill=\"#000000\" fill-rule=\"evenodd\" fill-opacity=\"1\" /><path clip-path=\"url(#clip030)\" d=\"M 0 0 M2126.17 148.878 L2126.17 134.85 L2130.43 134.85 L2130.43 170.869 L2126.17 170.869 L2126.17 166.98 Q2124.83 169.295 2122.77 170.429 Q2120.73 171.54 2117.86 171.54 Q2113.16 171.54 2110.2 167.79 Q2107.26 164.04 2107.26 157.929 Q2107.26 151.818 2110.2 148.068 Q2113.16 144.318 2117.86 144.318 Q2120.73 144.318 2122.77 145.452 Q2124.83 146.563 2126.17 148.878 M2111.66 157.929 Q2111.66 162.628 2113.58 165.313 Q2115.52 167.975 2118.9 167.975 Q2122.28 167.975 2124.23 165.313 Q2126.17 162.628 2126.17 157.929 Q2126.17 153.23 2124.23 150.568 Q2122.28 147.883 2118.9 147.883 Q2115.52 147.883 2113.58 150.568 Q2111.66 153.23 2111.66 157.929 Z\" fill=\"#000000\" fill-rule=\"evenodd\" fill-opacity=\"1\" /><path clip-path=\"url(#clip030)\" d=\"M 0 0 M2146.68 157.836 Q2141.52 157.836 2139.53 159.017 Q2137.54 160.197 2137.54 163.045 Q2137.54 165.313 2139.02 166.656 Q2140.52 167.975 2143.09 167.975 Q2146.63 167.975 2148.76 165.475 Q2150.92 162.952 2150.92 158.785 L2150.92 157.836 L2146.68 157.836 M2155.17 156.077 L2155.17 170.869 L2150.92 170.869 L2150.92 166.933 Q2149.46 169.295 2147.28 170.429 Q2145.1 171.54 2141.96 171.54 Q2137.98 171.54 2135.61 169.318 Q2133.28 167.072 2133.28 163.322 Q2133.28 158.947 2136.19 156.725 Q2139.13 154.503 2144.94 154.503 L2150.92 154.503 L2150.92 154.086 Q2150.92 151.147 2148.97 149.549 Q2147.05 147.929 2143.55 147.929 Q2141.33 147.929 2139.23 148.461 Q2137.12 148.994 2135.17 150.059 L2135.17 146.123 Q2137.51 145.221 2139.71 144.781 Q2141.91 144.318 2143.99 144.318 Q2149.62 144.318 2152.4 147.234 Q2155.17 150.151 2155.17 156.077 Z\" fill=\"#000000\" fill-rule=\"evenodd\" fill-opacity=\"1\" /><path clip-path=\"url(#clip030)\" d=\"M 0 0 M2163.85 137.582 L2163.85 144.943 L2172.63 144.943 L2172.63 148.253 L2163.85 148.253 L2163.85 162.327 Q2163.85 165.498 2164.71 166.401 Q2165.59 167.304 2168.25 167.304 L2172.63 167.304 L2172.63 170.869 L2168.25 170.869 Q2163.32 170.869 2161.45 169.04 Q2159.57 167.188 2159.57 162.327 L2159.57 148.253 L2156.45 148.253 L2156.45 144.943 L2159.57 144.943 L2159.57 137.582 L2163.85 137.582 Z\" fill=\"#000000\" fill-rule=\"evenodd\" fill-opacity=\"1\" /><path clip-path=\"url(#clip030)\" d=\"M 0 0 M2177.1 144.943 L2181.35 144.943 L2181.35 170.869 L2177.1 170.869 L2177.1 144.943 M2177.1 134.85 L2181.35 134.85 L2181.35 140.244 L2177.1 140.244 L2177.1 134.85 Z\" fill=\"#000000\" fill-rule=\"evenodd\" fill-opacity=\"1\" /><path clip-path=\"url(#clip030)\" d=\"M 0 0 M2195.87 147.929 Q2192.44 147.929 2190.45 150.614 Q2188.46 153.276 2188.46 157.929 Q2188.46 162.582 2190.43 165.267 Q2192.42 167.929 2195.87 167.929 Q2199.27 167.929 2201.26 165.244 Q2203.25 162.558 2203.25 157.929 Q2203.25 153.322 2201.26 150.637 Q2199.27 147.929 2195.87 147.929 M2195.87 144.318 Q2201.42 144.318 2204.6 147.929 Q2207.77 151.54 2207.77 157.929 Q2207.77 164.295 2204.6 167.929 Q2201.42 171.54 2195.87 171.54 Q2190.29 171.54 2187.12 167.929 Q2183.97 164.295 2183.97 157.929 Q2183.97 151.54 2187.12 147.929 Q2190.29 144.318 2195.87 144.318 Z\" fill=\"#000000\" fill-rule=\"evenodd\" fill-opacity=\"1\" /><path clip-path=\"url(#clip030)\" d=\"M 0 0 M2233.78 155.221 L2233.78 170.869 L2229.53 170.869 L2229.53 155.359 Q2229.53 151.679 2228.09 149.85 Q2226.66 148.022 2223.78 148.022 Q2220.34 148.022 2218.35 150.221 Q2216.35 152.42 2216.35 156.216 L2216.35 170.869 L2212.07 170.869 L2212.07 144.943 L2216.35 144.943 L2216.35 148.971 Q2217.88 146.633 2219.94 145.475 Q2222.03 144.318 2224.73 144.318 Q2229.2 144.318 2231.49 147.096 Q2233.78 149.85 2233.78 155.221 Z\" fill=\"#000000\" fill-rule=\"evenodd\" fill-opacity=\"1\" /><polyline clip-path=\"url(#clip030)\" style=\"stroke:#e26f46; stroke-width:4; stroke-opacity:1; fill:none\" points=\"\n",
       "  1867.9,214.069 2010.66,214.069 \n",
       "  \"/>\n",
       "<path clip-path=\"url(#clip030)\" d=\"M 0 0 M2034.46 196.789 L2063.69 196.789 L2063.69 200.724 L2051.42 200.724 L2051.42 231.349 L2046.73 231.349 L2046.73 200.724 L2034.46 200.724 L2034.46 196.789 Z\" fill=\"#000000\" fill-rule=\"evenodd\" fill-opacity=\"1\" /><path clip-path=\"url(#clip030)\" d=\"M 0 0 M2076.22 209.404 Q2075.5 208.988 2074.64 208.802 Q2073.81 208.594 2072.79 208.594 Q2069.18 208.594 2067.23 210.955 Q2065.31 213.293 2065.31 217.691 L2065.31 231.349 L2061.03 231.349 L2061.03 205.423 L2065.31 205.423 L2065.31 209.451 Q2066.66 207.089 2068.81 205.955 Q2070.96 204.798 2074.04 204.798 Q2074.48 204.798 2075.01 204.867 Q2075.55 204.914 2076.19 205.029 L2076.22 209.404 Z\" fill=\"#000000\" fill-rule=\"evenodd\" fill-opacity=\"1\" /><path clip-path=\"url(#clip030)\" d=\"M 0 0 M2092.47 218.316 Q2087.3 218.316 2085.31 219.497 Q2083.32 220.677 2083.32 223.525 Q2083.32 225.793 2084.8 227.136 Q2086.31 228.455 2088.88 228.455 Q2092.42 228.455 2094.55 225.955 Q2096.7 223.432 2096.7 219.265 L2096.7 218.316 L2092.47 218.316 M2100.96 216.557 L2100.96 231.349 L2096.7 231.349 L2096.7 227.413 Q2095.24 229.775 2093.07 230.909 Q2090.89 232.02 2087.74 232.02 Q2083.76 232.02 2081.4 229.798 Q2079.06 227.552 2079.06 223.802 Q2079.06 219.427 2081.98 217.205 Q2084.92 214.983 2090.73 214.983 L2096.7 214.983 L2096.7 214.566 Q2096.7 211.627 2094.76 210.029 Q2092.84 208.409 2089.34 208.409 Q2087.12 208.409 2085.01 208.941 Q2082.91 209.474 2080.96 210.539 L2080.96 206.603 Q2083.3 205.701 2085.5 205.261 Q2087.7 204.798 2089.78 204.798 Q2095.41 204.798 2098.18 207.714 Q2100.96 210.631 2100.96 216.557 Z\" fill=\"#000000\" fill-rule=\"evenodd\" fill-opacity=\"1\" /><path clip-path=\"url(#clip030)\" d=\"M 0 0 M2105.43 205.423 L2109.69 205.423 L2109.69 231.349 L2105.43 231.349 L2105.43 205.423 M2105.43 195.33 L2109.69 195.33 L2109.69 200.724 L2105.43 200.724 L2105.43 195.33 Z\" fill=\"#000000\" fill-rule=\"evenodd\" fill-opacity=\"1\" /><path clip-path=\"url(#clip030)\" d=\"M 0 0 M2135.71 215.701 L2135.71 231.349 L2131.45 231.349 L2131.45 215.839 Q2131.45 212.159 2130.01 210.33 Q2128.58 208.502 2125.71 208.502 Q2122.26 208.502 2120.27 210.701 Q2118.28 212.9 2118.28 216.696 L2118.28 231.349 L2113.99 231.349 L2113.99 205.423 L2118.28 205.423 L2118.28 209.451 Q2119.8 207.113 2121.86 205.955 Q2123.95 204.798 2126.66 204.798 Q2131.12 204.798 2133.42 207.576 Q2135.71 210.33 2135.71 215.701 Z\" fill=\"#000000\" fill-rule=\"evenodd\" fill-opacity=\"1\" /><path clip-path=\"url(#clip030)\" d=\"M 0 0 M2140.17 205.423 L2144.43 205.423 L2144.43 231.349 L2140.17 231.349 L2140.17 205.423 M2140.17 195.33 L2144.43 195.33 L2144.43 200.724 L2140.17 200.724 L2140.17 195.33 Z\" fill=\"#000000\" fill-rule=\"evenodd\" fill-opacity=\"1\" /><path clip-path=\"url(#clip030)\" d=\"M 0 0 M2170.45 215.701 L2170.45 231.349 L2166.19 231.349 L2166.19 215.839 Q2166.19 212.159 2164.76 210.33 Q2163.32 208.502 2160.45 208.502 Q2157 208.502 2155.01 210.701 Q2153.02 212.9 2153.02 216.696 L2153.02 231.349 L2148.74 231.349 L2148.74 205.423 L2153.02 205.423 L2153.02 209.451 Q2154.55 207.113 2156.61 205.955 Q2158.69 204.798 2161.4 204.798 Q2165.87 204.798 2168.16 207.576 Q2170.45 210.33 2170.45 215.701 Z\" fill=\"#000000\" fill-rule=\"evenodd\" fill-opacity=\"1\" /><path clip-path=\"url(#clip030)\" d=\"M 0 0 M2191.98 218.085 Q2191.98 213.455 2190.06 210.909 Q2188.16 208.363 2184.71 208.363 Q2181.29 208.363 2179.36 210.909 Q2177.47 213.455 2177.47 218.085 Q2177.47 222.691 2179.36 225.238 Q2181.29 227.784 2184.71 227.784 Q2188.16 227.784 2190.06 225.238 Q2191.98 222.691 2191.98 218.085 M2196.24 228.131 Q2196.24 234.751 2193.3 237.969 Q2190.36 241.21 2184.29 241.21 Q2182.05 241.21 2180.06 240.862 Q2178.07 240.538 2176.19 239.844 L2176.19 235.7 Q2178.07 236.719 2179.9 237.205 Q2181.73 237.691 2183.62 237.691 Q2187.81 237.691 2189.9 235.492 Q2191.98 233.316 2191.98 228.895 L2191.98 226.788 Q2190.66 229.08 2188.6 230.214 Q2186.54 231.349 2183.67 231.349 Q2178.9 231.349 2175.98 227.714 Q2173.07 224.08 2173.07 218.085 Q2173.07 212.066 2175.98 208.432 Q2178.9 204.798 2183.67 204.798 Q2186.54 204.798 2188.6 205.932 Q2190.66 207.066 2191.98 209.358 L2191.98 205.423 L2196.24 205.423 L2196.24 228.131 Z\" fill=\"#000000\" fill-rule=\"evenodd\" fill-opacity=\"1\" /></svg>\n"
      ]
     },
     "execution_count": 113,
     "metadata": {},
     "output_type": "execute_result"
    }
   ],
   "source": [
    "plot(curve.parameter_values,\n",
    "     curve.measurements,\n",
    "     xlab=curve.parameter_name,\n",
    "     ylab=\"Cross Entropy\",\n",
    "     label=\"Validation\", lw=2)\n",
    "plot!(Net.report.training_losses, label=\"Training\", lw=2)"
   ]
  },
  {
   "cell_type": "code",
   "execution_count": 114,
   "metadata": {},
   "outputs": [
    {
     "data": {
      "text/plain": [
       "183"
      ]
     },
     "execution_count": 114,
     "metadata": {},
     "output_type": "execute_result"
    }
   ],
   "source": [
    "best_epochs = curve.parameter_values[argmin(curve.measurements)]"
   ]
  },
  {
   "cell_type": "code",
   "execution_count": 115,
   "metadata": {},
   "outputs": [],
   "source": [
    "png(\"Figures/learning_curve_nn_$(best_epochs)epochs_balance\")"
   ]
  },
  {
   "cell_type": "markdown",
   "metadata": {},
   "source": [
    "# Final Results"
   ]
  },
  {
   "cell_type": "code",
   "execution_count": 116,
   "metadata": {
    "scrolled": true
   },
   "outputs": [
    {
     "data": {
      "text/plain": [
       "NeuralNetworkClassifier(\n",
       "    builder = CustomNN(\n",
       "            n1 = 49,\n",
       "            n2 = 5),\n",
       "    finaliser = NNlib.softmax,\n",
       "    optimiser = ADAM(0.001, (0.9, 0.999), IdDict{Any,Any}()),\n",
       "    loss = Flux.crossentropy,\n",
       "    epochs = 10,\n",
       "    batch_size = 1,\n",
       "    lambda = 0.0,\n",
       "    alpha = 0.0,\n",
       "    optimiser_changes_trigger_retraining = false)\u001b[34m @179\u001b[39m"
      ]
     },
     "execution_count": 116,
     "metadata": {},
     "output_type": "execute_result"
    }
   ],
   "source": [
    "final_model = NeuralNetworkClassifier(builder=CustomNN(best_n1,best_n2))"
   ]
  },
  {
   "cell_type": "code",
   "execution_count": 117,
   "metadata": {},
   "outputs": [
    {
     "data": {
      "text/plain": [
       "183"
      ]
     },
     "execution_count": 117,
     "metadata": {},
     "output_type": "execute_result"
    }
   ],
   "source": [
    "final_model.optimiser.eta = lc_model.optimiser.eta = best_eta;\n",
    "final_model.batch_size = batch_sz\n",
    "final_model.lambda = best_lambda\n",
    "final_model.epochs = best_epochs"
   ]
  },
  {
   "cell_type": "code",
   "execution_count": 118,
   "metadata": {},
   "outputs": [
    {
     "data": {
      "text/plain": [
       "16"
      ]
     },
     "execution_count": 118,
     "metadata": {},
     "output_type": "execute_result"
    }
   ],
   "source": [
    "final_model = NeuralNetworkClassifier(builder=CustomNN(80,80))\n",
    "final_model.optimiser.eta = 0.01;\n",
    "final_model.lambda = 0.1\n",
    "final_model.epochs = best_epochs\n",
    "final_model.batch_size = batch_sz"
   ]
  },
  {
   "cell_type": "markdown",
   "metadata": {},
   "source": [
    "### Test Performance"
   ]
  },
  {
   "cell_type": "code",
   "execution_count": 119,
   "metadata": {},
   "outputs": [
    {
     "data": {
      "text/plain": [
       "\u001b[34mMachine{NeuralNetworkClassifier{CustomNN,…}} @139\u001b[39m trained 0 times.\n",
       "  args: \n",
       "    1:\t\u001b[34mSource @919\u001b[39m ⏎ `Table{AbstractArray{Continuous,1}}`\n",
       "    2:\t\u001b[34mSource @570\u001b[39m ⏎ `AbstractArray{Multiclass{3},1}`\n"
      ]
     },
     "execution_count": 119,
     "metadata": {},
     "output_type": "execute_result"
    }
   ],
   "source": [
    "Final_Net = machine(final_model, X_stand, y)"
   ]
  },
  {
   "cell_type": "code",
   "execution_count": 120,
   "metadata": {
    "scrolled": false
   },
   "outputs": [
    {
     "name": "stderr",
     "output_type": "stream",
     "text": [
      "┌ Info: Training \u001b[34mMachine{NeuralNetworkClassifier{CustomNN,…}} @139\u001b[39m.\n",
      "└ @ MLJBase /home/andrew/.julia/packages/MLJBase/uKzAz/src/machines.jl:319\n",
      "\u001b[33mOptimising neural net:100%[=========================] Time: 0:00:01\u001b[39m\n"
     ]
    },
    {
     "data": {
      "text/plain": [
       "\u001b[34mMachine{NeuralNetworkClassifier{CustomNN,…}} @139\u001b[39m trained 1 time.\n",
       "  args: \n",
       "    1:\t\u001b[34mSource @919\u001b[39m ⏎ `Table{AbstractArray{Continuous,1}}`\n",
       "    2:\t\u001b[34mSource @570\u001b[39m ⏎ `AbstractArray{Multiclass{3},1}`\n"
      ]
     },
     "execution_count": 120,
     "metadata": {},
     "output_type": "execute_result"
    }
   ],
   "source": [
    "fit!(Final_Net, rows=train, force=true, verbosity=1)"
   ]
  },
  {
   "cell_type": "code",
   "execution_count": 121,
   "metadata": {},
   "outputs": [
    {
     "name": "stderr",
     "output_type": "stream",
     "text": [
      "\u001b[33mEvaluating over 6 folds: 100%[=========================] Time: 0:00:10\u001b[39m\n"
     ]
    },
    {
     "data": {
      "text/plain": [
       "┌\u001b[0m───────────────\u001b[0m┬\u001b[0m───────────────\u001b[0m┬\u001b[0m──────────────────────────────────────────────────\u001b[0m┐\u001b[0m\n",
       "│\u001b[0m\u001b[22m _.measure     \u001b[0m│\u001b[0m\u001b[22m _.measurement \u001b[0m│\u001b[0m\u001b[22m _.per_fold                                       \u001b[0m│\u001b[0m\n",
       "├\u001b[0m───────────────\u001b[0m┼\u001b[0m───────────────\u001b[0m┼\u001b[0m──────────────────────────────────────────────────\u001b[0m┤\u001b[0m\n",
       "│\u001b[0m cross_entropy \u001b[0m│\u001b[0m 0.622         \u001b[0m│\u001b[0m Float32[0.666, 0.635, 0.61, 0.617, 0.604, 0.602] \u001b[0m│\u001b[0m\n",
       "│\u001b[0m acc           \u001b[0m│\u001b[0m 0.93          \u001b[0m│\u001b[0m [0.886, 0.933, 0.952, 0.913, 0.952, 0.942]       \u001b[0m│\u001b[0m\n",
       "└\u001b[0m───────────────\u001b[0m┴\u001b[0m───────────────\u001b[0m┴\u001b[0m──────────────────────────────────────────────────\u001b[0m┘\u001b[0m\n",
       "_.per_observation = [[[0.583, 0.592, ..., 0.551], [0.551, 0.551, ..., 0.551], [1.1, 0.551, ..., 0.551], [0.551, 0.551, ..., 0.551], [0.551, 0.551, ..., 0.551], [1.4, 0.551, ..., 0.551]], missing]\n",
       "_.fitted_params_per_fold = [ … ]\n",
       "_.report_per_fold = [ … ]\n"
      ]
     },
     "execution_count": 121,
     "metadata": {},
     "output_type": "execute_result"
    }
   ],
   "source": [
    "nn_acc = evaluate!(Final_Net, resampling=CV(shuffle=true), measure=[cross_entropy, acc], verbosity=1)"
   ]
  },
  {
   "cell_type": "code",
   "execution_count": 122,
   "metadata": {},
   "outputs": [],
   "source": [
    "ŷ = MLJ.predict(Final_Net, X_stand[test,:]);"
   ]
  },
  {
   "cell_type": "code",
   "execution_count": 123,
   "metadata": {},
   "outputs": [
    {
     "data": {
      "text/plain": [
       "0.5699068f0"
      ]
     },
     "execution_count": 123,
     "metadata": {},
     "output_type": "execute_result"
    }
   ],
   "source": [
    "cross_entropy(ŷ, y[test]) |> mean"
   ]
  },
  {
   "cell_type": "code",
   "execution_count": 124,
   "metadata": {},
   "outputs": [
    {
     "data": {
      "text/plain": [
       "0.9786096256684492"
      ]
     },
     "execution_count": 124,
     "metadata": {},
     "output_type": "execute_result"
    }
   ],
   "source": [
    "acc(ŷ, y[test])"
   ]
  },
  {
   "cell_type": "code",
   "execution_count": 125,
   "metadata": {},
   "outputs": [
    {
     "name": "stderr",
     "output_type": "stream",
     "text": [
      "┌ Warning: The classes are un-ordered,\n",
      "│ using order: [\"B\", \"L\", \"R\"].\n",
      "│ To suppress this warning, consider coercing to OrderedFactor.\n",
      "└ @ MLJBase /home/andrew/.julia/packages/MLJBase/uKzAz/src/measures/confusion_matrix.jl:87\n"
     ]
    },
    {
     "data": {
      "text/plain": [
       "              ┌─────────────────────────────────────────┐\n",
       "              │              Ground Truth               │\n",
       "┌─────────────┼─────────────┬─────────────┬─────────────┤\n",
       "│  Predicted  │      B      │      L      │      R      │\n",
       "├─────────────┼─────────────┼─────────────┼─────────────┤\n",
       "│      B      │     15      │      3      │      1      │\n",
       "├─────────────┼─────────────┼─────────────┼─────────────┤\n",
       "│      L      │      0      │     83      │      0      │\n",
       "├─────────────┼─────────────┼─────────────┼─────────────┤\n",
       "│      R      │      0      │      0      │     85      │\n",
       "└─────────────┴─────────────┴─────────────┴─────────────┘\n"
      ]
     },
     "execution_count": 125,
     "metadata": {},
     "output_type": "execute_result"
    }
   ],
   "source": [
    "confusion_matrix(mode.(ŷ), y[test])"
   ]
  },
  {
   "cell_type": "code",
   "execution_count": 126,
   "metadata": {},
   "outputs": [
    {
     "data": {
      "text/plain": [
       "(chain = Chain(Chain(Dense(4, 80, σ), Dense(80, 80, σ), Dense(80, 3, σ)), softmax),)"
      ]
     },
     "execution_count": 126,
     "metadata": {},
     "output_type": "execute_result"
    }
   ],
   "source": [
    "fitted_params(Final_Net)"
   ]
  },
  {
   "cell_type": "code",
   "execution_count": 127,
   "metadata": {
    "scrolled": true
   },
   "outputs": [
    {
     "data": {
      "text/plain": [
       "(training_losses = Any[0.9318212f0, 0.929488f0, 0.68552196f0, 0.65384895f0, 0.64534366f0, 0.64334077f0, 0.642639f0, 0.64177704f0, 0.6411796f0, 0.64074033f0  …  0.5693845f0, 0.56479627f0, 0.60313815f0, 0.575519f0, 0.5702296f0, 0.5679993f0, 0.564595f0, 0.56365746f0, 0.5637388f0, 0.56329715f0],)"
      ]
     },
     "execution_count": 127,
     "metadata": {},
     "output_type": "execute_result"
    }
   ],
   "source": [
    "report(Final_Net)"
   ]
  },
  {
   "cell_type": "code",
   "execution_count": null,
   "metadata": {},
   "outputs": [],
   "source": []
  }
 ],
 "metadata": {
  "kernelspec": {
   "display_name": "Julia 1.5.0",
   "language": "julia",
   "name": "julia-1.5"
  },
  "language_info": {
   "file_extension": ".jl",
   "mimetype": "application/julia",
   "name": "julia",
   "version": "1.5.0"
  }
 },
 "nbformat": 4,
 "nbformat_minor": 4
}
